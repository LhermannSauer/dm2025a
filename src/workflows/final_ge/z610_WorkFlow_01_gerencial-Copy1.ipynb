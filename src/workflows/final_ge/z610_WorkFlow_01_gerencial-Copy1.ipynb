{
 "cells": [
  {
   "cell_type": "markdown",
   "id": "859d38e7-11c0-48bc-978a-d0e907f19ed1",
   "metadata": {
    "id": "859d38e7-11c0-48bc-978a-d0e907f19ed1"
   },
   "source": [
    "# 6 WorkFlow"
   ]
  },
  {
   "cell_type": "markdown",
   "id": "NGY7H9xza7Zr",
   "metadata": {
    "id": "NGY7H9xza7Zr"
   },
   "source": [
    "Esta parte se debe correr con el runtime en Python3\n",
    "<br>Ir al menu, Runtime -> Change Runtime Type -> Runtime type ->  **Python 3**"
   ]
  },
  {
   "cell_type": "markdown",
   "id": "7PupIBNba7Zr",
   "metadata": {
    "id": "7PupIBNba7Zr"
   },
   "source": [
    "Conectar la virtual machine donde esta corriendo Google Colab con el  Google Drive, para poder tener persistencia de archivos"
   ]
  },
  {
   "cell_type": "markdown",
   "id": "oSKhZRToy2F7",
   "metadata": {
    "id": "oSKhZRToy2F7"
   },
   "source": [
    "## 6.3  Workflow"
   ]
  },
  {
   "cell_type": "markdown",
   "id": "85171302-a2d6-48cb-b9b2-8d839a276859",
   "metadata": {
    "id": "85171302-a2d6-48cb-b9b2-8d839a276859"
   },
   "source": [
    "## Inicializacion"
   ]
  },
  {
   "cell_type": "markdown",
   "id": "eSU5vi00CPRS",
   "metadata": {
    "id": "eSU5vi00CPRS"
   },
   "source": [
    "Esta parte se debe correr con el runtime en lenguaje **R** Ir al menu, Runtime -> Change Runtime Type -> Runtime type -> R"
   ]
  },
  {
   "cell_type": "code",
   "execution_count": null,
   "id": "c084d940-82f6-4394-92c7-e95aede24db8",
   "metadata": {
    "colab": {
     "base_uri": "https://localhost:8080/",
     "height": 34
    },
    "id": "EL8wdHaUs59K",
    "outputId": "1cc07b5d-1bcd-4f95-8b6b-81272f013c49",
    "vscode": {
     "languageId": "r"
    }
   },
   "outputs": [],
   "source": [
    "format(Sys.time(), \"%a %b %d %X %Y\")"
   ]
  },
  {
   "cell_type": "code",
   "execution_count": null,
   "id": "5faeeac5-3283-48c9-be1a-c1b59cff3f00",
   "metadata": {
    "colab": {
     "base_uri": "https://localhost:8080/",
     "height": 129
    },
    "id": "1iE0U4_WCPRT",
    "outputId": "7470f831-79c3-4242-f0bb-fff699ae12cf",
    "vscode": {
     "languageId": "r"
    }
   },
   "outputs": [],
   "source": [
    "# limpio la memoria\n",
    "rm(list=ls(all.names=TRUE)) # remove all objects\n",
    "gc(full=TRUE, verbose=FALSE) # garbage collection"
   ]
  },
  {
   "cell_type": "code",
   "execution_count": null,
   "id": "595af0c3-9f79-48b6-bc4e-91d7b18dbd60",
   "metadata": {
    "id": "bf65dd12-5293-40d0-b534-0792e80f6ce8",
    "vscode": {
     "languageId": "r"
    }
   },
   "outputs": [],
   "source": [
    "add_log = function(message){\n",
    "    cat(paste0(message,'\\n'), file = paste0(getwd(), '/logs.txt'),append=TRUE)\n",
    "}"
   ]
  },
  {
   "cell_type": "code",
   "execution_count": null,
   "id": "62a3d496-eafe-4e0d-93b5-28da667cbcef",
   "metadata": {
    "colab": {
     "base_uri": "https://localhost:8080/"
    },
    "id": "atmIUEUNUrK5",
    "outputId": "782288d6-b22a-4417-b6da-395d9bcc9839",
    "scrolled": true,
    "vscode": {
     "languageId": "r"
    }
   },
   "outputs": [],
   "source": [
    "require(\"data.table\")\n",
    "require(\"csv\")\n",
    "if( !require(\"R.utils\")) install.packages(\"R.utils\")\n",
    "require(\"R.utils\")"
   ]
  },
  {
   "cell_type": "markdown",
   "id": "Zq8dySimCPRT",
   "metadata": {
    "id": "Zq8dySimCPRT"
   },
   "source": [
    "limpio el ambiente de R"
   ]
  },
  {
   "cell_type": "markdown",
   "id": "BsxZ_ONyj9L_",
   "metadata": {
    "id": "BsxZ_ONyj9L_"
   },
   "source": [
    "#### Parametros\n",
    "Si es gerente, no cambie nada\n",
    "<br>Si es Analista, cambie el nombre del dataset"
   ]
  },
  {
   "cell_type": "code",
   "execution_count": null,
   "id": "peRH7ySLCPRV",
   "metadata": {
    "id": "peRH7ySLCPRV",
    "vscode": {
     "languageId": "r"
    }
   },
   "outputs": [],
   "source": [
    "PARAM <- list()\n",
    "PARAM$semilla_primigenia <- 424243\n",
    "\n",
    "PARAM$experimento <- '6300_genalgo_logging_test'\n",
    "PARAM$dataset <- \"gerencial_competencia_2025.csv.gz\""
   ]
  },
  {
   "cell_type": "markdown",
   "id": "NoJbKo_4NG8A",
   "metadata": {
    "id": "NoJbKo_4NG8A"
   },
   "source": [
    "#### Carpeta del Experimento"
   ]
  },
  {
   "cell_type": "code",
   "execution_count": null,
   "id": "0ff20b0d-c676-4c17-a037-61c4644fec27",
   "metadata": {
    "id": "1gZD6ZMvCPRV",
    "vscode": {
     "languageId": "r"
    }
   },
   "outputs": [],
   "source": [
    "# carpeta de trabajo\n",
    "\n",
    "experimento_folder <- paste0(\"WF\", PARAM$experimento)\n",
    "dir.create(paste0(\"~/content/exp/\",experimento_folder), showWarnings=FALSE)\n",
    "setwd( paste0(\"~/content/exp/\", experimento_folder ))"
   ]
  },
  {
   "cell_type": "markdown",
   "id": "2cf8c075-86d1-4150-a8ba-5995c24c69e7",
   "metadata": {
    "id": "YVKBfLtkR8SO"
   },
   "source": [
    "### 6.3.1   Preprocesamiento del dataset"
   ]
  },
  {
   "cell_type": "markdown",
   "id": "7e5e1372-ea3f-485a-8e16-94a51345cb1c",
   "metadata": {
    "id": "cr3K0RPVRjq6"
   },
   "source": [
    "#### 6.3.1.1  DT incorporar dataset"
   ]
  },
  {
   "cell_type": "code",
   "execution_count": null,
   "id": "9f0327c8-6ed1-4d09-8290-2617b0e07883",
   "metadata": {
    "id": "Xi0emX2ECPRV",
    "vscode": {
     "languageId": "r"
    }
   },
   "outputs": [],
   "source": [
    "# lectura del dataset\n",
    "dataset <- fread(\"~/content/datasets/gerencial_competencia_2025.csv.gz\")"
   ]
  },
  {
   "cell_type": "markdown",
   "id": "MWuPzK3nSLY3",
   "metadata": {
    "id": "MWuPzK3nSLY3"
   },
   "source": [
    "#### 6.3.1.2  CA  Catastrophe Analysis\n",
    "Se intentan reparar las variables que para un mes están con todos los valores en cero."
   ]
  },
  {
   "cell_type": "markdown",
   "id": "UAI16-yCVcBS",
   "metadata": {
    "id": "UAI16-yCVcBS"
   },
   "source": [
    "El método que se utiliza es **Machine Learning** se asigna NA also valores, si ha leido bien, es la \"anti imputación de valores faltantes\"\n",
    "<br> Usted podrá aplicar aquí otros métodos"
   ]
  },
  {
   "cell_type": "code",
   "execution_count": null,
   "id": "sTmliO_FXv9E",
   "metadata": {
    "id": "sTmliO_FXv9E",
    "vscode": {
     "languageId": "r"
    }
   },
   "outputs": [],
   "source": [
    "dataset[ foto_mes==202006, internet:=NA]\n",
    "dataset[ foto_mes==202006, mrentabilidad:=NA]\n",
    "dataset[ foto_mes==202006, mrentabilidad_annual:=NA]\n",
    "dataset[ foto_mes==202006, mcomisiones:=NA]\n",
    "dataset[ foto_mes==202006, mactivos_margen:=NA]\n",
    "dataset[ foto_mes==202006, mpasivos_margen:=NA]\n",
    "dataset[ foto_mes==202006, mcuentas_saldo:=NA]\n",
    "dataset[ foto_mes==202006, ctarjeta_visa_transacciones:=NA]\n",
    "dataset[ foto_mes==202006, mtarjeta_visa_consumo:=NA]\n",
    "dataset[ foto_mes==202006, mtarjeta_master_consumo:=NA]\n",
    "dataset[ foto_mes==202006, ccallcenter_transacciones:=NA]\n",
    "dataset[ foto_mes==202006, chomebanking_transacciones:=NA]\n",
    "dataset[ foto_mes==202006, chomebanking_transacciones:=NA]"
   ]
  },
  {
   "cell_type": "markdown",
   "id": "-4NiANYFSYHG",
   "metadata": {
    "id": "-4NiANYFSYHG"
   },
   "source": [
    "#### 6.3.1.3  DR  Data Drifting\n",
    "Se intenta corregir el data drifting, quizas ajustando por IPC ...\n",
    "<br>Esta parte podrá ser abordada por todos los Analistas y también la Gerenciapero se decide pedagogicamente no incluirla en esta primer version para reducir la carga cognitiva"
   ]
  },
  {
   "cell_type": "code",
   "execution_count": null,
   "id": "L85A2lwKSe3k",
   "metadata": {
    "id": "L85A2lwKSe3k",
    "vscode": {
     "languageId": "r"
    }
   },
   "outputs": [],
   "source": [
    "# sin codigo en esta primera version del workflow"
   ]
  },
  {
   "cell_type": "markdown",
   "id": "7sppIDYeSn5X",
   "metadata": {
    "id": "7sppIDYeSn5X"
   },
   "source": [
    "#### 6.3.1.3  FE_intra_manual Feature Engineering intra-mes\n",
    "\n",
    "Agrego campos nuevos dentro del mismo mes, SIN considerar la historia."
   ]
  },
  {
   "cell_type": "code",
   "execution_count": null,
   "id": "qrqf3j3_St3p",
   "metadata": {
    "id": "qrqf3j3_St3p",
    "vscode": {
     "languageId": "r"
    }
   },
   "outputs": [],
   "source": [
    "# esta funcion atributos presentes existe debido a que las modalidades poseen datasets con distinta cantidad de campos\n",
    "atributos_presentes <- function( patributos )\n",
    "{\n",
    "  atributos <- unique( patributos )\n",
    "  comun <- intersect( atributos, colnames(dataset) )\n",
    "\n",
    "  return(  length( atributos ) == length( comun ) )\n",
    "}\n",
    "\n",
    "# el mes 1,2, ..12\n",
    "if( atributos_presentes( c(\"foto_mes\") ))\n",
    "  dataset[, kmes := foto_mes %% 100]\n",
    "\n",
    "# variable extraida de una tesis de maestria de Irlanda\n",
    "if( atributos_presentes( c(\"mpayroll\", \"cliente_edad\") ))\n",
    "  dataset[, mpayroll_sobre_edad := mpayroll / cliente_edad]\n"
   ]
  },
  {
   "cell_type": "code",
   "execution_count": null,
   "id": "iC4viwOdY5Kp",
   "metadata": {
    "id": "iC4viwOdY5Kp",
    "vscode": {
     "languageId": "r"
    }
   },
   "outputs": [],
   "source": [
    "# visualizo las columas del dataset a esta etapa\n",
    "colnames(dataset)"
   ]
  },
  {
   "cell_type": "markdown",
   "id": "9682b4ca-3ab3-4bbc-a36a-b185361e6b6b",
   "metadata": {
    "id": "9682b4ca-3ab3-4bbc-a36a-b185361e6b6b"
   },
   "source": [
    "#### 6.3.1.4  FE_rf Feature Engineering de nuevas variables a partir de hojas de Random Forest\n",
    "\n",
    "Esto se mostrará unicamente a la *modalidad Analista Sr*"
   ]
  },
  {
   "cell_type": "code",
   "execution_count": null,
   "id": "ljA3h0jOcciP",
   "metadata": {
    "id": "ljA3h0jOcciP",
    "vscode": {
     "languageId": "r"
    }
   },
   "outputs": [],
   "source": [
    "# No se implementa Feature Engineering a partir de Random Forest"
   ]
  },
  {
   "cell_type": "markdown",
   "id": "XaRBjQj8ZRUZ",
   "metadata": {
    "id": "XaRBjQj8ZRUZ"
   },
   "source": [
    "#### 6.3.1.5  FEhist Feature Engineering historico\n",
    "\n",
    "El Fature Engineering Histórico es la etapa que más aporta a la ganancia final, ya que enriquece cada registro del dataset con su historia."
   ]
  },
  {
   "cell_type": "markdown",
   "id": "cfe3b8cf-0707-4512-92e7-c1407bb3f73b",
   "metadata": {
    "id": "cfe3b8cf-0707-4512-92e7-c1407bb3f73b"
   },
   "source": [
    "Para cada campo del dataset original (*)\n",
    "se crean lo siguientes campos de a partir de la historia\n",
    "* lag1  lags de orden 1\n",
    "* delta1  =  valor actual - lag1\n",
    "* lag2  lags de orden 2\n",
    "* delta2  = valor actual - lag2\n",
    "\n",
    "\n",
    "(*) Excepto para los campos  <numero_de_cliente,  foto_mes,  clase_ternaria>"
   ]
  },
  {
   "cell_type": "code",
   "execution_count": null,
   "id": "7850b948-827d-4a2a-b4d3-a5e459b47c11",
   "metadata": {
    "id": "7850b948-827d-4a2a-b4d3-a5e459b47c11",
    "vscode": {
     "languageId": "r"
    }
   },
   "outputs": [],
   "source": [
    "# Feature Engineering Historico\n",
    "\n",
    "# todo es lagueable, menos la primary key y la clase\n",
    "cols_lagueables <- copy( setdiff(\n",
    "    colnames(dataset),\n",
    "    c(\"numero_de_cliente\", \"foto_mes\", \"clase_ternaria\")\n",
    ") )\n",
    "\n",
    "# https://rdrr.io/cran/data.table/man/shift.html\n",
    "\n",
    "# lags de orden 1\n",
    "dataset[,\n",
    "    paste0(cols_lagueables, \"_lag1\") := shift(.SD, 1, NA, \"lag\"),\n",
    "    by = numero_de_cliente,\n",
    "    .SDcols = cols_lagueables\n",
    "]\n",
    "\n",
    "# lags de orden 2\n",
    "dataset[,\n",
    "    paste0(cols_lagueables, \"_lag2\") := shift(.SD, 2, NA, \"lag\"),\n",
    "    by = numero_de_cliente,\n",
    "    .SDcols = cols_lagueables\n",
    "]\n",
    "\n",
    "# agrego los delta lags\n",
    "for (vcol in cols_lagueables)\n",
    "{\n",
    "    dataset[, paste0(vcol, \"_delta1\") := get(vcol) - get(paste0(vcol, \"_lag1\"))]\n",
    "    dataset[, paste0(vcol, \"_delta2\") := get(vcol) - get(paste0(vcol, \"_lag2\"))]\n",
    "}\n"
   ]
  },
  {
   "cell_type": "markdown",
   "id": "cea690d9-ece9-4852-a5e2-f337c31b6721",
   "metadata": {
    "id": "cea690d9-ece9-4852-a5e2-f337c31b6721"
   },
   "source": [
    "Verificacion de los campos recien creados"
   ]
  },
  {
   "cell_type": "code",
   "execution_count": null,
   "id": "f772896b-595a-47d4-8905-c15304ac9452",
   "metadata": {
    "id": "f772896b-595a-47d4-8905-c15304ac9452",
    "vscode": {
     "languageId": "r"
    }
   },
   "outputs": [],
   "source": [
    "ncol(dataset)\n",
    "colnames(dataset)"
   ]
  },
  {
   "cell_type": "markdown",
   "id": "l8mKij0XaDY0",
   "metadata": {
    "id": "l8mKij0XaDY0"
   },
   "source": [
    "#### 6.3.1.6  FEhist Reduccion dimensionalidad con canaritos\n",
    "\n",
    "Esta etapa solo se mostrará a la *modalidad Anlista Sr* por algun canal secreto de forma de no confundir a los *Analista Jr*  nni distraer con detalles operativos a la estratégica *Modalidad Gerencial*"
   ]
  },
  {
   "cell_type": "code",
   "execution_count": null,
   "id": "QrmnPtlBcEgx",
   "metadata": {
    "id": "QrmnPtlBcEgx",
    "vscode": {
     "languageId": "r"
    }
   },
   "outputs": [],
   "source": [
    "# No se imvplementa la reduccion de la dimensionalidad con canaritos"
   ]
  },
  {
   "cell_type": "markdown",
   "id": "8165771b-3207-4a4d-abb8-a5c87b08dd3c",
   "metadata": {
    "id": "7sppIDYeSn5X"
   },
   "source": [
    "#### 6.3.1.3  FE_intra_manual Feature Engineering intra-mes\n",
    "\n",
    "Agrego campos nuevos dentro del mismo mes, SIN considerar la historia."
   ]
  },
  {
   "cell_type": "code",
   "execution_count": null,
   "id": "f44aff89-e56f-4ccc-b592-0b3c3320dda9",
   "metadata": {
    "id": "qrqf3j3_St3p",
    "vscode": {
     "languageId": "r"
    }
   },
   "outputs": [],
   "source": [
    "# esta funcion atributos presentes existe debido a que las modalidades poseen datasets con distinta cantidad de campos\n",
    "atributos_presentes <- function( patributos )\n",
    "{\n",
    "  atributos <- unique( patributos )\n",
    "  comun <- intersect( atributos, colnames(dataset) )\n",
    "\n",
    "  return(  length( atributos ) == length( comun ) )\n",
    "}\n",
    "\n",
    "# el mes 1,2, ..12\n",
    "if( atributos_presentes( c(\"foto_mes\") ))\n",
    "  dataset[, kmes := foto_mes %% 100]\n",
    "\n",
    "# variable extraida de una tesis de maestria de Irlanda\n",
    "if( atributos_presentes( c(\"mpayroll\", \"cliente_edad\") ))\n",
    "  dataset[, mpayroll_sobre_edad := mpayroll / cliente_edad]\n"
   ]
  },
  {
   "cell_type": "code",
   "execution_count": null,
   "id": "1dd3a99f-be74-4c83-89cc-53ca8c2ababc",
   "metadata": {
    "colab": {
     "base_uri": "https://localhost:8080/",
     "height": 156
    },
    "id": "iC4viwOdY5Kp",
    "outputId": "05bdb939-926b-48dd-f00f-dbb3a1e86ca7",
    "vscode": {
     "languageId": "r"
    }
   },
   "outputs": [],
   "source": [
    "# visualizo las columas del dataset a esta etapa\n",
    "colnames(dataset)"
   ]
  },
  {
   "cell_type": "markdown",
   "id": "5c87c92f-73d4-4db4-b991-355d4a853c1d",
   "metadata": {
    "id": "6e3c57bf-2ef3-4b04-a512-cb30f728c98b"
   },
   "source": [
    "#### 9.7.1.3  DR  Data Drifting\n",
    "Se intenta corregir el data drifting, ajustando por algunos indices financieros"
   ]
  },
  {
   "cell_type": "code",
   "execution_count": null,
   "id": "7d38e833-e339-49a3-88bf-5f9a54d92953",
   "metadata": {
    "id": "8da403e2-102b-4bb4-94d0-e41d4b1e498d",
    "vscode": {
     "languageId": "r"
    }
   },
   "outputs": [],
   "source": [
    "# meses que me interesan para el ajuste de variables monetarias\n",
    "vfoto_mes <- c(\n",
    "  201901, 201902, 201903, 201904, 201905, 201906,\n",
    "  201907, 201908, 201909, 201910, 201911, 201912,\n",
    "  202001, 202002, 202003, 202004, 202005, 202006,\n",
    "  202007, 202008, 202009, 202010, 202011, 202012,\n",
    "  202101, 202102, 202103, 202104, 202105, 202106,\n",
    "  202107, 202108, 202109\n",
    ")\n",
    "# los valores que siguen fueron calculados por alumnos\n",
    "\n",
    "# momento 1.0  31-dic-2020 a las 23:59\n",
    "vIPC <- c(\n",
    "  1.9903030878, 1.9174403544, 1.8296186587,\n",
    "  1.7728862972, 1.7212488323, 1.6776304408,\n",
    "  1.6431248196, 1.5814483345, 1.4947526791,\n",
    "  1.4484037589, 1.3913580777, 1.3404220402,\n",
    "  1.3154288912, 1.2921698342, 1.2472681797,\n",
    "  1.2300475145, 1.2118694724, 1.1881073259,\n",
    "  1.1693969743, 1.1375456949, 1.1065619600,\n",
    "  1.0681100000, 1.0370000000, 1.0000000000,\n",
    "  0.9680542110, 0.9344152616, 0.8882274350,\n",
    "  0.8532444140, 0.8251880213, 0.8003763543,\n",
    "  0.7763107219, 0.7566381305, 0.7289384687\n",
    ")\n",
    "\n",
    "vdolar_blue <- c(\n",
    "   39.045455,  38.402500,  41.639474,\n",
    "   44.274737,  46.095455,  45.063333,\n",
    "   43.983333,  54.842857,  61.059524,\n",
    "   65.545455,  66.750000,  72.368421,\n",
    "   77.477273,  78.191667,  82.434211,\n",
    "  101.087500, 126.236842, 125.857143,\n",
    "  130.782609, 133.400000, 137.954545,\n",
    "  170.619048, 160.400000, 153.052632,\n",
    "  157.900000, 149.780952, 143.615385,\n",
    "  146.250000, 153.550000, 162.000000,\n",
    "  178.478261, 180.878788, 184.357143\n",
    ")\n",
    "\n",
    "vdolar_oficial <- c(\n",
    "   38.430000,  39.428000,  42.542105,\n",
    "   44.354211,  46.088636,  44.955000,\n",
    "   43.751429,  54.650476,  58.790000,\n",
    "   61.403182,  63.012632,  63.011579,\n",
    "   62.983636,  63.580556,  65.200000,\n",
    "   67.872000,  70.047895,  72.520952,\n",
    "   75.324286,  77.488500,  79.430909,\n",
    "   83.134762,  85.484737,  88.181667,\n",
    "   91.474000,  93.997778,  96.635909,\n",
    "   98.526000,  99.613158, 100.619048,\n",
    "  101.619048, 102.569048, 103.781818\n",
    ")\n",
    "\n",
    "vUVA <- c(\n",
    "  2.001408838932958,  1.950325472789153,  1.89323032351521,\n",
    "  1.8247220405493787, 1.746027787673673,  1.6871348409529485,\n",
    "  1.6361678865622313, 1.5927529755859773, 1.5549162794128493,\n",
    "  1.4949100586391746, 1.4197729500774545, 1.3678188186372326,\n",
    "  1.3136508617223726, 1.2690535173062818, 1.2381595983200178,\n",
    "  1.211656735577568,  1.1770808941405335, 1.1570338657445522,\n",
    "  1.1388769475653255, 1.1156993751209352, 1.093638313080772,\n",
    "  1.0657171590878205, 1.0362173587708712, 1.0,\n",
    "  0.9669867858358365, 0.9323750098728378, 0.8958202912590305,\n",
    "  0.8631993702994263, 0.8253893405524657, 0.7928918905364516,\n",
    "  0.7666323845128089, 0.7428976357662823, 0.721615762047849\n",
    ")\n",
    "\n",
    "tb_indices <- as.data.table( list(\n",
    "  \"IPC\" = vIPC,\n",
    "  \"dolar_blue\" = vdolar_blue,\n",
    "  \"dolar_oficial\" = vdolar_oficial,\n",
    "  \"UVA\" = vUVA\n",
    "  )\n",
    ")\n",
    "\n",
    "tb_indices[[\"foto_mes\"]] <- vfoto_mes\n",
    "\n",
    "# tb_indices"
   ]
  },
  {
   "cell_type": "code",
   "execution_count": null,
   "id": "70410061-9a53-4932-a714-2d7e3d038c8b",
   "metadata": {
    "id": "f45d86db-0902-4383-b241-68e2c8c6a873",
    "vscode": {
     "languageId": "r"
    }
   },
   "outputs": [],
   "source": [
    "## TODO: juntar en una funcion...\n",
    "\n",
    "drift_UVA <- function(campos_monetarios) {\n",
    "  cat( \"inicio drift_UVA()\\n\")\n",
    "\n",
    "  dataset[tb_indices,\n",
    "    on = c(\"foto_mes\"),\n",
    "    (campos_monetarios) := .SD * i.UVA,\n",
    "    .SDcols = campos_monetarios\n",
    "  ]\n",
    "\n",
    "  cat( \"fin drift_UVA()\\n\")\n",
    "}\n",
    "drift_dolar_oficial <- function(campos_monetarios) {\n",
    "  cat( \"inicio drift_dolar_oficial()\\n\")\n",
    "\n",
    "  dataset[tb_indices,\n",
    "    on = c(\"foto_mes\"),\n",
    "    (campos_monetarios) := .SD / i.dolar_oficial,\n",
    "    .SDcols = campos_monetarios\n",
    "  ]\n",
    "\n",
    "  cat( \"fin drift_dolar_oficial()\\n\")\n",
    "}\n",
    "drift_dolar_blue <- function(campos_monetarios) {\n",
    "  cat( \"inicio drift_dolar_blue()\\n\")\n",
    "\n",
    "  dataset[tb_indices,\n",
    "    on = c(\"foto_mes\"),\n",
    "    (campos_monetarios) := .SD / i.dolar_blue,\n",
    "    .SDcols = campos_monetarios\n",
    "  ]\n",
    "\n",
    "  cat( \"fin drift_dolar_blue()\\n\")\n",
    "}\n",
    "drift_deflacion <- function(campos_monetarios) {\n",
    "  cat( \"inicio drift_deflacion()\\n\")\n",
    "\n",
    "  dataset[tb_indices,\n",
    "    on = c(\"foto_mes\"),\n",
    "    (campos_monetarios) := .SD * i.IPC,\n",
    "    .SDcols = campos_monetarios\n",
    "  ]\n",
    "\n",
    "  cat( \"fin drift_deflacion()\\n\")\n",
    "}\n",
    "drift_rank_simple <- function(campos_drift) {\n",
    "\n",
    "  cat( \"inicio drift_rank_simple()\\n\")\n",
    "  for (campo in campos_drift)\n",
    "  {\n",
    "    cat(campo, \" \")\n",
    "    dataset[, paste0(campo, \"_rank\") :=\n",
    "      (frank(get(campo), ties.method = \"random\") - 1) / (.N - 1), by = list(foto_mes)]\n",
    "    dataset[, (campo) := NULL]\n",
    "  }\n",
    "  cat( \"fin drift_rank_simple()\\n\")\n",
    "}\n",
    "# El cero se transforma en cero\n",
    "# los positivos se rankean por su lado\n",
    "# los negativos se rankean por su lado\n",
    "\n",
    "drift_rank_cero_fijo <- function(campos_drift) {\n",
    "\n",
    "  cat( \"inicio drift_rank_cero_fijo()\\n\")\n",
    "  for (campo in campos_drift)\n",
    "  {\n",
    "    cat(campo, \" \")\n",
    "    dataset[get(campo) == 0, paste0(campo, \"_rank\") := 0]\n",
    "    dataset[get(campo) > 0, paste0(campo, \"_rank\") :=\n",
    "      frank(get(campo), ties.method = \"random\") / .N, by = list(foto_mes)]\n",
    "\n",
    "    dataset[get(campo) < 0, paste0(campo, \"_rank\") :=\n",
    "      -frank(-get(campo), ties.method = \"random\") / .N, by = list(foto_mes)]\n",
    "    dataset[, (campo) := NULL]\n",
    "  }\n",
    "  cat(\"\\n\")\n",
    "  cat( \"fin drift_rank_cero_fijo()\\n\")\n",
    "}\n",
    "drift_estandarizar <- function(campos_drift) {\n",
    "\n",
    "  cat( \"inicio drift_estandarizar()\\n\")\n",
    "  for (campo in campos_drift)\n",
    "  {\n",
    "    cat(campo, \" \")\n",
    "    dataset[, paste0(campo, \"_normal\") :=\n",
    "      (get(campo) -mean(campo, na.rm=TRUE)) / sd(get(campo), na.rm=TRUE),\n",
    "      by = list(foto_mes)]\n",
    "\n",
    "    dataset[, (campo) := NULL]\n",
    "  }\n",
    "  cat( \"fin drift_estandarizar()\\n\")\n",
    "}\n"
   ]
  },
  {
   "cell_type": "code",
   "execution_count": null,
   "id": "8aab3c8f-067c-4543-9f87-f88f8b5834ec",
   "metadata": {
    "colab": {
     "base_uri": "https://localhost:8080/",
     "height": 86
    },
    "id": "dfc6a0f9-bb32-45ea-8b9e-2e964f5a1614",
    "outputId": "67b237f7-715f-467f-a72f-2892b744d49c",
    "vscode": {
     "languageId": "r"
    }
   },
   "outputs": [],
   "source": [
    "# por como armé los nombres de campos,\n",
    "#  estos son los campos que expresan variables monetarias\n",
    "campos_monetarios <- colnames(dataset)\n",
    "campos_monetarios <- campos_monetarios[campos_monetarios %like%\n",
    "  \"^(m|Visa_m|Master_m|vm_m)\"]\n",
    "\n",
    "campos_monetarios\n",
    "add_log(campos_monetarios)"
   ]
  },
  {
   "cell_type": "code",
   "execution_count": null,
   "id": "5f4bdadc-6ace-4d54-aaff-18f9b47435f1",
   "metadata": {
    "colab": {
     "base_uri": "https://localhost:8080/"
    },
    "id": "90434a25-93a3-4d3f-9242-412ab38d981b",
    "outputId": "ff1f2fc8-449a-40c7-a6b9-946f9b3f97ca",
    "vscode": {
     "languageId": "r"
    }
   },
   "outputs": [],
   "source": [
    "# ejecuto el Data Drifting\n",
    "setorder(dataset, numero_de_cliente, foto_mes)\n",
    "\n",
    "PARAM$DR$metodo <- \"rank_cero_fijo\"\n",
    "\n",
    "switch(PARAM$DR$metodo,\n",
    "  \"ninguno\"        = cat(\"No hay correccion del data drifting\"),\n",
    "  \"rank_simple\"    = drift_rank_simple(campos_monetarios),\n",
    "  \"rank_cero_fijo\" = drift_rank_cero_fijo(campos_monetarios),\n",
    "  \"deflacion\"      = drift_deflacion(campos_monetarios),\n",
    "  \"dolar_blue\"     = drift_dolarblue(campos_monetarios),\n",
    "  \"dolar_oficial\"  = drift_dolaroficial(campos_monetarios),\n",
    "  \"UVA\"            = drift_UVA(campos_monetarios),\n",
    "  \"estandarizar\"   = drift_estandarizar(campos_monetarios)\n",
    ")\n"
   ]
  },
  {
   "cell_type": "code",
   "execution_count": null,
   "id": "d3751b9c-9ba9-493c-9f3b-7548d6c4b2d3",
   "metadata": {
    "colab": {
     "base_uri": "https://localhost:8080/",
     "height": 156
    },
    "id": "fc1d92cc-bd7a-43ef-9133-efc7eac94af3",
    "outputId": "3ad8a828-f1d5-495a-af4f-e0633474d4ed",
    "vscode": {
     "languageId": "r"
    }
   },
   "outputs": [],
   "source": [
    "colnames(dataset)"
   ]
  },
  {
   "cell_type": "markdown",
   "id": "1107b46c-3dc5-4470-b02c-40fd64459f59",
   "metadata": {
    "id": "ad488674-e40f-4d22-888e-da035f96400b"
   },
   "source": [
    "#### 9.7.1.3  FE_intra_manual Feature Engineering intra-mes\n",
    "\n",
    "Agrego campos nuevos dentro del mismo mes, SIN considerar la historia."
   ]
  },
  {
   "cell_type": "code",
   "execution_count": null,
   "id": "814ce73b-6cd8-4a00-9688-4e22976934f7",
   "metadata": {
    "colab": {
     "base_uri": "https://localhost:8080/"
    },
    "id": "43cc3f1f-8b3d-41bd-bcfc-c7d5660f0d28",
    "outputId": "fa09e004-f8e1-48cc-94a3-bf8fde4a1de5",
    "vscode": {
     "languageId": "r"
    }
   },
   "outputs": [],
   "source": [
    "if( !require(\"lubridate\")) install.packages(\"lubridate\", repos = \"http://cran.us.r-project.org\")\n",
    "require(\"lubridate\")"
   ]
  },
  {
   "cell_type": "code",
   "execution_count": null,
   "id": "f5f0799d-2d3d-46f1-ab02-db4c83225744",
   "metadata": {
    "id": "3a2ebc99-0b40-420d-a579-9028cbda0081",
    "vscode": {
     "languageId": "r"
    }
   },
   "outputs": [],
   "source": [
    "# esta funcion atributos presentes existe debido a que las modalidades poseen datasets con distinta cantidad de campos\n",
    "atributos_presentes <- function(patributos)\n",
    "{\n",
    "  atributos <- unique(patributos)\n",
    "  comun <- intersect(atributos, colnames(dataset))\n",
    "\n",
    "  return( length(atributos) == length(comun))\n",
    "}"
   ]
  },
  {
   "cell_type": "code",
   "execution_count": null,
   "id": "148edc37-633d-4193-b74a-f00dcaf3189f",
   "metadata": {
    "id": "992d12ec-1da3-4aa5-923c-10b222e7b8d7",
    "vscode": {
     "languageId": "r"
    }
   },
   "outputs": [],
   "source": [
    "# Esta es la parte que los alumnos deben desplegar todo su ingenio\n",
    "# Agregar aqui sus PROPIAS VARIABLES manuales\n",
    "\n",
    "AgregarVariables_IntraMes <- function(dataset) {\n",
    "  cat( \"inicio AgregarVariables_IntraMes()\\n\")\n",
    "  add_log( \"inicio AgregarVariables_IntraMes()\\n\")\n",
    "  gc(verbose= FALSE)\n",
    "  # INICIO de la seccion donde se deben hacer cambios con variables nuevas\n",
    "\n",
    "  # el mes 1,2, ..12\n",
    "  if( atributos_presentes( c(\"foto_mes\") ))\n",
    "    dataset[, kmes := foto_mes %% 100]\n",
    "\n",
    "  # creo un ctr_quarter que tenga en cuenta cuando\n",
    "  # los clientes hace 3 menos meses que estan\n",
    "  # ya que seria injusto considerar las transacciones medidas en menor tiempo\n",
    "  if( atributos_presentes( c(\"ctrx_quarter\") ))\n",
    "    dataset[, ctrx_quarter_normalizado := as.numeric(ctrx_quarter) ]\n",
    "\n",
    "  if( atributos_presentes( c(\"ctrx_quarter\", \"cliente_antiguedad\") ))\n",
    "    dataset[cliente_antiguedad == 1, ctrx_quarter_normalizado := ctrx_quarter * 5]\n",
    "\n",
    "  if( atributos_presentes( c(\"ctrx_quarter\", \"cliente_antiguedad\") ))\n",
    "    dataset[cliente_antiguedad == 2, ctrx_quarter_normalizado := ctrx_quarter * 2]\n",
    "\n",
    "  if( atributos_presentes( c(\"ctrx_quarter\", \"cliente_antiguedad\") ))\n",
    "    dataset[\n",
    "      cliente_antiguedad == 3,\n",
    "      ctrx_quarter_normalizado := ctrx_quarter * 1.2\n",
    "    ]\n",
    "\n",
    "   if(atributos_presentes(c(\"foto_mes\")))\n",
    "    dataset[,foto_mes_formato_fecha := as.Date(paste(substr(dataset$foto_mes,1,4),substr(dataset$foto_mes,5,6),\"01\",sep='-'))]\n",
    "\n",
    "  #dataset$foto_mes_formato_fecha <<- as.Date(paste(substr(dataset$foto_mes,1,4),substr(dataset$foto_mes,5,6),\"01\",sep='-'))\n",
    "\n",
    "  if(atributos_presentes(c(\"cantidad_total_transacciones\"))){\n",
    "   auxiliarmenos1 <- dataset[,list(numero_de_cliente,foto_mes_formato_fecha, cantidad_total_transacciones)]\n",
    "   auxiliarmenos2 <- dataset[,list(numero_de_cliente,foto_mes_formato_fecha,cantidad_total_transacciones)]\n",
    "   # auxiliarmenos1$foto_mes_formato_fecha <- as.Date(auxiliarmenos1$foto_mes_formato_fecha)\n",
    "   # auxiliarmenos2$foto_mes_formato_fecha <- as.Date(auxiliarmenos2$foto_mes_formato_fecha)\n",
    "   auxiliarmenos1$foto_mes_formato_fecha <- auxiliarmenos1$foto_mes_formato_fecha  %m-%  months(1)\n",
    "   auxiliarmenos2$foto_mes_formato_fecha <- auxiliarmenos2$foto_mes_formato_fecha %m-% months(2)\n",
    "   auxiliarmenos1$codigo <- paste(auxiliarmenos1$numero_de_cliente,auxiliarmenos1$foto_mes_formato_fecha,sep='-')\n",
    "   auxiliarmenos2$codigo <- paste(auxiliarmenos2$numero_de_cliente,auxiliarmenos2$foto_mes_formato_fecha,sep='-')\n",
    "\n",
    "   dataset[, codigo := paste(numero_de_cliente, foto_mes_formato_fecha, sep='-') ]\n",
    "\n",
    "   dataset[ auxiliarmenos1,\n",
    "            on = \"codigo\",\n",
    "            transaccionesmenos1 := i.cantidad_total_transacciones ]\n",
    "\n",
    "   dataset[ auxiliarmenos2,\n",
    "            on = \"codigo\",\n",
    "            transaccionesmenos2 := i.cantidad_total_transacciones ]\n",
    "\n",
    "   dataset[, cantidad_total_transacciones_quarter := rowSums(cbind(cantidad_total_transacciones +\n",
    "    transaccionesmenos1 + transaccionesmenos2),na.rm=T) ]\n",
    "\n",
    "   dataset[, codigo := NULL ]\n",
    "   dataset[, transaccionesmenos1 := NULL ]\n",
    "   dataset[, transaccionesmenos2 := NULL ]\n",
    "   dataset[, foto_mes_formato_fecha := NULL ]\n",
    "   rm(auxiliarmenos1)\n",
    "   rm(auxiliarmenos2)\n",
    "  }\n",
    "\n",
    "  if( atributos_presentes( c(\"cantidad_total_transacciones_quarter\") ))\n",
    "    dataset[, cantidad_total_transacciones_quarter_normalizado := cantidad_total_transacciones_quarter]\n",
    "\n",
    "  if( atributos_presentes( c(\"cantidad_total_transacciones_quarter\", \"cliente_antiguedad\") ))\n",
    "    dataset[cliente_antiguedad == 1, cantidad_total_transacciones_quarter_normalizado := cantidad_total_transacciones_quarter * 5]\n",
    "\n",
    "  if( atributos_presentes( c(\"cantidad_total_transacciones_quarter\", \"cliente_antiguedad\") ))\n",
    "    dataset[cliente_antiguedad == 2, cantidad_total_transacciones_quarter_normalizado := cantidad_total_transacciones_quarter * 2]\n",
    "\n",
    "  if( atributos_presentes( c(\"cantidad_total_transacciones_quarter\", \"cliente_antiguedad\") ))\n",
    "    dataset[cliente_antiguedad == 3, cantidad_total_transacciones_quarter_normalizado := cantidad_total_transacciones_quarter * 1.2]\n",
    "\n",
    "  # variable extraida de una tesis de maestria de Irlanda\n",
    "  if( atributos_presentes( c(\"mpayroll\", \"cliente_edad\") ))\n",
    "    dataset[, mpayroll_sobre_edad := mpayroll / cliente_edad]\n",
    "\n",
    "  # se crean los nuevos campos para MasterCard  y Visa,\n",
    "  #  teniendo en cuenta los NA's\n",
    "  # varias formas de combinar Visa_status y Master_status\n",
    "  if( atributos_presentes( c(\"Master_status\", \"Visa_status\") ))\n",
    "  {\n",
    "    dataset[, vm_status01 := pmax(Master_status, Visa_status, na.rm = TRUE)]\n",
    "    dataset[, vm_status02 := Master_status + Visa_status]\n",
    "\n",
    "    dataset[, vm_status03 := pmax(\n",
    "      ifelse(is.na(Master_status), 10, Master_status),\n",
    "      ifelse(is.na(Visa_status), 10, Visa_status)\n",
    "    )]\n",
    "\n",
    "    dataset[, vm_status04 := ifelse(is.na(Master_status), 10, Master_status)\n",
    "      + ifelse(is.na(Visa_status), 10, Visa_status)]\n",
    "\n",
    "    dataset[, vm_status05 := ifelse(is.na(Master_status), 10, Master_status)\n",
    "      + 100 * ifelse(is.na(Visa_status), 10, Visa_status)]\n",
    "\n",
    "    dataset[, vm_status06 := ifelse(is.na(Visa_status),\n",
    "      ifelse(is.na(Master_status), 10, Master_status),\n",
    "      Visa_status\n",
    "    )]\n",
    "\n",
    "    dataset[, mv_status07 := ifelse(is.na(Master_status),\n",
    "      ifelse(is.na(Visa_status), 10, Visa_status),\n",
    "      Master_status\n",
    "    )]\n",
    "  }\n",
    "\n",
    "\n",
    "  # combino MasterCard y Visa\n",
    "  if( atributos_presentes( c(\"Master_mfinanciacion_limite\", \"Visa_mfinanciacion_limite\") ))\n",
    "    dataset[, vm_mfinanciacion_limite := rowSums(cbind(Master_mfinanciacion_limite, Visa_mfinanciacion_limite), na.rm = TRUE)]\n",
    "\n",
    "  if( atributos_presentes( c(\"Master_Fvencimiento\", \"Visa_Fvencimiento\") ))\n",
    "    dataset[, vm_Fvencimiento := pmin(Master_Fvencimiento, Visa_Fvencimiento, na.rm = TRUE)]\n",
    "\n",
    "  if( atributos_presentes( c(\"Master_Finiciomora\", \"Visa_Finiciomora\") ))\n",
    "    dataset[, vm_Finiciomora := pmin(Master_Finiciomora, Visa_Finiciomora, na.rm = TRUE)]\n",
    "\n",
    "  if( atributos_presentes( c(\"Master_msaldototal\", \"Visa_msaldototal\") ))\n",
    "    dataset[, vm_msaldototal := rowSums(cbind(Master_msaldototal, Visa_msaldototal), na.rm = TRUE)]\n",
    "\n",
    "  if( atributos_presentes( c(\"Master_msaldopesos\", \"Visa_msaldopesos\") ))\n",
    "    dataset[, vm_msaldopesos := rowSums(cbind(Master_msaldopesos, Visa_msaldopesos), na.rm = TRUE)]\n",
    "\n",
    "  if( atributos_presentes( c(\"Master_msaldodolares\", \"Visa_msaldodolares\") ))\n",
    "    dataset[, vm_msaldodolares := rowSums(cbind(Master_msaldodolares, Visa_msaldodolares), na.rm = TRUE)]\n",
    "\n",
    "  if( atributos_presentes( c(\"Master_mconsumospesos\", \"Visa_mconsumospesos\") ))\n",
    "    dataset[, vm_mconsumospesos := rowSums(cbind(Master_mconsumospesos, Visa_mconsumospesos), na.rm = TRUE)]\n",
    "\n",
    "  if( atributos_presentes( c(\"Master_mconsumosdolares\", \"Visa_mconsumosdolares\") ))\n",
    "    dataset[, vm_mconsumosdolares := rowSums(cbind(Master_mconsumosdolares, Visa_mconsumosdolares), na.rm = TRUE)]\n",
    "\n",
    "  if( atributos_presentes( c(\"Master_mlimitecompra\", \"Visa_mlimitecompra\") ))\n",
    "    dataset[, vm_mlimitecompra := rowSums(cbind(Master_mlimitecompra, Visa_mlimitecompra), na.rm = TRUE)]\n",
    "\n",
    "  if( atributos_presentes( c(\"Master_madelantopesos\", \"Visa_madelantopesos\") ))\n",
    "    dataset[, vm_madelantopesos := rowSums(cbind(Master_madelantopesos, Visa_madelantopesos), na.rm = TRUE)]\n",
    "\n",
    "  if( atributos_presentes( c(\"Master_madelantodolares\", \"Visa_madelantodolares\") ))\n",
    "    dataset[, vm_madelantodolares := rowSums(cbind(Master_madelantodolares, Visa_madelantodolares), na.rm = TRUE)]\n",
    "\n",
    "  if( atributos_presentes( c(\"Master_fultimo_cierre\", \"Visa_fultimo_cierre\") ))\n",
    "    dataset[, vm_fultimo_cierre := pmax(Master_fultimo_cierre, Visa_fultimo_cierre, na.rm = TRUE)]\n",
    "\n",
    "  if( atributos_presentes( c(\"Master_mpagado\", \"Visa_mpagado\") ))\n",
    "    dataset[, vm_mpagado := rowSums(cbind(Master_mpagado, Visa_mpagado), na.rm = TRUE)]\n",
    "\n",
    "  if( atributos_presentes( c(\"Master_mpagospesos\", \"Visa_mpagospesos\") ))\n",
    "    dataset[, vm_mpagospesos := rowSums(cbind(Master_mpagospesos, Visa_mpagospesos), na.rm = TRUE)]\n",
    "\n",
    "  if( atributos_presentes( c(\"Master_mpagosdolares\", \"Visa_mpagosdolares\") ))\n",
    "    dataset[, vm_mpagosdolares := rowSums(cbind(Master_mpagosdolares, Visa_mpagosdolares), na.rm = TRUE)]\n",
    "\n",
    "  if( atributos_presentes( c(\"Master_fechaalta\", \"Visa_fechaalta\") ))\n",
    "    dataset[, vm_fechaalta := pmax(Master_fechaalta, Visa_fechaalta, na.rm = TRUE)]\n",
    "\n",
    "  if( atributos_presentes( c(\"Master_mconsumototal\", \"Visa_mconsumototal\") ))\n",
    "    dataset[, vm_mconsumototal := rowSums(cbind(Master_mconsumototal, Visa_mconsumototal), na.rm = TRUE)]\n",
    "\n",
    "  if( atributos_presentes( c(\"Master_cconsumos\", \"Visa_cconsumos\") ))\n",
    "    dataset[, vm_cconsumos := rowSums(cbind(Master_cconsumos, Visa_cconsumos), na.rm = TRUE)]\n",
    "\n",
    "  if( atributos_presentes( c(\"Master_cadelantosefectivo\", \"Visa_cadelantosefectivo\") ))\n",
    "    dataset[, vm_cadelantosefectivo := rowSums(cbind(Master_cadelantosefectivo, Visa_cadelantosefectivo), na.rm = TRUE)]\n",
    "\n",
    "  if( atributos_presentes( c(\"Master_mpagominimo\", \"Visa_mpagominimo\") ))\n",
    "    dataset[, vm_mpagominimo := rowSums(cbind(Master_mpagominimo, Visa_mpagominimo), na.rm = TRUE)]\n",
    "\n",
    "  # a partir de aqui juego con la suma de Mastercard y Visa\n",
    "  if( atributos_presentes( c(\"Master_mlimitecompra\", \"vm_mlimitecompra\") ))\n",
    "    dataset[, vmr_Master_mlimitecompra := Master_mlimitecompra / vm_mlimitecompra]\n",
    "\n",
    "  if( atributos_presentes( c(\"Visa_mlimitecompra\", \"vm_mlimitecompra\") ))\n",
    "    dataset[, vmr_Visa_mlimitecompra := Visa_mlimitecompra / vm_mlimitecompra]\n",
    "\n",
    "  if( atributos_presentes( c(\"vm_msaldototal\", \"vm_mlimitecompra\") ))\n",
    "    dataset[, vmr_msaldototal := vm_msaldototal / vm_mlimitecompra]\n",
    "\n",
    "  if( atributos_presentes( c(\"vm_msaldopesos\", \"vm_mlimitecompra\") ))\n",
    "    dataset[, vmr_msaldopesos := vm_msaldopesos / vm_mlimitecompra]\n",
    "\n",
    "  if( atributos_presentes( c(\"vm_msaldopesos\", \"vm_msaldototal\") ))\n",
    "    dataset[, vmr_msaldopesos2 := vm_msaldopesos / vm_msaldototal]\n",
    "\n",
    "  if( atributos_presentes( c(\"vm_msaldodolares\", \"vm_mlimitecompra\") ))\n",
    "    dataset[, vmr_msaldodolares := vm_msaldodolares / vm_mlimitecompra]\n",
    "\n",
    "  if( atributos_presentes( c(\"vm_msaldodolares\", \"vm_msaldototal\") ))\n",
    "    dataset[, vmr_msaldodolares2 := vm_msaldodolares / vm_msaldototal]\n",
    "\n",
    "  if( atributos_presentes( c(\"vm_mconsumospesos\", \"vm_mlimitecompra\") ))\n",
    "    dataset[, vmr_mconsumospesos := vm_mconsumospesos / vm_mlimitecompra]\n",
    "\n",
    "  if( atributos_presentes( c(\"vm_mconsumosdolares\", \"vm_mlimitecompra\") ))\n",
    "    dataset[, vmr_mconsumosdolares := vm_mconsumosdolares / vm_mlimitecompra]\n",
    "\n",
    "  if( atributos_presentes( c(\"vm_madelantopesos\", \"vm_mlimitecompra\") ))\n",
    "    dataset[, vmr_madelantopesos := vm_madelantopesos / vm_mlimitecompra]\n",
    "\n",
    "  if( atributos_presentes( c(\"vm_madelantodolares\", \"vm_mlimitecompra\") ))\n",
    "    dataset[, vmr_madelantodolares := vm_madelantodolares / vm_mlimitecompra]\n",
    "\n",
    "  if( atributos_presentes( c(\"vm_mpagado\", \"vm_mlimitecompra\") ))\n",
    "    dataset[, vmr_mpagado := vm_mpagado / vm_mlimitecompra]\n",
    "\n",
    "  if( atributos_presentes( c(\"vm_mpagospesos\", \"vm_mlimitecompra\") ))\n",
    "    dataset[, vmr_mpagospesos := vm_mpagospesos / vm_mlimitecompra]\n",
    "\n",
    "  if( atributos_presentes( c(\"vm_mpagosdolares\", \"vm_mlimitecompra\") ))\n",
    "    dataset[, vmr_mpagosdolares := vm_mpagosdolares / vm_mlimitecompra]\n",
    "\n",
    "  if( atributos_presentes( c(\"vm_mconsumototal\", \"vm_mlimitecompra\") ))\n",
    "    dataset[, vmr_mconsumototal := vm_mconsumototal / vm_mlimitecompra]\n",
    "\n",
    "  if( atributos_presentes( c(\"vm_mpagominimo\", \"vm_mlimitecompra\") ))\n",
    "    dataset[, vmr_mpagominimo := vm_mpagominimo / vm_mlimitecompra]\n",
    "\n",
    "  # Aqui debe usted agregar sus propias nuevas variables\n",
    "\n",
    "  # valvula de seguridad para evitar valores infinitos\n",
    "  # paso los infinitos a NULOS\n",
    "  infinitos <- lapply(\n",
    "    names(dataset),\n",
    "    function(.name) dataset[, sum(is.infinite(get(.name)))]\n",
    "  )\n",
    "\n",
    "  infinitos_qty <- sum(unlist(infinitos))\n",
    "  if (infinitos_qty > 0) {\n",
    "    cat(\n",
    "      \"ATENCION, hay\", infinitos_qty,\n",
    "      \"valores infinitos en tu dataset. Seran pasados a NA\\n\"\n",
    "    )\n",
    "        add_log(paste0(\n",
    "      \"ATENCION, hay \", infinitos_qty,\n",
    "      \"valores infinitos en tu dataset. Seran pasados a NA\\n\")\n",
    "    )\n",
    "\n",
    "    dataset[mapply(is.infinite, dataset)] <<- NA\n",
    "  }\n",
    "\n",
    "\n",
    "  # valvula de seguridad para evitar valores NaN  que es 0/0\n",
    "  # paso los NaN a 0 , decision polemica si las hay\n",
    "  # se invita a asignar un valor razonable segun la semantica del campo creado\n",
    "  nans <- lapply(\n",
    "    names(dataset),\n",
    "    function(.name) dataset[, sum(is.nan(get(.name)))]\n",
    "  )\n",
    "\n",
    "  nans_qty <- sum(unlist(nans))\n",
    "  if (nans_qty > 0) {\n",
    "    cat(\n",
    "      \"ATENCION, hay\", nans_qty,\n",
    "      \"valores NaN 0/0 en tu dataset. Seran pasados arbitrariamente a 0\\n\"\n",
    "    )\n",
    "\n",
    "    add_log(\n",
    "      paste0(\"ATENCION, hay\", nans_qty,\n",
    "      \"valores NaN 0/0 en tu dataset. Seran pasados arbitrariamente a 0\\n\"\n",
    "    ))\n",
    "\n",
    "    cat(\"Si no te gusta la decision, modifica a gusto el programa!\\n\\n\")\n",
    "    add_log(\"Si no te gusta la decision, modifica a gusto el programa!\\n\\n\")\n",
    "\n",
    "\n",
    "    dataset[mapply(is.nan, dataset)] <<- 0\n",
    "  }\n",
    "\n",
    "  cat( \"fin AgregarVariables_IntraMes()\\n\")\n",
    "  add_log( \"fin AgregarVariables_IntraMes()\\n\")\n",
    "}\n"
   ]
  },
  {
   "cell_type": "code",
   "execution_count": null,
   "id": "443a3527-1998-4e38-968d-dc1dc7b4b71e",
   "metadata": {
    "colab": {
     "base_uri": "https://localhost:8080/"
    },
    "id": "cdb58021-2324-4171-9555-12f3563f66f3",
    "outputId": "0f72eed4-d9f8-4f93-c56a-8428e10a7b63",
    "vscode": {
     "languageId": "r"
    }
   },
   "outputs": [],
   "source": [
    "# agrego las variables intra mes\n",
    "AgregarVariables_IntraMes(dataset)"
   ]
  },
  {
   "cell_type": "code",
   "execution_count": null,
   "id": "f9d7011a-a691-4120-97b2-0389494f6caf",
   "metadata": {
    "colab": {
     "base_uri": "https://localhost:8080/",
     "height": 191
    },
    "id": "c1727052-62de-409a-9475-5e0b6a197f3d",
    "outputId": "a7530454-3ecf-483f-d57b-d9ef2651c89d",
    "vscode": {
     "languageId": "r"
    }
   },
   "outputs": [],
   "source": [
    "# visualizo las columas del dataset a esta etapa\n",
    "ncol(dataset)\n",
    "colnames(dataset)\n",
    "\n",
    "add_log(ncol(dataset))"
   ]
  },
  {
   "cell_type": "markdown",
   "id": "1a78540e-0382-4b16-a415-d1dfdcbefbbd",
   "metadata": {
    "id": "XaRBjQj8ZRUZ"
   },
   "source": [
    "#### 6.3.1.5  FEhist Feature Engineering historico\n",
    "\n",
    "El Fature Engineering Histórico es la etapa que más aporta a la ganancia final, ya que enriquece cada registro del dataset con su historia."
   ]
  },
  {
   "cell_type": "markdown",
   "id": "7de6e263-4139-4501-b68c-3064a353ae79",
   "metadata": {
    "id": "cfe3b8cf-0707-4512-92e7-c1407bb3f73b"
   },
   "source": [
    "Para cada campo del dataset original (*)\n",
    "se crean lo siguientes campos de a partir de la historia\n",
    "* lag1  lags de orden 1\n",
    "* delta1  =  valor actual - lag1\n",
    "* lag2  lags de orden 2\n",
    "* delta2  = valor actual - lag2\n",
    "\n",
    "\n",
    "(*) Excepto para los campos  <numero_de_cliente,  foto_mes,  clase_ternaria>"
   ]
  },
  {
   "cell_type": "code",
   "execution_count": null,
   "id": "1b1cc192-6bce-40fb-840a-d4e5f3a49ba1",
   "metadata": {
    "id": "7850b948-827d-4a2a-b4d3-a5e459b47c11",
    "vscode": {
     "languageId": "r"
    }
   },
   "outputs": [],
   "source": [
    "# Feature Engineering Historico\n",
    "\n",
    "# todo es lagueable, menos la primary key y la clase\n",
    "cols_lagueables <- copy( setdiff(\n",
    "    colnames(dataset),\n",
    "    c(\"numero_de_cliente\", \"foto_mes\", \"clase_ternaria\")\n",
    ") )\n",
    "\n",
    "# https://rdrr.io/cran/data.table/man/shift.html\n",
    "\n",
    "# lags de orden 1\n",
    "dataset[,\n",
    "    paste0(cols_lagueables, \"_lag1\") := shift(.SD, 1, NA, \"lag\"),\n",
    "    by = numero_de_cliente,\n",
    "    .SDcols = cols_lagueables\n",
    "]\n",
    "\n",
    "# lags de orden 2\n",
    "dataset[,\n",
    "    paste0(cols_lagueables, \"_lag2\") := shift(.SD, 2, NA, \"lag\"),\n",
    "    by = numero_de_cliente,\n",
    "    .SDcols = cols_lagueables\n",
    "]\n",
    "\n",
    "# agrego los delta lags\n",
    "for (vcol in cols_lagueables)\n",
    "{\n",
    "    dataset[, paste0(vcol, \"_delta1\") := get(vcol) - get(paste0(vcol, \"_lag1\"))]\n",
    "    dataset[, paste0(vcol, \"_delta2\") := get(vcol) - get(paste0(vcol, \"_lag2\"))]\n",
    "}\n"
   ]
  },
  {
   "cell_type": "markdown",
   "id": "fc85b867-cb56-4a5a-a441-dc81145a409b",
   "metadata": {
    "id": "cea690d9-ece9-4852-a5e2-f337c31b6721"
   },
   "source": [
    "Verificacion de los campos recien creados"
   ]
  },
  {
   "cell_type": "code",
   "execution_count": null,
   "id": "6194ff97-570a-4b11-845c-d5685d7e13df",
   "metadata": {
    "colab": {
     "base_uri": "https://localhost:8080/",
     "height": 920
    },
    "id": "f772896b-595a-47d4-8905-c15304ac9452",
    "outputId": "a428e15c-4059-4f40-8bd9-0873e1a431a4",
    "vscode": {
     "languageId": "r"
    }
   },
   "outputs": [],
   "source": [
    "ncol(dataset)\n",
    "colnames(dataset)"
   ]
  },
  {
   "cell_type": "markdown",
   "id": "aef04d71-c10e-405f-872a-68b5c83a851f",
   "metadata": {
    "id": "20a2003c-447b-44b0-8455-2330d2e2a21f"
   },
   "source": [
    "#### 9.7.1.5  FE_rf Feature Engineering de nuevas variables a partir de hojas de Random Forest\n",
    "\n"
   ]
  },
  {
   "cell_type": "code",
   "execution_count": null,
   "id": "e7337982-0150-42e3-9bce-6f5a9c91d430",
   "metadata": {
    "colab": {
     "base_uri": "https://localhost:8080/"
    },
    "id": "e2400841-c254-4330-8f1c-90cc3b8a96c2",
    "outputId": "b370f13a-ad5b-41bc-cccc-fb87c399b6d6",
    "vscode": {
     "languageId": "r"
    }
   },
   "outputs": [],
   "source": [
    "if( !require(\"lightgbm\")) install.packages(\"lightgbm\")\n",
    "require(\"lightgbm\")\n"
   ]
  },
  {
   "cell_type": "code",
   "execution_count": null,
   "id": "0f08c4a3-07a9-4999-a5ce-e79f626b659d",
   "metadata": {
    "vscode": {
     "languageId": "r"
    }
   },
   "outputs": [],
   "source": [
    "PARAM$FE_rf$arbolitos= 20\n",
    "PARAM$FE_rf$hojas_por_arbol= 16\n",
    "PARAM$FE_rf$datos_por_hoja= 100\n",
    "PARAM$FE_rf$mtry_ratio= 0.2\n",
    "\n",
    "# Estos son quasi fijos\n",
    "PARAM$FE_rf$train$clase01_valor1 <- c( \"BAJA+2\", \"BAJA+1\")\n",
    "PARAM$FE_rf$train$training <- c( 202101, 202102, 202103)\n",
    "\n",
    "# Estos TAMBIEN son quasi fijos\n",
    "PARAM$FE_rf$lgb_param <-list(\n",
    "    # parametros que se pueden cambiar\n",
    "    num_iterations = PARAM$FE_rf$arbolitos,\n",
    "    num_leaves  = PARAM$FE_rf$hojas_por_arbol,\n",
    "    min_data_in_leaf = PARAM$FE_rf$datos_por_hoja,\n",
    "    feature_fraction_bynode  = PARAM$FE_rf$mtry_ratio,\n",
    "\n",
    "    # para que LightGBM emule Random Forest\n",
    "    boosting = \"rf\",\n",
    "    bagging_fraction = ( 1.0 - 1.0/exp(1.0) ),\n",
    "    bagging_freq = 1.0,\n",
    "    feature_fraction = 1.0,\n",
    "\n",
    "    # genericos de LightGBM\n",
    "    max_bin = 31L,\n",
    "    objective = \"binary\",\n",
    "    first_metric_only = TRUE,\n",
    "    boost_from_average = TRUE,\n",
    "    feature_pre_filter = FALSE,\n",
    "    force_row_wise = TRUE,\n",
    "    verbosity = -100,\n",
    "    max_depth = -1L,\n",
    "    min_gain_to_split = 0.0,\n",
    "    min_sum_hessian_in_leaf = 0.001,\n",
    "    lambda_l1 = 0.0,\n",
    "    lambda_l2 = 0.0,\n",
    "\n",
    "    pos_bagging_fraction = 1.0,\n",
    "    neg_bagging_fraction = 1.0,\n",
    "    is_unbalance = FALSE,\n",
    "    scale_pos_weight = 1.0,\n",
    "\n",
    "    drop_rate = 0.1,\n",
    "    max_drop = 50,\n",
    "    skip_drop = 0.5,\n",
    "\n",
    "    extra_trees = FALSE\n",
    "  )"
   ]
  },
  {
   "cell_type": "code",
   "execution_count": null,
   "id": "b83c9fa0-b3a2-4b32-b00b-edd5e1ccb6c1",
   "metadata": {
    "id": "ad7d25ae-442a-4c3d-86ff-c1fa0c9fa8a5",
    "vscode": {
     "languageId": "r"
    }
   },
   "outputs": [],
   "source": [
    "AgregaVarRandomForest <- function() {\n",
    "\n",
    "  cat( \"inicio AgregaVarRandomForest()\\n\")\n",
    "  gc(verbose= FALSE)\n",
    "  dataset[, clase01 := 0L ]\n",
    "  dataset[ clase_ternaria %in% PARAM$FE_rf$train$clase01_valor1,\n",
    "      clase01 := 1L ]\n",
    "\n",
    "  campos_buenos <- setdiff(\n",
    "    colnames(dataset),\n",
    "    c( \"clase_ternaria\", \"clase01\")\n",
    "  )\n",
    "\n",
    "  dataset[, entrenamiento :=\n",
    "    as.integer( foto_mes %in% PARAM$FE_rf$train$training )]\n",
    "\n",
    "  dtrain <- lgb.Dataset(\n",
    "    data = data.matrix(dataset[entrenamiento == TRUE, campos_buenos, with = FALSE]),\n",
    "    label = dataset[entrenamiento == TRUE, clase01],\n",
    "    free_raw_data = FALSE\n",
    "  )\n",
    "\n",
    "  modelo <- lgb.train(\n",
    "     data = dtrain,\n",
    "     param = PARAM$FE_rf$lgb_param,\n",
    "     verbose = -100\n",
    "  )\n",
    "\n",
    "  cat( \"Fin construccion RandomForest\\n\" )\n",
    "  add_log( \"Fin construccion RandomForest\\n\" )\n",
    "  # grabo el modelo, achivo .model\n",
    "  lgb.save(modelo, file=\"modelo.model\" )\n",
    "\n",
    "  qarbolitos <- copy(PARAM$FE_rf$lgb_param$num_iterations)\n",
    "\n",
    "  periodos <- dataset[ , unique( foto_mes ) ]\n",
    "\n",
    "  for( periodo in  periodos )\n",
    "  {\n",
    "    cat( \"periodo = \", periodo, \"\\n\" )\n",
    "    datamatrix <- data.matrix(dataset[ foto_mes== periodo, campos_buenos, with = FALSE])\n",
    "\n",
    "    cat( \"Inicio prediccion\\n\" )\n",
    "    prediccion <- predict(\n",
    "        modelo,\n",
    "        datamatrix,\n",
    "        type = \"leaf\"\n",
    "    )\n",
    "    cat( \"Fin prediccion\\n\" )\n",
    "\n",
    "    for( arbolito in 1:qarbolitos )\n",
    "    {\n",
    "       cat( arbolito, \" \" )\n",
    "       hojas_arbol <- unique(prediccion[ , arbolito])\n",
    "\n",
    "       for (pos in 1:length(hojas_arbol)) {\n",
    "         # el numero de nodo de la hoja, estan salteados\n",
    "         nodo_id <- hojas_arbol[pos]\n",
    "         dataset[ foto_mes== periodo, paste0(\n",
    "            \"rf_\", sprintf(\"%03d\", arbolito),\n",
    "             \"_\", sprintf(\"%03d\", nodo_id)\n",
    "          ) :=  as.integer( nodo_id == prediccion[ , arbolito]) ]\n",
    "\n",
    "       }\n",
    "\n",
    "       rm( hojas_arbol )\n",
    "    }\n",
    "    cat( \"\\n\" )\n",
    "\n",
    "    rm( prediccion )\n",
    "    rm( datamatrix )\n",
    "    gc(verbose= FALSE)\n",
    "  }\n",
    "\n",
    "  gc(verbose= FALSE)\n",
    "\n",
    "  # borro clase01 , no debe ensuciar el dataset\n",
    "  dataset[ , clase01 := NULL ]\n",
    "\n",
    "}\n",
    "AgregaVarRandomForest()"
   ]
  },
  {
   "cell_type": "markdown",
   "id": "1f3a0403-f5bf-4d53-9f57-1d122e99cc5d",
   "metadata": {
    "id": "c7182958-a445-49f2-b60d-3564f853e9ef"
   },
   "source": [
    "#### 9.7.1.6  FEhist Reduccion dimensionalidad con canaritos\n",
    "\n",
    "Esta etapa solo se mostrará a la *modalidad Anlista Sr*"
   ]
  },
  {
   "cell_type": "markdown",
   "id": "77559df9-ea34-4c32-ace9-33998b2e0e9e",
   "metadata": {
    "id": "5a4c6aa3-eea2-496f-9905-2b85c73b83d0"
   },
   "source": [
    "El objetivo de esta etapa NO es mejorar el modelo predictivo"
   ]
  },
  {
   "cell_type": "markdown",
   "id": "cecb797a-5e58-4237-bf39-607b5bdd8ee3",
   "metadata": {
    "id": "0f7882ad-1c71-4f5e-afa3-b7d4e40c7056"
   },
   "source": [
    "El objetivo es eliminar campos poco importantes para hacer espacio a nuevos campos, debido a las restricciones de memoria RAM."
   ]
  },
  {
   "cell_type": "code",
   "execution_count": null,
   "id": "031fd2d4-a02c-45fc-acb6-123c4c91ccda",
   "metadata": {
    "id": "2dd646c3-d58f-4efa-9f56-917c235f1f16",
    "vscode": {
     "languageId": "r"
    }
   },
   "outputs": [],
   "source": [
    "VPOS_CORTE <- c()\n",
    "\n",
    "fganancia_lgbm_meseta <- function(probs, datos) {\n",
    "  vlabels <- get_field(datos, \"label\")\n",
    "  vpesos <- get_field(datos, \"weight\")\n",
    "\n",
    "  tbl <- as.data.table(list(\n",
    "    \"prob\" = probs,\n",
    "    \"gan\" = ifelse(vlabels == 1 & vpesos > 1, PARAM$CN$train$gan1, PARAM$CN$train$gan0)\n",
    "  ))\n",
    "\n",
    "  setorder(tbl, -prob)\n",
    "  tbl[, posicion := .I]\n",
    "  tbl[, gan_acum := cumsum(gan)]\n",
    "  setorder(tbl, -gan_acum) # voy por la meseta\n",
    "\n",
    "  gan <- mean(tbl[1:500, gan_acum]) # meseta de tamaño 500\n",
    "\n",
    "  pos_meseta <- tbl[1:500, median(posicion)]\n",
    "  VPOS_CORTE <<- c(VPOS_CORTE, pos_meseta)\n",
    "\n",
    "  return(list(\n",
    "    \"name\" = \"ganancia\",\n",
    "    \"value\" = gan,\n",
    "    \"higher_better\" = TRUE\n",
    "  ))\n",
    "}\n"
   ]
  },
  {
   "cell_type": "code",
   "execution_count": null,
   "id": "1db8df62-d052-445e-8821-bbe9528c69a9",
   "metadata": {
    "id": "8196a247-f280-4c93-b509-5c0e54cab645",
    "vscode": {
     "languageId": "r"
    }
   },
   "outputs": [],
   "source": [
    "# Elimina del dataset las variables que estan por debajo\n",
    "#  de la capa geologica de canaritos\n",
    "# se llama varias veces, luego de agregar muchas variables nuevas,\n",
    "#  para ir reduciendo la cantidad de variables\n",
    "# y así hacer lugar a nuevas variables importantes\n",
    "\n",
    "GVEZ <- 1\n",
    "\n",
    "campitos <- c( \"numero_de_cliente\", \"foto_mes\", \"clase_ternaria\" )\n",
    "\n",
    "CanaritosAsesinos <- function(\n",
    "  canaritos_ratio,\n",
    "  canaritos_desvios,\n",
    "  canaritos_semilla) {\n",
    "\n",
    "  cat( \"inicio CanaritosAsesinos()\\n\")\n",
    "  add_log( \"inicio CanaritosAsesinos()\\n\")\n",
    "  gc(verbose= FALSE)\n",
    "  dataset[, clase01 := 0L ]\n",
    "  dataset[ clase_ternaria %in% PARAM$CN$train$clase01_valor1,\n",
    "      clase01 := 1L ]\n",
    "\n",
    "  set.seed(canaritos_semilla, kind = \"L'Ecuyer-CMRG\")\n",
    "  for (i in 1:(ncol(dataset) * canaritos_ratio)) {\n",
    "    dataset[, paste0(\"canarito\", i) := runif(nrow(dataset))]\n",
    "  }\n",
    "\n",
    "  campos_buenos <- setdiff(\n",
    "    colnames(dataset),\n",
    "    c( campitos, \"clase01\")\n",
    "  )\n",
    "\n",
    "  azar <- runif(nrow(dataset))\n",
    "\n",
    "  dataset[, entrenamiento :=\n",
    "    as.integer( foto_mes %in% PARAM$CN$train$training &\n",
    "      (clase01 == 1 | azar < PARAM$CN$train$undersampling))]\n",
    "\n",
    "  dtrain <- lgb.Dataset(\n",
    "    data = data.matrix(dataset[entrenamiento == TRUE, campos_buenos, with = FALSE]),\n",
    "    label = dataset[entrenamiento == TRUE, clase01],\n",
    "    weight = dataset[\n",
    "      entrenamiento == TRUE,\n",
    "      ifelse(clase_ternaria %in% PARAM$CN$train$positivos, 1.0000001, 1.0)\n",
    "    ],\n",
    "    free_raw_data = FALSE\n",
    "  )\n",
    "\n",
    "  dvalid <- lgb.Dataset(\n",
    "    data = data.matrix(dataset[foto_mes %in% PARAM$CN$train$validation, campos_buenos, with = FALSE]),\n",
    "    label = dataset[foto_mes %in% PARAM$CN$train$validation, clase01],\n",
    "    weight = dataset[\n",
    "      foto_mes %in% PARAM$CN$train$validation,\n",
    "      ifelse( clase_ternaria %in% PARAM$CN$train$positivos, 1.0000001, 1.0)\n",
    "    ],\n",
    "    free_raw_data = FALSE\n",
    "  )\n",
    "\n",
    "\n",
    "  param <- list(\n",
    "    objective = \"binary\",\n",
    "    metric = \"custom\",\n",
    "    first_metric_only = TRUE,\n",
    "    boost_from_average = TRUE,\n",
    "    feature_pre_filter = FALSE,\n",
    "    verbosity = -100,\n",
    "    seed = canaritos_semilla,\n",
    "    max_depth = -1, # -1 significa no limitar,  por ahora lo dejo fijo\n",
    "    min_gain_to_split = 0.0, # por ahora, lo dejo fijo\n",
    "    lambda_l1 = 0.0, # por ahora, lo dejo fijo\n",
    "    lambda_l2 = 0.0, # por ahora, lo dejo fijo\n",
    "    max_bin = 31, # por ahora, lo dejo fijo\n",
    "    num_iterations = 9999, # un numero grande, lo limita early_stopping_rounds\n",
    "    force_row_wise = TRUE, # para que los alumnos no se atemoricen con  warning\n",
    "    learning_rate = 0.065,\n",
    "    feature_fraction = 1.0, # lo seteo en 1\n",
    "    min_data_in_leaf = 260,\n",
    "    num_leaves = 60,\n",
    "    early_stopping_rounds = 200,\n",
    "    num_threads = 1\n",
    "  )\n",
    "\n",
    "  set.seed(canaritos_semilla, kind = \"L'Ecuyer-CMRG\")\n",
    "  modelo <- lgb.train(\n",
    "    data = dtrain,\n",
    "    valids = list(valid = dvalid),\n",
    "    eval = fganancia_lgbm_meseta,\n",
    "    param = param,\n",
    "    verbose = -100\n",
    "  )\n",
    "\n",
    "  tb_importancia <- lgb.importance(model = modelo)\n",
    "  tb_importancia[, pos := .I]\n",
    "\n",
    "  fwrite(tb_importancia,\n",
    "    file = paste0(\"impo_\", GVEZ, \".txt\"),\n",
    "    sep = \"\\t\"\n",
    "  )\n",
    "\n",
    "  GVEZ <<- GVEZ + 1\n",
    "\n",
    "  umbral <- tb_importancia[\n",
    "    Feature %like% \"canarito\",\n",
    "    median(pos) + canaritos_desvios * sd(pos)\n",
    "  ] # Atencion corto en la mediana mas desvios!!\n",
    "\n",
    "  col_utiles <- tb_importancia[\n",
    "    pos < umbral & !(Feature %like% \"canarito\"),\n",
    "    Feature\n",
    "  ]\n",
    "\n",
    "  col_utiles <- unique(c(\n",
    "    col_utiles,\n",
    "    c(campitos, \"mes\")\n",
    "  ))\n",
    "\n",
    "  col_inutiles <- setdiff(colnames(dataset), col_utiles)\n",
    "\n",
    "  dataset[, (col_inutiles) := NULL]\n",
    "\n",
    "  cat( \"fin CanaritosAsesinos()\\n\")\n",
    "  add_log( \"fin CanaritosAsesinos()\\n\")\n",
    "\n",
    "  return( tb_importancia )\n",
    "}\n"
   ]
  },
  {
   "cell_type": "code",
   "execution_count": null,
   "id": "d843215a-f68f-4438-b083-7815228f257d",
   "metadata": {
    "id": "9249a815-315c-4695-9f2f-bae196697f70",
    "vscode": {
     "languageId": "r"
    }
   },
   "outputs": [],
   "source": [
    "# Estos DOS parametros son los que se deben modificar\n",
    "PARAM$CN$ratio <- 0.2\n",
    "PARAM$CN$desvios <- 2\n",
    "\n",
    "\n",
    "# Parametros quasi fijos\n",
    "# Parametros de un LightGBM que se genera para estimar la column importance\n",
    "PARAM$CN$train$clase01_valor1 <- c( \"BAJA+2\", \"BAJA+1\")\n",
    "PARAM$CN$train$positivos <- c( \"BAJA+2\")\n",
    "PARAM$CN$train$training <- c( 202101, 202102, 202103)\n",
    "PARAM$CN$train$validation <- c( 202105 )\n",
    "PARAM$CN$train$undersampling <- 0.1\n",
    "PARAM$CN$train$gan1 <- 117000\n",
    "PARAM$CN$train$gan0 <-  -3000"
   ]
  },
  {
   "cell_type": "code",
   "execution_count": null,
   "id": "ef94f21a-f5e2-42b1-8b2c-fbbcd80b7830",
   "metadata": {
    "id": "6325e48b-e98f-457e-b099-2dafb9a50101",
    "outputId": "3b0d9beb-c2a1-425a-a62c-e16fcbf0e2cc",
    "vscode": {
     "languageId": "r"
    }
   },
   "outputs": [],
   "source": [
    "# la llamada a Canaritos Asesinos\n",
    "tb_importancia <- CanaritosAsesinos(\n",
    "  canaritos_ratio = PARAM$CN$ratio,\n",
    "  canaritos_desvios = PARAM$CN$desvios,\n",
    "  canaritos_semilla = PARAM$semilla_primigenia\n",
    ")\n"
   ]
  },
  {
   "cell_type": "code",
   "execution_count": null,
   "id": "fef47ab6-492e-4961-8cb5-ea2754d49701",
   "metadata": {
    "id": "25cc7c43-3515-4035-8d21-8c8469c010a1",
    "vscode": {
     "languageId": "r"
    }
   },
   "outputs": [],
   "source": [
    "# grabo la importancia, ver el archivo directamente en la carpeta\n",
    "\n",
    "fwrite( tb_importancia,\n",
    "  file=\"canaritos.txt\",\n",
    "  sep=\"\\t\"\n",
    ")"
   ]
  },
  {
   "cell_type": "code",
   "execution_count": null,
   "id": "fde162d4-2328-4550-a04d-b1c4fd2ae1fa",
   "metadata": {
    "id": "24084927-88df-497b-9437-769400f4229b",
    "outputId": "a4d615c6-0101-4252-8255-2afc89fb6533",
    "vscode": {
     "languageId": "r"
    }
   },
   "outputs": [],
   "source": [
    "# verifico\n",
    "ncol(dataset)\n",
    "colnames(dataset)\n",
    "\n"
   ]
  },
  {
   "cell_type": "markdown",
   "id": "bae3964f-ec70-4dac-91d3-944b061367f0",
   "metadata": {
    "id": "e2d3d60e-9934-4aab-befe-5c0009148abb"
   },
   "source": [
    "# Genetic Algorithm"
   ]
  },
  {
   "cell_type": "code",
   "execution_count": null,
   "id": "066960f5-c728-450b-a8cc-887df9e117b6",
   "metadata": {
    "id": "30319ea3-8818-4e30-9eb7-ddc651c4a324",
    "outputId": "c81b9163-65e0-43ac-a675-63b85bc74f0d",
    "scrolled": true,
    "vscode": {
     "languageId": "r"
    }
   },
   "outputs": [],
   "source": [
    "# Install and load required packages\n",
    "if (!require(\"GA\")) install.packages(\"GA\")\n",
    "if( !require(\"gramEvol\")) install.packages(\"gramEvol\")\n",
    "if( !require(\"stringr\")) install.packages(\"stringr\")\n",
    "\n",
    "library(GA)\n",
    "require(\"gramEvol\")\n",
    "library(stringr)\n"
   ]
  },
  {
   "cell_type": "code",
   "execution_count": null,
   "id": "e5cfa7c9-9419-4a44-9c1f-fa5dd595db44",
   "metadata": {
    "vscode": {
     "languageId": "r"
    }
   },
   "outputs": [],
   "source": [
    "PARAM$FE_GENALG$generations <- 100\n",
    "PARAM$FE_GENALG$population <- 200\n",
    "PARAM$FE_GENALG$new_variables <- 25\n",
    "PARAM$FE_GENALG$max_depth <- 7\n",
    "\n",
    "\n"
   ]
  },
  {
   "cell_type": "code",
   "execution_count": null,
   "id": "00197881-9e16-49d0-b679-94c6bfca0d05",
   "metadata": {
    "id": "173bd02b-fd0b-4ebe-90c3-9278e14ab6be",
    "outputId": "9da2f5b1-3fda-4b46-ae85-0a13356cc1e9",
    "vscode": {
     "languageId": "r"
    }
   },
   "outputs": [],
   "source": [
    "is_bool_column <- function(columname) {\n",
    "    tryCatch({\n",
    "      if (class(max(dataset[[columname]])) %in% c('numeric', 'integer')){\n",
    "      maxx = max(dataset[[columname]])\n",
    "      minn = min(dataset[[columname]])\n",
    "      return ((maxx - minn) == 1)\n",
    "} else{\n",
    "          return (FALSE)\n",
    "  }\n",
    "}, error = function(e){\n",
    "        FALSE\n",
    "})}\n",
    "\n",
    "get_non_bool_cols <- function(dataset) {\n",
    "  all_cols <- names(dataset)\n",
    "  bool_cols <- sapply(all_cols, function(col) is_bool_column(dataset, col))\n",
    "  return(all_cols[!bool_cols])\n",
    "}\n",
    "\n",
    "campos_a_omitir = c('numero_de_cliente','foto_mes','azar','clase_ternaria')\n",
    "campos_monetarios <- colnames(dataset)\n",
    "campos_rf <- colnames(dataset)\n",
    "campos_lag <- colnames(dataset)\n",
    "campos_int <- colnames(dataset)\n",
    "\n",
    "actualizar_campos = function(){\n",
    "    campos_monetarios <- colnames(dataset)\n",
    "    campos_rf <- colnames(dataset)\n",
    "    campos_int <- colnames(dataset)\n",
    "    campos_lag <- colnames(dataset)\n",
    "    campos_monetarios  <<- campos_monetarios[campos_monetarios %like%\n",
    "      \"^(m|Visa_m|Master_m|vm_m)\"]\n",
    "\n",
    "    campos_rf <<- campos_rf[campos_rf %like%\n",
    "      \"^rf\"]\n",
    "    campos_lag <<- campos_lag[campos_lag %like%\n",
    "      \"(lag|delta).$\"]\n",
    "    campos_lag <- campos_lag[!campos_lag %in% campos_monetarios]\n",
    "\n",
    "    campos_int <<- campos_int[!campos_int %in% c(campos_a_omitir, campos_monetarios, campos_lag, campos_rf)]\n",
    "    campos_int <<- campos_int[!sapply(campos_int,is_bool_column)]\n",
    "    campos_int <<- na.omit(campos_int)\n",
    "    }\n",
    "actualizar_campos()\n"
   ]
  },
  {
   "cell_type": "markdown",
   "id": "f6c8d5f9-cd97-437a-b72e-4dcd66a7769b",
   "metadata": {
    "id": "208399ac-efc6-4327-9229-809b5eb9f51a"
   },
   "source": [
    "### GA Test"
   ]
  },
  {
   "cell_type": "code",
   "execution_count": null,
   "id": "960a57f4-edc2-4d28-abb4-1f1f0b837614",
   "metadata": {
    "id": "91061886-74c4-42c3-93b7-927100cbff49",
    "vscode": {
     "languageId": "r"
    }
   },
   "outputs": [],
   "source": [
    "safeEval <- function(expr) {\n",
    "  val <- try(eval(parse(text = expr), envir = dataset), silent = TRUE)\n",
    "  #if (inherits(val, \"try-error\") || any(is.nan(val)) || any(is.infinite(val))) {\n",
    "  #  return(rep(NA, nrow(df)))\n",
    "  #}\n",
    "  val\n",
    "}\n",
    "count_operators <- function(expr) {\n",
    "  text <- paste(deparse(expr), collapse = \" \")  # Combine multiple lines\n",
    "  str_count(text, \"\\\\+|-|/|\\\\*\")\n",
    "}\n",
    "\n",
    "clean_column_name_base <- function(expr_str) {\n",
    "  txt <- as.character(parse(text = expr_str))\n",
    "  txt <- gsub(\"dataset|\\\\[|\\\\]|\\\"\", \"\", txt)\n",
    "  txt <- gsub(\",\\\\s*\", \"\", txt)\n",
    "  trimws(txt)\n",
    "}\n"
   ]
  },
  {
   "cell_type": "code",
   "execution_count": null,
   "id": "554de856-c0fe-4c93-a1e7-d148adc8eca8",
   "metadata": {},
   "outputs": [],
   "source": [
    "fitness_function <- function(expr) {\n",
    "  feat <- safeEval(expr)\n",
    "  #  print(feat)\n",
    "  #if (!is.numeric(feat) || all(is.na(feat))) return(2)\n",
    "\n",
    "  d <- data.frame(y = dataset$clase01, x = feat)\n",
    "  colnames(d) = c('y','x')\n",
    "  #d <- d[complete.cases(d), ]\n",
    "  if (length(unique(d$y)) < 2) return(3)\n",
    "\n",
    "  dtrain <- lgb.Dataset(data.matrix(d[\"x\"]), label = d$y)\n",
    "\n",
    "  idx <- sample(seq_len(nrow(d)), size = floor(0.2 * nrow(d)))\n",
    "    dvalid <- lgb.Dataset(data.matrix(d[idx, \"x\", drop=FALSE]),\n",
    "                          label = d$y[idx])\n",
    "\n",
    "    valids <- list(valid = dvalid)\n",
    "\n",
    "    model <- lgb.train(\n",
    "      params = list(\n",
    "        objective = \"binary\",\n",
    "        metric = \"auc\",\n",
    "        is_unbalance = TRUE,\n",
    "        verbosity = -1,\n",
    "      min_data_in_leaf = 5,\n",
    "      num_leaves = 15\n",
    "      ),\n",
    "      data = dtrain,\n",
    "      nrounds = 20,\n",
    "      valids = valids,\n",
    "      record = TRUE\n",
    "    )\n",
    "\n",
    "    1- tail(unlist(model$record_evals$valid$auc$eval), 1)\n",
    "}\n"
   ]
  },
  {
   "cell_type": "code",
   "execution_count": null,
   "id": "171cd702-0b46-4c1b-8da6-406dd2b1ed86",
   "metadata": {
    "colab": {
     "base_uri": "https://localhost:8080/",
     "height": 393
    },
    "id": "faa52a34-9dc8-4bb8-b3a5-e968d4e2dd6a",
    "outputId": "e7c034c1-0573-48d4-e83d-a9f5d8e150af",
    "vscode": {
     "languageId": "r"
    }
   },
   "outputs": [],
   "source": [
    "grammarDef <- CreateGrammar(list(\n",
    "  expr = gsrule(\n",
    "      \"dataset[,<m_var>]/dataset[,<m_var>]\",\n",
    "      \"dataset[,<m_var>]/dataset[,<i_var>]\",\n",
    "      \"dataset[,<m_var>]/dataset[,<l_var>]\",\n",
    "      \"dataset[,<m_var>]+dataset[,<l_var>]\",\n",
    "      \"dataset[,<m_var>]-dataset[,<l_var>]\",\n",
    "      \"dataset[,<l_var>]/dataset[,<m_var>]\",\n",
    "      \"dataset[,<l_var>]/dataset[,<i_var>]\",\n",
    "      \"dataset[,<l_var>]/dataset[,<l_var>]\",\n",
    "      \"dataset[,<l_var>]+dataset[,<l_var>]\",\n",
    "      \"dataset[,<l_var>]-dataset[,<l_var>]\",\n",
    "      \"dataset[,<i_var>]/dataset[,<i_var>]\",\n",
    "      \"dataset[,<i_var>]*dataset[,<i_var>]\",\n",
    "      \"dataset[,<rf_var>]+dataset[,<rf_var>]\"\n",
    "      ),\n",
    "  m_var  = gvrule(setdiff(campos_monetarios,c(\"clase_ternaria\",\"clase01\",\"foto_mes\",'azar'))),\n",
    "  i_var  = gvrule(setdiff(campos_int,c(\"clase_ternaria\",\"clase01\",\"foto_mes\",'azar'))),\n",
    "  l_var  = gvrule(setdiff(campos_lag,c(\"clase_ternaria\",\"clase01\",\"foto_mes\",'azar'))),\n",
    "  rf_var  = gvrule(setdiff(campos_rf,c(\"clase_ternaria\",\"clase01\",\"foto_mes\",'azar')))\n",
    "  )\n",
    ")"
   ]
  },
  {
   "cell_type": "code",
   "execution_count": null,
   "id": "754c9e60-77db-465b-9447-b5e8c59f867b",
   "metadata": {
    "vscode": {
     "languageId": "r"
    }
   },
   "outputs": [],
   "source": [
    "agregarVariablesGeneticas <- function(){\n",
    "    dataset[, clase01 := ifelse( clase_ternaria %in% c(\"BAJA+1\",\"BAJA+2\"), 1, 0 )]\n",
    "\n",
    "    for (var in 1:PARAM$FE_GENALG$new_variables){\n",
    "        actualizar_campos()\n",
    "        ge_result <- GrammaticalEvolution(\n",
    "          grammarDef,\n",
    "          fitness_function,\n",
    "          terminationCost = 0.7,\n",
    "          max.depth = PARAM$FE_GENALG$max_depth,\n",
    "          iterations = PARAM$FE_GENALG$generations,\n",
    "          popSize = PARAM$FE_GENALG$population,\n",
    "        )\n",
    "\n",
    "        best_expr <- ge_result$best$expression\n",
    "        best_fitness <- ge_result$best$cost\n",
    "        # generamos la columna nueva\n",
    "        new_feature <- eval(parse(text = best_expr))\n",
    "        coln = clean_column_name_base(parse(text=best_expr))\n",
    "        colnames(new_feature) = c(coln)\n",
    "        add_log(paste0(coln,\",\",best_fitness), file='genvars.txt')\n",
    "        dataset <<- cbind(dataset,new_feature)\n",
    "}\n",
    "    dataset[, clase01 := NULL]\n",
    "}"
   ]
  },
  {
   "cell_type": "code",
   "execution_count": null,
   "id": "4b88361e-6569-44f5-8b38-a965d70a86f1",
   "metadata": {
    "scrolled": true,
    "vscode": {
     "languageId": "r"
    }
   },
   "outputs": [],
   "source": [
    "agregarVariablesGeneticas()\n"
   ]
  },
  {
   "cell_type": "code",
   "execution_count": null,
   "id": "853de05f-62e3-45d5-8481-dc5556a42c1c",
   "metadata": {
    "colab": {
     "base_uri": "https://localhost:8080/"
    },
    "id": "fc77eb97-1714-4d09-b779-40910f308deb",
    "outputId": "adfca225-e36e-4b50-c644-a199bf31af28",
    "vscode": {
     "languageId": "r"
    }
   },
   "outputs": [],
   "source": [
    "tb_importancia_gen <- CanaritosAsesinos(\n",
    "  canaritos_ratio = PARAM$CN$ratio,\n",
    "  canaritos_desvios = PARAM$CN$desvios,\n",
    "  canaritos_semilla = PARAM$semilla_primigenia\n",
    ")\n",
    "tb_importancia_gen"
   ]
  },
  {
   "cell_type": "code",
   "execution_count": null,
   "id": "0b30d0ac-c6f4-4ea8-8fc9-463244324df4",
   "metadata": {},
   "outputs": [],
   "source": [
    "head(dataset)"
   ]
  },
  {
   "cell_type": "markdown",
   "id": "cf91ea5e-3341-4afb-8d05-cc4923d3d1e1",
   "metadata": {
    "id": "cf91ea5e-3341-4afb-8d05-cc4923d3d1e1"
   },
   "source": [
    "### 6.3.2 Modelado"
   ]
  },
  {
   "cell_type": "markdown",
   "id": "526048e4-8cf2-4023-bd2d-a70e4e9ff157",
   "metadata": {
    "id": "526048e4-8cf2-4023-bd2d-a70e4e9ff157"
   },
   "source": [
    "#### 6.3.2.1 Training Strategy\n",
    "\n",
    "Esta etapa de Workflow de  Training Strategy esta pensada para la *Modalidad Gerencial* que posee el dataset de [202005, 202109]\n",
    "<br> Si usted es un Analista, posee el periodo de [201901, 202109] y deberá experimentar en que meses le conviene experimentar\n",
    "\n",
    "<br> A la *Modalidad Gerencial* no se le complicada la vida con el undersampling de los continua, por eso PARAM$trainingstrategy$training_pct <- 1.0\n",
    "<br> Sin embargo, si usted es  *Analista SR* posee un dataset 50 veces ( filas x columnas) más grande que la *Modalidad Gerencial*  y por un tema de velocidad y experimentación más rápida puede llegar a necesitar activar el undersampling de la clase mayoritaria, a pesar de estar corriendo en Google Cloud."
   ]
  },
  {
   "cell_type": "markdown",
   "id": "f16bc1c1-b3ea-43ca-9d3c-53f8f9ab8ec1",
   "metadata": {
    "id": "f16bc1c1-b3ea-43ca-9d3c-53f8f9ab8ec1"
   },
   "source": [
    "Se hace una estrategia de entrenamiento muy sencilla, tomando todos los meses posibles, SIN eliminar nada x pandemia ni por ningun otro motivo\n",
    "\n",
    "* future = 202109  obviamente completo\n",
    "\n",
    "* final_train =  [ 202005, 202107 ]  SIN undersampling\n",
    "\n",
    "* training\n",
    "   * testing = NO HAY\n",
    "   * validation =  202107   completo, sin undersampling\n",
    "   * training = [ 202005, 202106 ]  donde se consideran el 100% de los CONTINUA"
   ]
  },
  {
   "cell_type": "code",
   "execution_count": null,
   "id": "7ea4ce85-fa73-4d83-8117-1d82008958a8",
   "metadata": {
    "id": "2c9c0a42-ba58-4264-8566-091a6161716f",
    "vscode": {
     "languageId": "r"
    }
   },
   "outputs": [],
   "source": [
    "PARAM$trainingstrategy$validate <- c(202107)\n",
    "\n",
    "PARAM$trainingstrategy$training <- c(\n",
    "  202106, 202105, 202104, 202103, 202102, 202101,\n",
    "  202012, 202011, 202010, 202009, 202008, 202007,\n",
    "  202006, 202005\n",
    ")\n",
    "\n",
    "PARAM$trainingstrategy$training_pct <- 1.0\n",
    "\n",
    "\n",
    "PARAM$trainingstrategy$positivos <- c( \"BAJA+1\", \"BAJA+2\")"
   ]
  },
  {
   "cell_type": "code",
   "execution_count": null,
   "id": "20f3f0f1-3232-481a-aaf7-f4637c393278",
   "metadata": {
    "id": "tv_trHWAj4a8",
    "vscode": {
     "languageId": "r"
    }
   },
   "outputs": [],
   "source": [
    "# seteo la clase01   1={BAJA+1, BAJA+2}   0={CONTINUA}\n",
    "dataset[, clase01 := ifelse( clase_ternaria %in% PARAM$trainingstrategy$positivos, 1, 0 )]"
   ]
  },
  {
   "cell_type": "code",
   "execution_count": null,
   "id": "071684f5-db66-4994-88f4-e2f53f595b4c",
   "metadata": {
    "id": "Ud_XDKSIj8f_",
    "vscode": {
     "languageId": "r"
    }
   },
   "outputs": [],
   "source": [
    "# los campos en los que se entrena\n",
    "campos_buenos <- copy( setdiff(\n",
    "    colnames(dataset), c(\"clase_ternaria\",\"clase01\",\"azar\"))\n",
    ")"
   ]
  },
  {
   "cell_type": "code",
   "execution_count": null,
   "id": "bf6a6958-5717-4b09-ab82-9ca2656726e3",
   "metadata": {
    "id": "rFKgZZPSj_Pa",
    "vscode": {
     "languageId": "r"
    }
   },
   "outputs": [],
   "source": [
    "# preparo para que se puede hacer undersampling de los CONTINUA\n",
    "#  solamente por un tema de VELOCIDAD\n",
    "set.seed(PARAM$semilla_primigenia, kind = \"L'Ecuyer-CMRG\")\n",
    "dataset[, azar:=runif(nrow(dataset))]\n",
    "\n",
    "# undersampling de los CONTINUA\n",
    "dataset[, fold_train :=  foto_mes %in%  PARAM$trainingstrategy$training &\n",
    "    (clase_ternaria %in% c(\"BAJA+1\", \"BAJA+2\") |\n",
    "     azar < PARAM$trainingstrategy$training_pct ) ]\n",
    "\n",
    "\n",
    "if( !require(\"lightgbm\")) install.packages(\"lightgbm\")\n",
    "require(\"lightgbm\")\n",
    "\n",
    "dtrain <- lgb.Dataset(\n",
    "  data= data.matrix(dataset[fold_train == TRUE, campos_buenos, with = FALSE]),\n",
    "  label= dataset[fold_train == TRUE, clase01],\n",
    "  free_raw_data= TRUE\n",
    ")"
   ]
  },
  {
   "cell_type": "code",
   "execution_count": null,
   "id": "eec1e105-0096-4b63-887a-0587d85efb7a",
   "metadata": {
    "id": "B3yo98kQkHcP",
    "vscode": {
     "languageId": "r"
    }
   },
   "outputs": [],
   "source": [
    "# datos de validation\n",
    "dvalidate <- lgb.Dataset(\n",
    "  data= data.matrix(dataset[foto_mes %in% PARAM$trainingstrategy$validate, campos_buenos, with = FALSE]),\n",
    "  label= dataset[foto_mes %in% PARAM$trainingstrategy$validate, clase01],\n",
    "  free_raw_data= TRUE\n",
    ")\n",
    "\n",
    "nrow(dvalidate)"
   ]
  },
  {
   "cell_type": "markdown",
   "id": "28e8f788-551c-4e50-9029-302ac0834287",
   "metadata": {
    "id": "28e8f788-551c-4e50-9029-302ac0834287"
   },
   "source": [
    "####  6.3.2.2. Hyperparameter Tuning"
   ]
  },
  {
   "cell_type": "markdown",
   "id": "bf5fc836-e222-4aeb-a6a8-157346895ef7",
   "metadata": {
    "id": "bf5fc836-e222-4aeb-a6a8-157346895ef7"
   },
   "source": [
    "* Clase binaria que se optimiza :  positivos = [ BAJA+1, BAJA+2 ]"
   ]
  },
  {
   "cell_type": "markdown",
   "id": "885c03b5-77bc-4510-a930-0d1f14b52ffb",
   "metadata": {
    "id": "885c03b5-77bc-4510-a930-0d1f14b52ffb"
   },
   "source": [
    "* Metrica que se optimiza **AUC** Area Under Curve de la  ROC Curve\n",
    "\n",
    "es muy importante notar que intencionalmente  **NO** se está optimizando la funcion de ganancia del problema"
   ]
  },
  {
   "cell_type": "markdown",
   "id": "b7e6f95c-66ef-4ab9-9ba3-fcc099816704",
   "metadata": {
    "id": "b7e6f95c-66ef-4ab9-9ba3-fcc099816704"
   },
   "source": [
    "* Cantidad de iteraciones inteligentes de la Optimizacion Bayesiana = **10**"
   ]
  },
  {
   "cell_type": "markdown",
   "id": "fe047a87-e2d0-4418-97dd-0a881e66d73a",
   "metadata": {
    "id": "fe047a87-e2d0-4418-97dd-0a881e66d73a"
   },
   "source": [
    "* Parametros no default, fijos de LightGBM que no se optimizan\n",
    "  * max_bin = 31 , Alienigenas Ancestrales contruyeron las pirámides y dejaron a la humanidad en un jeroglifico  *max_bin=31*\n",
    "  * feature_fraction = 0.5  para poner algo que generalmente no falla\n",
    "  * learning_rate = 0.03  para que aprenda lento\n"
   ]
  },
  {
   "cell_type": "markdown",
   "id": "1e7da08e-fe57-4681-beff-11fe963116bd",
   "metadata": {
    "id": "1e7da08e-fe57-4681-beff-11fe963116bd"
   },
   "source": [
    "* Parametros que se optimizan en la Bayesian Optimization\n",
    "  * num_leaves  [8, 256]\n",
    "  * min_data_in_leaf  [8, 8192]"
   ]
  },
  {
   "cell_type": "code",
   "execution_count": null,
   "id": "34V6y4GetKq_",
   "metadata": {
    "id": "34V6y4GetKq_",
    "vscode": {
     "languageId": "r"
    }
   },
   "outputs": [],
   "source": [
    "# paquetes necesarios para la Bayesian Optimization\n",
    "if(!require(\"DiceKriging\")) install.packages(\"DiceKriging\")\n",
    "require(\"DiceKriging\")\n",
    "\n",
    "if(!require(\"mlrMBO\")) install.packages(\"mlrMBO\")\n",
    "require(\"mlrMBO\")\n",
    "\n",
    "if(!require(\"primes\")) install.packages(\"primes\")\n",
    "require(\"primes\")\n"
   ]
  },
  {
   "cell_type": "markdown",
   "id": "UFbDSYtH0TTT",
   "metadata": {
    "id": "UFbDSYtH0TTT"
   },
   "source": [
    "Definición de la Bayesian Optimization\n",
    "<br> Si se desea optimizar un hiperparámetro que esta como fijo, debe QUITARSE de param_fijos y agregarse a PARAM$hipeparametertuning$hs"
   ]
  },
  {
   "cell_type": "code",
   "execution_count": null,
   "id": "6de1020a",
   "metadata": {
    "vscode": {
     "languageId": "r"
    }
   },
   "outputs": [],
   "source": [
    "PARAM$BO$semillerio <- 20  # cantidad de semillas\n",
    "primos <- generate_primes(min = 100000, max = 1000000)\n",
    "set.seed(PARAM$semilla_primigenia, kind = \"L'Ecuyer-CMRG\")\n",
    "# me quedo con PARAM$semillerio  primos al azar\n",
    "PARAM$BO$semillas <- sample(primos)[seq(PARAM$BO$semillerio)]\n",
    "\n",
    "cat( PARAM$BO$semillas)"
   ]
  },
  {
   "cell_type": "code",
   "execution_count": null,
   "id": "5Uag3XGHqrfZ",
   "metadata": {
    "id": "5Uag3XGHqrfZ",
    "vscode": {
     "languageId": "r"
    }
   },
   "outputs": [],
   "source": [
    "# valor ridiculamente bajo para que corra rapido en el aula y no molestar a la *Modalidad Gerencial*\n",
    "PARAM$hipeparametertuning$num_interations <- 100\n",
    "\n",
    "# parametros fijos del LightGBM\n",
    "PARAM$lgbm$param_fijos <- list(\n",
    "  objective= \"binary\",\n",
    "  metric= \"auc\",\n",
    "  first_metric_only= TRUE,\n",
    "  boost_from_average= TRUE,\n",
    "  feature_pre_filter= FALSE,\n",
    "  verbosity= -100,\n",
    "  force_row_wise= TRUE, # para evitar warning\n",
    "  seed= PARAM$semilla_primigenia,\n",
    "  max_bin= 31,\n",
    "  learning_rate= 0.03,\n",
    "  feature_fraction= 0.5,\n",
    "  num_iterations= 2048,  # valor grande, lo limita early_stopping_rounds\n",
    "  early_stopping_rounds= 200\n",
    ")\n",
    "\n",
    "PARAM$hipeparametertuning$hs <- makeParamSet(\n",
    "  makeIntegerParam(\"num_leaves\", lower = 12L, upper = 128L),\n",
    "  makeIntegerParam(\"min_data_in_leaf\", lower = 12L, upper = 8192L),\n",
    "  makeNumericParam(\"learning_rate\", lower = 0.001, upper = .1)\n",
    ")"
   ]
  },
  {
   "cell_type": "markdown",
   "id": "FEa1UuuAz4yj",
   "metadata": {
    "id": "FEa1UuuAz4yj"
   },
   "source": [
    "Función \"señora caja negra\"  que es llamada para verificar la realidad por la Bayesian Optimization"
   ]
  },
  {
   "cell_type": "code",
   "execution_count": 124,
   "id": "2c10f535-8d90-47d1-ac3d-9b4c24ec21d2",
   "metadata": {
    "id": "2c10f535-8d90-47d1-ac3d-9b4c24ec21d2",
    "vscode": {
     "languageId": "r"
    }
   },
   "outputs": [],
   "source": [
    "# En  x llegan los parmaetros de la bayesiana\n",
    "#  devuelve la AUC en validate del modelo entrenado\n",
    "#  en el parametro x llegan los hiperparámetros que se estan optimizando\n",
    "\n",
    "EstimarGanancia_AUC_lightgbm <- function(x) {\n",
    "\n",
    "  # x pisa (o agrega) a param_fijos\n",
    "  param_completo <- modifyList(PARAM$lgbm$param_fijos, x)\n",
    "\n",
    "  # hago la transformacion de leaf_size y  coverage\n",
    "  if( \"leaf_size\"  %in% names(param_completo) &\n",
    "      \"coverage\"  %in% names(param_completo)\n",
    "  )\n",
    "  {\n",
    "    # primero defino el tamaño de las hojas\n",
    "    param_completo$min_data_in_leaf <- pmax( 1,  round( nrow(dtrain) * param_completo$leaf_size )  )\n",
    "    # luego la cantidad de hojas en funcion del valor anterior, el coverage, y la cantidad de registros\n",
    "    param_completo$num_leaves <- pmin( 131072,\n",
    "      pmax( 8,  round( ( param_completo$coverage * nrow( dtrain ) / param_completo$min_data_in_leaf ) ) ))\n",
    "  }\n",
    "\n",
    "  if( \"leaf_size\"  %in% names(param_completo) &\n",
    "      !( \"coverage\"  %in% names(param_completo) )\n",
    "  )\n",
    "  {\n",
    "    # primero defino el tamaño de las hojas\n",
    "    param_completo$min_data_in_leaf <- pmax( 1,  round( nrow(dtrain) * param_completo$leaf_size )  )\n",
    "  }\n",
    "\n",
    "\n",
    "  # entreno LightGBM\n",
    "  modelo_train <- lgb.train(\n",
    "    data= dtrain,\n",
    "    valids= list(valid = dvalidate),\n",
    "    eval= \"auc\",\n",
    "    param= param_completo,\n",
    "    verbose= -100\n",
    "  )\n",
    "\n",
    "  # recupero la AUC en validation\n",
    "  AUC <- modelo_train$record_evals$valid$auc$eval[[modelo_train$best_iter]]\n",
    "\n",
    "  # esta es la forma de devolver un parametro extra\n",
    "  attr(AUC, \"extras\") <- list(\"num_iterations\"= modelo_train$best_iter)\n",
    "\n",
    "  # hago espacio en la memoria\n",
    "  rm(modelo_train)\n",
    "  gc(full= TRUE, verbose= FALSE)\n",
    "\n",
    "  message(format(Sys.time(), \"%a %b %d %X %Y\"), \" AUC \", AUC)\n",
    "\n",
    "  return(AUC)\n",
    "}"
   ]
  },
  {
   "cell_type": "markdown",
   "id": "267a35d4-adaf-4271-a875-3864111333b7",
   "metadata": {
    "id": "267a35d4-adaf-4271-a875-3864111333b7"
   },
   "source": [
    "seteo de la Bayesian Optimization (complejo)\n",
    "<br> copiado y pegado de la documentación de la librería"
   ]
  },
  {
   "cell_type": "code",
   "execution_count": 125,
   "id": "43c2a92d-1041-46b8-bff2-47297f209ed2",
   "metadata": {
    "id": "43c2a92d-1041-46b8-bff2-47297f209ed2",
    "vscode": {
     "languageId": "r"
    }
   },
   "outputs": [],
   "source": [
    "configureMlr(show.learner.output = FALSE)\n",
    "\n",
    "# configuro la busqueda bayesiana,  los hiperparametros que se van a optimizar\n",
    "# por favor, no desesperarse por lo complejo\n",
    "obj.fun <- makeSingleObjectiveFunction(\n",
    "    fn= EstimarGanancia_AUC_lightgbm, # la funcion que voy a maximizar\n",
    "    minimize= FALSE, # estoy Maximizando AUC\n",
    "    noisy= FALSE,\n",
    "    par.set= PARAM$hipeparametertuning$hs,\n",
    "    has.simple.signature= FALSE # paso los parametros en una lista\n",
    ")\n",
    "\n",
    "# cada 600 segundos guardo el resultado intermedio\n",
    "ctrl <- makeMBOControl(\n",
    "    save.on.disk.at.time= 600,\n",
    "    save.file.path= \"HT.RDATA\"\n",
    ")\n",
    "\n",
    "# indico la cantidad de iteraciones que va a tener la Bayesian Optimization\n",
    "ctrl <- setMBOControlTermination(\n",
    "    ctrl,\n",
    "    iters= PARAM$hipeparametertuning$num_interations  # cantidad de iteraciones inteligentes\n",
    ")\n",
    "\n",
    "# defino el método estandar para la creacion de los puntos iniciales\n",
    "#   los \"No Inteligentes\"\n",
    "ctrl <- setMBOControlInfill(ctrl, crit = makeMBOInfillCritEI())\n",
    "\n",
    "# mas configuraciones\n",
    "surr.km <- makeLearner(\n",
    "    \"regr.km\",\n",
    "    predict.type= \"se\",\n",
    "    covtype= \"matern3_2\",\n",
    "    control= list(trace = TRUE)\n",
    ")"
   ]
  },
  {
   "cell_type": "markdown",
   "id": "6c1e5645-d26f-4923-a53f-f30471a4c4e8",
   "metadata": {
    "id": "6c1e5645-d26f-4923-a53f-f30471a4c4e8"
   },
   "source": [
    "Corrida de la Bayesian Optimization,  aqui se hace el trabajo pesado\n",
    "<br> por favor no se asuste con los warnings que pudieran aparecer\n",
    "\n",
    "Si corrío a medias y llegó a las iteraciones inteligentes, en el archivo binario HT.RDATA quedó lo ya procesado y es utilizado para retomar la corrida desde lo último que llegó a grabar."
   ]
  },
  {
   "cell_type": "code",
   "execution_count": 126,
   "id": "1f8cab3f-c7e2-4802-bfd1-5ad509922a4e",
   "metadata": {
    "id": "1f8cab3f-c7e2-4802-bfd1-5ad509922a4e",
    "scrolled": true,
    "vscode": {
     "languageId": "r"
    }
   },
   "outputs": [
    {
     "name": "stderr",
     "output_type": "stream",
     "text": [
      "Computing y column(s) for design. Not provided.\n",
      "\n",
      "Mon Aug 18 09:44:08 PM 2025 AUC 0.920442838970385\n",
      "\n",
      "Mon Aug 18 09:44:34 PM 2025 AUC 0.924495167744492\n",
      "\n",
      "Mon Aug 18 09:44:57 PM 2025 AUC 0.920871729161984\n",
      "\n",
      "Mon Aug 18 09:45:08 PM 2025 AUC 0.923384363001907\n",
      "\n",
      "Mon Aug 18 09:45:21 PM 2025 AUC 0.922885960623663\n",
      "\n",
      "Mon Aug 18 09:45:35 PM 2025 AUC 0.920561936516837\n",
      "\n",
      "Mon Aug 18 09:46:02 PM 2025 AUC 0.922196168024858\n",
      "\n",
      "Mon Aug 18 09:46:12 PM 2025 AUC 0.918379948978055\n",
      "\n",
      "Mon Aug 18 09:46:23 PM 2025 AUC 0.921346729104057\n",
      "\n",
      "Mon Aug 18 09:46:46 PM 2025 AUC 0.92009944876836\n",
      "\n",
      "Mon Aug 18 09:46:54 PM 2025 AUC 0.92066110723645\n",
      "\n",
      "Mon Aug 18 09:47:07 PM 2025 AUC 0.926408374828247\n",
      "\n",
      "[mbo] 0: num_leaves=110; min_data_in_leaf=785; learning_rate=0.0877 : y = 0.92 : 15.5 secs : initdesign\n",
      "\n",
      "[mbo] 0: num_leaves=76; min_data_in_leaf=2402; learning_rate=0.0161 : y = 0.924 : 26.4 secs : initdesign\n",
      "\n",
      "[mbo] 0: num_leaves=34; min_data_in_leaf=5419; learning_rate=0.0201 : y = 0.921 : 22.5 secs : initdesign\n",
      "\n",
      "[mbo] 0: num_leaves=85; min_data_in_leaf=4556; learning_rate=0.0657 : y = 0.923 : 10.8 secs : initdesign\n",
      "\n",
      "[mbo] 0: num_leaves=43; min_data_in_leaf=3107; learning_rate=0.0703 : y = 0.923 : 13.5 secs : initdesign\n",
      "\n",
      "[mbo] 0: num_leaves=69; min_data_in_leaf=8041; learning_rate=0.0555 : y = 0.921 : 14.3 secs : initdesign\n",
      "\n",
      "[mbo] 0: num_leaves=96; min_data_in_leaf=1840; learning_rate=0.0795 : y = 0.922 : 26.6 secs : initdesign\n",
      "\n",
      "[mbo] 0: num_leaves=123; min_data_in_leaf=6904; learning_rate=0.0411 : y = 0.918 : 9.9 secs : initdesign\n",
      "\n",
      "[mbo] 0: num_leaves=17; min_data_in_leaf=3454; learning_rate=0.0426 : y = 0.921 : 11.3 secs : initdesign\n",
      "\n",
      "[mbo] 0: num_leaves=54; min_data_in_leaf=5897; learning_rate=0.00727 : y = 0.92 : 23.0 secs : initdesign\n",
      "\n",
      "[mbo] 0: num_leaves=24; min_data_in_leaf=6808; learning_rate=0.0969 : y = 0.921 : 8.3 secs : initdesign\n",
      "\n",
      "[mbo] 0: num_leaves=101; min_data_in_leaf=117; learning_rate=0.0337 : y = 0.926 : 12.7 secs : initdesign\n",
      "\n",
      "Mon Aug 18 09:47:23 PM 2025 AUC 0.928202252658262\n",
      "\n",
      "[mbo] 1: num_leaves=95; min_data_in_leaf=22; learning_rate=0.0225 : y = 0.928 : 15.5 secs : infill_ei\n",
      "\n",
      "Mon Aug 18 09:47:43 PM 2025 AUC 0.929215972046833\n",
      "\n",
      "[mbo] 2: num_leaves=120; min_data_in_leaf=12; learning_rate=0.0166 : y = 0.929 : 20.5 secs : infill_ei\n",
      "\n",
      "Mon Aug 18 09:48:41 PM 2025 AUC 0.928883008672804\n",
      "\n",
      "[mbo] 3: num_leaves=128; min_data_in_leaf=12; learning_rate=0.00385 : y = 0.929 : 57.5 secs : infill_ei\n",
      "\n",
      "Mon Aug 18 09:49:06 PM 2025 AUC 0.928351472152259\n",
      "\n",
      "[mbo] 4: num_leaves=116; min_data_in_leaf=12; learning_rate=0.012 : y = 0.928 : 24.2 secs : infill_ei\n",
      "\n",
      "Mon Aug 18 09:49:22 PM 2025 AUC 0.927300679597478\n",
      "\n",
      "[mbo] 5: num_leaves=128; min_data_in_leaf=12; learning_rate=0.0198 : y = 0.927 : 16.6 secs : infill_ei\n",
      "\n",
      "Mon Aug 18 09:49:42 PM 2025 AUC 0.930236642654068\n",
      "\n",
      "[mbo] 6: num_leaves=103; min_data_in_leaf=14; learning_rate=0.0165 : y = 0.93 : 19.8 secs : infill_ei\n",
      "\n",
      "Mon Aug 18 09:50:06 PM 2025 AUC 0.928525020911583\n",
      "\n",
      "[mbo] 7: num_leaves=90; min_data_in_leaf=12; learning_rate=0.0164 : y = 0.929 : 23.3 secs : infill_ei\n",
      "\n",
      "Mon Aug 18 09:50:28 PM 2025 AUC 0.927565057614017\n",
      "\n",
      "[mbo] 8: num_leaves=106; min_data_in_leaf=614; learning_rate=0.0172 : y = 0.928 : 21.9 secs : infill_ei\n",
      "\n",
      "Mon Aug 18 09:51:12 PM 2025 AUC 0.928516679449185\n",
      "\n",
      "[mbo] 9: num_leaves=101; min_data_in_leaf=12; learning_rate=0.00565 : y = 0.929 : 43.7 secs : infill_ei\n",
      "\n",
      "Mon Aug 18 09:52:37 PM 2025 AUC 0.926979996709757\n",
      "\n",
      "[mbo] 10: num_leaves=114; min_data_in_leaf=15; learning_rate=0.001 : y = 0.927 : 84.5 secs : infill_ei\n",
      "\n",
      "Mon Aug 18 09:52:56 PM 2025 AUC 0.928391325805936\n",
      "\n",
      "[mbo] 11: num_leaves=101; min_data_in_leaf=12; learning_rate=0.0158 : y = 0.928 : 19.6 secs : infill_ei\n",
      "\n",
      "Mon Aug 18 09:54:22 PM 2025 AUC 0.927488594208708\n",
      "\n",
      "[mbo] 12: num_leaves=120; min_data_in_leaf=17; learning_rate=0.00101 : y = 0.927 : 85.3 secs : infill_ei\n",
      "\n",
      "Saved the current state after iteration 13 in the file HT.RDATA.\n",
      "\n",
      "Mon Aug 18 09:54:56 PM 2025 AUC 0.929053545237372\n",
      "\n",
      "[mbo] 13: num_leaves=103; min_data_in_leaf=13; learning_rate=0.00932 : y = 0.929 : 34.2 secs : infill_ei\n",
      "\n",
      "Mon Aug 18 09:55:06 PM 2025 AUC 0.920594375537271\n",
      "\n",
      "[mbo] 14: num_leaves=32; min_data_in_leaf=5038; learning_rate=0.0675 : y = 0.921 : 9.9 secs : infill_ei\n",
      "\n",
      "Mon Aug 18 09:55:23 PM 2025 AUC 0.926403508975182\n",
      "\n",
      "[mbo] 15: num_leaves=28; min_data_in_leaf=578; learning_rate=0.0165 : y = 0.926 : 16.0 secs : infill_ei\n",
      "\n",
      "Mon Aug 18 09:55:43 PM 2025 AUC 0.926223008997194\n",
      "\n",
      "[mbo] 16: num_leaves=103; min_data_in_leaf=841; learning_rate=0.0215 : y = 0.926 : 20.2 secs : infill_ei\n",
      "\n",
      "Mon Aug 18 09:56:08 PM 2025 AUC 0.928441606287609\n",
      "\n",
      "[mbo] 17: num_leaves=124; min_data_in_leaf=15; learning_rate=0.0109 : y = 0.928 : 25.3 secs : infill_ei\n",
      "\n",
      "Mon Aug 18 09:57:12 PM 2025 AUC 0.926608338218495\n",
      "\n",
      "[mbo] 18: num_leaves=120; min_data_in_leaf=687; learning_rate=0.005 : y = 0.927 : 63.5 secs : infill_ei\n",
      "\n",
      "Mon Aug 18 09:57:23 PM 2025 AUC 0.923428155679493\n",
      "\n",
      "[mbo] 19: num_leaves=32; min_data_in_leaf=153; learning_rate=0.0592 : y = 0.923 : 10.9 secs : infill_ei\n",
      "\n",
      "Mon Aug 18 09:57:33 PM 2025 AUC 0.920835235263996\n",
      "\n",
      "[mbo] 20: num_leaves=27; min_data_in_leaf=7036; learning_rate=0.0873 : y = 0.921 : 9.8 secs : infill_ei\n",
      "\n",
      "Mon Aug 18 09:57:55 PM 2025 AUC 0.928381825807094\n",
      "\n",
      "[mbo] 21: num_leaves=103; min_data_in_leaf=17; learning_rate=0.0146 : y = 0.928 : 21.9 secs : infill_ei\n",
      "\n",
      "Mon Aug 18 09:58:07 PM 2025 AUC 0.919426339094349\n",
      "\n",
      "[mbo] 22: num_leaves=106; min_data_in_leaf=6011; learning_rate=0.0716 : y = 0.919 : 11.5 secs : infill_ei\n",
      "\n",
      "Mon Aug 18 09:58:31 PM 2025 AUC 0.924186765343077\n",
      "\n",
      "[mbo] 23: num_leaves=121; min_data_in_leaf=2291; learning_rate=0.0165 : y = 0.924 : 23.7 secs : infill_ei\n",
      "\n",
      "Mon Aug 18 09:59:06 PM 2025 AUC 0.929087606208828\n",
      "\n",
      "[mbo] 24: num_leaves=110; min_data_in_leaf=12; learning_rate=0.00759 : y = 0.929 : 35.2 secs : infill_ei\n",
      "\n",
      "Mon Aug 18 09:59:26 PM 2025 AUC 0.925555228590826\n",
      "\n",
      "[mbo] 25: num_leaves=110; min_data_in_leaf=12; learning_rate=0.0274 : y = 0.926 : 18.9 secs : infill_ei\n",
      "\n",
      "Mon Aug 18 09:59:46 PM 2025 AUC 0.921452155920469\n",
      "\n",
      "[mbo] 26: num_leaves=30; min_data_in_leaf=4147; learning_rate=0.0213 : y = 0.921 : 19.8 secs : infill_ei\n",
      "\n",
      "Mon Aug 18 10:00:14 PM 2025 AUC 0.919830900020622\n",
      "\n",
      "[mbo] 27: num_leaves=33; min_data_in_leaf=6357; learning_rate=0.0136 : y = 0.92 : 27.7 secs : infill_ei\n",
      "\n",
      "Mon Aug 18 10:00:31 PM 2025 AUC 0.926549947981714\n",
      "\n",
      "[mbo] 28: num_leaves=68; min_data_in_leaf=12; learning_rate=0.0204 : y = 0.927 : 16.9 secs : infill_ei\n",
      "\n",
      "Mon Aug 18 10:00:59 PM 2025 AUC 0.921176887661355\n",
      "\n",
      "[mbo] 29: num_leaves=112; min_data_in_leaf=4519; learning_rate=0.0126 : y = 0.921 : 28.1 secs : infill_ei\n",
      "\n",
      "Mon Aug 18 10:01:13 PM 2025 AUC 0.921735533934691\n",
      "\n",
      "[mbo] 30: num_leaves=42; min_data_in_leaf=3980; learning_rate=0.0435 : y = 0.922 : 13.4 secs : infill_ei\n",
      "\n",
      "Mon Aug 18 10:01:44 PM 2025 AUC 0.928640642848702\n",
      "\n",
      "[mbo] 31: num_leaves=70; min_data_in_leaf=12; learning_rate=0.00782 : y = 0.929 : 31.2 secs : infill_ei\n",
      "\n",
      "Mon Aug 18 10:02:37 PM 2025 AUC 0.928006459999212\n",
      "\n",
      "[mbo] 32: num_leaves=82; min_data_in_leaf=12; learning_rate=0.00425 : y = 0.928 : 52.8 secs : infill_ei\n",
      "\n",
      "Mon Aug 18 10:02:50 PM 2025 AUC 0.92173576564198\n",
      "\n",
      "[mbo] 33: num_leaves=128; min_data_in_leaf=12; learning_rate=0.048 : y = 0.922 : 13.0 secs : infill_ei\n",
      "\n",
      "Mon Aug 18 10:03:02 PM 2025 AUC 0.924052143408275\n",
      "\n",
      "[mbo] 34: num_leaves=39; min_data_in_leaf=1163; learning_rate=0.0441 : y = 0.924 : 11.2 secs : infill_ei\n",
      "\n",
      "Mon Aug 18 10:03:21 PM 2025 AUC 0.928363289223989\n",
      "\n",
      "[mbo] 35: num_leaves=104; min_data_in_leaf=12; learning_rate=0.0179 : y = 0.928 : 19.6 secs : infill_ei\n",
      "\n",
      "Mon Aug 18 10:03:41 PM 2025 AUC 0.920323278009356\n",
      "\n",
      "[mbo] 36: num_leaves=12; min_data_in_leaf=8188; learning_rate=0.0319 : y = 0.92 : 19.4 secs : infill_ei\n",
      "\n",
      "Mon Aug 18 10:04:48 PM 2025 AUC 0.921675985161465\n",
      "\n",
      "[mbo] 37: num_leaves=96; min_data_in_leaf=4698; learning_rate=0.00522 : y = 0.922 : 66.6 secs : infill_ei\n",
      "\n",
      "Saved the current state after iteration 38 in the file HT.RDATA.\n",
      "\n",
      "Mon Aug 18 10:05:13 PM 2025 AUC 0.928086630721143\n",
      "\n",
      "[mbo] 38: num_leaves=82; min_data_in_leaf=12; learning_rate=0.0108 : y = 0.928 : 25.1 secs : infill_ei\n",
      "\n",
      "Mon Aug 18 10:05:27 PM 2025 AUC 0.926367594345415\n",
      "\n",
      "[mbo] 39: num_leaves=67; min_data_in_leaf=13; learning_rate=0.0247 : y = 0.926 : 13.5 secs : infill_ei\n",
      "\n",
      "Mon Aug 18 10:05:39 PM 2025 AUC 0.922913533791032\n",
      "\n",
      "[mbo] 40: num_leaves=108; min_data_in_leaf=291; learning_rate=0.0966 : y = 0.923 : 11.3 secs : infill_ei\n",
      "\n",
      "Mon Aug 18 10:05:48 PM 2025 AUC 0.926319399229342\n",
      "\n",
      "[mbo] 41: num_leaves=44; min_data_in_leaf=818; learning_rate=0.0753 : y = 0.926 : 9.3 secs : infill_ei\n",
      "\n",
      "Mon Aug 18 10:05:59 PM 2025 AUC 0.922877387453977\n",
      "\n",
      "[mbo] 42: num_leaves=24; min_data_in_leaf=4425; learning_rate=0.0916 : y = 0.923 : 11.0 secs : infill_ei\n",
      "\n",
      "Mon Aug 18 10:06:21 PM 2025 AUC 0.926276765088199\n",
      "\n",
      "[mbo] 43: num_leaves=107; min_data_in_leaf=933; learning_rate=0.0207 : y = 0.926 : 20.8 secs : infill_ei\n",
      "\n",
      "Mon Aug 18 10:06:35 PM 2025 AUC 0.924421948241226\n",
      "\n",
      "[mbo] 44: num_leaves=128; min_data_in_leaf=12; learning_rate=0.0673 : y = 0.924 : 14.1 secs : infill_ei\n",
      "\n",
      "Mon Aug 18 10:06:55 PM 2025 AUC 0.928668216016071\n",
      "\n",
      "[mbo] 45: num_leaves=105; min_data_in_leaf=140; learning_rate=0.0167 : y = 0.929 : 20.0 secs : infill_ei\n",
      "\n",
      "Mon Aug 18 10:07:20 PM 2025 AUC 0.928299106304987\n",
      "\n",
      "[mbo] 46: num_leaves=118; min_data_in_leaf=12; learning_rate=0.0159 : y = 0.928 : 24.3 secs : infill_ei\n",
      "\n",
      "Mon Aug 18 10:08:03 PM 2025 AUC 0.928599630658582\n",
      "\n",
      "[mbo] 47: num_leaves=106; min_data_in_leaf=15; learning_rate=0.00565 : y = 0.929 : 43.6 secs : infill_ei\n",
      "\n",
      "Mon Aug 18 10:08:12 PM 2025 AUC 0.920188192659977\n",
      "\n",
      "[mbo] 48: num_leaves=14; min_data_in_leaf=6786; learning_rate=0.0593 : y = 0.92 : 8.4 secs : infill_ei\n",
      "\n",
      "Mon Aug 18 10:08:45 PM 2025 AUC 0.92869393552513\n",
      "\n",
      "[mbo] 49: num_leaves=97; min_data_in_leaf=12; learning_rate=0.00839 : y = 0.929 : 33.0 secs : infill_ei\n",
      "\n",
      "Mon Aug 18 10:09:06 PM 2025 AUC 0.928791020879144\n",
      "\n",
      "[mbo] 50: num_leaves=106; min_data_in_leaf=30; learning_rate=0.0167 : y = 0.929 : 20.2 secs : infill_ei\n",
      "\n",
      "Mon Aug 18 10:09:26 PM 2025 AUC 0.920745216982291\n",
      "\n",
      "[mbo] 51: num_leaves=60; min_data_in_leaf=5591; learning_rate=0.0186 : y = 0.921 : 19.8 secs : infill_ei\n",
      "\n",
      "Mon Aug 18 10:09:57 PM 2025 AUC 0.928935837934654\n",
      "\n",
      "[mbo] 52: num_leaves=89; min_data_in_leaf=12; learning_rate=0.00817 : y = 0.929 : 30.3 secs : infill_ei\n",
      "\n",
      "Mon Aug 18 10:10:15 PM 2025 AUC 0.927052752798445\n",
      "\n",
      "[mbo] 53: num_leaves=88; min_data_in_leaf=14; learning_rate=0.0267 : y = 0.927 : 18.4 secs : infill_ei\n",
      "\n",
      "Mon Aug 18 10:10:33 PM 2025 AUC 0.922556241151678\n",
      "\n",
      "[mbo] 54: num_leaves=22; min_data_in_leaf=6006; learning_rate=0.0328 : y = 0.923 : 17.3 secs : infill_ei\n",
      "\n",
      "Mon Aug 18 10:10:44 PM 2025 AUC 0.923353777639783\n",
      "\n",
      "[mbo] 55: num_leaves=86; min_data_in_leaf=2681; learning_rate=0.0759 : y = 0.923 : 11.4 secs : infill_ei\n",
      "\n",
      "Mon Aug 18 10:12:00 PM 2025 AUC 0.930439154824493\n",
      "\n",
      "[mbo] 56: num_leaves=128; min_data_in_leaf=158; learning_rate=0.00252 : y = 0.93 : 75.1 secs : infill_ei\n",
      "\n",
      "Mon Aug 18 10:12:15 PM 2025 AUC 0.92745291128623\n",
      "\n",
      "[mbo] 57: num_leaves=99; min_data_in_leaf=302; learning_rate=0.0586 : y = 0.927 : 15.1 secs : infill_ei\n",
      "\n",
      "Mon Aug 18 10:12:26 PM 2025 AUC 0.918962692809428\n",
      "\n",
      "[mbo] 58: num_leaves=108; min_data_in_leaf=4368; learning_rate=0.0867 : y = 0.919 : 10.4 secs : infill_ei\n",
      "\n",
      "Mon Aug 18 10:13:45 PM 2025 AUC 0.929179825709777\n",
      "\n",
      "[mbo] 59: num_leaves=120; min_data_in_leaf=16; learning_rate=0.00291 : y = 0.929 : 79.0 secs : infill_ei\n",
      "\n",
      "Mon Aug 18 10:14:00 PM 2025 AUC 0.918067144138153\n",
      "\n",
      "[mbo] 60: num_leaves=56; min_data_in_leaf=7596; learning_rate=0.0335 : y = 0.918 : 14.8 secs : infill_ei\n",
      "\n",
      "Mon Aug 18 10:15:22 PM 2025 AUC 0.921346497396769\n",
      "\n",
      "[mbo] 61: num_leaves=71; min_data_in_leaf=3813; learning_rate=0.00198 : y = 0.921 : 81.5 secs : infill_ei\n",
      "\n",
      "Saved the current state after iteration 62 in the file HT.RDATA.\n",
      "\n",
      "Mon Aug 18 10:15:34 PM 2025 AUC 0.919637887849038\n",
      "\n",
      "[mbo] 62: num_leaves=87; min_data_in_leaf=5747; learning_rate=0.0915 : y = 0.92 : 11.9 secs : infill_ei\n",
      "\n",
      "Mon Aug 18 10:17:16 PM 2025 AUC 0.92451694822964\n",
      "\n",
      "[mbo] 63: num_leaves=128; min_data_in_leaf=1403; learning_rate=0.00218 : y = 0.925 : 101.7 secs : infill_ei\n",
      "\n",
      "Mon Aug 18 10:17:32 PM 2025 AUC 0.922928826472094\n",
      "\n",
      "[mbo] 64: num_leaves=94; min_data_in_leaf=3851; learning_rate=0.0269 : y = 0.923 : 15.1 secs : infill_ei\n",
      "\n",
      "Mon Aug 18 10:17:43 PM 2025 AUC 0.923090326452399\n",
      "\n",
      "[mbo] 65: num_leaves=53; min_data_in_leaf=2925; learning_rate=0.0953 : y = 0.923 : 11.5 secs : infill_ei\n",
      "\n",
      "Mon Aug 18 10:19:08 PM 2025 AUC 0.919734046373897\n",
      "\n",
      "[mbo] 66: num_leaves=123; min_data_in_leaf=3061; learning_rate=0.00113 : y = 0.92 : 84.2 secs : infill_ei\n",
      "\n",
      "Mon Aug 18 10:19:40 PM 2025 AUC 0.928870728186497\n",
      "\n",
      "[mbo] 67: num_leaves=88; min_data_in_leaf=12; learning_rate=0.00684 : y = 0.929 : 32.2 secs : infill_ei\n",
      "\n",
      "Mon Aug 18 10:19:52 PM 2025 AUC 0.926102984621587\n",
      "\n",
      "[mbo] 68: num_leaves=82; min_data_in_leaf=701; learning_rate=0.043 : y = 0.926 : 11.5 secs : infill_ei\n",
      "\n",
      "Mon Aug 18 10:20:21 PM 2025 AUC 0.919805643926141\n",
      "\n",
      "[mbo] 69: num_leaves=37; min_data_in_leaf=5994; learning_rate=0.0135 : y = 0.92 : 28.4 secs : infill_ei\n",
      "\n",
      "Mon Aug 18 10:20:34 PM 2025 AUC 0.921031607191267\n",
      "\n",
      "[mbo] 70: num_leaves=12; min_data_in_leaf=2626; learning_rate=0.045 : y = 0.921 : 13.0 secs : infill_ei\n",
      "\n",
      "Mon Aug 18 10:20:45 PM 2025 AUC 0.922581497246159\n",
      "\n",
      "[mbo] 71: num_leaves=91; min_data_in_leaf=3880; learning_rate=0.0819 : y = 0.923 : 10.6 secs : infill_ei\n",
      "\n",
      "Mon Aug 18 10:21:11 PM 2025 AUC 0.918808839169654\n",
      "\n",
      "[mbo] 72: num_leaves=89; min_data_in_leaf=6695; learning_rate=0.017 : y = 0.919 : 26.0 secs : infill_ei\n",
      "\n",
      "Mon Aug 18 10:21:24 PM 2025 AUC 0.920351893859525\n",
      "\n",
      "[mbo] 73: num_leaves=13; min_data_in_leaf=5104; learning_rate=0.0467 : y = 0.92 : 12.3 secs : infill_ei\n",
      "\n",
      "Mon Aug 18 10:21:36 PM 2025 AUC 0.924133009252072\n",
      "\n",
      "[mbo] 74: num_leaves=128; min_data_in_leaf=30; learning_rate=0.0619 : y = 0.924 : 12.2 secs : infill_ei\n",
      "\n",
      "Mon Aug 18 10:21:49 PM 2025 AUC 0.921762411980194\n",
      "\n",
      "[mbo] 75: num_leaves=123; min_data_in_leaf=253; learning_rate=0.0911 : y = 0.922 : 11.9 secs : infill_ei\n",
      "\n",
      "Mon Aug 18 10:23:25 PM 2025 AUC 0.929621459802261\n",
      "\n",
      "[mbo] 76: num_leaves=128; min_data_in_leaf=18; learning_rate=0.00267 : y = 0.93 : 96.5 secs : infill_ei\n",
      "\n",
      "Mon Aug 18 10:24:58 PM 2025 AUC 0.929785740270032\n",
      "\n",
      "[mbo] 77: num_leaves=117; min_data_in_leaf=14; learning_rate=0.00243 : y = 0.93 : 91.8 secs : infill_ei\n",
      "\n",
      "Mon Aug 18 10:25:19 PM 2025 AUC 0.926925545496885\n",
      "\n",
      "[mbo] 78: num_leaves=104; min_data_in_leaf=435; learning_rate=0.0164 : y = 0.927 : 21.0 secs : infill_ei\n",
      "\n",
      "Mon Aug 18 10:25:29 PM 2025 AUC 0.923179765465882\n",
      "\n",
      "[mbo] 79: num_leaves=49; min_data_in_leaf=5311; learning_rate=0.0938 : y = 0.923 : 10.3 secs : infill_ei\n",
      "\n",
      "Saved the current state after iteration 80 in the file HT.RDATA.\n",
      "\n",
      "Mon Aug 18 10:26:57 PM 2025 AUC 0.929204154975103\n",
      "\n",
      "[mbo] 80: num_leaves=100; min_data_in_leaf=192; learning_rate=0.00346 : y = 0.929 : 87.5 secs : infill_ei\n",
      "\n",
      "Mon Aug 18 10:27:14 PM 2025 AUC 0.921373375442271\n",
      "\n",
      "[mbo] 81: num_leaves=75; min_data_in_leaf=2603; learning_rate=0.0512 : y = 0.921 : 16.5 secs : infill_ei\n",
      "\n",
      "Mon Aug 18 10:28:30 PM 2025 AUC 0.929250959847444\n",
      "\n",
      "[mbo] 82: num_leaves=116; min_data_in_leaf=212; learning_rate=0.00245 : y = 0.929 : 76.0 secs : infill_ei\n",
      "\n",
      "Mon Aug 18 10:28:40 PM 2025 AUC 0.920623107241085\n",
      "\n",
      "[mbo] 83: num_leaves=21; min_data_in_leaf=6298; learning_rate=0.0585 : y = 0.921 : 9.1 secs : infill_ei\n",
      "\n",
      "Mon Aug 18 10:28:54 PM 2025 AUC 0.922123643643458\n",
      "\n",
      "[mbo] 84: num_leaves=86; min_data_in_leaf=5642; learning_rate=0.0603 : y = 0.922 : 13.9 secs : infill_ei\n",
      "\n",
      "Mon Aug 18 10:29:14 PM 2025 AUC 0.908753785517831\n",
      "\n",
      "[mbo] 85: num_leaves=12; min_data_in_leaf=17; learning_rate=0.00101 : y = 0.909 : 19.3 secs : infill_ei\n",
      "\n",
      "Mon Aug 18 10:29:25 PM 2025 AUC 0.924197887292941\n",
      "\n",
      "[mbo] 86: num_leaves=70; min_data_in_leaf=2188; learning_rate=0.095 : y = 0.924 : 10.7 secs : infill_ei\n",
      "\n",
      "Mon Aug 18 10:31:21 PM 2025 AUC 0.929764654906749\n",
      "\n",
      "[mbo] 87: num_leaves=128; min_data_in_leaf=232; learning_rate=0.00217 : y = 0.93 : 116.2 secs : infill_ei\n",
      "\n",
      "Mon Aug 18 10:31:50 PM 2025 AUC 0.923288899598915\n",
      "\n",
      "[mbo] 88: num_leaves=109; min_data_in_leaf=2362; learning_rate=0.0301 : y = 0.923 : 28.0 secs : infill_ei\n",
      "\n",
      "Mon Aug 18 10:32:11 PM 2025 AUC 0.928745374543247\n",
      "\n",
      "[mbo] 89: num_leaves=127; min_data_in_leaf=12; learning_rate=0.0152 : y = 0.929 : 21.6 secs : infill_ei\n",
      "\n",
      "Mon Aug 18 10:33:05 PM 2025 AUC 0.930000301219475\n",
      "\n",
      "[mbo] 90: num_leaves=128; min_data_in_leaf=181; learning_rate=0.00695 : y = 0.93 : 53.0 secs : infill_ei\n",
      "\n",
      "Mon Aug 18 10:33:55 PM 2025 AUC 0.92854703310402\n",
      "\n",
      "[mbo] 91: num_leaves=128; min_data_in_leaf=13; learning_rate=0.00638 : y = 0.929 : 49.4 secs : infill_ei\n",
      "\n",
      "Mon Aug 18 10:34:18 PM 2025 AUC 0.928842923311839\n",
      "\n",
      "[mbo] 92: num_leaves=93; min_data_in_leaf=54; learning_rate=0.0114 : y = 0.929 : 23.3 secs : infill_ei\n",
      "\n",
      "Mon Aug 18 10:34:30 PM 2025 AUC 0.92405121657912\n",
      "\n",
      "[mbo] 93: num_leaves=47; min_data_in_leaf=835; learning_rate=0.032 : y = 0.924 : 11.2 secs : infill_ei\n",
      "\n",
      "Mon Aug 18 10:34:42 PM 2025 AUC 0.923490484940185\n",
      "\n",
      "[mbo] 94: num_leaves=120; min_data_in_leaf=4884; learning_rate=0.0671 : y = 0.923 : 11.9 secs : infill_ei\n",
      "\n",
      "Mon Aug 18 10:35:15 PM 2025 AUC 0.92819877704893\n",
      "\n",
      "[mbo] 95: num_leaves=105; min_data_in_leaf=124; learning_rate=0.00742 : y = 0.928 : 32.6 secs : infill_ei\n",
      "\n",
      "Mon Aug 18 10:35:28 PM 2025 AUC 0.921730668081626\n",
      "\n",
      "[mbo] 96: num_leaves=39; min_data_in_leaf=3299; learning_rate=0.0779 : y = 0.922 : 13.0 secs : infill_ei\n",
      "\n",
      "Mon Aug 18 10:35:55 PM 2025 AUC 0.919741924421717\n",
      "\n",
      "[mbo] 97: num_leaves=116; min_data_in_leaf=7085; learning_rate=0.0338 : y = 0.92 : 25.7 secs : infill_ei\n",
      "\n",
      "Saved the current state after iteration 98 in the file HT.RDATA.\n",
      "\n",
      "Mon Aug 18 10:36:11 PM 2025 AUC 0.923732387349709\n",
      "\n",
      "[mbo] 98: num_leaves=53; min_data_in_leaf=4302; learning_rate=0.0999 : y = 0.924 : 16.1 secs : infill_ei\n",
      "\n",
      "Mon Aug 18 10:37:58 PM 2025 AUC 0.929276447649214\n",
      "\n",
      "[mbo] 99: num_leaves=128; min_data_in_leaf=15; learning_rate=0.00183 : y = 0.929 : 106.3 secs : infill_ei\n",
      "\n",
      "Mon Aug 18 10:38:33 PM 2025 AUC 0.927074069869016\n",
      "\n",
      "[mbo] 100: num_leaves=112; min_data_in_leaf=619; learning_rate=0.00998 : y = 0.927 : 35.3 secs : infill_ei\n",
      "\n",
      "Saved the final state in the file HT.RDATA\n",
      "\n"
     ]
    }
   ],
   "source": [
    "# inicio la optimizacion bayesiana\n",
    "\n",
    "if (!file.exists(\"HT.RDATA\")) {\n",
    "  bayesiana_salida <- mbo(obj.fun, learner= surr.km, control= ctrl)\n",
    "} else {\n",
    "  bayesiana_salida <- mboContinue(\"HT.RDATA\") # retomo en caso que ya exista\n",
    "}"
   ]
  },
  {
   "cell_type": "markdown",
   "id": "36307612-964f-4df3-907a-1bc3c095f178",
   "metadata": {
    "id": "36307612-964f-4df3-907a-1bc3c095f178"
   },
   "source": [
    "la bayesian optimization ha corrido, extraigo los mejores hiperparametros"
   ]
  },
  {
   "cell_type": "code",
   "execution_count": 127,
   "id": "8c061a2a-3341-4006-a154-c95bb6cfd407",
   "metadata": {
    "id": "8c061a2a-3341-4006-a154-c95bb6cfd407",
    "vscode": {
     "languageId": "r"
    }
   },
   "outputs": [
    {
     "name": "stdout",
     "output_type": "stream",
     "text": [
      "   num_leaves min_data_in_leaf num_iterations\n",
      "        <int>            <int>          <int>\n",
      "1:        128              158           1462\n"
     ]
    }
   ],
   "source": [
    "# almaceno los resultados de la Bayesian Optimization\n",
    "# y capturo los mejores hiperparametros encontrados\n",
    "\n",
    "tb_bayesiana <- as.data.table(bayesiana_salida$opt.path)\n",
    "\n",
    "# ordeno en forma descendente por AUC = y\n",
    "setorder(tb_bayesiana, -y, -num_iterations)\n",
    "\n",
    "# grabo para eventualmente poder utilizarlos en OTRA corrida\n",
    "fwrite( tb_bayesiana,\n",
    "  file=\"BO_log.txt\",\n",
    "  sep=\"\\t\"\n",
    ")\n",
    "\n",
    "# los mejores hiperparámetros son los que quedaron en el registro 1 de la tabla\n",
    "PARAM$out$lgbm$mejores_hiperparametros <- tb_bayesiana[\n",
    "  1, # el primero es el de mejor AUC\n",
    "  list(num_leaves, min_data_in_leaf, num_iterations)\n",
    "]\n",
    "\n",
    "print(PARAM$out$lgbm$mejores_hiperparametros)"
   ]
  },
  {
   "cell_type": "markdown",
   "id": "ddb554cb-1d96-4f6b-ae1c-c9a076f8dbdc",
   "metadata": {
    "id": "ddb554cb-1d96-4f6b-ae1c-c9a076f8dbdc"
   },
   "source": [
    "### 6.3.3 Produccion"
   ]
  },
  {
   "cell_type": "markdown",
   "id": "c39492c3-756f-47a5-8747-93ade8275306",
   "metadata": {
    "id": "c39492c3-756f-47a5-8747-93ade8275306"
   },
   "source": [
    "#### Final Training\n",
    "Construyo el modelo final, que es uno solo, no hace ningun tipo de particion < training, validation, testing>]"
   ]
  },
  {
   "cell_type": "markdown",
   "id": "xhKi_G_sYQqq",
   "metadata": {
    "id": "xhKi_G_sYQqq"
   },
   "source": [
    "##### Final Training Dataset\n",
    "\n",
    "Aqui esta la gran decision de en qué meses hago el Final Training\n",
    "<br> debo utilizar los mejores hiperparámetros que encontré en la optimización bayesiana"
   ]
  },
  {
   "cell_type": "code",
   "execution_count": 128,
   "id": "qyHfS_X0zd7o",
   "metadata": {
    "id": "qyHfS_X0zd7o",
    "vscode": {
     "languageId": "r"
    }
   },
   "outputs": [
    {
     "data": {
      "text/html": [
       "240562"
      ],
      "text/latex": [
       "240562"
      ],
      "text/markdown": [
       "240562"
      ],
      "text/plain": [
       "[1] 240562"
      ]
     },
     "metadata": {},
     "output_type": "display_data"
    }
   ],
   "source": [
    "PARAM$trainingstrategy$final_train <- c( 202107,\n",
    "  202106, 202105, 202104, 202103, 202102, 202101,\n",
    "  202012, 202011, 202010, 202009, 202008, 202007,\n",
    "  202006, 202005\n",
    ")\n",
    "\n",
    "dataset[, fold_final_train := foto_mes %in% PARAM$trainingstrategy$final_train ]\n",
    "\n",
    "# creo el dfinal_train en formato  LightGBM\n",
    "dfinal_train <- lgb.Dataset(\n",
    "  data= data.matrix(dataset[fold_final_train == TRUE, campos_buenos, with= FALSE]),\n",
    "  label= dataset[fold_final_train == TRUE, clase01],\n",
    "  free_raw_data= TRUE\n",
    ")\n",
    "\n",
    "nrow( dfinal_train) # verifico el tamaño"
   ]
  },
  {
   "cell_type": "markdown",
   "id": "HATRyklxYUpT",
   "metadata": {
    "id": "HATRyklxYUpT"
   },
   "source": [
    "##### Final Training Hyperparameters"
   ]
  },
  {
   "cell_type": "code",
   "execution_count": 129,
   "id": "d6b9f33c-e0a0-4ea6-8169-4a6180cc5d01",
   "metadata": {
    "id": "d6b9f33c-e0a0-4ea6-8169-4a6180cc5d01",
    "vscode": {
     "languageId": "r"
    }
   },
   "outputs": [],
   "source": [
    "# uno los parametros fijos y los mejores encontrados de los variables\n",
    "fijos <- copy(PARAM$lgbm$param_fijos)\n",
    "\n",
    "# quito lo que optimice en la Bayesian Optimization\n",
    "fijos$num_iterations <- NULL\n",
    "fijos$early_stopping_rounds <- NULL\n",
    "\n",
    "# agrego a los hiperparametros fijos los que encontre con la Bayesian Optimization\n",
    "param_final <- c(fijos, PARAM$out$lgbm$mejores_hiperparametros)"
   ]
  },
  {
   "cell_type": "markdown",
   "id": "c47d5312",
   "metadata": {},
   "source": [
    "##### Training\n",
    "Genero el modelo final, siempre sobre TODOS los datos de  final_train, sin hacer ningun tipo de undersampling de la clase mayoritaria"
   ]
  },
  {
   "cell_type": "code",
   "execution_count": 130,
   "id": "18b06ff4",
   "metadata": {
    "vscode": {
     "languageId": "r"
    }
   },
   "outputs": [],
   "source": [
    "if(!require(\"primes\")) install.packages(\"primes\")\n",
    "require(\"primes\")"
   ]
  },
  {
   "cell_type": "code",
   "execution_count": 131,
   "id": "88b74e4e",
   "metadata": {
    "vscode": {
     "languageId": "r"
    }
   },
   "outputs": [
    {
     "name": "stdout",
     "output_type": "stream",
     "text": [
      "541777 500069 398213 173647 513439 559051 577007 197933 288061 292319 545929 667699 231293 760729 860059 361219 319591 941701 681493 409933"
     ]
    }
   ],
   "source": [
    "PARAM$FT$semillerio <- 20  # cantidad de semillas\n",
    "primos <- generate_primes(min = 100000, max = 1000000)\n",
    "set.seed(PARAM$semilla_primigenia, kind = \"L'Ecuyer-CMRG\")\n",
    "# me quedo con PARAM$semillerio  primos al azar\n",
    "PARAM$FT$semillas <- sample(primos)[seq(PARAM$FT$semillerio)]\n",
    "\n",
    "cat( PARAM$FT$semillas)"
   ]
  },
  {
   "cell_type": "code",
   "execution_count": 132,
   "id": "dec0376e",
   "metadata": {
    "vscode": {
     "languageId": "r"
    }
   },
   "outputs": [],
   "source": [
    "dir.create(\"modelos\", showWarnings =FALSE)\n",
    "\n",
    "primero <- TRUE\n",
    "for( sem in PARAM$FT$semillas)\n",
    "{\n",
    "  nombre_arch <- paste0( \"./modelos/modelo_\", sem, \".txt\")\n",
    "  if( !file.exists(nombre_arch) )\n",
    "  {\n",
    "    param_final$seed <- sem\n",
    "\n",
    "    set.seed(sem, kind = \"L'Ecuyer-CMRG\")\n",
    "    final_model <- lgb.train(\n",
    "      data= dfinal_train,\n",
    "      param= param_final,\n",
    "      verbose= -100\n",
    "    )\n",
    "\n",
    "    lgb.save(final_model, nombre_arch) # grabo el modelo\"\n",
    "\n",
    "    # grabo la primer importancia de variables\n",
    "    #  Natalia : da lo mismo cual se guarda\n",
    "    if( primero)\n",
    "    {\n",
    "      primero <- FALSE\n",
    "      tb_importancia <- as.data.table(lgb.importance(final_model))\n",
    "      archivo_importancia <- \"impo.txt\"\n",
    "\n",
    "      fwrite( tb_importancia,\n",
    "        file= archivo_importancia,\n",
    "        sep= \"\\t\"\n",
    "      )\n",
    "    }\n",
    " }\n",
    "}"
   ]
  },
  {
   "cell_type": "markdown",
   "id": "c6de521b",
   "metadata": {},
   "source": [
    "#### Scoring"
   ]
  },
  {
   "cell_type": "markdown",
   "id": "1175a643",
   "metadata": {},
   "source": [
    "Aplico el modelo final a los datos del futuro"
   ]
  },
  {
   "cell_type": "code",
   "execution_count": 133,
   "id": "9a30b648",
   "metadata": {
    "vscode": {
     "languageId": "r"
    }
   },
   "outputs": [],
   "source": [
    "PARAM$trainingstrategy$future <- c(202109)\n",
    "\n",
    "dfuture <- dataset[ foto_mes %in% PARAM$trainingstrategy$future ]"
   ]
  },
  {
   "cell_type": "code",
   "execution_count": 134,
   "id": "4cb89dcc",
   "metadata": {
    "vscode": {
     "languageId": "r"
    }
   },
   "outputs": [
    {
     "data": {
      "text/html": [
       "<table class=\"dataframe\">\n",
       "<caption>A matrix: 2 × 6 of type dbl</caption>\n",
       "<thead>\n",
       "\t<tr><th></th><th scope=col>used</th><th scope=col>(Mb)</th><th scope=col>gc trigger</th><th scope=col>(Mb)</th><th scope=col>max used</th><th scope=col>(Mb)</th></tr>\n",
       "</thead>\n",
       "<tbody>\n",
       "\t<tr><th scope=row>Ncells</th><td> 2640885</td><td>141.1</td><td>  7559414</td><td> 403.8</td><td>  9449267</td><td> 504.7</td></tr>\n",
       "\t<tr><th scope=row>Vcells</th><td>76705755</td><td>585.3</td><td>230801212</td><td>1760.9</td><td>390958866</td><td>2982.8</td></tr>\n",
       "</tbody>\n",
       "</table>\n"
      ],
      "text/latex": [
       "A matrix: 2 × 6 of type dbl\n",
       "\\begin{tabular}{r|llllll}\n",
       "  & used & (Mb) & gc trigger & (Mb) & max used & (Mb)\\\\\n",
       "\\hline\n",
       "\tNcells &  2640885 & 141.1 &   7559414 &  403.8 &   9449267 &  504.7\\\\\n",
       "\tVcells & 76705755 & 585.3 & 230801212 & 1760.9 & 390958866 & 2982.8\\\\\n",
       "\\end{tabular}\n"
      ],
      "text/markdown": [
       "\n",
       "A matrix: 2 × 6 of type dbl\n",
       "\n",
       "| <!--/--> | used | (Mb) | gc trigger | (Mb) | max used | (Mb) |\n",
       "|---|---|---|---|---|---|---|\n",
       "| Ncells |  2640885 | 141.1 |   7559414 |  403.8 |   9449267 |  504.7 |\n",
       "| Vcells | 76705755 | 585.3 | 230801212 | 1760.9 | 390958866 | 2982.8 |\n",
       "\n"
      ],
      "text/plain": [
       "       used     (Mb)  gc trigger (Mb)   max used  (Mb)  \n",
       "Ncells  2640885 141.1   7559414   403.8   9449267  504.7\n",
       "Vcells 76705755 585.3 230801212  1760.9 390958866 2982.8"
      ]
     },
     "metadata": {},
     "output_type": "display_data"
    }
   ],
   "source": [
    "# aplico final_model   a dfuture\n",
    "\n",
    "tb_prediccion <- dfuture[, list(numero_de_cliente)]\n",
    "tb_prediccion[, prob := 0]\n",
    "\n",
    "datos_matrix <- data.matrix(dfuture[, campos_buenos, with= FALSE])\n",
    "\n",
    "\n",
    "for( isem in seq(length(PARAM$FT$semillas)) )\n",
    "{\n",
    "   sem <- PARAM$FT$semillas[ isem ]\n",
    "   nombre_arch <- paste0( \"./modelos/modelo_\", sem, \".txt\")\n",
    "   final_model <- lgb.load(nombre_arch)\n",
    "\n",
    "   prediccion <- predict(\n",
    "     final_model,\n",
    "     datos_matrix\n",
    "  )\n",
    "\n",
    "  tb_prediccion[, paste0(\"prob_\", isem) := prediccion]\n",
    "  tb_prediccion[, prob := prob + prediccion]\n",
    "\n",
    "  rm(final_model)\n",
    "  rm(prediccion)\n",
    "  gc(full = TRUE, verbose=FALSE)\n",
    "}\n",
    "\n",
    "rm( datos_matrix)\n",
    "gc(full = TRUE, verbose=FALSE)\n",
    "\n",
    "tb_prediccion[, prob := prob /length(PARAM$FT$semillas) ]"
   ]
  },
  {
   "cell_type": "code",
   "execution_count": 135,
   "id": "78d76604",
   "metadata": {
    "vscode": {
     "languageId": "r"
    }
   },
   "outputs": [
    {
     "data": {
      "text/html": [
       "<table class=\"dataframe\">\n",
       "<caption>A data.table: 16551 × 22</caption>\n",
       "<thead>\n",
       "\t<tr><th scope=col>numero_de_cliente</th><th scope=col>prob</th><th scope=col>prob_1</th><th scope=col>prob_2</th><th scope=col>prob_3</th><th scope=col>prob_4</th><th scope=col>prob_5</th><th scope=col>prob_6</th><th scope=col>prob_7</th><th scope=col>prob_8</th><th scope=col>⋯</th><th scope=col>prob_11</th><th scope=col>prob_12</th><th scope=col>prob_13</th><th scope=col>prob_14</th><th scope=col>prob_15</th><th scope=col>prob_16</th><th scope=col>prob_17</th><th scope=col>prob_18</th><th scope=col>prob_19</th><th scope=col>prob_20</th></tr>\n",
       "\t<tr><th scope=col>&lt;int&gt;</th><th scope=col>&lt;dbl&gt;</th><th scope=col>&lt;dbl&gt;</th><th scope=col>&lt;dbl&gt;</th><th scope=col>&lt;dbl&gt;</th><th scope=col>&lt;dbl&gt;</th><th scope=col>&lt;dbl&gt;</th><th scope=col>&lt;dbl&gt;</th><th scope=col>&lt;dbl&gt;</th><th scope=col>&lt;dbl&gt;</th><th scope=col>⋯</th><th scope=col>&lt;dbl&gt;</th><th scope=col>&lt;dbl&gt;</th><th scope=col>&lt;dbl&gt;</th><th scope=col>&lt;dbl&gt;</th><th scope=col>&lt;dbl&gt;</th><th scope=col>&lt;dbl&gt;</th><th scope=col>&lt;dbl&gt;</th><th scope=col>&lt;dbl&gt;</th><th scope=col>&lt;dbl&gt;</th><th scope=col>&lt;dbl&gt;</th></tr>\n",
       "</thead>\n",
       "<tbody>\n",
       "\t<tr><td>29186441</td><td>1.445743e-05</td><td>8.326157e-06</td><td>1.534497e-05</td><td>1.195028e-05</td><td>1.725044e-05</td><td>1.079014e-05</td><td>1.152995e-05</td><td>5.005125e-06</td><td>8.337535e-06</td><td>⋯</td><td>1.108910e-05</td><td>1.264722e-05</td><td>2.089985e-05</td><td>9.357584e-06</td><td>6.394213e-05</td><td>1.145921e-05</td><td>6.148770e-06</td><td>1.435406e-05</td><td>1.817493e-05</td><td>1.068988e-05</td></tr>\n",
       "\t<tr><td>29187961</td><td>2.080325e-06</td><td>1.579824e-06</td><td>4.413588e-06</td><td>2.029124e-06</td><td>3.272348e-06</td><td>6.948096e-07</td><td>2.220626e-06</td><td>2.036847e-06</td><td>2.109541e-06</td><td>⋯</td><td>5.539286e-06</td><td>1.166822e-06</td><td>1.987178e-06</td><td>1.645644e-06</td><td>1.058688e-06</td><td>2.167594e-06</td><td>4.459376e-07</td><td>1.827358e-06</td><td>2.891286e-06</td><td>1.605666e-06</td></tr>\n",
       "\t<tr><td>29193101</td><td>1.164755e-07</td><td>2.159843e-07</td><td>2.434891e-07</td><td>1.507343e-07</td><td>5.357397e-08</td><td>1.504914e-07</td><td>2.900950e-08</td><td>3.682775e-08</td><td>1.684066e-07</td><td>⋯</td><td>7.175934e-08</td><td>1.399446e-07</td><td>8.430762e-08</td><td>7.809771e-08</td><td>9.850179e-08</td><td>1.580801e-07</td><td>2.010516e-07</td><td>9.130028e-08</td><td>6.272997e-08</td><td>8.095828e-08</td></tr>\n",
       "\t<tr><td>29193281</td><td>2.585014e-06</td><td>1.416862e-06</td><td>3.261952e-06</td><td>3.969870e-07</td><td>1.429361e-06</td><td>3.268936e-06</td><td>1.822125e-06</td><td>1.648122e-06</td><td>2.005968e-06</td><td>⋯</td><td>1.220387e-06</td><td>3.211972e-06</td><td>6.280219e-06</td><td>1.602932e-06</td><td>3.714896e-06</td><td>3.774277e-06</td><td>2.943926e-06</td><td>3.449513e-06</td><td>1.617762e-06</td><td>2.262378e-06</td></tr>\n",
       "\t<tr><td>29198891</td><td>2.951697e-06</td><td>1.664187e-06</td><td>5.533891e-06</td><td>1.685118e-06</td><td>2.227713e-06</td><td>2.373410e-06</td><td>1.761882e-06</td><td>3.709892e-06</td><td>3.597709e-06</td><td>⋯</td><td>1.352259e-06</td><td>3.794449e-06</td><td>1.574116e-06</td><td>5.645271e-06</td><td>5.433558e-06</td><td>2.383721e-06</td><td>2.894946e-06</td><td>1.626858e-06</td><td>4.110320e-06</td><td>2.462700e-06</td></tr>\n",
       "\t<tr><td>29200651</td><td>6.429063e-06</td><td>4.065166e-06</td><td>3.782227e-06</td><td>3.490201e-06</td><td>4.979485e-06</td><td>3.963793e-06</td><td>4.110424e-06</td><td>6.682811e-06</td><td>4.809463e-06</td><td>⋯</td><td>7.229211e-06</td><td>7.196391e-06</td><td>6.909225e-06</td><td>7.329433e-06</td><td>3.482324e-06</td><td>2.075623e-05</td><td>2.051891e-06</td><td>2.719858e-06</td><td>8.074995e-06</td><td>1.347980e-05</td></tr>\n",
       "\t<tr><td>29201701</td><td>1.041887e-06</td><td>1.037821e-06</td><td>1.520001e-06</td><td>2.821374e-06</td><td>4.780980e-07</td><td>1.394099e-06</td><td>2.971835e-07</td><td>6.069834e-07</td><td>7.672543e-07</td><td>⋯</td><td>8.342750e-07</td><td>1.195500e-06</td><td>6.003185e-07</td><td>3.302460e-07</td><td>1.046355e-06</td><td>1.473654e-06</td><td>7.694957e-07</td><td>1.113129e-06</td><td>6.701994e-07</td><td>1.342958e-06</td></tr>\n",
       "\t<tr><td>29205441</td><td>4.667099e-04</td><td>2.849350e-04</td><td>1.698259e-04</td><td>7.265066e-04</td><td>1.219138e-03</td><td>3.218507e-04</td><td>3.015291e-04</td><td>1.790046e-04</td><td>5.938617e-04</td><td>⋯</td><td>4.305391e-04</td><td>1.042950e-03</td><td>2.727657e-04</td><td>9.480974e-04</td><td>2.921844e-04</td><td>5.488907e-04</td><td>1.942365e-04</td><td>2.698470e-04</td><td>7.159752e-04</td><td>1.885279e-04</td></tr>\n",
       "\t<tr><td>29207901</td><td>1.490032e-04</td><td>3.215226e-04</td><td>9.086954e-05</td><td>1.582395e-04</td><td>9.025713e-05</td><td>8.742969e-05</td><td>2.792426e-04</td><td>1.101937e-04</td><td>2.411588e-05</td><td>⋯</td><td>4.478722e-04</td><td>3.903533e-05</td><td>1.727436e-04</td><td>1.712075e-04</td><td>7.331072e-05</td><td>2.759038e-04</td><td>1.928289e-04</td><td>8.934596e-05</td><td>1.168583e-04</td><td>1.055468e-04</td></tr>\n",
       "\t<tr><td>29243631</td><td>6.779586e-07</td><td>2.766237e-07</td><td>1.328483e-07</td><td>6.833958e-07</td><td>9.104092e-07</td><td>5.413640e-07</td><td>5.831507e-07</td><td>7.285809e-07</td><td>4.291777e-07</td><td>⋯</td><td>1.220722e-06</td><td>3.016290e-07</td><td>3.317227e-07</td><td>1.212373e-06</td><td>2.908028e-07</td><td>6.990887e-07</td><td>5.140583e-07</td><td>3.864434e-07</td><td>1.833947e-06</td><td>6.873849e-07</td></tr>\n",
       "\t<tr><td>29251231</td><td>7.333005e-06</td><td>4.717023e-06</td><td>1.139907e-05</td><td>3.059057e-06</td><td>4.413309e-06</td><td>3.597705e-06</td><td>2.667593e-06</td><td>7.777435e-06</td><td>2.987937e-06</td><td>⋯</td><td>8.927908e-06</td><td>5.284505e-06</td><td>6.377128e-06</td><td>4.040441e-06</td><td>3.523054e-05</td><td>3.335377e-06</td><td>2.744744e-06</td><td>1.115615e-05</td><td>5.287691e-06</td><td>4.893367e-06</td></tr>\n",
       "\t<tr><td>29257551</td><td>4.518292e-07</td><td>6.616705e-07</td><td>6.183746e-07</td><td>3.020220e-07</td><td>6.835293e-07</td><td>1.262467e-07</td><td>9.070471e-07</td><td>3.245764e-07</td><td>2.979054e-07</td><td>⋯</td><td>6.454887e-07</td><td>2.461618e-07</td><td>2.122837e-07</td><td>3.487113e-07</td><td>6.366853e-07</td><td>4.710125e-07</td><td>4.146769e-07</td><td>4.152203e-07</td><td>3.318989e-07</td><td>4.635510e-07</td></tr>\n",
       "\t<tr><td>29267141</td><td>4.617897e-07</td><td>3.749902e-07</td><td>2.686045e-07</td><td>3.663200e-07</td><td>1.729996e-07</td><td>3.355372e-07</td><td>7.776265e-07</td><td>6.105793e-07</td><td>3.565481e-07</td><td>⋯</td><td>1.594819e-07</td><td>5.056624e-07</td><td>8.389842e-07</td><td>4.081610e-07</td><td>6.758944e-07</td><td>8.322588e-07</td><td>5.536812e-07</td><td>1.704373e-07</td><td>3.138565e-07</td><td>5.580301e-07</td></tr>\n",
       "\t<tr><td>29277081</td><td>8.506735e-07</td><td>4.658642e-07</td><td>4.753800e-07</td><td>1.344255e-06</td><td>1.019760e-06</td><td>5.878447e-07</td><td>1.615538e-06</td><td>2.474320e-07</td><td>1.153344e-06</td><td>⋯</td><td>1.855732e-06</td><td>4.463281e-07</td><td>4.603995e-07</td><td>1.062100e-06</td><td>2.497594e-07</td><td>4.796167e-07</td><td>2.297712e-07</td><td>1.878687e-06</td><td>1.579457e-06</td><td>6.547957e-07</td></tr>\n",
       "\t<tr><td>29284331</td><td>1.769818e-05</td><td>1.378579e-05</td><td>3.376120e-05</td><td>2.215019e-05</td><td>4.616508e-05</td><td>1.708551e-05</td><td>1.517081e-05</td><td>1.224604e-05</td><td>7.570787e-06</td><td>⋯</td><td>4.379289e-06</td><td>1.226158e-05</td><td>2.712014e-05</td><td>5.187350e-05</td><td>2.090589e-05</td><td>9.694946e-06</td><td>6.171593e-06</td><td>9.204282e-06</td><td>1.068038e-05</td><td>1.318782e-05</td></tr>\n",
       "\t<tr><td>29286091</td><td>1.025386e-05</td><td>1.444269e-05</td><td>1.029284e-05</td><td>9.082128e-06</td><td>6.125643e-06</td><td>2.346291e-05</td><td>6.420605e-06</td><td>3.280713e-06</td><td>4.098902e-06</td><td>⋯</td><td>9.183229e-06</td><td>5.421861e-06</td><td>5.392034e-06</td><td>5.236524e-06</td><td>3.874594e-06</td><td>1.187239e-05</td><td>2.579374e-05</td><td>1.021327e-05</td><td>1.623960e-05</td><td>1.395655e-05</td></tr>\n",
       "\t<tr><td>29288251</td><td>2.917498e-05</td><td>2.449372e-05</td><td>3.386267e-05</td><td>2.264703e-05</td><td>1.233634e-05</td><td>1.429278e-05</td><td>3.636858e-05</td><td>1.147841e-05</td><td>1.259151e-05</td><td>⋯</td><td>3.542184e-05</td><td>9.664684e-05</td><td>6.671189e-05</td><td>1.828239e-05</td><td>2.087809e-05</td><td>2.361009e-05</td><td>1.087121e-05</td><td>1.603637e-05</td><td>2.028061e-05</td><td>4.659164e-05</td></tr>\n",
       "\t<tr><td>29289361</td><td>1.226929e-06</td><td>3.100205e-06</td><td>3.960838e-06</td><td>2.209077e-06</td><td>9.693269e-08</td><td>2.022191e-06</td><td>9.854267e-07</td><td>8.099298e-07</td><td>1.440237e-06</td><td>⋯</td><td>1.294111e-06</td><td>5.270910e-07</td><td>1.507757e-06</td><td>4.650197e-07</td><td>6.747309e-07</td><td>3.643687e-07</td><td>1.688090e-07</td><td>2.010168e-06</td><td>5.434893e-07</td><td>2.581569e-07</td></tr>\n",
       "\t<tr><td>29292171</td><td>1.232495e-05</td><td>2.364129e-05</td><td>1.541560e-05</td><td>4.020997e-06</td><td>3.533667e-06</td><td>1.014336e-05</td><td>1.613302e-05</td><td>1.761405e-05</td><td>1.277764e-05</td><td>⋯</td><td>1.459004e-05</td><td>9.219779e-06</td><td>1.204645e-05</td><td>1.725269e-05</td><td>1.140444e-06</td><td>8.931992e-06</td><td>1.305723e-05</td><td>1.962965e-05</td><td>1.260831e-05</td><td>1.699323e-05</td></tr>\n",
       "\t<tr><td>29297201</td><td>1.173745e-06</td><td>6.817715e-07</td><td>6.098160e-07</td><td>6.879156e-07</td><td>2.182988e-06</td><td>1.370543e-06</td><td>1.778628e-06</td><td>1.154824e-06</td><td>1.359457e-06</td><td>⋯</td><td>6.387941e-07</td><td>6.858848e-07</td><td>7.652616e-07</td><td>7.173535e-07</td><td>4.922354e-07</td><td>2.452730e-06</td><td>1.118104e-06</td><td>2.279134e-06</td><td>1.042200e-06</td><td>5.830006e-07</td></tr>\n",
       "\t<tr><td>29298431</td><td>4.885651e-06</td><td>1.290969e-06</td><td>2.969219e-06</td><td>4.025787e-06</td><td>2.722932e-06</td><td>4.071851e-06</td><td>2.929264e-06</td><td>5.628359e-06</td><td>2.723928e-06</td><td>⋯</td><td>4.479843e-06</td><td>4.233988e-06</td><td>1.804453e-05</td><td>1.417413e-05</td><td>1.784784e-06</td><td>4.167776e-06</td><td>9.426916e-06</td><td>2.256299e-06</td><td>2.343856e-06</td><td>5.082984e-06</td></tr>\n",
       "\t<tr><td>29300881</td><td>7.307917e-07</td><td>1.240912e-06</td><td>2.915567e-07</td><td>8.880403e-07</td><td>9.041642e-07</td><td>5.190732e-07</td><td>4.292968e-07</td><td>6.398265e-07</td><td>9.331390e-07</td><td>⋯</td><td>1.420070e-06</td><td>9.057603e-07</td><td>2.677134e-07</td><td>1.051270e-06</td><td>6.032935e-07</td><td>6.587129e-07</td><td>5.167210e-07</td><td>6.409855e-07</td><td>8.861532e-07</td><td>6.276254e-07</td></tr>\n",
       "\t<tr><td>29300941</td><td>1.258109e-07</td><td>1.057010e-07</td><td>1.669040e-07</td><td>1.082292e-07</td><td>1.403313e-07</td><td>1.356349e-07</td><td>8.284232e-08</td><td>1.776348e-07</td><td>6.446120e-08</td><td>⋯</td><td>6.606515e-08</td><td>1.850055e-07</td><td>8.157162e-08</td><td>1.156714e-07</td><td>1.270204e-07</td><td>1.356895e-07</td><td>4.912219e-08</td><td>1.538293e-07</td><td>1.097259e-07</td><td>2.921992e-07</td></tr>\n",
       "\t<tr><td>29304511</td><td>9.178956e-06</td><td>1.138849e-05</td><td>1.760433e-05</td><td>4.239294e-06</td><td>1.119965e-05</td><td>7.879770e-06</td><td>1.028343e-05</td><td>5.361302e-06</td><td>6.354229e-06</td><td>⋯</td><td>2.128880e-06</td><td>4.636491e-06</td><td>9.672975e-06</td><td>4.994641e-06</td><td>1.310616e-05</td><td>5.794415e-06</td><td>1.332501e-05</td><td>1.260970e-05</td><td>1.440876e-05</td><td>7.509567e-06</td></tr>\n",
       "\t<tr><td>29325391</td><td>2.440452e-06</td><td>2.216950e-06</td><td>1.391163e-06</td><td>1.749502e-06</td><td>1.327253e-06</td><td>4.215700e-06</td><td>2.234049e-06</td><td>2.304883e-06</td><td>4.455503e-06</td><td>⋯</td><td>2.248538e-06</td><td>2.352468e-06</td><td>4.332709e-06</td><td>2.230533e-06</td><td>2.097627e-06</td><td>1.004246e-06</td><td>2.390541e-06</td><td>2.335742e-06</td><td>3.249922e-06</td><td>1.547362e-06</td></tr>\n",
       "\t<tr><td>29344801</td><td>2.157590e-07</td><td>2.413552e-07</td><td>2.448713e-07</td><td>1.178653e-07</td><td>1.331311e-07</td><td>4.034935e-07</td><td>4.018897e-07</td><td>3.096110e-07</td><td>1.218714e-07</td><td>⋯</td><td>2.464681e-07</td><td>1.204243e-07</td><td>3.134111e-07</td><td>5.216084e-08</td><td>2.515607e-07</td><td>1.540235e-07</td><td>1.501710e-07</td><td>4.638926e-07</td><td>1.347884e-07</td><td>6.030435e-08</td></tr>\n",
       "\t<tr><td>29344861</td><td>2.257778e-06</td><td>1.062550e-06</td><td>2.822455e-06</td><td>1.603081e-06</td><td>1.151029e-06</td><td>8.886984e-07</td><td>4.517381e-06</td><td>1.566961e-06</td><td>3.662810e-06</td><td>⋯</td><td>2.595448e-06</td><td>6.036546e-06</td><td>1.994625e-06</td><td>9.678477e-07</td><td>2.886994e-06</td><td>1.355058e-06</td><td>2.418834e-06</td><td>2.733540e-06</td><td>2.518788e-06</td><td>1.519240e-06</td></tr>\n",
       "\t<tr><td>29346321</td><td>2.118811e-07</td><td>1.586770e-07</td><td>2.246262e-07</td><td>1.411243e-07</td><td>2.166565e-07</td><td>1.091014e-07</td><td>3.783269e-07</td><td>1.822491e-07</td><td>3.683671e-07</td><td>⋯</td><td>1.258049e-07</td><td>1.442964e-07</td><td>2.357366e-07</td><td>1.644854e-07</td><td>3.260339e-07</td><td>1.324556e-07</td><td>1.110855e-07</td><td>2.004024e-07</td><td>2.693508e-07</td><td>4.309043e-07</td></tr>\n",
       "\t<tr><td>29347841</td><td>3.522488e-07</td><td>2.100026e-07</td><td>2.398495e-07</td><td>1.833248e-07</td><td>4.107065e-07</td><td>8.824561e-07</td><td>4.560430e-07</td><td>2.482768e-07</td><td>3.097096e-07</td><td>⋯</td><td>1.152829e-07</td><td>3.138107e-07</td><td>3.452847e-07</td><td>6.881103e-07</td><td>3.178537e-07</td><td>1.961208e-07</td><td>1.984583e-07</td><td>2.742210e-07</td><td>4.037634e-07</td><td>1.542369e-07</td></tr>\n",
       "\t<tr><td>29347901</td><td>6.828275e-07</td><td>6.604950e-07</td><td>9.654457e-07</td><td>9.433131e-07</td><td>4.997444e-07</td><td>4.747627e-07</td><td>4.451714e-07</td><td>3.139241e-07</td><td>1.305928e-06</td><td>⋯</td><td>3.681364e-07</td><td>7.205907e-07</td><td>5.077749e-07</td><td>7.971811e-07</td><td>9.646580e-07</td><td>1.368382e-06</td><td>7.771707e-07</td><td>3.906026e-07</td><td>4.745173e-07</td><td>5.828157e-07</td></tr>\n",
       "\t<tr><td>⋮</td><td>⋮</td><td>⋮</td><td>⋮</td><td>⋮</td><td>⋮</td><td>⋮</td><td>⋮</td><td>⋮</td><td>⋮</td><td>⋱</td><td>⋮</td><td>⋮</td><td>⋮</td><td>⋮</td><td>⋮</td><td>⋮</td><td>⋮</td><td>⋮</td><td>⋮</td><td>⋮</td></tr>\n",
       "\t<tr><td>186827251</td><td>1.245957e-03</td><td>1.158667e-03</td><td>2.777113e-04</td><td>1.182750e-03</td><td>1.458233e-03</td><td>9.360678e-04</td><td>7.714933e-04</td><td>4.843679e-04</td><td>3.040317e-04</td><td>⋯</td><td>1.140735e-03</td><td>2.419341e-03</td><td>8.754823e-04</td><td>1.696974e-03</td><td>1.365617e-03</td><td>6.046298e-04</td><td>6.032675e-04</td><td>2.430760e-03</td><td>1.517288e-03</td><td>2.609538e-03</td></tr>\n",
       "\t<tr><td>186829241</td><td>3.421040e-05</td><td>2.209386e-05</td><td>1.699602e-05</td><td>1.673444e-05</td><td>3.260404e-05</td><td>6.155445e-05</td><td>2.694254e-05</td><td>5.451177e-05</td><td>5.048436e-05</td><td>⋯</td><td>8.549169e-05</td><td>3.725897e-05</td><td>5.698051e-05</td><td>1.135294e-05</td><td>1.886846e-05</td><td>7.216070e-05</td><td>1.321029e-05</td><td>3.617433e-05</td><td>5.643225e-06</td><td>5.528714e-06</td></tr>\n",
       "\t<tr><td>186866381</td><td>9.127702e-08</td><td>1.861268e-07</td><td>9.893605e-08</td><td>6.389570e-08</td><td>5.488601e-08</td><td>8.439122e-08</td><td>8.775999e-08</td><td>5.961037e-08</td><td>1.032495e-07</td><td>⋯</td><td>8.042377e-08</td><td>5.359459e-08</td><td>5.907994e-08</td><td>5.450300e-08</td><td>5.835391e-08</td><td>1.902596e-07</td><td>6.716521e-08</td><td>2.071627e-07</td><td>2.346109e-08</td><td>1.256999e-07</td></tr>\n",
       "\t<tr><td>186874801</td><td>1.042436e-03</td><td>6.608573e-04</td><td>1.333949e-03</td><td>6.239027e-04</td><td>8.040187e-04</td><td>9.186067e-04</td><td>1.805243e-03</td><td>7.302295e-04</td><td>7.276299e-04</td><td>⋯</td><td>8.687911e-04</td><td>1.042429e-03</td><td>1.160302e-03</td><td>5.918320e-04</td><td>1.042403e-03</td><td>6.532838e-04</td><td>1.134215e-03</td><td>1.299443e-03</td><td>1.654809e-03</td><td>1.848887e-03</td></tr>\n",
       "\t<tr><td>186899651</td><td>7.209667e-06</td><td>3.410475e-06</td><td>3.083903e-06</td><td>1.426851e-05</td><td>1.857971e-05</td><td>2.999270e-06</td><td>6.198503e-06</td><td>5.762258e-06</td><td>1.666275e-06</td><td>⋯</td><td>4.514093e-06</td><td>1.196842e-05</td><td>2.964126e-06</td><td>6.157572e-06</td><td>3.501848e-06</td><td>1.742638e-05</td><td>6.604937e-06</td><td>4.596820e-06</td><td>5.591027e-06</td><td>8.555294e-06</td></tr>\n",
       "\t<tr><td>187021641</td><td>9.953896e-07</td><td>6.486403e-07</td><td>1.580717e-07</td><td>5.526851e-07</td><td>1.512996e-06</td><td>5.590633e-07</td><td>8.483289e-07</td><td>4.821737e-07</td><td>4.566993e-07</td><td>⋯</td><td>1.274122e-06</td><td>1.155245e-06</td><td>4.866840e-07</td><td>2.689009e-06</td><td>8.283954e-07</td><td>1.704151e-06</td><td>1.365631e-06</td><td>6.215062e-07</td><td>5.917094e-07</td><td>1.210867e-06</td></tr>\n",
       "\t<tr><td>187060301</td><td>1.620207e-07</td><td>6.819847e-08</td><td>2.566127e-07</td><td>1.159056e-07</td><td>2.697533e-08</td><td>1.456883e-07</td><td>2.361439e-07</td><td>1.374296e-07</td><td>9.727038e-08</td><td>⋯</td><td>6.969573e-08</td><td>1.744187e-07</td><td>1.817272e-07</td><td>2.479434e-07</td><td>2.824317e-07</td><td>3.132180e-07</td><td>5.317056e-08</td><td>1.178422e-07</td><td>4.768104e-08</td><td>1.378712e-07</td></tr>\n",
       "\t<tr><td>187066091</td><td>6.721760e-08</td><td>2.970988e-08</td><td>5.145488e-08</td><td>8.703719e-08</td><td>1.079812e-07</td><td>1.148541e-07</td><td>3.198736e-08</td><td>1.343224e-08</td><td>3.403394e-08</td><td>⋯</td><td>1.181325e-07</td><td>2.504976e-07</td><td>3.265786e-08</td><td>5.534556e-08</td><td>4.334606e-08</td><td>6.485954e-08</td><td>5.600752e-08</td><td>2.847609e-08</td><td>7.257595e-08</td><td>4.685095e-08</td></tr>\n",
       "\t<tr><td>187170651</td><td>9.413067e-08</td><td>1.774472e-07</td><td>5.021370e-08</td><td>5.950811e-08</td><td>9.039651e-08</td><td>6.653371e-08</td><td>5.089257e-08</td><td>4.837044e-08</td><td>6.480984e-08</td><td>⋯</td><td>1.025164e-07</td><td>3.837690e-07</td><td>4.435829e-08</td><td>8.573386e-08</td><td>1.210493e-07</td><td>9.608791e-08</td><td>6.357126e-08</td><td>5.296586e-08</td><td>5.952588e-08</td><td>5.957609e-08</td></tr>\n",
       "\t<tr><td>187203931</td><td>6.258061e-06</td><td>8.767531e-06</td><td>3.852264e-06</td><td>6.574528e-06</td><td>8.296313e-06</td><td>3.429430e-06</td><td>2.948890e-06</td><td>7.011969e-06</td><td>4.169249e-06</td><td>⋯</td><td>3.672157e-06</td><td>4.218746e-06</td><td>3.325631e-06</td><td>4.586320e-06</td><td>5.547475e-06</td><td>2.559979e-05</td><td>2.945387e-06</td><td>1.057448e-05</td><td>6.129816e-06</td><td>3.456909e-06</td></tr>\n",
       "\t<tr><td>187233931</td><td>8.599205e-08</td><td>1.164138e-07</td><td>1.443575e-07</td><td>8.335009e-08</td><td>3.771995e-08</td><td>1.343313e-07</td><td>3.400960e-08</td><td>2.811834e-08</td><td>6.963405e-08</td><td>⋯</td><td>2.320035e-07</td><td>1.301500e-07</td><td>3.365994e-08</td><td>6.638903e-08</td><td>3.991698e-08</td><td>8.546526e-08</td><td>5.098743e-08</td><td>1.282196e-07</td><td>8.594954e-08</td><td>1.259981e-07</td></tr>\n",
       "\t<tr><td>187269951</td><td>2.631976e-07</td><td>3.791761e-07</td><td>1.362000e-07</td><td>2.016782e-07</td><td>2.474788e-07</td><td>2.506817e-07</td><td>1.861095e-07</td><td>2.106933e-07</td><td>3.763438e-07</td><td>⋯</td><td>1.755697e-07</td><td>1.659806e-07</td><td>8.906551e-08</td><td>2.831060e-07</td><td>2.198064e-07</td><td>3.035603e-07</td><td>1.645940e-07</td><td>3.744688e-07</td><td>2.057395e-07</td><td>2.234391e-07</td></tr>\n",
       "\t<tr><td>187272641</td><td>1.787076e-03</td><td>1.165992e-03</td><td>2.108716e-03</td><td>1.118711e-03</td><td>1.592344e-03</td><td>2.960335e-03</td><td>1.636009e-03</td><td>2.301309e-03</td><td>1.275878e-03</td><td>⋯</td><td>1.734909e-03</td><td>1.701798e-03</td><td>1.325388e-03</td><td>1.328359e-03</td><td>1.576442e-03</td><td>2.020970e-03</td><td>8.038433e-04</td><td>1.544916e-03</td><td>1.100464e-03</td><td>1.852768e-03</td></tr>\n",
       "\t<tr><td>187314281</td><td>5.500941e-07</td><td>2.473620e-07</td><td>1.298499e-07</td><td>1.005871e-06</td><td>3.237467e-07</td><td>4.373950e-07</td><td>1.866293e-07</td><td>7.182019e-07</td><td>9.913336e-07</td><td>⋯</td><td>5.767810e-07</td><td>6.538218e-07</td><td>2.847717e-07</td><td>7.754225e-07</td><td>1.292488e-06</td><td>1.297468e-06</td><td>3.992587e-07</td><td>6.735794e-07</td><td>1.871525e-07</td><td>2.609514e-07</td></tr>\n",
       "\t<tr><td>187332121</td><td>3.091117e-06</td><td>2.335014e-06</td><td>3.401159e-06</td><td>3.798032e-06</td><td>5.864270e-06</td><td>4.550049e-06</td><td>1.207651e-06</td><td>3.558142e-06</td><td>1.974326e-06</td><td>⋯</td><td>3.040366e-06</td><td>3.573185e-06</td><td>3.506216e-06</td><td>2.289065e-06</td><td>1.739774e-06</td><td>4.114867e-06</td><td>3.715722e-06</td><td>4.097468e-06</td><td>2.645247e-06</td><td>1.882951e-06</td></tr>\n",
       "\t<tr><td>187346211</td><td>1.533417e-06</td><td>2.130898e-06</td><td>1.627356e-06</td><td>7.671672e-07</td><td>6.192264e-07</td><td>7.485583e-07</td><td>5.376042e-07</td><td>1.309093e-06</td><td>1.528706e-06</td><td>⋯</td><td>3.758518e-06</td><td>2.428276e-06</td><td>1.368605e-06</td><td>9.613243e-07</td><td>3.987474e-07</td><td>2.523317e-06</td><td>4.297899e-07</td><td>6.347206e-06</td><td>9.439702e-07</td><td>6.853743e-07</td></tr>\n",
       "\t<tr><td>187350011</td><td>2.625961e-06</td><td>2.230533e-06</td><td>8.546995e-06</td><td>1.762089e-06</td><td>2.372255e-06</td><td>2.440540e-06</td><td>1.209427e-06</td><td>3.493832e-06</td><td>1.705903e-06</td><td>⋯</td><td>1.413626e-06</td><td>2.458677e-06</td><td>1.130492e-06</td><td>2.292694e-06</td><td>8.202333e-07</td><td>1.354871e-06</td><td>5.924791e-06</td><td>1.682434e-06</td><td>1.706695e-06</td><td>5.770845e-06</td></tr>\n",
       "\t<tr><td>187400951</td><td>5.829341e-05</td><td>7.019683e-05</td><td>8.397936e-05</td><td>4.307065e-05</td><td>3.813022e-05</td><td>5.883206e-05</td><td>9.565280e-05</td><td>4.723474e-05</td><td>4.487400e-05</td><td>⋯</td><td>4.519987e-05</td><td>2.983617e-05</td><td>3.739478e-05</td><td>7.244722e-05</td><td>3.864105e-05</td><td>1.120600e-04</td><td>5.724819e-05</td><td>5.908635e-05</td><td>4.410720e-05</td><td>7.470720e-05</td></tr>\n",
       "\t<tr><td>187429081</td><td>1.174593e-05</td><td>9.910596e-06</td><td>4.692629e-06</td><td>1.100370e-05</td><td>2.226019e-05</td><td>3.847922e-06</td><td>5.458256e-06</td><td>1.212176e-05</td><td>1.563717e-05</td><td>⋯</td><td>1.384653e-05</td><td>5.269311e-06</td><td>1.028040e-05</td><td>1.448361e-05</td><td>2.312440e-05</td><td>1.414407e-05</td><td>1.023933e-05</td><td>1.558417e-05</td><td>9.075300e-06</td><td>7.691399e-06</td></tr>\n",
       "\t<tr><td>187434871</td><td>5.117075e-04</td><td>1.229358e-04</td><td>3.052775e-04</td><td>4.199466e-04</td><td>4.631169e-04</td><td>5.464964e-04</td><td>2.422634e-04</td><td>5.234987e-04</td><td>2.134414e-04</td><td>⋯</td><td>4.331527e-04</td><td>3.950575e-04</td><td>5.782731e-04</td><td>1.294413e-03</td><td>5.957723e-04</td><td>4.784631e-04</td><td>8.416602e-04</td><td>6.239852e-04</td><td>2.947082e-04</td><td>1.293233e-03</td></tr>\n",
       "\t<tr><td>187594641</td><td>1.093656e-05</td><td>4.183229e-06</td><td>9.787984e-06</td><td>1.130415e-05</td><td>1.025869e-05</td><td>9.602520e-06</td><td>1.366206e-05</td><td>6.527143e-06</td><td>1.005413e-05</td><td>⋯</td><td>1.152163e-05</td><td>5.383913e-06</td><td>6.407985e-06</td><td>2.677529e-05</td><td>1.105756e-05</td><td>1.388656e-05</td><td>6.724805e-06</td><td>1.824855e-05</td><td>5.109003e-06</td><td>1.300775e-05</td></tr>\n",
       "\t<tr><td>187604521</td><td>2.788567e-04</td><td>1.448545e-04</td><td>5.445333e-04</td><td>1.820451e-04</td><td>2.092609e-04</td><td>4.432512e-04</td><td>3.518294e-04</td><td>6.014579e-04</td><td>1.607812e-04</td><td>⋯</td><td>2.955882e-04</td><td>3.167467e-04</td><td>1.576581e-04</td><td>1.696003e-04</td><td>1.725876e-04</td><td>3.104977e-04</td><td>4.017152e-04</td><td>1.379374e-04</td><td>2.545444e-04</td><td>3.447023e-04</td></tr>\n",
       "\t<tr><td>187626041</td><td>2.306505e-04</td><td>1.487839e-04</td><td>3.221255e-04</td><td>1.213925e-04</td><td>2.696200e-04</td><td>3.029686e-04</td><td>9.678872e-05</td><td>1.752975e-04</td><td>2.267360e-04</td><td>⋯</td><td>2.001218e-04</td><td>1.672433e-04</td><td>3.731874e-04</td><td>4.133648e-04</td><td>2.535348e-04</td><td>3.157181e-04</td><td>2.857283e-04</td><td>2.379503e-04</td><td>1.250877e-04</td><td>2.341322e-04</td></tr>\n",
       "\t<tr><td>187636041</td><td>1.533273e-08</td><td>1.331853e-08</td><td>4.002578e-08</td><td>9.567315e-09</td><td>2.068902e-08</td><td>1.669399e-08</td><td>1.626623e-08</td><td>4.735851e-09</td><td>8.686849e-09</td><td>⋯</td><td>3.167238e-08</td><td>1.604207e-08</td><td>6.369469e-09</td><td>1.160430e-08</td><td>1.163407e-08</td><td>1.656218e-08</td><td>5.206466e-09</td><td>2.781717e-08</td><td>9.095005e-09</td><td>2.145027e-08</td></tr>\n",
       "\t<tr><td>187827511</td><td>3.496132e-04</td><td>2.919132e-04</td><td>8.778856e-04</td><td>3.434920e-04</td><td>5.222528e-04</td><td>2.055957e-04</td><td>2.951965e-04</td><td>3.865053e-04</td><td>2.633184e-04</td><td>⋯</td><td>3.519688e-04</td><td>2.303127e-04</td><td>2.775672e-04</td><td>2.968714e-04</td><td>3.036567e-04</td><td>6.024153e-04</td><td>2.903616e-04</td><td>2.216194e-04</td><td>1.820003e-04</td><td>3.756653e-04</td></tr>\n",
       "\t<tr><td>187838971</td><td>1.705358e-02</td><td>1.254242e-02</td><td>1.065684e-02</td><td>2.324624e-02</td><td>2.251555e-02</td><td>2.547391e-02</td><td>2.444112e-02</td><td>1.071927e-02</td><td>1.044688e-02</td><td>⋯</td><td>2.904473e-02</td><td>1.640524e-02</td><td>1.443556e-02</td><td>1.492225e-02</td><td>1.605917e-02</td><td>1.171032e-02</td><td>3.649263e-02</td><td>1.557130e-02</td><td>1.163199e-02</td><td>1.254972e-02</td></tr>\n",
       "\t<tr><td>187902361</td><td>4.697167e-03</td><td>2.407905e-03</td><td>5.201248e-03</td><td>6.723314e-03</td><td>5.070855e-03</td><td>7.404402e-03</td><td>2.610576e-03</td><td>2.994794e-03</td><td>6.881722e-03</td><td>⋯</td><td>4.190236e-03</td><td>3.937958e-03</td><td>3.581855e-03</td><td>4.151958e-03</td><td>4.726381e-03</td><td>3.224354e-03</td><td>4.285343e-03</td><td>3.851128e-03</td><td>2.533513e-03</td><td>3.540643e-03</td></tr>\n",
       "\t<tr><td>187956461</td><td>3.772028e-03</td><td>1.316822e-03</td><td>3.597627e-03</td><td>4.687035e-03</td><td>4.273771e-03</td><td>2.978810e-03</td><td>1.381256e-03</td><td>3.953735e-03</td><td>8.386748e-03</td><td>⋯</td><td>4.079291e-03</td><td>2.275653e-03</td><td>2.448245e-03</td><td>3.162798e-03</td><td>3.319343e-03</td><td>3.535144e-03</td><td>5.469955e-03</td><td>2.160997e-03</td><td>1.971572e-03</td><td>4.270869e-03</td></tr>\n",
       "\t<tr><td>187964701</td><td>2.996867e-02</td><td>1.812989e-02</td><td>3.719982e-02</td><td>3.010486e-02</td><td>4.372880e-02</td><td>3.434480e-02</td><td>3.029212e-02</td><td>1.364656e-02</td><td>2.536711e-02</td><td>⋯</td><td>2.310792e-02</td><td>2.812047e-02</td><td>2.075766e-02</td><td>2.586247e-02</td><td>1.345780e-02</td><td>1.892918e-02</td><td>6.172438e-02</td><td>4.237664e-02</td><td>3.081777e-02</td><td>3.301367e-02</td></tr>\n",
       "\t<tr><td>188116871</td><td>3.499416e-05</td><td>3.947967e-05</td><td>4.332379e-05</td><td>5.210576e-05</td><td>4.983505e-05</td><td>4.722550e-05</td><td>3.496983e-05</td><td>4.358603e-05</td><td>1.802493e-05</td><td>⋯</td><td>1.274130e-05</td><td>2.649859e-05</td><td>2.358338e-05</td><td>2.974019e-05</td><td>5.387857e-05</td><td>2.699743e-05</td><td>2.903654e-05</td><td>3.331186e-05</td><td>3.575603e-05</td><td>1.881656e-05</td></tr>\n",
       "</tbody>\n",
       "</table>\n"
      ],
      "text/latex": [
       "A data.table: 16551 × 22\n",
       "\\begin{tabular}{lllllllllllllllllllll}\n",
       " numero\\_de\\_cliente & prob & prob\\_1 & prob\\_2 & prob\\_3 & prob\\_4 & prob\\_5 & prob\\_6 & prob\\_7 & prob\\_8 & ⋯ & prob\\_11 & prob\\_12 & prob\\_13 & prob\\_14 & prob\\_15 & prob\\_16 & prob\\_17 & prob\\_18 & prob\\_19 & prob\\_20\\\\\n",
       " <int> & <dbl> & <dbl> & <dbl> & <dbl> & <dbl> & <dbl> & <dbl> & <dbl> & <dbl> & ⋯ & <dbl> & <dbl> & <dbl> & <dbl> & <dbl> & <dbl> & <dbl> & <dbl> & <dbl> & <dbl>\\\\\n",
       "\\hline\n",
       "\t 29186441 & 1.445743e-05 & 8.326157e-06 & 1.534497e-05 & 1.195028e-05 & 1.725044e-05 & 1.079014e-05 & 1.152995e-05 & 5.005125e-06 & 8.337535e-06 & ⋯ & 1.108910e-05 & 1.264722e-05 & 2.089985e-05 & 9.357584e-06 & 6.394213e-05 & 1.145921e-05 & 6.148770e-06 & 1.435406e-05 & 1.817493e-05 & 1.068988e-05\\\\\n",
       "\t 29187961 & 2.080325e-06 & 1.579824e-06 & 4.413588e-06 & 2.029124e-06 & 3.272348e-06 & 6.948096e-07 & 2.220626e-06 & 2.036847e-06 & 2.109541e-06 & ⋯ & 5.539286e-06 & 1.166822e-06 & 1.987178e-06 & 1.645644e-06 & 1.058688e-06 & 2.167594e-06 & 4.459376e-07 & 1.827358e-06 & 2.891286e-06 & 1.605666e-06\\\\\n",
       "\t 29193101 & 1.164755e-07 & 2.159843e-07 & 2.434891e-07 & 1.507343e-07 & 5.357397e-08 & 1.504914e-07 & 2.900950e-08 & 3.682775e-08 & 1.684066e-07 & ⋯ & 7.175934e-08 & 1.399446e-07 & 8.430762e-08 & 7.809771e-08 & 9.850179e-08 & 1.580801e-07 & 2.010516e-07 & 9.130028e-08 & 6.272997e-08 & 8.095828e-08\\\\\n",
       "\t 29193281 & 2.585014e-06 & 1.416862e-06 & 3.261952e-06 & 3.969870e-07 & 1.429361e-06 & 3.268936e-06 & 1.822125e-06 & 1.648122e-06 & 2.005968e-06 & ⋯ & 1.220387e-06 & 3.211972e-06 & 6.280219e-06 & 1.602932e-06 & 3.714896e-06 & 3.774277e-06 & 2.943926e-06 & 3.449513e-06 & 1.617762e-06 & 2.262378e-06\\\\\n",
       "\t 29198891 & 2.951697e-06 & 1.664187e-06 & 5.533891e-06 & 1.685118e-06 & 2.227713e-06 & 2.373410e-06 & 1.761882e-06 & 3.709892e-06 & 3.597709e-06 & ⋯ & 1.352259e-06 & 3.794449e-06 & 1.574116e-06 & 5.645271e-06 & 5.433558e-06 & 2.383721e-06 & 2.894946e-06 & 1.626858e-06 & 4.110320e-06 & 2.462700e-06\\\\\n",
       "\t 29200651 & 6.429063e-06 & 4.065166e-06 & 3.782227e-06 & 3.490201e-06 & 4.979485e-06 & 3.963793e-06 & 4.110424e-06 & 6.682811e-06 & 4.809463e-06 & ⋯ & 7.229211e-06 & 7.196391e-06 & 6.909225e-06 & 7.329433e-06 & 3.482324e-06 & 2.075623e-05 & 2.051891e-06 & 2.719858e-06 & 8.074995e-06 & 1.347980e-05\\\\\n",
       "\t 29201701 & 1.041887e-06 & 1.037821e-06 & 1.520001e-06 & 2.821374e-06 & 4.780980e-07 & 1.394099e-06 & 2.971835e-07 & 6.069834e-07 & 7.672543e-07 & ⋯ & 8.342750e-07 & 1.195500e-06 & 6.003185e-07 & 3.302460e-07 & 1.046355e-06 & 1.473654e-06 & 7.694957e-07 & 1.113129e-06 & 6.701994e-07 & 1.342958e-06\\\\\n",
       "\t 29205441 & 4.667099e-04 & 2.849350e-04 & 1.698259e-04 & 7.265066e-04 & 1.219138e-03 & 3.218507e-04 & 3.015291e-04 & 1.790046e-04 & 5.938617e-04 & ⋯ & 4.305391e-04 & 1.042950e-03 & 2.727657e-04 & 9.480974e-04 & 2.921844e-04 & 5.488907e-04 & 1.942365e-04 & 2.698470e-04 & 7.159752e-04 & 1.885279e-04\\\\\n",
       "\t 29207901 & 1.490032e-04 & 3.215226e-04 & 9.086954e-05 & 1.582395e-04 & 9.025713e-05 & 8.742969e-05 & 2.792426e-04 & 1.101937e-04 & 2.411588e-05 & ⋯ & 4.478722e-04 & 3.903533e-05 & 1.727436e-04 & 1.712075e-04 & 7.331072e-05 & 2.759038e-04 & 1.928289e-04 & 8.934596e-05 & 1.168583e-04 & 1.055468e-04\\\\\n",
       "\t 29243631 & 6.779586e-07 & 2.766237e-07 & 1.328483e-07 & 6.833958e-07 & 9.104092e-07 & 5.413640e-07 & 5.831507e-07 & 7.285809e-07 & 4.291777e-07 & ⋯ & 1.220722e-06 & 3.016290e-07 & 3.317227e-07 & 1.212373e-06 & 2.908028e-07 & 6.990887e-07 & 5.140583e-07 & 3.864434e-07 & 1.833947e-06 & 6.873849e-07\\\\\n",
       "\t 29251231 & 7.333005e-06 & 4.717023e-06 & 1.139907e-05 & 3.059057e-06 & 4.413309e-06 & 3.597705e-06 & 2.667593e-06 & 7.777435e-06 & 2.987937e-06 & ⋯ & 8.927908e-06 & 5.284505e-06 & 6.377128e-06 & 4.040441e-06 & 3.523054e-05 & 3.335377e-06 & 2.744744e-06 & 1.115615e-05 & 5.287691e-06 & 4.893367e-06\\\\\n",
       "\t 29257551 & 4.518292e-07 & 6.616705e-07 & 6.183746e-07 & 3.020220e-07 & 6.835293e-07 & 1.262467e-07 & 9.070471e-07 & 3.245764e-07 & 2.979054e-07 & ⋯ & 6.454887e-07 & 2.461618e-07 & 2.122837e-07 & 3.487113e-07 & 6.366853e-07 & 4.710125e-07 & 4.146769e-07 & 4.152203e-07 & 3.318989e-07 & 4.635510e-07\\\\\n",
       "\t 29267141 & 4.617897e-07 & 3.749902e-07 & 2.686045e-07 & 3.663200e-07 & 1.729996e-07 & 3.355372e-07 & 7.776265e-07 & 6.105793e-07 & 3.565481e-07 & ⋯ & 1.594819e-07 & 5.056624e-07 & 8.389842e-07 & 4.081610e-07 & 6.758944e-07 & 8.322588e-07 & 5.536812e-07 & 1.704373e-07 & 3.138565e-07 & 5.580301e-07\\\\\n",
       "\t 29277081 & 8.506735e-07 & 4.658642e-07 & 4.753800e-07 & 1.344255e-06 & 1.019760e-06 & 5.878447e-07 & 1.615538e-06 & 2.474320e-07 & 1.153344e-06 & ⋯ & 1.855732e-06 & 4.463281e-07 & 4.603995e-07 & 1.062100e-06 & 2.497594e-07 & 4.796167e-07 & 2.297712e-07 & 1.878687e-06 & 1.579457e-06 & 6.547957e-07\\\\\n",
       "\t 29284331 & 1.769818e-05 & 1.378579e-05 & 3.376120e-05 & 2.215019e-05 & 4.616508e-05 & 1.708551e-05 & 1.517081e-05 & 1.224604e-05 & 7.570787e-06 & ⋯ & 4.379289e-06 & 1.226158e-05 & 2.712014e-05 & 5.187350e-05 & 2.090589e-05 & 9.694946e-06 & 6.171593e-06 & 9.204282e-06 & 1.068038e-05 & 1.318782e-05\\\\\n",
       "\t 29286091 & 1.025386e-05 & 1.444269e-05 & 1.029284e-05 & 9.082128e-06 & 6.125643e-06 & 2.346291e-05 & 6.420605e-06 & 3.280713e-06 & 4.098902e-06 & ⋯ & 9.183229e-06 & 5.421861e-06 & 5.392034e-06 & 5.236524e-06 & 3.874594e-06 & 1.187239e-05 & 2.579374e-05 & 1.021327e-05 & 1.623960e-05 & 1.395655e-05\\\\\n",
       "\t 29288251 & 2.917498e-05 & 2.449372e-05 & 3.386267e-05 & 2.264703e-05 & 1.233634e-05 & 1.429278e-05 & 3.636858e-05 & 1.147841e-05 & 1.259151e-05 & ⋯ & 3.542184e-05 & 9.664684e-05 & 6.671189e-05 & 1.828239e-05 & 2.087809e-05 & 2.361009e-05 & 1.087121e-05 & 1.603637e-05 & 2.028061e-05 & 4.659164e-05\\\\\n",
       "\t 29289361 & 1.226929e-06 & 3.100205e-06 & 3.960838e-06 & 2.209077e-06 & 9.693269e-08 & 2.022191e-06 & 9.854267e-07 & 8.099298e-07 & 1.440237e-06 & ⋯ & 1.294111e-06 & 5.270910e-07 & 1.507757e-06 & 4.650197e-07 & 6.747309e-07 & 3.643687e-07 & 1.688090e-07 & 2.010168e-06 & 5.434893e-07 & 2.581569e-07\\\\\n",
       "\t 29292171 & 1.232495e-05 & 2.364129e-05 & 1.541560e-05 & 4.020997e-06 & 3.533667e-06 & 1.014336e-05 & 1.613302e-05 & 1.761405e-05 & 1.277764e-05 & ⋯ & 1.459004e-05 & 9.219779e-06 & 1.204645e-05 & 1.725269e-05 & 1.140444e-06 & 8.931992e-06 & 1.305723e-05 & 1.962965e-05 & 1.260831e-05 & 1.699323e-05\\\\\n",
       "\t 29297201 & 1.173745e-06 & 6.817715e-07 & 6.098160e-07 & 6.879156e-07 & 2.182988e-06 & 1.370543e-06 & 1.778628e-06 & 1.154824e-06 & 1.359457e-06 & ⋯ & 6.387941e-07 & 6.858848e-07 & 7.652616e-07 & 7.173535e-07 & 4.922354e-07 & 2.452730e-06 & 1.118104e-06 & 2.279134e-06 & 1.042200e-06 & 5.830006e-07\\\\\n",
       "\t 29298431 & 4.885651e-06 & 1.290969e-06 & 2.969219e-06 & 4.025787e-06 & 2.722932e-06 & 4.071851e-06 & 2.929264e-06 & 5.628359e-06 & 2.723928e-06 & ⋯ & 4.479843e-06 & 4.233988e-06 & 1.804453e-05 & 1.417413e-05 & 1.784784e-06 & 4.167776e-06 & 9.426916e-06 & 2.256299e-06 & 2.343856e-06 & 5.082984e-06\\\\\n",
       "\t 29300881 & 7.307917e-07 & 1.240912e-06 & 2.915567e-07 & 8.880403e-07 & 9.041642e-07 & 5.190732e-07 & 4.292968e-07 & 6.398265e-07 & 9.331390e-07 & ⋯ & 1.420070e-06 & 9.057603e-07 & 2.677134e-07 & 1.051270e-06 & 6.032935e-07 & 6.587129e-07 & 5.167210e-07 & 6.409855e-07 & 8.861532e-07 & 6.276254e-07\\\\\n",
       "\t 29300941 & 1.258109e-07 & 1.057010e-07 & 1.669040e-07 & 1.082292e-07 & 1.403313e-07 & 1.356349e-07 & 8.284232e-08 & 1.776348e-07 & 6.446120e-08 & ⋯ & 6.606515e-08 & 1.850055e-07 & 8.157162e-08 & 1.156714e-07 & 1.270204e-07 & 1.356895e-07 & 4.912219e-08 & 1.538293e-07 & 1.097259e-07 & 2.921992e-07\\\\\n",
       "\t 29304511 & 9.178956e-06 & 1.138849e-05 & 1.760433e-05 & 4.239294e-06 & 1.119965e-05 & 7.879770e-06 & 1.028343e-05 & 5.361302e-06 & 6.354229e-06 & ⋯ & 2.128880e-06 & 4.636491e-06 & 9.672975e-06 & 4.994641e-06 & 1.310616e-05 & 5.794415e-06 & 1.332501e-05 & 1.260970e-05 & 1.440876e-05 & 7.509567e-06\\\\\n",
       "\t 29325391 & 2.440452e-06 & 2.216950e-06 & 1.391163e-06 & 1.749502e-06 & 1.327253e-06 & 4.215700e-06 & 2.234049e-06 & 2.304883e-06 & 4.455503e-06 & ⋯ & 2.248538e-06 & 2.352468e-06 & 4.332709e-06 & 2.230533e-06 & 2.097627e-06 & 1.004246e-06 & 2.390541e-06 & 2.335742e-06 & 3.249922e-06 & 1.547362e-06\\\\\n",
       "\t 29344801 & 2.157590e-07 & 2.413552e-07 & 2.448713e-07 & 1.178653e-07 & 1.331311e-07 & 4.034935e-07 & 4.018897e-07 & 3.096110e-07 & 1.218714e-07 & ⋯ & 2.464681e-07 & 1.204243e-07 & 3.134111e-07 & 5.216084e-08 & 2.515607e-07 & 1.540235e-07 & 1.501710e-07 & 4.638926e-07 & 1.347884e-07 & 6.030435e-08\\\\\n",
       "\t 29344861 & 2.257778e-06 & 1.062550e-06 & 2.822455e-06 & 1.603081e-06 & 1.151029e-06 & 8.886984e-07 & 4.517381e-06 & 1.566961e-06 & 3.662810e-06 & ⋯ & 2.595448e-06 & 6.036546e-06 & 1.994625e-06 & 9.678477e-07 & 2.886994e-06 & 1.355058e-06 & 2.418834e-06 & 2.733540e-06 & 2.518788e-06 & 1.519240e-06\\\\\n",
       "\t 29346321 & 2.118811e-07 & 1.586770e-07 & 2.246262e-07 & 1.411243e-07 & 2.166565e-07 & 1.091014e-07 & 3.783269e-07 & 1.822491e-07 & 3.683671e-07 & ⋯ & 1.258049e-07 & 1.442964e-07 & 2.357366e-07 & 1.644854e-07 & 3.260339e-07 & 1.324556e-07 & 1.110855e-07 & 2.004024e-07 & 2.693508e-07 & 4.309043e-07\\\\\n",
       "\t 29347841 & 3.522488e-07 & 2.100026e-07 & 2.398495e-07 & 1.833248e-07 & 4.107065e-07 & 8.824561e-07 & 4.560430e-07 & 2.482768e-07 & 3.097096e-07 & ⋯ & 1.152829e-07 & 3.138107e-07 & 3.452847e-07 & 6.881103e-07 & 3.178537e-07 & 1.961208e-07 & 1.984583e-07 & 2.742210e-07 & 4.037634e-07 & 1.542369e-07\\\\\n",
       "\t 29347901 & 6.828275e-07 & 6.604950e-07 & 9.654457e-07 & 9.433131e-07 & 4.997444e-07 & 4.747627e-07 & 4.451714e-07 & 3.139241e-07 & 1.305928e-06 & ⋯ & 3.681364e-07 & 7.205907e-07 & 5.077749e-07 & 7.971811e-07 & 9.646580e-07 & 1.368382e-06 & 7.771707e-07 & 3.906026e-07 & 4.745173e-07 & 5.828157e-07\\\\\n",
       "\t ⋮ & ⋮ & ⋮ & ⋮ & ⋮ & ⋮ & ⋮ & ⋮ & ⋮ & ⋮ & ⋱ & ⋮ & ⋮ & ⋮ & ⋮ & ⋮ & ⋮ & ⋮ & ⋮ & ⋮ & ⋮\\\\\n",
       "\t 186827251 & 1.245957e-03 & 1.158667e-03 & 2.777113e-04 & 1.182750e-03 & 1.458233e-03 & 9.360678e-04 & 7.714933e-04 & 4.843679e-04 & 3.040317e-04 & ⋯ & 1.140735e-03 & 2.419341e-03 & 8.754823e-04 & 1.696974e-03 & 1.365617e-03 & 6.046298e-04 & 6.032675e-04 & 2.430760e-03 & 1.517288e-03 & 2.609538e-03\\\\\n",
       "\t 186829241 & 3.421040e-05 & 2.209386e-05 & 1.699602e-05 & 1.673444e-05 & 3.260404e-05 & 6.155445e-05 & 2.694254e-05 & 5.451177e-05 & 5.048436e-05 & ⋯ & 8.549169e-05 & 3.725897e-05 & 5.698051e-05 & 1.135294e-05 & 1.886846e-05 & 7.216070e-05 & 1.321029e-05 & 3.617433e-05 & 5.643225e-06 & 5.528714e-06\\\\\n",
       "\t 186866381 & 9.127702e-08 & 1.861268e-07 & 9.893605e-08 & 6.389570e-08 & 5.488601e-08 & 8.439122e-08 & 8.775999e-08 & 5.961037e-08 & 1.032495e-07 & ⋯ & 8.042377e-08 & 5.359459e-08 & 5.907994e-08 & 5.450300e-08 & 5.835391e-08 & 1.902596e-07 & 6.716521e-08 & 2.071627e-07 & 2.346109e-08 & 1.256999e-07\\\\\n",
       "\t 186874801 & 1.042436e-03 & 6.608573e-04 & 1.333949e-03 & 6.239027e-04 & 8.040187e-04 & 9.186067e-04 & 1.805243e-03 & 7.302295e-04 & 7.276299e-04 & ⋯ & 8.687911e-04 & 1.042429e-03 & 1.160302e-03 & 5.918320e-04 & 1.042403e-03 & 6.532838e-04 & 1.134215e-03 & 1.299443e-03 & 1.654809e-03 & 1.848887e-03\\\\\n",
       "\t 186899651 & 7.209667e-06 & 3.410475e-06 & 3.083903e-06 & 1.426851e-05 & 1.857971e-05 & 2.999270e-06 & 6.198503e-06 & 5.762258e-06 & 1.666275e-06 & ⋯ & 4.514093e-06 & 1.196842e-05 & 2.964126e-06 & 6.157572e-06 & 3.501848e-06 & 1.742638e-05 & 6.604937e-06 & 4.596820e-06 & 5.591027e-06 & 8.555294e-06\\\\\n",
       "\t 187021641 & 9.953896e-07 & 6.486403e-07 & 1.580717e-07 & 5.526851e-07 & 1.512996e-06 & 5.590633e-07 & 8.483289e-07 & 4.821737e-07 & 4.566993e-07 & ⋯ & 1.274122e-06 & 1.155245e-06 & 4.866840e-07 & 2.689009e-06 & 8.283954e-07 & 1.704151e-06 & 1.365631e-06 & 6.215062e-07 & 5.917094e-07 & 1.210867e-06\\\\\n",
       "\t 187060301 & 1.620207e-07 & 6.819847e-08 & 2.566127e-07 & 1.159056e-07 & 2.697533e-08 & 1.456883e-07 & 2.361439e-07 & 1.374296e-07 & 9.727038e-08 & ⋯ & 6.969573e-08 & 1.744187e-07 & 1.817272e-07 & 2.479434e-07 & 2.824317e-07 & 3.132180e-07 & 5.317056e-08 & 1.178422e-07 & 4.768104e-08 & 1.378712e-07\\\\\n",
       "\t 187066091 & 6.721760e-08 & 2.970988e-08 & 5.145488e-08 & 8.703719e-08 & 1.079812e-07 & 1.148541e-07 & 3.198736e-08 & 1.343224e-08 & 3.403394e-08 & ⋯ & 1.181325e-07 & 2.504976e-07 & 3.265786e-08 & 5.534556e-08 & 4.334606e-08 & 6.485954e-08 & 5.600752e-08 & 2.847609e-08 & 7.257595e-08 & 4.685095e-08\\\\\n",
       "\t 187170651 & 9.413067e-08 & 1.774472e-07 & 5.021370e-08 & 5.950811e-08 & 9.039651e-08 & 6.653371e-08 & 5.089257e-08 & 4.837044e-08 & 6.480984e-08 & ⋯ & 1.025164e-07 & 3.837690e-07 & 4.435829e-08 & 8.573386e-08 & 1.210493e-07 & 9.608791e-08 & 6.357126e-08 & 5.296586e-08 & 5.952588e-08 & 5.957609e-08\\\\\n",
       "\t 187203931 & 6.258061e-06 & 8.767531e-06 & 3.852264e-06 & 6.574528e-06 & 8.296313e-06 & 3.429430e-06 & 2.948890e-06 & 7.011969e-06 & 4.169249e-06 & ⋯ & 3.672157e-06 & 4.218746e-06 & 3.325631e-06 & 4.586320e-06 & 5.547475e-06 & 2.559979e-05 & 2.945387e-06 & 1.057448e-05 & 6.129816e-06 & 3.456909e-06\\\\\n",
       "\t 187233931 & 8.599205e-08 & 1.164138e-07 & 1.443575e-07 & 8.335009e-08 & 3.771995e-08 & 1.343313e-07 & 3.400960e-08 & 2.811834e-08 & 6.963405e-08 & ⋯ & 2.320035e-07 & 1.301500e-07 & 3.365994e-08 & 6.638903e-08 & 3.991698e-08 & 8.546526e-08 & 5.098743e-08 & 1.282196e-07 & 8.594954e-08 & 1.259981e-07\\\\\n",
       "\t 187269951 & 2.631976e-07 & 3.791761e-07 & 1.362000e-07 & 2.016782e-07 & 2.474788e-07 & 2.506817e-07 & 1.861095e-07 & 2.106933e-07 & 3.763438e-07 & ⋯ & 1.755697e-07 & 1.659806e-07 & 8.906551e-08 & 2.831060e-07 & 2.198064e-07 & 3.035603e-07 & 1.645940e-07 & 3.744688e-07 & 2.057395e-07 & 2.234391e-07\\\\\n",
       "\t 187272641 & 1.787076e-03 & 1.165992e-03 & 2.108716e-03 & 1.118711e-03 & 1.592344e-03 & 2.960335e-03 & 1.636009e-03 & 2.301309e-03 & 1.275878e-03 & ⋯ & 1.734909e-03 & 1.701798e-03 & 1.325388e-03 & 1.328359e-03 & 1.576442e-03 & 2.020970e-03 & 8.038433e-04 & 1.544916e-03 & 1.100464e-03 & 1.852768e-03\\\\\n",
       "\t 187314281 & 5.500941e-07 & 2.473620e-07 & 1.298499e-07 & 1.005871e-06 & 3.237467e-07 & 4.373950e-07 & 1.866293e-07 & 7.182019e-07 & 9.913336e-07 & ⋯ & 5.767810e-07 & 6.538218e-07 & 2.847717e-07 & 7.754225e-07 & 1.292488e-06 & 1.297468e-06 & 3.992587e-07 & 6.735794e-07 & 1.871525e-07 & 2.609514e-07\\\\\n",
       "\t 187332121 & 3.091117e-06 & 2.335014e-06 & 3.401159e-06 & 3.798032e-06 & 5.864270e-06 & 4.550049e-06 & 1.207651e-06 & 3.558142e-06 & 1.974326e-06 & ⋯ & 3.040366e-06 & 3.573185e-06 & 3.506216e-06 & 2.289065e-06 & 1.739774e-06 & 4.114867e-06 & 3.715722e-06 & 4.097468e-06 & 2.645247e-06 & 1.882951e-06\\\\\n",
       "\t 187346211 & 1.533417e-06 & 2.130898e-06 & 1.627356e-06 & 7.671672e-07 & 6.192264e-07 & 7.485583e-07 & 5.376042e-07 & 1.309093e-06 & 1.528706e-06 & ⋯ & 3.758518e-06 & 2.428276e-06 & 1.368605e-06 & 9.613243e-07 & 3.987474e-07 & 2.523317e-06 & 4.297899e-07 & 6.347206e-06 & 9.439702e-07 & 6.853743e-07\\\\\n",
       "\t 187350011 & 2.625961e-06 & 2.230533e-06 & 8.546995e-06 & 1.762089e-06 & 2.372255e-06 & 2.440540e-06 & 1.209427e-06 & 3.493832e-06 & 1.705903e-06 & ⋯ & 1.413626e-06 & 2.458677e-06 & 1.130492e-06 & 2.292694e-06 & 8.202333e-07 & 1.354871e-06 & 5.924791e-06 & 1.682434e-06 & 1.706695e-06 & 5.770845e-06\\\\\n",
       "\t 187400951 & 5.829341e-05 & 7.019683e-05 & 8.397936e-05 & 4.307065e-05 & 3.813022e-05 & 5.883206e-05 & 9.565280e-05 & 4.723474e-05 & 4.487400e-05 & ⋯ & 4.519987e-05 & 2.983617e-05 & 3.739478e-05 & 7.244722e-05 & 3.864105e-05 & 1.120600e-04 & 5.724819e-05 & 5.908635e-05 & 4.410720e-05 & 7.470720e-05\\\\\n",
       "\t 187429081 & 1.174593e-05 & 9.910596e-06 & 4.692629e-06 & 1.100370e-05 & 2.226019e-05 & 3.847922e-06 & 5.458256e-06 & 1.212176e-05 & 1.563717e-05 & ⋯ & 1.384653e-05 & 5.269311e-06 & 1.028040e-05 & 1.448361e-05 & 2.312440e-05 & 1.414407e-05 & 1.023933e-05 & 1.558417e-05 & 9.075300e-06 & 7.691399e-06\\\\\n",
       "\t 187434871 & 5.117075e-04 & 1.229358e-04 & 3.052775e-04 & 4.199466e-04 & 4.631169e-04 & 5.464964e-04 & 2.422634e-04 & 5.234987e-04 & 2.134414e-04 & ⋯ & 4.331527e-04 & 3.950575e-04 & 5.782731e-04 & 1.294413e-03 & 5.957723e-04 & 4.784631e-04 & 8.416602e-04 & 6.239852e-04 & 2.947082e-04 & 1.293233e-03\\\\\n",
       "\t 187594641 & 1.093656e-05 & 4.183229e-06 & 9.787984e-06 & 1.130415e-05 & 1.025869e-05 & 9.602520e-06 & 1.366206e-05 & 6.527143e-06 & 1.005413e-05 & ⋯ & 1.152163e-05 & 5.383913e-06 & 6.407985e-06 & 2.677529e-05 & 1.105756e-05 & 1.388656e-05 & 6.724805e-06 & 1.824855e-05 & 5.109003e-06 & 1.300775e-05\\\\\n",
       "\t 187604521 & 2.788567e-04 & 1.448545e-04 & 5.445333e-04 & 1.820451e-04 & 2.092609e-04 & 4.432512e-04 & 3.518294e-04 & 6.014579e-04 & 1.607812e-04 & ⋯ & 2.955882e-04 & 3.167467e-04 & 1.576581e-04 & 1.696003e-04 & 1.725876e-04 & 3.104977e-04 & 4.017152e-04 & 1.379374e-04 & 2.545444e-04 & 3.447023e-04\\\\\n",
       "\t 187626041 & 2.306505e-04 & 1.487839e-04 & 3.221255e-04 & 1.213925e-04 & 2.696200e-04 & 3.029686e-04 & 9.678872e-05 & 1.752975e-04 & 2.267360e-04 & ⋯ & 2.001218e-04 & 1.672433e-04 & 3.731874e-04 & 4.133648e-04 & 2.535348e-04 & 3.157181e-04 & 2.857283e-04 & 2.379503e-04 & 1.250877e-04 & 2.341322e-04\\\\\n",
       "\t 187636041 & 1.533273e-08 & 1.331853e-08 & 4.002578e-08 & 9.567315e-09 & 2.068902e-08 & 1.669399e-08 & 1.626623e-08 & 4.735851e-09 & 8.686849e-09 & ⋯ & 3.167238e-08 & 1.604207e-08 & 6.369469e-09 & 1.160430e-08 & 1.163407e-08 & 1.656218e-08 & 5.206466e-09 & 2.781717e-08 & 9.095005e-09 & 2.145027e-08\\\\\n",
       "\t 187827511 & 3.496132e-04 & 2.919132e-04 & 8.778856e-04 & 3.434920e-04 & 5.222528e-04 & 2.055957e-04 & 2.951965e-04 & 3.865053e-04 & 2.633184e-04 & ⋯ & 3.519688e-04 & 2.303127e-04 & 2.775672e-04 & 2.968714e-04 & 3.036567e-04 & 6.024153e-04 & 2.903616e-04 & 2.216194e-04 & 1.820003e-04 & 3.756653e-04\\\\\n",
       "\t 187838971 & 1.705358e-02 & 1.254242e-02 & 1.065684e-02 & 2.324624e-02 & 2.251555e-02 & 2.547391e-02 & 2.444112e-02 & 1.071927e-02 & 1.044688e-02 & ⋯ & 2.904473e-02 & 1.640524e-02 & 1.443556e-02 & 1.492225e-02 & 1.605917e-02 & 1.171032e-02 & 3.649263e-02 & 1.557130e-02 & 1.163199e-02 & 1.254972e-02\\\\\n",
       "\t 187902361 & 4.697167e-03 & 2.407905e-03 & 5.201248e-03 & 6.723314e-03 & 5.070855e-03 & 7.404402e-03 & 2.610576e-03 & 2.994794e-03 & 6.881722e-03 & ⋯ & 4.190236e-03 & 3.937958e-03 & 3.581855e-03 & 4.151958e-03 & 4.726381e-03 & 3.224354e-03 & 4.285343e-03 & 3.851128e-03 & 2.533513e-03 & 3.540643e-03\\\\\n",
       "\t 187956461 & 3.772028e-03 & 1.316822e-03 & 3.597627e-03 & 4.687035e-03 & 4.273771e-03 & 2.978810e-03 & 1.381256e-03 & 3.953735e-03 & 8.386748e-03 & ⋯ & 4.079291e-03 & 2.275653e-03 & 2.448245e-03 & 3.162798e-03 & 3.319343e-03 & 3.535144e-03 & 5.469955e-03 & 2.160997e-03 & 1.971572e-03 & 4.270869e-03\\\\\n",
       "\t 187964701 & 2.996867e-02 & 1.812989e-02 & 3.719982e-02 & 3.010486e-02 & 4.372880e-02 & 3.434480e-02 & 3.029212e-02 & 1.364656e-02 & 2.536711e-02 & ⋯ & 2.310792e-02 & 2.812047e-02 & 2.075766e-02 & 2.586247e-02 & 1.345780e-02 & 1.892918e-02 & 6.172438e-02 & 4.237664e-02 & 3.081777e-02 & 3.301367e-02\\\\\n",
       "\t 188116871 & 3.499416e-05 & 3.947967e-05 & 4.332379e-05 & 5.210576e-05 & 4.983505e-05 & 4.722550e-05 & 3.496983e-05 & 4.358603e-05 & 1.802493e-05 & ⋯ & 1.274130e-05 & 2.649859e-05 & 2.358338e-05 & 2.974019e-05 & 5.387857e-05 & 2.699743e-05 & 2.903654e-05 & 3.331186e-05 & 3.575603e-05 & 1.881656e-05\\\\\n",
       "\\end{tabular}\n"
      ],
      "text/markdown": [
       "\n",
       "A data.table: 16551 × 22\n",
       "\n",
       "| numero_de_cliente &lt;int&gt; | prob &lt;dbl&gt; | prob_1 &lt;dbl&gt; | prob_2 &lt;dbl&gt; | prob_3 &lt;dbl&gt; | prob_4 &lt;dbl&gt; | prob_5 &lt;dbl&gt; | prob_6 &lt;dbl&gt; | prob_7 &lt;dbl&gt; | prob_8 &lt;dbl&gt; | ⋯ ⋯ | prob_11 &lt;dbl&gt; | prob_12 &lt;dbl&gt; | prob_13 &lt;dbl&gt; | prob_14 &lt;dbl&gt; | prob_15 &lt;dbl&gt; | prob_16 &lt;dbl&gt; | prob_17 &lt;dbl&gt; | prob_18 &lt;dbl&gt; | prob_19 &lt;dbl&gt; | prob_20 &lt;dbl&gt; |\n",
       "|---|---|---|---|---|---|---|---|---|---|---|---|---|---|---|---|---|---|---|---|---|\n",
       "| 29186441 | 1.445743e-05 | 8.326157e-06 | 1.534497e-05 | 1.195028e-05 | 1.725044e-05 | 1.079014e-05 | 1.152995e-05 | 5.005125e-06 | 8.337535e-06 | ⋯ | 1.108910e-05 | 1.264722e-05 | 2.089985e-05 | 9.357584e-06 | 6.394213e-05 | 1.145921e-05 | 6.148770e-06 | 1.435406e-05 | 1.817493e-05 | 1.068988e-05 |\n",
       "| 29187961 | 2.080325e-06 | 1.579824e-06 | 4.413588e-06 | 2.029124e-06 | 3.272348e-06 | 6.948096e-07 | 2.220626e-06 | 2.036847e-06 | 2.109541e-06 | ⋯ | 5.539286e-06 | 1.166822e-06 | 1.987178e-06 | 1.645644e-06 | 1.058688e-06 | 2.167594e-06 | 4.459376e-07 | 1.827358e-06 | 2.891286e-06 | 1.605666e-06 |\n",
       "| 29193101 | 1.164755e-07 | 2.159843e-07 | 2.434891e-07 | 1.507343e-07 | 5.357397e-08 | 1.504914e-07 | 2.900950e-08 | 3.682775e-08 | 1.684066e-07 | ⋯ | 7.175934e-08 | 1.399446e-07 | 8.430762e-08 | 7.809771e-08 | 9.850179e-08 | 1.580801e-07 | 2.010516e-07 | 9.130028e-08 | 6.272997e-08 | 8.095828e-08 |\n",
       "| 29193281 | 2.585014e-06 | 1.416862e-06 | 3.261952e-06 | 3.969870e-07 | 1.429361e-06 | 3.268936e-06 | 1.822125e-06 | 1.648122e-06 | 2.005968e-06 | ⋯ | 1.220387e-06 | 3.211972e-06 | 6.280219e-06 | 1.602932e-06 | 3.714896e-06 | 3.774277e-06 | 2.943926e-06 | 3.449513e-06 | 1.617762e-06 | 2.262378e-06 |\n",
       "| 29198891 | 2.951697e-06 | 1.664187e-06 | 5.533891e-06 | 1.685118e-06 | 2.227713e-06 | 2.373410e-06 | 1.761882e-06 | 3.709892e-06 | 3.597709e-06 | ⋯ | 1.352259e-06 | 3.794449e-06 | 1.574116e-06 | 5.645271e-06 | 5.433558e-06 | 2.383721e-06 | 2.894946e-06 | 1.626858e-06 | 4.110320e-06 | 2.462700e-06 |\n",
       "| 29200651 | 6.429063e-06 | 4.065166e-06 | 3.782227e-06 | 3.490201e-06 | 4.979485e-06 | 3.963793e-06 | 4.110424e-06 | 6.682811e-06 | 4.809463e-06 | ⋯ | 7.229211e-06 | 7.196391e-06 | 6.909225e-06 | 7.329433e-06 | 3.482324e-06 | 2.075623e-05 | 2.051891e-06 | 2.719858e-06 | 8.074995e-06 | 1.347980e-05 |\n",
       "| 29201701 | 1.041887e-06 | 1.037821e-06 | 1.520001e-06 | 2.821374e-06 | 4.780980e-07 | 1.394099e-06 | 2.971835e-07 | 6.069834e-07 | 7.672543e-07 | ⋯ | 8.342750e-07 | 1.195500e-06 | 6.003185e-07 | 3.302460e-07 | 1.046355e-06 | 1.473654e-06 | 7.694957e-07 | 1.113129e-06 | 6.701994e-07 | 1.342958e-06 |\n",
       "| 29205441 | 4.667099e-04 | 2.849350e-04 | 1.698259e-04 | 7.265066e-04 | 1.219138e-03 | 3.218507e-04 | 3.015291e-04 | 1.790046e-04 | 5.938617e-04 | ⋯ | 4.305391e-04 | 1.042950e-03 | 2.727657e-04 | 9.480974e-04 | 2.921844e-04 | 5.488907e-04 | 1.942365e-04 | 2.698470e-04 | 7.159752e-04 | 1.885279e-04 |\n",
       "| 29207901 | 1.490032e-04 | 3.215226e-04 | 9.086954e-05 | 1.582395e-04 | 9.025713e-05 | 8.742969e-05 | 2.792426e-04 | 1.101937e-04 | 2.411588e-05 | ⋯ | 4.478722e-04 | 3.903533e-05 | 1.727436e-04 | 1.712075e-04 | 7.331072e-05 | 2.759038e-04 | 1.928289e-04 | 8.934596e-05 | 1.168583e-04 | 1.055468e-04 |\n",
       "| 29243631 | 6.779586e-07 | 2.766237e-07 | 1.328483e-07 | 6.833958e-07 | 9.104092e-07 | 5.413640e-07 | 5.831507e-07 | 7.285809e-07 | 4.291777e-07 | ⋯ | 1.220722e-06 | 3.016290e-07 | 3.317227e-07 | 1.212373e-06 | 2.908028e-07 | 6.990887e-07 | 5.140583e-07 | 3.864434e-07 | 1.833947e-06 | 6.873849e-07 |\n",
       "| 29251231 | 7.333005e-06 | 4.717023e-06 | 1.139907e-05 | 3.059057e-06 | 4.413309e-06 | 3.597705e-06 | 2.667593e-06 | 7.777435e-06 | 2.987937e-06 | ⋯ | 8.927908e-06 | 5.284505e-06 | 6.377128e-06 | 4.040441e-06 | 3.523054e-05 | 3.335377e-06 | 2.744744e-06 | 1.115615e-05 | 5.287691e-06 | 4.893367e-06 |\n",
       "| 29257551 | 4.518292e-07 | 6.616705e-07 | 6.183746e-07 | 3.020220e-07 | 6.835293e-07 | 1.262467e-07 | 9.070471e-07 | 3.245764e-07 | 2.979054e-07 | ⋯ | 6.454887e-07 | 2.461618e-07 | 2.122837e-07 | 3.487113e-07 | 6.366853e-07 | 4.710125e-07 | 4.146769e-07 | 4.152203e-07 | 3.318989e-07 | 4.635510e-07 |\n",
       "| 29267141 | 4.617897e-07 | 3.749902e-07 | 2.686045e-07 | 3.663200e-07 | 1.729996e-07 | 3.355372e-07 | 7.776265e-07 | 6.105793e-07 | 3.565481e-07 | ⋯ | 1.594819e-07 | 5.056624e-07 | 8.389842e-07 | 4.081610e-07 | 6.758944e-07 | 8.322588e-07 | 5.536812e-07 | 1.704373e-07 | 3.138565e-07 | 5.580301e-07 |\n",
       "| 29277081 | 8.506735e-07 | 4.658642e-07 | 4.753800e-07 | 1.344255e-06 | 1.019760e-06 | 5.878447e-07 | 1.615538e-06 | 2.474320e-07 | 1.153344e-06 | ⋯ | 1.855732e-06 | 4.463281e-07 | 4.603995e-07 | 1.062100e-06 | 2.497594e-07 | 4.796167e-07 | 2.297712e-07 | 1.878687e-06 | 1.579457e-06 | 6.547957e-07 |\n",
       "| 29284331 | 1.769818e-05 | 1.378579e-05 | 3.376120e-05 | 2.215019e-05 | 4.616508e-05 | 1.708551e-05 | 1.517081e-05 | 1.224604e-05 | 7.570787e-06 | ⋯ | 4.379289e-06 | 1.226158e-05 | 2.712014e-05 | 5.187350e-05 | 2.090589e-05 | 9.694946e-06 | 6.171593e-06 | 9.204282e-06 | 1.068038e-05 | 1.318782e-05 |\n",
       "| 29286091 | 1.025386e-05 | 1.444269e-05 | 1.029284e-05 | 9.082128e-06 | 6.125643e-06 | 2.346291e-05 | 6.420605e-06 | 3.280713e-06 | 4.098902e-06 | ⋯ | 9.183229e-06 | 5.421861e-06 | 5.392034e-06 | 5.236524e-06 | 3.874594e-06 | 1.187239e-05 | 2.579374e-05 | 1.021327e-05 | 1.623960e-05 | 1.395655e-05 |\n",
       "| 29288251 | 2.917498e-05 | 2.449372e-05 | 3.386267e-05 | 2.264703e-05 | 1.233634e-05 | 1.429278e-05 | 3.636858e-05 | 1.147841e-05 | 1.259151e-05 | ⋯ | 3.542184e-05 | 9.664684e-05 | 6.671189e-05 | 1.828239e-05 | 2.087809e-05 | 2.361009e-05 | 1.087121e-05 | 1.603637e-05 | 2.028061e-05 | 4.659164e-05 |\n",
       "| 29289361 | 1.226929e-06 | 3.100205e-06 | 3.960838e-06 | 2.209077e-06 | 9.693269e-08 | 2.022191e-06 | 9.854267e-07 | 8.099298e-07 | 1.440237e-06 | ⋯ | 1.294111e-06 | 5.270910e-07 | 1.507757e-06 | 4.650197e-07 | 6.747309e-07 | 3.643687e-07 | 1.688090e-07 | 2.010168e-06 | 5.434893e-07 | 2.581569e-07 |\n",
       "| 29292171 | 1.232495e-05 | 2.364129e-05 | 1.541560e-05 | 4.020997e-06 | 3.533667e-06 | 1.014336e-05 | 1.613302e-05 | 1.761405e-05 | 1.277764e-05 | ⋯ | 1.459004e-05 | 9.219779e-06 | 1.204645e-05 | 1.725269e-05 | 1.140444e-06 | 8.931992e-06 | 1.305723e-05 | 1.962965e-05 | 1.260831e-05 | 1.699323e-05 |\n",
       "| 29297201 | 1.173745e-06 | 6.817715e-07 | 6.098160e-07 | 6.879156e-07 | 2.182988e-06 | 1.370543e-06 | 1.778628e-06 | 1.154824e-06 | 1.359457e-06 | ⋯ | 6.387941e-07 | 6.858848e-07 | 7.652616e-07 | 7.173535e-07 | 4.922354e-07 | 2.452730e-06 | 1.118104e-06 | 2.279134e-06 | 1.042200e-06 | 5.830006e-07 |\n",
       "| 29298431 | 4.885651e-06 | 1.290969e-06 | 2.969219e-06 | 4.025787e-06 | 2.722932e-06 | 4.071851e-06 | 2.929264e-06 | 5.628359e-06 | 2.723928e-06 | ⋯ | 4.479843e-06 | 4.233988e-06 | 1.804453e-05 | 1.417413e-05 | 1.784784e-06 | 4.167776e-06 | 9.426916e-06 | 2.256299e-06 | 2.343856e-06 | 5.082984e-06 |\n",
       "| 29300881 | 7.307917e-07 | 1.240912e-06 | 2.915567e-07 | 8.880403e-07 | 9.041642e-07 | 5.190732e-07 | 4.292968e-07 | 6.398265e-07 | 9.331390e-07 | ⋯ | 1.420070e-06 | 9.057603e-07 | 2.677134e-07 | 1.051270e-06 | 6.032935e-07 | 6.587129e-07 | 5.167210e-07 | 6.409855e-07 | 8.861532e-07 | 6.276254e-07 |\n",
       "| 29300941 | 1.258109e-07 | 1.057010e-07 | 1.669040e-07 | 1.082292e-07 | 1.403313e-07 | 1.356349e-07 | 8.284232e-08 | 1.776348e-07 | 6.446120e-08 | ⋯ | 6.606515e-08 | 1.850055e-07 | 8.157162e-08 | 1.156714e-07 | 1.270204e-07 | 1.356895e-07 | 4.912219e-08 | 1.538293e-07 | 1.097259e-07 | 2.921992e-07 |\n",
       "| 29304511 | 9.178956e-06 | 1.138849e-05 | 1.760433e-05 | 4.239294e-06 | 1.119965e-05 | 7.879770e-06 | 1.028343e-05 | 5.361302e-06 | 6.354229e-06 | ⋯ | 2.128880e-06 | 4.636491e-06 | 9.672975e-06 | 4.994641e-06 | 1.310616e-05 | 5.794415e-06 | 1.332501e-05 | 1.260970e-05 | 1.440876e-05 | 7.509567e-06 |\n",
       "| 29325391 | 2.440452e-06 | 2.216950e-06 | 1.391163e-06 | 1.749502e-06 | 1.327253e-06 | 4.215700e-06 | 2.234049e-06 | 2.304883e-06 | 4.455503e-06 | ⋯ | 2.248538e-06 | 2.352468e-06 | 4.332709e-06 | 2.230533e-06 | 2.097627e-06 | 1.004246e-06 | 2.390541e-06 | 2.335742e-06 | 3.249922e-06 | 1.547362e-06 |\n",
       "| 29344801 | 2.157590e-07 | 2.413552e-07 | 2.448713e-07 | 1.178653e-07 | 1.331311e-07 | 4.034935e-07 | 4.018897e-07 | 3.096110e-07 | 1.218714e-07 | ⋯ | 2.464681e-07 | 1.204243e-07 | 3.134111e-07 | 5.216084e-08 | 2.515607e-07 | 1.540235e-07 | 1.501710e-07 | 4.638926e-07 | 1.347884e-07 | 6.030435e-08 |\n",
       "| 29344861 | 2.257778e-06 | 1.062550e-06 | 2.822455e-06 | 1.603081e-06 | 1.151029e-06 | 8.886984e-07 | 4.517381e-06 | 1.566961e-06 | 3.662810e-06 | ⋯ | 2.595448e-06 | 6.036546e-06 | 1.994625e-06 | 9.678477e-07 | 2.886994e-06 | 1.355058e-06 | 2.418834e-06 | 2.733540e-06 | 2.518788e-06 | 1.519240e-06 |\n",
       "| 29346321 | 2.118811e-07 | 1.586770e-07 | 2.246262e-07 | 1.411243e-07 | 2.166565e-07 | 1.091014e-07 | 3.783269e-07 | 1.822491e-07 | 3.683671e-07 | ⋯ | 1.258049e-07 | 1.442964e-07 | 2.357366e-07 | 1.644854e-07 | 3.260339e-07 | 1.324556e-07 | 1.110855e-07 | 2.004024e-07 | 2.693508e-07 | 4.309043e-07 |\n",
       "| 29347841 | 3.522488e-07 | 2.100026e-07 | 2.398495e-07 | 1.833248e-07 | 4.107065e-07 | 8.824561e-07 | 4.560430e-07 | 2.482768e-07 | 3.097096e-07 | ⋯ | 1.152829e-07 | 3.138107e-07 | 3.452847e-07 | 6.881103e-07 | 3.178537e-07 | 1.961208e-07 | 1.984583e-07 | 2.742210e-07 | 4.037634e-07 | 1.542369e-07 |\n",
       "| 29347901 | 6.828275e-07 | 6.604950e-07 | 9.654457e-07 | 9.433131e-07 | 4.997444e-07 | 4.747627e-07 | 4.451714e-07 | 3.139241e-07 | 1.305928e-06 | ⋯ | 3.681364e-07 | 7.205907e-07 | 5.077749e-07 | 7.971811e-07 | 9.646580e-07 | 1.368382e-06 | 7.771707e-07 | 3.906026e-07 | 4.745173e-07 | 5.828157e-07 |\n",
       "| ⋮ | ⋮ | ⋮ | ⋮ | ⋮ | ⋮ | ⋮ | ⋮ | ⋮ | ⋮ | ⋱ | ⋮ | ⋮ | ⋮ | ⋮ | ⋮ | ⋮ | ⋮ | ⋮ | ⋮ | ⋮ |\n",
       "| 186827251 | 1.245957e-03 | 1.158667e-03 | 2.777113e-04 | 1.182750e-03 | 1.458233e-03 | 9.360678e-04 | 7.714933e-04 | 4.843679e-04 | 3.040317e-04 | ⋯ | 1.140735e-03 | 2.419341e-03 | 8.754823e-04 | 1.696974e-03 | 1.365617e-03 | 6.046298e-04 | 6.032675e-04 | 2.430760e-03 | 1.517288e-03 | 2.609538e-03 |\n",
       "| 186829241 | 3.421040e-05 | 2.209386e-05 | 1.699602e-05 | 1.673444e-05 | 3.260404e-05 | 6.155445e-05 | 2.694254e-05 | 5.451177e-05 | 5.048436e-05 | ⋯ | 8.549169e-05 | 3.725897e-05 | 5.698051e-05 | 1.135294e-05 | 1.886846e-05 | 7.216070e-05 | 1.321029e-05 | 3.617433e-05 | 5.643225e-06 | 5.528714e-06 |\n",
       "| 186866381 | 9.127702e-08 | 1.861268e-07 | 9.893605e-08 | 6.389570e-08 | 5.488601e-08 | 8.439122e-08 | 8.775999e-08 | 5.961037e-08 | 1.032495e-07 | ⋯ | 8.042377e-08 | 5.359459e-08 | 5.907994e-08 | 5.450300e-08 | 5.835391e-08 | 1.902596e-07 | 6.716521e-08 | 2.071627e-07 | 2.346109e-08 | 1.256999e-07 |\n",
       "| 186874801 | 1.042436e-03 | 6.608573e-04 | 1.333949e-03 | 6.239027e-04 | 8.040187e-04 | 9.186067e-04 | 1.805243e-03 | 7.302295e-04 | 7.276299e-04 | ⋯ | 8.687911e-04 | 1.042429e-03 | 1.160302e-03 | 5.918320e-04 | 1.042403e-03 | 6.532838e-04 | 1.134215e-03 | 1.299443e-03 | 1.654809e-03 | 1.848887e-03 |\n",
       "| 186899651 | 7.209667e-06 | 3.410475e-06 | 3.083903e-06 | 1.426851e-05 | 1.857971e-05 | 2.999270e-06 | 6.198503e-06 | 5.762258e-06 | 1.666275e-06 | ⋯ | 4.514093e-06 | 1.196842e-05 | 2.964126e-06 | 6.157572e-06 | 3.501848e-06 | 1.742638e-05 | 6.604937e-06 | 4.596820e-06 | 5.591027e-06 | 8.555294e-06 |\n",
       "| 187021641 | 9.953896e-07 | 6.486403e-07 | 1.580717e-07 | 5.526851e-07 | 1.512996e-06 | 5.590633e-07 | 8.483289e-07 | 4.821737e-07 | 4.566993e-07 | ⋯ | 1.274122e-06 | 1.155245e-06 | 4.866840e-07 | 2.689009e-06 | 8.283954e-07 | 1.704151e-06 | 1.365631e-06 | 6.215062e-07 | 5.917094e-07 | 1.210867e-06 |\n",
       "| 187060301 | 1.620207e-07 | 6.819847e-08 | 2.566127e-07 | 1.159056e-07 | 2.697533e-08 | 1.456883e-07 | 2.361439e-07 | 1.374296e-07 | 9.727038e-08 | ⋯ | 6.969573e-08 | 1.744187e-07 | 1.817272e-07 | 2.479434e-07 | 2.824317e-07 | 3.132180e-07 | 5.317056e-08 | 1.178422e-07 | 4.768104e-08 | 1.378712e-07 |\n",
       "| 187066091 | 6.721760e-08 | 2.970988e-08 | 5.145488e-08 | 8.703719e-08 | 1.079812e-07 | 1.148541e-07 | 3.198736e-08 | 1.343224e-08 | 3.403394e-08 | ⋯ | 1.181325e-07 | 2.504976e-07 | 3.265786e-08 | 5.534556e-08 | 4.334606e-08 | 6.485954e-08 | 5.600752e-08 | 2.847609e-08 | 7.257595e-08 | 4.685095e-08 |\n",
       "| 187170651 | 9.413067e-08 | 1.774472e-07 | 5.021370e-08 | 5.950811e-08 | 9.039651e-08 | 6.653371e-08 | 5.089257e-08 | 4.837044e-08 | 6.480984e-08 | ⋯ | 1.025164e-07 | 3.837690e-07 | 4.435829e-08 | 8.573386e-08 | 1.210493e-07 | 9.608791e-08 | 6.357126e-08 | 5.296586e-08 | 5.952588e-08 | 5.957609e-08 |\n",
       "| 187203931 | 6.258061e-06 | 8.767531e-06 | 3.852264e-06 | 6.574528e-06 | 8.296313e-06 | 3.429430e-06 | 2.948890e-06 | 7.011969e-06 | 4.169249e-06 | ⋯ | 3.672157e-06 | 4.218746e-06 | 3.325631e-06 | 4.586320e-06 | 5.547475e-06 | 2.559979e-05 | 2.945387e-06 | 1.057448e-05 | 6.129816e-06 | 3.456909e-06 |\n",
       "| 187233931 | 8.599205e-08 | 1.164138e-07 | 1.443575e-07 | 8.335009e-08 | 3.771995e-08 | 1.343313e-07 | 3.400960e-08 | 2.811834e-08 | 6.963405e-08 | ⋯ | 2.320035e-07 | 1.301500e-07 | 3.365994e-08 | 6.638903e-08 | 3.991698e-08 | 8.546526e-08 | 5.098743e-08 | 1.282196e-07 | 8.594954e-08 | 1.259981e-07 |\n",
       "| 187269951 | 2.631976e-07 | 3.791761e-07 | 1.362000e-07 | 2.016782e-07 | 2.474788e-07 | 2.506817e-07 | 1.861095e-07 | 2.106933e-07 | 3.763438e-07 | ⋯ | 1.755697e-07 | 1.659806e-07 | 8.906551e-08 | 2.831060e-07 | 2.198064e-07 | 3.035603e-07 | 1.645940e-07 | 3.744688e-07 | 2.057395e-07 | 2.234391e-07 |\n",
       "| 187272641 | 1.787076e-03 | 1.165992e-03 | 2.108716e-03 | 1.118711e-03 | 1.592344e-03 | 2.960335e-03 | 1.636009e-03 | 2.301309e-03 | 1.275878e-03 | ⋯ | 1.734909e-03 | 1.701798e-03 | 1.325388e-03 | 1.328359e-03 | 1.576442e-03 | 2.020970e-03 | 8.038433e-04 | 1.544916e-03 | 1.100464e-03 | 1.852768e-03 |\n",
       "| 187314281 | 5.500941e-07 | 2.473620e-07 | 1.298499e-07 | 1.005871e-06 | 3.237467e-07 | 4.373950e-07 | 1.866293e-07 | 7.182019e-07 | 9.913336e-07 | ⋯ | 5.767810e-07 | 6.538218e-07 | 2.847717e-07 | 7.754225e-07 | 1.292488e-06 | 1.297468e-06 | 3.992587e-07 | 6.735794e-07 | 1.871525e-07 | 2.609514e-07 |\n",
       "| 187332121 | 3.091117e-06 | 2.335014e-06 | 3.401159e-06 | 3.798032e-06 | 5.864270e-06 | 4.550049e-06 | 1.207651e-06 | 3.558142e-06 | 1.974326e-06 | ⋯ | 3.040366e-06 | 3.573185e-06 | 3.506216e-06 | 2.289065e-06 | 1.739774e-06 | 4.114867e-06 | 3.715722e-06 | 4.097468e-06 | 2.645247e-06 | 1.882951e-06 |\n",
       "| 187346211 | 1.533417e-06 | 2.130898e-06 | 1.627356e-06 | 7.671672e-07 | 6.192264e-07 | 7.485583e-07 | 5.376042e-07 | 1.309093e-06 | 1.528706e-06 | ⋯ | 3.758518e-06 | 2.428276e-06 | 1.368605e-06 | 9.613243e-07 | 3.987474e-07 | 2.523317e-06 | 4.297899e-07 | 6.347206e-06 | 9.439702e-07 | 6.853743e-07 |\n",
       "| 187350011 | 2.625961e-06 | 2.230533e-06 | 8.546995e-06 | 1.762089e-06 | 2.372255e-06 | 2.440540e-06 | 1.209427e-06 | 3.493832e-06 | 1.705903e-06 | ⋯ | 1.413626e-06 | 2.458677e-06 | 1.130492e-06 | 2.292694e-06 | 8.202333e-07 | 1.354871e-06 | 5.924791e-06 | 1.682434e-06 | 1.706695e-06 | 5.770845e-06 |\n",
       "| 187400951 | 5.829341e-05 | 7.019683e-05 | 8.397936e-05 | 4.307065e-05 | 3.813022e-05 | 5.883206e-05 | 9.565280e-05 | 4.723474e-05 | 4.487400e-05 | ⋯ | 4.519987e-05 | 2.983617e-05 | 3.739478e-05 | 7.244722e-05 | 3.864105e-05 | 1.120600e-04 | 5.724819e-05 | 5.908635e-05 | 4.410720e-05 | 7.470720e-05 |\n",
       "| 187429081 | 1.174593e-05 | 9.910596e-06 | 4.692629e-06 | 1.100370e-05 | 2.226019e-05 | 3.847922e-06 | 5.458256e-06 | 1.212176e-05 | 1.563717e-05 | ⋯ | 1.384653e-05 | 5.269311e-06 | 1.028040e-05 | 1.448361e-05 | 2.312440e-05 | 1.414407e-05 | 1.023933e-05 | 1.558417e-05 | 9.075300e-06 | 7.691399e-06 |\n",
       "| 187434871 | 5.117075e-04 | 1.229358e-04 | 3.052775e-04 | 4.199466e-04 | 4.631169e-04 | 5.464964e-04 | 2.422634e-04 | 5.234987e-04 | 2.134414e-04 | ⋯ | 4.331527e-04 | 3.950575e-04 | 5.782731e-04 | 1.294413e-03 | 5.957723e-04 | 4.784631e-04 | 8.416602e-04 | 6.239852e-04 | 2.947082e-04 | 1.293233e-03 |\n",
       "| 187594641 | 1.093656e-05 | 4.183229e-06 | 9.787984e-06 | 1.130415e-05 | 1.025869e-05 | 9.602520e-06 | 1.366206e-05 | 6.527143e-06 | 1.005413e-05 | ⋯ | 1.152163e-05 | 5.383913e-06 | 6.407985e-06 | 2.677529e-05 | 1.105756e-05 | 1.388656e-05 | 6.724805e-06 | 1.824855e-05 | 5.109003e-06 | 1.300775e-05 |\n",
       "| 187604521 | 2.788567e-04 | 1.448545e-04 | 5.445333e-04 | 1.820451e-04 | 2.092609e-04 | 4.432512e-04 | 3.518294e-04 | 6.014579e-04 | 1.607812e-04 | ⋯ | 2.955882e-04 | 3.167467e-04 | 1.576581e-04 | 1.696003e-04 | 1.725876e-04 | 3.104977e-04 | 4.017152e-04 | 1.379374e-04 | 2.545444e-04 | 3.447023e-04 |\n",
       "| 187626041 | 2.306505e-04 | 1.487839e-04 | 3.221255e-04 | 1.213925e-04 | 2.696200e-04 | 3.029686e-04 | 9.678872e-05 | 1.752975e-04 | 2.267360e-04 | ⋯ | 2.001218e-04 | 1.672433e-04 | 3.731874e-04 | 4.133648e-04 | 2.535348e-04 | 3.157181e-04 | 2.857283e-04 | 2.379503e-04 | 1.250877e-04 | 2.341322e-04 |\n",
       "| 187636041 | 1.533273e-08 | 1.331853e-08 | 4.002578e-08 | 9.567315e-09 | 2.068902e-08 | 1.669399e-08 | 1.626623e-08 | 4.735851e-09 | 8.686849e-09 | ⋯ | 3.167238e-08 | 1.604207e-08 | 6.369469e-09 | 1.160430e-08 | 1.163407e-08 | 1.656218e-08 | 5.206466e-09 | 2.781717e-08 | 9.095005e-09 | 2.145027e-08 |\n",
       "| 187827511 | 3.496132e-04 | 2.919132e-04 | 8.778856e-04 | 3.434920e-04 | 5.222528e-04 | 2.055957e-04 | 2.951965e-04 | 3.865053e-04 | 2.633184e-04 | ⋯ | 3.519688e-04 | 2.303127e-04 | 2.775672e-04 | 2.968714e-04 | 3.036567e-04 | 6.024153e-04 | 2.903616e-04 | 2.216194e-04 | 1.820003e-04 | 3.756653e-04 |\n",
       "| 187838971 | 1.705358e-02 | 1.254242e-02 | 1.065684e-02 | 2.324624e-02 | 2.251555e-02 | 2.547391e-02 | 2.444112e-02 | 1.071927e-02 | 1.044688e-02 | ⋯ | 2.904473e-02 | 1.640524e-02 | 1.443556e-02 | 1.492225e-02 | 1.605917e-02 | 1.171032e-02 | 3.649263e-02 | 1.557130e-02 | 1.163199e-02 | 1.254972e-02 |\n",
       "| 187902361 | 4.697167e-03 | 2.407905e-03 | 5.201248e-03 | 6.723314e-03 | 5.070855e-03 | 7.404402e-03 | 2.610576e-03 | 2.994794e-03 | 6.881722e-03 | ⋯ | 4.190236e-03 | 3.937958e-03 | 3.581855e-03 | 4.151958e-03 | 4.726381e-03 | 3.224354e-03 | 4.285343e-03 | 3.851128e-03 | 2.533513e-03 | 3.540643e-03 |\n",
       "| 187956461 | 3.772028e-03 | 1.316822e-03 | 3.597627e-03 | 4.687035e-03 | 4.273771e-03 | 2.978810e-03 | 1.381256e-03 | 3.953735e-03 | 8.386748e-03 | ⋯ | 4.079291e-03 | 2.275653e-03 | 2.448245e-03 | 3.162798e-03 | 3.319343e-03 | 3.535144e-03 | 5.469955e-03 | 2.160997e-03 | 1.971572e-03 | 4.270869e-03 |\n",
       "| 187964701 | 2.996867e-02 | 1.812989e-02 | 3.719982e-02 | 3.010486e-02 | 4.372880e-02 | 3.434480e-02 | 3.029212e-02 | 1.364656e-02 | 2.536711e-02 | ⋯ | 2.310792e-02 | 2.812047e-02 | 2.075766e-02 | 2.586247e-02 | 1.345780e-02 | 1.892918e-02 | 6.172438e-02 | 4.237664e-02 | 3.081777e-02 | 3.301367e-02 |\n",
       "| 188116871 | 3.499416e-05 | 3.947967e-05 | 4.332379e-05 | 5.210576e-05 | 4.983505e-05 | 4.722550e-05 | 3.496983e-05 | 4.358603e-05 | 1.802493e-05 | ⋯ | 1.274130e-05 | 2.649859e-05 | 2.358338e-05 | 2.974019e-05 | 5.387857e-05 | 2.699743e-05 | 2.903654e-05 | 3.331186e-05 | 3.575603e-05 | 1.881656e-05 |\n",
       "\n"
      ],
      "text/plain": [
       "      numero_de_cliente prob         prob_1       prob_2       prob_3      \n",
       "1     29186441          1.445743e-05 8.326157e-06 1.534497e-05 1.195028e-05\n",
       "2     29187961          2.080325e-06 1.579824e-06 4.413588e-06 2.029124e-06\n",
       "3     29193101          1.164755e-07 2.159843e-07 2.434891e-07 1.507343e-07\n",
       "4     29193281          2.585014e-06 1.416862e-06 3.261952e-06 3.969870e-07\n",
       "5     29198891          2.951697e-06 1.664187e-06 5.533891e-06 1.685118e-06\n",
       "6     29200651          6.429063e-06 4.065166e-06 3.782227e-06 3.490201e-06\n",
       "7     29201701          1.041887e-06 1.037821e-06 1.520001e-06 2.821374e-06\n",
       "8     29205441          4.667099e-04 2.849350e-04 1.698259e-04 7.265066e-04\n",
       "9     29207901          1.490032e-04 3.215226e-04 9.086954e-05 1.582395e-04\n",
       "10    29243631          6.779586e-07 2.766237e-07 1.328483e-07 6.833958e-07\n",
       "11    29251231          7.333005e-06 4.717023e-06 1.139907e-05 3.059057e-06\n",
       "12    29257551          4.518292e-07 6.616705e-07 6.183746e-07 3.020220e-07\n",
       "13    29267141          4.617897e-07 3.749902e-07 2.686045e-07 3.663200e-07\n",
       "14    29277081          8.506735e-07 4.658642e-07 4.753800e-07 1.344255e-06\n",
       "15    29284331          1.769818e-05 1.378579e-05 3.376120e-05 2.215019e-05\n",
       "16    29286091          1.025386e-05 1.444269e-05 1.029284e-05 9.082128e-06\n",
       "17    29288251          2.917498e-05 2.449372e-05 3.386267e-05 2.264703e-05\n",
       "18    29289361          1.226929e-06 3.100205e-06 3.960838e-06 2.209077e-06\n",
       "19    29292171          1.232495e-05 2.364129e-05 1.541560e-05 4.020997e-06\n",
       "20    29297201          1.173745e-06 6.817715e-07 6.098160e-07 6.879156e-07\n",
       "21    29298431          4.885651e-06 1.290969e-06 2.969219e-06 4.025787e-06\n",
       "22    29300881          7.307917e-07 1.240912e-06 2.915567e-07 8.880403e-07\n",
       "23    29300941          1.258109e-07 1.057010e-07 1.669040e-07 1.082292e-07\n",
       "24    29304511          9.178956e-06 1.138849e-05 1.760433e-05 4.239294e-06\n",
       "25    29325391          2.440452e-06 2.216950e-06 1.391163e-06 1.749502e-06\n",
       "26    29344801          2.157590e-07 2.413552e-07 2.448713e-07 1.178653e-07\n",
       "27    29344861          2.257778e-06 1.062550e-06 2.822455e-06 1.603081e-06\n",
       "28    29346321          2.118811e-07 1.586770e-07 2.246262e-07 1.411243e-07\n",
       "29    29347841          3.522488e-07 2.100026e-07 2.398495e-07 1.833248e-07\n",
       "30    29347901          6.828275e-07 6.604950e-07 9.654457e-07 9.433131e-07\n",
       "⋮     ⋮                 ⋮            ⋮            ⋮            ⋮           \n",
       "16522 186827251         1.245957e-03 1.158667e-03 2.777113e-04 1.182750e-03\n",
       "16523 186829241         3.421040e-05 2.209386e-05 1.699602e-05 1.673444e-05\n",
       "16524 186866381         9.127702e-08 1.861268e-07 9.893605e-08 6.389570e-08\n",
       "16525 186874801         1.042436e-03 6.608573e-04 1.333949e-03 6.239027e-04\n",
       "16526 186899651         7.209667e-06 3.410475e-06 3.083903e-06 1.426851e-05\n",
       "16527 187021641         9.953896e-07 6.486403e-07 1.580717e-07 5.526851e-07\n",
       "16528 187060301         1.620207e-07 6.819847e-08 2.566127e-07 1.159056e-07\n",
       "16529 187066091         6.721760e-08 2.970988e-08 5.145488e-08 8.703719e-08\n",
       "16530 187170651         9.413067e-08 1.774472e-07 5.021370e-08 5.950811e-08\n",
       "16531 187203931         6.258061e-06 8.767531e-06 3.852264e-06 6.574528e-06\n",
       "16532 187233931         8.599205e-08 1.164138e-07 1.443575e-07 8.335009e-08\n",
       "16533 187269951         2.631976e-07 3.791761e-07 1.362000e-07 2.016782e-07\n",
       "16534 187272641         1.787076e-03 1.165992e-03 2.108716e-03 1.118711e-03\n",
       "16535 187314281         5.500941e-07 2.473620e-07 1.298499e-07 1.005871e-06\n",
       "16536 187332121         3.091117e-06 2.335014e-06 3.401159e-06 3.798032e-06\n",
       "16537 187346211         1.533417e-06 2.130898e-06 1.627356e-06 7.671672e-07\n",
       "16538 187350011         2.625961e-06 2.230533e-06 8.546995e-06 1.762089e-06\n",
       "16539 187400951         5.829341e-05 7.019683e-05 8.397936e-05 4.307065e-05\n",
       "16540 187429081         1.174593e-05 9.910596e-06 4.692629e-06 1.100370e-05\n",
       "16541 187434871         5.117075e-04 1.229358e-04 3.052775e-04 4.199466e-04\n",
       "16542 187594641         1.093656e-05 4.183229e-06 9.787984e-06 1.130415e-05\n",
       "16543 187604521         2.788567e-04 1.448545e-04 5.445333e-04 1.820451e-04\n",
       "16544 187626041         2.306505e-04 1.487839e-04 3.221255e-04 1.213925e-04\n",
       "16545 187636041         1.533273e-08 1.331853e-08 4.002578e-08 9.567315e-09\n",
       "16546 187827511         3.496132e-04 2.919132e-04 8.778856e-04 3.434920e-04\n",
       "16547 187838971         1.705358e-02 1.254242e-02 1.065684e-02 2.324624e-02\n",
       "16548 187902361         4.697167e-03 2.407905e-03 5.201248e-03 6.723314e-03\n",
       "16549 187956461         3.772028e-03 1.316822e-03 3.597627e-03 4.687035e-03\n",
       "16550 187964701         2.996867e-02 1.812989e-02 3.719982e-02 3.010486e-02\n",
       "16551 188116871         3.499416e-05 3.947967e-05 4.332379e-05 5.210576e-05\n",
       "      prob_4       prob_5       prob_6       prob_7       prob_8       ⋯\n",
       "1     1.725044e-05 1.079014e-05 1.152995e-05 5.005125e-06 8.337535e-06 ⋯\n",
       "2     3.272348e-06 6.948096e-07 2.220626e-06 2.036847e-06 2.109541e-06 ⋯\n",
       "3     5.357397e-08 1.504914e-07 2.900950e-08 3.682775e-08 1.684066e-07 ⋯\n",
       "4     1.429361e-06 3.268936e-06 1.822125e-06 1.648122e-06 2.005968e-06 ⋯\n",
       "5     2.227713e-06 2.373410e-06 1.761882e-06 3.709892e-06 3.597709e-06 ⋯\n",
       "6     4.979485e-06 3.963793e-06 4.110424e-06 6.682811e-06 4.809463e-06 ⋯\n",
       "7     4.780980e-07 1.394099e-06 2.971835e-07 6.069834e-07 7.672543e-07 ⋯\n",
       "8     1.219138e-03 3.218507e-04 3.015291e-04 1.790046e-04 5.938617e-04 ⋯\n",
       "9     9.025713e-05 8.742969e-05 2.792426e-04 1.101937e-04 2.411588e-05 ⋯\n",
       "10    9.104092e-07 5.413640e-07 5.831507e-07 7.285809e-07 4.291777e-07 ⋯\n",
       "11    4.413309e-06 3.597705e-06 2.667593e-06 7.777435e-06 2.987937e-06 ⋯\n",
       "12    6.835293e-07 1.262467e-07 9.070471e-07 3.245764e-07 2.979054e-07 ⋯\n",
       "13    1.729996e-07 3.355372e-07 7.776265e-07 6.105793e-07 3.565481e-07 ⋯\n",
       "14    1.019760e-06 5.878447e-07 1.615538e-06 2.474320e-07 1.153344e-06 ⋯\n",
       "15    4.616508e-05 1.708551e-05 1.517081e-05 1.224604e-05 7.570787e-06 ⋯\n",
       "16    6.125643e-06 2.346291e-05 6.420605e-06 3.280713e-06 4.098902e-06 ⋯\n",
       "17    1.233634e-05 1.429278e-05 3.636858e-05 1.147841e-05 1.259151e-05 ⋯\n",
       "18    9.693269e-08 2.022191e-06 9.854267e-07 8.099298e-07 1.440237e-06 ⋯\n",
       "19    3.533667e-06 1.014336e-05 1.613302e-05 1.761405e-05 1.277764e-05 ⋯\n",
       "20    2.182988e-06 1.370543e-06 1.778628e-06 1.154824e-06 1.359457e-06 ⋯\n",
       "21    2.722932e-06 4.071851e-06 2.929264e-06 5.628359e-06 2.723928e-06 ⋯\n",
       "22    9.041642e-07 5.190732e-07 4.292968e-07 6.398265e-07 9.331390e-07 ⋯\n",
       "23    1.403313e-07 1.356349e-07 8.284232e-08 1.776348e-07 6.446120e-08 ⋯\n",
       "24    1.119965e-05 7.879770e-06 1.028343e-05 5.361302e-06 6.354229e-06 ⋯\n",
       "25    1.327253e-06 4.215700e-06 2.234049e-06 2.304883e-06 4.455503e-06 ⋯\n",
       "26    1.331311e-07 4.034935e-07 4.018897e-07 3.096110e-07 1.218714e-07 ⋯\n",
       "27    1.151029e-06 8.886984e-07 4.517381e-06 1.566961e-06 3.662810e-06 ⋯\n",
       "28    2.166565e-07 1.091014e-07 3.783269e-07 1.822491e-07 3.683671e-07 ⋯\n",
       "29    4.107065e-07 8.824561e-07 4.560430e-07 2.482768e-07 3.097096e-07 ⋯\n",
       "30    4.997444e-07 4.747627e-07 4.451714e-07 3.139241e-07 1.305928e-06 ⋯\n",
       "⋮     ⋮            ⋮            ⋮            ⋮            ⋮            ⋱\n",
       "16522 1.458233e-03 9.360678e-04 7.714933e-04 4.843679e-04 3.040317e-04 ⋯\n",
       "16523 3.260404e-05 6.155445e-05 2.694254e-05 5.451177e-05 5.048436e-05 ⋯\n",
       "16524 5.488601e-08 8.439122e-08 8.775999e-08 5.961037e-08 1.032495e-07 ⋯\n",
       "16525 8.040187e-04 9.186067e-04 1.805243e-03 7.302295e-04 7.276299e-04 ⋯\n",
       "16526 1.857971e-05 2.999270e-06 6.198503e-06 5.762258e-06 1.666275e-06 ⋯\n",
       "16527 1.512996e-06 5.590633e-07 8.483289e-07 4.821737e-07 4.566993e-07 ⋯\n",
       "16528 2.697533e-08 1.456883e-07 2.361439e-07 1.374296e-07 9.727038e-08 ⋯\n",
       "16529 1.079812e-07 1.148541e-07 3.198736e-08 1.343224e-08 3.403394e-08 ⋯\n",
       "16530 9.039651e-08 6.653371e-08 5.089257e-08 4.837044e-08 6.480984e-08 ⋯\n",
       "16531 8.296313e-06 3.429430e-06 2.948890e-06 7.011969e-06 4.169249e-06 ⋯\n",
       "16532 3.771995e-08 1.343313e-07 3.400960e-08 2.811834e-08 6.963405e-08 ⋯\n",
       "16533 2.474788e-07 2.506817e-07 1.861095e-07 2.106933e-07 3.763438e-07 ⋯\n",
       "16534 1.592344e-03 2.960335e-03 1.636009e-03 2.301309e-03 1.275878e-03 ⋯\n",
       "16535 3.237467e-07 4.373950e-07 1.866293e-07 7.182019e-07 9.913336e-07 ⋯\n",
       "16536 5.864270e-06 4.550049e-06 1.207651e-06 3.558142e-06 1.974326e-06 ⋯\n",
       "16537 6.192264e-07 7.485583e-07 5.376042e-07 1.309093e-06 1.528706e-06 ⋯\n",
       "16538 2.372255e-06 2.440540e-06 1.209427e-06 3.493832e-06 1.705903e-06 ⋯\n",
       "16539 3.813022e-05 5.883206e-05 9.565280e-05 4.723474e-05 4.487400e-05 ⋯\n",
       "16540 2.226019e-05 3.847922e-06 5.458256e-06 1.212176e-05 1.563717e-05 ⋯\n",
       "16541 4.631169e-04 5.464964e-04 2.422634e-04 5.234987e-04 2.134414e-04 ⋯\n",
       "16542 1.025869e-05 9.602520e-06 1.366206e-05 6.527143e-06 1.005413e-05 ⋯\n",
       "16543 2.092609e-04 4.432512e-04 3.518294e-04 6.014579e-04 1.607812e-04 ⋯\n",
       "16544 2.696200e-04 3.029686e-04 9.678872e-05 1.752975e-04 2.267360e-04 ⋯\n",
       "16545 2.068902e-08 1.669399e-08 1.626623e-08 4.735851e-09 8.686849e-09 ⋯\n",
       "16546 5.222528e-04 2.055957e-04 2.951965e-04 3.865053e-04 2.633184e-04 ⋯\n",
       "16547 2.251555e-02 2.547391e-02 2.444112e-02 1.071927e-02 1.044688e-02 ⋯\n",
       "16548 5.070855e-03 7.404402e-03 2.610576e-03 2.994794e-03 6.881722e-03 ⋯\n",
       "16549 4.273771e-03 2.978810e-03 1.381256e-03 3.953735e-03 8.386748e-03 ⋯\n",
       "16550 4.372880e-02 3.434480e-02 3.029212e-02 1.364656e-02 2.536711e-02 ⋯\n",
       "16551 4.983505e-05 4.722550e-05 3.496983e-05 4.358603e-05 1.802493e-05 ⋯\n",
       "      prob_11      prob_12      prob_13      prob_14      prob_15     \n",
       "1     1.108910e-05 1.264722e-05 2.089985e-05 9.357584e-06 6.394213e-05\n",
       "2     5.539286e-06 1.166822e-06 1.987178e-06 1.645644e-06 1.058688e-06\n",
       "3     7.175934e-08 1.399446e-07 8.430762e-08 7.809771e-08 9.850179e-08\n",
       "4     1.220387e-06 3.211972e-06 6.280219e-06 1.602932e-06 3.714896e-06\n",
       "5     1.352259e-06 3.794449e-06 1.574116e-06 5.645271e-06 5.433558e-06\n",
       "6     7.229211e-06 7.196391e-06 6.909225e-06 7.329433e-06 3.482324e-06\n",
       "7     8.342750e-07 1.195500e-06 6.003185e-07 3.302460e-07 1.046355e-06\n",
       "8     4.305391e-04 1.042950e-03 2.727657e-04 9.480974e-04 2.921844e-04\n",
       "9     4.478722e-04 3.903533e-05 1.727436e-04 1.712075e-04 7.331072e-05\n",
       "10    1.220722e-06 3.016290e-07 3.317227e-07 1.212373e-06 2.908028e-07\n",
       "11    8.927908e-06 5.284505e-06 6.377128e-06 4.040441e-06 3.523054e-05\n",
       "12    6.454887e-07 2.461618e-07 2.122837e-07 3.487113e-07 6.366853e-07\n",
       "13    1.594819e-07 5.056624e-07 8.389842e-07 4.081610e-07 6.758944e-07\n",
       "14    1.855732e-06 4.463281e-07 4.603995e-07 1.062100e-06 2.497594e-07\n",
       "15    4.379289e-06 1.226158e-05 2.712014e-05 5.187350e-05 2.090589e-05\n",
       "16    9.183229e-06 5.421861e-06 5.392034e-06 5.236524e-06 3.874594e-06\n",
       "17    3.542184e-05 9.664684e-05 6.671189e-05 1.828239e-05 2.087809e-05\n",
       "18    1.294111e-06 5.270910e-07 1.507757e-06 4.650197e-07 6.747309e-07\n",
       "19    1.459004e-05 9.219779e-06 1.204645e-05 1.725269e-05 1.140444e-06\n",
       "20    6.387941e-07 6.858848e-07 7.652616e-07 7.173535e-07 4.922354e-07\n",
       "21    4.479843e-06 4.233988e-06 1.804453e-05 1.417413e-05 1.784784e-06\n",
       "22    1.420070e-06 9.057603e-07 2.677134e-07 1.051270e-06 6.032935e-07\n",
       "23    6.606515e-08 1.850055e-07 8.157162e-08 1.156714e-07 1.270204e-07\n",
       "24    2.128880e-06 4.636491e-06 9.672975e-06 4.994641e-06 1.310616e-05\n",
       "25    2.248538e-06 2.352468e-06 4.332709e-06 2.230533e-06 2.097627e-06\n",
       "26    2.464681e-07 1.204243e-07 3.134111e-07 5.216084e-08 2.515607e-07\n",
       "27    2.595448e-06 6.036546e-06 1.994625e-06 9.678477e-07 2.886994e-06\n",
       "28    1.258049e-07 1.442964e-07 2.357366e-07 1.644854e-07 3.260339e-07\n",
       "29    1.152829e-07 3.138107e-07 3.452847e-07 6.881103e-07 3.178537e-07\n",
       "30    3.681364e-07 7.205907e-07 5.077749e-07 7.971811e-07 9.646580e-07\n",
       "⋮     ⋮            ⋮            ⋮            ⋮            ⋮           \n",
       "16522 1.140735e-03 2.419341e-03 8.754823e-04 1.696974e-03 1.365617e-03\n",
       "16523 8.549169e-05 3.725897e-05 5.698051e-05 1.135294e-05 1.886846e-05\n",
       "16524 8.042377e-08 5.359459e-08 5.907994e-08 5.450300e-08 5.835391e-08\n",
       "16525 8.687911e-04 1.042429e-03 1.160302e-03 5.918320e-04 1.042403e-03\n",
       "16526 4.514093e-06 1.196842e-05 2.964126e-06 6.157572e-06 3.501848e-06\n",
       "16527 1.274122e-06 1.155245e-06 4.866840e-07 2.689009e-06 8.283954e-07\n",
       "16528 6.969573e-08 1.744187e-07 1.817272e-07 2.479434e-07 2.824317e-07\n",
       "16529 1.181325e-07 2.504976e-07 3.265786e-08 5.534556e-08 4.334606e-08\n",
       "16530 1.025164e-07 3.837690e-07 4.435829e-08 8.573386e-08 1.210493e-07\n",
       "16531 3.672157e-06 4.218746e-06 3.325631e-06 4.586320e-06 5.547475e-06\n",
       "16532 2.320035e-07 1.301500e-07 3.365994e-08 6.638903e-08 3.991698e-08\n",
       "16533 1.755697e-07 1.659806e-07 8.906551e-08 2.831060e-07 2.198064e-07\n",
       "16534 1.734909e-03 1.701798e-03 1.325388e-03 1.328359e-03 1.576442e-03\n",
       "16535 5.767810e-07 6.538218e-07 2.847717e-07 7.754225e-07 1.292488e-06\n",
       "16536 3.040366e-06 3.573185e-06 3.506216e-06 2.289065e-06 1.739774e-06\n",
       "16537 3.758518e-06 2.428276e-06 1.368605e-06 9.613243e-07 3.987474e-07\n",
       "16538 1.413626e-06 2.458677e-06 1.130492e-06 2.292694e-06 8.202333e-07\n",
       "16539 4.519987e-05 2.983617e-05 3.739478e-05 7.244722e-05 3.864105e-05\n",
       "16540 1.384653e-05 5.269311e-06 1.028040e-05 1.448361e-05 2.312440e-05\n",
       "16541 4.331527e-04 3.950575e-04 5.782731e-04 1.294413e-03 5.957723e-04\n",
       "16542 1.152163e-05 5.383913e-06 6.407985e-06 2.677529e-05 1.105756e-05\n",
       "16543 2.955882e-04 3.167467e-04 1.576581e-04 1.696003e-04 1.725876e-04\n",
       "16544 2.001218e-04 1.672433e-04 3.731874e-04 4.133648e-04 2.535348e-04\n",
       "16545 3.167238e-08 1.604207e-08 6.369469e-09 1.160430e-08 1.163407e-08\n",
       "16546 3.519688e-04 2.303127e-04 2.775672e-04 2.968714e-04 3.036567e-04\n",
       "16547 2.904473e-02 1.640524e-02 1.443556e-02 1.492225e-02 1.605917e-02\n",
       "16548 4.190236e-03 3.937958e-03 3.581855e-03 4.151958e-03 4.726381e-03\n",
       "16549 4.079291e-03 2.275653e-03 2.448245e-03 3.162798e-03 3.319343e-03\n",
       "16550 2.310792e-02 2.812047e-02 2.075766e-02 2.586247e-02 1.345780e-02\n",
       "16551 1.274130e-05 2.649859e-05 2.358338e-05 2.974019e-05 5.387857e-05\n",
       "      prob_16      prob_17      prob_18      prob_19      prob_20     \n",
       "1     1.145921e-05 6.148770e-06 1.435406e-05 1.817493e-05 1.068988e-05\n",
       "2     2.167594e-06 4.459376e-07 1.827358e-06 2.891286e-06 1.605666e-06\n",
       "3     1.580801e-07 2.010516e-07 9.130028e-08 6.272997e-08 8.095828e-08\n",
       "4     3.774277e-06 2.943926e-06 3.449513e-06 1.617762e-06 2.262378e-06\n",
       "5     2.383721e-06 2.894946e-06 1.626858e-06 4.110320e-06 2.462700e-06\n",
       "6     2.075623e-05 2.051891e-06 2.719858e-06 8.074995e-06 1.347980e-05\n",
       "7     1.473654e-06 7.694957e-07 1.113129e-06 6.701994e-07 1.342958e-06\n",
       "8     5.488907e-04 1.942365e-04 2.698470e-04 7.159752e-04 1.885279e-04\n",
       "9     2.759038e-04 1.928289e-04 8.934596e-05 1.168583e-04 1.055468e-04\n",
       "10    6.990887e-07 5.140583e-07 3.864434e-07 1.833947e-06 6.873849e-07\n",
       "11    3.335377e-06 2.744744e-06 1.115615e-05 5.287691e-06 4.893367e-06\n",
       "12    4.710125e-07 4.146769e-07 4.152203e-07 3.318989e-07 4.635510e-07\n",
       "13    8.322588e-07 5.536812e-07 1.704373e-07 3.138565e-07 5.580301e-07\n",
       "14    4.796167e-07 2.297712e-07 1.878687e-06 1.579457e-06 6.547957e-07\n",
       "15    9.694946e-06 6.171593e-06 9.204282e-06 1.068038e-05 1.318782e-05\n",
       "16    1.187239e-05 2.579374e-05 1.021327e-05 1.623960e-05 1.395655e-05\n",
       "17    2.361009e-05 1.087121e-05 1.603637e-05 2.028061e-05 4.659164e-05\n",
       "18    3.643687e-07 1.688090e-07 2.010168e-06 5.434893e-07 2.581569e-07\n",
       "19    8.931992e-06 1.305723e-05 1.962965e-05 1.260831e-05 1.699323e-05\n",
       "20    2.452730e-06 1.118104e-06 2.279134e-06 1.042200e-06 5.830006e-07\n",
       "21    4.167776e-06 9.426916e-06 2.256299e-06 2.343856e-06 5.082984e-06\n",
       "22    6.587129e-07 5.167210e-07 6.409855e-07 8.861532e-07 6.276254e-07\n",
       "23    1.356895e-07 4.912219e-08 1.538293e-07 1.097259e-07 2.921992e-07\n",
       "24    5.794415e-06 1.332501e-05 1.260970e-05 1.440876e-05 7.509567e-06\n",
       "25    1.004246e-06 2.390541e-06 2.335742e-06 3.249922e-06 1.547362e-06\n",
       "26    1.540235e-07 1.501710e-07 4.638926e-07 1.347884e-07 6.030435e-08\n",
       "27    1.355058e-06 2.418834e-06 2.733540e-06 2.518788e-06 1.519240e-06\n",
       "28    1.324556e-07 1.110855e-07 2.004024e-07 2.693508e-07 4.309043e-07\n",
       "29    1.961208e-07 1.984583e-07 2.742210e-07 4.037634e-07 1.542369e-07\n",
       "30    1.368382e-06 7.771707e-07 3.906026e-07 4.745173e-07 5.828157e-07\n",
       "⋮     ⋮            ⋮            ⋮            ⋮            ⋮           \n",
       "16522 6.046298e-04 6.032675e-04 2.430760e-03 1.517288e-03 2.609538e-03\n",
       "16523 7.216070e-05 1.321029e-05 3.617433e-05 5.643225e-06 5.528714e-06\n",
       "16524 1.902596e-07 6.716521e-08 2.071627e-07 2.346109e-08 1.256999e-07\n",
       "16525 6.532838e-04 1.134215e-03 1.299443e-03 1.654809e-03 1.848887e-03\n",
       "16526 1.742638e-05 6.604937e-06 4.596820e-06 5.591027e-06 8.555294e-06\n",
       "16527 1.704151e-06 1.365631e-06 6.215062e-07 5.917094e-07 1.210867e-06\n",
       "16528 3.132180e-07 5.317056e-08 1.178422e-07 4.768104e-08 1.378712e-07\n",
       "16529 6.485954e-08 5.600752e-08 2.847609e-08 7.257595e-08 4.685095e-08\n",
       "16530 9.608791e-08 6.357126e-08 5.296586e-08 5.952588e-08 5.957609e-08\n",
       "16531 2.559979e-05 2.945387e-06 1.057448e-05 6.129816e-06 3.456909e-06\n",
       "16532 8.546526e-08 5.098743e-08 1.282196e-07 8.594954e-08 1.259981e-07\n",
       "16533 3.035603e-07 1.645940e-07 3.744688e-07 2.057395e-07 2.234391e-07\n",
       "16534 2.020970e-03 8.038433e-04 1.544916e-03 1.100464e-03 1.852768e-03\n",
       "16535 1.297468e-06 3.992587e-07 6.735794e-07 1.871525e-07 2.609514e-07\n",
       "16536 4.114867e-06 3.715722e-06 4.097468e-06 2.645247e-06 1.882951e-06\n",
       "16537 2.523317e-06 4.297899e-07 6.347206e-06 9.439702e-07 6.853743e-07\n",
       "16538 1.354871e-06 5.924791e-06 1.682434e-06 1.706695e-06 5.770845e-06\n",
       "16539 1.120600e-04 5.724819e-05 5.908635e-05 4.410720e-05 7.470720e-05\n",
       "16540 1.414407e-05 1.023933e-05 1.558417e-05 9.075300e-06 7.691399e-06\n",
       "16541 4.784631e-04 8.416602e-04 6.239852e-04 2.947082e-04 1.293233e-03\n",
       "16542 1.388656e-05 6.724805e-06 1.824855e-05 5.109003e-06 1.300775e-05\n",
       "16543 3.104977e-04 4.017152e-04 1.379374e-04 2.545444e-04 3.447023e-04\n",
       "16544 3.157181e-04 2.857283e-04 2.379503e-04 1.250877e-04 2.341322e-04\n",
       "16545 1.656218e-08 5.206466e-09 2.781717e-08 9.095005e-09 2.145027e-08\n",
       "16546 6.024153e-04 2.903616e-04 2.216194e-04 1.820003e-04 3.756653e-04\n",
       "16547 1.171032e-02 3.649263e-02 1.557130e-02 1.163199e-02 1.254972e-02\n",
       "16548 3.224354e-03 4.285343e-03 3.851128e-03 2.533513e-03 3.540643e-03\n",
       "16549 3.535144e-03 5.469955e-03 2.160997e-03 1.971572e-03 4.270869e-03\n",
       "16550 1.892918e-02 6.172438e-02 4.237664e-02 3.081777e-02 3.301367e-02\n",
       "16551 2.699743e-05 2.903654e-05 3.331186e-05 3.575603e-05 1.881656e-05"
      ]
     },
     "metadata": {},
     "output_type": "display_data"
    }
   ],
   "source": [
    "# veo que hay en tb_prediccion\n",
    "tb_prediccion"
   ]
  },
  {
   "cell_type": "code",
   "execution_count": 136,
   "id": "f08c1b70",
   "metadata": {
    "vscode": {
     "languageId": "r"
    }
   },
   "outputs": [],
   "source": [
    "# grabo las probabilidad del modelo\n",
    "#  me va a ser util para hacer Ensembles de modelos\n",
    "fwrite(tb_prediccion,\n",
    "  file= \"prediccion.txt\",\n",
    "  sep= \"\\t\"\n",
    ")"
   ]
  },
  {
   "cell_type": "markdown",
   "id": "6be384de",
   "metadata": {},
   "source": [
    "#### Kaggle Competition Submit"
   ]
  },
  {
   "cell_type": "markdown",
   "id": "53dffcb8",
   "metadata": {},
   "source": [
    "Genero las salidas y hago los submits a Kaggles"
   ]
  },
  {
   "cell_type": "code",
   "execution_count": 140,
   "id": "c6fcce10",
   "metadata": {
    "vscode": {
     "languageId": "r"
    }
   },
   "outputs": [
    {
     "name": "stderr",
     "output_type": "stream",
     "text": [
      "Warning message in dir.create(\"kaggle\"):\n",
      "“'kaggle' already exists”\n"
     ]
    },
    {
     "name": "stdout",
     "output_type": "stream",
     "text": [
      "Warning: Your Kaggle API key is readable by other users on this system! To fix this, you can run 'chmod 600 /home/lhermann/.kaggle/kaggle.json' Warning: Looks like you're using an outdated API Version, please consider updating (server 1.7.4.2 / client 1.6.17) Successfully submitted to Data Mining, Gerencial 2025A \n",
      "Warning: Your Kaggle API key is readable by other users on this system! To fix this, you can run 'chmod 600 /home/lhermann/.kaggle/kaggle.json' Warning: Looks like you're using an outdated API Version, please consider updating (server 1.7.4.2 / client 1.6.17) Successfully submitted to Data Mining, Gerencial 2025A \n",
      "Warning: Your Kaggle API key is readable by other users on this system! To fix this, you can run 'chmod 600 /home/lhermann/.kaggle/kaggle.json' Warning: Looks like you're using an outdated API Version, please consider updating (server 1.7.4.2 / client 1.6.17) Successfully submitted to Data Mining, Gerencial 2025A \n",
      "Warning: Your Kaggle API key is readable by other users on this system! To fix this, you can run 'chmod 600 /home/lhermann/.kaggle/kaggle.json' Warning: Looks like you're using an outdated API Version, please consider updating (server 1.7.4.2 / client 1.6.17) Successfully submitted to Data Mining, Gerencial 2025A \n",
      "Warning: Your Kaggle API key is readable by other users on this system! To fix this, you can run 'chmod 600 /home/lhermann/.kaggle/kaggle.json' Warning: Looks like you're using an outdated API Version, please consider updating (server 1.7.4.2 / client 1.6.17) Successfully submitted to Data Mining, Gerencial 2025A \n",
      "Warning: Your Kaggle API key is readable by other users on this system! To fix this, you can run 'chmod 600 /home/lhermann/.kaggle/kaggle.json' Warning: Looks like you're using an outdated API Version, please consider updating (server 1.7.4.2 / client 1.6.17) Successfully submitted to Data Mining, Gerencial 2025A \n",
      "Warning: Your Kaggle API key is readable by other users on this system! To fix this, you can run 'chmod 600 /home/lhermann/.kaggle/kaggle.json' Warning: Looks like you're using an outdated API Version, please consider updating (server 1.7.4.2 / client 1.6.17) Successfully submitted to Data Mining, Gerencial 2025A \n",
      "Warning: Your Kaggle API key is readable by other users on this system! To fix this, you can run 'chmod 600 /home/lhermann/.kaggle/kaggle.json' Warning: Looks like you're using an outdated API Version, please consider updating (server 1.7.4.2 / client 1.6.17) Successfully submitted to Data Mining, Gerencial 2025A \n",
      "Warning: Your Kaggle API key is readable by other users on this system! To fix this, you can run 'chmod 600 /home/lhermann/.kaggle/kaggle.json' Warning: Looks like you're using an outdated API Version, please consider updating (server 1.7.4.2 / client 1.6.17) Successfully submitted to Data Mining, Gerencial 2025A \n"
     ]
    }
   ],
   "source": [
    "# genero archivos con los  \"envios\" mejores\n",
    "# suba TODOS los archivos a Kaggle\n",
    "\n",
    "PARAM$kaggle$competencia <- \"data-mining-gerencial-2025-a\"\n",
    "PARAM$kaggle$cortes <- seq(800, 1200, by = 50)\n",
    "\n",
    "# ordeno por probabilidad descendente\n",
    "setorder(tb_prediccion, -prob)\n",
    "\n",
    "dir.create(\"kaggle\")\n",
    "\n",
    "for (envios in PARAM$kaggle$cortes) {\n",
    "\n",
    "  tb_prediccion[, Predicted := 0L] # seteo inicial a 0\n",
    "  tb_prediccion[1:envios, Predicted := 1L] # marclo los primeros\n",
    "\n",
    "  archivo_kaggle <- paste0(\n",
    "    \"./kaggle/KA\",\n",
    "    PARAM$experimento, \"_\",\n",
    "    \"s\", length(PARAM$FT$semillas), \"_\",\n",
    "    envios, \".csv\")\n",
    "\n",
    "  # grabo el archivo\n",
    "  fwrite(tb_prediccion[, list(numero_de_cliente, Predicted)],\n",
    "    file= archivo_kaggle,\n",
    "    sep= \",\"\n",
    "  )\n",
    "\n",
    "  # subida a Kaggle, armo la linea de comando\n",
    "  comando <- \"kaggle competitions submit\"\n",
    "  competencia <- paste(\"-c\", PARAM$kaggle$competencia)\n",
    "  arch <- paste( \"-f\", archivo_kaggle)\n",
    "\n",
    "  mensaje <- paste0(\"-m 'envios=\", envios,\n",
    "  \"  semilla=\", PARAM$semilla_primigenia,\n",
    "    \"'\" )\n",
    "\n",
    "  linea <- paste( comando, competencia, arch, mensaje)\n",
    "\n",
    "  salida <- system(linea, intern=TRUE) # el submit a Kaggle\n",
    "  cat(salida, \"\\n\")\n",
    "}"
   ]
  },
  {
   "cell_type": "code",
   "execution_count": 138,
   "id": "dd381d41",
   "metadata": {
    "vscode": {
     "languageId": "r"
    }
   },
   "outputs": [
    {
     "name": "stderr",
     "output_type": "stream",
     "text": [
      "Loading required package: yaml\n",
      "\n"
     ]
    }
   ],
   "source": [
    "# grabo los parametros\n",
    "if( !require(\"yaml\")) install.packages(\"yaml\")\n",
    "require(\"yaml\")\n",
    "\n",
    "write_yaml( PARAM, file=\"PARAM.yml\")"
   ]
  },
  {
   "cell_type": "code",
   "execution_count": 139,
   "id": "58cdf577",
   "metadata": {
    "vscode": {
     "languageId": "r"
    }
   },
   "outputs": [
    {
     "data": {
      "text/html": [
       "'Mon Aug 18 11:02:18 PM 2025'"
      ],
      "text/latex": [
       "'Mon Aug 18 11:02:18 PM 2025'"
      ],
      "text/markdown": [
       "'Mon Aug 18 11:02:18 PM 2025'"
      ],
      "text/plain": [
       "[1] \"Mon Aug 18 11:02:18 PM 2025\""
      ]
     },
     "metadata": {},
     "output_type": "display_data"
    }
   ],
   "source": [
    "format(Sys.time(), \"%a %b %d %X %Y\")"
   ]
  },
  {
   "cell_type": "code",
   "execution_count": null,
   "id": "9b179cb8-5a6e-43cf-9ee5-208d276c8f05",
   "metadata": {},
   "outputs": [],
   "source": []
  },
  {
   "cell_type": "code",
   "execution_count": null,
   "id": "f542e9cc-a8ed-4799-bf02-4f6d6205cf1e",
   "metadata": {},
   "outputs": [],
   "source": []
  },
  {
   "cell_type": "code",
   "execution_count": null,
   "id": "04d91f55-2ea6-4f8d-ae0c-f2f89b574e6a",
   "metadata": {},
   "outputs": [],
   "source": []
  },
  {
   "cell_type": "code",
   "execution_count": null,
   "id": "a7d46a3f-4c5a-4fe1-862f-9dad02ed3e0f",
   "metadata": {},
   "outputs": [],
   "source": []
  }
 ],
 "metadata": {
  "colab": {
   "provenance": []
  },
  "kernelspec": {
   "display_name": "R",
   "language": "R",
   "name": "ir"
  },
  "language_info": {
   "codemirror_mode": "r",
   "file_extension": ".r",
   "mimetype": "text/x-r-source",
   "name": "R",
   "pygments_lexer": "r",
   "version": "4.5.1"
  }
 },
 "nbformat": 4,
 "nbformat_minor": 5
}
