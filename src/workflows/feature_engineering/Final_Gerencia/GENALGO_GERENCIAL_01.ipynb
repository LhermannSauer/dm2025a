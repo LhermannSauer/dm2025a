{
 "cells": [
  {
   "cell_type": "markdown",
   "id": "85171302-a2d6-48cb-b9b2-8d839a276859",
   "metadata": {
    "id": "85171302-a2d6-48cb-b9b2-8d839a276859"
   },
   "source": [
    "## Inicializacion"
   ]
  },
  {
   "cell_type": "markdown",
   "id": "eSU5vi00CPRS",
   "metadata": {
    "id": "eSU5vi00CPRS"
   },
   "source": [
    "Esta parte se debe correr con el runtime en lenguaje **R** Ir al menu, Runtime -> Change Runtime Type -> Runtime type -> R"
   ]
  },
  {
   "cell_type": "markdown",
   "id": "Zq8dySimCPRT",
   "metadata": {
    "id": "Zq8dySimCPRT"
   },
   "source": [
    "limpio el ambiente de R"
   ]
  },
  {
   "cell_type": "code",
   "execution_count": 1,
   "id": "EL8wdHaUs59K",
   "metadata": {
    "colab": {
     "base_uri": "https://localhost:8080/",
     "height": 34
    },
    "id": "EL8wdHaUs59K",
    "outputId": "1cc07b5d-1bcd-4f95-8b6b-81272f013c49"
   },
   "outputs": [
    {
     "data": {
      "text/html": [
       "'Wed Aug 13 03:26:04 PM 2025'"
      ],
      "text/latex": [
       "'Wed Aug 13 03:26:04 PM 2025'"
      ],
      "text/markdown": [
       "'Wed Aug 13 03:26:04 PM 2025'"
      ],
      "text/plain": [
       "[1] \"Wed Aug 13 03:26:04 PM 2025\""
      ]
     },
     "metadata": {},
     "output_type": "display_data"
    }
   ],
   "source": [
    "format(Sys.time(), \"%a %b %d %X %Y\")"
   ]
  },
  {
   "cell_type": "code",
   "execution_count": 2,
   "id": "1iE0U4_WCPRT",
   "metadata": {
    "colab": {
     "base_uri": "https://localhost:8080/",
     "height": 129
    },
    "id": "1iE0U4_WCPRT",
    "outputId": "7470f831-79c3-4242-f0bb-fff699ae12cf"
   },
   "outputs": [
    {
     "data": {
      "text/html": [
       "<table class=\"dataframe\">\n",
       "<caption>A matrix: 2 × 6 of type dbl</caption>\n",
       "<thead>\n",
       "\t<tr><th></th><th scope=col>used</th><th scope=col>(Mb)</th><th scope=col>gc trigger</th><th scope=col>(Mb)</th><th scope=col>max used</th><th scope=col>(Mb)</th></tr>\n",
       "</thead>\n",
       "<tbody>\n",
       "\t<tr><th scope=row>Ncells</th><td> 661590</td><td>35.4</td><td>1454238</td><td>77.7</td><td>1432356</td><td>76.5</td></tr>\n",
       "\t<tr><th scope=row>Vcells</th><td>1231714</td><td> 9.4</td><td>8388608</td><td>64.0</td><td>1975448</td><td>15.1</td></tr>\n",
       "</tbody>\n",
       "</table>\n"
      ],
      "text/latex": [
       "A matrix: 2 × 6 of type dbl\n",
       "\\begin{tabular}{r|llllll}\n",
       "  & used & (Mb) & gc trigger & (Mb) & max used & (Mb)\\\\\n",
       "\\hline\n",
       "\tNcells &  661590 & 35.4 & 1454238 & 77.7 & 1432356 & 76.5\\\\\n",
       "\tVcells & 1231714 &  9.4 & 8388608 & 64.0 & 1975448 & 15.1\\\\\n",
       "\\end{tabular}\n"
      ],
      "text/markdown": [
       "\n",
       "A matrix: 2 × 6 of type dbl\n",
       "\n",
       "| <!--/--> | used | (Mb) | gc trigger | (Mb) | max used | (Mb) |\n",
       "|---|---|---|---|---|---|---|\n",
       "| Ncells |  661590 | 35.4 | 1454238 | 77.7 | 1432356 | 76.5 |\n",
       "| Vcells | 1231714 |  9.4 | 8388608 | 64.0 | 1975448 | 15.1 |\n",
       "\n"
      ],
      "text/plain": [
       "       used    (Mb) gc trigger (Mb) max used (Mb)\n",
       "Ncells  661590 35.4 1454238    77.7 1432356  76.5\n",
       "Vcells 1231714  9.4 8388608    64.0 1975448  15.1"
      ]
     },
     "metadata": {},
     "output_type": "display_data"
    }
   ],
   "source": [
    "# limpio la memoria\n",
    "rm(list=ls(all.names=TRUE)) # remove all objects\n",
    "gc(full=TRUE, verbose=FALSE) # garbage collection"
   ]
  },
  {
   "cell_type": "code",
   "execution_count": 3,
   "id": "bf65dd12-5293-40d0-b534-0792e80f6ce8",
   "metadata": {
    "id": "bf65dd12-5293-40d0-b534-0792e80f6ce8",
    "vscode": {
     "languageId": "r"
    }
   },
   "outputs": [],
   "source": [
    "add_log = function(message){\n",
    "    cat(message, file = paste0(getwd(), '/logs.txt'),append=TRUE)\n",
    "}"
   ]
  },
  {
   "cell_type": "code",
   "execution_count": 4,
   "id": "atmIUEUNUrK5",
   "metadata": {
    "colab": {
     "base_uri": "https://localhost:8080/"
    },
    "id": "atmIUEUNUrK5",
    "outputId": "782288d6-b22a-4417-b6da-395d9bcc9839",
    "scrolled": true
   },
   "outputs": [
    {
     "name": "stderr",
     "output_type": "stream",
     "text": [
      "Loading required package: data.table\n",
      "\n",
      "Loading required package: csv\n",
      "\n",
      "Loading required package: R.utils\n",
      "\n",
      "Loading required package: R.oo\n",
      "\n",
      "Loading required package: R.methodsS3\n",
      "\n",
      "R.methodsS3 v1.8.2 (2022-06-13 22:00:14 UTC) successfully loaded. See ?R.methodsS3 for help.\n",
      "\n",
      "R.oo v1.27.1 (2025-05-02 21:00:05 UTC) successfully loaded. See ?R.oo for help.\n",
      "\n",
      "\n",
      "Attaching package: ‘R.oo’\n",
      "\n",
      "\n",
      "The following object is masked from ‘package:R.methodsS3’:\n",
      "\n",
      "    throw\n",
      "\n",
      "\n",
      "The following objects are masked from ‘package:methods’:\n",
      "\n",
      "    getClasses, getMethods\n",
      "\n",
      "\n",
      "The following objects are masked from ‘package:base’:\n",
      "\n",
      "    attach, detach, load, save\n",
      "\n",
      "\n",
      "R.utils v2.13.0 (2025-02-24 21:20:02 UTC) successfully loaded. See ?R.utils for help.\n",
      "\n",
      "\n",
      "Attaching package: ‘R.utils’\n",
      "\n",
      "\n",
      "The following object is masked from ‘package:utils’:\n",
      "\n",
      "    timestamp\n",
      "\n",
      "\n",
      "The following objects are masked from ‘package:base’:\n",
      "\n",
      "    cat, commandArgs, getOption, isOpen, nullfile, parse, use, warnings\n",
      "\n",
      "\n"
     ]
    }
   ],
   "source": [
    "require(\"data.table\")\n",
    "require(\"csv\")\n",
    "if( !require(\"R.utils\")) install.packages(\"R.utils\")\n",
    "require(\"R.utils\")"
   ]
  },
  {
   "cell_type": "markdown",
   "id": "BsxZ_ONyj9L_",
   "metadata": {
    "id": "BsxZ_ONyj9L_"
   },
   "source": [
    "#### Parametros\n",
    "Si es gerente, no cambie nada\n",
    "<br>Si es Analista, cambie el nombre del dataset"
   ]
  },
  {
   "cell_type": "code",
   "execution_count": 5,
   "id": "peRH7ySLCPRV",
   "metadata": {
    "id": "peRH7ySLCPRV"
   },
   "outputs": [],
   "source": [
    "PARAM <- list()\n",
    "PARAM$semilla_primigenia <- 106109\n",
    "\n",
    "PARAM$experimento <- \"6300_generencia_FE_gen_testC2_NOGENALGO\"\n",
    "PARAM$dataset <- \"gerencial_competencia_2025.csv.gz\""
   ]
  },
  {
   "cell_type": "markdown",
   "id": "NoJbKo_4NG8A",
   "metadata": {
    "id": "NoJbKo_4NG8A"
   },
   "source": [
    "#### Carpeta del Experimento"
   ]
  },
  {
   "cell_type": "code",
   "execution_count": 6,
   "id": "1gZD6ZMvCPRV",
   "metadata": {
    "id": "1gZD6ZMvCPRV"
   },
   "outputs": [],
   "source": [
    "# carpeta de trabajo\n",
    "\n",
    "experimento_folder <- paste0(\"WF\", PARAM$experimento)\n",
    "dir.create(paste0(\"./exp/\",experimento_folder), showWarnings=FALSE)\n",
    "setwd( paste0(\"./exp/\", experimento_folder ))"
   ]
  },
  {
   "cell_type": "markdown",
   "id": "YVKBfLtkR8SO",
   "metadata": {
    "id": "YVKBfLtkR8SO"
   },
   "source": [
    "### 6.3.1   Preprocesamiento del dataset"
   ]
  },
  {
   "cell_type": "markdown",
   "id": "cr3K0RPVRjq6",
   "metadata": {
    "id": "cr3K0RPVRjq6"
   },
   "source": [
    "#### 6.3.1.1  DT incorporar dataset"
   ]
  },
  {
   "cell_type": "code",
   "execution_count": 7,
   "id": "Xi0emX2ECPRV",
   "metadata": {
    "id": "Xi0emX2ECPRV"
   },
   "outputs": [],
   "source": [
    "# lectura del dataset\n",
    "dataset <- fread(\"~/OneDrive/0.ITBA/Mineria_de_datos/dm2025a/src/workflows/feature_engineering/test_gerencia/gerencial_competencia_2025.csv.gz\")"
   ]
  },
  {
   "cell_type": "markdown",
   "id": "MWuPzK3nSLY3",
   "metadata": {
    "id": "MWuPzK3nSLY3"
   },
   "source": [
    "#### 6.3.1.2  CA  Catastrophe Analysis\n",
    "Se intentan reparar las variables que para un mes están con todos los valores en cero."
   ]
  },
  {
   "cell_type": "markdown",
   "id": "UAI16-yCVcBS",
   "metadata": {
    "id": "UAI16-yCVcBS"
   },
   "source": [
    "El método que se utiliza es **Machine Learning** se asigna NA also valores, si ha leido bien, es la \"anti imputación de valores faltantes\"\n",
    "<br> Usted podrá aplicar aquí otros métodos"
   ]
  },
  {
   "cell_type": "code",
   "execution_count": 8,
   "id": "sTmliO_FXv9E",
   "metadata": {
    "id": "sTmliO_FXv9E"
   },
   "outputs": [],
   "source": [
    "dataset[ foto_mes==202006, internet:=NA]\n",
    "dataset[ foto_mes==202006, mrentabilidad:=NA]\n",
    "dataset[ foto_mes==202006, mrentabilidad_annual:=NA]\n",
    "dataset[ foto_mes==202006, mcomisiones:=NA]\n",
    "dataset[ foto_mes==202006, mactivos_margen:=NA]\n",
    "dataset[ foto_mes==202006, mpasivos_margen:=NA]\n",
    "dataset[ foto_mes==202006, mcuentas_saldo:=NA]\n",
    "dataset[ foto_mes==202006, ctarjeta_visa_transacciones:=NA]\n",
    "dataset[ foto_mes==202006, mtarjeta_visa_consumo:=NA]\n",
    "dataset[ foto_mes==202006, mtarjeta_master_consumo:=NA]\n",
    "dataset[ foto_mes==202006, ccallcenter_transacciones:=NA]\n",
    "dataset[ foto_mes==202006, chomebanking_transacciones:=NA]\n",
    "dataset[ foto_mes==202006, chomebanking_transacciones:=NA]"
   ]
  },
  {
   "cell_type": "markdown",
   "id": "-4NiANYFSYHG",
   "metadata": {
    "id": "-4NiANYFSYHG"
   },
   "source": [
    "#### 6.3.1.3  DR  Data Drifting\n",
    "Se intenta corregir el data drifting, quizas ajustando por IPC ...\n",
    "<br>Esta parte podrá ser abordada por todos los Analistas y también la Gerenciapero se decide pedagogicamente no incluirla en esta primer version para reducir la carga cognitiva"
   ]
  },
  {
   "cell_type": "markdown",
   "id": "7sppIDYeSn5X",
   "metadata": {
    "id": "7sppIDYeSn5X"
   },
   "source": [
    "#### 6.3.1.3  FE_intra_manual Feature Engineering intra-mes\n",
    "\n",
    "Agrego campos nuevos dentro del mismo mes, SIN considerar la historia."
   ]
  },
  {
   "cell_type": "code",
   "execution_count": 9,
   "id": "qrqf3j3_St3p",
   "metadata": {
    "id": "qrqf3j3_St3p"
   },
   "outputs": [],
   "source": [
    "# esta funcion atributos presentes existe debido a que las modalidades poseen datasets con distinta cantidad de campos\n",
    "atributos_presentes <- function( patributos )\n",
    "{\n",
    "  atributos <- unique( patributos )\n",
    "  comun <- intersect( atributos, colnames(dataset) )\n",
    "\n",
    "  return(  length( atributos ) == length( comun ) )\n",
    "}\n",
    "\n",
    "# el mes 1,2, ..12\n",
    "if( atributos_presentes( c(\"foto_mes\") ))\n",
    "  dataset[, kmes := foto_mes %% 100]\n",
    "\n",
    "# variable extraida de una tesis de maestria de Irlanda\n",
    "if( atributos_presentes( c(\"mpayroll\", \"cliente_edad\") ))\n",
    "  dataset[, mpayroll_sobre_edad := mpayroll / cliente_edad]\n"
   ]
  },
  {
   "cell_type": "code",
   "execution_count": 10,
   "id": "iC4viwOdY5Kp",
   "metadata": {
    "colab": {
     "base_uri": "https://localhost:8080/",
     "height": 156
    },
    "id": "iC4viwOdY5Kp",
    "outputId": "05bdb939-926b-48dd-f00f-dbb3a1e86ca7"
   },
   "outputs": [
    {
     "data": {
      "text/html": [
       "<style>\n",
       ".list-inline {list-style: none; margin:0; padding: 0}\n",
       ".list-inline>li {display: inline-block}\n",
       ".list-inline>li:not(:last-child)::after {content: \"\\00b7\"; padding: 0 .5ex}\n",
       "</style>\n",
       "<ol class=list-inline><li>'numero_de_cliente'</li><li>'foto_mes'</li><li>'internet'</li><li>'cliente_edad'</li><li>'cliente_antiguedad'</li><li>'mrentabilidad'</li><li>'mrentabilidad_annual'</li><li>'mcomisiones'</li><li>'mactivos_margen'</li><li>'mpasivos_margen'</li><li>'cproductos'</li><li>'mcuenta_corriente'</li><li>'mcaja_ahorro'</li><li>'cdescubierto_preacordado'</li><li>'mcuentas_saldo'</li><li>'ctarjeta_visa_transacciones'</li><li>'mtarjeta_visa_consumo'</li><li>'mtarjeta_master_consumo'</li><li>'mprestamos_personales'</li><li>'cpayroll_trx'</li><li>'mpayroll'</li><li>'ccomisiones_mantenimiento'</li><li>'ccallcenter_transacciones'</li><li>'chomebanking_transacciones'</li><li>'ctrx_quarter'</li><li>'Master_status'</li><li>'Master_fechaalta'</li><li>'Master_mpagominimo'</li><li>'Visa_status'</li><li>'Visa_fechaalta'</li><li>'Visa_mpagominimo'</li><li>'clase_ternaria'</li><li>'kmes'</li><li>'mpayroll_sobre_edad'</li></ol>\n"
      ],
      "text/latex": [
       "\\begin{enumerate*}\n",
       "\\item 'numero\\_de\\_cliente'\n",
       "\\item 'foto\\_mes'\n",
       "\\item 'internet'\n",
       "\\item 'cliente\\_edad'\n",
       "\\item 'cliente\\_antiguedad'\n",
       "\\item 'mrentabilidad'\n",
       "\\item 'mrentabilidad\\_annual'\n",
       "\\item 'mcomisiones'\n",
       "\\item 'mactivos\\_margen'\n",
       "\\item 'mpasivos\\_margen'\n",
       "\\item 'cproductos'\n",
       "\\item 'mcuenta\\_corriente'\n",
       "\\item 'mcaja\\_ahorro'\n",
       "\\item 'cdescubierto\\_preacordado'\n",
       "\\item 'mcuentas\\_saldo'\n",
       "\\item 'ctarjeta\\_visa\\_transacciones'\n",
       "\\item 'mtarjeta\\_visa\\_consumo'\n",
       "\\item 'mtarjeta\\_master\\_consumo'\n",
       "\\item 'mprestamos\\_personales'\n",
       "\\item 'cpayroll\\_trx'\n",
       "\\item 'mpayroll'\n",
       "\\item 'ccomisiones\\_mantenimiento'\n",
       "\\item 'ccallcenter\\_transacciones'\n",
       "\\item 'chomebanking\\_transacciones'\n",
       "\\item 'ctrx\\_quarter'\n",
       "\\item 'Master\\_status'\n",
       "\\item 'Master\\_fechaalta'\n",
       "\\item 'Master\\_mpagominimo'\n",
       "\\item 'Visa\\_status'\n",
       "\\item 'Visa\\_fechaalta'\n",
       "\\item 'Visa\\_mpagominimo'\n",
       "\\item 'clase\\_ternaria'\n",
       "\\item 'kmes'\n",
       "\\item 'mpayroll\\_sobre\\_edad'\n",
       "\\end{enumerate*}\n"
      ],
      "text/markdown": [
       "1. 'numero_de_cliente'\n",
       "2. 'foto_mes'\n",
       "3. 'internet'\n",
       "4. 'cliente_edad'\n",
       "5. 'cliente_antiguedad'\n",
       "6. 'mrentabilidad'\n",
       "7. 'mrentabilidad_annual'\n",
       "8. 'mcomisiones'\n",
       "9. 'mactivos_margen'\n",
       "10. 'mpasivos_margen'\n",
       "11. 'cproductos'\n",
       "12. 'mcuenta_corriente'\n",
       "13. 'mcaja_ahorro'\n",
       "14. 'cdescubierto_preacordado'\n",
       "15. 'mcuentas_saldo'\n",
       "16. 'ctarjeta_visa_transacciones'\n",
       "17. 'mtarjeta_visa_consumo'\n",
       "18. 'mtarjeta_master_consumo'\n",
       "19. 'mprestamos_personales'\n",
       "20. 'cpayroll_trx'\n",
       "21. 'mpayroll'\n",
       "22. 'ccomisiones_mantenimiento'\n",
       "23. 'ccallcenter_transacciones'\n",
       "24. 'chomebanking_transacciones'\n",
       "25. 'ctrx_quarter'\n",
       "26. 'Master_status'\n",
       "27. 'Master_fechaalta'\n",
       "28. 'Master_mpagominimo'\n",
       "29. 'Visa_status'\n",
       "30. 'Visa_fechaalta'\n",
       "31. 'Visa_mpagominimo'\n",
       "32. 'clase_ternaria'\n",
       "33. 'kmes'\n",
       "34. 'mpayroll_sobre_edad'\n",
       "\n",
       "\n"
      ],
      "text/plain": [
       " [1] \"numero_de_cliente\"           \"foto_mes\"                   \n",
       " [3] \"internet\"                    \"cliente_edad\"               \n",
       " [5] \"cliente_antiguedad\"          \"mrentabilidad\"              \n",
       " [7] \"mrentabilidad_annual\"        \"mcomisiones\"                \n",
       " [9] \"mactivos_margen\"             \"mpasivos_margen\"            \n",
       "[11] \"cproductos\"                  \"mcuenta_corriente\"          \n",
       "[13] \"mcaja_ahorro\"                \"cdescubierto_preacordado\"   \n",
       "[15] \"mcuentas_saldo\"              \"ctarjeta_visa_transacciones\"\n",
       "[17] \"mtarjeta_visa_consumo\"       \"mtarjeta_master_consumo\"    \n",
       "[19] \"mprestamos_personales\"       \"cpayroll_trx\"               \n",
       "[21] \"mpayroll\"                    \"ccomisiones_mantenimiento\"  \n",
       "[23] \"ccallcenter_transacciones\"   \"chomebanking_transacciones\" \n",
       "[25] \"ctrx_quarter\"                \"Master_status\"              \n",
       "[27] \"Master_fechaalta\"            \"Master_mpagominimo\"         \n",
       "[29] \"Visa_status\"                 \"Visa_fechaalta\"             \n",
       "[31] \"Visa_mpagominimo\"            \"clase_ternaria\"             \n",
       "[33] \"kmes\"                        \"mpayroll_sobre_edad\"        "
      ]
     },
     "metadata": {},
     "output_type": "display_data"
    }
   ],
   "source": [
    "# visualizo las columas del dataset a esta etapa\n",
    "colnames(dataset)"
   ]
  },
  {
   "cell_type": "markdown",
   "id": "6e3c57bf-2ef3-4b04-a512-cb30f728c98b",
   "metadata": {
    "id": "6e3c57bf-2ef3-4b04-a512-cb30f728c98b"
   },
   "source": [
    "#### 9.7.1.3  DR  Data Drifting\n",
    "Se intenta corregir el data drifting, ajustando por algunos indices financieros"
   ]
  },
  {
   "cell_type": "code",
   "execution_count": 11,
   "id": "8da403e2-102b-4bb4-94d0-e41d4b1e498d",
   "metadata": {
    "id": "8da403e2-102b-4bb4-94d0-e41d4b1e498d",
    "vscode": {
     "languageId": "r"
    }
   },
   "outputs": [],
   "source": [
    "# meses que me interesan para el ajuste de variables monetarias\n",
    "vfoto_mes <- c(\n",
    "  201901, 201902, 201903, 201904, 201905, 201906,\n",
    "  201907, 201908, 201909, 201910, 201911, 201912,\n",
    "  202001, 202002, 202003, 202004, 202005, 202006,\n",
    "  202007, 202008, 202009, 202010, 202011, 202012,\n",
    "  202101, 202102, 202103, 202104, 202105, 202106,\n",
    "  202107, 202108, 202109\n",
    ")\n",
    "# los valores que siguen fueron calculados por alumnos\n",
    "\n",
    "# momento 1.0  31-dic-2020 a las 23:59\n",
    "vIPC <- c(\n",
    "  1.9903030878, 1.9174403544, 1.8296186587,\n",
    "  1.7728862972, 1.7212488323, 1.6776304408,\n",
    "  1.6431248196, 1.5814483345, 1.4947526791,\n",
    "  1.4484037589, 1.3913580777, 1.3404220402,\n",
    "  1.3154288912, 1.2921698342, 1.2472681797,\n",
    "  1.2300475145, 1.2118694724, 1.1881073259,\n",
    "  1.1693969743, 1.1375456949, 1.1065619600,\n",
    "  1.0681100000, 1.0370000000, 1.0000000000,\n",
    "  0.9680542110, 0.9344152616, 0.8882274350,\n",
    "  0.8532444140, 0.8251880213, 0.8003763543,\n",
    "  0.7763107219, 0.7566381305, 0.7289384687\n",
    ")\n",
    "\n",
    "vdolar_blue <- c(\n",
    "   39.045455,  38.402500,  41.639474,\n",
    "   44.274737,  46.095455,  45.063333,\n",
    "   43.983333,  54.842857,  61.059524,\n",
    "   65.545455,  66.750000,  72.368421,\n",
    "   77.477273,  78.191667,  82.434211,\n",
    "  101.087500, 126.236842, 125.857143,\n",
    "  130.782609, 133.400000, 137.954545,\n",
    "  170.619048, 160.400000, 153.052632,\n",
    "  157.900000, 149.780952, 143.615385,\n",
    "  146.250000, 153.550000, 162.000000,\n",
    "  178.478261, 180.878788, 184.357143\n",
    ")\n",
    "\n",
    "vdolar_oficial <- c(\n",
    "   38.430000,  39.428000,  42.542105,\n",
    "   44.354211,  46.088636,  44.955000,\n",
    "   43.751429,  54.650476,  58.790000,\n",
    "   61.403182,  63.012632,  63.011579,\n",
    "   62.983636,  63.580556,  65.200000,\n",
    "   67.872000,  70.047895,  72.520952,\n",
    "   75.324286,  77.488500,  79.430909,\n",
    "   83.134762,  85.484737,  88.181667,\n",
    "   91.474000,  93.997778,  96.635909,\n",
    "   98.526000,  99.613158, 100.619048,\n",
    "  101.619048, 102.569048, 103.781818\n",
    ")\n",
    "\n",
    "vUVA <- c(\n",
    "  2.001408838932958,  1.950325472789153,  1.89323032351521,\n",
    "  1.8247220405493787, 1.746027787673673,  1.6871348409529485,\n",
    "  1.6361678865622313, 1.5927529755859773, 1.5549162794128493,\n",
    "  1.4949100586391746, 1.4197729500774545, 1.3678188186372326,\n",
    "  1.3136508617223726, 1.2690535173062818, 1.2381595983200178,\n",
    "  1.211656735577568,  1.1770808941405335, 1.1570338657445522,\n",
    "  1.1388769475653255, 1.1156993751209352, 1.093638313080772,\n",
    "  1.0657171590878205, 1.0362173587708712, 1.0,\n",
    "  0.9669867858358365, 0.9323750098728378, 0.8958202912590305,\n",
    "  0.8631993702994263, 0.8253893405524657, 0.7928918905364516,\n",
    "  0.7666323845128089, 0.7428976357662823, 0.721615762047849\n",
    ")\n",
    "\n",
    "tb_indices <- as.data.table( list(\n",
    "  \"IPC\" = vIPC,\n",
    "  \"dolar_blue\" = vdolar_blue,\n",
    "  \"dolar_oficial\" = vdolar_oficial,\n",
    "  \"UVA\" = vUVA\n",
    "  )\n",
    ")\n",
    "\n",
    "tb_indices[[\"foto_mes\"]] <- vfoto_mes\n",
    "\n",
    "# tb_indices"
   ]
  },
  {
   "cell_type": "code",
   "execution_count": 12,
   "id": "f45d86db-0902-4383-b241-68e2c8c6a873",
   "metadata": {
    "id": "f45d86db-0902-4383-b241-68e2c8c6a873",
    "vscode": {
     "languageId": "r"
    }
   },
   "outputs": [],
   "source": [
    "## TODO: juntar en una funcion...\n",
    "\n",
    "drift_UVA <- function(campos_monetarios) {\n",
    "  cat( \"inicio drift_UVA()\\n\")\n",
    "\n",
    "  dataset[tb_indices,\n",
    "    on = c(\"foto_mes\"),\n",
    "    (campos_monetarios) := .SD * i.UVA,\n",
    "    .SDcols = campos_monetarios\n",
    "  ]\n",
    "\n",
    "  cat( \"fin drift_UVA()\\n\")\n",
    "}\n",
    "drift_dolar_oficial <- function(campos_monetarios) {\n",
    "  cat( \"inicio drift_dolar_oficial()\\n\")\n",
    "\n",
    "  dataset[tb_indices,\n",
    "    on = c(\"foto_mes\"),\n",
    "    (campos_monetarios) := .SD / i.dolar_oficial,\n",
    "    .SDcols = campos_monetarios\n",
    "  ]\n",
    "\n",
    "  cat( \"fin drift_dolar_oficial()\\n\")\n",
    "}\n",
    "drift_dolar_blue <- function(campos_monetarios) {\n",
    "  cat( \"inicio drift_dolar_blue()\\n\")\n",
    "\n",
    "  dataset[tb_indices,\n",
    "    on = c(\"foto_mes\"),\n",
    "    (campos_monetarios) := .SD / i.dolar_blue,\n",
    "    .SDcols = campos_monetarios\n",
    "  ]\n",
    "\n",
    "  cat( \"fin drift_dolar_blue()\\n\")\n",
    "}\n",
    "drift_deflacion <- function(campos_monetarios) {\n",
    "  cat( \"inicio drift_deflacion()\\n\")\n",
    "\n",
    "  dataset[tb_indices,\n",
    "    on = c(\"foto_mes\"),\n",
    "    (campos_monetarios) := .SD * i.IPC,\n",
    "    .SDcols = campos_monetarios\n",
    "  ]\n",
    "\n",
    "  cat( \"fin drift_deflacion()\\n\")\n",
    "}\n",
    "drift_rank_simple <- function(campos_drift) {\n",
    "\n",
    "  cat( \"inicio drift_rank_simple()\\n\")\n",
    "  for (campo in campos_drift)\n",
    "  {\n",
    "    cat(campo, \" \")\n",
    "    dataset[, paste0(campo, \"_rank\") :=\n",
    "      (frank(get(campo), ties.method = \"random\") - 1) / (.N - 1), by = list(foto_mes)]\n",
    "    dataset[, (campo) := NULL]\n",
    "  }\n",
    "  cat( \"fin drift_rank_simple()\\n\")\n",
    "}\n",
    "# El cero se transforma en cero\n",
    "# los positivos se rankean por su lado\n",
    "# los negativos se rankean por su lado\n",
    "\n",
    "drift_rank_cero_fijo <- function(campos_drift) {\n",
    "\n",
    "  cat( \"inicio drift_rank_cero_fijo()\\n\")\n",
    "  for (campo in campos_drift)\n",
    "  {\n",
    "    cat(campo, \" \")\n",
    "    dataset[get(campo) == 0, paste0(campo, \"_rank\") := 0]\n",
    "    dataset[get(campo) > 0, paste0(campo, \"_rank\") :=\n",
    "      frank(get(campo), ties.method = \"random\") / .N, by = list(foto_mes)]\n",
    "\n",
    "    dataset[get(campo) < 0, paste0(campo, \"_rank\") :=\n",
    "      -frank(-get(campo), ties.method = \"random\") / .N, by = list(foto_mes)]\n",
    "    dataset[, (campo) := NULL]\n",
    "  }\n",
    "  cat(\"\\n\")\n",
    "  cat( \"fin drift_rank_cero_fijo()\\n\")\n",
    "}\n",
    "drift_estandarizar <- function(campos_drift) {\n",
    "\n",
    "  cat( \"inicio drift_estandarizar()\\n\")\n",
    "  for (campo in campos_drift)\n",
    "  {\n",
    "    cat(campo, \" \")\n",
    "    dataset[, paste0(campo, \"_normal\") :=\n",
    "      (get(campo) -mean(campo, na.rm=TRUE)) / sd(get(campo), na.rm=TRUE),\n",
    "      by = list(foto_mes)]\n",
    "\n",
    "    dataset[, (campo) := NULL]\n",
    "  }\n",
    "  cat( \"fin drift_estandarizar()\\n\")\n",
    "}\n"
   ]
  },
  {
   "cell_type": "code",
   "execution_count": 13,
   "id": "dfc6a0f9-bb32-45ea-8b9e-2e964f5a1614",
   "metadata": {
    "colab": {
     "base_uri": "https://localhost:8080/",
     "height": 86
    },
    "id": "dfc6a0f9-bb32-45ea-8b9e-2e964f5a1614",
    "outputId": "67b237f7-715f-467f-a72f-2892b744d49c",
    "vscode": {
     "languageId": "r"
    }
   },
   "outputs": [
    {
     "data": {
      "text/html": [
       "<style>\n",
       ".list-inline {list-style: none; margin:0; padding: 0}\n",
       ".list-inline>li {display: inline-block}\n",
       ".list-inline>li:not(:last-child)::after {content: \"\\00b7\"; padding: 0 .5ex}\n",
       "</style>\n",
       "<ol class=list-inline><li>'mrentabilidad'</li><li>'mrentabilidad_annual'</li><li>'mcomisiones'</li><li>'mactivos_margen'</li><li>'mpasivos_margen'</li><li>'mcuenta_corriente'</li><li>'mcaja_ahorro'</li><li>'mcuentas_saldo'</li><li>'mtarjeta_visa_consumo'</li><li>'mtarjeta_master_consumo'</li><li>'mprestamos_personales'</li><li>'mpayroll'</li><li>'Master_mpagominimo'</li><li>'Visa_mpagominimo'</li><li>'mpayroll_sobre_edad'</li></ol>\n"
      ],
      "text/latex": [
       "\\begin{enumerate*}\n",
       "\\item 'mrentabilidad'\n",
       "\\item 'mrentabilidad\\_annual'\n",
       "\\item 'mcomisiones'\n",
       "\\item 'mactivos\\_margen'\n",
       "\\item 'mpasivos\\_margen'\n",
       "\\item 'mcuenta\\_corriente'\n",
       "\\item 'mcaja\\_ahorro'\n",
       "\\item 'mcuentas\\_saldo'\n",
       "\\item 'mtarjeta\\_visa\\_consumo'\n",
       "\\item 'mtarjeta\\_master\\_consumo'\n",
       "\\item 'mprestamos\\_personales'\n",
       "\\item 'mpayroll'\n",
       "\\item 'Master\\_mpagominimo'\n",
       "\\item 'Visa\\_mpagominimo'\n",
       "\\item 'mpayroll\\_sobre\\_edad'\n",
       "\\end{enumerate*}\n"
      ],
      "text/markdown": [
       "1. 'mrentabilidad'\n",
       "2. 'mrentabilidad_annual'\n",
       "3. 'mcomisiones'\n",
       "4. 'mactivos_margen'\n",
       "5. 'mpasivos_margen'\n",
       "6. 'mcuenta_corriente'\n",
       "7. 'mcaja_ahorro'\n",
       "8. 'mcuentas_saldo'\n",
       "9. 'mtarjeta_visa_consumo'\n",
       "10. 'mtarjeta_master_consumo'\n",
       "11. 'mprestamos_personales'\n",
       "12. 'mpayroll'\n",
       "13. 'Master_mpagominimo'\n",
       "14. 'Visa_mpagominimo'\n",
       "15. 'mpayroll_sobre_edad'\n",
       "\n",
       "\n"
      ],
      "text/plain": [
       " [1] \"mrentabilidad\"           \"mrentabilidad_annual\"   \n",
       " [3] \"mcomisiones\"             \"mactivos_margen\"        \n",
       " [5] \"mpasivos_margen\"         \"mcuenta_corriente\"      \n",
       " [7] \"mcaja_ahorro\"            \"mcuentas_saldo\"         \n",
       " [9] \"mtarjeta_visa_consumo\"   \"mtarjeta_master_consumo\"\n",
       "[11] \"mprestamos_personales\"   \"mpayroll\"               \n",
       "[13] \"Master_mpagominimo\"      \"Visa_mpagominimo\"       \n",
       "[15] \"mpayroll_sobre_edad\"    "
      ]
     },
     "metadata": {},
     "output_type": "display_data"
    }
   ],
   "source": [
    "# por como armé los nombres de campos,\n",
    "#  estos son los campos que expresan variables monetarias\n",
    "campos_monetarios <- colnames(dataset)\n",
    "campos_monetarios <- campos_monetarios[campos_monetarios %like%\n",
    "  \"^(m|Visa_m|Master_m|vm_m)\"]\n",
    "\n",
    "campos_monetarios\n",
    "add_log(campos_monetarios)"
   ]
  },
  {
   "cell_type": "code",
   "execution_count": 14,
   "id": "90434a25-93a3-4d3f-9242-412ab38d981b",
   "metadata": {
    "colab": {
     "base_uri": "https://localhost:8080/"
    },
    "id": "90434a25-93a3-4d3f-9242-412ab38d981b",
    "outputId": "ff1f2fc8-449a-40c7-a6b9-946f9b3f97ca",
    "vscode": {
     "languageId": "r"
    }
   },
   "outputs": [
    {
     "name": "stdout",
     "output_type": "stream",
     "text": [
      "inicio drift_deflacion()\n",
      "fin drift_deflacion()\n"
     ]
    }
   ],
   "source": [
    "# ejecuto el Data Drifting\n",
    "setorder(dataset, numero_de_cliente, foto_mes)\n",
    "\n",
    "PARAM$DR$metodo <- \"deflacion\"\n",
    "\n",
    "switch(PARAM$DR$metodo,\n",
    "  \"ninguno\"        = cat(\"No hay correccion del data drifting\"),\n",
    "  \"rank_simple\"    = drift_rank_simple(campos_monetarios),\n",
    "  \"rank_cero_fijo\" = drift_rank_cero_fijo(campos_monetarios),\n",
    "  \"deflacion\"      = drift_deflacion(campos_monetarios),\n",
    "  \"dolar_blue\"     = drift_dolarblue(campos_monetarios),\n",
    "  \"dolar_oficial\"  = drift_dolaroficial(campos_monetarios),\n",
    "  \"UVA\"            = drift_UVA(campos_monetarios),\n",
    "  \"estandarizar\"   = drift_estandarizar(campos_monetarios)\n",
    ")\n"
   ]
  },
  {
   "cell_type": "code",
   "execution_count": 15,
   "id": "fc1d92cc-bd7a-43ef-9133-efc7eac94af3",
   "metadata": {
    "colab": {
     "base_uri": "https://localhost:8080/",
     "height": 156
    },
    "id": "fc1d92cc-bd7a-43ef-9133-efc7eac94af3",
    "outputId": "3ad8a828-f1d5-495a-af4f-e0633474d4ed",
    "vscode": {
     "languageId": "r"
    }
   },
   "outputs": [
    {
     "data": {
      "text/html": [
       "<style>\n",
       ".list-inline {list-style: none; margin:0; padding: 0}\n",
       ".list-inline>li {display: inline-block}\n",
       ".list-inline>li:not(:last-child)::after {content: \"\\00b7\"; padding: 0 .5ex}\n",
       "</style>\n",
       "<ol class=list-inline><li>'numero_de_cliente'</li><li>'foto_mes'</li><li>'internet'</li><li>'cliente_edad'</li><li>'cliente_antiguedad'</li><li>'mrentabilidad'</li><li>'mrentabilidad_annual'</li><li>'mcomisiones'</li><li>'mactivos_margen'</li><li>'mpasivos_margen'</li><li>'cproductos'</li><li>'mcuenta_corriente'</li><li>'mcaja_ahorro'</li><li>'cdescubierto_preacordado'</li><li>'mcuentas_saldo'</li><li>'ctarjeta_visa_transacciones'</li><li>'mtarjeta_visa_consumo'</li><li>'mtarjeta_master_consumo'</li><li>'mprestamos_personales'</li><li>'cpayroll_trx'</li><li>'mpayroll'</li><li>'ccomisiones_mantenimiento'</li><li>'ccallcenter_transacciones'</li><li>'chomebanking_transacciones'</li><li>'ctrx_quarter'</li><li>'Master_status'</li><li>'Master_fechaalta'</li><li>'Master_mpagominimo'</li><li>'Visa_status'</li><li>'Visa_fechaalta'</li><li>'Visa_mpagominimo'</li><li>'clase_ternaria'</li><li>'kmes'</li><li>'mpayroll_sobre_edad'</li></ol>\n"
      ],
      "text/latex": [
       "\\begin{enumerate*}\n",
       "\\item 'numero\\_de\\_cliente'\n",
       "\\item 'foto\\_mes'\n",
       "\\item 'internet'\n",
       "\\item 'cliente\\_edad'\n",
       "\\item 'cliente\\_antiguedad'\n",
       "\\item 'mrentabilidad'\n",
       "\\item 'mrentabilidad\\_annual'\n",
       "\\item 'mcomisiones'\n",
       "\\item 'mactivos\\_margen'\n",
       "\\item 'mpasivos\\_margen'\n",
       "\\item 'cproductos'\n",
       "\\item 'mcuenta\\_corriente'\n",
       "\\item 'mcaja\\_ahorro'\n",
       "\\item 'cdescubierto\\_preacordado'\n",
       "\\item 'mcuentas\\_saldo'\n",
       "\\item 'ctarjeta\\_visa\\_transacciones'\n",
       "\\item 'mtarjeta\\_visa\\_consumo'\n",
       "\\item 'mtarjeta\\_master\\_consumo'\n",
       "\\item 'mprestamos\\_personales'\n",
       "\\item 'cpayroll\\_trx'\n",
       "\\item 'mpayroll'\n",
       "\\item 'ccomisiones\\_mantenimiento'\n",
       "\\item 'ccallcenter\\_transacciones'\n",
       "\\item 'chomebanking\\_transacciones'\n",
       "\\item 'ctrx\\_quarter'\n",
       "\\item 'Master\\_status'\n",
       "\\item 'Master\\_fechaalta'\n",
       "\\item 'Master\\_mpagominimo'\n",
       "\\item 'Visa\\_status'\n",
       "\\item 'Visa\\_fechaalta'\n",
       "\\item 'Visa\\_mpagominimo'\n",
       "\\item 'clase\\_ternaria'\n",
       "\\item 'kmes'\n",
       "\\item 'mpayroll\\_sobre\\_edad'\n",
       "\\end{enumerate*}\n"
      ],
      "text/markdown": [
       "1. 'numero_de_cliente'\n",
       "2. 'foto_mes'\n",
       "3. 'internet'\n",
       "4. 'cliente_edad'\n",
       "5. 'cliente_antiguedad'\n",
       "6. 'mrentabilidad'\n",
       "7. 'mrentabilidad_annual'\n",
       "8. 'mcomisiones'\n",
       "9. 'mactivos_margen'\n",
       "10. 'mpasivos_margen'\n",
       "11. 'cproductos'\n",
       "12. 'mcuenta_corriente'\n",
       "13. 'mcaja_ahorro'\n",
       "14. 'cdescubierto_preacordado'\n",
       "15. 'mcuentas_saldo'\n",
       "16. 'ctarjeta_visa_transacciones'\n",
       "17. 'mtarjeta_visa_consumo'\n",
       "18. 'mtarjeta_master_consumo'\n",
       "19. 'mprestamos_personales'\n",
       "20. 'cpayroll_trx'\n",
       "21. 'mpayroll'\n",
       "22. 'ccomisiones_mantenimiento'\n",
       "23. 'ccallcenter_transacciones'\n",
       "24. 'chomebanking_transacciones'\n",
       "25. 'ctrx_quarter'\n",
       "26. 'Master_status'\n",
       "27. 'Master_fechaalta'\n",
       "28. 'Master_mpagominimo'\n",
       "29. 'Visa_status'\n",
       "30. 'Visa_fechaalta'\n",
       "31. 'Visa_mpagominimo'\n",
       "32. 'clase_ternaria'\n",
       "33. 'kmes'\n",
       "34. 'mpayroll_sobre_edad'\n",
       "\n",
       "\n"
      ],
      "text/plain": [
       " [1] \"numero_de_cliente\"           \"foto_mes\"                   \n",
       " [3] \"internet\"                    \"cliente_edad\"               \n",
       " [5] \"cliente_antiguedad\"          \"mrentabilidad\"              \n",
       " [7] \"mrentabilidad_annual\"        \"mcomisiones\"                \n",
       " [9] \"mactivos_margen\"             \"mpasivos_margen\"            \n",
       "[11] \"cproductos\"                  \"mcuenta_corriente\"          \n",
       "[13] \"mcaja_ahorro\"                \"cdescubierto_preacordado\"   \n",
       "[15] \"mcuentas_saldo\"              \"ctarjeta_visa_transacciones\"\n",
       "[17] \"mtarjeta_visa_consumo\"       \"mtarjeta_master_consumo\"    \n",
       "[19] \"mprestamos_personales\"       \"cpayroll_trx\"               \n",
       "[21] \"mpayroll\"                    \"ccomisiones_mantenimiento\"  \n",
       "[23] \"ccallcenter_transacciones\"   \"chomebanking_transacciones\" \n",
       "[25] \"ctrx_quarter\"                \"Master_status\"              \n",
       "[27] \"Master_fechaalta\"            \"Master_mpagominimo\"         \n",
       "[29] \"Visa_status\"                 \"Visa_fechaalta\"             \n",
       "[31] \"Visa_mpagominimo\"            \"clase_ternaria\"             \n",
       "[33] \"kmes\"                        \"mpayroll_sobre_edad\"        "
      ]
     },
     "metadata": {},
     "output_type": "display_data"
    }
   ],
   "source": [
    "colnames(dataset)"
   ]
  },
  {
   "cell_type": "markdown",
   "id": "ad488674-e40f-4d22-888e-da035f96400b",
   "metadata": {
    "id": "ad488674-e40f-4d22-888e-da035f96400b"
   },
   "source": [
    "#### 9.7.1.3  FE_intra_manual Feature Engineering intra-mes\n",
    "\n",
    "Agrego campos nuevos dentro del mismo mes, SIN considerar la historia."
   ]
  },
  {
   "cell_type": "code",
   "execution_count": 16,
   "id": "43cc3f1f-8b3d-41bd-bcfc-c7d5660f0d28",
   "metadata": {
    "colab": {
     "base_uri": "https://localhost:8080/"
    },
    "id": "43cc3f1f-8b3d-41bd-bcfc-c7d5660f0d28",
    "outputId": "fa09e004-f8e1-48cc-94a3-bf8fde4a1de5",
    "vscode": {
     "languageId": "r"
    }
   },
   "outputs": [
    {
     "name": "stderr",
     "output_type": "stream",
     "text": [
      "Loading required package: lubridate\n",
      "\n",
      "\n",
      "Attaching package: ‘lubridate’\n",
      "\n",
      "\n",
      "The following objects are masked from ‘package:data.table’:\n",
      "\n",
      "    hour, isoweek, mday, minute, month, quarter, second, wday, week,\n",
      "    yday, year\n",
      "\n",
      "\n",
      "The following objects are masked from ‘package:base’:\n",
      "\n",
      "    date, intersect, setdiff, union\n",
      "\n",
      "\n"
     ]
    }
   ],
   "source": [
    "if( !require(\"lubridate\")) install.packages(\"lubridate\", repos = \"http://cran.us.r-project.org\")\n",
    "require(\"lubridate\")"
   ]
  },
  {
   "cell_type": "code",
   "execution_count": 17,
   "id": "3a2ebc99-0b40-420d-a579-9028cbda0081",
   "metadata": {
    "id": "3a2ebc99-0b40-420d-a579-9028cbda0081",
    "vscode": {
     "languageId": "r"
    }
   },
   "outputs": [],
   "source": [
    "# esta funcion atributos presentes existe debido a que las modalidades poseen datasets con distinta cantidad de campos\n",
    "atributos_presentes <- function(patributos)\n",
    "{\n",
    "  atributos <- unique(patributos)\n",
    "  comun <- intersect(atributos, colnames(dataset))\n",
    "\n",
    "  return( length(atributos) == length(comun))\n",
    "}"
   ]
  },
  {
   "cell_type": "code",
   "execution_count": 18,
   "id": "992d12ec-1da3-4aa5-923c-10b222e7b8d7",
   "metadata": {
    "id": "992d12ec-1da3-4aa5-923c-10b222e7b8d7",
    "vscode": {
     "languageId": "r"
    }
   },
   "outputs": [],
   "source": [
    "# Esta es la parte que los alumnos deben desplegar todo su ingenio\n",
    "# Agregar aqui sus PROPIAS VARIABLES manuales\n",
    "\n",
    "AgregarVariables_IntraMes <- function(dataset) {\n",
    "  cat( \"inicio AgregarVariables_IntraMes()\\n\")\n",
    "  add_log( \"inicio AgregarVariables_IntraMes()\\n\")\n",
    "  gc(verbose= FALSE)\n",
    "  # INICIO de la seccion donde se deben hacer cambios con variables nuevas\n",
    "\n",
    "  # el mes 1,2, ..12\n",
    "  if( atributos_presentes( c(\"foto_mes\") ))\n",
    "    dataset[, kmes := foto_mes %% 100]\n",
    "\n",
    "  # creo un ctr_quarter que tenga en cuenta cuando\n",
    "  # los clientes hace 3 menos meses que estan\n",
    "  # ya que seria injusto considerar las transacciones medidas en menor tiempo\n",
    "  if( atributos_presentes( c(\"ctrx_quarter\") ))\n",
    "    dataset[, ctrx_quarter_normalizado := as.numeric(ctrx_quarter) ]\n",
    "\n",
    "  if( atributos_presentes( c(\"ctrx_quarter\", \"cliente_antiguedad\") ))\n",
    "    dataset[cliente_antiguedad == 1, ctrx_quarter_normalizado := ctrx_quarter * 5]\n",
    "\n",
    "  if( atributos_presentes( c(\"ctrx_quarter\", \"cliente_antiguedad\") ))\n",
    "    dataset[cliente_antiguedad == 2, ctrx_quarter_normalizado := ctrx_quarter * 2]\n",
    "\n",
    "  if( atributos_presentes( c(\"ctrx_quarter\", \"cliente_antiguedad\") ))\n",
    "    dataset[\n",
    "      cliente_antiguedad == 3,\n",
    "      ctrx_quarter_normalizado := ctrx_quarter * 1.2\n",
    "    ]\n",
    "\n",
    "   if(atributos_presentes(c(\"foto_mes\")))\n",
    "    dataset[,foto_mes_formato_fecha := as.Date(paste(substr(dataset$foto_mes,1,4),substr(dataset$foto_mes,5,6),\"01\",sep='-'))]\n",
    "\n",
    "  #dataset$foto_mes_formato_fecha <<- as.Date(paste(substr(dataset$foto_mes,1,4),substr(dataset$foto_mes,5,6),\"01\",sep='-'))\n",
    "\n",
    "  if(atributos_presentes(c(\"cantidad_total_transacciones\"))){\n",
    "   auxiliarmenos1 <- dataset[,list(numero_de_cliente,foto_mes_formato_fecha, cantidad_total_transacciones)]\n",
    "   auxiliarmenos2 <- dataset[,list(numero_de_cliente,foto_mes_formato_fecha,cantidad_total_transacciones)]\n",
    "   # auxiliarmenos1$foto_mes_formato_fecha <- as.Date(auxiliarmenos1$foto_mes_formato_fecha)\n",
    "   # auxiliarmenos2$foto_mes_formato_fecha <- as.Date(auxiliarmenos2$foto_mes_formato_fecha)\n",
    "   auxiliarmenos1$foto_mes_formato_fecha <- auxiliarmenos1$foto_mes_formato_fecha  %m-%  months(1)\n",
    "   auxiliarmenos2$foto_mes_formato_fecha <- auxiliarmenos2$foto_mes_formato_fecha %m-% months(2)\n",
    "   auxiliarmenos1$codigo <- paste(auxiliarmenos1$numero_de_cliente,auxiliarmenos1$foto_mes_formato_fecha,sep='-')\n",
    "   auxiliarmenos2$codigo <- paste(auxiliarmenos2$numero_de_cliente,auxiliarmenos2$foto_mes_formato_fecha,sep='-')\n",
    "\n",
    "   dataset[, codigo := paste(numero_de_cliente, foto_mes_formato_fecha, sep='-') ]\n",
    "\n",
    "   dataset[ auxiliarmenos1,\n",
    "            on = \"codigo\",\n",
    "            transaccionesmenos1 := i.cantidad_total_transacciones ]\n",
    "\n",
    "   dataset[ auxiliarmenos2,\n",
    "            on = \"codigo\",\n",
    "            transaccionesmenos2 := i.cantidad_total_transacciones ]\n",
    "\n",
    "   dataset[, cantidad_total_transacciones_quarter := rowSums(cbind(cantidad_total_transacciones +\n",
    "    transaccionesmenos1 + transaccionesmenos2),na.rm=T) ]\n",
    "\n",
    "   dataset[, codigo := NULL ]\n",
    "   dataset[, transaccionesmenos1 := NULL ]\n",
    "   dataset[, transaccionesmenos2 := NULL ]\n",
    "   dataset[, foto_mes_formato_fecha := NULL ]\n",
    "   rm(auxiliarmenos1)\n",
    "   rm(auxiliarmenos2)\n",
    "  }\n",
    "\n",
    "  if( atributos_presentes( c(\"cantidad_total_transacciones_quarter\") ))\n",
    "    dataset[, cantidad_total_transacciones_quarter_normalizado := cantidad_total_transacciones_quarter]\n",
    "\n",
    "  if( atributos_presentes( c(\"cantidad_total_transacciones_quarter\", \"cliente_antiguedad\") ))\n",
    "    dataset[cliente_antiguedad == 1, cantidad_total_transacciones_quarter_normalizado := cantidad_total_transacciones_quarter * 5]\n",
    "\n",
    "  if( atributos_presentes( c(\"cantidad_total_transacciones_quarter\", \"cliente_antiguedad\") ))\n",
    "    dataset[cliente_antiguedad == 2, cantidad_total_transacciones_quarter_normalizado := cantidad_total_transacciones_quarter * 2]\n",
    "\n",
    "  if( atributos_presentes( c(\"cantidad_total_transacciones_quarter\", \"cliente_antiguedad\") ))\n",
    "    dataset[cliente_antiguedad == 3, cantidad_total_transacciones_quarter_normalizado := cantidad_total_transacciones_quarter * 1.2]\n",
    "\n",
    "  # variable extraida de una tesis de maestria de Irlanda\n",
    "  if( atributos_presentes( c(\"mpayroll\", \"cliente_edad\") ))\n",
    "    dataset[, mpayroll_sobre_edad := mpayroll / cliente_edad]\n",
    "\n",
    "  # se crean los nuevos campos para MasterCard  y Visa,\n",
    "  #  teniendo en cuenta los NA's\n",
    "  # varias formas de combinar Visa_status y Master_status\n",
    "  if( atributos_presentes( c(\"Master_status\", \"Visa_status\") ))\n",
    "  {\n",
    "    dataset[, vm_status01 := pmax(Master_status, Visa_status, na.rm = TRUE)]\n",
    "    dataset[, vm_status02 := Master_status + Visa_status]\n",
    "\n",
    "    dataset[, vm_status03 := pmax(\n",
    "      ifelse(is.na(Master_status), 10, Master_status),\n",
    "      ifelse(is.na(Visa_status), 10, Visa_status)\n",
    "    )]\n",
    "\n",
    "    dataset[, vm_status04 := ifelse(is.na(Master_status), 10, Master_status)\n",
    "      + ifelse(is.na(Visa_status), 10, Visa_status)]\n",
    "\n",
    "    dataset[, vm_status05 := ifelse(is.na(Master_status), 10, Master_status)\n",
    "      + 100 * ifelse(is.na(Visa_status), 10, Visa_status)]\n",
    "\n",
    "    dataset[, vm_status06 := ifelse(is.na(Visa_status),\n",
    "      ifelse(is.na(Master_status), 10, Master_status),\n",
    "      Visa_status\n",
    "    )]\n",
    "\n",
    "    dataset[, mv_status07 := ifelse(is.na(Master_status),\n",
    "      ifelse(is.na(Visa_status), 10, Visa_status),\n",
    "      Master_status\n",
    "    )]\n",
    "  }\n",
    "\n",
    "\n",
    "  # combino MasterCard y Visa\n",
    "  if( atributos_presentes( c(\"Master_mfinanciacion_limite\", \"Visa_mfinanciacion_limite\") ))\n",
    "    dataset[, vm_mfinanciacion_limite := rowSums(cbind(Master_mfinanciacion_limite, Visa_mfinanciacion_limite), na.rm = TRUE)]\n",
    "\n",
    "  if( atributos_presentes( c(\"Master_Fvencimiento\", \"Visa_Fvencimiento\") ))\n",
    "    dataset[, vm_Fvencimiento := pmin(Master_Fvencimiento, Visa_Fvencimiento, na.rm = TRUE)]\n",
    "\n",
    "  if( atributos_presentes( c(\"Master_Finiciomora\", \"Visa_Finiciomora\") ))\n",
    "    dataset[, vm_Finiciomora := pmin(Master_Finiciomora, Visa_Finiciomora, na.rm = TRUE)]\n",
    "\n",
    "  if( atributos_presentes( c(\"Master_msaldototal\", \"Visa_msaldototal\") ))\n",
    "    dataset[, vm_msaldototal := rowSums(cbind(Master_msaldototal, Visa_msaldototal), na.rm = TRUE)]\n",
    "\n",
    "  if( atributos_presentes( c(\"Master_msaldopesos\", \"Visa_msaldopesos\") ))\n",
    "    dataset[, vm_msaldopesos := rowSums(cbind(Master_msaldopesos, Visa_msaldopesos), na.rm = TRUE)]\n",
    "\n",
    "  if( atributos_presentes( c(\"Master_msaldodolares\", \"Visa_msaldodolares\") ))\n",
    "    dataset[, vm_msaldodolares := rowSums(cbind(Master_msaldodolares, Visa_msaldodolares), na.rm = TRUE)]\n",
    "\n",
    "  if( atributos_presentes( c(\"Master_mconsumospesos\", \"Visa_mconsumospesos\") ))\n",
    "    dataset[, vm_mconsumospesos := rowSums(cbind(Master_mconsumospesos, Visa_mconsumospesos), na.rm = TRUE)]\n",
    "\n",
    "  if( atributos_presentes( c(\"Master_mconsumosdolares\", \"Visa_mconsumosdolares\") ))\n",
    "    dataset[, vm_mconsumosdolares := rowSums(cbind(Master_mconsumosdolares, Visa_mconsumosdolares), na.rm = TRUE)]\n",
    "\n",
    "  if( atributos_presentes( c(\"Master_mlimitecompra\", \"Visa_mlimitecompra\") ))\n",
    "    dataset[, vm_mlimitecompra := rowSums(cbind(Master_mlimitecompra, Visa_mlimitecompra), na.rm = TRUE)]\n",
    "\n",
    "  if( atributos_presentes( c(\"Master_madelantopesos\", \"Visa_madelantopesos\") ))\n",
    "    dataset[, vm_madelantopesos := rowSums(cbind(Master_madelantopesos, Visa_madelantopesos), na.rm = TRUE)]\n",
    "\n",
    "  if( atributos_presentes( c(\"Master_madelantodolares\", \"Visa_madelantodolares\") ))\n",
    "    dataset[, vm_madelantodolares := rowSums(cbind(Master_madelantodolares, Visa_madelantodolares), na.rm = TRUE)]\n",
    "\n",
    "  if( atributos_presentes( c(\"Master_fultimo_cierre\", \"Visa_fultimo_cierre\") ))\n",
    "    dataset[, vm_fultimo_cierre := pmax(Master_fultimo_cierre, Visa_fultimo_cierre, na.rm = TRUE)]\n",
    "\n",
    "  if( atributos_presentes( c(\"Master_mpagado\", \"Visa_mpagado\") ))\n",
    "    dataset[, vm_mpagado := rowSums(cbind(Master_mpagado, Visa_mpagado), na.rm = TRUE)]\n",
    "\n",
    "  if( atributos_presentes( c(\"Master_mpagospesos\", \"Visa_mpagospesos\") ))\n",
    "    dataset[, vm_mpagospesos := rowSums(cbind(Master_mpagospesos, Visa_mpagospesos), na.rm = TRUE)]\n",
    "\n",
    "  if( atributos_presentes( c(\"Master_mpagosdolares\", \"Visa_mpagosdolares\") ))\n",
    "    dataset[, vm_mpagosdolares := rowSums(cbind(Master_mpagosdolares, Visa_mpagosdolares), na.rm = TRUE)]\n",
    "\n",
    "  if( atributos_presentes( c(\"Master_fechaalta\", \"Visa_fechaalta\") ))\n",
    "    dataset[, vm_fechaalta := pmax(Master_fechaalta, Visa_fechaalta, na.rm = TRUE)]\n",
    "\n",
    "  if( atributos_presentes( c(\"Master_mconsumototal\", \"Visa_mconsumototal\") ))\n",
    "    dataset[, vm_mconsumototal := rowSums(cbind(Master_mconsumototal, Visa_mconsumototal), na.rm = TRUE)]\n",
    "\n",
    "  if( atributos_presentes( c(\"Master_cconsumos\", \"Visa_cconsumos\") ))\n",
    "    dataset[, vm_cconsumos := rowSums(cbind(Master_cconsumos, Visa_cconsumos), na.rm = TRUE)]\n",
    "\n",
    "  if( atributos_presentes( c(\"Master_cadelantosefectivo\", \"Visa_cadelantosefectivo\") ))\n",
    "    dataset[, vm_cadelantosefectivo := rowSums(cbind(Master_cadelantosefectivo, Visa_cadelantosefectivo), na.rm = TRUE)]\n",
    "\n",
    "  if( atributos_presentes( c(\"Master_mpagominimo\", \"Visa_mpagominimo\") ))\n",
    "    dataset[, vm_mpagominimo := rowSums(cbind(Master_mpagominimo, Visa_mpagominimo), na.rm = TRUE)]\n",
    "\n",
    "  # a partir de aqui juego con la suma de Mastercard y Visa\n",
    "  if( atributos_presentes( c(\"Master_mlimitecompra\", \"vm_mlimitecompra\") ))\n",
    "    dataset[, vmr_Master_mlimitecompra := Master_mlimitecompra / vm_mlimitecompra]\n",
    "\n",
    "  if( atributos_presentes( c(\"Visa_mlimitecompra\", \"vm_mlimitecompra\") ))\n",
    "    dataset[, vmr_Visa_mlimitecompra := Visa_mlimitecompra / vm_mlimitecompra]\n",
    "\n",
    "  if( atributos_presentes( c(\"vm_msaldototal\", \"vm_mlimitecompra\") ))\n",
    "    dataset[, vmr_msaldototal := vm_msaldototal / vm_mlimitecompra]\n",
    "\n",
    "  if( atributos_presentes( c(\"vm_msaldopesos\", \"vm_mlimitecompra\") ))\n",
    "    dataset[, vmr_msaldopesos := vm_msaldopesos / vm_mlimitecompra]\n",
    "\n",
    "  if( atributos_presentes( c(\"vm_msaldopesos\", \"vm_msaldototal\") ))\n",
    "    dataset[, vmr_msaldopesos2 := vm_msaldopesos / vm_msaldototal]\n",
    "\n",
    "  if( atributos_presentes( c(\"vm_msaldodolares\", \"vm_mlimitecompra\") ))\n",
    "    dataset[, vmr_msaldodolares := vm_msaldodolares / vm_mlimitecompra]\n",
    "\n",
    "  if( atributos_presentes( c(\"vm_msaldodolares\", \"vm_msaldototal\") ))\n",
    "    dataset[, vmr_msaldodolares2 := vm_msaldodolares / vm_msaldototal]\n",
    "\n",
    "  if( atributos_presentes( c(\"vm_mconsumospesos\", \"vm_mlimitecompra\") ))\n",
    "    dataset[, vmr_mconsumospesos := vm_mconsumospesos / vm_mlimitecompra]\n",
    "\n",
    "  if( atributos_presentes( c(\"vm_mconsumosdolares\", \"vm_mlimitecompra\") ))\n",
    "    dataset[, vmr_mconsumosdolares := vm_mconsumosdolares / vm_mlimitecompra]\n",
    "\n",
    "  if( atributos_presentes( c(\"vm_madelantopesos\", \"vm_mlimitecompra\") ))\n",
    "    dataset[, vmr_madelantopesos := vm_madelantopesos / vm_mlimitecompra]\n",
    "\n",
    "  if( atributos_presentes( c(\"vm_madelantodolares\", \"vm_mlimitecompra\") ))\n",
    "    dataset[, vmr_madelantodolares := vm_madelantodolares / vm_mlimitecompra]\n",
    "\n",
    "  if( atributos_presentes( c(\"vm_mpagado\", \"vm_mlimitecompra\") ))\n",
    "    dataset[, vmr_mpagado := vm_mpagado / vm_mlimitecompra]\n",
    "\n",
    "  if( atributos_presentes( c(\"vm_mpagospesos\", \"vm_mlimitecompra\") ))\n",
    "    dataset[, vmr_mpagospesos := vm_mpagospesos / vm_mlimitecompra]\n",
    "\n",
    "  if( atributos_presentes( c(\"vm_mpagosdolares\", \"vm_mlimitecompra\") ))\n",
    "    dataset[, vmr_mpagosdolares := vm_mpagosdolares / vm_mlimitecompra]\n",
    "\n",
    "  if( atributos_presentes( c(\"vm_mconsumototal\", \"vm_mlimitecompra\") ))\n",
    "    dataset[, vmr_mconsumototal := vm_mconsumototal / vm_mlimitecompra]\n",
    "\n",
    "  if( atributos_presentes( c(\"vm_mpagominimo\", \"vm_mlimitecompra\") ))\n",
    "    dataset[, vmr_mpagominimo := vm_mpagominimo / vm_mlimitecompra]\n",
    "\n",
    "  # Aqui debe usted agregar sus propias nuevas variables\n",
    "\n",
    "  # valvula de seguridad para evitar valores infinitos\n",
    "  # paso los infinitos a NULOS\n",
    "  infinitos <- lapply(\n",
    "    names(dataset),\n",
    "    function(.name) dataset[, sum(is.infinite(get(.name)))]\n",
    "  )\n",
    "\n",
    "  infinitos_qty <- sum(unlist(infinitos))\n",
    "  if (infinitos_qty > 0) {\n",
    "    cat(\n",
    "      \"ATENCION, hay\", infinitos_qty,\n",
    "      \"valores infinitos en tu dataset. Seran pasados a NA\\n\"\n",
    "    )\n",
    "        add_log(paste0(\n",
    "      \"ATENCION, hay \", infinitos_qty,\n",
    "      \"valores infinitos en tu dataset. Seran pasados a NA\\n\")\n",
    "    )\n",
    "\n",
    "    dataset[mapply(is.infinite, dataset)] <<- NA\n",
    "  }\n",
    "\n",
    "\n",
    "  # valvula de seguridad para evitar valores NaN  que es 0/0\n",
    "  # paso los NaN a 0 , decision polemica si las hay\n",
    "  # se invita a asignar un valor razonable segun la semantica del campo creado\n",
    "  nans <- lapply(\n",
    "    names(dataset),\n",
    "    function(.name) dataset[, sum(is.nan(get(.name)))]\n",
    "  )\n",
    "\n",
    "  nans_qty <- sum(unlist(nans))\n",
    "  if (nans_qty > 0) {\n",
    "    cat(\n",
    "      \"ATENCION, hay\", nans_qty,\n",
    "      \"valores NaN 0/0 en tu dataset. Seran pasados arbitrariamente a 0\\n\"\n",
    "    )\n",
    "\n",
    "    add_log(\n",
    "      paste0(\"ATENCION, hay\", nans_qty,\n",
    "      \"valores NaN 0/0 en tu dataset. Seran pasados arbitrariamente a 0\\n\"\n",
    "    ))\n",
    "\n",
    "    cat(\"Si no te gusta la decision, modifica a gusto el programa!\\n\\n\")\n",
    "    add_log(\"Si no te gusta la decision, modifica a gusto el programa!\\n\\n\")\n",
    "\n",
    "\n",
    "    dataset[mapply(is.nan, dataset)] <<- 0\n",
    "  }\n",
    "\n",
    "  cat( \"fin AgregarVariables_IntraMes()\\n\")\n",
    "  add_log( \"fin AgregarVariables_IntraMes()\\n\")\n",
    "}\n"
   ]
  },
  {
   "cell_type": "code",
   "execution_count": 19,
   "id": "cdb58021-2324-4171-9555-12f3563f66f3",
   "metadata": {
    "colab": {
     "base_uri": "https://localhost:8080/"
    },
    "id": "cdb58021-2324-4171-9555-12f3563f66f3",
    "outputId": "0f72eed4-d9f8-4f93-c56a-8428e10a7b63",
    "vscode": {
     "languageId": "r"
    }
   },
   "outputs": [
    {
     "name": "stdout",
     "output_type": "stream",
     "text": [
      "inicio AgregarVariables_IntraMes()\n",
      "ATENCION, hay 8 valores NaN 0/0 en tu dataset. Seran pasados arbitrariamente a 0\n",
      "Si no te gusta la decision, modifica a gusto el programa!\n",
      "\n",
      "fin AgregarVariables_IntraMes()\n"
     ]
    }
   ],
   "source": [
    "# agrego las variables intra mes\n",
    "AgregarVariables_IntraMes(dataset)"
   ]
  },
  {
   "cell_type": "code",
   "execution_count": 20,
   "id": "c1727052-62de-409a-9475-5e0b6a197f3d",
   "metadata": {
    "colab": {
     "base_uri": "https://localhost:8080/",
     "height": 191
    },
    "id": "c1727052-62de-409a-9475-5e0b6a197f3d",
    "outputId": "a7530454-3ecf-483f-d57b-d9ef2651c89d",
    "vscode": {
     "languageId": "r"
    }
   },
   "outputs": [
    {
     "data": {
      "text/html": [
       "45"
      ],
      "text/latex": [
       "45"
      ],
      "text/markdown": [
       "45"
      ],
      "text/plain": [
       "[1] 45"
      ]
     },
     "metadata": {},
     "output_type": "display_data"
    },
    {
     "data": {
      "text/html": [
       "<style>\n",
       ".list-inline {list-style: none; margin:0; padding: 0}\n",
       ".list-inline>li {display: inline-block}\n",
       ".list-inline>li:not(:last-child)::after {content: \"\\00b7\"; padding: 0 .5ex}\n",
       "</style>\n",
       "<ol class=list-inline><li>'numero_de_cliente'</li><li>'foto_mes'</li><li>'internet'</li><li>'cliente_edad'</li><li>'cliente_antiguedad'</li><li>'mrentabilidad'</li><li>'mrentabilidad_annual'</li><li>'mcomisiones'</li><li>'mactivos_margen'</li><li>'mpasivos_margen'</li><li>'cproductos'</li><li>'mcuenta_corriente'</li><li>'mcaja_ahorro'</li><li>'cdescubierto_preacordado'</li><li>'mcuentas_saldo'</li><li>'ctarjeta_visa_transacciones'</li><li>'mtarjeta_visa_consumo'</li><li>'mtarjeta_master_consumo'</li><li>'mprestamos_personales'</li><li>'cpayroll_trx'</li><li>'mpayroll'</li><li>'ccomisiones_mantenimiento'</li><li>'ccallcenter_transacciones'</li><li>'chomebanking_transacciones'</li><li>'ctrx_quarter'</li><li>'Master_status'</li><li>'Master_fechaalta'</li><li>'Master_mpagominimo'</li><li>'Visa_status'</li><li>'Visa_fechaalta'</li><li>'Visa_mpagominimo'</li><li>'clase_ternaria'</li><li>'kmes'</li><li>'mpayroll_sobre_edad'</li><li>'ctrx_quarter_normalizado'</li><li>'foto_mes_formato_fecha'</li><li>'vm_status01'</li><li>'vm_status02'</li><li>'vm_status03'</li><li>'vm_status04'</li><li>'vm_status05'</li><li>'vm_status06'</li><li>'mv_status07'</li><li>'vm_fechaalta'</li><li>'vm_mpagominimo'</li></ol>\n"
      ],
      "text/latex": [
       "\\begin{enumerate*}\n",
       "\\item 'numero\\_de\\_cliente'\n",
       "\\item 'foto\\_mes'\n",
       "\\item 'internet'\n",
       "\\item 'cliente\\_edad'\n",
       "\\item 'cliente\\_antiguedad'\n",
       "\\item 'mrentabilidad'\n",
       "\\item 'mrentabilidad\\_annual'\n",
       "\\item 'mcomisiones'\n",
       "\\item 'mactivos\\_margen'\n",
       "\\item 'mpasivos\\_margen'\n",
       "\\item 'cproductos'\n",
       "\\item 'mcuenta\\_corriente'\n",
       "\\item 'mcaja\\_ahorro'\n",
       "\\item 'cdescubierto\\_preacordado'\n",
       "\\item 'mcuentas\\_saldo'\n",
       "\\item 'ctarjeta\\_visa\\_transacciones'\n",
       "\\item 'mtarjeta\\_visa\\_consumo'\n",
       "\\item 'mtarjeta\\_master\\_consumo'\n",
       "\\item 'mprestamos\\_personales'\n",
       "\\item 'cpayroll\\_trx'\n",
       "\\item 'mpayroll'\n",
       "\\item 'ccomisiones\\_mantenimiento'\n",
       "\\item 'ccallcenter\\_transacciones'\n",
       "\\item 'chomebanking\\_transacciones'\n",
       "\\item 'ctrx\\_quarter'\n",
       "\\item 'Master\\_status'\n",
       "\\item 'Master\\_fechaalta'\n",
       "\\item 'Master\\_mpagominimo'\n",
       "\\item 'Visa\\_status'\n",
       "\\item 'Visa\\_fechaalta'\n",
       "\\item 'Visa\\_mpagominimo'\n",
       "\\item 'clase\\_ternaria'\n",
       "\\item 'kmes'\n",
       "\\item 'mpayroll\\_sobre\\_edad'\n",
       "\\item 'ctrx\\_quarter\\_normalizado'\n",
       "\\item 'foto\\_mes\\_formato\\_fecha'\n",
       "\\item 'vm\\_status01'\n",
       "\\item 'vm\\_status02'\n",
       "\\item 'vm\\_status03'\n",
       "\\item 'vm\\_status04'\n",
       "\\item 'vm\\_status05'\n",
       "\\item 'vm\\_status06'\n",
       "\\item 'mv\\_status07'\n",
       "\\item 'vm\\_fechaalta'\n",
       "\\item 'vm\\_mpagominimo'\n",
       "\\end{enumerate*}\n"
      ],
      "text/markdown": [
       "1. 'numero_de_cliente'\n",
       "2. 'foto_mes'\n",
       "3. 'internet'\n",
       "4. 'cliente_edad'\n",
       "5. 'cliente_antiguedad'\n",
       "6. 'mrentabilidad'\n",
       "7. 'mrentabilidad_annual'\n",
       "8. 'mcomisiones'\n",
       "9. 'mactivos_margen'\n",
       "10. 'mpasivos_margen'\n",
       "11. 'cproductos'\n",
       "12. 'mcuenta_corriente'\n",
       "13. 'mcaja_ahorro'\n",
       "14. 'cdescubierto_preacordado'\n",
       "15. 'mcuentas_saldo'\n",
       "16. 'ctarjeta_visa_transacciones'\n",
       "17. 'mtarjeta_visa_consumo'\n",
       "18. 'mtarjeta_master_consumo'\n",
       "19. 'mprestamos_personales'\n",
       "20. 'cpayroll_trx'\n",
       "21. 'mpayroll'\n",
       "22. 'ccomisiones_mantenimiento'\n",
       "23. 'ccallcenter_transacciones'\n",
       "24. 'chomebanking_transacciones'\n",
       "25. 'ctrx_quarter'\n",
       "26. 'Master_status'\n",
       "27. 'Master_fechaalta'\n",
       "28. 'Master_mpagominimo'\n",
       "29. 'Visa_status'\n",
       "30. 'Visa_fechaalta'\n",
       "31. 'Visa_mpagominimo'\n",
       "32. 'clase_ternaria'\n",
       "33. 'kmes'\n",
       "34. 'mpayroll_sobre_edad'\n",
       "35. 'ctrx_quarter_normalizado'\n",
       "36. 'foto_mes_formato_fecha'\n",
       "37. 'vm_status01'\n",
       "38. 'vm_status02'\n",
       "39. 'vm_status03'\n",
       "40. 'vm_status04'\n",
       "41. 'vm_status05'\n",
       "42. 'vm_status06'\n",
       "43. 'mv_status07'\n",
       "44. 'vm_fechaalta'\n",
       "45. 'vm_mpagominimo'\n",
       "\n",
       "\n"
      ],
      "text/plain": [
       " [1] \"numero_de_cliente\"           \"foto_mes\"                   \n",
       " [3] \"internet\"                    \"cliente_edad\"               \n",
       " [5] \"cliente_antiguedad\"          \"mrentabilidad\"              \n",
       " [7] \"mrentabilidad_annual\"        \"mcomisiones\"                \n",
       " [9] \"mactivos_margen\"             \"mpasivos_margen\"            \n",
       "[11] \"cproductos\"                  \"mcuenta_corriente\"          \n",
       "[13] \"mcaja_ahorro\"                \"cdescubierto_preacordado\"   \n",
       "[15] \"mcuentas_saldo\"              \"ctarjeta_visa_transacciones\"\n",
       "[17] \"mtarjeta_visa_consumo\"       \"mtarjeta_master_consumo\"    \n",
       "[19] \"mprestamos_personales\"       \"cpayroll_trx\"               \n",
       "[21] \"mpayroll\"                    \"ccomisiones_mantenimiento\"  \n",
       "[23] \"ccallcenter_transacciones\"   \"chomebanking_transacciones\" \n",
       "[25] \"ctrx_quarter\"                \"Master_status\"              \n",
       "[27] \"Master_fechaalta\"            \"Master_mpagominimo\"         \n",
       "[29] \"Visa_status\"                 \"Visa_fechaalta\"             \n",
       "[31] \"Visa_mpagominimo\"            \"clase_ternaria\"             \n",
       "[33] \"kmes\"                        \"mpayroll_sobre_edad\"        \n",
       "[35] \"ctrx_quarter_normalizado\"    \"foto_mes_formato_fecha\"     \n",
       "[37] \"vm_status01\"                 \"vm_status02\"                \n",
       "[39] \"vm_status03\"                 \"vm_status04\"                \n",
       "[41] \"vm_status05\"                 \"vm_status06\"                \n",
       "[43] \"mv_status07\"                 \"vm_fechaalta\"               \n",
       "[45] \"vm_mpagominimo\"             "
      ]
     },
     "metadata": {},
     "output_type": "display_data"
    }
   ],
   "source": [
    "# visualizo las columas del dataset a esta etapa\n",
    "ncol(dataset)\n",
    "colnames(dataset)\n",
    "\n",
    "add_log(ncol(dataset))"
   ]
  },
  {
   "cell_type": "markdown",
   "id": "XaRBjQj8ZRUZ",
   "metadata": {
    "id": "XaRBjQj8ZRUZ"
   },
   "source": [
    "#### 6.3.1.5  FEhist Feature Engineering historico\n",
    "\n",
    "El Fature Engineering Histórico es la etapa que más aporta a la ganancia final, ya que enriquece cada registro del dataset con su historia."
   ]
  },
  {
   "cell_type": "markdown",
   "id": "cfe3b8cf-0707-4512-92e7-c1407bb3f73b",
   "metadata": {
    "id": "cfe3b8cf-0707-4512-92e7-c1407bb3f73b"
   },
   "source": [
    "Para cada campo del dataset original (*)\n",
    "se crean lo siguientes campos de a partir de la historia\n",
    "* lag1  lags de orden 1\n",
    "* delta1  =  valor actual - lag1\n",
    "* lag2  lags de orden 2\n",
    "* delta2  = valor actual - lag2\n",
    "\n",
    "\n",
    "(*) Excepto para los campos  <numero_de_cliente,  foto_mes,  clase_ternaria>"
   ]
  },
  {
   "cell_type": "code",
   "execution_count": 21,
   "id": "7850b948-827d-4a2a-b4d3-a5e459b47c11",
   "metadata": {
    "id": "7850b948-827d-4a2a-b4d3-a5e459b47c11"
   },
   "outputs": [],
   "source": [
    "# Feature Engineering Historico\n",
    "\n",
    "# todo es lagueable, menos la primary key y la clase\n",
    "cols_lagueables <- copy( setdiff(\n",
    "    colnames(dataset),\n",
    "    c(\"numero_de_cliente\", \"foto_mes\", \"clase_ternaria\")\n",
    ") )\n",
    "\n",
    "# https://rdrr.io/cran/data.table/man/shift.html\n",
    "\n",
    "# lags de orden 1\n",
    "dataset[,\n",
    "    paste0(cols_lagueables, \"_lag1\") := shift(.SD, 1, NA, \"lag\"),\n",
    "    by = numero_de_cliente,\n",
    "    .SDcols = cols_lagueables\n",
    "]\n",
    "\n",
    "# lags de orden 2\n",
    "dataset[,\n",
    "    paste0(cols_lagueables, \"_lag2\") := shift(.SD, 2, NA, \"lag\"),\n",
    "    by = numero_de_cliente,\n",
    "    .SDcols = cols_lagueables\n",
    "]\n",
    "\n",
    "# agrego los delta lags\n",
    "for (vcol in cols_lagueables)\n",
    "{\n",
    "    dataset[, paste0(vcol, \"_delta1\") := get(vcol) - get(paste0(vcol, \"_lag1\"))]\n",
    "    dataset[, paste0(vcol, \"_delta2\") := get(vcol) - get(paste0(vcol, \"_lag2\"))]\n",
    "}\n"
   ]
  },
  {
   "cell_type": "markdown",
   "id": "cea690d9-ece9-4852-a5e2-f337c31b6721",
   "metadata": {
    "id": "cea690d9-ece9-4852-a5e2-f337c31b6721"
   },
   "source": [
    "Verificacion de los campos recien creados"
   ]
  },
  {
   "cell_type": "code",
   "execution_count": 22,
   "id": "f772896b-595a-47d4-8905-c15304ac9452",
   "metadata": {
    "colab": {
     "base_uri": "https://localhost:8080/",
     "height": 920
    },
    "id": "f772896b-595a-47d4-8905-c15304ac9452",
    "outputId": "a428e15c-4059-4f40-8bd9-0873e1a431a4"
   },
   "outputs": [
    {
     "data": {
      "text/html": [
       "213"
      ],
      "text/latex": [
       "213"
      ],
      "text/markdown": [
       "213"
      ],
      "text/plain": [
       "[1] 213"
      ]
     },
     "metadata": {},
     "output_type": "display_data"
    },
    {
     "data": {
      "text/html": [
       "<style>\n",
       ".list-inline {list-style: none; margin:0; padding: 0}\n",
       ".list-inline>li {display: inline-block}\n",
       ".list-inline>li:not(:last-child)::after {content: \"\\00b7\"; padding: 0 .5ex}\n",
       "</style>\n",
       "<ol class=list-inline><li>'numero_de_cliente'</li><li>'foto_mes'</li><li>'internet'</li><li>'cliente_edad'</li><li>'cliente_antiguedad'</li><li>'mrentabilidad'</li><li>'mrentabilidad_annual'</li><li>'mcomisiones'</li><li>'mactivos_margen'</li><li>'mpasivos_margen'</li><li>'cproductos'</li><li>'mcuenta_corriente'</li><li>'mcaja_ahorro'</li><li>'cdescubierto_preacordado'</li><li>'mcuentas_saldo'</li><li>'ctarjeta_visa_transacciones'</li><li>'mtarjeta_visa_consumo'</li><li>'mtarjeta_master_consumo'</li><li>'mprestamos_personales'</li><li>'cpayroll_trx'</li><li>'mpayroll'</li><li>'ccomisiones_mantenimiento'</li><li>'ccallcenter_transacciones'</li><li>'chomebanking_transacciones'</li><li>'ctrx_quarter'</li><li>'Master_status'</li><li>'Master_fechaalta'</li><li>'Master_mpagominimo'</li><li>'Visa_status'</li><li>'Visa_fechaalta'</li><li>'Visa_mpagominimo'</li><li>'clase_ternaria'</li><li>'kmes'</li><li>'mpayroll_sobre_edad'</li><li>'ctrx_quarter_normalizado'</li><li>'foto_mes_formato_fecha'</li><li>'vm_status01'</li><li>'vm_status02'</li><li>'vm_status03'</li><li>'vm_status04'</li><li>'vm_status05'</li><li>'vm_status06'</li><li>'mv_status07'</li><li>'vm_fechaalta'</li><li>'vm_mpagominimo'</li><li>'internet_lag1'</li><li>'cliente_edad_lag1'</li><li>'cliente_antiguedad_lag1'</li><li>'mrentabilidad_lag1'</li><li>'mrentabilidad_annual_lag1'</li><li>'mcomisiones_lag1'</li><li>'mactivos_margen_lag1'</li><li>'mpasivos_margen_lag1'</li><li>'cproductos_lag1'</li><li>'mcuenta_corriente_lag1'</li><li>'mcaja_ahorro_lag1'</li><li>'cdescubierto_preacordado_lag1'</li><li>'mcuentas_saldo_lag1'</li><li>'ctarjeta_visa_transacciones_lag1'</li><li>'mtarjeta_visa_consumo_lag1'</li><li>'mtarjeta_master_consumo_lag1'</li><li>'mprestamos_personales_lag1'</li><li>'cpayroll_trx_lag1'</li><li>'mpayroll_lag1'</li><li>'ccomisiones_mantenimiento_lag1'</li><li>'ccallcenter_transacciones_lag1'</li><li>'chomebanking_transacciones_lag1'</li><li>'ctrx_quarter_lag1'</li><li>'Master_status_lag1'</li><li>'Master_fechaalta_lag1'</li><li>'Master_mpagominimo_lag1'</li><li>'Visa_status_lag1'</li><li>'Visa_fechaalta_lag1'</li><li>'Visa_mpagominimo_lag1'</li><li>'kmes_lag1'</li><li>'mpayroll_sobre_edad_lag1'</li><li>'ctrx_quarter_normalizado_lag1'</li><li>'foto_mes_formato_fecha_lag1'</li><li>'vm_status01_lag1'</li><li>'vm_status02_lag1'</li><li>'vm_status03_lag1'</li><li>'vm_status04_lag1'</li><li>'vm_status05_lag1'</li><li>'vm_status06_lag1'</li><li>'mv_status07_lag1'</li><li>'vm_fechaalta_lag1'</li><li>'vm_mpagominimo_lag1'</li><li>'internet_lag2'</li><li>'cliente_edad_lag2'</li><li>'cliente_antiguedad_lag2'</li><li>'mrentabilidad_lag2'</li><li>'mrentabilidad_annual_lag2'</li><li>'mcomisiones_lag2'</li><li>'mactivos_margen_lag2'</li><li>'mpasivos_margen_lag2'</li><li>'cproductos_lag2'</li><li>'mcuenta_corriente_lag2'</li><li>'mcaja_ahorro_lag2'</li><li>'cdescubierto_preacordado_lag2'</li><li>'mcuentas_saldo_lag2'</li><li>'ctarjeta_visa_transacciones_lag2'</li><li>'mtarjeta_visa_consumo_lag2'</li><li>'mtarjeta_master_consumo_lag2'</li><li>'mprestamos_personales_lag2'</li><li>'cpayroll_trx_lag2'</li><li>'mpayroll_lag2'</li><li>'ccomisiones_mantenimiento_lag2'</li><li>'ccallcenter_transacciones_lag2'</li><li>'chomebanking_transacciones_lag2'</li><li>'ctrx_quarter_lag2'</li><li>'Master_status_lag2'</li><li>'Master_fechaalta_lag2'</li><li>'Master_mpagominimo_lag2'</li><li>'Visa_status_lag2'</li><li>'Visa_fechaalta_lag2'</li><li>'Visa_mpagominimo_lag2'</li><li>'kmes_lag2'</li><li>'mpayroll_sobre_edad_lag2'</li><li>'ctrx_quarter_normalizado_lag2'</li><li>'foto_mes_formato_fecha_lag2'</li><li>'vm_status01_lag2'</li><li>'vm_status02_lag2'</li><li>'vm_status03_lag2'</li><li>'vm_status04_lag2'</li><li>'vm_status05_lag2'</li><li>'vm_status06_lag2'</li><li>'mv_status07_lag2'</li><li>'vm_fechaalta_lag2'</li><li>'vm_mpagominimo_lag2'</li><li>'internet_delta1'</li><li>'internet_delta2'</li><li>'cliente_edad_delta1'</li><li>'cliente_edad_delta2'</li><li>'cliente_antiguedad_delta1'</li><li>'cliente_antiguedad_delta2'</li><li>'mrentabilidad_delta1'</li><li>'mrentabilidad_delta2'</li><li>'mrentabilidad_annual_delta1'</li><li>'mrentabilidad_annual_delta2'</li><li>'mcomisiones_delta1'</li><li>'mcomisiones_delta2'</li><li>'mactivos_margen_delta1'</li><li>'mactivos_margen_delta2'</li><li>'mpasivos_margen_delta1'</li><li>'mpasivos_margen_delta2'</li><li>'cproductos_delta1'</li><li>'cproductos_delta2'</li><li>'mcuenta_corriente_delta1'</li><li>'mcuenta_corriente_delta2'</li><li>'mcaja_ahorro_delta1'</li><li>'mcaja_ahorro_delta2'</li><li>'cdescubierto_preacordado_delta1'</li><li>'cdescubierto_preacordado_delta2'</li><li>'mcuentas_saldo_delta1'</li><li>'mcuentas_saldo_delta2'</li><li>'ctarjeta_visa_transacciones_delta1'</li><li>'ctarjeta_visa_transacciones_delta2'</li><li>'mtarjeta_visa_consumo_delta1'</li><li>'mtarjeta_visa_consumo_delta2'</li><li>'mtarjeta_master_consumo_delta1'</li><li>'mtarjeta_master_consumo_delta2'</li><li>'mprestamos_personales_delta1'</li><li>'mprestamos_personales_delta2'</li><li>'cpayroll_trx_delta1'</li><li>'cpayroll_trx_delta2'</li><li>'mpayroll_delta1'</li><li>'mpayroll_delta2'</li><li>'ccomisiones_mantenimiento_delta1'</li><li>'ccomisiones_mantenimiento_delta2'</li><li>'ccallcenter_transacciones_delta1'</li><li>'ccallcenter_transacciones_delta2'</li><li>'chomebanking_transacciones_delta1'</li><li>'chomebanking_transacciones_delta2'</li><li>'ctrx_quarter_delta1'</li><li>'ctrx_quarter_delta2'</li><li>'Master_status_delta1'</li><li>'Master_status_delta2'</li><li>'Master_fechaalta_delta1'</li><li>'Master_fechaalta_delta2'</li><li>'Master_mpagominimo_delta1'</li><li>'Master_mpagominimo_delta2'</li><li>'Visa_status_delta1'</li><li>'Visa_status_delta2'</li><li>'Visa_fechaalta_delta1'</li><li>'Visa_fechaalta_delta2'</li><li>'Visa_mpagominimo_delta1'</li><li>'Visa_mpagominimo_delta2'</li><li>'kmes_delta1'</li><li>'kmes_delta2'</li><li>'mpayroll_sobre_edad_delta1'</li><li>'mpayroll_sobre_edad_delta2'</li><li>'ctrx_quarter_normalizado_delta1'</li><li>'ctrx_quarter_normalizado_delta2'</li><li>'foto_mes_formato_fecha_delta1'</li><li>'foto_mes_formato_fecha_delta2'</li><li>'vm_status01_delta1'</li><li>'vm_status01_delta2'</li><li>'vm_status02_delta1'</li><li>'vm_status02_delta2'</li><li>'vm_status03_delta1'</li><li>'vm_status03_delta2'</li><li>'vm_status04_delta1'</li><li>'vm_status04_delta2'</li><li>'vm_status05_delta1'</li><li>'vm_status05_delta2'</li><li>'vm_status06_delta1'</li><li>'vm_status06_delta2'</li><li>'mv_status07_delta1'</li><li>'mv_status07_delta2'</li><li>'vm_fechaalta_delta1'</li><li>'vm_fechaalta_delta2'</li><li>'vm_mpagominimo_delta1'</li><li>'vm_mpagominimo_delta2'</li></ol>\n"
      ],
      "text/latex": [
       "\\begin{enumerate*}\n",
       "\\item 'numero\\_de\\_cliente'\n",
       "\\item 'foto\\_mes'\n",
       "\\item 'internet'\n",
       "\\item 'cliente\\_edad'\n",
       "\\item 'cliente\\_antiguedad'\n",
       "\\item 'mrentabilidad'\n",
       "\\item 'mrentabilidad\\_annual'\n",
       "\\item 'mcomisiones'\n",
       "\\item 'mactivos\\_margen'\n",
       "\\item 'mpasivos\\_margen'\n",
       "\\item 'cproductos'\n",
       "\\item 'mcuenta\\_corriente'\n",
       "\\item 'mcaja\\_ahorro'\n",
       "\\item 'cdescubierto\\_preacordado'\n",
       "\\item 'mcuentas\\_saldo'\n",
       "\\item 'ctarjeta\\_visa\\_transacciones'\n",
       "\\item 'mtarjeta\\_visa\\_consumo'\n",
       "\\item 'mtarjeta\\_master\\_consumo'\n",
       "\\item 'mprestamos\\_personales'\n",
       "\\item 'cpayroll\\_trx'\n",
       "\\item 'mpayroll'\n",
       "\\item 'ccomisiones\\_mantenimiento'\n",
       "\\item 'ccallcenter\\_transacciones'\n",
       "\\item 'chomebanking\\_transacciones'\n",
       "\\item 'ctrx\\_quarter'\n",
       "\\item 'Master\\_status'\n",
       "\\item 'Master\\_fechaalta'\n",
       "\\item 'Master\\_mpagominimo'\n",
       "\\item 'Visa\\_status'\n",
       "\\item 'Visa\\_fechaalta'\n",
       "\\item 'Visa\\_mpagominimo'\n",
       "\\item 'clase\\_ternaria'\n",
       "\\item 'kmes'\n",
       "\\item 'mpayroll\\_sobre\\_edad'\n",
       "\\item 'ctrx\\_quarter\\_normalizado'\n",
       "\\item 'foto\\_mes\\_formato\\_fecha'\n",
       "\\item 'vm\\_status01'\n",
       "\\item 'vm\\_status02'\n",
       "\\item 'vm\\_status03'\n",
       "\\item 'vm\\_status04'\n",
       "\\item 'vm\\_status05'\n",
       "\\item 'vm\\_status06'\n",
       "\\item 'mv\\_status07'\n",
       "\\item 'vm\\_fechaalta'\n",
       "\\item 'vm\\_mpagominimo'\n",
       "\\item 'internet\\_lag1'\n",
       "\\item 'cliente\\_edad\\_lag1'\n",
       "\\item 'cliente\\_antiguedad\\_lag1'\n",
       "\\item 'mrentabilidad\\_lag1'\n",
       "\\item 'mrentabilidad\\_annual\\_lag1'\n",
       "\\item 'mcomisiones\\_lag1'\n",
       "\\item 'mactivos\\_margen\\_lag1'\n",
       "\\item 'mpasivos\\_margen\\_lag1'\n",
       "\\item 'cproductos\\_lag1'\n",
       "\\item 'mcuenta\\_corriente\\_lag1'\n",
       "\\item 'mcaja\\_ahorro\\_lag1'\n",
       "\\item 'cdescubierto\\_preacordado\\_lag1'\n",
       "\\item 'mcuentas\\_saldo\\_lag1'\n",
       "\\item 'ctarjeta\\_visa\\_transacciones\\_lag1'\n",
       "\\item 'mtarjeta\\_visa\\_consumo\\_lag1'\n",
       "\\item 'mtarjeta\\_master\\_consumo\\_lag1'\n",
       "\\item 'mprestamos\\_personales\\_lag1'\n",
       "\\item 'cpayroll\\_trx\\_lag1'\n",
       "\\item 'mpayroll\\_lag1'\n",
       "\\item 'ccomisiones\\_mantenimiento\\_lag1'\n",
       "\\item 'ccallcenter\\_transacciones\\_lag1'\n",
       "\\item 'chomebanking\\_transacciones\\_lag1'\n",
       "\\item 'ctrx\\_quarter\\_lag1'\n",
       "\\item 'Master\\_status\\_lag1'\n",
       "\\item 'Master\\_fechaalta\\_lag1'\n",
       "\\item 'Master\\_mpagominimo\\_lag1'\n",
       "\\item 'Visa\\_status\\_lag1'\n",
       "\\item 'Visa\\_fechaalta\\_lag1'\n",
       "\\item 'Visa\\_mpagominimo\\_lag1'\n",
       "\\item 'kmes\\_lag1'\n",
       "\\item 'mpayroll\\_sobre\\_edad\\_lag1'\n",
       "\\item 'ctrx\\_quarter\\_normalizado\\_lag1'\n",
       "\\item 'foto\\_mes\\_formato\\_fecha\\_lag1'\n",
       "\\item 'vm\\_status01\\_lag1'\n",
       "\\item 'vm\\_status02\\_lag1'\n",
       "\\item 'vm\\_status03\\_lag1'\n",
       "\\item 'vm\\_status04\\_lag1'\n",
       "\\item 'vm\\_status05\\_lag1'\n",
       "\\item 'vm\\_status06\\_lag1'\n",
       "\\item 'mv\\_status07\\_lag1'\n",
       "\\item 'vm\\_fechaalta\\_lag1'\n",
       "\\item 'vm\\_mpagominimo\\_lag1'\n",
       "\\item 'internet\\_lag2'\n",
       "\\item 'cliente\\_edad\\_lag2'\n",
       "\\item 'cliente\\_antiguedad\\_lag2'\n",
       "\\item 'mrentabilidad\\_lag2'\n",
       "\\item 'mrentabilidad\\_annual\\_lag2'\n",
       "\\item 'mcomisiones\\_lag2'\n",
       "\\item 'mactivos\\_margen\\_lag2'\n",
       "\\item 'mpasivos\\_margen\\_lag2'\n",
       "\\item 'cproductos\\_lag2'\n",
       "\\item 'mcuenta\\_corriente\\_lag2'\n",
       "\\item 'mcaja\\_ahorro\\_lag2'\n",
       "\\item 'cdescubierto\\_preacordado\\_lag2'\n",
       "\\item 'mcuentas\\_saldo\\_lag2'\n",
       "\\item 'ctarjeta\\_visa\\_transacciones\\_lag2'\n",
       "\\item 'mtarjeta\\_visa\\_consumo\\_lag2'\n",
       "\\item 'mtarjeta\\_master\\_consumo\\_lag2'\n",
       "\\item 'mprestamos\\_personales\\_lag2'\n",
       "\\item 'cpayroll\\_trx\\_lag2'\n",
       "\\item 'mpayroll\\_lag2'\n",
       "\\item 'ccomisiones\\_mantenimiento\\_lag2'\n",
       "\\item 'ccallcenter\\_transacciones\\_lag2'\n",
       "\\item 'chomebanking\\_transacciones\\_lag2'\n",
       "\\item 'ctrx\\_quarter\\_lag2'\n",
       "\\item 'Master\\_status\\_lag2'\n",
       "\\item 'Master\\_fechaalta\\_lag2'\n",
       "\\item 'Master\\_mpagominimo\\_lag2'\n",
       "\\item 'Visa\\_status\\_lag2'\n",
       "\\item 'Visa\\_fechaalta\\_lag2'\n",
       "\\item 'Visa\\_mpagominimo\\_lag2'\n",
       "\\item 'kmes\\_lag2'\n",
       "\\item 'mpayroll\\_sobre\\_edad\\_lag2'\n",
       "\\item 'ctrx\\_quarter\\_normalizado\\_lag2'\n",
       "\\item 'foto\\_mes\\_formato\\_fecha\\_lag2'\n",
       "\\item 'vm\\_status01\\_lag2'\n",
       "\\item 'vm\\_status02\\_lag2'\n",
       "\\item 'vm\\_status03\\_lag2'\n",
       "\\item 'vm\\_status04\\_lag2'\n",
       "\\item 'vm\\_status05\\_lag2'\n",
       "\\item 'vm\\_status06\\_lag2'\n",
       "\\item 'mv\\_status07\\_lag2'\n",
       "\\item 'vm\\_fechaalta\\_lag2'\n",
       "\\item 'vm\\_mpagominimo\\_lag2'\n",
       "\\item 'internet\\_delta1'\n",
       "\\item 'internet\\_delta2'\n",
       "\\item 'cliente\\_edad\\_delta1'\n",
       "\\item 'cliente\\_edad\\_delta2'\n",
       "\\item 'cliente\\_antiguedad\\_delta1'\n",
       "\\item 'cliente\\_antiguedad\\_delta2'\n",
       "\\item 'mrentabilidad\\_delta1'\n",
       "\\item 'mrentabilidad\\_delta2'\n",
       "\\item 'mrentabilidad\\_annual\\_delta1'\n",
       "\\item 'mrentabilidad\\_annual\\_delta2'\n",
       "\\item 'mcomisiones\\_delta1'\n",
       "\\item 'mcomisiones\\_delta2'\n",
       "\\item 'mactivos\\_margen\\_delta1'\n",
       "\\item 'mactivos\\_margen\\_delta2'\n",
       "\\item 'mpasivos\\_margen\\_delta1'\n",
       "\\item 'mpasivos\\_margen\\_delta2'\n",
       "\\item 'cproductos\\_delta1'\n",
       "\\item 'cproductos\\_delta2'\n",
       "\\item 'mcuenta\\_corriente\\_delta1'\n",
       "\\item 'mcuenta\\_corriente\\_delta2'\n",
       "\\item 'mcaja\\_ahorro\\_delta1'\n",
       "\\item 'mcaja\\_ahorro\\_delta2'\n",
       "\\item 'cdescubierto\\_preacordado\\_delta1'\n",
       "\\item 'cdescubierto\\_preacordado\\_delta2'\n",
       "\\item 'mcuentas\\_saldo\\_delta1'\n",
       "\\item 'mcuentas\\_saldo\\_delta2'\n",
       "\\item 'ctarjeta\\_visa\\_transacciones\\_delta1'\n",
       "\\item 'ctarjeta\\_visa\\_transacciones\\_delta2'\n",
       "\\item 'mtarjeta\\_visa\\_consumo\\_delta1'\n",
       "\\item 'mtarjeta\\_visa\\_consumo\\_delta2'\n",
       "\\item 'mtarjeta\\_master\\_consumo\\_delta1'\n",
       "\\item 'mtarjeta\\_master\\_consumo\\_delta2'\n",
       "\\item 'mprestamos\\_personales\\_delta1'\n",
       "\\item 'mprestamos\\_personales\\_delta2'\n",
       "\\item 'cpayroll\\_trx\\_delta1'\n",
       "\\item 'cpayroll\\_trx\\_delta2'\n",
       "\\item 'mpayroll\\_delta1'\n",
       "\\item 'mpayroll\\_delta2'\n",
       "\\item 'ccomisiones\\_mantenimiento\\_delta1'\n",
       "\\item 'ccomisiones\\_mantenimiento\\_delta2'\n",
       "\\item 'ccallcenter\\_transacciones\\_delta1'\n",
       "\\item 'ccallcenter\\_transacciones\\_delta2'\n",
       "\\item 'chomebanking\\_transacciones\\_delta1'\n",
       "\\item 'chomebanking\\_transacciones\\_delta2'\n",
       "\\item 'ctrx\\_quarter\\_delta1'\n",
       "\\item 'ctrx\\_quarter\\_delta2'\n",
       "\\item 'Master\\_status\\_delta1'\n",
       "\\item 'Master\\_status\\_delta2'\n",
       "\\item 'Master\\_fechaalta\\_delta1'\n",
       "\\item 'Master\\_fechaalta\\_delta2'\n",
       "\\item 'Master\\_mpagominimo\\_delta1'\n",
       "\\item 'Master\\_mpagominimo\\_delta2'\n",
       "\\item 'Visa\\_status\\_delta1'\n",
       "\\item 'Visa\\_status\\_delta2'\n",
       "\\item 'Visa\\_fechaalta\\_delta1'\n",
       "\\item 'Visa\\_fechaalta\\_delta2'\n",
       "\\item 'Visa\\_mpagominimo\\_delta1'\n",
       "\\item 'Visa\\_mpagominimo\\_delta2'\n",
       "\\item 'kmes\\_delta1'\n",
       "\\item 'kmes\\_delta2'\n",
       "\\item 'mpayroll\\_sobre\\_edad\\_delta1'\n",
       "\\item 'mpayroll\\_sobre\\_edad\\_delta2'\n",
       "\\item 'ctrx\\_quarter\\_normalizado\\_delta1'\n",
       "\\item 'ctrx\\_quarter\\_normalizado\\_delta2'\n",
       "\\item 'foto\\_mes\\_formato\\_fecha\\_delta1'\n",
       "\\item 'foto\\_mes\\_formato\\_fecha\\_delta2'\n",
       "\\item 'vm\\_status01\\_delta1'\n",
       "\\item 'vm\\_status01\\_delta2'\n",
       "\\item 'vm\\_status02\\_delta1'\n",
       "\\item 'vm\\_status02\\_delta2'\n",
       "\\item 'vm\\_status03\\_delta1'\n",
       "\\item 'vm\\_status03\\_delta2'\n",
       "\\item 'vm\\_status04\\_delta1'\n",
       "\\item 'vm\\_status04\\_delta2'\n",
       "\\item 'vm\\_status05\\_delta1'\n",
       "\\item 'vm\\_status05\\_delta2'\n",
       "\\item 'vm\\_status06\\_delta1'\n",
       "\\item 'vm\\_status06\\_delta2'\n",
       "\\item 'mv\\_status07\\_delta1'\n",
       "\\item 'mv\\_status07\\_delta2'\n",
       "\\item 'vm\\_fechaalta\\_delta1'\n",
       "\\item 'vm\\_fechaalta\\_delta2'\n",
       "\\item 'vm\\_mpagominimo\\_delta1'\n",
       "\\item 'vm\\_mpagominimo\\_delta2'\n",
       "\\end{enumerate*}\n"
      ],
      "text/markdown": [
       "1. 'numero_de_cliente'\n",
       "2. 'foto_mes'\n",
       "3. 'internet'\n",
       "4. 'cliente_edad'\n",
       "5. 'cliente_antiguedad'\n",
       "6. 'mrentabilidad'\n",
       "7. 'mrentabilidad_annual'\n",
       "8. 'mcomisiones'\n",
       "9. 'mactivos_margen'\n",
       "10. 'mpasivos_margen'\n",
       "11. 'cproductos'\n",
       "12. 'mcuenta_corriente'\n",
       "13. 'mcaja_ahorro'\n",
       "14. 'cdescubierto_preacordado'\n",
       "15. 'mcuentas_saldo'\n",
       "16. 'ctarjeta_visa_transacciones'\n",
       "17. 'mtarjeta_visa_consumo'\n",
       "18. 'mtarjeta_master_consumo'\n",
       "19. 'mprestamos_personales'\n",
       "20. 'cpayroll_trx'\n",
       "21. 'mpayroll'\n",
       "22. 'ccomisiones_mantenimiento'\n",
       "23. 'ccallcenter_transacciones'\n",
       "24. 'chomebanking_transacciones'\n",
       "25. 'ctrx_quarter'\n",
       "26. 'Master_status'\n",
       "27. 'Master_fechaalta'\n",
       "28. 'Master_mpagominimo'\n",
       "29. 'Visa_status'\n",
       "30. 'Visa_fechaalta'\n",
       "31. 'Visa_mpagominimo'\n",
       "32. 'clase_ternaria'\n",
       "33. 'kmes'\n",
       "34. 'mpayroll_sobre_edad'\n",
       "35. 'ctrx_quarter_normalizado'\n",
       "36. 'foto_mes_formato_fecha'\n",
       "37. 'vm_status01'\n",
       "38. 'vm_status02'\n",
       "39. 'vm_status03'\n",
       "40. 'vm_status04'\n",
       "41. 'vm_status05'\n",
       "42. 'vm_status06'\n",
       "43. 'mv_status07'\n",
       "44. 'vm_fechaalta'\n",
       "45. 'vm_mpagominimo'\n",
       "46. 'internet_lag1'\n",
       "47. 'cliente_edad_lag1'\n",
       "48. 'cliente_antiguedad_lag1'\n",
       "49. 'mrentabilidad_lag1'\n",
       "50. 'mrentabilidad_annual_lag1'\n",
       "51. 'mcomisiones_lag1'\n",
       "52. 'mactivos_margen_lag1'\n",
       "53. 'mpasivos_margen_lag1'\n",
       "54. 'cproductos_lag1'\n",
       "55. 'mcuenta_corriente_lag1'\n",
       "56. 'mcaja_ahorro_lag1'\n",
       "57. 'cdescubierto_preacordado_lag1'\n",
       "58. 'mcuentas_saldo_lag1'\n",
       "59. 'ctarjeta_visa_transacciones_lag1'\n",
       "60. 'mtarjeta_visa_consumo_lag1'\n",
       "61. 'mtarjeta_master_consumo_lag1'\n",
       "62. 'mprestamos_personales_lag1'\n",
       "63. 'cpayroll_trx_lag1'\n",
       "64. 'mpayroll_lag1'\n",
       "65. 'ccomisiones_mantenimiento_lag1'\n",
       "66. 'ccallcenter_transacciones_lag1'\n",
       "67. 'chomebanking_transacciones_lag1'\n",
       "68. 'ctrx_quarter_lag1'\n",
       "69. 'Master_status_lag1'\n",
       "70. 'Master_fechaalta_lag1'\n",
       "71. 'Master_mpagominimo_lag1'\n",
       "72. 'Visa_status_lag1'\n",
       "73. 'Visa_fechaalta_lag1'\n",
       "74. 'Visa_mpagominimo_lag1'\n",
       "75. 'kmes_lag1'\n",
       "76. 'mpayroll_sobre_edad_lag1'\n",
       "77. 'ctrx_quarter_normalizado_lag1'\n",
       "78. 'foto_mes_formato_fecha_lag1'\n",
       "79. 'vm_status01_lag1'\n",
       "80. 'vm_status02_lag1'\n",
       "81. 'vm_status03_lag1'\n",
       "82. 'vm_status04_lag1'\n",
       "83. 'vm_status05_lag1'\n",
       "84. 'vm_status06_lag1'\n",
       "85. 'mv_status07_lag1'\n",
       "86. 'vm_fechaalta_lag1'\n",
       "87. 'vm_mpagominimo_lag1'\n",
       "88. 'internet_lag2'\n",
       "89. 'cliente_edad_lag2'\n",
       "90. 'cliente_antiguedad_lag2'\n",
       "91. 'mrentabilidad_lag2'\n",
       "92. 'mrentabilidad_annual_lag2'\n",
       "93. 'mcomisiones_lag2'\n",
       "94. 'mactivos_margen_lag2'\n",
       "95. 'mpasivos_margen_lag2'\n",
       "96. 'cproductos_lag2'\n",
       "97. 'mcuenta_corriente_lag2'\n",
       "98. 'mcaja_ahorro_lag2'\n",
       "99. 'cdescubierto_preacordado_lag2'\n",
       "100. 'mcuentas_saldo_lag2'\n",
       "101. 'ctarjeta_visa_transacciones_lag2'\n",
       "102. 'mtarjeta_visa_consumo_lag2'\n",
       "103. 'mtarjeta_master_consumo_lag2'\n",
       "104. 'mprestamos_personales_lag2'\n",
       "105. 'cpayroll_trx_lag2'\n",
       "106. 'mpayroll_lag2'\n",
       "107. 'ccomisiones_mantenimiento_lag2'\n",
       "108. 'ccallcenter_transacciones_lag2'\n",
       "109. 'chomebanking_transacciones_lag2'\n",
       "110. 'ctrx_quarter_lag2'\n",
       "111. 'Master_status_lag2'\n",
       "112. 'Master_fechaalta_lag2'\n",
       "113. 'Master_mpagominimo_lag2'\n",
       "114. 'Visa_status_lag2'\n",
       "115. 'Visa_fechaalta_lag2'\n",
       "116. 'Visa_mpagominimo_lag2'\n",
       "117. 'kmes_lag2'\n",
       "118. 'mpayroll_sobre_edad_lag2'\n",
       "119. 'ctrx_quarter_normalizado_lag2'\n",
       "120. 'foto_mes_formato_fecha_lag2'\n",
       "121. 'vm_status01_lag2'\n",
       "122. 'vm_status02_lag2'\n",
       "123. 'vm_status03_lag2'\n",
       "124. 'vm_status04_lag2'\n",
       "125. 'vm_status05_lag2'\n",
       "126. 'vm_status06_lag2'\n",
       "127. 'mv_status07_lag2'\n",
       "128. 'vm_fechaalta_lag2'\n",
       "129. 'vm_mpagominimo_lag2'\n",
       "130. 'internet_delta1'\n",
       "131. 'internet_delta2'\n",
       "132. 'cliente_edad_delta1'\n",
       "133. 'cliente_edad_delta2'\n",
       "134. 'cliente_antiguedad_delta1'\n",
       "135. 'cliente_antiguedad_delta2'\n",
       "136. 'mrentabilidad_delta1'\n",
       "137. 'mrentabilidad_delta2'\n",
       "138. 'mrentabilidad_annual_delta1'\n",
       "139. 'mrentabilidad_annual_delta2'\n",
       "140. 'mcomisiones_delta1'\n",
       "141. 'mcomisiones_delta2'\n",
       "142. 'mactivos_margen_delta1'\n",
       "143. 'mactivos_margen_delta2'\n",
       "144. 'mpasivos_margen_delta1'\n",
       "145. 'mpasivos_margen_delta2'\n",
       "146. 'cproductos_delta1'\n",
       "147. 'cproductos_delta2'\n",
       "148. 'mcuenta_corriente_delta1'\n",
       "149. 'mcuenta_corriente_delta2'\n",
       "150. 'mcaja_ahorro_delta1'\n",
       "151. 'mcaja_ahorro_delta2'\n",
       "152. 'cdescubierto_preacordado_delta1'\n",
       "153. 'cdescubierto_preacordado_delta2'\n",
       "154. 'mcuentas_saldo_delta1'\n",
       "155. 'mcuentas_saldo_delta2'\n",
       "156. 'ctarjeta_visa_transacciones_delta1'\n",
       "157. 'ctarjeta_visa_transacciones_delta2'\n",
       "158. 'mtarjeta_visa_consumo_delta1'\n",
       "159. 'mtarjeta_visa_consumo_delta2'\n",
       "160. 'mtarjeta_master_consumo_delta1'\n",
       "161. 'mtarjeta_master_consumo_delta2'\n",
       "162. 'mprestamos_personales_delta1'\n",
       "163. 'mprestamos_personales_delta2'\n",
       "164. 'cpayroll_trx_delta1'\n",
       "165. 'cpayroll_trx_delta2'\n",
       "166. 'mpayroll_delta1'\n",
       "167. 'mpayroll_delta2'\n",
       "168. 'ccomisiones_mantenimiento_delta1'\n",
       "169. 'ccomisiones_mantenimiento_delta2'\n",
       "170. 'ccallcenter_transacciones_delta1'\n",
       "171. 'ccallcenter_transacciones_delta2'\n",
       "172. 'chomebanking_transacciones_delta1'\n",
       "173. 'chomebanking_transacciones_delta2'\n",
       "174. 'ctrx_quarter_delta1'\n",
       "175. 'ctrx_quarter_delta2'\n",
       "176. 'Master_status_delta1'\n",
       "177. 'Master_status_delta2'\n",
       "178. 'Master_fechaalta_delta1'\n",
       "179. 'Master_fechaalta_delta2'\n",
       "180. 'Master_mpagominimo_delta1'\n",
       "181. 'Master_mpagominimo_delta2'\n",
       "182. 'Visa_status_delta1'\n",
       "183. 'Visa_status_delta2'\n",
       "184. 'Visa_fechaalta_delta1'\n",
       "185. 'Visa_fechaalta_delta2'\n",
       "186. 'Visa_mpagominimo_delta1'\n",
       "187. 'Visa_mpagominimo_delta2'\n",
       "188. 'kmes_delta1'\n",
       "189. 'kmes_delta2'\n",
       "190. 'mpayroll_sobre_edad_delta1'\n",
       "191. 'mpayroll_sobre_edad_delta2'\n",
       "192. 'ctrx_quarter_normalizado_delta1'\n",
       "193. 'ctrx_quarter_normalizado_delta2'\n",
       "194. 'foto_mes_formato_fecha_delta1'\n",
       "195. 'foto_mes_formato_fecha_delta2'\n",
       "196. 'vm_status01_delta1'\n",
       "197. 'vm_status01_delta2'\n",
       "198. 'vm_status02_delta1'\n",
       "199. 'vm_status02_delta2'\n",
       "200. 'vm_status03_delta1'\n",
       "201. 'vm_status03_delta2'\n",
       "202. 'vm_status04_delta1'\n",
       "203. 'vm_status04_delta2'\n",
       "204. 'vm_status05_delta1'\n",
       "205. 'vm_status05_delta2'\n",
       "206. 'vm_status06_delta1'\n",
       "207. 'vm_status06_delta2'\n",
       "208. 'mv_status07_delta1'\n",
       "209. 'mv_status07_delta2'\n",
       "210. 'vm_fechaalta_delta1'\n",
       "211. 'vm_fechaalta_delta2'\n",
       "212. 'vm_mpagominimo_delta1'\n",
       "213. 'vm_mpagominimo_delta2'\n",
       "\n",
       "\n"
      ],
      "text/plain": [
       "  [1] \"numero_de_cliente\"                  \"foto_mes\"                          \n",
       "  [3] \"internet\"                           \"cliente_edad\"                      \n",
       "  [5] \"cliente_antiguedad\"                 \"mrentabilidad\"                     \n",
       "  [7] \"mrentabilidad_annual\"               \"mcomisiones\"                       \n",
       "  [9] \"mactivos_margen\"                    \"mpasivos_margen\"                   \n",
       " [11] \"cproductos\"                         \"mcuenta_corriente\"                 \n",
       " [13] \"mcaja_ahorro\"                       \"cdescubierto_preacordado\"          \n",
       " [15] \"mcuentas_saldo\"                     \"ctarjeta_visa_transacciones\"       \n",
       " [17] \"mtarjeta_visa_consumo\"              \"mtarjeta_master_consumo\"           \n",
       " [19] \"mprestamos_personales\"              \"cpayroll_trx\"                      \n",
       " [21] \"mpayroll\"                           \"ccomisiones_mantenimiento\"         \n",
       " [23] \"ccallcenter_transacciones\"          \"chomebanking_transacciones\"        \n",
       " [25] \"ctrx_quarter\"                       \"Master_status\"                     \n",
       " [27] \"Master_fechaalta\"                   \"Master_mpagominimo\"                \n",
       " [29] \"Visa_status\"                        \"Visa_fechaalta\"                    \n",
       " [31] \"Visa_mpagominimo\"                   \"clase_ternaria\"                    \n",
       " [33] \"kmes\"                               \"mpayroll_sobre_edad\"               \n",
       " [35] \"ctrx_quarter_normalizado\"           \"foto_mes_formato_fecha\"            \n",
       " [37] \"vm_status01\"                        \"vm_status02\"                       \n",
       " [39] \"vm_status03\"                        \"vm_status04\"                       \n",
       " [41] \"vm_status05\"                        \"vm_status06\"                       \n",
       " [43] \"mv_status07\"                        \"vm_fechaalta\"                      \n",
       " [45] \"vm_mpagominimo\"                     \"internet_lag1\"                     \n",
       " [47] \"cliente_edad_lag1\"                  \"cliente_antiguedad_lag1\"           \n",
       " [49] \"mrentabilidad_lag1\"                 \"mrentabilidad_annual_lag1\"         \n",
       " [51] \"mcomisiones_lag1\"                   \"mactivos_margen_lag1\"              \n",
       " [53] \"mpasivos_margen_lag1\"               \"cproductos_lag1\"                   \n",
       " [55] \"mcuenta_corriente_lag1\"             \"mcaja_ahorro_lag1\"                 \n",
       " [57] \"cdescubierto_preacordado_lag1\"      \"mcuentas_saldo_lag1\"               \n",
       " [59] \"ctarjeta_visa_transacciones_lag1\"   \"mtarjeta_visa_consumo_lag1\"        \n",
       " [61] \"mtarjeta_master_consumo_lag1\"       \"mprestamos_personales_lag1\"        \n",
       " [63] \"cpayroll_trx_lag1\"                  \"mpayroll_lag1\"                     \n",
       " [65] \"ccomisiones_mantenimiento_lag1\"     \"ccallcenter_transacciones_lag1\"    \n",
       " [67] \"chomebanking_transacciones_lag1\"    \"ctrx_quarter_lag1\"                 \n",
       " [69] \"Master_status_lag1\"                 \"Master_fechaalta_lag1\"             \n",
       " [71] \"Master_mpagominimo_lag1\"            \"Visa_status_lag1\"                  \n",
       " [73] \"Visa_fechaalta_lag1\"                \"Visa_mpagominimo_lag1\"             \n",
       " [75] \"kmes_lag1\"                          \"mpayroll_sobre_edad_lag1\"          \n",
       " [77] \"ctrx_quarter_normalizado_lag1\"      \"foto_mes_formato_fecha_lag1\"       \n",
       " [79] \"vm_status01_lag1\"                   \"vm_status02_lag1\"                  \n",
       " [81] \"vm_status03_lag1\"                   \"vm_status04_lag1\"                  \n",
       " [83] \"vm_status05_lag1\"                   \"vm_status06_lag1\"                  \n",
       " [85] \"mv_status07_lag1\"                   \"vm_fechaalta_lag1\"                 \n",
       " [87] \"vm_mpagominimo_lag1\"                \"internet_lag2\"                     \n",
       " [89] \"cliente_edad_lag2\"                  \"cliente_antiguedad_lag2\"           \n",
       " [91] \"mrentabilidad_lag2\"                 \"mrentabilidad_annual_lag2\"         \n",
       " [93] \"mcomisiones_lag2\"                   \"mactivos_margen_lag2\"              \n",
       " [95] \"mpasivos_margen_lag2\"               \"cproductos_lag2\"                   \n",
       " [97] \"mcuenta_corriente_lag2\"             \"mcaja_ahorro_lag2\"                 \n",
       " [99] \"cdescubierto_preacordado_lag2\"      \"mcuentas_saldo_lag2\"               \n",
       "[101] \"ctarjeta_visa_transacciones_lag2\"   \"mtarjeta_visa_consumo_lag2\"        \n",
       "[103] \"mtarjeta_master_consumo_lag2\"       \"mprestamos_personales_lag2\"        \n",
       "[105] \"cpayroll_trx_lag2\"                  \"mpayroll_lag2\"                     \n",
       "[107] \"ccomisiones_mantenimiento_lag2\"     \"ccallcenter_transacciones_lag2\"    \n",
       "[109] \"chomebanking_transacciones_lag2\"    \"ctrx_quarter_lag2\"                 \n",
       "[111] \"Master_status_lag2\"                 \"Master_fechaalta_lag2\"             \n",
       "[113] \"Master_mpagominimo_lag2\"            \"Visa_status_lag2\"                  \n",
       "[115] \"Visa_fechaalta_lag2\"                \"Visa_mpagominimo_lag2\"             \n",
       "[117] \"kmes_lag2\"                          \"mpayroll_sobre_edad_lag2\"          \n",
       "[119] \"ctrx_quarter_normalizado_lag2\"      \"foto_mes_formato_fecha_lag2\"       \n",
       "[121] \"vm_status01_lag2\"                   \"vm_status02_lag2\"                  \n",
       "[123] \"vm_status03_lag2\"                   \"vm_status04_lag2\"                  \n",
       "[125] \"vm_status05_lag2\"                   \"vm_status06_lag2\"                  \n",
       "[127] \"mv_status07_lag2\"                   \"vm_fechaalta_lag2\"                 \n",
       "[129] \"vm_mpagominimo_lag2\"                \"internet_delta1\"                   \n",
       "[131] \"internet_delta2\"                    \"cliente_edad_delta1\"               \n",
       "[133] \"cliente_edad_delta2\"                \"cliente_antiguedad_delta1\"         \n",
       "[135] \"cliente_antiguedad_delta2\"          \"mrentabilidad_delta1\"              \n",
       "[137] \"mrentabilidad_delta2\"               \"mrentabilidad_annual_delta1\"       \n",
       "[139] \"mrentabilidad_annual_delta2\"        \"mcomisiones_delta1\"                \n",
       "[141] \"mcomisiones_delta2\"                 \"mactivos_margen_delta1\"            \n",
       "[143] \"mactivos_margen_delta2\"             \"mpasivos_margen_delta1\"            \n",
       "[145] \"mpasivos_margen_delta2\"             \"cproductos_delta1\"                 \n",
       "[147] \"cproductos_delta2\"                  \"mcuenta_corriente_delta1\"          \n",
       "[149] \"mcuenta_corriente_delta2\"           \"mcaja_ahorro_delta1\"               \n",
       "[151] \"mcaja_ahorro_delta2\"                \"cdescubierto_preacordado_delta1\"   \n",
       "[153] \"cdescubierto_preacordado_delta2\"    \"mcuentas_saldo_delta1\"             \n",
       "[155] \"mcuentas_saldo_delta2\"              \"ctarjeta_visa_transacciones_delta1\"\n",
       "[157] \"ctarjeta_visa_transacciones_delta2\" \"mtarjeta_visa_consumo_delta1\"      \n",
       "[159] \"mtarjeta_visa_consumo_delta2\"       \"mtarjeta_master_consumo_delta1\"    \n",
       "[161] \"mtarjeta_master_consumo_delta2\"     \"mprestamos_personales_delta1\"      \n",
       "[163] \"mprestamos_personales_delta2\"       \"cpayroll_trx_delta1\"               \n",
       "[165] \"cpayroll_trx_delta2\"                \"mpayroll_delta1\"                   \n",
       "[167] \"mpayroll_delta2\"                    \"ccomisiones_mantenimiento_delta1\"  \n",
       "[169] \"ccomisiones_mantenimiento_delta2\"   \"ccallcenter_transacciones_delta1\"  \n",
       "[171] \"ccallcenter_transacciones_delta2\"   \"chomebanking_transacciones_delta1\" \n",
       "[173] \"chomebanking_transacciones_delta2\"  \"ctrx_quarter_delta1\"               \n",
       "[175] \"ctrx_quarter_delta2\"                \"Master_status_delta1\"              \n",
       "[177] \"Master_status_delta2\"               \"Master_fechaalta_delta1\"           \n",
       "[179] \"Master_fechaalta_delta2\"            \"Master_mpagominimo_delta1\"         \n",
       "[181] \"Master_mpagominimo_delta2\"          \"Visa_status_delta1\"                \n",
       "[183] \"Visa_status_delta2\"                 \"Visa_fechaalta_delta1\"             \n",
       "[185] \"Visa_fechaalta_delta2\"              \"Visa_mpagominimo_delta1\"           \n",
       "[187] \"Visa_mpagominimo_delta2\"            \"kmes_delta1\"                       \n",
       "[189] \"kmes_delta2\"                        \"mpayroll_sobre_edad_delta1\"        \n",
       "[191] \"mpayroll_sobre_edad_delta2\"         \"ctrx_quarter_normalizado_delta1\"   \n",
       "[193] \"ctrx_quarter_normalizado_delta2\"    \"foto_mes_formato_fecha_delta1\"     \n",
       "[195] \"foto_mes_formato_fecha_delta2\"      \"vm_status01_delta1\"                \n",
       "[197] \"vm_status01_delta2\"                 \"vm_status02_delta1\"                \n",
       "[199] \"vm_status02_delta2\"                 \"vm_status03_delta1\"                \n",
       "[201] \"vm_status03_delta2\"                 \"vm_status04_delta1\"                \n",
       "[203] \"vm_status04_delta2\"                 \"vm_status05_delta1\"                \n",
       "[205] \"vm_status05_delta2\"                 \"vm_status06_delta1\"                \n",
       "[207] \"vm_status06_delta2\"                 \"mv_status07_delta1\"                \n",
       "[209] \"mv_status07_delta2\"                 \"vm_fechaalta_delta1\"               \n",
       "[211] \"vm_fechaalta_delta2\"                \"vm_mpagominimo_delta1\"             \n",
       "[213] \"vm_mpagominimo_delta2\"             "
      ]
     },
     "metadata": {},
     "output_type": "display_data"
    }
   ],
   "source": [
    "ncol(dataset)\n",
    "colnames(dataset)"
   ]
  },
  {
   "cell_type": "markdown",
   "id": "20a2003c-447b-44b0-8455-2330d2e2a21f",
   "metadata": {
    "id": "20a2003c-447b-44b0-8455-2330d2e2a21f"
   },
   "source": [
    "#### 9.7.1.5  FE_rf Feature Engineering de nuevas variables a partir de hojas de Random Forest\n",
    "\n"
   ]
  },
  {
   "cell_type": "code",
   "execution_count": 23,
   "id": "e2400841-c254-4330-8f1c-90cc3b8a96c2",
   "metadata": {
    "colab": {
     "base_uri": "https://localhost:8080/"
    },
    "id": "e2400841-c254-4330-8f1c-90cc3b8a96c2",
    "outputId": "b370f13a-ad5b-41bc-cccc-fb87c399b6d6",
    "vscode": {
     "languageId": "r"
    }
   },
   "outputs": [
    {
     "name": "stderr",
     "output_type": "stream",
     "text": [
      "Loading required package: lightgbm\n",
      "\n"
     ]
    }
   ],
   "source": [
    "if( !require(\"lightgbm\")) install.packages(\"lightgbm\")\n",
    "require(\"lightgbm\")"
   ]
  },
  {
   "cell_type": "code",
   "execution_count": 24,
   "id": "ad7d25ae-442a-4c3d-86ff-c1fa0c9fa8a5",
   "metadata": {
    "id": "ad7d25ae-442a-4c3d-86ff-c1fa0c9fa8a5",
    "vscode": {
     "languageId": "r"
    }
   },
   "outputs": [],
   "source": [
    "AgregaVarRandomForest <- function() {\n",
    "\n",
    "  cat( \"inicio AgregaVarRandomForest()\\n\")\n",
    "  gc(verbose= FALSE)\n",
    "  dataset[, clase01 := 0L ]\n",
    "  dataset[ clase_ternaria %in% PARAM$FE_rf$train$clase01_valor1,\n",
    "      clase01 := 1L ]\n",
    "\n",
    "  campos_buenos <- setdiff(\n",
    "    colnames(dataset),\n",
    "    c( \"clase_ternaria\", \"clase01\")\n",
    "  )\n",
    "\n",
    "  dataset[, entrenamiento :=\n",
    "    as.integer( foto_mes %in% PARAM$FE_rf$train$training )]\n",
    "\n",
    "  dtrain <- lgb.Dataset(\n",
    "    data = data.matrix(dataset[entrenamiento == TRUE, campos_buenos, with = FALSE]),\n",
    "    label = dataset[entrenamiento == TRUE, clase01],\n",
    "    free_raw_data = FALSE\n",
    "  )\n",
    "\n",
    "  modelo <- lgb.train(\n",
    "     data = dtrain,\n",
    "     param = PARAM$FE_rf$lgb_param,\n",
    "     verbose = -100\n",
    "  )\n",
    "\n",
    "  cat( \"Fin construccion RandomForest\\n\" )\n",
    "  add_log( \"Fin construccion RandomForest\\n\" )\n",
    "  # grabo el modelo, achivo .model\n",
    "  lgb.save(modelo, file=\"modelo.model\" )\n",
    "\n",
    "  qarbolitos <- copy(PARAM$FE_rf$lgb_param$num_iterations)\n",
    "\n",
    "  periodos <- dataset[ , unique( foto_mes ) ]\n",
    "\n",
    "  for( periodo in  periodos )\n",
    "  {\n",
    "    cat( \"periodo = \", periodo, \"\\n\" )\n",
    "    datamatrix <- data.matrix(dataset[ foto_mes== periodo, campos_buenos, with = FALSE])\n",
    "\n",
    "    cat( \"Inicio prediccion\\n\" )\n",
    "    prediccion <- predict(\n",
    "        modelo,\n",
    "        datamatrix,\n",
    "        type = \"leaf\"\n",
    "    )\n",
    "    cat( \"Fin prediccion\\n\" )\n",
    "\n",
    "    for( arbolito in 1:qarbolitos )\n",
    "    {\n",
    "       cat( arbolito, \" \" )\n",
    "       hojas_arbol <- unique(prediccion[ , arbolito])\n",
    "\n",
    "       for (pos in 1:length(hojas_arbol)) {\n",
    "         # el numero de nodo de la hoja, estan salteados\n",
    "         nodo_id <- hojas_arbol[pos]\n",
    "         dataset[ foto_mes== periodo, paste0(\n",
    "            \"rf_\", sprintf(\"%03d\", arbolito),\n",
    "             \"_\", sprintf(\"%03d\", nodo_id)\n",
    "          ) :=  as.integer( nodo_id == prediccion[ , arbolito]) ]\n",
    "\n",
    "       }\n",
    "\n",
    "       rm( hojas_arbol )\n",
    "    }\n",
    "    cat( \"\\n\" )\n",
    "\n",
    "    rm( prediccion )\n",
    "    rm( datamatrix )\n",
    "    gc(verbose= FALSE)\n",
    "  }\n",
    "\n",
    "  gc(verbose= FALSE)\n",
    "\n",
    "  # borro clase01 , no debe ensuciar el dataset\n",
    "  dataset[ , clase01 := NULL ]\n",
    "\n",
    "}\n"
   ]
  },
  {
   "cell_type": "markdown",
   "id": "c7182958-a445-49f2-b60d-3564f853e9ef",
   "metadata": {
    "id": "c7182958-a445-49f2-b60d-3564f853e9ef"
   },
   "source": [
    "#### 9.7.1.6  FEhist Reduccion dimensionalidad con canaritos\n",
    "\n",
    "Esta etapa solo se mostrará a la *modalidad Anlista Sr*"
   ]
  },
  {
   "cell_type": "markdown",
   "id": "5a4c6aa3-eea2-496f-9905-2b85c73b83d0",
   "metadata": {
    "id": "5a4c6aa3-eea2-496f-9905-2b85c73b83d0"
   },
   "source": [
    "El objetivo de esta etapa NO es mejorar el modelo predictivo"
   ]
  },
  {
   "cell_type": "markdown",
   "id": "0f7882ad-1c71-4f5e-afa3-b7d4e40c7056",
   "metadata": {
    "id": "0f7882ad-1c71-4f5e-afa3-b7d4e40c7056"
   },
   "source": [
    "El objetivo es eliminar campos poco importantes para hacer espacio a nuevos campos, debido a las restricciones de memoria RAM."
   ]
  },
  {
   "cell_type": "code",
   "execution_count": 25,
   "id": "2dd646c3-d58f-4efa-9f56-917c235f1f16",
   "metadata": {
    "id": "2dd646c3-d58f-4efa-9f56-917c235f1f16",
    "vscode": {
     "languageId": "r"
    }
   },
   "outputs": [],
   "source": [
    "VPOS_CORTE <- c()\n",
    "\n",
    "fganancia_lgbm_meseta <- function(probs, datos) {\n",
    "  vlabels <- get_field(datos, \"label\")\n",
    "  vpesos <- get_field(datos, \"weight\")\n",
    "\n",
    "  tbl <- as.data.table(list(\n",
    "    \"prob\" = probs,\n",
    "    \"gan\" = ifelse(vlabels == 1 & vpesos > 1, PARAM$CN$train$gan1, PARAM$CN$train$gan0)\n",
    "  ))\n",
    "\n",
    "  setorder(tbl, -prob)\n",
    "  tbl[, posicion := .I]\n",
    "  tbl[, gan_acum := cumsum(gan)]\n",
    "  setorder(tbl, -gan_acum) # voy por la meseta\n",
    "\n",
    "  gan <- mean(tbl[1:500, gan_acum]) # meseta de tamaño 500\n",
    "\n",
    "  pos_meseta <- tbl[1:500, median(posicion)]\n",
    "  VPOS_CORTE <<- c(VPOS_CORTE, pos_meseta)\n",
    "\n",
    "  return(list(\n",
    "    \"name\" = \"ganancia\",\n",
    "    \"value\" = gan,\n",
    "    \"higher_better\" = TRUE\n",
    "  ))\n",
    "}\n"
   ]
  },
  {
   "cell_type": "code",
   "execution_count": 26,
   "id": "8196a247-f280-4c93-b509-5c0e54cab645",
   "metadata": {
    "id": "8196a247-f280-4c93-b509-5c0e54cab645",
    "vscode": {
     "languageId": "r"
    }
   },
   "outputs": [],
   "source": [
    "# Elimina del dataset las variables que estan por debajo\n",
    "#  de la capa geologica de canaritos\n",
    "# se llama varias veces, luego de agregar muchas variables nuevas,\n",
    "#  para ir reduciendo la cantidad de variables\n",
    "# y así hacer lugar a nuevas variables importantes\n",
    "\n",
    "GVEZ <- 1\n",
    "\n",
    "campitos <- c( \"numero_de_cliente\", \"foto_mes\", \"clase_ternaria\" )\n",
    "\n",
    "CanaritosAsesinos <- function(\n",
    "  canaritos_ratio,\n",
    "  canaritos_desvios,\n",
    "  canaritos_semilla) {\n",
    "\n",
    "  cat( \"inicio CanaritosAsesinos()\\n\")\n",
    "  add_log( \"inicio CanaritosAsesinos()\\n\")\n",
    "  gc(verbose= FALSE)\n",
    "  dataset[, clase01 := 0L ]\n",
    "  dataset[ clase_ternaria %in% PARAM$CN$train$clase01_valor1,\n",
    "      clase01 := 1L ]\n",
    "\n",
    "  set.seed(canaritos_semilla, kind = \"L'Ecuyer-CMRG\")\n",
    "  for (i in 1:(ncol(dataset) * canaritos_ratio)) {\n",
    "    dataset[, paste0(\"canarito\", i) := runif(nrow(dataset))]\n",
    "  }\n",
    "\n",
    "  campos_buenos <- setdiff(\n",
    "    colnames(dataset),\n",
    "    c( campitos, \"clase01\")\n",
    "  )\n",
    "\n",
    "  azar <- runif(nrow(dataset))\n",
    "\n",
    "  dataset[, entrenamiento :=\n",
    "    as.integer( foto_mes %in% PARAM$CN$train$training &\n",
    "      (clase01 == 1 | azar < PARAM$CN$train$undersampling))]\n",
    "\n",
    "  dtrain <- lgb.Dataset(\n",
    "    data = data.matrix(dataset[entrenamiento == TRUE, campos_buenos, with = FALSE]),\n",
    "    label = dataset[entrenamiento == TRUE, clase01],\n",
    "    weight = dataset[\n",
    "      entrenamiento == TRUE,\n",
    "      ifelse(clase_ternaria %in% PARAM$CN$train$positivos, 1.0000001, 1.0)\n",
    "    ],\n",
    "    free_raw_data = FALSE\n",
    "  )\n",
    "\n",
    "  dvalid <- lgb.Dataset(\n",
    "    data = data.matrix(dataset[foto_mes %in% PARAM$CN$train$validation, campos_buenos, with = FALSE]),\n",
    "    label = dataset[foto_mes %in% PARAM$CN$train$validation, clase01],\n",
    "    weight = dataset[\n",
    "      foto_mes %in% PARAM$CN$train$validation,\n",
    "      ifelse( clase_ternaria %in% PARAM$CN$train$positivos, 1.0000001, 1.0)\n",
    "    ],\n",
    "    free_raw_data = FALSE\n",
    "  )\n",
    "\n",
    "\n",
    "  param <- list(\n",
    "    objective = \"binary\",\n",
    "    metric = \"custom\",\n",
    "    first_metric_only = TRUE,\n",
    "    boost_from_average = TRUE,\n",
    "    feature_pre_filter = FALSE,\n",
    "    verbosity = -100,\n",
    "    seed = canaritos_semilla,\n",
    "    max_depth = -1, # -1 significa no limitar,  por ahora lo dejo fijo\n",
    "    min_gain_to_split = 0.0, # por ahora, lo dejo fijo\n",
    "    lambda_l1 = 0.0, # por ahora, lo dejo fijo\n",
    "    lambda_l2 = 0.0, # por ahora, lo dejo fijo\n",
    "    max_bin = 31, # por ahora, lo dejo fijo\n",
    "    num_iterations = 9999, # un numero grande, lo limita early_stopping_rounds\n",
    "    force_row_wise = TRUE, # para que los alumnos no se atemoricen con  warning\n",
    "    learning_rate = 0.065,\n",
    "    feature_fraction = 1.0, # lo seteo en 1\n",
    "    min_data_in_leaf = 260,\n",
    "    num_leaves = 60,\n",
    "    early_stopping_rounds = 200,\n",
    "    num_threads = 1\n",
    "  )\n",
    "\n",
    "  set.seed(canaritos_semilla, kind = \"L'Ecuyer-CMRG\")\n",
    "  modelo <- lgb.train(\n",
    "    data = dtrain,\n",
    "    valids = list(valid = dvalid),\n",
    "    eval = fganancia_lgbm_meseta,\n",
    "    param = param,\n",
    "    verbose = -100\n",
    "  )\n",
    "\n",
    "  tb_importancia <- lgb.importance(model = modelo)\n",
    "  tb_importancia[, pos := .I]\n",
    "\n",
    "  fwrite(tb_importancia,\n",
    "    file = paste0(\"impo_\", GVEZ, \".txt\"),\n",
    "    sep = \"\\t\"\n",
    "  )\n",
    "\n",
    "  GVEZ <<- GVEZ + 1\n",
    "\n",
    "  umbral <- tb_importancia[\n",
    "    Feature %like% \"canarito\",\n",
    "    median(pos) + canaritos_desvios * sd(pos)\n",
    "  ] # Atencion corto en la mediana mas desvios!!\n",
    "\n",
    "  col_utiles <- tb_importancia[\n",
    "    pos < umbral & !(Feature %like% \"canarito\"),\n",
    "    Feature\n",
    "  ]\n",
    "\n",
    "  col_utiles <- unique(c(\n",
    "    col_utiles,\n",
    "    c(campitos, \"mes\")\n",
    "  ))\n",
    "\n",
    "  col_inutiles <- setdiff(colnames(dataset), col_utiles)\n",
    "\n",
    "  dataset[, (col_inutiles) := NULL]\n",
    "\n",
    "  cat( \"fin CanaritosAsesinos()\\n\")\n",
    "  add_log( \"fin CanaritosAsesinos()\\n\")\n",
    "\n",
    "  return( tb_importancia )\n",
    "}\n"
   ]
  },
  {
   "cell_type": "code",
   "execution_count": 27,
   "id": "9249a815-315c-4695-9f2f-bae196697f70",
   "metadata": {
    "id": "9249a815-315c-4695-9f2f-bae196697f70",
    "vscode": {
     "languageId": "r"
    }
   },
   "outputs": [],
   "source": [
    "# Estos DOS parametros son los que se deben modificar\n",
    "PARAM$CN$ratio <- 0.2\n",
    "PARAM$CN$desvios <- 2\n",
    "\n",
    "\n",
    "# Parametros quasi fijos\n",
    "# Parametros de un LightGBM que se genera para estimar la column importance\n",
    "PARAM$CN$train$clase01_valor1 <- c( \"BAJA+2\", \"BAJA+1\")\n",
    "PARAM$CN$train$positivos <- c( \"BAJA+2\")\n",
    "PARAM$CN$train$training <- c( 202101, 202102, 202103)\n",
    "PARAM$CN$train$validation <- c( 202105 )\n",
    "PARAM$CN$train$undersampling <- 0.1\n",
    "PARAM$CN$train$gan1 <- 117000\n",
    "PARAM$CN$train$gan0 <-  -3000"
   ]
  },
  {
   "cell_type": "code",
   "execution_count": 28,
   "id": "6325e48b-e98f-457e-b099-2dafb9a50101",
   "metadata": {
    "id": "6325e48b-e98f-457e-b099-2dafb9a50101",
    "outputId": "3b0d9beb-c2a1-425a-a62c-e16fcbf0e2cc",
    "vscode": {
     "languageId": "r"
    }
   },
   "outputs": [
    {
     "name": "stdout",
     "output_type": "stream",
     "text": [
      "inicio CanaritosAsesinos()\n",
      "fin CanaritosAsesinos()\n"
     ]
    }
   ],
   "source": [
    "# la llamada a Canaritos Asesinos\n",
    "tb_importancia <- CanaritosAsesinos(\n",
    "  canaritos_ratio = PARAM$CN$ratio,\n",
    "  canaritos_desvios = PARAM$CN$desvios,\n",
    "  canaritos_semilla = PARAM$semilla_primigenia\n",
    ")\n"
   ]
  },
  {
   "cell_type": "code",
   "execution_count": 29,
   "id": "25cc7c43-3515-4035-8d21-8c8469c010a1",
   "metadata": {
    "id": "25cc7c43-3515-4035-8d21-8c8469c010a1",
    "vscode": {
     "languageId": "r"
    }
   },
   "outputs": [],
   "source": [
    "# grabo la importancia, ver el archivo directamente en la carpeta\n",
    "\n",
    "fwrite( tb_importancia,\n",
    "  file=\"canaritos.txt\",\n",
    "  sep=\"\\t\"\n",
    ")"
   ]
  },
  {
   "cell_type": "code",
   "execution_count": 30,
   "id": "24084927-88df-497b-9437-769400f4229b",
   "metadata": {
    "id": "24084927-88df-497b-9437-769400f4229b",
    "outputId": "a4d615c6-0101-4252-8255-2afc89fb6533",
    "vscode": {
     "languageId": "r"
    }
   },
   "outputs": [
    {
     "data": {
      "text/html": [
       "122"
      ],
      "text/latex": [
       "122"
      ],
      "text/markdown": [
       "122"
      ],
      "text/plain": [
       "[1] 122"
      ]
     },
     "metadata": {},
     "output_type": "display_data"
    },
    {
     "data": {
      "text/html": [
       "<style>\n",
       ".list-inline {list-style: none; margin:0; padding: 0}\n",
       ".list-inline>li {display: inline-block}\n",
       ".list-inline>li:not(:last-child)::after {content: \"\\00b7\"; padding: 0 .5ex}\n",
       "</style>\n",
       "<ol class=list-inline><li>'numero_de_cliente'</li><li>'foto_mes'</li><li>'cliente_edad'</li><li>'cliente_antiguedad'</li><li>'mrentabilidad'</li><li>'mrentabilidad_annual'</li><li>'mcomisiones'</li><li>'mactivos_margen'</li><li>'mpasivos_margen'</li><li>'cproductos'</li><li>'mcuenta_corriente'</li><li>'mcaja_ahorro'</li><li>'cdescubierto_preacordado'</li><li>'mcuentas_saldo'</li><li>'ctarjeta_visa_transacciones'</li><li>'mtarjeta_visa_consumo'</li><li>'mtarjeta_master_consumo'</li><li>'mprestamos_personales'</li><li>'cpayroll_trx'</li><li>'mpayroll'</li><li>'ccomisiones_mantenimiento'</li><li>'ccallcenter_transacciones'</li><li>'chomebanking_transacciones'</li><li>'ctrx_quarter'</li><li>'Master_fechaalta'</li><li>'Master_mpagominimo'</li><li>'Visa_status'</li><li>'Visa_fechaalta'</li><li>'Visa_mpagominimo'</li><li>'clase_ternaria'</li><li>'mpayroll_sobre_edad'</li><li>'ctrx_quarter_normalizado'</li><li>'vm_status02'</li><li>'vm_fechaalta'</li><li>'vm_mpagominimo'</li><li>'cliente_edad_lag1'</li><li>'cliente_antiguedad_lag1'</li><li>'mrentabilidad_lag1'</li><li>'mrentabilidad_annual_lag1'</li><li>'mcomisiones_lag1'</li><li>'mactivos_margen_lag1'</li><li>'mpasivos_margen_lag1'</li><li>'cproductos_lag1'</li><li>'mcuenta_corriente_lag1'</li><li>'mcaja_ahorro_lag1'</li><li>'mcuentas_saldo_lag1'</li><li>'ctarjeta_visa_transacciones_lag1'</li><li>'mtarjeta_visa_consumo_lag1'</li><li>'mtarjeta_master_consumo_lag1'</li><li>'mprestamos_personales_lag1'</li><li>'cpayroll_trx_lag1'</li><li>'mpayroll_lag1'</li><li>'ccomisiones_mantenimiento_lag1'</li><li>'chomebanking_transacciones_lag1'</li><li>'ctrx_quarter_lag1'</li><li>'Master_fechaalta_lag1'</li><li>'Master_mpagominimo_lag1'</li><li>'Visa_fechaalta_lag1'</li><li>'Visa_mpagominimo_lag1'</li><li>'mpayroll_sobre_edad_lag1'</li><li>'ctrx_quarter_normalizado_lag1'</li><li>'vm_fechaalta_lag1'</li><li>'vm_mpagominimo_lag1'</li><li>'cliente_edad_lag2'</li><li>'cliente_antiguedad_lag2'</li><li>'mrentabilidad_annual_lag2'</li><li>'mcomisiones_lag2'</li><li>'mactivos_margen_lag2'</li><li>'mpasivos_margen_lag2'</li><li>'cproductos_lag2'</li><li>'mcuenta_corriente_lag2'</li><li>'mcaja_ahorro_lag2'</li><li>'mtarjeta_visa_consumo_lag2'</li><li>'mprestamos_personales_lag2'</li><li>'mpayroll_lag2'</li><li>'ccomisiones_mantenimiento_lag2'</li><li>'chomebanking_transacciones_lag2'</li><li>'ctrx_quarter_lag2'</li><li>'Master_fechaalta_lag2'</li><li>'Master_mpagominimo_lag2'</li><li>'Visa_fechaalta_lag2'</li><li>'Visa_mpagominimo_lag2'</li><li>'mpayroll_sobre_edad_lag2'</li><li>'ctrx_quarter_normalizado_lag2'</li><li>'vm_fechaalta_lag2'</li><li>'vm_mpagominimo_lag2'</li><li>'mrentabilidad_delta1'</li><li>'mrentabilidad_delta2'</li><li>'mrentabilidad_annual_delta1'</li><li>'mrentabilidad_annual_delta2'</li><li>'mcomisiones_delta1'</li><li>'mcomisiones_delta2'</li><li>'mactivos_margen_delta1'</li><li>'mactivos_margen_delta2'</li><li>'mpasivos_margen_delta1'</li><li>'mpasivos_margen_delta2'</li><li>'cproductos_delta1'</li><li>'mcuenta_corriente_delta2'</li><li>'mcaja_ahorro_delta1'</li><li>'mcaja_ahorro_delta2'</li><li>'mcuentas_saldo_delta1'</li><li>'mcuentas_saldo_delta2'</li><li>'ctarjeta_visa_transacciones_delta2'</li><li>'mtarjeta_visa_consumo_delta1'</li><li>'mtarjeta_visa_consumo_delta2'</li><li>'mprestamos_personales_delta2'</li><li>'mpayroll_delta1'</li><li>'mpayroll_delta2'</li><li>'ccomisiones_mantenimiento_delta1'</li><li>'ccomisiones_mantenimiento_delta2'</li><li>'ccallcenter_transacciones_delta2'</li><li>'chomebanking_transacciones_delta1'</li><li>'chomebanking_transacciones_delta2'</li><li>'ctrx_quarter_delta1'</li><li>'ctrx_quarter_delta2'</li><li>'Master_mpagominimo_delta1'</li><li>'Visa_fechaalta_delta2'</li><li>'Visa_mpagominimo_delta2'</li><li>'mpayroll_sobre_edad_delta1'</li><li>'mpayroll_sobre_edad_delta2'</li><li>'ctrx_quarter_normalizado_delta2'</li><li>'vm_mpagominimo_delta2'</li></ol>\n"
      ],
      "text/latex": [
       "\\begin{enumerate*}\n",
       "\\item 'numero\\_de\\_cliente'\n",
       "\\item 'foto\\_mes'\n",
       "\\item 'cliente\\_edad'\n",
       "\\item 'cliente\\_antiguedad'\n",
       "\\item 'mrentabilidad'\n",
       "\\item 'mrentabilidad\\_annual'\n",
       "\\item 'mcomisiones'\n",
       "\\item 'mactivos\\_margen'\n",
       "\\item 'mpasivos\\_margen'\n",
       "\\item 'cproductos'\n",
       "\\item 'mcuenta\\_corriente'\n",
       "\\item 'mcaja\\_ahorro'\n",
       "\\item 'cdescubierto\\_preacordado'\n",
       "\\item 'mcuentas\\_saldo'\n",
       "\\item 'ctarjeta\\_visa\\_transacciones'\n",
       "\\item 'mtarjeta\\_visa\\_consumo'\n",
       "\\item 'mtarjeta\\_master\\_consumo'\n",
       "\\item 'mprestamos\\_personales'\n",
       "\\item 'cpayroll\\_trx'\n",
       "\\item 'mpayroll'\n",
       "\\item 'ccomisiones\\_mantenimiento'\n",
       "\\item 'ccallcenter\\_transacciones'\n",
       "\\item 'chomebanking\\_transacciones'\n",
       "\\item 'ctrx\\_quarter'\n",
       "\\item 'Master\\_fechaalta'\n",
       "\\item 'Master\\_mpagominimo'\n",
       "\\item 'Visa\\_status'\n",
       "\\item 'Visa\\_fechaalta'\n",
       "\\item 'Visa\\_mpagominimo'\n",
       "\\item 'clase\\_ternaria'\n",
       "\\item 'mpayroll\\_sobre\\_edad'\n",
       "\\item 'ctrx\\_quarter\\_normalizado'\n",
       "\\item 'vm\\_status02'\n",
       "\\item 'vm\\_fechaalta'\n",
       "\\item 'vm\\_mpagominimo'\n",
       "\\item 'cliente\\_edad\\_lag1'\n",
       "\\item 'cliente\\_antiguedad\\_lag1'\n",
       "\\item 'mrentabilidad\\_lag1'\n",
       "\\item 'mrentabilidad\\_annual\\_lag1'\n",
       "\\item 'mcomisiones\\_lag1'\n",
       "\\item 'mactivos\\_margen\\_lag1'\n",
       "\\item 'mpasivos\\_margen\\_lag1'\n",
       "\\item 'cproductos\\_lag1'\n",
       "\\item 'mcuenta\\_corriente\\_lag1'\n",
       "\\item 'mcaja\\_ahorro\\_lag1'\n",
       "\\item 'mcuentas\\_saldo\\_lag1'\n",
       "\\item 'ctarjeta\\_visa\\_transacciones\\_lag1'\n",
       "\\item 'mtarjeta\\_visa\\_consumo\\_lag1'\n",
       "\\item 'mtarjeta\\_master\\_consumo\\_lag1'\n",
       "\\item 'mprestamos\\_personales\\_lag1'\n",
       "\\item 'cpayroll\\_trx\\_lag1'\n",
       "\\item 'mpayroll\\_lag1'\n",
       "\\item 'ccomisiones\\_mantenimiento\\_lag1'\n",
       "\\item 'chomebanking\\_transacciones\\_lag1'\n",
       "\\item 'ctrx\\_quarter\\_lag1'\n",
       "\\item 'Master\\_fechaalta\\_lag1'\n",
       "\\item 'Master\\_mpagominimo\\_lag1'\n",
       "\\item 'Visa\\_fechaalta\\_lag1'\n",
       "\\item 'Visa\\_mpagominimo\\_lag1'\n",
       "\\item 'mpayroll\\_sobre\\_edad\\_lag1'\n",
       "\\item 'ctrx\\_quarter\\_normalizado\\_lag1'\n",
       "\\item 'vm\\_fechaalta\\_lag1'\n",
       "\\item 'vm\\_mpagominimo\\_lag1'\n",
       "\\item 'cliente\\_edad\\_lag2'\n",
       "\\item 'cliente\\_antiguedad\\_lag2'\n",
       "\\item 'mrentabilidad\\_annual\\_lag2'\n",
       "\\item 'mcomisiones\\_lag2'\n",
       "\\item 'mactivos\\_margen\\_lag2'\n",
       "\\item 'mpasivos\\_margen\\_lag2'\n",
       "\\item 'cproductos\\_lag2'\n",
       "\\item 'mcuenta\\_corriente\\_lag2'\n",
       "\\item 'mcaja\\_ahorro\\_lag2'\n",
       "\\item 'mtarjeta\\_visa\\_consumo\\_lag2'\n",
       "\\item 'mprestamos\\_personales\\_lag2'\n",
       "\\item 'mpayroll\\_lag2'\n",
       "\\item 'ccomisiones\\_mantenimiento\\_lag2'\n",
       "\\item 'chomebanking\\_transacciones\\_lag2'\n",
       "\\item 'ctrx\\_quarter\\_lag2'\n",
       "\\item 'Master\\_fechaalta\\_lag2'\n",
       "\\item 'Master\\_mpagominimo\\_lag2'\n",
       "\\item 'Visa\\_fechaalta\\_lag2'\n",
       "\\item 'Visa\\_mpagominimo\\_lag2'\n",
       "\\item 'mpayroll\\_sobre\\_edad\\_lag2'\n",
       "\\item 'ctrx\\_quarter\\_normalizado\\_lag2'\n",
       "\\item 'vm\\_fechaalta\\_lag2'\n",
       "\\item 'vm\\_mpagominimo\\_lag2'\n",
       "\\item 'mrentabilidad\\_delta1'\n",
       "\\item 'mrentabilidad\\_delta2'\n",
       "\\item 'mrentabilidad\\_annual\\_delta1'\n",
       "\\item 'mrentabilidad\\_annual\\_delta2'\n",
       "\\item 'mcomisiones\\_delta1'\n",
       "\\item 'mcomisiones\\_delta2'\n",
       "\\item 'mactivos\\_margen\\_delta1'\n",
       "\\item 'mactivos\\_margen\\_delta2'\n",
       "\\item 'mpasivos\\_margen\\_delta1'\n",
       "\\item 'mpasivos\\_margen\\_delta2'\n",
       "\\item 'cproductos\\_delta1'\n",
       "\\item 'mcuenta\\_corriente\\_delta2'\n",
       "\\item 'mcaja\\_ahorro\\_delta1'\n",
       "\\item 'mcaja\\_ahorro\\_delta2'\n",
       "\\item 'mcuentas\\_saldo\\_delta1'\n",
       "\\item 'mcuentas\\_saldo\\_delta2'\n",
       "\\item 'ctarjeta\\_visa\\_transacciones\\_delta2'\n",
       "\\item 'mtarjeta\\_visa\\_consumo\\_delta1'\n",
       "\\item 'mtarjeta\\_visa\\_consumo\\_delta2'\n",
       "\\item 'mprestamos\\_personales\\_delta2'\n",
       "\\item 'mpayroll\\_delta1'\n",
       "\\item 'mpayroll\\_delta2'\n",
       "\\item 'ccomisiones\\_mantenimiento\\_delta1'\n",
       "\\item 'ccomisiones\\_mantenimiento\\_delta2'\n",
       "\\item 'ccallcenter\\_transacciones\\_delta2'\n",
       "\\item 'chomebanking\\_transacciones\\_delta1'\n",
       "\\item 'chomebanking\\_transacciones\\_delta2'\n",
       "\\item 'ctrx\\_quarter\\_delta1'\n",
       "\\item 'ctrx\\_quarter\\_delta2'\n",
       "\\item 'Master\\_mpagominimo\\_delta1'\n",
       "\\item 'Visa\\_fechaalta\\_delta2'\n",
       "\\item 'Visa\\_mpagominimo\\_delta2'\n",
       "\\item 'mpayroll\\_sobre\\_edad\\_delta1'\n",
       "\\item 'mpayroll\\_sobre\\_edad\\_delta2'\n",
       "\\item 'ctrx\\_quarter\\_normalizado\\_delta2'\n",
       "\\item 'vm\\_mpagominimo\\_delta2'\n",
       "\\end{enumerate*}\n"
      ],
      "text/markdown": [
       "1. 'numero_de_cliente'\n",
       "2. 'foto_mes'\n",
       "3. 'cliente_edad'\n",
       "4. 'cliente_antiguedad'\n",
       "5. 'mrentabilidad'\n",
       "6. 'mrentabilidad_annual'\n",
       "7. 'mcomisiones'\n",
       "8. 'mactivos_margen'\n",
       "9. 'mpasivos_margen'\n",
       "10. 'cproductos'\n",
       "11. 'mcuenta_corriente'\n",
       "12. 'mcaja_ahorro'\n",
       "13. 'cdescubierto_preacordado'\n",
       "14. 'mcuentas_saldo'\n",
       "15. 'ctarjeta_visa_transacciones'\n",
       "16. 'mtarjeta_visa_consumo'\n",
       "17. 'mtarjeta_master_consumo'\n",
       "18. 'mprestamos_personales'\n",
       "19. 'cpayroll_trx'\n",
       "20. 'mpayroll'\n",
       "21. 'ccomisiones_mantenimiento'\n",
       "22. 'ccallcenter_transacciones'\n",
       "23. 'chomebanking_transacciones'\n",
       "24. 'ctrx_quarter'\n",
       "25. 'Master_fechaalta'\n",
       "26. 'Master_mpagominimo'\n",
       "27. 'Visa_status'\n",
       "28. 'Visa_fechaalta'\n",
       "29. 'Visa_mpagominimo'\n",
       "30. 'clase_ternaria'\n",
       "31. 'mpayroll_sobre_edad'\n",
       "32. 'ctrx_quarter_normalizado'\n",
       "33. 'vm_status02'\n",
       "34. 'vm_fechaalta'\n",
       "35. 'vm_mpagominimo'\n",
       "36. 'cliente_edad_lag1'\n",
       "37. 'cliente_antiguedad_lag1'\n",
       "38. 'mrentabilidad_lag1'\n",
       "39. 'mrentabilidad_annual_lag1'\n",
       "40. 'mcomisiones_lag1'\n",
       "41. 'mactivos_margen_lag1'\n",
       "42. 'mpasivos_margen_lag1'\n",
       "43. 'cproductos_lag1'\n",
       "44. 'mcuenta_corriente_lag1'\n",
       "45. 'mcaja_ahorro_lag1'\n",
       "46. 'mcuentas_saldo_lag1'\n",
       "47. 'ctarjeta_visa_transacciones_lag1'\n",
       "48. 'mtarjeta_visa_consumo_lag1'\n",
       "49. 'mtarjeta_master_consumo_lag1'\n",
       "50. 'mprestamos_personales_lag1'\n",
       "51. 'cpayroll_trx_lag1'\n",
       "52. 'mpayroll_lag1'\n",
       "53. 'ccomisiones_mantenimiento_lag1'\n",
       "54. 'chomebanking_transacciones_lag1'\n",
       "55. 'ctrx_quarter_lag1'\n",
       "56. 'Master_fechaalta_lag1'\n",
       "57. 'Master_mpagominimo_lag1'\n",
       "58. 'Visa_fechaalta_lag1'\n",
       "59. 'Visa_mpagominimo_lag1'\n",
       "60. 'mpayroll_sobre_edad_lag1'\n",
       "61. 'ctrx_quarter_normalizado_lag1'\n",
       "62. 'vm_fechaalta_lag1'\n",
       "63. 'vm_mpagominimo_lag1'\n",
       "64. 'cliente_edad_lag2'\n",
       "65. 'cliente_antiguedad_lag2'\n",
       "66. 'mrentabilidad_annual_lag2'\n",
       "67. 'mcomisiones_lag2'\n",
       "68. 'mactivos_margen_lag2'\n",
       "69. 'mpasivos_margen_lag2'\n",
       "70. 'cproductos_lag2'\n",
       "71. 'mcuenta_corriente_lag2'\n",
       "72. 'mcaja_ahorro_lag2'\n",
       "73. 'mtarjeta_visa_consumo_lag2'\n",
       "74. 'mprestamos_personales_lag2'\n",
       "75. 'mpayroll_lag2'\n",
       "76. 'ccomisiones_mantenimiento_lag2'\n",
       "77. 'chomebanking_transacciones_lag2'\n",
       "78. 'ctrx_quarter_lag2'\n",
       "79. 'Master_fechaalta_lag2'\n",
       "80. 'Master_mpagominimo_lag2'\n",
       "81. 'Visa_fechaalta_lag2'\n",
       "82. 'Visa_mpagominimo_lag2'\n",
       "83. 'mpayroll_sobre_edad_lag2'\n",
       "84. 'ctrx_quarter_normalizado_lag2'\n",
       "85. 'vm_fechaalta_lag2'\n",
       "86. 'vm_mpagominimo_lag2'\n",
       "87. 'mrentabilidad_delta1'\n",
       "88. 'mrentabilidad_delta2'\n",
       "89. 'mrentabilidad_annual_delta1'\n",
       "90. 'mrentabilidad_annual_delta2'\n",
       "91. 'mcomisiones_delta1'\n",
       "92. 'mcomisiones_delta2'\n",
       "93. 'mactivos_margen_delta1'\n",
       "94. 'mactivos_margen_delta2'\n",
       "95. 'mpasivos_margen_delta1'\n",
       "96. 'mpasivos_margen_delta2'\n",
       "97. 'cproductos_delta1'\n",
       "98. 'mcuenta_corriente_delta2'\n",
       "99. 'mcaja_ahorro_delta1'\n",
       "100. 'mcaja_ahorro_delta2'\n",
       "101. 'mcuentas_saldo_delta1'\n",
       "102. 'mcuentas_saldo_delta2'\n",
       "103. 'ctarjeta_visa_transacciones_delta2'\n",
       "104. 'mtarjeta_visa_consumo_delta1'\n",
       "105. 'mtarjeta_visa_consumo_delta2'\n",
       "106. 'mprestamos_personales_delta2'\n",
       "107. 'mpayroll_delta1'\n",
       "108. 'mpayroll_delta2'\n",
       "109. 'ccomisiones_mantenimiento_delta1'\n",
       "110. 'ccomisiones_mantenimiento_delta2'\n",
       "111. 'ccallcenter_transacciones_delta2'\n",
       "112. 'chomebanking_transacciones_delta1'\n",
       "113. 'chomebanking_transacciones_delta2'\n",
       "114. 'ctrx_quarter_delta1'\n",
       "115. 'ctrx_quarter_delta2'\n",
       "116. 'Master_mpagominimo_delta1'\n",
       "117. 'Visa_fechaalta_delta2'\n",
       "118. 'Visa_mpagominimo_delta2'\n",
       "119. 'mpayroll_sobre_edad_delta1'\n",
       "120. 'mpayroll_sobre_edad_delta2'\n",
       "121. 'ctrx_quarter_normalizado_delta2'\n",
       "122. 'vm_mpagominimo_delta2'\n",
       "\n",
       "\n"
      ],
      "text/plain": [
       "  [1] \"numero_de_cliente\"                  \"foto_mes\"                          \n",
       "  [3] \"cliente_edad\"                       \"cliente_antiguedad\"                \n",
       "  [5] \"mrentabilidad\"                      \"mrentabilidad_annual\"              \n",
       "  [7] \"mcomisiones\"                        \"mactivos_margen\"                   \n",
       "  [9] \"mpasivos_margen\"                    \"cproductos\"                        \n",
       " [11] \"mcuenta_corriente\"                  \"mcaja_ahorro\"                      \n",
       " [13] \"cdescubierto_preacordado\"           \"mcuentas_saldo\"                    \n",
       " [15] \"ctarjeta_visa_transacciones\"        \"mtarjeta_visa_consumo\"             \n",
       " [17] \"mtarjeta_master_consumo\"            \"mprestamos_personales\"             \n",
       " [19] \"cpayroll_trx\"                       \"mpayroll\"                          \n",
       " [21] \"ccomisiones_mantenimiento\"          \"ccallcenter_transacciones\"         \n",
       " [23] \"chomebanking_transacciones\"         \"ctrx_quarter\"                      \n",
       " [25] \"Master_fechaalta\"                   \"Master_mpagominimo\"                \n",
       " [27] \"Visa_status\"                        \"Visa_fechaalta\"                    \n",
       " [29] \"Visa_mpagominimo\"                   \"clase_ternaria\"                    \n",
       " [31] \"mpayroll_sobre_edad\"                \"ctrx_quarter_normalizado\"          \n",
       " [33] \"vm_status02\"                        \"vm_fechaalta\"                      \n",
       " [35] \"vm_mpagominimo\"                     \"cliente_edad_lag1\"                 \n",
       " [37] \"cliente_antiguedad_lag1\"            \"mrentabilidad_lag1\"                \n",
       " [39] \"mrentabilidad_annual_lag1\"          \"mcomisiones_lag1\"                  \n",
       " [41] \"mactivos_margen_lag1\"               \"mpasivos_margen_lag1\"              \n",
       " [43] \"cproductos_lag1\"                    \"mcuenta_corriente_lag1\"            \n",
       " [45] \"mcaja_ahorro_lag1\"                  \"mcuentas_saldo_lag1\"               \n",
       " [47] \"ctarjeta_visa_transacciones_lag1\"   \"mtarjeta_visa_consumo_lag1\"        \n",
       " [49] \"mtarjeta_master_consumo_lag1\"       \"mprestamos_personales_lag1\"        \n",
       " [51] \"cpayroll_trx_lag1\"                  \"mpayroll_lag1\"                     \n",
       " [53] \"ccomisiones_mantenimiento_lag1\"     \"chomebanking_transacciones_lag1\"   \n",
       " [55] \"ctrx_quarter_lag1\"                  \"Master_fechaalta_lag1\"             \n",
       " [57] \"Master_mpagominimo_lag1\"            \"Visa_fechaalta_lag1\"               \n",
       " [59] \"Visa_mpagominimo_lag1\"              \"mpayroll_sobre_edad_lag1\"          \n",
       " [61] \"ctrx_quarter_normalizado_lag1\"      \"vm_fechaalta_lag1\"                 \n",
       " [63] \"vm_mpagominimo_lag1\"                \"cliente_edad_lag2\"                 \n",
       " [65] \"cliente_antiguedad_lag2\"            \"mrentabilidad_annual_lag2\"         \n",
       " [67] \"mcomisiones_lag2\"                   \"mactivos_margen_lag2\"              \n",
       " [69] \"mpasivos_margen_lag2\"               \"cproductos_lag2\"                   \n",
       " [71] \"mcuenta_corriente_lag2\"             \"mcaja_ahorro_lag2\"                 \n",
       " [73] \"mtarjeta_visa_consumo_lag2\"         \"mprestamos_personales_lag2\"        \n",
       " [75] \"mpayroll_lag2\"                      \"ccomisiones_mantenimiento_lag2\"    \n",
       " [77] \"chomebanking_transacciones_lag2\"    \"ctrx_quarter_lag2\"                 \n",
       " [79] \"Master_fechaalta_lag2\"              \"Master_mpagominimo_lag2\"           \n",
       " [81] \"Visa_fechaalta_lag2\"                \"Visa_mpagominimo_lag2\"             \n",
       " [83] \"mpayroll_sobre_edad_lag2\"           \"ctrx_quarter_normalizado_lag2\"     \n",
       " [85] \"vm_fechaalta_lag2\"                  \"vm_mpagominimo_lag2\"               \n",
       " [87] \"mrentabilidad_delta1\"               \"mrentabilidad_delta2\"              \n",
       " [89] \"mrentabilidad_annual_delta1\"        \"mrentabilidad_annual_delta2\"       \n",
       " [91] \"mcomisiones_delta1\"                 \"mcomisiones_delta2\"                \n",
       " [93] \"mactivos_margen_delta1\"             \"mactivos_margen_delta2\"            \n",
       " [95] \"mpasivos_margen_delta1\"             \"mpasivos_margen_delta2\"            \n",
       " [97] \"cproductos_delta1\"                  \"mcuenta_corriente_delta2\"          \n",
       " [99] \"mcaja_ahorro_delta1\"                \"mcaja_ahorro_delta2\"               \n",
       "[101] \"mcuentas_saldo_delta1\"              \"mcuentas_saldo_delta2\"             \n",
       "[103] \"ctarjeta_visa_transacciones_delta2\" \"mtarjeta_visa_consumo_delta1\"      \n",
       "[105] \"mtarjeta_visa_consumo_delta2\"       \"mprestamos_personales_delta2\"      \n",
       "[107] \"mpayroll_delta1\"                    \"mpayroll_delta2\"                   \n",
       "[109] \"ccomisiones_mantenimiento_delta1\"   \"ccomisiones_mantenimiento_delta2\"  \n",
       "[111] \"ccallcenter_transacciones_delta2\"   \"chomebanking_transacciones_delta1\" \n",
       "[113] \"chomebanking_transacciones_delta2\"  \"ctrx_quarter_delta1\"               \n",
       "[115] \"ctrx_quarter_delta2\"                \"Master_mpagominimo_delta1\"         \n",
       "[117] \"Visa_fechaalta_delta2\"              \"Visa_mpagominimo_delta2\"           \n",
       "[119] \"mpayroll_sobre_edad_delta1\"         \"mpayroll_sobre_edad_delta2\"        \n",
       "[121] \"ctrx_quarter_normalizado_delta2\"    \"vm_mpagominimo_delta2\"             "
      ]
     },
     "metadata": {},
     "output_type": "display_data"
    }
   ],
   "source": [
    "# verifico\n",
    "ncol(dataset)\n",
    "colnames(dataset)\n",
    "\n",
    "add_log(ncol(dataset))"
   ]
  },
  {
   "cell_type": "code",
   "execution_count": null,
   "id": "30319ea3-8818-4e30-9eb7-ddc651c4a324",
   "metadata": {
    "id": "30319ea3-8818-4e30-9eb7-ddc651c4a324",
    "outputId": "c81b9163-65e0-43ac-a675-63b85bc74f0d"
   },
   "outputs": [],
   "source": [
    "# Install and load required packages\n",
    "if (!require(\"GA\")) install.packages(\"GA\")\n",
    "if (!require(\"dplyr\")) install.packages(\"dplyr\")\n",
    "library(GA)\n",
    "library(dplyr)"
   ]
  },
  {
   "cell_type": "code",
   "execution_count": null,
   "id": "e246cdbe-583e-453e-98a9-78c66bfe3866",
   "metadata": {
    "id": "e246cdbe-583e-453e-98a9-78c66bfe3866"
   },
   "outputs": [],
   "source": [
    "campos_a_omitir = c('numero_de_cliente','foto_mes','azar')"
   ]
  },
  {
   "cell_type": "code",
   "execution_count": null,
   "id": "173bd02b-fd0b-4ebe-90c3-9278e14ab6be",
   "metadata": {
    "id": "173bd02b-fd0b-4ebe-90c3-9278e14ab6be",
    "outputId": "9da2f5b1-3fda-4b46-ae85-0a13356cc1e9"
   },
   "outputs": [],
   "source": [
    "campos_monetarios <- colnames(dataset)\n",
    "campos_monetarios <- campos_monetarios[campos_monetarios %like%\n",
    "  \"^(m|Visa_m|Master_m|vm_m)\"]\n",
    "\n",
    "campos_monetarios"
   ]
  },
  {
   "cell_type": "code",
   "execution_count": null,
   "id": "272e152f-ac70-4f4d-8710-a6b81a679c0f",
   "metadata": {
    "id": "272e152f-ac70-4f4d-8710-a6b81a679c0f",
    "outputId": "af205499-48d4-4da1-b8b6-0e337585a82d"
   },
   "outputs": [],
   "source": [
    "campos_rf <- colnames(dataset)\n",
    "campos_rf <- campos_rf[campos_rf %like%\n",
    "  \"^rf\"]\n",
    "campos_rf"
   ]
  },
  {
   "cell_type": "code",
   "execution_count": null,
   "id": "3576eb6e-7a25-4680-a9d2-e8013b3f5a58",
   "metadata": {
    "id": "3576eb6e-7a25-4680-a9d2-e8013b3f5a58",
    "outputId": "1081e215-4ebc-44e1-e9f8-bbe3646deeb5"
   },
   "outputs": [],
   "source": [
    "campos_lag <- colnames(dataset)\n",
    "campos_lag <- campos_lag[campos_lag %like%\n",
    "  \"(lag|delta).$\"]\n",
    "campos_lag <- campos_lag[!campos_lag %in% campos_monetarios]\n",
    "campos_lag"
   ]
  },
  {
   "cell_type": "code",
   "execution_count": null,
   "id": "cceaa838-6d2c-4809-bd21-826d0a16fbd3",
   "metadata": {
    "id": "cceaa838-6d2c-4809-bd21-826d0a16fbd3"
   },
   "outputs": [],
   "source": [
    "is_bool_column <- function(columname) {\n",
    "    tryCatch({\n",
    "      if (class(max(dataset[[columname]])) %in% c('numeric', 'integer')){\n",
    "      maxx = max(dataset[[columname]])\n",
    "      minn = min(dataset[[columname]])\n",
    "      return ((maxx - minn) == 1)\n",
    "} else{\n",
    "          return (FALSE)\n",
    "  }\n",
    "}, error = function(e){\n",
    "        FALSE\n",
    "})}\n",
    "\n",
    "get_non_bool_cols <- function(dataset) {\n",
    "  all_cols <-ames(dataset)\n",
    "  bool_cols <- sapply(all_cols, function(col) is_bool_column(dataset, col))\n",
    "  return(all_cols[!bool_cols])\n",
    "}\n"
   ]
  },
  {
   "cell_type": "code",
   "execution_count": null,
   "id": "ba197991-e286-4780-bfd1-3222b9e44b56",
   "metadata": {
    "id": "ba197991-e286-4780-bfd1-3222b9e44b56"
   },
   "outputs": [],
   "source": [
    "campos_int <- colnames(dataset)\n",
    "campos_int <- campos_int[!campos_int %in% c(campos_a_omitir, campos_monetarios, campos_lag, campos_rf)]\n",
    "campos_int <- campos_int[!sapply(campos_int,is_bool_column)]\n",
    "campos_int = na.omit(campos_int)\n"
   ]
  },
  {
   "cell_type": "code",
   "execution_count": null,
   "id": "bc1759e2-2207-4bf4-9c0b-2135201572df",
   "metadata": {
    "id": "bc1759e2-2207-4bf4-9c0b-2135201572df",
    "outputId": "743eb771-493d-4846-caf3-3d4c5adc51f7"
   },
   "outputs": [],
   "source": [
    "campos_lag\n",
    "campos_int\n",
    "campos_rf\n",
    "campos_monetarios"
   ]
  },
  {
   "cell_type": "code",
   "execution_count": null,
   "id": "8a5d3788-c9fa-4131-aa36-4fecae06c598",
   "metadata": {
    "id": "8a5d3788-c9fa-4131-aa36-4fecae06c598",
    "outputId": "43051feb-23c4-4e05-d9e7-d42e568a908f"
   },
   "outputs": [],
   "source": [
    "colnames(dataset)"
   ]
  },
  {
   "cell_type": "code",
   "execution_count": null,
   "id": "bf647c64-4af2-41c4-989d-d0789da16128",
   "metadata": {
    "id": "bf647c64-4af2-41c4-989d-d0789da16128"
   },
   "outputs": [],
   "source": []
  },
  {
   "cell_type": "markdown",
   "id": "e2d3d60e-9934-4aab-befe-5c0009148abb",
   "metadata": {
    "id": "e2d3d60e-9934-4aab-befe-5c0009148abb"
   },
   "source": [
    "# Genetic Algorithm"
   ]
  },
  {
   "cell_type": "markdown",
   "id": "208399ac-efc6-4327-9229-809b5eb9f51a",
   "metadata": {
    "id": "208399ac-efc6-4327-9229-809b5eb9f51a"
   },
   "source": [
    "## GA Test"
   ]
  },
  {
   "cell_type": "code",
   "execution_count": null,
   "id": "5cba0808-ec21-4863-848f-5da11f50a371",
   "metadata": {
    "colab": {
     "base_uri": "https://localhost:8080/"
    },
    "id": "5cba0808-ec21-4863-848f-5da11f50a371",
    "outputId": "b3ed4d8d-e46d-40e4-dfbc-6cfd7ce2169b"
   },
   "outputs": [],
   "source": [
    "#if( !require(\"rgenoud\")) install.packages(\"rgenoud\")\n",
    "if( !require(\"gramEvol\")) install.packages(\"gramEvol\")\n",
    "if( !require(\"GA\")) install.packages(\"GA\")"
   ]
  },
  {
   "cell_type": "code",
   "execution_count": null,
   "id": "47ed32ec-24cd-4ade-b39e-a1c99c12c367",
   "metadata": {
    "colab": {
     "base_uri": "https://localhost:8080/",
     "height": 306
    },
    "id": "47ed32ec-24cd-4ade-b39e-a1c99c12c367",
    "outputId": "4e1f842b-be47-402e-b904-c0acc3fba12b"
   },
   "outputs": [],
   "source": []
  },
  {
   "cell_type": "code",
   "execution_count": null,
   "id": "91061886-74c4-42c3-93b7-927100cbff49",
   "metadata": {
    "id": "91061886-74c4-42c3-93b7-927100cbff49"
   },
   "outputs": [],
   "source": [
    "safeEval <- function(expr) {\n",
    "  val <- try(eval(parse(text = expr), envir = dataset), silent = TRUE)\n",
    "  #if (inherits(val, \"try-error\") || any(is.nan(val)) || any(is.infinite(val))) {\n",
    "  #  return(rep(NA, nrow(df)))\n",
    "  #}\n",
    "  val\n",
    "}\n"
   ]
  },
  {
   "cell_type": "code",
   "execution_count": null,
   "id": "faa52a34-9dc8-4bb8-b3a5-e968d4e2dd6a",
   "metadata": {
    "colab": {
     "base_uri": "https://localhost:8080/",
     "height": 393
    },
    "id": "faa52a34-9dc8-4bb8-b3a5-e968d4e2dd6a",
    "outputId": "e7c034c1-0573-48d4-e83d-a9f5d8e150af"
   },
   "outputs": [],
   "source": [
    "# Grammar definition\n",
    "grammarDef <- CreateGrammar(list(\n",
    "  expr = gsrule(\"dataset[,<m_var>]/dataset[,<i_var>]\",\"dataset[,<i_var>]/dataset[,<i_var>]\",\"dataset[,<m_var>]+dataset[,<i_var>]\"),\n",
    "  m_var  = gvrule(setdiff(campos_monetarios,c(\"clase_ternaria\",\"clase01\",\"foto_mes\"))),\n",
    "  i_var  = gvrule(setdiff(campos_int,c(\"clase_ternaria\",\"clase01\",\"foto_mes\")))\n",
    "                                )\n",
    "                           )\n",
    "\n",
    "\n",
    "# Function to generate a new column from grammar\n",
    "generate_column <- function() {\n",
    "  expr_str <- GrammarRandomExpression(grammarDef, startSymb = GrammarStartSymbol(grammarDef))\n",
    "  # Evaluate the generated expression\n",
    "  val <- safeEval(expr_str)\n",
    "  coln = gsub(\"dataset\",\"\",parse(text=expr_str))\n",
    "  coln = gsub(\"\\\\[\",\"\",coln)\n",
    "  coln = gsub(\"\\\\]\",\"\",coln)\n",
    "  coln = gsub(\", \",\"\",coln)\n",
    "  coln = gsub(\"\\\"\",\"\",coln)\n",
    "  print(coln)\n",
    "  d = data.table(val)\n",
    "  colnames(d) = c(coln)\n",
    "  return(d)\n",
    "}"
   ]
  },
  {
   "cell_type": "code",
   "execution_count": null,
   "id": "19ca27ef-42b9-4d15-8595-274b62dccb6a",
   "metadata": {},
   "outputs": [],
   "source": [
    "generations = 5\n",
    "gen_columns <- 50\n",
    "\n",
    "for (g in 1:generations){\n",
    "for (i in 1:gen_columns) {\n",
    "  new_col <- generate_column()\n",
    "  dataset = cbind(dataset,new_col)\n",
    "}}\n",
    "\n",
    "head(dataset)"
   ]
  },
  {
   "cell_type": "code",
   "execution_count": null,
   "id": "b1be3292-4091-44d7-9de8-cb6dafbc931b",
   "metadata": {},
   "outputs": [],
   "source": [
    "# Esta es la parte que los alumnos deben desplegar todo su ingenio\n",
    "# Agregar aqui sus PROPIAS VARIABLES manuales\n",
    "\n",
    "limpiar_inf <- function(dataset_genetico) {\n",
    "  cat( \"inicio AgregarVariables_IntraMes()\\n\")\n",
    "  add_log( \"inicio AgregarVariables_IntraMes()\\n\")\n",
    "  gc(verbose= FALSE)\n",
    "  # INICIO de la seccion donde se deben hacer cambios con variables nuevas\n",
    "\n",
    "  # valvula de seguridad para evitar valores infinitos\n",
    "  # paso los infinitos a NULOS\n",
    "  infinitos <- lapply(\n",
    "    names(dataset),\n",
    "    function(.name) dataset[, sum(is.infinite(get(.name)))]\n",
    "  )\n",
    "\n",
    "  infinitos_qty <- sum(unlist(infinitos))\n",
    "  if (infinitos_qty > 0) {\n",
    "    cat(\n",
    "      \"ATENCION, hay\", infinitos_qty,\n",
    "      \"valores infinitos en tu dataset. Seran pasados a NA\\n\"\n",
    "    )\n",
    "        add_log(paste0(\n",
    "      \"ATENCION, hay \", infinitos_qty,\n",
    "      \"valores infinitos en tu dataset. Seran pasados a NA\\n\")\n",
    "    )\n",
    "\n",
    "    dataset[mapply(is.infinite, dataset)] <<- NA\n",
    "  }\n",
    "\n",
    "\n",
    "  # valvula de seguridad para evitar valores NaN  que es 0/0\n",
    "  # paso los NaN a 0 , decision polemica si las hay\n",
    "  # se invita a asignar un valor razonable segun la semantica del campo creado\n",
    "  nans <- lapply(\n",
    "    names(dataset),\n",
    "    function(.name) dataset[, sum(is.nan(get(.name)))]\n",
    "  )\n",
    "\n",
    "  nans_qty <- sum(unlist(nans))\n",
    "  if (nans_qty > 0) {\n",
    "    cat(\n",
    "      \"ATENCION, hay\", nans_qty,\n",
    "      \"valores NaN 0/0 en tu dataset. Seran pasados arbitrariamente a 0\\n\"\n",
    "    )\n",
    "\n",
    "    add_log(\n",
    "      paste0(\"ATENCION, hay\", nans_qty,\n",
    "      \"valores NaN 0/0 en tu dataset. Seran pasados arbitrariamente a 0\\n\"\n",
    "    ))\n",
    "\n",
    "    cat(\"Si no te gusta la decision, modifica a gusto el programa!\\n\\n\")\n",
    "    add_log(\"Si no te gusta la decision, modifica a gusto el programa!\\n\\n\")\n",
    "\n",
    "\n",
    "    dataset[mapply(is.nan, dataset)] <<- 0\n",
    "  }\n",
    "\n",
    "  cat( \"fin AgregarVariables_IntraMes()\\n\")\n",
    "  add_log( \"fin AgregarVariables_IntraMes()\\n\")\n",
    "}\n",
    "limpiar_inf(dataset)"
   ]
  },
  {
   "cell_type": "code",
   "execution_count": 46,
   "id": "fc77eb97-1714-4d09-b779-40910f308deb",
   "metadata": {
    "colab": {
     "base_uri": "https://localhost:8080/"
    },
    "id": "fc77eb97-1714-4d09-b779-40910f308deb",
    "outputId": "adfca225-e36e-4b50-c644-a199bf31af28"
   },
   "outputs": [
    {
     "name": "stdout",
     "output_type": "stream",
     "text": [
      "inicio CanaritosAsesinos()\n",
      "fin CanaritosAsesinos()\n"
     ]
    }
   ],
   "source": [
    "tb_importancia <- CanaritosAsesinos(\n",
    "  canaritos_ratio = PARAM$CN$ratio,\n",
    "  canaritos_desvios = PARAM$CN$desvios,\n",
    "  canaritos_semilla = PARAM$semilla_primigenia\n",
    ")\n"
   ]
  },
  {
   "cell_type": "code",
   "execution_count": 47,
   "id": "9f8f25cd-b1da-42f0-8455-030a1ffb06db",
   "metadata": {
    "colab": {
     "base_uri": "https://localhost:8080/",
     "height": 1000
    },
    "id": "9f8f25cd-b1da-42f0-8455-030a1ffb06db",
    "outputId": "d33c3a66-975d-419e-9c79-d843c79020b2"
   },
   "outputs": [
    {
     "data": {
      "text/html": [
       "<table class=\"dataframe\">\n",
       "<caption>A data.table: 237 × 5</caption>\n",
       "<thead>\n",
       "\t<tr><th scope=col>Feature</th><th scope=col>Gain</th><th scope=col>Cover</th><th scope=col>Frequency</th><th scope=col>pos</th></tr>\n",
       "\t<tr><th scope=col>&lt;chr&gt;</th><th scope=col>&lt;dbl&gt;</th><th scope=col>&lt;dbl&gt;</th><th scope=col>&lt;dbl&gt;</th><th scope=col>&lt;int&gt;</th></tr>\n",
       "</thead>\n",
       "<tbody>\n",
       "\t<tr><td>mpayroll_sobre_edad_+_ctrx_quarter                </td><td>0.448644086</td><td>0.103986445</td><td>0.050239234</td><td> 1</td></tr>\n",
       "\t<tr><td>mtarjeta_visa_consumo                             </td><td>0.036350689</td><td>0.033607711</td><td>0.022727273</td><td> 2</td></tr>\n",
       "\t<tr><td>cpayroll_trx/ccomisiones_mantenimiento            </td><td>0.029281433</td><td>0.052720993</td><td>0.023923445</td><td> 3</td></tr>\n",
       "\t<tr><td>mprestamos_personales_lag2_+_ctrx_quarter         </td><td>0.025449018</td><td>0.002924426</td><td>0.004784689</td><td> 4</td></tr>\n",
       "\t<tr><td>mprestamos_personales                             </td><td>0.022262950</td><td>0.033570862</td><td>0.016746411</td><td> 5</td></tr>\n",
       "\t<tr><td>mcaja_ahorro_lag2_+_ctrx_quarter                  </td><td>0.013866043</td><td>0.019229547</td><td>0.010765550</td><td> 6</td></tr>\n",
       "\t<tr><td>mrentabilidad_annual_lag2/cliente_edad            </td><td>0.012727592</td><td>0.004371074</td><td>0.009569378</td><td> 7</td></tr>\n",
       "\t<tr><td>mpasivos_margen_lag2                              </td><td>0.010992029</td><td>0.003980981</td><td>0.004784689</td><td> 8</td></tr>\n",
       "\t<tr><td>cliente_edad/cproductos                           </td><td>0.010654430</td><td>0.007722442</td><td>0.005980861</td><td> 9</td></tr>\n",
       "\t<tr><td>ccomisiones_mantenimiento_delta2                  </td><td>0.010401203</td><td>0.009481672</td><td>0.007177033</td><td>10</td></tr>\n",
       "\t<tr><td>mpasivos_margen                                   </td><td>0.010217969</td><td>0.004641724</td><td>0.004784689</td><td>11</td></tr>\n",
       "\t<tr><td>mcuentas_saldo                                    </td><td>0.010083952</td><td>0.002709684</td><td>0.005980861</td><td>12</td></tr>\n",
       "\t<tr><td>vm_mpagominimo_+_cliente_antiguedad               </td><td>0.009512346</td><td>0.008359043</td><td>0.009569378</td><td>13</td></tr>\n",
       "\t<tr><td>mrentabilidad_annual_lag2/ctrx_quarter_normalizado</td><td>0.009210239</td><td>0.013621485</td><td>0.019138756</td><td>14</td></tr>\n",
       "\t<tr><td>Visa_mpagominimo_lag2/cliente_edad                </td><td>0.008892985</td><td>0.025993276</td><td>0.011961722</td><td>15</td></tr>\n",
       "\t<tr><td>ccomisiones_mantenimiento_delta1                  </td><td>0.008682271</td><td>0.021578364</td><td>0.009569378</td><td>16</td></tr>\n",
       "\t<tr><td>Master_mpagominimo/ctrx_quarter                   </td><td>0.008457629</td><td>0.018171722</td><td>0.009569378</td><td>17</td></tr>\n",
       "\t<tr><td>chomebanking_transacciones                        </td><td>0.008346699</td><td>0.011038867</td><td>0.011961722</td><td>18</td></tr>\n",
       "\t<tr><td>mcaja_ahorro_lag2                                 </td><td>0.008078933</td><td>0.003778946</td><td>0.004784689</td><td>19</td></tr>\n",
       "\t<tr><td>ctarjeta_visa_transacciones                       </td><td>0.007990320</td><td>0.006937173</td><td>0.008373206</td><td>20</td></tr>\n",
       "\t<tr><td>cdescubierto_preacordado                          </td><td>0.007797140</td><td>0.014786681</td><td>0.007177033</td><td>21</td></tr>\n",
       "\t<tr><td>vm_mpagominimo                                    </td><td>0.007658434</td><td>0.041760907</td><td>0.034688995</td><td>22</td></tr>\n",
       "\t<tr><td>cproductos_delta1                                 </td><td>0.007556959</td><td>0.022672403</td><td>0.008373206</td><td>23</td></tr>\n",
       "\t<tr><td>chomebanking_transacciones_delta2                 </td><td>0.007278076</td><td>0.013768247</td><td>0.014354067</td><td>24</td></tr>\n",
       "\t<tr><td>mcaja_ahorro_lag1/cliente_edad                    </td><td>0.007244478</td><td>0.001149313</td><td>0.002392344</td><td>25</td></tr>\n",
       "\t<tr><td>mcuentas_saldo_delta1                             </td><td>0.006855212</td><td>0.005217969</td><td>0.010765550</td><td>26</td></tr>\n",
       "\t<tr><td>ctrx_quarter/ccomisiones_mantenimiento            </td><td>0.006397918</td><td>0.012554130</td><td>0.008373206</td><td>27</td></tr>\n",
       "\t<tr><td>mcuentas_saldo_+_cliente_antiguedad               </td><td>0.006057208</td><td>0.005129023</td><td>0.007177033</td><td>28</td></tr>\n",
       "\t<tr><td>mrentabilidad_annual_lag1                         </td><td>0.005677638</td><td>0.002660129</td><td>0.007177033</td><td>29</td></tr>\n",
       "\t<tr><td>mcaja_ahorro_lag2/ctrx_quarter_normalizado        </td><td>0.005529998</td><td>0.008853330</td><td>0.007177033</td><td>30</td></tr>\n",
       "\t<tr><td>⋮</td><td>⋮</td><td>⋮</td><td>⋮</td><td>⋮</td></tr>\n",
       "\t<tr><td>mtarjeta_master_consumo                             </td><td>4.368237e-05</td><td>0.0003894576</td><td>0.001196172</td><td>208</td></tr>\n",
       "\t<tr><td>ctrx_quarter                                        </td><td>4.270530e-05</td><td>0.0029854179</td><td>0.004784689</td><td>209</td></tr>\n",
       "\t<tr><td>mtarjeta_visa_consumo_lag2                          </td><td>3.542643e-05</td><td>0.0021963374</td><td>0.002392344</td><td>210</td></tr>\n",
       "\t<tr><td>Master_mpagominimo_delta1_+_ctrx_quarter            </td><td>1.909328e-05</td><td>0.0009059813</td><td>0.001196172</td><td>211</td></tr>\n",
       "\t<tr><td>Visa_mpagominimo/cproductos                         </td><td>1.737960e-05</td><td>0.0011563015</td><td>0.001196172</td><td>212</td></tr>\n",
       "\t<tr><td>mactivos_margen_lag2_+_ctrx_quarter                 </td><td>7.862181e-06</td><td>0.0011505835</td><td>0.001196172</td><td>213</td></tr>\n",
       "\t<tr><td>mpasivos_margen_delta1/cpayroll_trx                 </td><td>7.107245e-06</td><td>0.0062522872</td><td>0.007177033</td><td>214</td></tr>\n",
       "\t<tr><td>mpayroll_lag1_+_ctrx_quarter_normalizado            </td><td>6.780943e-06</td><td>0.0014892146</td><td>0.004784689</td><td>215</td></tr>\n",
       "\t<tr><td>mcaja_ahorro_delta2_+_cliente_antiguedad            </td><td>4.688633e-06</td><td>0.0012516010</td><td>0.001196172</td><td>216</td></tr>\n",
       "\t<tr><td>mtarjeta_visa_consumo_delta1/ctrx_quarter           </td><td>4.136676e-06</td><td>0.0011448655</td><td>0.001196172</td><td>217</td></tr>\n",
       "\t<tr><td>mcuentas_saldo_lag1                                 </td><td>3.642425e-06</td><td>0.0014904853</td><td>0.002392344</td><td>218</td></tr>\n",
       "\t<tr><td>canarito73                                          </td><td>3.263342e-06</td><td>0.0020120916</td><td>0.003588517</td><td>219</td></tr>\n",
       "\t<tr><td>mcomisiones_lag2/cproductos                         </td><td>2.853725e-06</td><td>0.0012128459</td><td>0.002392344</td><td>220</td></tr>\n",
       "\t<tr><td>mcuenta_corriente_lag2                              </td><td>2.733951e-06</td><td>0.0011327942</td><td>0.001196172</td><td>221</td></tr>\n",
       "\t<tr><td>mrentabilidad_delta2/cpayroll_trx                   </td><td>8.029157e-07</td><td>0.0034790697</td><td>0.004784689</td><td>222</td></tr>\n",
       "\t<tr><td>mpayroll_sobre_edad_+_cpayroll_trx                  </td><td>3.566656e-07</td><td>0.0020222569</td><td>0.003588517</td><td>223</td></tr>\n",
       "\t<tr><td>ctrx_quarter_normalizado/cpayroll_trx               </td><td>1.999944e-07</td><td>0.0004212241</td><td>0.001196172</td><td>224</td></tr>\n",
       "\t<tr><td>mcuenta_corriente_delta2_+_ccomisiones_mantenimiento</td><td>1.005841e-09</td><td>0.0034714457</td><td>0.004784689</td><td>225</td></tr>\n",
       "\t<tr><td>mpasivos_margen_delta1_+_cliente_antiguedad         </td><td>8.483373e-10</td><td>0.0009739616</td><td>0.001196172</td><td>226</td></tr>\n",
       "\t<tr><td>mpayroll_delta2/cliente_antiguedad                  </td><td>4.337150e-10</td><td>0.0003951756</td><td>0.001196172</td><td>227</td></tr>\n",
       "\t<tr><td>mpayroll                                            </td><td>4.292552e-10</td><td>0.0007706559</td><td>0.001196172</td><td>228</td></tr>\n",
       "\t<tr><td>mpasivos_margen_delta1                              </td><td>3.879420e-10</td><td>0.0009796796</td><td>0.001196172</td><td>229</td></tr>\n",
       "\t<tr><td>mcaja_ahorro_lag1_+_ccomisiones_mantenimiento       </td><td>3.524767e-10</td><td>0.0004828512</td><td>0.001196172</td><td>230</td></tr>\n",
       "\t<tr><td>mpayroll_sobre_edad                                 </td><td>2.963706e-10</td><td>0.0005603615</td><td>0.001196172</td><td>231</td></tr>\n",
       "\t<tr><td>mcuenta_corriente_lag2_+_cproductos                 </td><td>8.825767e-11</td><td>0.0014930266</td><td>0.002392344</td><td>232</td></tr>\n",
       "\t<tr><td>mtarjeta_visa_consumo_lag1/ctrx_quarter_normalizado </td><td>5.698316e-11</td><td>0.0012376238</td><td>0.002392344</td><td>233</td></tr>\n",
       "\t<tr><td>ctarjeta_visa_transacciones_lag1                    </td><td>1.968934e-11</td><td>0.0004669679</td><td>0.001196172</td><td>234</td></tr>\n",
       "\t<tr><td>mcuenta_corriente_lag2_+_cpayroll_trx               </td><td>1.577360e-11</td><td>0.0005209710</td><td>0.001196172</td><td>235</td></tr>\n",
       "\t<tr><td>mcaja_ahorro_delta1                                 </td><td>9.983156e-12</td><td>0.0006747210</td><td>0.002392344</td><td>236</td></tr>\n",
       "\t<tr><td>mcomisiones                                         </td><td>1.002608e-18</td><td>0.0008017871</td><td>0.001196172</td><td>237</td></tr>\n",
       "</tbody>\n",
       "</table>\n"
      ],
      "text/latex": [
       "A data.table: 237 × 5\n",
       "\\begin{tabular}{lllll}\n",
       " Feature & Gain & Cover & Frequency & pos\\\\\n",
       " <chr> & <dbl> & <dbl> & <dbl> & <int>\\\\\n",
       "\\hline\n",
       "\t mpayroll\\_sobre\\_edad\\_+\\_ctrx\\_quarter                 & 0.448644086 & 0.103986445 & 0.050239234 &  1\\\\\n",
       "\t mtarjeta\\_visa\\_consumo                              & 0.036350689 & 0.033607711 & 0.022727273 &  2\\\\\n",
       "\t cpayroll\\_trx/ccomisiones\\_mantenimiento             & 0.029281433 & 0.052720993 & 0.023923445 &  3\\\\\n",
       "\t mprestamos\\_personales\\_lag2\\_+\\_ctrx\\_quarter          & 0.025449018 & 0.002924426 & 0.004784689 &  4\\\\\n",
       "\t mprestamos\\_personales                              & 0.022262950 & 0.033570862 & 0.016746411 &  5\\\\\n",
       "\t mcaja\\_ahorro\\_lag2\\_+\\_ctrx\\_quarter                   & 0.013866043 & 0.019229547 & 0.010765550 &  6\\\\\n",
       "\t mrentabilidad\\_annual\\_lag2/cliente\\_edad             & 0.012727592 & 0.004371074 & 0.009569378 &  7\\\\\n",
       "\t mpasivos\\_margen\\_lag2                               & 0.010992029 & 0.003980981 & 0.004784689 &  8\\\\\n",
       "\t cliente\\_edad/cproductos                            & 0.010654430 & 0.007722442 & 0.005980861 &  9\\\\\n",
       "\t ccomisiones\\_mantenimiento\\_delta2                   & 0.010401203 & 0.009481672 & 0.007177033 & 10\\\\\n",
       "\t mpasivos\\_margen                                    & 0.010217969 & 0.004641724 & 0.004784689 & 11\\\\\n",
       "\t mcuentas\\_saldo                                     & 0.010083952 & 0.002709684 & 0.005980861 & 12\\\\\n",
       "\t vm\\_mpagominimo\\_+\\_cliente\\_antiguedad                & 0.009512346 & 0.008359043 & 0.009569378 & 13\\\\\n",
       "\t mrentabilidad\\_annual\\_lag2/ctrx\\_quarter\\_normalizado & 0.009210239 & 0.013621485 & 0.019138756 & 14\\\\\n",
       "\t Visa\\_mpagominimo\\_lag2/cliente\\_edad                 & 0.008892985 & 0.025993276 & 0.011961722 & 15\\\\\n",
       "\t ccomisiones\\_mantenimiento\\_delta1                   & 0.008682271 & 0.021578364 & 0.009569378 & 16\\\\\n",
       "\t Master\\_mpagominimo/ctrx\\_quarter                    & 0.008457629 & 0.018171722 & 0.009569378 & 17\\\\\n",
       "\t chomebanking\\_transacciones                         & 0.008346699 & 0.011038867 & 0.011961722 & 18\\\\\n",
       "\t mcaja\\_ahorro\\_lag2                                  & 0.008078933 & 0.003778946 & 0.004784689 & 19\\\\\n",
       "\t ctarjeta\\_visa\\_transacciones                        & 0.007990320 & 0.006937173 & 0.008373206 & 20\\\\\n",
       "\t cdescubierto\\_preacordado                           & 0.007797140 & 0.014786681 & 0.007177033 & 21\\\\\n",
       "\t vm\\_mpagominimo                                     & 0.007658434 & 0.041760907 & 0.034688995 & 22\\\\\n",
       "\t cproductos\\_delta1                                  & 0.007556959 & 0.022672403 & 0.008373206 & 23\\\\\n",
       "\t chomebanking\\_transacciones\\_delta2                  & 0.007278076 & 0.013768247 & 0.014354067 & 24\\\\\n",
       "\t mcaja\\_ahorro\\_lag1/cliente\\_edad                     & 0.007244478 & 0.001149313 & 0.002392344 & 25\\\\\n",
       "\t mcuentas\\_saldo\\_delta1                              & 0.006855212 & 0.005217969 & 0.010765550 & 26\\\\\n",
       "\t ctrx\\_quarter/ccomisiones\\_mantenimiento             & 0.006397918 & 0.012554130 & 0.008373206 & 27\\\\\n",
       "\t mcuentas\\_saldo\\_+\\_cliente\\_antiguedad                & 0.006057208 & 0.005129023 & 0.007177033 & 28\\\\\n",
       "\t mrentabilidad\\_annual\\_lag1                          & 0.005677638 & 0.002660129 & 0.007177033 & 29\\\\\n",
       "\t mcaja\\_ahorro\\_lag2/ctrx\\_quarter\\_normalizado         & 0.005529998 & 0.008853330 & 0.007177033 & 30\\\\\n",
       "\t ⋮ & ⋮ & ⋮ & ⋮ & ⋮\\\\\n",
       "\t mtarjeta\\_master\\_consumo                              & 4.368237e-05 & 0.0003894576 & 0.001196172 & 208\\\\\n",
       "\t ctrx\\_quarter                                         & 4.270530e-05 & 0.0029854179 & 0.004784689 & 209\\\\\n",
       "\t mtarjeta\\_visa\\_consumo\\_lag2                           & 3.542643e-05 & 0.0021963374 & 0.002392344 & 210\\\\\n",
       "\t Master\\_mpagominimo\\_delta1\\_+\\_ctrx\\_quarter             & 1.909328e-05 & 0.0009059813 & 0.001196172 & 211\\\\\n",
       "\t Visa\\_mpagominimo/cproductos                          & 1.737960e-05 & 0.0011563015 & 0.001196172 & 212\\\\\n",
       "\t mactivos\\_margen\\_lag2\\_+\\_ctrx\\_quarter                  & 7.862181e-06 & 0.0011505835 & 0.001196172 & 213\\\\\n",
       "\t mpasivos\\_margen\\_delta1/cpayroll\\_trx                  & 7.107245e-06 & 0.0062522872 & 0.007177033 & 214\\\\\n",
       "\t mpayroll\\_lag1\\_+\\_ctrx\\_quarter\\_normalizado             & 6.780943e-06 & 0.0014892146 & 0.004784689 & 215\\\\\n",
       "\t mcaja\\_ahorro\\_delta2\\_+\\_cliente\\_antiguedad             & 4.688633e-06 & 0.0012516010 & 0.001196172 & 216\\\\\n",
       "\t mtarjeta\\_visa\\_consumo\\_delta1/ctrx\\_quarter            & 4.136676e-06 & 0.0011448655 & 0.001196172 & 217\\\\\n",
       "\t mcuentas\\_saldo\\_lag1                                  & 3.642425e-06 & 0.0014904853 & 0.002392344 & 218\\\\\n",
       "\t canarito73                                           & 3.263342e-06 & 0.0020120916 & 0.003588517 & 219\\\\\n",
       "\t mcomisiones\\_lag2/cproductos                          & 2.853725e-06 & 0.0012128459 & 0.002392344 & 220\\\\\n",
       "\t mcuenta\\_corriente\\_lag2                               & 2.733951e-06 & 0.0011327942 & 0.001196172 & 221\\\\\n",
       "\t mrentabilidad\\_delta2/cpayroll\\_trx                    & 8.029157e-07 & 0.0034790697 & 0.004784689 & 222\\\\\n",
       "\t mpayroll\\_sobre\\_edad\\_+\\_cpayroll\\_trx                   & 3.566656e-07 & 0.0020222569 & 0.003588517 & 223\\\\\n",
       "\t ctrx\\_quarter\\_normalizado/cpayroll\\_trx                & 1.999944e-07 & 0.0004212241 & 0.001196172 & 224\\\\\n",
       "\t mcuenta\\_corriente\\_delta2\\_+\\_ccomisiones\\_mantenimiento & 1.005841e-09 & 0.0034714457 & 0.004784689 & 225\\\\\n",
       "\t mpasivos\\_margen\\_delta1\\_+\\_cliente\\_antiguedad          & 8.483373e-10 & 0.0009739616 & 0.001196172 & 226\\\\\n",
       "\t mpayroll\\_delta2/cliente\\_antiguedad                   & 4.337150e-10 & 0.0003951756 & 0.001196172 & 227\\\\\n",
       "\t mpayroll                                             & 4.292552e-10 & 0.0007706559 & 0.001196172 & 228\\\\\n",
       "\t mpasivos\\_margen\\_delta1                               & 3.879420e-10 & 0.0009796796 & 0.001196172 & 229\\\\\n",
       "\t mcaja\\_ahorro\\_lag1\\_+\\_ccomisiones\\_mantenimiento        & 3.524767e-10 & 0.0004828512 & 0.001196172 & 230\\\\\n",
       "\t mpayroll\\_sobre\\_edad                                  & 2.963706e-10 & 0.0005603615 & 0.001196172 & 231\\\\\n",
       "\t mcuenta\\_corriente\\_lag2\\_+\\_cproductos                  & 8.825767e-11 & 0.0014930266 & 0.002392344 & 232\\\\\n",
       "\t mtarjeta\\_visa\\_consumo\\_lag1/ctrx\\_quarter\\_normalizado  & 5.698316e-11 & 0.0012376238 & 0.002392344 & 233\\\\\n",
       "\t ctarjeta\\_visa\\_transacciones\\_lag1                     & 1.968934e-11 & 0.0004669679 & 0.001196172 & 234\\\\\n",
       "\t mcuenta\\_corriente\\_lag2\\_+\\_cpayroll\\_trx                & 1.577360e-11 & 0.0005209710 & 0.001196172 & 235\\\\\n",
       "\t mcaja\\_ahorro\\_delta1                                  & 9.983156e-12 & 0.0006747210 & 0.002392344 & 236\\\\\n",
       "\t mcomisiones                                          & 1.002608e-18 & 0.0008017871 & 0.001196172 & 237\\\\\n",
       "\\end{tabular}\n"
      ],
      "text/markdown": [
       "\n",
       "A data.table: 237 × 5\n",
       "\n",
       "| Feature &lt;chr&gt; | Gain &lt;dbl&gt; | Cover &lt;dbl&gt; | Frequency &lt;dbl&gt; | pos &lt;int&gt; |\n",
       "|---|---|---|---|---|\n",
       "| mpayroll_sobre_edad_+_ctrx_quarter                 | 0.448644086 | 0.103986445 | 0.050239234 |  1 |\n",
       "| mtarjeta_visa_consumo                              | 0.036350689 | 0.033607711 | 0.022727273 |  2 |\n",
       "| cpayroll_trx/ccomisiones_mantenimiento             | 0.029281433 | 0.052720993 | 0.023923445 |  3 |\n",
       "| mprestamos_personales_lag2_+_ctrx_quarter          | 0.025449018 | 0.002924426 | 0.004784689 |  4 |\n",
       "| mprestamos_personales                              | 0.022262950 | 0.033570862 | 0.016746411 |  5 |\n",
       "| mcaja_ahorro_lag2_+_ctrx_quarter                   | 0.013866043 | 0.019229547 | 0.010765550 |  6 |\n",
       "| mrentabilidad_annual_lag2/cliente_edad             | 0.012727592 | 0.004371074 | 0.009569378 |  7 |\n",
       "| mpasivos_margen_lag2                               | 0.010992029 | 0.003980981 | 0.004784689 |  8 |\n",
       "| cliente_edad/cproductos                            | 0.010654430 | 0.007722442 | 0.005980861 |  9 |\n",
       "| ccomisiones_mantenimiento_delta2                   | 0.010401203 | 0.009481672 | 0.007177033 | 10 |\n",
       "| mpasivos_margen                                    | 0.010217969 | 0.004641724 | 0.004784689 | 11 |\n",
       "| mcuentas_saldo                                     | 0.010083952 | 0.002709684 | 0.005980861 | 12 |\n",
       "| vm_mpagominimo_+_cliente_antiguedad                | 0.009512346 | 0.008359043 | 0.009569378 | 13 |\n",
       "| mrentabilidad_annual_lag2/ctrx_quarter_normalizado | 0.009210239 | 0.013621485 | 0.019138756 | 14 |\n",
       "| Visa_mpagominimo_lag2/cliente_edad                 | 0.008892985 | 0.025993276 | 0.011961722 | 15 |\n",
       "| ccomisiones_mantenimiento_delta1                   | 0.008682271 | 0.021578364 | 0.009569378 | 16 |\n",
       "| Master_mpagominimo/ctrx_quarter                    | 0.008457629 | 0.018171722 | 0.009569378 | 17 |\n",
       "| chomebanking_transacciones                         | 0.008346699 | 0.011038867 | 0.011961722 | 18 |\n",
       "| mcaja_ahorro_lag2                                  | 0.008078933 | 0.003778946 | 0.004784689 | 19 |\n",
       "| ctarjeta_visa_transacciones                        | 0.007990320 | 0.006937173 | 0.008373206 | 20 |\n",
       "| cdescubierto_preacordado                           | 0.007797140 | 0.014786681 | 0.007177033 | 21 |\n",
       "| vm_mpagominimo                                     | 0.007658434 | 0.041760907 | 0.034688995 | 22 |\n",
       "| cproductos_delta1                                  | 0.007556959 | 0.022672403 | 0.008373206 | 23 |\n",
       "| chomebanking_transacciones_delta2                  | 0.007278076 | 0.013768247 | 0.014354067 | 24 |\n",
       "| mcaja_ahorro_lag1/cliente_edad                     | 0.007244478 | 0.001149313 | 0.002392344 | 25 |\n",
       "| mcuentas_saldo_delta1                              | 0.006855212 | 0.005217969 | 0.010765550 | 26 |\n",
       "| ctrx_quarter/ccomisiones_mantenimiento             | 0.006397918 | 0.012554130 | 0.008373206 | 27 |\n",
       "| mcuentas_saldo_+_cliente_antiguedad                | 0.006057208 | 0.005129023 | 0.007177033 | 28 |\n",
       "| mrentabilidad_annual_lag1                          | 0.005677638 | 0.002660129 | 0.007177033 | 29 |\n",
       "| mcaja_ahorro_lag2/ctrx_quarter_normalizado         | 0.005529998 | 0.008853330 | 0.007177033 | 30 |\n",
       "| ⋮ | ⋮ | ⋮ | ⋮ | ⋮ |\n",
       "| mtarjeta_master_consumo                              | 4.368237e-05 | 0.0003894576 | 0.001196172 | 208 |\n",
       "| ctrx_quarter                                         | 4.270530e-05 | 0.0029854179 | 0.004784689 | 209 |\n",
       "| mtarjeta_visa_consumo_lag2                           | 3.542643e-05 | 0.0021963374 | 0.002392344 | 210 |\n",
       "| Master_mpagominimo_delta1_+_ctrx_quarter             | 1.909328e-05 | 0.0009059813 | 0.001196172 | 211 |\n",
       "| Visa_mpagominimo/cproductos                          | 1.737960e-05 | 0.0011563015 | 0.001196172 | 212 |\n",
       "| mactivos_margen_lag2_+_ctrx_quarter                  | 7.862181e-06 | 0.0011505835 | 0.001196172 | 213 |\n",
       "| mpasivos_margen_delta1/cpayroll_trx                  | 7.107245e-06 | 0.0062522872 | 0.007177033 | 214 |\n",
       "| mpayroll_lag1_+_ctrx_quarter_normalizado             | 6.780943e-06 | 0.0014892146 | 0.004784689 | 215 |\n",
       "| mcaja_ahorro_delta2_+_cliente_antiguedad             | 4.688633e-06 | 0.0012516010 | 0.001196172 | 216 |\n",
       "| mtarjeta_visa_consumo_delta1/ctrx_quarter            | 4.136676e-06 | 0.0011448655 | 0.001196172 | 217 |\n",
       "| mcuentas_saldo_lag1                                  | 3.642425e-06 | 0.0014904853 | 0.002392344 | 218 |\n",
       "| canarito73                                           | 3.263342e-06 | 0.0020120916 | 0.003588517 | 219 |\n",
       "| mcomisiones_lag2/cproductos                          | 2.853725e-06 | 0.0012128459 | 0.002392344 | 220 |\n",
       "| mcuenta_corriente_lag2                               | 2.733951e-06 | 0.0011327942 | 0.001196172 | 221 |\n",
       "| mrentabilidad_delta2/cpayroll_trx                    | 8.029157e-07 | 0.0034790697 | 0.004784689 | 222 |\n",
       "| mpayroll_sobre_edad_+_cpayroll_trx                   | 3.566656e-07 | 0.0020222569 | 0.003588517 | 223 |\n",
       "| ctrx_quarter_normalizado/cpayroll_trx                | 1.999944e-07 | 0.0004212241 | 0.001196172 | 224 |\n",
       "| mcuenta_corriente_delta2_+_ccomisiones_mantenimiento | 1.005841e-09 | 0.0034714457 | 0.004784689 | 225 |\n",
       "| mpasivos_margen_delta1_+_cliente_antiguedad          | 8.483373e-10 | 0.0009739616 | 0.001196172 | 226 |\n",
       "| mpayroll_delta2/cliente_antiguedad                   | 4.337150e-10 | 0.0003951756 | 0.001196172 | 227 |\n",
       "| mpayroll                                             | 4.292552e-10 | 0.0007706559 | 0.001196172 | 228 |\n",
       "| mpasivos_margen_delta1                               | 3.879420e-10 | 0.0009796796 | 0.001196172 | 229 |\n",
       "| mcaja_ahorro_lag1_+_ccomisiones_mantenimiento        | 3.524767e-10 | 0.0004828512 | 0.001196172 | 230 |\n",
       "| mpayroll_sobre_edad                                  | 2.963706e-10 | 0.0005603615 | 0.001196172 | 231 |\n",
       "| mcuenta_corriente_lag2_+_cproductos                  | 8.825767e-11 | 0.0014930266 | 0.002392344 | 232 |\n",
       "| mtarjeta_visa_consumo_lag1/ctrx_quarter_normalizado  | 5.698316e-11 | 0.0012376238 | 0.002392344 | 233 |\n",
       "| ctarjeta_visa_transacciones_lag1                     | 1.968934e-11 | 0.0004669679 | 0.001196172 | 234 |\n",
       "| mcuenta_corriente_lag2_+_cpayroll_trx                | 1.577360e-11 | 0.0005209710 | 0.001196172 | 235 |\n",
       "| mcaja_ahorro_delta1                                  | 9.983156e-12 | 0.0006747210 | 0.002392344 | 236 |\n",
       "| mcomisiones                                          | 1.002608e-18 | 0.0008017871 | 0.001196172 | 237 |\n",
       "\n"
      ],
      "text/plain": [
       "    Feature                                              Gain        \n",
       "1   mpayroll_sobre_edad_+_ctrx_quarter                   0.448644086 \n",
       "2   mtarjeta_visa_consumo                                0.036350689 \n",
       "3   cpayroll_trx/ccomisiones_mantenimiento               0.029281433 \n",
       "4   mprestamos_personales_lag2_+_ctrx_quarter            0.025449018 \n",
       "5   mprestamos_personales                                0.022262950 \n",
       "6   mcaja_ahorro_lag2_+_ctrx_quarter                     0.013866043 \n",
       "7   mrentabilidad_annual_lag2/cliente_edad               0.012727592 \n",
       "8   mpasivos_margen_lag2                                 0.010992029 \n",
       "9   cliente_edad/cproductos                              0.010654430 \n",
       "10  ccomisiones_mantenimiento_delta2                     0.010401203 \n",
       "11  mpasivos_margen                                      0.010217969 \n",
       "12  mcuentas_saldo                                       0.010083952 \n",
       "13  vm_mpagominimo_+_cliente_antiguedad                  0.009512346 \n",
       "14  mrentabilidad_annual_lag2/ctrx_quarter_normalizado   0.009210239 \n",
       "15  Visa_mpagominimo_lag2/cliente_edad                   0.008892985 \n",
       "16  ccomisiones_mantenimiento_delta1                     0.008682271 \n",
       "17  Master_mpagominimo/ctrx_quarter                      0.008457629 \n",
       "18  chomebanking_transacciones                           0.008346699 \n",
       "19  mcaja_ahorro_lag2                                    0.008078933 \n",
       "20  ctarjeta_visa_transacciones                          0.007990320 \n",
       "21  cdescubierto_preacordado                             0.007797140 \n",
       "22  vm_mpagominimo                                       0.007658434 \n",
       "23  cproductos_delta1                                    0.007556959 \n",
       "24  chomebanking_transacciones_delta2                    0.007278076 \n",
       "25  mcaja_ahorro_lag1/cliente_edad                       0.007244478 \n",
       "26  mcuentas_saldo_delta1                                0.006855212 \n",
       "27  ctrx_quarter/ccomisiones_mantenimiento               0.006397918 \n",
       "28  mcuentas_saldo_+_cliente_antiguedad                  0.006057208 \n",
       "29  mrentabilidad_annual_lag1                            0.005677638 \n",
       "30  mcaja_ahorro_lag2/ctrx_quarter_normalizado           0.005529998 \n",
       "⋮   ⋮                                                    ⋮           \n",
       "208 mtarjeta_master_consumo                              4.368237e-05\n",
       "209 ctrx_quarter                                         4.270530e-05\n",
       "210 mtarjeta_visa_consumo_lag2                           3.542643e-05\n",
       "211 Master_mpagominimo_delta1_+_ctrx_quarter             1.909328e-05\n",
       "212 Visa_mpagominimo/cproductos                          1.737960e-05\n",
       "213 mactivos_margen_lag2_+_ctrx_quarter                  7.862181e-06\n",
       "214 mpasivos_margen_delta1/cpayroll_trx                  7.107245e-06\n",
       "215 mpayroll_lag1_+_ctrx_quarter_normalizado             6.780943e-06\n",
       "216 mcaja_ahorro_delta2_+_cliente_antiguedad             4.688633e-06\n",
       "217 mtarjeta_visa_consumo_delta1/ctrx_quarter            4.136676e-06\n",
       "218 mcuentas_saldo_lag1                                  3.642425e-06\n",
       "219 canarito73                                           3.263342e-06\n",
       "220 mcomisiones_lag2/cproductos                          2.853725e-06\n",
       "221 mcuenta_corriente_lag2                               2.733951e-06\n",
       "222 mrentabilidad_delta2/cpayroll_trx                    8.029157e-07\n",
       "223 mpayroll_sobre_edad_+_cpayroll_trx                   3.566656e-07\n",
       "224 ctrx_quarter_normalizado/cpayroll_trx                1.999944e-07\n",
       "225 mcuenta_corriente_delta2_+_ccomisiones_mantenimiento 1.005841e-09\n",
       "226 mpasivos_margen_delta1_+_cliente_antiguedad          8.483373e-10\n",
       "227 mpayroll_delta2/cliente_antiguedad                   4.337150e-10\n",
       "228 mpayroll                                             4.292552e-10\n",
       "229 mpasivos_margen_delta1                               3.879420e-10\n",
       "230 mcaja_ahorro_lag1_+_ccomisiones_mantenimiento        3.524767e-10\n",
       "231 mpayroll_sobre_edad                                  2.963706e-10\n",
       "232 mcuenta_corriente_lag2_+_cproductos                  8.825767e-11\n",
       "233 mtarjeta_visa_consumo_lag1/ctrx_quarter_normalizado  5.698316e-11\n",
       "234 ctarjeta_visa_transacciones_lag1                     1.968934e-11\n",
       "235 mcuenta_corriente_lag2_+_cpayroll_trx                1.577360e-11\n",
       "236 mcaja_ahorro_delta1                                  9.983156e-12\n",
       "237 mcomisiones                                          1.002608e-18\n",
       "    Cover        Frequency   pos\n",
       "1   0.103986445  0.050239234  1 \n",
       "2   0.033607711  0.022727273  2 \n",
       "3   0.052720993  0.023923445  3 \n",
       "4   0.002924426  0.004784689  4 \n",
       "5   0.033570862  0.016746411  5 \n",
       "6   0.019229547  0.010765550  6 \n",
       "7   0.004371074  0.009569378  7 \n",
       "8   0.003980981  0.004784689  8 \n",
       "9   0.007722442  0.005980861  9 \n",
       "10  0.009481672  0.007177033 10 \n",
       "11  0.004641724  0.004784689 11 \n",
       "12  0.002709684  0.005980861 12 \n",
       "13  0.008359043  0.009569378 13 \n",
       "14  0.013621485  0.019138756 14 \n",
       "15  0.025993276  0.011961722 15 \n",
       "16  0.021578364  0.009569378 16 \n",
       "17  0.018171722  0.009569378 17 \n",
       "18  0.011038867  0.011961722 18 \n",
       "19  0.003778946  0.004784689 19 \n",
       "20  0.006937173  0.008373206 20 \n",
       "21  0.014786681  0.007177033 21 \n",
       "22  0.041760907  0.034688995 22 \n",
       "23  0.022672403  0.008373206 23 \n",
       "24  0.013768247  0.014354067 24 \n",
       "25  0.001149313  0.002392344 25 \n",
       "26  0.005217969  0.010765550 26 \n",
       "27  0.012554130  0.008373206 27 \n",
       "28  0.005129023  0.007177033 28 \n",
       "29  0.002660129  0.007177033 29 \n",
       "30  0.008853330  0.007177033 30 \n",
       "⋮   ⋮            ⋮           ⋮  \n",
       "208 0.0003894576 0.001196172 208\n",
       "209 0.0029854179 0.004784689 209\n",
       "210 0.0021963374 0.002392344 210\n",
       "211 0.0009059813 0.001196172 211\n",
       "212 0.0011563015 0.001196172 212\n",
       "213 0.0011505835 0.001196172 213\n",
       "214 0.0062522872 0.007177033 214\n",
       "215 0.0014892146 0.004784689 215\n",
       "216 0.0012516010 0.001196172 216\n",
       "217 0.0011448655 0.001196172 217\n",
       "218 0.0014904853 0.002392344 218\n",
       "219 0.0020120916 0.003588517 219\n",
       "220 0.0012128459 0.002392344 220\n",
       "221 0.0011327942 0.001196172 221\n",
       "222 0.0034790697 0.004784689 222\n",
       "223 0.0020222569 0.003588517 223\n",
       "224 0.0004212241 0.001196172 224\n",
       "225 0.0034714457 0.004784689 225\n",
       "226 0.0009739616 0.001196172 226\n",
       "227 0.0003951756 0.001196172 227\n",
       "228 0.0007706559 0.001196172 228\n",
       "229 0.0009796796 0.001196172 229\n",
       "230 0.0004828512 0.001196172 230\n",
       "231 0.0005603615 0.001196172 231\n",
       "232 0.0014930266 0.002392344 232\n",
       "233 0.0012376238 0.002392344 233\n",
       "234 0.0004669679 0.001196172 234\n",
       "235 0.0005209710 0.001196172 235\n",
       "236 0.0006747210 0.002392344 236\n",
       "237 0.0008017871 0.001196172 237"
      ]
     },
     "metadata": {},
     "output_type": "display_data"
    }
   ],
   "source": [
    "tb_importancia\n"
   ]
  },
  {
   "cell_type": "code",
   "execution_count": null,
   "id": "22c0c799-e814-4a9d-b9f5-f80fd8f43b98",
   "metadata": {
    "id": "22c0c799-e814-4a9d-b9f5-f80fd8f43b98"
   },
   "outputs": [],
   "source": []
  },
  {
   "cell_type": "code",
   "execution_count": null,
   "id": "c54cc9bb-dc3c-467f-8759-3b599bcb2718",
   "metadata": {
    "id": "c54cc9bb-dc3c-467f-8759-3b599bcb2718"
   },
   "outputs": [],
   "source": []
  },
  {
   "cell_type": "markdown",
   "id": "cf91ea5e-3341-4afb-8d05-cc4923d3d1e1",
   "metadata": {
    "id": "cf91ea5e-3341-4afb-8d05-cc4923d3d1e1"
   },
   "source": [
    "### 6.3.2 Modelado"
   ]
  },
  {
   "cell_type": "markdown",
   "id": "526048e4-8cf2-4023-bd2d-a70e4e9ff157",
   "metadata": {
    "id": "526048e4-8cf2-4023-bd2d-a70e4e9ff157"
   },
   "source": [
    "#### 6.3.2.1 Training Strategy\n",
    "\n",
    "Esta etapa de Workflow de  Training Strategy esta pensada para la *Modalidad Gerencial* que posee el dataset de [202005, 202109]\n",
    "<br> Si usted es un Analista, posee el periodo de [201901, 202109] y deberá experimentar en que meses le conviene experimentar\n",
    "\n",
    "<br> A la *Modalidad Gerencial* no se le complicada la vida con el undersampling de los continua, por eso PARAM$trainingstrategy$training_pct <- 1.0\n",
    "<br> Sin embargo, si usted es  *Analista SR* posee un dataset 50 veces ( filas x columnas) más grande que la *Modalidad Gerencial*  y por un tema de velocidad y experimentación más rápida puede llegar a necesitar activar el undersampling de la clase mayoritaria, a pesar de estar corriendo en Google Cloud."
   ]
  },
  {
   "cell_type": "markdown",
   "id": "f16bc1c1-b3ea-43ca-9d3c-53f8f9ab8ec1",
   "metadata": {
    "id": "f16bc1c1-b3ea-43ca-9d3c-53f8f9ab8ec1"
   },
   "source": [
    "Se hace una estrategia de entrenamiento muy sencilla, tomando todos los meses posibles, SIN eliminar nada x pandemia ni por ningun otro motivo\n",
    "\n",
    "* future = 202109  obviamente completo\n",
    "\n",
    "* final_train =  [ 202005, 202107 ]  SIN undersampling\n",
    "\n",
    "* training\n",
    "   * testing = NO HAY\n",
    "   * validation =  202107   completo, sin undersampling\n",
    "   * training = [ 202005, 202106 ]  donde se consideran el 100% de los CONTINUA"
   ]
  },
  {
   "cell_type": "code",
   "execution_count": 31,
   "id": "2c9c0a42-ba58-4264-8566-091a6161716f",
   "metadata": {
    "id": "2c9c0a42-ba58-4264-8566-091a6161716f"
   },
   "outputs": [],
   "source": [
    "PARAM$trainingstrategy$validate <- c(202107)\n",
    "\n",
    "PARAM$trainingstrategy$training <- c(\n",
    "  202106, 202105, 202104, 202103, 202102, 202101,\n",
    "  202012, 202011, 202010, 202009, 202008, 202007,\n",
    "  202006, 202005\n",
    ")\n",
    "\n",
    "PARAM$trainingstrategy$training_pct <- 1.0\n",
    "\n",
    "\n",
    "PARAM$trainingstrategy$positivos <- c( \"BAJA+1\", \"BAJA+2\")"
   ]
  },
  {
   "cell_type": "code",
   "execution_count": 32,
   "id": "tv_trHWAj4a8",
   "metadata": {
    "id": "tv_trHWAj4a8"
   },
   "outputs": [],
   "source": [
    "# seteo la clase01   1={BAJA+1, BAJA+2}   0={CONTINUA}\n",
    "dataset[, clase01 := ifelse( clase_ternaria %in% PARAM$trainingstrategy$positivos, 1, 0 )]"
   ]
  },
  {
   "cell_type": "code",
   "execution_count": 33,
   "id": "Ud_XDKSIj8f_",
   "metadata": {
    "id": "Ud_XDKSIj8f_"
   },
   "outputs": [],
   "source": [
    "# los campos en los que se entrena\n",
    "campos_buenos <- copy( setdiff(\n",
    "    colnames(dataset), c(\"clase_ternaria\",\"clase01\",\"azar\"))\n",
    ")"
   ]
  },
  {
   "cell_type": "code",
   "execution_count": 34,
   "id": "rFKgZZPSj_Pa",
   "metadata": {
    "id": "rFKgZZPSj_Pa"
   },
   "outputs": [],
   "source": [
    "# preparo para que se puede hacer undersampling de los CONTINUA\n",
    "#  solamente por un tema de VELOCIDAD\n",
    "set.seed(PARAM$semilla_primigenia, kind = \"L'Ecuyer-CMRG\")\n",
    "dataset[, azar:=runif(nrow(dataset))]\n",
    "\n",
    "# undersampling de los CONTINUA\n",
    "dataset[, fold_train :=  foto_mes %in%  PARAM$trainingstrategy$training &\n",
    "    (clase_ternaria %in% c(\"BAJA+1\", \"BAJA+2\") |\n",
    "     azar < PARAM$trainingstrategy$training_pct ) ]\n",
    "\n",
    "\n",
    "if( !require(\"lightgbm\")) install.packages(\"lightgbm\")\n",
    "require(\"lightgbm\")\n",
    "\n",
    "dtrain <- lgb.Dataset(\n",
    "  data= data.matrix(dataset[fold_train == TRUE, campos_buenos, with = FALSE]),\n",
    "  label= dataset[fold_train == TRUE, clase01],\n",
    "  free_raw_data= TRUE\n",
    ")"
   ]
  },
  {
   "cell_type": "code",
   "execution_count": 35,
   "id": "B3yo98kQkHcP",
   "metadata": {
    "colab": {
     "base_uri": "https://localhost:8080/",
     "height": 34
    },
    "id": "B3yo98kQkHcP",
    "outputId": "d11f28a8-9cf9-4bc2-a790-7d0116b85a8d"
   },
   "outputs": [
    {
     "data": {
      "text/html": [
       "16551"
      ],
      "text/latex": [
       "16551"
      ],
      "text/markdown": [
       "16551"
      ],
      "text/plain": [
       "[1] 16551"
      ]
     },
     "metadata": {},
     "output_type": "display_data"
    }
   ],
   "source": [
    "# datos de validation\n",
    "dvalidate <- lgb.Dataset(\n",
    "  data= data.matrix(dataset[foto_mes %in% PARAM$trainingstrategy$validate, campos_buenos, with = FALSE]),\n",
    "  label= dataset[foto_mes %in% PARAM$trainingstrategy$validate, clase01],\n",
    "  free_raw_data= TRUE\n",
    ")\n",
    "\n",
    "nrow(dvalidate)"
   ]
  },
  {
   "cell_type": "markdown",
   "id": "28e8f788-551c-4e50-9029-302ac0834287",
   "metadata": {
    "id": "28e8f788-551c-4e50-9029-302ac0834287"
   },
   "source": [
    "####  6.3.2.2. Hyperparameter Tuning"
   ]
  },
  {
   "cell_type": "markdown",
   "id": "bf5fc836-e222-4aeb-a6a8-157346895ef7",
   "metadata": {
    "id": "bf5fc836-e222-4aeb-a6a8-157346895ef7"
   },
   "source": [
    "* Clase binaria que se optimiza :  positivos = [ BAJA+1, BAJA+2 ]"
   ]
  },
  {
   "cell_type": "markdown",
   "id": "885c03b5-77bc-4510-a930-0d1f14b52ffb",
   "metadata": {
    "id": "885c03b5-77bc-4510-a930-0d1f14b52ffb"
   },
   "source": [
    "* Metrica que se optimiza **AUC** Area Under Curve de la  ROC Curve\n",
    "\n",
    "es muy importante notar que intencionalmente  **NO** se está optimizando la funcion de ganancia del problema"
   ]
  },
  {
   "cell_type": "markdown",
   "id": "b7e6f95c-66ef-4ab9-9ba3-fcc099816704",
   "metadata": {
    "id": "b7e6f95c-66ef-4ab9-9ba3-fcc099816704"
   },
   "source": [
    "* Cantidad de iteraciones inteligentes de la Optimizacion Bayesiana = **10**"
   ]
  },
  {
   "cell_type": "markdown",
   "id": "fe047a87-e2d0-4418-97dd-0a881e66d73a",
   "metadata": {
    "id": "fe047a87-e2d0-4418-97dd-0a881e66d73a"
   },
   "source": [
    "* Parametros no default, fijos de LightGBM que no se optimizan\n",
    "  * max_bin = 31 , Alienigenas Ancestrales contruyeron las pirámides y dejaron a la humanidad en un jeroglifico  *max_bin=31*\n",
    "  * feature_fraction = 0.5  para poner algo que generalmente no falla\n",
    "  * learning_rate = 0.03  para que aprenda lento\n"
   ]
  },
  {
   "cell_type": "markdown",
   "id": "1e7da08e-fe57-4681-beff-11fe963116bd",
   "metadata": {
    "id": "1e7da08e-fe57-4681-beff-11fe963116bd"
   },
   "source": [
    "* Parametros que se optimizan en la Bayesian Optimization\n",
    "  * num_leaves  [8, 256]\n",
    "  * min_data_in_leaf  [8, 8192]"
   ]
  },
  {
   "cell_type": "code",
   "execution_count": 36,
   "id": "34V6y4GetKq_",
   "metadata": {
    "colab": {
     "base_uri": "https://localhost:8080/"
    },
    "id": "34V6y4GetKq_",
    "outputId": "e2f72fc7-f24b-4266-fc6d-c22f4cfc84cb"
   },
   "outputs": [
    {
     "name": "stderr",
     "output_type": "stream",
     "text": [
      "Loading required package: DiceKriging\n",
      "\n",
      "Loading required package: mlrMBO\n",
      "\n",
      "Loading required package: mlr\n",
      "\n",
      "Loading required package: ParamHelpers\n",
      "\n",
      "\n",
      "Attaching package: ‘ParamHelpers’\n",
      "\n",
      "\n",
      "The following object is masked from ‘package:R.utils’:\n",
      "\n",
      "    isVector\n",
      "\n",
      "\n",
      "\n",
      "Attaching package: ‘mlr’\n",
      "\n",
      "\n",
      "The following objects are masked from ‘package:R.utils’:\n",
      "\n",
      "    resample, setThreshold\n",
      "\n",
      "\n",
      "Loading required package: smoof\n",
      "\n",
      "Loading required package: checkmate\n",
      "\n",
      "\n",
      "Attaching package: ‘checkmate’\n",
      "\n",
      "\n",
      "The following object is masked from ‘package:DiceKriging’:\n",
      "\n",
      "    checkNames\n",
      "\n",
      "\n",
      "The following object is masked from ‘package:R.utils’:\n",
      "\n",
      "    asInt\n",
      "\n",
      "\n",
      "\n",
      "Attaching package: ‘smoof’\n",
      "\n",
      "\n",
      "The following objects are masked from ‘package:R.oo’:\n",
      "\n",
      "    getDescription, getName\n",
      "\n",
      "\n"
     ]
    }
   ],
   "source": [
    "# paquetes necesarios para la Bayesian Optimization\n",
    "if(!require(\"DiceKriging\")) install.packages(\"DiceKriging\")\n",
    "require(\"DiceKriging\")\n",
    "\n",
    "if(!require(\"mlrMBO\")) install.packages(\"mlrMBO\")\n",
    "require(\"mlrMBO\")"
   ]
  },
  {
   "cell_type": "markdown",
   "id": "UFbDSYtH0TTT",
   "metadata": {
    "id": "UFbDSYtH0TTT"
   },
   "source": [
    "Definición de la Bayesian Optimization\n",
    "<br> Si se desea optimizar un hiperparámetro que esta como fijo, debe QUITARSE de param_fijos y agregarse a PARAM$hipeparametertuning$hs"
   ]
  },
  {
   "cell_type": "code",
   "execution_count": 37,
   "id": "5Uag3XGHqrfZ",
   "metadata": {
    "id": "5Uag3XGHqrfZ"
   },
   "outputs": [],
   "source": [
    "# valor ridiculamente bajo para que corra rapido en el aula y no molestar a la *Modalidad Gerencial*\n",
    "PARAM$hipeparametertuning$num_interations <- 40\n",
    "\n",
    "# parametros fijos del LightGBM\n",
    "PARAM$lgbm$param_fijos <- list(\n",
    "  objective= \"binary\",\n",
    "  metric= \"auc\",\n",
    "  first_metric_only= TRUE,\n",
    "  boost_from_average= TRUE,\n",
    "  feature_pre_filter= FALSE,\n",
    "  verbosity= -100,\n",
    "  force_row_wise= TRUE, # para evitar warning\n",
    "  seed= PARAM$semilla_primigenia,\n",
    "  max_bin= 31,\n",
    "  #learning_rate= 0.03,\n",
    "  #feature_fraction= 0.5,\n",
    "  num_iterations= 2048,  # valor grande, lo limita early_stopping_rounds\n",
    "  early_stopping_rounds= 200\n",
    ")\n",
    "\n",
    "PARAM$hipeparametertuning$hs <- makeParamSet(\n",
    "  makeIntegerParam(\"num_leaves\", lower = 1500L, upper = 2500L),\n",
    "  makeIntegerParam(\"min_data_in_leaf\", lower = 11, upper = 250L),\n",
    "  makeNumericParam(\"learning_rate\", lower = 0.001, upper = .3),\n",
    "  makeNumericParam(\"feature_fraction\", lower = 0.3, upper = .8)\n",
    ")"
   ]
  },
  {
   "cell_type": "markdown",
   "id": "FEa1UuuAz4yj",
   "metadata": {
    "id": "FEa1UuuAz4yj"
   },
   "source": [
    "Función \"señora caja negra\"  que es llamada para verificar la realidad por la Bayesian Optimization"
   ]
  },
  {
   "cell_type": "code",
   "execution_count": 38,
   "id": "2c10f535-8d90-47d1-ac3d-9b4c24ec21d2",
   "metadata": {
    "id": "2c10f535-8d90-47d1-ac3d-9b4c24ec21d2"
   },
   "outputs": [],
   "source": [
    "# En  x llegan los parmaetros de la bayesiana\n",
    "#  devuelve la AUC en validate del modelo entrenado\n",
    "#  en el parametro x llegan los hiperparámetros que se estan optimizando\n",
    "\n",
    "EstimarGanancia_AUC_lightgbm <- function(x) {\n",
    "\n",
    "  # x pisa (o agrega) a param_fijos\n",
    "  param_completo <- modifyList(PARAM$lgbm$param_fijos, x)\n",
    "\n",
    "  # entreno LightGBM\n",
    "  modelo_train <- lgb.train(\n",
    "    data= dtrain,\n",
    "    valids= list(valid = dvalidate),\n",
    "    eval= \"auc\",\n",
    "    param= param_completo,\n",
    "    verbose= -100\n",
    "  )\n",
    "\n",
    "  # recupero la AUC en validation\n",
    "  AUC <- modelo_train$record_evals$valid$auc$eval[[modelo_train$best_iter]]\n",
    "\n",
    "  # esta es la forma de devolver un parametro extra\n",
    "  attr(AUC, \"extras\") <- list(\"num_iterations\"= modelo_train$best_iter)\n",
    "\n",
    "  # hago espacio en la memoria\n",
    "  rm(modelo_train)\n",
    "  gc(full= TRUE, verbose= FALSE)\n",
    "\n",
    "  message(format(Sys.time(), \"%a %b %d %X %Y\"), \" AUC \", AUC)\n",
    "\n",
    "  return(AUC)\n",
    "}"
   ]
  },
  {
   "cell_type": "markdown",
   "id": "267a35d4-adaf-4271-a875-3864111333b7",
   "metadata": {
    "id": "267a35d4-adaf-4271-a875-3864111333b7"
   },
   "source": [
    "seteo de la Bayesian Optimization (complejo)\n",
    "<br> copiado y pegado de la documentación de la librería"
   ]
  },
  {
   "cell_type": "code",
   "execution_count": 39,
   "id": "43c2a92d-1041-46b8-bff2-47297f209ed2",
   "metadata": {
    "id": "43c2a92d-1041-46b8-bff2-47297f209ed2"
   },
   "outputs": [],
   "source": [
    "configureMlr(show.learner.output = FALSE)\n",
    "\n",
    "# configuro la busqueda bayesiana,  los hiperparametros que se van a optimizar\n",
    "# por favor, no desesperarse por lo complejo\n",
    "obj.fun <- makeSingleObjectiveFunction(\n",
    "    fn= EstimarGanancia_AUC_lightgbm, # la funcion que voy a maximizar\n",
    "    minimize= FALSE, # estoy Maximizando AUC\n",
    "    noisy= FALSE,\n",
    "    par.set= PARAM$hipeparametertuning$hs,\n",
    "    has.simple.signature= FALSE # paso los parametros en una lista\n",
    ")\n",
    "\n",
    "# cada 600 segundos guardo el resultado intermedio\n",
    "ctrl <- makeMBOControl(\n",
    "    save.on.disk.at.time= 600,\n",
    "    save.file.path= \"HT.RDATA\"\n",
    ")\n",
    "\n",
    "# indico la cantidad de iteraciones que va a tener la Bayesian Optimization\n",
    "ctrl <- setMBOControlTermination(\n",
    "    ctrl,\n",
    "    iters= PARAM$hipeparametertuning$num_interations  # cantidad de iteraciones inteligentes\n",
    ")\n",
    "\n",
    "# defino el método estandar para la creacion de los puntos iniciales\n",
    "#   los \"No Inteligentes\"\n",
    "ctrl <- setMBOControlInfill(ctrl, crit = makeMBOInfillCritEI())\n",
    "\n",
    "# mas configuraciones\n",
    "surr.km <- makeLearner(\n",
    "    \"regr.km\",\n",
    "    predict.type= \"se\",\n",
    "    covtype= \"matern3_2\",\n",
    "    control= list(trace = TRUE)\n",
    ")"
   ]
  },
  {
   "cell_type": "markdown",
   "id": "6c1e5645-d26f-4923-a53f-f30471a4c4e8",
   "metadata": {
    "id": "6c1e5645-d26f-4923-a53f-f30471a4c4e8"
   },
   "source": [
    "Corrida de la Bayesian Optimization,  aqui se hace el trabajo pesado\n",
    "<br> por favor no se asuste con los warnings que pudieran aparecer\n",
    "\n",
    "Si corrío a medias y llegó a las iteraciones inteligentes, en el archivo binario HT.RDATA quedó lo ya procesado y es utilizado para retomar la corrida desde lo último que llegó a grabar."
   ]
  },
  {
   "cell_type": "code",
   "execution_count": null,
   "id": "1f8cab3f-c7e2-4802-bfd1-5ad509922a4e",
   "metadata": {
    "colab": {
     "base_uri": "https://localhost:8080/"
    },
    "id": "1f8cab3f-c7e2-4802-bfd1-5ad509922a4e",
    "outputId": "20408e8d-8752-4c94-c9a7-5157538a6e2c",
    "scrolled": true
   },
   "outputs": [
    {
     "name": "stderr",
     "output_type": "stream",
     "text": [
      "Computing y column(s) for design. Not provided.\n",
      "\n",
      "Wed Aug 13 03:26:44 PM 2025 AUC 0.933590837366971\n",
      "\n",
      "Wed Aug 13 03:27:03 PM 2025 AUC 0.924734753081128\n",
      "\n",
      "Wed Aug 13 03:27:34 PM 2025 AUC 0.937144995470123\n",
      "\n",
      "Wed Aug 13 03:27:50 PM 2025 AUC 0.93881699526622\n",
      "\n",
      "Wed Aug 13 03:27:57 PM 2025 AUC 0.869059662309797\n",
      "\n",
      "Wed Aug 13 03:28:34 PM 2025 AUC 0.940593495049574\n",
      "\n",
      "Wed Aug 13 03:28:49 PM 2025 AUC 0.938004166097053\n",
      "\n",
      "Wed Aug 13 03:29:18 PM 2025 AUC 0.939141153763274\n",
      "\n",
      "Wed Aug 13 03:29:35 PM 2025 AUC 0.927790740513324\n",
      "\n",
      "Wed Aug 13 03:29:54 PM 2025 AUC 0.932297910695377\n",
      "\n",
      "Wed Aug 13 03:30:07 PM 2025 AUC 0.925330240813385\n",
      "\n",
      "Wed Aug 13 03:30:18 PM 2025 AUC 0.909343596421513\n",
      "\n"
     ]
    }
   ],
   "source": [
    "# inicio la optimizacion bayesiana\n",
    "\n",
    "if (!file.exists(\"HT.RDATA\")) {\n",
    "  bayesiana_salida <- mbo(obj.fun, learner= surr.km, control= ctrl)\n",
    "} else {\n",
    "  bayesiana_salida <- mboContinue(\"HT.RDATA\") # retomo en caso que ya exista\n",
    "}"
   ]
  },
  {
   "cell_type": "markdown",
   "id": "36307612-964f-4df3-907a-1bc3c095f178",
   "metadata": {
    "id": "36307612-964f-4df3-907a-1bc3c095f178"
   },
   "source": [
    "la bayesian optimization ha corrido, extraigo los mejores hiperparametros"
   ]
  },
  {
   "cell_type": "code",
   "execution_count": null,
   "id": "8c061a2a-3341-4006-a154-c95bb6cfd407",
   "metadata": {
    "colab": {
     "base_uri": "https://localhost:8080/"
    },
    "id": "8c061a2a-3341-4006-a154-c95bb6cfd407",
    "outputId": "4b189740-4449-4e15-cf6e-e8a39c18138a"
   },
   "outputs": [],
   "source": [
    "# almaceno los resultados de la Bayesian Optimization\n",
    "# y capturo los mejores hiperparametros encontrados\n",
    "\n",
    "tb_bayesiana <- as.data.table(bayesiana_salida$opt.path)\n",
    "\n",
    "# ordeno en forma descendente por AUC = y\n",
    "setorder(tb_bayesiana, -y, -num_iterations)\n",
    "\n",
    "# grabo para eventualmente poder utilizarlos en OTRA corrida\n",
    "fwrite( tb_bayesiana,\n",
    "  file=\"BO_log.txt\",\n",
    "  sep=\"\\t\"\n",
    ")\n",
    "\n",
    "# los mejores hiperparámetros son los que quedaron en el registro 1 de la tabla\n",
    "PARAM$out$lgbm$mejores_hiperparametros <- tb_bayesiana[\n",
    "  1, # el primero es el de mejor AUC\n",
    "  list(num_leaves, min_data_in_leaf, num_iterations)\n",
    "]\n",
    "\n",
    "print(PARAM$out$lgbm$mejores_hiperparametros)"
   ]
  },
  {
   "cell_type": "markdown",
   "id": "ddb554cb-1d96-4f6b-ae1c-c9a076f8dbdc",
   "metadata": {
    "id": "ddb554cb-1d96-4f6b-ae1c-c9a076f8dbdc"
   },
   "source": [
    "### 6.3.3 Produccion"
   ]
  },
  {
   "cell_type": "markdown",
   "id": "c39492c3-756f-47a5-8747-93ade8275306",
   "metadata": {
    "id": "c39492c3-756f-47a5-8747-93ade8275306"
   },
   "source": [
    "#### Final Training\n",
    "Construyo el modelo final, que es uno solo, no hace ningun tipo de particion < training, validation, testing>]"
   ]
  },
  {
   "cell_type": "markdown",
   "id": "xhKi_G_sYQqq",
   "metadata": {
    "id": "xhKi_G_sYQqq"
   },
   "source": [
    "##### Final Training Dataset\n",
    "\n",
    "Aqui esta la gran decision de en qué meses hago el Final Training\n",
    "<br> debo utilizar los mejores hiperparámetros que encontré en la optimización bayesiana"
   ]
  },
  {
   "cell_type": "code",
   "execution_count": null,
   "id": "qyHfS_X0zd7o",
   "metadata": {
    "colab": {
     "base_uri": "https://localhost:8080/",
     "height": 34
    },
    "id": "qyHfS_X0zd7o",
    "outputId": "7f217315-dad2-408a-aa63-9db1c9e762fb"
   },
   "outputs": [],
   "source": [
    "PARAM$trainingstrategy$final_train <- c( 202107,\n",
    "  202106, 202105, 202104, 202103, 202102, 202101,\n",
    "  202012, 202011, 202010, 202009, 202008, 202007,\n",
    "  202006, 202005\n",
    ")\n",
    "\n",
    "dataset[, fold_final_train := foto_mes %in% PARAM$trainingstrategy$final_train ]\n",
    "\n",
    "# creo el dfinal_train en formato  LightGBM\n",
    "dfinal_train <- lgb.Dataset(\n",
    "  data= data.matrix(dataset[fold_final_train == TRUE, campos_buenos, with= FALSE]),\n",
    "  label= dataset[fold_final_train == TRUE, clase01],\n",
    "  free_raw_data= TRUE\n",
    ")\n",
    "\n",
    "nrow( dfinal_train) # verifico el tamaño"
   ]
  },
  {
   "cell_type": "markdown",
   "id": "HATRyklxYUpT",
   "metadata": {
    "id": "HATRyklxYUpT"
   },
   "source": [
    "##### Final Training Hyperparameters"
   ]
  },
  {
   "cell_type": "code",
   "execution_count": null,
   "id": "d6b9f33c-e0a0-4ea6-8169-4a6180cc5d01",
   "metadata": {
    "id": "d6b9f33c-e0a0-4ea6-8169-4a6180cc5d01"
   },
   "outputs": [],
   "source": [
    "# uno los parametros fijos y los mejores encontrados de los variables\n",
    "fijos <- copy(PARAM$lgbm$param_fijos)\n",
    "\n",
    "# quito lo que optimice en la Bayesian Optimization\n",
    "fijos$num_iterations <- NULL\n",
    "fijos$early_stopping_rounds <- NULL\n",
    "\n",
    "# agrego a los hiperparametros fijos los que encontre con la Bayesian Optimization\n",
    "param_final <- c(fijos, PARAM$out$lgbm$mejores_hiperparametros)"
   ]
  },
  {
   "cell_type": "markdown",
   "id": "05d3494f-0401-4f3e-9b69-f488a737879d",
   "metadata": {
    "id": "05d3494f-0401-4f3e-9b69-f488a737879d"
   },
   "source": [
    "##### Training\n",
    "Genero el modelo final, siempre sobre TODOS los datos de  final_train, sin hacer ningun tipo de undersampling de la clase mayoritaria"
   ]
  },
  {
   "cell_type": "code",
   "execution_count": null,
   "id": "fa239848-1c28-4ee5-984a-073903b4b279",
   "metadata": {
    "id": "fa239848-1c28-4ee5-984a-073903b4b279"
   },
   "outputs": [],
   "source": [
    "final_model <- lgb.train(\n",
    "  data= dfinal_train,\n",
    "  param= param_final,\n",
    "  verbose= -100\n",
    ")"
   ]
  },
  {
   "cell_type": "code",
   "execution_count": null,
   "id": "RC1ju-5MZN5s",
   "metadata": {
    "id": "RC1ju-5MZN5s"
   },
   "outputs": [],
   "source": [
    "# grabo a disco el modelo en un formato para seres humanos ... ponele ...\n",
    "\n",
    "lgb.save(final_model, \"modelo.txt\")"
   ]
  },
  {
   "cell_type": "code",
   "execution_count": null,
   "id": "VEpv4RYOZHTU",
   "metadata": {
    "id": "VEpv4RYOZHTU"
   },
   "outputs": [],
   "source": [
    "# ahora imprimo la importancia de variables\n",
    "\n",
    "tb_importancia <- as.data.table(lgb.importance(final_model))\n",
    "archivo_importancia <- \"impo.txt\"\n",
    "\n",
    "fwrite( tb_importancia,\n",
    "  file= archivo_importancia,\n",
    "  sep= \"\\t\"\n",
    ")"
   ]
  },
  {
   "cell_type": "markdown",
   "id": "7ea225b3-ce02-42e2-8330-b10ed250d172",
   "metadata": {
    "id": "7ea225b3-ce02-42e2-8330-b10ed250d172"
   },
   "source": [
    "#### Scoring"
   ]
  },
  {
   "cell_type": "markdown",
   "id": "164981bb-f4c1-4228-8bc9-32e58a383c05",
   "metadata": {
    "id": "164981bb-f4c1-4228-8bc9-32e58a383c05"
   },
   "source": [
    "Aplico el modelo final a los datos del futuro"
   ]
  },
  {
   "cell_type": "code",
   "execution_count": null,
   "id": "eJ7RbT271v-R",
   "metadata": {
    "id": "eJ7RbT271v-R"
   },
   "outputs": [],
   "source": [
    "PARAM$trainingstrategy$future <- c(202109)\n",
    "\n",
    "dfuture <- dataset[ foto_mes %in% PARAM$trainingstrategy$future ]"
   ]
  },
  {
   "cell_type": "code",
   "execution_count": null,
   "id": "88ca61c8-fa24-4ce5-8be1-323aca018e8f",
   "metadata": {
    "id": "88ca61c8-fa24-4ce5-8be1-323aca018e8f"
   },
   "outputs": [],
   "source": [
    "# aplico final_model   a dfuture\n",
    "\n",
    "prediccion <- predict(\n",
    "  final_model,\n",
    "  data.matrix(dfuture[, campos_buenos, with= FALSE])\n",
    ")"
   ]
  },
  {
   "cell_type": "markdown",
   "id": "79u0ZvjJZblE",
   "metadata": {
    "id": "79u0ZvjJZblE"
   },
   "source": [
    "##### Tabla Prediccion"
   ]
  },
  {
   "cell_type": "code",
   "execution_count": null,
   "id": "TB6aerGDZeTo",
   "metadata": {
    "id": "TB6aerGDZeTo"
   },
   "outputs": [],
   "source": [
    "tb_prediccion <- dfuture[, list(numero_de_cliente)]\n",
    "tb_prediccion[, prob := prediccion]\n",
    "\n",
    "# grabo las probabilidad del modelo\n",
    "#  me va a ser util para hacer Ensembles de modelos\n",
    "fwrite(tb_prediccion,\n",
    "  file= \"prediccion.txt\",\n",
    "  sep= \"\\t\"\n",
    ")"
   ]
  },
  {
   "cell_type": "markdown",
   "id": "8412d838-5bd5-454e-b3a9-5eaa18d80a50",
   "metadata": {
    "id": "8412d838-5bd5-454e-b3a9-5eaa18d80a50"
   },
   "source": [
    "#### Kaggle Competition Submit"
   ]
  },
  {
   "cell_type": "markdown",
   "id": "55970cb6-856a-46e3-a893-7f36b8352b8e",
   "metadata": {
    "id": "55970cb6-856a-46e3-a893-7f36b8352b8e"
   },
   "source": [
    "Genero las salidas y hago los submits a Kaggle\n",
    "<br>El notebook esta preparado para la Modalidad Gerencial, los analistas deben hacer cambios.\n",
    "<br> Los analistas deben cambiar **competencia** a SU competencia  \"data-mining-analista-jr-2025-a\"   o  la original \"data-mining-analista-sr-2025-a\"  para los Senior\n",
    "<br> Los cortes  dependen de la cantidad de registros, multiplicar por 2 para los Analistas Jr y por 10 para los Analista Sr\n",
    "\n",
    "Los Analista Sr luego de meditar cuidadosamente reducirán la cantidad de cortes"
   ]
  },
  {
   "cell_type": "code",
   "execution_count": null,
   "id": "e5fa2439-b0e9-49e0-a861-71d7315d6e1c",
   "metadata": {
    "colab": {
     "base_uri": "https://localhost:8080/"
    },
    "id": "e5fa2439-b0e9-49e0-a861-71d7315d6e1c",
    "outputId": "3be8566b-4042-4d69-aecb-4b6d40fe71c0"
   },
   "outputs": [],
   "source": [
    "# genero archivos con los  \"envios\" mejores\n",
    "# suba TODOS los archivos a Kaggle\n",
    "\n",
    "PARAM$kaggle$competencia <- \"data-mining-gerencial-2025-a\"\n",
    "PARAM$kaggle$cortes <- seq(800, 1300, by = 50)\n",
    "\n",
    "# ordeno por probabilidad descendente\n",
    "setorder(tb_prediccion, -prob)\n",
    "\n",
    "dir.create(\"kaggle\")\n",
    "\n",
    "for (envios in PARAM$kaggle$cortes) {\n",
    "\n",
    "  tb_prediccion[, Predicted := 0L] # seteo inicial a 0\n",
    "  tb_prediccion[1:envios, Predicted := 1L] # marclo los primeros\n",
    "\n",
    "  archivo_kaggle <- paste0(\"./kaggle/KA\", PARAM$experimento, \"_\", envios, \".csv\")\n",
    "\n",
    "  # grabo el archivo\n",
    "  fwrite(tb_prediccion[, list(numero_de_cliente, Predicted)],\n",
    "    file= archivo_kaggle,\n",
    "    sep= \",\"\n",
    "  )\n",
    "\n",
    "  # subida a Kaggle, armo la linea de comando\n",
    "  comando <- \"kaggle competitions submit\"\n",
    "  competencia <- paste(\"-c\", PARAM$kaggle$competencia)\n",
    "  arch <- paste( \"-f\", archivo_kaggle)\n",
    "\n",
    "  mensaje <- paste0(\"-m 'envios=\", envios,\n",
    "  \"  semilla=\", PARAM$semilla_primigenia,\n",
    "    \"'\" )\n",
    "    cat(mensaje)\n",
    "  linea <- paste( comando, competencia, arch, mensaje)\n",
    "  salida <- system(linea, intern=TRUE) # el submit a Kaggle\n",
    "  cat(salida, \"\\n\")\n",
    "}"
   ]
  },
  {
   "cell_type": "code",
   "execution_count": null,
   "id": "C94tK-xid6p2",
   "metadata": {
    "colab": {
     "base_uri": "https://localhost:8080/"
    },
    "id": "C94tK-xid6p2",
    "outputId": "91c264c3-ac87-44aa-a6d9-a413e002e4b2"
   },
   "outputs": [],
   "source": [
    "# grabo los parametros\n",
    "if( !require(\"yaml\")) install.packages(\"yaml\")\n",
    "require(\"yaml\")\n",
    "\n",
    "write_yaml( PARAM, file=\"PARAM.yml\")"
   ]
  },
  {
   "cell_type": "code",
   "execution_count": null,
   "id": "1b615a62-20cc-4e95-9af2-6b6db38d5efb",
   "metadata": {
    "colab": {
     "base_uri": "https://localhost:8080/",
     "height": 34
    },
    "id": "1b615a62-20cc-4e95-9af2-6b6db38d5efb",
    "outputId": "8cb98a4d-b8c4-43da-d462-51cbbd87489a"
   },
   "outputs": [],
   "source": [
    "format(Sys.time(), \"%a %b %d %X %Y\")"
   ]
  },
  {
   "cell_type": "code",
   "execution_count": null,
   "id": "0742bae0-3c73-42f5-a559-df70af9e1674",
   "metadata": {
    "id": "0742bae0-3c73-42f5-a559-df70af9e1674"
   },
   "outputs": [],
   "source": []
  },
  {
   "cell_type": "code",
   "execution_count": null,
   "id": "27e3e7b5-ed69-401b-b70a-7da713bcb0e6",
   "metadata": {},
   "outputs": [],
   "source": []
  },
  {
   "cell_type": "code",
   "execution_count": null,
   "id": "62a449ed-4a0e-427a-8076-093c470c0311",
   "metadata": {},
   "outputs": [],
   "source": []
  },
  {
   "cell_type": "code",
   "execution_count": null,
   "id": "5da24462-be68-40e6-aa4a-44ec39248f14",
   "metadata": {},
   "outputs": [],
   "source": []
  },
  {
   "cell_type": "code",
   "execution_count": null,
   "id": "23075816-6278-4bb7-8626-a409258a9585",
   "metadata": {},
   "outputs": [],
   "source": []
  },
  {
   "cell_type": "code",
   "execution_count": null,
   "id": "df110e8d-5917-4d93-b9e4-016f211ece9b",
   "metadata": {},
   "outputs": [],
   "source": []
  }
 ],
 "metadata": {
  "colab": {
   "provenance": []
  },
  "kernelspec": {
   "display_name": "R",
   "language": "R",
   "name": "ir"
  },
  "language_info": {
   "codemirror_mode": "r",
   "file_extension": ".r",
   "mimetype": "text/x-r-source",
   "name": "R",
   "pygments_lexer": "r",
   "version": "4.5.1"
  }
 },
 "nbformat": 4,
 "nbformat_minor": 5
}
