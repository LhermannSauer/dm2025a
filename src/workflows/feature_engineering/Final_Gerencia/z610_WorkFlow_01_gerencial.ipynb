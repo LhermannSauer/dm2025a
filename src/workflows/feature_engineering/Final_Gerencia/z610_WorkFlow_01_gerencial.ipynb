{
 "cells": [
  {
   "cell_type": "markdown",
   "id": "oSKhZRToy2F7",
   "metadata": {
    "id": "oSKhZRToy2F7"
   },
   "source": [
    "## 6.3  Workflow"
   ]
  },
  {
   "cell_type": "markdown",
   "id": "85171302-a2d6-48cb-b9b2-8d839a276859",
   "metadata": {
    "id": "85171302-a2d6-48cb-b9b2-8d839a276859"
   },
   "source": [
    "## Inicializacion"
   ]
  },
  {
   "cell_type": "markdown",
   "id": "eSU5vi00CPRS",
   "metadata": {
    "id": "eSU5vi00CPRS"
   },
   "source": [
    "Esta parte se debe correr con el runtime en lenguaje **R** Ir al menu, Runtime -> Change Runtime Type -> Runtime type -> R"
   ]
  },
  {
   "cell_type": "markdown",
   "id": "Zq8dySimCPRT",
   "metadata": {
    "id": "Zq8dySimCPRT"
   },
   "source": [
    "limpio el ambiente de R"
   ]
  },
  {
   "cell_type": "code",
   "execution_count": 1,
   "id": "EL8wdHaUs59K",
   "metadata": {
    "id": "EL8wdHaUs59K"
   },
   "outputs": [
    {
     "data": {
      "text/html": [
       "'Thu Aug 14 03:00:16 PM 2025'"
      ],
      "text/latex": [
       "'Thu Aug 14 03:00:16 PM 2025'"
      ],
      "text/markdown": [
       "'Thu Aug 14 03:00:16 PM 2025'"
      ],
      "text/plain": [
       "[1] \"Thu Aug 14 03:00:16 PM 2025\""
      ]
     },
     "metadata": {},
     "output_type": "display_data"
    }
   ],
   "source": [
    "format(Sys.time(), \"%a %b %d %X %Y\")"
   ]
  },
  {
   "cell_type": "code",
   "execution_count": 2,
   "id": "1iE0U4_WCPRT",
   "metadata": {
    "id": "1iE0U4_WCPRT"
   },
   "outputs": [
    {
     "data": {
      "text/html": [
       "<table class=\"dataframe\">\n",
       "<caption>A matrix: 2 × 6 of type dbl</caption>\n",
       "<thead>\n",
       "\t<tr><th></th><th scope=col>used</th><th scope=col>(Mb)</th><th scope=col>gc trigger</th><th scope=col>(Mb)</th><th scope=col>max used</th><th scope=col>(Mb)</th></tr>\n",
       "</thead>\n",
       "<tbody>\n",
       "\t<tr><th scope=row>Ncells</th><td> 661569</td><td>35.4</td><td>1454232</td><td>77.7</td><td>1386331</td><td>74.1</td></tr>\n",
       "\t<tr><th scope=row>Vcells</th><td>1231660</td><td> 9.4</td><td>8388608</td><td>64.0</td><td>1975448</td><td>15.1</td></tr>\n",
       "</tbody>\n",
       "</table>\n"
      ],
      "text/latex": [
       "A matrix: 2 × 6 of type dbl\n",
       "\\begin{tabular}{r|llllll}\n",
       "  & used & (Mb) & gc trigger & (Mb) & max used & (Mb)\\\\\n",
       "\\hline\n",
       "\tNcells &  661569 & 35.4 & 1454232 & 77.7 & 1386331 & 74.1\\\\\n",
       "\tVcells & 1231660 &  9.4 & 8388608 & 64.0 & 1975448 & 15.1\\\\\n",
       "\\end{tabular}\n"
      ],
      "text/markdown": [
       "\n",
       "A matrix: 2 × 6 of type dbl\n",
       "\n",
       "| <!--/--> | used | (Mb) | gc trigger | (Mb) | max used | (Mb) |\n",
       "|---|---|---|---|---|---|---|\n",
       "| Ncells |  661569 | 35.4 | 1454232 | 77.7 | 1386331 | 74.1 |\n",
       "| Vcells | 1231660 |  9.4 | 8388608 | 64.0 | 1975448 | 15.1 |\n",
       "\n"
      ],
      "text/plain": [
       "       used    (Mb) gc trigger (Mb) max used (Mb)\n",
       "Ncells  661569 35.4 1454232    77.7 1386331  74.1\n",
       "Vcells 1231660  9.4 8388608    64.0 1975448  15.1"
      ]
     },
     "metadata": {},
     "output_type": "display_data"
    }
   ],
   "source": [
    "# limpio la memoria\n",
    "rm(list=ls(all.names=TRUE)) # remove all objects\n",
    "gc(full=TRUE, verbose=FALSE) # garbage collection"
   ]
  },
  {
   "cell_type": "code",
   "execution_count": 3,
   "id": "atmIUEUNUrK5",
   "metadata": {
    "id": "atmIUEUNUrK5"
   },
   "outputs": [
    {
     "name": "stderr",
     "output_type": "stream",
     "text": [
      "Loading required package: data.table\n",
      "\n",
      "Loading required package: R.utils\n",
      "\n",
      "Loading required package: R.oo\n",
      "\n",
      "Loading required package: R.methodsS3\n",
      "\n",
      "R.methodsS3 v1.8.2 (2022-06-13 22:00:14 UTC) successfully loaded. See ?R.methodsS3 for help.\n",
      "\n",
      "R.oo v1.27.1 (2025-05-02 21:00:05 UTC) successfully loaded. See ?R.oo for help.\n",
      "\n",
      "\n",
      "Attaching package: ‘R.oo’\n",
      "\n",
      "\n",
      "The following object is masked from ‘package:R.methodsS3’:\n",
      "\n",
      "    throw\n",
      "\n",
      "\n",
      "The following objects are masked from ‘package:methods’:\n",
      "\n",
      "    getClasses, getMethods\n",
      "\n",
      "\n",
      "The following objects are masked from ‘package:base’:\n",
      "\n",
      "    attach, detach, load, save\n",
      "\n",
      "\n",
      "R.utils v2.13.0 (2025-02-24 21:20:02 UTC) successfully loaded. See ?R.utils for help.\n",
      "\n",
      "\n",
      "Attaching package: ‘R.utils’\n",
      "\n",
      "\n",
      "The following object is masked from ‘package:utils’:\n",
      "\n",
      "    timestamp\n",
      "\n",
      "\n",
      "The following objects are masked from ‘package:base’:\n",
      "\n",
      "    cat, commandArgs, getOption, isOpen, nullfile, parse, use, warnings\n",
      "\n",
      "\n"
     ]
    }
   ],
   "source": [
    "require(\"data.table\")\n",
    "\n",
    "if( !require(\"R.utils\")) install.packages(\"R.utils\")\n",
    "require(\"R.utils\")"
   ]
  },
  {
   "cell_type": "code",
   "execution_count": 4,
   "id": "18f9ad8a-b6d7-4047-a86a-03c379d0cfe0",
   "metadata": {
    "id": "bf65dd12-5293-40d0-b534-0792e80f6ce8",
    "vscode": {
     "languageId": "r"
    }
   },
   "outputs": [],
   "source": [
    "add_log = function(message){\n",
    "    cat(message, file = paste0(getwd(), '/logs.txt'),append=TRUE)\n",
    "}"
   ]
  },
  {
   "cell_type": "markdown",
   "id": "BsxZ_ONyj9L_",
   "metadata": {
    "id": "BsxZ_ONyj9L_"
   },
   "source": [
    "#### Parametros\n",
    "Si es gerente, no cambie nada\n",
    "<br>Si es Analista, cambie el nombre del dataset"
   ]
  },
  {
   "cell_type": "code",
   "execution_count": 5,
   "id": "peRH7ySLCPRV",
   "metadata": {
    "id": "peRH7ySLCPRV"
   },
   "outputs": [],
   "source": [
    "PARAM <- list()\n",
    "PARAM$semilla_primigenia <- 424243\n",
    "\n",
    "PARAM$experimento <- '6300_gerencial_GENALGO_depth=20_gens=4_pop=1200'\n",
    "PARAM$dataset <- \"gerencial_competencia_2025.csv.gz\""
   ]
  },
  {
   "cell_type": "markdown",
   "id": "NoJbKo_4NG8A",
   "metadata": {
    "id": "NoJbKo_4NG8A"
   },
   "source": [
    "#### Carpeta del Experimento"
   ]
  },
  {
   "cell_type": "code",
   "execution_count": 6,
   "id": "1gZD6ZMvCPRV",
   "metadata": {
    "id": "1gZD6ZMvCPRV"
   },
   "outputs": [],
   "source": [
    "# carpeta de trabajo\n",
    "experimento_folder <- paste0(\"WF\", PARAM$experimento)\n",
    "dir.create(paste0(\"./exp/\",experimento_folder))\n",
    "setwd(paste0(\"./exp/\", experimento_folder ))"
   ]
  },
  {
   "cell_type": "markdown",
   "id": "YVKBfLtkR8SO",
   "metadata": {
    "id": "YVKBfLtkR8SO"
   },
   "source": [
    "### 6.3.1   Preprocesamiento del dataset"
   ]
  },
  {
   "cell_type": "markdown",
   "id": "cr3K0RPVRjq6",
   "metadata": {
    "id": "cr3K0RPVRjq6"
   },
   "source": [
    "#### 6.3.1.1  DT incorporar dataset"
   ]
  },
  {
   "cell_type": "code",
   "execution_count": 7,
   "id": "Xi0emX2ECPRV",
   "metadata": {
    "id": "Xi0emX2ECPRV"
   },
   "outputs": [],
   "source": [
    "# lectura del dataset\n",
    "dataset <- fread(\"~/OneDrive/0.ITBA/Mineria_de_datos/dm2025a/src/workflows/gerencial_competencia_2025.csv.gz\")"
   ]
  },
  {
   "cell_type": "markdown",
   "id": "MWuPzK3nSLY3",
   "metadata": {
    "id": "MWuPzK3nSLY3"
   },
   "source": [
    "#### 6.3.1.2  CA  Catastrophe Analysis\n",
    "Se intentan reparar las variables que para un mes están con todos los valores en cero."
   ]
  },
  {
   "cell_type": "markdown",
   "id": "UAI16-yCVcBS",
   "metadata": {
    "id": "UAI16-yCVcBS"
   },
   "source": [
    "El método que se utiliza es **Machine Learning** se asigna NA also valores, si ha leido bien, es la \"anti imputación de valores faltantes\"\n",
    "<br> Usted podrá aplicar aquí otros métodos"
   ]
  },
  {
   "cell_type": "code",
   "execution_count": 8,
   "id": "sTmliO_FXv9E",
   "metadata": {
    "id": "sTmliO_FXv9E"
   },
   "outputs": [],
   "source": [
    "dataset[ foto_mes==202006, internet:=NA]\n",
    "dataset[ foto_mes==202006, mrentabilidad:=NA]\n",
    "dataset[ foto_mes==202006, mrentabilidad_annual:=NA]\n",
    "dataset[ foto_mes==202006, mcomisiones:=NA]\n",
    "dataset[ foto_mes==202006, mactivos_margen:=NA]\n",
    "dataset[ foto_mes==202006, mpasivos_margen:=NA]\n",
    "dataset[ foto_mes==202006, mcuentas_saldo:=NA]\n",
    "dataset[ foto_mes==202006, ctarjeta_visa_transacciones:=NA]\n",
    "dataset[ foto_mes==202006, mtarjeta_visa_consumo:=NA]\n",
    "dataset[ foto_mes==202006, mtarjeta_master_consumo:=NA]\n",
    "dataset[ foto_mes==202006, ccallcenter_transacciones:=NA]\n",
    "dataset[ foto_mes==202006, chomebanking_transacciones:=NA]\n",
    "dataset[ foto_mes==202006, chomebanking_transacciones:=NA]"
   ]
  },
  {
   "cell_type": "markdown",
   "id": "-4NiANYFSYHG",
   "metadata": {
    "id": "-4NiANYFSYHG"
   },
   "source": [
    "#### 6.3.1.3  DR  Data Drifting\n",
    "Se intenta corregir el data drifting, quizas ajustando por IPC ...\n",
    "<br>Esta parte podrá ser abordada por todos los Analistas y también la Gerenciapero se decide pedagogicamente no incluirla en esta primer version para reducir la carga cognitiva"
   ]
  },
  {
   "cell_type": "code",
   "execution_count": 9,
   "id": "L85A2lwKSe3k",
   "metadata": {
    "id": "L85A2lwKSe3k"
   },
   "outputs": [],
   "source": [
    "# sin codigo en esta primera version del workflow"
   ]
  },
  {
   "cell_type": "markdown",
   "id": "7sppIDYeSn5X",
   "metadata": {
    "id": "7sppIDYeSn5X"
   },
   "source": [
    "#### 6.3.1.3  FE_intra_manual Feature Engineering intra-mes\n",
    "\n",
    "Agrego campos nuevos dentro del mismo mes, SIN considerar la historia."
   ]
  },
  {
   "cell_type": "code",
   "execution_count": 10,
   "id": "qrqf3j3_St3p",
   "metadata": {
    "id": "qrqf3j3_St3p"
   },
   "outputs": [],
   "source": [
    "# esta funcion atributos presentes existe debido a que las modalidades poseen datasets con distinta cantidad de campos\n",
    "atributos_presentes <- function( patributos )\n",
    "{\n",
    "  atributos <- unique( patributos )\n",
    "  comun <- intersect( atributos, colnames(dataset) )\n",
    "\n",
    "  return(  length( atributos ) == length( comun ) )\n",
    "}\n",
    "\n",
    "# el mes 1,2, ..12\n",
    "if( atributos_presentes( c(\"foto_mes\") ))\n",
    "  dataset[, kmes := foto_mes %% 100]\n",
    "\n",
    "# variable extraida de una tesis de maestria de Irlanda\n",
    "if( atributos_presentes( c(\"mpayroll\", \"cliente_edad\") ))\n",
    "  dataset[, mpayroll_sobre_edad := mpayroll / cliente_edad]\n"
   ]
  },
  {
   "cell_type": "code",
   "execution_count": 11,
   "id": "iC4viwOdY5Kp",
   "metadata": {
    "id": "iC4viwOdY5Kp"
   },
   "outputs": [
    {
     "data": {
      "text/html": [
       "<style>\n",
       ".list-inline {list-style: none; margin:0; padding: 0}\n",
       ".list-inline>li {display: inline-block}\n",
       ".list-inline>li:not(:last-child)::after {content: \"\\00b7\"; padding: 0 .5ex}\n",
       "</style>\n",
       "<ol class=list-inline><li>'numero_de_cliente'</li><li>'foto_mes'</li><li>'internet'</li><li>'cliente_edad'</li><li>'cliente_antiguedad'</li><li>'mrentabilidad'</li><li>'mrentabilidad_annual'</li><li>'mcomisiones'</li><li>'mactivos_margen'</li><li>'mpasivos_margen'</li><li>'cproductos'</li><li>'mcuenta_corriente'</li><li>'mcaja_ahorro'</li><li>'cdescubierto_preacordado'</li><li>'mcuentas_saldo'</li><li>'ctarjeta_visa_transacciones'</li><li>'mtarjeta_visa_consumo'</li><li>'mtarjeta_master_consumo'</li><li>'mprestamos_personales'</li><li>'cpayroll_trx'</li><li>'mpayroll'</li><li>'ccomisiones_mantenimiento'</li><li>'ccallcenter_transacciones'</li><li>'chomebanking_transacciones'</li><li>'ctrx_quarter'</li><li>'Master_status'</li><li>'Master_fechaalta'</li><li>'Master_mpagominimo'</li><li>'Visa_status'</li><li>'Visa_fechaalta'</li><li>'Visa_mpagominimo'</li><li>'clase_ternaria'</li><li>'kmes'</li><li>'mpayroll_sobre_edad'</li></ol>\n"
      ],
      "text/latex": [
       "\\begin{enumerate*}\n",
       "\\item 'numero\\_de\\_cliente'\n",
       "\\item 'foto\\_mes'\n",
       "\\item 'internet'\n",
       "\\item 'cliente\\_edad'\n",
       "\\item 'cliente\\_antiguedad'\n",
       "\\item 'mrentabilidad'\n",
       "\\item 'mrentabilidad\\_annual'\n",
       "\\item 'mcomisiones'\n",
       "\\item 'mactivos\\_margen'\n",
       "\\item 'mpasivos\\_margen'\n",
       "\\item 'cproductos'\n",
       "\\item 'mcuenta\\_corriente'\n",
       "\\item 'mcaja\\_ahorro'\n",
       "\\item 'cdescubierto\\_preacordado'\n",
       "\\item 'mcuentas\\_saldo'\n",
       "\\item 'ctarjeta\\_visa\\_transacciones'\n",
       "\\item 'mtarjeta\\_visa\\_consumo'\n",
       "\\item 'mtarjeta\\_master\\_consumo'\n",
       "\\item 'mprestamos\\_personales'\n",
       "\\item 'cpayroll\\_trx'\n",
       "\\item 'mpayroll'\n",
       "\\item 'ccomisiones\\_mantenimiento'\n",
       "\\item 'ccallcenter\\_transacciones'\n",
       "\\item 'chomebanking\\_transacciones'\n",
       "\\item 'ctrx\\_quarter'\n",
       "\\item 'Master\\_status'\n",
       "\\item 'Master\\_fechaalta'\n",
       "\\item 'Master\\_mpagominimo'\n",
       "\\item 'Visa\\_status'\n",
       "\\item 'Visa\\_fechaalta'\n",
       "\\item 'Visa\\_mpagominimo'\n",
       "\\item 'clase\\_ternaria'\n",
       "\\item 'kmes'\n",
       "\\item 'mpayroll\\_sobre\\_edad'\n",
       "\\end{enumerate*}\n"
      ],
      "text/markdown": [
       "1. 'numero_de_cliente'\n",
       "2. 'foto_mes'\n",
       "3. 'internet'\n",
       "4. 'cliente_edad'\n",
       "5. 'cliente_antiguedad'\n",
       "6. 'mrentabilidad'\n",
       "7. 'mrentabilidad_annual'\n",
       "8. 'mcomisiones'\n",
       "9. 'mactivos_margen'\n",
       "10. 'mpasivos_margen'\n",
       "11. 'cproductos'\n",
       "12. 'mcuenta_corriente'\n",
       "13. 'mcaja_ahorro'\n",
       "14. 'cdescubierto_preacordado'\n",
       "15. 'mcuentas_saldo'\n",
       "16. 'ctarjeta_visa_transacciones'\n",
       "17. 'mtarjeta_visa_consumo'\n",
       "18. 'mtarjeta_master_consumo'\n",
       "19. 'mprestamos_personales'\n",
       "20. 'cpayroll_trx'\n",
       "21. 'mpayroll'\n",
       "22. 'ccomisiones_mantenimiento'\n",
       "23. 'ccallcenter_transacciones'\n",
       "24. 'chomebanking_transacciones'\n",
       "25. 'ctrx_quarter'\n",
       "26. 'Master_status'\n",
       "27. 'Master_fechaalta'\n",
       "28. 'Master_mpagominimo'\n",
       "29. 'Visa_status'\n",
       "30. 'Visa_fechaalta'\n",
       "31. 'Visa_mpagominimo'\n",
       "32. 'clase_ternaria'\n",
       "33. 'kmes'\n",
       "34. 'mpayroll_sobre_edad'\n",
       "\n",
       "\n"
      ],
      "text/plain": [
       " [1] \"numero_de_cliente\"           \"foto_mes\"                   \n",
       " [3] \"internet\"                    \"cliente_edad\"               \n",
       " [5] \"cliente_antiguedad\"          \"mrentabilidad\"              \n",
       " [7] \"mrentabilidad_annual\"        \"mcomisiones\"                \n",
       " [9] \"mactivos_margen\"             \"mpasivos_margen\"            \n",
       "[11] \"cproductos\"                  \"mcuenta_corriente\"          \n",
       "[13] \"mcaja_ahorro\"                \"cdescubierto_preacordado\"   \n",
       "[15] \"mcuentas_saldo\"              \"ctarjeta_visa_transacciones\"\n",
       "[17] \"mtarjeta_visa_consumo\"       \"mtarjeta_master_consumo\"    \n",
       "[19] \"mprestamos_personales\"       \"cpayroll_trx\"               \n",
       "[21] \"mpayroll\"                    \"ccomisiones_mantenimiento\"  \n",
       "[23] \"ccallcenter_transacciones\"   \"chomebanking_transacciones\" \n",
       "[25] \"ctrx_quarter\"                \"Master_status\"              \n",
       "[27] \"Master_fechaalta\"            \"Master_mpagominimo\"         \n",
       "[29] \"Visa_status\"                 \"Visa_fechaalta\"             \n",
       "[31] \"Visa_mpagominimo\"            \"clase_ternaria\"             \n",
       "[33] \"kmes\"                        \"mpayroll_sobre_edad\"        "
      ]
     },
     "metadata": {},
     "output_type": "display_data"
    }
   ],
   "source": [
    "# visualizo las columas del dataset a esta etapa\n",
    "colnames(dataset)"
   ]
  },
  {
   "cell_type": "markdown",
   "id": "9682b4ca-3ab3-4bbc-a36a-b185361e6b6b",
   "metadata": {
    "id": "9682b4ca-3ab3-4bbc-a36a-b185361e6b6b"
   },
   "source": [
    "#### 6.3.1.4  FE_rf Feature Engineering de nuevas variables a partir de hojas de Random Forest\n",
    "\n",
    "Esto se mostrará unicamente a la *modalidad Analista Sr*"
   ]
  },
  {
   "cell_type": "code",
   "execution_count": 12,
   "id": "ljA3h0jOcciP",
   "metadata": {
    "id": "ljA3h0jOcciP"
   },
   "outputs": [],
   "source": [
    "# No se implementa Feature Engineering a partir de Random Forest"
   ]
  },
  {
   "cell_type": "markdown",
   "id": "XaRBjQj8ZRUZ",
   "metadata": {
    "id": "XaRBjQj8ZRUZ"
   },
   "source": [
    "#### 6.3.1.5  FEhist Feature Engineering historico\n",
    "\n",
    "El Fature Engineering Histórico es la etapa que más aporta a la ganancia final, ya que enriquece cada registro del dataset con su historia."
   ]
  },
  {
   "cell_type": "markdown",
   "id": "cfe3b8cf-0707-4512-92e7-c1407bb3f73b",
   "metadata": {
    "id": "cfe3b8cf-0707-4512-92e7-c1407bb3f73b"
   },
   "source": [
    "Para cada campo del dataset original (*)\n",
    "se crean lo siguientes campos de a partir de la historia\n",
    "* lag1  lags de orden 1\n",
    "* delta1  =  valor actual - lag1\n",
    "* lag2  lags de orden 2\n",
    "* delta2  = valor actual - lag2\n",
    "\n",
    "\n",
    "(*) Excepto para los campos  <numero_de_cliente,  foto_mes,  clase_ternaria>"
   ]
  },
  {
   "cell_type": "code",
   "execution_count": 13,
   "id": "7850b948-827d-4a2a-b4d3-a5e459b47c11",
   "metadata": {
    "id": "7850b948-827d-4a2a-b4d3-a5e459b47c11"
   },
   "outputs": [],
   "source": [
    "# Feature Engineering Historico\n",
    "\n",
    "# todo es lagueable, menos la primary key y la clase\n",
    "cols_lagueables <- copy( setdiff(\n",
    "    colnames(dataset),\n",
    "    c(\"numero_de_cliente\", \"foto_mes\", \"clase_ternaria\")\n",
    ") )\n",
    "\n",
    "# https://rdrr.io/cran/data.table/man/shift.html\n",
    "\n",
    "# lags de orden 1\n",
    "dataset[,\n",
    "    paste0(cols_lagueables, \"_lag1\") := shift(.SD, 1, NA, \"lag\"),\n",
    "    by = numero_de_cliente,\n",
    "    .SDcols = cols_lagueables\n",
    "]\n",
    "\n",
    "# lags de orden 2\n",
    "dataset[,\n",
    "    paste0(cols_lagueables, \"_lag2\") := shift(.SD, 2, NA, \"lag\"),\n",
    "    by = numero_de_cliente,\n",
    "    .SDcols = cols_lagueables\n",
    "]\n",
    "\n",
    "# agrego los delta lags\n",
    "for (vcol in cols_lagueables)\n",
    "{\n",
    "    dataset[, paste0(vcol, \"_delta1\") := get(vcol) - get(paste0(vcol, \"_lag1\"))]\n",
    "    dataset[, paste0(vcol, \"_delta2\") := get(vcol) - get(paste0(vcol, \"_lag2\"))]\n",
    "}\n"
   ]
  },
  {
   "cell_type": "markdown",
   "id": "cea690d9-ece9-4852-a5e2-f337c31b6721",
   "metadata": {
    "id": "cea690d9-ece9-4852-a5e2-f337c31b6721"
   },
   "source": [
    "Verificacion de los campos recien creados"
   ]
  },
  {
   "cell_type": "code",
   "execution_count": 14,
   "id": "f772896b-595a-47d4-8905-c15304ac9452",
   "metadata": {
    "id": "f772896b-595a-47d4-8905-c15304ac9452"
   },
   "outputs": [
    {
     "data": {
      "text/html": [
       "158"
      ],
      "text/latex": [
       "158"
      ],
      "text/markdown": [
       "158"
      ],
      "text/plain": [
       "[1] 158"
      ]
     },
     "metadata": {},
     "output_type": "display_data"
    },
    {
     "data": {
      "text/html": [
       "<style>\n",
       ".list-inline {list-style: none; margin:0; padding: 0}\n",
       ".list-inline>li {display: inline-block}\n",
       ".list-inline>li:not(:last-child)::after {content: \"\\00b7\"; padding: 0 .5ex}\n",
       "</style>\n",
       "<ol class=list-inline><li>'numero_de_cliente'</li><li>'foto_mes'</li><li>'internet'</li><li>'cliente_edad'</li><li>'cliente_antiguedad'</li><li>'mrentabilidad'</li><li>'mrentabilidad_annual'</li><li>'mcomisiones'</li><li>'mactivos_margen'</li><li>'mpasivos_margen'</li><li>'cproductos'</li><li>'mcuenta_corriente'</li><li>'mcaja_ahorro'</li><li>'cdescubierto_preacordado'</li><li>'mcuentas_saldo'</li><li>'ctarjeta_visa_transacciones'</li><li>'mtarjeta_visa_consumo'</li><li>'mtarjeta_master_consumo'</li><li>'mprestamos_personales'</li><li>'cpayroll_trx'</li><li>'mpayroll'</li><li>'ccomisiones_mantenimiento'</li><li>'ccallcenter_transacciones'</li><li>'chomebanking_transacciones'</li><li>'ctrx_quarter'</li><li>'Master_status'</li><li>'Master_fechaalta'</li><li>'Master_mpagominimo'</li><li>'Visa_status'</li><li>'Visa_fechaalta'</li><li>'Visa_mpagominimo'</li><li>'clase_ternaria'</li><li>'kmes'</li><li>'mpayroll_sobre_edad'</li><li>'internet_lag1'</li><li>'cliente_edad_lag1'</li><li>'cliente_antiguedad_lag1'</li><li>'mrentabilidad_lag1'</li><li>'mrentabilidad_annual_lag1'</li><li>'mcomisiones_lag1'</li><li>'mactivos_margen_lag1'</li><li>'mpasivos_margen_lag1'</li><li>'cproductos_lag1'</li><li>'mcuenta_corriente_lag1'</li><li>'mcaja_ahorro_lag1'</li><li>'cdescubierto_preacordado_lag1'</li><li>'mcuentas_saldo_lag1'</li><li>'ctarjeta_visa_transacciones_lag1'</li><li>'mtarjeta_visa_consumo_lag1'</li><li>'mtarjeta_master_consumo_lag1'</li><li>'mprestamos_personales_lag1'</li><li>'cpayroll_trx_lag1'</li><li>'mpayroll_lag1'</li><li>'ccomisiones_mantenimiento_lag1'</li><li>'ccallcenter_transacciones_lag1'</li><li>'chomebanking_transacciones_lag1'</li><li>'ctrx_quarter_lag1'</li><li>'Master_status_lag1'</li><li>'Master_fechaalta_lag1'</li><li>'Master_mpagominimo_lag1'</li><li>'Visa_status_lag1'</li><li>'Visa_fechaalta_lag1'</li><li>'Visa_mpagominimo_lag1'</li><li>'kmes_lag1'</li><li>'mpayroll_sobre_edad_lag1'</li><li>'internet_lag2'</li><li>'cliente_edad_lag2'</li><li>'cliente_antiguedad_lag2'</li><li>'mrentabilidad_lag2'</li><li>'mrentabilidad_annual_lag2'</li><li>'mcomisiones_lag2'</li><li>'mactivos_margen_lag2'</li><li>'mpasivos_margen_lag2'</li><li>'cproductos_lag2'</li><li>'mcuenta_corriente_lag2'</li><li>'mcaja_ahorro_lag2'</li><li>'cdescubierto_preacordado_lag2'</li><li>'mcuentas_saldo_lag2'</li><li>'ctarjeta_visa_transacciones_lag2'</li><li>'mtarjeta_visa_consumo_lag2'</li><li>'mtarjeta_master_consumo_lag2'</li><li>'mprestamos_personales_lag2'</li><li>'cpayroll_trx_lag2'</li><li>'mpayroll_lag2'</li><li>'ccomisiones_mantenimiento_lag2'</li><li>'ccallcenter_transacciones_lag2'</li><li>'chomebanking_transacciones_lag2'</li><li>'ctrx_quarter_lag2'</li><li>'Master_status_lag2'</li><li>'Master_fechaalta_lag2'</li><li>'Master_mpagominimo_lag2'</li><li>'Visa_status_lag2'</li><li>'Visa_fechaalta_lag2'</li><li>'Visa_mpagominimo_lag2'</li><li>'kmes_lag2'</li><li>'mpayroll_sobre_edad_lag2'</li><li>'internet_delta1'</li><li>'internet_delta2'</li><li>'cliente_edad_delta1'</li><li>'cliente_edad_delta2'</li><li>'cliente_antiguedad_delta1'</li><li>'cliente_antiguedad_delta2'</li><li>'mrentabilidad_delta1'</li><li>'mrentabilidad_delta2'</li><li>'mrentabilidad_annual_delta1'</li><li>'mrentabilidad_annual_delta2'</li><li>'mcomisiones_delta1'</li><li>'mcomisiones_delta2'</li><li>'mactivos_margen_delta1'</li><li>'mactivos_margen_delta2'</li><li>'mpasivos_margen_delta1'</li><li>'mpasivos_margen_delta2'</li><li>'cproductos_delta1'</li><li>'cproductos_delta2'</li><li>'mcuenta_corriente_delta1'</li><li>'mcuenta_corriente_delta2'</li><li>'mcaja_ahorro_delta1'</li><li>'mcaja_ahorro_delta2'</li><li>'cdescubierto_preacordado_delta1'</li><li>'cdescubierto_preacordado_delta2'</li><li>'mcuentas_saldo_delta1'</li><li>'mcuentas_saldo_delta2'</li><li>'ctarjeta_visa_transacciones_delta1'</li><li>'ctarjeta_visa_transacciones_delta2'</li><li>'mtarjeta_visa_consumo_delta1'</li><li>'mtarjeta_visa_consumo_delta2'</li><li>'mtarjeta_master_consumo_delta1'</li><li>'mtarjeta_master_consumo_delta2'</li><li>'mprestamos_personales_delta1'</li><li>'mprestamos_personales_delta2'</li><li>'cpayroll_trx_delta1'</li><li>'cpayroll_trx_delta2'</li><li>'mpayroll_delta1'</li><li>'mpayroll_delta2'</li><li>'ccomisiones_mantenimiento_delta1'</li><li>'ccomisiones_mantenimiento_delta2'</li><li>'ccallcenter_transacciones_delta1'</li><li>'ccallcenter_transacciones_delta2'</li><li>'chomebanking_transacciones_delta1'</li><li>'chomebanking_transacciones_delta2'</li><li>'ctrx_quarter_delta1'</li><li>'ctrx_quarter_delta2'</li><li>'Master_status_delta1'</li><li>'Master_status_delta2'</li><li>'Master_fechaalta_delta1'</li><li>'Master_fechaalta_delta2'</li><li>'Master_mpagominimo_delta1'</li><li>'Master_mpagominimo_delta2'</li><li>'Visa_status_delta1'</li><li>'Visa_status_delta2'</li><li>'Visa_fechaalta_delta1'</li><li>'Visa_fechaalta_delta2'</li><li>'Visa_mpagominimo_delta1'</li><li>'Visa_mpagominimo_delta2'</li><li>'kmes_delta1'</li><li>'kmes_delta2'</li><li>'mpayroll_sobre_edad_delta1'</li><li>'mpayroll_sobre_edad_delta2'</li></ol>\n"
      ],
      "text/latex": [
       "\\begin{enumerate*}\n",
       "\\item 'numero\\_de\\_cliente'\n",
       "\\item 'foto\\_mes'\n",
       "\\item 'internet'\n",
       "\\item 'cliente\\_edad'\n",
       "\\item 'cliente\\_antiguedad'\n",
       "\\item 'mrentabilidad'\n",
       "\\item 'mrentabilidad\\_annual'\n",
       "\\item 'mcomisiones'\n",
       "\\item 'mactivos\\_margen'\n",
       "\\item 'mpasivos\\_margen'\n",
       "\\item 'cproductos'\n",
       "\\item 'mcuenta\\_corriente'\n",
       "\\item 'mcaja\\_ahorro'\n",
       "\\item 'cdescubierto\\_preacordado'\n",
       "\\item 'mcuentas\\_saldo'\n",
       "\\item 'ctarjeta\\_visa\\_transacciones'\n",
       "\\item 'mtarjeta\\_visa\\_consumo'\n",
       "\\item 'mtarjeta\\_master\\_consumo'\n",
       "\\item 'mprestamos\\_personales'\n",
       "\\item 'cpayroll\\_trx'\n",
       "\\item 'mpayroll'\n",
       "\\item 'ccomisiones\\_mantenimiento'\n",
       "\\item 'ccallcenter\\_transacciones'\n",
       "\\item 'chomebanking\\_transacciones'\n",
       "\\item 'ctrx\\_quarter'\n",
       "\\item 'Master\\_status'\n",
       "\\item 'Master\\_fechaalta'\n",
       "\\item 'Master\\_mpagominimo'\n",
       "\\item 'Visa\\_status'\n",
       "\\item 'Visa\\_fechaalta'\n",
       "\\item 'Visa\\_mpagominimo'\n",
       "\\item 'clase\\_ternaria'\n",
       "\\item 'kmes'\n",
       "\\item 'mpayroll\\_sobre\\_edad'\n",
       "\\item 'internet\\_lag1'\n",
       "\\item 'cliente\\_edad\\_lag1'\n",
       "\\item 'cliente\\_antiguedad\\_lag1'\n",
       "\\item 'mrentabilidad\\_lag1'\n",
       "\\item 'mrentabilidad\\_annual\\_lag1'\n",
       "\\item 'mcomisiones\\_lag1'\n",
       "\\item 'mactivos\\_margen\\_lag1'\n",
       "\\item 'mpasivos\\_margen\\_lag1'\n",
       "\\item 'cproductos\\_lag1'\n",
       "\\item 'mcuenta\\_corriente\\_lag1'\n",
       "\\item 'mcaja\\_ahorro\\_lag1'\n",
       "\\item 'cdescubierto\\_preacordado\\_lag1'\n",
       "\\item 'mcuentas\\_saldo\\_lag1'\n",
       "\\item 'ctarjeta\\_visa\\_transacciones\\_lag1'\n",
       "\\item 'mtarjeta\\_visa\\_consumo\\_lag1'\n",
       "\\item 'mtarjeta\\_master\\_consumo\\_lag1'\n",
       "\\item 'mprestamos\\_personales\\_lag1'\n",
       "\\item 'cpayroll\\_trx\\_lag1'\n",
       "\\item 'mpayroll\\_lag1'\n",
       "\\item 'ccomisiones\\_mantenimiento\\_lag1'\n",
       "\\item 'ccallcenter\\_transacciones\\_lag1'\n",
       "\\item 'chomebanking\\_transacciones\\_lag1'\n",
       "\\item 'ctrx\\_quarter\\_lag1'\n",
       "\\item 'Master\\_status\\_lag1'\n",
       "\\item 'Master\\_fechaalta\\_lag1'\n",
       "\\item 'Master\\_mpagominimo\\_lag1'\n",
       "\\item 'Visa\\_status\\_lag1'\n",
       "\\item 'Visa\\_fechaalta\\_lag1'\n",
       "\\item 'Visa\\_mpagominimo\\_lag1'\n",
       "\\item 'kmes\\_lag1'\n",
       "\\item 'mpayroll\\_sobre\\_edad\\_lag1'\n",
       "\\item 'internet\\_lag2'\n",
       "\\item 'cliente\\_edad\\_lag2'\n",
       "\\item 'cliente\\_antiguedad\\_lag2'\n",
       "\\item 'mrentabilidad\\_lag2'\n",
       "\\item 'mrentabilidad\\_annual\\_lag2'\n",
       "\\item 'mcomisiones\\_lag2'\n",
       "\\item 'mactivos\\_margen\\_lag2'\n",
       "\\item 'mpasivos\\_margen\\_lag2'\n",
       "\\item 'cproductos\\_lag2'\n",
       "\\item 'mcuenta\\_corriente\\_lag2'\n",
       "\\item 'mcaja\\_ahorro\\_lag2'\n",
       "\\item 'cdescubierto\\_preacordado\\_lag2'\n",
       "\\item 'mcuentas\\_saldo\\_lag2'\n",
       "\\item 'ctarjeta\\_visa\\_transacciones\\_lag2'\n",
       "\\item 'mtarjeta\\_visa\\_consumo\\_lag2'\n",
       "\\item 'mtarjeta\\_master\\_consumo\\_lag2'\n",
       "\\item 'mprestamos\\_personales\\_lag2'\n",
       "\\item 'cpayroll\\_trx\\_lag2'\n",
       "\\item 'mpayroll\\_lag2'\n",
       "\\item 'ccomisiones\\_mantenimiento\\_lag2'\n",
       "\\item 'ccallcenter\\_transacciones\\_lag2'\n",
       "\\item 'chomebanking\\_transacciones\\_lag2'\n",
       "\\item 'ctrx\\_quarter\\_lag2'\n",
       "\\item 'Master\\_status\\_lag2'\n",
       "\\item 'Master\\_fechaalta\\_lag2'\n",
       "\\item 'Master\\_mpagominimo\\_lag2'\n",
       "\\item 'Visa\\_status\\_lag2'\n",
       "\\item 'Visa\\_fechaalta\\_lag2'\n",
       "\\item 'Visa\\_mpagominimo\\_lag2'\n",
       "\\item 'kmes\\_lag2'\n",
       "\\item 'mpayroll\\_sobre\\_edad\\_lag2'\n",
       "\\item 'internet\\_delta1'\n",
       "\\item 'internet\\_delta2'\n",
       "\\item 'cliente\\_edad\\_delta1'\n",
       "\\item 'cliente\\_edad\\_delta2'\n",
       "\\item 'cliente\\_antiguedad\\_delta1'\n",
       "\\item 'cliente\\_antiguedad\\_delta2'\n",
       "\\item 'mrentabilidad\\_delta1'\n",
       "\\item 'mrentabilidad\\_delta2'\n",
       "\\item 'mrentabilidad\\_annual\\_delta1'\n",
       "\\item 'mrentabilidad\\_annual\\_delta2'\n",
       "\\item 'mcomisiones\\_delta1'\n",
       "\\item 'mcomisiones\\_delta2'\n",
       "\\item 'mactivos\\_margen\\_delta1'\n",
       "\\item 'mactivos\\_margen\\_delta2'\n",
       "\\item 'mpasivos\\_margen\\_delta1'\n",
       "\\item 'mpasivos\\_margen\\_delta2'\n",
       "\\item 'cproductos\\_delta1'\n",
       "\\item 'cproductos\\_delta2'\n",
       "\\item 'mcuenta\\_corriente\\_delta1'\n",
       "\\item 'mcuenta\\_corriente\\_delta2'\n",
       "\\item 'mcaja\\_ahorro\\_delta1'\n",
       "\\item 'mcaja\\_ahorro\\_delta2'\n",
       "\\item 'cdescubierto\\_preacordado\\_delta1'\n",
       "\\item 'cdescubierto\\_preacordado\\_delta2'\n",
       "\\item 'mcuentas\\_saldo\\_delta1'\n",
       "\\item 'mcuentas\\_saldo\\_delta2'\n",
       "\\item 'ctarjeta\\_visa\\_transacciones\\_delta1'\n",
       "\\item 'ctarjeta\\_visa\\_transacciones\\_delta2'\n",
       "\\item 'mtarjeta\\_visa\\_consumo\\_delta1'\n",
       "\\item 'mtarjeta\\_visa\\_consumo\\_delta2'\n",
       "\\item 'mtarjeta\\_master\\_consumo\\_delta1'\n",
       "\\item 'mtarjeta\\_master\\_consumo\\_delta2'\n",
       "\\item 'mprestamos\\_personales\\_delta1'\n",
       "\\item 'mprestamos\\_personales\\_delta2'\n",
       "\\item 'cpayroll\\_trx\\_delta1'\n",
       "\\item 'cpayroll\\_trx\\_delta2'\n",
       "\\item 'mpayroll\\_delta1'\n",
       "\\item 'mpayroll\\_delta2'\n",
       "\\item 'ccomisiones\\_mantenimiento\\_delta1'\n",
       "\\item 'ccomisiones\\_mantenimiento\\_delta2'\n",
       "\\item 'ccallcenter\\_transacciones\\_delta1'\n",
       "\\item 'ccallcenter\\_transacciones\\_delta2'\n",
       "\\item 'chomebanking\\_transacciones\\_delta1'\n",
       "\\item 'chomebanking\\_transacciones\\_delta2'\n",
       "\\item 'ctrx\\_quarter\\_delta1'\n",
       "\\item 'ctrx\\_quarter\\_delta2'\n",
       "\\item 'Master\\_status\\_delta1'\n",
       "\\item 'Master\\_status\\_delta2'\n",
       "\\item 'Master\\_fechaalta\\_delta1'\n",
       "\\item 'Master\\_fechaalta\\_delta2'\n",
       "\\item 'Master\\_mpagominimo\\_delta1'\n",
       "\\item 'Master\\_mpagominimo\\_delta2'\n",
       "\\item 'Visa\\_status\\_delta1'\n",
       "\\item 'Visa\\_status\\_delta2'\n",
       "\\item 'Visa\\_fechaalta\\_delta1'\n",
       "\\item 'Visa\\_fechaalta\\_delta2'\n",
       "\\item 'Visa\\_mpagominimo\\_delta1'\n",
       "\\item 'Visa\\_mpagominimo\\_delta2'\n",
       "\\item 'kmes\\_delta1'\n",
       "\\item 'kmes\\_delta2'\n",
       "\\item 'mpayroll\\_sobre\\_edad\\_delta1'\n",
       "\\item 'mpayroll\\_sobre\\_edad\\_delta2'\n",
       "\\end{enumerate*}\n"
      ],
      "text/markdown": [
       "1. 'numero_de_cliente'\n",
       "2. 'foto_mes'\n",
       "3. 'internet'\n",
       "4. 'cliente_edad'\n",
       "5. 'cliente_antiguedad'\n",
       "6. 'mrentabilidad'\n",
       "7. 'mrentabilidad_annual'\n",
       "8. 'mcomisiones'\n",
       "9. 'mactivos_margen'\n",
       "10. 'mpasivos_margen'\n",
       "11. 'cproductos'\n",
       "12. 'mcuenta_corriente'\n",
       "13. 'mcaja_ahorro'\n",
       "14. 'cdescubierto_preacordado'\n",
       "15. 'mcuentas_saldo'\n",
       "16. 'ctarjeta_visa_transacciones'\n",
       "17. 'mtarjeta_visa_consumo'\n",
       "18. 'mtarjeta_master_consumo'\n",
       "19. 'mprestamos_personales'\n",
       "20. 'cpayroll_trx'\n",
       "21. 'mpayroll'\n",
       "22. 'ccomisiones_mantenimiento'\n",
       "23. 'ccallcenter_transacciones'\n",
       "24. 'chomebanking_transacciones'\n",
       "25. 'ctrx_quarter'\n",
       "26. 'Master_status'\n",
       "27. 'Master_fechaalta'\n",
       "28. 'Master_mpagominimo'\n",
       "29. 'Visa_status'\n",
       "30. 'Visa_fechaalta'\n",
       "31. 'Visa_mpagominimo'\n",
       "32. 'clase_ternaria'\n",
       "33. 'kmes'\n",
       "34. 'mpayroll_sobre_edad'\n",
       "35. 'internet_lag1'\n",
       "36. 'cliente_edad_lag1'\n",
       "37. 'cliente_antiguedad_lag1'\n",
       "38. 'mrentabilidad_lag1'\n",
       "39. 'mrentabilidad_annual_lag1'\n",
       "40. 'mcomisiones_lag1'\n",
       "41. 'mactivos_margen_lag1'\n",
       "42. 'mpasivos_margen_lag1'\n",
       "43. 'cproductos_lag1'\n",
       "44. 'mcuenta_corriente_lag1'\n",
       "45. 'mcaja_ahorro_lag1'\n",
       "46. 'cdescubierto_preacordado_lag1'\n",
       "47. 'mcuentas_saldo_lag1'\n",
       "48. 'ctarjeta_visa_transacciones_lag1'\n",
       "49. 'mtarjeta_visa_consumo_lag1'\n",
       "50. 'mtarjeta_master_consumo_lag1'\n",
       "51. 'mprestamos_personales_lag1'\n",
       "52. 'cpayroll_trx_lag1'\n",
       "53. 'mpayroll_lag1'\n",
       "54. 'ccomisiones_mantenimiento_lag1'\n",
       "55. 'ccallcenter_transacciones_lag1'\n",
       "56. 'chomebanking_transacciones_lag1'\n",
       "57. 'ctrx_quarter_lag1'\n",
       "58. 'Master_status_lag1'\n",
       "59. 'Master_fechaalta_lag1'\n",
       "60. 'Master_mpagominimo_lag1'\n",
       "61. 'Visa_status_lag1'\n",
       "62. 'Visa_fechaalta_lag1'\n",
       "63. 'Visa_mpagominimo_lag1'\n",
       "64. 'kmes_lag1'\n",
       "65. 'mpayroll_sobre_edad_lag1'\n",
       "66. 'internet_lag2'\n",
       "67. 'cliente_edad_lag2'\n",
       "68. 'cliente_antiguedad_lag2'\n",
       "69. 'mrentabilidad_lag2'\n",
       "70. 'mrentabilidad_annual_lag2'\n",
       "71. 'mcomisiones_lag2'\n",
       "72. 'mactivos_margen_lag2'\n",
       "73. 'mpasivos_margen_lag2'\n",
       "74. 'cproductos_lag2'\n",
       "75. 'mcuenta_corriente_lag2'\n",
       "76. 'mcaja_ahorro_lag2'\n",
       "77. 'cdescubierto_preacordado_lag2'\n",
       "78. 'mcuentas_saldo_lag2'\n",
       "79. 'ctarjeta_visa_transacciones_lag2'\n",
       "80. 'mtarjeta_visa_consumo_lag2'\n",
       "81. 'mtarjeta_master_consumo_lag2'\n",
       "82. 'mprestamos_personales_lag2'\n",
       "83. 'cpayroll_trx_lag2'\n",
       "84. 'mpayroll_lag2'\n",
       "85. 'ccomisiones_mantenimiento_lag2'\n",
       "86. 'ccallcenter_transacciones_lag2'\n",
       "87. 'chomebanking_transacciones_lag2'\n",
       "88. 'ctrx_quarter_lag2'\n",
       "89. 'Master_status_lag2'\n",
       "90. 'Master_fechaalta_lag2'\n",
       "91. 'Master_mpagominimo_lag2'\n",
       "92. 'Visa_status_lag2'\n",
       "93. 'Visa_fechaalta_lag2'\n",
       "94. 'Visa_mpagominimo_lag2'\n",
       "95. 'kmes_lag2'\n",
       "96. 'mpayroll_sobre_edad_lag2'\n",
       "97. 'internet_delta1'\n",
       "98. 'internet_delta2'\n",
       "99. 'cliente_edad_delta1'\n",
       "100. 'cliente_edad_delta2'\n",
       "101. 'cliente_antiguedad_delta1'\n",
       "102. 'cliente_antiguedad_delta2'\n",
       "103. 'mrentabilidad_delta1'\n",
       "104. 'mrentabilidad_delta2'\n",
       "105. 'mrentabilidad_annual_delta1'\n",
       "106. 'mrentabilidad_annual_delta2'\n",
       "107. 'mcomisiones_delta1'\n",
       "108. 'mcomisiones_delta2'\n",
       "109. 'mactivos_margen_delta1'\n",
       "110. 'mactivos_margen_delta2'\n",
       "111. 'mpasivos_margen_delta1'\n",
       "112. 'mpasivos_margen_delta2'\n",
       "113. 'cproductos_delta1'\n",
       "114. 'cproductos_delta2'\n",
       "115. 'mcuenta_corriente_delta1'\n",
       "116. 'mcuenta_corriente_delta2'\n",
       "117. 'mcaja_ahorro_delta1'\n",
       "118. 'mcaja_ahorro_delta2'\n",
       "119. 'cdescubierto_preacordado_delta1'\n",
       "120. 'cdescubierto_preacordado_delta2'\n",
       "121. 'mcuentas_saldo_delta1'\n",
       "122. 'mcuentas_saldo_delta2'\n",
       "123. 'ctarjeta_visa_transacciones_delta1'\n",
       "124. 'ctarjeta_visa_transacciones_delta2'\n",
       "125. 'mtarjeta_visa_consumo_delta1'\n",
       "126. 'mtarjeta_visa_consumo_delta2'\n",
       "127. 'mtarjeta_master_consumo_delta1'\n",
       "128. 'mtarjeta_master_consumo_delta2'\n",
       "129. 'mprestamos_personales_delta1'\n",
       "130. 'mprestamos_personales_delta2'\n",
       "131. 'cpayroll_trx_delta1'\n",
       "132. 'cpayroll_trx_delta2'\n",
       "133. 'mpayroll_delta1'\n",
       "134. 'mpayroll_delta2'\n",
       "135. 'ccomisiones_mantenimiento_delta1'\n",
       "136. 'ccomisiones_mantenimiento_delta2'\n",
       "137. 'ccallcenter_transacciones_delta1'\n",
       "138. 'ccallcenter_transacciones_delta2'\n",
       "139. 'chomebanking_transacciones_delta1'\n",
       "140. 'chomebanking_transacciones_delta2'\n",
       "141. 'ctrx_quarter_delta1'\n",
       "142. 'ctrx_quarter_delta2'\n",
       "143. 'Master_status_delta1'\n",
       "144. 'Master_status_delta2'\n",
       "145. 'Master_fechaalta_delta1'\n",
       "146. 'Master_fechaalta_delta2'\n",
       "147. 'Master_mpagominimo_delta1'\n",
       "148. 'Master_mpagominimo_delta2'\n",
       "149. 'Visa_status_delta1'\n",
       "150. 'Visa_status_delta2'\n",
       "151. 'Visa_fechaalta_delta1'\n",
       "152. 'Visa_fechaalta_delta2'\n",
       "153. 'Visa_mpagominimo_delta1'\n",
       "154. 'Visa_mpagominimo_delta2'\n",
       "155. 'kmes_delta1'\n",
       "156. 'kmes_delta2'\n",
       "157. 'mpayroll_sobre_edad_delta1'\n",
       "158. 'mpayroll_sobre_edad_delta2'\n",
       "\n",
       "\n"
      ],
      "text/plain": [
       "  [1] \"numero_de_cliente\"                  \"foto_mes\"                          \n",
       "  [3] \"internet\"                           \"cliente_edad\"                      \n",
       "  [5] \"cliente_antiguedad\"                 \"mrentabilidad\"                     \n",
       "  [7] \"mrentabilidad_annual\"               \"mcomisiones\"                       \n",
       "  [9] \"mactivos_margen\"                    \"mpasivos_margen\"                   \n",
       " [11] \"cproductos\"                         \"mcuenta_corriente\"                 \n",
       " [13] \"mcaja_ahorro\"                       \"cdescubierto_preacordado\"          \n",
       " [15] \"mcuentas_saldo\"                     \"ctarjeta_visa_transacciones\"       \n",
       " [17] \"mtarjeta_visa_consumo\"              \"mtarjeta_master_consumo\"           \n",
       " [19] \"mprestamos_personales\"              \"cpayroll_trx\"                      \n",
       " [21] \"mpayroll\"                           \"ccomisiones_mantenimiento\"         \n",
       " [23] \"ccallcenter_transacciones\"          \"chomebanking_transacciones\"        \n",
       " [25] \"ctrx_quarter\"                       \"Master_status\"                     \n",
       " [27] \"Master_fechaalta\"                   \"Master_mpagominimo\"                \n",
       " [29] \"Visa_status\"                        \"Visa_fechaalta\"                    \n",
       " [31] \"Visa_mpagominimo\"                   \"clase_ternaria\"                    \n",
       " [33] \"kmes\"                               \"mpayroll_sobre_edad\"               \n",
       " [35] \"internet_lag1\"                      \"cliente_edad_lag1\"                 \n",
       " [37] \"cliente_antiguedad_lag1\"            \"mrentabilidad_lag1\"                \n",
       " [39] \"mrentabilidad_annual_lag1\"          \"mcomisiones_lag1\"                  \n",
       " [41] \"mactivos_margen_lag1\"               \"mpasivos_margen_lag1\"              \n",
       " [43] \"cproductos_lag1\"                    \"mcuenta_corriente_lag1\"            \n",
       " [45] \"mcaja_ahorro_lag1\"                  \"cdescubierto_preacordado_lag1\"     \n",
       " [47] \"mcuentas_saldo_lag1\"                \"ctarjeta_visa_transacciones_lag1\"  \n",
       " [49] \"mtarjeta_visa_consumo_lag1\"         \"mtarjeta_master_consumo_lag1\"      \n",
       " [51] \"mprestamos_personales_lag1\"         \"cpayroll_trx_lag1\"                 \n",
       " [53] \"mpayroll_lag1\"                      \"ccomisiones_mantenimiento_lag1\"    \n",
       " [55] \"ccallcenter_transacciones_lag1\"     \"chomebanking_transacciones_lag1\"   \n",
       " [57] \"ctrx_quarter_lag1\"                  \"Master_status_lag1\"                \n",
       " [59] \"Master_fechaalta_lag1\"              \"Master_mpagominimo_lag1\"           \n",
       " [61] \"Visa_status_lag1\"                   \"Visa_fechaalta_lag1\"               \n",
       " [63] \"Visa_mpagominimo_lag1\"              \"kmes_lag1\"                         \n",
       " [65] \"mpayroll_sobre_edad_lag1\"           \"internet_lag2\"                     \n",
       " [67] \"cliente_edad_lag2\"                  \"cliente_antiguedad_lag2\"           \n",
       " [69] \"mrentabilidad_lag2\"                 \"mrentabilidad_annual_lag2\"         \n",
       " [71] \"mcomisiones_lag2\"                   \"mactivos_margen_lag2\"              \n",
       " [73] \"mpasivos_margen_lag2\"               \"cproductos_lag2\"                   \n",
       " [75] \"mcuenta_corriente_lag2\"             \"mcaja_ahorro_lag2\"                 \n",
       " [77] \"cdescubierto_preacordado_lag2\"      \"mcuentas_saldo_lag2\"               \n",
       " [79] \"ctarjeta_visa_transacciones_lag2\"   \"mtarjeta_visa_consumo_lag2\"        \n",
       " [81] \"mtarjeta_master_consumo_lag2\"       \"mprestamos_personales_lag2\"        \n",
       " [83] \"cpayroll_trx_lag2\"                  \"mpayroll_lag2\"                     \n",
       " [85] \"ccomisiones_mantenimiento_lag2\"     \"ccallcenter_transacciones_lag2\"    \n",
       " [87] \"chomebanking_transacciones_lag2\"    \"ctrx_quarter_lag2\"                 \n",
       " [89] \"Master_status_lag2\"                 \"Master_fechaalta_lag2\"             \n",
       " [91] \"Master_mpagominimo_lag2\"            \"Visa_status_lag2\"                  \n",
       " [93] \"Visa_fechaalta_lag2\"                \"Visa_mpagominimo_lag2\"             \n",
       " [95] \"kmes_lag2\"                          \"mpayroll_sobre_edad_lag2\"          \n",
       " [97] \"internet_delta1\"                    \"internet_delta2\"                   \n",
       " [99] \"cliente_edad_delta1\"                \"cliente_edad_delta2\"               \n",
       "[101] \"cliente_antiguedad_delta1\"          \"cliente_antiguedad_delta2\"         \n",
       "[103] \"mrentabilidad_delta1\"               \"mrentabilidad_delta2\"              \n",
       "[105] \"mrentabilidad_annual_delta1\"        \"mrentabilidad_annual_delta2\"       \n",
       "[107] \"mcomisiones_delta1\"                 \"mcomisiones_delta2\"                \n",
       "[109] \"mactivos_margen_delta1\"             \"mactivos_margen_delta2\"            \n",
       "[111] \"mpasivos_margen_delta1\"             \"mpasivos_margen_delta2\"            \n",
       "[113] \"cproductos_delta1\"                  \"cproductos_delta2\"                 \n",
       "[115] \"mcuenta_corriente_delta1\"           \"mcuenta_corriente_delta2\"          \n",
       "[117] \"mcaja_ahorro_delta1\"                \"mcaja_ahorro_delta2\"               \n",
       "[119] \"cdescubierto_preacordado_delta1\"    \"cdescubierto_preacordado_delta2\"   \n",
       "[121] \"mcuentas_saldo_delta1\"              \"mcuentas_saldo_delta2\"             \n",
       "[123] \"ctarjeta_visa_transacciones_delta1\" \"ctarjeta_visa_transacciones_delta2\"\n",
       "[125] \"mtarjeta_visa_consumo_delta1\"       \"mtarjeta_visa_consumo_delta2\"      \n",
       "[127] \"mtarjeta_master_consumo_delta1\"     \"mtarjeta_master_consumo_delta2\"    \n",
       "[129] \"mprestamos_personales_delta1\"       \"mprestamos_personales_delta2\"      \n",
       "[131] \"cpayroll_trx_delta1\"                \"cpayroll_trx_delta2\"               \n",
       "[133] \"mpayroll_delta1\"                    \"mpayroll_delta2\"                   \n",
       "[135] \"ccomisiones_mantenimiento_delta1\"   \"ccomisiones_mantenimiento_delta2\"  \n",
       "[137] \"ccallcenter_transacciones_delta1\"   \"ccallcenter_transacciones_delta2\"  \n",
       "[139] \"chomebanking_transacciones_delta1\"  \"chomebanking_transacciones_delta2\" \n",
       "[141] \"ctrx_quarter_delta1\"                \"ctrx_quarter_delta2\"               \n",
       "[143] \"Master_status_delta1\"               \"Master_status_delta2\"              \n",
       "[145] \"Master_fechaalta_delta1\"            \"Master_fechaalta_delta2\"           \n",
       "[147] \"Master_mpagominimo_delta1\"          \"Master_mpagominimo_delta2\"         \n",
       "[149] \"Visa_status_delta1\"                 \"Visa_status_delta2\"                \n",
       "[151] \"Visa_fechaalta_delta1\"              \"Visa_fechaalta_delta2\"             \n",
       "[153] \"Visa_mpagominimo_delta1\"            \"Visa_mpagominimo_delta2\"           \n",
       "[155] \"kmes_delta1\"                        \"kmes_delta2\"                       \n",
       "[157] \"mpayroll_sobre_edad_delta1\"         \"mpayroll_sobre_edad_delta2\"        "
      ]
     },
     "metadata": {},
     "output_type": "display_data"
    }
   ],
   "source": [
    "ncol(dataset)\n",
    "colnames(dataset)"
   ]
  },
  {
   "cell_type": "markdown",
   "id": "l8mKij0XaDY0",
   "metadata": {
    "id": "l8mKij0XaDY0"
   },
   "source": [
    "#### 6.3.1.6  FEhist Reduccion dimensionalidad con canaritos\n",
    "\n",
    "Esta etapa solo se mostrará a la *modalidad Anlista Sr* por algun canal secreto de forma de no confundir a los *Analista Jr*  nni distraer con detalles operativos a la estratégica *Modalidad Gerencial*"
   ]
  },
  {
   "cell_type": "code",
   "execution_count": 15,
   "id": "QrmnPtlBcEgx",
   "metadata": {
    "id": "QrmnPtlBcEgx"
   },
   "outputs": [],
   "source": [
    "# No se implementa la reduccion de la dimensionalidad con canaritos"
   ]
  },
  {
   "cell_type": "code",
   "execution_count": 16,
   "id": "bf8d36aa-dfda-4570-92bf-cad8dddc1720",
   "metadata": {
    "colab": {
     "base_uri": "https://localhost:8080/"
    },
    "id": "5cba0808-ec21-4863-848f-5da11f50a371",
    "outputId": "b3ed4d8d-e46d-40e4-dfbc-6cfd7ce2169b"
   },
   "outputs": [
    {
     "name": "stderr",
     "output_type": "stream",
     "text": [
      "Loading required package: gramEvol\n",
      "\n",
      "Loading required package: primes\n",
      "\n",
      "Loading required package: lightgbm\n",
      "\n",
      "Loading required package: GA\n",
      "\n",
      "Loading required package: foreach\n",
      "\n",
      "Loading required package: iterators\n",
      "\n",
      "Package 'GA' version 3.2.4\n",
      "Type 'citation(\"GA\")' for citing this R package in publications.\n",
      "\n",
      "\n",
      "Attaching package: ‘GA’\n",
      "\n",
      "\n",
      "The following object is masked from ‘package:utils’:\n",
      "\n",
      "    de\n",
      "\n",
      "\n",
      "Loading required package: stringr\n",
      "\n"
     ]
    }
   ],
   "source": [
    "#if( !require(\"rgenoud\")) install.packages(\"rgenoud\")\n",
    "if( !require(\"gramEvol\")) install.packages(\"gramEvol\")\n",
    "if( !require(\"primes\")) install.packages(\"primes\")\n",
    "if( !require(\"lightgbm\")) install.packages(\"lightgbm\")\n",
    "if( !require(\"GA\")) install.packages(\"GA\")\n",
    "if( !require(\"stringr\")) install.packages(\"stringr\")\n",
    "\n",
    "require(\"gramEvol\")\n",
    "require(\"primes\")\n",
    "require(\"GA\")\n",
    "require(\"stringr\")\n",
    "require(\"lightgbm\")"
   ]
  },
  {
   "cell_type": "code",
   "execution_count": 17,
   "id": "9d4dbec0-f64c-4730-a35f-c9094d57b916",
   "metadata": {
    "id": "e246cdbe-583e-453e-98a9-78c66bfe3866"
   },
   "outputs": [],
   "source": [
    "campos_monetarios <- colnames(dataset)\n",
    "campos_rf <- colnames(dataset)\n",
    "campos_int <- colnames(dataset)\n",
    "campos_lag <- colnames(dataset)\n",
    "\n",
    "is_bool_column <- function(columname) {\n",
    "    tryCatch({\n",
    "      if (class(max(dataset[[columname]])) %in% c('numeric', 'integer')){\n",
    "      maxx = max(dataset[[columname]])\n",
    "      minn = min(dataset[[columname]])\n",
    "      return ((maxx - minn) == 1)\n",
    "} else{\n",
    "          return (FALSE)\n",
    "  }\n",
    "}, error = function(e){\n",
    "        FALSE\n",
    "})}\n",
    "\n",
    "get_non_bool_cols <- function(dataset) {\n",
    "      all_cols <-ames(dataset)\n",
    "      bool_cols <- sapply(all_cols, function(col) is_bool_column(dataset, col))\n",
    "      return(all_cols[!bool_cols])\n",
    "    }\n",
    "                          \n",
    "campos_a_omitir = c('numero_de_cliente','foto_mes','azar','clase_ternaria')\n",
    "                          \n",
    "actualizar_campos = function(){\n",
    "    campos_monetarios <- colnames(dataset)\n",
    "    campos_rf <- colnames(dataset)\n",
    "    campos_int <- colnames(dataset)\n",
    "    campos_lag <- colnames(dataset)\n",
    "    campos_monetarios  <<- campos_monetarios[campos_monetarios %like%\n",
    "      \"^(m|Visa_m|Master_m|vm_m)\"]\n",
    "    \n",
    "    campos_rf <<- campos_rf[campos_rf %like%\n",
    "      \"^rf\"]\n",
    "    campos_lag <<- campos_lag[campos_lag %like%\n",
    "      \"(lag|delta).$\"]\n",
    "    campos_lag <- campos_lag[!campos_lag %in% campos_monetarios]\n",
    "\n",
    "    campos_int <<- campos_int[!campos_int %in% c(campos_a_omitir, campos_monetarios, campos_lag, campos_rf)]\n",
    "    campos_int <<- campos_int[!sapply(campos_int,is_bool_column)]\n",
    "    campos_int <<- na.omit(campos_int)\n",
    "    }\n",
    "\n"
   ]
  },
  {
   "cell_type": "code",
   "execution_count": 18,
   "id": "0adc717f-41de-43e9-b7ac-a3169c229571",
   "metadata": {
    "id": "91061886-74c4-42c3-93b7-927100cbff49"
   },
   "outputs": [],
   "source": [
    "safeEval <- function(expr) {\n",
    "  val <- try(eval(parse(text = expr), envir = dataset), silent = TRUE)\n",
    "  #if (inherits(val, \"try-error\") || any(is.nan(val)) || any(is.infinite(val))) {\n",
    "  #  return(rep(NA, nrow(df)))\n",
    "  #}\n",
    "  val\n",
    "}\n"
   ]
  },
  {
   "cell_type": "code",
   "execution_count": 19,
   "id": "3ccc7c5a-76fd-45fa-9b83-da9a1cb0c741",
   "metadata": {
    "colab": {
     "base_uri": "https://localhost:8080/",
     "height": 393
    },
    "id": "faa52a34-9dc8-4bb8-b3a5-e968d4e2dd6a",
    "outputId": "e7c034c1-0573-48d4-e83d-a9f5d8e150af"
   },
   "outputs": [],
   "source": [
    "# Grammar definition\n",
    "actualizar_campos()\n",
    "\n",
    "# Function to generate a new column from grammar\n",
    "generate_column <- function() {\n",
    "  #operators = c('-','+','/','*','^')\n",
    "  expr_str = GrammarRandomExpression(grammarDef, startSymb = GrammarStartSymbol(grammarDef))\n",
    "  #print(colnames(safeEval(parse(text=expr_str))))\n",
    "  #while (str_count(colnames(safeEval(parse(text=expr_str))), operators) >= PARAM$GA$max_depth){\n",
    "  #    expr_str <- GrammarRandomExpression(grammarDef, startSymb = GrammarStartSymbol(grammarDef))\n",
    "  #}\n",
    "  # Evaluate the generated expression\n",
    "  val <- safeEval(expr_str)\n",
    "  coln = gsub(\"dataset\",\"\",parse(text=expr_str))\n",
    "  coln = gsub(\"\\\\[\",\"\",coln)\n",
    "  coln = gsub(\"\\\\]\",\"\",coln)\n",
    "  coln = gsub(\", \",\"\",coln)\n",
    "  coln = gsub(\"\\\"\",\"\",coln)\n",
    "  #print(coln)\n",
    "  d = data.table(val)\n",
    "  colnames(d) = c(coln)\n",
    "  return(d)\n",
    "}"
   ]
  },
  {
   "cell_type": "code",
   "execution_count": 20,
   "id": "cd822ebc-52bf-4215-907c-54b781ab05eb",
   "metadata": {
    "id": "2dd646c3-d58f-4efa-9f56-917c235f1f16",
    "vscode": {
     "languageId": "r"
    }
   },
   "outputs": [],
   "source": [
    "VPOS_CORTE <- c()\n",
    "\n",
    "fganancia_lgbm_meseta <- function(probs, datos) {\n",
    "  vlabels <- get_field(datos, \"label\")\n",
    "  vpesos <- get_field(datos, \"weight\")\n",
    "\n",
    "  tbl <- as.data.table(list(\n",
    "    \"prob\" = probs,\n",
    "    \"gan\" = ifelse(vlabels == 1 & vpesos > 1, PARAM$CN$train$gan1, PARAM$CN$train$gan0)\n",
    "  ))\n",
    "\n",
    "  setorder(tbl, -prob)\n",
    "  tbl[, posicion := .I]\n",
    "  tbl[, gan_acum := cumsum(gan)]\n",
    "  setorder(tbl, -gan_acum) # voy por la meseta\n",
    "\n",
    "  gan <- mean(tbl[1:500, gan_acum]) # meseta de tamaño 500\n",
    "\n",
    "  pos_meseta <- tbl[1:500, median(posicion)]\n",
    "  VPOS_CORTE <<- c(VPOS_CORTE, pos_meseta)\n",
    "\n",
    "  return(list(\n",
    "    \"name\" = \"ganancia\",\n",
    "    \"value\" = gan,\n",
    "    \"higher_better\" = TRUE\n",
    "  ))\n",
    "}\n"
   ]
  },
  {
   "cell_type": "code",
   "execution_count": 21,
   "id": "4bf54953-24b1-4423-ad9a-fcab305045a2",
   "metadata": {
    "id": "8196a247-f280-4c93-b509-5c0e54cab645",
    "vscode": {
     "languageId": "r"
    }
   },
   "outputs": [],
   "source": [
    "campitos <- c( \"numero_de_cliente\", \"foto_mes\", \"clase_ternaria\" )\n",
    "\n",
    "CanaritosGeneticos <- function(\n",
    "  canaritos_ratio,\n",
    "  canaritos_desvios,\n",
    "  canaritos_semilla,\n",
    "  dataset) {\n",
    "\n",
    "  cat( \"inicio Canaritos Geneticos()\\n\")\n",
    "  gc(verbose= FALSE)\n",
    "  dataset[, clase01 := 0L ]\n",
    "  dataset[ clase_ternaria %in% PARAM$CN$train$clase01_valor1,\n",
    "      clase01 := 1L ]\n",
    "\n",
    "  set.seed(canaritos_semilla, kind = \"L'Ecuyer-CMRG\")\n",
    "  for (i in 1:(ncol(dataset) * canaritos_ratio)) {\n",
    "    dataset[, paste0(\"canarito\", i) := runif(nrow(dataset))]\n",
    "  }\n",
    "\n",
    "  campos_buenos <- setdiff(\n",
    "    colnames(dataset),\n",
    "    c( campitos, \"clase01\",'azar')\n",
    "  )\n",
    "\n",
    "  azar <- runif(nrow(dataset))\n",
    "\n",
    "  dataset[, entrenamiento :=\n",
    "    as.integer( foto_mes %in% PARAM$CN$train$training &\n",
    "      (clase01 == 1 | azar < PARAM$CN$train$undersampling))]\n",
    "\n",
    "  dtrain <- lgb.Dataset(\n",
    "    data = data.matrix(dataset[entrenamiento == TRUE, campos_buenos, with = FALSE]),\n",
    "    label = dataset[entrenamiento == TRUE, clase01],\n",
    "    weight = dataset[\n",
    "      entrenamiento == TRUE,\n",
    "      ifelse(clase_ternaria %in% PARAM$CN$train$positivos, 1.0000001, 1.0)\n",
    "    ],\n",
    "    free_raw_data = FALSE\n",
    "  )\n",
    "\n",
    "  dvalid <- lgb.Dataset(\n",
    "    data = data.matrix(dataset[foto_mes %in% PARAM$CN$train$validation, campos_buenos, with = FALSE]),\n",
    "    label = dataset[foto_mes %in% PARAM$CN$train$validation, clase01],\n",
    "    weight = dataset[\n",
    "      foto_mes %in% PARAM$CN$train$validation,\n",
    "      ifelse( clase_ternaria %in% PARAM$CN$train$positivos, 1.0000001, 1.0)\n",
    "    ],\n",
    "    free_raw_data = FALSE\n",
    "  )\n",
    "\n",
    "\n",
    "  param <- list(\n",
    "    objective = \"binary\",\n",
    "    metric = \"custom\",\n",
    "    first_metric_only = TRUE,\n",
    "    boost_from_average = TRUE,\n",
    "    feature_pre_filter = FALSE,\n",
    "    verbosity = -100,\n",
    "    seed = canaritos_semilla,\n",
    "    max_depth = -1, # -1 significa no limitar,  por ahora lo dejo fijo\n",
    "    min_gain_to_split = 0.0, # por ahora, lo dejo fijo\n",
    "    lambda_l1 = 0.0, # por ahora, lo dejo fijo\n",
    "    lambda_l2 = 0.0, # por ahora, lo dejo fijo\n",
    "    max_bin = 31, # por ahora, lo dejo fijo\n",
    "    num_iterations = 9999, # un numero grande, lo limita early_stopping_rounds\n",
    "    force_row_wise = TRUE, # para que los alumnos no se atemoricen con  warning\n",
    "    learning_rate = 0.065,\n",
    "    feature_fraction = 1.0, # lo seteo en 1\n",
    "    min_data_in_leaf = 260,\n",
    "    num_leaves = 60,\n",
    "    early_stopping_rounds = 200,\n",
    "    num_threads = 1\n",
    "  )\n",
    "\n",
    "  set.seed(canaritos_semilla, kind = \"L'Ecuyer-CMRG\")\n",
    "  modelo <- lgb.train(\n",
    "    data = dtrain,\n",
    "    valids = list(valid = dvalid),\n",
    "    eval = fganancia_lgbm_meseta,\n",
    "    param = param,\n",
    "    verbose = -100\n",
    "  )\n",
    "\n",
    "  tb_importancia <- lgb.importance(model = modelo)\n",
    "  tb_importancia[, pos := .I]\n",
    "\n",
    "\n",
    "  umbral <- tb_importancia[\n",
    "    Feature %like% \"canarito\",\n",
    "    median(pos) + canaritos_desvios * sd(pos)\n",
    "  ] # Atencion corto en la mediana mas desvios!!\n",
    "\n",
    "  col_utiles <- tb_importancia[\n",
    "    pos < umbral & !(Feature %like% \"canarito\"),\n",
    "    Feature\n",
    "  ]\n",
    "\n",
    "  col_utiles <- unique(c(\n",
    "    col_utiles,\n",
    "    c(campitos, \"mes\")\n",
    "  ))\n",
    "\n",
    "  col_inutiles <- setdiff(colnames(dataset), col_utiles)\n",
    "\n",
    "  dataset[, (col_inutiles) := NULL]\n",
    "\n",
    "  cat( \"fin Canaritos Geneticos()\\n\")\n",
    "\n",
    "  return( tb_importancia )\n",
    "}\n"
   ]
  },
  {
   "cell_type": "code",
   "execution_count": 22,
   "id": "cdb68353-be3c-44a3-88e1-600698f494c3",
   "metadata": {
    "id": "9249a815-315c-4695-9f2f-bae196697f70",
    "vscode": {
     "languageId": "r"
    }
   },
   "outputs": [],
   "source": [
    "# Estos DOS parametros son los que se deben modificar\n",
    "PARAM$CN$ratio <- 0.2\n",
    "PARAM$CN$desvios <- 2\n",
    "\n",
    "\n",
    "# Parametros quasi fijos\n",
    "# Parametros de un LightGBM que se genera para estimar la column importance\n",
    "PARAM$CN$train$clase01_valor1 <- c( \"BAJA+2\", \"BAJA+1\")\n",
    "PARAM$CN$train$positivos <- c( \"BAJA+2\")\n",
    "PARAM$CN$train$training <- c( 202101, 202102, 202103)\n",
    "PARAM$CN$train$validation <- c( 202105 )\n",
    "PARAM$CN$train$undersampling <- 0.1\n",
    "PARAM$CN$train$gan1 <- 117000\n",
    "PARAM$CN$train$gan0 <-  -3000"
   ]
  },
  {
   "cell_type": "code",
   "execution_count": 23,
   "id": "8bfb5b6d-fe49-4e4e-b1f1-8a22fef8083f",
   "metadata": {},
   "outputs": [],
   "source": [
    "PARAM$GA$generations <- 4\n",
    "PARAM$GA$population <- 1200\n",
    "PARAM$GA$max_depth <- 5\n",
    "primos <- generate_primes(min = 100000, max = 1000000)\n",
    "set.seed(PARAM$semilla_primigenia, kind = \"L'Ecuyer-CMRG\")\n",
    "# me quedo con PARAM$semillerio  primos al azar\n",
    "PARAM$FT$semillas <- sample(primos)[seq(PARAM$GA$generations)]\n"
   ]
  },
  {
   "cell_type": "code",
   "execution_count": 24,
   "id": "21595338-d924-4e76-baae-2f30a5cf4ee6",
   "metadata": {
    "scrolled": true
   },
   "outputs": [
    {
     "name": "stdout",
     "output_type": "stream",
     "text": [
      "inicio CanaritosAsesinos()\n",
      "fin CanaritosAsesinos()\n",
      "inicio CanaritosAsesinos()\n",
      "fin CanaritosAsesinos()\n",
      "inicio CanaritosAsesinos()\n",
      "fin CanaritosAsesinos()\n",
      "inicio CanaritosAsesinos()\n",
      "fin CanaritosAsesinos()\n"
     ]
    },
    {
     "data": {
      "text/html": [
       "<table class=\"dataframe\">\n",
       "<caption>A data.table: 6 × 551</caption>\n",
       "<thead>\n",
       "\t<tr><th scope=col>numero_de_cliente</th><th scope=col>foto_mes</th><th scope=col>internet</th><th scope=col>cliente_edad</th><th scope=col>cliente_antiguedad</th><th scope=col>mrentabilidad</th><th scope=col>mrentabilidad_annual</th><th scope=col>mcomisiones</th><th scope=col>mactivos_margen</th><th scope=col>mpasivos_margen</th><th scope=col>⋯</th><th scope=col>mcomisiones_lag1/cliente_edad_lag2/kmes_lag2/mpayroll_lag2</th><th scope=col>mrentabilidad_delta1/mcuentas_saldo_delta1/mcuentas_saldo_lag1</th><th scope=col>Visa_mpagominimo/mpasivos_margen_lag1</th><th scope=col>mcuentas_saldo_delta1/mprestamos_personales_lag1/mpayroll_sobre_edad_lag2</th><th scope=col>mpayroll_lag1/cdescubierto_preacordado_lag1/mactivos_margen_lag2/mtarjeta_visa_consumo/cpayroll_trx_lag2/mcuentas_saldo_lag2/ccomisiones_mantenimiento_lag1</th><th scope=col>mcuenta_corriente_delta2/mcuenta_corriente_lag2/cproductos_delta1</th><th scope=col>mpayroll_sobre_edad/mactivos_margen_lag1/ccomisiones_mantenimiento/mcomisiones_lag2/Visa_fechaalta_lag1/mactivos_margen_lag2/ctarjeta_visa_transacciones_lag2/mcaja_ahorro_lag1/mpasivos_margen_lag2</th><th scope=col>mrentabilidad_lag1/mpayroll_sobre_edad_delta2/mcomisiones_lag2/ctarjeta_visa_transacciones_lag2</th><th scope=col>mcaja_ahorro/mcomisiones_delta1/mpayroll_sobre_edad/ctarjeta_visa_transacciones_lag1</th><th scope=col>mtarjeta_visa_consumo_lag1/mrentabilidad_annual_delta1/mcomisiones_delta1/mrentabilidad/cliente_edad_lag1/mactivos_margen_delta1</th></tr>\n",
       "\t<tr><th scope=col>&lt;int&gt;</th><th scope=col>&lt;int&gt;</th><th scope=col>&lt;int&gt;</th><th scope=col>&lt;int&gt;</th><th scope=col>&lt;int&gt;</th><th scope=col>&lt;dbl&gt;</th><th scope=col>&lt;dbl&gt;</th><th scope=col>&lt;dbl&gt;</th><th scope=col>&lt;dbl&gt;</th><th scope=col>&lt;dbl&gt;</th><th scope=col>⋯</th><th scope=col>&lt;dbl&gt;</th><th scope=col>&lt;dbl&gt;</th><th scope=col>&lt;dbl&gt;</th><th scope=col>&lt;dbl&gt;</th><th scope=col>&lt;dbl&gt;</th><th scope=col>&lt;dbl&gt;</th><th scope=col>&lt;dbl&gt;</th><th scope=col>&lt;dbl&gt;</th><th scope=col>&lt;dbl&gt;</th><th scope=col>&lt;dbl&gt;</th></tr>\n",
       "</thead>\n",
       "<tbody>\n",
       "\t<tr><td>29186441</td><td>202005</td><td>1</td><td>61</td><td>282</td><td>2354.94</td><td>43761.59</td><td>1682.14</td><td> -139.02</td><td> 712.60</td><td>⋯</td><td>NA</td><td>NA</td><td>NA</td><td>NA</td><td>NA</td><td>NA</td><td>NA</td><td>NA</td><td>NA</td><td>NA</td></tr>\n",
       "\t<tr><td>29187961</td><td>202005</td><td>1</td><td>61</td><td>312</td><td>5066.31</td><td>47268.33</td><td>3875.62</td><td>-3536.03</td><td>4551.11</td><td>⋯</td><td>NA</td><td>NA</td><td>NA</td><td>NA</td><td>NA</td><td>NA</td><td>NA</td><td>NA</td><td>NA</td><td>NA</td></tr>\n",
       "\t<tr><td>29193101</td><td>202005</td><td>1</td><td>67</td><td>365</td><td>4809.42</td><td>37996.66</td><td>6982.73</td><td>-2962.24</td><td>1109.46</td><td>⋯</td><td>NA</td><td>NA</td><td>NA</td><td>NA</td><td>NA</td><td>NA</td><td>NA</td><td>NA</td><td>NA</td><td>NA</td></tr>\n",
       "\t<tr><td>29193281</td><td>202005</td><td>1</td><td>54</td><td>158</td><td>2979.52</td><td>88436.59</td><td>3350.01</td><td> -908.55</td><td> 592.70</td><td>⋯</td><td>NA</td><td>NA</td><td>NA</td><td>NA</td><td>NA</td><td>NA</td><td>NA</td><td>NA</td><td>NA</td><td>NA</td></tr>\n",
       "\t<tr><td>29198891</td><td>202005</td><td>1</td><td>54</td><td>312</td><td>3008.70</td><td>22567.32</td><td> 273.68</td><td> -643.87</td><td>2975.52</td><td>⋯</td><td>NA</td><td>NA</td><td>NA</td><td>NA</td><td>NA</td><td>NA</td><td>NA</td><td>NA</td><td>NA</td><td>NA</td></tr>\n",
       "\t<tr><td>29205441</td><td>202005</td><td>1</td><td>72</td><td>  6</td><td> 394.19</td><td> 1607.93</td><td> 159.49</td><td>   -9.92</td><td> 210.01</td><td>⋯</td><td>NA</td><td>NA</td><td>NA</td><td>NA</td><td>NA</td><td>NA</td><td>NA</td><td>NA</td><td>NA</td><td>NA</td></tr>\n",
       "</tbody>\n",
       "</table>\n"
      ],
      "text/latex": [
       "A data.table: 6 × 551\n",
       "\\begin{tabular}{lllllllllllllllllllll}\n",
       " numero\\_de\\_cliente & foto\\_mes & internet & cliente\\_edad & cliente\\_antiguedad & mrentabilidad & mrentabilidad\\_annual & mcomisiones & mactivos\\_margen & mpasivos\\_margen & ⋯ & mcomisiones\\_lag1/cliente\\_edad\\_lag2/kmes\\_lag2/mpayroll\\_lag2 & mrentabilidad\\_delta1/mcuentas\\_saldo\\_delta1/mcuentas\\_saldo\\_lag1 & Visa\\_mpagominimo/mpasivos\\_margen\\_lag1 & mcuentas\\_saldo\\_delta1/mprestamos\\_personales\\_lag1/mpayroll\\_sobre\\_edad\\_lag2 & mpayroll\\_lag1/cdescubierto\\_preacordado\\_lag1/mactivos\\_margen\\_lag2/mtarjeta\\_visa\\_consumo/cpayroll\\_trx\\_lag2/mcuentas\\_saldo\\_lag2/ccomisiones\\_mantenimiento\\_lag1 & mcuenta\\_corriente\\_delta2/mcuenta\\_corriente\\_lag2/cproductos\\_delta1 & mpayroll\\_sobre\\_edad/mactivos\\_margen\\_lag1/ccomisiones\\_mantenimiento/mcomisiones\\_lag2/Visa\\_fechaalta\\_lag1/mactivos\\_margen\\_lag2/ctarjeta\\_visa\\_transacciones\\_lag2/mcaja\\_ahorro\\_lag1/mpasivos\\_margen\\_lag2 & mrentabilidad\\_lag1/mpayroll\\_sobre\\_edad\\_delta2/mcomisiones\\_lag2/ctarjeta\\_visa\\_transacciones\\_lag2 & mcaja\\_ahorro/mcomisiones\\_delta1/mpayroll\\_sobre\\_edad/ctarjeta\\_visa\\_transacciones\\_lag1 & mtarjeta\\_visa\\_consumo\\_lag1/mrentabilidad\\_annual\\_delta1/mcomisiones\\_delta1/mrentabilidad/cliente\\_edad\\_lag1/mactivos\\_margen\\_delta1\\\\\n",
       " <int> & <int> & <int> & <int> & <int> & <dbl> & <dbl> & <dbl> & <dbl> & <dbl> & ⋯ & <dbl> & <dbl> & <dbl> & <dbl> & <dbl> & <dbl> & <dbl> & <dbl> & <dbl> & <dbl>\\\\\n",
       "\\hline\n",
       "\t 29186441 & 202005 & 1 & 61 & 282 & 2354.94 & 43761.59 & 1682.14 &  -139.02 &  712.60 & ⋯ & NA & NA & NA & NA & NA & NA & NA & NA & NA & NA\\\\\n",
       "\t 29187961 & 202005 & 1 & 61 & 312 & 5066.31 & 47268.33 & 3875.62 & -3536.03 & 4551.11 & ⋯ & NA & NA & NA & NA & NA & NA & NA & NA & NA & NA\\\\\n",
       "\t 29193101 & 202005 & 1 & 67 & 365 & 4809.42 & 37996.66 & 6982.73 & -2962.24 & 1109.46 & ⋯ & NA & NA & NA & NA & NA & NA & NA & NA & NA & NA\\\\\n",
       "\t 29193281 & 202005 & 1 & 54 & 158 & 2979.52 & 88436.59 & 3350.01 &  -908.55 &  592.70 & ⋯ & NA & NA & NA & NA & NA & NA & NA & NA & NA & NA\\\\\n",
       "\t 29198891 & 202005 & 1 & 54 & 312 & 3008.70 & 22567.32 &  273.68 &  -643.87 & 2975.52 & ⋯ & NA & NA & NA & NA & NA & NA & NA & NA & NA & NA\\\\\n",
       "\t 29205441 & 202005 & 1 & 72 &   6 &  394.19 &  1607.93 &  159.49 &    -9.92 &  210.01 & ⋯ & NA & NA & NA & NA & NA & NA & NA & NA & NA & NA\\\\\n",
       "\\end{tabular}\n"
      ],
      "text/markdown": [
       "\n",
       "A data.table: 6 × 551\n",
       "\n",
       "| numero_de_cliente &lt;int&gt; | foto_mes &lt;int&gt; | internet &lt;int&gt; | cliente_edad &lt;int&gt; | cliente_antiguedad &lt;int&gt; | mrentabilidad &lt;dbl&gt; | mrentabilidad_annual &lt;dbl&gt; | mcomisiones &lt;dbl&gt; | mactivos_margen &lt;dbl&gt; | mpasivos_margen &lt;dbl&gt; | ⋯ ⋯ | mcomisiones_lag1/cliente_edad_lag2/kmes_lag2/mpayroll_lag2 &lt;dbl&gt; | mrentabilidad_delta1/mcuentas_saldo_delta1/mcuentas_saldo_lag1 &lt;dbl&gt; | Visa_mpagominimo/mpasivos_margen_lag1 &lt;dbl&gt; | mcuentas_saldo_delta1/mprestamos_personales_lag1/mpayroll_sobre_edad_lag2 &lt;dbl&gt; | mpayroll_lag1/cdescubierto_preacordado_lag1/mactivos_margen_lag2/mtarjeta_visa_consumo/cpayroll_trx_lag2/mcuentas_saldo_lag2/ccomisiones_mantenimiento_lag1 &lt;dbl&gt; | mcuenta_corriente_delta2/mcuenta_corriente_lag2/cproductos_delta1 &lt;dbl&gt; | mpayroll_sobre_edad/mactivos_margen_lag1/ccomisiones_mantenimiento/mcomisiones_lag2/Visa_fechaalta_lag1/mactivos_margen_lag2/ctarjeta_visa_transacciones_lag2/mcaja_ahorro_lag1/mpasivos_margen_lag2 &lt;dbl&gt; | mrentabilidad_lag1/mpayroll_sobre_edad_delta2/mcomisiones_lag2/ctarjeta_visa_transacciones_lag2 &lt;dbl&gt; | mcaja_ahorro/mcomisiones_delta1/mpayroll_sobre_edad/ctarjeta_visa_transacciones_lag1 &lt;dbl&gt; | mtarjeta_visa_consumo_lag1/mrentabilidad_annual_delta1/mcomisiones_delta1/mrentabilidad/cliente_edad_lag1/mactivos_margen_delta1 &lt;dbl&gt; |\n",
       "|---|---|---|---|---|---|---|---|---|---|---|---|---|---|---|---|---|---|---|---|---|\n",
       "| 29186441 | 202005 | 1 | 61 | 282 | 2354.94 | 43761.59 | 1682.14 |  -139.02 |  712.60 | ⋯ | NA | NA | NA | NA | NA | NA | NA | NA | NA | NA |\n",
       "| 29187961 | 202005 | 1 | 61 | 312 | 5066.31 | 47268.33 | 3875.62 | -3536.03 | 4551.11 | ⋯ | NA | NA | NA | NA | NA | NA | NA | NA | NA | NA |\n",
       "| 29193101 | 202005 | 1 | 67 | 365 | 4809.42 | 37996.66 | 6982.73 | -2962.24 | 1109.46 | ⋯ | NA | NA | NA | NA | NA | NA | NA | NA | NA | NA |\n",
       "| 29193281 | 202005 | 1 | 54 | 158 | 2979.52 | 88436.59 | 3350.01 |  -908.55 |  592.70 | ⋯ | NA | NA | NA | NA | NA | NA | NA | NA | NA | NA |\n",
       "| 29198891 | 202005 | 1 | 54 | 312 | 3008.70 | 22567.32 |  273.68 |  -643.87 | 2975.52 | ⋯ | NA | NA | NA | NA | NA | NA | NA | NA | NA | NA |\n",
       "| 29205441 | 202005 | 1 | 72 |   6 |  394.19 |  1607.93 |  159.49 |    -9.92 |  210.01 | ⋯ | NA | NA | NA | NA | NA | NA | NA | NA | NA | NA |\n",
       "\n"
      ],
      "text/plain": [
       "  numero_de_cliente foto_mes internet cliente_edad cliente_antiguedad\n",
       "1 29186441          202005   1        61           282               \n",
       "2 29187961          202005   1        61           312               \n",
       "3 29193101          202005   1        67           365               \n",
       "4 29193281          202005   1        54           158               \n",
       "5 29198891          202005   1        54           312               \n",
       "6 29205441          202005   1        72             6               \n",
       "  mrentabilidad mrentabilidad_annual mcomisiones mactivos_margen\n",
       "1 2354.94       43761.59             1682.14      -139.02       \n",
       "2 5066.31       47268.33             3875.62     -3536.03       \n",
       "3 4809.42       37996.66             6982.73     -2962.24       \n",
       "4 2979.52       88436.59             3350.01      -908.55       \n",
       "5 3008.70       22567.32              273.68      -643.87       \n",
       "6  394.19        1607.93              159.49        -9.92       \n",
       "  mpasivos_margen ⋯ mcomisiones_lag1/cliente_edad_lag2/kmes_lag2/mpayroll_lag2\n",
       "1  712.60         ⋯ NA                                                        \n",
       "2 4551.11         ⋯ NA                                                        \n",
       "3 1109.46         ⋯ NA                                                        \n",
       "4  592.70         ⋯ NA                                                        \n",
       "5 2975.52         ⋯ NA                                                        \n",
       "6  210.01         ⋯ NA                                                        \n",
       "  mrentabilidad_delta1/mcuentas_saldo_delta1/mcuentas_saldo_lag1\n",
       "1 NA                                                            \n",
       "2 NA                                                            \n",
       "3 NA                                                            \n",
       "4 NA                                                            \n",
       "5 NA                                                            \n",
       "6 NA                                                            \n",
       "  Visa_mpagominimo/mpasivos_margen_lag1\n",
       "1 NA                                   \n",
       "2 NA                                   \n",
       "3 NA                                   \n",
       "4 NA                                   \n",
       "5 NA                                   \n",
       "6 NA                                   \n",
       "  mcuentas_saldo_delta1/mprestamos_personales_lag1/mpayroll_sobre_edad_lag2\n",
       "1 NA                                                                       \n",
       "2 NA                                                                       \n",
       "3 NA                                                                       \n",
       "4 NA                                                                       \n",
       "5 NA                                                                       \n",
       "6 NA                                                                       \n",
       "  mpayroll_lag1/cdescubierto_preacordado_lag1/mactivos_margen_lag2/mtarjeta_visa_consumo/cpayroll_trx_lag2/mcuentas_saldo_lag2/ccomisiones_mantenimiento_lag1\n",
       "1 NA                                                                                                                                                         \n",
       "2 NA                                                                                                                                                         \n",
       "3 NA                                                                                                                                                         \n",
       "4 NA                                                                                                                                                         \n",
       "5 NA                                                                                                                                                         \n",
       "6 NA                                                                                                                                                         \n",
       "  mcuenta_corriente_delta2/mcuenta_corriente_lag2/cproductos_delta1\n",
       "1 NA                                                               \n",
       "2 NA                                                               \n",
       "3 NA                                                               \n",
       "4 NA                                                               \n",
       "5 NA                                                               \n",
       "6 NA                                                               \n",
       "  mpayroll_sobre_edad/mactivos_margen_lag1/ccomisiones_mantenimiento/mcomisiones_lag2/Visa_fechaalta_lag1/mactivos_margen_lag2/ctarjeta_visa_transacciones_lag2/mcaja_ahorro_lag1/mpasivos_margen_lag2\n",
       "1 NA                                                                                                                                                                                                  \n",
       "2 NA                                                                                                                                                                                                  \n",
       "3 NA                                                                                                                                                                                                  \n",
       "4 NA                                                                                                                                                                                                  \n",
       "5 NA                                                                                                                                                                                                  \n",
       "6 NA                                                                                                                                                                                                  \n",
       "  mrentabilidad_lag1/mpayroll_sobre_edad_delta2/mcomisiones_lag2/ctarjeta_visa_transacciones_lag2\n",
       "1 NA                                                                                             \n",
       "2 NA                                                                                             \n",
       "3 NA                                                                                             \n",
       "4 NA                                                                                             \n",
       "5 NA                                                                                             \n",
       "6 NA                                                                                             \n",
       "  mcaja_ahorro/mcomisiones_delta1/mpayroll_sobre_edad/ctarjeta_visa_transacciones_lag1\n",
       "1 NA                                                                                  \n",
       "2 NA                                                                                  \n",
       "3 NA                                                                                  \n",
       "4 NA                                                                                  \n",
       "5 NA                                                                                  \n",
       "6 NA                                                                                  \n",
       "  mtarjeta_visa_consumo_lag1/mrentabilidad_annual_delta1/mcomisiones_delta1/mrentabilidad/cliente_edad_lag1/mactivos_margen_delta1\n",
       "1 NA                                                                                                                              \n",
       "2 NA                                                                                                                              \n",
       "3 NA                                                                                                                              \n",
       "4 NA                                                                                                                              \n",
       "5 NA                                                                                                                              \n",
       "6 NA                                                                                                                              "
      ]
     },
     "metadata": {},
     "output_type": "display_data"
    }
   ],
   "source": [
    "\n",
    "\n",
    "\n",
    "for (g in 1:PARAM$GA$generations){\n",
    "    grammarDef <- CreateGrammar(list(\n",
    "      expr = gsrule(\n",
    "              \"dataset[,<m_var>]/dataset[,<i_var>]\",\n",
    "              \"dataset[,<m_var>]-dataset[,<m_var>]\",\n",
    "              \"dataset[,<m_var>]/dataset[,<l_var>]\",\n",
    "              \"dataset[,<m_var>]-dataset[,<l_var>]\",\n",
    "              \"dataset[,<l_var>]/dataset[,<i_var>]\",\n",
    "              \"dataset[,<l_var>]-dataset[,<l_var>]\",\n",
    "              \"dataset[,<i_var>]/dataset[,<i_var>]\",\n",
    "              \"dataset[,<i_var>]+dataset[,<i_var>]\",\n",
    "              \"dataset[,<i_var>]-dataset[,<i_var>]\"\n",
    "      ),\n",
    "      m_var  = gvrule(setdiff(campos_monetarios,campos_a_omitir)),\n",
    "      i_var  = gvrule(setdiff(campos_int,campos_a_omitir)),\n",
    "      l_var  = gvrule(setdiff(campos_lag,campos_a_omitir))\n",
    "        )\n",
    "   )\n",
    "    set.seed(PARAM$FT$semillas[g])\n",
    "    gen_dataset = copy(dataset[,c('numero_de_cliente','clase_ternaria','foto_mes')])\n",
    "    for (i in 1:PARAM$GA$population) {\n",
    "      new_col <- generate_column()\n",
    "      gen_dataset = cbind(gen_dataset,new_col)\n",
    "    }\n",
    "\n",
    "    tb_importancia <- CanaritosGeneticos(\n",
    "      canaritos_ratio = PARAM$CN$ratio,\n",
    "      canaritos_desvios = PARAM$CN$desvios,\n",
    "      canaritos_semilla = PARAM$semilla_primigenia,\n",
    "      gen_dataset\n",
    "    )\n",
    "    fwrite( tb_importancia,\n",
    "         file=paste0(\"canaritosGeneticos_\",g,'.txt'),\n",
    "         sep=\"\\t\"\n",
    "        )\n",
    "    dataset = cbind(dataset, gen_dataset)\n",
    "    actualizar_campos()\n",
    "}\n",
    "\n",
    "head(dataset)"
   ]
  },
  {
   "cell_type": "code",
   "execution_count": 25,
   "id": "9e2009ad-5c71-4f38-944a-19fde6b54000",
   "metadata": {},
   "outputs": [
    {
     "name": "stdout",
     "output_type": "stream",
     "text": [
      "inicio AgregarVariables_IntraMes()\n",
      "ATENCION, hay 16445445 valores infinitos en tu dataset. Seran pasados a NA\n",
      "ATENCION, hay 8954432 valores NaN 0/0 en tu dataset. Seran pasados arbitrariamente a 0\n",
      "Si no te gusta la decision, modifica a gusto el programa!\n",
      "\n",
      "fin AgregarVariables_IntraMes()\n"
     ]
    }
   ],
   "source": [
    "# Esta es la parte que los alumnos deben desplegar todo su ingenio\n",
    "# Agregar aqui sus PROPIAS VARIABLES manuales\n",
    "\n",
    "limpiar_inf <- function(dataset_genetico) {\n",
    "  cat( \"inicio AgregarVariables_IntraMes()\\n\")\n",
    "  add_log( \"inicio AgregarVariables_IntraMes()\\n\")\n",
    "  gc(verbose= FALSE)\n",
    "  # INICIO de la seccion donde se deben hacer cambios con variables nuevas\n",
    "\n",
    "  # valvula de seguridad para evitar valores infinitos\n",
    "  # paso los infinitos a NULOS\n",
    "  infinitos <- lapply(\n",
    "    names(dataset),\n",
    "    function(.name) dataset[, sum(is.infinite(get(.name)))]\n",
    "  )\n",
    "\n",
    "  infinitos_qty <- sum(unlist(infinitos))\n",
    "  if (infinitos_qty > 0) {\n",
    "    cat(\n",
    "      \"ATENCION, hay\", infinitos_qty,\n",
    "      \"valores infinitos en tu dataset. Seran pasados a NA\\n\"\n",
    "    )\n",
    "        add_log(paste0(\n",
    "      \"ATENCION, hay \", infinitos_qty,\n",
    "      \"valores infinitos en tu dataset. Seran pasados a NA\\n\")\n",
    "    )\n",
    "\n",
    "    dataset[mapply(is.infinite, dataset)] <<- NA\n",
    "  }\n",
    "\n",
    "\n",
    "  # valvula de seguridad para evitar valores NaN  que es 0/0\n",
    "  # paso los NaN a 0 , decision polemica si las hay\n",
    "  # se invita a asignar un valor razonable segun la semantica del campo creado\n",
    "  nans <- lapply(\n",
    "    names(dataset),\n",
    "    function(.name) dataset[, sum(is.nan(get(.name)))]\n",
    "  )\n",
    "\n",
    "  nans_qty <- sum(unlist(nans))\n",
    "  if (nans_qty > 0) {\n",
    "    cat(\n",
    "      \"ATENCION, hay\", nans_qty,\n",
    "      \"valores NaN 0/0 en tu dataset. Seran pasados arbitrariamente a 0\\n\"\n",
    "    )\n",
    "\n",
    "    add_log(\n",
    "      paste0(\"ATENCION, hay\", nans_qty,\n",
    "      \"valores NaN 0/0 en tu dataset. Seran pasados arbitrariamente a 0\\n\"\n",
    "    ))\n",
    "\n",
    "    cat(\"Si no te gusta la decision, modifica a gusto el programa!\\n\\n\")\n",
    "    add_log(\"Si no te gusta la decision, modifica a gusto el programa!\\n\\n\")\n",
    "\n",
    "\n",
    "    dataset[mapply(is.nan, dataset)] <<- 0\n",
    "  }\n",
    "\n",
    "  cat( \"fin AgregarVariables_IntraMes()\\n\")\n",
    "  add_log( \"fin AgregarVariables_IntraMes()\\n\")\n",
    "}\n",
    "limpiar_inf(dataset)"
   ]
  },
  {
   "cell_type": "code",
   "execution_count": 26,
   "id": "75cfb7b8-506b-4603-9daf-6d2fec429ccf",
   "metadata": {
    "id": "2dd646c3-d58f-4efa-9f56-917c235f1f16",
    "vscode": {
     "languageId": "r"
    }
   },
   "outputs": [],
   "source": [
    "VPOS_CORTE <- c()\n",
    "\n",
    "fganancia_lgbm_meseta <- function(probs, datos) {\n",
    "  vlabels <- get_field(datos, \"label\")\n",
    "  vpesos <- get_field(datos, \"weight\")\n",
    "\n",
    "  tbl <- as.data.table(list(\n",
    "    \"prob\" = probs,\n",
    "    \"gan\" = ifelse(vlabels == 1 & vpesos > 1, PARAM$CN$train$gan1, PARAM$CN$train$gan0)\n",
    "  ))\n",
    "\n",
    "  setorder(tbl, -prob)\n",
    "  tbl[, posicion := .I]\n",
    "  tbl[, gan_acum := cumsum(gan)]\n",
    "  setorder(tbl, -gan_acum) # voy por la meseta\n",
    "\n",
    "  gan <- mean(tbl[1:500, gan_acum]) # meseta de tamaño 500\n",
    "\n",
    "  pos_meseta <- tbl[1:500, median(posicion)]\n",
    "  VPOS_CORTE <<- c(VPOS_CORTE, pos_meseta)\n",
    "\n",
    "  return(list(\n",
    "    \"name\" = \"ganancia\",\n",
    "    \"value\" = gan,\n",
    "    \"higher_better\" = TRUE\n",
    "  ))\n",
    "}\n"
   ]
  },
  {
   "cell_type": "code",
   "execution_count": 27,
   "id": "023cfeb7-a1be-437e-bbf8-d6a9ed7689b4",
   "metadata": {
    "id": "8196a247-f280-4c93-b509-5c0e54cab645",
    "vscode": {
     "languageId": "r"
    }
   },
   "outputs": [],
   "source": [
    "# Elimina del dataset las variables que estan por debajo\n",
    "#  de la capa geologica de canaritos\n",
    "# se llama varias veces, luego de agregar muchas variables nuevas,\n",
    "#  para ir reduciendo la cantidad de variables\n",
    "# y así hacer lugar a nuevas variables importantes\n",
    "\n",
    "GVEZ <- 1\n",
    "\n",
    "campitos <- c( \"numero_de_cliente\", \"foto_mes\", \"clase_ternaria\" )\n",
    "\n",
    "CanaritosAsesinos <- function(\n",
    "  canaritos_ratio,\n",
    "  canaritos_desvios,\n",
    "  canaritos_semilla) {\n",
    "\n",
    "  cat( \"inicio CanaritosAsesinos()\\n\")\n",
    "  add_log( \"inicio CanaritosAsesinos()\\n\")\n",
    "  gc(verbose= FALSE)\n",
    "  dataset[, clase01 := 0L ]\n",
    "  dataset[ clase_ternaria %in% PARAM$CN$train$clase01_valor1,\n",
    "      clase01 := 1L ]\n",
    "\n",
    "  set.seed(canaritos_semilla, kind = \"L'Ecuyer-CMRG\")\n",
    "  for (i in 1:(ncol(dataset) * canaritos_ratio)) {\n",
    "    dataset[, paste0(\"canarito\", i) := runif(nrow(dataset))]\n",
    "  }\n",
    "\n",
    "  campos_buenos <- setdiff(\n",
    "    colnames(dataset),\n",
    "    c( campitos, \"clase01\",'azar')\n",
    "  )\n",
    "\n",
    "  azar <- runif(nrow(dataset))\n",
    "\n",
    "  dataset[, entrenamiento :=\n",
    "    as.integer( foto_mes %in% PARAM$CN$train$training &\n",
    "      (clase01 == 1 | azar < PARAM$CN$train$undersampling))]\n",
    "\n",
    "  dtrain <- lgb.Dataset(\n",
    "    data = data.matrix(dataset[entrenamiento == TRUE, campos_buenos, with = FALSE]),\n",
    "    label = dataset[entrenamiento == TRUE, clase01],\n",
    "    weight = dataset[\n",
    "      entrenamiento == TRUE,\n",
    "      ifelse(clase_ternaria %in% PARAM$CN$train$positivos, 1.0000001, 1.0)\n",
    "    ],\n",
    "    free_raw_data = FALSE\n",
    "  )\n",
    "\n",
    "  dvalid <- lgb.Dataset(\n",
    "    data = data.matrix(dataset[foto_mes %in% PARAM$CN$train$validation, campos_buenos, with = FALSE]),\n",
    "    label = dataset[foto_mes %in% PARAM$CN$train$validation, clase01],\n",
    "    weight = dataset[\n",
    "      foto_mes %in% PARAM$CN$train$validation,\n",
    "      ifelse( clase_ternaria %in% PARAM$CN$train$positivos, 1.0000001, 1.0)\n",
    "    ],\n",
    "    free_raw_data = FALSE\n",
    "  )\n",
    "\n",
    "\n",
    "  param <- list(\n",
    "    objective = \"binary\",\n",
    "    metric = \"custom\",\n",
    "    first_metric_only = TRUE,\n",
    "    boost_from_average = TRUE,\n",
    "    feature_pre_filter = FALSE,\n",
    "    verbosity = -100,\n",
    "    seed = canaritos_semilla,\n",
    "    max_depth = -1, # -1 significa no limitar,  por ahora lo dejo fijo\n",
    "    min_gain_to_split = 0.0, # por ahora, lo dejo fijo\n",
    "    lambda_l1 = 0.0, # por ahora, lo dejo fijo\n",
    "    lambda_l2 = 0.0, # por ahora, lo dejo fijo\n",
    "    max_bin = 31, # por ahora, lo dejo fijo\n",
    "    num_iterations = 9999, # un numero grande, lo limita early_stopping_rounds\n",
    "    force_row_wise = TRUE, # para que los alumnos no se atemoricen con  warning\n",
    "    learning_rate = 0.065,\n",
    "    feature_fraction = 1.0, # lo seteo en 1\n",
    "    min_data_in_leaf = 260,\n",
    "    num_leaves = 60,\n",
    "    early_stopping_rounds = 200,\n",
    "    num_threads = 1\n",
    "  )\n",
    "\n",
    "  set.seed(canaritos_semilla, kind = \"L'Ecuyer-CMRG\")\n",
    "  modelo <- lgb.train(\n",
    "    data = dtrain,\n",
    "    valids = list(valid = dvalid),\n",
    "    eval = fganancia_lgbm_meseta,\n",
    "    param = param,\n",
    "    verbose = -100\n",
    "  )\n",
    "\n",
    "  tb_importancia <- lgb.importance(model = modelo)\n",
    "  tb_importancia[, pos := .I]\n",
    "\n",
    "  fwrite(tb_importancia,\n",
    "    file = paste0(\"impo_\", GVEZ, \".txt\"),\n",
    "    sep = \"\\t\"\n",
    "  )\n",
    "\n",
    "  GVEZ <<- GVEZ + 1\n",
    "\n",
    "  umbral <- tb_importancia[\n",
    "    Feature %like% \"canarito\",\n",
    "    median(pos) + canaritos_desvios * sd(pos)\n",
    "  ] # Atencion corto en la mediana mas desvios!!\n",
    "\n",
    "  col_utiles <- tb_importancia[\n",
    "    pos < umbral & !(Feature %like% \"canarito\"),\n",
    "    Feature\n",
    "  ]\n",
    "\n",
    "  col_utiles <- unique(c(\n",
    "    col_utiles,\n",
    "    c(campitos, \"mes\")\n",
    "  ))\n",
    "\n",
    "  col_inutiles <- setdiff(colnames(dataset), col_utiles)\n",
    "\n",
    "  dataset[, (col_inutiles) := NULL]\n",
    "\n",
    "  cat( \"fin CanaritosAsesinos()\\n\")\n",
    "  add_log( \"fin CanaritosAsesinos()\\n\")\n",
    "\n",
    "  return( tb_importancia )\n",
    "}\n"
   ]
  },
  {
   "cell_type": "code",
   "execution_count": 28,
   "id": "5551ff60-af05-4a15-b81d-b36569e7d511",
   "metadata": {
    "id": "9249a815-315c-4695-9f2f-bae196697f70",
    "vscode": {
     "languageId": "r"
    }
   },
   "outputs": [],
   "source": [
    "# Estos DOS parametros son los que se deben modificar\n",
    "PARAM$CN$ratio <- 0.2\n",
    "PARAM$CN$desvios <- 2\n",
    "\n",
    "\n",
    "# Parametros quasi fijos\n",
    "# Parametros de un LightGBM que se genera para estimar la column importance\n",
    "PARAM$CN$train$clase01_valor1 <- c( \"BAJA+2\", \"BAJA+1\")\n",
    "PARAM$CN$train$positivos <- c( \"BAJA+2\")\n",
    "PARAM$CN$train$training <- c( 202101, 202102, 202103)\n",
    "PARAM$CN$train$validation <- c( 202105 )\n",
    "PARAM$CN$train$undersampling <- 0.1\n",
    "PARAM$CN$train$gan1 <- 117000\n",
    "PARAM$CN$train$gan0 <-  -3000"
   ]
  },
  {
   "cell_type": "code",
   "execution_count": 29,
   "id": "c6ec0f31-7414-4286-ad60-59f6f2784567",
   "metadata": {
    "id": "6325e48b-e98f-457e-b099-2dafb9a50101",
    "outputId": "3b0d9beb-c2a1-425a-a62c-e16fcbf0e2cc",
    "vscode": {
     "languageId": "r"
    }
   },
   "outputs": [
    {
     "name": "stdout",
     "output_type": "stream",
     "text": [
      "inicio CanaritosAsesinos()\n",
      "fin CanaritosAsesinos()\n"
     ]
    }
   ],
   "source": [
    "# la llamada a Canaritos Asesinos\n",
    "tb_importancia <- CanaritosAsesinos(\n",
    "  canaritos_ratio = PARAM$CN$ratio,\n",
    "  canaritos_desvios = PARAM$CN$desvios,\n",
    "  canaritos_semilla = PARAM$semilla_primigenia\n",
    ")\n"
   ]
  },
  {
   "cell_type": "code",
   "execution_count": 30,
   "id": "561636b1-1038-4809-ac1e-99f564fe2111",
   "metadata": {
    "id": "25cc7c43-3515-4035-8d21-8c8469c010a1",
    "vscode": {
     "languageId": "r"
    }
   },
   "outputs": [],
   "source": [
    "# grabo la importancia, ver el archivo directamente en la carpeta\n",
    "\n",
    "fwrite( tb_importancia,\n",
    " file=\"canaritos.txt\",\n",
    " sep=\"\\t\"\n",
    ")"
   ]
  },
  {
   "cell_type": "code",
   "execution_count": 31,
   "id": "a4cdfaa9-cfb6-4beb-ae12-7287ccbed7d5",
   "metadata": {
    "colab": {
     "base_uri": "https://localhost:8080/",
     "height": 1000
    },
    "id": "9f8f25cd-b1da-42f0-8455-030a1ffb06db",
    "outputId": "d33c3a66-975d-419e-9c79-d843c79020b2"
   },
   "outputs": [
    {
     "data": {
      "text/html": [
       "<table class=\"dataframe\">\n",
       "<caption>A data.table: 416 × 5</caption>\n",
       "<thead>\n",
       "\t<tr><th scope=col>Feature</th><th scope=col>Gain</th><th scope=col>Cover</th><th scope=col>Frequency</th><th scope=col>pos</th></tr>\n",
       "\t<tr><th scope=col>&lt;chr&gt;</th><th scope=col>&lt;dbl&gt;</th><th scope=col>&lt;dbl&gt;</th><th scope=col>&lt;dbl&gt;</th><th scope=col>&lt;int&gt;</th></tr>\n",
       "</thead>\n",
       "<tbody>\n",
       "\t<tr><td>ctrx_quarter/cproductos_lag2                                                                    </td><td>0.140581373</td><td>0.011247010</td><td>0.006211180</td><td> 1</td></tr>\n",
       "\t<tr><td>ctrx_quarter                                                                                    </td><td>0.120692980</td><td>0.017947473</td><td>0.011293055</td><td> 2</td></tr>\n",
       "\t<tr><td>mpayroll_sobre_edad/ctarjeta_visa_transacciones_lag1/ccomisiones_mantenimiento                  </td><td>0.056720780</td><td>0.033767354</td><td>0.014680971</td><td> 3</td></tr>\n",
       "\t<tr><td>mtarjeta_visa_consumo                                                                           </td><td>0.029478093</td><td>0.016812273</td><td>0.013551666</td><td> 4</td></tr>\n",
       "\t<tr><td>mcaja_ahorro/cliente_antiguedad                                                                 </td><td>0.021068226</td><td>0.002118818</td><td>0.003952569</td><td> 5</td></tr>\n",
       "\t<tr><td>ctrx_quarter/cproductos_lag2/ccomisiones_mantenimiento                                          </td><td>0.020379858</td><td>0.004781938</td><td>0.004517222</td><td> 6</td></tr>\n",
       "\t<tr><td>mpasivos_margen_lag2                                                                            </td><td>0.015246011</td><td>0.004851224</td><td>0.003387916</td><td> 7</td></tr>\n",
       "\t<tr><td>mprestamos_personales/cliente_antiguedad_delta1                                                 </td><td>0.014761355</td><td>0.007691342</td><td>0.005081875</td><td> 8</td></tr>\n",
       "\t<tr><td>mcaja_ahorro                                                                                    </td><td>0.014257099</td><td>0.003208331</td><td>0.001693958</td><td> 9</td></tr>\n",
       "\t<tr><td>mrentabilidad_annual/mprestamos_personales                                                      </td><td>0.010376559</td><td>0.014234171</td><td>0.007905138</td><td>10</td></tr>\n",
       "\t<tr><td>mactivos_margen/mtarjeta_visa_consumo_lag1/Master_fechaalta_delta2/cdescubierto_preacordado_lag1</td><td>0.009483069</td><td>0.002632260</td><td>0.003387916</td><td>11</td></tr>\n",
       "\t<tr><td>Visa_fechaalta_delta1/mtarjeta_visa_consumo_lag1/mrentabilidad_annual_delta1                    </td><td>0.008898576</td><td>0.007773940</td><td>0.006775833</td><td>12</td></tr>\n",
       "\t<tr><td>mcaja_ahorro_lag1_-_mrentabilidad_delta2                                                        </td><td>0.008649143</td><td>0.002438320</td><td>0.002823264</td><td>13</td></tr>\n",
       "\t<tr><td>Visa_fechaalta_lag1/kmes_delta1                                                                 </td><td>0.008552516</td><td>0.010498178</td><td>0.011857708</td><td>14</td></tr>\n",
       "\t<tr><td>ccomisiones_mantenimiento_delta2                                                                </td><td>0.008527022</td><td>0.004885716</td><td>0.002258611</td><td>15</td></tr>\n",
       "\t<tr><td>mrentabilidad_annual_lag2                                                                       </td><td>0.008032917</td><td>0.006840547</td><td>0.008469791</td><td>16</td></tr>\n",
       "\t<tr><td>cliente_edad_lag1/ccomisiones_mantenimiento                                                     </td><td>0.007447454</td><td>0.020263256</td><td>0.010728402</td><td>17</td></tr>\n",
       "\t<tr><td>mcaja_ahorro_lag2/cproductos_lag2/chomebanking_transacciones/cliente_edad_lag1                  </td><td>0.007187460</td><td>0.006283839</td><td>0.006775833</td><td>18</td></tr>\n",
       "\t<tr><td>mcuentas_saldo/ctrx_quarter/cproductos_lag2                                                     </td><td>0.006691349</td><td>0.006115919</td><td>0.006775833</td><td>19</td></tr>\n",
       "\t<tr><td>canarito11                                                                                      </td><td>0.006517620</td><td>0.009599276</td><td>0.010163749</td><td>20</td></tr>\n",
       "\t<tr><td>canarito78                                                                                      </td><td>0.006398815</td><td>0.017349920</td><td>0.009034444</td><td>21</td></tr>\n",
       "\t<tr><td>chomebanking_transacciones/cliente_edad_lag1                                                    </td><td>0.006193621</td><td>0.009097937</td><td>0.007340486</td><td>22</td></tr>\n",
       "\t<tr><td>mrentabilidad_annual_lag1/Visa_fechaalta_lag1                                                   </td><td>0.005677013</td><td>0.003122102</td><td>0.005646527</td><td>23</td></tr>\n",
       "\t<tr><td>mcomisiones_lag2/ctarjeta_visa_transacciones_lag2                                               </td><td>0.005624532</td><td>0.003332985</td><td>0.004517222</td><td>24</td></tr>\n",
       "\t<tr><td>Visa_fechaalta_lag1/ctrx_quarter_lag2                                                           </td><td>0.005518131</td><td>0.003112723</td><td>0.003952569</td><td>25</td></tr>\n",
       "\t<tr><td>cproductos_delta2/Visa_mpagominimo_lag1                                                         </td><td>0.005447316</td><td>0.002330306</td><td>0.002258611</td><td>26</td></tr>\n",
       "\t<tr><td>Visa_fechaalta_delta1/mactivos_margen_lag1/Visa_fechaalta_lag2                                  </td><td>0.004853881</td><td>0.004238846</td><td>0.006211180</td><td>27</td></tr>\n",
       "\t<tr><td>mrentabilidad_annual_lag1/Visa_fechaalta_lag1/Master_mpagominimo                                </td><td>0.004788773</td><td>0.004303593</td><td>0.003387916</td><td>28</td></tr>\n",
       "\t<tr><td>ctrx_quarter_delta1                                                                             </td><td>0.004692051</td><td>0.010999517</td><td>0.006775833</td><td>29</td></tr>\n",
       "\t<tr><td>mtarjeta_visa_consumo_lag1/ctarjeta_visa_transacciones_lag2                                     </td><td>0.004540939</td><td>0.002768109</td><td>0.003952569</td><td>30</td></tr>\n",
       "\t<tr><td>⋮</td><td>⋮</td><td>⋮</td><td>⋮</td><td>⋮</td></tr>\n",
       "\t<tr><td>cpayroll_trx                                                                                          </td><td>1.192404e-05</td><td>0.0002523339</td><td>0.0005646527</td><td>387</td></tr>\n",
       "\t<tr><td>mpayroll                                                                                              </td><td>1.050977e-05</td><td>0.0007101050</td><td>0.0011293055</td><td>388</td></tr>\n",
       "\t<tr><td>Visa_mpagominimo/mcuenta_corriente_lag1/mpayroll_sobre_edad/Visa_fechaalta_lag1                       </td><td>1.016665e-05</td><td>0.0006768236</td><td>0.0011293055</td><td>389</td></tr>\n",
       "\t<tr><td>Master_fechaalta_delta2/ctarjeta_visa_transacciones                                                   </td><td>9.823557e-06</td><td>0.0039078467</td><td>0.0067758329</td><td>390</td></tr>\n",
       "\t<tr><td>mpayroll_sobre_edad_lag2                                                                              </td><td>8.543045e-06</td><td>0.0016047707</td><td>0.0028232637</td><td>391</td></tr>\n",
       "\t<tr><td>mpayroll_lag2/ccomisiones_mantenimiento                                                               </td><td>6.378901e-06</td><td>0.0004710837</td><td>0.0005646527</td><td>392</td></tr>\n",
       "\t<tr><td>mactivos_margen_lag1/mpasivos_margen_delta1/Visa_mpagominimo                                          </td><td>6.326575e-06</td><td>0.0003806187</td><td>0.0005646527</td><td>393</td></tr>\n",
       "\t<tr><td>mpayroll_sobre_edad_delta2                                                                            </td><td>6.161951e-06</td><td>0.0004798579</td><td>0.0005646527</td><td>394</td></tr>\n",
       "\t<tr><td>ctrx_quarter_lag2/cliente_edad                                                                        </td><td>5.247679e-06</td><td>0.0006523163</td><td>0.0016939582</td><td>395</td></tr>\n",
       "\t<tr><td>mpayroll_delta1/Visa_mpagominimo/ctrx_quarter_lag1                                                    </td><td>2.306410e-06</td><td>0.0004949858</td><td>0.0005646527</td><td>396</td></tr>\n",
       "\t<tr><td>Visa_mpagominimo_delta2/mpayroll_sobre_edad_delta2/cdescubierto_preacordado_lag1/mcuentas_saldo_delta1</td><td>2.175717e-06</td><td>0.0005116266</td><td>0.0005646527</td><td>397</td></tr>\n",
       "\t<tr><td>ctarjeta_visa_transacciones                                                                           </td><td>1.822844e-06</td><td>0.0017512091</td><td>0.0022586110</td><td>398</td></tr>\n",
       "\t<tr><td>mcomisiones/Master_fechaalta_delta1/mpayroll_lag1                                                     </td><td>1.715220e-06</td><td>0.0012813356</td><td>0.0022586110</td><td>399</td></tr>\n",
       "\t<tr><td>ctarjeta_visa_transacciones_lag1                                                                      </td><td>1.343297e-06</td><td>0.0004347767</td><td>0.0005646527</td><td>400</td></tr>\n",
       "\t<tr><td>Master_mpagominimo_lag1_-_mcaja_ahorro_lag1                                                           </td><td>8.309322e-07</td><td>0.0002190524</td><td>0.0005646527</td><td>401</td></tr>\n",
       "\t<tr><td>mcaja_ahorro_lag1                                                                                     </td><td>6.616328e-07</td><td>0.0002190524</td><td>0.0005646527</td><td>402</td></tr>\n",
       "\t<tr><td>mpasivos_margen                                                                                       </td><td>5.700515e-07</td><td>0.0002081603</td><td>0.0005646527</td><td>403</td></tr>\n",
       "\t<tr><td>cpayroll_trx_lag2                                                                                     </td><td>9.378648e-08</td><td>0.0001839556</td><td>0.0005646527</td><td>404</td></tr>\n",
       "\t<tr><td>mcaja_ahorro/cproductos_lag1/mcuentas_saldo_lag2                                                      </td><td>6.004636e-08</td><td>0.0005276622</td><td>0.0011293055</td><td>405</td></tr>\n",
       "\t<tr><td>mcomisiones/Master_fechaalta_delta1/ctrx_quarter_lag2/mpayroll_lag1                                   </td><td>4.112297e-08</td><td>0.0010991953</td><td>0.0016939582</td><td>406</td></tr>\n",
       "\t<tr><td>mpasivos_margen/mpayroll_sobre_edad_lag2/mactivos_margen_lag1/mpasivos_margen_delta1/Visa_mpagominimo </td><td>1.834499e-08</td><td>0.0003794085</td><td>0.0005646527</td><td>407</td></tr>\n",
       "\t<tr><td>mcomisiones_lag2/mpayroll_sobre_edad                                                                  </td><td>2.956715e-09</td><td>0.0003128456</td><td>0.0005646527</td><td>408</td></tr>\n",
       "\t<tr><td>mtarjeta_visa_consumo_lag1/Master_fechaalta_delta2/mcaja_ahorro                                       </td><td>2.833938e-09</td><td>0.0006589726</td><td>0.0011293055</td><td>409</td></tr>\n",
       "\t<tr><td>mpayroll_sobre_edad_lag1                                                                              </td><td>2.265889e-09</td><td>0.0006704698</td><td>0.0016939582</td><td>410</td></tr>\n",
       "\t<tr><td>mpayroll_sobre_edad/mactivos_margen_lag1/mcomisiones_lag2                                             </td><td>1.040280e-09</td><td>0.0003058867</td><td>0.0005646527</td><td>411</td></tr>\n",
       "\t<tr><td>Visa_mpagominimo_lag1/Visa_mpagominimo_delta2                                                         </td><td>4.490487e-10</td><td>0.0002175396</td><td>0.0005646527</td><td>412</td></tr>\n",
       "\t<tr><td>Visa_fechaalta_delta1/cproductos_delta2/mrentabilidad_delta1/chomebanking_transacciones               </td><td>3.621503e-10</td><td>0.0003458245</td><td>0.0005646527</td><td>413</td></tr>\n",
       "\t<tr><td>mpayroll_sobre_edad/cliente_antiguedad_delta2                                                         </td><td>3.247495e-10</td><td>0.0002308522</td><td>0.0005646527</td><td>414</td></tr>\n",
       "\t<tr><td>ctarjeta_visa_transacciones_lag1/kmes_delta2                                                          </td><td>2.579800e-10</td><td>0.0001779044</td><td>0.0005646527</td><td>415</td></tr>\n",
       "\t<tr><td>mcomisiones_lag2/Visa_fechaalta_lag2/mpasivos_margen/mpayroll_sobre_edad_lag2                         </td><td>1.144243e-10</td><td>0.0004765298</td><td>0.0011293055</td><td>416</td></tr>\n",
       "</tbody>\n",
       "</table>\n"
      ],
      "text/latex": [
       "A data.table: 416 × 5\n",
       "\\begin{tabular}{lllll}\n",
       " Feature & Gain & Cover & Frequency & pos\\\\\n",
       " <chr> & <dbl> & <dbl> & <dbl> & <int>\\\\\n",
       "\\hline\n",
       "\t ctrx\\_quarter/cproductos\\_lag2                                                                     & 0.140581373 & 0.011247010 & 0.006211180 &  1\\\\\n",
       "\t ctrx\\_quarter                                                                                     & 0.120692980 & 0.017947473 & 0.011293055 &  2\\\\\n",
       "\t mpayroll\\_sobre\\_edad/ctarjeta\\_visa\\_transacciones\\_lag1/ccomisiones\\_mantenimiento                   & 0.056720780 & 0.033767354 & 0.014680971 &  3\\\\\n",
       "\t mtarjeta\\_visa\\_consumo                                                                            & 0.029478093 & 0.016812273 & 0.013551666 &  4\\\\\n",
       "\t mcaja\\_ahorro/cliente\\_antiguedad                                                                  & 0.021068226 & 0.002118818 & 0.003952569 &  5\\\\\n",
       "\t ctrx\\_quarter/cproductos\\_lag2/ccomisiones\\_mantenimiento                                           & 0.020379858 & 0.004781938 & 0.004517222 &  6\\\\\n",
       "\t mpasivos\\_margen\\_lag2                                                                             & 0.015246011 & 0.004851224 & 0.003387916 &  7\\\\\n",
       "\t mprestamos\\_personales/cliente\\_antiguedad\\_delta1                                                  & 0.014761355 & 0.007691342 & 0.005081875 &  8\\\\\n",
       "\t mcaja\\_ahorro                                                                                     & 0.014257099 & 0.003208331 & 0.001693958 &  9\\\\\n",
       "\t mrentabilidad\\_annual/mprestamos\\_personales                                                       & 0.010376559 & 0.014234171 & 0.007905138 & 10\\\\\n",
       "\t mactivos\\_margen/mtarjeta\\_visa\\_consumo\\_lag1/Master\\_fechaalta\\_delta2/cdescubierto\\_preacordado\\_lag1 & 0.009483069 & 0.002632260 & 0.003387916 & 11\\\\\n",
       "\t Visa\\_fechaalta\\_delta1/mtarjeta\\_visa\\_consumo\\_lag1/mrentabilidad\\_annual\\_delta1                     & 0.008898576 & 0.007773940 & 0.006775833 & 12\\\\\n",
       "\t mcaja\\_ahorro\\_lag1\\_-\\_mrentabilidad\\_delta2                                                         & 0.008649143 & 0.002438320 & 0.002823264 & 13\\\\\n",
       "\t Visa\\_fechaalta\\_lag1/kmes\\_delta1                                                                  & 0.008552516 & 0.010498178 & 0.011857708 & 14\\\\\n",
       "\t ccomisiones\\_mantenimiento\\_delta2                                                                 & 0.008527022 & 0.004885716 & 0.002258611 & 15\\\\\n",
       "\t mrentabilidad\\_annual\\_lag2                                                                        & 0.008032917 & 0.006840547 & 0.008469791 & 16\\\\\n",
       "\t cliente\\_edad\\_lag1/ccomisiones\\_mantenimiento                                                      & 0.007447454 & 0.020263256 & 0.010728402 & 17\\\\\n",
       "\t mcaja\\_ahorro\\_lag2/cproductos\\_lag2/chomebanking\\_transacciones/cliente\\_edad\\_lag1                   & 0.007187460 & 0.006283839 & 0.006775833 & 18\\\\\n",
       "\t mcuentas\\_saldo/ctrx\\_quarter/cproductos\\_lag2                                                      & 0.006691349 & 0.006115919 & 0.006775833 & 19\\\\\n",
       "\t canarito11                                                                                       & 0.006517620 & 0.009599276 & 0.010163749 & 20\\\\\n",
       "\t canarito78                                                                                       & 0.006398815 & 0.017349920 & 0.009034444 & 21\\\\\n",
       "\t chomebanking\\_transacciones/cliente\\_edad\\_lag1                                                     & 0.006193621 & 0.009097937 & 0.007340486 & 22\\\\\n",
       "\t mrentabilidad\\_annual\\_lag1/Visa\\_fechaalta\\_lag1                                                    & 0.005677013 & 0.003122102 & 0.005646527 & 23\\\\\n",
       "\t mcomisiones\\_lag2/ctarjeta\\_visa\\_transacciones\\_lag2                                                & 0.005624532 & 0.003332985 & 0.004517222 & 24\\\\\n",
       "\t Visa\\_fechaalta\\_lag1/ctrx\\_quarter\\_lag2                                                            & 0.005518131 & 0.003112723 & 0.003952569 & 25\\\\\n",
       "\t cproductos\\_delta2/Visa\\_mpagominimo\\_lag1                                                          & 0.005447316 & 0.002330306 & 0.002258611 & 26\\\\\n",
       "\t Visa\\_fechaalta\\_delta1/mactivos\\_margen\\_lag1/Visa\\_fechaalta\\_lag2                                   & 0.004853881 & 0.004238846 & 0.006211180 & 27\\\\\n",
       "\t mrentabilidad\\_annual\\_lag1/Visa\\_fechaalta\\_lag1/Master\\_mpagominimo                                 & 0.004788773 & 0.004303593 & 0.003387916 & 28\\\\\n",
       "\t ctrx\\_quarter\\_delta1                                                                              & 0.004692051 & 0.010999517 & 0.006775833 & 29\\\\\n",
       "\t mtarjeta\\_visa\\_consumo\\_lag1/ctarjeta\\_visa\\_transacciones\\_lag2                                      & 0.004540939 & 0.002768109 & 0.003952569 & 30\\\\\n",
       "\t ⋮ & ⋮ & ⋮ & ⋮ & ⋮\\\\\n",
       "\t cpayroll\\_trx                                                                                           & 1.192404e-05 & 0.0002523339 & 0.0005646527 & 387\\\\\n",
       "\t mpayroll                                                                                               & 1.050977e-05 & 0.0007101050 & 0.0011293055 & 388\\\\\n",
       "\t Visa\\_mpagominimo/mcuenta\\_corriente\\_lag1/mpayroll\\_sobre\\_edad/Visa\\_fechaalta\\_lag1                        & 1.016665e-05 & 0.0006768236 & 0.0011293055 & 389\\\\\n",
       "\t Master\\_fechaalta\\_delta2/ctarjeta\\_visa\\_transacciones                                                    & 9.823557e-06 & 0.0039078467 & 0.0067758329 & 390\\\\\n",
       "\t mpayroll\\_sobre\\_edad\\_lag2                                                                               & 8.543045e-06 & 0.0016047707 & 0.0028232637 & 391\\\\\n",
       "\t mpayroll\\_lag2/ccomisiones\\_mantenimiento                                                                & 6.378901e-06 & 0.0004710837 & 0.0005646527 & 392\\\\\n",
       "\t mactivos\\_margen\\_lag1/mpasivos\\_margen\\_delta1/Visa\\_mpagominimo                                           & 6.326575e-06 & 0.0003806187 & 0.0005646527 & 393\\\\\n",
       "\t mpayroll\\_sobre\\_edad\\_delta2                                                                             & 6.161951e-06 & 0.0004798579 & 0.0005646527 & 394\\\\\n",
       "\t ctrx\\_quarter\\_lag2/cliente\\_edad                                                                         & 5.247679e-06 & 0.0006523163 & 0.0016939582 & 395\\\\\n",
       "\t mpayroll\\_delta1/Visa\\_mpagominimo/ctrx\\_quarter\\_lag1                                                     & 2.306410e-06 & 0.0004949858 & 0.0005646527 & 396\\\\\n",
       "\t Visa\\_mpagominimo\\_delta2/mpayroll\\_sobre\\_edad\\_delta2/cdescubierto\\_preacordado\\_lag1/mcuentas\\_saldo\\_delta1 & 2.175717e-06 & 0.0005116266 & 0.0005646527 & 397\\\\\n",
       "\t ctarjeta\\_visa\\_transacciones                                                                            & 1.822844e-06 & 0.0017512091 & 0.0022586110 & 398\\\\\n",
       "\t mcomisiones/Master\\_fechaalta\\_delta1/mpayroll\\_lag1                                                      & 1.715220e-06 & 0.0012813356 & 0.0022586110 & 399\\\\\n",
       "\t ctarjeta\\_visa\\_transacciones\\_lag1                                                                       & 1.343297e-06 & 0.0004347767 & 0.0005646527 & 400\\\\\n",
       "\t Master\\_mpagominimo\\_lag1\\_-\\_mcaja\\_ahorro\\_lag1                                                            & 8.309322e-07 & 0.0002190524 & 0.0005646527 & 401\\\\\n",
       "\t mcaja\\_ahorro\\_lag1                                                                                      & 6.616328e-07 & 0.0002190524 & 0.0005646527 & 402\\\\\n",
       "\t mpasivos\\_margen                                                                                        & 5.700515e-07 & 0.0002081603 & 0.0005646527 & 403\\\\\n",
       "\t cpayroll\\_trx\\_lag2                                                                                      & 9.378648e-08 & 0.0001839556 & 0.0005646527 & 404\\\\\n",
       "\t mcaja\\_ahorro/cproductos\\_lag1/mcuentas\\_saldo\\_lag2                                                       & 6.004636e-08 & 0.0005276622 & 0.0011293055 & 405\\\\\n",
       "\t mcomisiones/Master\\_fechaalta\\_delta1/ctrx\\_quarter\\_lag2/mpayroll\\_lag1                                    & 4.112297e-08 & 0.0010991953 & 0.0016939582 & 406\\\\\n",
       "\t mpasivos\\_margen/mpayroll\\_sobre\\_edad\\_lag2/mactivos\\_margen\\_lag1/mpasivos\\_margen\\_delta1/Visa\\_mpagominimo  & 1.834499e-08 & 0.0003794085 & 0.0005646527 & 407\\\\\n",
       "\t mcomisiones\\_lag2/mpayroll\\_sobre\\_edad                                                                   & 2.956715e-09 & 0.0003128456 & 0.0005646527 & 408\\\\\n",
       "\t mtarjeta\\_visa\\_consumo\\_lag1/Master\\_fechaalta\\_delta2/mcaja\\_ahorro                                        & 2.833938e-09 & 0.0006589726 & 0.0011293055 & 409\\\\\n",
       "\t mpayroll\\_sobre\\_edad\\_lag1                                                                               & 2.265889e-09 & 0.0006704698 & 0.0016939582 & 410\\\\\n",
       "\t mpayroll\\_sobre\\_edad/mactivos\\_margen\\_lag1/mcomisiones\\_lag2                                              & 1.040280e-09 & 0.0003058867 & 0.0005646527 & 411\\\\\n",
       "\t Visa\\_mpagominimo\\_lag1/Visa\\_mpagominimo\\_delta2                                                          & 4.490487e-10 & 0.0002175396 & 0.0005646527 & 412\\\\\n",
       "\t Visa\\_fechaalta\\_delta1/cproductos\\_delta2/mrentabilidad\\_delta1/chomebanking\\_transacciones                & 3.621503e-10 & 0.0003458245 & 0.0005646527 & 413\\\\\n",
       "\t mpayroll\\_sobre\\_edad/cliente\\_antiguedad\\_delta2                                                          & 3.247495e-10 & 0.0002308522 & 0.0005646527 & 414\\\\\n",
       "\t ctarjeta\\_visa\\_transacciones\\_lag1/kmes\\_delta2                                                           & 2.579800e-10 & 0.0001779044 & 0.0005646527 & 415\\\\\n",
       "\t mcomisiones\\_lag2/Visa\\_fechaalta\\_lag2/mpasivos\\_margen/mpayroll\\_sobre\\_edad\\_lag2                          & 1.144243e-10 & 0.0004765298 & 0.0011293055 & 416\\\\\n",
       "\\end{tabular}\n"
      ],
      "text/markdown": [
       "\n",
       "A data.table: 416 × 5\n",
       "\n",
       "| Feature &lt;chr&gt; | Gain &lt;dbl&gt; | Cover &lt;dbl&gt; | Frequency &lt;dbl&gt; | pos &lt;int&gt; |\n",
       "|---|---|---|---|---|\n",
       "| ctrx_quarter/cproductos_lag2                                                                     | 0.140581373 | 0.011247010 | 0.006211180 |  1 |\n",
       "| ctrx_quarter                                                                                     | 0.120692980 | 0.017947473 | 0.011293055 |  2 |\n",
       "| mpayroll_sobre_edad/ctarjeta_visa_transacciones_lag1/ccomisiones_mantenimiento                   | 0.056720780 | 0.033767354 | 0.014680971 |  3 |\n",
       "| mtarjeta_visa_consumo                                                                            | 0.029478093 | 0.016812273 | 0.013551666 |  4 |\n",
       "| mcaja_ahorro/cliente_antiguedad                                                                  | 0.021068226 | 0.002118818 | 0.003952569 |  5 |\n",
       "| ctrx_quarter/cproductos_lag2/ccomisiones_mantenimiento                                           | 0.020379858 | 0.004781938 | 0.004517222 |  6 |\n",
       "| mpasivos_margen_lag2                                                                             | 0.015246011 | 0.004851224 | 0.003387916 |  7 |\n",
       "| mprestamos_personales/cliente_antiguedad_delta1                                                  | 0.014761355 | 0.007691342 | 0.005081875 |  8 |\n",
       "| mcaja_ahorro                                                                                     | 0.014257099 | 0.003208331 | 0.001693958 |  9 |\n",
       "| mrentabilidad_annual/mprestamos_personales                                                       | 0.010376559 | 0.014234171 | 0.007905138 | 10 |\n",
       "| mactivos_margen/mtarjeta_visa_consumo_lag1/Master_fechaalta_delta2/cdescubierto_preacordado_lag1 | 0.009483069 | 0.002632260 | 0.003387916 | 11 |\n",
       "| Visa_fechaalta_delta1/mtarjeta_visa_consumo_lag1/mrentabilidad_annual_delta1                     | 0.008898576 | 0.007773940 | 0.006775833 | 12 |\n",
       "| mcaja_ahorro_lag1_-_mrentabilidad_delta2                                                         | 0.008649143 | 0.002438320 | 0.002823264 | 13 |\n",
       "| Visa_fechaalta_lag1/kmes_delta1                                                                  | 0.008552516 | 0.010498178 | 0.011857708 | 14 |\n",
       "| ccomisiones_mantenimiento_delta2                                                                 | 0.008527022 | 0.004885716 | 0.002258611 | 15 |\n",
       "| mrentabilidad_annual_lag2                                                                        | 0.008032917 | 0.006840547 | 0.008469791 | 16 |\n",
       "| cliente_edad_lag1/ccomisiones_mantenimiento                                                      | 0.007447454 | 0.020263256 | 0.010728402 | 17 |\n",
       "| mcaja_ahorro_lag2/cproductos_lag2/chomebanking_transacciones/cliente_edad_lag1                   | 0.007187460 | 0.006283839 | 0.006775833 | 18 |\n",
       "| mcuentas_saldo/ctrx_quarter/cproductos_lag2                                                      | 0.006691349 | 0.006115919 | 0.006775833 | 19 |\n",
       "| canarito11                                                                                       | 0.006517620 | 0.009599276 | 0.010163749 | 20 |\n",
       "| canarito78                                                                                       | 0.006398815 | 0.017349920 | 0.009034444 | 21 |\n",
       "| chomebanking_transacciones/cliente_edad_lag1                                                     | 0.006193621 | 0.009097937 | 0.007340486 | 22 |\n",
       "| mrentabilidad_annual_lag1/Visa_fechaalta_lag1                                                    | 0.005677013 | 0.003122102 | 0.005646527 | 23 |\n",
       "| mcomisiones_lag2/ctarjeta_visa_transacciones_lag2                                                | 0.005624532 | 0.003332985 | 0.004517222 | 24 |\n",
       "| Visa_fechaalta_lag1/ctrx_quarter_lag2                                                            | 0.005518131 | 0.003112723 | 0.003952569 | 25 |\n",
       "| cproductos_delta2/Visa_mpagominimo_lag1                                                          | 0.005447316 | 0.002330306 | 0.002258611 | 26 |\n",
       "| Visa_fechaalta_delta1/mactivos_margen_lag1/Visa_fechaalta_lag2                                   | 0.004853881 | 0.004238846 | 0.006211180 | 27 |\n",
       "| mrentabilidad_annual_lag1/Visa_fechaalta_lag1/Master_mpagominimo                                 | 0.004788773 | 0.004303593 | 0.003387916 | 28 |\n",
       "| ctrx_quarter_delta1                                                                              | 0.004692051 | 0.010999517 | 0.006775833 | 29 |\n",
       "| mtarjeta_visa_consumo_lag1/ctarjeta_visa_transacciones_lag2                                      | 0.004540939 | 0.002768109 | 0.003952569 | 30 |\n",
       "| ⋮ | ⋮ | ⋮ | ⋮ | ⋮ |\n",
       "| cpayroll_trx                                                                                           | 1.192404e-05 | 0.0002523339 | 0.0005646527 | 387 |\n",
       "| mpayroll                                                                                               | 1.050977e-05 | 0.0007101050 | 0.0011293055 | 388 |\n",
       "| Visa_mpagominimo/mcuenta_corriente_lag1/mpayroll_sobre_edad/Visa_fechaalta_lag1                        | 1.016665e-05 | 0.0006768236 | 0.0011293055 | 389 |\n",
       "| Master_fechaalta_delta2/ctarjeta_visa_transacciones                                                    | 9.823557e-06 | 0.0039078467 | 0.0067758329 | 390 |\n",
       "| mpayroll_sobre_edad_lag2                                                                               | 8.543045e-06 | 0.0016047707 | 0.0028232637 | 391 |\n",
       "| mpayroll_lag2/ccomisiones_mantenimiento                                                                | 6.378901e-06 | 0.0004710837 | 0.0005646527 | 392 |\n",
       "| mactivos_margen_lag1/mpasivos_margen_delta1/Visa_mpagominimo                                           | 6.326575e-06 | 0.0003806187 | 0.0005646527 | 393 |\n",
       "| mpayroll_sobre_edad_delta2                                                                             | 6.161951e-06 | 0.0004798579 | 0.0005646527 | 394 |\n",
       "| ctrx_quarter_lag2/cliente_edad                                                                         | 5.247679e-06 | 0.0006523163 | 0.0016939582 | 395 |\n",
       "| mpayroll_delta1/Visa_mpagominimo/ctrx_quarter_lag1                                                     | 2.306410e-06 | 0.0004949858 | 0.0005646527 | 396 |\n",
       "| Visa_mpagominimo_delta2/mpayroll_sobre_edad_delta2/cdescubierto_preacordado_lag1/mcuentas_saldo_delta1 | 2.175717e-06 | 0.0005116266 | 0.0005646527 | 397 |\n",
       "| ctarjeta_visa_transacciones                                                                            | 1.822844e-06 | 0.0017512091 | 0.0022586110 | 398 |\n",
       "| mcomisiones/Master_fechaalta_delta1/mpayroll_lag1                                                      | 1.715220e-06 | 0.0012813356 | 0.0022586110 | 399 |\n",
       "| ctarjeta_visa_transacciones_lag1                                                                       | 1.343297e-06 | 0.0004347767 | 0.0005646527 | 400 |\n",
       "| Master_mpagominimo_lag1_-_mcaja_ahorro_lag1                                                            | 8.309322e-07 | 0.0002190524 | 0.0005646527 | 401 |\n",
       "| mcaja_ahorro_lag1                                                                                      | 6.616328e-07 | 0.0002190524 | 0.0005646527 | 402 |\n",
       "| mpasivos_margen                                                                                        | 5.700515e-07 | 0.0002081603 | 0.0005646527 | 403 |\n",
       "| cpayroll_trx_lag2                                                                                      | 9.378648e-08 | 0.0001839556 | 0.0005646527 | 404 |\n",
       "| mcaja_ahorro/cproductos_lag1/mcuentas_saldo_lag2                                                       | 6.004636e-08 | 0.0005276622 | 0.0011293055 | 405 |\n",
       "| mcomisiones/Master_fechaalta_delta1/ctrx_quarter_lag2/mpayroll_lag1                                    | 4.112297e-08 | 0.0010991953 | 0.0016939582 | 406 |\n",
       "| mpasivos_margen/mpayroll_sobre_edad_lag2/mactivos_margen_lag1/mpasivos_margen_delta1/Visa_mpagominimo  | 1.834499e-08 | 0.0003794085 | 0.0005646527 | 407 |\n",
       "| mcomisiones_lag2/mpayroll_sobre_edad                                                                   | 2.956715e-09 | 0.0003128456 | 0.0005646527 | 408 |\n",
       "| mtarjeta_visa_consumo_lag1/Master_fechaalta_delta2/mcaja_ahorro                                        | 2.833938e-09 | 0.0006589726 | 0.0011293055 | 409 |\n",
       "| mpayroll_sobre_edad_lag1                                                                               | 2.265889e-09 | 0.0006704698 | 0.0016939582 | 410 |\n",
       "| mpayroll_sobre_edad/mactivos_margen_lag1/mcomisiones_lag2                                              | 1.040280e-09 | 0.0003058867 | 0.0005646527 | 411 |\n",
       "| Visa_mpagominimo_lag1/Visa_mpagominimo_delta2                                                          | 4.490487e-10 | 0.0002175396 | 0.0005646527 | 412 |\n",
       "| Visa_fechaalta_delta1/cproductos_delta2/mrentabilidad_delta1/chomebanking_transacciones                | 3.621503e-10 | 0.0003458245 | 0.0005646527 | 413 |\n",
       "| mpayroll_sobre_edad/cliente_antiguedad_delta2                                                          | 3.247495e-10 | 0.0002308522 | 0.0005646527 | 414 |\n",
       "| ctarjeta_visa_transacciones_lag1/kmes_delta2                                                           | 2.579800e-10 | 0.0001779044 | 0.0005646527 | 415 |\n",
       "| mcomisiones_lag2/Visa_fechaalta_lag2/mpasivos_margen/mpayroll_sobre_edad_lag2                          | 1.144243e-10 | 0.0004765298 | 0.0011293055 | 416 |\n",
       "\n"
      ],
      "text/plain": [
       "    Feature                                                                                               \n",
       "1   ctrx_quarter/cproductos_lag2                                                                          \n",
       "2   ctrx_quarter                                                                                          \n",
       "3   mpayroll_sobre_edad/ctarjeta_visa_transacciones_lag1/ccomisiones_mantenimiento                        \n",
       "4   mtarjeta_visa_consumo                                                                                 \n",
       "5   mcaja_ahorro/cliente_antiguedad                                                                       \n",
       "6   ctrx_quarter/cproductos_lag2/ccomisiones_mantenimiento                                                \n",
       "7   mpasivos_margen_lag2                                                                                  \n",
       "8   mprestamos_personales/cliente_antiguedad_delta1                                                       \n",
       "9   mcaja_ahorro                                                                                          \n",
       "10  mrentabilidad_annual/mprestamos_personales                                                            \n",
       "11  mactivos_margen/mtarjeta_visa_consumo_lag1/Master_fechaalta_delta2/cdescubierto_preacordado_lag1      \n",
       "12  Visa_fechaalta_delta1/mtarjeta_visa_consumo_lag1/mrentabilidad_annual_delta1                          \n",
       "13  mcaja_ahorro_lag1_-_mrentabilidad_delta2                                                              \n",
       "14  Visa_fechaalta_lag1/kmes_delta1                                                                       \n",
       "15  ccomisiones_mantenimiento_delta2                                                                      \n",
       "16  mrentabilidad_annual_lag2                                                                             \n",
       "17  cliente_edad_lag1/ccomisiones_mantenimiento                                                           \n",
       "18  mcaja_ahorro_lag2/cproductos_lag2/chomebanking_transacciones/cliente_edad_lag1                        \n",
       "19  mcuentas_saldo/ctrx_quarter/cproductos_lag2                                                           \n",
       "20  canarito11                                                                                            \n",
       "21  canarito78                                                                                            \n",
       "22  chomebanking_transacciones/cliente_edad_lag1                                                          \n",
       "23  mrentabilidad_annual_lag1/Visa_fechaalta_lag1                                                         \n",
       "24  mcomisiones_lag2/ctarjeta_visa_transacciones_lag2                                                     \n",
       "25  Visa_fechaalta_lag1/ctrx_quarter_lag2                                                                 \n",
       "26  cproductos_delta2/Visa_mpagominimo_lag1                                                               \n",
       "27  Visa_fechaalta_delta1/mactivos_margen_lag1/Visa_fechaalta_lag2                                        \n",
       "28  mrentabilidad_annual_lag1/Visa_fechaalta_lag1/Master_mpagominimo                                      \n",
       "29  ctrx_quarter_delta1                                                                                   \n",
       "30  mtarjeta_visa_consumo_lag1/ctarjeta_visa_transacciones_lag2                                           \n",
       "⋮   ⋮                                                                                                     \n",
       "387 cpayroll_trx                                                                                          \n",
       "388 mpayroll                                                                                              \n",
       "389 Visa_mpagominimo/mcuenta_corriente_lag1/mpayroll_sobre_edad/Visa_fechaalta_lag1                       \n",
       "390 Master_fechaalta_delta2/ctarjeta_visa_transacciones                                                   \n",
       "391 mpayroll_sobre_edad_lag2                                                                              \n",
       "392 mpayroll_lag2/ccomisiones_mantenimiento                                                               \n",
       "393 mactivos_margen_lag1/mpasivos_margen_delta1/Visa_mpagominimo                                          \n",
       "394 mpayroll_sobre_edad_delta2                                                                            \n",
       "395 ctrx_quarter_lag2/cliente_edad                                                                        \n",
       "396 mpayroll_delta1/Visa_mpagominimo/ctrx_quarter_lag1                                                    \n",
       "397 Visa_mpagominimo_delta2/mpayroll_sobre_edad_delta2/cdescubierto_preacordado_lag1/mcuentas_saldo_delta1\n",
       "398 ctarjeta_visa_transacciones                                                                           \n",
       "399 mcomisiones/Master_fechaalta_delta1/mpayroll_lag1                                                     \n",
       "400 ctarjeta_visa_transacciones_lag1                                                                      \n",
       "401 Master_mpagominimo_lag1_-_mcaja_ahorro_lag1                                                           \n",
       "402 mcaja_ahorro_lag1                                                                                     \n",
       "403 mpasivos_margen                                                                                       \n",
       "404 cpayroll_trx_lag2                                                                                     \n",
       "405 mcaja_ahorro/cproductos_lag1/mcuentas_saldo_lag2                                                      \n",
       "406 mcomisiones/Master_fechaalta_delta1/ctrx_quarter_lag2/mpayroll_lag1                                   \n",
       "407 mpasivos_margen/mpayroll_sobre_edad_lag2/mactivos_margen_lag1/mpasivos_margen_delta1/Visa_mpagominimo \n",
       "408 mcomisiones_lag2/mpayroll_sobre_edad                                                                  \n",
       "409 mtarjeta_visa_consumo_lag1/Master_fechaalta_delta2/mcaja_ahorro                                       \n",
       "410 mpayroll_sobre_edad_lag1                                                                              \n",
       "411 mpayroll_sobre_edad/mactivos_margen_lag1/mcomisiones_lag2                                             \n",
       "412 Visa_mpagominimo_lag1/Visa_mpagominimo_delta2                                                         \n",
       "413 Visa_fechaalta_delta1/cproductos_delta2/mrentabilidad_delta1/chomebanking_transacciones               \n",
       "414 mpayroll_sobre_edad/cliente_antiguedad_delta2                                                         \n",
       "415 ctarjeta_visa_transacciones_lag1/kmes_delta2                                                          \n",
       "416 mcomisiones_lag2/Visa_fechaalta_lag2/mpasivos_margen/mpayroll_sobre_edad_lag2                         \n",
       "    Gain         Cover        Frequency    pos\n",
       "1   0.140581373  0.011247010  0.006211180   1 \n",
       "2   0.120692980  0.017947473  0.011293055   2 \n",
       "3   0.056720780  0.033767354  0.014680971   3 \n",
       "4   0.029478093  0.016812273  0.013551666   4 \n",
       "5   0.021068226  0.002118818  0.003952569   5 \n",
       "6   0.020379858  0.004781938  0.004517222   6 \n",
       "7   0.015246011  0.004851224  0.003387916   7 \n",
       "8   0.014761355  0.007691342  0.005081875   8 \n",
       "9   0.014257099  0.003208331  0.001693958   9 \n",
       "10  0.010376559  0.014234171  0.007905138  10 \n",
       "11  0.009483069  0.002632260  0.003387916  11 \n",
       "12  0.008898576  0.007773940  0.006775833  12 \n",
       "13  0.008649143  0.002438320  0.002823264  13 \n",
       "14  0.008552516  0.010498178  0.011857708  14 \n",
       "15  0.008527022  0.004885716  0.002258611  15 \n",
       "16  0.008032917  0.006840547  0.008469791  16 \n",
       "17  0.007447454  0.020263256  0.010728402  17 \n",
       "18  0.007187460  0.006283839  0.006775833  18 \n",
       "19  0.006691349  0.006115919  0.006775833  19 \n",
       "20  0.006517620  0.009599276  0.010163749  20 \n",
       "21  0.006398815  0.017349920  0.009034444  21 \n",
       "22  0.006193621  0.009097937  0.007340486  22 \n",
       "23  0.005677013  0.003122102  0.005646527  23 \n",
       "24  0.005624532  0.003332985  0.004517222  24 \n",
       "25  0.005518131  0.003112723  0.003952569  25 \n",
       "26  0.005447316  0.002330306  0.002258611  26 \n",
       "27  0.004853881  0.004238846  0.006211180  27 \n",
       "28  0.004788773  0.004303593  0.003387916  28 \n",
       "29  0.004692051  0.010999517  0.006775833  29 \n",
       "30  0.004540939  0.002768109  0.003952569  30 \n",
       "⋮   ⋮            ⋮            ⋮            ⋮  \n",
       "387 1.192404e-05 0.0002523339 0.0005646527 387\n",
       "388 1.050977e-05 0.0007101050 0.0011293055 388\n",
       "389 1.016665e-05 0.0006768236 0.0011293055 389\n",
       "390 9.823557e-06 0.0039078467 0.0067758329 390\n",
       "391 8.543045e-06 0.0016047707 0.0028232637 391\n",
       "392 6.378901e-06 0.0004710837 0.0005646527 392\n",
       "393 6.326575e-06 0.0003806187 0.0005646527 393\n",
       "394 6.161951e-06 0.0004798579 0.0005646527 394\n",
       "395 5.247679e-06 0.0006523163 0.0016939582 395\n",
       "396 2.306410e-06 0.0004949858 0.0005646527 396\n",
       "397 2.175717e-06 0.0005116266 0.0005646527 397\n",
       "398 1.822844e-06 0.0017512091 0.0022586110 398\n",
       "399 1.715220e-06 0.0012813356 0.0022586110 399\n",
       "400 1.343297e-06 0.0004347767 0.0005646527 400\n",
       "401 8.309322e-07 0.0002190524 0.0005646527 401\n",
       "402 6.616328e-07 0.0002190524 0.0005646527 402\n",
       "403 5.700515e-07 0.0002081603 0.0005646527 403\n",
       "404 9.378648e-08 0.0001839556 0.0005646527 404\n",
       "405 6.004636e-08 0.0005276622 0.0011293055 405\n",
       "406 4.112297e-08 0.0010991953 0.0016939582 406\n",
       "407 1.834499e-08 0.0003794085 0.0005646527 407\n",
       "408 2.956715e-09 0.0003128456 0.0005646527 408\n",
       "409 2.833938e-09 0.0006589726 0.0011293055 409\n",
       "410 2.265889e-09 0.0006704698 0.0016939582 410\n",
       "411 1.040280e-09 0.0003058867 0.0005646527 411\n",
       "412 4.490487e-10 0.0002175396 0.0005646527 412\n",
       "413 3.621503e-10 0.0003458245 0.0005646527 413\n",
       "414 3.247495e-10 0.0002308522 0.0005646527 414\n",
       "415 2.579800e-10 0.0001779044 0.0005646527 415\n",
       "416 1.144243e-10 0.0004765298 0.0011293055 416"
      ]
     },
     "metadata": {},
     "output_type": "display_data"
    }
   ],
   "source": [
    "tb_importancia\n"
   ]
  },
  {
   "cell_type": "code",
   "execution_count": null,
   "id": "373864c7-24f6-4c36-a592-3a70825719d2",
   "metadata": {},
   "outputs": [],
   "source": []
  },
  {
   "cell_type": "code",
   "execution_count": null,
   "id": "b5a2f4aa-f4af-48a7-820b-42ce097d03fa",
   "metadata": {},
   "outputs": [],
   "source": []
  },
  {
   "cell_type": "markdown",
   "id": "cf91ea5e-3341-4afb-8d05-cc4923d3d1e1",
   "metadata": {
    "id": "cf91ea5e-3341-4afb-8d05-cc4923d3d1e1"
   },
   "source": [
    "### 6.3.2 Modelado"
   ]
  },
  {
   "cell_type": "markdown",
   "id": "526048e4-8cf2-4023-bd2d-a70e4e9ff157",
   "metadata": {
    "id": "526048e4-8cf2-4023-bd2d-a70e4e9ff157"
   },
   "source": [
    "#### 6.3.2.1 Training Strategy\n",
    "\n",
    "Esta etapa de Workflow de  Training Strategy esta pensada para la *Modalidad Gerencial* que posee el dataset de [202005, 202109]\n",
    "<br> Si usted es un Analista, posee el periodo de [201901, 202109] y deberá experimentar en que meses le conviene experimentar\n",
    "\n",
    "<br> A la *Modalidad Gerencial* no se le complicada la vida con el undersampling de los continua, por eso PARAM$trainingstrategy$training_pct <- 1.0\n",
    "<br> Sin embargo, si usted es  *Analista SR* posee un dataset 50 veces ( filas x columnas) más grande que la *Modalidad Gerencial*  y por un tema de velocidad y experimentación más rápida puede llegar a necesitar activar el undersampling de la clase mayoritaria, a pesar de estar corriendo en Google Cloud."
   ]
  },
  {
   "cell_type": "markdown",
   "id": "f16bc1c1-b3ea-43ca-9d3c-53f8f9ab8ec1",
   "metadata": {
    "id": "f16bc1c1-b3ea-43ca-9d3c-53f8f9ab8ec1"
   },
   "source": [
    "Se hace una estrategia de entrenamiento muy sencilla, tomando todos los meses posibles, SIN eliminar nada x pandemia ni por ningun otro motivo\n",
    "\n",
    "* future = 202109  obviamente completo\n",
    "\n",
    "* final_train =  [ 202005, 202107 ]  SIN undersampling\n",
    "\n",
    "* training\n",
    "   * testing = NO HAY\n",
    "   * validation =  202107   completo, sin undersampling\n",
    "   * training = [ 202005, 202106 ]  donde se consideran el 100% de los CONTINUA"
   ]
  },
  {
   "cell_type": "code",
   "execution_count": 32,
   "id": "2c9c0a42-ba58-4264-8566-091a6161716f",
   "metadata": {
    "id": "2c9c0a42-ba58-4264-8566-091a6161716f"
   },
   "outputs": [],
   "source": [
    "PARAM$trainingstrategy$validate <- c(202107)\n",
    "\n",
    "PARAM$trainingstrategy$training <- c(\n",
    "  202106, 202105, 202104, 202103, 202102, 202101,\n",
    "  202012, 202011, 202010, 202009, 202008, 202007,\n",
    "  202006, 202005\n",
    ")\n",
    "\n",
    "PARAM$trainingstrategy$training_pct <- 1.0\n",
    "\n",
    "\n",
    "PARAM$trainingstrategy$positivos <- c( \"BAJA+1\", \"BAJA+2\")"
   ]
  },
  {
   "cell_type": "code",
   "execution_count": 33,
   "id": "tv_trHWAj4a8",
   "metadata": {
    "id": "tv_trHWAj4a8"
   },
   "outputs": [],
   "source": [
    "# seteo la clase01   1={BAJA+1, BAJA+2}   0={CONTINUA}\n",
    "dataset[, clase01 := ifelse( clase_ternaria %in% PARAM$trainingstrategy$positivos, 1, 0 )]"
   ]
  },
  {
   "cell_type": "code",
   "execution_count": 34,
   "id": "Ud_XDKSIj8f_",
   "metadata": {
    "id": "Ud_XDKSIj8f_"
   },
   "outputs": [],
   "source": [
    "# los campos en los que se entrena\n",
    "campos_buenos <- copy( setdiff(\n",
    "    colnames(dataset), c(\"clase_ternaria\",\"clase01\",\"azar\"))\n",
    ")"
   ]
  },
  {
   "cell_type": "code",
   "execution_count": 35,
   "id": "rFKgZZPSj_Pa",
   "metadata": {
    "id": "rFKgZZPSj_Pa"
   },
   "outputs": [],
   "source": [
    "# preparo para que se puede hacer undersampling de los CONTINUA\n",
    "#  solamente por un tema de VELOCIDAD\n",
    "set.seed(PARAM$semilla_primigenia, kind = \"L'Ecuyer-CMRG\")\n",
    "dataset[, azar:=runif(nrow(dataset))]\n",
    "\n",
    "# undersampling de los CONTINUA\n",
    "dataset[, fold_train :=  foto_mes %in%  PARAM$trainingstrategy$training &\n",
    "    (clase_ternaria %in% c(\"BAJA+1\", \"BAJA+2\") |\n",
    "     azar < PARAM$trainingstrategy$training_pct ) ]\n",
    "\n",
    "\n",
    "if( !require(\"lightgbm\")) install.packages(\"lightgbm\")\n",
    "require(\"lightgbm\")\n",
    "\n",
    "dtrain <- lgb.Dataset(\n",
    "  data= data.matrix(dataset[fold_train == TRUE, campos_buenos, with = FALSE]),\n",
    "  label= dataset[fold_train == TRUE, clase01],\n",
    "  free_raw_data= TRUE\n",
    ")"
   ]
  },
  {
   "cell_type": "code",
   "execution_count": 36,
   "id": "B3yo98kQkHcP",
   "metadata": {
    "id": "B3yo98kQkHcP"
   },
   "outputs": [
    {
     "data": {
      "text/html": [
       "16551"
      ],
      "text/latex": [
       "16551"
      ],
      "text/markdown": [
       "16551"
      ],
      "text/plain": [
       "[1] 16551"
      ]
     },
     "metadata": {},
     "output_type": "display_data"
    }
   ],
   "source": [
    "# datos de validation\n",
    "dvalidate <- lgb.Dataset(\n",
    "  data= data.matrix(dataset[foto_mes %in% PARAM$trainingstrategy$validate, campos_buenos, with = FALSE]),\n",
    "  label= dataset[foto_mes %in% PARAM$trainingstrategy$validate, clase01],\n",
    "  free_raw_data= TRUE\n",
    ")\n",
    "\n",
    "nrow(dvalidate)"
   ]
  },
  {
   "cell_type": "markdown",
   "id": "28e8f788-551c-4e50-9029-302ac0834287",
   "metadata": {
    "id": "28e8f788-551c-4e50-9029-302ac0834287"
   },
   "source": [
    "####  6.3.2.2. Hyperparameter Tuning"
   ]
  },
  {
   "cell_type": "markdown",
   "id": "bf5fc836-e222-4aeb-a6a8-157346895ef7",
   "metadata": {
    "id": "bf5fc836-e222-4aeb-a6a8-157346895ef7"
   },
   "source": [
    "* Clase binaria que se optimiza :  positivos = [ BAJA+1, BAJA+2 ]"
   ]
  },
  {
   "cell_type": "markdown",
   "id": "885c03b5-77bc-4510-a930-0d1f14b52ffb",
   "metadata": {
    "id": "885c03b5-77bc-4510-a930-0d1f14b52ffb"
   },
   "source": [
    "* Metrica que se optimiza **AUC** Area Under Curve de la  ROC Curve\n",
    "\n",
    "es muy importante notar que intencionalmente  **NO** se está optimizando la funcion de ganancia del problema"
   ]
  },
  {
   "cell_type": "markdown",
   "id": "b7e6f95c-66ef-4ab9-9ba3-fcc099816704",
   "metadata": {
    "id": "b7e6f95c-66ef-4ab9-9ba3-fcc099816704"
   },
   "source": [
    "* Cantidad de iteraciones inteligentes de la Optimizacion Bayesiana = **10**"
   ]
  },
  {
   "cell_type": "markdown",
   "id": "fe047a87-e2d0-4418-97dd-0a881e66d73a",
   "metadata": {
    "id": "fe047a87-e2d0-4418-97dd-0a881e66d73a"
   },
   "source": [
    "* Parametros no default, fijos de LightGBM que no se optimizan\n",
    "  * max_bin = 31 , Alienigenas Ancestrales contruyeron las pirámides y dejaron a la humanidad en un jeroglifico  *max_bin=31*\n",
    "  * feature_fraction = 0.5  para poner algo que generalmente no falla\n",
    "  * learning_rate = 0.03  para que aprenda lento\n"
   ]
  },
  {
   "cell_type": "markdown",
   "id": "1e7da08e-fe57-4681-beff-11fe963116bd",
   "metadata": {
    "id": "1e7da08e-fe57-4681-beff-11fe963116bd"
   },
   "source": [
    "* Parametros que se optimizan en la Bayesian Optimization\n",
    "  * num_leaves  [8, 256]\n",
    "  * min_data_in_leaf  [8, 8192]"
   ]
  },
  {
   "cell_type": "code",
   "execution_count": 37,
   "id": "34V6y4GetKq_",
   "metadata": {
    "id": "34V6y4GetKq_"
   },
   "outputs": [
    {
     "name": "stderr",
     "output_type": "stream",
     "text": [
      "Loading required package: DiceKriging\n",
      "\n",
      "Loading required package: mlrMBO\n",
      "\n",
      "Loading required package: mlr\n",
      "\n",
      "Loading required package: ParamHelpers\n",
      "\n",
      "\n",
      "Attaching package: ‘ParamHelpers’\n",
      "\n",
      "\n",
      "The following object is masked from ‘package:R.utils’:\n",
      "\n",
      "    isVector\n",
      "\n",
      "\n",
      "\n",
      "Attaching package: ‘mlr’\n",
      "\n",
      "\n",
      "The following objects are masked from ‘package:R.utils’:\n",
      "\n",
      "    resample, setThreshold\n",
      "\n",
      "\n",
      "Loading required package: smoof\n",
      "\n",
      "Loading required package: checkmate\n",
      "\n",
      "\n",
      "Attaching package: ‘checkmate’\n",
      "\n",
      "\n",
      "The following object is masked from ‘package:DiceKriging’:\n",
      "\n",
      "    checkNames\n",
      "\n",
      "\n",
      "The following object is masked from ‘package:R.utils’:\n",
      "\n",
      "    asInt\n",
      "\n",
      "\n",
      "\n",
      "Attaching package: ‘smoof’\n",
      "\n",
      "\n",
      "The following objects are masked from ‘package:R.oo’:\n",
      "\n",
      "    getDescription, getName\n",
      "\n",
      "\n"
     ]
    }
   ],
   "source": [
    "# paquetes necesarios para la Bayesian Optimization\n",
    "if(!require(\"DiceKriging\")) install.packages(\"DiceKriging\")\n",
    "require(\"DiceKriging\")\n",
    "\n",
    "if(!require(\"mlrMBO\")) install.packages(\"mlrMBO\")\n",
    "require(\"mlrMBO\")"
   ]
  },
  {
   "cell_type": "markdown",
   "id": "UFbDSYtH0TTT",
   "metadata": {
    "id": "UFbDSYtH0TTT"
   },
   "source": [
    "Definición de la Bayesian Optimization\n",
    "<br> Si se desea optimizar un hiperparámetro que esta como fijo, debe QUITARSE de param_fijos y agregarse a PARAM$hipeparametertuning$hs"
   ]
  },
  {
   "cell_type": "code",
   "execution_count": 38,
   "id": "5Uag3XGHqrfZ",
   "metadata": {
    "id": "5Uag3XGHqrfZ"
   },
   "outputs": [],
   "source": [
    "# valor ridiculamente bajo para que corra rapido en el aula y no molestar a la *Modalidad Gerencial*\n",
    "PARAM$hipeparametertuning$num_interations <- 44\n",
    "\n",
    "# parametros fijos del LightGBM\n",
    "PARAM$lgbm$param_fijos <- list(\n",
    "  objective= \"binary\",\n",
    "  metric= \"auc\",\n",
    "  first_metric_only= TRUE,\n",
    "  boost_from_average= TRUE,\n",
    "  feature_pre_filter= FALSE,\n",
    "  verbosity= -100,\n",
    "  force_row_wise= TRUE, # para evitar warning\n",
    "  seed= PARAM$semilla_primigenia,\n",
    "  max_bin= 31,\n",
    "  learning_rate= 0.03,\n",
    "  feature_fraction= 0.5,\n",
    "  num_iterations= 2048,  # valor grande, lo limita early_stopping_rounds\n",
    "  early_stopping_rounds= 200\n",
    ")\n",
    "\n",
    "PARAM$hipeparametertuning$hs <- makeParamSet(\n",
    "  makeIntegerParam(\"num_leaves\", lower = 2L, upper = 256L),\n",
    "  makeIntegerParam(\"min_data_in_leaf\", lower = 2L, upper = 8192L)\n",
    ")"
   ]
  },
  {
   "cell_type": "markdown",
   "id": "FEa1UuuAz4yj",
   "metadata": {
    "id": "FEa1UuuAz4yj"
   },
   "source": [
    "Función \"señora caja negra\"  que es llamada para verificar la realidad por la Bayesian Optimization"
   ]
  },
  {
   "cell_type": "code",
   "execution_count": 39,
   "id": "2c10f535-8d90-47d1-ac3d-9b4c24ec21d2",
   "metadata": {
    "id": "2c10f535-8d90-47d1-ac3d-9b4c24ec21d2"
   },
   "outputs": [],
   "source": [
    "# En  x llegan los parmaetros de la bayesiana\n",
    "#  devuelve la AUC en validate del modelo entrenado\n",
    "#  en el parametro x llegan los hiperparámetros que se estan optimizando\n",
    "\n",
    "EstimarGanancia_AUC_lightgbm <- function(x) {\n",
    "\n",
    "  # x pisa (o agrega) a param_fijos\n",
    "  param_completo <- modifyList(PARAM$lgbm$param_fijos, x)\n",
    "\n",
    "  # entreno LightGBM\n",
    "  modelo_train <- lgb.train(\n",
    "    data= dtrain,\n",
    "    valids= list(valid = dvalidate),\n",
    "    eval= \"auc\",\n",
    "    param= param_completo,\n",
    "    verbose= -100\n",
    "  )\n",
    "\n",
    "  # recupero la AUC en validation\n",
    "  AUC <- modelo_train$record_evals$valid$auc$eval[[modelo_train$best_iter]]\n",
    "\n",
    "  # esta es la forma de devolver un parametro extra\n",
    "  attr(AUC, \"extras\") <- list(\"num_iterations\"= modelo_train$best_iter)\n",
    "\n",
    "  # hago espacio en la memoria\n",
    "  rm(modelo_train)\n",
    "  gc(full= TRUE, verbose= FALSE)\n",
    "\n",
    "  message(format(Sys.time(), \"%a %b %d %X %Y\"), \" AUC \", AUC)\n",
    "\n",
    "  return(AUC)\n",
    "}"
   ]
  },
  {
   "cell_type": "markdown",
   "id": "267a35d4-adaf-4271-a875-3864111333b7",
   "metadata": {
    "id": "267a35d4-adaf-4271-a875-3864111333b7"
   },
   "source": [
    "seteo de la Bayesian Optimization (complejo)\n",
    "<br> copiado y pegado de la documentación de la librería"
   ]
  },
  {
   "cell_type": "code",
   "execution_count": 40,
   "id": "43c2a92d-1041-46b8-bff2-47297f209ed2",
   "metadata": {
    "id": "43c2a92d-1041-46b8-bff2-47297f209ed2"
   },
   "outputs": [],
   "source": [
    "configureMlr(show.learner.output = FALSE)\n",
    "\n",
    "# configuro la busqueda bayesiana,  los hiperparametros que se van a optimizar\n",
    "# por favor, no desesperarse por lo complejo\n",
    "obj.fun <- makeSingleObjectiveFunction(\n",
    "    fn= EstimarGanancia_AUC_lightgbm, # la funcion que voy a maximizar\n",
    "    minimize= FALSE, # estoy Maximizando AUC\n",
    "    noisy= FALSE,\n",
    "    par.set= PARAM$hipeparametertuning$hs,\n",
    "    has.simple.signature= FALSE # paso los parametros en una lista\n",
    ")\n",
    "\n",
    "# cada 600 segundos guardo el resultado intermedio\n",
    "ctrl <- makeMBOControl(\n",
    "    save.on.disk.at.time= 600,\n",
    "    save.file.path= \"HT.RDATA\"\n",
    ")\n",
    "\n",
    "# indico la cantidad de iteraciones que va a tener la Bayesian Optimization\n",
    "ctrl <- setMBOControlTermination(\n",
    "    ctrl,\n",
    "    iters= PARAM$hipeparametertuning$num_interations  # cantidad de iteraciones inteligentes\n",
    ")\n",
    "\n",
    "# defino el método estandar para la creacion de los puntos iniciales\n",
    "#   los \"No Inteligentes\"\n",
    "ctrl <- setMBOControlInfill(ctrl, crit = makeMBOInfillCritEI())\n",
    "\n",
    "# mas configuraciones\n",
    "surr.km <- makeLearner(\n",
    "    \"regr.km\",\n",
    "    predict.type= \"se\",\n",
    "    covtype= \"matern3_2\",\n",
    "    control= list(trace = TRUE)\n",
    ")"
   ]
  },
  {
   "cell_type": "markdown",
   "id": "6c1e5645-d26f-4923-a53f-f30471a4c4e8",
   "metadata": {
    "id": "6c1e5645-d26f-4923-a53f-f30471a4c4e8"
   },
   "source": [
    "Corrida de la Bayesian Optimization,  aqui se hace el trabajo pesado\n",
    "<br> por favor no se asuste con los warnings que pudieran aparecer\n",
    "\n",
    "Si corrío a medias y llegó a las iteraciones inteligentes, en el archivo binario HT.RDATA quedó lo ya procesado y es utilizado para retomar la corrida desde lo último que llegó a grabar."
   ]
  },
  {
   "cell_type": "code",
   "execution_count": 41,
   "id": "1f8cab3f-c7e2-4802-bfd1-5ad509922a4e",
   "metadata": {
    "id": "1f8cab3f-c7e2-4802-bfd1-5ad509922a4e",
    "scrolled": true
   },
   "outputs": [
    {
     "name": "stderr",
     "output_type": "stream",
     "text": [
      "Computing y column(s) for design. Not provided.\n",
      "\n",
      "Thu Aug 14 03:32:05 PM 2025 AUC 0.927669094186696\n",
      "\n",
      "Thu Aug 14 03:32:21 PM 2025 AUC 0.927610703949914\n",
      "\n",
      "Thu Aug 14 03:32:46 PM 2025 AUC 0.931437581532002\n",
      "\n",
      "Thu Aug 14 03:33:03 PM 2025 AUC 0.932919117936693\n",
      "\n",
      "Thu Aug 14 03:33:27 PM 2025 AUC 0.927956411224828\n",
      "\n",
      "Thu Aug 14 03:33:44 PM 2025 AUC 0.926225094362793\n",
      "\n",
      "Thu Aug 14 03:33:59 PM 2025 AUC 0.926148630957484\n",
      "\n",
      "Thu Aug 14 03:34:19 PM 2025 AUC 0.928119069741577\n",
      "\n",
      "[mbo] 0: num_leaves=86; min_data_in_leaf=7015 : y = 0.928 : 17.5 secs : initdesign\n",
      "\n",
      "[mbo] 0: num_leaves=182; min_data_in_leaf=5783 : y = 0.928 : 15.6 secs : initdesign\n",
      "\n",
      "[mbo] 0: num_leaves=119; min_data_in_leaf=1320 : y = 0.931 : 25.0 secs : initdesign\n",
      "\n",
      "[mbo] 0: num_leaves=62; min_data_in_leaf=416 : y = 0.933 : 16.8 secs : initdesign\n",
      "\n",
      "[mbo] 0: num_leaves=155; min_data_in_leaf=3177 : y = 0.928 : 24.7 secs : initdesign\n",
      "\n",
      "[mbo] 0: num_leaves=198; min_data_in_leaf=8111 : y = 0.926 : 16.4 secs : initdesign\n",
      "\n",
      "[mbo] 0: num_leaves=20; min_data_in_leaf=4451 : y = 0.926 : 15.7 secs : initdesign\n",
      "\n",
      "[mbo] 0: num_leaves=253; min_data_in_leaf=2516 : y = 0.928 : 20.0 secs : initdesign\n",
      "\n",
      "Warning message in generateDesign(control$infill.opt.focussearch.points, ps.local, :\n",
      "“generateDesign could only produce 980 points instead of 1000!”\n",
      "Warning message in generateDesign(control$infill.opt.focussearch.points, ps.local, :\n",
      "“generateDesign could only produce 102 points instead of 1000!”\n",
      "Warning message in generateDesign(control$infill.opt.focussearch.points, ps.local, :\n",
      "“generateDesign could only produce 578 points instead of 1000!”\n",
      "Warning message in generateDesign(control$infill.opt.focussearch.points, ps.local, :\n",
      "“generateDesign could only produce 578 points instead of 1000!”\n",
      "Thu Aug 14 03:35:08 PM 2025 AUC 0.922465991162684\n",
      "\n",
      "[mbo] 1: num_leaves=2; min_data_in_leaf=2 : y = 0.922 : 48.9 secs : infill_ei\n",
      "\n",
      "Warning message in generateDesign(control$infill.opt.focussearch.points, ps.local, :\n",
      "“generateDesign could only produce 849 points instead of 1000!”\n",
      "Warning message in generateDesign(control$infill.opt.focussearch.points, ps.local, :\n",
      "“generateDesign could only produce 996 points instead of 1000!”\n",
      "Thu Aug 14 03:35:31 PM 2025 AUC 0.932222374119223\n",
      "\n",
      "[mbo] 2: num_leaves=56; min_data_in_leaf=2 : y = 0.932 : 22.5 secs : infill_ei\n",
      "\n",
      "Warning message in generateDesign(control$infill.opt.focussearch.points, ps.local, :\n",
      "“generateDesign could only produce 646 points instead of 1000!”\n",
      "Warning message in generateDesign(control$infill.opt.focussearch.points, ps.local, :\n",
      "“generateDesign could only produce 714 points instead of 1000!”\n",
      "Warning message in generateDesign(control$infill.opt.focussearch.points, ps.local, :\n",
      "“generateDesign could only produce 880 points instead of 1000!”\n",
      "Thu Aug 14 03:35:50 PM 2025 AUC 0.929554032981216\n",
      "\n",
      "[mbo] 3: num_leaves=78; min_data_in_leaf=2 : y = 0.93 : 18.3 secs : infill_ei\n",
      "\n",
      "Thu Aug 14 03:36:09 PM 2025 AUC 0.926817106485719\n",
      "\n",
      "[mbo] 4: num_leaves=61; min_data_in_leaf=3346 : y = 0.927 : 19.0 secs : infill_ei\n",
      "\n",
      "Thu Aug 14 03:36:23 PM 2025 AUC 0.931291605940048\n",
      "\n",
      "[mbo] 5: num_leaves=58; min_data_in_leaf=712 : y = 0.931 : 14.3 secs : infill_ei\n",
      "\n",
      "Thu Aug 14 03:36:41 PM 2025 AUC 0.93427414216169\n",
      "\n",
      "[mbo] 6: num_leaves=63; min_data_in_leaf=90 : y = 0.934 : 17.8 secs : infill_ei\n",
      "\n",
      "Warning message in generateDesign(control$infill.opt.focussearch.points, ps.local, :\n",
      "“generateDesign could only produce 782 points instead of 1000!”\n",
      "Warning message in generateDesign(control$infill.opt.focussearch.points, ps.local, :\n",
      "“generateDesign could only produce 748 points instead of 1000!”\n",
      "Warning message in generateDesign(control$infill.opt.focussearch.points, ps.local, :\n",
      "“generateDesign could only produce 765 points instead of 1000!”\n",
      "Thu Aug 14 03:37:03 PM 2025 AUC 0.931058508407499\n",
      "\n",
      "[mbo] 7: num_leaves=65; min_data_in_leaf=2 : y = 0.931 : 21.4 secs : infill_ei\n",
      "\n",
      "Thu Aug 14 03:37:18 PM 2025 AUC 0.935333276178869\n",
      "\n",
      "[mbo] 8: num_leaves=63; min_data_in_leaf=358 : y = 0.935 : 14.7 secs : infill_ei\n",
      "\n",
      "Thu Aug 14 03:37:31 PM 2025 AUC 0.930609459681773\n",
      "\n",
      "[mbo] 9: num_leaves=63; min_data_in_leaf=698 : y = 0.931 : 13.0 secs : infill_ei\n",
      "\n",
      "Thu Aug 14 03:37:50 PM 2025 AUC 0.933676337356544\n",
      "\n",
      "[mbo] 10: num_leaves=80; min_data_in_leaf=358 : y = 0.934 : 18.4 secs : infill_ei\n",
      "\n",
      "Thu Aug 14 03:38:13 PM 2025 AUC 0.933439764214663\n",
      "\n",
      "[mbo] 11: num_leaves=141; min_data_in_leaf=416 : y = 0.933 : 22.8 secs : infill_ei\n",
      "\n",
      "Thu Aug 14 03:38:27 PM 2025 AUC 0.93187539245422\n",
      "\n",
      "[mbo] 12: num_leaves=59; min_data_in_leaf=256 : y = 0.932 : 14.3 secs : infill_ei\n",
      "\n",
      "Thu Aug 14 03:38:41 PM 2025 AUC 0.933671819064412\n",
      "\n",
      "[mbo] 13: num_leaves=63; min_data_in_leaf=267 : y = 0.934 : 13.2 secs : infill_ei\n",
      "\n",
      "Thu Aug 14 03:38:55 PM 2025 AUC 0.932973569149565\n",
      "\n",
      "[mbo] 14: num_leaves=63; min_data_in_leaf=426 : y = 0.933 : 14.1 secs : infill_ei\n",
      "\n",
      "Thu Aug 14 03:39:13 PM 2025 AUC 0.927521264936431\n",
      "\n",
      "[mbo] 15: num_leaves=211; min_data_in_leaf=5135 : y = 0.928 : 17.8 secs : infill_ei\n",
      "\n",
      "Thu Aug 14 03:39:29 PM 2025 AUC 0.934502373841174\n",
      "\n",
      "[mbo] 16: num_leaves=63; min_data_in_leaf=336 : y = 0.935 : 15.3 secs : infill_ei\n",
      "\n",
      "Thu Aug 14 03:39:44 PM 2025 AUC 0.926476033356581\n",
      "\n",
      "[mbo] 17: num_leaves=78; min_data_in_leaf=2965 : y = 0.926 : 15.7 secs : infill_ei\n",
      "\n",
      "Thu Aug 14 03:40:07 PM 2025 AUC 0.930639581629319\n",
      "\n",
      "[mbo] 18: num_leaves=127; min_data_in_leaf=1478 : y = 0.931 : 22.4 secs : infill_ei\n",
      "\n",
      "Thu Aug 14 03:40:22 PM 2025 AUC 0.932660069187796\n",
      "\n",
      "[mbo] 19: num_leaves=63; min_data_in_leaf=163 : y = 0.933 : 14.9 secs : infill_ei\n",
      "\n",
      "Thu Aug 14 03:40:40 PM 2025 AUC 0.934219227534241\n",
      "\n",
      "[mbo] 20: num_leaves=68; min_data_in_leaf=363 : y = 0.934 : 17.2 secs : infill_ei\n",
      "\n",
      "Warning message in generateDesign(control$infill.opt.focussearch.points, ps.local, :\n",
      "“generateDesign could only produce 864 points instead of 1000!”\n",
      "Thu Aug 14 03:40:59 PM 2025 AUC 0.933433276410576\n",
      "\n",
      "[mbo] 21: num_leaves=64; min_data_in_leaf=364 : y = 0.933 : 19.0 secs : infill_ei\n",
      "\n",
      "Warning message in generateDesign(control$infill.opt.focussearch.points, ps.local, :\n",
      "“generateDesign could only produce 994 points instead of 1000!”\n",
      "Thu Aug 14 03:41:14 PM 2025 AUC 0.931885703428573\n",
      "\n",
      "[mbo] 22: num_leaves=40; min_data_in_leaf=362 : y = 0.932 : 15.2 secs : infill_ei\n",
      "\n",
      "Thu Aug 14 03:41:29 PM 2025 AUC 0.932426276533381\n",
      "\n",
      "[mbo] 23: num_leaves=68; min_data_in_leaf=450 : y = 0.932 : 14.0 secs : infill_ei\n",
      "\n",
      "Warning message in generateDesign(control$infill.opt.focussearch.points, ps.local, :\n",
      "“generateDesign could only produce 989 points instead of 1000!”\n",
      "Thu Aug 14 03:41:50 PM 2025 AUC 0.932443191165464\n",
      "\n",
      "[mbo] 24: num_leaves=63; min_data_in_leaf=4 : y = 0.932 : 21.0 secs : infill_ei\n",
      "\n",
      "Saved the current state after iteration 25 in the file HT.RDATA.\n",
      "\n",
      "Warning message in generateDesign(control$infill.opt.focussearch.points, ps.local, :\n",
      "“generateDesign could only produce 995 points instead of 1000!”\n",
      "Thu Aug 14 03:42:07 PM 2025 AUC 0.931137752300274\n",
      "\n",
      "[mbo] 25: num_leaves=48; min_data_in_leaf=358 : y = 0.931 : 16.7 secs : infill_ei\n",
      "\n",
      "Thu Aug 14 03:42:23 PM 2025 AUC 0.935518873717211\n",
      "\n",
      "[mbo] 26: num_leaves=68; min_data_in_leaf=273 : y = 0.936 : 15.8 secs : infill_ei\n",
      "\n",
      "Thu Aug 14 03:42:40 PM 2025 AUC 0.926672984552075\n",
      "\n",
      "[mbo] 27: num_leaves=250; min_data_in_leaf=4542 : y = 0.927 : 16.5 secs : infill_ei\n",
      "\n",
      "Thu Aug 14 03:42:57 PM 2025 AUC 0.92739822836607\n",
      "\n",
      "[mbo] 28: num_leaves=38; min_data_in_leaf=4068 : y = 0.927 : 17.0 secs : infill_ei\n",
      "\n",
      "Thu Aug 14 03:43:15 PM 2025 AUC 0.932934642325044\n",
      "\n",
      "[mbo] 29: num_leaves=69; min_data_in_leaf=277 : y = 0.933 : 17.5 secs : infill_ei\n",
      "\n",
      "Thu Aug 14 03:43:31 PM 2025 AUC 0.927835228312777\n",
      "\n",
      "[mbo] 30: num_leaves=124; min_data_in_leaf=3649 : y = 0.928 : 16.6 secs : infill_ei\n",
      "\n",
      "Thu Aug 14 03:43:47 PM 2025 AUC 0.9333208983755\n",
      "\n",
      "[mbo] 31: num_leaves=67; min_data_in_leaf=270 : y = 0.933 : 15.0 secs : infill_ei\n",
      "\n",
      "Thu Aug 14 03:44:07 PM 2025 AUC 0.933106800840634\n",
      "\n",
      "[mbo] 32: num_leaves=78; min_data_in_leaf=273 : y = 0.933 : 19.8 secs : infill_ei\n",
      "\n",
      "Thu Aug 14 03:44:32 PM 2025 AUC 0.929545459811529\n",
      "\n",
      "[mbo] 33: num_leaves=91; min_data_in_leaf=1903 : y = 0.93 : 25.2 secs : infill_ei\n",
      "\n",
      "Thu Aug 14 03:44:48 PM 2025 AUC 0.932798282585575\n",
      "\n",
      "[mbo] 34: num_leaves=60; min_data_in_leaf=273 : y = 0.933 : 16.0 secs : infill_ei\n",
      "\n",
      "Thu Aug 14 03:45:11 PM 2025 AUC 0.931318252278262\n",
      "\n",
      "[mbo] 35: num_leaves=68; min_data_in_leaf=227 : y = 0.931 : 22.6 secs : infill_ei\n",
      "\n",
      "Thu Aug 14 03:45:25 PM 2025 AUC 0.932631453337628\n",
      "\n",
      "[mbo] 36: num_leaves=68; min_data_in_leaf=300 : y = 0.933 : 13.8 secs : infill_ei\n",
      "\n",
      "Warning message in generateDesign(control$infill.opt.focussearch.points, ps.local, :\n",
      "“generateDesign could only produce 999 points instead of 1000!”\n",
      "Thu Aug 14 03:45:54 PM 2025 AUC 0.932161203394975\n",
      "\n",
      "[mbo] 37: num_leaves=150; min_data_in_leaf=700 : y = 0.932 : 28.9 secs : infill_ei\n",
      "\n",
      "Warning message in generateDesign(control$infill.opt.focussearch.points, ps.local, :\n",
      "“generateDesign could only produce 893 points instead of 1000!”\n",
      "Thu Aug 14 03:46:12 PM 2025 AUC 0.927871374649832\n",
      "\n",
      "[mbo] 38: num_leaves=78; min_data_in_leaf=5705 : y = 0.928 : 17.2 secs : infill_ei\n",
      "\n",
      "Thu Aug 14 03:46:31 PM 2025 AUC 0.925905338304227\n",
      "\n",
      "[mbo] 39: num_leaves=190; min_data_in_leaf=4356 : y = 0.926 : 18.5 secs : infill_ei\n",
      "\n",
      "Thu Aug 14 03:46:49 PM 2025 AUC 0.9270536796276\n",
      "\n",
      "[mbo] 40: num_leaves=98; min_data_in_leaf=6006 : y = 0.927 : 17.8 secs : infill_ei\n",
      "\n",
      "Thu Aug 14 03:47:07 PM 2025 AUC 0.933181178880344\n",
      "\n",
      "[mbo] 41: num_leaves=69; min_data_in_leaf=358 : y = 0.933 : 18.0 secs : infill_ei\n",
      "\n",
      "Thu Aug 14 03:47:23 PM 2025 AUC 0.934460203114609\n",
      "\n",
      "[mbo] 42: num_leaves=70; min_data_in_leaf=273 : y = 0.934 : 16.4 secs : infill_ei\n",
      "\n",
      "Thu Aug 14 03:47:46 PM 2025 AUC 0.927182508880182\n",
      "\n",
      "[mbo] 43: num_leaves=98; min_data_in_leaf=5917 : y = 0.927 : 22.6 secs : infill_ei\n",
      "\n",
      "Thu Aug 14 03:48:05 PM 2025 AUC 0.932077788771001\n",
      "\n",
      "[mbo] 44: num_leaves=59; min_data_in_leaf=358 : y = 0.932 : 18.0 secs : infill_ei\n",
      "\n",
      "Saved the final state in the file HT.RDATA\n",
      "\n"
     ]
    }
   ],
   "source": [
    "# inicio la optimizacion bayesiana\n",
    "\n",
    "if (!file.exists(\"HT.RDATA\")) {\n",
    "  bayesiana_salida <- mbo(obj.fun, learner= surr.km, control= ctrl)\n",
    "} else {\n",
    "  bayesiana_salida <- mboContinue(\"HT.RDATA\") # retomo en caso que ya exista\n",
    "}"
   ]
  },
  {
   "cell_type": "markdown",
   "id": "36307612-964f-4df3-907a-1bc3c095f178",
   "metadata": {
    "id": "36307612-964f-4df3-907a-1bc3c095f178"
   },
   "source": [
    "la bayesian optimization ha corrido, extraigo los mejores hiperparametros"
   ]
  },
  {
   "cell_type": "code",
   "execution_count": 42,
   "id": "8c061a2a-3341-4006-a154-c95bb6cfd407",
   "metadata": {
    "id": "8c061a2a-3341-4006-a154-c95bb6cfd407"
   },
   "outputs": [
    {
     "name": "stdout",
     "output_type": "stream",
     "text": [
      "   num_leaves min_data_in_leaf num_iterations\n",
      "        <int>            <int>          <int>\n",
      "1:         68              273            204\n"
     ]
    }
   ],
   "source": [
    "# almaceno los resultados de la Bayesian Optimization\n",
    "# y capturo los mejores hiperparametros encontrados\n",
    "\n",
    "tb_bayesiana <- as.data.table(bayesiana_salida$opt.path)\n",
    "\n",
    "# ordeno en forma descendente por AUC = y\n",
    "setorder(tb_bayesiana, -y, -num_iterations)\n",
    "\n",
    "# grabo para eventualmente poder utilizarlos en OTRA corrida\n",
    "fwrite( tb_bayesiana,\n",
    "  file=\"BO_log.txt\",\n",
    "  sep=\"\\t\"\n",
    ")\n",
    "\n",
    "# los mejores hiperparámetros son los que quedaron en el registro 1 de la tabla\n",
    "PARAM$out$lgbm$mejores_hiperparametros <- tb_bayesiana[\n",
    "  1, # el primero es el de mejor AUC\n",
    "  list(num_leaves, min_data_in_leaf, num_iterations)\n",
    "]\n",
    "\n",
    "print(PARAM$out$lgbm$mejores_hiperparametros)"
   ]
  },
  {
   "cell_type": "markdown",
   "id": "ddb554cb-1d96-4f6b-ae1c-c9a076f8dbdc",
   "metadata": {
    "id": "ddb554cb-1d96-4f6b-ae1c-c9a076f8dbdc"
   },
   "source": [
    "### 6.3.3 Produccion"
   ]
  },
  {
   "cell_type": "markdown",
   "id": "c39492c3-756f-47a5-8747-93ade8275306",
   "metadata": {
    "id": "c39492c3-756f-47a5-8747-93ade8275306"
   },
   "source": [
    "#### Final Training\n",
    "Construyo el modelo final, que es uno solo, no hace ningun tipo de particion < training, validation, testing>]"
   ]
  },
  {
   "cell_type": "markdown",
   "id": "xhKi_G_sYQqq",
   "metadata": {
    "id": "xhKi_G_sYQqq"
   },
   "source": [
    "##### Final Training Dataset\n",
    "\n",
    "Aqui esta la gran decision de en qué meses hago el Final Training\n",
    "<br> debo utilizar los mejores hiperparámetros que encontré en la optimización bayesiana"
   ]
  },
  {
   "cell_type": "code",
   "execution_count": 43,
   "id": "qyHfS_X0zd7o",
   "metadata": {
    "id": "qyHfS_X0zd7o"
   },
   "outputs": [
    {
     "data": {
      "text/html": [
       "240562"
      ],
      "text/latex": [
       "240562"
      ],
      "text/markdown": [
       "240562"
      ],
      "text/plain": [
       "[1] 240562"
      ]
     },
     "metadata": {},
     "output_type": "display_data"
    }
   ],
   "source": [
    "PARAM$trainingstrategy$final_train <- c( 202107,\n",
    "  202106, 202105, 202104, 202103, 202102, 202101,\n",
    "  202012, 202011, 202010, 202009, 202008, 202007,\n",
    "  202006, 202005\n",
    ")\n",
    "\n",
    "dataset[, fold_final_train := foto_mes %in% PARAM$trainingstrategy$final_train ]\n",
    "\n",
    "# creo el dfinal_train en formato  LightGBM\n",
    "dfinal_train <- lgb.Dataset(\n",
    "  data= data.matrix(dataset[fold_final_train == TRUE, campos_buenos, with= FALSE]),\n",
    "  label= dataset[fold_final_train == TRUE, clase01],\n",
    "  free_raw_data= TRUE\n",
    ")\n",
    "\n",
    "nrow( dfinal_train) # verifico el tamaño"
   ]
  },
  {
   "cell_type": "markdown",
   "id": "HATRyklxYUpT",
   "metadata": {
    "id": "HATRyklxYUpT"
   },
   "source": [
    "##### Final Training Hyperparameters"
   ]
  },
  {
   "cell_type": "code",
   "execution_count": 44,
   "id": "d6b9f33c-e0a0-4ea6-8169-4a6180cc5d01",
   "metadata": {
    "id": "d6b9f33c-e0a0-4ea6-8169-4a6180cc5d01"
   },
   "outputs": [],
   "source": [
    "# uno los parametros fijos y los mejores encontrados de los variables\n",
    "fijos <- copy(PARAM$lgbm$param_fijos)\n",
    "\n",
    "# quito lo que optimice en la Bayesian Optimization\n",
    "fijos$num_iterations <- NULL\n",
    "fijos$early_stopping_rounds <- NULL\n",
    "\n",
    "# agrego a los hiperparametros fijos los que encontre con la Bayesian Optimization\n",
    "param_final <- c(fijos, PARAM$out$lgbm$mejores_hiperparametros)"
   ]
  },
  {
   "cell_type": "markdown",
   "id": "05d3494f-0401-4f3e-9b69-f488a737879d",
   "metadata": {
    "id": "05d3494f-0401-4f3e-9b69-f488a737879d"
   },
   "source": [
    "##### Training\n",
    "Genero el modelo final, siempre sobre TODOS los datos de  final_train, sin hacer ningun tipo de undersampling de la clase mayoritaria"
   ]
  },
  {
   "cell_type": "code",
   "execution_count": 45,
   "id": "fa239848-1c28-4ee5-984a-073903b4b279",
   "metadata": {
    "id": "fa239848-1c28-4ee5-984a-073903b4b279"
   },
   "outputs": [],
   "source": [
    "final_model <- lgb.train(\n",
    "  data= dfinal_train,\n",
    "  param= param_final,\n",
    "  verbose= -100\n",
    ")"
   ]
  },
  {
   "cell_type": "code",
   "execution_count": 46,
   "id": "RC1ju-5MZN5s",
   "metadata": {
    "id": "RC1ju-5MZN5s"
   },
   "outputs": [],
   "source": [
    "# grabo a disco el modelo en un formato para seres humanos ... ponele ...\n",
    "\n",
    "lgb.save(final_model, \"modelo.txt\")"
   ]
  },
  {
   "cell_type": "code",
   "execution_count": 47,
   "id": "VEpv4RYOZHTU",
   "metadata": {
    "id": "VEpv4RYOZHTU"
   },
   "outputs": [],
   "source": [
    "# ahora imprimo la importancia de variables\n",
    "\n",
    "tb_importancia <- as.data.table(lgb.importance(final_model))\n",
    "archivo_importancia <- \"impo.txt\"\n",
    "\n",
    "fwrite( tb_importancia,\n",
    "  file= archivo_importancia,\n",
    "  sep= \"\\t\"\n",
    ")"
   ]
  },
  {
   "cell_type": "markdown",
   "id": "7ea225b3-ce02-42e2-8330-b10ed250d172",
   "metadata": {
    "id": "7ea225b3-ce02-42e2-8330-b10ed250d172"
   },
   "source": [
    "#### Scoring"
   ]
  },
  {
   "cell_type": "markdown",
   "id": "164981bb-f4c1-4228-8bc9-32e58a383c05",
   "metadata": {
    "id": "164981bb-f4c1-4228-8bc9-32e58a383c05"
   },
   "source": [
    "Aplico el modelo final a los datos del futuro"
   ]
  },
  {
   "cell_type": "code",
   "execution_count": 48,
   "id": "eJ7RbT271v-R",
   "metadata": {
    "id": "eJ7RbT271v-R"
   },
   "outputs": [],
   "source": [
    "PARAM$trainingstrategy$future <- c(202109)\n",
    "\n",
    "dfuture <- dataset[ foto_mes %in% PARAM$trainingstrategy$future ]"
   ]
  },
  {
   "cell_type": "code",
   "execution_count": 49,
   "id": "88ca61c8-fa24-4ce5-8be1-323aca018e8f",
   "metadata": {
    "id": "88ca61c8-fa24-4ce5-8be1-323aca018e8f"
   },
   "outputs": [],
   "source": [
    "# aplico final_model   a dfuture\n",
    "\n",
    "prediccion <- predict(\n",
    "  final_model,\n",
    "  data.matrix(dfuture[, campos_buenos, with= FALSE])\n",
    ")"
   ]
  },
  {
   "cell_type": "markdown",
   "id": "79u0ZvjJZblE",
   "metadata": {
    "id": "79u0ZvjJZblE"
   },
   "source": [
    "##### Tabla Prediccion"
   ]
  },
  {
   "cell_type": "code",
   "execution_count": 50,
   "id": "TB6aerGDZeTo",
   "metadata": {
    "id": "TB6aerGDZeTo"
   },
   "outputs": [],
   "source": [
    "tb_prediccion <- dfuture[, list(numero_de_cliente)]\n",
    "tb_prediccion[, prob := prediccion]\n",
    "\n",
    "# grabo las probabilidad del modelo\n",
    "#  me va a ser util para hacer Ensembles de modelos\n",
    "fwrite(tb_prediccion,\n",
    "  file= \"prediccion.txt\",\n",
    "  sep= \"\\t\"\n",
    ")"
   ]
  },
  {
   "cell_type": "markdown",
   "id": "8412d838-5bd5-454e-b3a9-5eaa18d80a50",
   "metadata": {
    "id": "8412d838-5bd5-454e-b3a9-5eaa18d80a50"
   },
   "source": [
    "#### Kaggle Competition Submit"
   ]
  },
  {
   "cell_type": "markdown",
   "id": "55970cb6-856a-46e3-a893-7f36b8352b8e",
   "metadata": {
    "id": "55970cb6-856a-46e3-a893-7f36b8352b8e"
   },
   "source": [
    "Genero las salidas y hago los submits a Kaggle\n",
    "<br>El notebook esta preparado para la Modalidad Gerencial, los analistas deben hacer cambios.\n",
    "<br> Los analistas deben cambiar **competencia** a SU competencia  \"data-mining-analista-jr-2025-a\"   o  la original \"data-mining-analista-sr-2025-a\"  para los Senior\n",
    "<br> Los cortes  dependen de la cantidad de registros, multiplicar por 2 para los Analistas Jr y por 10 para los Analista Sr\n",
    "\n",
    "Los Analista Sr luego de meditar cuidadosamente reducirán la cantidad de cortes"
   ]
  },
  {
   "cell_type": "code",
   "execution_count": 51,
   "id": "e5fa2439-b0e9-49e0-a861-71d7315d6e1c",
   "metadata": {
    "id": "e5fa2439-b0e9-49e0-a861-71d7315d6e1c"
   },
   "outputs": [
    {
     "name": "stdout",
     "output_type": "stream",
     "text": [
      "Warning: Your Kaggle API key is readable by other users on this system! To fix this, you can run 'chmod 600 /home/lhermann/.kaggle/kaggle.json' Warning: Looks like you're using an outdated API Version, please consider updating (server 1.7.4.2 / client 1.6.17) Successfully submitted to Data Mining, Gerencial 2025A \n",
      "Warning: Your Kaggle API key is readable by other users on this system! To fix this, you can run 'chmod 600 /home/lhermann/.kaggle/kaggle.json' Warning: Looks like you're using an outdated API Version, please consider updating (server 1.7.4.2 / client 1.6.17) Successfully submitted to Data Mining, Gerencial 2025A \n",
      "Warning: Your Kaggle API key is readable by other users on this system! To fix this, you can run 'chmod 600 /home/lhermann/.kaggle/kaggle.json' Warning: Looks like you're using an outdated API Version, please consider updating (server 1.7.4.2 / client 1.6.17) Successfully submitted to Data Mining, Gerencial 2025A \n",
      "Warning: Your Kaggle API key is readable by other users on this system! To fix this, you can run 'chmod 600 /home/lhermann/.kaggle/kaggle.json' Warning: Looks like you're using an outdated API Version, please consider updating (server 1.7.4.2 / client 1.6.17) Successfully submitted to Data Mining, Gerencial 2025A \n",
      "Warning: Your Kaggle API key is readable by other users on this system! To fix this, you can run 'chmod 600 /home/lhermann/.kaggle/kaggle.json' Warning: Looks like you're using an outdated API Version, please consider updating (server 1.7.4.2 / client 1.6.17) Successfully submitted to Data Mining, Gerencial 2025A \n",
      "Warning: Your Kaggle API key is readable by other users on this system! To fix this, you can run 'chmod 600 /home/lhermann/.kaggle/kaggle.json' Warning: Looks like you're using an outdated API Version, please consider updating (server 1.7.4.2 / client 1.6.17) Successfully submitted to Data Mining, Gerencial 2025A \n",
      "Warning: Your Kaggle API key is readable by other users on this system! To fix this, you can run 'chmod 600 /home/lhermann/.kaggle/kaggle.json' Warning: Looks like you're using an outdated API Version, please consider updating (server 1.7.4.2 / client 1.6.17) Successfully submitted to Data Mining, Gerencial 2025A \n",
      "Warning: Your Kaggle API key is readable by other users on this system! To fix this, you can run 'chmod 600 /home/lhermann/.kaggle/kaggle.json' Warning: Looks like you're using an outdated API Version, please consider updating (server 1.7.4.2 / client 1.6.17) Successfully submitted to Data Mining, Gerencial 2025A \n",
      "Warning: Your Kaggle API key is readable by other users on this system! To fix this, you can run 'chmod 600 /home/lhermann/.kaggle/kaggle.json' Warning: Looks like you're using an outdated API Version, please consider updating (server 1.7.4.2 / client 1.6.17) Successfully submitted to Data Mining, Gerencial 2025A \n",
      "Warning: Your Kaggle API key is readable by other users on this system! To fix this, you can run 'chmod 600 /home/lhermann/.kaggle/kaggle.json' Warning: Looks like you're using an outdated API Version, please consider updating (server 1.7.4.2 / client 1.6.17) Successfully submitted to Data Mining, Gerencial 2025A \n",
      "Warning: Your Kaggle API key is readable by other users on this system! To fix this, you can run 'chmod 600 /home/lhermann/.kaggle/kaggle.json' Warning: Looks like you're using an outdated API Version, please consider updating (server 1.7.4.2 / client 1.6.17) Successfully submitted to Data Mining, Gerencial 2025A \n"
     ]
    }
   ],
   "source": [
    "# genero archivos con los  \"envios\" mejores\n",
    "# suba TODOS los archivos a Kaggle\n",
    "\n",
    "PARAM$kaggle$competencia <- \"data-mining-gerencial-2025-a\"\n",
    "PARAM$kaggle$cortes <- seq(800, 1300, by = 50)\n",
    "\n",
    "# ordeno por probabilidad descendente\n",
    "setorder(tb_prediccion, -prob)\n",
    "\n",
    "dir.create(\"kaggle\")\n",
    "\n",
    "for (envios in PARAM$kaggle$cortes) {\n",
    "\n",
    "  tb_prediccion[, Predicted := 0L] # seteo inicial a 0\n",
    "  tb_prediccion[1:envios, Predicted := 1L] # marclo los primeros\n",
    "\n",
    "  archivo_kaggle <- paste0(\"./kaggle/KA\", PARAM$experimento, \"_\", envios, \".csv\")\n",
    "\n",
    "  # grabo el archivo\n",
    "  fwrite(tb_prediccion[, list(numero_de_cliente, Predicted)],\n",
    "    file= archivo_kaggle,\n",
    "    sep= \",\"\n",
    "  )\n",
    "\n",
    "  # subida a Kaggle, armo la linea de comando\n",
    "  comando <- \"kaggle competitions submit\"\n",
    "  competencia <- paste(\"-c\", PARAM$kaggle$competencia)\n",
    "  arch <- paste( \"-f\", archivo_kaggle)\n",
    "\n",
    "  mensaje <- paste0(\"-m 'envios=\", envios,\n",
    "  \"  semilla=\", PARAM$semilla_primigenia,\n",
    "    \"'\" )\n",
    "\n",
    "  linea <- paste( comando, competencia, arch, mensaje)\n",
    "\n",
    "  salida <- system(linea, intern=TRUE) # el submit a Kaggle\n",
    "  cat(salida, \"\\n\")\n",
    "}"
   ]
  },
  {
   "cell_type": "code",
   "execution_count": 52,
   "id": "C94tK-xid6p2",
   "metadata": {
    "id": "C94tK-xid6p2"
   },
   "outputs": [
    {
     "name": "stderr",
     "output_type": "stream",
     "text": [
      "Loading required package: yaml\n",
      "\n"
     ]
    }
   ],
   "source": [
    "# grabo los parametros\n",
    "if( !require(\"yaml\")) install.packages(\"yaml\")\n",
    "require(\"yaml\")\n",
    "\n",
    "write_yaml( PARAM, file=\"PARAM.yml\")"
   ]
  },
  {
   "cell_type": "code",
   "execution_count": 53,
   "id": "1b615a62-20cc-4e95-9af2-6b6db38d5efb",
   "metadata": {
    "id": "1b615a62-20cc-4e95-9af2-6b6db38d5efb"
   },
   "outputs": [
    {
     "data": {
      "text/html": [
       "'Thu Aug 14 03:48:42 PM 2025'"
      ],
      "text/latex": [
       "'Thu Aug 14 03:48:42 PM 2025'"
      ],
      "text/markdown": [
       "'Thu Aug 14 03:48:42 PM 2025'"
      ],
      "text/plain": [
       "[1] \"Thu Aug 14 03:48:42 PM 2025\""
      ]
     },
     "metadata": {},
     "output_type": "display_data"
    }
   ],
   "source": [
    "format(Sys.time(), \"%a %b %d %X %Y\")"
   ]
  },
  {
   "cell_type": "code",
   "execution_count": 54,
   "id": "d3471187-7407-44fc-9929-dcd1d09c6f4e",
   "metadata": {},
   "outputs": [],
   "source": [
    "NTFY_LINK <- \"https://ntfy.sh/lh-dm2025\"\n",
    "notif <- function(mensaje){\n",
    "        system(sprintf('curl -d  \"%s -- %s\" %s', format(Sys.time(), \"%m-%d %H:%M\"), mensaje, NTFY_LINK)) \n",
    "}\n",
    "notif(\"GENALGO Test Done\")"
   ]
  },
  {
   "cell_type": "code",
   "execution_count": null,
   "id": "3af8f616-79e3-42d2-8e08-236713f6d3d9",
   "metadata": {},
   "outputs": [],
   "source": []
  },
  {
   "cell_type": "code",
   "execution_count": null,
   "id": "f495c954-1979-4c14-b571-3b5a10a00203",
   "metadata": {},
   "outputs": [],
   "source": []
  },
  {
   "cell_type": "code",
   "execution_count": null,
   "id": "31138562-1d36-4ed0-8273-f546147905b4",
   "metadata": {},
   "outputs": [],
   "source": []
  },
  {
   "cell_type": "code",
   "execution_count": null,
   "id": "2f6e5c28-95a7-467a-8a24-cdb022f79dbf",
   "metadata": {},
   "outputs": [],
   "source": []
  }
 ],
 "metadata": {
  "colab": {
   "provenance": []
  },
  "kernelspec": {
   "display_name": "R",
   "language": "R",
   "name": "ir"
  },
  "language_info": {
   "codemirror_mode": "r",
   "file_extension": ".r",
   "mimetype": "text/x-r-source",
   "name": "R",
   "pygments_lexer": "r",
   "version": "4.5.1"
  }
 },
 "nbformat": 4,
 "nbformat_minor": 5
}
