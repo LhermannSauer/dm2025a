{
 "cells": [
  {
   "cell_type": "markdown",
   "id": "859d38e7-11c0-48bc-978a-d0e907f19ed1",
   "metadata": {
    "id": "859d38e7-11c0-48bc-978a-d0e907f19ed1"
   },
   "source": [
    "# 9 WorkFlow Analista Jr"
   ]
  },
  {
   "cell_type": "markdown",
   "id": "oSKhZRToy2F7",
   "metadata": {
    "id": "oSKhZRToy2F7"
   },
   "source": [
    "## 9.3  Workflow"
   ]
  },
  {
   "cell_type": "markdown",
   "id": "85171302-a2d6-48cb-b9b2-8d839a276859",
   "metadata": {
    "id": "85171302-a2d6-48cb-b9b2-8d839a276859"
   },
   "source": [
    "### Inicializacion"
   ]
  },
  {
   "cell_type": "code",
   "execution_count": null,
   "id": "EL8wdHaUs59K",
   "metadata": {
    "id": "EL8wdHaUs59K"
   },
   "outputs": [],
   "source": [
    "format(Sys.time(), \"%a %b %d %X %Y\")"
   ]
  },
  {
   "cell_type": "code",
   "execution_count": null,
   "id": "1iE0U4_WCPRT",
   "metadata": {
    "id": "1iE0U4_WCPRT"
   },
   "outputs": [],
   "source": [
    "# limpio la memoria\n",
    "rm(list=ls(all.names=TRUE)) # remove all objects\n",
    "gc(full=TRUE, verbose=FALSE) # garbage collection"
   ]
  },
  {
   "cell_type": "code",
   "execution_count": null,
   "id": "atmIUEUNUrK5",
   "metadata": {
    "id": "atmIUEUNUrK5"
   },
   "outputs": [],
   "source": [
    "require(\"data.table\")\n",
    "\n",
    "if( !require(\"R.utils\")) install.packages(\"R.utils\")\n",
    "require(\"R.utils\")"
   ]
  },
  {
   "cell_type": "markdown",
   "id": "BsxZ_ONyj9L_",
   "metadata": {
    "id": "BsxZ_ONyj9L_"
   },
   "source": [
    "#### Parametros"
   ]
  },
  {
   "cell_type": "code",
   "execution_count": null,
   "id": "peRH7ySLCPRV",
   "metadata": {
    "id": "peRH7ySLCPRV"
   },
   "outputs": [],
   "source": [
    "PARAM <- list()\n",
    "PARAM$semilla_primigenia <- 106109\n",
    "\n",
    "PARAM$experimento <- '9100_og_1'\n",
    "PARAM$dataset <- \"analistajr_competencia_2025.csv.gz\""
   ]
  },
  {
   "cell_type": "markdown",
   "id": "NoJbKo_4NG8A",
   "metadata": {
    "id": "NoJbKo_4NG8A"
   },
   "source": [
    "#### Carpeta del Experimento"
   ]
  },
  {
   "cell_type": "code",
   "execution_count": null,
   "id": "1gZD6ZMvCPRV",
   "metadata": {
    "id": "1gZD6ZMvCPRV"
   },
   "outputs": [],
   "source": [
    "# carpeta de trabajo\n",
    "\n",
    "setwd(\"/content/buckets/b1/exp\")\n",
    "experimento_folder <- paste0(\"WF\", PARAM$experimento)\n",
    "dir.create(experimento_folder, showWarnings=FALSE)\n",
    "setwd( paste0(\"/content/buckets/b1/exp/\", experimento_folder ))"
   ]
  },
  {
   "cell_type": "markdown",
   "id": "YVKBfLtkR8SO",
   "metadata": {
    "id": "YVKBfLtkR8SO"
   },
   "source": [
    "### 9.3.1   Preprocesamiento del dataset"
   ]
  },
  {
   "cell_type": "markdown",
   "id": "cr3K0RPVRjq6",
   "metadata": {
    "id": "cr3K0RPVRjq6"
   },
   "source": [
    "#### 9.3.1.1  DT incorporar dataset"
   ]
  },
  {
   "cell_type": "code",
   "execution_count": null,
   "id": "Xi0emX2ECPRV",
   "metadata": {
    "id": "Xi0emX2ECPRV"
   },
   "outputs": [],
   "source": [
    "# lectura del dataset\n",
    "dataset <- fread(paste0(\"/content/datasets/\", PARAM$dataset))"
   ]
  },
  {
   "cell_type": "markdown",
   "id": "MWuPzK3nSLY3",
   "metadata": {
    "id": "MWuPzK3nSLY3"
   },
   "source": [
    "#### 9.3.1.2  CA  Catastrophe Analysis\n",
    "Se intentan reparar las variables que para un mes están con todos los valores en cero."
   ]
  },
  {
   "cell_type": "markdown",
   "id": "UAI16-yCVcBS",
   "metadata": {
    "id": "UAI16-yCVcBS"
   },
   "source": [
    "El método que se utiliza es **Machine Learning** se asigna NA also valores, si ha leido bien, es la \"anti imputación de valores faltantes\"\n",
    "<br> Usted podrá aplicar aquí otros métodos"
   ]
  },
  {
   "cell_type": "code",
   "execution_count": null,
   "id": "JB9nRyNKNBzy",
   "metadata": {
    "id": "JB9nRyNKNBzy"
   },
   "outputs": [],
   "source": [
    "if( !require(\"mice\")) install.packages(\"mice\", repos = \"http://cran.us.r-project.org\")\n",
    "require(\"mice\")"
   ]
  },
  {
   "cell_type": "code",
   "execution_count": null,
   "id": "QuraTbvTMmpf",
   "metadata": {
    "id": "QuraTbvTMmpf"
   },
   "outputs": [],
   "source": [
    "# Escrito por alumnos de  Universidad Austral  Rosario\n",
    "\n",
    "Corregir_MICE <- function(pcampo, pmeses) {\n",
    "\n",
    "  meth <- rep(\"\", ncol(dataset))\n",
    "  names(meth) <- colnames(dataset)\n",
    "  meth[names(meth) == pcampo] <- \"sample\"\n",
    "\n",
    "  # llamada a mice  !\n",
    "  imputacion <- mice(dataset,\n",
    "    method = meth,\n",
    "    maxit = 5,\n",
    "    m = 1,\n",
    "    seed = 7)\n",
    "\n",
    "  tbl <- mice::complete(dataset)\n",
    "\n",
    "  dataset[, paste0(pcampo) := ifelse(foto_mes %in% pmeses, tbl[, get(pcampo)], get(pcampo))]\n",
    "\n",
    "}\n"
   ]
  },
  {
   "cell_type": "code",
   "execution_count": null,
   "id": "mUDX04VTJz3M",
   "metadata": {
    "id": "mUDX04VTJz3M"
   },
   "outputs": [],
   "source": [
    "Corregir_interpolar <- function(pcampo, pmeses) {\n",
    "\n",
    "  tbl <- dataset[, list(\n",
    "    \"v1\" = shift(get(pcampo), 1, type = \"lag\"),\n",
    "    \"v2\" = shift(get(pcampo), 1, type = \"lead\")\n",
    "  ),\n",
    "  by = eval(envg$PARAM$dataset_metadata$entity_id)\n",
    "  ]\n",
    "\n",
    "  tbl[, paste0(envg$PARAM$dataset_metadata$entity_id) := NULL]\n",
    "  tbl[, promedio := rowMeans(tbl, na.rm = TRUE)]\n",
    "\n",
    "  dataset[\n",
    "    ,\n",
    "    paste0(pcampo) := ifelse(!(foto_mes %in% pmeses),\n",
    "      get(pcampo),\n",
    "      tbl$promedio\n",
    "    )\n",
    "  ]\n",
    "}"
   ]
  },
  {
   "cell_type": "code",
   "execution_count": null,
   "id": "Yyt2YmrbJ1zf",
   "metadata": {
    "id": "Yyt2YmrbJ1zf"
   },
   "outputs": [],
   "source": [
    "AsignarNA_campomeses <- function(pcampo, pmeses) {\n",
    "\n",
    "  if( pcampo %in% colnames( dataset ) ) {\n",
    "\n",
    "    dataset[ foto_mes %in% pmeses, paste0(pcampo) := NA ]\n",
    "  }\n",
    "}"
   ]
  },
  {
   "cell_type": "code",
   "execution_count": null,
   "id": "aFBlFw7hJ4EW",
   "metadata": {
    "id": "aFBlFw7hJ4EW"
   },
   "outputs": [],
   "source": [
    "\n",
    "Corregir_atributo <- function(pcampo, pmeses, pmetodo)\n",
    "{\n",
    "  # si el campo no existe en el dataset, Afuera !\n",
    "  if( !(pcampo %in% colnames( dataset )) )\n",
    "    return( 1 )\n",
    "\n",
    "  # llamo a la funcion especializada que corresponde\n",
    "  switch( pmetodo,\n",
    "    \"MachineLearning\"     = AsignarNA_campomeses(pcampo, pmeses),\n",
    "    \"EstadisticaClasica\"  = Corregir_interpolar(pcampo, pmeses),\n",
    "    \"MICE\"                = Corregir_MICE(pcampo, pmeses),\n",
    "  )\n",
    "\n",
    "  return( 0 )\n",
    "}"
   ]
  },
  {
   "cell_type": "code",
   "execution_count": null,
   "id": "krkr3JCxJ9Px",
   "metadata": {
    "id": "krkr3JCxJ9Px"
   },
   "outputs": [],
   "source": [
    "\n",
    "Corregir_Rotas <- function(dataset, pmetodo) {\n",
    "  gc(verbose= FALSE)\n",
    "  cat( \"inicio Corregir_Rotas()\\n\")\n",
    "  # acomodo los errores del dataset\n",
    "\n",
    "  Corregir_atributo(\"active_quarter\", c(202006), pmetodo) # 1\n",
    "  Corregir_atributo(\"internet\", c(202006), pmetodo) # 2\n",
    "\n",
    "  Corregir_atributo(\"mrentabilidad\", c(201905, 201910, 202006), pmetodo) # 3\n",
    "  Corregir_atributo(\"mrentabilidad_annual\", c(201905, 201910, 202006), pmetodo) # 4\n",
    "\n",
    "  Corregir_atributo(\"mcomisiones\", c(201905, 201910, 202006), pmetodo) # 5\n",
    "\n",
    "  Corregir_atributo(\"mactivos_margen\", c(201905, 201910, 202006), pmetodo) # 6\n",
    "  Corregir_atributo(\"mpasivos_margen\", c(201905, 201910, 202006), pmetodo) # 7\n",
    "\n",
    "  Corregir_atributo(\"mcuentas_saldo\", c(202006), pmetodo) # 8\n",
    "\n",
    "  Corregir_atributo(\"ctarjeta_debito_transacciones\", c(202006), pmetodo) # 9\n",
    "\n",
    "  Corregir_atributo(\"mautoservicio\", c(202006), pmetodo) # 10\n",
    "\n",
    "  Corregir_atributo(\"ctarjeta_visa_transacciones\", c(202006), pmetodo) # 11\n",
    "  Corregir_atributo(\"mtarjeta_visa_consumo\", c(202006), pmetodo) # 12\n",
    "\n",
    "  Corregir_atributo(\"ctarjeta_master_transacciones\", c(202006), pmetodo) # 13\n",
    "  Corregir_atributo(\"mtarjeta_master_consumo\", c(202006), pmetodo) # 14\n",
    "\n",
    "  Corregir_atributo(\"ctarjeta_visa_debitos_automaticos\", c(201904), pmetodo) # 15\n",
    "  Corregir_atributo(\"mttarjeta_visa_debitos_automaticos\", c(201904), pmetodo) # 16\n",
    "\n",
    "  Corregir_atributo(\"ccajeros_propios_descuentos\",\n",
    "    c(201910, 202002, 202006, 202009, 202010, 202102), pmetodo) # 17\n",
    "\n",
    "  Corregir_atributo(\"mcajeros_propios_descuentos\",\n",
    "    c(201910, 202002, 202006, 202009, 202010, 202102), pmetodo) # 18\n",
    "\n",
    "  Corregir_atributo(\"ctarjeta_visa_descuentos\",\n",
    "    c(201910, 202002, 202006, 202009, 202010, 202102), pmetodo) # 19\n",
    "\n",
    "  Corregir_atributo(\"mtarjeta_visa_descuentos\",\n",
    "    c(201910, 202002, 202006, 202009, 202010, 202102), pmetodo) # 20\n",
    "\n",
    "  Corregir_atributo(\"ctarjeta_master_descuentos\",\n",
    "    c(201910, 202002, 202006, 202009, 202010, 202102), pmetodo) # 21\n",
    "\n",
    "  Corregir_atributo(\"mtarjeta_master_descuentos\",\n",
    "    c(201910, 202002, 202006, 202009, 202010, 202102), pmetodo) # 22\n",
    "\n",
    "  Corregir_atributo(\"ccomisiones_otras\", c(201905, 201910, 202006), pmetodo) # 23\n",
    "  Corregir_atributo(\"mcomisiones_otras\", c(201905, 201910, 202006), pmetodo) # 24\n",
    "\n",
    "  Corregir_atributo(\"cextraccion_autoservicio\", c(202006), pmetodo) # 25\n",
    "  Corregir_atributo(\"mextraccion_autoservicio\", c(202006), pmetodo) # 26\n",
    "\n",
    "  Corregir_atributo(\"ccheques_depositados\", c(202006), pmetodo) # 27\n",
    "  Corregir_atributo(\"mcheques_depositados\", c(202006), pmetodo) # 28\n",
    "  Corregir_atributo(\"ccheques_emitidos\", c(202006), pmetodo) # 29\n",
    "  Corregir_atributo(\"mcheques_emitidos\", c(202006), pmetodo) # 30\n",
    "  Corregir_atributo(\"ccheques_depositados_rechazados\", c(202006), pmetodo) # 31\n",
    "  Corregir_atributo(\"mcheques_depositados_rechazados\", c(202006), pmetodo) # 32\n",
    "  Corregir_atributo(\"ccheques_emitidos_rechazados\", c(202006), pmetodo) # 33\n",
    "  Corregir_atributo(\"mcheques_emitidos_rechazados\", c(202006), pmetodo) # 34\n",
    "\n",
    "  Corregir_atributo(\"tcallcenter\", c(202006), pmetodo) # 35\n",
    "  Corregir_atributo(\"ccallcenter_transacciones\", c(202006), pmetodo) # 36\n",
    "\n",
    "  Corregir_atributo(\"thomebanking\", c(202006), pmetodo) # 37\n",
    "  Corregir_atributo(\"chomebanking_transacciones\", c(201910, 202006), pmetodo) # 38\n",
    "\n",
    "  Corregir_atributo(\"ccajas_transacciones\", c(202006), pmetodo) # 39\n",
    "  Corregir_atributo(\"ccajas_consultas\", c(202006), pmetodo) # 40\n",
    "\n",
    "  Corregir_atributo(\"ccajas_depositos\", c(202006, 202105), pmetodo) # 41\n",
    "\n",
    "  Corregir_atributo(\"ccajas_extracciones\", c(202006), pmetodo) # 41\n",
    "  Corregir_atributo(\"ccajas_otras\", c(202006), pmetodo) # 43\n",
    "\n",
    "  Corregir_atributo(\"catm_trx\", c(202006), pmetodo) # 44\n",
    "  Corregir_atributo(\"matm\", c(202006), pmetodo) # 45\n",
    "  Corregir_atributo(\"catm_trx_other\", c(202006), pmetodo) # 46\n",
    "  Corregir_atributo(\"matm_other\", c(202006), pmetodo) # 47\n",
    "\n",
    "  cat( \"fin Corregir_rotas()\\n\")\n",
    "}\n"
   ]
  },
  {
   "cell_type": "code",
   "execution_count": null,
   "id": "HaW4TeBIMxTn",
   "metadata": {
    "id": "HaW4TeBIMxTn"
   },
   "outputs": [],
   "source": [
    "# resuelvo el Catastrophe Analysis\n",
    "\n",
    "setorder( dataset, numero_de_cliente, foto_mes )\n",
    "\n",
    "PARAM$CA$metodo= \"MachineLearning\"\n",
    "\n",
    "if( PARAM$CA$metodo %in% c(\"MachineLearning\", \"EstadisticaClasica\", \"MICE\") )\n",
    "  Corregir_Rotas(dataset, PARAM$CA$metodo)"
   ]
  },
  {
   "cell_type": "markdown",
   "id": "-4NiANYFSYHG",
   "metadata": {
    "id": "-4NiANYFSYHG"
   },
   "source": [
    "#### 9.3.1.3  DR  Data Drifting\n",
    "Se intenta corregir el data drifting, ajustando por algunos indices financieros"
   ]
  },
  {
   "cell_type": "code",
   "execution_count": null,
   "id": "XXPLxqc1ShLN",
   "metadata": {
    "id": "XXPLxqc1ShLN"
   },
   "outputs": [],
   "source": [
    "# meses que me interesan para el ajuste de variables monetarias\n",
    "vfoto_mes <- c(\n",
    "  201901, 201902, 201903, 201904, 201905, 201906,\n",
    "  201907, 201908, 201909, 201910, 201911, 201912,\n",
    "  202001, 202002, 202003, 202004, 202005, 202006,\n",
    "  202007, 202008, 202009, 202010, 202011, 202012,\n",
    "  202101, 202102, 202103, 202104, 202105, 202106,\n",
    "  202107, 202108, 202109\n",
    ")\n"
   ]
  },
  {
   "cell_type": "code",
   "execution_count": null,
   "id": "sjjUe3waSh8D",
   "metadata": {
    "id": "sjjUe3waSh8D"
   },
   "outputs": [],
   "source": [
    "# los valores que siguen fueron calculados por alumnos\n",
    "\n",
    "# momento 1.0  31-dic-2020 a las 23:59\n",
    "vIPC <- c(\n",
    "  1.9903030878, 1.9174403544, 1.8296186587,\n",
    "  1.7728862972, 1.7212488323, 1.6776304408,\n",
    "  1.6431248196, 1.5814483345, 1.4947526791,\n",
    "  1.4484037589, 1.3913580777, 1.3404220402,\n",
    "  1.3154288912, 1.2921698342, 1.2472681797,\n",
    "  1.2300475145, 1.2118694724, 1.1881073259,\n",
    "  1.1693969743, 1.1375456949, 1.1065619600,\n",
    "  1.0681100000, 1.0370000000, 1.0000000000,\n",
    "  0.9680542110, 0.9344152616, 0.8882274350,\n",
    "  0.8532444140, 0.8251880213, 0.8003763543,\n",
    "  0.7763107219, 0.7566381305, 0.7289384687\n",
    ")\n",
    "\n",
    "vdolar_blue <- c(\n",
    "   39.045455,  38.402500,  41.639474,\n",
    "   44.274737,  46.095455,  45.063333,\n",
    "   43.983333,  54.842857,  61.059524,\n",
    "   65.545455,  66.750000,  72.368421,\n",
    "   77.477273,  78.191667,  82.434211,\n",
    "  101.087500, 126.236842, 125.857143,\n",
    "  130.782609, 133.400000, 137.954545,\n",
    "  170.619048, 160.400000, 153.052632,\n",
    "  157.900000, 149.380952, 143.615385,\n",
    "  146.250000, 153.550000, 162.000000,\n",
    "  178.478261, 180.878788, 184.357143\n",
    ")\n",
    "\n",
    "vdolar_oficial <- c(\n",
    "   38.430000,  39.428000,  42.542105,\n",
    "   44.354211,  46.088636,  44.955000,\n",
    "   43.751429,  54.650476,  58.790000,\n",
    "   61.403182,  63.012632,  63.011579,\n",
    "   62.983636,  63.580556,  65.200000,\n",
    "   67.872000,  70.047895,  72.520952,\n",
    "   75.324286,  77.488500,  79.430909,\n",
    "   83.134762,  85.484737,  88.181667,\n",
    "   91.474000,  93.997778,  96.635909,\n",
    "   98.526000,  99.613158, 100.619048,\n",
    "  101.619048, 102.569048, 103.781818\n",
    ")\n",
    "\n",
    "vUVA <- c(\n",
    "  2.001408838932958,  1.950325472789153,  1.89323032351521,\n",
    "  1.8247220405493787, 1.746027787673673,  1.6871348409529485,\n",
    "  1.6361678865622313, 1.5927529755859773, 1.5549162794128493,\n",
    "  1.4949100586391746, 1.4197729500774545, 1.3678188186372326,\n",
    "  1.3136508617223726, 1.2690535173062818, 1.2381595983200178,\n",
    "  1.211656735577568,  1.1770808941405335, 1.1570338657445522,\n",
    "  1.1388769475653255, 1.1156993751209352, 1.093638313080772,\n",
    "  1.0657171590878205, 1.0362173587708712, 1.0,\n",
    "  0.9669867858358365, 0.9323750098728378, 0.8958202912590305,\n",
    "  0.8631993702994263, 0.8253893405524657, 0.7928918905364516,\n",
    "  0.7666323845128089, 0.7428976357662823, 0.721615762047849\n",
    ")\n"
   ]
  },
  {
   "cell_type": "code",
   "execution_count": null,
   "id": "RSF9i9nyWwKs",
   "metadata": {
    "id": "RSF9i9nyWwKs"
   },
   "outputs": [],
   "source": [
    "tb_indices <- as.data.table( list(\n",
    "  \"IPC\" = vIPC,\n",
    "  \"dolar_blue\" = vdolar_blue,\n",
    "  \"dolar_oficial\" = vdolar_oficial,\n",
    "  \"UVA\" = vUVA\n",
    "  )\n",
    ")\n",
    "\n",
    "tb_indices[[ 'foto_mes' ]] <- vfoto_mes\n",
    "\n",
    "tb_indices"
   ]
  },
  {
   "cell_type": "code",
   "execution_count": null,
   "id": "oq2zlvpkSmAU",
   "metadata": {
    "id": "oq2zlvpkSmAU"
   },
   "outputs": [],
   "source": [
    "drift_UVA <- function(campos_monetarios) {\n",
    "  cat( \"inicio drift_UVA()\\n\")\n",
    "\n",
    "  dataset[tb_indices,\n",
    "    on = c(\"foto_mes\"),\n",
    "    (campos_monetarios) := .SD * i.UVA,\n",
    "    .SDcols = campos_monetarios\n",
    "  ]\n",
    "\n",
    "  cat( \"fin drift_UVA()\\n\")\n",
    "}\n"
   ]
  },
  {
   "cell_type": "code",
   "execution_count": null,
   "id": "h2QbqSn8Sojj",
   "metadata": {
    "id": "h2QbqSn8Sojj"
   },
   "outputs": [],
   "source": [
    "drift_dolar_oficial <- function(campos_monetarios) {\n",
    "  cat( \"inicio drift_dolar_oficial()\\n\")\n",
    "\n",
    "  dataset[tb_indices,\n",
    "    on = c(\"foto_mes\"),\n",
    "    (campos_monetarios) := .SD / i.dolar_oficial,\n",
    "    .SDcols = campos_monetarios\n",
    "  ]\n",
    "\n",
    "  cat( \"fin drift_dolar_oficial()\\n\")\n",
    "}\n"
   ]
  },
  {
   "cell_type": "code",
   "execution_count": null,
   "id": "DMTgpq9VSqqM",
   "metadata": {
    "id": "DMTgpq9VSqqM"
   },
   "outputs": [],
   "source": [
    "drift_dolar_blue <- function(campos_monetarios) {\n",
    "  cat( \"inicio drift_dolar_blue()\\n\")\n",
    "\n",
    "  dataset[tb_indices,\n",
    "    on = c(\"foto_mes\"),\n",
    "    (campos_monetarios) := .SD / i.dolar_blue,\n",
    "    .SDcols = campos_monetarios\n",
    "  ]\n",
    "\n",
    "  cat( \"fin drift_dolar_blue()\\n\")\n",
    "}\n"
   ]
  },
  {
   "cell_type": "code",
   "execution_count": null,
   "id": "7n171_BoStAj",
   "metadata": {
    "id": "7n171_BoStAj"
   },
   "outputs": [],
   "source": [
    "drift_deflacion <- function(campos_monetarios) {\n",
    "  cat( \"inicio drift_deflacion()\\n\")\n",
    "\n",
    "  dataset[tb_indices,\n",
    "    on = c(\"foto_mes\"),\n",
    "    (campos_monetarios) := .SD * i.IPC,\n",
    "    .SDcols = campos_monetarios\n",
    "  ]\n",
    "\n",
    "  cat( \"fin drift_deflacion()\\n\")\n",
    "}\n"
   ]
  },
  {
   "cell_type": "code",
   "execution_count": null,
   "id": "Z94UizNySv0m",
   "metadata": {
    "id": "Z94UizNySv0m"
   },
   "outputs": [],
   "source": [
    "drift_rank_simple <- function(campos_drift) {\n",
    "\n",
    "  cat( \"inicio drift_rank_simple()\\n\")\n",
    "  for (campo in campos_drift)\n",
    "  {\n",
    "    cat(campo, \" \")\n",
    "    dataset[, paste0(campo, \"_rank\") :=\n",
    "      (frank(get(campo), ties.method = \"random\") - 1) / (.N - 1), by = list(foto_mes)]\n",
    "    dataset[, (campo) := NULL]\n",
    "  }\n",
    "  cat( \"fin drift_rank_simple()\\n\")\n",
    "}\n"
   ]
  },
  {
   "cell_type": "code",
   "execution_count": null,
   "id": "GnbUIXeWSyQm",
   "metadata": {
    "id": "GnbUIXeWSyQm"
   },
   "outputs": [],
   "source": [
    "# El cero se transforma en cero\n",
    "# los positivos se rankean por su lado\n",
    "# los negativos se rankean por su lado\n",
    "\n",
    "drift_rank_cero_fijo <- function(campos_drift) {\n",
    "\n",
    "  cat( \"inicio drift_rank_cero_fijo()\\n\")\n",
    "  for (campo in campos_drift)\n",
    "  {\n",
    "    cat(campo, \" \")\n",
    "    dataset[get(campo) == 0, paste0(campo, \"_rank\") := 0]\n",
    "    dataset[get(campo) > 0, paste0(campo, \"_rank\") :=\n",
    "      frank(get(campo), ties.method = \"random\") / .N, by = list(foto_mes)]\n",
    "\n",
    "    dataset[get(campo) < 0, paste0(campo, \"_rank\") :=\n",
    "      -frank(-get(campo), ties.method = \"random\") / .N, by = list(foto_mes)]\n",
    "    dataset[, (campo) := NULL]\n",
    "  }\n",
    "  cat(\"\\n\")\n",
    "  cat( \"fin drift_rank_cero_fijo()\\n\")\n",
    "}\n"
   ]
  },
  {
   "cell_type": "code",
   "execution_count": null,
   "id": "dhlyk-WxS040",
   "metadata": {
    "id": "dhlyk-WxS040"
   },
   "outputs": [],
   "source": [
    "drift_estandarizar <- function(campos_drift) {\n",
    "\n",
    "  cat( \"inicio drift_estandarizar()\\n\")\n",
    "  for (campo in campos_drift)\n",
    "  {\n",
    "    cat(campo, \" \")\n",
    "    dataset[, paste0(campo, \"_normal\") :=\n",
    "      (get(campo) -mean(campo, na.rm=TRUE)) / sd(get(campo), na.rm=TRUE),\n",
    "      by = list(foto_mes)]\n",
    "\n",
    "    dataset[, (campo) := NULL]\n",
    "  }\n",
    "  cat( \"fin drift_estandarizar()\\n\")\n",
    "}\n"
   ]
  },
  {
   "cell_type": "code",
   "execution_count": null,
   "id": "tlJjlN6PVanz",
   "metadata": {
    "id": "tlJjlN6PVanz"
   },
   "outputs": [],
   "source": [
    "# por como armé los nombres de campos,\n",
    "#  estos son los campos que expresan variables monetarias\n",
    "campos_monetarios <- colnames(dataset)\n",
    "campos_monetarios <- campos_monetarios[campos_monetarios %like%\n",
    "  \"^(m|Visa_m|Master_m|vm_m)\"]\n",
    "\n",
    "campos_monetarios"
   ]
  },
  {
   "cell_type": "code",
   "execution_count": null,
   "id": "G_8BH82XS3uV",
   "metadata": {
    "id": "G_8BH82XS3uV"
   },
   "outputs": [],
   "source": [
    "# ejecuto el Data Drifting\n",
    "setorder( dataset, numero_de_cliente, foto_mes )\n",
    "\n",
    "\n",
    "PARAM$DR$metodo <- \"deflacion\"\n",
    "\n",
    "switch(PARAM$DR$metodo,\n",
    "  \"ninguno\"        = cat(\"No hay correccion del data drifting\"),\n",
    "  \"rank_simple\"    = drift_rank_simple(campos_monetarios),\n",
    "  \"rank_cero_fijo\" = drift_rank_cero_fijo(campos_monetarios),\n",
    "  \"deflacion\"      = drift_deflacion(campos_monetarios),\n",
    "  \"dolar_blue\"     = drift_dolarblue(campos_monetarios),\n",
    "  \"dolar_oficial\"  = drift_dolaroficial(campos_monetarios),\n",
    "  \"UVA\"            = drift_UVA(campos_monetarios),\n",
    "  \"estandarizar\"   = drift_estandarizar(campos_monetarios)\n",
    ")\n"
   ]
  },
  {
   "cell_type": "code",
   "execution_count": null,
   "id": "-efBawbTWPKc",
   "metadata": {
    "id": "-efBawbTWPKc"
   },
   "outputs": [],
   "source": [
    "colnames(dataset)"
   ]
  },
  {
   "cell_type": "markdown",
   "id": "rZ11c9KcFoAp",
   "metadata": {
    "id": "rZ11c9KcFoAp"
   },
   "source": []
  },
  {
   "cell_type": "code",
   "execution_count": null,
   "id": "L85A2lwKSe3k",
   "metadata": {
    "id": "L85A2lwKSe3k"
   },
   "outputs": [],
   "source": [
    "# se intenta corregir el data drifting utilizando algunos indices financieros"
   ]
  },
  {
   "cell_type": "markdown",
   "id": "7sppIDYeSn5X",
   "metadata": {
    "id": "7sppIDYeSn5X"
   },
   "source": [
    "#### 9.3.1.3  FE_intra_manual Feature Engineering intra-mes\n",
    "\n",
    "Agrego campos nuevos dentro del mismo mes, SIN considerar la historia."
   ]
  },
  {
   "cell_type": "code",
   "execution_count": null,
   "id": "qrqf3j3_St3p",
   "metadata": {
    "id": "qrqf3j3_St3p"
   },
   "outputs": [],
   "source": [
    "# esta funcion atributos presentes existe debido a que las modalidades poseen datasets con distinta cantidad de campos\n",
    "atributos_presentes <- function( patributos )\n",
    "{\n",
    "  atributos <- unique( patributos )\n",
    "  comun <- intersect( atributos, colnames(dataset) )\n",
    "\n",
    "  return(  length( atributos ) == length( comun ) )\n",
    "}\n",
    "\n",
    "# el mes 1,2, ..12\n",
    "if( atributos_presentes( c(\"foto_mes\") ))\n",
    "  dataset[, kmes := foto_mes %% 100]\n",
    "\n",
    "# variable extraida de una tesis de maestria de Irlanda\n",
    "if( atributos_presentes( c(\"mpayroll\", \"cliente_edad\") ))\n",
    "  dataset[, mpayroll_sobre_edad := mpayroll / cliente_edad]\n"
   ]
  },
  {
   "cell_type": "code",
   "execution_count": null,
   "id": "iC4viwOdY5Kp",
   "metadata": {
    "id": "iC4viwOdY5Kp"
   },
   "outputs": [],
   "source": [
    "# visualizo las columas del dataset a esta etapa\n",
    "colnames(dataset)"
   ]
  },
  {
   "cell_type": "markdown",
   "id": "9682b4ca-3ab3-4bbc-a36a-b185361e6b6b",
   "metadata": {
    "id": "9682b4ca-3ab3-4bbc-a36a-b185361e6b6b"
   },
   "source": [
    "#### 9.3.1.4  FE_rf Feature Engineering de nuevas variables a partir de hojas de Random Forest"
   ]
  },
  {
   "cell_type": "code",
   "execution_count": null,
   "id": "Vd09ZaybfUeK",
   "metadata": {
    "id": "Vd09ZaybfUeK"
   },
   "outputs": [],
   "source": [
    "if( !require(\"lightgbm\")) install.packages(\"lightgbm\")\n",
    "require(\"lightgbm\")"
   ]
  },
  {
   "cell_type": "code",
   "execution_count": null,
   "id": "JrsaXcQqcefM",
   "metadata": {
    "id": "JrsaXcQqcefM"
   },
   "outputs": [],
   "source": [
    "AgregaVarRandomForest <- function() {\n",
    "\n",
    "  cat( \"inicio AgregaVarRandomForest()\\n\")\n",
    "  gc(verbose= FALSE)\n",
    "  dataset[, clase01 := 0L ]\n",
    "  dataset[ clase_ternaria %in% PARAM$FE_rf$train$clase01_valor1,\n",
    "      clase01 := 1L ]\n",
    "\n",
    "  campos_buenos <- setdiff(\n",
    "    colnames(dataset),\n",
    "    c( \"clase_ternaria\", \"clase01\")\n",
    "  )\n",
    "\n",
    "  dataset[, entrenamiento :=\n",
    "    as.integer( foto_mes %in% PARAM$FE_rf$train$training )]\n",
    "\n",
    "  dtrain <- lgb.Dataset(\n",
    "    data = data.matrix(dataset[entrenamiento == TRUE, campos_buenos, with = FALSE]),\n",
    "    label = dataset[entrenamiento == TRUE, clase01],\n",
    "    free_raw_data = FALSE\n",
    "  )\n",
    "\n",
    "  modelo <- lgb.train(\n",
    "     data = dtrain,\n",
    "     param = PARAM$FE_rf$lgb_param,\n",
    "     verbose = -100\n",
    "  )\n",
    "\n",
    "  cat( \"Fin construccion RandomForest\\n\" )\n",
    "  # grabo el modelo, achivo .model\n",
    "  lgb.save(modelo, file=\"modelo.model\" )\n",
    "\n",
    "  qarbolitos <- copy(PARAM$FE_rf$lgb_param$num_iterations)\n",
    "\n",
    "  periodos <- dataset[ , unique( foto_mes ) ]\n",
    "\n",
    "  for( periodo in  periodos )\n",
    "  {\n",
    "    cat( \"periodo = \", periodo, \"\\n\" )\n",
    "    datamatrix <- data.matrix(dataset[ foto_mes== periodo, campos_buenos, with = FALSE])\n",
    "\n",
    "    cat( \"Inicio prediccion\\n\" )\n",
    "    prediccion <- predict(\n",
    "        modelo,\n",
    "        datamatrix,\n",
    "        type = \"leaf\"\n",
    "    )\n",
    "    cat( \"Fin prediccion\\n\" )\n",
    "\n",
    "    for( arbolito in 1:qarbolitos )\n",
    "    {\n",
    "       cat( arbolito, \" \" )\n",
    "       hojas_arbol <- unique(prediccion[ , arbolito])\n",
    "\n",
    "       for (pos in 1:length(hojas_arbol)) {\n",
    "         # el numero de nodo de la hoja, estan salteados\n",
    "         nodo_id <- hojas_arbol[pos]\n",
    "         dataset[ foto_mes== periodo, paste0(\n",
    "            \"rf_\", sprintf(\"%03d\", arbolito),\n",
    "             \"_\", sprintf(\"%03d\", nodo_id)\n",
    "          ) :=  as.integer( nodo_id == prediccion[ , arbolito]) ]\n",
    "\n",
    "       }\n",
    "\n",
    "       rm( hojas_arbol )\n",
    "    }\n",
    "    cat( \"\\n\" )\n",
    "\n",
    "    rm( prediccion )\n",
    "    rm( datamatrix )\n",
    "    gc(verbose= FALSE)\n",
    "  }\n",
    "\n",
    "  gc(verbose= FALSE)\n",
    "\n",
    "  # borro clase01 , no debe ensuciar el dataset\n",
    "  dataset[ , clase01 := NULL ]\n",
    "\n",
    "}\n"
   ]
  },
  {
   "cell_type": "code",
   "execution_count": null,
   "id": "i6vcLtXldMpz",
   "metadata": {
    "id": "i6vcLtXldMpz"
   },
   "outputs": [],
   "source": [
    "# Parametros de Feature Engineering  a partir de hojas de Random Forest\n",
    "\n",
    "# Estos CUATRO parametros son los que se deben modificar\n",
    "PARAM$FE_rf$arbolitos= 20\n",
    "PARAM$FE_rf$hojas_por_arbol= 16\n",
    "PARAM$FE_rf$datos_por_hoja= 100\n",
    "PARAM$FE_rf$mtry_ratio= 0.2\n",
    "\n",
    "# Estos son quasi fijos\n",
    "PARAM$FE_rf$train$clase01_valor1 <- c( \"BAJA+2\", \"BAJA+1\")\n",
    "PARAM$FE_rf$train$training <- c( 202101, 202102, 202103)\n",
    "\n",
    "# Estos TAMBIEN son quasi fijos\n",
    "PARAM$FE_rf$lgb_param <-list(\n",
    "    # parametros que se pueden cambiar\n",
    "    num_iterations = PARAM$FE_rf$arbolitos,\n",
    "    num_leaves  = PARAM$FE_rf$hojas_por_arbol,\n",
    "    min_data_in_leaf = PARAM$FE_rf$datos_por_hoja,\n",
    "    feature_fraction_bynode  = PARAM$FE_rf$mtry_ratio,\n",
    "\n",
    "    # para que LightGBM emule Random Forest\n",
    "    boosting = \"rf\",\n",
    "    bagging_fraction = ( 1.0 - 1.0/exp(1.0) ),\n",
    "    bagging_freq = 1.0,\n",
    "    feature_fraction = 1.0,\n",
    "\n",
    "    # genericos de LightGBM\n",
    "    max_bin = 31L,\n",
    "    objective = \"binary\",\n",
    "    first_metric_only = TRUE,\n",
    "    boost_from_average = TRUE,\n",
    "    feature_pre_filter = FALSE,\n",
    "    force_row_wise = TRUE,\n",
    "    verbosity = -100,\n",
    "    max_depth = -1L,\n",
    "    min_gain_to_split = 0.0,\n",
    "    min_sum_hessian_in_leaf = 0.001,\n",
    "    lambda_l1 = 0.0,\n",
    "    lambda_l2 = 0.0,\n",
    "\n",
    "    pos_bagging_fraction = 1.0,\n",
    "    neg_bagging_fraction = 1.0,\n",
    "    is_unbalance = FALSE,\n",
    "    scale_pos_weight = 1.0,\n",
    "\n",
    "    drop_rate = 0.1,\n",
    "    max_drop = 50,\n",
    "    skip_drop = 0.5,\n",
    "\n",
    "    extra_trees = FALSE\n",
    "  )"
   ]
  },
  {
   "cell_type": "code",
   "execution_count": null,
   "id": "GTTj4VdBezcE",
   "metadata": {
    "id": "GTTj4VdBezcE"
   },
   "outputs": [],
   "source": [
    "# Feature Engineering agregando variables de Random Forest\n",
    "AgregaVarRandomForest()"
   ]
  },
  {
   "cell_type": "code",
   "execution_count": null,
   "id": "bs2vXYFuiXGu",
   "metadata": {
    "id": "bs2vXYFuiXGu"
   },
   "outputs": [],
   "source": [
    "ncol(dataset)\n",
    "colnames(dataset)"
   ]
  },
  {
   "cell_type": "code",
   "execution_count": null,
   "id": "ljA3h0jOcciP",
   "metadata": {
    "id": "ljA3h0jOcciP"
   },
   "outputs": [],
   "source": [
    "# No se implementa Feature Engineering a partir de Random Forest"
   ]
  },
  {
   "cell_type": "markdown",
   "id": "XaRBjQj8ZRUZ",
   "metadata": {
    "id": "XaRBjQj8ZRUZ"
   },
   "source": [
    "#### 9.3.1.5  FEhist Feature Engineering historico\n",
    "\n",
    "El Fature Engineering Histórico es la etapa que más aporta a la ganancia final, ya que enriquece cada registro del dataset con su historia."
   ]
  },
  {
   "cell_type": "markdown",
   "id": "cfe3b8cf-0707-4512-92e7-c1407bb3f73b",
   "metadata": {
    "id": "cfe3b8cf-0707-4512-92e7-c1407bb3f73b"
   },
   "source": [
    "Para cada campo del dataset original (*)\n",
    "se crean lo siguientes campos de a partir de la historia\n",
    "* lag1  lags de orden 1\n",
    "* delta1  =  valor actual - lag1\n",
    "* lag2  lags de orden 2\n",
    "* delta2  = valor actual - lag2\n",
    "\n",
    "\n",
    "(*) Excepto para los campos  <numero_de_cliente,  foto_mes,  clase_ternaria>"
   ]
  },
  {
   "cell_type": "code",
   "execution_count": null,
   "id": "7850b948-827d-4a2a-b4d3-a5e459b47c11",
   "metadata": {
    "id": "7850b948-827d-4a2a-b4d3-a5e459b47c11"
   },
   "outputs": [],
   "source": [
    "# Feature Engineering Historico\n",
    "\n",
    "# todo es lagueable, menos la primary key y la clase\n",
    "cols_lagueables <- copy( setdiff(\n",
    "    colnames(dataset),\n",
    "    c(\"numero_de_cliente\", \"foto_mes\", \"clase_ternaria\")\n",
    ") )\n",
    "\n",
    "# https://rdrr.io/cran/data.table/man/shift.html\n",
    "\n",
    "# lags de orden 1\n",
    "dataset[,\n",
    "    paste0(cols_lagueables, \"_lag1\") := shift(.SD, 1, NA, \"lag\"),\n",
    "    by = numero_de_cliente,\n",
    "    .SDcols = cols_lagueables\n",
    "]\n",
    "\n",
    "# lags de orden 2\n",
    "dataset[,\n",
    "    paste0(cols_lagueables, \"_lag2\") := shift(.SD, 2, NA, \"lag\"),\n",
    "    by = numero_de_cliente,\n",
    "    .SDcols = cols_lagueables\n",
    "]\n",
    "\n",
    "# agrego los delta lags\n",
    "for (vcol in cols_lagueables)\n",
    "{\n",
    "    dataset[, paste0(vcol, \"_delta1\") := get(vcol) - get(paste0(vcol, \"_lag1\"))]\n",
    "    dataset[, paste0(vcol, \"_delta2\") := get(vcol) - get(paste0(vcol, \"_lag2\"))]\n",
    "}\n"
   ]
  },
  {
   "cell_type": "markdown",
   "id": "cea690d9-ece9-4852-a5e2-f337c31b6721",
   "metadata": {
    "id": "cea690d9-ece9-4852-a5e2-f337c31b6721"
   },
   "source": [
    "Verificacion de los campos recien creados"
   ]
  },
  {
   "cell_type": "code",
   "execution_count": null,
   "id": "f772896b-595a-47d4-8905-c15304ac9452",
   "metadata": {
    "id": "f772896b-595a-47d4-8905-c15304ac9452"
   },
   "outputs": [],
   "source": [
    "ncol(dataset)\n",
    "colnames(dataset)"
   ]
  },
  {
   "cell_type": "markdown",
   "id": "l8mKij0XaDY0",
   "metadata": {
    "id": "l8mKij0XaDY0"
   },
   "source": [
    "#### 9.3.1.6  FEhist Reduccion dimensionalidad con canaritos\n",
    "\n",
    "Esta etapa solo se mostrará a la *modalidad Anlista Sr* por algun canal secreto de forma de no confundir a los *Analista Jr*  nni distraer con detalles operativos a la estratégica *Modalidad Gerencial*"
   ]
  },
  {
   "cell_type": "code",
   "execution_count": null,
   "id": "QrmnPtlBcEgx",
   "metadata": {
    "id": "QrmnPtlBcEgx"
   },
   "outputs": [],
   "source": [
    "# No se implementa la reduccion de la dimensionalidad con canaritos"
   ]
  },
  {
   "cell_type": "markdown",
   "id": "cf91ea5e-3341-4afb-8d05-cc4923d3d1e1",
   "metadata": {
    "id": "cf91ea5e-3341-4afb-8d05-cc4923d3d1e1"
   },
   "source": [
    "### 9.3.2 Modelado"
   ]
  },
  {
   "cell_type": "markdown",
   "id": "526048e4-8cf2-4023-bd2d-a70e4e9ff157",
   "metadata": {
    "id": "526048e4-8cf2-4023-bd2d-a70e4e9ff157"
   },
   "source": [
    "#### 9.3.2.1 Training Strategy"
   ]
  },
  {
   "cell_type": "markdown",
   "id": "f16bc1c1-b3ea-43ca-9d3c-53f8f9ab8ec1",
   "metadata": {
    "id": "f16bc1c1-b3ea-43ca-9d3c-53f8f9ab8ec1"
   },
   "source": [
    "Se hace una estrategia de entrenamiento muy sencilla, tomando todos los meses posibles, SIN eliminar nada x pandemia ni por ningun otro motivo\n",
    "\n",
    "* future = 202109  obviamente completo\n",
    "\n",
    "* final_train =  [ 201901, 202107 ]  SIN undersampling\n",
    "\n",
    "* training\n",
    "   * testing = NO HAY\n",
    "   * validation =  202107   completo, sin undersampling\n",
    "   * training = [ 201901, 202105 ]  donde se consideran el 100% de los CONTINUA"
   ]
  },
  {
   "cell_type": "code",
   "execution_count": null,
   "id": "2c9c0a42-ba58-4264-8566-091a6161716f",
   "metadata": {
    "id": "2c9c0a42-ba58-4264-8566-091a6161716f"
   },
   "outputs": [],
   "source": [
    "PARAM$trainingstrategy$validate <- c(202107)\n",
    "\n",
    "PARAM$trainingstrategy$training <- c(\n",
    "  201901, 201902, 201903, 201904, 201905, 201906,\n",
    "  201907, 201908, 201909, 201910, 201911, 201912,\n",
    "  202001, 202002, 202003, 202004, 202005, 202006,\n",
    "  202007, 202008, 202009, 202010, 202011, 202012,\n",
    "  202101, 202102, 202103, 202104, 202105\n",
    ")\n",
    "\n",
    "\n",
    "PARAM$trainingstrategy$training_pct <- 1.0\n",
    "\n",
    "\n",
    "PARAM$trainingstrategy$positivos <- c( \"BAJA+1\", \"BAJA+2\")"
   ]
  },
  {
   "cell_type": "code",
   "execution_count": null,
   "id": "tv_trHWAj4a8",
   "metadata": {
    "id": "tv_trHWAj4a8"
   },
   "outputs": [],
   "source": [
    "# seteo la clase01   1={BAJA+1, BAJA+2}   0={CONTINUA}\n",
    "dataset[, clase01 := ifelse( clase_ternaria %in% PARAM$trainingstrategy$positivos, 1, 0 )]"
   ]
  },
  {
   "cell_type": "code",
   "execution_count": null,
   "id": "Ud_XDKSIj8f_",
   "metadata": {
    "id": "Ud_XDKSIj8f_"
   },
   "outputs": [],
   "source": [
    "# los campos en los que se entrena\n",
    "campos_buenos <- copy( setdiff(\n",
    "    colnames(dataset), c(\"clase_ternaria\",\"clase01\",\"azar\"))\n",
    ")"
   ]
  },
  {
   "cell_type": "code",
   "execution_count": null,
   "id": "rFKgZZPSj_Pa",
   "metadata": {
    "id": "rFKgZZPSj_Pa"
   },
   "outputs": [],
   "source": [
    "# preparo para que se puede hacer undersampling de los CONTINUA\n",
    "#  solamente por un tema de VELOCIDAD\n",
    "set.seed(PARAM$semilla_primigenia, kind = \"L'Ecuyer-CMRG\")\n",
    "dataset[, azar:=runif(nrow(dataset))]\n",
    "\n",
    "# undersampling de los CONTINUA\n",
    "dataset[, fold_train :=  foto_mes %in%  PARAM$trainingstrategy$training &\n",
    "    (clase_ternaria %in% c(\"BAJA+1\", \"BAJA+2\") |\n",
    "     azar < PARAM$trainingstrategy$training_pct ) ]\n",
    "\n",
    "\n",
    "if( !require(\"lightgbm\")) install.packages(\"lightgbm\")\n",
    "require(\"lightgbm\")\n",
    "\n",
    "dtrain <- lgb.Dataset(\n",
    "  data= data.matrix(dataset[fold_train == TRUE, campos_buenos, with = FALSE]),\n",
    "  label= dataset[fold_train == TRUE, clase01],\n",
    "  free_raw_data= TRUE\n",
    ")"
   ]
  },
  {
   "cell_type": "code",
   "execution_count": null,
   "id": "B3yo98kQkHcP",
   "metadata": {
    "id": "B3yo98kQkHcP"
   },
   "outputs": [],
   "source": [
    "# datos de validation\n",
    "dvalidate <- lgb.Dataset(\n",
    "  data= data.matrix(dataset[foto_mes %in% PARAM$trainingstrategy$validate, campos_buenos, with = FALSE]),\n",
    "  label= dataset[foto_mes %in% PARAM$trainingstrategy$validate, clase01],\n",
    "  free_raw_data= TRUE\n",
    ")\n",
    "\n",
    "nrow(dvalidate)"
   ]
  },
  {
   "cell_type": "markdown",
   "id": "28e8f788-551c-4e50-9029-302ac0834287",
   "metadata": {
    "id": "28e8f788-551c-4e50-9029-302ac0834287"
   },
   "source": [
    "####  9.3.2.2. Hyperparameter Tuning"
   ]
  },
  {
   "cell_type": "markdown",
   "id": "bf5fc836-e222-4aeb-a6a8-157346895ef7",
   "metadata": {
    "id": "bf5fc836-e222-4aeb-a6a8-157346895ef7"
   },
   "source": [
    "* Clase binaria que se optimiza :  positivos = [ BAJA+1, BAJA+2 ]"
   ]
  },
  {
   "cell_type": "markdown",
   "id": "885c03b5-77bc-4510-a930-0d1f14b52ffb",
   "metadata": {
    "id": "885c03b5-77bc-4510-a930-0d1f14b52ffb"
   },
   "source": [
    "* Metrica que se optimiza **AUC** Area Under Curve de la  ROC Curve\n",
    "\n",
    "es muy importante notar que intencionalmente  **NO** se está optimizando la funcion de ganancia del problema"
   ]
  },
  {
   "cell_type": "markdown",
   "id": "b7e6f95c-66ef-4ab9-9ba3-fcc099816704",
   "metadata": {
    "id": "b7e6f95c-66ef-4ab9-9ba3-fcc099816704"
   },
   "source": [
    "* Cantidad de iteraciones inteligentes de la Optimizacion Bayesiana = **10**"
   ]
  },
  {
   "cell_type": "markdown",
   "id": "fe047a87-e2d0-4418-97dd-0a881e66d73a",
   "metadata": {
    "id": "fe047a87-e2d0-4418-97dd-0a881e66d73a"
   },
   "source": [
    "* Parametros no default, fijos de LightGBM que no se optimizan\n",
    "  * max_bin = 31 , Alienigenas Ancestrales contruyeron las pirámides y dejaron a la humanidad en un jeroglifico  *max_bin=31*\n",
    "  * feature_fraction = 0.5  para poner algo que generalmente no falla\n",
    "  * learning_rate = 0.03  para que aprenda lento\n"
   ]
  },
  {
   "cell_type": "markdown",
   "id": "1e7da08e-fe57-4681-beff-11fe963116bd",
   "metadata": {
    "id": "1e7da08e-fe57-4681-beff-11fe963116bd"
   },
   "source": [
    "* Parametros que se optimizan en la Bayesian Optimization\n",
    "  * num_leaves  [8, 256]\n",
    "  * min_data_in_leaf  [8, 8192]"
   ]
  },
  {
   "cell_type": "code",
   "execution_count": null,
   "id": "34V6y4GetKq_",
   "metadata": {
    "id": "34V6y4GetKq_"
   },
   "outputs": [],
   "source": [
    "# paquetes necesarios para la Bayesian Optimization\n",
    "if(!require(\"DiceKriging\")) install.packages(\"DiceKriging\")\n",
    "require(\"DiceKriging\")\n",
    "\n",
    "if(!require(\"mlrMBO\")) install.packages(\"mlrMBO\")\n",
    "require(\"mlrMBO\")"
   ]
  },
  {
   "cell_type": "markdown",
   "id": "UFbDSYtH0TTT",
   "metadata": {
    "id": "UFbDSYtH0TTT"
   },
   "source": [
    "Definición de la Bayesian Optimization\n",
    "<br> Si se desea optimizar un hiperparámetro que esta como fijo, debe QUITARSE de param_fijos y agregarse a PARAM$hipeparametertuning$hs"
   ]
  },
  {
   "cell_type": "code",
   "execution_count": null,
   "id": "5Uag3XGHqrfZ",
   "metadata": {
    "id": "5Uag3XGHqrfZ"
   },
   "outputs": [],
   "source": [
    "# un Analista Jr  debe poder animarse a hacer 100 iteraciones\n",
    "PARAM$hipeparametertuning$num_interations <- 20\n",
    "\n",
    "# parametros fijos del LightGBM\n",
    "PARAM$lgbm$param_fijos <- list(\n",
    "  objective= \"binary\",\n",
    "  metric= \"auc\",\n",
    "  first_metric_only= TRUE,\n",
    "  boost_from_average= TRUE,\n",
    "  feature_pre_filter= FALSE,\n",
    "  verbosity= -100,\n",
    "  force_row_wise= TRUE, # para evitar warning\n",
    "  seed= PARAM$semilla_primigenia,\n",
    "  max_bin= 31,\n",
    "\n",
    "  num_iterations= 9999,  # valor grande, lo limita early_stopping_rounds\n",
    "  early_stopping_rounds= 400\n",
    ")\n",
    "\n",
    "PARAM$hipeparametertuning$hs <- makeParamSet(\n",
    "  makeIntegerParam(\"num_leaves\", lower= 2L, upper= 256L),\n",
    "  makeIntegerParam(\"min_data_in_leaf\", lower= 2L, upper= 8192L),\n",
    "  makeNumericParam(\"feature_fraction\", lower= 0.1, upper= 0.9),\n",
    "  makeNumericParam(\"learning_rate\", lower= 0.01, upper= 0.5)\n",
    ")"
   ]
  },
  {
   "cell_type": "markdown",
   "id": "FEa1UuuAz4yj",
   "metadata": {
    "id": "FEa1UuuAz4yj"
   },
   "source": [
    "Función \"señora caja negra\"  que es llamada para verificar la realidad por la Bayesian Optimization"
   ]
  },
  {
   "cell_type": "code",
   "execution_count": null,
   "id": "2c10f535-8d90-47d1-ac3d-9b4c24ec21d2",
   "metadata": {
    "id": "2c10f535-8d90-47d1-ac3d-9b4c24ec21d2"
   },
   "outputs": [],
   "source": [
    "# En  x llegan los parmaetros de la bayesiana\n",
    "#  devuelve la AUC en validate del modelo entrenado\n",
    "#  en el parametro x llegan los hiperparámetros que se estan optimizando\n",
    "\n",
    "EstimarGanancia_AUC_lightgbm <- function(x) {\n",
    "\n",
    "  # x pisa (o agrega) a param_fijos\n",
    "  param_completo <- modifyList(PARAM$lgbm$param_fijos, x)\n",
    "\n",
    "  # entreno LightGBM\n",
    "  modelo_train <- lgb.train(\n",
    "    data= dtrain,\n",
    "    valids= list(valid = dvalidate),\n",
    "    eval= \"auc\",\n",
    "    param= param_completo,\n",
    "    verbose= -100\n",
    "  )\n",
    "\n",
    "  # recupero la AUC en validation\n",
    "  AUC <- modelo_train$record_evals$valid$auc$eval[[modelo_train$best_iter]]\n",
    "\n",
    "  # esta es la forma de devolver un parametro extra\n",
    "  attr(AUC, \"extras\") <- list(\"num_iterations\"= modelo_train$best_iter)\n",
    "\n",
    "  # hago espacio en la memoria\n",
    "  rm(modelo_train)\n",
    "  gc(full= TRUE, verbose= FALSE)\n",
    "\n",
    "  message(format(Sys.time(), \"%a %b %d %X %Y\"), \" AUC \", AUC)\n",
    "\n",
    "  return(AUC)\n",
    "}"
   ]
  },
  {
   "cell_type": "markdown",
   "id": "267a35d4-adaf-4271-a875-3864111333b7",
   "metadata": {
    "id": "267a35d4-adaf-4271-a875-3864111333b7"
   },
   "source": [
    "seteo de la Bayesian Optimization (complejo)\n",
    "<br> copiado y pegado de la documentación de la librería"
   ]
  },
  {
   "cell_type": "code",
   "execution_count": null,
   "id": "43c2a92d-1041-46b8-bff2-47297f209ed2",
   "metadata": {
    "id": "43c2a92d-1041-46b8-bff2-47297f209ed2"
   },
   "outputs": [],
   "source": [
    "configureMlr(show.learner.output = FALSE)\n",
    "\n",
    "# configuro la busqueda bayesiana,  los hiperparametros que se van a optimizar\n",
    "# por favor, no desesperarse por lo complejo\n",
    "obj.fun <- makeSingleObjectiveFunction(\n",
    "    fn= EstimarGanancia_AUC_lightgbm, # la funcion que voy a maximizar\n",
    "    minimize= FALSE, # estoy Maximizando AUC\n",
    "    noisy= FALSE,\n",
    "    par.set= PARAM$hipeparametertuning$hs,\n",
    "    has.simple.signature= FALSE # paso los parametros en una lista\n",
    ")\n",
    "\n",
    "# cada 600 segundos guardo el resultado intermedio\n",
    "ctrl <- makeMBOControl(\n",
    "    save.on.disk.at.time= 600,\n",
    "    save.file.path= \"HT.RDATA\"\n",
    ")\n",
    "\n",
    "# indico la cantidad de iteraciones que va a tener la Bayesian Optimization\n",
    "ctrl <- setMBOControlTermination(\n",
    "    ctrl,\n",
    "    iters= PARAM$hipeparametertuning$num_interations  # cantidad de iteraciones inteligentes\n",
    ")\n",
    "\n",
    "# defino el método estandar para la creacion de los puntos iniciales\n",
    "#   los \"No Inteligentes\"\n",
    "ctrl <- setMBOControlInfill(ctrl, crit = makeMBOInfillCritEI())\n",
    "\n",
    "# mas configuraciones\n",
    "surr.km <- makeLearner(\n",
    "    \"regr.km\",\n",
    "    predict.type= \"se\",\n",
    "    covtype= \"matern3_2\",\n",
    "    control= list(trace = TRUE)\n",
    ")"
   ]
  },
  {
   "cell_type": "markdown",
   "id": "6c1e5645-d26f-4923-a53f-f30471a4c4e8",
   "metadata": {
    "id": "6c1e5645-d26f-4923-a53f-f30471a4c4e8"
   },
   "source": [
    "Corrida de la Bayesian Optimization,  aqui se hace el trabajo pesado\n",
    "<br> por favor no se asuste con los warnings que pudieran aparecer\n",
    "\n",
    "Si corrío a medias y llegó a las iteraciones inteligentes, en el archivo binario HT.RDATA quedó lo ya procesado y es utilizado para retomar la corrida desde lo último que llegó a grabar."
   ]
  },
  {
   "cell_type": "code",
   "execution_count": null,
   "id": "1f8cab3f-c7e2-4802-bfd1-5ad509922a4e",
   "metadata": {
    "id": "1f8cab3f-c7e2-4802-bfd1-5ad509922a4e",
    "scrolled": true
   },
   "outputs": [],
   "source": [
    "# inicio la optimizacion bayesiana\n",
    "\n",
    "if (!file.exists(\"HT.RDATA\")) {\n",
    "  bayesiana_salida <- mbo(obj.fun, learner= surr.km, control= ctrl)\n",
    "} else {\n",
    "  bayesiana_salida <- mboContinue(\"HT.RDATA\") # retomo en caso que ya exista\n",
    "}"
   ]
  },
  {
   "cell_type": "markdown",
   "id": "36307612-964f-4df3-907a-1bc3c095f178",
   "metadata": {
    "id": "36307612-964f-4df3-907a-1bc3c095f178"
   },
   "source": [
    "la bayesian optimization ha corrido, extraigo los mejores hiperparametros"
   ]
  },
  {
   "cell_type": "code",
   "execution_count": null,
   "id": "8c061a2a-3341-4006-a154-c95bb6cfd407",
   "metadata": {
    "id": "8c061a2a-3341-4006-a154-c95bb6cfd407"
   },
   "outputs": [],
   "source": [
    "# almaceno los resultados de la Bayesian Optimization\n",
    "# y capturo los mejores hiperparametros encontrados\n",
    "\n",
    "tb_bayesiana <- as.data.table(bayesiana_salida$opt.path)\n",
    "\n",
    "# ordeno en forma descendente por AUC = y\n",
    "setorder(tb_bayesiana, -y, -num_iterations)\n",
    "\n",
    "# grabo para eventualmente poder utilizarlos en OTRA corrida\n",
    "fwrite( tb_bayesiana,\n",
    "  file=\"BO_log.txt\",\n",
    "  sep=\"\\t\"\n",
    ")\n",
    "\n",
    "# los mejores hiperparámetros son los que quedaron en el registro 1 de la tabla\n",
    "PARAM$out$lgbm$mejores_hiperparametros <- tb_bayesiana[\n",
    "  1, # el primero es el de mejor AUC\n",
    "  list(num_leaves, min_data_in_leaf, num_iterations)\n",
    "]\n",
    "\n",
    "print(PARAM$out$lgbm$mejores_hiperparametros)"
   ]
  },
  {
   "cell_type": "markdown",
   "id": "ddb554cb-1d96-4f6b-ae1c-c9a076f8dbdc",
   "metadata": {
    "id": "ddb554cb-1d96-4f6b-ae1c-c9a076f8dbdc"
   },
   "source": [
    "### 9.3.3 Produccion"
   ]
  },
  {
   "cell_type": "markdown",
   "id": "c39492c3-756f-47a5-8747-93ade8275306",
   "metadata": {
    "id": "c39492c3-756f-47a5-8747-93ade8275306"
   },
   "source": [
    "#### Final Training\n",
    "Construyo el modelo final, que es uno solo, no hace ningun tipo de particion < training, validation, testing>]"
   ]
  },
  {
   "cell_type": "markdown",
   "id": "xhKi_G_sYQqq",
   "metadata": {
    "id": "xhKi_G_sYQqq"
   },
   "source": [
    "##### Final Training Dataset\n",
    "\n",
    "Aqui esta la gran decision de en qué meses hago el Final Training\n",
    "<br> debo utilizar los mejores hiperparámetros que encontré en la optimización bayesiana"
   ]
  },
  {
   "cell_type": "code",
   "execution_count": null,
   "id": "qyHfS_X0zd7o",
   "metadata": {
    "id": "qyHfS_X0zd7o"
   },
   "outputs": [],
   "source": [
    "PARAM$trainingstrategy$final_train <- c(\n",
    "  201901, 201902, 201903, 201904, 201905, 201906,\n",
    "  201907, 201908, 201909, 201910, 201911, 201912,\n",
    "  202001, 202002, 202003, 202004, 202005, 202006,\n",
    "  202007, 202008, 202009, 202010, 202011, 202012,\n",
    "  202101, 202102, 202103, 202104, 202105, 202106,\n",
    "  202107\n",
    ")\n",
    "\n",
    "\n",
    "dataset[, fold_final_train := foto_mes %in% PARAM$trainingstrategy$final_train ]\n",
    "\n",
    "# creo el dfinal_train en formato  LightGBM\n",
    "dfinal_train <- lgb.Dataset(\n",
    "  data= data.matrix(dataset[fold_final_train == TRUE, campos_buenos, with= FALSE]),\n",
    "  label= dataset[fold_final_train == TRUE, clase01],\n",
    "  free_raw_data= TRUE\n",
    ")\n",
    "\n",
    "nrow( dfinal_train) # verifico el tamaño"
   ]
  },
  {
   "cell_type": "markdown",
   "id": "HATRyklxYUpT",
   "metadata": {
    "id": "HATRyklxYUpT"
   },
   "source": [
    "##### Final Training Hyperparameters"
   ]
  },
  {
   "cell_type": "code",
   "execution_count": null,
   "id": "d6b9f33c-e0a0-4ea6-8169-4a6180cc5d01",
   "metadata": {
    "id": "d6b9f33c-e0a0-4ea6-8169-4a6180cc5d01"
   },
   "outputs": [],
   "source": [
    "# uno los parametros fijos y los mejores encontrados de los variables\n",
    "fijos <- copy(PARAM$lgbm$param_fijos)\n",
    "\n",
    "# quito lo que optimice en la Bayesian Optimization\n",
    "fijos$num_iterations <- NULL\n",
    "fijos$early_stopping_rounds <- NULL\n",
    "\n",
    "# agrego a los hiperparametros fijos los que encontre con la Bayesian Optimization\n",
    "param_final <- c(fijos, PARAM$out$lgbm$mejores_hiperparametros)"
   ]
  },
  {
   "cell_type": "markdown",
   "id": "05d3494f-0401-4f3e-9b69-f488a737879d",
   "metadata": {
    "id": "05d3494f-0401-4f3e-9b69-f488a737879d"
   },
   "source": [
    "##### Training\n",
    "Genero el modelo final, siempre sobre TODOS los datos de  final_train, sin hacer ningun tipo de undersampling de la clase mayoritaria"
   ]
  },
  {
   "cell_type": "code",
   "execution_count": null,
   "id": "fa239848-1c28-4ee5-984a-073903b4b279",
   "metadata": {
    "id": "fa239848-1c28-4ee5-984a-073903b4b279"
   },
   "outputs": [],
   "source": [
    "final_model <- lgb.train(\n",
    "  data= dfinal_train,\n",
    "  param= param_final,\n",
    "  verbose= -100\n",
    ")"
   ]
  },
  {
   "cell_type": "code",
   "execution_count": null,
   "id": "RC1ju-5MZN5s",
   "metadata": {
    "id": "RC1ju-5MZN5s"
   },
   "outputs": [],
   "source": [
    "# grabo a disco el modelo en un formato para seres humanos ... ponele ...\n",
    "\n",
    "lgb.save(final_model, \"modelo.txt\")"
   ]
  },
  {
   "cell_type": "code",
   "execution_count": null,
   "id": "VEpv4RYOZHTU",
   "metadata": {
    "id": "VEpv4RYOZHTU"
   },
   "outputs": [],
   "source": [
    "# ahora imprimo la importancia de variables\n",
    "\n",
    "tb_importancia <- as.data.table(lgb.importance(final_model))\n",
    "archivo_importancia <- \"impo.txt\"\n",
    "\n",
    "fwrite( tb_importancia,\n",
    "  file= archivo_importancia,\n",
    "  sep= \"\\t\"\n",
    ")"
   ]
  },
  {
   "cell_type": "markdown",
   "id": "7ea225b3-ce02-42e2-8330-b10ed250d172",
   "metadata": {
    "id": "7ea225b3-ce02-42e2-8330-b10ed250d172"
   },
   "source": [
    "#### Scoring"
   ]
  },
  {
   "cell_type": "markdown",
   "id": "164981bb-f4c1-4228-8bc9-32e58a383c05",
   "metadata": {
    "id": "164981bb-f4c1-4228-8bc9-32e58a383c05"
   },
   "source": [
    "Aplico el modelo final a los datos del futuro"
   ]
  },
  {
   "cell_type": "code",
   "execution_count": null,
   "id": "eJ7RbT271v-R",
   "metadata": {
    "id": "eJ7RbT271v-R"
   },
   "outputs": [],
   "source": [
    "PARAM$trainingstrategy$future <- c(202109)\n",
    "\n",
    "dfuture <- dataset[ foto_mes %in% PARAM$trainingstrategy$future ]"
   ]
  },
  {
   "cell_type": "code",
   "execution_count": null,
   "id": "88ca61c8-fa24-4ce5-8be1-323aca018e8f",
   "metadata": {
    "id": "88ca61c8-fa24-4ce5-8be1-323aca018e8f"
   },
   "outputs": [],
   "source": [
    "# aplico final_model   a dfuture\n",
    "\n",
    "prediccion <- predict(\n",
    "  final_model,\n",
    "  data.matrix(dfuture[, campos_buenos, with= FALSE])\n",
    ")"
   ]
  },
  {
   "cell_type": "markdown",
   "id": "79u0ZvjJZblE",
   "metadata": {
    "id": "79u0ZvjJZblE"
   },
   "source": [
    "##### Tabla Prediccion"
   ]
  },
  {
   "cell_type": "code",
   "execution_count": null,
   "id": "TB6aerGDZeTo",
   "metadata": {
    "id": "TB6aerGDZeTo"
   },
   "outputs": [],
   "source": [
    "tb_prediccion <- dfuture[, list(numero_de_cliente)]\n",
    "tb_prediccion[, prob := prediccion]\n",
    "\n",
    "# grabo las probabilidad del modelo\n",
    "#  me va a ser util para hacer Ensembles de modelos\n",
    "fwrite(tb_prediccion,\n",
    "  file= \"prediccion.txt\",\n",
    "  sep= \"\\t\"\n",
    ")"
   ]
  },
  {
   "cell_type": "markdown",
   "id": "8412d838-5bd5-454e-b3a9-5eaa18d80a50",
   "metadata": {
    "id": "8412d838-5bd5-454e-b3a9-5eaa18d80a50"
   },
   "source": [
    "#### Kaggle Competition Submit"
   ]
  },
  {
   "cell_type": "markdown",
   "id": "55970cb6-856a-46e3-a893-7f36b8352b8e",
   "metadata": {
    "id": "55970cb6-856a-46e3-a893-7f36b8352b8e"
   },
   "source": [
    "Genero las salidas y hago los submits a Kaggle"
   ]
  },
  {
   "cell_type": "code",
   "execution_count": null,
   "id": "e5fa2439-b0e9-49e0-a861-71d7315d6e1c",
   "metadata": {
    "id": "e5fa2439-b0e9-49e0-a861-71d7315d6e1c"
   },
   "outputs": [],
   "source": [
    "# genero archivos con los  \"envios\" mejores\n",
    "# suba TODOS los archivos a Kaggle\n",
    "\n",
    "PARAM$kaggle$competencia <- \"data-mining-analista-jr-2025-a\"\n",
    "PARAM$kaggle$cortes <- seq(1800, 2400, by = 100)\n",
    "\n",
    "# ordeno por probabilidad descendente\n",
    "setorder(tb_prediccion, -prob)\n",
    "\n",
    "dir.create(\"kaggle\")\n",
    "\n",
    "for (envios in PARAM$kaggle$cortes) {\n",
    "\n",
    "  tb_prediccion[, Predicted := 0L] # seteo inicial a 0\n",
    "  tb_prediccion[1:envios, Predicted := 1L] # marclo los primeros\n",
    "\n",
    "  archivo_kaggle <- paste0(\"./kaggle/KA\", PARAM$experimento, \"_\", envios, \".csv\")\n",
    "\n",
    "  # grabo el archivo\n",
    "  fwrite(tb_prediccion[, list(numero_de_cliente, Predicted)],\n",
    "    file= archivo_kaggle,\n",
    "    sep= \",\"\n",
    "  )\n",
    "\n",
    "  # subida a Kaggle, armo la linea de comando\n",
    "  comando <- \"kaggle competitions submit\"\n",
    "  competencia <- paste(\"-c\", PARAM$kaggle$competencia)\n",
    "  arch <- paste( \"-f\", archivo_kaggle)\n",
    "\n",
    "  mensaje <- paste0(\"-m 'envios=\", envios,\n",
    "  \"  semilla=\", PARAM$semilla_primigenia,\n",
    "    \"'\" )\n",
    "\n",
    "  linea <- paste( comando, competencia, arch, mensaje)\n",
    "\n",
    "  salida <- system(linea, intern=TRUE) # el submit a Kaggle\n",
    "  cat(salida, \"\\n\")\n",
    "}"
   ]
  },
  {
   "cell_type": "code",
   "execution_count": null,
   "id": "C94tK-xid6p2",
   "metadata": {
    "id": "C94tK-xid6p2"
   },
   "outputs": [],
   "source": [
    "# grabo los parametros\n",
    "if( !require(\"yaml\")) install.packages(\"yaml\")\n",
    "require(\"yaml\")\n",
    "\n",
    "write_yaml( PARAM, file=\"PARAM.yml\")"
   ]
  },
  {
   "cell_type": "code",
   "execution_count": null,
   "id": "1b615a62-20cc-4e95-9af2-6b6db38d5efb",
   "metadata": {
    "id": "1b615a62-20cc-4e95-9af2-6b6db38d5efb"
   },
   "outputs": [],
   "source": [
    "format(Sys.time(), \"%a %b %d %X %Y\")"
   ]
  },
  {
   "cell_type": "code",
   "execution_count": null,
   "id": "c5c759b9-20ba-4426-923e-49d7915b0183",
   "metadata": {},
   "outputs": [],
   "source": []
  },
  {
   "cell_type": "markdown",
   "id": "37a1f009-4563-48ce-98a4-fa787c0bfe80",
   "metadata": {
    "id": "859d38e7-11c0-48bc-978a-d0e907f19ed1"
   },
   "source": [
    "# 9 WorkFlow Analista Jr"
   ]
  },
  {
   "cell_type": "markdown",
   "id": "4eeb83ae-24ec-454c-be3c-9bb8e697b9b8",
   "metadata": {
    "id": "oSKhZRToy2F7"
   },
   "source": [
    "## 9.3  Workflow"
   ]
  },
  {
   "cell_type": "markdown",
   "id": "7f5c4854-ad90-4099-93b6-d37c10faee87",
   "metadata": {
    "id": "85171302-a2d6-48cb-b9b2-8d839a276859"
   },
   "source": [
    "### Inicializacion"
   ]
  },
  {
   "cell_type": "code",
   "execution_count": null,
   "id": "1c9bffa7-bbd1-4fe9-971c-53c65a43c780",
   "metadata": {
    "id": "EL8wdHaUs59K"
   },
   "outputs": [],
   "source": [
    "format(Sys.time(), \"%a %b %d %X %Y\")"
   ]
  },
  {
   "cell_type": "code",
   "execution_count": null,
   "id": "df23aab4-b712-4595-b62a-055fedab0fb0",
   "metadata": {
    "id": "1iE0U4_WCPRT"
   },
   "outputs": [],
   "source": [
    "# limpio la memoria\n",
    "rm(list=ls(all.names=TRUE)) # remove all objects\n",
    "gc(full=TRUE, verbose=FALSE) # garbage collection"
   ]
  },
  {
   "cell_type": "code",
   "execution_count": null,
   "id": "3def98d8-9dc3-4246-bf1c-04bcf9035977",
   "metadata": {
    "id": "atmIUEUNUrK5"
   },
   "outputs": [],
   "source": [
    "require(\"data.table\")\n",
    "\n",
    "if( !require(\"R.utils\")) install.packages(\"R.utils\")\n",
    "require(\"R.utils\")"
   ]
  },
  {
   "cell_type": "markdown",
   "id": "e2ae917b-9326-4896-b201-1cbe14752d12",
   "metadata": {
    "id": "BsxZ_ONyj9L_"
   },
   "source": [
    "#### Parametros"
   ]
  },
  {
   "cell_type": "code",
   "execution_count": null,
   "id": "99622338-645e-4e78-b03e-329c43f1ecdf",
   "metadata": {
    "id": "peRH7ySLCPRV"
   },
   "outputs": [],
   "source": [
    "PARAM <- list()\n",
    "PARAM$semilla_primigenia <- 424243\n",
    "\n",
    "PARAM$experimento <- '9100_og_2'\n",
    "PARAM$dataset <- \"analistajr_competencia_2025.csv.gz\""
   ]
  },
  {
   "cell_type": "markdown",
   "id": "f879b1d6-0739-4676-bc25-de6a70c95b52",
   "metadata": {
    "id": "NoJbKo_4NG8A"
   },
   "source": [
    "#### Carpeta del Experimento"
   ]
  },
  {
   "cell_type": "code",
   "execution_count": null,
   "id": "9017cd41-8220-40f9-a562-847343ecb793",
   "metadata": {
    "id": "1gZD6ZMvCPRV"
   },
   "outputs": [],
   "source": [
    "# carpeta de trabajo\n",
    "\n",
    "setwd(\"/content/buckets/b1/exp\")\n",
    "experimento_folder <- paste0(\"WF\", PARAM$experimento)\n",
    "dir.create(experimento_folder, showWarnings=FALSE)\n",
    "setwd( paste0(\"/content/buckets/b1/exp/\", experimento_folder ))"
   ]
  },
  {
   "cell_type": "markdown",
   "id": "ce97faaa-d8dd-4f56-ba88-30e748520619",
   "metadata": {
    "id": "YVKBfLtkR8SO"
   },
   "source": [
    "### 9.3.1   Preprocesamiento del dataset"
   ]
  },
  {
   "cell_type": "markdown",
   "id": "0cac86d3-dba3-4eda-977d-5440f6370504",
   "metadata": {
    "id": "cr3K0RPVRjq6"
   },
   "source": [
    "#### 9.3.1.1  DT incorporar dataset"
   ]
  },
  {
   "cell_type": "code",
   "execution_count": null,
   "id": "ff563275-1041-4a7f-842e-dc4693343396",
   "metadata": {
    "id": "Xi0emX2ECPRV"
   },
   "outputs": [],
   "source": [
    "# lectura del dataset\n",
    "dataset <- fread(paste0(\"/content/datasets/\", PARAM$dataset))"
   ]
  },
  {
   "cell_type": "markdown",
   "id": "aec78dd2-d80d-459a-a4c1-7b9934a6e2f3",
   "metadata": {
    "id": "MWuPzK3nSLY3"
   },
   "source": [
    "#### 9.3.1.2  CA  Catastrophe Analysis\n",
    "Se intentan reparar las variables que para un mes están con todos los valores en cero."
   ]
  },
  {
   "cell_type": "markdown",
   "id": "78f5f42f-fe2b-4011-be85-e71b33dacfc2",
   "metadata": {
    "id": "UAI16-yCVcBS"
   },
   "source": [
    "El método que se utiliza es **Machine Learning** se asigna NA also valores, si ha leido bien, es la \"anti imputación de valores faltantes\"\n",
    "<br> Usted podrá aplicar aquí otros métodos"
   ]
  },
  {
   "cell_type": "code",
   "execution_count": null,
   "id": "f0c848ea-96dc-4600-a30d-4be9935efbd5",
   "metadata": {
    "id": "JB9nRyNKNBzy"
   },
   "outputs": [],
   "source": [
    "if( !require(\"mice\")) install.packages(\"mice\", repos = \"http://cran.us.r-project.org\")\n",
    "require(\"mice\")"
   ]
  },
  {
   "cell_type": "code",
   "execution_count": null,
   "id": "5e49b454-5748-41d5-a517-26c1395bd095",
   "metadata": {
    "id": "QuraTbvTMmpf"
   },
   "outputs": [],
   "source": [
    "# Escrito por alumnos de  Universidad Austral  Rosario\n",
    "\n",
    "Corregir_MICE <- function(pcampo, pmeses) {\n",
    "\n",
    "  meth <- rep(\"\", ncol(dataset))\n",
    "  names(meth) <- colnames(dataset)\n",
    "  meth[names(meth) == pcampo] <- \"sample\"\n",
    "\n",
    "  # llamada a mice  !\n",
    "  imputacion <- mice(dataset,\n",
    "    method = meth,\n",
    "    maxit = 5,\n",
    "    m = 1,\n",
    "    seed = 7)\n",
    "\n",
    "  tbl <- mice::complete(dataset)\n",
    "\n",
    "  dataset[, paste0(pcampo) := ifelse(foto_mes %in% pmeses, tbl[, get(pcampo)], get(pcampo))]\n",
    "\n",
    "}\n"
   ]
  },
  {
   "cell_type": "code",
   "execution_count": null,
   "id": "79a37e85-8490-40f0-8a76-9646a9a99aa8",
   "metadata": {
    "id": "mUDX04VTJz3M"
   },
   "outputs": [],
   "source": [
    "Corregir_interpolar <- function(pcampo, pmeses) {\n",
    "\n",
    "  tbl <- dataset[, list(\n",
    "    \"v1\" = shift(get(pcampo), 1, type = \"lag\"),\n",
    "    \"v2\" = shift(get(pcampo), 1, type = \"lead\")\n",
    "  ),\n",
    "  by = eval(envg$PARAM$dataset_metadata$entity_id)\n",
    "  ]\n",
    "\n",
    "  tbl[, paste0(envg$PARAM$dataset_metadata$entity_id) := NULL]\n",
    "  tbl[, promedio := rowMeans(tbl, na.rm = TRUE)]\n",
    "\n",
    "  dataset[\n",
    "    ,\n",
    "    paste0(pcampo) := ifelse(!(foto_mes %in% pmeses),\n",
    "      get(pcampo),\n",
    "      tbl$promedio\n",
    "    )\n",
    "  ]\n",
    "}"
   ]
  },
  {
   "cell_type": "code",
   "execution_count": null,
   "id": "671b817c-28dd-41d8-b04c-85c9b7caebac",
   "metadata": {
    "id": "Yyt2YmrbJ1zf"
   },
   "outputs": [],
   "source": [
    "AsignarNA_campomeses <- function(pcampo, pmeses) {\n",
    "\n",
    "  if( pcampo %in% colnames( dataset ) ) {\n",
    "\n",
    "    dataset[ foto_mes %in% pmeses, paste0(pcampo) := NA ]\n",
    "  }\n",
    "}"
   ]
  },
  {
   "cell_type": "code",
   "execution_count": null,
   "id": "d0c22549-a3de-4c8c-b1a7-eb31058f3928",
   "metadata": {
    "id": "aFBlFw7hJ4EW"
   },
   "outputs": [],
   "source": [
    "\n",
    "Corregir_atributo <- function(pcampo, pmeses, pmetodo)\n",
    "{\n",
    "  # si el campo no existe en el dataset, Afuera !\n",
    "  if( !(pcampo %in% colnames( dataset )) )\n",
    "    return( 1 )\n",
    "\n",
    "  # llamo a la funcion especializada que corresponde\n",
    "  switch( pmetodo,\n",
    "    \"MachineLearning\"     = AsignarNA_campomeses(pcampo, pmeses),\n",
    "    \"EstadisticaClasica\"  = Corregir_interpolar(pcampo, pmeses),\n",
    "    \"MICE\"                = Corregir_MICE(pcampo, pmeses),\n",
    "  )\n",
    "\n",
    "  return( 0 )\n",
    "}"
   ]
  },
  {
   "cell_type": "code",
   "execution_count": null,
   "id": "848c55a1-332d-48dc-9e4f-81a9157daabd",
   "metadata": {
    "id": "krkr3JCxJ9Px"
   },
   "outputs": [],
   "source": [
    "\n",
    "Corregir_Rotas <- function(dataset, pmetodo) {\n",
    "  gc(verbose= FALSE)\n",
    "  cat( \"inicio Corregir_Rotas()\\n\")\n",
    "  # acomodo los errores del dataset\n",
    "\n",
    "  Corregir_atributo(\"active_quarter\", c(202006), pmetodo) # 1\n",
    "  Corregir_atributo(\"internet\", c(202006), pmetodo) # 2\n",
    "\n",
    "  Corregir_atributo(\"mrentabilidad\", c(201905, 201910, 202006), pmetodo) # 3\n",
    "  Corregir_atributo(\"mrentabilidad_annual\", c(201905, 201910, 202006), pmetodo) # 4\n",
    "\n",
    "  Corregir_atributo(\"mcomisiones\", c(201905, 201910, 202006), pmetodo) # 5\n",
    "\n",
    "  Corregir_atributo(\"mactivos_margen\", c(201905, 201910, 202006), pmetodo) # 6\n",
    "  Corregir_atributo(\"mpasivos_margen\", c(201905, 201910, 202006), pmetodo) # 7\n",
    "\n",
    "  Corregir_atributo(\"mcuentas_saldo\", c(202006), pmetodo) # 8\n",
    "\n",
    "  Corregir_atributo(\"ctarjeta_debito_transacciones\", c(202006), pmetodo) # 9\n",
    "\n",
    "  Corregir_atributo(\"mautoservicio\", c(202006), pmetodo) # 10\n",
    "\n",
    "  Corregir_atributo(\"ctarjeta_visa_transacciones\", c(202006), pmetodo) # 11\n",
    "  Corregir_atributo(\"mtarjeta_visa_consumo\", c(202006), pmetodo) # 12\n",
    "\n",
    "  Corregir_atributo(\"ctarjeta_master_transacciones\", c(202006), pmetodo) # 13\n",
    "  Corregir_atributo(\"mtarjeta_master_consumo\", c(202006), pmetodo) # 14\n",
    "\n",
    "  Corregir_atributo(\"ctarjeta_visa_debitos_automaticos\", c(201904), pmetodo) # 15\n",
    "  Corregir_atributo(\"mttarjeta_visa_debitos_automaticos\", c(201904), pmetodo) # 16\n",
    "\n",
    "  Corregir_atributo(\"ccajeros_propios_descuentos\",\n",
    "    c(201910, 202002, 202006, 202009, 202010, 202102), pmetodo) # 17\n",
    "\n",
    "  Corregir_atributo(\"mcajeros_propios_descuentos\",\n",
    "    c(201910, 202002, 202006, 202009, 202010, 202102), pmetodo) # 18\n",
    "\n",
    "  Corregir_atributo(\"ctarjeta_visa_descuentos\",\n",
    "    c(201910, 202002, 202006, 202009, 202010, 202102), pmetodo) # 19\n",
    "\n",
    "  Corregir_atributo(\"mtarjeta_visa_descuentos\",\n",
    "    c(201910, 202002, 202006, 202009, 202010, 202102), pmetodo) # 20\n",
    "\n",
    "  Corregir_atributo(\"ctarjeta_master_descuentos\",\n",
    "    c(201910, 202002, 202006, 202009, 202010, 202102), pmetodo) # 21\n",
    "\n",
    "  Corregir_atributo(\"mtarjeta_master_descuentos\",\n",
    "    c(201910, 202002, 202006, 202009, 202010, 202102), pmetodo) # 22\n",
    "\n",
    "  Corregir_atributo(\"ccomisiones_otras\", c(201905, 201910, 202006), pmetodo) # 23\n",
    "  Corregir_atributo(\"mcomisiones_otras\", c(201905, 201910, 202006), pmetodo) # 24\n",
    "\n",
    "  Corregir_atributo(\"cextraccion_autoservicio\", c(202006), pmetodo) # 25\n",
    "  Corregir_atributo(\"mextraccion_autoservicio\", c(202006), pmetodo) # 26\n",
    "\n",
    "  Corregir_atributo(\"ccheques_depositados\", c(202006), pmetodo) # 27\n",
    "  Corregir_atributo(\"mcheques_depositados\", c(202006), pmetodo) # 28\n",
    "  Corregir_atributo(\"ccheques_emitidos\", c(202006), pmetodo) # 29\n",
    "  Corregir_atributo(\"mcheques_emitidos\", c(202006), pmetodo) # 30\n",
    "  Corregir_atributo(\"ccheques_depositados_rechazados\", c(202006), pmetodo) # 31\n",
    "  Corregir_atributo(\"mcheques_depositados_rechazados\", c(202006), pmetodo) # 32\n",
    "  Corregir_atributo(\"ccheques_emitidos_rechazados\", c(202006), pmetodo) # 33\n",
    "  Corregir_atributo(\"mcheques_emitidos_rechazados\", c(202006), pmetodo) # 34\n",
    "\n",
    "  Corregir_atributo(\"tcallcenter\", c(202006), pmetodo) # 35\n",
    "  Corregir_atributo(\"ccallcenter_transacciones\", c(202006), pmetodo) # 36\n",
    "\n",
    "  Corregir_atributo(\"thomebanking\", c(202006), pmetodo) # 37\n",
    "  Corregir_atributo(\"chomebanking_transacciones\", c(201910, 202006), pmetodo) # 38\n",
    "\n",
    "  Corregir_atributo(\"ccajas_transacciones\", c(202006), pmetodo) # 39\n",
    "  Corregir_atributo(\"ccajas_consultas\", c(202006), pmetodo) # 40\n",
    "\n",
    "  Corregir_atributo(\"ccajas_depositos\", c(202006, 202105), pmetodo) # 41\n",
    "\n",
    "  Corregir_atributo(\"ccajas_extracciones\", c(202006), pmetodo) # 41\n",
    "  Corregir_atributo(\"ccajas_otras\", c(202006), pmetodo) # 43\n",
    "\n",
    "  Corregir_atributo(\"catm_trx\", c(202006), pmetodo) # 44\n",
    "  Corregir_atributo(\"matm\", c(202006), pmetodo) # 45\n",
    "  Corregir_atributo(\"catm_trx_other\", c(202006), pmetodo) # 46\n",
    "  Corregir_atributo(\"matm_other\", c(202006), pmetodo) # 47\n",
    "\n",
    "  cat( \"fin Corregir_rotas()\\n\")\n",
    "}\n"
   ]
  },
  {
   "cell_type": "code",
   "execution_count": null,
   "id": "02b04808-338e-4bd2-babe-794a4135e646",
   "metadata": {
    "id": "HaW4TeBIMxTn"
   },
   "outputs": [],
   "source": [
    "# resuelvo el Catastrophe Analysis\n",
    "\n",
    "setorder( dataset, numero_de_cliente, foto_mes )\n",
    "\n",
    "PARAM$CA$metodo= \"MachineLearning\"\n",
    "\n",
    "if( PARAM$CA$metodo %in% c(\"MachineLearning\", \"EstadisticaClasica\", \"MICE\") )\n",
    "  Corregir_Rotas(dataset, PARAM$CA$metodo)"
   ]
  },
  {
   "cell_type": "markdown",
   "id": "1fb5b880-0e2c-40a7-b79c-a3931198e155",
   "metadata": {
    "id": "-4NiANYFSYHG"
   },
   "source": [
    "#### 9.3.1.3  DR  Data Drifting\n",
    "Se intenta corregir el data drifting, ajustando por algunos indices financieros"
   ]
  },
  {
   "cell_type": "code",
   "execution_count": null,
   "id": "c3f76143-c5ae-4300-ae99-50669db8c965",
   "metadata": {
    "id": "XXPLxqc1ShLN"
   },
   "outputs": [],
   "source": [
    "# meses que me interesan para el ajuste de variables monetarias\n",
    "vfoto_mes <- c(\n",
    "  201901, 201902, 201903, 201904, 201905, 201906,\n",
    "  201907, 201908, 201909, 201910, 201911, 201912,\n",
    "  202001, 202002, 202003, 202004, 202005, 202006,\n",
    "  202007, 202008, 202009, 202010, 202011, 202012,\n",
    "  202101, 202102, 202103, 202104, 202105, 202106,\n",
    "  202107, 202108, 202109\n",
    ")\n"
   ]
  },
  {
   "cell_type": "code",
   "execution_count": null,
   "id": "990afbb0-f8ee-4150-90c0-7b8ccbb7688c",
   "metadata": {
    "id": "sjjUe3waSh8D"
   },
   "outputs": [],
   "source": [
    "# los valores que siguen fueron calculados por alumnos\n",
    "\n",
    "# momento 1.0  31-dic-2020 a las 23:59\n",
    "vIPC <- c(\n",
    "  1.9903030878, 1.9174403544, 1.8296186587,\n",
    "  1.7728862972, 1.7212488323, 1.6776304408,\n",
    "  1.6431248196, 1.5814483345, 1.4947526791,\n",
    "  1.4484037589, 1.3913580777, 1.3404220402,\n",
    "  1.3154288912, 1.2921698342, 1.2472681797,\n",
    "  1.2300475145, 1.2118694724, 1.1881073259,\n",
    "  1.1693969743, 1.1375456949, 1.1065619600,\n",
    "  1.0681100000, 1.0370000000, 1.0000000000,\n",
    "  0.9680542110, 0.9344152616, 0.8882274350,\n",
    "  0.8532444140, 0.8251880213, 0.8003763543,\n",
    "  0.7763107219, 0.7566381305, 0.7289384687\n",
    ")\n",
    "\n",
    "vdolar_blue <- c(\n",
    "   39.045455,  38.402500,  41.639474,\n",
    "   44.274737,  46.095455,  45.063333,\n",
    "   43.983333,  54.842857,  61.059524,\n",
    "   65.545455,  66.750000,  72.368421,\n",
    "   77.477273,  78.191667,  82.434211,\n",
    "  101.087500, 126.236842, 125.857143,\n",
    "  130.782609, 133.400000, 137.954545,\n",
    "  170.619048, 160.400000, 153.052632,\n",
    "  157.900000, 149.380952, 143.615385,\n",
    "  146.250000, 153.550000, 162.000000,\n",
    "  178.478261, 180.878788, 184.357143\n",
    ")\n",
    "\n",
    "vdolar_oficial <- c(\n",
    "   38.430000,  39.428000,  42.542105,\n",
    "   44.354211,  46.088636,  44.955000,\n",
    "   43.751429,  54.650476,  58.790000,\n",
    "   61.403182,  63.012632,  63.011579,\n",
    "   62.983636,  63.580556,  65.200000,\n",
    "   67.872000,  70.047895,  72.520952,\n",
    "   75.324286,  77.488500,  79.430909,\n",
    "   83.134762,  85.484737,  88.181667,\n",
    "   91.474000,  93.997778,  96.635909,\n",
    "   98.526000,  99.613158, 100.619048,\n",
    "  101.619048, 102.569048, 103.781818\n",
    ")\n",
    "\n",
    "vUVA <- c(\n",
    "  2.001408838932958,  1.950325472789153,  1.89323032351521,\n",
    "  1.8247220405493787, 1.746027787673673,  1.6871348409529485,\n",
    "  1.6361678865622313, 1.5927529755859773, 1.5549162794128493,\n",
    "  1.4949100586391746, 1.4197729500774545, 1.3678188186372326,\n",
    "  1.3136508617223726, 1.2690535173062818, 1.2381595983200178,\n",
    "  1.211656735577568,  1.1770808941405335, 1.1570338657445522,\n",
    "  1.1388769475653255, 1.1156993751209352, 1.093638313080772,\n",
    "  1.0657171590878205, 1.0362173587708712, 1.0,\n",
    "  0.9669867858358365, 0.9323750098728378, 0.8958202912590305,\n",
    "  0.8631993702994263, 0.8253893405524657, 0.7928918905364516,\n",
    "  0.7666323845128089, 0.7428976357662823, 0.721615762047849\n",
    ")\n"
   ]
  },
  {
   "cell_type": "code",
   "execution_count": null,
   "id": "fcc17d37-041f-4ee9-be4b-101d3646007f",
   "metadata": {
    "id": "RSF9i9nyWwKs"
   },
   "outputs": [],
   "source": [
    "tb_indices <- as.data.table( list(\n",
    "  \"IPC\" = vIPC,\n",
    "  \"dolar_blue\" = vdolar_blue,\n",
    "  \"dolar_oficial\" = vdolar_oficial,\n",
    "  \"UVA\" = vUVA\n",
    "  )\n",
    ")\n",
    "\n",
    "tb_indices[[ 'foto_mes' ]] <- vfoto_mes\n",
    "\n",
    "tb_indices"
   ]
  },
  {
   "cell_type": "code",
   "execution_count": null,
   "id": "ca3ef11a-738a-41c4-9e27-351abf5e1878",
   "metadata": {
    "id": "oq2zlvpkSmAU"
   },
   "outputs": [],
   "source": [
    "drift_UVA <- function(campos_monetarios) {\n",
    "  cat( \"inicio drift_UVA()\\n\")\n",
    "\n",
    "  dataset[tb_indices,\n",
    "    on = c(\"foto_mes\"),\n",
    "    (campos_monetarios) := .SD * i.UVA,\n",
    "    .SDcols = campos_monetarios\n",
    "  ]\n",
    "\n",
    "  cat( \"fin drift_UVA()\\n\")\n",
    "}\n"
   ]
  },
  {
   "cell_type": "code",
   "execution_count": null,
   "id": "97239474-ea41-4864-9836-c259aa57f4f8",
   "metadata": {
    "id": "h2QbqSn8Sojj"
   },
   "outputs": [],
   "source": [
    "drift_dolar_oficial <- function(campos_monetarios) {\n",
    "  cat( \"inicio drift_dolar_oficial()\\n\")\n",
    "\n",
    "  dataset[tb_indices,\n",
    "    on = c(\"foto_mes\"),\n",
    "    (campos_monetarios) := .SD / i.dolar_oficial,\n",
    "    .SDcols = campos_monetarios\n",
    "  ]\n",
    "\n",
    "  cat( \"fin drift_dolar_oficial()\\n\")\n",
    "}\n"
   ]
  },
  {
   "cell_type": "code",
   "execution_count": null,
   "id": "d3cb6a03-f5cd-47c9-948a-cb60111e7caa",
   "metadata": {
    "id": "DMTgpq9VSqqM"
   },
   "outputs": [],
   "source": [
    "drift_dolar_blue <- function(campos_monetarios) {\n",
    "  cat( \"inicio drift_dolar_blue()\\n\")\n",
    "\n",
    "  dataset[tb_indices,\n",
    "    on = c(\"foto_mes\"),\n",
    "    (campos_monetarios) := .SD / i.dolar_blue,\n",
    "    .SDcols = campos_monetarios\n",
    "  ]\n",
    "\n",
    "  cat( \"fin drift_dolar_blue()\\n\")\n",
    "}\n"
   ]
  },
  {
   "cell_type": "code",
   "execution_count": null,
   "id": "ad08f68e-9403-4d4e-a905-11c5003e8ab3",
   "metadata": {
    "id": "7n171_BoStAj"
   },
   "outputs": [],
   "source": [
    "drift_deflacion <- function(campos_monetarios) {\n",
    "  cat( \"inicio drift_deflacion()\\n\")\n",
    "\n",
    "  dataset[tb_indices,\n",
    "    on = c(\"foto_mes\"),\n",
    "    (campos_monetarios) := .SD * i.IPC,\n",
    "    .SDcols = campos_monetarios\n",
    "  ]\n",
    "\n",
    "  cat( \"fin drift_deflacion()\\n\")\n",
    "}\n"
   ]
  },
  {
   "cell_type": "code",
   "execution_count": null,
   "id": "2e118e98-c91b-41bf-87b9-627f8c482d26",
   "metadata": {
    "id": "Z94UizNySv0m"
   },
   "outputs": [],
   "source": [
    "drift_rank_simple <- function(campos_drift) {\n",
    "\n",
    "  cat( \"inicio drift_rank_simple()\\n\")\n",
    "  for (campo in campos_drift)\n",
    "  {\n",
    "    cat(campo, \" \")\n",
    "    dataset[, paste0(campo, \"_rank\") :=\n",
    "      (frank(get(campo), ties.method = \"random\") - 1) / (.N - 1), by = list(foto_mes)]\n",
    "    dataset[, (campo) := NULL]\n",
    "  }\n",
    "  cat( \"fin drift_rank_simple()\\n\")\n",
    "}\n"
   ]
  },
  {
   "cell_type": "code",
   "execution_count": null,
   "id": "dc51472b-d94b-4a53-86c5-ba450a6709d7",
   "metadata": {
    "id": "GnbUIXeWSyQm"
   },
   "outputs": [],
   "source": [
    "# El cero se transforma en cero\n",
    "# los positivos se rankean por su lado\n",
    "# los negativos se rankean por su lado\n",
    "\n",
    "drift_rank_cero_fijo <- function(campos_drift) {\n",
    "\n",
    "  cat( \"inicio drift_rank_cero_fijo()\\n\")\n",
    "  for (campo in campos_drift)\n",
    "  {\n",
    "    cat(campo, \" \")\n",
    "    dataset[get(campo) == 0, paste0(campo, \"_rank\") := 0]\n",
    "    dataset[get(campo) > 0, paste0(campo, \"_rank\") :=\n",
    "      frank(get(campo), ties.method = \"random\") / .N, by = list(foto_mes)]\n",
    "\n",
    "    dataset[get(campo) < 0, paste0(campo, \"_rank\") :=\n",
    "      -frank(-get(campo), ties.method = \"random\") / .N, by = list(foto_mes)]\n",
    "    dataset[, (campo) := NULL]\n",
    "  }\n",
    "  cat(\"\\n\")\n",
    "  cat( \"fin drift_rank_cero_fijo()\\n\")\n",
    "}\n"
   ]
  },
  {
   "cell_type": "code",
   "execution_count": null,
   "id": "543cbf34-a5ce-4ad4-943a-0632a7dedcfa",
   "metadata": {
    "id": "dhlyk-WxS040"
   },
   "outputs": [],
   "source": [
    "drift_estandarizar <- function(campos_drift) {\n",
    "\n",
    "  cat( \"inicio drift_estandarizar()\\n\")\n",
    "  for (campo in campos_drift)\n",
    "  {\n",
    "    cat(campo, \" \")\n",
    "    dataset[, paste0(campo, \"_normal\") :=\n",
    "      (get(campo) -mean(campo, na.rm=TRUE)) / sd(get(campo), na.rm=TRUE),\n",
    "      by = list(foto_mes)]\n",
    "\n",
    "    dataset[, (campo) := NULL]\n",
    "  }\n",
    "  cat( \"fin drift_estandarizar()\\n\")\n",
    "}\n"
   ]
  },
  {
   "cell_type": "code",
   "execution_count": null,
   "id": "c3b5d1ea-b9c2-4b8d-9105-05c84424cbf3",
   "metadata": {
    "id": "tlJjlN6PVanz"
   },
   "outputs": [],
   "source": [
    "# por como armé los nombres de campos,\n",
    "#  estos son los campos que expresan variables monetarias\n",
    "campos_monetarios <- colnames(dataset)\n",
    "campos_monetarios <- campos_monetarios[campos_monetarios %like%\n",
    "  \"^(m|Visa_m|Master_m|vm_m)\"]\n",
    "\n",
    "campos_monetarios"
   ]
  },
  {
   "cell_type": "code",
   "execution_count": null,
   "id": "45f65c3a-7197-4414-8a28-639cbf16b643",
   "metadata": {
    "id": "G_8BH82XS3uV"
   },
   "outputs": [],
   "source": [
    "# ejecuto el Data Drifting\n",
    "setorder( dataset, numero_de_cliente, foto_mes )\n",
    "\n",
    "\n",
    "PARAM$DR$metodo <- \"deflacion\"\n",
    "\n",
    "switch(PARAM$DR$metodo,\n",
    "  \"ninguno\"        = cat(\"No hay correccion del data drifting\"),\n",
    "  \"rank_simple\"    = drift_rank_simple(campos_monetarios),\n",
    "  \"rank_cero_fijo\" = drift_rank_cero_fijo(campos_monetarios),\n",
    "  \"deflacion\"      = drift_deflacion(campos_monetarios),\n",
    "  \"dolar_blue\"     = drift_dolarblue(campos_monetarios),\n",
    "  \"dolar_oficial\"  = drift_dolaroficial(campos_monetarios),\n",
    "  \"UVA\"            = drift_UVA(campos_monetarios),\n",
    "  \"estandarizar\"   = drift_estandarizar(campos_monetarios)\n",
    ")\n"
   ]
  },
  {
   "cell_type": "code",
   "execution_count": null,
   "id": "300f86cf-1cab-4784-b916-dfd5567a11df",
   "metadata": {
    "id": "-efBawbTWPKc"
   },
   "outputs": [],
   "source": [
    "colnames(dataset)"
   ]
  },
  {
   "cell_type": "markdown",
   "id": "0f6affbf-9155-4abe-b5a3-54dd9a29e121",
   "metadata": {
    "id": "rZ11c9KcFoAp"
   },
   "source": []
  },
  {
   "cell_type": "code",
   "execution_count": null,
   "id": "758acbc6-948f-40f6-8c7c-d4514232c478",
   "metadata": {
    "id": "L85A2lwKSe3k"
   },
   "outputs": [],
   "source": [
    "# se intenta corregir el data drifting utilizando algunos indices financieros"
   ]
  },
  {
   "cell_type": "markdown",
   "id": "88a4d33b-d400-4323-94ea-c55f5256ba92",
   "metadata": {
    "id": "7sppIDYeSn5X"
   },
   "source": [
    "#### 9.3.1.3  FE_intra_manual Feature Engineering intra-mes\n",
    "\n",
    "Agrego campos nuevos dentro del mismo mes, SIN considerar la historia."
   ]
  },
  {
   "cell_type": "code",
   "execution_count": null,
   "id": "48a15a09-9be3-426e-a310-4c6f937e8138",
   "metadata": {
    "id": "qrqf3j3_St3p"
   },
   "outputs": [],
   "source": [
    "# esta funcion atributos presentes existe debido a que las modalidades poseen datasets con distinta cantidad de campos\n",
    "atributos_presentes <- function( patributos )\n",
    "{\n",
    "  atributos <- unique( patributos )\n",
    "  comun <- intersect( atributos, colnames(dataset) )\n",
    "\n",
    "  return(  length( atributos ) == length( comun ) )\n",
    "}\n",
    "\n",
    "# el mes 1,2, ..12\n",
    "if( atributos_presentes( c(\"foto_mes\") ))\n",
    "  dataset[, kmes := foto_mes %% 100]\n",
    "\n",
    "# variable extraida de una tesis de maestria de Irlanda\n",
    "if( atributos_presentes( c(\"mpayroll\", \"cliente_edad\") ))\n",
    "  dataset[, mpayroll_sobre_edad := mpayroll / cliente_edad]\n"
   ]
  },
  {
   "cell_type": "code",
   "execution_count": null,
   "id": "86624b93-8881-4516-b804-42782f6f988a",
   "metadata": {
    "id": "iC4viwOdY5Kp"
   },
   "outputs": [],
   "source": [
    "# visualizo las columas del dataset a esta etapa\n",
    "colnames(dataset)"
   ]
  },
  {
   "cell_type": "markdown",
   "id": "27a05147-1413-4f8f-8300-ee33ad8470fb",
   "metadata": {
    "id": "9682b4ca-3ab3-4bbc-a36a-b185361e6b6b"
   },
   "source": [
    "#### 9.3.1.4  FE_rf Feature Engineering de nuevas variables a partir de hojas de Random Forest"
   ]
  },
  {
   "cell_type": "code",
   "execution_count": null,
   "id": "1e0d849e-7ae7-4227-904f-650139f1aa73",
   "metadata": {
    "id": "Vd09ZaybfUeK"
   },
   "outputs": [],
   "source": [
    "if( !require(\"lightgbm\")) install.packages(\"lightgbm\")\n",
    "require(\"lightgbm\")"
   ]
  },
  {
   "cell_type": "code",
   "execution_count": null,
   "id": "088d5deb-fcd6-43a9-ba29-23c8c3c4a1a1",
   "metadata": {
    "id": "JrsaXcQqcefM"
   },
   "outputs": [],
   "source": [
    "AgregaVarRandomForest <- function() {\n",
    "\n",
    "  cat( \"inicio AgregaVarRandomForest()\\n\")\n",
    "  gc(verbose= FALSE)\n",
    "  dataset[, clase01 := 0L ]\n",
    "  dataset[ clase_ternaria %in% PARAM$FE_rf$train$clase01_valor1,\n",
    "      clase01 := 1L ]\n",
    "\n",
    "  campos_buenos <- setdiff(\n",
    "    colnames(dataset),\n",
    "    c( \"clase_ternaria\", \"clase01\")\n",
    "  )\n",
    "\n",
    "  dataset[, entrenamiento :=\n",
    "    as.integer( foto_mes %in% PARAM$FE_rf$train$training )]\n",
    "\n",
    "  dtrain <- lgb.Dataset(\n",
    "    data = data.matrix(dataset[entrenamiento == TRUE, campos_buenos, with = FALSE]),\n",
    "    label = dataset[entrenamiento == TRUE, clase01],\n",
    "    free_raw_data = FALSE\n",
    "  )\n",
    "\n",
    "  modelo <- lgb.train(\n",
    "     data = dtrain,\n",
    "     param = PARAM$FE_rf$lgb_param,\n",
    "     verbose = -100\n",
    "  )\n",
    "\n",
    "  cat( \"Fin construccion RandomForest\\n\" )\n",
    "  # grabo el modelo, achivo .model\n",
    "  lgb.save(modelo, file=\"modelo.model\" )\n",
    "\n",
    "  qarbolitos <- copy(PARAM$FE_rf$lgb_param$num_iterations)\n",
    "\n",
    "  periodos <- dataset[ , unique( foto_mes ) ]\n",
    "\n",
    "  for( periodo in  periodos )\n",
    "  {\n",
    "    cat( \"periodo = \", periodo, \"\\n\" )\n",
    "    datamatrix <- data.matrix(dataset[ foto_mes== periodo, campos_buenos, with = FALSE])\n",
    "\n",
    "    cat( \"Inicio prediccion\\n\" )\n",
    "    prediccion <- predict(\n",
    "        modelo,\n",
    "        datamatrix,\n",
    "        type = \"leaf\"\n",
    "    )\n",
    "    cat( \"Fin prediccion\\n\" )\n",
    "\n",
    "    for( arbolito in 1:qarbolitos )\n",
    "    {\n",
    "       cat( arbolito, \" \" )\n",
    "       hojas_arbol <- unique(prediccion[ , arbolito])\n",
    "\n",
    "       for (pos in 1:length(hojas_arbol)) {\n",
    "         # el numero de nodo de la hoja, estan salteados\n",
    "         nodo_id <- hojas_arbol[pos]\n",
    "         dataset[ foto_mes== periodo, paste0(\n",
    "            \"rf_\", sprintf(\"%03d\", arbolito),\n",
    "             \"_\", sprintf(\"%03d\", nodo_id)\n",
    "          ) :=  as.integer( nodo_id == prediccion[ , arbolito]) ]\n",
    "\n",
    "       }\n",
    "\n",
    "       rm( hojas_arbol )\n",
    "    }\n",
    "    cat( \"\\n\" )\n",
    "\n",
    "    rm( prediccion )\n",
    "    rm( datamatrix )\n",
    "    gc(verbose= FALSE)\n",
    "  }\n",
    "\n",
    "  gc(verbose= FALSE)\n",
    "\n",
    "  # borro clase01 , no debe ensuciar el dataset\n",
    "  dataset[ , clase01 := NULL ]\n",
    "\n",
    "}\n"
   ]
  },
  {
   "cell_type": "code",
   "execution_count": null,
   "id": "dc618873-25fc-493a-885a-f2089043814e",
   "metadata": {
    "id": "i6vcLtXldMpz"
   },
   "outputs": [],
   "source": [
    "# Parametros de Feature Engineering  a partir de hojas de Random Forest\n",
    "\n",
    "# Estos CUATRO parametros son los que se deben modificar\n",
    "PARAM$FE_rf$arbolitos= 20\n",
    "PARAM$FE_rf$hojas_por_arbol= 16\n",
    "PARAM$FE_rf$datos_por_hoja= 100\n",
    "PARAM$FE_rf$mtry_ratio= 0.2\n",
    "\n",
    "# Estos son quasi fijos\n",
    "PARAM$FE_rf$train$clase01_valor1 <- c( \"BAJA+2\", \"BAJA+1\")\n",
    "PARAM$FE_rf$train$training <- c( 202101, 202102, 202103)\n",
    "\n",
    "# Estos TAMBIEN son quasi fijos\n",
    "PARAM$FE_rf$lgb_param <-list(\n",
    "    # parametros que se pueden cambiar\n",
    "    num_iterations = PARAM$FE_rf$arbolitos,\n",
    "    num_leaves  = PARAM$FE_rf$hojas_por_arbol,\n",
    "    min_data_in_leaf = PARAM$FE_rf$datos_por_hoja,\n",
    "    feature_fraction_bynode  = PARAM$FE_rf$mtry_ratio,\n",
    "\n",
    "    # para que LightGBM emule Random Forest\n",
    "    boosting = \"rf\",\n",
    "    bagging_fraction = ( 1.0 - 1.0/exp(1.0) ),\n",
    "    bagging_freq = 1.0,\n",
    "    feature_fraction = 1.0,\n",
    "\n",
    "    # genericos de LightGBM\n",
    "    max_bin = 31L,\n",
    "    objective = \"binary\",\n",
    "    first_metric_only = TRUE,\n",
    "    boost_from_average = TRUE,\n",
    "    feature_pre_filter = FALSE,\n",
    "    force_row_wise = TRUE,\n",
    "    verbosity = -100,\n",
    "    max_depth = -1L,\n",
    "    min_gain_to_split = 0.0,\n",
    "    min_sum_hessian_in_leaf = 0.001,\n",
    "    lambda_l1 = 0.0,\n",
    "    lambda_l2 = 0.0,\n",
    "\n",
    "    pos_bagging_fraction = 1.0,\n",
    "    neg_bagging_fraction = 1.0,\n",
    "    is_unbalance = FALSE,\n",
    "    scale_pos_weight = 1.0,\n",
    "\n",
    "    drop_rate = 0.1,\n",
    "    max_drop = 50,\n",
    "    skip_drop = 0.5,\n",
    "\n",
    "    extra_trees = FALSE\n",
    "  )"
   ]
  },
  {
   "cell_type": "code",
   "execution_count": null,
   "id": "57b74fb0-9de0-46e8-89de-5a1842ed287f",
   "metadata": {
    "id": "GTTj4VdBezcE"
   },
   "outputs": [],
   "source": [
    "# Feature Engineering agregando variables de Random Forest\n",
    "AgregaVarRandomForest()"
   ]
  },
  {
   "cell_type": "code",
   "execution_count": null,
   "id": "27eb09d6-97d4-4b99-a62b-571eea26d389",
   "metadata": {
    "id": "bs2vXYFuiXGu"
   },
   "outputs": [],
   "source": [
    "ncol(dataset)\n",
    "colnames(dataset)"
   ]
  },
  {
   "cell_type": "code",
   "execution_count": null,
   "id": "fcb8856e-6cde-4e55-9d37-451e9b79b38d",
   "metadata": {
    "id": "ljA3h0jOcciP"
   },
   "outputs": [],
   "source": [
    "# No se implementa Feature Engineering a partir de Random Forest"
   ]
  },
  {
   "cell_type": "markdown",
   "id": "1c174aae-dfa3-49ff-a84e-e86816f9a5d3",
   "metadata": {
    "id": "XaRBjQj8ZRUZ"
   },
   "source": [
    "#### 9.3.1.5  FEhist Feature Engineering historico\n",
    "\n",
    "El Fature Engineering Histórico es la etapa que más aporta a la ganancia final, ya que enriquece cada registro del dataset con su historia."
   ]
  },
  {
   "cell_type": "markdown",
   "id": "0cb686b7-a090-43dd-b44e-97cb49b1b3e0",
   "metadata": {
    "id": "cfe3b8cf-0707-4512-92e7-c1407bb3f73b"
   },
   "source": [
    "Para cada campo del dataset original (*)\n",
    "se crean lo siguientes campos de a partir de la historia\n",
    "* lag1  lags de orden 1\n",
    "* delta1  =  valor actual - lag1\n",
    "* lag2  lags de orden 2\n",
    "* delta2  = valor actual - lag2\n",
    "\n",
    "\n",
    "(*) Excepto para los campos  <numero_de_cliente,  foto_mes,  clase_ternaria>"
   ]
  },
  {
   "cell_type": "code",
   "execution_count": null,
   "id": "7aa2b14a-4c5f-4941-8ea3-281a0836ac2b",
   "metadata": {
    "id": "7850b948-827d-4a2a-b4d3-a5e459b47c11"
   },
   "outputs": [],
   "source": [
    "# Feature Engineering Historico\n",
    "\n",
    "# todo es lagueable, menos la primary key y la clase\n",
    "cols_lagueables <- copy( setdiff(\n",
    "    colnames(dataset),\n",
    "    c(\"numero_de_cliente\", \"foto_mes\", \"clase_ternaria\")\n",
    ") )\n",
    "\n",
    "# https://rdrr.io/cran/data.table/man/shift.html\n",
    "\n",
    "# lags de orden 1\n",
    "dataset[,\n",
    "    paste0(cols_lagueables, \"_lag1\") := shift(.SD, 1, NA, \"lag\"),\n",
    "    by = numero_de_cliente,\n",
    "    .SDcols = cols_lagueables\n",
    "]\n",
    "\n",
    "# lags de orden 2\n",
    "dataset[,\n",
    "    paste0(cols_lagueables, \"_lag2\") := shift(.SD, 2, NA, \"lag\"),\n",
    "    by = numero_de_cliente,\n",
    "    .SDcols = cols_lagueables\n",
    "]\n",
    "\n",
    "# agrego los delta lags\n",
    "for (vcol in cols_lagueables)\n",
    "{\n",
    "    dataset[, paste0(vcol, \"_delta1\") := get(vcol) - get(paste0(vcol, \"_lag1\"))]\n",
    "    dataset[, paste0(vcol, \"_delta2\") := get(vcol) - get(paste0(vcol, \"_lag2\"))]\n",
    "}\n"
   ]
  },
  {
   "cell_type": "markdown",
   "id": "e7c07620-9760-4a25-aab7-99a6306d0231",
   "metadata": {
    "id": "cea690d9-ece9-4852-a5e2-f337c31b6721"
   },
   "source": [
    "Verificacion de los campos recien creados"
   ]
  },
  {
   "cell_type": "code",
   "execution_count": null,
   "id": "de771824-e326-4cc8-91c6-276f682a79b7",
   "metadata": {
    "id": "f772896b-595a-47d4-8905-c15304ac9452"
   },
   "outputs": [],
   "source": [
    "ncol(dataset)\n",
    "colnames(dataset)"
   ]
  },
  {
   "cell_type": "markdown",
   "id": "2f3e7923-49aa-4007-9009-24901a25d19e",
   "metadata": {
    "id": "l8mKij0XaDY0"
   },
   "source": [
    "#### 9.3.1.6  FEhist Reduccion dimensionalidad con canaritos\n",
    "\n",
    "Esta etapa solo se mostrará a la *modalidad Anlista Sr* por algun canal secreto de forma de no confundir a los *Analista Jr*  nni distraer con detalles operativos a la estratégica *Modalidad Gerencial*"
   ]
  },
  {
   "cell_type": "code",
   "execution_count": null,
   "id": "4bf3decc-7c67-4c62-a435-df271e3dfd9c",
   "metadata": {
    "id": "QrmnPtlBcEgx"
   },
   "outputs": [],
   "source": [
    "# No se implementa la reduccion de la dimensionalidad con canaritos"
   ]
  },
  {
   "cell_type": "markdown",
   "id": "61ed867f-88c1-42fe-ad7d-65cee59d7e21",
   "metadata": {
    "id": "cf91ea5e-3341-4afb-8d05-cc4923d3d1e1"
   },
   "source": [
    "### 9.3.2 Modelado"
   ]
  },
  {
   "cell_type": "markdown",
   "id": "f9f0b89d-df96-4eff-bde7-134d8decaf0f",
   "metadata": {
    "id": "526048e4-8cf2-4023-bd2d-a70e4e9ff157"
   },
   "source": [
    "#### 9.3.2.1 Training Strategy"
   ]
  },
  {
   "cell_type": "markdown",
   "id": "2beecb5b-769c-4798-b817-f588842cf0b0",
   "metadata": {
    "id": "f16bc1c1-b3ea-43ca-9d3c-53f8f9ab8ec1"
   },
   "source": [
    "Se hace una estrategia de entrenamiento muy sencilla, tomando todos los meses posibles, SIN eliminar nada x pandemia ni por ningun otro motivo\n",
    "\n",
    "* future = 202109  obviamente completo\n",
    "\n",
    "* final_train =  [ 201901, 202107 ]  SIN undersampling\n",
    "\n",
    "* training\n",
    "   * testing = NO HAY\n",
    "   * validation =  202107   completo, sin undersampling\n",
    "   * training = [ 201901, 202105 ]  donde se consideran el 100% de los CONTINUA"
   ]
  },
  {
   "cell_type": "code",
   "execution_count": null,
   "id": "b8ccec8f-972a-44eb-8d2a-f16e395cd32a",
   "metadata": {
    "id": "2c9c0a42-ba58-4264-8566-091a6161716f"
   },
   "outputs": [],
   "source": [
    "PARAM$trainingstrategy$validate <- c(202107)\n",
    "\n",
    "PARAM$trainingstrategy$training <- c(\n",
    "  201901, 201902, 201903, 201904, 201905, 201906,\n",
    "  201907, 201908, 201909, 201910, 201911, 201912,\n",
    "  202001, 202002, 202003, 202004, 202005, 202006,\n",
    "  202007, 202008, 202009, 202010, 202011, 202012,\n",
    "  202101, 202102, 202103, 202104, 202105\n",
    ")\n",
    "\n",
    "\n",
    "PARAM$trainingstrategy$training_pct <- 1.0\n",
    "\n",
    "\n",
    "PARAM$trainingstrategy$positivos <- c( \"BAJA+1\", \"BAJA+2\")"
   ]
  },
  {
   "cell_type": "code",
   "execution_count": null,
   "id": "74343464-6f81-4341-86f1-2e4f6e8dfbf2",
   "metadata": {
    "id": "tv_trHWAj4a8"
   },
   "outputs": [],
   "source": [
    "# seteo la clase01   1={BAJA+1, BAJA+2}   0={CONTINUA}\n",
    "dataset[, clase01 := ifelse( clase_ternaria %in% PARAM$trainingstrategy$positivos, 1, 0 )]"
   ]
  },
  {
   "cell_type": "code",
   "execution_count": null,
   "id": "74a2cfe1-b3da-403d-8b87-152def1b8090",
   "metadata": {
    "id": "Ud_XDKSIj8f_"
   },
   "outputs": [],
   "source": [
    "# los campos en los que se entrena\n",
    "campos_buenos <- copy( setdiff(\n",
    "    colnames(dataset), c(\"clase_ternaria\",\"clase01\",\"azar\"))\n",
    ")"
   ]
  },
  {
   "cell_type": "code",
   "execution_count": null,
   "id": "7efc7fea-46f2-4008-b128-cd03dd336787",
   "metadata": {
    "id": "rFKgZZPSj_Pa"
   },
   "outputs": [],
   "source": [
    "# preparo para que se puede hacer undersampling de los CONTINUA\n",
    "#  solamente por un tema de VELOCIDAD\n",
    "set.seed(PARAM$semilla_primigenia, kind = \"L'Ecuyer-CMRG\")\n",
    "dataset[, azar:=runif(nrow(dataset))]\n",
    "\n",
    "# undersampling de los CONTINUA\n",
    "dataset[, fold_train :=  foto_mes %in%  PARAM$trainingstrategy$training &\n",
    "    (clase_ternaria %in% c(\"BAJA+1\", \"BAJA+2\") |\n",
    "     azar < PARAM$trainingstrategy$training_pct ) ]\n",
    "\n",
    "\n",
    "if( !require(\"lightgbm\")) install.packages(\"lightgbm\")\n",
    "require(\"lightgbm\")\n",
    "\n",
    "dtrain <- lgb.Dataset(\n",
    "  data= data.matrix(dataset[fold_train == TRUE, campos_buenos, with = FALSE]),\n",
    "  label= dataset[fold_train == TRUE, clase01],\n",
    "  free_raw_data= TRUE\n",
    ")"
   ]
  },
  {
   "cell_type": "code",
   "execution_count": null,
   "id": "75c96644-99a8-44ed-871c-46f740390134",
   "metadata": {
    "id": "B3yo98kQkHcP"
   },
   "outputs": [],
   "source": [
    "# datos de validation\n",
    "dvalidate <- lgb.Dataset(\n",
    "  data= data.matrix(dataset[foto_mes %in% PARAM$trainingstrategy$validate, campos_buenos, with = FALSE]),\n",
    "  label= dataset[foto_mes %in% PARAM$trainingstrategy$validate, clase01],\n",
    "  free_raw_data= TRUE\n",
    ")\n",
    "\n",
    "nrow(dvalidate)"
   ]
  },
  {
   "cell_type": "markdown",
   "id": "7799a59c-e6e0-4d6a-b27e-adbd66aaeb86",
   "metadata": {
    "id": "28e8f788-551c-4e50-9029-302ac0834287"
   },
   "source": [
    "####  9.3.2.2. Hyperparameter Tuning"
   ]
  },
  {
   "cell_type": "markdown",
   "id": "399aef30-6706-4810-bccb-ba601e69fa48",
   "metadata": {
    "id": "bf5fc836-e222-4aeb-a6a8-157346895ef7"
   },
   "source": [
    "* Clase binaria que se optimiza :  positivos = [ BAJA+1, BAJA+2 ]"
   ]
  },
  {
   "cell_type": "markdown",
   "id": "ea959334-c379-4e26-bb2f-ddf2952b78d3",
   "metadata": {
    "id": "885c03b5-77bc-4510-a930-0d1f14b52ffb"
   },
   "source": [
    "* Metrica que se optimiza **AUC** Area Under Curve de la  ROC Curve\n",
    "\n",
    "es muy importante notar que intencionalmente  **NO** se está optimizando la funcion de ganancia del problema"
   ]
  },
  {
   "cell_type": "markdown",
   "id": "827ed08a-6ea2-40f3-92eb-173a5ebf8f41",
   "metadata": {
    "id": "b7e6f95c-66ef-4ab9-9ba3-fcc099816704"
   },
   "source": [
    "* Cantidad de iteraciones inteligentes de la Optimizacion Bayesiana = **10**"
   ]
  },
  {
   "cell_type": "markdown",
   "id": "f5415cd2-0494-46e5-ad16-fd7d0b35d5fb",
   "metadata": {
    "id": "fe047a87-e2d0-4418-97dd-0a881e66d73a"
   },
   "source": [
    "* Parametros no default, fijos de LightGBM que no se optimizan\n",
    "  * max_bin = 31 , Alienigenas Ancestrales contruyeron las pirámides y dejaron a la humanidad en un jeroglifico  *max_bin=31*\n",
    "  * feature_fraction = 0.5  para poner algo que generalmente no falla\n",
    "  * learning_rate = 0.03  para que aprenda lento\n"
   ]
  },
  {
   "cell_type": "markdown",
   "id": "1d8e87b7-289e-49c6-acfb-737bc8083aee",
   "metadata": {
    "id": "1e7da08e-fe57-4681-beff-11fe963116bd"
   },
   "source": [
    "* Parametros que se optimizan en la Bayesian Optimization\n",
    "  * num_leaves  [8, 256]\n",
    "  * min_data_in_leaf  [8, 8192]"
   ]
  },
  {
   "cell_type": "code",
   "execution_count": null,
   "id": "5ebce68e-a5eb-435f-9ec5-d27b54a11ca6",
   "metadata": {
    "id": "34V6y4GetKq_"
   },
   "outputs": [],
   "source": [
    "# paquetes necesarios para la Bayesian Optimization\n",
    "if(!require(\"DiceKriging\")) install.packages(\"DiceKriging\")\n",
    "require(\"DiceKriging\")\n",
    "\n",
    "if(!require(\"mlrMBO\")) install.packages(\"mlrMBO\")\n",
    "require(\"mlrMBO\")"
   ]
  },
  {
   "cell_type": "markdown",
   "id": "bbe74861-3f58-406a-b165-488d17160eef",
   "metadata": {
    "id": "UFbDSYtH0TTT"
   },
   "source": [
    "Definición de la Bayesian Optimization\n",
    "<br> Si se desea optimizar un hiperparámetro que esta como fijo, debe QUITARSE de param_fijos y agregarse a PARAM$hipeparametertuning$hs"
   ]
  },
  {
   "cell_type": "code",
   "execution_count": null,
   "id": "85c02d64-1ac0-45cb-8b4e-4577b210aca8",
   "metadata": {
    "id": "5Uag3XGHqrfZ"
   },
   "outputs": [],
   "source": [
    "# un Analista Jr  debe poder animarse a hacer 100 iteraciones\n",
    "PARAM$hipeparametertuning$num_interations <- 20\n",
    "\n",
    "# parametros fijos del LightGBM\n",
    "PARAM$lgbm$param_fijos <- list(\n",
    "  objective= \"binary\",\n",
    "  metric= \"auc\",\n",
    "  first_metric_only= TRUE,\n",
    "  boost_from_average= TRUE,\n",
    "  feature_pre_filter= FALSE,\n",
    "  verbosity= -100,\n",
    "  force_row_wise= TRUE, # para evitar warning\n",
    "  seed= PARAM$semilla_primigenia,\n",
    "  max_bin= 31,\n",
    "\n",
    "  num_iterations= 9999,  # valor grande, lo limita early_stopping_rounds\n",
    "  early_stopping_rounds= 400\n",
    ")\n",
    "\n",
    "PARAM$hipeparametertuning$hs <- makeParamSet(\n",
    "  makeIntegerParam(\"num_leaves\", lower= 2L, upper= 256L),\n",
    "  makeIntegerParam(\"min_data_in_leaf\", lower= 2L, upper= 8192L),\n",
    "  makeNumericParam(\"feature_fraction\", lower= 0.1, upper= 0.9),\n",
    "  makeNumericParam(\"learning_rate\", lower= 0.01, upper= 0.5)\n",
    ")"
   ]
  },
  {
   "cell_type": "markdown",
   "id": "5646e8e0-b210-4398-8c36-278d4ff3d6c6",
   "metadata": {
    "id": "FEa1UuuAz4yj"
   },
   "source": [
    "Función \"señora caja negra\"  que es llamada para verificar la realidad por la Bayesian Optimization"
   ]
  },
  {
   "cell_type": "code",
   "execution_count": null,
   "id": "b2f5861f-dc7f-478a-9885-b6afbc4049d4",
   "metadata": {
    "id": "2c10f535-8d90-47d1-ac3d-9b4c24ec21d2"
   },
   "outputs": [],
   "source": [
    "# En  x llegan los parmaetros de la bayesiana\n",
    "#  devuelve la AUC en validate del modelo entrenado\n",
    "#  en el parametro x llegan los hiperparámetros que se estan optimizando\n",
    "\n",
    "EstimarGanancia_AUC_lightgbm <- function(x) {\n",
    "\n",
    "  # x pisa (o agrega) a param_fijos\n",
    "  param_completo <- modifyList(PARAM$lgbm$param_fijos, x)\n",
    "\n",
    "  # entreno LightGBM\n",
    "  modelo_train <- lgb.train(\n",
    "    data= dtrain,\n",
    "    valids= list(valid = dvalidate),\n",
    "    eval= \"auc\",\n",
    "    param= param_completo,\n",
    "    verbose= -100\n",
    "  )\n",
    "\n",
    "  # recupero la AUC en validation\n",
    "  AUC <- modelo_train$record_evals$valid$auc$eval[[modelo_train$best_iter]]\n",
    "\n",
    "  # esta es la forma de devolver un parametro extra\n",
    "  attr(AUC, \"extras\") <- list(\"num_iterations\"= modelo_train$best_iter)\n",
    "\n",
    "  # hago espacio en la memoria\n",
    "  rm(modelo_train)\n",
    "  gc(full= TRUE, verbose= FALSE)\n",
    "\n",
    "  message(format(Sys.time(), \"%a %b %d %X %Y\"), \" AUC \", AUC)\n",
    "\n",
    "  return(AUC)\n",
    "}"
   ]
  },
  {
   "cell_type": "markdown",
   "id": "21e8ec8b-28f7-4a36-bd27-7ed243ef25ee",
   "metadata": {
    "id": "267a35d4-adaf-4271-a875-3864111333b7"
   },
   "source": [
    "seteo de la Bayesian Optimization (complejo)\n",
    "<br> copiado y pegado de la documentación de la librería"
   ]
  },
  {
   "cell_type": "code",
   "execution_count": null,
   "id": "958e7982-a6a9-40f8-b775-6a42df0722d1",
   "metadata": {
    "id": "43c2a92d-1041-46b8-bff2-47297f209ed2"
   },
   "outputs": [],
   "source": [
    "configureMlr(show.learner.output = FALSE)\n",
    "\n",
    "# configuro la busqueda bayesiana,  los hiperparametros que se van a optimizar\n",
    "# por favor, no desesperarse por lo complejo\n",
    "obj.fun <- makeSingleObjectiveFunction(\n",
    "    fn= EstimarGanancia_AUC_lightgbm, # la funcion que voy a maximizar\n",
    "    minimize= FALSE, # estoy Maximizando AUC\n",
    "    noisy= FALSE,\n",
    "    par.set= PARAM$hipeparametertuning$hs,\n",
    "    has.simple.signature= FALSE # paso los parametros en una lista\n",
    ")\n",
    "\n",
    "# cada 600 segundos guardo el resultado intermedio\n",
    "ctrl <- makeMBOControl(\n",
    "    save.on.disk.at.time= 600,\n",
    "    save.file.path= \"HT.RDATA\"\n",
    ")\n",
    "\n",
    "# indico la cantidad de iteraciones que va a tener la Bayesian Optimization\n",
    "ctrl <- setMBOControlTermination(\n",
    "    ctrl,\n",
    "    iters= PARAM$hipeparametertuning$num_interations  # cantidad de iteraciones inteligentes\n",
    ")\n",
    "\n",
    "# defino el método estandar para la creacion de los puntos iniciales\n",
    "#   los \"No Inteligentes\"\n",
    "ctrl <- setMBOControlInfill(ctrl, crit = makeMBOInfillCritEI())\n",
    "\n",
    "# mas configuraciones\n",
    "surr.km <- makeLearner(\n",
    "    \"regr.km\",\n",
    "    predict.type= \"se\",\n",
    "    covtype= \"matern3_2\",\n",
    "    control= list(trace = TRUE)\n",
    ")"
   ]
  },
  {
   "cell_type": "markdown",
   "id": "09d27f71-0df2-4979-8893-de2441a7d25b",
   "metadata": {
    "id": "6c1e5645-d26f-4923-a53f-f30471a4c4e8"
   },
   "source": [
    "Corrida de la Bayesian Optimization,  aqui se hace el trabajo pesado\n",
    "<br> por favor no se asuste con los warnings que pudieran aparecer\n",
    "\n",
    "Si corrío a medias y llegó a las iteraciones inteligentes, en el archivo binario HT.RDATA quedó lo ya procesado y es utilizado para retomar la corrida desde lo último que llegó a grabar."
   ]
  },
  {
   "cell_type": "code",
   "execution_count": null,
   "id": "61276fdd-ad53-4e12-b1e8-f1ee3842b94f",
   "metadata": {
    "id": "1f8cab3f-c7e2-4802-bfd1-5ad509922a4e",
    "scrolled": true
   },
   "outputs": [],
   "source": [
    "# inicio la optimizacion bayesiana\n",
    "\n",
    "if (!file.exists(\"HT.RDATA\")) {\n",
    "  bayesiana_salida <- mbo(obj.fun, learner= surr.km, control= ctrl)\n",
    "} else {\n",
    "  bayesiana_salida <- mboContinue(\"HT.RDATA\") # retomo en caso que ya exista\n",
    "}"
   ]
  },
  {
   "cell_type": "markdown",
   "id": "a2b898b8-1345-4a80-a96e-b88f9c7c67c0",
   "metadata": {
    "id": "36307612-964f-4df3-907a-1bc3c095f178"
   },
   "source": [
    "la bayesian optimization ha corrido, extraigo los mejores hiperparametros"
   ]
  },
  {
   "cell_type": "code",
   "execution_count": null,
   "id": "9e7a4d43-8313-4452-a564-505894e0f7cb",
   "metadata": {
    "id": "8c061a2a-3341-4006-a154-c95bb6cfd407"
   },
   "outputs": [],
   "source": [
    "# almaceno los resultados de la Bayesian Optimization\n",
    "# y capturo los mejores hiperparametros encontrados\n",
    "\n",
    "tb_bayesiana <- as.data.table(bayesiana_salida$opt.path)\n",
    "\n",
    "# ordeno en forma descendente por AUC = y\n",
    "setorder(tb_bayesiana, -y, -num_iterations)\n",
    "\n",
    "# grabo para eventualmente poder utilizarlos en OTRA corrida\n",
    "fwrite( tb_bayesiana,\n",
    "  file=\"BO_log.txt\",\n",
    "  sep=\"\\t\"\n",
    ")\n",
    "\n",
    "# los mejores hiperparámetros son los que quedaron en el registro 1 de la tabla\n",
    "PARAM$out$lgbm$mejores_hiperparametros <- tb_bayesiana[\n",
    "  1, # el primero es el de mejor AUC\n",
    "  list(num_leaves, min_data_in_leaf, num_iterations)\n",
    "]\n",
    "\n",
    "print(PARAM$out$lgbm$mejores_hiperparametros)"
   ]
  },
  {
   "cell_type": "markdown",
   "id": "1924837b-3a54-4669-98d6-2ec56c7ac545",
   "metadata": {
    "id": "ddb554cb-1d96-4f6b-ae1c-c9a076f8dbdc"
   },
   "source": [
    "### 9.3.3 Produccion"
   ]
  },
  {
   "cell_type": "markdown",
   "id": "316e697a-7f1e-4911-9a94-9d5f9f0ee22d",
   "metadata": {
    "id": "c39492c3-756f-47a5-8747-93ade8275306"
   },
   "source": [
    "#### Final Training\n",
    "Construyo el modelo final, que es uno solo, no hace ningun tipo de particion < training, validation, testing>]"
   ]
  },
  {
   "cell_type": "markdown",
   "id": "afe56471-42f7-4bcf-8332-7a06cae41afa",
   "metadata": {
    "id": "xhKi_G_sYQqq"
   },
   "source": [
    "##### Final Training Dataset\n",
    "\n",
    "Aqui esta la gran decision de en qué meses hago el Final Training\n",
    "<br> debo utilizar los mejores hiperparámetros que encontré en la optimización bayesiana"
   ]
  },
  {
   "cell_type": "code",
   "execution_count": null,
   "id": "6686191d-a02f-4cfc-b730-0eb1939e1640",
   "metadata": {
    "id": "qyHfS_X0zd7o"
   },
   "outputs": [],
   "source": [
    "PARAM$trainingstrategy$final_train <- c(\n",
    "  201901, 201902, 201903, 201904, 201905, 201906,\n",
    "  201907, 201908, 201909, 201910, 201911, 201912,\n",
    "  202001, 202002, 202003, 202004, 202005, 202006,\n",
    "  202007, 202008, 202009, 202010, 202011, 202012,\n",
    "  202101, 202102, 202103, 202104, 202105, 202106,\n",
    "  202107\n",
    ")\n",
    "\n",
    "\n",
    "dataset[, fold_final_train := foto_mes %in% PARAM$trainingstrategy$final_train ]\n",
    "\n",
    "# creo el dfinal_train en formato  LightGBM\n",
    "dfinal_train <- lgb.Dataset(\n",
    "  data= data.matrix(dataset[fold_final_train == TRUE, campos_buenos, with= FALSE]),\n",
    "  label= dataset[fold_final_train == TRUE, clase01],\n",
    "  free_raw_data= TRUE\n",
    ")\n",
    "\n",
    "nrow( dfinal_train) # verifico el tamaño"
   ]
  },
  {
   "cell_type": "markdown",
   "id": "ff2c0673-66ef-458b-9e85-eab829c55f26",
   "metadata": {
    "id": "HATRyklxYUpT"
   },
   "source": [
    "##### Final Training Hyperparameters"
   ]
  },
  {
   "cell_type": "code",
   "execution_count": null,
   "id": "70cffdeb-1233-4127-b1f4-12107f2c6e45",
   "metadata": {
    "id": "d6b9f33c-e0a0-4ea6-8169-4a6180cc5d01"
   },
   "outputs": [],
   "source": [
    "# uno los parametros fijos y los mejores encontrados de los variables\n",
    "fijos <- copy(PARAM$lgbm$param_fijos)\n",
    "\n",
    "# quito lo que optimice en la Bayesian Optimization\n",
    "fijos$num_iterations <- NULL\n",
    "fijos$early_stopping_rounds <- NULL\n",
    "\n",
    "# agrego a los hiperparametros fijos los que encontre con la Bayesian Optimization\n",
    "param_final <- c(fijos, PARAM$out$lgbm$mejores_hiperparametros)"
   ]
  },
  {
   "cell_type": "markdown",
   "id": "6331ecb8-04c2-47d5-b2ee-a6d25015576a",
   "metadata": {
    "id": "05d3494f-0401-4f3e-9b69-f488a737879d"
   },
   "source": [
    "##### Training\n",
    "Genero el modelo final, siempre sobre TODOS los datos de  final_train, sin hacer ningun tipo de undersampling de la clase mayoritaria"
   ]
  },
  {
   "cell_type": "code",
   "execution_count": null,
   "id": "87f71d6b-857e-45da-88ee-26d89da1947c",
   "metadata": {
    "id": "fa239848-1c28-4ee5-984a-073903b4b279"
   },
   "outputs": [],
   "source": [
    "final_model <- lgb.train(\n",
    "  data= dfinal_train,\n",
    "  param= param_final,\n",
    "  verbose= -100\n",
    ")"
   ]
  },
  {
   "cell_type": "code",
   "execution_count": null,
   "id": "de17c24f-5be8-44f8-b3a1-fe1cd976fa8b",
   "metadata": {
    "id": "RC1ju-5MZN5s"
   },
   "outputs": [],
   "source": [
    "# grabo a disco el modelo en un formato para seres humanos ... ponele ...\n",
    "\n",
    "lgb.save(final_model, \"modelo.txt\")"
   ]
  },
  {
   "cell_type": "code",
   "execution_count": null,
   "id": "ede6386a-edb6-47c3-bb91-4ea1e889ecb3",
   "metadata": {
    "id": "VEpv4RYOZHTU"
   },
   "outputs": [],
   "source": [
    "# ahora imprimo la importancia de variables\n",
    "\n",
    "tb_importancia <- as.data.table(lgb.importance(final_model))\n",
    "archivo_importancia <- \"impo.txt\"\n",
    "\n",
    "fwrite( tb_importancia,\n",
    "  file= archivo_importancia,\n",
    "  sep= \"\\t\"\n",
    ")"
   ]
  },
  {
   "cell_type": "markdown",
   "id": "3ccfdf09-55e2-4d85-8e0a-46646e4637ec",
   "metadata": {
    "id": "7ea225b3-ce02-42e2-8330-b10ed250d172"
   },
   "source": [
    "#### Scoring"
   ]
  },
  {
   "cell_type": "markdown",
   "id": "a4c98746-db60-410d-8b75-89324dda8e61",
   "metadata": {
    "id": "164981bb-f4c1-4228-8bc9-32e58a383c05"
   },
   "source": [
    "Aplico el modelo final a los datos del futuro"
   ]
  },
  {
   "cell_type": "code",
   "execution_count": null,
   "id": "97f3d0b8-3013-4b7a-b310-2eafdb7b217e",
   "metadata": {
    "id": "eJ7RbT271v-R"
   },
   "outputs": [],
   "source": [
    "PARAM$trainingstrategy$future <- c(202109)\n",
    "\n",
    "dfuture <- dataset[ foto_mes %in% PARAM$trainingstrategy$future ]"
   ]
  },
  {
   "cell_type": "code",
   "execution_count": null,
   "id": "742c87f6-ea65-497f-a5dd-8639e1a6a79b",
   "metadata": {
    "id": "88ca61c8-fa24-4ce5-8be1-323aca018e8f"
   },
   "outputs": [],
   "source": [
    "# aplico final_model   a dfuture\n",
    "\n",
    "prediccion <- predict(\n",
    "  final_model,\n",
    "  data.matrix(dfuture[, campos_buenos, with= FALSE])\n",
    ")"
   ]
  },
  {
   "cell_type": "markdown",
   "id": "406ad8f8-2e3a-4585-a1fc-82cfcbe1bb6f",
   "metadata": {
    "id": "79u0ZvjJZblE"
   },
   "source": [
    "##### Tabla Prediccion"
   ]
  },
  {
   "cell_type": "code",
   "execution_count": null,
   "id": "6f8ff0d2-e27c-48f3-abd4-18ac5cd43606",
   "metadata": {
    "id": "TB6aerGDZeTo"
   },
   "outputs": [],
   "source": [
    "tb_prediccion <- dfuture[, list(numero_de_cliente)]\n",
    "tb_prediccion[, prob := prediccion]\n",
    "\n",
    "# grabo las probabilidad del modelo\n",
    "#  me va a ser util para hacer Ensembles de modelos\n",
    "fwrite(tb_prediccion,\n",
    "  file= \"prediccion.txt\",\n",
    "  sep= \"\\t\"\n",
    ")"
   ]
  },
  {
   "cell_type": "markdown",
   "id": "1b110564-253f-4f3f-b57a-8c8028e7e52f",
   "metadata": {
    "id": "8412d838-5bd5-454e-b3a9-5eaa18d80a50"
   },
   "source": [
    "#### Kaggle Competition Submit"
   ]
  },
  {
   "cell_type": "markdown",
   "id": "44441c25-a82d-41bc-b94a-bf55d831f9aa",
   "metadata": {
    "id": "55970cb6-856a-46e3-a893-7f36b8352b8e"
   },
   "source": [
    "Genero las salidas y hago los submits a Kaggle"
   ]
  },
  {
   "cell_type": "code",
   "execution_count": null,
   "id": "ad368c47-a145-4453-9f2b-46871d5cf8c5",
   "metadata": {
    "id": "e5fa2439-b0e9-49e0-a861-71d7315d6e1c"
   },
   "outputs": [],
   "source": [
    "# genero archivos con los  \"envios\" mejores\n",
    "# suba TODOS los archivos a Kaggle\n",
    "\n",
    "PARAM$kaggle$competencia <- \"data-mining-analista-jr-2025-a\"\n",
    "PARAM$kaggle$cortes <- seq(1800, 2400, by = 100)\n",
    "\n",
    "# ordeno por probabilidad descendente\n",
    "setorder(tb_prediccion, -prob)\n",
    "\n",
    "dir.create(\"kaggle\")\n",
    "\n",
    "for (envios in PARAM$kaggle$cortes) {\n",
    "\n",
    "  tb_prediccion[, Predicted := 0L] # seteo inicial a 0\n",
    "  tb_prediccion[1:envios, Predicted := 1L] # marclo los primeros\n",
    "\n",
    "  archivo_kaggle <- paste0(\"./kaggle/KA\", PARAM$experimento, \"_\", envios, \".csv\")\n",
    "\n",
    "  # grabo el archivo\n",
    "  fwrite(tb_prediccion[, list(numero_de_cliente, Predicted)],\n",
    "    file= archivo_kaggle,\n",
    "    sep= \",\"\n",
    "  )\n",
    "\n",
    "  # subida a Kaggle, armo la linea de comando\n",
    "  comando <- \"kaggle competitions submit\"\n",
    "  competencia <- paste(\"-c\", PARAM$kaggle$competencia)\n",
    "  arch <- paste( \"-f\", archivo_kaggle)\n",
    "\n",
    "  mensaje <- paste0(\"-m 'envios=\", envios,\n",
    "  \"  semilla=\", PARAM$semilla_primigenia,\n",
    "    \"'\" )\n",
    "\n",
    "  linea <- paste( comando, competencia, arch, mensaje)\n",
    "\n",
    "  salida <- system(linea, intern=TRUE) # el submit a Kaggle\n",
    "  cat(salida, \"\\n\")\n",
    "}"
   ]
  },
  {
   "cell_type": "code",
   "execution_count": null,
   "id": "6b5abe4f-21e8-4f5c-ad67-36568604cc74",
   "metadata": {
    "id": "C94tK-xid6p2"
   },
   "outputs": [],
   "source": [
    "# grabo los parametros\n",
    "if( !require(\"yaml\")) install.packages(\"yaml\")\n",
    "require(\"yaml\")\n",
    "\n",
    "write_yaml( PARAM, file=\"PARAM.yml\")"
   ]
  },
  {
   "cell_type": "code",
   "execution_count": null,
   "id": "81f77965-14e2-4505-9245-67434d05f90c",
   "metadata": {
    "id": "1b615a62-20cc-4e95-9af2-6b6db38d5efb"
   },
   "outputs": [],
   "source": [
    "format(Sys.time(), \"%a %b %d %X %Y\")"
   ]
  },
  {
   "cell_type": "markdown",
   "id": "37b874c0-139a-4a2c-928a-a1f363307a63",
   "metadata": {
    "id": "859d38e7-11c0-48bc-978a-d0e907f19ed1"
   },
   "source": [
    "# 9 WorkFlow Analista Jr"
   ]
  },
  {
   "cell_type": "markdown",
   "id": "8f51b33d-6ca5-4bda-bd58-f8233b8da293",
   "metadata": {
    "id": "oSKhZRToy2F7"
   },
   "source": [
    "## 9.3  Workflow"
   ]
  },
  {
   "cell_type": "markdown",
   "id": "d832abef-1821-4899-883f-aa4b7abf00f8",
   "metadata": {
    "id": "85171302-a2d6-48cb-b9b2-8d839a276859"
   },
   "source": [
    "### Inicializacion"
   ]
  },
  {
   "cell_type": "code",
   "execution_count": null,
   "id": "2170cbf5-443a-432e-8b73-df260133c8e5",
   "metadata": {
    "id": "EL8wdHaUs59K"
   },
   "outputs": [],
   "source": [
    "format(Sys.time(), \"%a %b %d %X %Y\")"
   ]
  },
  {
   "cell_type": "code",
   "execution_count": null,
   "id": "2bb5de2e-47bf-4511-94fc-e0f417deeb57",
   "metadata": {
    "id": "1iE0U4_WCPRT"
   },
   "outputs": [],
   "source": [
    "# limpio la memoria\n",
    "rm(list=ls(all.names=TRUE)) # remove all objects\n",
    "gc(full=TRUE, verbose=FALSE) # garbage collection"
   ]
  },
  {
   "cell_type": "code",
   "execution_count": null,
   "id": "cc96ea74-b538-490d-b3fa-b5a769b20eee",
   "metadata": {
    "id": "atmIUEUNUrK5"
   },
   "outputs": [],
   "source": [
    "require(\"data.table\")\n",
    "\n",
    "if( !require(\"R.utils\")) install.packages(\"R.utils\")\n",
    "require(\"R.utils\")"
   ]
  },
  {
   "cell_type": "markdown",
   "id": "35cc1e2a-1cfe-46d7-8b33-09a4d7f4d977",
   "metadata": {
    "id": "BsxZ_ONyj9L_"
   },
   "source": [
    "#### Parametros"
   ]
  },
  {
   "cell_type": "code",
   "execution_count": 1,
   "id": "c58f365b-27c4-4ea0-a2e4-4f51337944fa",
   "metadata": {
    "id": "peRH7ySLCPRV"
   },
   "outputs": [],
   "source": [
    "PARAM <- list()\n",
    "PARAM$semilla_primigenia <- 700001\n",
    "\n",
    "PARAM$experimento <- '9100_og_3'\n",
    "PARAM$dataset <- \"analistajr_competencia_2025.csv.gz\""
   ]
  },
  {
   "cell_type": "markdown",
   "id": "8e47490c-3469-42ea-96cd-0c6afe3ba248",
   "metadata": {
    "id": "NoJbKo_4NG8A"
   },
   "source": [
    "#### Carpeta del Experimento"
   ]
  },
  {
   "cell_type": "code",
   "execution_count": null,
   "id": "f217a4c5-5687-4853-9cda-e0b8ae1b65ef",
   "metadata": {
    "id": "1gZD6ZMvCPRV"
   },
   "outputs": [],
   "source": [
    "# carpeta de trabajo\n",
    "\n",
    "setwd(\"/content/buckets/b1/exp\")\n",
    "experimento_folder <- paste0(\"WF\", PARAM$experimento)\n",
    "dir.create(experimento_folder, showWarnings=FALSE)\n",
    "setwd( paste0(\"/content/buckets/b1/exp/\", experimento_folder ))"
   ]
  },
  {
   "cell_type": "markdown",
   "id": "49054c5b-9f22-4835-b4bf-5cc2cb3974d8",
   "metadata": {
    "id": "YVKBfLtkR8SO"
   },
   "source": [
    "### 9.3.1   Preprocesamiento del dataset"
   ]
  },
  {
   "cell_type": "markdown",
   "id": "ef1c2064-5ab5-4423-bb25-1a4e0343cc4c",
   "metadata": {
    "id": "cr3K0RPVRjq6"
   },
   "source": [
    "#### 9.3.1.1  DT incorporar dataset"
   ]
  },
  {
   "cell_type": "code",
   "execution_count": null,
   "id": "44cb4021-fd5f-4c62-948a-c2cbbb2f471f",
   "metadata": {
    "id": "Xi0emX2ECPRV"
   },
   "outputs": [],
   "source": [
    "# lectura del dataset\n",
    "dataset <- fread(paste0(\"/content/datasets/\", PARAM$dataset))"
   ]
  },
  {
   "cell_type": "markdown",
   "id": "2d027cb4-972d-47d6-8e90-116c0e8976be",
   "metadata": {
    "id": "MWuPzK3nSLY3"
   },
   "source": [
    "#### 9.3.1.2  CA  Catastrophe Analysis\n",
    "Se intentan reparar las variables que para un mes están con todos los valores en cero."
   ]
  },
  {
   "cell_type": "markdown",
   "id": "9bf4f399-9b26-4f9e-9fe3-2ac7234201cf",
   "metadata": {
    "id": "UAI16-yCVcBS"
   },
   "source": [
    "El método que se utiliza es **Machine Learning** se asigna NA also valores, si ha leido bien, es la \"anti imputación de valores faltantes\"\n",
    "<br> Usted podrá aplicar aquí otros métodos"
   ]
  },
  {
   "cell_type": "code",
   "execution_count": null,
   "id": "d0d92390-8d20-4e2d-9a29-206be3a44f26",
   "metadata": {
    "id": "JB9nRyNKNBzy"
   },
   "outputs": [],
   "source": [
    "if( !require(\"mice\")) install.packages(\"mice\", repos = \"http://cran.us.r-project.org\")\n",
    "require(\"mice\")"
   ]
  },
  {
   "cell_type": "code",
   "execution_count": null,
   "id": "138f7094-992d-433f-80cb-3f53737b6e5b",
   "metadata": {
    "id": "QuraTbvTMmpf"
   },
   "outputs": [],
   "source": [
    "# Escrito por alumnos de  Universidad Austral  Rosario\n",
    "\n",
    "Corregir_MICE <- function(pcampo, pmeses) {\n",
    "\n",
    "  meth <- rep(\"\", ncol(dataset))\n",
    "  names(meth) <- colnames(dataset)\n",
    "  meth[names(meth) == pcampo] <- \"sample\"\n",
    "\n",
    "  # llamada a mice  !\n",
    "  imputacion <- mice(dataset,\n",
    "    method = meth,\n",
    "    maxit = 5,\n",
    "    m = 1,\n",
    "    seed = 7)\n",
    "\n",
    "  tbl <- mice::complete(dataset)\n",
    "\n",
    "  dataset[, paste0(pcampo) := ifelse(foto_mes %in% pmeses, tbl[, get(pcampo)], get(pcampo))]\n",
    "\n",
    "}\n"
   ]
  },
  {
   "cell_type": "code",
   "execution_count": null,
   "id": "6ad55aa8-f508-4833-9db8-68c3ef946a52",
   "metadata": {
    "id": "mUDX04VTJz3M"
   },
   "outputs": [],
   "source": [
    "Corregir_interpolar <- function(pcampo, pmeses) {\n",
    "\n",
    "  tbl <- dataset[, list(\n",
    "    \"v1\" = shift(get(pcampo), 1, type = \"lag\"),\n",
    "    \"v2\" = shift(get(pcampo), 1, type = \"lead\")\n",
    "  ),\n",
    "  by = eval(envg$PARAM$dataset_metadata$entity_id)\n",
    "  ]\n",
    "\n",
    "  tbl[, paste0(envg$PARAM$dataset_metadata$entity_id) := NULL]\n",
    "  tbl[, promedio := rowMeans(tbl, na.rm = TRUE)]\n",
    "\n",
    "  dataset[\n",
    "    ,\n",
    "    paste0(pcampo) := ifelse(!(foto_mes %in% pmeses),\n",
    "      get(pcampo),\n",
    "      tbl$promedio\n",
    "    )\n",
    "  ]\n",
    "}"
   ]
  },
  {
   "cell_type": "code",
   "execution_count": null,
   "id": "2bece30e-bcb3-4710-af03-7a12088c4a87",
   "metadata": {
    "id": "Yyt2YmrbJ1zf"
   },
   "outputs": [],
   "source": [
    "AsignarNA_campomeses <- function(pcampo, pmeses) {\n",
    "\n",
    "  if( pcampo %in% colnames( dataset ) ) {\n",
    "\n",
    "    dataset[ foto_mes %in% pmeses, paste0(pcampo) := NA ]\n",
    "  }\n",
    "}"
   ]
  },
  {
   "cell_type": "code",
   "execution_count": null,
   "id": "5e96a9b2-bad2-468b-ac91-44115f14b17f",
   "metadata": {
    "id": "aFBlFw7hJ4EW"
   },
   "outputs": [],
   "source": [
    "\n",
    "Corregir_atributo <- function(pcampo, pmeses, pmetodo)\n",
    "{\n",
    "  # si el campo no existe en el dataset, Afuera !\n",
    "  if( !(pcampo %in% colnames( dataset )) )\n",
    "    return( 1 )\n",
    "\n",
    "  # llamo a la funcion especializada que corresponde\n",
    "  switch( pmetodo,\n",
    "    \"MachineLearning\"     = AsignarNA_campomeses(pcampo, pmeses),\n",
    "    \"EstadisticaClasica\"  = Corregir_interpolar(pcampo, pmeses),\n",
    "    \"MICE\"                = Corregir_MICE(pcampo, pmeses),\n",
    "  )\n",
    "\n",
    "  return( 0 )\n",
    "}"
   ]
  },
  {
   "cell_type": "code",
   "execution_count": null,
   "id": "1c946897-8fce-4d3b-9221-021807bc4a7e",
   "metadata": {
    "id": "krkr3JCxJ9Px"
   },
   "outputs": [],
   "source": [
    "\n",
    "Corregir_Rotas <- function(dataset, pmetodo) {\n",
    "  gc(verbose= FALSE)\n",
    "  cat( \"inicio Corregir_Rotas()\\n\")\n",
    "  # acomodo los errores del dataset\n",
    "\n",
    "  Corregir_atributo(\"active_quarter\", c(202006), pmetodo) # 1\n",
    "  Corregir_atributo(\"internet\", c(202006), pmetodo) # 2\n",
    "\n",
    "  Corregir_atributo(\"mrentabilidad\", c(201905, 201910, 202006), pmetodo) # 3\n",
    "  Corregir_atributo(\"mrentabilidad_annual\", c(201905, 201910, 202006), pmetodo) # 4\n",
    "\n",
    "  Corregir_atributo(\"mcomisiones\", c(201905, 201910, 202006), pmetodo) # 5\n",
    "\n",
    "  Corregir_atributo(\"mactivos_margen\", c(201905, 201910, 202006), pmetodo) # 6\n",
    "  Corregir_atributo(\"mpasivos_margen\", c(201905, 201910, 202006), pmetodo) # 7\n",
    "\n",
    "  Corregir_atributo(\"mcuentas_saldo\", c(202006), pmetodo) # 8\n",
    "\n",
    "  Corregir_atributo(\"ctarjeta_debito_transacciones\", c(202006), pmetodo) # 9\n",
    "\n",
    "  Corregir_atributo(\"mautoservicio\", c(202006), pmetodo) # 10\n",
    "\n",
    "  Corregir_atributo(\"ctarjeta_visa_transacciones\", c(202006), pmetodo) # 11\n",
    "  Corregir_atributo(\"mtarjeta_visa_consumo\", c(202006), pmetodo) # 12\n",
    "\n",
    "  Corregir_atributo(\"ctarjeta_master_transacciones\", c(202006), pmetodo) # 13\n",
    "  Corregir_atributo(\"mtarjeta_master_consumo\", c(202006), pmetodo) # 14\n",
    "\n",
    "  Corregir_atributo(\"ctarjeta_visa_debitos_automaticos\", c(201904), pmetodo) # 15\n",
    "  Corregir_atributo(\"mttarjeta_visa_debitos_automaticos\", c(201904), pmetodo) # 16\n",
    "\n",
    "  Corregir_atributo(\"ccajeros_propios_descuentos\",\n",
    "    c(201910, 202002, 202006, 202009, 202010, 202102), pmetodo) # 17\n",
    "\n",
    "  Corregir_atributo(\"mcajeros_propios_descuentos\",\n",
    "    c(201910, 202002, 202006, 202009, 202010, 202102), pmetodo) # 18\n",
    "\n",
    "  Corregir_atributo(\"ctarjeta_visa_descuentos\",\n",
    "    c(201910, 202002, 202006, 202009, 202010, 202102), pmetodo) # 19\n",
    "\n",
    "  Corregir_atributo(\"mtarjeta_visa_descuentos\",\n",
    "    c(201910, 202002, 202006, 202009, 202010, 202102), pmetodo) # 20\n",
    "\n",
    "  Corregir_atributo(\"ctarjeta_master_descuentos\",\n",
    "    c(201910, 202002, 202006, 202009, 202010, 202102), pmetodo) # 21\n",
    "\n",
    "  Corregir_atributo(\"mtarjeta_master_descuentos\",\n",
    "    c(201910, 202002, 202006, 202009, 202010, 202102), pmetodo) # 22\n",
    "\n",
    "  Corregir_atributo(\"ccomisiones_otras\", c(201905, 201910, 202006), pmetodo) # 23\n",
    "  Corregir_atributo(\"mcomisiones_otras\", c(201905, 201910, 202006), pmetodo) # 24\n",
    "\n",
    "  Corregir_atributo(\"cextraccion_autoservicio\", c(202006), pmetodo) # 25\n",
    "  Corregir_atributo(\"mextraccion_autoservicio\", c(202006), pmetodo) # 26\n",
    "\n",
    "  Corregir_atributo(\"ccheques_depositados\", c(202006), pmetodo) # 27\n",
    "  Corregir_atributo(\"mcheques_depositados\", c(202006), pmetodo) # 28\n",
    "  Corregir_atributo(\"ccheques_emitidos\", c(202006), pmetodo) # 29\n",
    "  Corregir_atributo(\"mcheques_emitidos\", c(202006), pmetodo) # 30\n",
    "  Corregir_atributo(\"ccheques_depositados_rechazados\", c(202006), pmetodo) # 31\n",
    "  Corregir_atributo(\"mcheques_depositados_rechazados\", c(202006), pmetodo) # 32\n",
    "  Corregir_atributo(\"ccheques_emitidos_rechazados\", c(202006), pmetodo) # 33\n",
    "  Corregir_atributo(\"mcheques_emitidos_rechazados\", c(202006), pmetodo) # 34\n",
    "\n",
    "  Corregir_atributo(\"tcallcenter\", c(202006), pmetodo) # 35\n",
    "  Corregir_atributo(\"ccallcenter_transacciones\", c(202006), pmetodo) # 36\n",
    "\n",
    "  Corregir_atributo(\"thomebanking\", c(202006), pmetodo) # 37\n",
    "  Corregir_atributo(\"chomebanking_transacciones\", c(201910, 202006), pmetodo) # 38\n",
    "\n",
    "  Corregir_atributo(\"ccajas_transacciones\", c(202006), pmetodo) # 39\n",
    "  Corregir_atributo(\"ccajas_consultas\", c(202006), pmetodo) # 40\n",
    "\n",
    "  Corregir_atributo(\"ccajas_depositos\", c(202006, 202105), pmetodo) # 41\n",
    "\n",
    "  Corregir_atributo(\"ccajas_extracciones\", c(202006), pmetodo) # 41\n",
    "  Corregir_atributo(\"ccajas_otras\", c(202006), pmetodo) # 43\n",
    "\n",
    "  Corregir_atributo(\"catm_trx\", c(202006), pmetodo) # 44\n",
    "  Corregir_atributo(\"matm\", c(202006), pmetodo) # 45\n",
    "  Corregir_atributo(\"catm_trx_other\", c(202006), pmetodo) # 46\n",
    "  Corregir_atributo(\"matm_other\", c(202006), pmetodo) # 47\n",
    "\n",
    "  cat( \"fin Corregir_rotas()\\n\")\n",
    "}\n"
   ]
  },
  {
   "cell_type": "code",
   "execution_count": null,
   "id": "0703541d-d186-4c3f-9c68-8d4bafb3343f",
   "metadata": {
    "id": "HaW4TeBIMxTn"
   },
   "outputs": [],
   "source": [
    "# resuelvo el Catastrophe Analysis\n",
    "\n",
    "setorder( dataset, numero_de_cliente, foto_mes )\n",
    "\n",
    "PARAM$CA$metodo= \"MachineLearning\"\n",
    "\n",
    "if( PARAM$CA$metodo %in% c(\"MachineLearning\", \"EstadisticaClasica\", \"MICE\") )\n",
    "  Corregir_Rotas(dataset, PARAM$CA$metodo)"
   ]
  },
  {
   "cell_type": "markdown",
   "id": "569abd41-fb5f-4258-98d9-cd39c8f27f00",
   "metadata": {
    "id": "-4NiANYFSYHG"
   },
   "source": [
    "#### 9.3.1.3  DR  Data Drifting\n",
    "Se intenta corregir el data drifting, ajustando por algunos indices financieros"
   ]
  },
  {
   "cell_type": "code",
   "execution_count": null,
   "id": "9e97d592-4eeb-47a4-9cb5-1d25741a1973",
   "metadata": {
    "id": "XXPLxqc1ShLN"
   },
   "outputs": [],
   "source": [
    "# meses que me interesan para el ajuste de variables monetarias\n",
    "vfoto_mes <- c(\n",
    "  201901, 201902, 201903, 201904, 201905, 201906,\n",
    "  201907, 201908, 201909, 201910, 201911, 201912,\n",
    "  202001, 202002, 202003, 202004, 202005, 202006,\n",
    "  202007, 202008, 202009, 202010, 202011, 202012,\n",
    "  202101, 202102, 202103, 202104, 202105, 202106,\n",
    "  202107, 202108, 202109\n",
    ")\n"
   ]
  },
  {
   "cell_type": "code",
   "execution_count": null,
   "id": "195de8d8-7a21-472c-96a4-370a284cc690",
   "metadata": {
    "id": "sjjUe3waSh8D"
   },
   "outputs": [],
   "source": [
    "# los valores que siguen fueron calculados por alumnos\n",
    "\n",
    "# momento 1.0  31-dic-2020 a las 23:59\n",
    "vIPC <- c(\n",
    "  1.9903030878, 1.9174403544, 1.8296186587,\n",
    "  1.7728862972, 1.7212488323, 1.6776304408,\n",
    "  1.6431248196, 1.5814483345, 1.4947526791,\n",
    "  1.4484037589, 1.3913580777, 1.3404220402,\n",
    "  1.3154288912, 1.2921698342, 1.2472681797,\n",
    "  1.2300475145, 1.2118694724, 1.1881073259,\n",
    "  1.1693969743, 1.1375456949, 1.1065619600,\n",
    "  1.0681100000, 1.0370000000, 1.0000000000,\n",
    "  0.9680542110, 0.9344152616, 0.8882274350,\n",
    "  0.8532444140, 0.8251880213, 0.8003763543,\n",
    "  0.7763107219, 0.7566381305, 0.7289384687\n",
    ")\n",
    "\n",
    "vdolar_blue <- c(\n",
    "   39.045455,  38.402500,  41.639474,\n",
    "   44.274737,  46.095455,  45.063333,\n",
    "   43.983333,  54.842857,  61.059524,\n",
    "   65.545455,  66.750000,  72.368421,\n",
    "   77.477273,  78.191667,  82.434211,\n",
    "  101.087500, 126.236842, 125.857143,\n",
    "  130.782609, 133.400000, 137.954545,\n",
    "  170.619048, 160.400000, 153.052632,\n",
    "  157.900000, 149.380952, 143.615385,\n",
    "  146.250000, 153.550000, 162.000000,\n",
    "  178.478261, 180.878788, 184.357143\n",
    ")\n",
    "\n",
    "vdolar_oficial <- c(\n",
    "   38.430000,  39.428000,  42.542105,\n",
    "   44.354211,  46.088636,  44.955000,\n",
    "   43.751429,  54.650476,  58.790000,\n",
    "   61.403182,  63.012632,  63.011579,\n",
    "   62.983636,  63.580556,  65.200000,\n",
    "   67.872000,  70.047895,  72.520952,\n",
    "   75.324286,  77.488500,  79.430909,\n",
    "   83.134762,  85.484737,  88.181667,\n",
    "   91.474000,  93.997778,  96.635909,\n",
    "   98.526000,  99.613158, 100.619048,\n",
    "  101.619048, 102.569048, 103.781818\n",
    ")\n",
    "\n",
    "vUVA <- c(\n",
    "  2.001408838932958,  1.950325472789153,  1.89323032351521,\n",
    "  1.8247220405493787, 1.746027787673673,  1.6871348409529485,\n",
    "  1.6361678865622313, 1.5927529755859773, 1.5549162794128493,\n",
    "  1.4949100586391746, 1.4197729500774545, 1.3678188186372326,\n",
    "  1.3136508617223726, 1.2690535173062818, 1.2381595983200178,\n",
    "  1.211656735577568,  1.1770808941405335, 1.1570338657445522,\n",
    "  1.1388769475653255, 1.1156993751209352, 1.093638313080772,\n",
    "  1.0657171590878205, 1.0362173587708712, 1.0,\n",
    "  0.9669867858358365, 0.9323750098728378, 0.8958202912590305,\n",
    "  0.8631993702994263, 0.8253893405524657, 0.7928918905364516,\n",
    "  0.7666323845128089, 0.7428976357662823, 0.721615762047849\n",
    ")\n"
   ]
  },
  {
   "cell_type": "code",
   "execution_count": null,
   "id": "c10b5b22-ce2b-4df5-a5a6-c85e15f3870b",
   "metadata": {
    "id": "RSF9i9nyWwKs"
   },
   "outputs": [],
   "source": [
    "tb_indices <- as.data.table( list(\n",
    "  \"IPC\" = vIPC,\n",
    "  \"dolar_blue\" = vdolar_blue,\n",
    "  \"dolar_oficial\" = vdolar_oficial,\n",
    "  \"UVA\" = vUVA\n",
    "  )\n",
    ")\n",
    "\n",
    "tb_indices[[ 'foto_mes' ]] <- vfoto_mes\n",
    "\n",
    "tb_indices"
   ]
  },
  {
   "cell_type": "code",
   "execution_count": null,
   "id": "28a8d9be-26a1-4103-93ad-4a79ae53c2dd",
   "metadata": {
    "id": "oq2zlvpkSmAU"
   },
   "outputs": [],
   "source": [
    "drift_UVA <- function(campos_monetarios) {\n",
    "  cat( \"inicio drift_UVA()\\n\")\n",
    "\n",
    "  dataset[tb_indices,\n",
    "    on = c(\"foto_mes\"),\n",
    "    (campos_monetarios) := .SD * i.UVA,\n",
    "    .SDcols = campos_monetarios\n",
    "  ]\n",
    "\n",
    "  cat( \"fin drift_UVA()\\n\")\n",
    "}\n"
   ]
  },
  {
   "cell_type": "code",
   "execution_count": null,
   "id": "56ef426c-f75c-4503-bd84-196708de09d2",
   "metadata": {
    "id": "h2QbqSn8Sojj"
   },
   "outputs": [],
   "source": [
    "drift_dolar_oficial <- function(campos_monetarios) {\n",
    "  cat( \"inicio drift_dolar_oficial()\\n\")\n",
    "\n",
    "  dataset[tb_indices,\n",
    "    on = c(\"foto_mes\"),\n",
    "    (campos_monetarios) := .SD / i.dolar_oficial,\n",
    "    .SDcols = campos_monetarios\n",
    "  ]\n",
    "\n",
    "  cat( \"fin drift_dolar_oficial()\\n\")\n",
    "}\n"
   ]
  },
  {
   "cell_type": "code",
   "execution_count": null,
   "id": "029a67d7-e1e6-4d87-827a-98b4e854b17d",
   "metadata": {
    "id": "DMTgpq9VSqqM"
   },
   "outputs": [],
   "source": [
    "drift_dolar_blue <- function(campos_monetarios) {\n",
    "  cat( \"inicio drift_dolar_blue()\\n\")\n",
    "\n",
    "  dataset[tb_indices,\n",
    "    on = c(\"foto_mes\"),\n",
    "    (campos_monetarios) := .SD / i.dolar_blue,\n",
    "    .SDcols = campos_monetarios\n",
    "  ]\n",
    "\n",
    "  cat( \"fin drift_dolar_blue()\\n\")\n",
    "}\n"
   ]
  },
  {
   "cell_type": "code",
   "execution_count": null,
   "id": "64c98f07-b25c-4acd-9834-dc08a42d57ec",
   "metadata": {
    "id": "7n171_BoStAj"
   },
   "outputs": [],
   "source": [
    "drift_deflacion <- function(campos_monetarios) {\n",
    "  cat( \"inicio drift_deflacion()\\n\")\n",
    "\n",
    "  dataset[tb_indices,\n",
    "    on = c(\"foto_mes\"),\n",
    "    (campos_monetarios) := .SD * i.IPC,\n",
    "    .SDcols = campos_monetarios\n",
    "  ]\n",
    "\n",
    "  cat( \"fin drift_deflacion()\\n\")\n",
    "}\n"
   ]
  },
  {
   "cell_type": "code",
   "execution_count": null,
   "id": "6b9d9830-0018-4b79-a17a-159bd9df371f",
   "metadata": {
    "id": "Z94UizNySv0m"
   },
   "outputs": [],
   "source": [
    "drift_rank_simple <- function(campos_drift) {\n",
    "\n",
    "  cat( \"inicio drift_rank_simple()\\n\")\n",
    "  for (campo in campos_drift)\n",
    "  {\n",
    "    cat(campo, \" \")\n",
    "    dataset[, paste0(campo, \"_rank\") :=\n",
    "      (frank(get(campo), ties.method = \"random\") - 1) / (.N - 1), by = list(foto_mes)]\n",
    "    dataset[, (campo) := NULL]\n",
    "  }\n",
    "  cat( \"fin drift_rank_simple()\\n\")\n",
    "}\n"
   ]
  },
  {
   "cell_type": "code",
   "execution_count": null,
   "id": "d5dddff6-abfb-4fb2-b84b-ef6d8f26cf16",
   "metadata": {
    "id": "GnbUIXeWSyQm"
   },
   "outputs": [],
   "source": [
    "# El cero se transforma en cero\n",
    "# los positivos se rankean por su lado\n",
    "# los negativos se rankean por su lado\n",
    "\n",
    "drift_rank_cero_fijo <- function(campos_drift) {\n",
    "\n",
    "  cat( \"inicio drift_rank_cero_fijo()\\n\")\n",
    "  for (campo in campos_drift)\n",
    "  {\n",
    "    cat(campo, \" \")\n",
    "    dataset[get(campo) == 0, paste0(campo, \"_rank\") := 0]\n",
    "    dataset[get(campo) > 0, paste0(campo, \"_rank\") :=\n",
    "      frank(get(campo), ties.method = \"random\") / .N, by = list(foto_mes)]\n",
    "\n",
    "    dataset[get(campo) < 0, paste0(campo, \"_rank\") :=\n",
    "      -frank(-get(campo), ties.method = \"random\") / .N, by = list(foto_mes)]\n",
    "    dataset[, (campo) := NULL]\n",
    "  }\n",
    "  cat(\"\\n\")\n",
    "  cat( \"fin drift_rank_cero_fijo()\\n\")\n",
    "}\n"
   ]
  },
  {
   "cell_type": "code",
   "execution_count": null,
   "id": "55e0eb1d-3746-4b08-953c-67ce58ceb49b",
   "metadata": {
    "id": "dhlyk-WxS040"
   },
   "outputs": [],
   "source": [
    "drift_estandarizar <- function(campos_drift) {\n",
    "\n",
    "  cat( \"inicio drift_estandarizar()\\n\")\n",
    "  for (campo in campos_drift)\n",
    "  {\n",
    "    cat(campo, \" \")\n",
    "    dataset[, paste0(campo, \"_normal\") :=\n",
    "      (get(campo) -mean(campo, na.rm=TRUE)) / sd(get(campo), na.rm=TRUE),\n",
    "      by = list(foto_mes)]\n",
    "\n",
    "    dataset[, (campo) := NULL]\n",
    "  }\n",
    "  cat( \"fin drift_estandarizar()\\n\")\n",
    "}\n"
   ]
  },
  {
   "cell_type": "code",
   "execution_count": null,
   "id": "27376957-bfd5-47a1-8104-b74bc88cee64",
   "metadata": {
    "id": "tlJjlN6PVanz"
   },
   "outputs": [],
   "source": [
    "# por como armé los nombres de campos,\n",
    "#  estos son los campos que expresan variables monetarias\n",
    "campos_monetarios <- colnames(dataset)\n",
    "campos_monetarios <- campos_monetarios[campos_monetarios %like%\n",
    "  \"^(m|Visa_m|Master_m|vm_m)\"]\n",
    "\n",
    "campos_monetarios"
   ]
  },
  {
   "cell_type": "code",
   "execution_count": null,
   "id": "b5084de1-76d9-406f-8d6c-61437ba925c8",
   "metadata": {
    "id": "G_8BH82XS3uV"
   },
   "outputs": [],
   "source": [
    "# ejecuto el Data Drifting\n",
    "setorder( dataset, numero_de_cliente, foto_mes )\n",
    "\n",
    "\n",
    "PARAM$DR$metodo <- \"deflacion\"\n",
    "\n",
    "switch(PARAM$DR$metodo,\n",
    "  \"ninguno\"        = cat(\"No hay correccion del data drifting\"),\n",
    "  \"rank_simple\"    = drift_rank_simple(campos_monetarios),\n",
    "  \"rank_cero_fijo\" = drift_rank_cero_fijo(campos_monetarios),\n",
    "  \"deflacion\"      = drift_deflacion(campos_monetarios),\n",
    "  \"dolar_blue\"     = drift_dolarblue(campos_monetarios),\n",
    "  \"dolar_oficial\"  = drift_dolaroficial(campos_monetarios),\n",
    "  \"UVA\"            = drift_UVA(campos_monetarios),\n",
    "  \"estandarizar\"   = drift_estandarizar(campos_monetarios)\n",
    ")\n"
   ]
  },
  {
   "cell_type": "code",
   "execution_count": null,
   "id": "ad24545c-2fed-4ab2-9e1e-260844f81649",
   "metadata": {
    "id": "-efBawbTWPKc"
   },
   "outputs": [],
   "source": [
    "colnames(dataset)"
   ]
  },
  {
   "cell_type": "markdown",
   "id": "1e602cda-ef11-4cd0-b741-c5f6c8e019d3",
   "metadata": {
    "id": "rZ11c9KcFoAp"
   },
   "source": []
  },
  {
   "cell_type": "code",
   "execution_count": null,
   "id": "09c6cad6-f36f-4f42-85e8-0078b4125095",
   "metadata": {
    "id": "L85A2lwKSe3k"
   },
   "outputs": [],
   "source": [
    "# se intenta corregir el data drifting utilizando algunos indices financieros"
   ]
  },
  {
   "cell_type": "markdown",
   "id": "1138e718-8743-4c91-8365-c749f30e1480",
   "metadata": {
    "id": "7sppIDYeSn5X"
   },
   "source": [
    "#### 9.3.1.3  FE_intra_manual Feature Engineering intra-mes\n",
    "\n",
    "Agrego campos nuevos dentro del mismo mes, SIN considerar la historia."
   ]
  },
  {
   "cell_type": "code",
   "execution_count": null,
   "id": "0201ecc9-0878-4f9f-b8f0-319f5b5de05c",
   "metadata": {
    "id": "qrqf3j3_St3p"
   },
   "outputs": [],
   "source": [
    "# esta funcion atributos presentes existe debido a que las modalidades poseen datasets con distinta cantidad de campos\n",
    "atributos_presentes <- function( patributos )\n",
    "{\n",
    "  atributos <- unique( patributos )\n",
    "  comun <- intersect( atributos, colnames(dataset) )\n",
    "\n",
    "  return(  length( atributos ) == length( comun ) )\n",
    "}\n",
    "\n",
    "# el mes 1,2, ..12\n",
    "if( atributos_presentes( c(\"foto_mes\") ))\n",
    "  dataset[, kmes := foto_mes %% 100]\n",
    "\n",
    "# variable extraida de una tesis de maestria de Irlanda\n",
    "if( atributos_presentes( c(\"mpayroll\", \"cliente_edad\") ))\n",
    "  dataset[, mpayroll_sobre_edad := mpayroll / cliente_edad]\n"
   ]
  },
  {
   "cell_type": "code",
   "execution_count": null,
   "id": "e47945b5-715c-44a2-89b4-6c7811e88270",
   "metadata": {
    "id": "iC4viwOdY5Kp"
   },
   "outputs": [],
   "source": [
    "# visualizo las columas del dataset a esta etapa\n",
    "colnames(dataset)"
   ]
  },
  {
   "cell_type": "markdown",
   "id": "26c070a0-3764-46f9-84b0-e3ccabfffe78",
   "metadata": {
    "id": "9682b4ca-3ab3-4bbc-a36a-b185361e6b6b"
   },
   "source": [
    "#### 9.3.1.4  FE_rf Feature Engineering de nuevas variables a partir de hojas de Random Forest"
   ]
  },
  {
   "cell_type": "code",
   "execution_count": null,
   "id": "523213f2-c6b0-401f-bb4a-a42b37f22b21",
   "metadata": {
    "id": "Vd09ZaybfUeK"
   },
   "outputs": [],
   "source": [
    "if( !require(\"lightgbm\")) install.packages(\"lightgbm\")\n",
    "require(\"lightgbm\")"
   ]
  },
  {
   "cell_type": "code",
   "execution_count": null,
   "id": "87c00df6-b518-4928-8140-e041366d4250",
   "metadata": {
    "id": "JrsaXcQqcefM"
   },
   "outputs": [],
   "source": [
    "AgregaVarRandomForest <- function() {\n",
    "\n",
    "  cat( \"inicio AgregaVarRandomForest()\\n\")\n",
    "  gc(verbose= FALSE)\n",
    "  dataset[, clase01 := 0L ]\n",
    "  dataset[ clase_ternaria %in% PARAM$FE_rf$train$clase01_valor1,\n",
    "      clase01 := 1L ]\n",
    "\n",
    "  campos_buenos <- setdiff(\n",
    "    colnames(dataset),\n",
    "    c( \"clase_ternaria\", \"clase01\")\n",
    "  )\n",
    "\n",
    "  dataset[, entrenamiento :=\n",
    "    as.integer( foto_mes %in% PARAM$FE_rf$train$training )]\n",
    "\n",
    "  dtrain <- lgb.Dataset(\n",
    "    data = data.matrix(dataset[entrenamiento == TRUE, campos_buenos, with = FALSE]),\n",
    "    label = dataset[entrenamiento == TRUE, clase01],\n",
    "    free_raw_data = FALSE\n",
    "  )\n",
    "\n",
    "  modelo <- lgb.train(\n",
    "     data = dtrain,\n",
    "     param = PARAM$FE_rf$lgb_param,\n",
    "     verbose = -100\n",
    "  )\n",
    "\n",
    "  cat( \"Fin construccion RandomForest\\n\" )\n",
    "  # grabo el modelo, achivo .model\n",
    "  lgb.save(modelo, file=\"modelo.model\" )\n",
    "\n",
    "  qarbolitos <- copy(PARAM$FE_rf$lgb_param$num_iterations)\n",
    "\n",
    "  periodos <- dataset[ , unique( foto_mes ) ]\n",
    "\n",
    "  for( periodo in  periodos )\n",
    "  {\n",
    "    cat( \"periodo = \", periodo, \"\\n\" )\n",
    "    datamatrix <- data.matrix(dataset[ foto_mes== periodo, campos_buenos, with = FALSE])\n",
    "\n",
    "    cat( \"Inicio prediccion\\n\" )\n",
    "    prediccion <- predict(\n",
    "        modelo,\n",
    "        datamatrix,\n",
    "        type = \"leaf\"\n",
    "    )\n",
    "    cat( \"Fin prediccion\\n\" )\n",
    "\n",
    "    for( arbolito in 1:qarbolitos )\n",
    "    {\n",
    "       cat( arbolito, \" \" )\n",
    "       hojas_arbol <- unique(prediccion[ , arbolito])\n",
    "\n",
    "       for (pos in 1:length(hojas_arbol)) {\n",
    "         # el numero de nodo de la hoja, estan salteados\n",
    "         nodo_id <- hojas_arbol[pos]\n",
    "         dataset[ foto_mes== periodo, paste0(\n",
    "            \"rf_\", sprintf(\"%03d\", arbolito),\n",
    "             \"_\", sprintf(\"%03d\", nodo_id)\n",
    "          ) :=  as.integer( nodo_id == prediccion[ , arbolito]) ]\n",
    "\n",
    "       }\n",
    "\n",
    "       rm( hojas_arbol )\n",
    "    }\n",
    "    cat( \"\\n\" )\n",
    "\n",
    "    rm( prediccion )\n",
    "    rm( datamatrix )\n",
    "    gc(verbose= FALSE)\n",
    "  }\n",
    "\n",
    "  gc(verbose= FALSE)\n",
    "\n",
    "  # borro clase01 , no debe ensuciar el dataset\n",
    "  dataset[ , clase01 := NULL ]\n",
    "\n",
    "}\n"
   ]
  },
  {
   "cell_type": "code",
   "execution_count": null,
   "id": "cb389d0f-eb24-4437-84db-c9effa85559d",
   "metadata": {
    "id": "i6vcLtXldMpz"
   },
   "outputs": [],
   "source": [
    "# Parametros de Feature Engineering  a partir de hojas de Random Forest\n",
    "\n",
    "# Estos CUATRO parametros son los que se deben modificar\n",
    "PARAM$FE_rf$arbolitos= 20\n",
    "PARAM$FE_rf$hojas_por_arbol= 16\n",
    "PARAM$FE_rf$datos_por_hoja= 100\n",
    "PARAM$FE_rf$mtry_ratio= 0.2\n",
    "\n",
    "# Estos son quasi fijos\n",
    "PARAM$FE_rf$train$clase01_valor1 <- c( \"BAJA+2\", \"BAJA+1\")\n",
    "PARAM$FE_rf$train$training <- c( 202101, 202102, 202103)\n",
    "\n",
    "# Estos TAMBIEN son quasi fijos\n",
    "PARAM$FE_rf$lgb_param <-list(\n",
    "    # parametros que se pueden cambiar\n",
    "    num_iterations = PARAM$FE_rf$arbolitos,\n",
    "    num_leaves  = PARAM$FE_rf$hojas_por_arbol,\n",
    "    min_data_in_leaf = PARAM$FE_rf$datos_por_hoja,\n",
    "    feature_fraction_bynode  = PARAM$FE_rf$mtry_ratio,\n",
    "\n",
    "    # para que LightGBM emule Random Forest\n",
    "    boosting = \"rf\",\n",
    "    bagging_fraction = ( 1.0 - 1.0/exp(1.0) ),\n",
    "    bagging_freq = 1.0,\n",
    "    feature_fraction = 1.0,\n",
    "\n",
    "    # genericos de LightGBM\n",
    "    max_bin = 31L,\n",
    "    objective = \"binary\",\n",
    "    first_metric_only = TRUE,\n",
    "    boost_from_average = TRUE,\n",
    "    feature_pre_filter = FALSE,\n",
    "    force_row_wise = TRUE,\n",
    "    verbosity = -100,\n",
    "    max_depth = -1L,\n",
    "    min_gain_to_split = 0.0,\n",
    "    min_sum_hessian_in_leaf = 0.001,\n",
    "    lambda_l1 = 0.0,\n",
    "    lambda_l2 = 0.0,\n",
    "\n",
    "    pos_bagging_fraction = 1.0,\n",
    "    neg_bagging_fraction = 1.0,\n",
    "    is_unbalance = FALSE,\n",
    "    scale_pos_weight = 1.0,\n",
    "\n",
    "    drop_rate = 0.1,\n",
    "    max_drop = 50,\n",
    "    skip_drop = 0.5,\n",
    "\n",
    "    extra_trees = FALSE\n",
    "  )"
   ]
  },
  {
   "cell_type": "code",
   "execution_count": null,
   "id": "1864a303-6cfe-4288-9b33-1a7a137e61a8",
   "metadata": {
    "id": "GTTj4VdBezcE"
   },
   "outputs": [],
   "source": [
    "# Feature Engineering agregando variables de Random Forest\n",
    "AgregaVarRandomForest()"
   ]
  },
  {
   "cell_type": "code",
   "execution_count": null,
   "id": "94b2fa01-af74-443d-a386-da74fdd53068",
   "metadata": {
    "id": "bs2vXYFuiXGu"
   },
   "outputs": [],
   "source": [
    "ncol(dataset)\n",
    "colnames(dataset)"
   ]
  },
  {
   "cell_type": "code",
   "execution_count": null,
   "id": "c8972391-99b5-4818-9f8b-7e2fa3041f8a",
   "metadata": {
    "id": "ljA3h0jOcciP"
   },
   "outputs": [],
   "source": [
    "# No se implementa Feature Engineering a partir de Random Forest"
   ]
  },
  {
   "cell_type": "markdown",
   "id": "5f7b6dbd-09f8-4018-b0a4-d6cf2c32598a",
   "metadata": {
    "id": "XaRBjQj8ZRUZ"
   },
   "source": [
    "#### 9.3.1.5  FEhist Feature Engineering historico\n",
    "\n",
    "El Fature Engineering Histórico es la etapa que más aporta a la ganancia final, ya que enriquece cada registro del dataset con su historia."
   ]
  },
  {
   "cell_type": "markdown",
   "id": "0890e5be-44b7-4ef0-bd4a-cf8d767bb0ba",
   "metadata": {
    "id": "cfe3b8cf-0707-4512-92e7-c1407bb3f73b"
   },
   "source": [
    "Para cada campo del dataset original (*)\n",
    "se crean lo siguientes campos de a partir de la historia\n",
    "* lag1  lags de orden 1\n",
    "* delta1  =  valor actual - lag1\n",
    "* lag2  lags de orden 2\n",
    "* delta2  = valor actual - lag2\n",
    "\n",
    "\n",
    "(*) Excepto para los campos  <numero_de_cliente,  foto_mes,  clase_ternaria>"
   ]
  },
  {
   "cell_type": "code",
   "execution_count": null,
   "id": "80d6f870-0259-46bf-b34d-85046ab02706",
   "metadata": {
    "id": "7850b948-827d-4a2a-b4d3-a5e459b47c11"
   },
   "outputs": [],
   "source": [
    "# Feature Engineering Historico\n",
    "\n",
    "# todo es lagueable, menos la primary key y la clase\n",
    "cols_lagueables <- copy( setdiff(\n",
    "    colnames(dataset),\n",
    "    c(\"numero_de_cliente\", \"foto_mes\", \"clase_ternaria\")\n",
    ") )\n",
    "\n",
    "# https://rdrr.io/cran/data.table/man/shift.html\n",
    "\n",
    "# lags de orden 1\n",
    "dataset[,\n",
    "    paste0(cols_lagueables, \"_lag1\") := shift(.SD, 1, NA, \"lag\"),\n",
    "    by = numero_de_cliente,\n",
    "    .SDcols = cols_lagueables\n",
    "]\n",
    "\n",
    "# lags de orden 2\n",
    "dataset[,\n",
    "    paste0(cols_lagueables, \"_lag2\") := shift(.SD, 2, NA, \"lag\"),\n",
    "    by = numero_de_cliente,\n",
    "    .SDcols = cols_lagueables\n",
    "]\n",
    "\n",
    "# agrego los delta lags\n",
    "for (vcol in cols_lagueables)\n",
    "{\n",
    "    dataset[, paste0(vcol, \"_delta1\") := get(vcol) - get(paste0(vcol, \"_lag1\"))]\n",
    "    dataset[, paste0(vcol, \"_delta2\") := get(vcol) - get(paste0(vcol, \"_lag2\"))]\n",
    "}\n"
   ]
  },
  {
   "cell_type": "markdown",
   "id": "0d8f62fa-02f7-4709-a44c-a00c14661bff",
   "metadata": {
    "id": "cea690d9-ece9-4852-a5e2-f337c31b6721"
   },
   "source": [
    "Verificacion de los campos recien creados"
   ]
  },
  {
   "cell_type": "code",
   "execution_count": null,
   "id": "ff1838b2-1a59-49a3-bb12-8260a639ceff",
   "metadata": {
    "id": "f772896b-595a-47d4-8905-c15304ac9452"
   },
   "outputs": [],
   "source": [
    "ncol(dataset)\n",
    "colnames(dataset)"
   ]
  },
  {
   "cell_type": "markdown",
   "id": "86a50026-ca8c-4e78-adf5-b3c2fc546a73",
   "metadata": {
    "id": "l8mKij0XaDY0"
   },
   "source": [
    "#### 9.3.1.6  FEhist Reduccion dimensionalidad con canaritos\n",
    "\n",
    "Esta etapa solo se mostrará a la *modalidad Anlista Sr* por algun canal secreto de forma de no confundir a los *Analista Jr*  nni distraer con detalles operativos a la estratégica *Modalidad Gerencial*"
   ]
  },
  {
   "cell_type": "code",
   "execution_count": null,
   "id": "5fe560e8-e62b-45a3-a647-920be18e6635",
   "metadata": {
    "id": "QrmnPtlBcEgx"
   },
   "outputs": [],
   "source": [
    "# No se implementa la reduccion de la dimensionalidad con canaritos"
   ]
  },
  {
   "cell_type": "markdown",
   "id": "1de411b4-ac37-470e-8092-c942f9d0dd0d",
   "metadata": {
    "id": "cf91ea5e-3341-4afb-8d05-cc4923d3d1e1"
   },
   "source": [
    "### 9.3.2 Modelado"
   ]
  },
  {
   "cell_type": "markdown",
   "id": "b60eb284-3403-4665-82ff-1bb76c17ef2e",
   "metadata": {
    "id": "526048e4-8cf2-4023-bd2d-a70e4e9ff157"
   },
   "source": [
    "#### 9.3.2.1 Training Strategy"
   ]
  },
  {
   "cell_type": "markdown",
   "id": "5f998552-2a74-48a7-8a14-6c813e6515bc",
   "metadata": {
    "id": "f16bc1c1-b3ea-43ca-9d3c-53f8f9ab8ec1"
   },
   "source": [
    "Se hace una estrategia de entrenamiento muy sencilla, tomando todos los meses posibles, SIN eliminar nada x pandemia ni por ningun otro motivo\n",
    "\n",
    "* future = 202109  obviamente completo\n",
    "\n",
    "* final_train =  [ 201901, 202107 ]  SIN undersampling\n",
    "\n",
    "* training\n",
    "   * testing = NO HAY\n",
    "   * validation =  202107   completo, sin undersampling\n",
    "   * training = [ 201901, 202105 ]  donde se consideran el 100% de los CONTINUA"
   ]
  },
  {
   "cell_type": "code",
   "execution_count": null,
   "id": "22eafe1b-e459-48ea-b598-3042ed3e5095",
   "metadata": {
    "id": "2c9c0a42-ba58-4264-8566-091a6161716f"
   },
   "outputs": [],
   "source": [
    "PARAM$trainingstrategy$validate <- c(202107)\n",
    "\n",
    "PARAM$trainingstrategy$training <- c(\n",
    "  201901, 201902, 201903, 201904, 201905, 201906,\n",
    "  201907, 201908, 201909, 201910, 201911, 201912,\n",
    "  202001, 202002, 202003, 202004, 202005, 202006,\n",
    "  202007, 202008, 202009, 202010, 202011, 202012,\n",
    "  202101, 202102, 202103, 202104, 202105\n",
    ")\n",
    "\n",
    "\n",
    "PARAM$trainingstrategy$training_pct <- 1.0\n",
    "\n",
    "\n",
    "PARAM$trainingstrategy$positivos <- c( \"BAJA+1\", \"BAJA+2\")"
   ]
  },
  {
   "cell_type": "code",
   "execution_count": null,
   "id": "9c7fea06-712b-4e91-83cd-f19a593d5a18",
   "metadata": {
    "id": "tv_trHWAj4a8"
   },
   "outputs": [],
   "source": [
    "# seteo la clase01   1={BAJA+1, BAJA+2}   0={CONTINUA}\n",
    "dataset[, clase01 := ifelse( clase_ternaria %in% PARAM$trainingstrategy$positivos, 1, 0 )]"
   ]
  },
  {
   "cell_type": "code",
   "execution_count": null,
   "id": "c1804ed9-138b-45c8-b3a3-548664ae307c",
   "metadata": {
    "id": "Ud_XDKSIj8f_"
   },
   "outputs": [],
   "source": [
    "# los campos en los que se entrena\n",
    "campos_buenos <- copy( setdiff(\n",
    "    colnames(dataset), c(\"clase_ternaria\",\"clase01\",\"azar\"))\n",
    ")"
   ]
  },
  {
   "cell_type": "code",
   "execution_count": null,
   "id": "eecd1566-e230-48d7-bc68-9218d7d8f13d",
   "metadata": {
    "id": "rFKgZZPSj_Pa"
   },
   "outputs": [],
   "source": [
    "# preparo para que se puede hacer undersampling de los CONTINUA\n",
    "#  solamente por un tema de VELOCIDAD\n",
    "set.seed(PARAM$semilla_primigenia, kind = \"L'Ecuyer-CMRG\")\n",
    "dataset[, azar:=runif(nrow(dataset))]\n",
    "\n",
    "# undersampling de los CONTINUA\n",
    "dataset[, fold_train :=  foto_mes %in%  PARAM$trainingstrategy$training &\n",
    "    (clase_ternaria %in% c(\"BAJA+1\", \"BAJA+2\") |\n",
    "     azar < PARAM$trainingstrategy$training_pct ) ]\n",
    "\n",
    "\n",
    "if( !require(\"lightgbm\")) install.packages(\"lightgbm\")\n",
    "require(\"lightgbm\")\n",
    "\n",
    "dtrain <- lgb.Dataset(\n",
    "  data= data.matrix(dataset[fold_train == TRUE, campos_buenos, with = FALSE]),\n",
    "  label= dataset[fold_train == TRUE, clase01],\n",
    "  free_raw_data= TRUE\n",
    ")"
   ]
  },
  {
   "cell_type": "code",
   "execution_count": null,
   "id": "e2fcc507-95bb-4d6c-bd3d-c34f3435973c",
   "metadata": {
    "id": "B3yo98kQkHcP"
   },
   "outputs": [],
   "source": [
    "# datos de validation\n",
    "dvalidate <- lgb.Dataset(\n",
    "  data= data.matrix(dataset[foto_mes %in% PARAM$trainingstrategy$validate, campos_buenos, with = FALSE]),\n",
    "  label= dataset[foto_mes %in% PARAM$trainingstrategy$validate, clase01],\n",
    "  free_raw_data= TRUE\n",
    ")\n",
    "\n",
    "nrow(dvalidate)"
   ]
  },
  {
   "cell_type": "markdown",
   "id": "1047d697-cf75-48f3-98f6-00d4ff5989c9",
   "metadata": {
    "id": "28e8f788-551c-4e50-9029-302ac0834287"
   },
   "source": [
    "####  9.3.2.2. Hyperparameter Tuning"
   ]
  },
  {
   "cell_type": "markdown",
   "id": "f9971501-f62e-4c37-aac7-97dda9d40a04",
   "metadata": {
    "id": "bf5fc836-e222-4aeb-a6a8-157346895ef7"
   },
   "source": [
    "* Clase binaria que se optimiza :  positivos = [ BAJA+1, BAJA+2 ]"
   ]
  },
  {
   "cell_type": "markdown",
   "id": "419ba306-b27b-44aa-8722-705aefa182a8",
   "metadata": {
    "id": "885c03b5-77bc-4510-a930-0d1f14b52ffb"
   },
   "source": [
    "* Metrica que se optimiza **AUC** Area Under Curve de la  ROC Curve\n",
    "\n",
    "es muy importante notar que intencionalmente  **NO** se está optimizando la funcion de ganancia del problema"
   ]
  },
  {
   "cell_type": "markdown",
   "id": "80aa4f5b-f21e-4124-acea-5b0160e9d3d0",
   "metadata": {
    "id": "b7e6f95c-66ef-4ab9-9ba3-fcc099816704"
   },
   "source": [
    "* Cantidad de iteraciones inteligentes de la Optimizacion Bayesiana = **10**"
   ]
  },
  {
   "cell_type": "markdown",
   "id": "409ba998-dd6d-4001-ba02-40e5385c564a",
   "metadata": {
    "id": "fe047a87-e2d0-4418-97dd-0a881e66d73a"
   },
   "source": [
    "* Parametros no default, fijos de LightGBM que no se optimizan\n",
    "  * max_bin = 31 , Alienigenas Ancestrales contruyeron las pirámides y dejaron a la humanidad en un jeroglifico  *max_bin=31*\n",
    "  * feature_fraction = 0.5  para poner algo que generalmente no falla\n",
    "  * learning_rate = 0.03  para que aprenda lento\n"
   ]
  },
  {
   "cell_type": "markdown",
   "id": "4e0a548e-3b15-4d90-b748-6ed55dab0c38",
   "metadata": {
    "id": "1e7da08e-fe57-4681-beff-11fe963116bd"
   },
   "source": [
    "* Parametros que se optimizan en la Bayesian Optimization\n",
    "  * num_leaves  [8, 256]\n",
    "  * min_data_in_leaf  [8, 8192]"
   ]
  },
  {
   "cell_type": "code",
   "execution_count": null,
   "id": "25a50a33-5096-445d-8f68-94e39b27aa78",
   "metadata": {
    "id": "34V6y4GetKq_"
   },
   "outputs": [],
   "source": [
    "# paquetes necesarios para la Bayesian Optimization\n",
    "if(!require(\"DiceKriging\")) install.packages(\"DiceKriging\")\n",
    "require(\"DiceKriging\")\n",
    "\n",
    "if(!require(\"mlrMBO\")) install.packages(\"mlrMBO\")\n",
    "require(\"mlrMBO\")"
   ]
  },
  {
   "cell_type": "markdown",
   "id": "682a2f90-a929-4403-8746-dfc1eb38dddf",
   "metadata": {
    "id": "UFbDSYtH0TTT"
   },
   "source": [
    "Definición de la Bayesian Optimization\n",
    "<br> Si se desea optimizar un hiperparámetro que esta como fijo, debe QUITARSE de param_fijos y agregarse a PARAM$hipeparametertuning$hs"
   ]
  },
  {
   "cell_type": "code",
   "execution_count": null,
   "id": "4111a9f5-e499-464f-9e08-fe97cca4a743",
   "metadata": {
    "id": "5Uag3XGHqrfZ"
   },
   "outputs": [],
   "source": [
    "# un Analista Jr  debe poder animarse a hacer 100 iteraciones\n",
    "PARAM$hipeparametertuning$num_interations <- 20\n",
    "\n",
    "# parametros fijos del LightGBM\n",
    "PARAM$lgbm$param_fijos <- list(\n",
    "  objective= \"binary\",\n",
    "  metric= \"auc\",\n",
    "  first_metric_only= TRUE,\n",
    "  boost_from_average= TRUE,\n",
    "  feature_pre_filter= FALSE,\n",
    "  verbosity= -100,\n",
    "  force_row_wise= TRUE, # para evitar warning\n",
    "  seed= PARAM$semilla_primigenia,\n",
    "  max_bin= 31,\n",
    "\n",
    "  num_iterations= 9999,  # valor grande, lo limita early_stopping_rounds\n",
    "  early_stopping_rounds= 400\n",
    ")\n",
    "\n",
    "PARAM$hipeparametertuning$hs <- makeParamSet(\n",
    "  makeIntegerParam(\"num_leaves\", lower= 2L, upper= 256L),\n",
    "  makeIntegerParam(\"min_data_in_leaf\", lower= 2L, upper= 8192L),\n",
    "  makeNumericParam(\"feature_fraction\", lower= 0.1, upper= 0.9),\n",
    "  makeNumericParam(\"learning_rate\", lower= 0.01, upper= 0.5)\n",
    ")"
   ]
  },
  {
   "cell_type": "markdown",
   "id": "4f11861f-e407-4ff6-b54d-49a1dd09f3cf",
   "metadata": {
    "id": "FEa1UuuAz4yj"
   },
   "source": [
    "Función \"señora caja negra\"  que es llamada para verificar la realidad por la Bayesian Optimization"
   ]
  },
  {
   "cell_type": "code",
   "execution_count": null,
   "id": "b9525c4d-2582-412f-9a23-bb35ddb80a0c",
   "metadata": {
    "id": "2c10f535-8d90-47d1-ac3d-9b4c24ec21d2"
   },
   "outputs": [],
   "source": [
    "# En  x llegan los parmaetros de la bayesiana\n",
    "#  devuelve la AUC en validate del modelo entrenado\n",
    "#  en el parametro x llegan los hiperparámetros que se estan optimizando\n",
    "\n",
    "EstimarGanancia_AUC_lightgbm <- function(x) {\n",
    "\n",
    "  # x pisa (o agrega) a param_fijos\n",
    "  param_completo <- modifyList(PARAM$lgbm$param_fijos, x)\n",
    "\n",
    "  # entreno LightGBM\n",
    "  modelo_train <- lgb.train(\n",
    "    data= dtrain,\n",
    "    valids= list(valid = dvalidate),\n",
    "    eval= \"auc\",\n",
    "    param= param_completo,\n",
    "    verbose= -100\n",
    "  )\n",
    "\n",
    "  # recupero la AUC en validation\n",
    "  AUC <- modelo_train$record_evals$valid$auc$eval[[modelo_train$best_iter]]\n",
    "\n",
    "  # esta es la forma de devolver un parametro extra\n",
    "  attr(AUC, \"extras\") <- list(\"num_iterations\"= modelo_train$best_iter)\n",
    "\n",
    "  # hago espacio en la memoria\n",
    "  rm(modelo_train)\n",
    "  gc(full= TRUE, verbose= FALSE)\n",
    "\n",
    "  message(format(Sys.time(), \"%a %b %d %X %Y\"), \" AUC \", AUC)\n",
    "\n",
    "  return(AUC)\n",
    "}"
   ]
  },
  {
   "cell_type": "markdown",
   "id": "11c8195c-bb4a-490d-9895-f092f5d679a7",
   "metadata": {
    "id": "267a35d4-adaf-4271-a875-3864111333b7"
   },
   "source": [
    "seteo de la Bayesian Optimization (complejo)\n",
    "<br> copiado y pegado de la documentación de la librería"
   ]
  },
  {
   "cell_type": "code",
   "execution_count": null,
   "id": "f15862ad-1625-4525-bc2c-82f9f08e3765",
   "metadata": {
    "id": "43c2a92d-1041-46b8-bff2-47297f209ed2"
   },
   "outputs": [],
   "source": [
    "configureMlr(show.learner.output = FALSE)\n",
    "\n",
    "# configuro la busqueda bayesiana,  los hiperparametros que se van a optimizar\n",
    "# por favor, no desesperarse por lo complejo\n",
    "obj.fun <- makeSingleObjectiveFunction(\n",
    "    fn= EstimarGanancia_AUC_lightgbm, # la funcion que voy a maximizar\n",
    "    minimize= FALSE, # estoy Maximizando AUC\n",
    "    noisy= FALSE,\n",
    "    par.set= PARAM$hipeparametertuning$hs,\n",
    "    has.simple.signature= FALSE # paso los parametros en una lista\n",
    ")\n",
    "\n",
    "# cada 600 segundos guardo el resultado intermedio\n",
    "ctrl <- makeMBOControl(\n",
    "    save.on.disk.at.time= 600,\n",
    "    save.file.path= \"HT.RDATA\"\n",
    ")\n",
    "\n",
    "# indico la cantidad de iteraciones que va a tener la Bayesian Optimization\n",
    "ctrl <- setMBOControlTermination(\n",
    "    ctrl,\n",
    "    iters= PARAM$hipeparametertuning$num_interations  # cantidad de iteraciones inteligentes\n",
    ")\n",
    "\n",
    "# defino el método estandar para la creacion de los puntos iniciales\n",
    "#   los \"No Inteligentes\"\n",
    "ctrl <- setMBOControlInfill(ctrl, crit = makeMBOInfillCritEI())\n",
    "\n",
    "# mas configuraciones\n",
    "surr.km <- makeLearner(\n",
    "    \"regr.km\",\n",
    "    predict.type= \"se\",\n",
    "    covtype= \"matern3_2\",\n",
    "    control= list(trace = TRUE)\n",
    ")"
   ]
  },
  {
   "cell_type": "markdown",
   "id": "91e7fdc3-6131-439a-acbd-d8f03ed028d2",
   "metadata": {
    "id": "6c1e5645-d26f-4923-a53f-f30471a4c4e8"
   },
   "source": [
    "Corrida de la Bayesian Optimization,  aqui se hace el trabajo pesado\n",
    "<br> por favor no se asuste con los warnings que pudieran aparecer\n",
    "\n",
    "Si corrío a medias y llegó a las iteraciones inteligentes, en el archivo binario HT.RDATA quedó lo ya procesado y es utilizado para retomar la corrida desde lo último que llegó a grabar."
   ]
  },
  {
   "cell_type": "code",
   "execution_count": null,
   "id": "18740766-8861-487c-a6cf-a194b64ad951",
   "metadata": {
    "id": "1f8cab3f-c7e2-4802-bfd1-5ad509922a4e",
    "scrolled": true
   },
   "outputs": [],
   "source": [
    "# inicio la optimizacion bayesiana\n",
    "\n",
    "if (!file.exists(\"HT.RDATA\")) {\n",
    "  bayesiana_salida <- mbo(obj.fun, learner= surr.km, control= ctrl)\n",
    "} else {\n",
    "  bayesiana_salida <- mboContinue(\"HT.RDATA\") # retomo en caso que ya exista\n",
    "}"
   ]
  },
  {
   "cell_type": "markdown",
   "id": "a3d07a39-b173-48e8-89a8-dec03c9c3b58",
   "metadata": {
    "id": "36307612-964f-4df3-907a-1bc3c095f178"
   },
   "source": [
    "la bayesian optimization ha corrido, extraigo los mejores hiperparametros"
   ]
  },
  {
   "cell_type": "code",
   "execution_count": null,
   "id": "b8886c74-f0e7-47f8-a7d5-180d2f61da23",
   "metadata": {
    "id": "8c061a2a-3341-4006-a154-c95bb6cfd407"
   },
   "outputs": [],
   "source": [
    "# almaceno los resultados de la Bayesian Optimization\n",
    "# y capturo los mejores hiperparametros encontrados\n",
    "\n",
    "tb_bayesiana <- as.data.table(bayesiana_salida$opt.path)\n",
    "\n",
    "# ordeno en forma descendente por AUC = y\n",
    "setorder(tb_bayesiana, -y, -num_iterations)\n",
    "\n",
    "# grabo para eventualmente poder utilizarlos en OTRA corrida\n",
    "fwrite( tb_bayesiana,\n",
    "  file=\"BO_log.txt\",\n",
    "  sep=\"\\t\"\n",
    ")\n",
    "\n",
    "# los mejores hiperparámetros son los que quedaron en el registro 1 de la tabla\n",
    "PARAM$out$lgbm$mejores_hiperparametros <- tb_bayesiana[\n",
    "  1, # el primero es el de mejor AUC\n",
    "  list(num_leaves, min_data_in_leaf, num_iterations)\n",
    "]\n",
    "\n",
    "print(PARAM$out$lgbm$mejores_hiperparametros)"
   ]
  },
  {
   "cell_type": "markdown",
   "id": "f54fb976-ba3f-4095-983d-c4e2ae48bc7f",
   "metadata": {
    "id": "ddb554cb-1d96-4f6b-ae1c-c9a076f8dbdc"
   },
   "source": [
    "### 9.3.3 Produccion"
   ]
  },
  {
   "cell_type": "markdown",
   "id": "279bffbe-8de9-4e1b-a747-3b6a0282b553",
   "metadata": {
    "id": "c39492c3-756f-47a5-8747-93ade8275306"
   },
   "source": [
    "#### Final Training\n",
    "Construyo el modelo final, que es uno solo, no hace ningun tipo de particion < training, validation, testing>]"
   ]
  },
  {
   "cell_type": "markdown",
   "id": "05fac9e8-5bf7-4e0e-ae06-c644c566acbe",
   "metadata": {
    "id": "xhKi_G_sYQqq"
   },
   "source": [
    "##### Final Training Dataset\n",
    "\n",
    "Aqui esta la gran decision de en qué meses hago el Final Training\n",
    "<br> debo utilizar los mejores hiperparámetros que encontré en la optimización bayesiana"
   ]
  },
  {
   "cell_type": "code",
   "execution_count": null,
   "id": "f28ffc6d-cf0e-42f5-b957-61b682c0cfcc",
   "metadata": {
    "id": "qyHfS_X0zd7o"
   },
   "outputs": [],
   "source": [
    "PARAM$trainingstrategy$final_train <- c(\n",
    "  201901, 201902, 201903, 201904, 201905, 201906,\n",
    "  201907, 201908, 201909, 201910, 201911, 201912,\n",
    "  202001, 202002, 202003, 202004, 202005, 202006,\n",
    "  202007, 202008, 202009, 202010, 202011, 202012,\n",
    "  202101, 202102, 202103, 202104, 202105, 202106,\n",
    "  202107\n",
    ")\n",
    "\n",
    "\n",
    "dataset[, fold_final_train := foto_mes %in% PARAM$trainingstrategy$final_train ]\n",
    "\n",
    "# creo el dfinal_train en formato  LightGBM\n",
    "dfinal_train <- lgb.Dataset(\n",
    "  data= data.matrix(dataset[fold_final_train == TRUE, campos_buenos, with= FALSE]),\n",
    "  label= dataset[fold_final_train == TRUE, clase01],\n",
    "  free_raw_data= TRUE\n",
    ")\n",
    "\n",
    "nrow( dfinal_train) # verifico el tamaño"
   ]
  },
  {
   "cell_type": "markdown",
   "id": "a41bb87d-d9d9-4aad-905f-6f445c151e33",
   "metadata": {
    "id": "HATRyklxYUpT"
   },
   "source": [
    "##### Final Training Hyperparameters"
   ]
  },
  {
   "cell_type": "code",
   "execution_count": null,
   "id": "9d26dff1-f407-4cdb-a4cb-e13bd66a9548",
   "metadata": {
    "id": "d6b9f33c-e0a0-4ea6-8169-4a6180cc5d01"
   },
   "outputs": [],
   "source": [
    "# uno los parametros fijos y los mejores encontrados de los variables\n",
    "fijos <- copy(PARAM$lgbm$param_fijos)\n",
    "\n",
    "# quito lo que optimice en la Bayesian Optimization\n",
    "fijos$num_iterations <- NULL\n",
    "fijos$early_stopping_rounds <- NULL\n",
    "\n",
    "# agrego a los hiperparametros fijos los que encontre con la Bayesian Optimization\n",
    "param_final <- c(fijos, PARAM$out$lgbm$mejores_hiperparametros)"
   ]
  },
  {
   "cell_type": "markdown",
   "id": "1e0925ea-0c80-4bb6-a172-269dba629090",
   "metadata": {
    "id": "05d3494f-0401-4f3e-9b69-f488a737879d"
   },
   "source": [
    "##### Training\n",
    "Genero el modelo final, siempre sobre TODOS los datos de  final_train, sin hacer ningun tipo de undersampling de la clase mayoritaria"
   ]
  },
  {
   "cell_type": "code",
   "execution_count": null,
   "id": "d0250f38-2520-48b5-8f75-9804c4ea8652",
   "metadata": {
    "id": "fa239848-1c28-4ee5-984a-073903b4b279"
   },
   "outputs": [],
   "source": [
    "final_model <- lgb.train(\n",
    "  data= dfinal_train,\n",
    "  param= param_final,\n",
    "  verbose= -100\n",
    ")"
   ]
  },
  {
   "cell_type": "code",
   "execution_count": null,
   "id": "f4530e94-17ba-4cd7-a6d1-79056e20ab95",
   "metadata": {
    "id": "RC1ju-5MZN5s"
   },
   "outputs": [],
   "source": [
    "# grabo a disco el modelo en un formato para seres humanos ... ponele ...\n",
    "\n",
    "lgb.save(final_model, \"modelo.txt\")"
   ]
  },
  {
   "cell_type": "code",
   "execution_count": null,
   "id": "3f7e3bc9-d10f-4bee-ba96-414e0a670f6b",
   "metadata": {
    "id": "VEpv4RYOZHTU"
   },
   "outputs": [],
   "source": [
    "# ahora imprimo la importancia de variables\n",
    "\n",
    "tb_importancia <- as.data.table(lgb.importance(final_model))\n",
    "archivo_importancia <- \"impo.txt\"\n",
    "\n",
    "fwrite( tb_importancia,\n",
    "  file= archivo_importancia,\n",
    "  sep= \"\\t\"\n",
    ")"
   ]
  },
  {
   "cell_type": "markdown",
   "id": "8f15114b-2917-47d1-b510-dc6f166f36c7",
   "metadata": {
    "id": "7ea225b3-ce02-42e2-8330-b10ed250d172"
   },
   "source": [
    "#### Scoring"
   ]
  },
  {
   "cell_type": "markdown",
   "id": "75061af2-b3f6-4bd4-b614-fe0f5177aa6e",
   "metadata": {
    "id": "164981bb-f4c1-4228-8bc9-32e58a383c05"
   },
   "source": [
    "Aplico el modelo final a los datos del futuro"
   ]
  },
  {
   "cell_type": "code",
   "execution_count": null,
   "id": "a47ff761-3431-47ba-a0b9-bf2a55a1d581",
   "metadata": {
    "id": "eJ7RbT271v-R"
   },
   "outputs": [],
   "source": [
    "PARAM$trainingstrategy$future <- c(202109)\n",
    "\n",
    "dfuture <- dataset[ foto_mes %in% PARAM$trainingstrategy$future ]"
   ]
  },
  {
   "cell_type": "code",
   "execution_count": null,
   "id": "ecda2c67-edf5-400d-b646-28fc939197d6",
   "metadata": {
    "id": "88ca61c8-fa24-4ce5-8be1-323aca018e8f"
   },
   "outputs": [],
   "source": [
    "# aplico final_model   a dfuture\n",
    "\n",
    "prediccion <- predict(\n",
    "  final_model,\n",
    "  data.matrix(dfuture[, campos_buenos, with= FALSE])\n",
    ")"
   ]
  },
  {
   "cell_type": "markdown",
   "id": "718548e1-a1c7-495e-b33b-f4aafa7f97af",
   "metadata": {
    "id": "79u0ZvjJZblE"
   },
   "source": [
    "##### Tabla Prediccion"
   ]
  },
  {
   "cell_type": "code",
   "execution_count": null,
   "id": "fa6941f7-0a22-4c65-bb68-75f80d2bd539",
   "metadata": {
    "id": "TB6aerGDZeTo"
   },
   "outputs": [],
   "source": [
    "tb_prediccion <- dfuture[, list(numero_de_cliente)]\n",
    "tb_prediccion[, prob := prediccion]\n",
    "\n",
    "# grabo las probabilidad del modelo\n",
    "#  me va a ser util para hacer Ensembles de modelos\n",
    "fwrite(tb_prediccion,\n",
    "  file= \"prediccion.txt\",\n",
    "  sep= \"\\t\"\n",
    ")"
   ]
  },
  {
   "cell_type": "markdown",
   "id": "96c51a22-d043-427f-9ac6-f1456d7f7f87",
   "metadata": {
    "id": "8412d838-5bd5-454e-b3a9-5eaa18d80a50"
   },
   "source": [
    "#### Kaggle Competition Submit"
   ]
  },
  {
   "cell_type": "markdown",
   "id": "2f643486-65a5-4d5c-971f-26ed5562294b",
   "metadata": {
    "id": "55970cb6-856a-46e3-a893-7f36b8352b8e"
   },
   "source": [
    "Genero las salidas y hago los submits a Kaggle"
   ]
  },
  {
   "cell_type": "code",
   "execution_count": null,
   "id": "4172e10b-0413-477b-a219-71b292fce629",
   "metadata": {
    "id": "e5fa2439-b0e9-49e0-a861-71d7315d6e1c"
   },
   "outputs": [],
   "source": [
    "# genero archivos con los  \"envios\" mejores\n",
    "# suba TODOS los archivos a Kaggle\n",
    "\n",
    "PARAM$kaggle$competencia <- \"data-mining-analista-jr-2025-a\"\n",
    "PARAM$kaggle$cortes <- seq(1800, 2400, by = 100)\n",
    "\n",
    "# ordeno por probabilidad descendente\n",
    "setorder(tb_prediccion, -prob)\n",
    "\n",
    "dir.create(\"kaggle\")\n",
    "\n",
    "for (envios in PARAM$kaggle$cortes) {\n",
    "\n",
    "  tb_prediccion[, Predicted := 0L] # seteo inicial a 0\n",
    "  tb_prediccion[1:envios, Predicted := 1L] # marclo los primeros\n",
    "\n",
    "  archivo_kaggle <- paste0(\"./kaggle/KA\", PARAM$experimento, \"_\", envios, \".csv\")\n",
    "\n",
    "  # grabo el archivo\n",
    "  fwrite(tb_prediccion[, list(numero_de_cliente, Predicted)],\n",
    "    file= archivo_kaggle,\n",
    "    sep= \",\"\n",
    "  )\n",
    "\n",
    "  # subida a Kaggle, armo la linea de comando\n",
    "  comando <- \"kaggle competitions submit\"\n",
    "  competencia <- paste(\"-c\", PARAM$kaggle$competencia)\n",
    "  arch <- paste( \"-f\", archivo_kaggle)\n",
    "\n",
    "  mensaje <- paste0(\"-m 'envios=\", envios,\n",
    "  \"  semilla=\", PARAM$semilla_primigenia,\n",
    "    \"'\" )\n",
    "\n",
    "  linea <- paste( comando, competencia, arch, mensaje)\n",
    "\n",
    "  salida <- system(linea, intern=TRUE) # el submit a Kaggle\n",
    "  cat(salida, \"\\n\")\n",
    "}"
   ]
  },
  {
   "cell_type": "code",
   "execution_count": null,
   "id": "39925df0-6fac-47cd-82c9-d6faa622ccb1",
   "metadata": {
    "id": "C94tK-xid6p2"
   },
   "outputs": [],
   "source": [
    "# grabo los parametros\n",
    "if( !require(\"yaml\")) install.packages(\"yaml\")\n",
    "require(\"yaml\")\n",
    "\n",
    "write_yaml( PARAM, file=\"PARAM.yml\")"
   ]
  },
  {
   "cell_type": "code",
   "execution_count": null,
   "id": "5c172c20-77be-4d76-a312-283ad3cfa26c",
   "metadata": {
    "id": "1b615a62-20cc-4e95-9af2-6b6db38d5efb"
   },
   "outputs": [],
   "source": [
    "format(Sys.time(), \"%a %b %d %X %Y\")"
   ]
  },
  {
   "cell_type": "markdown",
   "id": "5bed1ce4-19cf-4351-8623-13c0d0f5e0d4",
   "metadata": {
    "id": "859d38e7-11c0-48bc-978a-d0e907f19ed1"
   },
   "source": [
    "# 9 WorkFlow Analista Jr"
   ]
  },
  {
   "cell_type": "markdown",
   "id": "6c3f88a2-e506-4e66-89d4-ac8546b8c30d",
   "metadata": {
    "id": "oSKhZRToy2F7"
   },
   "source": [
    "## 9.3  Workflow"
   ]
  },
  {
   "cell_type": "markdown",
   "id": "f1c6a13e-2ebb-4c82-be3c-cb452a5d004a",
   "metadata": {
    "id": "85171302-a2d6-48cb-b9b2-8d839a276859"
   },
   "source": [
    "### Inicializacion"
   ]
  },
  {
   "cell_type": "code",
   "execution_count": null,
   "id": "16d5d422-79fe-4848-90a4-a930f30f9604",
   "metadata": {
    "id": "EL8wdHaUs59K"
   },
   "outputs": [],
   "source": [
    "format(Sys.time(), \"%a %b %d %X %Y\")"
   ]
  },
  {
   "cell_type": "code",
   "execution_count": null,
   "id": "245a9c12-5015-4c36-a1be-4ff714373825",
   "metadata": {
    "id": "1iE0U4_WCPRT"
   },
   "outputs": [],
   "source": [
    "# limpio la memoria\n",
    "rm(list=ls(all.names=TRUE)) # remove all objects\n",
    "gc(full=TRUE, verbose=FALSE) # garbage collection"
   ]
  },
  {
   "cell_type": "code",
   "execution_count": null,
   "id": "6bde15b5-9250-4adf-8525-d1de1f512f7a",
   "metadata": {
    "id": "atmIUEUNUrK5"
   },
   "outputs": [],
   "source": [
    "require(\"data.table\")\n",
    "\n",
    "if( !require(\"R.utils\")) install.packages(\"R.utils\")\n",
    "require(\"R.utils\")"
   ]
  },
  {
   "cell_type": "markdown",
   "id": "675c8a0d-f1ea-411f-a9fd-fc1c53a5653a",
   "metadata": {
    "id": "BsxZ_ONyj9L_"
   },
   "source": [
    "#### Parametros"
   ]
  },
  {
   "cell_type": "code",
   "execution_count": null,
   "id": "34cff2ae-7cdd-4d3a-a625-b5dace254890",
   "metadata": {
    "id": "peRH7ySLCPRV"
   },
   "outputs": [],
   "source": [
    "PARAM <- list()\n",
    "PARAM$semilla_primigenia <- 420691\n",
    "\n",
    "PARAM$experimento <- '9100_og_4'\n",
    "PARAM$dataset <- \"analistajr_competencia_2025.csv.gz\""
   ]
  },
  {
   "cell_type": "markdown",
   "id": "3c3056b6-93e2-42be-9769-9671ce1e8fd4",
   "metadata": {
    "id": "NoJbKo_4NG8A"
   },
   "source": [
    "#### Carpeta del Experimento"
   ]
  },
  {
   "cell_type": "code",
   "execution_count": null,
   "id": "ad1fe818-ff1a-4eaa-b025-74e1cd8307a5",
   "metadata": {
    "id": "1gZD6ZMvCPRV"
   },
   "outputs": [],
   "source": [
    "# carpeta de trabajo\n",
    "\n",
    "setwd(\"/content/buckets/b1/exp\")\n",
    "experimento_folder <- paste0(\"WF\", PARAM$experimento)\n",
    "dir.create(experimento_folder, showWarnings=FALSE)\n",
    "setwd( paste0(\"/content/buckets/b1/exp/\", experimento_folder ))"
   ]
  },
  {
   "cell_type": "markdown",
   "id": "2eb5ba8f-d913-4a4b-9294-d85b6e9b22e2",
   "metadata": {
    "id": "YVKBfLtkR8SO"
   },
   "source": [
    "### 9.3.1   Preprocesamiento del dataset"
   ]
  },
  {
   "cell_type": "markdown",
   "id": "1f595173-a280-415a-9b0f-71e1359325b4",
   "metadata": {
    "id": "cr3K0RPVRjq6"
   },
   "source": [
    "#### 9.3.1.1  DT incorporar dataset"
   ]
  },
  {
   "cell_type": "code",
   "execution_count": null,
   "id": "62759b8a-306f-4ca7-ac82-a4f7f37b9dec",
   "metadata": {
    "id": "Xi0emX2ECPRV"
   },
   "outputs": [],
   "source": [
    "# lectura del dataset\n",
    "dataset <- fread(paste0(\"/content/datasets/\", PARAM$dataset))"
   ]
  },
  {
   "cell_type": "markdown",
   "id": "b2319fcb-3c6b-49e5-9ff3-d16ff47679e3",
   "metadata": {
    "id": "MWuPzK3nSLY3"
   },
   "source": [
    "#### 9.3.1.2  CA  Catastrophe Analysis\n",
    "Se intentan reparar las variables que para un mes están con todos los valores en cero."
   ]
  },
  {
   "cell_type": "markdown",
   "id": "9a38779e-d06d-40f1-8705-30857300dd3b",
   "metadata": {
    "id": "UAI16-yCVcBS"
   },
   "source": [
    "El método que se utiliza es **Machine Learning** se asigna NA also valores, si ha leido bien, es la \"anti imputación de valores faltantes\"\n",
    "<br> Usted podrá aplicar aquí otros métodos"
   ]
  },
  {
   "cell_type": "code",
   "execution_count": null,
   "id": "3d30db42-a791-408b-9c4e-b22f7ca67057",
   "metadata": {
    "id": "JB9nRyNKNBzy"
   },
   "outputs": [],
   "source": [
    "if( !require(\"mice\")) install.packages(\"mice\", repos = \"http://cran.us.r-project.org\")\n",
    "require(\"mice\")"
   ]
  },
  {
   "cell_type": "code",
   "execution_count": null,
   "id": "c9a71a2b-1499-45a6-9f61-38663c45e558",
   "metadata": {
    "id": "QuraTbvTMmpf"
   },
   "outputs": [],
   "source": [
    "# Escrito por alumnos de  Universidad Austral  Rosario\n",
    "\n",
    "Corregir_MICE <- function(pcampo, pmeses) {\n",
    "\n",
    "  meth <- rep(\"\", ncol(dataset))\n",
    "  names(meth) <- colnames(dataset)\n",
    "  meth[names(meth) == pcampo] <- \"sample\"\n",
    "\n",
    "  # llamada a mice  !\n",
    "  imputacion <- mice(dataset,\n",
    "    method = meth,\n",
    "    maxit = 5,\n",
    "    m = 1,\n",
    "    seed = 7)\n",
    "\n",
    "  tbl <- mice::complete(dataset)\n",
    "\n",
    "  dataset[, paste0(pcampo) := ifelse(foto_mes %in% pmeses, tbl[, get(pcampo)], get(pcampo))]\n",
    "\n",
    "}\n"
   ]
  },
  {
   "cell_type": "code",
   "execution_count": null,
   "id": "8a4e16ab-12b5-4e1d-8239-a8e06102fe5e",
   "metadata": {
    "id": "mUDX04VTJz3M"
   },
   "outputs": [],
   "source": [
    "Corregir_interpolar <- function(pcampo, pmeses) {\n",
    "\n",
    "  tbl <- dataset[, list(\n",
    "    \"v1\" = shift(get(pcampo), 1, type = \"lag\"),\n",
    "    \"v2\" = shift(get(pcampo), 1, type = \"lead\")\n",
    "  ),\n",
    "  by = eval(envg$PARAM$dataset_metadata$entity_id)\n",
    "  ]\n",
    "\n",
    "  tbl[, paste0(envg$PARAM$dataset_metadata$entity_id) := NULL]\n",
    "  tbl[, promedio := rowMeans(tbl, na.rm = TRUE)]\n",
    "\n",
    "  dataset[\n",
    "    ,\n",
    "    paste0(pcampo) := ifelse(!(foto_mes %in% pmeses),\n",
    "      get(pcampo),\n",
    "      tbl$promedio\n",
    "    )\n",
    "  ]\n",
    "}"
   ]
  },
  {
   "cell_type": "code",
   "execution_count": null,
   "id": "65664589-b746-4ef2-bbba-9d3f610ff571",
   "metadata": {
    "id": "Yyt2YmrbJ1zf"
   },
   "outputs": [],
   "source": [
    "AsignarNA_campomeses <- function(pcampo, pmeses) {\n",
    "\n",
    "  if( pcampo %in% colnames( dataset ) ) {\n",
    "\n",
    "    dataset[ foto_mes %in% pmeses, paste0(pcampo) := NA ]\n",
    "  }\n",
    "}"
   ]
  },
  {
   "cell_type": "code",
   "execution_count": null,
   "id": "616ba0f2-9e3d-48fe-bbc7-9e942432a1e3",
   "metadata": {
    "id": "aFBlFw7hJ4EW"
   },
   "outputs": [],
   "source": [
    "\n",
    "Corregir_atributo <- function(pcampo, pmeses, pmetodo)\n",
    "{\n",
    "  # si el campo no existe en el dataset, Afuera !\n",
    "  if( !(pcampo %in% colnames( dataset )) )\n",
    "    return( 1 )\n",
    "\n",
    "  # llamo a la funcion especializada que corresponde\n",
    "  switch( pmetodo,\n",
    "    \"MachineLearning\"     = AsignarNA_campomeses(pcampo, pmeses),\n",
    "    \"EstadisticaClasica\"  = Corregir_interpolar(pcampo, pmeses),\n",
    "    \"MICE\"                = Corregir_MICE(pcampo, pmeses),\n",
    "  )\n",
    "\n",
    "  return( 0 )\n",
    "}"
   ]
  },
  {
   "cell_type": "code",
   "execution_count": null,
   "id": "1a4e2393-3d26-4250-8490-cf1d26a01235",
   "metadata": {
    "id": "krkr3JCxJ9Px"
   },
   "outputs": [],
   "source": [
    "\n",
    "Corregir_Rotas <- function(dataset, pmetodo) {\n",
    "  gc(verbose= FALSE)\n",
    "  cat( \"inicio Corregir_Rotas()\\n\")\n",
    "  # acomodo los errores del dataset\n",
    "\n",
    "  Corregir_atributo(\"active_quarter\", c(202006), pmetodo) # 1\n",
    "  Corregir_atributo(\"internet\", c(202006), pmetodo) # 2\n",
    "\n",
    "  Corregir_atributo(\"mrentabilidad\", c(201905, 201910, 202006), pmetodo) # 3\n",
    "  Corregir_atributo(\"mrentabilidad_annual\", c(201905, 201910, 202006), pmetodo) # 4\n",
    "\n",
    "  Corregir_atributo(\"mcomisiones\", c(201905, 201910, 202006), pmetodo) # 5\n",
    "\n",
    "  Corregir_atributo(\"mactivos_margen\", c(201905, 201910, 202006), pmetodo) # 6\n",
    "  Corregir_atributo(\"mpasivos_margen\", c(201905, 201910, 202006), pmetodo) # 7\n",
    "\n",
    "  Corregir_atributo(\"mcuentas_saldo\", c(202006), pmetodo) # 8\n",
    "\n",
    "  Corregir_atributo(\"ctarjeta_debito_transacciones\", c(202006), pmetodo) # 9\n",
    "\n",
    "  Corregir_atributo(\"mautoservicio\", c(202006), pmetodo) # 10\n",
    "\n",
    "  Corregir_atributo(\"ctarjeta_visa_transacciones\", c(202006), pmetodo) # 11\n",
    "  Corregir_atributo(\"mtarjeta_visa_consumo\", c(202006), pmetodo) # 12\n",
    "\n",
    "  Corregir_atributo(\"ctarjeta_master_transacciones\", c(202006), pmetodo) # 13\n",
    "  Corregir_atributo(\"mtarjeta_master_consumo\", c(202006), pmetodo) # 14\n",
    "\n",
    "  Corregir_atributo(\"ctarjeta_visa_debitos_automaticos\", c(201904), pmetodo) # 15\n",
    "  Corregir_atributo(\"mttarjeta_visa_debitos_automaticos\", c(201904), pmetodo) # 16\n",
    "\n",
    "  Corregir_atributo(\"ccajeros_propios_descuentos\",\n",
    "    c(201910, 202002, 202006, 202009, 202010, 202102), pmetodo) # 17\n",
    "\n",
    "  Corregir_atributo(\"mcajeros_propios_descuentos\",\n",
    "    c(201910, 202002, 202006, 202009, 202010, 202102), pmetodo) # 18\n",
    "\n",
    "  Corregir_atributo(\"ctarjeta_visa_descuentos\",\n",
    "    c(201910, 202002, 202006, 202009, 202010, 202102), pmetodo) # 19\n",
    "\n",
    "  Corregir_atributo(\"mtarjeta_visa_descuentos\",\n",
    "    c(201910, 202002, 202006, 202009, 202010, 202102), pmetodo) # 20\n",
    "\n",
    "  Corregir_atributo(\"ctarjeta_master_descuentos\",\n",
    "    c(201910, 202002, 202006, 202009, 202010, 202102), pmetodo) # 21\n",
    "\n",
    "  Corregir_atributo(\"mtarjeta_master_descuentos\",\n",
    "    c(201910, 202002, 202006, 202009, 202010, 202102), pmetodo) # 22\n",
    "\n",
    "  Corregir_atributo(\"ccomisiones_otras\", c(201905, 201910, 202006), pmetodo) # 23\n",
    "  Corregir_atributo(\"mcomisiones_otras\", c(201905, 201910, 202006), pmetodo) # 24\n",
    "\n",
    "  Corregir_atributo(\"cextraccion_autoservicio\", c(202006), pmetodo) # 25\n",
    "  Corregir_atributo(\"mextraccion_autoservicio\", c(202006), pmetodo) # 26\n",
    "\n",
    "  Corregir_atributo(\"ccheques_depositados\", c(202006), pmetodo) # 27\n",
    "  Corregir_atributo(\"mcheques_depositados\", c(202006), pmetodo) # 28\n",
    "  Corregir_atributo(\"ccheques_emitidos\", c(202006), pmetodo) # 29\n",
    "  Corregir_atributo(\"mcheques_emitidos\", c(202006), pmetodo) # 30\n",
    "  Corregir_atributo(\"ccheques_depositados_rechazados\", c(202006), pmetodo) # 31\n",
    "  Corregir_atributo(\"mcheques_depositados_rechazados\", c(202006), pmetodo) # 32\n",
    "  Corregir_atributo(\"ccheques_emitidos_rechazados\", c(202006), pmetodo) # 33\n",
    "  Corregir_atributo(\"mcheques_emitidos_rechazados\", c(202006), pmetodo) # 34\n",
    "\n",
    "  Corregir_atributo(\"tcallcenter\", c(202006), pmetodo) # 35\n",
    "  Corregir_atributo(\"ccallcenter_transacciones\", c(202006), pmetodo) # 36\n",
    "\n",
    "  Corregir_atributo(\"thomebanking\", c(202006), pmetodo) # 37\n",
    "  Corregir_atributo(\"chomebanking_transacciones\", c(201910, 202006), pmetodo) # 38\n",
    "\n",
    "  Corregir_atributo(\"ccajas_transacciones\", c(202006), pmetodo) # 39\n",
    "  Corregir_atributo(\"ccajas_consultas\", c(202006), pmetodo) # 40\n",
    "\n",
    "  Corregir_atributo(\"ccajas_depositos\", c(202006, 202105), pmetodo) # 41\n",
    "\n",
    "  Corregir_atributo(\"ccajas_extracciones\", c(202006), pmetodo) # 41\n",
    "  Corregir_atributo(\"ccajas_otras\", c(202006), pmetodo) # 43\n",
    "\n",
    "  Corregir_atributo(\"catm_trx\", c(202006), pmetodo) # 44\n",
    "  Corregir_atributo(\"matm\", c(202006), pmetodo) # 45\n",
    "  Corregir_atributo(\"catm_trx_other\", c(202006), pmetodo) # 46\n",
    "  Corregir_atributo(\"matm_other\", c(202006), pmetodo) # 47\n",
    "\n",
    "  cat( \"fin Corregir_rotas()\\n\")\n",
    "}\n"
   ]
  },
  {
   "cell_type": "code",
   "execution_count": null,
   "id": "21d09f9b-0986-44ba-888c-ca8b45c69856",
   "metadata": {
    "id": "HaW4TeBIMxTn"
   },
   "outputs": [],
   "source": [
    "# resuelvo el Catastrophe Analysis\n",
    "\n",
    "setorder( dataset, numero_de_cliente, foto_mes )\n",
    "\n",
    "PARAM$CA$metodo= \"MachineLearning\"\n",
    "\n",
    "if( PARAM$CA$metodo %in% c(\"MachineLearning\", \"EstadisticaClasica\", \"MICE\") )\n",
    "  Corregir_Rotas(dataset, PARAM$CA$metodo)"
   ]
  },
  {
   "cell_type": "markdown",
   "id": "8895a236-bf50-4f18-bacd-f4ba6787fc79",
   "metadata": {
    "id": "-4NiANYFSYHG"
   },
   "source": [
    "#### 9.3.1.3  DR  Data Drifting\n",
    "Se intenta corregir el data drifting, ajustando por algunos indices financieros"
   ]
  },
  {
   "cell_type": "code",
   "execution_count": null,
   "id": "c7b8574c-b628-41bc-a394-9a885bcdae0a",
   "metadata": {
    "id": "XXPLxqc1ShLN"
   },
   "outputs": [],
   "source": [
    "# meses que me interesan para el ajuste de variables monetarias\n",
    "vfoto_mes <- c(\n",
    "  201901, 201902, 201903, 201904, 201905, 201906,\n",
    "  201907, 201908, 201909, 201910, 201911, 201912,\n",
    "  202001, 202002, 202003, 202004, 202005, 202006,\n",
    "  202007, 202008, 202009, 202010, 202011, 202012,\n",
    "  202101, 202102, 202103, 202104, 202105, 202106,\n",
    "  202107, 202108, 202109\n",
    ")\n"
   ]
  },
  {
   "cell_type": "code",
   "execution_count": null,
   "id": "76e9740d-0230-42f4-82dd-cbf4f7d26813",
   "metadata": {
    "id": "sjjUe3waSh8D"
   },
   "outputs": [],
   "source": [
    "# los valores que siguen fueron calculados por alumnos\n",
    "\n",
    "# momento 1.0  31-dic-2020 a las 23:59\n",
    "vIPC <- c(\n",
    "  1.9903030878, 1.9174403544, 1.8296186587,\n",
    "  1.7728862972, 1.7212488323, 1.6776304408,\n",
    "  1.6431248196, 1.5814483345, 1.4947526791,\n",
    "  1.4484037589, 1.3913580777, 1.3404220402,\n",
    "  1.3154288912, 1.2921698342, 1.2472681797,\n",
    "  1.2300475145, 1.2118694724, 1.1881073259,\n",
    "  1.1693969743, 1.1375456949, 1.1065619600,\n",
    "  1.0681100000, 1.0370000000, 1.0000000000,\n",
    "  0.9680542110, 0.9344152616, 0.8882274350,\n",
    "  0.8532444140, 0.8251880213, 0.8003763543,\n",
    "  0.7763107219, 0.7566381305, 0.7289384687\n",
    ")\n",
    "\n",
    "vdolar_blue <- c(\n",
    "   39.045455,  38.402500,  41.639474,\n",
    "   44.274737,  46.095455,  45.063333,\n",
    "   43.983333,  54.842857,  61.059524,\n",
    "   65.545455,  66.750000,  72.368421,\n",
    "   77.477273,  78.191667,  82.434211,\n",
    "  101.087500, 126.236842, 125.857143,\n",
    "  130.782609, 133.400000, 137.954545,\n",
    "  170.619048, 160.400000, 153.052632,\n",
    "  157.900000, 149.380952, 143.615385,\n",
    "  146.250000, 153.550000, 162.000000,\n",
    "  178.478261, 180.878788, 184.357143\n",
    ")\n",
    "\n",
    "vdolar_oficial <- c(\n",
    "   38.430000,  39.428000,  42.542105,\n",
    "   44.354211,  46.088636,  44.955000,\n",
    "   43.751429,  54.650476,  58.790000,\n",
    "   61.403182,  63.012632,  63.011579,\n",
    "   62.983636,  63.580556,  65.200000,\n",
    "   67.872000,  70.047895,  72.520952,\n",
    "   75.324286,  77.488500,  79.430909,\n",
    "   83.134762,  85.484737,  88.181667,\n",
    "   91.474000,  93.997778,  96.635909,\n",
    "   98.526000,  99.613158, 100.619048,\n",
    "  101.619048, 102.569048, 103.781818\n",
    ")\n",
    "\n",
    "vUVA <- c(\n",
    "  2.001408838932958,  1.950325472789153,  1.89323032351521,\n",
    "  1.8247220405493787, 1.746027787673673,  1.6871348409529485,\n",
    "  1.6361678865622313, 1.5927529755859773, 1.5549162794128493,\n",
    "  1.4949100586391746, 1.4197729500774545, 1.3678188186372326,\n",
    "  1.3136508617223726, 1.2690535173062818, 1.2381595983200178,\n",
    "  1.211656735577568,  1.1770808941405335, 1.1570338657445522,\n",
    "  1.1388769475653255, 1.1156993751209352, 1.093638313080772,\n",
    "  1.0657171590878205, 1.0362173587708712, 1.0,\n",
    "  0.9669867858358365, 0.9323750098728378, 0.8958202912590305,\n",
    "  0.8631993702994263, 0.8253893405524657, 0.7928918905364516,\n",
    "  0.7666323845128089, 0.7428976357662823, 0.721615762047849\n",
    ")\n"
   ]
  },
  {
   "cell_type": "code",
   "execution_count": null,
   "id": "6c1d7b7b-dac4-499b-a4a7-cd0b6dc7e121",
   "metadata": {
    "id": "RSF9i9nyWwKs"
   },
   "outputs": [],
   "source": [
    "tb_indices <- as.data.table( list(\n",
    "  \"IPC\" = vIPC,\n",
    "  \"dolar_blue\" = vdolar_blue,\n",
    "  \"dolar_oficial\" = vdolar_oficial,\n",
    "  \"UVA\" = vUVA\n",
    "  )\n",
    ")\n",
    "\n",
    "tb_indices[[ 'foto_mes' ]] <- vfoto_mes\n",
    "\n",
    "tb_indices"
   ]
  },
  {
   "cell_type": "code",
   "execution_count": null,
   "id": "b4824962-8f0b-42d0-83f2-e357592a84b9",
   "metadata": {
    "id": "oq2zlvpkSmAU"
   },
   "outputs": [],
   "source": [
    "drift_UVA <- function(campos_monetarios) {\n",
    "  cat( \"inicio drift_UVA()\\n\")\n",
    "\n",
    "  dataset[tb_indices,\n",
    "    on = c(\"foto_mes\"),\n",
    "    (campos_monetarios) := .SD * i.UVA,\n",
    "    .SDcols = campos_monetarios\n",
    "  ]\n",
    "\n",
    "  cat( \"fin drift_UVA()\\n\")\n",
    "}\n"
   ]
  },
  {
   "cell_type": "code",
   "execution_count": null,
   "id": "807bef93-10d5-4f2a-b009-cbd0bcfff6df",
   "metadata": {
    "id": "h2QbqSn8Sojj"
   },
   "outputs": [],
   "source": [
    "drift_dolar_oficial <- function(campos_monetarios) {\n",
    "  cat( \"inicio drift_dolar_oficial()\\n\")\n",
    "\n",
    "  dataset[tb_indices,\n",
    "    on = c(\"foto_mes\"),\n",
    "    (campos_monetarios) := .SD / i.dolar_oficial,\n",
    "    .SDcols = campos_monetarios\n",
    "  ]\n",
    "\n",
    "  cat( \"fin drift_dolar_oficial()\\n\")\n",
    "}\n"
   ]
  },
  {
   "cell_type": "code",
   "execution_count": null,
   "id": "c47c4e93-5d7c-4727-af6d-90313d5df726",
   "metadata": {
    "id": "DMTgpq9VSqqM"
   },
   "outputs": [],
   "source": [
    "drift_dolar_blue <- function(campos_monetarios) {\n",
    "  cat( \"inicio drift_dolar_blue()\\n\")\n",
    "\n",
    "  dataset[tb_indices,\n",
    "    on = c(\"foto_mes\"),\n",
    "    (campos_monetarios) := .SD / i.dolar_blue,\n",
    "    .SDcols = campos_monetarios\n",
    "  ]\n",
    "\n",
    "  cat( \"fin drift_dolar_blue()\\n\")\n",
    "}\n"
   ]
  },
  {
   "cell_type": "code",
   "execution_count": null,
   "id": "329cad83-b564-4c2d-85ac-9698fd75e9b4",
   "metadata": {
    "id": "7n171_BoStAj"
   },
   "outputs": [],
   "source": [
    "drift_deflacion <- function(campos_monetarios) {\n",
    "  cat( \"inicio drift_deflacion()\\n\")\n",
    "\n",
    "  dataset[tb_indices,\n",
    "    on = c(\"foto_mes\"),\n",
    "    (campos_monetarios) := .SD * i.IPC,\n",
    "    .SDcols = campos_monetarios\n",
    "  ]\n",
    "\n",
    "  cat( \"fin drift_deflacion()\\n\")\n",
    "}\n"
   ]
  },
  {
   "cell_type": "code",
   "execution_count": null,
   "id": "74f0f9cc-2443-4371-a89e-118b40c1f011",
   "metadata": {
    "id": "Z94UizNySv0m"
   },
   "outputs": [],
   "source": [
    "drift_rank_simple <- function(campos_drift) {\n",
    "\n",
    "  cat( \"inicio drift_rank_simple()\\n\")\n",
    "  for (campo in campos_drift)\n",
    "  {\n",
    "    cat(campo, \" \")\n",
    "    dataset[, paste0(campo, \"_rank\") :=\n",
    "      (frank(get(campo), ties.method = \"random\") - 1) / (.N - 1), by = list(foto_mes)]\n",
    "    dataset[, (campo) := NULL]\n",
    "  }\n",
    "  cat( \"fin drift_rank_simple()\\n\")\n",
    "}\n"
   ]
  },
  {
   "cell_type": "code",
   "execution_count": null,
   "id": "ea9511bd-beef-433f-9b80-d58fd2a9117a",
   "metadata": {
    "id": "GnbUIXeWSyQm"
   },
   "outputs": [],
   "source": [
    "# El cero se transforma en cero\n",
    "# los positivos se rankean por su lado\n",
    "# los negativos se rankean por su lado\n",
    "\n",
    "drift_rank_cero_fijo <- function(campos_drift) {\n",
    "\n",
    "  cat( \"inicio drift_rank_cero_fijo()\\n\")\n",
    "  for (campo in campos_drift)\n",
    "  {\n",
    "    cat(campo, \" \")\n",
    "    dataset[get(campo) == 0, paste0(campo, \"_rank\") := 0]\n",
    "    dataset[get(campo) > 0, paste0(campo, \"_rank\") :=\n",
    "      frank(get(campo), ties.method = \"random\") / .N, by = list(foto_mes)]\n",
    "\n",
    "    dataset[get(campo) < 0, paste0(campo, \"_rank\") :=\n",
    "      -frank(-get(campo), ties.method = \"random\") / .N, by = list(foto_mes)]\n",
    "    dataset[, (campo) := NULL]\n",
    "  }\n",
    "  cat(\"\\n\")\n",
    "  cat( \"fin drift_rank_cero_fijo()\\n\")\n",
    "}\n"
   ]
  },
  {
   "cell_type": "code",
   "execution_count": null,
   "id": "b054bd39-8fa8-4886-bb46-e642d7b4fea8",
   "metadata": {
    "id": "dhlyk-WxS040"
   },
   "outputs": [],
   "source": [
    "drift_estandarizar <- function(campos_drift) {\n",
    "\n",
    "  cat( \"inicio drift_estandarizar()\\n\")\n",
    "  for (campo in campos_drift)\n",
    "  {\n",
    "    cat(campo, \" \")\n",
    "    dataset[, paste0(campo, \"_normal\") :=\n",
    "      (get(campo) -mean(campo, na.rm=TRUE)) / sd(get(campo), na.rm=TRUE),\n",
    "      by = list(foto_mes)]\n",
    "\n",
    "    dataset[, (campo) := NULL]\n",
    "  }\n",
    "  cat( \"fin drift_estandarizar()\\n\")\n",
    "}\n"
   ]
  },
  {
   "cell_type": "code",
   "execution_count": null,
   "id": "7b0f1b97-c460-4528-8994-498b4e1943b7",
   "metadata": {
    "id": "tlJjlN6PVanz"
   },
   "outputs": [],
   "source": [
    "# por como armé los nombres de campos,\n",
    "#  estos son los campos que expresan variables monetarias\n",
    "campos_monetarios <- colnames(dataset)\n",
    "campos_monetarios <- campos_monetarios[campos_monetarios %like%\n",
    "  \"^(m|Visa_m|Master_m|vm_m)\"]\n",
    "\n",
    "campos_monetarios"
   ]
  },
  {
   "cell_type": "code",
   "execution_count": null,
   "id": "3db9c273-c166-40a1-9d1d-997886fb1095",
   "metadata": {
    "id": "G_8BH82XS3uV"
   },
   "outputs": [],
   "source": [
    "# ejecuto el Data Drifting\n",
    "setorder( dataset, numero_de_cliente, foto_mes )\n",
    "\n",
    "\n",
    "PARAM$DR$metodo <- \"deflacion\"\n",
    "\n",
    "switch(PARAM$DR$metodo,\n",
    "  \"ninguno\"        = cat(\"No hay correccion del data drifting\"),\n",
    "  \"rank_simple\"    = drift_rank_simple(campos_monetarios),\n",
    "  \"rank_cero_fijo\" = drift_rank_cero_fijo(campos_monetarios),\n",
    "  \"deflacion\"      = drift_deflacion(campos_monetarios),\n",
    "  \"dolar_blue\"     = drift_dolarblue(campos_monetarios),\n",
    "  \"dolar_oficial\"  = drift_dolaroficial(campos_monetarios),\n",
    "  \"UVA\"            = drift_UVA(campos_monetarios),\n",
    "  \"estandarizar\"   = drift_estandarizar(campos_monetarios)\n",
    ")\n"
   ]
  },
  {
   "cell_type": "code",
   "execution_count": null,
   "id": "4642f67a-445b-4111-9bb0-7bd219e7cde7",
   "metadata": {
    "id": "-efBawbTWPKc"
   },
   "outputs": [],
   "source": [
    "colnames(dataset)"
   ]
  },
  {
   "cell_type": "markdown",
   "id": "979bb01e-0840-4bf0-9735-f2146092b461",
   "metadata": {
    "id": "rZ11c9KcFoAp"
   },
   "source": []
  },
  {
   "cell_type": "code",
   "execution_count": null,
   "id": "d0a21492-d95e-463a-92a4-b1297bb4fa18",
   "metadata": {
    "id": "L85A2lwKSe3k"
   },
   "outputs": [],
   "source": [
    "# se intenta corregir el data drifting utilizando algunos indices financieros"
   ]
  },
  {
   "cell_type": "markdown",
   "id": "129c2bcc-e2a4-4b2f-9e9d-f60f4ea63e22",
   "metadata": {
    "id": "7sppIDYeSn5X"
   },
   "source": [
    "#### 9.3.1.3  FE_intra_manual Feature Engineering intra-mes\n",
    "\n",
    "Agrego campos nuevos dentro del mismo mes, SIN considerar la historia."
   ]
  },
  {
   "cell_type": "code",
   "execution_count": null,
   "id": "11ab01f6-0f4d-4ffd-a3c7-258ee805bf8f",
   "metadata": {
    "id": "qrqf3j3_St3p"
   },
   "outputs": [],
   "source": [
    "# esta funcion atributos presentes existe debido a que las modalidades poseen datasets con distinta cantidad de campos\n",
    "atributos_presentes <- function( patributos )\n",
    "{\n",
    "  atributos <- unique( patributos )\n",
    "  comun <- intersect( atributos, colnames(dataset) )\n",
    "\n",
    "  return(  length( atributos ) == length( comun ) )\n",
    "}\n",
    "\n",
    "# el mes 1,2, ..12\n",
    "if( atributos_presentes( c(\"foto_mes\") ))\n",
    "  dataset[, kmes := foto_mes %% 100]\n",
    "\n",
    "# variable extraida de una tesis de maestria de Irlanda\n",
    "if( atributos_presentes( c(\"mpayroll\", \"cliente_edad\") ))\n",
    "  dataset[, mpayroll_sobre_edad := mpayroll / cliente_edad]\n"
   ]
  },
  {
   "cell_type": "code",
   "execution_count": null,
   "id": "41dfe15b-9961-4269-abdd-8511a5c1c271",
   "metadata": {
    "id": "iC4viwOdY5Kp"
   },
   "outputs": [],
   "source": [
    "# visualizo las columas del dataset a esta etapa\n",
    "colnames(dataset)"
   ]
  },
  {
   "cell_type": "markdown",
   "id": "1578609e-1df3-40cd-a6f5-56439f1009be",
   "metadata": {
    "id": "9682b4ca-3ab3-4bbc-a36a-b185361e6b6b"
   },
   "source": [
    "#### 9.3.1.4  FE_rf Feature Engineering de nuevas variables a partir de hojas de Random Forest"
   ]
  },
  {
   "cell_type": "code",
   "execution_count": null,
   "id": "62f3ec41-51ee-493b-bb8c-ff072336ed36",
   "metadata": {
    "id": "Vd09ZaybfUeK"
   },
   "outputs": [],
   "source": [
    "if( !require(\"lightgbm\")) install.packages(\"lightgbm\")\n",
    "require(\"lightgbm\")"
   ]
  },
  {
   "cell_type": "code",
   "execution_count": null,
   "id": "6c8af063-22f7-415e-9ed9-a03d4241b9b8",
   "metadata": {
    "id": "JrsaXcQqcefM"
   },
   "outputs": [],
   "source": [
    "AgregaVarRandomForest <- function() {\n",
    "\n",
    "  cat( \"inicio AgregaVarRandomForest()\\n\")\n",
    "  gc(verbose= FALSE)\n",
    "  dataset[, clase01 := 0L ]\n",
    "  dataset[ clase_ternaria %in% PARAM$FE_rf$train$clase01_valor1,\n",
    "      clase01 := 1L ]\n",
    "\n",
    "  campos_buenos <- setdiff(\n",
    "    colnames(dataset),\n",
    "    c( \"clase_ternaria\", \"clase01\")\n",
    "  )\n",
    "\n",
    "  dataset[, entrenamiento :=\n",
    "    as.integer( foto_mes %in% PARAM$FE_rf$train$training )]\n",
    "\n",
    "  dtrain <- lgb.Dataset(\n",
    "    data = data.matrix(dataset[entrenamiento == TRUE, campos_buenos, with = FALSE]),\n",
    "    label = dataset[entrenamiento == TRUE, clase01],\n",
    "    free_raw_data = FALSE\n",
    "  )\n",
    "\n",
    "  modelo <- lgb.train(\n",
    "     data = dtrain,\n",
    "     param = PARAM$FE_rf$lgb_param,\n",
    "     verbose = -100\n",
    "  )\n",
    "\n",
    "  cat( \"Fin construccion RandomForest\\n\" )\n",
    "  # grabo el modelo, achivo .model\n",
    "  lgb.save(modelo, file=\"modelo.model\" )\n",
    "\n",
    "  qarbolitos <- copy(PARAM$FE_rf$lgb_param$num_iterations)\n",
    "\n",
    "  periodos <- dataset[ , unique( foto_mes ) ]\n",
    "\n",
    "  for( periodo in  periodos )\n",
    "  {\n",
    "    cat( \"periodo = \", periodo, \"\\n\" )\n",
    "    datamatrix <- data.matrix(dataset[ foto_mes== periodo, campos_buenos, with = FALSE])\n",
    "\n",
    "    cat( \"Inicio prediccion\\n\" )\n",
    "    prediccion <- predict(\n",
    "        modelo,\n",
    "        datamatrix,\n",
    "        type = \"leaf\"\n",
    "    )\n",
    "    cat( \"Fin prediccion\\n\" )\n",
    "\n",
    "    for( arbolito in 1:qarbolitos )\n",
    "    {\n",
    "       cat( arbolito, \" \" )\n",
    "       hojas_arbol <- unique(prediccion[ , arbolito])\n",
    "\n",
    "       for (pos in 1:length(hojas_arbol)) {\n",
    "         # el numero de nodo de la hoja, estan salteados\n",
    "         nodo_id <- hojas_arbol[pos]\n",
    "         dataset[ foto_mes== periodo, paste0(\n",
    "            \"rf_\", sprintf(\"%03d\", arbolito),\n",
    "             \"_\", sprintf(\"%03d\", nodo_id)\n",
    "          ) :=  as.integer( nodo_id == prediccion[ , arbolito]) ]\n",
    "\n",
    "       }\n",
    "\n",
    "       rm( hojas_arbol )\n",
    "    }\n",
    "    cat( \"\\n\" )\n",
    "\n",
    "    rm( prediccion )\n",
    "    rm( datamatrix )\n",
    "    gc(verbose= FALSE)\n",
    "  }\n",
    "\n",
    "  gc(verbose= FALSE)\n",
    "\n",
    "  # borro clase01 , no debe ensuciar el dataset\n",
    "  dataset[ , clase01 := NULL ]\n",
    "\n",
    "}\n"
   ]
  },
  {
   "cell_type": "code",
   "execution_count": null,
   "id": "a9125ad3-9cec-44ea-af16-8c85210db5f9",
   "metadata": {
    "id": "i6vcLtXldMpz"
   },
   "outputs": [],
   "source": [
    "# Parametros de Feature Engineering  a partir de hojas de Random Forest\n",
    "\n",
    "# Estos CUATRO parametros son los que se deben modificar\n",
    "PARAM$FE_rf$arbolitos= 20\n",
    "PARAM$FE_rf$hojas_por_arbol= 16\n",
    "PARAM$FE_rf$datos_por_hoja= 100\n",
    "PARAM$FE_rf$mtry_ratio= 0.2\n",
    "\n",
    "# Estos son quasi fijos\n",
    "PARAM$FE_rf$train$clase01_valor1 <- c( \"BAJA+2\", \"BAJA+1\")\n",
    "PARAM$FE_rf$train$training <- c( 202101, 202102, 202103)\n",
    "\n",
    "# Estos TAMBIEN son quasi fijos\n",
    "PARAM$FE_rf$lgb_param <-list(\n",
    "    # parametros que se pueden cambiar\n",
    "    num_iterations = PARAM$FE_rf$arbolitos,\n",
    "    num_leaves  = PARAM$FE_rf$hojas_por_arbol,\n",
    "    min_data_in_leaf = PARAM$FE_rf$datos_por_hoja,\n",
    "    feature_fraction_bynode  = PARAM$FE_rf$mtry_ratio,\n",
    "\n",
    "    # para que LightGBM emule Random Forest\n",
    "    boosting = \"rf\",\n",
    "    bagging_fraction = ( 1.0 - 1.0/exp(1.0) ),\n",
    "    bagging_freq = 1.0,\n",
    "    feature_fraction = 1.0,\n",
    "\n",
    "    # genericos de LightGBM\n",
    "    max_bin = 31L,\n",
    "    objective = \"binary\",\n",
    "    first_metric_only = TRUE,\n",
    "    boost_from_average = TRUE,\n",
    "    feature_pre_filter = FALSE,\n",
    "    force_row_wise = TRUE,\n",
    "    verbosity = -100,\n",
    "    max_depth = -1L,\n",
    "    min_gain_to_split = 0.0,\n",
    "    min_sum_hessian_in_leaf = 0.001,\n",
    "    lambda_l1 = 0.0,\n",
    "    lambda_l2 = 0.0,\n",
    "\n",
    "    pos_bagging_fraction = 1.0,\n",
    "    neg_bagging_fraction = 1.0,\n",
    "    is_unbalance = FALSE,\n",
    "    scale_pos_weight = 1.0,\n",
    "\n",
    "    drop_rate = 0.1,\n",
    "    max_drop = 50,\n",
    "    skip_drop = 0.5,\n",
    "\n",
    "    extra_trees = FALSE\n",
    "  )"
   ]
  },
  {
   "cell_type": "code",
   "execution_count": null,
   "id": "7ad43b7a-453a-4475-bf41-3ed8e1f200dc",
   "metadata": {
    "id": "GTTj4VdBezcE"
   },
   "outputs": [],
   "source": [
    "# Feature Engineering agregando variables de Random Forest\n",
    "AgregaVarRandomForest()"
   ]
  },
  {
   "cell_type": "code",
   "execution_count": null,
   "id": "cd7bdc73-3bb4-40a8-91bf-a365cd86d905",
   "metadata": {
    "id": "bs2vXYFuiXGu"
   },
   "outputs": [],
   "source": [
    "ncol(dataset)\n",
    "colnames(dataset)"
   ]
  },
  {
   "cell_type": "code",
   "execution_count": null,
   "id": "01668123-3517-4431-9088-5d2b1c7ab233",
   "metadata": {
    "id": "ljA3h0jOcciP"
   },
   "outputs": [],
   "source": [
    "# No se implementa Feature Engineering a partir de Random Forest"
   ]
  },
  {
   "cell_type": "markdown",
   "id": "593f2956-4956-474a-ae0f-8c83f57f3f57",
   "metadata": {
    "id": "XaRBjQj8ZRUZ"
   },
   "source": [
    "#### 9.3.1.5  FEhist Feature Engineering historico\n",
    "\n",
    "El Fature Engineering Histórico es la etapa que más aporta a la ganancia final, ya que enriquece cada registro del dataset con su historia."
   ]
  },
  {
   "cell_type": "markdown",
   "id": "610a67ae-b777-4f72-9986-434b18fb8f4e",
   "metadata": {
    "id": "cfe3b8cf-0707-4512-92e7-c1407bb3f73b"
   },
   "source": [
    "Para cada campo del dataset original (*)\n",
    "se crean lo siguientes campos de a partir de la historia\n",
    "* lag1  lags de orden 1\n",
    "* delta1  =  valor actual - lag1\n",
    "* lag2  lags de orden 2\n",
    "* delta2  = valor actual - lag2\n",
    "\n",
    "\n",
    "(*) Excepto para los campos  <numero_de_cliente,  foto_mes,  clase_ternaria>"
   ]
  },
  {
   "cell_type": "code",
   "execution_count": null,
   "id": "453fdb02-04d3-4799-8d93-6103923549de",
   "metadata": {
    "id": "7850b948-827d-4a2a-b4d3-a5e459b47c11"
   },
   "outputs": [],
   "source": [
    "# Feature Engineering Historico\n",
    "\n",
    "# todo es lagueable, menos la primary key y la clase\n",
    "cols_lagueables <- copy( setdiff(\n",
    "    colnames(dataset),\n",
    "    c(\"numero_de_cliente\", \"foto_mes\", \"clase_ternaria\")\n",
    ") )\n",
    "\n",
    "# https://rdrr.io/cran/data.table/man/shift.html\n",
    "\n",
    "# lags de orden 1\n",
    "dataset[,\n",
    "    paste0(cols_lagueables, \"_lag1\") := shift(.SD, 1, NA, \"lag\"),\n",
    "    by = numero_de_cliente,\n",
    "    .SDcols = cols_lagueables\n",
    "]\n",
    "\n",
    "# lags de orden 2\n",
    "dataset[,\n",
    "    paste0(cols_lagueables, \"_lag2\") := shift(.SD, 2, NA, \"lag\"),\n",
    "    by = numero_de_cliente,\n",
    "    .SDcols = cols_lagueables\n",
    "]\n",
    "\n",
    "# agrego los delta lags\n",
    "for (vcol in cols_lagueables)\n",
    "{\n",
    "    dataset[, paste0(vcol, \"_delta1\") := get(vcol) - get(paste0(vcol, \"_lag1\"))]\n",
    "    dataset[, paste0(vcol, \"_delta2\") := get(vcol) - get(paste0(vcol, \"_lag2\"))]\n",
    "}\n"
   ]
  },
  {
   "cell_type": "markdown",
   "id": "db3a2493-59fb-4fe7-adbb-e288350c7494",
   "metadata": {
    "id": "cea690d9-ece9-4852-a5e2-f337c31b6721"
   },
   "source": [
    "Verificacion de los campos recien creados"
   ]
  },
  {
   "cell_type": "code",
   "execution_count": null,
   "id": "b0149a0d-a855-49fc-ba05-88b0471bd350",
   "metadata": {
    "id": "f772896b-595a-47d4-8905-c15304ac9452"
   },
   "outputs": [],
   "source": [
    "ncol(dataset)\n",
    "colnames(dataset)"
   ]
  },
  {
   "cell_type": "markdown",
   "id": "fb430aae-9f3f-496d-b9fe-3547f08acd95",
   "metadata": {
    "id": "l8mKij0XaDY0"
   },
   "source": [
    "#### 9.3.1.6  FEhist Reduccion dimensionalidad con canaritos\n",
    "\n",
    "Esta etapa solo se mostrará a la *modalidad Anlista Sr* por algun canal secreto de forma de no confundir a los *Analista Jr*  nni distraer con detalles operativos a la estratégica *Modalidad Gerencial*"
   ]
  },
  {
   "cell_type": "code",
   "execution_count": null,
   "id": "5d4fea25-77cf-46e0-8762-62c23cb2976f",
   "metadata": {
    "id": "QrmnPtlBcEgx"
   },
   "outputs": [],
   "source": [
    "# No se implementa la reduccion de la dimensionalidad con canaritos"
   ]
  },
  {
   "cell_type": "markdown",
   "id": "dc8227b5-61d4-4854-aa41-7e635a3f88bc",
   "metadata": {
    "id": "cf91ea5e-3341-4afb-8d05-cc4923d3d1e1"
   },
   "source": [
    "### 9.3.2 Modelado"
   ]
  },
  {
   "cell_type": "markdown",
   "id": "fb654161-80a1-4b87-92df-e05ec7f4b1e7",
   "metadata": {
    "id": "526048e4-8cf2-4023-bd2d-a70e4e9ff157"
   },
   "source": [
    "#### 9.3.2.1 Training Strategy"
   ]
  },
  {
   "cell_type": "markdown",
   "id": "f59f7be2-fa8e-4678-beb1-5a4032159bcb",
   "metadata": {
    "id": "f16bc1c1-b3ea-43ca-9d3c-53f8f9ab8ec1"
   },
   "source": [
    "Se hace una estrategia de entrenamiento muy sencilla, tomando todos los meses posibles, SIN eliminar nada x pandemia ni por ningun otro motivo\n",
    "\n",
    "* future = 202109  obviamente completo\n",
    "\n",
    "* final_train =  [ 201901, 202107 ]  SIN undersampling\n",
    "\n",
    "* training\n",
    "   * testing = NO HAY\n",
    "   * validation =  202107   completo, sin undersampling\n",
    "   * training = [ 201901, 202105 ]  donde se consideran el 100% de los CONTINUA"
   ]
  },
  {
   "cell_type": "code",
   "execution_count": null,
   "id": "2d096d7d-bbd1-46db-a59d-4e989678724c",
   "metadata": {
    "id": "2c9c0a42-ba58-4264-8566-091a6161716f"
   },
   "outputs": [],
   "source": [
    "PARAM$trainingstrategy$validate <- c(202107)\n",
    "\n",
    "PARAM$trainingstrategy$training <- c(\n",
    "  201901, 201902, 201903, 201904, 201905, 201906,\n",
    "  201907, 201908, 201909, 201910, 201911, 201912,\n",
    "  202001, 202002, 202003, 202004, 202005, 202006,\n",
    "  202007, 202008, 202009, 202010, 202011, 202012,\n",
    "  202101, 202102, 202103, 202104, 202105\n",
    ")\n",
    "\n",
    "\n",
    "PARAM$trainingstrategy$training_pct <- 1.0\n",
    "\n",
    "\n",
    "PARAM$trainingstrategy$positivos <- c( \"BAJA+1\", \"BAJA+2\")"
   ]
  },
  {
   "cell_type": "code",
   "execution_count": null,
   "id": "a861c162-4787-45fa-b8d6-6a9bef20eb24",
   "metadata": {
    "id": "tv_trHWAj4a8"
   },
   "outputs": [],
   "source": [
    "# seteo la clase01   1={BAJA+1, BAJA+2}   0={CONTINUA}\n",
    "dataset[, clase01 := ifelse( clase_ternaria %in% PARAM$trainingstrategy$positivos, 1, 0 )]"
   ]
  },
  {
   "cell_type": "code",
   "execution_count": null,
   "id": "9d1283ac-44a0-45bc-b835-202ac5ed8927",
   "metadata": {
    "id": "Ud_XDKSIj8f_"
   },
   "outputs": [],
   "source": [
    "# los campos en los que se entrena\n",
    "campos_buenos <- copy( setdiff(\n",
    "    colnames(dataset), c(\"clase_ternaria\",\"clase01\",\"azar\"))\n",
    ")"
   ]
  },
  {
   "cell_type": "code",
   "execution_count": null,
   "id": "b5fea427-1ede-4c4e-8e97-7786cceebeb4",
   "metadata": {
    "id": "rFKgZZPSj_Pa"
   },
   "outputs": [],
   "source": [
    "# preparo para que se puede hacer undersampling de los CONTINUA\n",
    "#  solamente por un tema de VELOCIDAD\n",
    "set.seed(PARAM$semilla_primigenia, kind = \"L'Ecuyer-CMRG\")\n",
    "dataset[, azar:=runif(nrow(dataset))]\n",
    "\n",
    "# undersampling de los CONTINUA\n",
    "dataset[, fold_train :=  foto_mes %in%  PARAM$trainingstrategy$training &\n",
    "    (clase_ternaria %in% c(\"BAJA+1\", \"BAJA+2\") |\n",
    "     azar < PARAM$trainingstrategy$training_pct ) ]\n",
    "\n",
    "\n",
    "if( !require(\"lightgbm\")) install.packages(\"lightgbm\")\n",
    "require(\"lightgbm\")\n",
    "\n",
    "dtrain <- lgb.Dataset(\n",
    "  data= data.matrix(dataset[fold_train == TRUE, campos_buenos, with = FALSE]),\n",
    "  label= dataset[fold_train == TRUE, clase01],\n",
    "  free_raw_data= TRUE\n",
    ")"
   ]
  },
  {
   "cell_type": "code",
   "execution_count": null,
   "id": "ea8d01ea-b6b8-4317-bb19-df0e7906feba",
   "metadata": {
    "id": "B3yo98kQkHcP"
   },
   "outputs": [],
   "source": [
    "# datos de validation\n",
    "dvalidate <- lgb.Dataset(\n",
    "  data= data.matrix(dataset[foto_mes %in% PARAM$trainingstrategy$validate, campos_buenos, with = FALSE]),\n",
    "  label= dataset[foto_mes %in% PARAM$trainingstrategy$validate, clase01],\n",
    "  free_raw_data= TRUE\n",
    ")\n",
    "\n",
    "nrow(dvalidate)"
   ]
  },
  {
   "cell_type": "markdown",
   "id": "9b8fbc40-5ff2-47bb-a81c-dbaf2b10e24d",
   "metadata": {
    "id": "28e8f788-551c-4e50-9029-302ac0834287"
   },
   "source": [
    "####  9.3.2.2. Hyperparameter Tuning"
   ]
  },
  {
   "cell_type": "markdown",
   "id": "53a4f9f1-cbb9-4b3d-aeb4-6299852b4196",
   "metadata": {
    "id": "bf5fc836-e222-4aeb-a6a8-157346895ef7"
   },
   "source": [
    "* Clase binaria que se optimiza :  positivos = [ BAJA+1, BAJA+2 ]"
   ]
  },
  {
   "cell_type": "markdown",
   "id": "92ffea3b-05e6-44c6-b0de-476f967e87c5",
   "metadata": {
    "id": "885c03b5-77bc-4510-a930-0d1f14b52ffb"
   },
   "source": [
    "* Metrica que se optimiza **AUC** Area Under Curve de la  ROC Curve\n",
    "\n",
    "es muy importante notar que intencionalmente  **NO** se está optimizando la funcion de ganancia del problema"
   ]
  },
  {
   "cell_type": "markdown",
   "id": "89da2948-e294-4fe6-a8fc-79956b3e95b1",
   "metadata": {
    "id": "b7e6f95c-66ef-4ab9-9ba3-fcc099816704"
   },
   "source": [
    "* Cantidad de iteraciones inteligentes de la Optimizacion Bayesiana = **10**"
   ]
  },
  {
   "cell_type": "markdown",
   "id": "03afcd78-c5a6-4e41-8c23-f890e6a4b450",
   "metadata": {
    "id": "fe047a87-e2d0-4418-97dd-0a881e66d73a"
   },
   "source": [
    "* Parametros no default, fijos de LightGBM que no se optimizan\n",
    "  * max_bin = 31 , Alienigenas Ancestrales contruyeron las pirámides y dejaron a la humanidad en un jeroglifico  *max_bin=31*\n",
    "  * feature_fraction = 0.5  para poner algo que generalmente no falla\n",
    "  * learning_rate = 0.03  para que aprenda lento\n"
   ]
  },
  {
   "cell_type": "markdown",
   "id": "80281184-ce78-4e70-a57a-3b80f6c1d80a",
   "metadata": {
    "id": "1e7da08e-fe57-4681-beff-11fe963116bd"
   },
   "source": [
    "* Parametros que se optimizan en la Bayesian Optimization\n",
    "  * num_leaves  [8, 256]\n",
    "  * min_data_in_leaf  [8, 8192]"
   ]
  },
  {
   "cell_type": "code",
   "execution_count": null,
   "id": "820dbe1b-5fe6-487e-b9f8-83cf6a4f4760",
   "metadata": {
    "id": "34V6y4GetKq_"
   },
   "outputs": [],
   "source": [
    "# paquetes necesarios para la Bayesian Optimization\n",
    "if(!require(\"DiceKriging\")) install.packages(\"DiceKriging\")\n",
    "require(\"DiceKriging\")\n",
    "\n",
    "if(!require(\"mlrMBO\")) install.packages(\"mlrMBO\")\n",
    "require(\"mlrMBO\")"
   ]
  },
  {
   "cell_type": "markdown",
   "id": "4269f83d-8db8-459a-9bed-439933df5ef2",
   "metadata": {
    "id": "UFbDSYtH0TTT"
   },
   "source": [
    "Definición de la Bayesian Optimization\n",
    "<br> Si se desea optimizar un hiperparámetro que esta como fijo, debe QUITARSE de param_fijos y agregarse a PARAM$hipeparametertuning$hs"
   ]
  },
  {
   "cell_type": "code",
   "execution_count": null,
   "id": "637b191d-12dc-4196-b26b-82b4f7084172",
   "metadata": {
    "id": "5Uag3XGHqrfZ"
   },
   "outputs": [],
   "source": [
    "# un Analista Jr  debe poder animarse a hacer 100 iteraciones\n",
    "PARAM$hipeparametertuning$num_interations <- 20\n",
    "\n",
    "# parametros fijos del LightGBM\n",
    "PARAM$lgbm$param_fijos <- list(\n",
    "  objective= \"binary\",\n",
    "  metric= \"auc\",\n",
    "  first_metric_only= TRUE,\n",
    "  boost_from_average= TRUE,\n",
    "  feature_pre_filter= FALSE,\n",
    "  verbosity= -100,\n",
    "  force_row_wise= TRUE, # para evitar warning\n",
    "  seed= PARAM$semilla_primigenia,\n",
    "  max_bin= 31,\n",
    "\n",
    "  num_iterations= 9999,  # valor grande, lo limita early_stopping_rounds\n",
    "  early_stopping_rounds= 400\n",
    ")\n",
    "\n",
    "PARAM$hipeparametertuning$hs <- makeParamSet(\n",
    "  makeIntegerParam(\"num_leaves\", lower= 2L, upper= 256L),\n",
    "  makeIntegerParam(\"min_data_in_leaf\", lower= 2L, upper= 8192L),\n",
    "  makeNumericParam(\"feature_fraction\", lower= 0.1, upper= 0.9),\n",
    "  makeNumericParam(\"learning_rate\", lower= 0.01, upper= 0.5)\n",
    ")"
   ]
  },
  {
   "cell_type": "markdown",
   "id": "b3f05baf-2be6-40ca-9c6f-813bfb70d04e",
   "metadata": {
    "id": "FEa1UuuAz4yj"
   },
   "source": [
    "Función \"señora caja negra\"  que es llamada para verificar la realidad por la Bayesian Optimization"
   ]
  },
  {
   "cell_type": "code",
   "execution_count": null,
   "id": "404c5744-507a-4858-9ec5-a2d55c94e7e2",
   "metadata": {
    "id": "2c10f535-8d90-47d1-ac3d-9b4c24ec21d2"
   },
   "outputs": [],
   "source": [
    "# En  x llegan los parmaetros de la bayesiana\n",
    "#  devuelve la AUC en validate del modelo entrenado\n",
    "#  en el parametro x llegan los hiperparámetros que se estan optimizando\n",
    "\n",
    "EstimarGanancia_AUC_lightgbm <- function(x) {\n",
    "\n",
    "  # x pisa (o agrega) a param_fijos\n",
    "  param_completo <- modifyList(PARAM$lgbm$param_fijos, x)\n",
    "\n",
    "  # entreno LightGBM\n",
    "  modelo_train <- lgb.train(\n",
    "    data= dtrain,\n",
    "    valids= list(valid = dvalidate),\n",
    "    eval= \"auc\",\n",
    "    param= param_completo,\n",
    "    verbose= -100\n",
    "  )\n",
    "\n",
    "  # recupero la AUC en validation\n",
    "  AUC <- modelo_train$record_evals$valid$auc$eval[[modelo_train$best_iter]]\n",
    "\n",
    "  # esta es la forma de devolver un parametro extra\n",
    "  attr(AUC, \"extras\") <- list(\"num_iterations\"= modelo_train$best_iter)\n",
    "\n",
    "  # hago espacio en la memoria\n",
    "  rm(modelo_train)\n",
    "  gc(full= TRUE, verbose= FALSE)\n",
    "\n",
    "  message(format(Sys.time(), \"%a %b %d %X %Y\"), \" AUC \", AUC)\n",
    "\n",
    "  return(AUC)\n",
    "}"
   ]
  },
  {
   "cell_type": "markdown",
   "id": "3183692d-abcb-46f6-a119-bfeaca4d25b6",
   "metadata": {
    "id": "267a35d4-adaf-4271-a875-3864111333b7"
   },
   "source": [
    "seteo de la Bayesian Optimization (complejo)\n",
    "<br> copiado y pegado de la documentación de la librería"
   ]
  },
  {
   "cell_type": "code",
   "execution_count": null,
   "id": "8788f5a5-dcb7-4c7a-be2f-5d1271df41f9",
   "metadata": {
    "id": "43c2a92d-1041-46b8-bff2-47297f209ed2"
   },
   "outputs": [],
   "source": [
    "configureMlr(show.learner.output = FALSE)\n",
    "\n",
    "# configuro la busqueda bayesiana,  los hiperparametros que se van a optimizar\n",
    "# por favor, no desesperarse por lo complejo\n",
    "obj.fun <- makeSingleObjectiveFunction(\n",
    "    fn= EstimarGanancia_AUC_lightgbm, # la funcion que voy a maximizar\n",
    "    minimize= FALSE, # estoy Maximizando AUC\n",
    "    noisy= FALSE,\n",
    "    par.set= PARAM$hipeparametertuning$hs,\n",
    "    has.simple.signature= FALSE # paso los parametros en una lista\n",
    ")\n",
    "\n",
    "# cada 600 segundos guardo el resultado intermedio\n",
    "ctrl <- makeMBOControl(\n",
    "    save.on.disk.at.time= 600,\n",
    "    save.file.path= \"HT.RDATA\"\n",
    ")\n",
    "\n",
    "# indico la cantidad de iteraciones que va a tener la Bayesian Optimization\n",
    "ctrl <- setMBOControlTermination(\n",
    "    ctrl,\n",
    "    iters= PARAM$hipeparametertuning$num_interations  # cantidad de iteraciones inteligentes\n",
    ")\n",
    "\n",
    "# defino el método estandar para la creacion de los puntos iniciales\n",
    "#   los \"No Inteligentes\"\n",
    "ctrl <- setMBOControlInfill(ctrl, crit = makeMBOInfillCritEI())\n",
    "\n",
    "# mas configuraciones\n",
    "surr.km <- makeLearner(\n",
    "    \"regr.km\",\n",
    "    predict.type= \"se\",\n",
    "    covtype= \"matern3_2\",\n",
    "    control= list(trace = TRUE)\n",
    ")"
   ]
  },
  {
   "cell_type": "markdown",
   "id": "9a5b808c-c6b8-420a-83b0-4a27125a98c9",
   "metadata": {
    "id": "6c1e5645-d26f-4923-a53f-f30471a4c4e8"
   },
   "source": [
    "Corrida de la Bayesian Optimization,  aqui se hace el trabajo pesado\n",
    "<br> por favor no se asuste con los warnings que pudieran aparecer\n",
    "\n",
    "Si corrío a medias y llegó a las iteraciones inteligentes, en el archivo binario HT.RDATA quedó lo ya procesado y es utilizado para retomar la corrida desde lo último que llegó a grabar."
   ]
  },
  {
   "cell_type": "code",
   "execution_count": null,
   "id": "6dae4107-b4a5-4378-961c-54f7c34ae099",
   "metadata": {
    "id": "1f8cab3f-c7e2-4802-bfd1-5ad509922a4e",
    "scrolled": true
   },
   "outputs": [],
   "source": [
    "# inicio la optimizacion bayesiana\n",
    "\n",
    "if (!file.exists(\"HT.RDATA\")) {\n",
    "  bayesiana_salida <- mbo(obj.fun, learner= surr.km, control= ctrl)\n",
    "} else {\n",
    "  bayesiana_salida <- mboContinue(\"HT.RDATA\") # retomo en caso que ya exista\n",
    "}"
   ]
  },
  {
   "cell_type": "markdown",
   "id": "8eb6f0ab-69a9-487b-a0a6-b8d008074d6c",
   "metadata": {
    "id": "36307612-964f-4df3-907a-1bc3c095f178"
   },
   "source": [
    "la bayesian optimization ha corrido, extraigo los mejores hiperparametros"
   ]
  },
  {
   "cell_type": "code",
   "execution_count": null,
   "id": "a0db6f01-a22c-4108-8f61-8aab3f1f4928",
   "metadata": {
    "id": "8c061a2a-3341-4006-a154-c95bb6cfd407"
   },
   "outputs": [],
   "source": [
    "# almaceno los resultados de la Bayesian Optimization\n",
    "# y capturo los mejores hiperparametros encontrados\n",
    "\n",
    "tb_bayesiana <- as.data.table(bayesiana_salida$opt.path)\n",
    "\n",
    "# ordeno en forma descendente por AUC = y\n",
    "setorder(tb_bayesiana, -y, -num_iterations)\n",
    "\n",
    "# grabo para eventualmente poder utilizarlos en OTRA corrida\n",
    "fwrite( tb_bayesiana,\n",
    "  file=\"BO_log.txt\",\n",
    "  sep=\"\\t\"\n",
    ")\n",
    "\n",
    "# los mejores hiperparámetros son los que quedaron en el registro 1 de la tabla\n",
    "PARAM$out$lgbm$mejores_hiperparametros <- tb_bayesiana[\n",
    "  1, # el primero es el de mejor AUC\n",
    "  list(num_leaves, min_data_in_leaf, num_iterations)\n",
    "]\n",
    "\n",
    "print(PARAM$out$lgbm$mejores_hiperparametros)"
   ]
  },
  {
   "cell_type": "markdown",
   "id": "eabd7df5-8ce7-4271-baf6-d62c4adabe8b",
   "metadata": {
    "id": "ddb554cb-1d96-4f6b-ae1c-c9a076f8dbdc"
   },
   "source": [
    "### 9.3.3 Produccion"
   ]
  },
  {
   "cell_type": "markdown",
   "id": "ca709b60-06ae-42f5-9bce-87ec183de2d8",
   "metadata": {
    "id": "c39492c3-756f-47a5-8747-93ade8275306"
   },
   "source": [
    "#### Final Training\n",
    "Construyo el modelo final, que es uno solo, no hace ningun tipo de particion < training, validation, testing>]"
   ]
  },
  {
   "cell_type": "markdown",
   "id": "461b41e8-2e84-4b3e-a217-84af686b8c34",
   "metadata": {
    "id": "xhKi_G_sYQqq"
   },
   "source": [
    "##### Final Training Dataset\n",
    "\n",
    "Aqui esta la gran decision de en qué meses hago el Final Training\n",
    "<br> debo utilizar los mejores hiperparámetros que encontré en la optimización bayesiana"
   ]
  },
  {
   "cell_type": "code",
   "execution_count": null,
   "id": "d23196ce-f1da-4dd3-bc8b-dba3c50c4ee4",
   "metadata": {
    "id": "qyHfS_X0zd7o"
   },
   "outputs": [],
   "source": [
    "PARAM$trainingstrategy$final_train <- c(\n",
    "  201901, 201902, 201903, 201904, 201905, 201906,\n",
    "  201907, 201908, 201909, 201910, 201911, 201912,\n",
    "  202001, 202002, 202003, 202004, 202005, 202006,\n",
    "  202007, 202008, 202009, 202010, 202011, 202012,\n",
    "  202101, 202102, 202103, 202104, 202105, 202106,\n",
    "  202107\n",
    ")\n",
    "\n",
    "\n",
    "dataset[, fold_final_train := foto_mes %in% PARAM$trainingstrategy$final_train ]\n",
    "\n",
    "# creo el dfinal_train en formato  LightGBM\n",
    "dfinal_train <- lgb.Dataset(\n",
    "  data= data.matrix(dataset[fold_final_train == TRUE, campos_buenos, with= FALSE]),\n",
    "  label= dataset[fold_final_train == TRUE, clase01],\n",
    "  free_raw_data= TRUE\n",
    ")\n",
    "\n",
    "nrow( dfinal_train) # verifico el tamaño"
   ]
  },
  {
   "cell_type": "markdown",
   "id": "9c0dd11e-9c8d-4736-ae82-e899c062877d",
   "metadata": {
    "id": "HATRyklxYUpT"
   },
   "source": [
    "##### Final Training Hyperparameters"
   ]
  },
  {
   "cell_type": "code",
   "execution_count": null,
   "id": "dc34b759-56ba-4757-8809-e048664f012b",
   "metadata": {
    "id": "d6b9f33c-e0a0-4ea6-8169-4a6180cc5d01"
   },
   "outputs": [],
   "source": [
    "# uno los parametros fijos y los mejores encontrados de los variables\n",
    "fijos <- copy(PARAM$lgbm$param_fijos)\n",
    "\n",
    "# quito lo que optimice en la Bayesian Optimization\n",
    "fijos$num_iterations <- NULL\n",
    "fijos$early_stopping_rounds <- NULL\n",
    "\n",
    "# agrego a los hiperparametros fijos los que encontre con la Bayesian Optimization\n",
    "param_final <- c(fijos, PARAM$out$lgbm$mejores_hiperparametros)"
   ]
  },
  {
   "cell_type": "markdown",
   "id": "ae0007dd-82f9-4172-9ec0-441b2b45491f",
   "metadata": {
    "id": "05d3494f-0401-4f3e-9b69-f488a737879d"
   },
   "source": [
    "##### Training\n",
    "Genero el modelo final, siempre sobre TODOS los datos de  final_train, sin hacer ningun tipo de undersampling de la clase mayoritaria"
   ]
  },
  {
   "cell_type": "code",
   "execution_count": null,
   "id": "25f41d6f-50ad-4c5f-9c8f-a0cfe6980a6f",
   "metadata": {
    "id": "fa239848-1c28-4ee5-984a-073903b4b279"
   },
   "outputs": [],
   "source": [
    "final_model <- lgb.train(\n",
    "  data= dfinal_train,\n",
    "  param= param_final,\n",
    "  verbose= -100\n",
    ")"
   ]
  },
  {
   "cell_type": "code",
   "execution_count": null,
   "id": "91a9c2dc-e1d6-433d-b219-6672ca4d0c92",
   "metadata": {
    "id": "RC1ju-5MZN5s"
   },
   "outputs": [],
   "source": [
    "# grabo a disco el modelo en un formato para seres humanos ... ponele ...\n",
    "\n",
    "lgb.save(final_model, \"modelo.txt\")"
   ]
  },
  {
   "cell_type": "code",
   "execution_count": null,
   "id": "92758956-0872-43c3-a7f8-31d58447f7aa",
   "metadata": {
    "id": "VEpv4RYOZHTU"
   },
   "outputs": [],
   "source": [
    "# ahora imprimo la importancia de variables\n",
    "\n",
    "tb_importancia <- as.data.table(lgb.importance(final_model))\n",
    "archivo_importancia <- \"impo.txt\"\n",
    "\n",
    "fwrite( tb_importancia,\n",
    "  file= archivo_importancia,\n",
    "  sep= \"\\t\"\n",
    ")"
   ]
  },
  {
   "cell_type": "markdown",
   "id": "9364208a-6d63-44f4-956f-8bc6b0d19a10",
   "metadata": {
    "id": "7ea225b3-ce02-42e2-8330-b10ed250d172"
   },
   "source": [
    "#### Scoring"
   ]
  },
  {
   "cell_type": "markdown",
   "id": "ebd7c966-330f-4055-a4be-00638a131710",
   "metadata": {
    "id": "164981bb-f4c1-4228-8bc9-32e58a383c05"
   },
   "source": [
    "Aplico el modelo final a los datos del futuro"
   ]
  },
  {
   "cell_type": "code",
   "execution_count": null,
   "id": "dc45640c-5eb3-43a9-b467-5d5f6ff1b0d1",
   "metadata": {
    "id": "eJ7RbT271v-R"
   },
   "outputs": [],
   "source": [
    "PARAM$trainingstrategy$future <- c(202109)\n",
    "\n",
    "dfuture <- dataset[ foto_mes %in% PARAM$trainingstrategy$future ]"
   ]
  },
  {
   "cell_type": "code",
   "execution_count": null,
   "id": "a65a17f2-4fef-4345-9909-1ca66c7ac68a",
   "metadata": {
    "id": "88ca61c8-fa24-4ce5-8be1-323aca018e8f"
   },
   "outputs": [],
   "source": [
    "# aplico final_model   a dfuture\n",
    "\n",
    "prediccion <- predict(\n",
    "  final_model,\n",
    "  data.matrix(dfuture[, campos_buenos, with= FALSE])\n",
    ")"
   ]
  },
  {
   "cell_type": "markdown",
   "id": "c1d7fe15-db30-42e5-b3dc-651bd7360b7f",
   "metadata": {
    "id": "79u0ZvjJZblE"
   },
   "source": [
    "##### Tabla Prediccion"
   ]
  },
  {
   "cell_type": "code",
   "execution_count": null,
   "id": "5e1b5b16-082b-4038-82b3-057123273060",
   "metadata": {
    "id": "TB6aerGDZeTo"
   },
   "outputs": [],
   "source": [
    "tb_prediccion <- dfuture[, list(numero_de_cliente)]\n",
    "tb_prediccion[, prob := prediccion]\n",
    "\n",
    "# grabo las probabilidad del modelo\n",
    "#  me va a ser util para hacer Ensembles de modelos\n",
    "fwrite(tb_prediccion,\n",
    "  file= \"prediccion.txt\",\n",
    "  sep= \"\\t\"\n",
    ")"
   ]
  },
  {
   "cell_type": "markdown",
   "id": "c8c6dbea-4f9e-4005-846f-8768b846ca02",
   "metadata": {
    "id": "8412d838-5bd5-454e-b3a9-5eaa18d80a50"
   },
   "source": [
    "#### Kaggle Competition Submit"
   ]
  },
  {
   "cell_type": "markdown",
   "id": "719e9ef1-2f99-4e03-9b41-4641474e1d21",
   "metadata": {
    "id": "55970cb6-856a-46e3-a893-7f36b8352b8e"
   },
   "source": [
    "Genero las salidas y hago los submits a Kaggle"
   ]
  },
  {
   "cell_type": "code",
   "execution_count": null,
   "id": "8f2860b8-0507-41ce-9ff1-1c9d092b1bea",
   "metadata": {
    "id": "e5fa2439-b0e9-49e0-a861-71d7315d6e1c"
   },
   "outputs": [],
   "source": [
    "# genero archivos con los  \"envios\" mejores\n",
    "# suba TODOS los archivos a Kaggle\n",
    "\n",
    "PARAM$kaggle$competencia <- \"data-mining-analista-jr-2025-a\"\n",
    "PARAM$kaggle$cortes <- seq(1800, 2400, by = 100)\n",
    "\n",
    "# ordeno por probabilidad descendente\n",
    "setorder(tb_prediccion, -prob)\n",
    "\n",
    "dir.create(\"kaggle\")\n",
    "\n",
    "for (envios in PARAM$kaggle$cortes) {\n",
    "\n",
    "  tb_prediccion[, Predicted := 0L] # seteo inicial a 0\n",
    "  tb_prediccion[1:envios, Predicted := 1L] # marclo los primeros\n",
    "\n",
    "  archivo_kaggle <- paste0(\"./kaggle/KA\", PARAM$experimento, \"_\", envios, \".csv\")\n",
    "\n",
    "  # grabo el archivo\n",
    "  fwrite(tb_prediccion[, list(numero_de_cliente, Predicted)],\n",
    "    file= archivo_kaggle,\n",
    "    sep= \",\"\n",
    "  )\n",
    "\n",
    "  # subida a Kaggle, armo la linea de comando\n",
    "  comando <- \"kaggle competitions submit\"\n",
    "  competencia <- paste(\"-c\", PARAM$kaggle$competencia)\n",
    "  arch <- paste( \"-f\", archivo_kaggle)\n",
    "\n",
    "  mensaje <- paste0(\"-m 'envios=\", envios,\n",
    "  \"  semilla=\", PARAM$semilla_primigenia,\n",
    "    \"'\" )\n",
    "\n",
    "  linea <- paste( comando, competencia, arch, mensaje)\n",
    "\n",
    "  salida <- system(linea, intern=TRUE) # el submit a Kaggle\n",
    "  cat(salida, \"\\n\")\n",
    "}"
   ]
  },
  {
   "cell_type": "code",
   "execution_count": null,
   "id": "670cb4bf-f0a9-4cb9-bdd3-04fcacb989fd",
   "metadata": {
    "id": "C94tK-xid6p2"
   },
   "outputs": [],
   "source": [
    "# grabo los parametros\n",
    "if( !require(\"yaml\")) install.packages(\"yaml\")\n",
    "require(\"yaml\")\n",
    "\n",
    "write_yaml( PARAM, file=\"PARAM.yml\")"
   ]
  },
  {
   "cell_type": "code",
   "execution_count": null,
   "id": "fe3e6f76-58a9-4378-b1b6-6fcb8f6f1282",
   "metadata": {
    "id": "1b615a62-20cc-4e95-9af2-6b6db38d5efb"
   },
   "outputs": [],
   "source": [
    "format(Sys.time(), \"%a %b %d %X %Y\")"
   ]
  }
 ],
 "metadata": {
  "colab": {
   "provenance": []
  },
  "kernelspec": {
   "display_name": "R",
   "language": "R",
   "name": "ir"
  },
  "language_info": {
   "codemirror_mode": "r",
   "file_extension": ".r",
   "mimetype": "text/x-r-source",
   "name": "R",
   "pygments_lexer": "r",
   "version": "4.5.1"
  }
 },
 "nbformat": 4,
 "nbformat_minor": 5
}
