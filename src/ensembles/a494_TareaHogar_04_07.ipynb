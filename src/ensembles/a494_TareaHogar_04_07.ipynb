{
 "cells": [
  {
   "cell_type": "markdown",
   "metadata": {
    "id": "0cEmzeUKFkPh"
   },
   "source": [
    "# Tarea para el Hogar 04"
   ]
  },
  {
   "cell_type": "markdown",
   "metadata": {
    "id": "nSICPpyTGQmC"
   },
   "source": [
    "Esta Tarea para el Hogar 02 se entrega el final de la cuarta clase\n",
    "<br> se espera de usted que intente avanzar con los desafios propuestos y que los traiga terminados para la Clase 05 que será el viernes 01-agosto"
   ]
  },
  {
   "cell_type": "markdown",
   "metadata": {
    "id": "DenyKXkiJ5JN"
   },
   "source": [
    "##  1. Cazatalentos"
   ]
  },
  {
   "cell_type": "markdown",
   "metadata": {
    "id": "l-K2_ZsZGrVD"
   },
   "source": [
    "En la Clase 03 nos hemos enfrentado a  \"La Maldicion del Ganandor\",  elegir el modelo con el mejor puntaje simple no suele ser la mejor estrategia.\n",
    "<br> Lea y ejecute el notebook  **src/CazaTalentos/CazaTalentos.ipynb**\n",
    "<br> en caso de interesarle, participe del Desafío Ordenamiento  que vence el sábado 02 de agosto a las 19:00"
   ]
  },
  {
   "cell_type": "markdown",
   "metadata": {
    "id": "K9GkTOk5J9t3"
   },
   "source": [
    "## 2. Hiperparámetros del LightGBM"
   ]
  },
  {
   "cell_type": "markdown",
   "metadata": {
    "id": "VmEFy0ukKL5T"
   },
   "source": [
    "Los objetivos de esta tarea son:\n",
    "\n",
    "\n",
    "*   Aumentar la rentabilidad de la campaña de marketing de retención proactiva de clientes.\n",
    "*   Generar un mejor modelo optimizando sus hiperparámetros\n",
    "*   Conceptual : investigar los mas relevantes hiperparámetros de LightGBM\n",
    "*   Familiarizarse con la Bayesian Optimization, sus largos tiempos de corrida y opciones para reducirlos\n",
    "*   Familiarizarse con el uso de máquinas virtuales de Google Colab\n",
    "*   Ver un pipeline completo de optimización de hiperparámetros y puesta en producción"
   ]
  },
  {
   "cell_type": "markdown",
   "metadata": {
    "id": "5yvlS6JQLRMd"
   },
   "source": [
    "LightGBM cuenta con mas de 60 hiperparámetros, siendo posible utilizar 40 al mismo tiempo, aunque no razonable.\n",
    "<br> La documentación oficial de los hiperparámetros de LightGBM es  https://lightgbm.readthedocs.io/en/latest/Parameters.html#core-parameters\n"
   ]
  },
  {
   "cell_type": "markdown",
   "metadata": {
    "id": "eydI4YNAsFaf"
   },
   "source": [
    "Se lo alerta sobre que una Optimizacion Bayesiana lleva varias horas de corrida, y usted deberá correr VARIAS optimizaciones para descubrir cuales parámetros conviene optimizar.\n",
    "<br> A pesar que la próxima clase es recien en viernes 01 de agosto, inicie la tarea con tiempo, aprenda a planificar estratégicamente sus corridas como un@ científ@  de datos."
   ]
  },
  {
   "cell_type": "markdown",
   "metadata": {
    "id": "RzU4S0SeMcpp"
   },
   "source": [
    "Es necesario investigar cuales son los hiperparámetros de LightGBM que vale la pena optimizar en una Bayesian Optimization, ya que los realmente utiles son apenas un reducido subconjunto.\n",
    "<br>Usted deberá investigar cuales son los hiperparámetros mas relevantes de LightGBM, su primer alternativa es preguntándole a su amigo con capacidades especiales ChatGPT o sus endogámicos familiares Claude, DeepSeek, Gemini, Grok, etc\n",
    "<br> La segunda alternativa es la propia documentación de LightGBM  https://lightgbm.readthedocs.io/en/latest/Parameters-Tuning.html\n"
   ]
  },
  {
   "cell_type": "markdown",
   "metadata": {
    "id": "LNptUgI_NWWG"
   },
   "source": [
    "Adicionalmente podra buscar información como la que proveen esta diminuta muestra aleatoria de artículos ligeros:\n",
    "*  https://medium.com/@sarahzouinina/a-deep-dive-into-lightgbm-how-to-choose-and-tune-parameters-7c584945842e\n",
    "*  https://www.kaggle.com/code/somang1418/tuning-hyperparameters-under-10-minutes-lgbm\n",
    "*  https://towardsdatascience.com/beginners-guide-to-the-must-know-lightgbm-hyperparameters-a0005a812702/\n",
    "\n",
    "\n",
    "<br>  La muestra anterior se brinda a modo de ejemplo, usted deberá buscar muuuuchas  fuentes adicionales de información\n",
    "<br> Tenga presente que LightGBM es el estado del arte en modelado predictivo para datasets estructurado, que son el 90% del trabajo del 95% de los Data Scientists en Argentina."
   ]
  },
  {
   "cell_type": "markdown",
   "metadata": {
    "id": "WpUThBojODyK"
   },
   "source": [
    "El desafío de esta tarea es:\n",
    "* Qué hiperparparámetros conviene optimizar?  Las recomendaciones de los artículos ligeros es siempre sensata?  Sus autores realmente hicieron experimentos o son siemplemente escritores de entretenimiento carente de base científica?\n",
    "* Elegidos los hiperparámetros, cual es el  <desde, hasta> que se debe utilizar en la Bayesian Optimization ?\n",
    "* Realmente vale la pena optimizar 10 o 16 hiperparámetros al mismo tiempo ?  No resulta contraproducente una búsqueda en un espacio de tal alta dimensionalidad ?"
   ]
  },
  {
   "cell_type": "markdown",
   "metadata": {
    "id": "PX0qg_c0yqob"
   },
   "source": [
    "#### 2.1  Seteo del ambiente en Google Colab"
   ]
  },
  {
   "cell_type": "markdown",
   "metadata": {
    "id": "NGY7H9xza7Zr"
   },
   "source": [
    "Esta parte se debe correr con el runtime en Python3\n",
    "<br>Ir al menu, Runtime -> Change Runtime Type -> Runtime type ->  **Python 3**"
   ]
  },
  {
   "cell_type": "markdown",
   "metadata": {
    "id": "7PupIBNba7Zr"
   },
   "source": [
    "Conectar la virtual machine donde esta corriendo Google Colab con el  Google Drive, para poder tener persistencia de archivos"
   ]
  },
  {
   "cell_type": "code",
   "execution_count": null,
   "metadata": {
    "id": "9LpZCst5a7Zs"
   },
   "outputs": [],
   "source": [
    "# primero establecer el Runtime de Python 3\n",
    "from google.colab import drive\n",
    "drive.mount('/content/.drive')"
   ]
  },
  {
   "cell_type": "markdown",
   "metadata": {
    "id": "JYC_F-wla7Zs"
   },
   "source": [
    "Para correr la siguiente celda es fundamental en Arranque en Frio haber copiado el archivo kaggle.json al Google Drive, en la carpeta indicada en el instructivo\n",
    "\n",
    "<br>los siguientes comando estan en shell script de Linux\n",
    "*   Crear las carpetas en el Google Drive\n",
    "*   \"instalar\" el archivo kaggle.json desde el Google Drive a la virtual machine para que pueda ser utilizado por la libreria  kaggle de Python\n",
    "*   Bajar el  **dataset_pequeno**  al  Google Drive  y tambien al disco local de la virtual machine que esta corriendo Google Colab\n",
    "\n"
   ]
  },
  {
   "cell_type": "code",
   "execution_count": 1,
   "metadata": {
    "id": "XWLelftXa7Zt"
   },
   "outputs": [
    {
     "ename": "ERROR",
     "evalue": "Error in parse(text = input): <text>:1:1: unexpected SPECIAL\n1: %%\n    ^\n",
     "output_type": "error",
     "traceback": [
      "Error in parse(text = input): <text>:1:1: unexpected SPECIAL\n1: %%\n    ^\nTraceback:\n"
     ]
    }
   ],
   "source": [
    "%%shell\n",
    "\n",
    "mkdir -p \"/content/.drive/My Drive/dm\"\n",
    "mkdir -p \"/content/buckets\"\n",
    "ln -s \"/content/.drive/My Drive/dm\" /content/buckets/b1\n",
    "\n",
    "mkdir -p ~/.kaggle\n",
    "cp /content/buckets/b1/kaggle/kaggle.json  ~/.kaggle\n",
    "chmod 600 ~/.kaggle/kaggle.json\n",
    "\n",
    "\n",
    "mkdir -p /content/buckets/b1/exp\n",
    "mkdir -p /content/buckets/b1/datasets\n",
    "mkdir -p /content/datasets\n",
    "\n",
    "\n",
    "\n",
    "archivo_origen=\"https://storage.googleapis.com/open-courses/itba2025-8d0a/dataset_pequeno.csv\"\n",
    "archivo_destino=\"/content/datasets/dataset_pequeno.csv\"\n",
    "archivo_destino_bucket=\"/content/buckets/b1/datasets/dataset_pequeno.csv\"\n",
    "\n",
    "if ! test -f $archivo_destino_bucket; then\n",
    "  wget  $archivo_origen  -O $archivo_destino_bucket\n",
    "fi\n",
    "\n",
    "\n",
    "if ! test -f $archivo_destino; then\n",
    "  cp  $archivo_destino_bucket  $archivo_destino\n",
    "fi\n"
   ]
  },
  {
   "cell_type": "markdown",
   "metadata": {
    "id": "oSKhZRToy2F7"
   },
   "source": [
    "### 2.2 Optimizacion Hiperparámetros"
   ]
  },
  {
   "cell_type": "markdown",
   "metadata": {
    "id": "2kwPpHAtSmix"
   },
   "source": [
    "Esta parte se debe correr con el runtime en lenguaje R Ir al menu, Runtime -> Change Runtime Type -> Runtime type -> R"
   ]
  },
  {
   "cell_type": "markdown",
   "metadata": {
    "id": "xp4-Bj3aYI8d"
   },
   "source": [
    "### 2.2.1 Inicio"
   ]
  },
  {
   "cell_type": "markdown",
   "metadata": {
    "id": "zy8YTZfESxeJ"
   },
   "source": [
    "limpio el ambiente de R"
   ]
  },
  {
   "cell_type": "code",
   "execution_count": 1,
   "metadata": {
    "id": "gBq__iAdQliq"
   },
   "outputs": [
    {
     "data": {
      "text/html": [
       "'Wed Jul 30 16:05:45 2025'"
      ],
      "text/latex": [
       "'Wed Jul 30 16:05:45 2025'"
      ],
      "text/markdown": [
       "'Wed Jul 30 16:05:45 2025'"
      ],
      "text/plain": [
       "[1] \"Wed Jul 30 16:05:45 2025\""
      ]
     },
     "metadata": {},
     "output_type": "display_data"
    }
   ],
   "source": [
    "format(Sys.time(), \"%a %b %d %X %Y\")"
   ]
  },
  {
   "cell_type": "code",
   "execution_count": 2,
   "metadata": {
    "id": "7rdVrBojS1IV"
   },
   "outputs": [
    {
     "data": {
      "text/html": [
       "<table class=\"dataframe\">\n",
       "<caption>A matrix: 2 × 6 of type dbl</caption>\n",
       "<thead>\n",
       "\t<tr><th></th><th scope=col>used</th><th scope=col>(Mb)</th><th scope=col>gc trigger</th><th scope=col>(Mb)</th><th scope=col>max used</th><th scope=col>(Mb)</th></tr>\n",
       "</thead>\n",
       "<tbody>\n",
       "\t<tr><th scope=row>Ncells</th><td> 656930</td><td>35.1</td><td>1439342</td><td>76.9</td><td>1431338</td><td>76.5</td></tr>\n",
       "\t<tr><th scope=row>Vcells</th><td>1225015</td><td> 9.4</td><td>8388608</td><td>64.0</td><td>1924969</td><td>14.7</td></tr>\n",
       "</tbody>\n",
       "</table>\n"
      ],
      "text/latex": [
       "A matrix: 2 × 6 of type dbl\n",
       "\\begin{tabular}{r|llllll}\n",
       "  & used & (Mb) & gc trigger & (Mb) & max used & (Mb)\\\\\n",
       "\\hline\n",
       "\tNcells &  656930 & 35.1 & 1439342 & 76.9 & 1431338 & 76.5\\\\\n",
       "\tVcells & 1225015 &  9.4 & 8388608 & 64.0 & 1924969 & 14.7\\\\\n",
       "\\end{tabular}\n"
      ],
      "text/markdown": [
       "\n",
       "A matrix: 2 × 6 of type dbl\n",
       "\n",
       "| <!--/--> | used | (Mb) | gc trigger | (Mb) | max used | (Mb) |\n",
       "|---|---|---|---|---|---|---|\n",
       "| Ncells |  656930 | 35.1 | 1439342 | 76.9 | 1431338 | 76.5 |\n",
       "| Vcells | 1225015 |  9.4 | 8388608 | 64.0 | 1924969 | 14.7 |\n",
       "\n"
      ],
      "text/plain": [
       "       used    (Mb) gc trigger (Mb) max used (Mb)\n",
       "Ncells  656930 35.1 1439342    76.9 1431338  76.5\n",
       "Vcells 1225015  9.4 8388608    64.0 1924969  14.7"
      ]
     },
     "metadata": {},
     "output_type": "display_data"
    }
   ],
   "source": [
    "# limpio la memoria\n",
    "rm(list=ls(all.names=TRUE)) # remove all objects\n",
    "gc(full=TRUE, verbose=FALSE) # garbage collection"
   ]
  },
  {
   "cell_type": "markdown",
   "metadata": {
    "id": "kuPfQ7ksjwW3"
   },
   "source": [
    "### 2.2.2 Carga de Librerias"
   ]
  },
  {
   "cell_type": "code",
   "execution_count": 3,
   "metadata": {
    "id": "lVyxLaJ1j1J_"
   },
   "outputs": [
    {
     "name": "stderr",
     "output_type": "stream",
     "text": [
      "Loading required package: data.table\n",
      "\n",
      "Loading required package: parallel\n",
      "\n",
      "Loading required package: primes\n",
      "\n",
      "Loading required package: rlist\n",
      "\n",
      "Loading required package: yaml\n",
      "\n",
      "Loading required package: lightgbm\n",
      "\n",
      "Loading required package: DiceKriging\n",
      "\n",
      "Loading required package: mlrMBO\n",
      "\n",
      "Loading required package: mlr\n",
      "\n",
      "Loading required package: ParamHelpers\n",
      "\n",
      "Loading required package: smoof\n",
      "\n",
      "Loading required package: checkmate\n",
      "\n",
      "\n",
      "Attaching package: ‘checkmate’\n",
      "\n",
      "\n",
      "The following object is masked from ‘package:DiceKriging’:\n",
      "\n",
      "    checkNames\n",
      "\n",
      "\n"
     ]
    }
   ],
   "source": [
    "# cargo las librerias que necesito\n",
    "require(\"data.table\")\n",
    "require(\"parallel\")\n",
    "\n",
    "if( !require(\"primes\") ) install.packages(\"primes\")\n",
    "require(\"primes\")\n",
    "\n",
    "if( !require(\"utils\") ) install.packages(\"utils\")\n",
    "require(\"utils\")\n",
    "\n",
    "if( !require(\"rlist\") ) install.packages(\"rlist\")\n",
    "require(\"rlist\")\n",
    "\n",
    "if( !require(\"yaml\")) install.packages(\"yaml\")\n",
    "require(\"yaml\")\n",
    "\n",
    "if( !require(\"lightgbm\") ) install.packages(\"lightgbm\")\n",
    "require(\"lightgbm\")\n",
    "\n",
    "if( !require(\"DiceKriging\") ) install.packages(\"DiceKriging\")\n",
    "require(\"DiceKriging\")\n",
    "\n",
    "if( !require(\"mlrMBO\") ) install.packages(\"mlrMBO\")\n",
    "require(\"mlrMBO\")"
   ]
  },
  {
   "cell_type": "markdown",
   "metadata": {
    "id": "Iz-6Qt6BUaA3"
   },
   "source": [
    "### 2.2.3 Definicion de Parametros"
   ]
  },
  {
   "cell_type": "markdown",
   "metadata": {
    "id": "cOdlKd7lUm2I"
   },
   "source": [
    "aqui debe cargar SU semilla primigenia\n",
    "<br>recuerde cambiar el numero de experimento en cada corrida nueva"
   ]
  },
  {
   "cell_type": "code",
   "execution_count": 4,
   "metadata": {
    "id": "ASYkebOu2mF6"
   },
   "outputs": [],
   "source": [
    "PARAM <- list()\n",
    "PARAM$experimento <- 4948\n",
    "PARAM$semilla_primigenia <- 106109\n"
   ]
  },
  {
   "cell_type": "code",
   "execution_count": 5,
   "metadata": {
    "id": "ezOhQdbA293o"
   },
   "outputs": [],
   "source": [
    "PARAM$kaggle$competencia <- \"data-mining-analista-sr-2025-a\"\n",
    "PARAM$kaggle$cortes <- seq(10000, 12000, by= 500)"
   ]
  },
  {
   "cell_type": "code",
   "execution_count": 6,
   "metadata": {
    "id": "jtB0Lub42rHO"
   },
   "outputs": [],
   "source": [
    "# un undersampling de 0.1  toma solo el 10% de los CONTINUA\n",
    "# undersampling de 1.0  implica tomar TODOS los datos\n",
    "\n",
    "PARAM$trainingstrategy$undersampling <- 0.5"
   ]
  },
  {
   "cell_type": "code",
   "execution_count": 7,
   "metadata": {
    "id": "OFxm-xiNUOJX"
   },
   "outputs": [],
   "source": [
    "# Parametros LightGBM\n",
    "\n",
    "PARAM$hyperparametertuning$xval_folds <- 5\n",
    "\n",
    "# parametros fijos del LightGBM que se pisaran con la parte variable de la BO\n",
    "PARAM$lgbm$param_fijos <-  list(\n",
    "  boosting= \"gbdt\", # puede ir  dart  , ni pruebe random_forest\n",
    "  objective= \"binary\",\n",
    "  metric= \"auc\",\n",
    "  first_metric_only= FALSE,\n",
    "  boost_from_average= TRUE,\n",
    "  feature_pre_filter= FALSE,\n",
    "  force_row_wise= TRUE, # para reducir warnings\n",
    "  verbosity= -100,\n",
    "\n",
    "  seed= PARAM$semilla_primigenia,\n",
    "\n",
    "  max_depth= -1L, # -1 significa no limitar,  por ahora lo dejo fijo\n",
    "  min_gain_to_split= 0, # min_gain_to_split >= 0\n",
    "  min_sum_hessian_in_leaf= 1.098033, #  min_sum_hessian_in_leaf >= 0.0\n",
    "  lambda_l1= 0.1365645, # lambda_l1 >= 0.0\n",
    "  lambda_l2= 0.9895668, # lambda_l2 >= 0.0\n",
    "  max_bin= 31L, # lo debo dejar fijo, no participa de la BO\n",
    "\n",
    "  bagging_fraction= 1.0, # 0.0 < bagging_fraction <= 1.0\n",
    "  pos_bagging_fraction= 1.0, # 0.0 < pos_bagging_fraction <= 1.0\n",
    "  neg_bagging_fraction= 0.9319934, # 0.0 < neg_bagging_fraction <= 1.0\n",
    "  is_unbalance= FALSE, #\n",
    "  scale_pos_weight= 4.26892, # scale_pos_weight > 0.0\n",
    "\n",
    "  drop_rate= 0.1, # 0.0 < neg_bagging_fraction <= 1.0\n",
    "  max_drop= 50, # <=0 means no limit\n",
    "  skip_drop= 0.5, # 0.0 <= skip_drop <= 1.0\n",
    "\n",
    "  extra_trees= FALSE,\n",
    "\n",
    "  num_iterations= 1271,\n",
    "  learning_rate= 0.0102,\n",
    "  feature_fraction= 0.5858,\n",
    "  num_leaves= 50,\n",
    "  min_data_in_leaf= 500\n",
    ")\n"
   ]
  },
  {
   "cell_type": "markdown",
   "metadata": {
    "id": "D5Yj-JV4yvOt"
   },
   "source": [
    "Aqui se definen los hiperparámetros de LightGBM que participan de la Bayesian Optimization\n",
    "<br> si es un numero entero debe ir  makeIntegerParam\n",
    "<br> si es un numero real (con decimales) debe ir  makeNumericParam\n",
    "<br> es muy importante leer cuales son un lower y upper  permitidos y ademas razonables"
   ]
  },
  {
   "cell_type": "code",
   "execution_count": 8,
   "metadata": {
    "id": "jENpR26ZyuS8"
   },
   "outputs": [],
   "source": [
    "# Aqui se cargan los bordes de los hiperparametros de la BO\n",
    "PARAM$hypeparametertuning$hs <- makeParamSet(\n",
    "  makeNumericParam(\"learning_rate\", lower= 0.001, upper= 0.02),\n",
    "  makeNumericParam(\"drop_rate\", lower= 0.01, upper= 0.8),\n",
    "  makeIntegerParam(\"min_data_in_leaf\", lower= 8L, upper= 1000L),\n",
    "  makeNumericParam(\"bagging_fraction\", lower= 0.01, upper= 0.8),\n",
    "  makeNumericParam(\"min_gain_to_split\", lower= 0.0, upper= 0.1),\n",
    "  makeNumericParam(\"pos_bagging_fraction\", lower= 0.0, upper= 0.7)\n",
    "\n",
    "\n",
    "\n",
    ")"
   ]
  },
  {
   "cell_type": "markdown",
   "metadata": {
    "id": "-_RPFUb3zMoW"
   },
   "source": [
    "A mayor cantidad de hiperparámetros, se debe aumentar las iteraciones de la Bayesian Optimization\n",
    "<br> 30 es un valor muy tacaño, pero corre rápido\n",
    "<br> deberia partir de 50, alcanzando los 100 si se dispone de tiempo"
   ]
  },
  {
   "cell_type": "code",
   "execution_count": 9,
   "metadata": {
    "id": "q5Rd3pnbzSiG"
   },
   "outputs": [],
   "source": [
    "PARAM$hyperparametertuning$iteraciones <- 100 # iteraciones bayesianas"
   ]
  },
  {
   "cell_type": "markdown",
   "metadata": {
    "id": "4RWZXL1VZjMI"
   },
   "source": [
    "### 2.2.4  Preprocesamiento"
   ]
  },
  {
   "cell_type": "code",
   "execution_count": 10,
   "metadata": {
    "id": "j3toG9-lZm4K"
   },
   "outputs": [],
   "source": [
    "# carpeta de trabajo\n",
    "\n",
    "setwd(\"/content/buckets/b1/exp\")\n",
    "experimento_folder <- paste0(\"HT\", PARAM$experimento)\n",
    "dir.create(experimento_folder, showWarnings=FALSE)\n",
    "setwd( paste0(\"/content/buckets/b1/exp/\", experimento_folder ))"
   ]
  },
  {
   "cell_type": "code",
   "execution_count": 11,
   "metadata": {
    "id": "FM3lxKoLZ643"
   },
   "outputs": [],
   "source": [
    "# lectura del dataset\n",
    "\n",
    "dataset <- fread(\"/content/datasets/dataset_pequeno.csv\")"
   ]
  },
  {
   "cell_type": "code",
   "execution_count": 12,
   "metadata": {
    "id": "OsJ-91UeZ-I_"
   },
   "outputs": [],
   "source": [
    "dataset_train <- dataset[foto_mes %in% c(202107)]"
   ]
  },
  {
   "cell_type": "code",
   "execution_count": 13,
   "metadata": {
    "id": "vrWE7BE0aB2J"
   },
   "outputs": [],
   "source": [
    "# paso la clase a binaria que tome valores {0,1}  enteros\n",
    "#  BAJA+1 y BAJA+2  son  1,   CONTINUA es 0\n",
    "\n",
    "dataset_train[,\n",
    "  clase01 := ifelse(clase_ternaria %in% c(\"BAJA+2\",\"BAJA+1\"), 1L, 0L)\n",
    "]"
   ]
  },
  {
   "cell_type": "code",
   "execution_count": 14,
   "metadata": {
    "id": "jP7YlQBnaW6W"
   },
   "outputs": [],
   "source": [
    "# defino los datos que forma parte del training\n",
    "# aqui se hace el undersampling de los CONTINUA\n",
    "# notar que para esto utilizo la SEGUNDA semilla\n",
    "\n",
    "set.seed(PARAM$semilla_primigenia, kind = \"L'Ecuyer-CMRG\")\n",
    "dataset_train[, azar := runif(nrow(dataset_train))]\n",
    "dataset_train[, training := 0L]\n",
    "\n",
    "dataset_train[\n",
    "  foto_mes %in% c(202107) &\n",
    "    (azar <= PARAM$trainingstrategy$undersampling | clase_ternaria %in% c(\"BAJA+1\", \"BAJA+2\")),\n",
    "  training := 1L\n",
    "]"
   ]
  },
  {
   "cell_type": "code",
   "execution_count": 15,
   "metadata": {
    "id": "xElu4s5W4rX7"
   },
   "outputs": [],
   "source": [
    "# los campos que se van a utilizar\n",
    "\n",
    "campos_buenos <- setdiff(\n",
    "  colnames(dataset_train),\n",
    "  c(\"clase_ternaria\", \"clase01\", \"azar\", \"training\")\n",
    ")"
   ]
  },
  {
   "cell_type": "code",
   "execution_count": 16,
   "metadata": {
    "id": "PppMHcGYaaol"
   },
   "outputs": [
    {
     "data": {
      "text/html": [
       "83237"
      ],
      "text/latex": [
       "83237"
      ],
      "text/markdown": [
       "83237"
      ],
      "text/plain": [
       "[1] 83237"
      ]
     },
     "metadata": {},
     "output_type": "display_data"
    },
    {
     "data": {
      "text/html": [
       "154"
      ],
      "text/latex": [
       "154"
      ],
      "text/markdown": [
       "154"
      ],
      "text/plain": [
       "[1] 154"
      ]
     },
     "metadata": {},
     "output_type": "display_data"
    }
   ],
   "source": [
    "# dejo los datos en el formato que necesita LightGBM\n",
    "\n",
    "dtrain <- lgb.Dataset(\n",
    "  data= data.matrix(dataset_train[training == 1L, campos_buenos, with= FALSE]),\n",
    "  label= dataset_train[training == 1L, clase01],\n",
    "  free_raw_data= FALSE\n",
    ")\n",
    "\n",
    "nrow(dtrain)\n",
    "ncol(dtrain)"
   ]
  },
  {
   "cell_type": "markdown",
   "metadata": {
    "id": "Ta-EkOu3cphF"
   },
   "source": [
    "2.2.5 Configuracion Bayesian Optimization"
   ]
  },
  {
   "cell_type": "code",
   "execution_count": 17,
   "metadata": {
    "id": "cjgfurjdfiXb"
   },
   "outputs": [],
   "source": [
    "# En el argumento x llegan los parmaetros de la bayesiana\n",
    "#  devuelve la AUC en cross validation del modelo entrenado\n",
    "\n",
    "EstimarGanancia_AUC_lightgbm <- function(x) {\n",
    "\n",
    "  # x pisa (o agrega) a param_fijos\n",
    "  param_completo <- modifyList(PARAM$lgbm$param_fijos, x)\n",
    "\n",
    "  # entreno LightGBM\n",
    "  modelocv <- lgb.cv(\n",
    "    data= dtrain,\n",
    "    nfold= PARAM$hyperparametertuning$xval_folds,\n",
    "    stratified= TRUE,\n",
    "    param= param_completo\n",
    "  )\n",
    "\n",
    "  # obtengo la ganancia\n",
    "  AUC <- modelocv$best_score\n",
    "\n",
    "  # hago espacio en la memoria\n",
    "  rm(modelocv)\n",
    "  gc(full= TRUE, verbose= FALSE)\n",
    "\n",
    "  message(format(Sys.time(), \"%a %b %d %X %Y\"), \" AUC \", AUC)\n",
    "\n",
    "  return(AUC)\n",
    "}"
   ]
  },
  {
   "cell_type": "code",
   "execution_count": 18,
   "metadata": {
    "id": "WLi_o1hocvN-"
   },
   "outputs": [],
   "source": [
    "# Aqui comienza la configuracion de la Bayesian Optimization\n",
    "\n",
    "# en este archivo quedan la evolucion binaria de la BO\n",
    "kbayesiana <- \"bayesiana.RDATA\"\n",
    "\n",
    "funcion_optimizar <- EstimarGanancia_AUC_lightgbm # la funcion que voy a maximizar\n",
    "\n",
    "configureMlr(show.learner.output= FALSE)\n",
    "\n",
    "# configuro la busqueda bayesiana,  los hiperparametros que se van a optimizar\n",
    "# por favor, no desesperarse por lo complejo\n",
    "\n",
    "obj.fun <- makeSingleObjectiveFunction(\n",
    "  fn= funcion_optimizar, # la funcion que voy a maximizar\n",
    "  minimize= FALSE, # estoy Maximizando la ganancia\n",
    "  noisy= TRUE,\n",
    "  par.set= PARAM$hypeparametertuning$hs, # definido al comienzo del programa\n",
    "  has.simple.signature= FALSE # paso los parametros en una lista\n",
    ")\n",
    "\n",
    "# cada 600 segundos guardo el resultado intermedio\n",
    "ctrl <- makeMBOControl(\n",
    "  save.on.disk.at.time= 600, # se graba cada 600 segundos\n",
    "  save.file.path= kbayesiana\n",
    ") # se graba cada 600 segundos\n",
    "\n",
    "# indico la cantidad de iteraciones que va a tener la Bayesian Optimization\n",
    "ctrl <- setMBOControlTermination(\n",
    "  ctrl,\n",
    "  iters= PARAM$hyperparametertuning$iteraciones\n",
    ") # cantidad de iteraciones\n",
    "\n",
    "# defino el método estandar para la creacion de los puntos iniciales,\n",
    "# los \"No Inteligentes\"\n",
    "ctrl <- setMBOControlInfill(ctrl, crit= makeMBOInfillCritEI())\n",
    "\n",
    "# establezco la funcion que busca el maximo\n",
    "surr.km <- makeLearner(\n",
    "  \"regr.km\",\n",
    "  predict.type= \"se\",\n",
    "  covtype= \"matern3_2\",\n",
    "  control= list(trace= TRUE)\n",
    ")\n"
   ]
  },
  {
   "cell_type": "markdown",
   "metadata": {
    "id": "_uUeVo5pc4zc"
   },
   "source": [
    "2.2.6 Corrida Bayesian Optimization"
   ]
  },
  {
   "cell_type": "code",
   "execution_count": 19,
   "metadata": {
    "id": "RcABNaKGciaz"
   },
   "outputs": [
    {
     "name": "stderr",
     "output_type": "stream",
     "text": [
      "Computing y column(s) for design. Not provided.\n",
      "\n",
      "Wed Jul 30 16:13:40 2025 AUC 0.930722956062756\n",
      "\n",
      "Wed Jul 30 16:15:09 2025 AUC 0.930068980717605\n",
      "\n",
      "Wed Jul 30 16:16:39 2025 AUC 0.931011486758676\n",
      "\n",
      "Wed Jul 30 16:18:07 2025 AUC 0.930709439045461\n",
      "\n",
      "Wed Jul 30 16:19:35 2025 AUC 0.930354436062662\n",
      "\n",
      "Wed Jul 30 16:21:01 2025 AUC 0.929375181136847\n",
      "\n",
      "Wed Jul 30 16:22:27 2025 AUC 0.925660163479533\n",
      "\n",
      "Wed Jul 30 16:23:55 2025 AUC 0.930432855413617\n",
      "\n",
      "Wed Jul 30 16:25:23 2025 AUC 0.930511945714658\n",
      "\n",
      "Wed Jul 30 16:26:51 2025 AUC 0.928834650979746\n",
      "\n",
      "Wed Jul 30 16:28:19 2025 AUC 0.929998032674909\n",
      "\n",
      "Wed Jul 30 16:29:48 2025 AUC 0.930712066883144\n",
      "\n",
      "Wed Jul 30 16:31:17 2025 AUC 0.928782597349745\n",
      "\n",
      "Wed Jul 30 16:32:42 2025 AUC 0.929947763340309\n",
      "\n",
      "Wed Jul 30 16:34:09 2025 AUC 0.93035230550726\n",
      "\n",
      "Wed Jul 30 16:35:35 2025 AUC 0.929282434538097\n",
      "\n",
      "Wed Jul 30 16:37:03 2025 AUC 0.929543326913754\n",
      "\n",
      "Wed Jul 30 16:38:27 2025 AUC 0.928203004439137\n",
      "\n",
      "Wed Jul 30 16:39:55 2025 AUC 0.930756067135702\n",
      "\n",
      "Wed Jul 30 16:41:20 2025 AUC 0.930002530842172\n",
      "\n",
      "Wed Jul 30 16:42:47 2025 AUC 0.929973771084364\n",
      "\n",
      "Wed Jul 30 16:44:13 2025 AUC 0.93002234506234\n",
      "\n",
      "Wed Jul 30 16:45:38 2025 AUC 0.929679258473623\n",
      "\n",
      "Wed Jul 30 16:47:05 2025 AUC 0.929573904432997\n",
      "\n",
      "[mbo] 0: learning_rate=0.0105; drop_rate=0.586; min_data_in_leaf=639; bagging_fraction=0.444; min_gain_to_split=0.0152; pos_bagging_fraction=0.098 : y = 0.931 : 89.5 secs : initdesign\n",
      "\n",
      "[mbo] 0: learning_rate=0.0174; drop_rate=0.35; min_data_in_leaf=732; bagging_fraction=0.242; min_gain_to_split=0.0649; pos_bagging_fraction=0.359 : y = 0.93 : 89.1 secs : initdesign\n",
      "\n",
      "[mbo] 0: learning_rate=0.0108; drop_rate=0.504; min_data_in_leaf=684; bagging_fraction=0.118; min_gain_to_split=0.0924; pos_bagging_fraction=0.504 : y = 0.931 : 89.3 secs : initdesign\n",
      "\n",
      "[mbo] 0: learning_rate=0.0151; drop_rate=0.623; min_data_in_leaf=401; bagging_fraction=0.692; min_gain_to_split=0.0399; pos_bagging_fraction=0.447 : y = 0.931 : 88.0 secs : initdesign\n",
      "\n",
      "[mbo] 0: learning_rate=0.00601; drop_rate=0.228; min_data_in_leaf=555; bagging_fraction=0.511; min_gain_to_split=0.0176; pos_bagging_fraction=0.663 : y = 0.93 : 88.3 secs : initdesign\n",
      "\n",
      "[mbo] 0: learning_rate=0.0132; drop_rate=0.717; min_data_in_leaf=224; bagging_fraction=0.597; min_gain_to_split=0.0623; pos_bagging_fraction=0.18 : y = 0.929 : 86.4 secs : initdesign\n",
      "\n",
      "[mbo] 0: learning_rate=0.00127; drop_rate=0.458; min_data_in_leaf=350; bagging_fraction=0.302; min_gain_to_split=0.0292; pos_bagging_fraction=0.536 : y = 0.926 : 85.9 secs : initdesign\n",
      "\n",
      "[mbo] 0: learning_rate=0.014; drop_rate=0.41; min_data_in_leaf=519; bagging_fraction=0.4; min_gain_to_split=0.0532; pos_bagging_fraction=0.428 : y = 0.93 : 87.6 secs : initdesign\n",
      "\n",
      "[mbo] 0: learning_rate=0.00818; drop_rate=0.117; min_data_in_leaf=500; bagging_fraction=0.321; min_gain_to_split=0.0961; pos_bagging_fraction=0.246 : y = 0.931 : 87.9 secs : initdesign\n",
      "\n",
      "[mbo] 0: learning_rate=0.00259; drop_rate=0.679; min_data_in_leaf=107; bagging_fraction=0.643; min_gain_to_split=0.0699; pos_bagging_fraction=0.294 : y = 0.929 : 88.6 secs : initdesign\n",
      "\n",
      "[mbo] 0: learning_rate=0.0118; drop_rate=0.2; min_data_in_leaf=767; bagging_fraction=0.417; min_gain_to_split=0.0752; pos_bagging_fraction=0.676 : y = 0.93 : 87.9 secs : initdesign\n",
      "\n",
      "[mbo] 0: learning_rate=0.00545; drop_rate=0.751; min_data_in_leaf=281; bagging_fraction=0.0573; min_gain_to_split=0.0102; pos_bagging_fraction=0.484 : y = 0.931 : 88.6 secs : initdesign\n",
      "\n",
      "[mbo] 0: learning_rate=0.016; drop_rate=0.267; min_data_in_leaf=836; bagging_fraction=0.488; min_gain_to_split=0.00688; pos_bagging_fraction=0.137 : y = 0.929 : 88.8 secs : initdesign\n",
      "\n",
      "[mbo] 0: learning_rate=0.0189; drop_rate=0.793; min_data_in_leaf=304; bagging_fraction=0.229; min_gain_to_split=0.0262; pos_bagging_fraction=0.332 : y = 0.93 : 85.6 secs : initdesign\n",
      "\n",
      "[mbo] 0: learning_rate=0.00702; drop_rate=0.0511; min_data_in_leaf=184; bagging_fraction=0.785; min_gain_to_split=0.0558; pos_bagging_fraction=0.401 : y = 0.93 : 87.1 secs : initdesign\n",
      "\n",
      "[mbo] 0: learning_rate=0.0128; drop_rate=0.388; min_data_in_leaf=146; bagging_fraction=0.146; min_gain_to_split=0.0712; pos_bagging_fraction=0.0354 : y = 0.929 : 85.6 secs : initdesign\n",
      "\n",
      "[mbo] 0: learning_rate=0.0081; drop_rate=0.143; min_data_in_leaf=441; bagging_fraction=0.0103; min_gain_to_split=0.0451; pos_bagging_fraction=0.602 : y = 0.93 : 87.7 secs : initdesign\n",
      "\n",
      "[mbo] 0: learning_rate=0.00243; drop_rate=0.0273; min_data_in_leaf=892; bagging_fraction=0.195; min_gain_to_split=0.0861; pos_bagging_fraction=0.265 : y = 0.928 : 84.2 secs : initdesign\n",
      "\n",
      "[mbo] 0: learning_rate=0.00382; drop_rate=0.643; min_data_in_leaf=814; bagging_fraction=0.567; min_gain_to_split=0.0471; pos_bagging_fraction=0.208 : y = 0.931 : 88.6 secs : initdesign\n",
      "\n",
      "[mbo] 0: learning_rate=0.0161; drop_rate=0.296; min_data_in_leaf=79; bagging_fraction=0.748; min_gain_to_split=0.0356; pos_bagging_fraction=0.0148 : y = 0.93 : 84.5 secs : initdesign\n",
      "\n",
      "[mbo] 0: learning_rate=0.0182; drop_rate=0.308; min_data_in_leaf=613; bagging_fraction=0.618; min_gain_to_split=0.024; pos_bagging_fraction=0.614 : y = 0.93 : 86.7 secs : initdesign\n",
      "\n",
      "[mbo] 0: learning_rate=0.0195; drop_rate=0.471; min_data_in_leaf=979; bagging_fraction=0.713; min_gain_to_split=0.0807; pos_bagging_fraction=0.0784 : y = 0.93 : 86.0 secs : initdesign\n",
      "\n",
      "[mbo] 0: learning_rate=0.00906; drop_rate=0.556; min_data_in_leaf=43; bagging_fraction=0.342; min_gain_to_split=0.0913; pos_bagging_fraction=0.583 : y = 0.93 : 85.6 secs : initdesign\n",
      "\n",
      "[mbo] 0: learning_rate=0.00444; drop_rate=0.0901; min_data_in_leaf=925; bagging_fraction=0.0868; min_gain_to_split=0.001; pos_bagging_fraction=0.157 : y = 0.93 : 86.7 secs : initdesign\n",
      "\n",
      "Saved the current state after iteration 1 in the file bayesiana.RDATA.\n",
      "\n",
      "Wed Jul 30 16:48:35 2025 AUC 0.929806948123953\n",
      "\n",
      "[mbo] 1: learning_rate=0.00978; drop_rate=0.347; min_data_in_leaf=649; bagging_fraction=0.256; min_gain_to_split=0.096; pos_bagging_fraction=0.377 : y = 0.93 : 86.2 secs : infill_ei\n",
      "\n",
      "Wed Jul 30 16:50:06 2025 AUC 0.931247487088312\n",
      "\n",
      "[mbo] 2: learning_rate=0.00521; drop_rate=0.799; min_data_in_leaf=394; bagging_fraction=0.736; min_gain_to_split=0.0884; pos_bagging_fraction=0.257 : y = 0.931 : 90.7 secs : infill_ei\n",
      "\n",
      "Wed Jul 30 16:51:37 2025 AUC 0.9289128739125\n",
      "\n",
      "[mbo] 3: learning_rate=0.00443; drop_rate=0.794; min_data_in_leaf=292; bagging_fraction=0.787; min_gain_to_split=0.0884; pos_bagging_fraction=0.311 : y = 0.929 : 89.7 secs : infill_ei\n",
      "\n",
      "Wed Jul 30 16:53:03 2025 AUC 0.929751154658798\n",
      "\n",
      "[mbo] 4: learning_rate=0.00447; drop_rate=0.285; min_data_in_leaf=877; bagging_fraction=0.428; min_gain_to_split=0.0448; pos_bagging_fraction=0.574 : y = 0.93 : 85.7 secs : infill_ei\n",
      "\n",
      "Wed Jul 30 16:54:30 2025 AUC 0.930295624200162\n",
      "\n",
      "[mbo] 5: learning_rate=0.0108; drop_rate=0.793; min_data_in_leaf=918; bagging_fraction=0.0832; min_gain_to_split=0.0878; pos_bagging_fraction=0.644 : y = 0.93 : 86.2 secs : infill_ei\n",
      "\n",
      "Wed Jul 30 16:55:56 2025 AUC 0.930097826526736\n",
      "\n",
      "[mbo] 6: learning_rate=0.0177; drop_rate=0.603; min_data_in_leaf=457; bagging_fraction=0.139; min_gain_to_split=0.029; pos_bagging_fraction=0.547 : y = 0.93 : 85.1 secs : infill_ei\n",
      "\n",
      "Wed Jul 30 16:57:26 2025 AUC 0.930776677543797\n",
      "\n",
      "[mbo] 7: learning_rate=0.011; drop_rate=0.638; min_data_in_leaf=547; bagging_fraction=0.629; min_gain_to_split=0.0597; pos_bagging_fraction=0.666 : y = 0.931 : 88.8 secs : infill_ei\n",
      "\n",
      "Saved the current state after iteration 8 in the file bayesiana.RDATA.\n",
      "\n",
      "Wed Jul 30 16:58:56 2025 AUC 0.930552946073698\n",
      "\n",
      "[mbo] 8: learning_rate=0.00879; drop_rate=0.58; min_data_in_leaf=887; bagging_fraction=0.612; min_gain_to_split=0.0233; pos_bagging_fraction=0.222 : y = 0.931 : 86.1 secs : infill_ei\n",
      "\n",
      "Wed Jul 30 17:00:26 2025 AUC 0.930197095292291\n",
      "\n",
      "[mbo] 9: learning_rate=0.00547; drop_rate=0.764; min_data_in_leaf=515; bagging_fraction=0.669; min_gain_to_split=0.0929; pos_bagging_fraction=0.174 : y = 0.93 : 88.8 secs : infill_ei\n",
      "\n",
      "Wed Jul 30 17:01:55 2025 AUC 0.929748033721714\n",
      "\n",
      "[mbo] 10: learning_rate=0.0052; drop_rate=0.476; min_data_in_leaf=353; bagging_fraction=0.651; min_gain_to_split=0.0493; pos_bagging_fraction=0.553 : y = 0.93 : 88.4 secs : infill_ei\n",
      "\n",
      "Wed Jul 30 17:03:22 2025 AUC 0.929984410121078\n",
      "\n",
      "[mbo] 11: learning_rate=0.015; drop_rate=0.36; min_data_in_leaf=281; bagging_fraction=0.393; min_gain_to_split=0.0647; pos_bagging_fraction=0.209 : y = 0.93 : 85.9 secs : infill_ei\n",
      "\n",
      "Wed Jul 30 17:04:52 2025 AUC 0.930675584024448\n",
      "\n",
      "[mbo] 12: learning_rate=0.00733; drop_rate=0.746; min_data_in_leaf=458; bagging_fraction=0.0573; min_gain_to_split=0.0717; pos_bagging_fraction=0.603 : y = 0.931 : 89.2 secs : infill_ei\n",
      "\n",
      "Wed Jul 30 17:06:21 2025 AUC 0.931684686909289\n",
      "\n",
      "[mbo] 13: learning_rate=0.0132; drop_rate=0.656; min_data_in_leaf=810; bagging_fraction=0.502; min_gain_to_split=0.0841; pos_bagging_fraction=0.214 : y = 0.932 : 88.0 secs : infill_ei\n",
      "\n",
      "Wed Jul 30 17:07:49 2025 AUC 0.930360482199729\n",
      "\n",
      "[mbo] 14: learning_rate=0.0181; drop_rate=0.555; min_data_in_leaf=497; bagging_fraction=0.658; min_gain_to_split=0.0146; pos_bagging_fraction=0.163 : y = 0.93 : 87.1 secs : infill_ei\n",
      "\n",
      "Saved the current state after iteration 15 in the file bayesiana.RDATA.\n",
      "\n",
      "Wed Jul 30 17:09:21 2025 AUC 0.931562427078443\n",
      "\n",
      "[mbo] 15: learning_rate=0.00692; drop_rate=0.23; min_data_in_leaf=194; bagging_fraction=0.647; min_gain_to_split=0.0498; pos_bagging_fraction=0.551 : y = 0.932 : 88.9 secs : infill_ei\n",
      "\n",
      "Wed Jul 30 17:10:52 2025 AUC 0.92973319776807\n",
      "\n",
      "[mbo] 16: learning_rate=0.0037; drop_rate=0.716; min_data_in_leaf=149; bagging_fraction=0.353; min_gain_to_split=0.0879; pos_bagging_fraction=0.0195 : y = 0.93 : 89.9 secs : infill_ei\n",
      "\n",
      "Wed Jul 30 17:12:20 2025 AUC 0.929850983598095\n",
      "\n",
      "[mbo] 17: learning_rate=0.0132; drop_rate=0.743; min_data_in_leaf=724; bagging_fraction=0.559; min_gain_to_split=0.0863; pos_bagging_fraction=0.259 : y = 0.93 : 87.5 secs : infill_ei\n",
      "\n",
      "Wed Jul 30 17:13:47 2025 AUC 0.930044539145026\n",
      "\n",
      "[mbo] 18: learning_rate=0.0132; drop_rate=0.54; min_data_in_leaf=831; bagging_fraction=0.501; min_gain_to_split=0.0577; pos_bagging_fraction=0.327 : y = 0.93 : 85.7 secs : infill_ei\n",
      "\n",
      "Wed Jul 30 17:15:13 2025 AUC 0.931021712519944\n",
      "\n",
      "[mbo] 19: learning_rate=0.0133; drop_rate=0.771; min_data_in_leaf=57; bagging_fraction=0.0913; min_gain_to_split=0.0981; pos_bagging_fraction=0.208 : y = 0.931 : 85.5 secs : infill_ei\n",
      "\n",
      "Wed Jul 30 17:16:42 2025 AUC 0.930854176402518\n",
      "\n",
      "[mbo] 20: learning_rate=0.0113; drop_rate=0.0253; min_data_in_leaf=738; bagging_fraction=0.657; min_gain_to_split=0.0066; pos_bagging_fraction=0.306 : y = 0.931 : 87.6 secs : infill_ei\n",
      "\n",
      "Wed Jul 30 17:18:12 2025 AUC 0.930293308771679\n",
      "\n",
      "[mbo] 21: learning_rate=0.0147; drop_rate=0.466; min_data_in_leaf=294; bagging_fraction=0.216; min_gain_to_split=0.0585; pos_bagging_fraction=0.424 : y = 0.93 : 89.4 secs : infill_ei\n",
      "\n",
      "Saved the current state after iteration 22 in the file bayesiana.RDATA.\n",
      "\n",
      "Wed Jul 30 17:19:44 2025 AUC 0.930384239353676\n",
      "\n",
      "[mbo] 22: learning_rate=0.0069; drop_rate=0.643; min_data_in_leaf=710; bagging_fraction=0.508; min_gain_to_split=0.0496; pos_bagging_fraction=0.164 : y = 0.93 : 88.5 secs : infill_ei\n",
      "\n",
      "Wed Jul 30 17:21:15 2025 AUC 0.930792518886212\n",
      "\n",
      "[mbo] 23: learning_rate=0.0112; drop_rate=0.642; min_data_in_leaf=317; bagging_fraction=0.785; min_gain_to_split=0.0534; pos_bagging_fraction=0.238 : y = 0.931 : 89.7 secs : infill_ei\n",
      "\n",
      "Wed Jul 30 17:22:43 2025 AUC 0.930373313164152\n",
      "\n",
      "[mbo] 24: learning_rate=0.0152; drop_rate=0.656; min_data_in_leaf=263; bagging_fraction=0.502; min_gain_to_split=0.0799; pos_bagging_fraction=0.0102 : y = 0.93 : 87.0 secs : infill_ei\n",
      "\n",
      "Wed Jul 30 17:24:12 2025 AUC 0.929847951226839\n",
      "\n",
      "[mbo] 25: learning_rate=0.00797; drop_rate=0.174; min_data_in_leaf=841; bagging_fraction=0.165; min_gain_to_split=0.0486; pos_bagging_fraction=0.0812 : y = 0.93 : 88.2 secs : infill_ei\n",
      "\n",
      "Wed Jul 30 17:25:42 2025 AUC 0.928938647087343\n",
      "\n",
      "[mbo] 26: learning_rate=0.017; drop_rate=0.733; min_data_in_leaf=684; bagging_fraction=0.235; min_gain_to_split=0.0433; pos_bagging_fraction=0.462 : y = 0.929 : 89.5 secs : infill_ei\n",
      "\n",
      "Wed Jul 30 17:27:12 2025 AUC 0.93081811276868\n",
      "\n",
      "[mbo] 27: learning_rate=0.0136; drop_rate=0.55; min_data_in_leaf=523; bagging_fraction=0.669; min_gain_to_split=0.0701; pos_bagging_fraction=0.496 : y = 0.931 : 89.5 secs : infill_ei\n",
      "\n",
      "Wed Jul 30 17:28:39 2025 AUC 0.930256292879457\n",
      "\n",
      "[mbo] 28: learning_rate=0.0186; drop_rate=0.635; min_data_in_leaf=208; bagging_fraction=0.167; min_gain_to_split=0.00865; pos_bagging_fraction=0.316 : y = 0.93 : 86.1 secs : infill_ei\n",
      "\n",
      "Saved the current state after iteration 29 in the file bayesiana.RDATA.\n",
      "\n",
      "Wed Jul 30 17:30:13 2025 AUC 0.930103200343786\n",
      "\n",
      "[mbo] 29: learning_rate=0.00275; drop_rate=0.205; min_data_in_leaf=157; bagging_fraction=0.12; min_gain_to_split=0.0638; pos_bagging_fraction=0.681 : y = 0.93 : 89.8 secs : infill_ei\n",
      "\n",
      "Wed Jul 30 17:31:43 2025 AUC 0.93016791996998\n",
      "\n",
      "[mbo] 30: learning_rate=0.00962; drop_rate=0.623; min_data_in_leaf=394; bagging_fraction=0.735; min_gain_to_split=0.0652; pos_bagging_fraction=0.138 : y = 0.93 : 89.5 secs : infill_ei\n",
      "\n",
      "Wed Jul 30 17:33:11 2025 AUC 0.929709154192461\n",
      "\n",
      "[mbo] 31: learning_rate=0.0128; drop_rate=0.205; min_data_in_leaf=71; bagging_fraction=0.658; min_gain_to_split=0.00754; pos_bagging_fraction=0.188 : y = 0.93 : 86.6 secs : infill_ei\n",
      "\n",
      "Wed Jul 30 17:34:39 2025 AUC 0.929358775130236\n",
      "\n",
      "[mbo] 32: learning_rate=0.0187; drop_rate=0.251; min_data_in_leaf=919; bagging_fraction=0.232; min_gain_to_split=0.014; pos_bagging_fraction=0.354 : y = 0.929 : 87.4 secs : infill_ei\n",
      "\n",
      "Wed Jul 30 17:36:22 2025 AUC 0.931263125410311\n",
      "\n",
      "[mbo] 33: learning_rate=0.00974; drop_rate=0.0521; min_data_in_leaf=926; bagging_fraction=0.203; min_gain_to_split=0.0652; pos_bagging_fraction=0.243 : y = 0.931 : 101.9 secs : infill_ei\n",
      "\n",
      "Wed Jul 30 17:37:53 2025 AUC 0.928937855115161\n",
      "\n",
      "[mbo] 34: learning_rate=0.00288; drop_rate=0.302; min_data_in_leaf=68; bagging_fraction=0.34; min_gain_to_split=0.0724; pos_bagging_fraction=0.642 : y = 0.929 : 91.0 secs : infill_ei\n",
      "\n",
      "Wed Jul 30 17:39:23 2025 AUC 0.929921578873183\n",
      "\n",
      "[mbo] 35: learning_rate=0.0132; drop_rate=0.687; min_data_in_leaf=807; bagging_fraction=0.43; min_gain_to_split=0.0959; pos_bagging_fraction=0.185 : y = 0.93 : 89.2 secs : infill_ei\n",
      "\n",
      "Saved the current state after iteration 36 in the file bayesiana.RDATA.\n",
      "\n",
      "Wed Jul 30 17:40:55 2025 AUC 0.92629669332426\n",
      "\n",
      "[mbo] 36: learning_rate=0.00156; drop_rate=0.568; min_data_in_leaf=578; bagging_fraction=0.625; min_gain_to_split=0.00625; pos_bagging_fraction=0.159 : y = 0.926 : 86.8 secs : infill_ei\n",
      "\n",
      "Wed Jul 30 17:42:23 2025 AUC 0.930085845771721\n",
      "\n",
      "[mbo] 37: learning_rate=0.0184; drop_rate=0.064; min_data_in_leaf=997; bagging_fraction=0.274; min_gain_to_split=0.0535; pos_bagging_fraction=0.391 : y = 0.93 : 87.6 secs : infill_ei\n",
      "\n",
      "Wed Jul 30 17:43:55 2025 AUC 0.93057282672083\n",
      "\n",
      "[mbo] 38: learning_rate=0.00665; drop_rate=0.654; min_data_in_leaf=318; bagging_fraction=0.32; min_gain_to_split=0.0969; pos_bagging_fraction=0.474 : y = 0.931 : 91.0 secs : infill_ei\n",
      "\n",
      "Wed Jul 30 17:45:27 2025 AUC 0.930702380493826\n",
      "\n",
      "[mbo] 39: learning_rate=0.00457; drop_rate=0.343; min_data_in_leaf=231; bagging_fraction=0.719; min_gain_to_split=0.0497; pos_bagging_fraction=0.322 : y = 0.931 : 91.7 secs : infill_ei\n",
      "\n",
      "Wed Jul 30 17:46:56 2025 AUC 0.929975440556299\n",
      "\n",
      "[mbo] 40: learning_rate=0.017; drop_rate=0.258; min_data_in_leaf=839; bagging_fraction=0.628; min_gain_to_split=0.0405; pos_bagging_fraction=0.0185 : y = 0.93 : 87.4 secs : infill_ei\n",
      "\n",
      "Wed Jul 30 17:48:26 2025 AUC 0.9304875951752\n",
      "\n",
      "[mbo] 41: learning_rate=0.0125; drop_rate=0.633; min_data_in_leaf=727; bagging_fraction=0.128; min_gain_to_split=0.0785; pos_bagging_fraction=0.217 : y = 0.93 : 89.7 secs : infill_ei\n",
      "\n",
      "Wed Jul 30 17:49:55 2025 AUC 0.930880600973335\n",
      "\n",
      "[mbo] 42: learning_rate=0.00816; drop_rate=0.535; min_data_in_leaf=507; bagging_fraction=0.0727; min_gain_to_split=0.0816; pos_bagging_fraction=0.0159 : y = 0.931 : 88.2 secs : infill_ei\n",
      "\n",
      "Saved the current state after iteration 43 in the file bayesiana.RDATA.\n",
      "\n",
      "Wed Jul 30 17:51:24 2025 AUC 0.926910493633951\n",
      "\n",
      "[mbo] 43: learning_rate=0.00231; drop_rate=0.271; min_data_in_leaf=955; bagging_fraction=0.433; min_gain_to_split=0.0869; pos_bagging_fraction=0.546 : y = 0.927 : 82.6 secs : infill_ei\n",
      "\n",
      "Wed Jul 30 17:52:53 2025 AUC 0.93109775948506\n",
      "\n",
      "[mbo] 44: learning_rate=0.01; drop_rate=0.184; min_data_in_leaf=416; bagging_fraction=0.775; min_gain_to_split=0.0373; pos_bagging_fraction=0.101 : y = 0.931 : 88.6 secs : infill_ei\n",
      "\n",
      "Wed Jul 30 17:54:22 2025 AUC 0.930089859390467\n",
      "\n",
      "[mbo] 45: learning_rate=0.0134; drop_rate=0.633; min_data_in_leaf=719; bagging_fraction=0.679; min_gain_to_split=0.0844; pos_bagging_fraction=0.254 : y = 0.93 : 88.5 secs : infill_ei\n",
      "\n",
      "Wed Jul 30 17:55:50 2025 AUC 0.930816820316996\n",
      "\n",
      "[mbo] 46: learning_rate=0.00386; drop_rate=0.506; min_data_in_leaf=845; bagging_fraction=0.503; min_gain_to_split=0.063; pos_bagging_fraction=0.559 : y = 0.931 : 86.4 secs : infill_ei\n",
      "\n",
      "Wed Jul 30 17:57:19 2025 AUC 0.929934153969711\n",
      "\n",
      "[mbo] 47: learning_rate=0.0129; drop_rate=0.39; min_data_in_leaf=812; bagging_fraction=0.624; min_gain_to_split=0.0809; pos_bagging_fraction=0.463 : y = 0.93 : 87.7 secs : infill_ei\n",
      "\n",
      "Wed Jul 30 17:58:48 2025 AUC 0.930750882123792\n",
      "\n",
      "[mbo] 48: learning_rate=0.00867; drop_rate=0.188; min_data_in_leaf=685; bagging_fraction=0.118; min_gain_to_split=0.0431; pos_bagging_fraction=0.253 : y = 0.931 : 88.5 secs : infill_ei\n",
      "\n",
      "Wed Jul 30 18:00:16 2025 AUC 0.930067676706115\n",
      "\n",
      "[mbo] 49: learning_rate=0.00668; drop_rate=0.656; min_data_in_leaf=990; bagging_fraction=0.692; min_gain_to_split=0.0966; pos_bagging_fraction=0.377 : y = 0.93 : 86.4 secs : infill_ei\n",
      "\n",
      "Saved the current state after iteration 50 in the file bayesiana.RDATA.\n",
      "\n",
      "Wed Jul 30 18:01:47 2025 AUC 0.930010429948678\n",
      "\n",
      "[mbo] 50: learning_rate=0.0158; drop_rate=0.473; min_data_in_leaf=317; bagging_fraction=0.647; min_gain_to_split=0.0393; pos_bagging_fraction=0.647 : y = 0.93 : 86.5 secs : infill_ei\n",
      "\n",
      "Wed Jul 30 18:03:17 2025 AUC 0.931191718144839\n",
      "\n",
      "[mbo] 51: learning_rate=0.0044; drop_rate=0.111; min_data_in_leaf=628; bagging_fraction=0.734; min_gain_to_split=0.00362; pos_bagging_fraction=0.191 : y = 0.931 : 88.7 secs : infill_ei\n",
      "\n",
      "Wed Jul 30 18:04:44 2025 AUC 0.930992567315755\n",
      "\n",
      "[mbo] 52: learning_rate=0.0079; drop_rate=0.668; min_data_in_leaf=711; bagging_fraction=0.393; min_gain_to_split=0.04; pos_bagging_fraction=0.0343 : y = 0.931 : 86.9 secs : infill_ei\n",
      "\n",
      "Wed Jul 30 18:06:13 2025 AUC 0.930729075443587\n",
      "\n",
      "[mbo] 53: learning_rate=0.0114; drop_rate=0.721; min_data_in_leaf=660; bagging_fraction=0.168; min_gain_to_split=0.0925; pos_bagging_fraction=0.47 : y = 0.931 : 87.6 secs : infill_ei\n",
      "\n",
      "Wed Jul 30 18:07:41 2025 AUC 0.928633194191179\n",
      "\n",
      "[mbo] 54: learning_rate=0.0185; drop_rate=0.0874; min_data_in_leaf=762; bagging_fraction=0.604; min_gain_to_split=0.0681; pos_bagging_fraction=0.562 : y = 0.929 : 86.8 secs : infill_ei\n",
      "\n",
      "Wed Jul 30 18:09:10 2025 AUC 0.929766784612902\n",
      "\n",
      "[mbo] 55: learning_rate=0.0184; drop_rate=0.31; min_data_in_leaf=439; bagging_fraction=0.311; min_gain_to_split=0.079; pos_bagging_fraction=0.325 : y = 0.93 : 88.2 secs : infill_ei\n",
      "\n",
      "Wed Jul 30 18:10:38 2025 AUC 0.931101251955287\n",
      "\n",
      "[mbo] 56: learning_rate=0.0196; drop_rate=0.656; min_data_in_leaf=720; bagging_fraction=0.628; min_gain_to_split=0.0572; pos_bagging_fraction=0.225 : y = 0.931 : 87.1 secs : infill_ei\n",
      "\n",
      "Saved the current state after iteration 57 in the file bayesiana.RDATA.\n",
      "\n",
      "Wed Jul 30 18:12:11 2025 AUC 0.929768911040095\n",
      "\n",
      "[mbo] 57: learning_rate=0.00363; drop_rate=0.509; min_data_in_leaf=459; bagging_fraction=0.293; min_gain_to_split=0.0437; pos_bagging_fraction=0.491 : y = 0.93 : 88.2 secs : infill_ei\n",
      "\n",
      "Wed Jul 30 18:13:38 2025 AUC 0.929516672314064\n",
      "\n",
      "[mbo] 58: learning_rate=0.0147; drop_rate=0.199; min_data_in_leaf=151; bagging_fraction=0.604; min_gain_to_split=0.033; pos_bagging_fraction=0.152 : y = 0.93 : 86.1 secs : infill_ei\n",
      "\n",
      "Wed Jul 30 18:15:07 2025 AUC 0.930387974821476\n",
      "\n",
      "[mbo] 59: learning_rate=0.00547; drop_rate=0.187; min_data_in_leaf=726; bagging_fraction=0.488; min_gain_to_split=0.0453; pos_bagging_fraction=0.195 : y = 0.93 : 88.5 secs : infill_ei\n",
      "\n",
      "Wed Jul 30 18:16:36 2025 AUC 0.92933684584566\n",
      "\n",
      "[mbo] 60: learning_rate=0.0122; drop_rate=0.657; min_data_in_leaf=654; bagging_fraction=0.227; min_gain_to_split=0.0557; pos_bagging_fraction=0.334 : y = 0.929 : 88.1 secs : infill_ei\n",
      "\n",
      "Wed Jul 30 18:18:03 2025 AUC 0.929608967435263\n",
      "\n",
      "[mbo] 61: learning_rate=0.0169; drop_rate=0.529; min_data_in_leaf=940; bagging_fraction=0.732; min_gain_to_split=0.00598; pos_bagging_fraction=0.587 : y = 0.93 : 85.8 secs : infill_ei\n",
      "\n",
      "Wed Jul 30 18:19:32 2025 AUC 0.931827443945354\n",
      "\n",
      "[mbo] 62: learning_rate=0.0112; drop_rate=0.49; min_data_in_leaf=378; bagging_fraction=0.733; min_gain_to_split=0.0315; pos_bagging_fraction=0.291 : y = 0.932 : 87.9 secs : infill_ei\n",
      "\n",
      "Wed Jul 30 18:21:02 2025 AUC 0.930969256970937\n",
      "\n",
      "[mbo] 63: learning_rate=0.0048; drop_rate=0.751; min_data_in_leaf=601; bagging_fraction=0.415; min_gain_to_split=0.0486; pos_bagging_fraction=0.062 : y = 0.931 : 89.6 secs : infill_ei\n",
      "\n",
      "Saved the current state after iteration 64 in the file bayesiana.RDATA.\n",
      "\n",
      "Wed Jul 30 18:22:33 2025 AUC 0.930212923074305\n",
      "\n",
      "[mbo] 64: learning_rate=0.0169; drop_rate=0.0422; min_data_in_leaf=320; bagging_fraction=0.165; min_gain_to_split=0.0999; pos_bagging_fraction=0.506 : y = 0.93 : 86.1 secs : infill_ei\n",
      "\n",
      "Wed Jul 30 18:23:59 2025 AUC 0.93064220043444\n",
      "\n",
      "[mbo] 65: learning_rate=0.0108; drop_rate=0.235; min_data_in_leaf=68; bagging_fraction=0.779; min_gain_to_split=0.0712; pos_bagging_fraction=0.0685 : y = 0.931 : 85.8 secs : infill_ei\n",
      "\n",
      "Wed Jul 30 18:25:28 2025 AUC 0.928961192751369\n",
      "\n",
      "[mbo] 66: learning_rate=0.0175; drop_rate=0.168; min_data_in_leaf=586; bagging_fraction=0.383; min_gain_to_split=0.0674; pos_bagging_fraction=0.624 : y = 0.929 : 87.5 secs : infill_ei\n",
      "\n",
      "Wed Jul 30 18:26:55 2025 AUC 0.930224908352962\n",
      "\n",
      "[mbo] 67: learning_rate=0.0188; drop_rate=0.694; min_data_in_leaf=357; bagging_fraction=0.661; min_gain_to_split=0.0661; pos_bagging_fraction=0.651 : y = 0.93 : 86.7 secs : infill_ei\n",
      "\n",
      "Wed Jul 30 18:28:22 2025 AUC 0.929950169046578\n",
      "\n",
      "[mbo] 68: learning_rate=0.0191; drop_rate=0.473; min_data_in_leaf=323; bagging_fraction=0.36; min_gain_to_split=0.0975; pos_bagging_fraction=0.0718 : y = 0.93 : 86.1 secs : infill_ei\n",
      "\n",
      "Wed Jul 30 18:29:51 2025 AUC 0.930729797152694\n",
      "\n",
      "[mbo] 69: learning_rate=0.00854; drop_rate=0.28; min_data_in_leaf=325; bagging_fraction=0.561; min_gain_to_split=0.0442; pos_bagging_fraction=0.0038 : y = 0.931 : 87.6 secs : infill_ei\n",
      "\n",
      "Wed Jul 30 18:31:21 2025 AUC 0.930477999861109\n",
      "\n",
      "[mbo] 70: learning_rate=0.00561; drop_rate=0.211; min_data_in_leaf=440; bagging_fraction=0.793; min_gain_to_split=0.0266; pos_bagging_fraction=0.566 : y = 0.93 : 89.0 secs : infill_ei\n",
      "\n",
      "Saved the current state after iteration 71 in the file bayesiana.RDATA.\n",
      "\n",
      "Wed Jul 30 18:32:53 2025 AUC 0.930735330722789\n",
      "\n",
      "[mbo] 71: learning_rate=0.00907; drop_rate=0.0231; min_data_in_leaf=200; bagging_fraction=0.551; min_gain_to_split=0.0547; pos_bagging_fraction=0.382 : y = 0.931 : 86.8 secs : infill_ei\n",
      "\n",
      "Wed Jul 30 18:34:20 2025 AUC 0.930894123678836\n",
      "\n",
      "[mbo] 72: learning_rate=0.00882; drop_rate=0.545; min_data_in_leaf=111; bagging_fraction=0.601; min_gain_to_split=0.0306; pos_bagging_fraction=0.241 : y = 0.931 : 86.2 secs : infill_ei\n",
      "\n",
      "Wed Jul 30 18:35:49 2025 AUC 0.931065568196331\n",
      "\n",
      "[mbo] 73: learning_rate=0.012; drop_rate=0.0915; min_data_in_leaf=508; bagging_fraction=0.101; min_gain_to_split=0.0992; pos_bagging_fraction=0.0171 : y = 0.931 : 87.5 secs : infill_ei\n",
      "\n",
      "Wed Jul 30 18:37:18 2025 AUC 0.931605385525435\n",
      "\n",
      "[mbo] 74: learning_rate=0.00658; drop_rate=0.653; min_data_in_leaf=172; bagging_fraction=0.399; min_gain_to_split=0.00974; pos_bagging_fraction=0.652 : y = 0.932 : 88.4 secs : infill_ei\n",
      "\n",
      "Wed Jul 30 18:38:46 2025 AUC 0.929487002532897\n",
      "\n",
      "[mbo] 75: learning_rate=0.0123; drop_rate=0.765; min_data_in_leaf=384; bagging_fraction=0.76; min_gain_to_split=0.0256; pos_bagging_fraction=0.0123 : y = 0.929 : 87.2 secs : infill_ei\n",
      "\n",
      "Wed Jul 30 18:40:16 2025 AUC 0.931454986579065\n",
      "\n",
      "[mbo] 76: learning_rate=0.0145; drop_rate=0.111; min_data_in_leaf=518; bagging_fraction=0.77; min_gain_to_split=0.00377; pos_bagging_fraction=0.247 : y = 0.931 : 88.9 secs : infill_ei\n",
      "\n",
      "Wed Jul 30 18:41:44 2025 AUC 0.930011200236443\n",
      "\n",
      "[mbo] 77: learning_rate=0.0111; drop_rate=0.493; min_data_in_leaf=364; bagging_fraction=0.704; min_gain_to_split=0.0607; pos_bagging_fraction=0.419 : y = 0.93 : 86.4 secs : infill_ei\n",
      "\n",
      "Saved the current state after iteration 78 in the file bayesiana.RDATA.\n",
      "\n",
      "Wed Jul 30 18:43:17 2025 AUC 0.930274942805622\n",
      "\n",
      "[mbo] 78: learning_rate=0.0102; drop_rate=0.79; min_data_in_leaf=692; bagging_fraction=0.405; min_gain_to_split=0.0428; pos_bagging_fraction=0.0608 : y = 0.93 : 87.5 secs : infill_ei\n",
      "\n",
      "Wed Jul 30 18:44:44 2025 AUC 0.929638507768394\n",
      "\n",
      "[mbo] 79: learning_rate=0.0165; drop_rate=0.49; min_data_in_leaf=421; bagging_fraction=0.425; min_gain_to_split=0.0308; pos_bagging_fraction=0.0457 : y = 0.93 : 86.3 secs : infill_ei\n",
      "\n",
      "Wed Jul 30 18:46:12 2025 AUC 0.930330770302183\n",
      "\n",
      "[mbo] 80: learning_rate=0.0188; drop_rate=0.352; min_data_in_leaf=375; bagging_fraction=0.611; min_gain_to_split=0.0729; pos_bagging_fraction=0.541 : y = 0.93 : 86.6 secs : infill_ei\n",
      "\n",
      "Wed Jul 30 18:47:40 2025 AUC 0.929911620516463\n",
      "\n",
      "[mbo] 81: learning_rate=0.0151; drop_rate=0.0422; min_data_in_leaf=548; bagging_fraction=0.472; min_gain_to_split=0.0188; pos_bagging_fraction=0.0711 : y = 0.93 : 87.1 secs : infill_ei\n",
      "\n",
      "Wed Jul 30 18:49:06 2025 AUC 0.930379292836844\n",
      "\n",
      "[mbo] 82: learning_rate=0.0158; drop_rate=0.663; min_data_in_leaf=93; bagging_fraction=0.0116; min_gain_to_split=0.0996; pos_bagging_fraction=0.31 : y = 0.93 : 85.4 secs : infill_ei\n",
      "\n",
      "Wed Jul 30 18:50:35 2025 AUC 0.930806986244273\n",
      "\n",
      "[mbo] 83: learning_rate=0.0109; drop_rate=0.311; min_data_in_leaf=418; bagging_fraction=0.703; min_gain_to_split=0.0384; pos_bagging_fraction=0.283 : y = 0.931 : 87.2 secs : infill_ei\n",
      "\n",
      "Wed Jul 30 18:52:04 2025 AUC 0.929913261400694\n",
      "\n",
      "[mbo] 84: learning_rate=0.0152; drop_rate=0.697; min_data_in_leaf=451; bagging_fraction=0.733; min_gain_to_split=0.0399; pos_bagging_fraction=0.484 : y = 0.93 : 87.6 secs : infill_ei\n",
      "\n",
      "Saved the current state after iteration 85 in the file bayesiana.RDATA.\n",
      "\n",
      "Wed Jul 30 18:53:35 2025 AUC 0.930533282490976\n",
      "\n",
      "[mbo] 85: learning_rate=0.0183; drop_rate=0.0367; min_data_in_leaf=408; bagging_fraction=0.326; min_gain_to_split=0.0702; pos_bagging_fraction=0.0503 : y = 0.931 : 86.7 secs : infill_ei\n",
      "\n",
      "Wed Jul 30 18:55:04 2025 AUC 0.928963124574689\n",
      "\n",
      "[mbo] 86: learning_rate=0.00248; drop_rate=0.707; min_data_in_leaf=589; bagging_fraction=0.758; min_gain_to_split=0.0835; pos_bagging_fraction=0.262 : y = 0.929 : 87.2 secs : infill_ei\n",
      "\n",
      "Wed Jul 30 18:56:31 2025 AUC 0.929283252844711\n",
      "\n",
      "[mbo] 87: learning_rate=0.0164; drop_rate=0.208; min_data_in_leaf=684; bagging_fraction=0.379; min_gain_to_split=0.0658; pos_bagging_fraction=0.187 : y = 0.929 : 86.8 secs : infill_ei\n",
      "\n",
      "Wed Jul 30 18:57:59 2025 AUC 0.929910596784167\n",
      "\n",
      "[mbo] 88: learning_rate=0.0113; drop_rate=0.757; min_data_in_leaf=133; bagging_fraction=0.529; min_gain_to_split=0.0315; pos_bagging_fraction=0.294 : y = 0.93 : 85.4 secs : infill_ei\n",
      "\n",
      "Wed Jul 30 18:59:27 2025 AUC 0.931014052746074\n",
      "\n",
      "[mbo] 89: learning_rate=0.0175; drop_rate=0.389; min_data_in_leaf=864; bagging_fraction=0.422; min_gain_to_split=0.000267; pos_bagging_fraction=0.616 : y = 0.931 : 87.0 secs : infill_ei\n",
      "\n",
      "Wed Jul 30 19:00:54 2025 AUC 0.929102394759547\n",
      "\n",
      "[mbo] 90: learning_rate=0.014; drop_rate=0.0567; min_data_in_leaf=948; bagging_fraction=0.43; min_gain_to_split=0.0571; pos_bagging_fraction=0.166 : y = 0.929 : 86.7 secs : infill_ei\n",
      "\n",
      "Wed Jul 30 19:02:24 2025 AUC 0.929985107956312\n",
      "\n",
      "[mbo] 91: learning_rate=0.0137; drop_rate=0.684; min_data_in_leaf=577; bagging_fraction=0.779; min_gain_to_split=0.0661; pos_bagging_fraction=0.216 : y = 0.93 : 88.3 secs : infill_ei\n",
      "\n",
      "Saved the current state after iteration 92 in the file bayesiana.RDATA.\n",
      "\n",
      "Wed Jul 30 19:03:56 2025 AUC 0.929864813123855\n",
      "\n",
      "[mbo] 92: learning_rate=0.0147; drop_rate=0.212; min_data_in_leaf=581; bagging_fraction=0.682; min_gain_to_split=0.0014; pos_bagging_fraction=0.565 : y = 0.93 : 87.1 secs : infill_ei\n",
      "\n",
      "Wed Jul 30 19:05:24 2025 AUC 0.931060075514988\n",
      "\n",
      "[mbo] 93: learning_rate=0.0115; drop_rate=0.151; min_data_in_leaf=197; bagging_fraction=0.0163; min_gain_to_split=0.0918; pos_bagging_fraction=0.268 : y = 0.931 : 86.5 secs : infill_ei\n",
      "\n",
      "Wed Jul 30 19:06:52 2025 AUC 0.930499454512207\n",
      "\n",
      "[mbo] 94: learning_rate=0.0113; drop_rate=0.491; min_data_in_leaf=345; bagging_fraction=0.163; min_gain_to_split=0.0324; pos_bagging_fraction=0.287 : y = 0.93 : 86.4 secs : infill_ei\n",
      "\n",
      "Wed Jul 30 19:08:17 2025 AUC 0.925180231375874\n",
      "\n",
      "[mbo] 95: learning_rate=0.00103; drop_rate=0.375; min_data_in_leaf=396; bagging_fraction=0.738; min_gain_to_split=0.0327; pos_bagging_fraction=0.291 : y = 0.925 : 84.0 secs : infill_ei\n",
      "\n",
      "Wed Jul 30 19:09:46 2025 AUC 0.930219564202864\n",
      "\n",
      "[mbo] 96: learning_rate=0.00689; drop_rate=0.379; min_data_in_leaf=192; bagging_fraction=0.489; min_gain_to_split=0.0377; pos_bagging_fraction=0.402 : y = 0.93 : 87.7 secs : infill_ei\n",
      "\n",
      "Wed Jul 30 19:11:15 2025 AUC 0.928346325536569\n",
      "\n",
      "[mbo] 97: learning_rate=0.00215; drop_rate=0.338; min_data_in_leaf=397; bagging_fraction=0.396; min_gain_to_split=0.0793; pos_bagging_fraction=0.387 : y = 0.928 : 87.1 secs : infill_ei\n",
      "\n",
      "Wed Jul 30 19:12:42 2025 AUC 0.930651773084326\n",
      "\n",
      "[mbo] 98: learning_rate=0.0141; drop_rate=0.755; min_data_in_leaf=554; bagging_fraction=0.755; min_gain_to_split=0.0666; pos_bagging_fraction=0.0768 : y = 0.931 : 85.8 secs : infill_ei\n",
      "\n",
      "Saved the current state after iteration 99 in the file bayesiana.RDATA.\n",
      "\n",
      "Wed Jul 30 19:14:14 2025 AUC 0.929860003413071\n",
      "\n",
      "[mbo] 99: learning_rate=0.00945; drop_rate=0.73; min_data_in_leaf=685; bagging_fraction=0.436; min_gain_to_split=0.0941; pos_bagging_fraction=0.0107 : y = 0.93 : 87.5 secs : infill_ei\n",
      "\n",
      "Wed Jul 30 19:15:42 2025 AUC 0.93146713838842\n",
      "\n",
      "[mbo] 100: learning_rate=0.0116; drop_rate=0.468; min_data_in_leaf=308; bagging_fraction=0.798; min_gain_to_split=0.0631; pos_bagging_fraction=0.295 : y = 0.931 : 86.8 secs : infill_ei\n",
      "\n",
      "Saved the final state in the file bayesiana.RDATA\n",
      "\n"
     ]
    }
   ],
   "source": [
    "# inicio la optimizacion bayesiana, retomando si ya existe\n",
    "# es la celda mas lenta de todo el notebook\n",
    "\n",
    "if (!file.exists(kbayesiana)) {\n",
    "  bayesiana_salida <- mbo(obj.fun, learner= surr.km, control= ctrl)\n",
    "} else {\n",
    "  bayesiana_salida <- mboContinue(kbayesiana) # retomo en caso que ya exista\n",
    "}"
   ]
  },
  {
   "cell_type": "code",
   "execution_count": 20,
   "metadata": {
    "id": "ssk5nnMk6INK"
   },
   "outputs": [
    {
     "data": {
      "text/html": [
       "<style>\n",
       ".list-inline {list-style: none; margin:0; padding: 0}\n",
       ".list-inline>li {display: inline-block}\n",
       ".list-inline>li:not(:last-child)::after {content: \"\\00b7\"; padding: 0 .5ex}\n",
       "</style>\n",
       "<ol class=list-inline><li>'learning_rate'</li><li>'drop_rate'</li><li>'min_data_in_leaf'</li><li>'bagging_fraction'</li><li>'min_gain_to_split'</li><li>'pos_bagging_fraction'</li><li>'y'</li><li>'dob'</li><li>'eol'</li><li>'error.message'</li><li>'exec.time'</li><li>'ei'</li><li>'error.model'</li><li>'train.time'</li><li>'prop.type'</li><li>'propose.time'</li><li>'se'</li><li>'mean'</li></ol>\n"
      ],
      "text/latex": [
       "\\begin{enumerate*}\n",
       "\\item 'learning\\_rate'\n",
       "\\item 'drop\\_rate'\n",
       "\\item 'min\\_data\\_in\\_leaf'\n",
       "\\item 'bagging\\_fraction'\n",
       "\\item 'min\\_gain\\_to\\_split'\n",
       "\\item 'pos\\_bagging\\_fraction'\n",
       "\\item 'y'\n",
       "\\item 'dob'\n",
       "\\item 'eol'\n",
       "\\item 'error.message'\n",
       "\\item 'exec.time'\n",
       "\\item 'ei'\n",
       "\\item 'error.model'\n",
       "\\item 'train.time'\n",
       "\\item 'prop.type'\n",
       "\\item 'propose.time'\n",
       "\\item 'se'\n",
       "\\item 'mean'\n",
       "\\end{enumerate*}\n"
      ],
      "text/markdown": [
       "1. 'learning_rate'\n",
       "2. 'drop_rate'\n",
       "3. 'min_data_in_leaf'\n",
       "4. 'bagging_fraction'\n",
       "5. 'min_gain_to_split'\n",
       "6. 'pos_bagging_fraction'\n",
       "7. 'y'\n",
       "8. 'dob'\n",
       "9. 'eol'\n",
       "10. 'error.message'\n",
       "11. 'exec.time'\n",
       "12. 'ei'\n",
       "13. 'error.model'\n",
       "14. 'train.time'\n",
       "15. 'prop.type'\n",
       "16. 'propose.time'\n",
       "17. 'se'\n",
       "18. 'mean'\n",
       "\n",
       "\n"
      ],
      "text/plain": [
       " [1] \"learning_rate\"        \"drop_rate\"            \"min_data_in_leaf\"    \n",
       " [4] \"bagging_fraction\"     \"min_gain_to_split\"    \"pos_bagging_fraction\"\n",
       " [7] \"y\"                    \"dob\"                  \"eol\"                 \n",
       "[10] \"error.message\"        \"exec.time\"            \"ei\"                  \n",
       "[13] \"error.model\"          \"train.time\"           \"prop.type\"           \n",
       "[16] \"propose.time\"         \"se\"                   \"mean\"                "
      ]
     },
     "metadata": {},
     "output_type": "display_data"
    }
   ],
   "source": [
    "\n",
    "tb_bayesiana <- as.data.table(bayesiana_salida$opt.path)\n",
    "colnames( tb_bayesiana)"
   ]
  },
  {
   "cell_type": "code",
   "execution_count": 21,
   "metadata": {
    "id": "u4zq-vknhjGc"
   },
   "outputs": [],
   "source": [
    "# almaceno los resultados de la Bayesian Optimization\n",
    "# y capturo los mejores hiperparametros encontrados\n",
    "\n",
    "tb_bayesiana <- as.data.table(bayesiana_salida$opt.path)\n",
    "\n",
    "tb_bayesiana[, iter := .I]\n",
    "\n",
    "# ordeno en forma descendente por AUC = y\n",
    "setorder(tb_bayesiana, -y)\n",
    "\n",
    "# grabo para eventualmente poder utilizarlos en OTRA corrida\n",
    "fwrite( tb_bayesiana,\n",
    "  file= \"BO_log.txt\",\n",
    "  sep= \"\\t\"\n",
    ")\n",
    "\n",
    "# los mejores hiperparámetros son los que quedaron en el registro 1 de la tabla\n",
    "PARAM$out$lgbm$mejores_hiperparametros <- tb_bayesiana[\n",
    "  1, # el primero es el de mejor AUC\n",
    "  setdiff(colnames(tb_bayesiana),\n",
    "    c(\"y\",\"dob\",\"eol\",\"error.message\",\"exec.time\",\"ei\",\"error.model\",\n",
    "      \"train.time\",\"prop.type\",\"propose.time\",\"se\",\"mean\",\"iter\")),\n",
    "  with= FALSE\n",
    "]\n",
    "\n",
    "\n",
    "PARAM$out$lgbm$y <- tb_bayesiana[1, y]\n"
   ]
  },
  {
   "cell_type": "code",
   "execution_count": 22,
   "metadata": {
    "id": "E8v2eA427N8e"
   },
   "outputs": [],
   "source": [
    "write_yaml( PARAM, file=\"PARAM.yml\")"
   ]
  },
  {
   "cell_type": "code",
   "execution_count": 23,
   "metadata": {
    "id": "iBTWexVU7PGC"
   },
   "outputs": [
    {
     "name": "stdout",
     "output_type": "stream",
     "text": [
      "   learning_rate drop_rate min_data_in_leaf bagging_fraction min_gain_to_split\n",
      "           <num>     <num>            <int>            <num>             <num>\n",
      "1:    0.01121234 0.4900421              378        0.7327962        0.03153819\n",
      "   pos_bagging_fraction\n",
      "                  <num>\n",
      "1:            0.2908178\n",
      "[1] 0.9318274\n"
     ]
    }
   ],
   "source": [
    "print(PARAM$out$lgbm$mejores_hiperparametros)\n",
    "print(PARAM$out$lgbm$y)"
   ]
  },
  {
   "cell_type": "markdown",
   "metadata": {
    "id": "TKsVZmAnhwX-"
   },
   "source": [
    "## 2.3  Produccion"
   ]
  },
  {
   "cell_type": "markdown",
   "metadata": {
    "id": "RQ_C33Tr5B_9"
   },
   "source": [
    "### Final Training\n",
    "Construyo el modelo final, que es uno solo, no hace ningun tipo de particion < training, validation, testing>]"
   ]
  },
  {
   "cell_type": "code",
   "execution_count": 24,
   "metadata": {
    "id": "eDqfyA14hzwv"
   },
   "outputs": [],
   "source": [
    "setwd(\"/content/buckets/b1/exp\")\n",
    "experimento <- paste0(\"exp\", PARAM$experimento)\n",
    "dir.create(experimento, showWarnings= FALSE)\n",
    "setwd( paste0(\"/content/buckets/b1/exp/\", experimento ))"
   ]
  },
  {
   "cell_type": "markdown",
   "metadata": {
    "id": "8qFmFivf5Iet"
   },
   "source": [
    "#### Final Training Dataset\n",
    "\n",
    "Aqui esta la gran decision de en qué meses hago el Final Training\n",
    "<br> debo utilizar los mejores hiperparámetros que encontré en la optimización bayesiana"
   ]
  },
  {
   "cell_type": "code",
   "execution_count": 25,
   "metadata": {
    "id": "lg5WVZncvc7H"
   },
   "outputs": [],
   "source": [
    "# clase01\n",
    "dataset[, clase01 := ifelse(clase_ternaria %in% c(\"BAJA+1\", \"BAJA+2\"), 1L, 0L)]"
   ]
  },
  {
   "cell_type": "code",
   "execution_count": 26,
   "metadata": {
    "id": "yc9QzXREv0xf"
   },
   "outputs": [],
   "source": [
    "dataset_train <- dataset[foto_mes %in% c(202107)]"
   ]
  },
  {
   "cell_type": "code",
   "execution_count": 27,
   "metadata": {
    "id": "thjdqEBLuvNt"
   },
   "outputs": [],
   "source": [
    "# dejo los datos en el formato que necesita LightGBM\n",
    "\n",
    "dtrain <- lgb.Dataset(\n",
    "  data= data.matrix(dataset_train[, campos_buenos, with= FALSE]),\n",
    "  label= dataset_train[, clase01]\n",
    ")"
   ]
  },
  {
   "cell_type": "markdown",
   "metadata": {
    "id": "VNUa-WSz5Oqu"
   },
   "source": [
    "#### Final Training Hyperparameters"
   ]
  },
  {
   "cell_type": "code",
   "execution_count": 28,
   "metadata": {
    "id": "FgCcvBfEwImu"
   },
   "outputs": [
    {
     "data": {
      "text/html": [
       "<dl>\n",
       "\t<dt>$boosting</dt>\n",
       "\t\t<dd>'gbdt'</dd>\n",
       "\t<dt>$objective</dt>\n",
       "\t\t<dd>'binary'</dd>\n",
       "\t<dt>$metric</dt>\n",
       "\t\t<dd>'auc'</dd>\n",
       "\t<dt>$first_metric_only</dt>\n",
       "\t\t<dd>FALSE</dd>\n",
       "\t<dt>$boost_from_average</dt>\n",
       "\t\t<dd>TRUE</dd>\n",
       "\t<dt>$feature_pre_filter</dt>\n",
       "\t\t<dd>FALSE</dd>\n",
       "\t<dt>$force_row_wise</dt>\n",
       "\t\t<dd>TRUE</dd>\n",
       "\t<dt>$verbosity</dt>\n",
       "\t\t<dd>-100</dd>\n",
       "\t<dt>$seed</dt>\n",
       "\t\t<dd>106109</dd>\n",
       "\t<dt>$max_depth</dt>\n",
       "\t\t<dd>-1</dd>\n",
       "\t<dt>$min_gain_to_split</dt>\n",
       "\t\t<dd>0.0315381924444679</dd>\n",
       "\t<dt>$min_sum_hessian_in_leaf</dt>\n",
       "\t\t<dd>1.098033</dd>\n",
       "\t<dt>$lambda_l1</dt>\n",
       "\t\t<dd>0.1365645</dd>\n",
       "\t<dt>$lambda_l2</dt>\n",
       "\t\t<dd>0.9895668</dd>\n",
       "\t<dt>$max_bin</dt>\n",
       "\t\t<dd>31</dd>\n",
       "\t<dt>$bagging_fraction</dt>\n",
       "\t\t<dd>0.732796216494363</dd>\n",
       "\t<dt>$pos_bagging_fraction</dt>\n",
       "\t\t<dd>0.290817803479173</dd>\n",
       "\t<dt>$neg_bagging_fraction</dt>\n",
       "\t\t<dd>0.9319934</dd>\n",
       "\t<dt>$is_unbalance</dt>\n",
       "\t\t<dd>FALSE</dd>\n",
       "\t<dt>$scale_pos_weight</dt>\n",
       "\t\t<dd>4.26892</dd>\n",
       "\t<dt>$drop_rate</dt>\n",
       "\t\t<dd>0.490042108003779</dd>\n",
       "\t<dt>$max_drop</dt>\n",
       "\t\t<dd>50</dd>\n",
       "\t<dt>$skip_drop</dt>\n",
       "\t\t<dd>0.5</dd>\n",
       "\t<dt>$extra_trees</dt>\n",
       "\t\t<dd>FALSE</dd>\n",
       "\t<dt>$num_iterations</dt>\n",
       "\t\t<dd>1271</dd>\n",
       "\t<dt>$learning_rate</dt>\n",
       "\t\t<dd>0.0112123426639438</dd>\n",
       "\t<dt>$feature_fraction</dt>\n",
       "\t\t<dd>0.5858</dd>\n",
       "\t<dt>$num_leaves</dt>\n",
       "\t\t<dd>50</dd>\n",
       "\t<dt>$min_data_in_leaf</dt>\n",
       "\t\t<dd>378</dd>\n",
       "</dl>\n"
      ],
      "text/latex": [
       "\\begin{description}\n",
       "\\item[\\$boosting] 'gbdt'\n",
       "\\item[\\$objective] 'binary'\n",
       "\\item[\\$metric] 'auc'\n",
       "\\item[\\$first\\_metric\\_only] FALSE\n",
       "\\item[\\$boost\\_from\\_average] TRUE\n",
       "\\item[\\$feature\\_pre\\_filter] FALSE\n",
       "\\item[\\$force\\_row\\_wise] TRUE\n",
       "\\item[\\$verbosity] -100\n",
       "\\item[\\$seed] 106109\n",
       "\\item[\\$max\\_depth] -1\n",
       "\\item[\\$min\\_gain\\_to\\_split] 0.0315381924444679\n",
       "\\item[\\$min\\_sum\\_hessian\\_in\\_leaf] 1.098033\n",
       "\\item[\\$lambda\\_l1] 0.1365645\n",
       "\\item[\\$lambda\\_l2] 0.9895668\n",
       "\\item[\\$max\\_bin] 31\n",
       "\\item[\\$bagging\\_fraction] 0.732796216494363\n",
       "\\item[\\$pos\\_bagging\\_fraction] 0.290817803479173\n",
       "\\item[\\$neg\\_bagging\\_fraction] 0.9319934\n",
       "\\item[\\$is\\_unbalance] FALSE\n",
       "\\item[\\$scale\\_pos\\_weight] 4.26892\n",
       "\\item[\\$drop\\_rate] 0.490042108003779\n",
       "\\item[\\$max\\_drop] 50\n",
       "\\item[\\$skip\\_drop] 0.5\n",
       "\\item[\\$extra\\_trees] FALSE\n",
       "\\item[\\$num\\_iterations] 1271\n",
       "\\item[\\$learning\\_rate] 0.0112123426639438\n",
       "\\item[\\$feature\\_fraction] 0.5858\n",
       "\\item[\\$num\\_leaves] 50\n",
       "\\item[\\$min\\_data\\_in\\_leaf] 378\n",
       "\\end{description}\n"
      ],
      "text/markdown": [
       "$boosting\n",
       ":   'gbdt'\n",
       "$objective\n",
       ":   'binary'\n",
       "$metric\n",
       ":   'auc'\n",
       "$first_metric_only\n",
       ":   FALSE\n",
       "$boost_from_average\n",
       ":   TRUE\n",
       "$feature_pre_filter\n",
       ":   FALSE\n",
       "$force_row_wise\n",
       ":   TRUE\n",
       "$verbosity\n",
       ":   -100\n",
       "$seed\n",
       ":   106109\n",
       "$max_depth\n",
       ":   -1\n",
       "$min_gain_to_split\n",
       ":   0.0315381924444679\n",
       "$min_sum_hessian_in_leaf\n",
       ":   1.098033\n",
       "$lambda_l1\n",
       ":   0.1365645\n",
       "$lambda_l2\n",
       ":   0.9895668\n",
       "$max_bin\n",
       ":   31\n",
       "$bagging_fraction\n",
       ":   0.732796216494363\n",
       "$pos_bagging_fraction\n",
       ":   0.290817803479173\n",
       "$neg_bagging_fraction\n",
       ":   0.9319934\n",
       "$is_unbalance\n",
       ":   FALSE\n",
       "$scale_pos_weight\n",
       ":   4.26892\n",
       "$drop_rate\n",
       ":   0.490042108003779\n",
       "$max_drop\n",
       ":   50\n",
       "$skip_drop\n",
       ":   0.5\n",
       "$extra_trees\n",
       ":   FALSE\n",
       "$num_iterations\n",
       ":   1271\n",
       "$learning_rate\n",
       ":   0.0112123426639438\n",
       "$feature_fraction\n",
       ":   0.5858\n",
       "$num_leaves\n",
       ":   50\n",
       "$min_data_in_leaf\n",
       ":   378\n",
       "\n",
       "\n"
      ],
      "text/plain": [
       "$boosting\n",
       "[1] \"gbdt\"\n",
       "\n",
       "$objective\n",
       "[1] \"binary\"\n",
       "\n",
       "$metric\n",
       "[1] \"auc\"\n",
       "\n",
       "$first_metric_only\n",
       "[1] FALSE\n",
       "\n",
       "$boost_from_average\n",
       "[1] TRUE\n",
       "\n",
       "$feature_pre_filter\n",
       "[1] FALSE\n",
       "\n",
       "$force_row_wise\n",
       "[1] TRUE\n",
       "\n",
       "$verbosity\n",
       "[1] -100\n",
       "\n",
       "$seed\n",
       "[1] 106109\n",
       "\n",
       "$max_depth\n",
       "[1] -1\n",
       "\n",
       "$min_gain_to_split\n",
       "[1] 0.03153819\n",
       "\n",
       "$min_sum_hessian_in_leaf\n",
       "[1] 1.098033\n",
       "\n",
       "$lambda_l1\n",
       "[1] 0.1365645\n",
       "\n",
       "$lambda_l2\n",
       "[1] 0.9895668\n",
       "\n",
       "$max_bin\n",
       "[1] 31\n",
       "\n",
       "$bagging_fraction\n",
       "[1] 0.7327962\n",
       "\n",
       "$pos_bagging_fraction\n",
       "[1] 0.2908178\n",
       "\n",
       "$neg_bagging_fraction\n",
       "[1] 0.9319934\n",
       "\n",
       "$is_unbalance\n",
       "[1] FALSE\n",
       "\n",
       "$scale_pos_weight\n",
       "[1] 4.26892\n",
       "\n",
       "$drop_rate\n",
       "[1] 0.4900421\n",
       "\n",
       "$max_drop\n",
       "[1] 50\n",
       "\n",
       "$skip_drop\n",
       "[1] 0.5\n",
       "\n",
       "$extra_trees\n",
       "[1] FALSE\n",
       "\n",
       "$num_iterations\n",
       "[1] 1271\n",
       "\n",
       "$learning_rate\n",
       "[1] 0.01121234\n",
       "\n",
       "$feature_fraction\n",
       "[1] 0.5858\n",
       "\n",
       "$num_leaves\n",
       "[1] 50\n",
       "\n",
       "$min_data_in_leaf\n",
       "[1] 378\n"
      ]
     },
     "metadata": {},
     "output_type": "display_data"
    }
   ],
   "source": [
    "param_final <- modifyList(PARAM$lgbm$param_fijos,\n",
    "  PARAM$out$lgbm$mejores_hiperparametros)\n",
    "\n",
    "param_final"
   ]
  },
  {
   "cell_type": "markdown",
   "metadata": {
    "id": "TZIYn4l95TBH"
   },
   "source": [
    "#### Training\n",
    "Genero el modelo final, siempre sobre TODOS los datos de  final_train, sin hacer ningun tipo de undersampling de la clase mayoritaria"
   ]
  },
  {
   "cell_type": "code",
   "execution_count": 29,
   "metadata": {
    "id": "vPLsd4mMRe4u"
   },
   "outputs": [],
   "source": [
    "# este punto es muy SUTIL  y será revisado en la Clase 05\n",
    "\n",
    "param_normalizado <- copy(param_final)\n",
    "param_normalizado$min_data_in_leaf <-  param_final$min_data_in_leaf / PARAM$trainingstrategy$undersampling"
   ]
  },
  {
   "cell_type": "code",
   "execution_count": 30,
   "metadata": {
    "id": "WRI_-taRwOXO"
   },
   "outputs": [],
   "source": [
    "  # entreno LightGBM\n",
    "\n",
    "  modelo_final <- lgb.train(\n",
    "    data= dtrain,\n",
    "    param= param_normalizado\n",
    "  )"
   ]
  },
  {
   "cell_type": "code",
   "execution_count": 31,
   "metadata": {
    "id": "_bkhnCvj0g3Q"
   },
   "outputs": [],
   "source": [
    "# ahora imprimo la importancia de variables\n",
    "\n",
    "tb_importancia <- as.data.table(lgb.importance(modelo_final))\n",
    "archivo_importancia <- \"impo.txt\"\n",
    "\n",
    "fwrite(tb_importancia,\n",
    "  file= archivo_importancia,\n",
    "  sep= \"\\t\"\n",
    ")"
   ]
  },
  {
   "cell_type": "code",
   "execution_count": 32,
   "metadata": {
    "id": "lZ3sLmbh0kFj"
   },
   "outputs": [],
   "source": [
    "# grabo a disco el modelo en un formato para seres humanos ... ponele ...\n",
    "\n",
    "lgb.save(modelo_final, \"modelo.txt\" )"
   ]
  },
  {
   "cell_type": "markdown",
   "metadata": {
    "id": "VEtp2--t5Ymg"
   },
   "source": [
    "### Scoring"
   ]
  },
  {
   "cell_type": "markdown",
   "metadata": {
    "id": "hI5008Mj5ZdI"
   },
   "source": [
    "Aplico el modelo final a los datos del futuro"
   ]
  },
  {
   "cell_type": "code",
   "execution_count": 33,
   "metadata": {
    "id": "PimBY3N_0ryP"
   },
   "outputs": [],
   "source": [
    "# aplico el modelo a los datos sin clase\n",
    "dfuture <- dataset[foto_mes == 202109]\n",
    "\n",
    "# aplico el modelo a los datos nuevos\n",
    "prediccion <- predict(\n",
    "  modelo_final,\n",
    "  data.matrix(dfuture[, campos_buenos, with= FALSE])\n",
    ")"
   ]
  },
  {
   "cell_type": "markdown",
   "metadata": {
    "id": "D26rNRh55gpw"
   },
   "source": [
    "#### Tabla Prediccion"
   ]
  },
  {
   "cell_type": "code",
   "execution_count": 34,
   "metadata": {
    "id": "RJwg7LHd11yu"
   },
   "outputs": [],
   "source": [
    "# tabla de prediccion\n",
    "\n",
    "tb_prediccion <- dfuture[, list(numero_de_cliente)]\n",
    "tb_prediccion[, prob := prediccion ]\n",
    "\n",
    "# grabo las probabilidad del modelo\n",
    "fwrite(tb_prediccion,\n",
    "  file= \"prediccion.txt\",\n",
    "  sep= \"\\t\"\n",
    ")"
   ]
  },
  {
   "cell_type": "markdown",
   "metadata": {
    "id": "jOt4eG_55ltv"
   },
   "source": [
    "Kaggle Competition Submit"
   ]
  },
  {
   "cell_type": "code",
   "execution_count": 35,
   "metadata": {
    "id": "gWW3tatE12je"
   },
   "outputs": [
    {
     "name": "stdout",
     "output_type": "stream",
     "text": [
      "Successfully submitted to Data Mining, Analista Sr 2025A \n",
      "Successfully submitted to Data Mining, Analista Sr 2025A \n",
      "Successfully submitted to Data Mining, Analista Sr 2025A \n",
      "Successfully submitted to Data Mining, Analista Sr 2025A \n",
      "Successfully submitted to Data Mining, Analista Sr 2025A \n"
     ]
    }
   ],
   "source": [
    "# genero archivos con los  \"envios\" mejores\n",
    "# suba TODOS los archivos a Kaggle\n",
    "\n",
    "# ordeno por probabilidad descendente\n",
    "setorder(tb_prediccion, -prob)\n",
    "\n",
    "dir.create(\"kaggle\")\n",
    "\n",
    "for (envios in PARAM$kaggle$cortes) {\n",
    "\n",
    "  tb_prediccion[, Predicted := 0L] # seteo inicial a 0\n",
    "  tb_prediccion[1:envios, Predicted := 1L] # marclo los primeros\n",
    "\n",
    "  archivo_kaggle <- paste0(\"./kaggle/KA\", PARAM$experimento, \"_\", envios, \".csv\")\n",
    "\n",
    "  # grabo el archivo\n",
    "  fwrite(tb_prediccion[, list(numero_de_cliente, Predicted)],\n",
    "    file= archivo_kaggle,\n",
    "    sep= \",\"\n",
    "  )\n",
    "\n",
    "  # subida a Kaggle, armo la linea de comando\n",
    "  comando <- \"kaggle competitions submit\"\n",
    "  competencia <- paste(\"-c\", PARAM$kaggle$competencia)\n",
    "  arch <- paste( \"-f\", archivo_kaggle)\n",
    "\n",
    "  mensaje <- paste0(\"-m 'envios=\", envios,\n",
    "  \"  semilla=\", PARAM$semilla_primigenia,\n",
    "    \"'\" )\n",
    "\n",
    "  linea <- paste( comando, competencia, arch, mensaje)\n",
    "\n",
    "  salida <- system(linea, intern=TRUE) # el submit a Kaggle\n",
    "  cat(salida, \"\\n\")\n",
    "}"
   ]
  },
  {
   "cell_type": "code",
   "execution_count": 36,
   "metadata": {
    "id": "B9tB2X4439Hg"
   },
   "outputs": [],
   "source": [
    "write_yaml( PARAM, file=\"PARAM.yml\")"
   ]
  },
  {
   "cell_type": "code",
   "execution_count": 37,
   "metadata": {
    "id": "9zA_W25c15DP"
   },
   "outputs": [
    {
     "data": {
      "text/html": [
       "'Wed Jul 30 19:17:07 2025'"
      ],
      "text/latex": [
       "'Wed Jul 30 19:17:07 2025'"
      ],
      "text/markdown": [
       "'Wed Jul 30 19:17:07 2025'"
      ],
      "text/plain": [
       "[1] \"Wed Jul 30 19:17:07 2025\""
      ]
     },
     "metadata": {},
     "output_type": "display_data"
    }
   ],
   "source": [
    "format(Sys.time(), \"%a %b %d %X %Y\")"
   ]
  },
  {
   "cell_type": "markdown",
   "metadata": {
    "id": "UdVZucdLHzZ0"
   },
   "source": [
    "Finalmente usted deberá cargar el resultado de su corrida en la Google Sheet Colaborativa,  hoja **TareaHogar04**\n",
    "<br> Siéntase libre de agregar las columnas que hagan falta a la planilla"
   ]
  },
  {
   "cell_type": "code",
   "execution_count": null,
   "metadata": {
    "id": "WMHh7uNVIJkT"
   },
   "outputs": [],
   "source": []
  },
  {
   "cell_type": "code",
   "execution_count": null,
   "metadata": {},
   "outputs": [],
   "source": []
  },
  {
   "cell_type": "code",
   "execution_count": null,
   "metadata": {},
   "outputs": [],
   "source": []
  },
  {
   "cell_type": "code",
   "execution_count": null,
   "metadata": {},
   "outputs": [],
   "source": []
  },
  {
   "cell_type": "code",
   "execution_count": null,
   "metadata": {},
   "outputs": [],
   "source": []
  },
  {
   "cell_type": "code",
   "execution_count": null,
   "metadata": {},
   "outputs": [],
   "source": []
  },
  {
   "cell_type": "code",
   "execution_count": null,
   "metadata": {},
   "outputs": [],
   "source": []
  }
 ],
 "metadata": {
  "colab": {
   "provenance": []
  },
  "kernelspec": {
   "display_name": "R",
   "language": "R",
   "name": "ir"
  },
  "language_info": {
   "codemirror_mode": "r",
   "file_extension": ".r",
   "mimetype": "text/x-r-source",
   "name": "R",
   "pygments_lexer": "r",
   "version": "4.4.3"
  }
 },
 "nbformat": 4,
 "nbformat_minor": 4
}
