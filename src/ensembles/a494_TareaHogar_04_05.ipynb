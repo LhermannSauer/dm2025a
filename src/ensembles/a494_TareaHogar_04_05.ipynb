{
 "cells": [
  {
   "cell_type": "markdown",
   "metadata": {
    "id": "0cEmzeUKFkPh"
   },
   "source": [
    "# Tarea para el Hogar 04"
   ]
  },
  {
   "cell_type": "markdown",
   "metadata": {
    "id": "nSICPpyTGQmC"
   },
   "source": [
    "Esta Tarea para el Hogar 02 se entrega el final de la cuarta clase\n",
    "<br> se espera de usted que intente avanzar con los desafios propuestos y que los traiga terminados para la Clase 05 que será el viernes 01-agosto"
   ]
  },
  {
   "cell_type": "markdown",
   "metadata": {
    "id": "DenyKXkiJ5JN"
   },
   "source": [
    "##  1. Cazatalentos"
   ]
  },
  {
   "cell_type": "markdown",
   "metadata": {
    "id": "l-K2_ZsZGrVD"
   },
   "source": [
    "En la Clase 03 nos hemos enfrentado a  \"La Maldicion del Ganandor\",  elegir el modelo con el mejor puntaje simple no suele ser la mejor estrategia.\n",
    "<br> Lea y ejecute el notebook  **src/CazaTalentos/CazaTalentos.ipynb**\n",
    "<br> en caso de interesarle, participe del Desafío Ordenamiento  que vence el sábado 02 de agosto a las 19:00"
   ]
  },
  {
   "cell_type": "markdown",
   "metadata": {
    "id": "K9GkTOk5J9t3"
   },
   "source": [
    "## 2. Hiperparámetros del LightGBM"
   ]
  },
  {
   "cell_type": "markdown",
   "metadata": {
    "id": "VmEFy0ukKL5T"
   },
   "source": [
    "Los objetivos de esta tarea son:\n",
    "\n",
    "\n",
    "*   Aumentar la rentabilidad de la campaña de marketing de retención proactiva de clientes.\n",
    "*   Generar un mejor modelo optimizando sus hiperparámetros\n",
    "*   Conceptual : investigar los mas relevantes hiperparámetros de LightGBM\n",
    "*   Familiarizarse con la Bayesian Optimization, sus largos tiempos de corrida y opciones para reducirlos\n",
    "*   Familiarizarse con el uso de máquinas virtuales de Google Colab\n",
    "*   Ver un pipeline completo de optimización de hiperparámetros y puesta en producción"
   ]
  },
  {
   "cell_type": "markdown",
   "metadata": {
    "id": "5yvlS6JQLRMd"
   },
   "source": [
    "LightGBM cuenta con mas de 60 hiperparámetros, siendo posible utilizar 40 al mismo tiempo, aunque no razonable.\n",
    "<br> La documentación oficial de los hiperparámetros de LightGBM es  https://lightgbm.readthedocs.io/en/latest/Parameters.html#core-parameters\n"
   ]
  },
  {
   "cell_type": "markdown",
   "metadata": {
    "id": "eydI4YNAsFaf"
   },
   "source": [
    "Se lo alerta sobre que una Optimizacion Bayesiana lleva varias horas de corrida, y usted deberá correr VARIAS optimizaciones para descubrir cuales parámetros conviene optimizar.\n",
    "<br> A pesar que la próxima clase es recien en viernes 01 de agosto, inicie la tarea con tiempo, aprenda a planificar estratégicamente sus corridas como un@ científ@  de datos."
   ]
  },
  {
   "cell_type": "markdown",
   "metadata": {
    "id": "RzU4S0SeMcpp"
   },
   "source": [
    "Es necesario investigar cuales son los hiperparámetros de LightGBM que vale la pena optimizar en una Bayesian Optimization, ya que los realmente utiles son apenas un reducido subconjunto.\n",
    "<br>Usted deberá investigar cuales son los hiperparámetros mas relevantes de LightGBM, su primer alternativa es preguntándole a su amigo con capacidades especiales ChatGPT o sus endogámicos familiares Claude, DeepSeek, Gemini, Grok, etc\n",
    "<br> La segunda alternativa es la propia documentación de LightGBM  https://lightgbm.readthedocs.io/en/latest/Parameters-Tuning.html\n"
   ]
  },
  {
   "cell_type": "markdown",
   "metadata": {
    "id": "LNptUgI_NWWG"
   },
   "source": [
    "Adicionalmente podra buscar información como la que proveen esta diminuta muestra aleatoria de artículos ligeros:\n",
    "*  https://medium.com/@sarahzouinina/a-deep-dive-into-lightgbm-how-to-choose-and-tune-parameters-7c584945842e\n",
    "*  https://www.kaggle.com/code/somang1418/tuning-hyperparameters-under-10-minutes-lgbm\n",
    "*  https://towardsdatascience.com/beginners-guide-to-the-must-know-lightgbm-hyperparameters-a0005a812702/\n",
    "\n",
    "\n",
    "<br>  La muestra anterior se brinda a modo de ejemplo, usted deberá buscar muuuuchas  fuentes adicionales de información\n",
    "<br> Tenga presente que LightGBM es el estado del arte en modelado predictivo para datasets estructurado, que son el 90% del trabajo del 95% de los Data Scientists en Argentina."
   ]
  },
  {
   "cell_type": "markdown",
   "metadata": {
    "id": "WpUThBojODyK"
   },
   "source": [
    "El desafío de esta tarea es:\n",
    "* Qué hiperparparámetros conviene optimizar?  Las recomendaciones de los artículos ligeros es siempre sensata?  Sus autores realmente hicieron experimentos o son siemplemente escritores de entretenimiento carente de base científica?\n",
    "* Elegidos los hiperparámetros, cual es el  <desde, hasta> que se debe utilizar en la Bayesian Optimization ?\n",
    "* Realmente vale la pena optimizar 10 o 16 hiperparámetros al mismo tiempo ?  No resulta contraproducente una búsqueda en un espacio de tal alta dimensionalidad ?"
   ]
  },
  {
   "cell_type": "markdown",
   "metadata": {
    "id": "PX0qg_c0yqob"
   },
   "source": [
    "#### 2.1  Seteo del ambiente en Google Colab"
   ]
  },
  {
   "cell_type": "markdown",
   "metadata": {
    "id": "NGY7H9xza7Zr"
   },
   "source": [
    "Esta parte se debe correr con el runtime en Python3\n",
    "<br>Ir al menu, Runtime -> Change Runtime Type -> Runtime type ->  **Python 3**"
   ]
  },
  {
   "cell_type": "markdown",
   "metadata": {
    "id": "7PupIBNba7Zr"
   },
   "source": [
    "Conectar la virtual machine donde esta corriendo Google Colab con el  Google Drive, para poder tener persistencia de archivos"
   ]
  },
  {
   "cell_type": "code",
   "execution_count": null,
   "metadata": {
    "id": "9LpZCst5a7Zs"
   },
   "outputs": [],
   "source": [
    "# primero establecer el Runtime de Python 3\n",
    "from google.colab import drive\n",
    "drive.mount('/content/.drive')"
   ]
  },
  {
   "cell_type": "markdown",
   "metadata": {
    "id": "JYC_F-wla7Zs"
   },
   "source": [
    "Para correr la siguiente celda es fundamental en Arranque en Frio haber copiado el archivo kaggle.json al Google Drive, en la carpeta indicada en el instructivo\n",
    "\n",
    "<br>los siguientes comando estan en shell script de Linux\n",
    "*   Crear las carpetas en el Google Drive\n",
    "*   \"instalar\" el archivo kaggle.json desde el Google Drive a la virtual machine para que pueda ser utilizado por la libreria  kaggle de Python\n",
    "*   Bajar el  **dataset_pequeno**  al  Google Drive  y tambien al disco local de la virtual machine que esta corriendo Google Colab\n",
    "\n"
   ]
  },
  {
   "cell_type": "code",
   "execution_count": null,
   "metadata": {
    "id": "XWLelftXa7Zt"
   },
   "outputs": [],
   "source": [
    "%%shell\n",
    "\n",
    "mkdir -p \"/content/.drive/My Drive/dm\"\n",
    "mkdir -p \"/content/buckets\"\n",
    "ln -s \"/content/.drive/My Drive/dm\" /content/buckets/b1\n",
    "\n",
    "mkdir -p ~/.kaggle\n",
    "cp /content/buckets/b1/kaggle/kaggle.json  ~/.kaggle\n",
    "chmod 600 ~/.kaggle/kaggle.json\n",
    "\n",
    "\n",
    "mkdir -p /content/buckets/b1/exp\n",
    "mkdir -p /content/buckets/b1/datasets\n",
    "mkdir -p /content/datasets\n",
    "\n",
    "\n",
    "\n",
    "archivo_origen=\"https://storage.googleapis.com/open-courses/itba2025-8d0a/dataset_pequeno.csv\"\n",
    "archivo_destino=\"/content/datasets/dataset_pequeno.csv\"\n",
    "archivo_destino_bucket=\"/content/buckets/b1/datasets/dataset_pequeno.csv\"\n",
    "\n",
    "if ! test -f $archivo_destino_bucket; then\n",
    "  wget  $archivo_origen  -O $archivo_destino_bucket\n",
    "fi\n",
    "\n",
    "\n",
    "if ! test -f $archivo_destino; then\n",
    "  cp  $archivo_destino_bucket  $archivo_destino\n",
    "fi\n"
   ]
  },
  {
   "cell_type": "markdown",
   "metadata": {
    "id": "oSKhZRToy2F7"
   },
   "source": [
    "### 2.2 Optimizacion Hiperparámetros"
   ]
  },
  {
   "cell_type": "markdown",
   "metadata": {
    "id": "2kwPpHAtSmix"
   },
   "source": [
    "Esta parte se debe correr con el runtime en lenguaje R Ir al menu, Runtime -> Change Runtime Type -> Runtime type -> R"
   ]
  },
  {
   "cell_type": "markdown",
   "metadata": {
    "id": "xp4-Bj3aYI8d"
   },
   "source": [
    "### 2.2.1 Inicio"
   ]
  },
  {
   "cell_type": "markdown",
   "metadata": {
    "id": "zy8YTZfESxeJ"
   },
   "source": [
    "limpio el ambiente de R"
   ]
  },
  {
   "cell_type": "code",
   "execution_count": 1,
   "metadata": {
    "id": "gBq__iAdQliq"
   },
   "outputs": [
    {
     "data": {
      "text/html": [
       "'Tue Jul 29 12:05:25 2025'"
      ],
      "text/latex": [
       "'Tue Jul 29 12:05:25 2025'"
      ],
      "text/markdown": [
       "'Tue Jul 29 12:05:25 2025'"
      ],
      "text/plain": [
       "[1] \"Tue Jul 29 12:05:25 2025\""
      ]
     },
     "metadata": {},
     "output_type": "display_data"
    }
   ],
   "source": [
    "format(Sys.time(), \"%a %b %d %X %Y\")"
   ]
  },
  {
   "cell_type": "code",
   "execution_count": 2,
   "metadata": {
    "id": "7rdVrBojS1IV"
   },
   "outputs": [
    {
     "data": {
      "text/html": [
       "<table class=\"dataframe\">\n",
       "<caption>A matrix: 2 × 6 of type dbl</caption>\n",
       "<thead>\n",
       "\t<tr><th></th><th scope=col>used</th><th scope=col>(Mb)</th><th scope=col>gc trigger</th><th scope=col>(Mb)</th><th scope=col>max used</th><th scope=col>(Mb)</th></tr>\n",
       "</thead>\n",
       "<tbody>\n",
       "\t<tr><th scope=row>Ncells</th><td> 664797</td><td>35.6</td><td>1439374</td><td>76.9</td><td>1439374</td><td>76.9</td></tr>\n",
       "\t<tr><th scope=row>Vcells</th><td>1243824</td><td> 9.5</td><td>8388608</td><td>64.0</td><td>1924969</td><td>14.7</td></tr>\n",
       "</tbody>\n",
       "</table>\n"
      ],
      "text/latex": [
       "A matrix: 2 × 6 of type dbl\n",
       "\\begin{tabular}{r|llllll}\n",
       "  & used & (Mb) & gc trigger & (Mb) & max used & (Mb)\\\\\n",
       "\\hline\n",
       "\tNcells &  664797 & 35.6 & 1439374 & 76.9 & 1439374 & 76.9\\\\\n",
       "\tVcells & 1243824 &  9.5 & 8388608 & 64.0 & 1924969 & 14.7\\\\\n",
       "\\end{tabular}\n"
      ],
      "text/markdown": [
       "\n",
       "A matrix: 2 × 6 of type dbl\n",
       "\n",
       "| <!--/--> | used | (Mb) | gc trigger | (Mb) | max used | (Mb) |\n",
       "|---|---|---|---|---|---|---|\n",
       "| Ncells |  664797 | 35.6 | 1439374 | 76.9 | 1439374 | 76.9 |\n",
       "| Vcells | 1243824 |  9.5 | 8388608 | 64.0 | 1924969 | 14.7 |\n",
       "\n"
      ],
      "text/plain": [
       "       used    (Mb) gc trigger (Mb) max used (Mb)\n",
       "Ncells  664797 35.6 1439374    76.9 1439374  76.9\n",
       "Vcells 1243824  9.5 8388608    64.0 1924969  14.7"
      ]
     },
     "metadata": {},
     "output_type": "display_data"
    }
   ],
   "source": [
    "# limpio la memoria\n",
    "rm(list=ls(all.names=TRUE)) # remove all objects\n",
    "gc(full=TRUE, verbose=FALSE) # garbage collection"
   ]
  },
  {
   "cell_type": "markdown",
   "metadata": {
    "id": "kuPfQ7ksjwW3"
   },
   "source": [
    "### 2.2.2 Carga de Librerias"
   ]
  },
  {
   "cell_type": "code",
   "execution_count": 2,
   "metadata": {
    "id": "lVyxLaJ1j1J_"
   },
   "outputs": [
    {
     "name": "stderr",
     "output_type": "stream",
     "text": [
      "Loading required package: data.table\n",
      "\n",
      "Loading required package: parallel\n",
      "\n",
      "Loading required package: primes\n",
      "\n",
      "Loading required package: rlist\n",
      "\n",
      "Loading required package: yaml\n",
      "\n",
      "Loading required package: lightgbm\n",
      "\n",
      "Loading required package: DiceKriging\n",
      "\n",
      "Loading required package: mlrMBO\n",
      "\n",
      "Loading required package: mlr\n",
      "\n",
      "Loading required package: ParamHelpers\n",
      "\n",
      "Loading required package: smoof\n",
      "\n",
      "Loading required package: checkmate\n",
      "\n",
      "\n",
      "Attaching package: ‘checkmate’\n",
      "\n",
      "\n",
      "The following object is masked from ‘package:DiceKriging’:\n",
      "\n",
      "    checkNames\n",
      "\n",
      "\n"
     ]
    }
   ],
   "source": [
    "# cargo las librerias que necesito\n",
    "require(\"data.table\")\n",
    "require(\"parallel\")\n",
    "\n",
    "if( !require(\"primes\") ) install.packages(\"primes\")\n",
    "require(\"primes\")\n",
    "\n",
    "if( !require(\"utils\") ) install.packages(\"utils\")\n",
    "require(\"utils\")\n",
    "\n",
    "if( !require(\"rlist\") ) install.packages(\"rlist\")\n",
    "require(\"rlist\")\n",
    "\n",
    "if( !require(\"yaml\")) install.packages(\"yaml\")\n",
    "require(\"yaml\")\n",
    "\n",
    "if( !require(\"lightgbm\") ) install.packages(\"lightgbm\")\n",
    "require(\"lightgbm\")\n",
    "\n",
    "if( !require(\"DiceKriging\") ) install.packages(\"DiceKriging\")\n",
    "require(\"DiceKriging\")\n",
    "\n",
    "if( !require(\"mlrMBO\") ) install.packages(\"mlrMBO\")\n",
    "require(\"mlrMBO\")"
   ]
  },
  {
   "cell_type": "markdown",
   "metadata": {
    "id": "Iz-6Qt6BUaA3"
   },
   "source": [
    "### 2.2.3 Definicion de Parametros"
   ]
  },
  {
   "cell_type": "markdown",
   "metadata": {
    "id": "cOdlKd7lUm2I"
   },
   "source": [
    "aqui debe cargar SU semilla primigenia\n",
    "<br>recuerde cambiar el numero de experimento en cada corrida nueva"
   ]
  },
  {
   "cell_type": "code",
   "execution_count": 6,
   "metadata": {
    "id": "ASYkebOu2mF6"
   },
   "outputs": [],
   "source": [
    "PARAM <- list()\n",
    "PARAM$experimento <- 4945\n",
    "PARAM$semilla_primigenia <- 106109\n"
   ]
  },
  {
   "cell_type": "code",
   "execution_count": 7,
   "metadata": {
    "id": "ezOhQdbA293o"
   },
   "outputs": [],
   "source": [
    "PARAM$kaggle$competencia <- \"data-mining-analista-sr-2025-a\"\n",
    "PARAM$kaggle$cortes <- seq(10000, 12000, by= 500)"
   ]
  },
  {
   "cell_type": "code",
   "execution_count": 8,
   "metadata": {
    "id": "jtB0Lub42rHO"
   },
   "outputs": [],
   "source": [
    "# un undersampling de 0.1  toma solo el 10% de los CONTINUA\n",
    "# undersampling de 1.0  implica tomar TODOS los datos\n",
    "\n",
    "PARAM$trainingstrategy$undersampling <- 0.5"
   ]
  },
  {
   "cell_type": "code",
   "execution_count": 9,
   "metadata": {
    "id": "OFxm-xiNUOJX"
   },
   "outputs": [],
   "source": [
    "# Parametros LightGBM\n",
    "\n",
    "PARAM$hyperparametertuning$xval_folds <- 5\n",
    "\n",
    "# parametros fijos del LightGBM que se pisaran con la parte variable de la BO\n",
    "PARAM$lgbm$param_fijos <-  list(\n",
    "  boosting= \"gbdt\", # puede ir  dart  , ni pruebe random_forest\n",
    "  objective= \"binary\",\n",
    "  metric= \"auc\",\n",
    "  first_metric_only= FALSE,\n",
    "  boost_from_average= TRUE,\n",
    "  feature_pre_filter= FALSE,\n",
    "  force_row_wise= TRUE, # para reducir warnings\n",
    "  verbosity= -100,\n",
    "\n",
    "  seed= PARAM$semilla_primigenia,\n",
    "\n",
    "  max_depth= -1L, # -1 significa no limitar,  por ahora lo dejo fijo\n",
    "  min_gain_to_split= 0, # min_gain_to_split >= 0\n",
    "  min_sum_hessian_in_leaf= 0.001, #  min_sum_hessian_in_leaf >= 0.0\n",
    "  lambda_l1= 0.3933, # lambda_l1 >= 0.0\n",
    "  lambda_l2= 0.1860507, # lambda_l2 >= 0.0\n",
    "  max_bin= 31L, # lo debo dejar fijo, no participa de la BO\n",
    "\n",
    "  bagging_fraction= 0.7466841, # 0.0 < bagging_fraction <= 1.0\n",
    "  pos_bagging_fraction= 0.12442, # 0.0 < pos_bagging_fraction <= 1.0\n",
    "  neg_bagging_fraction= 0.3660924, # 0.0 < neg_bagging_fraction <= 1.0\n",
    "  is_unbalance= FALSE, #\n",
    "  scale_pos_weight= 12, # scale_pos_weight > 0.0\n",
    "\n",
    "  drop_rate= 0.1, # 0.0 < neg_bagging_fraction <= 1.0\n",
    "  max_drop= 50, # <=0 means no limit\n",
    "  skip_drop= 0.5, # 0.0 <= skip_drop <= 1.0\n",
    "\n",
    "  extra_trees= FALSE,\n",
    "\n",
    "  num_iterations= 1458,\n",
    "  learning_rate= 0.005169,\n",
    "  feature_fraction= 0.577,\n",
    "  num_leaves= 41,\n",
    "  min_data_in_leaf= 480\n",
    ")\n"
   ]
  },
  {
   "cell_type": "markdown",
   "metadata": {
    "id": "D5Yj-JV4yvOt"
   },
   "source": [
    "Aqui se definen los hiperparámetros de LightGBM que participan de la Bayesian Optimization\n",
    "<br> si es un numero entero debe ir  makeIntegerParam\n",
    "<br> si es un numero real (con decimales) debe ir  makeNumericParam\n",
    "<br> es muy importante leer cuales son un lower y upper  permitidos y ademas razonables"
   ]
  },
  {
   "cell_type": "code",
   "execution_count": 25,
   "metadata": {
    "id": "jENpR26ZyuS8"
   },
   "outputs": [],
   "source": [
    "# Aqui se cargan los bordes de los hiperparametros de la BO\n",
    "PARAM$hypeparametertuning$hs <- makeParamSet(\n",
    "  #makeIntegerParam(\"num_iterations\", lower= 8L, upper= 2048L),\n",
    "  #makeNumericParam(\"learning_rate\", lower= 0.001, upper= 0.2),\n",
    "  #makeNumericParam(\"feature_fraction\", lower= 0.4, upper= 0.6),\n",
    "  makeIntegerParam(\"num_leaves\", lower= 16L, upper= 48L),\n",
    "  makeIntegerParam(\"min_data_in_leaf\", lower= 200L, upper= 600L),\n",
    "  makeIntegerParam(\"scale_post_weight\", lower = 1L, upper= 200L),\n",
    "  #makeNumericParam(\"lambda_l1\", lower=0, upper=.5)\n",
    "  #makeNumericParam(\"lambda_l2\", lower=0, upper=.5),\n",
    "  #makeNumericParam(\"bagging_fraction\", lower=.6, upper=.95),\n",
    "  #makeNumericParam(\"pos_bagging_fraction\", lower=0, upper=.5),\n",
    "  #makeNumericParam(\"neg_bagging_fraction\", lower=0, upper=.5),\n",
    "  makeNumericParam(\"drop_rate\", lower=0, upper=.3660924),\n",
    "  makeNumericParam(\"sigmoid\", lower=0, upper=1)\n",
    "  #makeIntegerParam(\"bagging_freq\", lower=3, upper=10)\n",
    "  \n",
    ")"
   ]
  },
  {
   "cell_type": "markdown",
   "metadata": {
    "id": "-_RPFUb3zMoW"
   },
   "source": [
    "A mayor cantidad de hiperparámetros, se debe aumentar las iteraciones de la Bayesian Optimization\n",
    "<br> 30 es un valor muy tacaño, pero corre rápido\n",
    "<br> deberia partir de 50, alcanzando los 100 si se dispone de tiempo"
   ]
  },
  {
   "cell_type": "code",
   "execution_count": 26,
   "metadata": {
    "id": "q5Rd3pnbzSiG"
   },
   "outputs": [],
   "source": [
    "PARAM$hyperparametertuning$iteraciones <- 100 # iteraciones bayesianas"
   ]
  },
  {
   "cell_type": "markdown",
   "metadata": {
    "id": "4RWZXL1VZjMI"
   },
   "source": [
    "### 2.2.4  Preprocesamiento"
   ]
  },
  {
   "cell_type": "code",
   "execution_count": 27,
   "metadata": {
    "id": "j3toG9-lZm4K"
   },
   "outputs": [],
   "source": [
    "# carpeta de trabajo\n",
    "\n",
    "setwd(\"/content/buckets/b1/exp\")\n",
    "experimento_folder <- paste0(\"HT\", PARAM$experimento)\n",
    "dir.create(experimento_folder, showWarnings=FALSE)\n",
    "setwd( paste0(\"/content/buckets/b1/exp/\", experimento_folder ))"
   ]
  },
  {
   "cell_type": "code",
   "execution_count": 28,
   "metadata": {
    "id": "FM3lxKoLZ643"
   },
   "outputs": [],
   "source": [
    "# lectura del dataset\n",
    "\n",
    "dataset <- fread(\"/content/datasets/dataset_pequeno.csv\")"
   ]
  },
  {
   "cell_type": "code",
   "execution_count": 29,
   "metadata": {
    "id": "OsJ-91UeZ-I_"
   },
   "outputs": [],
   "source": [
    "dataset_train <- dataset[foto_mes %in% c(202107)]"
   ]
  },
  {
   "cell_type": "code",
   "execution_count": 30,
   "metadata": {
    "id": "vrWE7BE0aB2J"
   },
   "outputs": [],
   "source": [
    "# paso la clase a binaria que tome valores {0,1}  enteros\n",
    "#  BAJA+1 y BAJA+2  son  1,   CONTINUA es 0\n",
    "\n",
    "dataset_train[,\n",
    "  clase01 := ifelse(clase_ternaria %in% c(\"BAJA+2\",\"BAJA+1\"), 1L, 0L)\n",
    "]"
   ]
  },
  {
   "cell_type": "code",
   "execution_count": 31,
   "metadata": {
    "id": "jP7YlQBnaW6W"
   },
   "outputs": [],
   "source": [
    "# defino los datos que forma parte del training\n",
    "# aqui se hace el undersampling de los CONTINUA\n",
    "# notar que para esto utilizo la SEGUNDA semilla\n",
    "\n",
    "set.seed(PARAM$semilla_primigenia, kind = \"L'Ecuyer-CMRG\")\n",
    "dataset_train[, azar := runif(nrow(dataset_train))]\n",
    "dataset_train[, training := 0L]\n",
    "\n",
    "dataset_train[\n",
    "  foto_mes %in% c(202107) &\n",
    "    (azar <= PARAM$trainingstrategy$undersampling | clase_ternaria %in% c(\"BAJA+1\", \"BAJA+2\")),\n",
    "  training := 1L\n",
    "]"
   ]
  },
  {
   "cell_type": "code",
   "execution_count": 32,
   "metadata": {
    "id": "xElu4s5W4rX7"
   },
   "outputs": [],
   "source": [
    "# los campos que se van a utilizar\n",
    "\n",
    "campos_buenos <- setdiff(\n",
    "  colnames(dataset_train),\n",
    "  c(\"clase_ternaria\", \"clase01\", \"azar\", \"training\")\n",
    ")"
   ]
  },
  {
   "cell_type": "code",
   "execution_count": 33,
   "metadata": {
    "id": "PppMHcGYaaol"
   },
   "outputs": [
    {
     "data": {
      "text/html": [
       "83237"
      ],
      "text/latex": [
       "83237"
      ],
      "text/markdown": [
       "83237"
      ],
      "text/plain": [
       "[1] 83237"
      ]
     },
     "metadata": {},
     "output_type": "display_data"
    },
    {
     "data": {
      "text/html": [
       "154"
      ],
      "text/latex": [
       "154"
      ],
      "text/markdown": [
       "154"
      ],
      "text/plain": [
       "[1] 154"
      ]
     },
     "metadata": {},
     "output_type": "display_data"
    }
   ],
   "source": [
    "# dejo los datos en el formato que necesita LightGBM\n",
    "\n",
    "dtrain <- lgb.Dataset(\n",
    "  data= data.matrix(dataset_train[training == 1L, campos_buenos, with= FALSE]),\n",
    "  label= dataset_train[training == 1L, clase01],\n",
    "  free_raw_data= FALSE\n",
    ")\n",
    "\n",
    "nrow(dtrain)\n",
    "ncol(dtrain)"
   ]
  },
  {
   "cell_type": "markdown",
   "metadata": {
    "id": "Ta-EkOu3cphF"
   },
   "source": [
    "2.2.5 Configuracion Bayesian Optimization"
   ]
  },
  {
   "cell_type": "code",
   "execution_count": 34,
   "metadata": {
    "id": "cjgfurjdfiXb"
   },
   "outputs": [],
   "source": [
    "# En el argumento x llegan los parmaetros de la bayesiana\n",
    "#  devuelve la AUC en cross validation del modelo entrenado\n",
    "\n",
    "EstimarGanancia_AUC_lightgbm <- function(x) {\n",
    "\n",
    "  # x pisa (o agrega) a param_fijos\n",
    "  param_completo <- modifyList(PARAM$lgbm$param_fijos, x)\n",
    "\n",
    "  # entreno LightGBM\n",
    "  modelocv <- lgb.cv(\n",
    "    data= dtrain,\n",
    "    nfold= PARAM$hyperparametertuning$xval_folds,\n",
    "    stratified= TRUE,\n",
    "    param= param_completo\n",
    "  )\n",
    "\n",
    "  # obtengo la ganancia\n",
    "  AUC <- modelocv$best_score\n",
    "\n",
    "  # hago espacio en la memoria\n",
    "  rm(modelocv)\n",
    "  gc(full= TRUE, verbose= FALSE)\n",
    "\n",
    "  message(format(Sys.time(), \"%a %b %d %X %Y\"), \" AUC \", AUC)\n",
    "\n",
    "  return(AUC)\n",
    "}"
   ]
  },
  {
   "cell_type": "code",
   "execution_count": 35,
   "metadata": {
    "id": "WLi_o1hocvN-"
   },
   "outputs": [],
   "source": [
    "# Aqui comienza la configuracion de la Bayesian Optimization\n",
    "\n",
    "# en este archivo quedan la evolucion binaria de la BO\n",
    "kbayesiana <- \"bayesiana.RDATA\"\n",
    "\n",
    "funcion_optimizar <- EstimarGanancia_AUC_lightgbm # la funcion que voy a maximizar\n",
    "\n",
    "configureMlr(show.learner.output= FALSE)\n",
    "\n",
    "# configuro la busqueda bayesiana,  los hiperparametros que se van a optimizar\n",
    "# por favor, no desesperarse por lo complejo\n",
    "\n",
    "obj.fun <- makeSingleObjectiveFunction(\n",
    "  fn= funcion_optimizar, # la funcion que voy a maximizar\n",
    "  minimize= FALSE, # estoy Maximizando la ganancia\n",
    "  noisy= TRUE,\n",
    "  par.set= PARAM$hypeparametertuning$hs, # definido al comienzo del programa\n",
    "  has.simple.signature= FALSE # paso los parametros en una lista\n",
    ")\n",
    "\n",
    "# cada 600 segundos guardo el resultado intermedio\n",
    "ctrl <- makeMBOControl(\n",
    "  save.on.disk.at.time= 600, # se graba cada 600 segundos\n",
    "  save.file.path= kbayesiana\n",
    ") # se graba cada 600 segundos\n",
    "\n",
    "# indico la cantidad de iteraciones que va a tener la Bayesian Optimization\n",
    "ctrl <- setMBOControlTermination(\n",
    "  ctrl,\n",
    "  iters= PARAM$hyperparametertuning$iteraciones\n",
    ") # cantidad de iteraciones\n",
    "\n",
    "# defino el método estandar para la creacion de los puntos iniciales,\n",
    "# los \"No Inteligentes\"\n",
    "ctrl <- setMBOControlInfill(ctrl, crit= makeMBOInfillCritEI())\n",
    "\n",
    "# establezco la funcion que busca el maximo\n",
    "surr.km <- makeLearner(\n",
    "  \"regr.km\",\n",
    "  predict.type= \"se\",\n",
    "  covtype= \"matern3_2\",\n",
    "  control= list(trace= TRUE)\n",
    ")\n"
   ]
  },
  {
   "cell_type": "markdown",
   "metadata": {
    "id": "_uUeVo5pc4zc"
   },
   "source": [
    "2.2.6 Corrida Bayesian Optimization"
   ]
  },
  {
   "cell_type": "code",
   "execution_count": 36,
   "metadata": {
    "id": "RcABNaKGciaz"
   },
   "outputs": [
    {
     "name": "stderr",
     "output_type": "stream",
     "text": [
      "Computing y column(s) for design. Not provided.\n",
      "\n",
      "Wed Jul 30 00:31:29 2025 AUC 0.930503372129541\n",
      "\n",
      "Wed Jul 30 00:32:44 2025 AUC 0.931269636136517\n",
      "\n",
      "Wed Jul 30 00:34:04 2025 AUC 0.930741902987115\n",
      "\n",
      "Wed Jul 30 00:35:22 2025 AUC 0.931403326276923\n",
      "\n",
      "Wed Jul 30 00:36:46 2025 AUC 0.930668783636642\n",
      "\n",
      "Wed Jul 30 00:37:52 2025 AUC 0.930498524507741\n",
      "\n",
      "Wed Jul 30 00:39:19 2025 AUC 0.930608594457063\n",
      "\n",
      "Wed Jul 30 00:40:23 2025 AUC 0.929810959215287\n",
      "\n",
      "Wed Jul 30 00:41:32 2025 AUC 0.930472972511722\n",
      "\n",
      "Wed Jul 30 00:42:52 2025 AUC 0.931453670775014\n",
      "\n",
      "Wed Jul 30 00:44:05 2025 AUC 0.93061169615387\n",
      "\n",
      "Wed Jul 30 00:45:18 2025 AUC 0.931644487417654\n",
      "\n",
      "Wed Jul 30 00:46:47 2025 AUC 0.930095598210517\n",
      "\n",
      "Wed Jul 30 00:48:01 2025 AUC 0.931207787495598\n",
      "\n",
      "Wed Jul 30 00:49:18 2025 AUC 0.931283209347781\n",
      "\n",
      "Wed Jul 30 00:50:41 2025 AUC 0.930633983713881\n",
      "\n",
      "Wed Jul 30 00:52:10 2025 AUC 0.930827951411706\n",
      "\n",
      "Wed Jul 30 00:53:14 2025 AUC 0.929449755110777\n",
      "\n",
      "Wed Jul 30 00:54:40 2025 AUC 0.930995108469788\n",
      "\n",
      "Wed Jul 30 00:55:50 2025 AUC 0.93026679359872\n",
      "\n",
      "[mbo] 0: num_leaves=35; min_data_in_leaf=395; scale_post_weight=88; drop_rate=0.0754; sigmoid=0.716 : y = 0.931 : 80.6 secs : initdesign\n",
      "\n",
      "[mbo] 0: num_leaves=30; min_data_in_leaf=402; scale_post_weight=68; drop_rate=0.176; sigmoid=0.485 : y = 0.931 : 74.4 secs : initdesign\n",
      "\n",
      "[mbo] 0: num_leaves=37; min_data_in_leaf=316; scale_post_weight=76; drop_rate=0.118; sigmoid=0.408 : y = 0.931 : 79.8 secs : initdesign\n",
      "\n",
      "[mbo] 0: num_leaves=33; min_data_in_leaf=517; scale_post_weight=121; drop_rate=0.27; sigmoid=0.658 : y = 0.931 : 78.0 secs : initdesign\n",
      "\n",
      "[mbo] 0: num_leaves=41; min_data_in_leaf=433; scale_post_weight=54; drop_rate=0.328; sigmoid=0.532 : y = 0.931 : 84.5 secs : initdesign\n",
      "\n",
      "[mbo] 0: num_leaves=19; min_data_in_leaf=579; scale_post_weight=117; drop_rate=0.219; sigmoid=0.792 : y = 0.93 : 66.1 secs : initdesign\n",
      "\n",
      "[mbo] 0: num_leaves=44; min_data_in_leaf=489; scale_post_weight=96; drop_rate=0.14; sigmoid=0.267 : y = 0.931 : 87.1 secs : initdesign\n",
      "\n",
      "[mbo] 0: num_leaves=16; min_data_in_leaf=236; scale_post_weight=143; drop_rate=0.243; sigmoid=0.116 : y = 0.93 : 63.8 secs : initdesign\n",
      "\n",
      "[mbo] 0: num_leaves=21; min_data_in_leaf=453; scale_post_weight=194; drop_rate=0.0653; sigmoid=0.834 : y = 0.93 : 69.1 secs : initdesign\n",
      "\n",
      "[mbo] 0: num_leaves=34; min_data_in_leaf=343; scale_post_weight=27; drop_rate=0.305; sigmoid=0.155 : y = 0.931 : 79.6 secs : initdesign\n",
      "\n",
      "[mbo] 0: num_leaves=26; min_data_in_leaf=298; scale_post_weight=139; drop_rate=0.192; sigmoid=0.966 : y = 0.931 : 73.3 secs : initdesign\n",
      "\n",
      "[mbo] 0: num_leaves=25; min_data_in_leaf=525; scale_post_weight=159; drop_rate=0.147; sigmoid=0.064 : y = 0.932 : 73.1 secs : initdesign\n",
      "\n",
      "[mbo] 0: num_leaves=47; min_data_in_leaf=260; scale_post_weight=164; drop_rate=0.221; sigmoid=0.916 : y = 0.93 : 88.4 secs : initdesign\n",
      "\n",
      "[mbo] 0: num_leaves=28; min_data_in_leaf=367; scale_post_weight=40; drop_rate=0.108; sigmoid=0.632 : y = 0.931 : 73.9 secs : initdesign\n",
      "\n",
      "[mbo] 0: num_leaves=31; min_data_in_leaf=541; scale_post_weight=19; drop_rate=0.287; sigmoid=0.342 : y = 0.931 : 77.1 secs : initdesign\n",
      "\n",
      "[mbo] 0: num_leaves=39; min_data_in_leaf=471; scale_post_weight=172; drop_rate=0.352; sigmoid=0.375 : y = 0.931 : 83.5 secs : initdesign\n",
      "\n",
      "[mbo] 0: num_leaves=47; min_data_in_leaf=335; scale_post_weight=6; drop_rate=0.0173; sigmoid=0.22 : y = 0.931 : 88.9 secs : initdesign\n",
      "\n",
      "[mbo] 0: num_leaves=17; min_data_in_leaf=203; scale_post_weight=50; drop_rate=0.346; sigmoid=0.557 : y = 0.929 : 63.8 secs : initdesign\n",
      "\n",
      "[mbo] 0: num_leaves=43; min_data_in_leaf=590; scale_post_weight=103; drop_rate=0.0545; sigmoid=0.853 : y = 0.931 : 86.0 secs : initdesign\n",
      "\n",
      "[mbo] 0: num_leaves=22; min_data_in_leaf=256; scale_post_weight=185; drop_rate=0.0265; sigmoid=0.0119 : y = 0.93 : 70.5 secs : initdesign\n",
      "\n",
      "Saved the current state after iteration 1 in the file bayesiana.RDATA.\n",
      "\n",
      "Wed Jul 30 00:57:10 2025 AUC 0.930536030853223\n",
      "\n",
      "[mbo] 1: num_leaves=28; min_data_in_leaf=516; scale_post_weight=147; drop_rate=0.244; sigmoid=0.0141 : y = 0.931 : 76.1 secs : infill_ei\n",
      "\n",
      "Wed Jul 30 00:58:24 2025 AUC 0.930216090296869\n",
      "\n",
      "[mbo] 2: num_leaves=26; min_data_in_leaf=581; scale_post_weight=54; drop_rate=0.14; sigmoid=0.0502 : y = 0.93 : 73.4 secs : infill_ei\n",
      "\n",
      "Wed Jul 30 00:59:35 2025 AUC 0.929612364951403\n",
      "\n",
      "[mbo] 3: num_leaves=23; min_data_in_leaf=528; scale_post_weight=17; drop_rate=0.164; sigmoid=0.218 : y = 0.93 : 70.8 secs : infill_ei\n",
      "\n",
      "Wed Jul 30 01:01:02 2025 AUC 0.931156557369444\n",
      "\n",
      "[mbo] 4: num_leaves=40; min_data_in_leaf=321; scale_post_weight=164; drop_rate=0.362; sigmoid=0.0658 : y = 0.931 : 85.4 secs : infill_ei\n",
      "\n",
      "Wed Jul 30 01:02:05 2025 AUC 0.929777921579548\n",
      "\n",
      "[mbo] 5: num_leaves=17; min_data_in_leaf=353; scale_post_weight=94; drop_rate=0.215; sigmoid=0.245 : y = 0.93 : 63.1 secs : infill_ei\n",
      "\n",
      "Wed Jul 30 01:03:20 2025 AUC 0.931177320017177\n",
      "\n",
      "[mbo] 6: num_leaves=28; min_data_in_leaf=446; scale_post_weight=165; drop_rate=0.262; sigmoid=0.0645 : y = 0.931 : 73.9 secs : infill_ei\n",
      "\n",
      "Wed Jul 30 01:04:31 2025 AUC 0.929939833794056\n",
      "\n",
      "[mbo] 7: num_leaves=23; min_data_in_leaf=552; scale_post_weight=154; drop_rate=0.0885; sigmoid=0.064 : y = 0.93 : 70.6 secs : infill_ei\n",
      "\n",
      "Wed Jul 30 01:05:44 2025 AUC 0.93032666022222\n",
      "\n",
      "[mbo] 8: num_leaves=25; min_data_in_leaf=476; scale_post_weight=198; drop_rate=0.166; sigmoid=0.295 : y = 0.93 : 71.8 secs : infill_ei\n",
      "\n",
      "Wed Jul 30 01:07:02 2025 AUC 0.929879294816627\n",
      "\n",
      "[mbo] 9: num_leaves=33; min_data_in_leaf=563; scale_post_weight=49; drop_rate=0.0579; sigmoid=0.459 : y = 0.93 : 77.4 secs : infill_ei\n",
      "\n",
      "Saved the current state after iteration 10 in the file bayesiana.RDATA.\n",
      "\n",
      "Wed Jul 30 01:08:23 2025 AUC 0.931119873700892\n",
      "\n",
      "[mbo] 10: num_leaves=34; min_data_in_leaf=509; scale_post_weight=187; drop_rate=0.0431; sigmoid=0.378 : y = 0.931 : 77.1 secs : infill_ei\n",
      "\n",
      "Wed Jul 30 01:09:38 2025 AUC 0.930259515615463\n",
      "\n",
      "[mbo] 11: num_leaves=30; min_data_in_leaf=415; scale_post_weight=10; drop_rate=0.0483; sigmoid=0.269 : y = 0.93 : 74.3 secs : infill_ei\n",
      "\n",
      "Wed Jul 30 01:10:55 2025 AUC 0.929650771918264\n",
      "\n",
      "[mbo] 12: num_leaves=34; min_data_in_leaf=334; scale_post_weight=54; drop_rate=0.278; sigmoid=0.462 : y = 0.93 : 77.0 secs : infill_ei\n",
      "\n",
      "Wed Jul 30 01:12:25 2025 AUC 0.930801007708093\n",
      "\n",
      "[mbo] 13: num_leaves=47; min_data_in_leaf=471; scale_post_weight=59; drop_rate=0.0964; sigmoid=0.811 : y = 0.931 : 88.9 secs : infill_ei\n",
      "\n",
      "Wed Jul 30 01:13:53 2025 AUC 0.930055883306089\n",
      "\n",
      "[mbo] 14: num_leaves=46; min_data_in_leaf=318; scale_post_weight=168; drop_rate=0.322; sigmoid=0.66 : y = 0.93 : 87.3 secs : infill_ei\n",
      "\n",
      "Wed Jul 30 01:15:14 2025 AUC 0.929966325248437\n",
      "\n",
      "[mbo] 15: num_leaves=36; min_data_in_leaf=553; scale_post_weight=80; drop_rate=0.0675; sigmoid=0.467 : y = 0.93 : 80.8 secs : infill_ei\n",
      "\n",
      "Wed Jul 30 01:16:29 2025 AUC 0.930197867896936\n",
      "\n",
      "[mbo] 16: num_leaves=34; min_data_in_leaf=525; scale_post_weight=173; drop_rate=0.142; sigmoid=0.605 : y = 0.93 : 74.4 secs : infill_ei\n",
      "\n",
      "Wed Jul 30 01:17:42 2025 AUC 0.930763921336101\n",
      "\n",
      "[mbo] 17: num_leaves=31; min_data_in_leaf=347; scale_post_weight=143; drop_rate=0.239; sigmoid=0.269 : y = 0.931 : 72.3 secs : infill_ei\n",
      "\n",
      "Saved the current state after iteration 18 in the file bayesiana.RDATA.\n",
      "\n",
      "Wed Jul 30 01:19:08 2025 AUC 0.931568809475363\n",
      "\n",
      "[mbo] 18: num_leaves=46; min_data_in_leaf=525; scale_post_weight=93; drop_rate=0.13; sigmoid=0.445 : y = 0.932 : 81.9 secs : infill_ei\n",
      "\n",
      "Wed Jul 30 01:20:23 2025 AUC 0.930408786158819\n",
      "\n",
      "[mbo] 19: num_leaves=35; min_data_in_leaf=296; scale_post_weight=113; drop_rate=0.132; sigmoid=0.409 : y = 0.93 : 74.9 secs : infill_ei\n",
      "\n",
      "Wed Jul 30 01:21:41 2025 AUC 0.93048331802364\n",
      "\n",
      "[mbo] 20: num_leaves=37; min_data_in_leaf=592; scale_post_weight=184; drop_rate=0.243; sigmoid=0.175 : y = 0.93 : 77.6 secs : infill_ei\n",
      "\n",
      "Wed Jul 30 01:22:44 2025 AUC 0.929769315333197\n",
      "\n",
      "[mbo] 21: num_leaves=17; min_data_in_leaf=332; scale_post_weight=16; drop_rate=0.0452; sigmoid=0.394 : y = 0.93 : 62.0 secs : infill_ei\n",
      "\n",
      "Wed Jul 30 01:24:04 2025 AUC 0.930382107198635\n",
      "\n",
      "[mbo] 22: num_leaves=40; min_data_in_leaf=255; scale_post_weight=57; drop_rate=0.224; sigmoid=0.565 : y = 0.93 : 79.3 secs : infill_ei\n",
      "\n",
      "Wed Jul 30 01:25:18 2025 AUC 0.929201788551091\n",
      "\n",
      "[mbo] 23: num_leaves=28; min_data_in_leaf=589; scale_post_weight=113; drop_rate=0.258; sigmoid=0.012 : y = 0.929 : 73.0 secs : infill_ei\n",
      "\n",
      "Wed Jul 30 01:26:33 2025 AUC 0.930230538651833\n",
      "\n",
      "[mbo] 24: num_leaves=31; min_data_in_leaf=439; scale_post_weight=192; drop_rate=0.147; sigmoid=0.274 : y = 0.93 : 74.3 secs : infill_ei\n",
      "\n",
      "Wed Jul 30 01:27:47 2025 AUC 0.930874343644435\n",
      "\n",
      "[mbo] 25: num_leaves=29; min_data_in_leaf=452; scale_post_weight=144; drop_rate=0.121; sigmoid=0.0157 : y = 0.931 : 73.4 secs : infill_ei\n",
      "\n",
      "Saved the current state after iteration 26 in the file bayesiana.RDATA.\n",
      "\n",
      "Wed Jul 30 01:29:14 2025 AUC 0.930247654486138\n",
      "\n",
      "[mbo] 26: num_leaves=43; min_data_in_leaf=537; scale_post_weight=84; drop_rate=0.128; sigmoid=0.445 : y = 0.93 : 83.7 secs : infill_ei\n",
      "\n",
      "Wed Jul 30 01:30:26 2025 AUC 0.93127175754635\n",
      "\n",
      "[mbo] 27: num_leaves=27; min_data_in_leaf=323; scale_post_weight=128; drop_rate=0.134; sigmoid=0.97 : y = 0.931 : 71.3 secs : infill_ei\n",
      "\n",
      "Wed Jul 30 01:31:45 2025 AUC 0.929852421629797\n",
      "\n",
      "[mbo] 28: num_leaves=36; min_data_in_leaf=540; scale_post_weight=145; drop_rate=0.156; sigmoid=0.429 : y = 0.93 : 78.5 secs : infill_ei\n",
      "\n",
      "Wed Jul 30 01:33:08 2025 AUC 0.931053978422541\n",
      "\n",
      "[mbo] 29: num_leaves=40; min_data_in_leaf=298; scale_post_weight=1; drop_rate=0.207; sigmoid=0.0894 : y = 0.931 : 82.3 secs : infill_ei\n",
      "\n",
      "Wed Jul 30 01:34:27 2025 AUC 0.931018382232104\n",
      "\n",
      "[mbo] 30: num_leaves=36; min_data_in_leaf=527; scale_post_weight=44; drop_rate=0.258; sigmoid=0.626 : y = 0.931 : 77.7 secs : infill_ei\n",
      "\n",
      "Wed Jul 30 01:35:43 2025 AUC 0.931161065179218\n",
      "\n",
      "[mbo] 31: num_leaves=33; min_data_in_leaf=517; scale_post_weight=40; drop_rate=0.282; sigmoid=0.336 : y = 0.931 : 76.3 secs : infill_ei\n",
      "\n",
      "Wed Jul 30 01:37:12 2025 AUC 0.931165654035506\n",
      "\n",
      "[mbo] 32: num_leaves=47; min_data_in_leaf=558; scale_post_weight=158; drop_rate=0.222; sigmoid=0.838 : y = 0.931 : 87.6 secs : infill_ei\n",
      "\n",
      "Wed Jul 30 01:38:23 2025 AUC 0.930607998612002\n",
      "\n",
      "[mbo] 33: num_leaves=25; min_data_in_leaf=595; scale_post_weight=96; drop_rate=0.273; sigmoid=0.762 : y = 0.931 : 70.6 secs : infill_ei\n",
      "\n",
      "Saved the current state after iteration 34 in the file bayesiana.RDATA.\n",
      "\n",
      "Wed Jul 30 01:39:45 2025 AUC 0.929525170284537\n",
      "\n",
      "[mbo] 34: num_leaves=36; min_data_in_leaf=423; scale_post_weight=20; drop_rate=0.0349; sigmoid=0.925 : y = 0.93 : 78.2 secs : infill_ei\n",
      "\n",
      "Wed Jul 30 01:40:54 2025 AUC 0.930235692526756\n",
      "\n",
      "[mbo] 35: num_leaves=22; min_data_in_leaf=533; scale_post_weight=58; drop_rate=0.3; sigmoid=0.0754 : y = 0.93 : 68.4 secs : infill_ei\n",
      "\n",
      "Wed Jul 30 01:42:02 2025 AUC 0.930847716810191\n",
      "\n",
      "[mbo] 36: num_leaves=22; min_data_in_leaf=415; scale_post_weight=140; drop_rate=0.262; sigmoid=0.524 : y = 0.931 : 67.5 secs : infill_ei\n",
      "\n",
      "Wed Jul 30 01:43:18 2025 AUC 0.930269726509886\n",
      "\n",
      "[mbo] 37: num_leaves=32; min_data_in_leaf=215; scale_post_weight=157; drop_rate=0.0916; sigmoid=0.973 : y = 0.93 : 75.2 secs : infill_ei\n",
      "\n",
      "Wed Jul 30 01:44:44 2025 AUC 0.931240825250318\n",
      "\n",
      "[mbo] 38: num_leaves=45; min_data_in_leaf=278; scale_post_weight=46; drop_rate=0.162; sigmoid=0.924 : y = 0.931 : 84.7 secs : infill_ei\n",
      "\n",
      "Wed Jul 30 01:46:05 2025 AUC 0.930004212299253\n",
      "\n",
      "[mbo] 39: num_leaves=39; min_data_in_leaf=498; scale_post_weight=44; drop_rate=0.331; sigmoid=0.669 : y = 0.93 : 80.4 secs : infill_ei\n",
      "\n",
      "Wed Jul 30 01:47:32 2025 AUC 0.930896753457584\n",
      "\n",
      "[mbo] 40: num_leaves=47; min_data_in_leaf=235; scale_post_weight=200; drop_rate=0.317; sigmoid=0.301 : y = 0.931 : 86.1 secs : infill_ei\n",
      "\n",
      "Wed Jul 30 01:48:42 2025 AUC 0.930171309335805\n",
      "\n",
      "[mbo] 41: num_leaves=25; min_data_in_leaf=436; scale_post_weight=70; drop_rate=0.174; sigmoid=0.401 : y = 0.93 : 69.2 secs : infill_ei\n",
      "\n",
      "Saved the current state after iteration 42 in the file bayesiana.RDATA.\n",
      "\n",
      "Wed Jul 30 01:49:59 2025 AUC 0.930828660097247\n",
      "\n",
      "[mbo] 42: num_leaves=31; min_data_in_leaf=534; scale_post_weight=188; drop_rate=0.143; sigmoid=0.27 : y = 0.931 : 72.0 secs : infill_ei\n",
      "\n",
      "Wed Jul 30 01:51:16 2025 AUC 0.930173459985752\n",
      "\n",
      "[mbo] 43: num_leaves=35; min_data_in_leaf=562; scale_post_weight=87; drop_rate=0.111; sigmoid=0.722 : y = 0.93 : 76.0 secs : infill_ei\n",
      "\n",
      "Wed Jul 30 01:52:26 2025 AUC 0.929787408869401\n",
      "\n",
      "[mbo] 44: num_leaves=27; min_data_in_leaf=203; scale_post_weight=171; drop_rate=0.17; sigmoid=0.25 : y = 0.93 : 68.8 secs : infill_ei\n",
      "\n",
      "Wed Jul 30 01:53:44 2025 AUC 0.931019056763229\n",
      "\n",
      "[mbo] 45: num_leaves=38; min_data_in_leaf=356; scale_post_weight=10; drop_rate=0.36; sigmoid=0.97 : y = 0.931 : 77.9 secs : infill_ei\n",
      "\n",
      "Wed Jul 30 01:54:50 2025 AUC 0.930176346460649\n",
      "\n",
      "[mbo] 46: num_leaves=20; min_data_in_leaf=452; scale_post_weight=162; drop_rate=0.0611; sigmoid=0.507 : y = 0.93 : 64.9 secs : infill_ei\n",
      "\n",
      "Wed Jul 30 01:55:57 2025 AUC 0.93081276803633\n",
      "\n",
      "[mbo] 47: num_leaves=21; min_data_in_leaf=447; scale_post_weight=110; drop_rate=0.0815; sigmoid=0.771 : y = 0.931 : 66.4 secs : infill_ei\n",
      "\n",
      "Wed Jul 30 01:57:14 2025 AUC 0.930395654945029\n",
      "\n",
      "[mbo] 48: num_leaves=33; min_data_in_leaf=549; scale_post_weight=101; drop_rate=0.345; sigmoid=0.666 : y = 0.93 : 75.8 secs : infill_ei\n",
      "\n",
      "Wed Jul 30 01:58:32 2025 AUC 0.931012459383928\n",
      "\n",
      "[mbo] 49: num_leaves=37; min_data_in_leaf=254; scale_post_weight=38; drop_rate=0.339; sigmoid=0.566 : y = 0.931 : 78.2 secs : infill_ei\n",
      "\n",
      "Wed Jul 30 01:59:38 2025 AUC 0.930824401975126\n",
      "\n",
      "[mbo] 50: num_leaves=19; min_data_in_leaf=562; scale_post_weight=179; drop_rate=0.11; sigmoid=0.327 : y = 0.931 : 64.5 secs : infill_ei\n",
      "\n",
      "Saved the current state after iteration 51 in the file bayesiana.RDATA.\n",
      "\n",
      "Wed Jul 30 02:00:56 2025 AUC 0.93040931956906\n",
      "\n",
      "[mbo] 51: num_leaves=29; min_data_in_leaf=321; scale_post_weight=112; drop_rate=0.183; sigmoid=0.37 : y = 0.93 : 72.0 secs : infill_ei\n",
      "\n",
      "Wed Jul 30 02:02:07 2025 AUC 0.930433759891432\n",
      "\n",
      "[mbo] 52: num_leaves=28; min_data_in_leaf=306; scale_post_weight=184; drop_rate=0.169; sigmoid=0.397 : y = 0.93 : 70.9 secs : infill_ei\n",
      "\n",
      "Wed Jul 30 02:03:18 2025 AUC 0.930058871508093\n",
      "\n",
      "[mbo] 53: num_leaves=25; min_data_in_leaf=523; scale_post_weight=161; drop_rate=0.145; sigmoid=0.385 : y = 0.93 : 69.7 secs : infill_ei\n",
      "\n",
      "Wed Jul 30 02:04:32 2025 AUC 0.930712194653133\n",
      "\n",
      "[mbo] 54: num_leaves=31; min_data_in_leaf=305; scale_post_weight=165; drop_rate=0.23; sigmoid=0.553 : y = 0.931 : 73.8 secs : infill_ei\n",
      "\n",
      "Wed Jul 30 02:05:48 2025 AUC 0.930376042720091\n",
      "\n",
      "[mbo] 55: num_leaves=33; min_data_in_leaf=308; scale_post_weight=35; drop_rate=0.329; sigmoid=0.394 : y = 0.93 : 75.0 secs : infill_ei\n",
      "\n",
      "Wed Jul 30 02:07:02 2025 AUC 0.930278290713932\n",
      "\n",
      "[mbo] 56: num_leaves=30; min_data_in_leaf=520; scale_post_weight=66; drop_rate=0.107; sigmoid=0.615 : y = 0.93 : 73.6 secs : infill_ei\n",
      "\n",
      "Wed Jul 30 02:08:07 2025 AUC 0.930634185724105\n",
      "\n",
      "[mbo] 57: num_leaves=18; min_data_in_leaf=536; scale_post_weight=34; drop_rate=0.236; sigmoid=0.53 : y = 0.931 : 63.9 secs : infill_ei\n",
      "\n",
      "Wed Jul 30 02:09:18 2025 AUC 0.930897136366171\n",
      "\n",
      "[mbo] 58: num_leaves=25; min_data_in_leaf=549; scale_post_weight=182; drop_rate=0.357; sigmoid=0.505 : y = 0.931 : 69.9 secs : infill_ei\n",
      "\n",
      "Wed Jul 30 02:10:26 2025 AUC 0.930014327565704\n",
      "\n",
      "[mbo] 59: num_leaves=23; min_data_in_leaf=240; scale_post_weight=91; drop_rate=0.338; sigmoid=0.226 : y = 0.93 : 67.2 secs : infill_ei\n",
      "\n",
      "Saved the current state after iteration 60 in the file bayesiana.RDATA.\n",
      "\n",
      "Wed Jul 30 02:11:50 2025 AUC 0.930764667782073\n",
      "\n",
      "[mbo] 60: num_leaves=36; min_data_in_leaf=398; scale_post_weight=110; drop_rate=0.356; sigmoid=0.169 : y = 0.931 : 78.4 secs : infill_ei\n",
      "\n",
      "Wed Jul 30 02:13:15 2025 AUC 0.931161997911657\n",
      "\n",
      "[mbo] 61: num_leaves=43; min_data_in_leaf=386; scale_post_weight=68; drop_rate=0.329; sigmoid=0.51 : y = 0.931 : 83.6 secs : infill_ei\n",
      "\n",
      "Wed Jul 30 02:14:32 2025 AUC 0.930151164421624\n",
      "\n",
      "[mbo] 62: num_leaves=34; min_data_in_leaf=223; scale_post_weight=112; drop_rate=0.168; sigmoid=0.857 : y = 0.93 : 76.4 secs : infill_ei\n",
      "\n",
      "Wed Jul 30 02:15:47 2025 AUC 0.930530803662583\n",
      "\n",
      "[mbo] 63: num_leaves=32; min_data_in_leaf=408; scale_post_weight=32; drop_rate=0.0914; sigmoid=0.632 : y = 0.931 : 74.7 secs : infill_ei\n",
      "\n",
      "Wed Jul 30 02:16:49 2025 AUC 0.929872961634899\n",
      "\n",
      "[mbo] 64: num_leaves=16; min_data_in_leaf=283; scale_post_weight=125; drop_rate=0.0451; sigmoid=0.649 : y = 0.93 : 61.3 secs : infill_ei\n",
      "\n",
      "Wed Jul 30 02:18:15 2025 AUC 0.930333239185553\n",
      "\n",
      "[mbo] 65: num_leaves=46; min_data_in_leaf=258; scale_post_weight=87; drop_rate=0.048; sigmoid=0.327 : y = 0.93 : 84.7 secs : infill_ei\n",
      "\n",
      "Wed Jul 30 02:19:22 2025 AUC 0.929475919917814\n",
      "\n",
      "[mbo] 66: num_leaves=19; min_data_in_leaf=554; scale_post_weight=74; drop_rate=0.254; sigmoid=0.00903 : y = 0.929 : 66.3 secs : infill_ei\n",
      "\n",
      "Wed Jul 30 02:20:39 2025 AUC 0.931028535140114\n",
      "\n",
      "[mbo] 67: num_leaves=35; min_data_in_leaf=279; scale_post_weight=199; drop_rate=0.324; sigmoid=0.904 : y = 0.931 : 76.5 secs : infill_ei\n",
      "\n",
      "Saved the current state after iteration 68 in the file bayesiana.RDATA.\n",
      "\n",
      "Wed Jul 30 02:21:59 2025 AUC 0.93044138882835\n",
      "\n",
      "[mbo] 68: num_leaves=29; min_data_in_leaf=420; scale_post_weight=169; drop_rate=0.068; sigmoid=0.504 : y = 0.93 : 73.7 secs : infill_ei\n",
      "\n",
      "Wed Jul 30 02:23:10 2025 AUC 0.930622604530319\n",
      "\n",
      "[mbo] 69: num_leaves=25; min_data_in_leaf=483; scale_post_weight=194; drop_rate=0.0303; sigmoid=0.47 : y = 0.931 : 70.4 secs : infill_ei\n",
      "\n",
      "Wed Jul 30 02:24:37 2025 AUC 0.930443741744593\n",
      "\n",
      "[mbo] 70: num_leaves=46; min_data_in_leaf=494; scale_post_weight=141; drop_rate=0.0907; sigmoid=0.267 : y = 0.93 : 86.5 secs : infill_ei\n",
      "\n",
      "Wed Jul 30 02:25:55 2025 AUC 0.931077166084776\n",
      "\n",
      "[mbo] 71: num_leaves=32; min_data_in_leaf=598; scale_post_weight=36; drop_rate=0.348; sigmoid=0.144 : y = 0.931 : 77.0 secs : infill_ei\n",
      "\n",
      "Wed Jul 30 02:27:14 2025 AUC 0.931766324355959\n",
      "\n",
      "[mbo] 72: num_leaves=33; min_data_in_leaf=463; scale_post_weight=23; drop_rate=0.208; sigmoid=0.398 : y = 0.932 : 78.6 secs : infill_ei\n",
      "\n",
      "Wed Jul 30 02:28:30 2025 AUC 0.930519344358031\n",
      "\n",
      "[mbo] 73: num_leaves=31; min_data_in_leaf=330; scale_post_weight=14; drop_rate=0.113; sigmoid=0.964 : y = 0.931 : 74.3 secs : infill_ei\n",
      "\n",
      "Wed Jul 30 02:29:39 2025 AUC 0.930405478641541\n",
      "\n",
      "[mbo] 74: num_leaves=23; min_data_in_leaf=209; scale_post_weight=56; drop_rate=0.321; sigmoid=0.575 : y = 0.93 : 68.4 secs : infill_ei\n",
      "\n",
      "Wed Jul 30 02:31:06 2025 AUC 0.930619288287949\n",
      "\n",
      "[mbo] 75: num_leaves=42; min_data_in_leaf=468; scale_post_weight=4; drop_rate=0.0704; sigmoid=0.735 : y = 0.931 : 86.1 secs : infill_ei\n",
      "\n",
      "Saved the current state after iteration 76 in the file bayesiana.RDATA.\n",
      "\n",
      "Wed Jul 30 02:32:17 2025 AUC 0.930749332020405\n",
      "\n",
      "[mbo] 76: num_leaves=19; min_data_in_leaf=399; scale_post_weight=45; drop_rate=0.231; sigmoid=0.327 : y = 0.931 : 65.7 secs : infill_ei\n",
      "\n",
      "Wed Jul 30 02:33:32 2025 AUC 0.930664597365795\n",
      "\n",
      "[mbo] 77: num_leaves=28; min_data_in_leaf=589; scale_post_weight=142; drop_rate=0.189; sigmoid=0.754 : y = 0.931 : 73.9 secs : infill_ei\n",
      "\n",
      "Wed Jul 30 02:34:50 2025 AUC 0.93051838000933\n",
      "\n",
      "[mbo] 78: num_leaves=34; min_data_in_leaf=236; scale_post_weight=123; drop_rate=0.299; sigmoid=0.368 : y = 0.931 : 76.9 secs : infill_ei\n",
      "\n",
      "Wed Jul 30 02:36:14 2025 AUC 0.929313157428127\n",
      "\n",
      "[mbo] 79: num_leaves=43; min_data_in_leaf=236; scale_post_weight=39; drop_rate=0.186; sigmoid=0.385 : y = 0.929 : 83.6 secs : infill_ei\n",
      "\n",
      "Wed Jul 30 02:37:38 2025 AUC 0.930836379342438\n",
      "\n",
      "[mbo] 80: num_leaves=40; min_data_in_leaf=599; scale_post_weight=187; drop_rate=0.23; sigmoid=0.361 : y = 0.931 : 82.7 secs : infill_ei\n",
      "\n",
      "Wed Jul 30 02:38:56 2025 AUC 0.930520742278839\n",
      "\n",
      "[mbo] 81: num_leaves=35; min_data_in_leaf=290; scale_post_weight=6; drop_rate=0.109; sigmoid=0.474 : y = 0.931 : 77.6 secs : infill_ei\n",
      "\n",
      "Wed Jul 30 02:40:14 2025 AUC 0.931032341791862\n",
      "\n",
      "[mbo] 82: num_leaves=33; min_data_in_leaf=519; scale_post_weight=115; drop_rate=0.357; sigmoid=0.761 : y = 0.931 : 76.7 secs : infill_ei\n",
      "\n",
      "Wed Jul 30 02:41:41 2025 AUC 0.930834121912104\n",
      "\n",
      "[mbo] 83: num_leaves=46; min_data_in_leaf=387; scale_post_weight=68; drop_rate=0.251; sigmoid=0.536 : y = 0.931 : 86.2 secs : infill_ei\n",
      "\n",
      "Saved the current state after iteration 84 in the file bayesiana.RDATA.\n",
      "\n",
      "Wed Jul 30 02:43:05 2025 AUC 0.931700563006412\n",
      "\n",
      "[mbo] 84: num_leaves=38; min_data_in_leaf=558; scale_post_weight=17; drop_rate=0.246; sigmoid=0.129 : y = 0.932 : 80.4 secs : infill_ei\n",
      "\n",
      "Wed Jul 30 02:44:10 2025 AUC 0.930713845276905\n",
      "\n",
      "[mbo] 85: num_leaves=19; min_data_in_leaf=360; scale_post_weight=71; drop_rate=0.00213; sigmoid=0.778 : y = 0.931 : 64.2 secs : infill_ei\n",
      "\n",
      "Wed Jul 30 02:45:36 2025 AUC 0.930800682498944\n",
      "\n",
      "[mbo] 86: num_leaves=46; min_data_in_leaf=423; scale_post_weight=93; drop_rate=0.153; sigmoid=0.21 : y = 0.931 : 84.6 secs : infill_ei\n",
      "\n",
      "Wed Jul 30 02:46:50 2025 AUC 0.930435980188559\n",
      "\n",
      "[mbo] 87: num_leaves=33; min_data_in_leaf=473; scale_post_weight=84; drop_rate=0.326; sigmoid=0.393 : y = 0.93 : 73.1 secs : infill_ei\n",
      "\n",
      "Wed Jul 30 02:48:10 2025 AUC 0.931157962235429\n",
      "\n",
      "[mbo] 88: num_leaves=41; min_data_in_leaf=503; scale_post_weight=96; drop_rate=0.138; sigmoid=0.838 : y = 0.931 : 79.6 secs : infill_ei\n",
      "\n",
      "Wed Jul 30 02:49:30 2025 AUC 0.930845832382338\n",
      "\n",
      "[mbo] 89: num_leaves=38; min_data_in_leaf=287; scale_post_weight=164; drop_rate=0.0291; sigmoid=0.939 : y = 0.931 : 78.4 secs : infill_ei\n",
      "\n",
      "Wed Jul 30 02:50:40 2025 AUC 0.930046685397208\n",
      "\n",
      "[mbo] 90: num_leaves=25; min_data_in_leaf=338; scale_post_weight=27; drop_rate=0.0216; sigmoid=0.207 : y = 0.93 : 68.8 secs : infill_ei\n",
      "\n",
      "Wed Jul 30 02:51:56 2025 AUC 0.930987436322713\n",
      "\n",
      "[mbo] 91: num_leaves=33; min_data_in_leaf=448; scale_post_weight=70; drop_rate=0.165; sigmoid=0.996 : y = 0.931 : 74.9 secs : infill_ei\n",
      "\n",
      "Saved the current state after iteration 92 in the file bayesiana.RDATA.\n",
      "\n",
      "Wed Jul 30 02:53:09 2025 AUC 0.930303798256506\n",
      "\n",
      "[mbo] 92: num_leaves=24; min_data_in_leaf=498; scale_post_weight=120; drop_rate=0.0568; sigmoid=0.5 : y = 0.93 : 69.0 secs : infill_ei\n",
      "\n",
      "Wed Jul 30 02:54:35 2025 AUC 0.930700134299503\n",
      "\n",
      "[mbo] 93: num_leaves=47; min_data_in_leaf=304; scale_post_weight=115; drop_rate=0.0483; sigmoid=0.615 : y = 0.931 : 85.6 secs : infill_ei\n",
      "\n",
      "Wed Jul 30 02:55:48 2025 AUC 0.93063652246619\n",
      "\n",
      "[mbo] 94: num_leaves=27; min_data_in_leaf=276; scale_post_weight=197; drop_rate=0.347; sigmoid=0.069 : y = 0.931 : 71.6 secs : infill_ei\n",
      "\n",
      "Wed Jul 30 02:57:06 2025 AUC 0.930504800966637\n",
      "\n",
      "[mbo] 95: num_leaves=35; min_data_in_leaf=513; scale_post_weight=27; drop_rate=0.278; sigmoid=0.528 : y = 0.931 : 77.7 secs : infill_ei\n",
      "\n",
      "Wed Jul 30 02:58:08 2025 AUC 0.929855163554294\n",
      "\n",
      "[mbo] 96: num_leaves=16; min_data_in_leaf=347; scale_post_weight=7; drop_rate=0.243; sigmoid=0.209 : y = 0.93 : 61.2 secs : infill_ei\n",
      "\n",
      "Wed Jul 30 02:59:21 2025 AUC 0.930595018382691\n",
      "\n",
      "[mbo] 97: num_leaves=28; min_data_in_leaf=450; scale_post_weight=187; drop_rate=0.263; sigmoid=0.664 : y = 0.931 : 72.0 secs : infill_ei\n",
      "\n",
      "Wed Jul 30 03:00:34 2025 AUC 0.93022949148009\n",
      "\n",
      "[mbo] 98: num_leaves=28; min_data_in_leaf=356; scale_post_weight=58; drop_rate=0.0207; sigmoid=0.204 : y = 0.93 : 72.1 secs : infill_ei\n",
      "\n",
      "Wed Jul 30 03:01:55 2025 AUC 0.931346011291195\n",
      "\n",
      "[mbo] 99: num_leaves=39; min_data_in_leaf=335; scale_post_weight=177; drop_rate=0.258; sigmoid=0.329 : y = 0.931 : 79.5 secs : infill_ei\n",
      "\n",
      "Wed Jul 30 03:03:09 2025 AUC 0.930943650491833\n",
      "\n",
      "[mbo] 100: num_leaves=31; min_data_in_leaf=215; scale_post_weight=156; drop_rate=0.0673; sigmoid=0.123 : y = 0.931 : 73.4 secs : infill_ei\n",
      "\n",
      "Saved the final state in the file bayesiana.RDATA\n",
      "\n",
      "Saved the final state in the file bayesiana.RDATA\n",
      "\n"
     ]
    }
   ],
   "source": [
    "# inicio la optimizacion bayesiana, retomando si ya existe\n",
    "# es la celda mas lenta de todo el notebook\n",
    "\n",
    "if (!file.exists(kbayesiana)) {\n",
    "  bayesiana_salida <- mbo(obj.fun, learner= surr.km, control= ctrl)\n",
    "} else {\n",
    "  bayesiana_salida <- mboContinue(kbayesiana) # retomo en caso que ya exista\n",
    "}"
   ]
  },
  {
   "cell_type": "code",
   "execution_count": 37,
   "metadata": {
    "id": "ssk5nnMk6INK"
   },
   "outputs": [
    {
     "data": {
      "text/html": [
       "<style>\n",
       ".list-inline {list-style: none; margin:0; padding: 0}\n",
       ".list-inline>li {display: inline-block}\n",
       ".list-inline>li:not(:last-child)::after {content: \"\\00b7\"; padding: 0 .5ex}\n",
       "</style>\n",
       "<ol class=list-inline><li>'num_leaves'</li><li>'min_data_in_leaf'</li><li>'scale_post_weight'</li><li>'drop_rate'</li><li>'sigmoid'</li><li>'y'</li><li>'dob'</li><li>'eol'</li><li>'error.message'</li><li>'exec.time'</li><li>'ei'</li><li>'error.model'</li><li>'train.time'</li><li>'prop.type'</li><li>'propose.time'</li><li>'se'</li><li>'mean'</li></ol>\n"
      ],
      "text/latex": [
       "\\begin{enumerate*}\n",
       "\\item 'num\\_leaves'\n",
       "\\item 'min\\_data\\_in\\_leaf'\n",
       "\\item 'scale\\_post\\_weight'\n",
       "\\item 'drop\\_rate'\n",
       "\\item 'sigmoid'\n",
       "\\item 'y'\n",
       "\\item 'dob'\n",
       "\\item 'eol'\n",
       "\\item 'error.message'\n",
       "\\item 'exec.time'\n",
       "\\item 'ei'\n",
       "\\item 'error.model'\n",
       "\\item 'train.time'\n",
       "\\item 'prop.type'\n",
       "\\item 'propose.time'\n",
       "\\item 'se'\n",
       "\\item 'mean'\n",
       "\\end{enumerate*}\n"
      ],
      "text/markdown": [
       "1. 'num_leaves'\n",
       "2. 'min_data_in_leaf'\n",
       "3. 'scale_post_weight'\n",
       "4. 'drop_rate'\n",
       "5. 'sigmoid'\n",
       "6. 'y'\n",
       "7. 'dob'\n",
       "8. 'eol'\n",
       "9. 'error.message'\n",
       "10. 'exec.time'\n",
       "11. 'ei'\n",
       "12. 'error.model'\n",
       "13. 'train.time'\n",
       "14. 'prop.type'\n",
       "15. 'propose.time'\n",
       "16. 'se'\n",
       "17. 'mean'\n",
       "\n",
       "\n"
      ],
      "text/plain": [
       " [1] \"num_leaves\"        \"min_data_in_leaf\"  \"scale_post_weight\"\n",
       " [4] \"drop_rate\"         \"sigmoid\"           \"y\"                \n",
       " [7] \"dob\"               \"eol\"               \"error.message\"    \n",
       "[10] \"exec.time\"         \"ei\"                \"error.model\"      \n",
       "[13] \"train.time\"        \"prop.type\"         \"propose.time\"     \n",
       "[16] \"se\"                \"mean\"             "
      ]
     },
     "metadata": {},
     "output_type": "display_data"
    }
   ],
   "source": [
    "\n",
    "tb_bayesiana <- as.data.table(bayesiana_salida$opt.path)\n",
    "colnames( tb_bayesiana)"
   ]
  },
  {
   "cell_type": "code",
   "execution_count": 38,
   "metadata": {
    "id": "u4zq-vknhjGc"
   },
   "outputs": [],
   "source": [
    "# almaceno los resultados de la Bayesian Optimization\n",
    "# y capturo los mejores hiperparametros encontrados\n",
    "\n",
    "tb_bayesiana <- as.data.table(bayesiana_salida$opt.path)\n",
    "\n",
    "tb_bayesiana[, iter := .I]\n",
    "\n",
    "# ordeno en forma descendente por AUC = y\n",
    "setorder(tb_bayesiana, -y)\n",
    "\n",
    "# grabo para eventualmente poder utilizarlos en OTRA corrida\n",
    "fwrite( tb_bayesiana,\n",
    "  file= \"BO_log.txt\",\n",
    "  sep= \"\\t\"\n",
    ")\n",
    "\n",
    "# los mejores hiperparámetros son los que quedaron en el registro 1 de la tabla\n",
    "PARAM$out$lgbm$mejores_hiperparametros <- tb_bayesiana[\n",
    "  1, # el primero es el de mejor AUC\n",
    "  setdiff(colnames(tb_bayesiana),\n",
    "    c(\"y\",\"dob\",\"eol\",\"error.message\",\"exec.time\",\"ei\",\"error.model\",\n",
    "      \"train.time\",\"prop.type\",\"propose.time\",\"se\",\"mean\",\"iter\")),\n",
    "  with= FALSE\n",
    "]\n",
    "\n",
    "\n",
    "PARAM$out$lgbm$y <- tb_bayesiana[1, y]\n"
   ]
  },
  {
   "cell_type": "code",
   "execution_count": 39,
   "metadata": {
    "id": "E8v2eA427N8e"
   },
   "outputs": [],
   "source": [
    "write_yaml( PARAM, file=\"PARAM.yml\")"
   ]
  },
  {
   "cell_type": "code",
   "execution_count": 40,
   "metadata": {
    "id": "iBTWexVU7PGC"
   },
   "outputs": [
    {
     "name": "stdout",
     "output_type": "stream",
     "text": [
      "   num_leaves min_data_in_leaf scale_post_weight drop_rate   sigmoid\n",
      "        <int>            <int>             <int>     <num>     <num>\n",
      "1:         33              463                23 0.2077428 0.3975034\n",
      "[1] 0.9317663\n"
     ]
    }
   ],
   "source": [
    "print(PARAM$out$lgbm$mejores_hiperparametros)\n",
    "print(PARAM$out$lgbm$y)"
   ]
  },
  {
   "cell_type": "markdown",
   "metadata": {
    "id": "TKsVZmAnhwX-"
   },
   "source": [
    "## 2.3  Produccion"
   ]
  },
  {
   "cell_type": "markdown",
   "metadata": {
    "id": "RQ_C33Tr5B_9"
   },
   "source": [
    "### Final Training\n",
    "Construyo el modelo final, que es uno solo, no hace ningun tipo de particion < training, validation, testing>]"
   ]
  },
  {
   "cell_type": "code",
   "execution_count": 41,
   "metadata": {
    "id": "eDqfyA14hzwv"
   },
   "outputs": [],
   "source": [
    "setwd(\"/content/buckets/b1/exp\")\n",
    "experimento <- paste0(\"exp\", PARAM$experimento)\n",
    "dir.create(experimento, showWarnings= FALSE)\n",
    "setwd( paste0(\"/content/buckets/b1/exp/\", experimento ))"
   ]
  },
  {
   "cell_type": "markdown",
   "metadata": {
    "id": "8qFmFivf5Iet"
   },
   "source": [
    "#### Final Training Dataset\n",
    "\n",
    "Aqui esta la gran decision de en qué meses hago el Final Training\n",
    "<br> debo utilizar los mejores hiperparámetros que encontré en la optimización bayesiana"
   ]
  },
  {
   "cell_type": "code",
   "execution_count": 42,
   "metadata": {
    "id": "lg5WVZncvc7H"
   },
   "outputs": [],
   "source": [
    "# clase01\n",
    "dataset[, clase01 := ifelse(clase_ternaria %in% c(\"BAJA+1\", \"BAJA+2\"), 1L, 0L)]"
   ]
  },
  {
   "cell_type": "code",
   "execution_count": 43,
   "metadata": {
    "id": "yc9QzXREv0xf"
   },
   "outputs": [],
   "source": [
    "dataset_train <- dataset[foto_mes %in% c(202107)]"
   ]
  },
  {
   "cell_type": "code",
   "execution_count": 44,
   "metadata": {
    "id": "thjdqEBLuvNt"
   },
   "outputs": [],
   "source": [
    "# dejo los datos en el formato que necesita LightGBM\n",
    "\n",
    "dtrain <- lgb.Dataset(\n",
    "  data= data.matrix(dataset_train[, campos_buenos, with= FALSE]),\n",
    "  label= dataset_train[, clase01]\n",
    ")"
   ]
  },
  {
   "cell_type": "markdown",
   "metadata": {
    "id": "VNUa-WSz5Oqu"
   },
   "source": [
    "#### Final Training Hyperparameters"
   ]
  },
  {
   "cell_type": "code",
   "execution_count": 45,
   "metadata": {
    "id": "FgCcvBfEwImu"
   },
   "outputs": [
    {
     "data": {
      "text/html": [
       "<dl>\n",
       "\t<dt>$boosting</dt>\n",
       "\t\t<dd>'gbdt'</dd>\n",
       "\t<dt>$objective</dt>\n",
       "\t\t<dd>'binary'</dd>\n",
       "\t<dt>$metric</dt>\n",
       "\t\t<dd>'auc'</dd>\n",
       "\t<dt>$first_metric_only</dt>\n",
       "\t\t<dd>FALSE</dd>\n",
       "\t<dt>$boost_from_average</dt>\n",
       "\t\t<dd>TRUE</dd>\n",
       "\t<dt>$feature_pre_filter</dt>\n",
       "\t\t<dd>FALSE</dd>\n",
       "\t<dt>$force_row_wise</dt>\n",
       "\t\t<dd>TRUE</dd>\n",
       "\t<dt>$verbosity</dt>\n",
       "\t\t<dd>-100</dd>\n",
       "\t<dt>$seed</dt>\n",
       "\t\t<dd>106109</dd>\n",
       "\t<dt>$max_depth</dt>\n",
       "\t\t<dd>-1</dd>\n",
       "\t<dt>$min_gain_to_split</dt>\n",
       "\t\t<dd>0</dd>\n",
       "\t<dt>$min_sum_hessian_in_leaf</dt>\n",
       "\t\t<dd>0.001</dd>\n",
       "\t<dt>$lambda_l1</dt>\n",
       "\t\t<dd>0.3933</dd>\n",
       "\t<dt>$lambda_l2</dt>\n",
       "\t\t<dd>0</dd>\n",
       "\t<dt>$max_bin</dt>\n",
       "\t\t<dd>31</dd>\n",
       "\t<dt>$bagging_fraction</dt>\n",
       "\t\t<dd>1</dd>\n",
       "\t<dt>$pos_bagging_fraction</dt>\n",
       "\t\t<dd>1</dd>\n",
       "\t<dt>$neg_bagging_fraction</dt>\n",
       "\t\t<dd>1</dd>\n",
       "\t<dt>$is_unbalance</dt>\n",
       "\t\t<dd>FALSE</dd>\n",
       "\t<dt>$scale_pos_weight</dt>\n",
       "\t\t<dd>12</dd>\n",
       "\t<dt>$drop_rate</dt>\n",
       "\t\t<dd>0.20774280860188</dd>\n",
       "\t<dt>$max_drop</dt>\n",
       "\t\t<dd>50</dd>\n",
       "\t<dt>$skip_drop</dt>\n",
       "\t\t<dd>0.5</dd>\n",
       "\t<dt>$extra_trees</dt>\n",
       "\t\t<dd>FALSE</dd>\n",
       "\t<dt>$num_iterations</dt>\n",
       "\t\t<dd>1458</dd>\n",
       "\t<dt>$learning_rate</dt>\n",
       "\t\t<dd>0.005169</dd>\n",
       "\t<dt>$feature_fraction</dt>\n",
       "\t\t<dd>0.577</dd>\n",
       "\t<dt>$num_leaves</dt>\n",
       "\t\t<dd>33</dd>\n",
       "\t<dt>$min_data_in_leaf</dt>\n",
       "\t\t<dd>463</dd>\n",
       "\t<dt>$scale_post_weight</dt>\n",
       "\t\t<dd>23</dd>\n",
       "\t<dt>$sigmoid</dt>\n",
       "\t\t<dd>0.397503419586856</dd>\n",
       "</dl>\n"
      ],
      "text/latex": [
       "\\begin{description}\n",
       "\\item[\\$boosting] 'gbdt'\n",
       "\\item[\\$objective] 'binary'\n",
       "\\item[\\$metric] 'auc'\n",
       "\\item[\\$first\\_metric\\_only] FALSE\n",
       "\\item[\\$boost\\_from\\_average] TRUE\n",
       "\\item[\\$feature\\_pre\\_filter] FALSE\n",
       "\\item[\\$force\\_row\\_wise] TRUE\n",
       "\\item[\\$verbosity] -100\n",
       "\\item[\\$seed] 106109\n",
       "\\item[\\$max\\_depth] -1\n",
       "\\item[\\$min\\_gain\\_to\\_split] 0\n",
       "\\item[\\$min\\_sum\\_hessian\\_in\\_leaf] 0.001\n",
       "\\item[\\$lambda\\_l1] 0.3933\n",
       "\\item[\\$lambda\\_l2] 0\n",
       "\\item[\\$max\\_bin] 31\n",
       "\\item[\\$bagging\\_fraction] 1\n",
       "\\item[\\$pos\\_bagging\\_fraction] 1\n",
       "\\item[\\$neg\\_bagging\\_fraction] 1\n",
       "\\item[\\$is\\_unbalance] FALSE\n",
       "\\item[\\$scale\\_pos\\_weight] 12\n",
       "\\item[\\$drop\\_rate] 0.20774280860188\n",
       "\\item[\\$max\\_drop] 50\n",
       "\\item[\\$skip\\_drop] 0.5\n",
       "\\item[\\$extra\\_trees] FALSE\n",
       "\\item[\\$num\\_iterations] 1458\n",
       "\\item[\\$learning\\_rate] 0.005169\n",
       "\\item[\\$feature\\_fraction] 0.577\n",
       "\\item[\\$num\\_leaves] 33\n",
       "\\item[\\$min\\_data\\_in\\_leaf] 463\n",
       "\\item[\\$scale\\_post\\_weight] 23\n",
       "\\item[\\$sigmoid] 0.397503419586856\n",
       "\\end{description}\n"
      ],
      "text/markdown": [
       "$boosting\n",
       ":   'gbdt'\n",
       "$objective\n",
       ":   'binary'\n",
       "$metric\n",
       ":   'auc'\n",
       "$first_metric_only\n",
       ":   FALSE\n",
       "$boost_from_average\n",
       ":   TRUE\n",
       "$feature_pre_filter\n",
       ":   FALSE\n",
       "$force_row_wise\n",
       ":   TRUE\n",
       "$verbosity\n",
       ":   -100\n",
       "$seed\n",
       ":   106109\n",
       "$max_depth\n",
       ":   -1\n",
       "$min_gain_to_split\n",
       ":   0\n",
       "$min_sum_hessian_in_leaf\n",
       ":   0.001\n",
       "$lambda_l1\n",
       ":   0.3933\n",
       "$lambda_l2\n",
       ":   0\n",
       "$max_bin\n",
       ":   31\n",
       "$bagging_fraction\n",
       ":   1\n",
       "$pos_bagging_fraction\n",
       ":   1\n",
       "$neg_bagging_fraction\n",
       ":   1\n",
       "$is_unbalance\n",
       ":   FALSE\n",
       "$scale_pos_weight\n",
       ":   12\n",
       "$drop_rate\n",
       ":   0.20774280860188\n",
       "$max_drop\n",
       ":   50\n",
       "$skip_drop\n",
       ":   0.5\n",
       "$extra_trees\n",
       ":   FALSE\n",
       "$num_iterations\n",
       ":   1458\n",
       "$learning_rate\n",
       ":   0.005169\n",
       "$feature_fraction\n",
       ":   0.577\n",
       "$num_leaves\n",
       ":   33\n",
       "$min_data_in_leaf\n",
       ":   463\n",
       "$scale_post_weight\n",
       ":   23\n",
       "$sigmoid\n",
       ":   0.397503419586856\n",
       "\n",
       "\n"
      ],
      "text/plain": [
       "$boosting\n",
       "[1] \"gbdt\"\n",
       "\n",
       "$objective\n",
       "[1] \"binary\"\n",
       "\n",
       "$metric\n",
       "[1] \"auc\"\n",
       "\n",
       "$first_metric_only\n",
       "[1] FALSE\n",
       "\n",
       "$boost_from_average\n",
       "[1] TRUE\n",
       "\n",
       "$feature_pre_filter\n",
       "[1] FALSE\n",
       "\n",
       "$force_row_wise\n",
       "[1] TRUE\n",
       "\n",
       "$verbosity\n",
       "[1] -100\n",
       "\n",
       "$seed\n",
       "[1] 106109\n",
       "\n",
       "$max_depth\n",
       "[1] -1\n",
       "\n",
       "$min_gain_to_split\n",
       "[1] 0\n",
       "\n",
       "$min_sum_hessian_in_leaf\n",
       "[1] 0.001\n",
       "\n",
       "$lambda_l1\n",
       "[1] 0.3933\n",
       "\n",
       "$lambda_l2\n",
       "[1] 0\n",
       "\n",
       "$max_bin\n",
       "[1] 31\n",
       "\n",
       "$bagging_fraction\n",
       "[1] 1\n",
       "\n",
       "$pos_bagging_fraction\n",
       "[1] 1\n",
       "\n",
       "$neg_bagging_fraction\n",
       "[1] 1\n",
       "\n",
       "$is_unbalance\n",
       "[1] FALSE\n",
       "\n",
       "$scale_pos_weight\n",
       "[1] 12\n",
       "\n",
       "$drop_rate\n",
       "[1] 0.2077428\n",
       "\n",
       "$max_drop\n",
       "[1] 50\n",
       "\n",
       "$skip_drop\n",
       "[1] 0.5\n",
       "\n",
       "$extra_trees\n",
       "[1] FALSE\n",
       "\n",
       "$num_iterations\n",
       "[1] 1458\n",
       "\n",
       "$learning_rate\n",
       "[1] 0.005169\n",
       "\n",
       "$feature_fraction\n",
       "[1] 0.577\n",
       "\n",
       "$num_leaves\n",
       "[1] 33\n",
       "\n",
       "$min_data_in_leaf\n",
       "[1] 463\n",
       "\n",
       "$scale_post_weight\n",
       "[1] 23\n",
       "\n",
       "$sigmoid\n",
       "[1] 0.3975034\n"
      ]
     },
     "metadata": {},
     "output_type": "display_data"
    }
   ],
   "source": [
    "param_final <- modifyList(PARAM$lgbm$param_fijos,\n",
    "  PARAM$out$lgbm$mejores_hiperparametros)\n",
    "\n",
    "param_final"
   ]
  },
  {
   "cell_type": "markdown",
   "metadata": {
    "id": "TZIYn4l95TBH"
   },
   "source": [
    "#### Training\n",
    "Genero el modelo final, siempre sobre TODOS los datos de  final_train, sin hacer ningun tipo de undersampling de la clase mayoritaria"
   ]
  },
  {
   "cell_type": "code",
   "execution_count": 46,
   "metadata": {
    "id": "vPLsd4mMRe4u"
   },
   "outputs": [],
   "source": [
    "# este punto es muy SUTIL  y será revisado en la Clase 05\n",
    "\n",
    "param_normalizado <- copy(param_final)\n",
    "param_normalizado$min_data_in_leaf <-  param_final$min_data_in_leaf / PARAM$trainingstrategy$undersampling"
   ]
  },
  {
   "cell_type": "code",
   "execution_count": 47,
   "metadata": {
    "id": "WRI_-taRwOXO"
   },
   "outputs": [],
   "source": [
    "  # entreno LightGBM\n",
    "\n",
    "  modelo_final <- lgb.train(\n",
    "    data= dtrain,\n",
    "    param= param_normalizado\n",
    "  )"
   ]
  },
  {
   "cell_type": "code",
   "execution_count": 48,
   "metadata": {
    "id": "_bkhnCvj0g3Q"
   },
   "outputs": [],
   "source": [
    "# ahora imprimo la importancia de variables\n",
    "\n",
    "tb_importancia <- as.data.table(lgb.importance(modelo_final))\n",
    "archivo_importancia <- \"impo.txt\"\n",
    "\n",
    "fwrite(tb_importancia,\n",
    "  file= archivo_importancia,\n",
    "  sep= \"\\t\"\n",
    ")"
   ]
  },
  {
   "cell_type": "code",
   "execution_count": 49,
   "metadata": {
    "id": "lZ3sLmbh0kFj"
   },
   "outputs": [],
   "source": [
    "# grabo a disco el modelo en un formato para seres humanos ... ponele ...\n",
    "\n",
    "lgb.save(modelo_final, \"modelo.txt\" )"
   ]
  },
  {
   "cell_type": "markdown",
   "metadata": {
    "id": "VEtp2--t5Ymg"
   },
   "source": [
    "### Scoring"
   ]
  },
  {
   "cell_type": "markdown",
   "metadata": {
    "id": "hI5008Mj5ZdI"
   },
   "source": [
    "Aplico el modelo final a los datos del futuro"
   ]
  },
  {
   "cell_type": "code",
   "execution_count": 50,
   "metadata": {
    "id": "PimBY3N_0ryP"
   },
   "outputs": [],
   "source": [
    "# aplico el modelo a los datos sin clase\n",
    "dfuture <- dataset[foto_mes == 202109]\n",
    "\n",
    "# aplico el modelo a los datos nuevos\n",
    "prediccion <- predict(\n",
    "  modelo_final,\n",
    "  data.matrix(dfuture[, campos_buenos, with= FALSE])\n",
    ")"
   ]
  },
  {
   "cell_type": "markdown",
   "metadata": {
    "id": "D26rNRh55gpw"
   },
   "source": [
    "#### Tabla Prediccion"
   ]
  },
  {
   "cell_type": "code",
   "execution_count": 51,
   "metadata": {
    "id": "RJwg7LHd11yu"
   },
   "outputs": [],
   "source": [
    "# tabla de prediccion\n",
    "\n",
    "tb_prediccion <- dfuture[, list(numero_de_cliente)]\n",
    "tb_prediccion[, prob := prediccion ]\n",
    "\n",
    "# grabo las probabilidad del modelo\n",
    "fwrite(tb_prediccion,\n",
    "  file= \"prediccion.txt\",\n",
    "  sep= \"\\t\"\n",
    ")"
   ]
  },
  {
   "cell_type": "markdown",
   "metadata": {
    "id": "jOt4eG_55ltv"
   },
   "source": [
    "Kaggle Competition Submit"
   ]
  },
  {
   "cell_type": "code",
   "execution_count": 52,
   "metadata": {
    "id": "gWW3tatE12je"
   },
   "outputs": [
    {
     "name": "stdout",
     "output_type": "stream",
     "text": [
      "Successfully submitted to Data Mining, Analista Sr 2025A \n",
      "Successfully submitted to Data Mining, Analista Sr 2025A \n",
      "Successfully submitted to Data Mining, Analista Sr 2025A \n",
      "Successfully submitted to Data Mining, Analista Sr 2025A \n",
      "Successfully submitted to Data Mining, Analista Sr 2025A \n"
     ]
    }
   ],
   "source": [
    "# genero archivos con los  \"envios\" mejores\n",
    "# suba TODOS los archivos a Kaggle\n",
    "\n",
    "# ordeno por probabilidad descendente\n",
    "setorder(tb_prediccion, -prob)\n",
    "\n",
    "dir.create(\"kaggle\")\n",
    "\n",
    "for (envios in PARAM$kaggle$cortes) {\n",
    "\n",
    "  tb_prediccion[, Predicted := 0L] # seteo inicial a 0\n",
    "  tb_prediccion[1:envios, Predicted := 1L] # marclo los primeros\n",
    "\n",
    "  archivo_kaggle <- paste0(\"./kaggle/KA\", PARAM$experimento, \"_\", envios, \".csv\")\n",
    "\n",
    "  # grabo el archivo\n",
    "  fwrite(tb_prediccion[, list(numero_de_cliente, Predicted)],\n",
    "    file= archivo_kaggle,\n",
    "    sep= \",\"\n",
    "  )\n",
    "\n",
    "  # subida a Kaggle, armo la linea de comando\n",
    "  comando <- \"kaggle competitions submit\"\n",
    "  competencia <- paste(\"-c\", PARAM$kaggle$competencia)\n",
    "  arch <- paste( \"-f\", archivo_kaggle)\n",
    "\n",
    "  mensaje <- paste0(\"-m 'envios=\", envios,\n",
    "  \"  semilla=\", PARAM$semilla_primigenia,\n",
    "    \"'\" )\n",
    "\n",
    "  linea <- paste( comando, competencia, arch, mensaje)\n",
    "\n",
    "  salida <- system(linea, intern=TRUE) # el submit a Kaggle\n",
    "  cat(salida, \"\\n\")\n",
    "}"
   ]
  },
  {
   "cell_type": "code",
   "execution_count": 53,
   "metadata": {
    "id": "B9tB2X4439Hg"
   },
   "outputs": [],
   "source": [
    "write_yaml( PARAM, file=\"PARAM.yml\")"
   ]
  },
  {
   "cell_type": "code",
   "execution_count": 54,
   "metadata": {
    "id": "9zA_W25c15DP"
   },
   "outputs": [
    {
     "data": {
      "text/html": [
       "'Wed Jul 30 03:04:30 2025'"
      ],
      "text/latex": [
       "'Wed Jul 30 03:04:30 2025'"
      ],
      "text/markdown": [
       "'Wed Jul 30 03:04:30 2025'"
      ],
      "text/plain": [
       "[1] \"Wed Jul 30 03:04:30 2025\""
      ]
     },
     "metadata": {},
     "output_type": "display_data"
    }
   ],
   "source": [
    "format(Sys.time(), \"%a %b %d %X %Y\")"
   ]
  },
  {
   "cell_type": "markdown",
   "metadata": {
    "id": "UdVZucdLHzZ0"
   },
   "source": [
    "Finalmente usted deberá cargar el resultado de su corrida en la Google Sheet Colaborativa,  hoja **TareaHogar04**\n",
    "<br> Siéntase libre de agregar las columnas que hagan falta a la planilla"
   ]
  },
  {
   "cell_type": "code",
   "execution_count": null,
   "metadata": {
    "id": "WMHh7uNVIJkT"
   },
   "outputs": [],
   "source": []
  },
  {
   "cell_type": "code",
   "execution_count": null,
   "metadata": {},
   "outputs": [],
   "source": []
  },
  {
   "cell_type": "code",
   "execution_count": null,
   "metadata": {},
   "outputs": [],
   "source": []
  },
  {
   "cell_type": "code",
   "execution_count": null,
   "metadata": {},
   "outputs": [],
   "source": []
  },
  {
   "cell_type": "code",
   "execution_count": null,
   "metadata": {},
   "outputs": [],
   "source": []
  },
  {
   "cell_type": "code",
   "execution_count": null,
   "metadata": {},
   "outputs": [],
   "source": []
  },
  {
   "cell_type": "code",
   "execution_count": null,
   "metadata": {},
   "outputs": [],
   "source": []
  },
  {
   "cell_type": "code",
   "execution_count": null,
   "metadata": {},
   "outputs": [],
   "source": []
  },
  {
   "cell_type": "code",
   "execution_count": null,
   "metadata": {},
   "outputs": [],
   "source": []
  },
  {
   "cell_type": "code",
   "execution_count": null,
   "metadata": {},
   "outputs": [],
   "source": []
  }
 ],
 "metadata": {
  "colab": {
   "provenance": []
  },
  "kernelspec": {
   "display_name": "R",
   "language": "R",
   "name": "ir"
  },
  "language_info": {
   "codemirror_mode": "r",
   "file_extension": ".r",
   "mimetype": "text/x-r-source",
   "name": "R",
   "pygments_lexer": "r",
   "version": "4.4.3"
  }
 },
 "nbformat": 4,
 "nbformat_minor": 4
}
