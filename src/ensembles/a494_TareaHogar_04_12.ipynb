{
 "cells": [
  {
   "cell_type": "markdown",
   "metadata": {
    "id": "0cEmzeUKFkPh"
   },
   "source": [
    "# Tarea para el Hogar 04"
   ]
  },
  {
   "cell_type": "markdown",
   "metadata": {
    "id": "nSICPpyTGQmC"
   },
   "source": [
    "Esta Tarea para el Hogar 02 se entrega el final de la cuarta clase\n",
    "<br> se espera de usted que intente avanzar con los desafios propuestos y que los traiga terminados para la Clase 05 que será el viernes 01-agosto"
   ]
  },
  {
   "cell_type": "markdown",
   "metadata": {
    "id": "DenyKXkiJ5JN"
   },
   "source": [
    "##  1. Cazatalentos"
   ]
  },
  {
   "cell_type": "markdown",
   "metadata": {
    "id": "l-K2_ZsZGrVD"
   },
   "source": [
    "En la Clase 03 nos hemos enfrentado a  \"La Maldicion del Ganandor\",  elegir el modelo con el mejor puntaje simple no suele ser la mejor estrategia.\n",
    "<br> Lea y ejecute el notebook  **src/CazaTalentos/CazaTalentos.ipynb**\n",
    "<br> en caso de interesarle, participe del Desafío Ordenamiento  que vence el sábado 02 de agosto a las 19:00"
   ]
  },
  {
   "cell_type": "markdown",
   "metadata": {
    "id": "K9GkTOk5J9t3"
   },
   "source": [
    "## 2. Hiperparámetros del LightGBM"
   ]
  },
  {
   "cell_type": "markdown",
   "metadata": {
    "id": "VmEFy0ukKL5T"
   },
   "source": [
    "Los objetivos de esta tarea son:\n",
    "\n",
    "\n",
    "*   Aumentar la rentabilidad de la campaña de marketing de retención proactiva de clientes.\n",
    "*   Generar un mejor modelo optimizando sus hiperparámetros\n",
    "*   Conceptual : investigar los mas relevantes hiperparámetros de LightGBM\n",
    "*   Familiarizarse con la Bayesian Optimization, sus largos tiempos de corrida y opciones para reducirlos\n",
    "*   Familiarizarse con el uso de máquinas virtuales de Google Colab\n",
    "*   Ver un pipeline completo de optimización de hiperparámetros y puesta en producción"
   ]
  },
  {
   "cell_type": "markdown",
   "metadata": {
    "id": "5yvlS6JQLRMd"
   },
   "source": [
    "LightGBM cuenta con mas de 60 hiperparámetros, siendo posible utilizar 40 al mismo tiempo, aunque no razonable.\n",
    "<br> La documentación oficial de los hiperparámetros de LightGBM es  https://lightgbm.readthedocs.io/en/latest/Parameters.html#core-parameters\n"
   ]
  },
  {
   "cell_type": "markdown",
   "metadata": {
    "id": "eydI4YNAsFaf"
   },
   "source": [
    "Se lo alerta sobre que una Optimizacion Bayesiana lleva varias horas de corrida, y usted deberá correr VARIAS optimizaciones para descubrir cuales parámetros conviene optimizar.\n",
    "<br> A pesar que la próxima clase es recien en viernes 01 de agosto, inicie la tarea con tiempo, aprenda a planificar estratégicamente sus corridas como un@ científ@  de datos."
   ]
  },
  {
   "cell_type": "markdown",
   "metadata": {
    "id": "RzU4S0SeMcpp"
   },
   "source": [
    "Es necesario investigar cuales son los hiperparámetros de LightGBM que vale la pena optimizar en una Bayesian Optimization, ya que los realmente utiles son apenas un reducido subconjunto.\n",
    "<br>Usted deberá investigar cuales son los hiperparámetros mas relevantes de LightGBM, su primer alternativa es preguntándole a su amigo con capacidades especiales ChatGPT o sus endogámicos familiares Claude, DeepSeek, Gemini, Grok, etc\n",
    "<br> La segunda alternativa es la propia documentación de LightGBM  https://lightgbm.readthedocs.io/en/latest/Parameters-Tuning.html\n"
   ]
  },
  {
   "cell_type": "markdown",
   "metadata": {
    "id": "LNptUgI_NWWG"
   },
   "source": [
    "Adicionalmente podra buscar información como la que proveen esta diminuta muestra aleatoria de artículos ligeros:\n",
    "*  https://medium.com/@sarahzouinina/a-deep-dive-into-lightgbm-how-to-choose-and-tune-parameters-7c584945842e\n",
    "*  https://www.kaggle.com/code/somang1418/tuning-hyperparameters-under-10-minutes-lgbm\n",
    "*  https://towardsdatascience.com/beginners-guide-to-the-must-know-lightgbm-hyperparameters-a0005a812702/\n",
    "\n",
    "\n",
    "<br>  La muestra anterior se brinda a modo de ejemplo, usted deberá buscar muuuuchas  fuentes adicionales de información\n",
    "<br> Tenga presente que LightGBM es el estado del arte en modelado predictivo para datasets estructurado, que son el 90% del trabajo del 95% de los Data Scientists en Argentina."
   ]
  },
  {
   "cell_type": "markdown",
   "metadata": {
    "id": "WpUThBojODyK"
   },
   "source": [
    "El desafío de esta tarea es:\n",
    "* Qué hiperparparámetros conviene optimizar?  Las recomendaciones de los artículos ligeros es siempre sensata?  Sus autores realmente hicieron experimentos o son siemplemente escritores de entretenimiento carente de base científica?\n",
    "* Elegidos los hiperparámetros, cual es el  <desde, hasta> que se debe utilizar en la Bayesian Optimization ?\n",
    "* Realmente vale la pena optimizar 10 o 16 hiperparámetros al mismo tiempo ?  No resulta contraproducente una búsqueda en un espacio de tal alta dimensionalidad ?"
   ]
  },
  {
   "cell_type": "markdown",
   "metadata": {
    "id": "PX0qg_c0yqob"
   },
   "source": [
    "#### 2.1  Seteo del ambiente en Google Colab"
   ]
  },
  {
   "cell_type": "markdown",
   "metadata": {
    "id": "NGY7H9xza7Zr"
   },
   "source": [
    "Esta parte se debe correr con el runtime en Python3\n",
    "<br>Ir al menu, Runtime -> Change Runtime Type -> Runtime type ->  **Python 3**"
   ]
  },
  {
   "cell_type": "markdown",
   "metadata": {
    "id": "7PupIBNba7Zr"
   },
   "source": [
    "Conectar la virtual machine donde esta corriendo Google Colab con el  Google Drive, para poder tener persistencia de archivos"
   ]
  },
  {
   "cell_type": "code",
   "execution_count": null,
   "metadata": {
    "id": "9LpZCst5a7Zs"
   },
   "outputs": [],
   "source": [
    "# primero establecer el Runtime de Python 3\n",
    "from google.colab import drive\n",
    "drive.mount('/content/.drive')"
   ]
  },
  {
   "cell_type": "markdown",
   "metadata": {
    "id": "JYC_F-wla7Zs"
   },
   "source": [
    "Para correr la siguiente celda es fundamental en Arranque en Frio haber copiado el archivo kaggle.json al Google Drive, en la carpeta indicada en el instructivo\n",
    "\n",
    "<br>los siguientes comando estan en shell script de Linux\n",
    "*   Crear las carpetas en el Google Drive\n",
    "*   \"instalar\" el archivo kaggle.json desde el Google Drive a la virtual machine para que pueda ser utilizado por la libreria  kaggle de Python\n",
    "*   Bajar el  **dataset_pequeno**  al  Google Drive  y tambien al disco local de la virtual machine que esta corriendo Google Colab\n",
    "\n"
   ]
  },
  {
   "cell_type": "code",
   "execution_count": 1,
   "metadata": {
    "id": "XWLelftXa7Zt"
   },
   "outputs": [
    {
     "ename": "ERROR",
     "evalue": "Error in parse(text = input): <text>:1:1: unexpected SPECIAL\n1: %%\n    ^\n",
     "output_type": "error",
     "traceback": [
      "Error in parse(text = input): <text>:1:1: unexpected SPECIAL\n1: %%\n    ^\nTraceback:\n"
     ]
    }
   ],
   "source": [
    "%%shell\n",
    "\n",
    "mkdir -p \"/content/.drive/My Drive/dm\"\n",
    "mkdir -p \"/content/buckets\"\n",
    "ln -s \"/content/.drive/My Drive/dm\" /content/buckets/b1\n",
    "\n",
    "mkdir -p ~/.kaggle\n",
    "cp /content/buckets/b1/kaggle/kaggle.json  ~/.kaggle\n",
    "chmod 600 ~/.kaggle/kaggle.json\n",
    "\n",
    "\n",
    "mkdir -p /content/buckets/b1/exp\n",
    "mkdir -p /content/buckets/b1/datasets\n",
    "mkdir -p /content/datasets\n",
    "\n",
    "\n",
    "\n",
    "archivo_origen=\"https://storage.googleapis.com/open-courses/itba2025-8d0a/dataset_pequeno.csv\"\n",
    "archivo_destino=\"/content/datasets/dataset_pequeno.csv\"\n",
    "archivo_destino_bucket=\"/content/buckets/b1/datasets/dataset_pequeno.csv\"\n",
    "\n",
    "if ! test -f $archivo_destino_bucket; then\n",
    "  wget  $archivo_origen  -O $archivo_destino_bucket\n",
    "fi\n",
    "\n",
    "\n",
    "if ! test -f $archivo_destino; then\n",
    "  cp  $archivo_destino_bucket  $archivo_destino\n",
    "fi\n"
   ]
  },
  {
   "cell_type": "markdown",
   "metadata": {
    "id": "oSKhZRToy2F7"
   },
   "source": [
    "### 2.2 Optimizacion Hiperparámetros"
   ]
  },
  {
   "cell_type": "markdown",
   "metadata": {
    "id": "2kwPpHAtSmix"
   },
   "source": [
    "Esta parte se debe correr con el runtime en lenguaje R Ir al menu, Runtime -> Change Runtime Type -> Runtime type -> R"
   ]
  },
  {
   "cell_type": "markdown",
   "metadata": {
    "id": "xp4-Bj3aYI8d"
   },
   "source": [
    "### 2.2.1 Inicio"
   ]
  },
  {
   "cell_type": "markdown",
   "metadata": {
    "id": "zy8YTZfESxeJ"
   },
   "source": [
    "limpio el ambiente de R"
   ]
  },
  {
   "cell_type": "code",
   "execution_count": 1,
   "metadata": {
    "id": "gBq__iAdQliq"
   },
   "outputs": [
    {
     "data": {
      "text/html": [
       "'Thu Jul 31 15:48:35 2025'"
      ],
      "text/latex": [
       "'Thu Jul 31 15:48:35 2025'"
      ],
      "text/markdown": [
       "'Thu Jul 31 15:48:35 2025'"
      ],
      "text/plain": [
       "[1] \"Thu Jul 31 15:48:35 2025\""
      ]
     },
     "metadata": {},
     "output_type": "display_data"
    }
   ],
   "source": [
    "format(Sys.time(), \"%a %b %d %X %Y\")"
   ]
  },
  {
   "cell_type": "code",
   "execution_count": 2,
   "metadata": {
    "id": "7rdVrBojS1IV"
   },
   "outputs": [
    {
     "data": {
      "text/html": [
       "<table class=\"dataframe\">\n",
       "<caption>A matrix: 2 × 6 of type dbl</caption>\n",
       "<thead>\n",
       "\t<tr><th></th><th scope=col>used</th><th scope=col>(Mb)</th><th scope=col>gc trigger</th><th scope=col>(Mb)</th><th scope=col>max used</th><th scope=col>(Mb)</th></tr>\n",
       "</thead>\n",
       "<tbody>\n",
       "\t<tr><th scope=row>Ncells</th><td> 656930</td><td>35.1</td><td>1439365</td><td>76.9</td><td>1431360</td><td>76.5</td></tr>\n",
       "\t<tr><th scope=row>Vcells</th><td>1225015</td><td> 9.4</td><td>8388608</td><td>64.0</td><td>1924969</td><td>14.7</td></tr>\n",
       "</tbody>\n",
       "</table>\n"
      ],
      "text/latex": [
       "A matrix: 2 × 6 of type dbl\n",
       "\\begin{tabular}{r|llllll}\n",
       "  & used & (Mb) & gc trigger & (Mb) & max used & (Mb)\\\\\n",
       "\\hline\n",
       "\tNcells &  656930 & 35.1 & 1439365 & 76.9 & 1431360 & 76.5\\\\\n",
       "\tVcells & 1225015 &  9.4 & 8388608 & 64.0 & 1924969 & 14.7\\\\\n",
       "\\end{tabular}\n"
      ],
      "text/markdown": [
       "\n",
       "A matrix: 2 × 6 of type dbl\n",
       "\n",
       "| <!--/--> | used | (Mb) | gc trigger | (Mb) | max used | (Mb) |\n",
       "|---|---|---|---|---|---|---|\n",
       "| Ncells |  656930 | 35.1 | 1439365 | 76.9 | 1431360 | 76.5 |\n",
       "| Vcells | 1225015 |  9.4 | 8388608 | 64.0 | 1924969 | 14.7 |\n",
       "\n"
      ],
      "text/plain": [
       "       used    (Mb) gc trigger (Mb) max used (Mb)\n",
       "Ncells  656930 35.1 1439365    76.9 1431360  76.5\n",
       "Vcells 1225015  9.4 8388608    64.0 1924969  14.7"
      ]
     },
     "metadata": {},
     "output_type": "display_data"
    }
   ],
   "source": [
    "# limpio la memoria\n",
    "rm(list=ls(all.names=TRUE)) # remove all objects\n",
    "gc(full=TRUE, verbose=FALSE) # garbage collection"
   ]
  },
  {
   "cell_type": "markdown",
   "metadata": {
    "id": "kuPfQ7ksjwW3"
   },
   "source": [
    "### 2.2.2 Carga de Librerias"
   ]
  },
  {
   "cell_type": "code",
   "execution_count": 3,
   "metadata": {
    "id": "lVyxLaJ1j1J_"
   },
   "outputs": [
    {
     "name": "stderr",
     "output_type": "stream",
     "text": [
      "Loading required package: data.table\n",
      "\n",
      "Loading required package: parallel\n",
      "\n",
      "Loading required package: primes\n",
      "\n",
      "Loading required package: rlist\n",
      "\n",
      "Loading required package: yaml\n",
      "\n",
      "Loading required package: lightgbm\n",
      "\n",
      "Loading required package: DiceKriging\n",
      "\n",
      "Loading required package: mlrMBO\n",
      "\n",
      "Loading required package: mlr\n",
      "\n",
      "Loading required package: ParamHelpers\n",
      "\n",
      "Loading required package: smoof\n",
      "\n",
      "Loading required package: checkmate\n",
      "\n",
      "\n",
      "Attaching package: ‘checkmate’\n",
      "\n",
      "\n",
      "The following object is masked from ‘package:DiceKriging’:\n",
      "\n",
      "    checkNames\n",
      "\n",
      "\n"
     ]
    }
   ],
   "source": [
    "# cargo las librerias que necesito\n",
    "require(\"data.table\")\n",
    "require(\"parallel\")\n",
    "\n",
    "if( !require(\"primes\") ) install.packages(\"primes\")\n",
    "require(\"primes\")\n",
    "\n",
    "if( !require(\"utils\") ) install.packages(\"utils\")\n",
    "require(\"utils\")\n",
    "\n",
    "if( !require(\"rlist\") ) install.packages(\"rlist\")\n",
    "require(\"rlist\")\n",
    "\n",
    "if( !require(\"yaml\")) install.packages(\"yaml\")\n",
    "require(\"yaml\")\n",
    "\n",
    "if( !require(\"lightgbm\") ) install.packages(\"lightgbm\")\n",
    "require(\"lightgbm\")\n",
    "\n",
    "if( !require(\"DiceKriging\") ) install.packages(\"DiceKriging\")\n",
    "require(\"DiceKriging\")\n",
    "\n",
    "if( !require(\"mlrMBO\") ) install.packages(\"mlrMBO\")\n",
    "require(\"mlrMBO\")"
   ]
  },
  {
   "cell_type": "markdown",
   "metadata": {
    "id": "Iz-6Qt6BUaA3"
   },
   "source": [
    "### 2.2.3 Definicion de Parametros"
   ]
  },
  {
   "cell_type": "markdown",
   "metadata": {
    "id": "cOdlKd7lUm2I"
   },
   "source": [
    "aqui debe cargar SU semilla primigenia\n",
    "<br>recuerde cambiar el numero de experimento en cada corrida nueva"
   ]
  },
  {
   "cell_type": "code",
   "execution_count": 4,
   "metadata": {
    "id": "ASYkebOu2mF6"
   },
   "outputs": [],
   "source": [
    "PARAM <- list()\n",
    "PARAM$experimento <- \"4951_12\"\n",
    "PARAM$semilla_primigenia <- 106109\n"
   ]
  },
  {
   "cell_type": "code",
   "execution_count": 5,
   "metadata": {
    "id": "ezOhQdbA293o"
   },
   "outputs": [],
   "source": [
    "PARAM$kaggle$competencia <- \"data-mining-analista-sr-2025-a\"\n",
    "PARAM$kaggle$cortes <- seq(10000, 12000, by= 500)"
   ]
  },
  {
   "cell_type": "code",
   "execution_count": 6,
   "metadata": {
    "id": "jtB0Lub42rHO"
   },
   "outputs": [],
   "source": [
    "# un undersampling de 0.1  toma solo el 10% de los CONTINUA\n",
    "# undersampling de 1.0  implica tomar TODOS los datos\n",
    "\n",
    "PARAM$trainingstrategy$undersampling <- 0.5"
   ]
  },
  {
   "cell_type": "code",
   "execution_count": 7,
   "metadata": {
    "id": "OFxm-xiNUOJX"
   },
   "outputs": [],
   "source": [
    "# Parametros LightGBM\n",
    "\n",
    "PARAM$hyperparametertuning$xval_folds <- 5\n",
    "\n",
    "# parametros fijos del LightGBM que se pisaran con la parte variable de la BO\n",
    "PARAM$lgbm$param_fijos <-  list(\n",
    "  boosting= \"gbdt\", # puede ir  dart  , ni pruebe random_forest\n",
    "  objective= \"binary\",\n",
    "  metric= \"auc\",\n",
    "  first_metric_only= FALSE,\n",
    "  boost_from_average= TRUE,\n",
    "  feature_pre_filter= FALSE,\n",
    "  force_row_wise= TRUE, # para reducir warnings\n",
    "  verbosity= -100,\n",
    "\n",
    "  seed= PARAM$semilla_primigenia,\n",
    "\n",
    "  max_depth= -1L, # -1 significa no limitar,  por ahora lo dejo fijo\n",
    "  min_gain_to_split= 0, # min_gain_to_split >= 0\n",
    "  min_sum_hessian_in_leaf= 1.098, #  min_sum_hessian_in_leaf >= 0.0\n",
    "  lambda_l1= 0.1365, # lambda_l1 >= 0.0\n",
    "  lambda_l2= 0.9895, # lambda_l2 >= 0.0\n",
    "  max_bin= 31L, # lo debo dejar fijo, no participa de la BO\n",
    "    \n",
    "  bagging_fraction= 1.0, # 0.0 < bagging_fraction <= 1.0\n",
    "  pos_bagging_fraction= 1.0, # 0.0 < pos_bagging_fraction <= 1.0\n",
    "  neg_bagging_fraction= 0.1812163, # 0.0 < neg_bagging_fraction <= 1.0\n",
    "  is_unbalance= FALSE, #\n",
    "  scale_pos_weight= 4.268, # scale_pos_weight > 0.0\n",
    "\n",
    "  drop_rate= 0.1, # 0.0 < neg_bagging_fraction <= 1.0\n",
    "  max_drop= 50, # <=0 means no limit\n",
    "  skip_drop= 0.5, # 0.0 <= skip_drop <= 1.0\n",
    "\n",
    "  extra_trees= FALSE,\n",
    "\n",
    "  num_iterations= 1271,\n",
    "  learning_rate= 0.0102,\n",
    "  feature_fraction= 0.58,\n",
    "  num_leaves= 51,\n",
    "  min_data_in_leaf= 500\n",
    ")\n"
   ]
  },
  {
   "cell_type": "markdown",
   "metadata": {
    "id": "D5Yj-JV4yvOt"
   },
   "source": [
    "Aqui se definen los hiperparámetros de LightGBM que participan de la Bayesian Optimization\n",
    "<br> si es un numero entero debe ir  makeIntegerParam\n",
    "<br> si es un numero real (con decimales) debe ir  makeNumericParam\n",
    "<br> es muy importante leer cuales son un lower y upper  permitidos y ademas razonables"
   ]
  },
  {
   "cell_type": "code",
   "execution_count": 8,
   "metadata": {
    "id": "jENpR26ZyuS8"
   },
   "outputs": [],
   "source": [
    "# Aqui se cargan los bordes de los hiperparametros de la BO\n",
    "PARAM$hypeparametertuning$hs <- makeParamSet(\n",
    "  makeIntegerParam(\"num_iterations\", lower= 8L, upper= 2048L),\n",
    "  makeNumericParam(\"learning_rate\", lower= 0.01, upper= 0.3),\n",
    "  makeNumericParam(\"feature_fraction\", lower= 0.1, upper= 1.0),\n",
    "  makeIntegerParam(\"num_leaves\", lower= 8L, upper= 2048L),\n",
    "  makeIntegerParam(\"min_data_in_leaf\", lower= 1L, upper= 8000L),\n",
    "  makeNumericParam(\"drop_rate\", lower= 0, upper= 0.1812163)\n",
    "\n",
    ")"
   ]
  },
  {
   "cell_type": "markdown",
   "metadata": {
    "id": "-_RPFUb3zMoW"
   },
   "source": [
    "A mayor cantidad de hiperparámetros, se debe aumentar las iteraciones de la Bayesian Optimization\n",
    "<br> 30 es un valor muy tacaño, pero corre rápido\n",
    "<br> deberia partir de 50, alcanzando los 100 si se dispone de tiempo"
   ]
  },
  {
   "cell_type": "code",
   "execution_count": 9,
   "metadata": {
    "id": "q5Rd3pnbzSiG"
   },
   "outputs": [],
   "source": [
    "PARAM$hyperparametertuning$iteraciones <- 100 # iteraciones bayesianas"
   ]
  },
  {
   "cell_type": "markdown",
   "metadata": {
    "id": "4RWZXL1VZjMI"
   },
   "source": [
    "### 2.2.4  Preprocesamiento"
   ]
  },
  {
   "cell_type": "code",
   "execution_count": 10,
   "metadata": {
    "id": "j3toG9-lZm4K"
   },
   "outputs": [],
   "source": [
    "# carpeta de trabajo\n",
    "\n",
    "setwd(\"/content/buckets/b1/exp\")\n",
    "experimento_folder <- paste0(\"HT\", PARAM$experimento)\n",
    "dir.create(experimento_folder, showWarnings=FALSE)\n",
    "setwd( paste0(\"/content/buckets/b1/exp/\", experimento_folder ))"
   ]
  },
  {
   "cell_type": "code",
   "execution_count": 11,
   "metadata": {
    "id": "FM3lxKoLZ643"
   },
   "outputs": [],
   "source": [
    "# lectura del dataset\n",
    "\n",
    "dataset <- fread(\"/content/datasets/dataset_pequeno.csv\")"
   ]
  },
  {
   "cell_type": "code",
   "execution_count": 12,
   "metadata": {
    "id": "OsJ-91UeZ-I_"
   },
   "outputs": [],
   "source": [
    "dataset_train <- dataset[foto_mes %in% c(202107)]"
   ]
  },
  {
   "cell_type": "code",
   "execution_count": 13,
   "metadata": {
    "id": "vrWE7BE0aB2J"
   },
   "outputs": [],
   "source": [
    "# paso la clase a binaria que tome valores {0,1}  enteros\n",
    "#  BAJA+1 y BAJA+2  son  1,   CONTINUA es 0\n",
    "\n",
    "dataset_train[,\n",
    "  clase01 := ifelse(clase_ternaria %in% c(\"BAJA+2\",\"BAJA+1\"), 1L, 0L)\n",
    "]"
   ]
  },
  {
   "cell_type": "code",
   "execution_count": 14,
   "metadata": {
    "id": "jP7YlQBnaW6W"
   },
   "outputs": [],
   "source": [
    "# defino los datos que forma parte del training\n",
    "# aqui se hace el undersampling de los CONTINUA\n",
    "# notar que para esto utilizo la SEGUNDA semilla\n",
    "\n",
    "set.seed(PARAM$semilla_primigenia, kind = \"L'Ecuyer-CMRG\")\n",
    "dataset_train[, azar := runif(nrow(dataset_train))]\n",
    "dataset_train[, training := 0L]\n",
    "\n",
    "dataset_train[\n",
    "  foto_mes %in% c(202107) &\n",
    "    (azar <= PARAM$trainingstrategy$undersampling | clase_ternaria %in% c(\"BAJA+1\", \"BAJA+2\")),\n",
    "  training := 1L\n",
    "]"
   ]
  },
  {
   "cell_type": "code",
   "execution_count": 15,
   "metadata": {
    "id": "xElu4s5W4rX7"
   },
   "outputs": [],
   "source": [
    "# los campos que se van a utilizar\n",
    "\n",
    "campos_buenos <- setdiff(\n",
    "  colnames(dataset_train),\n",
    "  c(\"clase_ternaria\", \"clase01\", \"azar\", \"training\")\n",
    ")"
   ]
  },
  {
   "cell_type": "code",
   "execution_count": 16,
   "metadata": {
    "id": "PppMHcGYaaol"
   },
   "outputs": [
    {
     "data": {
      "text/html": [
       "83237"
      ],
      "text/latex": [
       "83237"
      ],
      "text/markdown": [
       "83237"
      ],
      "text/plain": [
       "[1] 83237"
      ]
     },
     "metadata": {},
     "output_type": "display_data"
    },
    {
     "data": {
      "text/html": [
       "154"
      ],
      "text/latex": [
       "154"
      ],
      "text/markdown": [
       "154"
      ],
      "text/plain": [
       "[1] 154"
      ]
     },
     "metadata": {},
     "output_type": "display_data"
    }
   ],
   "source": [
    "# dejo los datos en el formato que necesita LightGBM\n",
    "\n",
    "dtrain <- lgb.Dataset(\n",
    "  data= data.matrix(dataset_train[training == 1L, campos_buenos, with= FALSE]),\n",
    "  label= dataset_train[training == 1L, clase01],\n",
    "  free_raw_data= FALSE\n",
    ")\n",
    "\n",
    "nrow(dtrain)\n",
    "ncol(dtrain)"
   ]
  },
  {
   "cell_type": "markdown",
   "metadata": {
    "id": "Ta-EkOu3cphF"
   },
   "source": [
    "2.2.5 Configuracion Bayesian Optimization"
   ]
  },
  {
   "cell_type": "code",
   "execution_count": 17,
   "metadata": {
    "id": "cjgfurjdfiXb"
   },
   "outputs": [],
   "source": [
    "# En el argumento x llegan los parmaetros de la bayesiana\n",
    "#  devuelve la AUC en cross validation del modelo entrenado\n",
    "\n",
    "EstimarGanancia_AUC_lightgbm <- function(x) {\n",
    "\n",
    "  # x pisa (o agrega) a param_fijos\n",
    "  param_completo <- modifyList(PARAM$lgbm$param_fijos, x)\n",
    "\n",
    "  # entreno LightGBM\n",
    "  modelocv <- lgb.cv(\n",
    "    data= dtrain,\n",
    "    nfold= PARAM$hyperparametertuning$xval_folds,\n",
    "    stratified= TRUE,\n",
    "    param= param_completo\n",
    "  )\n",
    "\n",
    "  # obtengo la ganancia\n",
    "  AUC <- modelocv$best_score\n",
    "\n",
    "  # hago espacio en la memoria\n",
    "  rm(modelocv)\n",
    "  gc(full= TRUE, verbose= FALSE)\n",
    "\n",
    "  message(format(Sys.time(), \"%a %b %d %X %Y\"), \" AUC \", AUC)\n",
    "\n",
    "  return(AUC)\n",
    "}"
   ]
  },
  {
   "cell_type": "code",
   "execution_count": 18,
   "metadata": {
    "id": "WLi_o1hocvN-"
   },
   "outputs": [],
   "source": [
    "# Aqui comienza la configuracion de la Bayesian Optimization\n",
    "\n",
    "# en este archivo quedan la evolucion binaria de la BO\n",
    "kbayesiana <- \"bayesiana.RDATA\"\n",
    "\n",
    "funcion_optimizar <- EstimarGanancia_AUC_lightgbm # la funcion que voy a maximizar\n",
    "\n",
    "configureMlr(show.learner.output= FALSE)\n",
    "\n",
    "# configuro la busqueda bayesiana,  los hiperparametros que se van a optimizar\n",
    "# por favor, no desesperarse por lo complejo\n",
    "\n",
    "obj.fun <- makeSingleObjectiveFunction(\n",
    "  fn= funcion_optimizar, # la funcion que voy a maximizar\n",
    "  minimize= FALSE, # estoy Maximizando la ganancia\n",
    "  noisy= TRUE,\n",
    "  par.set= PARAM$hypeparametertuning$hs, # definido al comienzo del programa\n",
    "  has.simple.signature= FALSE # paso los parametros en una lista\n",
    ")\n",
    "\n",
    "# cada 600 segundos guardo el resultado intermedio\n",
    "ctrl <- makeMBOControl(\n",
    "  save.on.disk.at.time= 600, # se graba cada 600 segundos\n",
    "  save.file.path= kbayesiana\n",
    ") # se graba cada 600 segundos\n",
    "\n",
    "# indico la cantidad de iteraciones que va a tener la Bayesian Optimization\n",
    "ctrl <- setMBOControlTermination(\n",
    "  ctrl,\n",
    "  iters= PARAM$hyperparametertuning$iteraciones\n",
    ") # cantidad de iteraciones\n",
    "\n",
    "# defino el método estandar para la creacion de los puntos iniciales,\n",
    "# los \"No Inteligentes\"\n",
    "ctrl <- setMBOControlInfill(ctrl, crit= makeMBOInfillCritEI())\n",
    "\n",
    "# establezco la funcion que busca el maximo\n",
    "surr.km <- makeLearner(\n",
    "  \"regr.km\",\n",
    "  predict.type= \"se\",\n",
    "  covtype= \"matern3_2\",\n",
    "  control= list(trace= TRUE)\n",
    ")\n"
   ]
  },
  {
   "cell_type": "markdown",
   "metadata": {
    "id": "_uUeVo5pc4zc"
   },
   "source": [
    "2.2.6 Corrida Bayesian Optimization"
   ]
  },
  {
   "cell_type": "code",
   "execution_count": 19,
   "metadata": {
    "id": "RcABNaKGciaz"
   },
   "outputs": [
    {
     "name": "stderr",
     "output_type": "stream",
     "text": [
      "Computing y column(s) for design. Not provided.\n",
      "\n",
      "Thu Jul 31 15:50:08 2025 AUC 0.922479134735311\n",
      "\n",
      "Thu Jul 31 15:50:54 2025 AUC 0.924307163528213\n",
      "\n",
      "Thu Jul 31 15:51:18 2025 AUC 0.924510282238611\n",
      "\n",
      "Thu Jul 31 15:52:35 2025 AUC 0.922832626578445\n",
      "\n",
      "Thu Jul 31 15:53:03 2025 AUC 0.925560908596973\n",
      "\n",
      "Thu Jul 31 15:53:59 2025 AUC 0.922593551602662\n",
      "\n",
      "Thu Jul 31 15:54:01 2025 AUC 0.921186188631314\n",
      "\n",
      "Thu Jul 31 15:55:03 2025 AUC 0.924930794096441\n",
      "\n",
      "Thu Jul 31 15:55:36 2025 AUC 0.925632075604446\n",
      "\n",
      "Thu Jul 31 15:55:43 2025 AUC 0.921810173683627\n",
      "\n",
      "Thu Jul 31 15:56:12 2025 AUC 0.924141059769955\n",
      "\n",
      "Thu Jul 31 15:56:41 2025 AUC 0.918954146357588\n",
      "\n",
      "Thu Jul 31 15:58:01 2025 AUC 0.92363813252781\n",
      "\n",
      "Thu Jul 31 15:59:35 2025 AUC 0.917784637113409\n",
      "\n",
      "Thu Jul 31 16:00:02 2025 AUC 0.926037787003704\n",
      "\n",
      "Thu Jul 31 16:00:52 2025 AUC 0.924341765086913\n",
      "\n",
      "Thu Jul 31 16:01:26 2025 AUC 0.924751976420435\n",
      "\n",
      "Thu Jul 31 16:01:30 2025 AUC 0.916368523209837\n",
      "\n",
      "Thu Jul 31 16:01:40 2025 AUC 0.923974390571922\n",
      "\n",
      "Thu Jul 31 16:02:46 2025 AUC 0.92374951097658\n",
      "\n",
      "Thu Jul 31 16:04:00 2025 AUC 0.925927751928713\n",
      "\n",
      "Thu Jul 31 16:04:49 2025 AUC 0.924572832207626\n",
      "\n",
      "Thu Jul 31 16:05:20 2025 AUC 0.92195126711466\n",
      "\n",
      "Thu Jul 31 16:06:01 2025 AUC 0.9256013518573\n",
      "\n",
      "[mbo] 0: num_iterations=1025; learning_rate=0.222; feature_fraction=0.672; num_leaves=1129; min_data_in_leaf=1214; drop_rate=0.0254 : y = 0.922 : 44.6 secs : initdesign\n",
      "\n",
      "[mbo] 0: num_iterations=1772; learning_rate=0.135; feature_fraction=0.756; num_leaves=608; min_data_in_leaf=5193; drop_rate=0.093 : y = 0.924 : 46.2 secs : initdesign\n",
      "\n",
      "[mbo] 0: num_iterations=1057; learning_rate=0.191; feature_fraction=0.713; num_leaves=287; min_data_in_leaf=7390; drop_rate=0.13 : y = 0.925 : 23.6 secs : initdesign\n",
      "\n",
      "[mbo] 0: num_iterations=1526; learning_rate=0.235; feature_fraction=0.456; num_leaves=1769; min_data_in_leaf=3190; drop_rate=0.116 : y = 0.923 : 76.8 secs : initdesign\n",
      "\n",
      "[mbo] 0: num_iterations=546; learning_rate=0.0901; feature_fraction=0.596; num_leaves=1302; min_data_in_leaf=1412; drop_rate=0.172 : y = 0.926 : 28.5 secs : initdesign\n",
      "\n",
      "[mbo] 0: num_iterations=1322; learning_rate=0.27; feature_fraction=0.296; num_leaves=1524; min_data_in_leaf=4986; drop_rate=0.0465 : y = 0.923 : 55.9 secs : initdesign\n",
      "\n",
      "[mbo] 0: num_iterations=37; learning_rate=0.174; feature_fraction=0.41; num_leaves=762; min_data_in_leaf=2340; drop_rate=0.139 : y = 0.921 : 2.5 secs : initdesign\n",
      "\n",
      "[mbo] 0: num_iterations=1403; learning_rate=0.157; feature_fraction=0.563; num_leaves=1015; min_data_in_leaf=4257; drop_rate=0.111 : y = 0.925 : 61.6 secs : initdesign\n",
      "\n",
      "[mbo] 0: num_iterations=779; learning_rate=0.0491; feature_fraction=0.546; num_leaves=811; min_data_in_leaf=7686; drop_rate=0.0636 : y = 0.926 : 32.9 secs : initdesign\n",
      "\n",
      "[mbo] 0: num_iterations=179; learning_rate=0.256; feature_fraction=0.19; num_leaves=1642; min_data_in_leaf=5590; drop_rate=0.0762 : y = 0.922 : 7.4 secs : initdesign\n",
      "\n",
      "[mbo] 0: num_iterations=1164; learning_rate=0.0796; feature_fraction=0.788; num_leaves=1059; min_data_in_leaf=6014; drop_rate=0.175 : y = 0.924 : 28.5 secs : initdesign\n",
      "\n",
      "[mbo] 0: num_iterations=485; learning_rate=0.282; feature_fraction=0.347; num_leaves=130; min_data_in_leaf=814; drop_rate=0.125 : y = 0.919 : 29.2 secs : initdesign\n",
      "\n",
      "[mbo] 0: num_iterations=1616; learning_rate=0.104; feature_fraction=0.851; num_leaves=1241; min_data_in_leaf=551; drop_rate=0.0356 : y = 0.924 : 80.1 secs : initdesign\n",
      "\n",
      "[mbo] 0: num_iterations=1934; learning_rate=0.297; feature_fraction=0.369; num_leaves=573; min_data_in_leaf=2098; drop_rate=0.0861 : y = 0.918 : 94.0 secs : initdesign\n",
      "\n",
      "[mbo] 0: num_iterations=655; learning_rate=0.0251; feature_fraction=0.26; num_leaves=2011; min_data_in_leaf=4463; drop_rate=0.104 : y = 0.926 : 27.1 secs : initdesign\n",
      "\n",
      "[mbo] 0: num_iterations=1276; learning_rate=0.149; feature_fraction=0.225; num_leaves=360; min_data_in_leaf=5696; drop_rate=0.00917 : y = 0.924 : 49.7 secs : initdesign\n",
      "\n",
      "[mbo] 0: num_iterations=770; learning_rate=0.0588; feature_fraction=0.493; num_leaves=8; min_data_in_leaf=3612; drop_rate=0.156 : y = 0.925 : 33.8 secs : initdesign\n",
      "\n",
      "[mbo] 0: num_iterations=161; learning_rate=0.0163; feature_fraction=0.901; num_leaves=485; min_data_in_leaf=6889; drop_rate=0.0685 : y = 0.916 : 4.1 secs : initdesign\n",
      "\n",
      "[mbo] 0: num_iterations=310; learning_rate=0.242; feature_fraction=0.831; num_leaves=1445; min_data_in_leaf=3770; drop_rate=0.0539 : y = 0.924 : 10.2 secs : initdesign\n",
      "\n",
      "[mbo] 0: num_iterations=1632; learning_rate=0.115; feature_fraction=0.165; num_leaves=1914; min_data_in_leaf=2847; drop_rate=0.00383 : y = 0.924 : 66.4 secs : initdesign\n",
      "\n",
      "[mbo] 0: num_iterations=1857; learning_rate=0.119; feature_fraction=0.649; num_leaves=1578; min_data_in_leaf=1922; drop_rate=0.159 : y = 0.926 : 73.3 secs : initdesign\n",
      "\n",
      "[mbo] 0: num_iterations=1990; learning_rate=0.179; feature_fraction=0.98; num_leaves=1823; min_data_in_leaf=6457; drop_rate=0.0203 : y = 0.925 : 49.4 secs : initdesign\n",
      "\n",
      "[mbo] 0: num_iterations=874; learning_rate=0.21; feature_fraction=0.132; num_leaves=865; min_data_in_leaf=7305; drop_rate=0.151 : y = 0.922 : 31.0 secs : initdesign\n",
      "\n",
      "[mbo] 0: num_iterations=377; learning_rate=0.0394; feature_fraction=0.931; num_leaves=206; min_data_in_leaf=81; drop_rate=0.0406 : y = 0.926 : 40.9 secs : initdesign\n",
      "\n",
      "Saved the current state after iteration 1 in the file bayesiana.RDATA.\n",
      "\n",
      "Thu Jul 31 16:06:57 2025 AUC 0.927032815457913\n",
      "\n",
      "[mbo] 1: num_iterations=587; learning_rate=0.0461; feature_fraction=0.635; num_leaves=903; min_data_in_leaf=284; drop_rate=0.0441 : y = 0.927 : 51.9 secs : infill_ei\n",
      "\n",
      "Thu Jul 31 16:08:29 2025 AUC 0.925733365481706\n",
      "\n",
      "[mbo] 2: num_iterations=1961; learning_rate=0.0762; feature_fraction=0.509; num_leaves=2040; min_data_in_leaf=6264; drop_rate=0.117 : y = 0.926 : 92.1 secs : infill_ei\n",
      "\n",
      "Thu Jul 31 16:10:59 2025 AUC 0.926153479036938\n",
      "\n",
      "[mbo] 3: num_iterations=1273; learning_rate=0.0259; feature_fraction=0.631; num_leaves=1814; min_data_in_leaf=7; drop_rate=0.136 : y = 0.926 : 149.4 secs : infill_ei\n",
      "\n",
      "Thu Jul 31 16:12:28 2025 AUC 0.928144903126442\n",
      "\n",
      "[mbo] 4: num_iterations=1007; learning_rate=0.0408; feature_fraction=0.626; num_leaves=201; min_data_in_leaf=5; drop_rate=2.13e-06 : y = 0.928 : 87.9 secs : infill_ei\n",
      "\n",
      "Thu Jul 31 16:13:53 2025 AUC 0.931075207811104\n",
      "\n",
      "[mbo] 5: num_iterations=980; learning_rate=0.01; feature_fraction=0.553; num_leaves=117; min_data_in_leaf=15; drop_rate=0.0113 : y = 0.931 : 84.7 secs : infill_ei\n",
      "\n",
      "Thu Jul 31 16:15:47 2025 AUC 0.929178949405027\n",
      "\n",
      "[mbo] 6: num_iterations=889; learning_rate=0.01; feature_fraction=0.433; num_leaves=271; min_data_in_leaf=77; drop_rate=0.00177 : y = 0.929 : 112.8 secs : infill_ei\n",
      "\n",
      "Thu Jul 31 16:17:19 2025 AUC 0.930297863414144\n",
      "\n",
      "[mbo] 7: num_iterations=1154; learning_rate=0.0105; feature_fraction=0.524; num_leaves=85; min_data_in_leaf=135; drop_rate=0.0241 : y = 0.93 : 91.0 secs : infill_ei\n",
      "\n",
      "Saved the current state after iteration 8 in the file bayesiana.RDATA.\n",
      "\n",
      "Thu Jul 31 16:17:49 2025 AUC 0.92879118849896\n",
      "\n",
      "[mbo] 8: num_iterations=281; learning_rate=0.0105; feature_fraction=0.54; num_leaves=406; min_data_in_leaf=274; drop_rate=0.0114 : y = 0.929 : 25.0 secs : infill_ei\n",
      "\n",
      "Thu Jul 31 16:18:44 2025 AUC 0.928215641212234\n",
      "\n",
      "[mbo] 9: num_iterations=1018; learning_rate=0.0101; feature_fraction=0.552; num_leaves=1300; min_data_in_leaf=1747; drop_rate=0.0122 : y = 0.928 : 54.4 secs : infill_ei\n",
      "\n",
      "Thu Jul 31 16:19:27 2025 AUC 0.922148923132905\n",
      "\n",
      "[mbo] 10: num_iterations=1268; learning_rate=0.01; feature_fraction=0.103; num_leaves=64; min_data_in_leaf=6516; drop_rate=0.0353 : y = 0.922 : 41.8 secs : infill_ei\n",
      "\n",
      "Thu Jul 31 16:20:56 2025 AUC 0.930296701245637\n",
      "\n",
      "[mbo] 11: num_iterations=826; learning_rate=0.0102; feature_fraction=0.572; num_leaves=394; min_data_in_leaf=184; drop_rate=0.12 : y = 0.93 : 88.9 secs : infill_ei\n",
      "\n",
      "Thu Jul 31 16:21:43 2025 AUC 0.931168386118446\n",
      "\n",
      "[mbo] 12: num_iterations=881; learning_rate=0.0101; feature_fraction=0.561; num_leaves=26; min_data_in_leaf=440; drop_rate=0.0829 : y = 0.931 : 45.6 secs : infill_ei\n",
      "\n",
      "Thu Jul 31 16:23:04 2025 AUC 0.930937417528257\n",
      "\n",
      "[mbo] 13: num_iterations=1845; learning_rate=0.0101; feature_fraction=0.577; num_leaves=19; min_data_in_leaf=938; drop_rate=0.138 : y = 0.931 : 80.2 secs : infill_ei\n",
      "\n",
      "Thu Jul 31 16:24:08 2025 AUC 0.930806493588898\n",
      "\n",
      "[mbo] 14: num_iterations=1275; learning_rate=0.0102; feature_fraction=0.583; num_leaves=34; min_data_in_leaf=514; drop_rate=0.0862 : y = 0.931 : 63.7 secs : infill_ei\n",
      "\n",
      "Thu Jul 31 16:26:16 2025 AUC 0.930174168316371\n",
      "\n",
      "[mbo] 15: num_iterations=1602; learning_rate=0.0103; feature_fraction=0.558; num_leaves=102; min_data_in_leaf=13; drop_rate=0.0888 : y = 0.93 : 127.6 secs : infill_ei\n",
      "\n",
      "Thu Jul 31 16:27:03 2025 AUC 0.930042391692804\n",
      "\n",
      "[mbo] 16: num_iterations=799; learning_rate=0.0101; feature_fraction=0.578; num_leaves=79; min_data_in_leaf=942; drop_rate=0.161 : y = 0.93 : 46.0 secs : infill_ei\n",
      "\n",
      "Thu Jul 31 16:28:01 2025 AUC 0.930353414935266\n",
      "\n",
      "[mbo] 17: num_iterations=2034; learning_rate=0.01; feature_fraction=0.709; num_leaves=19; min_data_in_leaf=429; drop_rate=0.173 : y = 0.93 : 57.5 secs : infill_ei\n",
      "\n",
      "Saved the current state after iteration 18 in the file bayesiana.RDATA.\n",
      "\n",
      "Thu Jul 31 16:29:07 2025 AUC 0.930450543010241\n",
      "\n",
      "[mbo] 18: num_iterations=1710; learning_rate=0.0101; feature_fraction=0.667; num_leaves=29; min_data_in_leaf=820; drop_rate=0.108 : y = 0.93 : 61.3 secs : infill_ei\n",
      "\n",
      "Thu Jul 31 16:30:22 2025 AUC 0.926078232866765\n",
      "\n",
      "[mbo] 19: num_iterations=2046; learning_rate=0.0101; feature_fraction=0.608; num_leaves=141; min_data_in_leaf=3062; drop_rate=0.0801 : y = 0.926 : 74.0 secs : infill_ei\n",
      "\n",
      "Thu Jul 31 16:30:58 2025 AUC 0.92423770087588\n",
      "\n",
      "[mbo] 20: num_iterations=823; learning_rate=0.124; feature_fraction=0.453; num_leaves=2047; min_data_in_leaf=7991; drop_rate=0.000126 : y = 0.924 : 36.1 secs : infill_ei\n",
      "\n",
      "Thu Jul 31 16:32:54 2025 AUC 0.929540989827836\n",
      "\n",
      "[mbo] 21: num_iterations=2040; learning_rate=0.0102; feature_fraction=0.335; num_leaves=1054; min_data_in_leaf=1162; drop_rate=0.157 : y = 0.93 : 114.7 secs : infill_ei\n",
      "\n",
      "Thu Jul 31 16:33:24 2025 AUC 0.928533420528377\n",
      "\n",
      "[mbo] 22: num_iterations=1116; learning_rate=0.0101; feature_fraction=0.623; num_leaves=8; min_data_in_leaf=31; drop_rate=0.137 : y = 0.929 : 29.6 secs : infill_ei\n",
      "\n",
      "Thu Jul 31 16:34:29 2025 AUC 0.93041467289158\n",
      "\n",
      "[mbo] 23: num_iterations=926; learning_rate=0.01; feature_fraction=0.562; num_leaves=267; min_data_in_leaf=619; drop_rate=0.0373 : y = 0.93 : 63.9 secs : infill_ei\n",
      "\n",
      "Thu Jul 31 16:35:53 2025 AUC 0.929241419888291\n",
      "\n",
      "[mbo] 24: num_iterations=2041; learning_rate=0.0102; feature_fraction=0.724; num_leaves=534; min_data_in_leaf=1394; drop_rate=0.179 : y = 0.929 : 83.0 secs : infill_ei\n",
      "\n",
      "Thu Jul 31 16:37:53 2025 AUC 0.93076185731821\n",
      "\n",
      "[mbo] 25: num_iterations=1862; learning_rate=0.0102; feature_fraction=0.562; num_leaves=966; min_data_in_leaf=849; drop_rate=0.169 : y = 0.931 : 119.7 secs : infill_ei\n",
      "\n",
      "Thu Jul 31 16:40:04 2025 AUC 0.930558926866486\n",
      "\n",
      "[mbo] 26: num_iterations=2041; learning_rate=0.0101; feature_fraction=0.444; num_leaves=1158; min_data_in_leaf=914; drop_rate=0.143 : y = 0.931 : 130.3 secs : infill_ei\n",
      "\n",
      "Saved the current state after iteration 27 in the file bayesiana.RDATA.\n",
      "\n",
      "Thu Jul 31 16:41:54 2025 AUC 0.929835560242995\n",
      "\n",
      "[mbo] 27: num_iterations=1799; learning_rate=0.0102; feature_fraction=0.408; num_leaves=2035; min_data_in_leaf=1195; drop_rate=0.18 : y = 0.93 : 105.4 secs : infill_ei\n",
      "\n",
      "Thu Jul 31 16:42:42 2025 AUC 0.931237561799135\n",
      "\n",
      "[mbo] 28: num_iterations=768; learning_rate=0.0102; feature_fraction=0.435; num_leaves=1066; min_data_in_leaf=906; drop_rate=0.173 : y = 0.931 : 47.6 secs : infill_ei\n",
      "\n",
      "Thu Jul 31 16:43:37 2025 AUC 0.93012986111311\n",
      "\n",
      "[mbo] 29: num_iterations=888; learning_rate=0.0101; feature_fraction=0.464; num_leaves=1030; min_data_in_leaf=1108; drop_rate=0.132 : y = 0.93 : 53.9 secs : infill_ei\n",
      "\n",
      "Thu Jul 31 16:44:42 2025 AUC 0.929670364371983\n",
      "\n",
      "[mbo] 30: num_iterations=961; learning_rate=0.0101; feature_fraction=0.418; num_leaves=770; min_data_in_leaf=667; drop_rate=0.181 : y = 0.93 : 64.1 secs : infill_ei\n",
      "\n",
      "Thu Jul 31 16:45:17 2025 AUC 0.930300170421426\n",
      "\n",
      "[mbo] 31: num_iterations=553; learning_rate=0.0101; feature_fraction=0.433; num_leaves=1482; min_data_in_leaf=933; drop_rate=0.176 : y = 0.93 : 34.1 secs : infill_ei\n",
      "\n",
      "Thu Jul 31 16:47:05 2025 AUC 0.929039152065815\n",
      "\n",
      "[mbo] 32: num_iterations=1857; learning_rate=0.0101; feature_fraction=0.457; num_leaves=1131; min_data_in_leaf=1347; drop_rate=0.168 : y = 0.929 : 106.9 secs : infill_ei\n",
      "\n",
      "Thu Jul 31 16:49:18 2025 AUC 0.929465187041033\n",
      "\n",
      "[mbo] 33: num_iterations=2044; learning_rate=0.0103; feature_fraction=0.574; num_leaves=1450; min_data_in_leaf=763; drop_rate=0.0922 : y = 0.929 : 132.1 secs : infill_ei\n",
      "\n",
      "Thu Jul 31 16:51:19 2025 AUC 0.931487187300501\n",
      "\n",
      "[mbo] 34: num_iterations=1834; learning_rate=0.0103; feature_fraction=0.567; num_leaves=68; min_data_in_leaf=443; drop_rate=0.0939 : y = 0.931 : 120.4 secs : infill_ei\n",
      "\n",
      "Saved the current state after iteration 35 in the file bayesiana.RDATA.\n",
      "\n",
      "Thu Jul 31 16:52:49 2025 AUC 0.928737501906821\n",
      "\n",
      "[mbo] 35: num_iterations=746; learning_rate=0.01; feature_fraction=0.383; num_leaves=1214; min_data_in_leaf=124; drop_rate=0.109 : y = 0.929 : 85.6 secs : infill_ei\n",
      "\n",
      "Thu Jul 31 16:53:34 2025 AUC 0.929342860822459\n",
      "\n",
      "[mbo] 36: num_iterations=684; learning_rate=0.0101; feature_fraction=0.546; num_leaves=1061; min_data_in_leaf=806; drop_rate=0.174 : y = 0.929 : 43.9 secs : infill_ei\n",
      "\n",
      "Thu Jul 31 16:54:25 2025 AUC 0.929321898802082\n",
      "\n",
      "[mbo] 37: num_iterations=856; learning_rate=0.0147; feature_fraction=0.364; num_leaves=1226; min_data_in_leaf=931; drop_rate=0.138 : y = 0.929 : 50.9 secs : infill_ei\n",
      "\n",
      "Thu Jul 31 16:56:42 2025 AUC 0.930623553339276\n",
      "\n",
      "[mbo] 38: num_iterations=1983; learning_rate=0.0105; feature_fraction=0.433; num_leaves=1926; min_data_in_leaf=700; drop_rate=0.0106 : y = 0.931 : 135.7 secs : infill_ei\n",
      "\n",
      "Thu Jul 31 17:00:13 2025 AUC 0.927653379919391\n",
      "\n",
      "[mbo] 39: num_iterations=2048; learning_rate=0.0231; feature_fraction=0.413; num_leaves=1897; min_data_in_leaf=6; drop_rate=0.139 : y = 0.928 : 210.3 secs : infill_ei\n",
      "\n",
      "Thu Jul 31 17:01:19 2025 AUC 0.931145638103207\n",
      "\n",
      "[mbo] 40: num_iterations=1061; learning_rate=0.0101; feature_fraction=0.434; num_leaves=1481; min_data_in_leaf=999; drop_rate=0.0902 : y = 0.931 : 64.8 secs : infill_ei\n",
      "\n",
      "Thu Jul 31 17:04:15 2025 AUC 0.929267027800576\n",
      "\n",
      "[mbo] 41: num_iterations=2046; learning_rate=0.011; feature_fraction=0.561; num_leaves=836; min_data_in_leaf=364; drop_rate=0.0903 : y = 0.929 : 175.0 secs : infill_ei\n",
      "\n",
      "Saved the current state after iteration 42 in the file bayesiana.RDATA.\n",
      "\n",
      "Thu Jul 31 17:05:41 2025 AUC 0.930093184601334\n",
      "\n",
      "[mbo] 42: num_iterations=1876; learning_rate=0.022; feature_fraction=0.568; num_leaves=19; min_data_in_leaf=552; drop_rate=0.145 : y = 0.93 : 82.0 secs : infill_ei\n",
      "\n",
      "Thu Jul 31 17:07:09 2025 AUC 0.929635684098585\n",
      "\n",
      "[mbo] 43: num_iterations=1420; learning_rate=0.0103; feature_fraction=0.57; num_leaves=96; min_data_in_leaf=823; drop_rate=0.103 : y = 0.93 : 86.9 secs : infill_ei\n",
      "\n",
      "Thu Jul 31 17:10:31 2025 AUC 0.928558169163758\n",
      "\n",
      "[mbo] 44: num_iterations=1827; learning_rate=0.0101; feature_fraction=0.606; num_leaves=228; min_data_in_leaf=110; drop_rate=0.0895 : y = 0.929 : 200.7 secs : infill_ei\n",
      "\n",
      "Thu Jul 31 17:11:22 2025 AUC 0.929804653079273\n",
      "\n",
      "[mbo] 45: num_iterations=792; learning_rate=0.0107; feature_fraction=0.434; num_leaves=1214; min_data_in_leaf=852; drop_rate=0.0154 : y = 0.93 : 50.8 secs : infill_ei\n",
      "\n",
      "Thu Jul 31 17:12:13 2025 AUC 0.92983260608736\n",
      "\n",
      "[mbo] 46: num_iterations=1035; learning_rate=0.01; feature_fraction=0.651; num_leaves=661; min_data_in_leaf=982; drop_rate=0.178 : y = 0.93 : 50.1 secs : infill_ei\n",
      "\n",
      "Thu Jul 31 17:13:58 2025 AUC 0.930915059078852\n",
      "\n",
      "[mbo] 47: num_iterations=1611; learning_rate=0.0103; feature_fraction=0.432; num_leaves=1802; min_data_in_leaf=932; drop_rate=0.148 : y = 0.931 : 104.0 secs : infill_ei\n",
      "\n",
      "Thu Jul 31 17:15:35 2025 AUC 0.930059053852977\n",
      "\n",
      "[mbo] 48: num_iterations=1545; learning_rate=0.0102; feature_fraction=0.425; num_leaves=1055; min_data_in_leaf=1018; drop_rate=0.168 : y = 0.93 : 95.3 secs : infill_ei\n",
      "\n",
      "Saved the current state after iteration 49 in the file bayesiana.RDATA.\n",
      "\n",
      "Thu Jul 31 17:16:41 2025 AUC 0.929307800312453\n",
      "\n",
      "[mbo] 49: num_iterations=1048; learning_rate=0.0101; feature_fraction=0.705; num_leaves=201; min_data_in_leaf=596; drop_rate=0.176 : y = 0.929 : 61.3 secs : infill_ei\n",
      "\n",
      "Thu Jul 31 17:18:21 2025 AUC 0.929907285803274\n",
      "\n",
      "[mbo] 50: num_iterations=2010; learning_rate=0.0101; feature_fraction=0.679; num_leaves=1808; min_data_in_leaf=990; drop_rate=0.149 : y = 0.93 : 99.0 secs : infill_ei\n",
      "\n",
      "Thu Jul 31 17:19:47 2025 AUC 0.928844093883639\n",
      "\n",
      "[mbo] 51: num_iterations=2040; learning_rate=0.0101; feature_fraction=0.677; num_leaves=1177; min_data_in_leaf=1352; drop_rate=0.168 : y = 0.929 : 86.0 secs : infill_ei\n",
      "\n",
      "Thu Jul 31 17:21:42 2025 AUC 0.929294818387047\n",
      "\n",
      "[mbo] 52: num_iterations=1746; learning_rate=0.01; feature_fraction=0.699; num_leaves=674; min_data_in_leaf=529; drop_rate=0.0791 : y = 0.929 : 113.7 secs : infill_ei\n",
      "\n",
      "Thu Jul 31 17:23:39 2025 AUC 0.930768082571553\n",
      "\n",
      "[mbo] 53: num_iterations=1880; learning_rate=0.0101; feature_fraction=0.365; num_leaves=1972; min_data_in_leaf=926; drop_rate=0.0556 : y = 0.931 : 116.4 secs : infill_ei\n",
      "\n",
      "Thu Jul 31 17:24:47 2025 AUC 0.930373947317581\n",
      "\n",
      "[mbo] 54: num_iterations=1061; learning_rate=0.01; feature_fraction=0.434; num_leaves=1713; min_data_in_leaf=1091; drop_rate=0.00646 : y = 0.93 : 66.5 secs : infill_ei\n",
      "\n",
      "Thu Jul 31 17:25:44 2025 AUC 0.929491567095875\n",
      "\n",
      "[mbo] 55: num_iterations=1954; learning_rate=0.0101; feature_fraction=0.748; num_leaves=15; min_data_in_leaf=882; drop_rate=0.087 : y = 0.929 : 55.8 secs : infill_ei\n",
      "\n",
      "Saved the current state after iteration 56 in the file bayesiana.RDATA.\n",
      "\n",
      "Thu Jul 31 17:26:40 2025 AUC 0.926686270544566\n",
      "\n",
      "[mbo] 56: num_iterations=951; learning_rate=0.01; feature_fraction=0.438; num_leaves=1846; min_data_in_leaf=2765; drop_rate=0.167 : y = 0.927 : 51.4 secs : infill_ei\n",
      "\n",
      "Thu Jul 31 17:28:07 2025 AUC 0.930448117207333\n",
      "\n",
      "[mbo] 57: num_iterations=1508; learning_rate=0.0103; feature_fraction=0.293; num_leaves=1939; min_data_in_leaf=1118; drop_rate=0.0355 : y = 0.93 : 85.6 secs : infill_ei\n",
      "\n",
      "Thu Jul 31 17:30:07 2025 AUC 0.929728899494951\n",
      "\n",
      "[mbo] 58: num_iterations=2021; learning_rate=0.0101; feature_fraction=0.423; num_leaves=1564; min_data_in_leaf=1160; drop_rate=0.0709 : y = 0.93 : 119.2 secs : infill_ei\n",
      "\n",
      "Thu Jul 31 17:32:26 2025 AUC 0.93015109980579\n",
      "\n",
      "[mbo] 59: num_iterations=1966; learning_rate=0.0101; feature_fraction=0.576; num_leaves=2032; min_data_in_leaf=658; drop_rate=0.181 : y = 0.93 : 138.5 secs : infill_ei\n",
      "\n",
      "Thu Jul 31 17:34:28 2025 AUC 0.930106978474492\n",
      "\n",
      "[mbo] 60: num_iterations=2029; learning_rate=0.01; feature_fraction=0.307; num_leaves=2048; min_data_in_leaf=858; drop_rate=0.12 : y = 0.93 : 120.6 secs : infill_ei\n",
      "\n",
      "Thu Jul 31 17:35:27 2025 AUC 0.927687495583109\n",
      "\n",
      "[mbo] 61: num_iterations=1163; learning_rate=0.0102; feature_fraction=0.324; num_leaves=1926; min_data_in_leaf=1741; drop_rate=0.0767 : y = 0.928 : 58.4 secs : infill_ei\n",
      "\n",
      "Thu Jul 31 17:36:39 2025 AUC 0.930096862739566\n",
      "\n",
      "[mbo] 62: num_iterations=1107; learning_rate=0.0101; feature_fraction=0.441; num_leaves=2046; min_data_in_leaf=863; drop_rate=0.0659 : y = 0.93 : 71.2 secs : infill_ei\n",
      "\n",
      "Saved the current state after iteration 63 in the file bayesiana.RDATA.\n",
      "\n",
      "Thu Jul 31 17:37:57 2025 AUC 0.930563674618745\n",
      "\n",
      "[mbo] 63: num_iterations=1037; learning_rate=0.0101; feature_fraction=0.441; num_leaves=1433; min_data_in_leaf=656; drop_rate=0.167 : y = 0.931 : 72.3 secs : infill_ei\n",
      "\n",
      "Thu Jul 31 17:39:59 2025 AUC 0.930798251834097\n",
      "\n",
      "[mbo] 64: num_iterations=1842; learning_rate=0.0101; feature_fraction=0.268; num_leaves=977; min_data_in_leaf=503; drop_rate=0.000152 : y = 0.931 : 121.8 secs : infill_ei\n",
      "\n",
      "Thu Jul 31 17:41:38 2025 AUC 0.930676217148826\n",
      "\n",
      "[mbo] 65: num_iterations=1765; learning_rate=0.0101; feature_fraction=0.23; num_leaves=1086; min_data_in_leaf=898; drop_rate=0.0569 : y = 0.931 : 97.7 secs : infill_ei\n",
      "\n",
      "Thu Jul 31 17:43:28 2025 AUC 0.929888816564835\n",
      "\n",
      "[mbo] 66: num_iterations=1796; learning_rate=0.0101; feature_fraction=0.262; num_leaves=1757; min_data_in_leaf=719; drop_rate=0.0127 : y = 0.93 : 108.6 secs : infill_ei\n",
      "\n",
      "Thu Jul 31 17:45:13 2025 AUC 0.9309970735491\n",
      "\n",
      "[mbo] 67: num_iterations=1907; learning_rate=0.0102; feature_fraction=0.278; num_leaves=111; min_data_in_leaf=923; drop_rate=0.0474 : y = 0.931 : 104.5 secs : infill_ei\n",
      "\n",
      "Thu Jul 31 17:47:27 2025 AUC 0.930318029062305\n",
      "\n",
      "[mbo] 68: num_iterations=1851; learning_rate=0.0101; feature_fraction=0.321; num_leaves=503; min_data_in_leaf=505; drop_rate=0.00399 : y = 0.93 : 132.5 secs : infill_ei\n",
      "\n",
      "Saved the current state after iteration 69 in the file bayesiana.RDATA.\n",
      "\n",
      "Thu Jul 31 17:49:15 2025 AUC 0.929551672729414\n",
      "\n",
      "[mbo] 69: num_iterations=1141; learning_rate=0.0101; feature_fraction=0.239; num_leaves=450; min_data_in_leaf=197; drop_rate=0.126 : y = 0.93 : 102.3 secs : infill_ei\n",
      "\n",
      "Thu Jul 31 17:51:03 2025 AUC 0.931239713424692\n",
      "\n",
      "[mbo] 70: num_iterations=1883; learning_rate=0.0106; feature_fraction=0.286; num_leaves=960; min_data_in_leaf=935; drop_rate=0.0491 : y = 0.931 : 107.6 secs : infill_ei\n",
      "\n",
      "Thu Jul 31 17:53:09 2025 AUC 0.929613652367262\n",
      "\n",
      "[mbo] 71: num_iterations=2038; learning_rate=0.0371; feature_fraction=0.288; num_leaves=493; min_data_in_leaf=670; drop_rate=0.0159 : y = 0.93 : 124.8 secs : infill_ei\n",
      "\n",
      "Thu Jul 31 17:54:49 2025 AUC 0.930606616944278\n",
      "\n",
      "[mbo] 72: num_iterations=1634; learning_rate=0.01; feature_fraction=0.277; num_leaves=1002; min_data_in_leaf=725; drop_rate=0.0913 : y = 0.931 : 99.0 secs : infill_ei\n",
      "\n",
      "Thu Jul 31 17:57:13 2025 AUC 0.928923267882942\n",
      "\n",
      "[mbo] 73: num_iterations=1371; learning_rate=0.01; feature_fraction=0.432; num_leaves=1587; min_data_in_leaf=217; drop_rate=0.0525 : y = 0.929 : 143.4 secs : infill_ei\n",
      "\n",
      "Thu Jul 31 17:58:31 2025 AUC 0.93092790898072\n",
      "\n",
      "[mbo] 74: num_iterations=1903; learning_rate=0.0107; feature_fraction=0.249; num_leaves=14; min_data_in_leaf=423; drop_rate=0.0712 : y = 0.931 : 76.3 secs : infill_ei\n",
      "\n",
      "Saved the current state after iteration 75 in the file bayesiana.RDATA.\n",
      "\n",
      "Thu Jul 31 18:00:35 2025 AUC 0.928685137702015\n",
      "\n",
      "[mbo] 75: num_iterations=1956; learning_rate=0.01; feature_fraction=0.181; num_leaves=177; min_data_in_leaf=499; drop_rate=0.0103 : y = 0.929 : 119.0 secs : infill_ei\n",
      "\n",
      "Thu Jul 31 18:02:13 2025 AUC 0.929888745735041\n",
      "\n",
      "[mbo] 76: num_iterations=1789; learning_rate=0.0104; feature_fraction=0.267; num_leaves=1185; min_data_in_leaf=1088; drop_rate=0.0784 : y = 0.93 : 97.6 secs : infill_ei\n",
      "\n",
      "Thu Jul 31 18:04:28 2025 AUC 0.930423745285574\n",
      "\n",
      "[mbo] 77: num_iterations=1824; learning_rate=0.0103; feature_fraction=0.269; num_leaves=958; min_data_in_leaf=425; drop_rate=0.143 : y = 0.93 : 133.4 secs : infill_ei\n",
      "\n",
      "Thu Jul 31 18:06:20 2025 AUC 0.92969068281338\n",
      "\n",
      "[mbo] 78: num_iterations=1678; learning_rate=0.0102; feature_fraction=0.504; num_leaves=1954; min_data_in_leaf=1001; drop_rate=0.0353 : y = 0.93 : 111.2 secs : infill_ei\n",
      "\n",
      "Thu Jul 31 18:08:18 2025 AUC 0.929793614235538\n",
      "\n",
      "[mbo] 79: num_iterations=1920; learning_rate=0.0287; feature_fraction=0.323; num_leaves=1806; min_data_in_leaf=982; drop_rate=0.0125 : y = 0.93 : 116.9 secs : infill_ei\n",
      "\n",
      "Thu Jul 31 18:09:54 2025 AUC 0.929456163678087\n",
      "\n",
      "[mbo] 80: num_iterations=2048; learning_rate=0.0101; feature_fraction=0.641; num_leaves=42; min_data_in_leaf=1147; drop_rate=0.0428 : y = 0.929 : 94.3 secs : infill_ei\n",
      "\n",
      "Saved the current state after iteration 81 in the file bayesiana.RDATA.\n",
      "\n",
      "Thu Jul 31 18:11:25 2025 AUC 0.930398925542544\n",
      "\n",
      "[mbo] 81: num_iterations=1507; learning_rate=0.0104; feature_fraction=0.244; num_leaves=633; min_data_in_leaf=883; drop_rate=0.05 : y = 0.93 : 85.2 secs : infill_ei\n",
      "\n",
      "Thu Jul 31 18:11:59 2025 AUC 0.927965036005633\n",
      "\n",
      "[mbo] 82: num_iterations=822; learning_rate=0.0101; feature_fraction=0.667; num_leaves=2035; min_data_in_leaf=1612; drop_rate=0.00294 : y = 0.928 : 32.4 secs : infill_ei\n",
      "\n",
      "Thu Jul 31 18:15:44 2025 AUC 0.929221140343296\n",
      "\n",
      "[mbo] 83: num_iterations=2021; learning_rate=0.0101; feature_fraction=0.286; num_leaves=764; min_data_in_leaf=88; drop_rate=0.0559 : y = 0.929 : 223.8 secs : infill_ei\n",
      "\n",
      "Thu Jul 31 18:16:20 2025 AUC 0.928529198365416\n",
      "\n",
      "[mbo] 84: num_iterations=1022; learning_rate=0.0113; feature_fraction=0.681; num_leaves=195; min_data_in_leaf=1862; drop_rate=0.168 : y = 0.929 : 35.5 secs : infill_ei\n",
      "\n",
      "Thu Jul 31 18:18:25 2025 AUC 0.930164098047164\n",
      "\n",
      "[mbo] 85: num_iterations=1994; learning_rate=0.01; feature_fraction=0.27; num_leaves=484; min_data_in_leaf=603; drop_rate=0.0711 : y = 0.93 : 123.8 secs : infill_ei\n",
      "\n",
      "Thu Jul 31 18:19:35 2025 AUC 0.929471081295913\n",
      "\n",
      "[mbo] 86: num_iterations=1862; learning_rate=0.0102; feature_fraction=0.569; num_leaves=8; min_data_in_leaf=374; drop_rate=0.0156 : y = 0.929 : 68.7 secs : infill_ei\n",
      "\n",
      "Thu Jul 31 18:21:54 2025 AUC 0.930702052782126\n",
      "\n",
      "[mbo] 87: num_iterations=1784; learning_rate=0.01; feature_fraction=0.52; num_leaves=156; min_data_in_leaf=477; drop_rate=0.14 : y = 0.931 : 137.9 secs : infill_ei\n",
      "\n",
      "Saved the current state after iteration 88 in the file bayesiana.RDATA.\n",
      "\n",
      "Thu Jul 31 18:22:43 2025 AUC 0.930200525010703\n",
      "\n",
      "[mbo] 88: num_iterations=734; learning_rate=0.0102; feature_fraction=0.573; num_leaves=48; min_data_in_leaf=18; drop_rate=0.0361 : y = 0.93 : 43.4 secs : infill_ei\n",
      "\n",
      "Thu Jul 31 18:24:07 2025 AUC 0.930229754809585\n",
      "\n",
      "[mbo] 89: num_iterations=1804; learning_rate=0.0101; feature_fraction=0.225; num_leaves=14; min_data_in_leaf=519; drop_rate=0.142 : y = 0.93 : 83.5 secs : infill_ei\n",
      "\n",
      "Thu Jul 31 18:25:11 2025 AUC 0.930065023333217\n",
      "\n",
      "[mbo] 90: num_iterations=1577; learning_rate=0.0223; feature_fraction=0.28; num_leaves=9; min_data_in_leaf=416; drop_rate=0.076 : y = 0.93 : 62.3 secs : infill_ei\n",
      "\n",
      "Thu Jul 31 18:27:02 2025 AUC 0.930738871501542\n",
      "\n",
      "[mbo] 91: num_iterations=1827; learning_rate=0.0101; feature_fraction=0.313; num_leaves=1129; min_data_in_leaf=964; drop_rate=5.65e-05 : y = 0.931 : 109.8 secs : infill_ei\n",
      "\n",
      "Thu Jul 31 18:27:31 2025 AUC 0.928971015740193\n",
      "\n",
      "[mbo] 92: num_iterations=542; learning_rate=0.0101; feature_fraction=0.217; num_leaves=230; min_data_in_leaf=854; drop_rate=0.172 : y = 0.929 : 28.6 secs : infill_ei\n",
      "\n",
      "Thu Jul 31 18:28:31 2025 AUC 0.930067836582166\n",
      "\n",
      "[mbo] 93: num_iterations=1046; learning_rate=0.01; feature_fraction=0.237; num_leaves=947; min_data_in_leaf=880; drop_rate=0.00303 : y = 0.93 : 58.3 secs : infill_ei\n",
      "\n",
      "Thu Jul 31 18:29:29 2025 AUC 0.930471996404487\n",
      "\n",
      "[mbo] 94: num_iterations=1043; learning_rate=0.0101; feature_fraction=0.755; num_leaves=890; min_data_in_leaf=714; drop_rate=0.071 : y = 0.93 : 57.5 secs : infill_ei\n",
      "\n",
      "Thu Jul 31 18:30:01 2025 AUC 0.929179760548111\n",
      "\n",
      "[mbo] 95: num_iterations=621; learning_rate=0.01; feature_fraction=0.726; num_leaves=1278; min_data_in_leaf=956; drop_rate=0.0475 : y = 0.929 : 30.1 secs : infill_ei\n",
      "\n",
      "Thu Jul 31 18:31:03 2025 AUC 0.930500975317679\n",
      "\n",
      "[mbo] 96: num_iterations=950; learning_rate=0.01; feature_fraction=0.727; num_leaves=630; min_data_in_leaf=539; drop_rate=0.00121 : y = 0.931 : 61.3 secs : infill_ei\n",
      "\n",
      "Thu Jul 31 18:32:03 2025 AUC 0.928519741594208\n",
      "\n",
      "[mbo] 97: num_iterations=1094; learning_rate=0.0101; feature_fraction=0.153; num_leaves=1480; min_data_in_leaf=825; drop_rate=0.179 : y = 0.929 : 58.5 secs : infill_ei\n",
      "\n",
      "Saved the current state after iteration 98 in the file bayesiana.RDATA.\n",
      "\n",
      "Thu Jul 31 18:32:36 2025 AUC 0.930668889107721\n",
      "\n",
      "[mbo] 98: num_iterations=592; learning_rate=0.0104; feature_fraction=0.733; num_leaves=805; min_data_in_leaf=1117; drop_rate=0.0112 : y = 0.931 : 27.4 secs : infill_ei\n",
      "\n",
      "Thu Jul 31 18:33:17 2025 AUC 0.929137627058246\n",
      "\n",
      "[mbo] 99: num_iterations=885; learning_rate=0.01; feature_fraction=0.802; num_leaves=659; min_data_in_leaf=1069; drop_rate=0.0162 : y = 0.929 : 40.3 secs : infill_ei\n",
      "\n",
      "Thu Jul 31 18:33:51 2025 AUC 0.929818779693132\n",
      "\n",
      "[mbo] 100: num_iterations=792; learning_rate=0.0101; feature_fraction=0.685; num_leaves=138; min_data_in_leaf=1331; drop_rate=0.02 : y = 0.93 : 33.0 secs : infill_ei\n",
      "\n",
      "Saved the final state in the file bayesiana.RDATA\n",
      "\n"
     ]
    }
   ],
   "source": [
    "# inicio la optimizacion bayesiana, retomando si ya existe\n",
    "# es la celda mas lenta de todo el notebook\n",
    "\n",
    "if (!file.exists(kbayesiana)) {\n",
    "  bayesiana_salida <- mbo(obj.fun, learner= surr.km, control= ctrl)\n",
    "} else {\n",
    "  bayesiana_salida <- mboContinue(kbayesiana) # retomo en caso que ya exista\n",
    "}"
   ]
  },
  {
   "cell_type": "code",
   "execution_count": 20,
   "metadata": {
    "id": "ssk5nnMk6INK"
   },
   "outputs": [
    {
     "data": {
      "text/html": [
       "<style>\n",
       ".list-inline {list-style: none; margin:0; padding: 0}\n",
       ".list-inline>li {display: inline-block}\n",
       ".list-inline>li:not(:last-child)::after {content: \"\\00b7\"; padding: 0 .5ex}\n",
       "</style>\n",
       "<ol class=list-inline><li>'num_iterations'</li><li>'learning_rate'</li><li>'feature_fraction'</li><li>'num_leaves'</li><li>'min_data_in_leaf'</li><li>'drop_rate'</li><li>'y'</li><li>'dob'</li><li>'eol'</li><li>'error.message'</li><li>'exec.time'</li><li>'ei'</li><li>'error.model'</li><li>'train.time'</li><li>'prop.type'</li><li>'propose.time'</li><li>'se'</li><li>'mean'</li></ol>\n"
      ],
      "text/latex": [
       "\\begin{enumerate*}\n",
       "\\item 'num\\_iterations'\n",
       "\\item 'learning\\_rate'\n",
       "\\item 'feature\\_fraction'\n",
       "\\item 'num\\_leaves'\n",
       "\\item 'min\\_data\\_in\\_leaf'\n",
       "\\item 'drop\\_rate'\n",
       "\\item 'y'\n",
       "\\item 'dob'\n",
       "\\item 'eol'\n",
       "\\item 'error.message'\n",
       "\\item 'exec.time'\n",
       "\\item 'ei'\n",
       "\\item 'error.model'\n",
       "\\item 'train.time'\n",
       "\\item 'prop.type'\n",
       "\\item 'propose.time'\n",
       "\\item 'se'\n",
       "\\item 'mean'\n",
       "\\end{enumerate*}\n"
      ],
      "text/markdown": [
       "1. 'num_iterations'\n",
       "2. 'learning_rate'\n",
       "3. 'feature_fraction'\n",
       "4. 'num_leaves'\n",
       "5. 'min_data_in_leaf'\n",
       "6. 'drop_rate'\n",
       "7. 'y'\n",
       "8. 'dob'\n",
       "9. 'eol'\n",
       "10. 'error.message'\n",
       "11. 'exec.time'\n",
       "12. 'ei'\n",
       "13. 'error.model'\n",
       "14. 'train.time'\n",
       "15. 'prop.type'\n",
       "16. 'propose.time'\n",
       "17. 'se'\n",
       "18. 'mean'\n",
       "\n",
       "\n"
      ],
      "text/plain": [
       " [1] \"num_iterations\"   \"learning_rate\"    \"feature_fraction\" \"num_leaves\"      \n",
       " [5] \"min_data_in_leaf\" \"drop_rate\"        \"y\"                \"dob\"             \n",
       " [9] \"eol\"              \"error.message\"    \"exec.time\"        \"ei\"              \n",
       "[13] \"error.model\"      \"train.time\"       \"prop.type\"        \"propose.time\"    \n",
       "[17] \"se\"               \"mean\"            "
      ]
     },
     "metadata": {},
     "output_type": "display_data"
    }
   ],
   "source": [
    "\n",
    "tb_bayesiana <- as.data.table(bayesiana_salida$opt.path)\n",
    "colnames( tb_bayesiana)"
   ]
  },
  {
   "cell_type": "code",
   "execution_count": 21,
   "metadata": {
    "id": "u4zq-vknhjGc"
   },
   "outputs": [],
   "source": [
    "# almaceno los resultados de la Bayesian Optimization\n",
    "# y capturo los mejores hiperparametros encontrados\n",
    "\n",
    "tb_bayesiana <- as.data.table(bayesiana_salida$opt.path)\n",
    "\n",
    "tb_bayesiana[, iter := .I]\n",
    "\n",
    "# ordeno en forma descendente por AUC = y\n",
    "setorder(tb_bayesiana, -y)\n",
    "\n",
    "# grabo para eventualmente poder utilizarlos en OTRA corrida\n",
    "fwrite( tb_bayesiana,\n",
    "  file= \"BO_log.txt\",\n",
    "  sep= \"\\t\"\n",
    ")\n",
    "\n",
    "# los mejores hiperparámetros son los que quedaron en el registro 1 de la tabla\n",
    "PARAM$out$lgbm$mejores_hiperparametros <- tb_bayesiana[\n",
    "  1, # el primero es el de mejor AUC\n",
    "  setdiff(colnames(tb_bayesiana),\n",
    "    c(\"y\",\"dob\",\"eol\",\"error.message\",\"exec.time\",\"ei\",\"error.model\",\n",
    "      \"train.time\",\"prop.type\",\"propose.time\",\"se\",\"mean\",\"iter\")),\n",
    "  with= FALSE\n",
    "]\n",
    "\n",
    "\n",
    "PARAM$out$lgbm$y <- tb_bayesiana[1, y]\n"
   ]
  },
  {
   "cell_type": "code",
   "execution_count": 22,
   "metadata": {
    "id": "E8v2eA427N8e"
   },
   "outputs": [],
   "source": [
    "write_yaml( PARAM, file=\"PARAM.yml\")"
   ]
  },
  {
   "cell_type": "code",
   "execution_count": 23,
   "metadata": {
    "id": "iBTWexVU7PGC"
   },
   "outputs": [
    {
     "name": "stdout",
     "output_type": "stream",
     "text": [
      "   num_iterations learning_rate feature_fraction num_leaves min_data_in_leaf\n",
      "            <int>         <num>            <num>      <int>            <int>\n",
      "1:           1834     0.0103153        0.5669738         68              443\n",
      "    drop_rate\n",
      "        <num>\n",
      "1: 0.09392014\n",
      "[1] 0.9314872\n"
     ]
    }
   ],
   "source": [
    "print(PARAM$out$lgbm$mejores_hiperparametros)\n",
    "print(PARAM$out$lgbm$y)"
   ]
  },
  {
   "cell_type": "markdown",
   "metadata": {
    "id": "TKsVZmAnhwX-"
   },
   "source": [
    "## 2.3  Produccion"
   ]
  },
  {
   "cell_type": "markdown",
   "metadata": {
    "id": "RQ_C33Tr5B_9"
   },
   "source": [
    "### Final Training\n",
    "Construyo el modelo final, que es uno solo, no hace ningun tipo de particion < training, validation, testing>]"
   ]
  },
  {
   "cell_type": "code",
   "execution_count": 24,
   "metadata": {
    "id": "eDqfyA14hzwv"
   },
   "outputs": [],
   "source": [
    "setwd(\"/content/buckets/b1/exp\")\n",
    "experimento <- paste0(\"exp\", PARAM$experimento)\n",
    "dir.create(experimento, showWarnings= FALSE)\n",
    "setwd( paste0(\"/content/buckets/b1/exp/\", experimento ))"
   ]
  },
  {
   "cell_type": "markdown",
   "metadata": {
    "id": "8qFmFivf5Iet"
   },
   "source": [
    "#### Final Training Dataset\n",
    "\n",
    "Aqui esta la gran decision de en qué meses hago el Final Training\n",
    "<br> debo utilizar los mejores hiperparámetros que encontré en la optimización bayesiana"
   ]
  },
  {
   "cell_type": "code",
   "execution_count": 25,
   "metadata": {
    "id": "lg5WVZncvc7H"
   },
   "outputs": [],
   "source": [
    "# clase01\n",
    "dataset[, clase01 := ifelse(clase_ternaria %in% c(\"BAJA+1\", \"BAJA+2\"), 1L, 0L)]"
   ]
  },
  {
   "cell_type": "code",
   "execution_count": 26,
   "metadata": {
    "id": "yc9QzXREv0xf"
   },
   "outputs": [],
   "source": [
    "dataset_train <- dataset[foto_mes %in% c(202107)]"
   ]
  },
  {
   "cell_type": "code",
   "execution_count": 27,
   "metadata": {
    "id": "thjdqEBLuvNt"
   },
   "outputs": [],
   "source": [
    "# dejo los datos en el formato que necesita LightGBM\n",
    "\n",
    "dtrain <- lgb.Dataset(\n",
    "  data= data.matrix(dataset_train[, campos_buenos, with= FALSE]),\n",
    "  label= dataset_train[, clase01]\n",
    ")"
   ]
  },
  {
   "cell_type": "markdown",
   "metadata": {
    "id": "VNUa-WSz5Oqu"
   },
   "source": [
    "#### Final Training Hyperparameters"
   ]
  },
  {
   "cell_type": "code",
   "execution_count": 28,
   "metadata": {
    "id": "FgCcvBfEwImu"
   },
   "outputs": [
    {
     "data": {
      "text/html": [
       "<dl>\n",
       "\t<dt>$boosting</dt>\n",
       "\t\t<dd>'gbdt'</dd>\n",
       "\t<dt>$objective</dt>\n",
       "\t\t<dd>'binary'</dd>\n",
       "\t<dt>$metric</dt>\n",
       "\t\t<dd>'auc'</dd>\n",
       "\t<dt>$first_metric_only</dt>\n",
       "\t\t<dd>FALSE</dd>\n",
       "\t<dt>$boost_from_average</dt>\n",
       "\t\t<dd>TRUE</dd>\n",
       "\t<dt>$feature_pre_filter</dt>\n",
       "\t\t<dd>FALSE</dd>\n",
       "\t<dt>$force_row_wise</dt>\n",
       "\t\t<dd>TRUE</dd>\n",
       "\t<dt>$verbosity</dt>\n",
       "\t\t<dd>-100</dd>\n",
       "\t<dt>$seed</dt>\n",
       "\t\t<dd>106109</dd>\n",
       "\t<dt>$max_depth</dt>\n",
       "\t\t<dd>-1</dd>\n",
       "\t<dt>$min_gain_to_split</dt>\n",
       "\t\t<dd>0</dd>\n",
       "\t<dt>$min_sum_hessian_in_leaf</dt>\n",
       "\t\t<dd>1.098</dd>\n",
       "\t<dt>$lambda_l1</dt>\n",
       "\t\t<dd>0.1365</dd>\n",
       "\t<dt>$lambda_l2</dt>\n",
       "\t\t<dd>0.9895</dd>\n",
       "\t<dt>$max_bin</dt>\n",
       "\t\t<dd>31</dd>\n",
       "\t<dt>$bagging_fraction</dt>\n",
       "\t\t<dd>1</dd>\n",
       "\t<dt>$pos_bagging_fraction</dt>\n",
       "\t\t<dd>1</dd>\n",
       "\t<dt>$neg_bagging_fraction</dt>\n",
       "\t\t<dd>0.1812163</dd>\n",
       "\t<dt>$is_unbalance</dt>\n",
       "\t\t<dd>FALSE</dd>\n",
       "\t<dt>$scale_pos_weight</dt>\n",
       "\t\t<dd>4.268</dd>\n",
       "\t<dt>$drop_rate</dt>\n",
       "\t\t<dd>0.0939201417199316</dd>\n",
       "\t<dt>$max_drop</dt>\n",
       "\t\t<dd>50</dd>\n",
       "\t<dt>$skip_drop</dt>\n",
       "\t\t<dd>0.5</dd>\n",
       "\t<dt>$extra_trees</dt>\n",
       "\t\t<dd>FALSE</dd>\n",
       "\t<dt>$num_iterations</dt>\n",
       "\t\t<dd>1834</dd>\n",
       "\t<dt>$learning_rate</dt>\n",
       "\t\t<dd>0.0103152974811412</dd>\n",
       "\t<dt>$feature_fraction</dt>\n",
       "\t\t<dd>0.566973817686982</dd>\n",
       "\t<dt>$num_leaves</dt>\n",
       "\t\t<dd>68</dd>\n",
       "\t<dt>$min_data_in_leaf</dt>\n",
       "\t\t<dd>443</dd>\n",
       "</dl>\n"
      ],
      "text/latex": [
       "\\begin{description}\n",
       "\\item[\\$boosting] 'gbdt'\n",
       "\\item[\\$objective] 'binary'\n",
       "\\item[\\$metric] 'auc'\n",
       "\\item[\\$first\\_metric\\_only] FALSE\n",
       "\\item[\\$boost\\_from\\_average] TRUE\n",
       "\\item[\\$feature\\_pre\\_filter] FALSE\n",
       "\\item[\\$force\\_row\\_wise] TRUE\n",
       "\\item[\\$verbosity] -100\n",
       "\\item[\\$seed] 106109\n",
       "\\item[\\$max\\_depth] -1\n",
       "\\item[\\$min\\_gain\\_to\\_split] 0\n",
       "\\item[\\$min\\_sum\\_hessian\\_in\\_leaf] 1.098\n",
       "\\item[\\$lambda\\_l1] 0.1365\n",
       "\\item[\\$lambda\\_l2] 0.9895\n",
       "\\item[\\$max\\_bin] 31\n",
       "\\item[\\$bagging\\_fraction] 1\n",
       "\\item[\\$pos\\_bagging\\_fraction] 1\n",
       "\\item[\\$neg\\_bagging\\_fraction] 0.1812163\n",
       "\\item[\\$is\\_unbalance] FALSE\n",
       "\\item[\\$scale\\_pos\\_weight] 4.268\n",
       "\\item[\\$drop\\_rate] 0.0939201417199316\n",
       "\\item[\\$max\\_drop] 50\n",
       "\\item[\\$skip\\_drop] 0.5\n",
       "\\item[\\$extra\\_trees] FALSE\n",
       "\\item[\\$num\\_iterations] 1834\n",
       "\\item[\\$learning\\_rate] 0.0103152974811412\n",
       "\\item[\\$feature\\_fraction] 0.566973817686982\n",
       "\\item[\\$num\\_leaves] 68\n",
       "\\item[\\$min\\_data\\_in\\_leaf] 443\n",
       "\\end{description}\n"
      ],
      "text/markdown": [
       "$boosting\n",
       ":   'gbdt'\n",
       "$objective\n",
       ":   'binary'\n",
       "$metric\n",
       ":   'auc'\n",
       "$first_metric_only\n",
       ":   FALSE\n",
       "$boost_from_average\n",
       ":   TRUE\n",
       "$feature_pre_filter\n",
       ":   FALSE\n",
       "$force_row_wise\n",
       ":   TRUE\n",
       "$verbosity\n",
       ":   -100\n",
       "$seed\n",
       ":   106109\n",
       "$max_depth\n",
       ":   -1\n",
       "$min_gain_to_split\n",
       ":   0\n",
       "$min_sum_hessian_in_leaf\n",
       ":   1.098\n",
       "$lambda_l1\n",
       ":   0.1365\n",
       "$lambda_l2\n",
       ":   0.9895\n",
       "$max_bin\n",
       ":   31\n",
       "$bagging_fraction\n",
       ":   1\n",
       "$pos_bagging_fraction\n",
       ":   1\n",
       "$neg_bagging_fraction\n",
       ":   0.1812163\n",
       "$is_unbalance\n",
       ":   FALSE\n",
       "$scale_pos_weight\n",
       ":   4.268\n",
       "$drop_rate\n",
       ":   0.0939201417199316\n",
       "$max_drop\n",
       ":   50\n",
       "$skip_drop\n",
       ":   0.5\n",
       "$extra_trees\n",
       ":   FALSE\n",
       "$num_iterations\n",
       ":   1834\n",
       "$learning_rate\n",
       ":   0.0103152974811412\n",
       "$feature_fraction\n",
       ":   0.566973817686982\n",
       "$num_leaves\n",
       ":   68\n",
       "$min_data_in_leaf\n",
       ":   443\n",
       "\n",
       "\n"
      ],
      "text/plain": [
       "$boosting\n",
       "[1] \"gbdt\"\n",
       "\n",
       "$objective\n",
       "[1] \"binary\"\n",
       "\n",
       "$metric\n",
       "[1] \"auc\"\n",
       "\n",
       "$first_metric_only\n",
       "[1] FALSE\n",
       "\n",
       "$boost_from_average\n",
       "[1] TRUE\n",
       "\n",
       "$feature_pre_filter\n",
       "[1] FALSE\n",
       "\n",
       "$force_row_wise\n",
       "[1] TRUE\n",
       "\n",
       "$verbosity\n",
       "[1] -100\n",
       "\n",
       "$seed\n",
       "[1] 106109\n",
       "\n",
       "$max_depth\n",
       "[1] -1\n",
       "\n",
       "$min_gain_to_split\n",
       "[1] 0\n",
       "\n",
       "$min_sum_hessian_in_leaf\n",
       "[1] 1.098\n",
       "\n",
       "$lambda_l1\n",
       "[1] 0.1365\n",
       "\n",
       "$lambda_l2\n",
       "[1] 0.9895\n",
       "\n",
       "$max_bin\n",
       "[1] 31\n",
       "\n",
       "$bagging_fraction\n",
       "[1] 1\n",
       "\n",
       "$pos_bagging_fraction\n",
       "[1] 1\n",
       "\n",
       "$neg_bagging_fraction\n",
       "[1] 0.1812163\n",
       "\n",
       "$is_unbalance\n",
       "[1] FALSE\n",
       "\n",
       "$scale_pos_weight\n",
       "[1] 4.268\n",
       "\n",
       "$drop_rate\n",
       "[1] 0.09392014\n",
       "\n",
       "$max_drop\n",
       "[1] 50\n",
       "\n",
       "$skip_drop\n",
       "[1] 0.5\n",
       "\n",
       "$extra_trees\n",
       "[1] FALSE\n",
       "\n",
       "$num_iterations\n",
       "[1] 1834\n",
       "\n",
       "$learning_rate\n",
       "[1] 0.0103153\n",
       "\n",
       "$feature_fraction\n",
       "[1] 0.5669738\n",
       "\n",
       "$num_leaves\n",
       "[1] 68\n",
       "\n",
       "$min_data_in_leaf\n",
       "[1] 443\n"
      ]
     },
     "metadata": {},
     "output_type": "display_data"
    }
   ],
   "source": [
    "param_final <- modifyList(PARAM$lgbm$param_fijos,\n",
    "  PARAM$out$lgbm$mejores_hiperparametros)\n",
    "\n",
    "param_final"
   ]
  },
  {
   "cell_type": "markdown",
   "metadata": {
    "id": "TZIYn4l95TBH"
   },
   "source": [
    "#### Training\n",
    "Genero el modelo final, siempre sobre TODOS los datos de  final_train, sin hacer ningun tipo de undersampling de la clase mayoritaria"
   ]
  },
  {
   "cell_type": "code",
   "execution_count": 29,
   "metadata": {
    "id": "vPLsd4mMRe4u"
   },
   "outputs": [],
   "source": [
    "# este punto es muy SUTIL  y será revisado en la Clase 05\n",
    "\n",
    "param_normalizado <- copy(param_final)\n",
    "param_normalizado$min_data_in_leaf <-  param_final$min_data_in_leaf / PARAM$trainingstrategy$undersampling"
   ]
  },
  {
   "cell_type": "code",
   "execution_count": 38,
   "metadata": {},
   "outputs": [
    {
     "data": {
      "text/html": [
       "<dl>\n",
       "\t<dt>$boosting</dt>\n",
       "\t\t<dd>'gbdt'</dd>\n",
       "\t<dt>$objective</dt>\n",
       "\t\t<dd>'binary'</dd>\n",
       "\t<dt>$metric</dt>\n",
       "\t\t<dd>'auc'</dd>\n",
       "\t<dt>$first_metric_only</dt>\n",
       "\t\t<dd>FALSE</dd>\n",
       "\t<dt>$boost_from_average</dt>\n",
       "\t\t<dd>TRUE</dd>\n",
       "\t<dt>$feature_pre_filter</dt>\n",
       "\t\t<dd>FALSE</dd>\n",
       "\t<dt>$force_row_wise</dt>\n",
       "\t\t<dd>TRUE</dd>\n",
       "\t<dt>$verbosity</dt>\n",
       "\t\t<dd>-100</dd>\n",
       "\t<dt>$seed</dt>\n",
       "\t\t<dd>106109</dd>\n",
       "\t<dt>$max_depth</dt>\n",
       "\t\t<dd>-1</dd>\n",
       "\t<dt>$min_gain_to_split</dt>\n",
       "\t\t<dd>0</dd>\n",
       "\t<dt>$min_sum_hessian_in_leaf</dt>\n",
       "\t\t<dd>1.098</dd>\n",
       "\t<dt>$lambda_l1</dt>\n",
       "\t\t<dd>0.1365</dd>\n",
       "\t<dt>$lambda_l2</dt>\n",
       "\t\t<dd>0.9895</dd>\n",
       "\t<dt>$max_bin</dt>\n",
       "\t\t<dd>31</dd>\n",
       "\t<dt>$bagging_fraction</dt>\n",
       "\t\t<dd>1</dd>\n",
       "\t<dt>$pos_bagging_fraction</dt>\n",
       "\t\t<dd>1</dd>\n",
       "\t<dt>$neg_bagging_fraction</dt>\n",
       "\t\t<dd>0.1812163</dd>\n",
       "\t<dt>$is_unbalance</dt>\n",
       "\t\t<dd>FALSE</dd>\n",
       "\t<dt>$scale_pos_weight</dt>\n",
       "\t\t<dd>4.268</dd>\n",
       "\t<dt>$drop_rate</dt>\n",
       "\t\t<dd>0.0939201417199316</dd>\n",
       "\t<dt>$max_drop</dt>\n",
       "\t\t<dd>50</dd>\n",
       "\t<dt>$skip_drop</dt>\n",
       "\t\t<dd>0.5</dd>\n",
       "\t<dt>$extra_trees</dt>\n",
       "\t\t<dd>FALSE</dd>\n",
       "\t<dt>$num_iterations</dt>\n",
       "\t\t<dd>1834</dd>\n",
       "\t<dt>$learning_rate</dt>\n",
       "\t\t<dd>0.0103152974811412</dd>\n",
       "\t<dt>$feature_fraction</dt>\n",
       "\t\t<dd>0.566973817686982</dd>\n",
       "\t<dt>$num_leaves</dt>\n",
       "\t\t<dd>68</dd>\n",
       "\t<dt>$min_data_in_leaf</dt>\n",
       "\t\t<dd>886</dd>\n",
       "</dl>\n"
      ],
      "text/latex": [
       "\\begin{description}\n",
       "\\item[\\$boosting] 'gbdt'\n",
       "\\item[\\$objective] 'binary'\n",
       "\\item[\\$metric] 'auc'\n",
       "\\item[\\$first\\_metric\\_only] FALSE\n",
       "\\item[\\$boost\\_from\\_average] TRUE\n",
       "\\item[\\$feature\\_pre\\_filter] FALSE\n",
       "\\item[\\$force\\_row\\_wise] TRUE\n",
       "\\item[\\$verbosity] -100\n",
       "\\item[\\$seed] 106109\n",
       "\\item[\\$max\\_depth] -1\n",
       "\\item[\\$min\\_gain\\_to\\_split] 0\n",
       "\\item[\\$min\\_sum\\_hessian\\_in\\_leaf] 1.098\n",
       "\\item[\\$lambda\\_l1] 0.1365\n",
       "\\item[\\$lambda\\_l2] 0.9895\n",
       "\\item[\\$max\\_bin] 31\n",
       "\\item[\\$bagging\\_fraction] 1\n",
       "\\item[\\$pos\\_bagging\\_fraction] 1\n",
       "\\item[\\$neg\\_bagging\\_fraction] 0.1812163\n",
       "\\item[\\$is\\_unbalance] FALSE\n",
       "\\item[\\$scale\\_pos\\_weight] 4.268\n",
       "\\item[\\$drop\\_rate] 0.0939201417199316\n",
       "\\item[\\$max\\_drop] 50\n",
       "\\item[\\$skip\\_drop] 0.5\n",
       "\\item[\\$extra\\_trees] FALSE\n",
       "\\item[\\$num\\_iterations] 1834\n",
       "\\item[\\$learning\\_rate] 0.0103152974811412\n",
       "\\item[\\$feature\\_fraction] 0.566973817686982\n",
       "\\item[\\$num\\_leaves] 68\n",
       "\\item[\\$min\\_data\\_in\\_leaf] 886\n",
       "\\end{description}\n"
      ],
      "text/markdown": [
       "$boosting\n",
       ":   'gbdt'\n",
       "$objective\n",
       ":   'binary'\n",
       "$metric\n",
       ":   'auc'\n",
       "$first_metric_only\n",
       ":   FALSE\n",
       "$boost_from_average\n",
       ":   TRUE\n",
       "$feature_pre_filter\n",
       ":   FALSE\n",
       "$force_row_wise\n",
       ":   TRUE\n",
       "$verbosity\n",
       ":   -100\n",
       "$seed\n",
       ":   106109\n",
       "$max_depth\n",
       ":   -1\n",
       "$min_gain_to_split\n",
       ":   0\n",
       "$min_sum_hessian_in_leaf\n",
       ":   1.098\n",
       "$lambda_l1\n",
       ":   0.1365\n",
       "$lambda_l2\n",
       ":   0.9895\n",
       "$max_bin\n",
       ":   31\n",
       "$bagging_fraction\n",
       ":   1\n",
       "$pos_bagging_fraction\n",
       ":   1\n",
       "$neg_bagging_fraction\n",
       ":   0.1812163\n",
       "$is_unbalance\n",
       ":   FALSE\n",
       "$scale_pos_weight\n",
       ":   4.268\n",
       "$drop_rate\n",
       ":   0.0939201417199316\n",
       "$max_drop\n",
       ":   50\n",
       "$skip_drop\n",
       ":   0.5\n",
       "$extra_trees\n",
       ":   FALSE\n",
       "$num_iterations\n",
       ":   1834\n",
       "$learning_rate\n",
       ":   0.0103152974811412\n",
       "$feature_fraction\n",
       ":   0.566973817686982\n",
       "$num_leaves\n",
       ":   68\n",
       "$min_data_in_leaf\n",
       ":   886\n",
       "\n",
       "\n"
      ],
      "text/plain": [
       "$boosting\n",
       "[1] \"gbdt\"\n",
       "\n",
       "$objective\n",
       "[1] \"binary\"\n",
       "\n",
       "$metric\n",
       "[1] \"auc\"\n",
       "\n",
       "$first_metric_only\n",
       "[1] FALSE\n",
       "\n",
       "$boost_from_average\n",
       "[1] TRUE\n",
       "\n",
       "$feature_pre_filter\n",
       "[1] FALSE\n",
       "\n",
       "$force_row_wise\n",
       "[1] TRUE\n",
       "\n",
       "$verbosity\n",
       "[1] -100\n",
       "\n",
       "$seed\n",
       "[1] 106109\n",
       "\n",
       "$max_depth\n",
       "[1] -1\n",
       "\n",
       "$min_gain_to_split\n",
       "[1] 0\n",
       "\n",
       "$min_sum_hessian_in_leaf\n",
       "[1] 1.098\n",
       "\n",
       "$lambda_l1\n",
       "[1] 0.1365\n",
       "\n",
       "$lambda_l2\n",
       "[1] 0.9895\n",
       "\n",
       "$max_bin\n",
       "[1] 31\n",
       "\n",
       "$bagging_fraction\n",
       "[1] 1\n",
       "\n",
       "$pos_bagging_fraction\n",
       "[1] 1\n",
       "\n",
       "$neg_bagging_fraction\n",
       "[1] 0.1812163\n",
       "\n",
       "$is_unbalance\n",
       "[1] FALSE\n",
       "\n",
       "$scale_pos_weight\n",
       "[1] 4.268\n",
       "\n",
       "$drop_rate\n",
       "[1] 0.09392014\n",
       "\n",
       "$max_drop\n",
       "[1] 50\n",
       "\n",
       "$skip_drop\n",
       "[1] 0.5\n",
       "\n",
       "$extra_trees\n",
       "[1] FALSE\n",
       "\n",
       "$num_iterations\n",
       "[1] 1834\n",
       "\n",
       "$learning_rate\n",
       "[1] 0.0103153\n",
       "\n",
       "$feature_fraction\n",
       "[1] 0.5669738\n",
       "\n",
       "$num_leaves\n",
       "[1] 68\n",
       "\n",
       "$min_data_in_leaf\n",
       "[1] 886\n"
      ]
     },
     "metadata": {},
     "output_type": "display_data"
    }
   ],
   "source": [
    "param_normalizado"
   ]
  },
  {
   "cell_type": "code",
   "execution_count": 30,
   "metadata": {
    "id": "WRI_-taRwOXO"
   },
   "outputs": [],
   "source": [
    "  # entreno LightGBM\n",
    "\n",
    "  modelo_final <- lgb.train(\n",
    "    data= dtrain,\n",
    "    param= param_normalizado\n",
    "  )"
   ]
  },
  {
   "cell_type": "code",
   "execution_count": 40,
   "metadata": {},
   "outputs": [
    {
     "data": {
      "text/html": [
       "<dl>\n",
       "\t<dt>$boosting</dt>\n",
       "\t\t<dd>'gbdt'</dd>\n",
       "\t<dt>$objective</dt>\n",
       "\t\t<dd>'binary'</dd>\n",
       "\t<dt>$metric</dt>\n",
       "\t\t<dd><ol>\n",
       "\t<li>'auc'</li>\n",
       "</ol>\n",
       "</dd>\n",
       "\t<dt>$first_metric_only</dt>\n",
       "\t\t<dd>FALSE</dd>\n",
       "\t<dt>$boost_from_average</dt>\n",
       "\t\t<dd>TRUE</dd>\n",
       "\t<dt>$feature_pre_filter</dt>\n",
       "\t\t<dd>FALSE</dd>\n",
       "\t<dt>$force_row_wise</dt>\n",
       "\t\t<dd>TRUE</dd>\n",
       "\t<dt>$verbosity</dt>\n",
       "\t\t<dd>-100</dd>\n",
       "\t<dt>$seed</dt>\n",
       "\t\t<dd>106109</dd>\n",
       "\t<dt>$max_depth</dt>\n",
       "\t\t<dd>-1</dd>\n",
       "\t<dt>$min_gain_to_split</dt>\n",
       "\t\t<dd>0</dd>\n",
       "\t<dt>$min_sum_hessian_in_leaf</dt>\n",
       "\t\t<dd>1.098</dd>\n",
       "\t<dt>$lambda_l1</dt>\n",
       "\t\t<dd>0.1365</dd>\n",
       "\t<dt>$lambda_l2</dt>\n",
       "\t\t<dd>0.9895</dd>\n",
       "\t<dt>$max_bin</dt>\n",
       "\t\t<dd>31</dd>\n",
       "\t<dt>$bagging_fraction</dt>\n",
       "\t\t<dd>1</dd>\n",
       "\t<dt>$pos_bagging_fraction</dt>\n",
       "\t\t<dd>1</dd>\n",
       "\t<dt>$neg_bagging_fraction</dt>\n",
       "\t\t<dd>0.1812163</dd>\n",
       "\t<dt>$is_unbalance</dt>\n",
       "\t\t<dd>FALSE</dd>\n",
       "\t<dt>$scale_pos_weight</dt>\n",
       "\t\t<dd>4.268</dd>\n",
       "\t<dt>$drop_rate</dt>\n",
       "\t\t<dd>0.0939201417199316</dd>\n",
       "\t<dt>$max_drop</dt>\n",
       "\t\t<dd>50</dd>\n",
       "\t<dt>$skip_drop</dt>\n",
       "\t\t<dd>0.5</dd>\n",
       "\t<dt>$extra_trees</dt>\n",
       "\t\t<dd>FALSE</dd>\n",
       "\t<dt>$num_iterations</dt>\n",
       "\t\t<dd>1834</dd>\n",
       "\t<dt>$learning_rate</dt>\n",
       "\t\t<dd>0.0103152974811412</dd>\n",
       "\t<dt>$feature_fraction</dt>\n",
       "\t\t<dd>0.566973817686982</dd>\n",
       "\t<dt>$num_leaves</dt>\n",
       "\t\t<dd>68</dd>\n",
       "\t<dt>$min_data_in_leaf</dt>\n",
       "\t\t<dd>886</dd>\n",
       "\t<dt>$interaction_constraints</dt>\n",
       "\t\t<dd><ol>\n",
       "</ol>\n",
       "</dd>\n",
       "</dl>\n"
      ],
      "text/latex": [
       "\\begin{description}\n",
       "\\item[\\$boosting] 'gbdt'\n",
       "\\item[\\$objective] 'binary'\n",
       "\\item[\\$metric] \\begin{enumerate}\n",
       "\\item 'auc'\n",
       "\\end{enumerate}\n",
       "\n",
       "\\item[\\$first\\_metric\\_only] FALSE\n",
       "\\item[\\$boost\\_from\\_average] TRUE\n",
       "\\item[\\$feature\\_pre\\_filter] FALSE\n",
       "\\item[\\$force\\_row\\_wise] TRUE\n",
       "\\item[\\$verbosity] -100\n",
       "\\item[\\$seed] 106109\n",
       "\\item[\\$max\\_depth] -1\n",
       "\\item[\\$min\\_gain\\_to\\_split] 0\n",
       "\\item[\\$min\\_sum\\_hessian\\_in\\_leaf] 1.098\n",
       "\\item[\\$lambda\\_l1] 0.1365\n",
       "\\item[\\$lambda\\_l2] 0.9895\n",
       "\\item[\\$max\\_bin] 31\n",
       "\\item[\\$bagging\\_fraction] 1\n",
       "\\item[\\$pos\\_bagging\\_fraction] 1\n",
       "\\item[\\$neg\\_bagging\\_fraction] 0.1812163\n",
       "\\item[\\$is\\_unbalance] FALSE\n",
       "\\item[\\$scale\\_pos\\_weight] 4.268\n",
       "\\item[\\$drop\\_rate] 0.0939201417199316\n",
       "\\item[\\$max\\_drop] 50\n",
       "\\item[\\$skip\\_drop] 0.5\n",
       "\\item[\\$extra\\_trees] FALSE\n",
       "\\item[\\$num\\_iterations] 1834\n",
       "\\item[\\$learning\\_rate] 0.0103152974811412\n",
       "\\item[\\$feature\\_fraction] 0.566973817686982\n",
       "\\item[\\$num\\_leaves] 68\n",
       "\\item[\\$min\\_data\\_in\\_leaf] 886\n",
       "\\item[\\$interaction\\_constraints] \\begin{enumerate}\n",
       "\\end{enumerate}\n",
       "\n",
       "\\end{description}\n"
      ],
      "text/markdown": [
       "$boosting\n",
       ":   'gbdt'\n",
       "$objective\n",
       ":   'binary'\n",
       "$metric\n",
       ":   1. 'auc'\n",
       "\n",
       "\n",
       "\n",
       "$first_metric_only\n",
       ":   FALSE\n",
       "$boost_from_average\n",
       ":   TRUE\n",
       "$feature_pre_filter\n",
       ":   FALSE\n",
       "$force_row_wise\n",
       ":   TRUE\n",
       "$verbosity\n",
       ":   -100\n",
       "$seed\n",
       ":   106109\n",
       "$max_depth\n",
       ":   -1\n",
       "$min_gain_to_split\n",
       ":   0\n",
       "$min_sum_hessian_in_leaf\n",
       ":   1.098\n",
       "$lambda_l1\n",
       ":   0.1365\n",
       "$lambda_l2\n",
       ":   0.9895\n",
       "$max_bin\n",
       ":   31\n",
       "$bagging_fraction\n",
       ":   1\n",
       "$pos_bagging_fraction\n",
       ":   1\n",
       "$neg_bagging_fraction\n",
       ":   0.1812163\n",
       "$is_unbalance\n",
       ":   FALSE\n",
       "$scale_pos_weight\n",
       ":   4.268\n",
       "$drop_rate\n",
       ":   0.0939201417199316\n",
       "$max_drop\n",
       ":   50\n",
       "$skip_drop\n",
       ":   0.5\n",
       "$extra_trees\n",
       ":   FALSE\n",
       "$num_iterations\n",
       ":   1834\n",
       "$learning_rate\n",
       ":   0.0103152974811412\n",
       "$feature_fraction\n",
       ":   0.566973817686982\n",
       "$num_leaves\n",
       ":   68\n",
       "$min_data_in_leaf\n",
       ":   886\n",
       "$interaction_constraints\n",
       ":   \n",
       "\n",
       "\n",
       "\n",
       "\n"
      ],
      "text/plain": [
       "$boosting\n",
       "[1] \"gbdt\"\n",
       "\n",
       "$objective\n",
       "[1] \"binary\"\n",
       "\n",
       "$metric\n",
       "$metric[[1]]\n",
       "[1] \"auc\"\n",
       "\n",
       "\n",
       "$first_metric_only\n",
       "[1] FALSE\n",
       "\n",
       "$boost_from_average\n",
       "[1] TRUE\n",
       "\n",
       "$feature_pre_filter\n",
       "[1] FALSE\n",
       "\n",
       "$force_row_wise\n",
       "[1] TRUE\n",
       "\n",
       "$verbosity\n",
       "[1] -100\n",
       "\n",
       "$seed\n",
       "[1] 106109\n",
       "\n",
       "$max_depth\n",
       "[1] -1\n",
       "\n",
       "$min_gain_to_split\n",
       "[1] 0\n",
       "\n",
       "$min_sum_hessian_in_leaf\n",
       "[1] 1.098\n",
       "\n",
       "$lambda_l1\n",
       "[1] 0.1365\n",
       "\n",
       "$lambda_l2\n",
       "[1] 0.9895\n",
       "\n",
       "$max_bin\n",
       "[1] 31\n",
       "\n",
       "$bagging_fraction\n",
       "[1] 1\n",
       "\n",
       "$pos_bagging_fraction\n",
       "[1] 1\n",
       "\n",
       "$neg_bagging_fraction\n",
       "[1] 0.1812163\n",
       "\n",
       "$is_unbalance\n",
       "[1] FALSE\n",
       "\n",
       "$scale_pos_weight\n",
       "[1] 4.268\n",
       "\n",
       "$drop_rate\n",
       "[1] 0.09392014\n",
       "\n",
       "$max_drop\n",
       "[1] 50\n",
       "\n",
       "$skip_drop\n",
       "[1] 0.5\n",
       "\n",
       "$extra_trees\n",
       "[1] FALSE\n",
       "\n",
       "$num_iterations\n",
       "[1] 1834\n",
       "\n",
       "$learning_rate\n",
       "[1] 0.0103153\n",
       "\n",
       "$feature_fraction\n",
       "[1] 0.5669738\n",
       "\n",
       "$num_leaves\n",
       "[1] 68\n",
       "\n",
       "$min_data_in_leaf\n",
       "[1] 886\n",
       "\n",
       "$interaction_constraints\n",
       "list()\n"
      ]
     },
     "metadata": {},
     "output_type": "display_data"
    }
   ],
   "source": [
    "modelo_final$params"
   ]
  },
  {
   "cell_type": "code",
   "execution_count": 31,
   "metadata": {
    "id": "_bkhnCvj0g3Q"
   },
   "outputs": [],
   "source": [
    "# ahora imprimo la importancia de variables\n",
    "\n",
    "tb_importancia <- as.data.table(lgb.importance(modelo_final))\n",
    "archivo_importancia <- \"impo.txt\"\n",
    "\n",
    "fwrite(tb_importancia,\n",
    "  file= archivo_importancia,\n",
    "  sep= \"\\t\"\n",
    ")"
   ]
  },
  {
   "cell_type": "code",
   "execution_count": 32,
   "metadata": {
    "id": "lZ3sLmbh0kFj"
   },
   "outputs": [],
   "source": [
    "# grabo a disco el modelo en un formato para seres humanos ... ponele ...\n",
    "\n",
    "lgb.save(modelo_final, \"modelo.txt\" )"
   ]
  },
  {
   "cell_type": "markdown",
   "metadata": {
    "id": "VEtp2--t5Ymg"
   },
   "source": [
    "### Scoring"
   ]
  },
  {
   "cell_type": "markdown",
   "metadata": {
    "id": "hI5008Mj5ZdI"
   },
   "source": [
    "Aplico el modelo final a los datos del futuro"
   ]
  },
  {
   "cell_type": "code",
   "execution_count": 33,
   "metadata": {
    "id": "PimBY3N_0ryP"
   },
   "outputs": [],
   "source": [
    "# aplico el modelo a los datos sin clase\n",
    "dfuture <- dataset[foto_mes == 202109]\n",
    "\n",
    "# aplico el modelo a los datos nuevos\n",
    "prediccion <- predict(\n",
    "  modelo_final,\n",
    "  data.matrix(dfuture[, campos_buenos, with= FALSE])\n",
    ")"
   ]
  },
  {
   "cell_type": "markdown",
   "metadata": {
    "id": "D26rNRh55gpw"
   },
   "source": [
    "#### Tabla Prediccion"
   ]
  },
  {
   "cell_type": "code",
   "execution_count": 34,
   "metadata": {
    "id": "RJwg7LHd11yu"
   },
   "outputs": [],
   "source": [
    "# tabla de prediccion\n",
    "\n",
    "tb_prediccion <- dfuture[, list(numero_de_cliente)]\n",
    "tb_prediccion[, prob := prediccion ]\n",
    "\n",
    "# grabo las probabilidad del modelo\n",
    "fwrite(tb_prediccion,\n",
    "  file= \"prediccion.txt\",\n",
    "  sep= \"\\t\"\n",
    ")"
   ]
  },
  {
   "cell_type": "markdown",
   "metadata": {
    "id": "jOt4eG_55ltv"
   },
   "source": [
    "Kaggle Competition Submit"
   ]
  },
  {
   "cell_type": "code",
   "execution_count": 35,
   "metadata": {
    "id": "gWW3tatE12je"
   },
   "outputs": [
    {
     "name": "stdout",
     "output_type": "stream",
     "text": [
      "Successfully submitted to Data Mining, Analista Sr 2025A \n",
      "Successfully submitted to Data Mining, Analista Sr 2025A \n",
      "Successfully submitted to Data Mining, Analista Sr 2025A \n",
      "Successfully submitted to Data Mining, Analista Sr 2025A \n",
      "Successfully submitted to Data Mining, Analista Sr 2025A \n"
     ]
    }
   ],
   "source": [
    "# genero archivos con los  \"envios\" mejores\n",
    "# suba TODOS los archivos a Kaggle\n",
    "\n",
    "# ordeno por probabilidad descendente\n",
    "setorder(tb_prediccion, -prob)\n",
    "\n",
    "dir.create(\"kaggle\")\n",
    "\n",
    "for (envios in PARAM$kaggle$cortes) {\n",
    "\n",
    "  tb_prediccion[, Predicted := 0L] # seteo inicial a 0\n",
    "  tb_prediccion[1:envios, Predicted := 1L] # marclo los primeros\n",
    "\n",
    "  archivo_kaggle <- paste0(\"./kaggle/KA\", PARAM$experimento, \"_\", envios, \".csv\")\n",
    "\n",
    "  # grabo el archivo\n",
    "  fwrite(tb_prediccion[, list(numero_de_cliente, Predicted)],\n",
    "    file= archivo_kaggle,\n",
    "    sep= \",\"\n",
    "  )\n",
    "\n",
    "  # subida a Kaggle, armo la linea de comando\n",
    "  comando <- \"kaggle competitions submit\"\n",
    "  competencia <- paste(\"-c\", PARAM$kaggle$competencia)\n",
    "  arch <- paste( \"-f\", archivo_kaggle)\n",
    "\n",
    "  mensaje <- paste0(\"-m 'envios=\", envios,\n",
    "  \"  semilla=\", PARAM$semilla_primigenia,\n",
    "    \"'\" )\n",
    "\n",
    "  linea <- paste( comando, competencia, arch, mensaje)\n",
    "\n",
    "  salida <- system(linea, intern=TRUE) # el submit a Kaggle\n",
    "  cat(salida, \"\\n\")\n",
    "}"
   ]
  },
  {
   "cell_type": "code",
   "execution_count": 36,
   "metadata": {
    "id": "B9tB2X4439Hg"
   },
   "outputs": [],
   "source": [
    "write_yaml( PARAM, file=\"PARAM.yml\")"
   ]
  },
  {
   "cell_type": "code",
   "execution_count": 37,
   "metadata": {
    "id": "9zA_W25c15DP"
   },
   "outputs": [
    {
     "data": {
      "text/html": [
       "'Thu Jul 31 18:35:40 2025'"
      ],
      "text/latex": [
       "'Thu Jul 31 18:35:40 2025'"
      ],
      "text/markdown": [
       "'Thu Jul 31 18:35:40 2025'"
      ],
      "text/plain": [
       "[1] \"Thu Jul 31 18:35:40 2025\""
      ]
     },
     "metadata": {},
     "output_type": "display_data"
    }
   ],
   "source": [
    "format(Sys.time(), \"%a %b %d %X %Y\")"
   ]
  },
  {
   "cell_type": "markdown",
   "metadata": {
    "id": "UdVZucdLHzZ0"
   },
   "source": [
    "Finalmente usted deberá cargar el resultado de su corrida en la Google Sheet Colaborativa,  hoja **TareaHogar04**\n",
    "<br> Siéntase libre de agregar las columnas que hagan falta a la planilla"
   ]
  },
  {
   "cell_type": "code",
   "execution_count": null,
   "metadata": {
    "id": "WMHh7uNVIJkT"
   },
   "outputs": [],
   "source": []
  },
  {
   "cell_type": "code",
   "execution_count": null,
   "metadata": {},
   "outputs": [],
   "source": []
  },
  {
   "cell_type": "code",
   "execution_count": null,
   "metadata": {},
   "outputs": [],
   "source": []
  },
  {
   "cell_type": "code",
   "execution_count": null,
   "metadata": {},
   "outputs": [],
   "source": []
  },
  {
   "cell_type": "code",
   "execution_count": null,
   "metadata": {},
   "outputs": [],
   "source": []
  },
  {
   "cell_type": "code",
   "execution_count": null,
   "metadata": {},
   "outputs": [],
   "source": []
  },
  {
   "cell_type": "code",
   "execution_count": null,
   "metadata": {},
   "outputs": [],
   "source": []
  },
  {
   "cell_type": "code",
   "execution_count": null,
   "metadata": {},
   "outputs": [],
   "source": []
  },
  {
   "cell_type": "code",
   "execution_count": null,
   "metadata": {},
   "outputs": [],
   "source": []
  }
 ],
 "metadata": {
  "colab": {
   "provenance": []
  },
  "kernelspec": {
   "display_name": "R",
   "language": "R",
   "name": "ir"
  },
  "language_info": {
   "codemirror_mode": "r",
   "file_extension": ".r",
   "mimetype": "text/x-r-source",
   "name": "R",
   "pygments_lexer": "r",
   "version": "4.4.3"
  }
 },
 "nbformat": 4,
 "nbformat_minor": 4
}
