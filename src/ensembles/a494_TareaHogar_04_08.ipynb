{
 "cells": [
  {
   "cell_type": "markdown",
   "metadata": {
    "id": "0cEmzeUKFkPh"
   },
   "source": [
    "# Tarea para el Hogar 04"
   ]
  },
  {
   "cell_type": "markdown",
   "metadata": {
    "id": "nSICPpyTGQmC"
   },
   "source": [
    "Esta Tarea para el Hogar 02 se entrega el final de la cuarta clase\n",
    "<br> se espera de usted que intente avanzar con los desafios propuestos y que los traiga terminados para la Clase 05 que será el viernes 01-agosto"
   ]
  },
  {
   "cell_type": "markdown",
   "metadata": {
    "id": "DenyKXkiJ5JN"
   },
   "source": [
    "##  1. Cazatalentos"
   ]
  },
  {
   "cell_type": "markdown",
   "metadata": {
    "id": "l-K2_ZsZGrVD"
   },
   "source": [
    "En la Clase 03 nos hemos enfrentado a  \"La Maldicion del Ganandor\",  elegir el modelo con el mejor puntaje simple no suele ser la mejor estrategia.\n",
    "<br> Lea y ejecute el notebook  **src/CazaTalentos/CazaTalentos.ipynb**\n",
    "<br> en caso de interesarle, participe del Desafío Ordenamiento  que vence el sábado 02 de agosto a las 19:00"
   ]
  },
  {
   "cell_type": "markdown",
   "metadata": {
    "id": "K9GkTOk5J9t3"
   },
   "source": [
    "## 2. Hiperparámetros del LightGBM"
   ]
  },
  {
   "cell_type": "markdown",
   "metadata": {
    "id": "VmEFy0ukKL5T"
   },
   "source": [
    "Los objetivos de esta tarea son:\n",
    "\n",
    "\n",
    "*   Aumentar la rentabilidad de la campaña de marketing de retención proactiva de clientes.\n",
    "*   Generar un mejor modelo optimizando sus hiperparámetros\n",
    "*   Conceptual : investigar los mas relevantes hiperparámetros de LightGBM\n",
    "*   Familiarizarse con la Bayesian Optimization, sus largos tiempos de corrida y opciones para reducirlos\n",
    "*   Familiarizarse con el uso de máquinas virtuales de Google Colab\n",
    "*   Ver un pipeline completo de optimización de hiperparámetros y puesta en producción"
   ]
  },
  {
   "cell_type": "markdown",
   "metadata": {
    "id": "5yvlS6JQLRMd"
   },
   "source": [
    "LightGBM cuenta con mas de 60 hiperparámetros, siendo posible utilizar 40 al mismo tiempo, aunque no razonable.\n",
    "<br> La documentación oficial de los hiperparámetros de LightGBM es  https://lightgbm.readthedocs.io/en/latest/Parameters.html#core-parameters\n"
   ]
  },
  {
   "cell_type": "markdown",
   "metadata": {
    "id": "eydI4YNAsFaf"
   },
   "source": [
    "Se lo alerta sobre que una Optimizacion Bayesiana lleva varias horas de corrida, y usted deberá correr VARIAS optimizaciones para descubrir cuales parámetros conviene optimizar.\n",
    "<br> A pesar que la próxima clase es recien en viernes 01 de agosto, inicie la tarea con tiempo, aprenda a planificar estratégicamente sus corridas como un@ científ@  de datos."
   ]
  },
  {
   "cell_type": "markdown",
   "metadata": {
    "id": "RzU4S0SeMcpp"
   },
   "source": [
    "Es necesario investigar cuales son los hiperparámetros de LightGBM que vale la pena optimizar en una Bayesian Optimization, ya que los realmente utiles son apenas un reducido subconjunto.\n",
    "<br>Usted deberá investigar cuales son los hiperparámetros mas relevantes de LightGBM, su primer alternativa es preguntándole a su amigo con capacidades especiales ChatGPT o sus endogámicos familiares Claude, DeepSeek, Gemini, Grok, etc\n",
    "<br> La segunda alternativa es la propia documentación de LightGBM  https://lightgbm.readthedocs.io/en/latest/Parameters-Tuning.html\n"
   ]
  },
  {
   "cell_type": "markdown",
   "metadata": {
    "id": "LNptUgI_NWWG"
   },
   "source": [
    "Adicionalmente podra buscar información como la que proveen esta diminuta muestra aleatoria de artículos ligeros:\n",
    "*  https://medium.com/@sarahzouinina/a-deep-dive-into-lightgbm-how-to-choose-and-tune-parameters-7c584945842e\n",
    "*  https://www.kaggle.com/code/somang1418/tuning-hyperparameters-under-10-minutes-lgbm\n",
    "*  https://towardsdatascience.com/beginners-guide-to-the-must-know-lightgbm-hyperparameters-a0005a812702/\n",
    "\n",
    "\n",
    "<br>  La muestra anterior se brinda a modo de ejemplo, usted deberá buscar muuuuchas  fuentes adicionales de información\n",
    "<br> Tenga presente que LightGBM es el estado del arte en modelado predictivo para datasets estructurado, que son el 90% del trabajo del 95% de los Data Scientists en Argentina."
   ]
  },
  {
   "cell_type": "markdown",
   "metadata": {
    "id": "WpUThBojODyK"
   },
   "source": [
    "El desafío de esta tarea es:\n",
    "* Qué hiperparparámetros conviene optimizar?  Las recomendaciones de los artículos ligeros es siempre sensata?  Sus autores realmente hicieron experimentos o son siemplemente escritores de entretenimiento carente de base científica?\n",
    "* Elegidos los hiperparámetros, cual es el  <desde, hasta> que se debe utilizar en la Bayesian Optimization ?\n",
    "* Realmente vale la pena optimizar 10 o 16 hiperparámetros al mismo tiempo ?  No resulta contraproducente una búsqueda en un espacio de tal alta dimensionalidad ?"
   ]
  },
  {
   "cell_type": "markdown",
   "metadata": {
    "id": "PX0qg_c0yqob"
   },
   "source": [
    "#### 2.1  Seteo del ambiente en Google Colab"
   ]
  },
  {
   "cell_type": "markdown",
   "metadata": {
    "id": "NGY7H9xza7Zr"
   },
   "source": [
    "Esta parte se debe correr con el runtime en Python3\n",
    "<br>Ir al menu, Runtime -> Change Runtime Type -> Runtime type ->  **Python 3**"
   ]
  },
  {
   "cell_type": "markdown",
   "metadata": {
    "id": "7PupIBNba7Zr"
   },
   "source": [
    "Conectar la virtual machine donde esta corriendo Google Colab con el  Google Drive, para poder tener persistencia de archivos"
   ]
  },
  {
   "cell_type": "code",
   "execution_count": null,
   "metadata": {
    "id": "9LpZCst5a7Zs"
   },
   "outputs": [],
   "source": [
    "# primero establecer el Runtime de Python 3\n",
    "from google.colab import drive\n",
    "drive.mount('/content/.drive')"
   ]
  },
  {
   "cell_type": "markdown",
   "metadata": {
    "id": "JYC_F-wla7Zs"
   },
   "source": [
    "Para correr la siguiente celda es fundamental en Arranque en Frio haber copiado el archivo kaggle.json al Google Drive, en la carpeta indicada en el instructivo\n",
    "\n",
    "<br>los siguientes comando estan en shell script de Linux\n",
    "*   Crear las carpetas en el Google Drive\n",
    "*   \"instalar\" el archivo kaggle.json desde el Google Drive a la virtual machine para que pueda ser utilizado por la libreria  kaggle de Python\n",
    "*   Bajar el  **dataset_pequeno**  al  Google Drive  y tambien al disco local de la virtual machine que esta corriendo Google Colab\n",
    "\n"
   ]
  },
  {
   "cell_type": "code",
   "execution_count": 1,
   "metadata": {
    "id": "XWLelftXa7Zt"
   },
   "outputs": [
    {
     "ename": "ERROR",
     "evalue": "Error in parse(text = input): <text>:1:1: unexpected SPECIAL\n1: %%\n    ^\n",
     "output_type": "error",
     "traceback": [
      "Error in parse(text = input): <text>:1:1: unexpected SPECIAL\n1: %%\n    ^\nTraceback:\n"
     ]
    }
   ],
   "source": [
    "%%shell\n",
    "\n",
    "mkdir -p \"/content/.drive/My Drive/dm\"\n",
    "mkdir -p \"/content/buckets\"\n",
    "ln -s \"/content/.drive/My Drive/dm\" /content/buckets/b1\n",
    "\n",
    "mkdir -p ~/.kaggle\n",
    "cp /content/buckets/b1/kaggle/kaggle.json  ~/.kaggle\n",
    "chmod 600 ~/.kaggle/kaggle.json\n",
    "\n",
    "\n",
    "mkdir -p /content/buckets/b1/exp\n",
    "mkdir -p /content/buckets/b1/datasets\n",
    "mkdir -p /content/datasets\n",
    "\n",
    "\n",
    "\n",
    "archivo_origen=\"https://storage.googleapis.com/open-courses/itba2025-8d0a/dataset_pequeno.csv\"\n",
    "archivo_destino=\"/content/datasets/dataset_pequeno.csv\"\n",
    "archivo_destino_bucket=\"/content/buckets/b1/datasets/dataset_pequeno.csv\"\n",
    "\n",
    "if ! test -f $archivo_destino_bucket; then\n",
    "  wget  $archivo_origen  -O $archivo_destino_bucket\n",
    "fi\n",
    "\n",
    "\n",
    "if ! test -f $archivo_destino; then\n",
    "  cp  $archivo_destino_bucket  $archivo_destino\n",
    "fi\n"
   ]
  },
  {
   "cell_type": "markdown",
   "metadata": {
    "id": "oSKhZRToy2F7"
   },
   "source": [
    "### 2.2 Optimizacion Hiperparámetros"
   ]
  },
  {
   "cell_type": "markdown",
   "metadata": {
    "id": "2kwPpHAtSmix"
   },
   "source": [
    "Esta parte se debe correr con el runtime en lenguaje R Ir al menu, Runtime -> Change Runtime Type -> Runtime type -> R"
   ]
  },
  {
   "cell_type": "markdown",
   "metadata": {
    "id": "xp4-Bj3aYI8d"
   },
   "source": [
    "### 2.2.1 Inicio"
   ]
  },
  {
   "cell_type": "markdown",
   "metadata": {
    "id": "zy8YTZfESxeJ"
   },
   "source": [
    "limpio el ambiente de R"
   ]
  },
  {
   "cell_type": "code",
   "execution_count": 1,
   "metadata": {
    "id": "gBq__iAdQliq"
   },
   "outputs": [
    {
     "data": {
      "text/html": [
       "'Thu Jul 31 01:37:15 2025'"
      ],
      "text/latex": [
       "'Thu Jul 31 01:37:15 2025'"
      ],
      "text/markdown": [
       "'Thu Jul 31 01:37:15 2025'"
      ],
      "text/plain": [
       "[1] \"Thu Jul 31 01:37:15 2025\""
      ]
     },
     "metadata": {},
     "output_type": "display_data"
    }
   ],
   "source": [
    "format(Sys.time(), \"%a %b %d %X %Y\")"
   ]
  },
  {
   "cell_type": "code",
   "execution_count": 2,
   "metadata": {
    "id": "7rdVrBojS1IV"
   },
   "outputs": [
    {
     "data": {
      "text/html": [
       "<table class=\"dataframe\">\n",
       "<caption>A matrix: 2 × 6 of type dbl</caption>\n",
       "<thead>\n",
       "\t<tr><th></th><th scope=col>used</th><th scope=col>(Mb)</th><th scope=col>gc trigger</th><th scope=col>(Mb)</th><th scope=col>max used</th><th scope=col>(Mb)</th></tr>\n",
       "</thead>\n",
       "<tbody>\n",
       "\t<tr><th scope=row>Ncells</th><td> 656930</td><td>35.1</td><td>1439380</td><td>76.9</td><td>1431360</td><td>76.5</td></tr>\n",
       "\t<tr><th scope=row>Vcells</th><td>1225015</td><td> 9.4</td><td>8388608</td><td>64.0</td><td>1924969</td><td>14.7</td></tr>\n",
       "</tbody>\n",
       "</table>\n"
      ],
      "text/latex": [
       "A matrix: 2 × 6 of type dbl\n",
       "\\begin{tabular}{r|llllll}\n",
       "  & used & (Mb) & gc trigger & (Mb) & max used & (Mb)\\\\\n",
       "\\hline\n",
       "\tNcells &  656930 & 35.1 & 1439380 & 76.9 & 1431360 & 76.5\\\\\n",
       "\tVcells & 1225015 &  9.4 & 8388608 & 64.0 & 1924969 & 14.7\\\\\n",
       "\\end{tabular}\n"
      ],
      "text/markdown": [
       "\n",
       "A matrix: 2 × 6 of type dbl\n",
       "\n",
       "| <!--/--> | used | (Mb) | gc trigger | (Mb) | max used | (Mb) |\n",
       "|---|---|---|---|---|---|---|\n",
       "| Ncells |  656930 | 35.1 | 1439380 | 76.9 | 1431360 | 76.5 |\n",
       "| Vcells | 1225015 |  9.4 | 8388608 | 64.0 | 1924969 | 14.7 |\n",
       "\n"
      ],
      "text/plain": [
       "       used    (Mb) gc trigger (Mb) max used (Mb)\n",
       "Ncells  656930 35.1 1439380    76.9 1431360  76.5\n",
       "Vcells 1225015  9.4 8388608    64.0 1924969  14.7"
      ]
     },
     "metadata": {},
     "output_type": "display_data"
    }
   ],
   "source": [
    "# limpio la memoria\n",
    "rm(list=ls(all.names=TRUE)) # remove all objects\n",
    "gc(full=TRUE, verbose=FALSE) # garbage collection"
   ]
  },
  {
   "cell_type": "markdown",
   "metadata": {
    "id": "kuPfQ7ksjwW3"
   },
   "source": [
    "### 2.2.2 Carga de Librerias"
   ]
  },
  {
   "cell_type": "code",
   "execution_count": 3,
   "metadata": {
    "id": "lVyxLaJ1j1J_"
   },
   "outputs": [
    {
     "name": "stderr",
     "output_type": "stream",
     "text": [
      "Loading required package: data.table\n",
      "\n",
      "Loading required package: parallel\n",
      "\n",
      "Loading required package: primes\n",
      "\n",
      "Loading required package: rlist\n",
      "\n",
      "Loading required package: yaml\n",
      "\n",
      "Loading required package: lightgbm\n",
      "\n",
      "Loading required package: DiceKriging\n",
      "\n",
      "Loading required package: mlrMBO\n",
      "\n",
      "Loading required package: mlr\n",
      "\n",
      "Loading required package: ParamHelpers\n",
      "\n",
      "Loading required package: smoof\n",
      "\n",
      "Loading required package: checkmate\n",
      "\n",
      "\n",
      "Attaching package: ‘checkmate’\n",
      "\n",
      "\n",
      "The following object is masked from ‘package:DiceKriging’:\n",
      "\n",
      "    checkNames\n",
      "\n",
      "\n"
     ]
    }
   ],
   "source": [
    "# cargo las librerias que necesito\n",
    "require(\"data.table\")\n",
    "require(\"parallel\")\n",
    "\n",
    "if( !require(\"primes\") ) install.packages(\"primes\")\n",
    "require(\"primes\")\n",
    "\n",
    "if( !require(\"utils\") ) install.packages(\"utils\")\n",
    "require(\"utils\")\n",
    "\n",
    "if( !require(\"rlist\") ) install.packages(\"rlist\")\n",
    "require(\"rlist\")\n",
    "\n",
    "if( !require(\"yaml\")) install.packages(\"yaml\")\n",
    "require(\"yaml\")\n",
    "\n",
    "if( !require(\"lightgbm\") ) install.packages(\"lightgbm\")\n",
    "require(\"lightgbm\")\n",
    "\n",
    "if( !require(\"DiceKriging\") ) install.packages(\"DiceKriging\")\n",
    "require(\"DiceKriging\")\n",
    "\n",
    "if( !require(\"mlrMBO\") ) install.packages(\"mlrMBO\")\n",
    "require(\"mlrMBO\")"
   ]
  },
  {
   "cell_type": "markdown",
   "metadata": {
    "id": "Iz-6Qt6BUaA3"
   },
   "source": [
    "### 2.2.3 Definicion de Parametros"
   ]
  },
  {
   "cell_type": "markdown",
   "metadata": {
    "id": "cOdlKd7lUm2I"
   },
   "source": [
    "aqui debe cargar SU semilla primigenia\n",
    "<br>recuerde cambiar el numero de experimento en cada corrida nueva"
   ]
  },
  {
   "cell_type": "code",
   "execution_count": 10,
   "metadata": {
    "id": "ASYkebOu2mF6"
   },
   "outputs": [],
   "source": [
    "PARAM <- list()\n",
    "PARAM$experimento <- 4949\n",
    "PARAM$semilla_primigenia <- 106109\n"
   ]
  },
  {
   "cell_type": "code",
   "execution_count": 11,
   "metadata": {
    "id": "ezOhQdbA293o"
   },
   "outputs": [],
   "source": [
    "PARAM$kaggle$competencia <- \"data-mining-analista-sr-2025-a\"\n",
    "PARAM$kaggle$cortes <- seq(10000, 12000, by= 500)"
   ]
  },
  {
   "cell_type": "code",
   "execution_count": 12,
   "metadata": {
    "id": "jtB0Lub42rHO"
   },
   "outputs": [],
   "source": [
    "# un undersampling de 0.1  toma solo el 10% de los CONTINUA\n",
    "# undersampling de 1.0  implica tomar TODOS los datos\n",
    "\n",
    "PARAM$trainingstrategy$undersampling <- 0.5"
   ]
  },
  {
   "cell_type": "code",
   "execution_count": 57,
   "metadata": {
    "id": "OFxm-xiNUOJX"
   },
   "outputs": [],
   "source": [
    "# Parametros LightGBM\n",
    "\n",
    "PARAM$hyperparametertuning$xval_folds <- 5\n",
    "\n",
    "# parametros fijos del LightGBM que se pisaran con la parte variable de la BO\n",
    "PARAM$lgbm$param_fijos <-  list(\n",
    "  boosting= \"gbdt\", # puede ir  dart  , ni pruebe random_forest\n",
    "  objective= \"binary\",\n",
    "  metric= \"auc\",\n",
    "  first_metric_only= FALSE,\n",
    "  boost_from_average= TRUE,\n",
    "  feature_pre_filter= FALSE,\n",
    "  force_row_wise= TRUE, # para reducir warnings\n",
    "  verbosity= -100,\n",
    "\n",
    "  seed= PARAM$semilla_primigenia,\n",
    "\n",
    "  max_depth= -1L, # -1 significa no limitar,  por ahora lo dejo fijo\n",
    "  min_gain_to_split= 0, # min_gain_to_split >= 0\n",
    "  min_sum_hessian_in_leaf= 1.098, #  min_sum_hessian_in_leaf >= 0.0\n",
    "  lambda_l1= 0.1365, # lambda_l1 >= 0.0\n",
    "  lambda_l2= 0.9895, # lambda_l2 >= 0.0\n",
    "  max_bin= 31L, # lo debo dejar fijo, no participa de la BO\n",
    "    \n",
    "  bagging_fraction= 1.0, # 0.0 < bagging_fraction <= 1.0\n",
    "  pos_bagging_fraction= 1.0, # 0.0 < pos_bagging_fraction <= 1.0\n",
    "  neg_bagging_fraction= 0.1812163, # 0.0 < neg_bagging_fraction <= 1.0\n",
    "  is_unbalance= FALSE, #\n",
    "  scale_pos_weight= 4.268, # scale_pos_weight > 0.0\n",
    "\n",
    "  drop_rate= 0.1, # 0.0 < neg_bagging_fraction <= 1.0\n",
    "  max_drop= 50, # <=0 means no limit\n",
    "  skip_drop= 0.5, # 0.0 <= skip_drop <= 1.0\n",
    "\n",
    "  extra_trees= TRUE,\n",
    "\n",
    "  num_iterations= 1271,\n",
    "  learning_rate= 0.0102,\n",
    "  feature_fraction= 0.58,\n",
    "  num_leaves= 51,\n",
    "  min_data_in_leaf= 500\n",
    ")\n"
   ]
  },
  {
   "cell_type": "markdown",
   "metadata": {
    "id": "D5Yj-JV4yvOt"
   },
   "source": [
    "Aqui se definen los hiperparámetros de LightGBM que participan de la Bayesian Optimization\n",
    "<br> si es un numero entero debe ir  makeIntegerParam\n",
    "<br> si es un numero real (con decimales) debe ir  makeNumericParam\n",
    "<br> es muy importante leer cuales son un lower y upper  permitidos y ademas razonables"
   ]
  },
  {
   "cell_type": "code",
   "execution_count": 58,
   "metadata": {
    "id": "jENpR26ZyuS8"
   },
   "outputs": [],
   "source": [
    "# Aqui se cargan los bordes de los hiperparametros de la BO\n",
    "PARAM$hypeparametertuning$hs <- makeParamSet(\n",
    "  makeNumericParam(\"lambda_l2\",  lower=.9, upper= 2),\n",
    "  makeNumericParam(\"min_gain_to_split\", lower= 0, upper= 0.05),\n",
    "  makeNumericParam(\"bagging_fraction\", lower= 0, upper= 0.9),\n",
    "  makeNumericParam(\"drop_rate\", lower= 0, upper= 0.1812163)\n",
    ")"
   ]
  },
  {
   "cell_type": "markdown",
   "metadata": {
    "id": "-_RPFUb3zMoW"
   },
   "source": [
    "A mayor cantidad de hiperparámetros, se debe aumentar las iteraciones de la Bayesian Optimization\n",
    "<br> 30 es un valor muy tacaño, pero corre rápido\n",
    "<br> deberia partir de 50, alcanzando los 100 si se dispone de tiempo"
   ]
  },
  {
   "cell_type": "code",
   "execution_count": 59,
   "metadata": {
    "id": "q5Rd3pnbzSiG"
   },
   "outputs": [],
   "source": [
    "PARAM$hyperparametertuning$iteraciones <- 50 # iteraciones bayesianas"
   ]
  },
  {
   "cell_type": "markdown",
   "metadata": {
    "id": "4RWZXL1VZjMI"
   },
   "source": [
    "### 2.2.4  Preprocesamiento"
   ]
  },
  {
   "cell_type": "code",
   "execution_count": 60,
   "metadata": {
    "id": "j3toG9-lZm4K"
   },
   "outputs": [],
   "source": [
    "# carpeta de trabajo\n",
    "\n",
    "setwd(\"/content/buckets/b1/exp\")\n",
    "experimento_folder <- paste0(\"HT\", PARAM$experimento)\n",
    "dir.create(experimento_folder, showWarnings=FALSE)\n",
    "setwd( paste0(\"/content/buckets/b1/exp/\", experimento_folder ))"
   ]
  },
  {
   "cell_type": "code",
   "execution_count": 61,
   "metadata": {
    "id": "FM3lxKoLZ643"
   },
   "outputs": [],
   "source": [
    "# lectura del dataset\n",
    "\n",
    "dataset <- fread(\"/content/datasets/dataset_pequeno.csv\")"
   ]
  },
  {
   "cell_type": "code",
   "execution_count": 62,
   "metadata": {
    "id": "OsJ-91UeZ-I_"
   },
   "outputs": [],
   "source": [
    "dataset_train <- dataset[foto_mes %in% c(202107)]"
   ]
  },
  {
   "cell_type": "code",
   "execution_count": 63,
   "metadata": {
    "id": "vrWE7BE0aB2J"
   },
   "outputs": [],
   "source": [
    "# paso la clase a binaria que tome valores {0,1}  enteros\n",
    "#  BAJA+1 y BAJA+2  son  1,   CONTINUA es 0\n",
    "\n",
    "dataset_train[,\n",
    "  clase01 := ifelse(clase_ternaria %in% c(\"BAJA+2\",\"BAJA+1\"), 1L, 0L)\n",
    "]"
   ]
  },
  {
   "cell_type": "code",
   "execution_count": 64,
   "metadata": {
    "id": "jP7YlQBnaW6W"
   },
   "outputs": [],
   "source": [
    "# defino los datos que forma parte del training\n",
    "# aqui se hace el undersampling de los CONTINUA\n",
    "# notar que para esto utilizo la SEGUNDA semilla\n",
    "\n",
    "set.seed(PARAM$semilla_primigenia, kind = \"L'Ecuyer-CMRG\")\n",
    "dataset_train[, azar := runif(nrow(dataset_train))]\n",
    "dataset_train[, training := 0L]\n",
    "\n",
    "dataset_train[\n",
    "  foto_mes %in% c(202107) &\n",
    "    (azar <= PARAM$trainingstrategy$undersampling | clase_ternaria %in% c(\"BAJA+1\", \"BAJA+2\")),\n",
    "  training := 1L\n",
    "]"
   ]
  },
  {
   "cell_type": "code",
   "execution_count": 65,
   "metadata": {
    "id": "xElu4s5W4rX7"
   },
   "outputs": [],
   "source": [
    "# los campos que se van a utilizar\n",
    "\n",
    "campos_buenos <- setdiff(\n",
    "  colnames(dataset_train),\n",
    "  c(\"clase_ternaria\", \"clase01\", \"azar\", \"training\")\n",
    ")"
   ]
  },
  {
   "cell_type": "code",
   "execution_count": 66,
   "metadata": {
    "id": "PppMHcGYaaol"
   },
   "outputs": [
    {
     "data": {
      "text/html": [
       "83237"
      ],
      "text/latex": [
       "83237"
      ],
      "text/markdown": [
       "83237"
      ],
      "text/plain": [
       "[1] 83237"
      ]
     },
     "metadata": {},
     "output_type": "display_data"
    },
    {
     "data": {
      "text/html": [
       "154"
      ],
      "text/latex": [
       "154"
      ],
      "text/markdown": [
       "154"
      ],
      "text/plain": [
       "[1] 154"
      ]
     },
     "metadata": {},
     "output_type": "display_data"
    }
   ],
   "source": [
    "# dejo los datos en el formato que necesita LightGBM\n",
    "\n",
    "dtrain <- lgb.Dataset(\n",
    "  data= data.matrix(dataset_train[training == 1L, campos_buenos, with= FALSE]),\n",
    "  label= dataset_train[training == 1L, clase01],\n",
    "  free_raw_data= FALSE\n",
    ")\n",
    "\n",
    "nrow(dtrain)\n",
    "ncol(dtrain)"
   ]
  },
  {
   "cell_type": "markdown",
   "metadata": {
    "id": "Ta-EkOu3cphF"
   },
   "source": [
    "2.2.5 Configuracion Bayesian Optimization"
   ]
  },
  {
   "cell_type": "code",
   "execution_count": 67,
   "metadata": {
    "id": "cjgfurjdfiXb"
   },
   "outputs": [],
   "source": [
    "# En el argumento x llegan los parmaetros de la bayesiana\n",
    "#  devuelve la AUC en cross validation del modelo entrenado\n",
    "\n",
    "EstimarGanancia_AUC_lightgbm <- function(x) {\n",
    "\n",
    "  # x pisa (o agrega) a param_fijos\n",
    "  param_completo <- modifyList(PARAM$lgbm$param_fijos, x)\n",
    "\n",
    "  # entreno LightGBM\n",
    "  modelocv <- lgb.cv(\n",
    "    data= dtrain,\n",
    "    nfold= PARAM$hyperparametertuning$xval_folds,\n",
    "    stratified= TRUE,\n",
    "    param= param_completo\n",
    "  )\n",
    "\n",
    "  # obtengo la ganancia\n",
    "  AUC <- modelocv$best_score\n",
    "\n",
    "  # hago espacio en la memoria\n",
    "  rm(modelocv)\n",
    "  gc(full= TRUE, verbose= FALSE)\n",
    "\n",
    "  message(format(Sys.time(), \"%a %b %d %X %Y\"), \" AUC \", AUC)\n",
    "\n",
    "  return(AUC)\n",
    "}"
   ]
  },
  {
   "cell_type": "code",
   "execution_count": 68,
   "metadata": {
    "id": "WLi_o1hocvN-"
   },
   "outputs": [],
   "source": [
    "# Aqui comienza la configuracion de la Bayesian Optimization\n",
    "\n",
    "# en este archivo quedan la evolucion binaria de la BO\n",
    "kbayesiana <- \"bayesiana.RDATA\"\n",
    "\n",
    "funcion_optimizar <- EstimarGanancia_AUC_lightgbm # la funcion que voy a maximizar\n",
    "\n",
    "configureMlr(show.learner.output= FALSE)\n",
    "\n",
    "# configuro la busqueda bayesiana,  los hiperparametros que se van a optimizar\n",
    "# por favor, no desesperarse por lo complejo\n",
    "\n",
    "obj.fun <- makeSingleObjectiveFunction(\n",
    "  fn= funcion_optimizar, # la funcion que voy a maximizar\n",
    "  minimize= FALSE, # estoy Maximizando la ganancia\n",
    "  noisy= TRUE,\n",
    "  par.set= PARAM$hypeparametertuning$hs, # definido al comienzo del programa\n",
    "  has.simple.signature= FALSE # paso los parametros en una lista\n",
    ")\n",
    "\n",
    "# cada 600 segundos guardo el resultado intermedio\n",
    "ctrl <- makeMBOControl(\n",
    "  save.on.disk.at.time= 600, # se graba cada 600 segundos\n",
    "  save.file.path= kbayesiana\n",
    ") # se graba cada 600 segundos\n",
    "\n",
    "# indico la cantidad de iteraciones que va a tener la Bayesian Optimization\n",
    "ctrl <- setMBOControlTermination(\n",
    "  ctrl,\n",
    "  iters= PARAM$hyperparametertuning$iteraciones\n",
    ") # cantidad de iteraciones\n",
    "\n",
    "# defino el método estandar para la creacion de los puntos iniciales,\n",
    "# los \"No Inteligentes\"\n",
    "ctrl <- setMBOControlInfill(ctrl, crit= makeMBOInfillCritEI())\n",
    "\n",
    "# establezco la funcion que busca el maximo\n",
    "surr.km <- makeLearner(\n",
    "  \"regr.km\",\n",
    "  predict.type= \"se\",\n",
    "  covtype= \"matern3_2\",\n",
    "  control= list(trace= TRUE)\n",
    ")\n"
   ]
  },
  {
   "cell_type": "markdown",
   "metadata": {
    "id": "_uUeVo5pc4zc"
   },
   "source": [
    "2.2.6 Corrida Bayesian Optimization"
   ]
  },
  {
   "cell_type": "code",
   "execution_count": 69,
   "metadata": {
    "id": "RcABNaKGciaz"
   },
   "outputs": [
    {
     "name": "stderr",
     "output_type": "stream",
     "text": [
      "Computing y column(s) for design. Not provided.\n",
      "\n",
      "Thu Jul 31 01:48:34 2025 AUC 0.930201376306322\n",
      "\n",
      "Thu Jul 31 01:49:35 2025 AUC 0.92948123770932\n",
      "\n",
      "Thu Jul 31 01:50:35 2025 AUC 0.929931540415008\n",
      "\n",
      "Thu Jul 31 01:51:38 2025 AUC 0.928406082666263\n",
      "\n",
      "Thu Jul 31 01:52:41 2025 AUC 0.929667731091849\n",
      "\n",
      "Thu Jul 31 01:53:42 2025 AUC 0.928645432012549\n",
      "\n",
      "Thu Jul 31 01:54:43 2025 AUC 0.929622444631977\n",
      "\n",
      "Thu Jul 31 01:55:45 2025 AUC 0.929473345805739\n",
      "\n",
      "Thu Jul 31 01:56:46 2025 AUC 0.929423400569261\n",
      "\n",
      "Thu Jul 31 01:57:48 2025 AUC 0.929738582305351\n",
      "\n",
      "Thu Jul 31 01:58:48 2025 AUC 0.929634130119888\n",
      "\n",
      "Thu Jul 31 01:59:52 2025 AUC 0.92899945282609\n",
      "\n",
      "Thu Jul 31 02:00:55 2025 AUC 0.930355344225701\n",
      "\n",
      "Thu Jul 31 02:01:56 2025 AUC 0.930027584407229\n",
      "\n",
      "Thu Jul 31 02:02:56 2025 AUC 0.930225927903645\n",
      "\n",
      "Thu Jul 31 02:03:58 2025 AUC 0.929091048755783\n",
      "\n",
      "[mbo] 0: lambda_l2=1.8; min_gain_to_split=0.0188; bagging_fraction=0.305; drop_rate=0.027 : y = 0.93 : 62.1 secs : initdesign\n",
      "\n",
      "[mbo] 0: lambda_l2=1.26; min_gain_to_split=0.0287; bagging_fraction=0.368; drop_rate=0.0697 : y = 0.929 : 60.5 secs : initdesign\n",
      "\n",
      "[mbo] 0: lambda_l2=1.59; min_gain_to_split=0.0235; bagging_fraction=0.508; drop_rate=0.123 : y = 0.93 : 60.6 secs : initdesign\n",
      "\n",
      "[mbo] 0: lambda_l2=0.988; min_gain_to_split=0.00288; bagging_fraction=0.46; drop_rate=0.0394 : y = 0.928 : 62.6 secs : initdesign\n",
      "\n",
      "[mbo] 0: lambda_l2=1.05; min_gain_to_split=0.0163; bagging_fraction=0.647; drop_rate=0.108 : y = 0.93 : 63.3 secs : initdesign\n",
      "\n",
      "[mbo] 0: lambda_l2=1.58; min_gain_to_split=0.0326; bagging_fraction=0.158; drop_rate=0.151 : y = 0.929 : 61.4 secs : initdesign\n",
      "\n",
      "[mbo] 0: lambda_l2=1.22; min_gain_to_split=0.0481; bagging_fraction=0.588; drop_rate=0.0573 : y = 0.93 : 60.3 secs : initdesign\n",
      "\n",
      "[mbo] 0: lambda_l2=1.89; min_gain_to_split=0.0115; bagging_fraction=0.0778; drop_rate=0.165 : y = 0.929 : 62.4 secs : initdesign\n",
      "\n",
      "[mbo] 0: lambda_l2=1.51; min_gain_to_split=0.0263; bagging_fraction=0.433; drop_rate=0.0887 : y = 0.929 : 61.2 secs : initdesign\n",
      "\n",
      "[mbo] 0: lambda_l2=1.95; min_gain_to_split=0.0142; bagging_fraction=0.707; drop_rate=0.138 : y = 0.93 : 61.4 secs : initdesign\n",
      "\n",
      "[mbo] 0: lambda_l2=1.79; min_gain_to_split=0.0377; bagging_fraction=0.77; drop_rate=0.00981 : y = 0.93 : 60.7 secs : initdesign\n",
      "\n",
      "[mbo] 0: lambda_l2=0.919; min_gain_to_split=0.0366; bagging_fraction=0.216; drop_rate=0.0915 : y = 0.929 : 63.3 secs : initdesign\n",
      "\n",
      "[mbo] 0: lambda_l2=1.37; min_gain_to_split=0.0425; bagging_fraction=0.819; drop_rate=0.131 : y = 0.93 : 63.6 secs : initdesign\n",
      "\n",
      "[mbo] 0: lambda_l2=1.39; min_gain_to_split=0.0064; bagging_fraction=0.231; drop_rate=0.171 : y = 0.93 : 60.5 secs : initdesign\n",
      "\n",
      "[mbo] 0: lambda_l2=1.71; min_gain_to_split=0.046; bagging_fraction=0.00641; drop_rate=0.0468 : y = 0.93 : 60.5 secs : initdesign\n",
      "\n",
      "[mbo] 0: lambda_l2=1.14; min_gain_to_split=0.00466; bagging_fraction=0.895; drop_rate=0.0177 : y = 0.929 : 61.2 secs : initdesign\n",
      "\n",
      "Saved the current state after iteration 1 in the file bayesiana.RDATA.\n",
      "\n",
      "Thu Jul 31 02:05:03 2025 AUC 0.930070011777667\n",
      "\n",
      "[mbo] 1: lambda_l2=1.77; min_gain_to_split=0.0436; bagging_fraction=0.363; drop_rate=0.0766 : y = 0.93 : 60.1 secs : infill_ei\n",
      "\n",
      "Thu Jul 31 02:06:03 2025 AUC 0.929529135865315\n",
      "\n",
      "[mbo] 2: lambda_l2=1.38; min_gain_to_split=0.0397; bagging_fraction=0.745; drop_rate=0.166 : y = 0.93 : 59.8 secs : infill_ei\n",
      "\n",
      "Thu Jul 31 02:07:04 2025 AUC 0.929212998601816\n",
      "\n",
      "[mbo] 3: lambda_l2=1.31; min_gain_to_split=0.0446; bagging_fraction=0.884; drop_rate=0.143 : y = 0.929 : 60.2 secs : infill_ei\n",
      "\n",
      "Thu Jul 31 02:08:04 2025 AUC 0.92998687031242\n",
      "\n",
      "[mbo] 4: lambda_l2=1.58; min_gain_to_split=0.0296; bagging_fraction=0.724; drop_rate=0.13 : y = 0.93 : 59.7 secs : infill_ei\n",
      "\n",
      "Thu Jul 31 02:09:04 2025 AUC 0.92959320022492\n",
      "\n",
      "[mbo] 5: lambda_l2=1.68; min_gain_to_split=0.0428; bagging_fraction=0.515; drop_rate=0.104 : y = 0.93 : 59.8 secs : infill_ei\n",
      "\n",
      "Thu Jul 31 02:10:03 2025 AUC 0.930620078080035\n",
      "\n",
      "[mbo] 6: lambda_l2=1.48; min_gain_to_split=0.0486; bagging_fraction=0.694; drop_rate=0.132 : y = 0.931 : 59.0 secs : infill_ei\n",
      "\n",
      "Thu Jul 31 02:11:03 2025 AUC 0.929557292328182\n",
      "\n",
      "[mbo] 7: lambda_l2=1.09; min_gain_to_split=0.0499; bagging_fraction=0.455; drop_rate=0.133 : y = 0.93 : 59.5 secs : infill_ei\n",
      "\n",
      "Thu Jul 31 02:12:03 2025 AUC 0.929265679875651\n",
      "\n",
      "[mbo] 8: lambda_l2=1.47; min_gain_to_split=0.0499; bagging_fraction=0.747; drop_rate=0.129 : y = 0.929 : 59.5 secs : infill_ei\n",
      "\n",
      "Thu Jul 31 02:13:03 2025 AUC 0.92998861622624\n",
      "\n",
      "[mbo] 9: lambda_l2=1.44; min_gain_to_split=0.0128; bagging_fraction=0.615; drop_rate=0.113 : y = 0.93 : 59.9 secs : infill_ei\n",
      "\n",
      "Thu Jul 31 02:14:04 2025 AUC 0.929804240324572\n",
      "\n",
      "[mbo] 10: lambda_l2=1.38; min_gain_to_split=0.0388; bagging_fraction=0.695; drop_rate=0.156 : y = 0.93 : 60.4 secs : infill_ei\n",
      "\n",
      "Saved the current state after iteration 11 in the file bayesiana.RDATA.\n",
      "\n",
      "Thu Jul 31 02:15:06 2025 AUC 0.928960164544566\n",
      "\n",
      "[mbo] 11: lambda_l2=1.5; min_gain_to_split=0.0442; bagging_fraction=0.41; drop_rate=0.0895 : y = 0.929 : 58.9 secs : infill_ei\n",
      "\n",
      "Thu Jul 31 02:16:06 2025 AUC 0.930471104803815\n",
      "\n",
      "[mbo] 12: lambda_l2=1.68; min_gain_to_split=0.0287; bagging_fraction=0.247; drop_rate=0.0301 : y = 0.93 : 59.6 secs : infill_ei\n",
      "\n",
      "Thu Jul 31 02:17:06 2025 AUC 0.930219219699203\n",
      "\n",
      "[mbo] 13: lambda_l2=1.59; min_gain_to_split=0.0338; bagging_fraction=0.734; drop_rate=0.132 : y = 0.93 : 59.9 secs : infill_ei\n",
      "\n",
      "Thu Jul 31 02:18:07 2025 AUC 0.929342271909471\n",
      "\n",
      "[mbo] 14: lambda_l2=1.69; min_gain_to_split=0.0129; bagging_fraction=0.114; drop_rate=0.0658 : y = 0.929 : 60.2 secs : infill_ei\n",
      "\n",
      "Thu Jul 31 02:19:07 2025 AUC 0.929287458914842\n",
      "\n",
      "[mbo] 15: lambda_l2=1.58; min_gain_to_split=0.0314; bagging_fraction=0.249; drop_rate=0.112 : y = 0.929 : 59.8 secs : infill_ei\n",
      "\n",
      "Thu Jul 31 02:20:07 2025 AUC 0.929988493060474\n",
      "\n",
      "[mbo] 16: lambda_l2=1.93; min_gain_to_split=0.0486; bagging_fraction=0.692; drop_rate=0.0158 : y = 0.93 : 59.7 secs : infill_ei\n",
      "\n",
      "Thu Jul 31 02:21:07 2025 AUC 0.930000458021848\n",
      "\n",
      "[mbo] 17: lambda_l2=1.06; min_gain_to_split=0.00891; bagging_fraction=0.844; drop_rate=0.101 : y = 0.93 : 59.8 secs : infill_ei\n",
      "\n",
      "Thu Jul 31 02:22:07 2025 AUC 0.92972063657407\n",
      "\n",
      "[mbo] 18: lambda_l2=1.21; min_gain_to_split=0.0371; bagging_fraction=0.62; drop_rate=0.178 : y = 0.93 : 59.9 secs : infill_ei\n",
      "\n",
      "Thu Jul 31 02:23:07 2025 AUC 0.929668357592764\n",
      "\n",
      "[mbo] 19: lambda_l2=1.39; min_gain_to_split=0.0486; bagging_fraction=0.434; drop_rate=0.066 : y = 0.93 : 59.2 secs : infill_ei\n",
      "\n",
      "Thu Jul 31 02:24:06 2025 AUC 0.930055189359304\n",
      "\n",
      "[mbo] 20: lambda_l2=1.3; min_gain_to_split=0.0384; bagging_fraction=0.371; drop_rate=0.108 : y = 0.93 : 59.0 secs : infill_ei\n",
      "\n",
      "Thu Jul 31 02:25:06 2025 AUC 0.930458898941094\n",
      "\n",
      "[mbo] 21: lambda_l2=1.58; min_gain_to_split=0.0344; bagging_fraction=0.144; drop_rate=0.0353 : y = 0.93 : 59.1 secs : infill_ei\n",
      "\n",
      "Saved the current state after iteration 22 in the file bayesiana.RDATA.\n",
      "\n",
      "Thu Jul 31 02:26:09 2025 AUC 0.930528141074335\n",
      "\n",
      "[mbo] 22: lambda_l2=1.25; min_gain_to_split=0.0212; bagging_fraction=0.52; drop_rate=0.0282 : y = 0.931 : 59.0 secs : infill_ei\n",
      "\n",
      "Thu Jul 31 02:27:07 2025 AUC 0.929751675389432\n",
      "\n",
      "[mbo] 23: lambda_l2=1.28; min_gain_to_split=0.0444; bagging_fraction=0.671; drop_rate=0.178 : y = 0.93 : 58.3 secs : infill_ei\n",
      "\n",
      "Thu Jul 31 02:28:07 2025 AUC 0.930573210972089\n",
      "\n",
      "[mbo] 24: lambda_l2=1.06; min_gain_to_split=0.0183; bagging_fraction=0.187; drop_rate=0.103 : y = 0.931 : 59.7 secs : infill_ei\n",
      "\n",
      "Thu Jul 31 02:29:08 2025 AUC 0.930454712151587\n",
      "\n",
      "[mbo] 25: lambda_l2=1.37; min_gain_to_split=0.0112; bagging_fraction=0.0934; drop_rate=0.0311 : y = 0.93 : 60.6 secs : infill_ei\n",
      "\n",
      "Thu Jul 31 02:30:08 2025 AUC 0.929131603255949\n",
      "\n",
      "[mbo] 26: lambda_l2=1.89; min_gain_to_split=0.0423; bagging_fraction=0.166; drop_rate=0.104 : y = 0.929 : 59.7 secs : infill_ei\n",
      "\n",
      "Thu Jul 31 02:31:08 2025 AUC 0.930199327555621\n",
      "\n",
      "[mbo] 27: lambda_l2=1.35; min_gain_to_split=0.0444; bagging_fraction=0.401; drop_rate=0.172 : y = 0.93 : 58.9 secs : infill_ei\n",
      "\n",
      "Thu Jul 31 02:32:08 2025 AUC 0.929498874501608\n",
      "\n",
      "[mbo] 28: lambda_l2=1.53; min_gain_to_split=0.0206; bagging_fraction=0.83; drop_rate=0.0912 : y = 0.929 : 59.6 secs : infill_ei\n",
      "\n",
      "Thu Jul 31 02:33:10 2025 AUC 0.928556086836098\n",
      "\n",
      "[mbo] 29: lambda_l2=1.3; min_gain_to_split=0.0328; bagging_fraction=0.764; drop_rate=0.13 : y = 0.929 : 61.8 secs : infill_ei\n",
      "\n",
      "Thu Jul 31 02:34:12 2025 AUC 0.929774511312456\n",
      "\n",
      "[mbo] 30: lambda_l2=1.08; min_gain_to_split=0.0248; bagging_fraction=0.183; drop_rate=0.107 : y = 0.93 : 62.0 secs : infill_ei\n",
      "\n",
      "Thu Jul 31 02:35:13 2025 AUC 0.93009417031254\n",
      "\n",
      "[mbo] 31: lambda_l2=1.59; min_gain_to_split=0.0352; bagging_fraction=0.087; drop_rate=0.0732 : y = 0.93 : 60.4 secs : infill_ei\n",
      "\n",
      "Saved the current state after iteration 32 in the file bayesiana.RDATA.\n",
      "\n",
      "Thu Jul 31 02:36:17 2025 AUC 0.929470669359434\n",
      "\n",
      "[mbo] 32: lambda_l2=0.951; min_gain_to_split=0.0248; bagging_fraction=0.894; drop_rate=0.0372 : y = 0.929 : 60.4 secs : infill_ei\n",
      "\n",
      "Thu Jul 31 02:37:16 2025 AUC 0.929579141051937\n",
      "\n",
      "[mbo] 33: lambda_l2=1.49; min_gain_to_split=0.0237; bagging_fraction=0.691; drop_rate=0.159 : y = 0.93 : 58.8 secs : infill_ei\n",
      "\n",
      "Thu Jul 31 02:38:15 2025 AUC 0.929407146490077\n",
      "\n",
      "[mbo] 34: lambda_l2=1.25; min_gain_to_split=0.0275; bagging_fraction=0.357; drop_rate=0.175 : y = 0.929 : 58.6 secs : infill_ei\n",
      "\n",
      "Thu Jul 31 02:39:15 2025 AUC 0.930168211949161\n",
      "\n",
      "[mbo] 35: lambda_l2=1.36; min_gain_to_split=0.0173; bagging_fraction=0.0559; drop_rate=0.0959 : y = 0.93 : 59.8 secs : infill_ei\n",
      "\n",
      "Thu Jul 31 02:40:15 2025 AUC 0.930034371554959\n",
      "\n",
      "[mbo] 36: lambda_l2=1.91; min_gain_to_split=0.00533; bagging_fraction=0.733; drop_rate=0.0181 : y = 0.93 : 60.1 secs : infill_ei\n",
      "\n",
      "Thu Jul 31 02:41:14 2025 AUC 0.929709167966083\n",
      "\n",
      "[mbo] 37: lambda_l2=1.38; min_gain_to_split=0.0182; bagging_fraction=0.348; drop_rate=0.0296 : y = 0.93 : 58.3 secs : infill_ei\n",
      "\n",
      "Thu Jul 31 02:42:12 2025 AUC 0.930105629938013\n",
      "\n",
      "[mbo] 38: lambda_l2=1.87; min_gain_to_split=0.0428; bagging_fraction=0.322; drop_rate=0.181 : y = 0.93 : 57.9 secs : infill_ei\n",
      "\n",
      "Thu Jul 31 02:43:13 2025 AUC 0.92931818436389\n",
      "\n",
      "[mbo] 39: lambda_l2=1.24; min_gain_to_split=0.00907; bagging_fraction=0.358; drop_rate=0.148 : y = 0.929 : 59.7 secs : infill_ei\n",
      "\n",
      "Thu Jul 31 02:44:12 2025 AUC 0.93032244649399\n",
      "\n",
      "[mbo] 40: lambda_l2=1.54; min_gain_to_split=0.0293; bagging_fraction=0.392; drop_rate=0.161 : y = 0.93 : 58.8 secs : infill_ei\n",
      "\n",
      "Thu Jul 31 02:45:11 2025 AUC 0.930128951628564\n",
      "\n",
      "[mbo] 41: lambda_l2=1.94; min_gain_to_split=0.0268; bagging_fraction=0.857; drop_rate=0.00234 : y = 0.93 : 59.0 secs : infill_ei\n",
      "\n",
      "Thu Jul 31 02:46:11 2025 AUC 0.930515437052878\n",
      "\n",
      "[mbo] 42: lambda_l2=1.02; min_gain_to_split=0.014; bagging_fraction=0.682; drop_rate=0.122 : y = 0.931 : 59.8 secs : infill_ei\n",
      "\n",
      "Saved the current state after iteration 43 in the file bayesiana.RDATA.\n",
      "\n",
      "Thu Jul 31 02:47:12 2025 AUC 0.929047640874095\n",
      "\n",
      "[mbo] 43: lambda_l2=1.31; min_gain_to_split=0.0374; bagging_fraction=0.379; drop_rate=0.0683 : y = 0.929 : 56.7 secs : infill_ei\n",
      "\n",
      "Thu Jul 31 02:48:12 2025 AUC 0.930255250128598\n",
      "\n",
      "[mbo] 44: lambda_l2=1.23; min_gain_to_split=0.0117; bagging_fraction=0.422; drop_rate=0.00481 : y = 0.93 : 59.3 secs : infill_ei\n",
      "\n",
      "Thu Jul 31 02:49:11 2025 AUC 0.929518911521772\n",
      "\n",
      "[mbo] 45: lambda_l2=1.71; min_gain_to_split=0.00839; bagging_fraction=0.78; drop_rate=0.0794 : y = 0.93 : 58.5 secs : infill_ei\n",
      "\n",
      "Thu Jul 31 02:50:10 2025 AUC 0.930376731460578\n",
      "\n",
      "[mbo] 46: lambda_l2=1.52; min_gain_to_split=0.0352; bagging_fraction=0.745; drop_rate=0.0787 : y = 0.93 : 59.5 secs : infill_ei\n",
      "\n",
      "Thu Jul 31 02:51:09 2025 AUC 0.930242171008315\n",
      "\n",
      "[mbo] 47: lambda_l2=1.82; min_gain_to_split=0.0183; bagging_fraction=0.326; drop_rate=0.103 : y = 0.93 : 58.4 secs : infill_ei\n",
      "\n",
      "Thu Jul 31 02:52:09 2025 AUC 0.929594427361705\n",
      "\n",
      "[mbo] 48: lambda_l2=1.84; min_gain_to_split=0.0039; bagging_fraction=0.348; drop_rate=0.0113 : y = 0.93 : 59.2 secs : infill_ei\n",
      "\n",
      "Thu Jul 31 02:53:08 2025 AUC 0.930003270116016\n",
      "\n",
      "[mbo] 49: lambda_l2=1.88; min_gain_to_split=0.03; bagging_fraction=0.0615; drop_rate=0.0205 : y = 0.93 : 58.7 secs : infill_ei\n",
      "\n",
      "Thu Jul 31 02:54:08 2025 AUC 0.929677300380934\n",
      "\n",
      "[mbo] 50: lambda_l2=1.28; min_gain_to_split=0.0279; bagging_fraction=0.656; drop_rate=0.132 : y = 0.93 : 59.6 secs : infill_ei\n",
      "\n",
      "Saved the final state in the file bayesiana.RDATA\n",
      "\n"
     ]
    }
   ],
   "source": [
    "# inicio la optimizacion bayesiana, retomando si ya existe\n",
    "# es la celda mas lenta de todo el notebook\n",
    "\n",
    "if (!file.exists(kbayesiana)) {\n",
    "  bayesiana_salida <- mbo(obj.fun, learner= surr.km, control= ctrl)\n",
    "} else {\n",
    "  bayesiana_salida <- mboContinue(kbayesiana) # retomo en caso que ya exista\n",
    "}"
   ]
  },
  {
   "cell_type": "code",
   "execution_count": 70,
   "metadata": {
    "id": "ssk5nnMk6INK"
   },
   "outputs": [
    {
     "data": {
      "text/html": [
       "<style>\n",
       ".list-inline {list-style: none; margin:0; padding: 0}\n",
       ".list-inline>li {display: inline-block}\n",
       ".list-inline>li:not(:last-child)::after {content: \"\\00b7\"; padding: 0 .5ex}\n",
       "</style>\n",
       "<ol class=list-inline><li>'lambda_l2'</li><li>'min_gain_to_split'</li><li>'bagging_fraction'</li><li>'drop_rate'</li><li>'y'</li><li>'dob'</li><li>'eol'</li><li>'error.message'</li><li>'exec.time'</li><li>'ei'</li><li>'error.model'</li><li>'train.time'</li><li>'prop.type'</li><li>'propose.time'</li><li>'se'</li><li>'mean'</li></ol>\n"
      ],
      "text/latex": [
       "\\begin{enumerate*}\n",
       "\\item 'lambda\\_l2'\n",
       "\\item 'min\\_gain\\_to\\_split'\n",
       "\\item 'bagging\\_fraction'\n",
       "\\item 'drop\\_rate'\n",
       "\\item 'y'\n",
       "\\item 'dob'\n",
       "\\item 'eol'\n",
       "\\item 'error.message'\n",
       "\\item 'exec.time'\n",
       "\\item 'ei'\n",
       "\\item 'error.model'\n",
       "\\item 'train.time'\n",
       "\\item 'prop.type'\n",
       "\\item 'propose.time'\n",
       "\\item 'se'\n",
       "\\item 'mean'\n",
       "\\end{enumerate*}\n"
      ],
      "text/markdown": [
       "1. 'lambda_l2'\n",
       "2. 'min_gain_to_split'\n",
       "3. 'bagging_fraction'\n",
       "4. 'drop_rate'\n",
       "5. 'y'\n",
       "6. 'dob'\n",
       "7. 'eol'\n",
       "8. 'error.message'\n",
       "9. 'exec.time'\n",
       "10. 'ei'\n",
       "11. 'error.model'\n",
       "12. 'train.time'\n",
       "13. 'prop.type'\n",
       "14. 'propose.time'\n",
       "15. 'se'\n",
       "16. 'mean'\n",
       "\n",
       "\n"
      ],
      "text/plain": [
       " [1] \"lambda_l2\"         \"min_gain_to_split\" \"bagging_fraction\" \n",
       " [4] \"drop_rate\"         \"y\"                 \"dob\"              \n",
       " [7] \"eol\"               \"error.message\"     \"exec.time\"        \n",
       "[10] \"ei\"                \"error.model\"       \"train.time\"       \n",
       "[13] \"prop.type\"         \"propose.time\"      \"se\"               \n",
       "[16] \"mean\"             "
      ]
     },
     "metadata": {},
     "output_type": "display_data"
    }
   ],
   "source": [
    "\n",
    "tb_bayesiana <- as.data.table(bayesiana_salida$opt.path)\n",
    "colnames( tb_bayesiana)"
   ]
  },
  {
   "cell_type": "code",
   "execution_count": 71,
   "metadata": {
    "id": "u4zq-vknhjGc"
   },
   "outputs": [],
   "source": [
    "# almaceno los resultados de la Bayesian Optimization\n",
    "# y capturo los mejores hiperparametros encontrados\n",
    "\n",
    "tb_bayesiana <- as.data.table(bayesiana_salida$opt.path)\n",
    "\n",
    "tb_bayesiana[, iter := .I]\n",
    "\n",
    "# ordeno en forma descendente por AUC = y\n",
    "setorder(tb_bayesiana, -y)\n",
    "\n",
    "# grabo para eventualmente poder utilizarlos en OTRA corrida\n",
    "fwrite( tb_bayesiana,\n",
    "  file= \"BO_log.txt\",\n",
    "  sep= \"\\t\"\n",
    ")\n",
    "\n",
    "# los mejores hiperparámetros son los que quedaron en el registro 1 de la tabla\n",
    "PARAM$out$lgbm$mejores_hiperparametros <- tb_bayesiana[\n",
    "  1, # el primero es el de mejor AUC\n",
    "  setdiff(colnames(tb_bayesiana),\n",
    "    c(\"y\",\"dob\",\"eol\",\"error.message\",\"exec.time\",\"ei\",\"error.model\",\n",
    "      \"train.time\",\"prop.type\",\"propose.time\",\"se\",\"mean\",\"iter\")),\n",
    "  with= FALSE\n",
    "]\n",
    "\n",
    "\n",
    "PARAM$out$lgbm$y <- tb_bayesiana[1, y]\n"
   ]
  },
  {
   "cell_type": "code",
   "execution_count": 72,
   "metadata": {
    "id": "E8v2eA427N8e"
   },
   "outputs": [],
   "source": [
    "write_yaml( PARAM, file=\"PARAM.yml\")"
   ]
  },
  {
   "cell_type": "code",
   "execution_count": 73,
   "metadata": {
    "id": "iBTWexVU7PGC"
   },
   "outputs": [
    {
     "name": "stdout",
     "output_type": "stream",
     "text": [
      "   lambda_l2 min_gain_to_split bagging_fraction drop_rate\n",
      "       <num>             <num>            <num>     <num>\n",
      "1:  1.481418        0.04861694        0.6943332 0.1324045\n",
      "[1] 0.9306201\n"
     ]
    }
   ],
   "source": [
    "print(PARAM$out$lgbm$mejores_hiperparametros)\n",
    "print(PARAM$out$lgbm$y)"
   ]
  },
  {
   "cell_type": "markdown",
   "metadata": {
    "id": "TKsVZmAnhwX-"
   },
   "source": [
    "## 2.3  Produccion"
   ]
  },
  {
   "cell_type": "markdown",
   "metadata": {
    "id": "RQ_C33Tr5B_9"
   },
   "source": [
    "### Final Training\n",
    "Construyo el modelo final, que es uno solo, no hace ningun tipo de particion < training, validation, testing>]"
   ]
  },
  {
   "cell_type": "code",
   "execution_count": 74,
   "metadata": {
    "id": "eDqfyA14hzwv"
   },
   "outputs": [],
   "source": [
    "setwd(\"/content/buckets/b1/exp\")\n",
    "experimento <- paste0(\"exp\", PARAM$experimento)\n",
    "dir.create(experimento, showWarnings= FALSE)\n",
    "setwd( paste0(\"/content/buckets/b1/exp/\", experimento ))"
   ]
  },
  {
   "cell_type": "markdown",
   "metadata": {
    "id": "8qFmFivf5Iet"
   },
   "source": [
    "#### Final Training Dataset\n",
    "\n",
    "Aqui esta la gran decision de en qué meses hago el Final Training\n",
    "<br> debo utilizar los mejores hiperparámetros que encontré en la optimización bayesiana"
   ]
  },
  {
   "cell_type": "code",
   "execution_count": 75,
   "metadata": {
    "id": "lg5WVZncvc7H"
   },
   "outputs": [],
   "source": [
    "# clase01\n",
    "dataset[, clase01 := ifelse(clase_ternaria %in% c(\"BAJA+1\", \"BAJA+2\"), 1L, 0L)]"
   ]
  },
  {
   "cell_type": "code",
   "execution_count": 76,
   "metadata": {
    "id": "yc9QzXREv0xf"
   },
   "outputs": [],
   "source": [
    "dataset_train <- dataset[foto_mes %in% c(202107)]"
   ]
  },
  {
   "cell_type": "code",
   "execution_count": 77,
   "metadata": {
    "id": "thjdqEBLuvNt"
   },
   "outputs": [],
   "source": [
    "# dejo los datos en el formato que necesita LightGBM\n",
    "\n",
    "dtrain <- lgb.Dataset(\n",
    "  data= data.matrix(dataset_train[, campos_buenos, with= FALSE]),\n",
    "  label= dataset_train[, clase01]\n",
    ")"
   ]
  },
  {
   "cell_type": "markdown",
   "metadata": {
    "id": "VNUa-WSz5Oqu"
   },
   "source": [
    "#### Final Training Hyperparameters"
   ]
  },
  {
   "cell_type": "code",
   "execution_count": 78,
   "metadata": {
    "id": "FgCcvBfEwImu"
   },
   "outputs": [
    {
     "data": {
      "text/html": [
       "<dl>\n",
       "\t<dt>$boosting</dt>\n",
       "\t\t<dd>'gbdt'</dd>\n",
       "\t<dt>$objective</dt>\n",
       "\t\t<dd>'binary'</dd>\n",
       "\t<dt>$metric</dt>\n",
       "\t\t<dd>'auc'</dd>\n",
       "\t<dt>$first_metric_only</dt>\n",
       "\t\t<dd>FALSE</dd>\n",
       "\t<dt>$boost_from_average</dt>\n",
       "\t\t<dd>TRUE</dd>\n",
       "\t<dt>$feature_pre_filter</dt>\n",
       "\t\t<dd>FALSE</dd>\n",
       "\t<dt>$force_row_wise</dt>\n",
       "\t\t<dd>TRUE</dd>\n",
       "\t<dt>$verbosity</dt>\n",
       "\t\t<dd>-100</dd>\n",
       "\t<dt>$seed</dt>\n",
       "\t\t<dd>106109</dd>\n",
       "\t<dt>$max_depth</dt>\n",
       "\t\t<dd>-1</dd>\n",
       "\t<dt>$min_gain_to_split</dt>\n",
       "\t\t<dd>0.0486169367334499</dd>\n",
       "\t<dt>$min_sum_hessian_in_leaf</dt>\n",
       "\t\t<dd>1.098</dd>\n",
       "\t<dt>$lambda_l1</dt>\n",
       "\t\t<dd>0.1365</dd>\n",
       "\t<dt>$lambda_l2</dt>\n",
       "\t\t<dd>1.48141796070764</dd>\n",
       "\t<dt>$max_bin</dt>\n",
       "\t\t<dd>31</dd>\n",
       "\t<dt>$bagging_fraction</dt>\n",
       "\t\t<dd>0.694333171192639</dd>\n",
       "\t<dt>$pos_bagging_fraction</dt>\n",
       "\t\t<dd>1</dd>\n",
       "\t<dt>$neg_bagging_fraction</dt>\n",
       "\t\t<dd>0.1812163</dd>\n",
       "\t<dt>$is_unbalance</dt>\n",
       "\t\t<dd>FALSE</dd>\n",
       "\t<dt>$scale_pos_weight</dt>\n",
       "\t\t<dd>4.268</dd>\n",
       "\t<dt>$drop_rate</dt>\n",
       "\t\t<dd>0.132404466937982</dd>\n",
       "\t<dt>$max_drop</dt>\n",
       "\t\t<dd>50</dd>\n",
       "\t<dt>$skip_drop</dt>\n",
       "\t\t<dd>0.5</dd>\n",
       "\t<dt>$extra_trees</dt>\n",
       "\t\t<dd>TRUE</dd>\n",
       "\t<dt>$num_iterations</dt>\n",
       "\t\t<dd>1271</dd>\n",
       "\t<dt>$learning_rate</dt>\n",
       "\t\t<dd>0.0102</dd>\n",
       "\t<dt>$feature_fraction</dt>\n",
       "\t\t<dd>0.58</dd>\n",
       "\t<dt>$num_leaves</dt>\n",
       "\t\t<dd>51</dd>\n",
       "\t<dt>$min_data_in_leaf</dt>\n",
       "\t\t<dd>500</dd>\n",
       "</dl>\n"
      ],
      "text/latex": [
       "\\begin{description}\n",
       "\\item[\\$boosting] 'gbdt'\n",
       "\\item[\\$objective] 'binary'\n",
       "\\item[\\$metric] 'auc'\n",
       "\\item[\\$first\\_metric\\_only] FALSE\n",
       "\\item[\\$boost\\_from\\_average] TRUE\n",
       "\\item[\\$feature\\_pre\\_filter] FALSE\n",
       "\\item[\\$force\\_row\\_wise] TRUE\n",
       "\\item[\\$verbosity] -100\n",
       "\\item[\\$seed] 106109\n",
       "\\item[\\$max\\_depth] -1\n",
       "\\item[\\$min\\_gain\\_to\\_split] 0.0486169367334499\n",
       "\\item[\\$min\\_sum\\_hessian\\_in\\_leaf] 1.098\n",
       "\\item[\\$lambda\\_l1] 0.1365\n",
       "\\item[\\$lambda\\_l2] 1.48141796070764\n",
       "\\item[\\$max\\_bin] 31\n",
       "\\item[\\$bagging\\_fraction] 0.694333171192639\n",
       "\\item[\\$pos\\_bagging\\_fraction] 1\n",
       "\\item[\\$neg\\_bagging\\_fraction] 0.1812163\n",
       "\\item[\\$is\\_unbalance] FALSE\n",
       "\\item[\\$scale\\_pos\\_weight] 4.268\n",
       "\\item[\\$drop\\_rate] 0.132404466937982\n",
       "\\item[\\$max\\_drop] 50\n",
       "\\item[\\$skip\\_drop] 0.5\n",
       "\\item[\\$extra\\_trees] TRUE\n",
       "\\item[\\$num\\_iterations] 1271\n",
       "\\item[\\$learning\\_rate] 0.0102\n",
       "\\item[\\$feature\\_fraction] 0.58\n",
       "\\item[\\$num\\_leaves] 51\n",
       "\\item[\\$min\\_data\\_in\\_leaf] 500\n",
       "\\end{description}\n"
      ],
      "text/markdown": [
       "$boosting\n",
       ":   'gbdt'\n",
       "$objective\n",
       ":   'binary'\n",
       "$metric\n",
       ":   'auc'\n",
       "$first_metric_only\n",
       ":   FALSE\n",
       "$boost_from_average\n",
       ":   TRUE\n",
       "$feature_pre_filter\n",
       ":   FALSE\n",
       "$force_row_wise\n",
       ":   TRUE\n",
       "$verbosity\n",
       ":   -100\n",
       "$seed\n",
       ":   106109\n",
       "$max_depth\n",
       ":   -1\n",
       "$min_gain_to_split\n",
       ":   0.0486169367334499\n",
       "$min_sum_hessian_in_leaf\n",
       ":   1.098\n",
       "$lambda_l1\n",
       ":   0.1365\n",
       "$lambda_l2\n",
       ":   1.48141796070764\n",
       "$max_bin\n",
       ":   31\n",
       "$bagging_fraction\n",
       ":   0.694333171192639\n",
       "$pos_bagging_fraction\n",
       ":   1\n",
       "$neg_bagging_fraction\n",
       ":   0.1812163\n",
       "$is_unbalance\n",
       ":   FALSE\n",
       "$scale_pos_weight\n",
       ":   4.268\n",
       "$drop_rate\n",
       ":   0.132404466937982\n",
       "$max_drop\n",
       ":   50\n",
       "$skip_drop\n",
       ":   0.5\n",
       "$extra_trees\n",
       ":   TRUE\n",
       "$num_iterations\n",
       ":   1271\n",
       "$learning_rate\n",
       ":   0.0102\n",
       "$feature_fraction\n",
       ":   0.58\n",
       "$num_leaves\n",
       ":   51\n",
       "$min_data_in_leaf\n",
       ":   500\n",
       "\n",
       "\n"
      ],
      "text/plain": [
       "$boosting\n",
       "[1] \"gbdt\"\n",
       "\n",
       "$objective\n",
       "[1] \"binary\"\n",
       "\n",
       "$metric\n",
       "[1] \"auc\"\n",
       "\n",
       "$first_metric_only\n",
       "[1] FALSE\n",
       "\n",
       "$boost_from_average\n",
       "[1] TRUE\n",
       "\n",
       "$feature_pre_filter\n",
       "[1] FALSE\n",
       "\n",
       "$force_row_wise\n",
       "[1] TRUE\n",
       "\n",
       "$verbosity\n",
       "[1] -100\n",
       "\n",
       "$seed\n",
       "[1] 106109\n",
       "\n",
       "$max_depth\n",
       "[1] -1\n",
       "\n",
       "$min_gain_to_split\n",
       "[1] 0.04861694\n",
       "\n",
       "$min_sum_hessian_in_leaf\n",
       "[1] 1.098\n",
       "\n",
       "$lambda_l1\n",
       "[1] 0.1365\n",
       "\n",
       "$lambda_l2\n",
       "[1] 1.481418\n",
       "\n",
       "$max_bin\n",
       "[1] 31\n",
       "\n",
       "$bagging_fraction\n",
       "[1] 0.6943332\n",
       "\n",
       "$pos_bagging_fraction\n",
       "[1] 1\n",
       "\n",
       "$neg_bagging_fraction\n",
       "[1] 0.1812163\n",
       "\n",
       "$is_unbalance\n",
       "[1] FALSE\n",
       "\n",
       "$scale_pos_weight\n",
       "[1] 4.268\n",
       "\n",
       "$drop_rate\n",
       "[1] 0.1324045\n",
       "\n",
       "$max_drop\n",
       "[1] 50\n",
       "\n",
       "$skip_drop\n",
       "[1] 0.5\n",
       "\n",
       "$extra_trees\n",
       "[1] TRUE\n",
       "\n",
       "$num_iterations\n",
       "[1] 1271\n",
       "\n",
       "$learning_rate\n",
       "[1] 0.0102\n",
       "\n",
       "$feature_fraction\n",
       "[1] 0.58\n",
       "\n",
       "$num_leaves\n",
       "[1] 51\n",
       "\n",
       "$min_data_in_leaf\n",
       "[1] 500\n"
      ]
     },
     "metadata": {},
     "output_type": "display_data"
    }
   ],
   "source": [
    "param_final <- modifyList(PARAM$lgbm$param_fijos,\n",
    "  PARAM$out$lgbm$mejores_hiperparametros)\n",
    "\n",
    "param_final"
   ]
  },
  {
   "cell_type": "markdown",
   "metadata": {
    "id": "TZIYn4l95TBH"
   },
   "source": [
    "#### Training\n",
    "Genero el modelo final, siempre sobre TODOS los datos de  final_train, sin hacer ningun tipo de undersampling de la clase mayoritaria"
   ]
  },
  {
   "cell_type": "code",
   "execution_count": 79,
   "metadata": {
    "id": "vPLsd4mMRe4u"
   },
   "outputs": [],
   "source": [
    "# este punto es muy SUTIL  y será revisado en la Clase 05\n",
    "\n",
    "param_normalizado <- copy(param_final)\n",
    "param_normalizado$min_data_in_leaf <-  param_final$min_data_in_leaf / PARAM$trainingstrategy$undersampling"
   ]
  },
  {
   "cell_type": "code",
   "execution_count": 80,
   "metadata": {
    "id": "WRI_-taRwOXO"
   },
   "outputs": [],
   "source": [
    "  # entreno LightGBM\n",
    "\n",
    "  modelo_final <- lgb.train(\n",
    "    data= dtrain,\n",
    "    param= param_normalizado\n",
    "  )"
   ]
  },
  {
   "cell_type": "code",
   "execution_count": 81,
   "metadata": {
    "id": "_bkhnCvj0g3Q"
   },
   "outputs": [],
   "source": [
    "# ahora imprimo la importancia de variables\n",
    "\n",
    "tb_importancia <- as.data.table(lgb.importance(modelo_final))\n",
    "archivo_importancia <- \"impo.txt\"\n",
    "\n",
    "fwrite(tb_importancia,\n",
    "  file= archivo_importancia,\n",
    "  sep= \"\\t\"\n",
    ")"
   ]
  },
  {
   "cell_type": "code",
   "execution_count": 82,
   "metadata": {
    "id": "lZ3sLmbh0kFj"
   },
   "outputs": [],
   "source": [
    "# grabo a disco el modelo en un formato para seres humanos ... ponele ...\n",
    "\n",
    "lgb.save(modelo_final, \"modelo.txt\" )"
   ]
  },
  {
   "cell_type": "markdown",
   "metadata": {
    "id": "VEtp2--t5Ymg"
   },
   "source": [
    "### Scoring"
   ]
  },
  {
   "cell_type": "markdown",
   "metadata": {
    "id": "hI5008Mj5ZdI"
   },
   "source": [
    "Aplico el modelo final a los datos del futuro"
   ]
  },
  {
   "cell_type": "code",
   "execution_count": 83,
   "metadata": {
    "id": "PimBY3N_0ryP"
   },
   "outputs": [],
   "source": [
    "# aplico el modelo a los datos sin clase\n",
    "dfuture <- dataset[foto_mes == 202109]\n",
    "\n",
    "# aplico el modelo a los datos nuevos\n",
    "prediccion <- predict(\n",
    "  modelo_final,\n",
    "  data.matrix(dfuture[, campos_buenos, with= FALSE])\n",
    ")"
   ]
  },
  {
   "cell_type": "markdown",
   "metadata": {
    "id": "D26rNRh55gpw"
   },
   "source": [
    "#### Tabla Prediccion"
   ]
  },
  {
   "cell_type": "code",
   "execution_count": 84,
   "metadata": {
    "id": "RJwg7LHd11yu"
   },
   "outputs": [],
   "source": [
    "# tabla de prediccion\n",
    "\n",
    "tb_prediccion <- dfuture[, list(numero_de_cliente)]\n",
    "tb_prediccion[, prob := prediccion ]\n",
    "\n",
    "# grabo las probabilidad del modelo\n",
    "fwrite(tb_prediccion,\n",
    "  file= \"prediccion.txt\",\n",
    "  sep= \"\\t\"\n",
    ")"
   ]
  },
  {
   "cell_type": "markdown",
   "metadata": {
    "id": "jOt4eG_55ltv"
   },
   "source": [
    "Kaggle Competition Submit"
   ]
  },
  {
   "cell_type": "code",
   "execution_count": 85,
   "metadata": {
    "id": "gWW3tatE12je"
   },
   "outputs": [
    {
     "name": "stdout",
     "output_type": "stream",
     "text": [
      "Successfully submitted to Data Mining, Analista Sr 2025A \n",
      "Successfully submitted to Data Mining, Analista Sr 2025A \n",
      "Successfully submitted to Data Mining, Analista Sr 2025A \n",
      "Successfully submitted to Data Mining, Analista Sr 2025A \n",
      "Successfully submitted to Data Mining, Analista Sr 2025A \n"
     ]
    }
   ],
   "source": [
    "# genero archivos con los  \"envios\" mejores\n",
    "# suba TODOS los archivos a Kaggle\n",
    "\n",
    "# ordeno por probabilidad descendente\n",
    "setorder(tb_prediccion, -prob)\n",
    "\n",
    "dir.create(\"kaggle\")\n",
    "\n",
    "for (envios in PARAM$kaggle$cortes) {\n",
    "\n",
    "  tb_prediccion[, Predicted := 0L] # seteo inicial a 0\n",
    "  tb_prediccion[1:envios, Predicted := 1L] # marclo los primeros\n",
    "\n",
    "  archivo_kaggle <- paste0(\"./kaggle/KA\", PARAM$experimento, \"_\", envios, \".csv\")\n",
    "\n",
    "  # grabo el archivo\n",
    "  fwrite(tb_prediccion[, list(numero_de_cliente, Predicted)],\n",
    "    file= archivo_kaggle,\n",
    "    sep= \",\"\n",
    "  )\n",
    "\n",
    "  # subida a Kaggle, armo la linea de comando\n",
    "  comando <- \"kaggle competitions submit\"\n",
    "  competencia <- paste(\"-c\", PARAM$kaggle$competencia)\n",
    "  arch <- paste( \"-f\", archivo_kaggle)\n",
    "\n",
    "  mensaje <- paste0(\"-m 'envios=\", envios,\n",
    "  \"  semilla=\", PARAM$semilla_primigenia,\n",
    "    \"'\" )\n",
    "\n",
    "  linea <- paste( comando, competencia, arch, mensaje)\n",
    "\n",
    "  salida <- system(linea, intern=TRUE) # el submit a Kaggle\n",
    "  cat(salida, \"\\n\")\n",
    "}"
   ]
  },
  {
   "cell_type": "code",
   "execution_count": 86,
   "metadata": {
    "id": "B9tB2X4439Hg"
   },
   "outputs": [],
   "source": [
    "write_yaml( PARAM, file=\"PARAM.yml\")"
   ]
  },
  {
   "cell_type": "code",
   "execution_count": 87,
   "metadata": {
    "id": "9zA_W25c15DP"
   },
   "outputs": [
    {
     "data": {
      "text/html": [
       "'Thu Jul 31 02:55:16 2025'"
      ],
      "text/latex": [
       "'Thu Jul 31 02:55:16 2025'"
      ],
      "text/markdown": [
       "'Thu Jul 31 02:55:16 2025'"
      ],
      "text/plain": [
       "[1] \"Thu Jul 31 02:55:16 2025\""
      ]
     },
     "metadata": {},
     "output_type": "display_data"
    }
   ],
   "source": [
    "format(Sys.time(), \"%a %b %d %X %Y\")"
   ]
  },
  {
   "cell_type": "markdown",
   "metadata": {
    "id": "UdVZucdLHzZ0"
   },
   "source": [
    "Finalmente usted deberá cargar el resultado de su corrida en la Google Sheet Colaborativa,  hoja **TareaHogar04**\n",
    "<br> Siéntase libre de agregar las columnas que hagan falta a la planilla"
   ]
  },
  {
   "cell_type": "code",
   "execution_count": null,
   "metadata": {
    "id": "WMHh7uNVIJkT"
   },
   "outputs": [],
   "source": []
  },
  {
   "cell_type": "code",
   "execution_count": null,
   "metadata": {},
   "outputs": [],
   "source": []
  },
  {
   "cell_type": "code",
   "execution_count": null,
   "metadata": {},
   "outputs": [],
   "source": []
  },
  {
   "cell_type": "code",
   "execution_count": null,
   "metadata": {},
   "outputs": [],
   "source": []
  },
  {
   "cell_type": "code",
   "execution_count": null,
   "metadata": {},
   "outputs": [],
   "source": []
  },
  {
   "cell_type": "code",
   "execution_count": null,
   "metadata": {},
   "outputs": [],
   "source": []
  },
  {
   "cell_type": "code",
   "execution_count": null,
   "metadata": {},
   "outputs": [],
   "source": []
  }
 ],
 "metadata": {
  "colab": {
   "provenance": []
  },
  "kernelspec": {
   "display_name": "R",
   "language": "R",
   "name": "ir"
  },
  "language_info": {
   "codemirror_mode": "r",
   "file_extension": ".r",
   "mimetype": "text/x-r-source",
   "name": "R",
   "pygments_lexer": "r",
   "version": "4.4.3"
  }
 },
 "nbformat": 4,
 "nbformat_minor": 4
}
