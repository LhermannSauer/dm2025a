{
 "cells": [
  {
   "cell_type": "markdown",
   "metadata": {
    "id": "0cEmzeUKFkPh"
   },
   "source": [
    "# Tarea para el Hogar 04"
   ]
  },
  {
   "cell_type": "markdown",
   "metadata": {
    "id": "nSICPpyTGQmC"
   },
   "source": [
    "Esta Tarea para el Hogar 02 se entrega el final de la cuarta clase\n",
    "<br> se espera de usted que intente avanzar con los desafios propuestos y que los traiga terminados para la Clase 05 que será el viernes 01-agosto"
   ]
  },
  {
   "cell_type": "markdown",
   "metadata": {
    "id": "DenyKXkiJ5JN"
   },
   "source": [
    "##  1. Cazatalentos"
   ]
  },
  {
   "cell_type": "markdown",
   "metadata": {
    "id": "l-K2_ZsZGrVD"
   },
   "source": [
    "En la Clase 03 nos hemos enfrentado a  \"La Maldicion del Ganandor\",  elegir el modelo con el mejor puntaje simple no suele ser la mejor estrategia.\n",
    "<br> Lea y ejecute el notebook  **src/CazaTalentos/CazaTalentos.ipynb**\n",
    "<br> en caso de interesarle, participe del Desafío Ordenamiento  que vence el sábado 02 de agosto a las 19:00"
   ]
  },
  {
   "cell_type": "markdown",
   "metadata": {
    "id": "K9GkTOk5J9t3"
   },
   "source": [
    "## 2. Hiperparámetros del LightGBM"
   ]
  },
  {
   "cell_type": "markdown",
   "metadata": {
    "id": "VmEFy0ukKL5T"
   },
   "source": [
    "Los objetivos de esta tarea son:\n",
    "\n",
    "\n",
    "*   Aumentar la rentabilidad de la campaña de marketing de retención proactiva de clientes.\n",
    "*   Generar un mejor modelo optimizando sus hiperparámetros\n",
    "*   Conceptual : investigar los mas relevantes hiperparámetros de LightGBM\n",
    "*   Familiarizarse con la Bayesian Optimization, sus largos tiempos de corrida y opciones para reducirlos\n",
    "*   Familiarizarse con el uso de máquinas virtuales de Google Colab\n",
    "*   Ver un pipeline completo de optimización de hiperparámetros y puesta en producción"
   ]
  },
  {
   "cell_type": "markdown",
   "metadata": {
    "id": "5yvlS6JQLRMd"
   },
   "source": [
    "LightGBM cuenta con mas de 60 hiperparámetros, siendo posible utilizar 40 al mismo tiempo, aunque no razonable.\n",
    "<br> La documentación oficial de los hiperparámetros de LightGBM es  https://lightgbm.readthedocs.io/en/latest/Parameters.html#core-parameters\n"
   ]
  },
  {
   "cell_type": "markdown",
   "metadata": {
    "id": "eydI4YNAsFaf"
   },
   "source": [
    "Se lo alerta sobre que una Optimizacion Bayesiana lleva varias horas de corrida, y usted deberá correr VARIAS optimizaciones para descubrir cuales parámetros conviene optimizar.\n",
    "<br> A pesar que la próxima clase es recien en viernes 01 de agosto, inicie la tarea con tiempo, aprenda a planificar estratégicamente sus corridas como un@ científ@  de datos."
   ]
  },
  {
   "cell_type": "markdown",
   "metadata": {
    "id": "RzU4S0SeMcpp"
   },
   "source": [
    "Es necesario investigar cuales son los hiperparámetros de LightGBM que vale la pena optimizar en una Bayesian Optimization, ya que los realmente utiles son apenas un reducido subconjunto.\n",
    "<br>Usted deberá investigar cuales son los hiperparámetros mas relevantes de LightGBM, su primer alternativa es preguntándole a su amigo con capacidades especiales ChatGPT o sus endogámicos familiares Claude, DeepSeek, Gemini, Grok, etc\n",
    "<br> La segunda alternativa es la propia documentación de LightGBM  https://lightgbm.readthedocs.io/en/latest/Parameters-Tuning.html\n"
   ]
  },
  {
   "cell_type": "markdown",
   "metadata": {
    "id": "LNptUgI_NWWG"
   },
   "source": [
    "Adicionalmente podra buscar información como la que proveen esta diminuta muestra aleatoria de artículos ligeros:\n",
    "*  https://medium.com/@sarahzouinina/a-deep-dive-into-lightgbm-how-to-choose-and-tune-parameters-7c584945842e\n",
    "*  https://www.kaggle.com/code/somang1418/tuning-hyperparameters-under-10-minutes-lgbm\n",
    "*  https://towardsdatascience.com/beginners-guide-to-the-must-know-lightgbm-hyperparameters-a0005a812702/\n",
    "\n",
    "\n",
    "<br>  La muestra anterior se brinda a modo de ejemplo, usted deberá buscar muuuuchas  fuentes adicionales de información\n",
    "<br> Tenga presente que LightGBM es el estado del arte en modelado predictivo para datasets estructurado, que son el 90% del trabajo del 95% de los Data Scientists en Argentina."
   ]
  },
  {
   "cell_type": "markdown",
   "metadata": {
    "id": "WpUThBojODyK"
   },
   "source": [
    "El desafío de esta tarea es:\n",
    "* Qué hiperparparámetros conviene optimizar?  Las recomendaciones de los artículos ligeros es siempre sensata?  Sus autores realmente hicieron experimentos o son siemplemente escritores de entretenimiento carente de base científica?\n",
    "* Elegidos los hiperparámetros, cual es el  <desde, hasta> que se debe utilizar en la Bayesian Optimization ?\n",
    "* Realmente vale la pena optimizar 10 o 16 hiperparámetros al mismo tiempo ?  No resulta contraproducente una búsqueda en un espacio de tal alta dimensionalidad ?"
   ]
  },
  {
   "cell_type": "markdown",
   "metadata": {
    "id": "PX0qg_c0yqob"
   },
   "source": [
    "#### 2.1  Seteo del ambiente en Google Colab"
   ]
  },
  {
   "cell_type": "markdown",
   "metadata": {
    "id": "NGY7H9xza7Zr"
   },
   "source": [
    "Esta parte se debe correr con el runtime en Python3\n",
    "<br>Ir al menu, Runtime -> Change Runtime Type -> Runtime type ->  **Python 3**"
   ]
  },
  {
   "cell_type": "markdown",
   "metadata": {
    "id": "7PupIBNba7Zr"
   },
   "source": [
    "Conectar la virtual machine donde esta corriendo Google Colab con el  Google Drive, para poder tener persistencia de archivos"
   ]
  },
  {
   "cell_type": "code",
   "execution_count": null,
   "metadata": {
    "id": "9LpZCst5a7Zs"
   },
   "outputs": [],
   "source": [
    "# primero establecer el Runtime de Python 3\n",
    "from google.colab import drive\n",
    "drive.mount('/content/.drive')"
   ]
  },
  {
   "cell_type": "markdown",
   "metadata": {
    "id": "JYC_F-wla7Zs"
   },
   "source": [
    "Para correr la siguiente celda es fundamental en Arranque en Frio haber copiado el archivo kaggle.json al Google Drive, en la carpeta indicada en el instructivo\n",
    "\n",
    "<br>los siguientes comando estan en shell script de Linux\n",
    "*   Crear las carpetas en el Google Drive\n",
    "*   \"instalar\" el archivo kaggle.json desde el Google Drive a la virtual machine para que pueda ser utilizado por la libreria  kaggle de Python\n",
    "*   Bajar el  **dataset_pequeno**  al  Google Drive  y tambien al disco local de la virtual machine que esta corriendo Google Colab\n",
    "\n"
   ]
  },
  {
   "cell_type": "code",
   "execution_count": null,
   "metadata": {
    "id": "XWLelftXa7Zt"
   },
   "outputs": [],
   "source": [
    "%%shell\n",
    "\n",
    "mkdir -p \"/content/.drive/My Drive/dm\"\n",
    "mkdir -p \"/content/buckets\"\n",
    "ln -s \"/content/.drive/My Drive/dm\" /content/buckets/b1\n",
    "\n",
    "mkdir -p ~/.kaggle\n",
    "cp /content/buckets/b1/kaggle/kaggle.json  ~/.kaggle\n",
    "chmod 600 ~/.kaggle/kaggle.json\n",
    "\n",
    "\n",
    "mkdir -p /content/buckets/b1/exp\n",
    "mkdir -p /content/buckets/b1/datasets\n",
    "mkdir -p /content/datasets\n",
    "\n",
    "\n",
    "\n",
    "archivo_origen=\"https://storage.googleapis.com/open-courses/itba2025-8d0a/dataset_pequeno.csv\"\n",
    "archivo_destino=\"/content/datasets/dataset_pequeno.csv\"\n",
    "archivo_destino_bucket=\"/content/buckets/b1/datasets/dataset_pequeno.csv\"\n",
    "\n",
    "if ! test -f $archivo_destino_bucket; then\n",
    "  wget  $archivo_origen  -O $archivo_destino_bucket\n",
    "fi\n",
    "\n",
    "\n",
    "if ! test -f $archivo_destino; then\n",
    "  cp  $archivo_destino_bucket  $archivo_destino\n",
    "fi\n"
   ]
  },
  {
   "cell_type": "markdown",
   "metadata": {
    "id": "oSKhZRToy2F7"
   },
   "source": [
    "### 2.2 Optimizacion Hiperparámetros"
   ]
  },
  {
   "cell_type": "markdown",
   "metadata": {
    "id": "2kwPpHAtSmix"
   },
   "source": [
    "Esta parte se debe correr con el runtime en lenguaje R Ir al menu, Runtime -> Change Runtime Type -> Runtime type -> R"
   ]
  },
  {
   "cell_type": "markdown",
   "metadata": {
    "id": "xp4-Bj3aYI8d"
   },
   "source": [
    "### 2.2.1 Inicio"
   ]
  },
  {
   "cell_type": "markdown",
   "metadata": {
    "id": "zy8YTZfESxeJ"
   },
   "source": [
    "limpio el ambiente de R"
   ]
  },
  {
   "cell_type": "code",
   "execution_count": 1,
   "metadata": {
    "id": "gBq__iAdQliq"
   },
   "outputs": [
    {
     "data": {
      "text/html": [
       "'Tue Jul 29 02:32:36 2025'"
      ],
      "text/latex": [
       "'Tue Jul 29 02:32:36 2025'"
      ],
      "text/markdown": [
       "'Tue Jul 29 02:32:36 2025'"
      ],
      "text/plain": [
       "[1] \"Tue Jul 29 02:32:36 2025\""
      ]
     },
     "metadata": {},
     "output_type": "display_data"
    }
   ],
   "source": [
    "format(Sys.time(), \"%a %b %d %X %Y\")"
   ]
  },
  {
   "cell_type": "code",
   "execution_count": 2,
   "metadata": {
    "id": "7rdVrBojS1IV"
   },
   "outputs": [
    {
     "data": {
      "text/html": [
       "<table class=\"dataframe\">\n",
       "<caption>A matrix: 2 × 6 of type dbl</caption>\n",
       "<thead>\n",
       "\t<tr><th></th><th scope=col>used</th><th scope=col>(Mb)</th><th scope=col>gc trigger</th><th scope=col>(Mb)</th><th scope=col>max used</th><th scope=col>(Mb)</th></tr>\n",
       "</thead>\n",
       "<tbody>\n",
       "\t<tr><th scope=row>Ncells</th><td> 656930</td><td>35.1</td><td>1439374</td><td>76.9</td><td>1431351</td><td>76.5</td></tr>\n",
       "\t<tr><th scope=row>Vcells</th><td>1225015</td><td> 9.4</td><td>8388608</td><td>64.0</td><td>1924969</td><td>14.7</td></tr>\n",
       "</tbody>\n",
       "</table>\n"
      ],
      "text/latex": [
       "A matrix: 2 × 6 of type dbl\n",
       "\\begin{tabular}{r|llllll}\n",
       "  & used & (Mb) & gc trigger & (Mb) & max used & (Mb)\\\\\n",
       "\\hline\n",
       "\tNcells &  656930 & 35.1 & 1439374 & 76.9 & 1431351 & 76.5\\\\\n",
       "\tVcells & 1225015 &  9.4 & 8388608 & 64.0 & 1924969 & 14.7\\\\\n",
       "\\end{tabular}\n"
      ],
      "text/markdown": [
       "\n",
       "A matrix: 2 × 6 of type dbl\n",
       "\n",
       "| <!--/--> | used | (Mb) | gc trigger | (Mb) | max used | (Mb) |\n",
       "|---|---|---|---|---|---|---|\n",
       "| Ncells |  656930 | 35.1 | 1439374 | 76.9 | 1431351 | 76.5 |\n",
       "| Vcells | 1225015 |  9.4 | 8388608 | 64.0 | 1924969 | 14.7 |\n",
       "\n"
      ],
      "text/plain": [
       "       used    (Mb) gc trigger (Mb) max used (Mb)\n",
       "Ncells  656930 35.1 1439374    76.9 1431351  76.5\n",
       "Vcells 1225015  9.4 8388608    64.0 1924969  14.7"
      ]
     },
     "metadata": {},
     "output_type": "display_data"
    }
   ],
   "source": [
    "# limpio la memoria\n",
    "rm(list=ls(all.names=TRUE)) # remove all objects\n",
    "gc(full=TRUE, verbose=FALSE) # garbage collection"
   ]
  },
  {
   "cell_type": "markdown",
   "metadata": {
    "id": "kuPfQ7ksjwW3"
   },
   "source": [
    "### 2.2.2 Carga de Librerias"
   ]
  },
  {
   "cell_type": "code",
   "execution_count": 3,
   "metadata": {
    "id": "lVyxLaJ1j1J_"
   },
   "outputs": [
    {
     "name": "stderr",
     "output_type": "stream",
     "text": [
      "Loading required package: data.table\n",
      "\n",
      "Loading required package: parallel\n",
      "\n",
      "Loading required package: primes\n",
      "\n",
      "Loading required package: rlist\n",
      "\n",
      "Loading required package: yaml\n",
      "\n",
      "Loading required package: lightgbm\n",
      "\n",
      "Loading required package: DiceKriging\n",
      "\n",
      "Loading required package: mlrMBO\n",
      "\n",
      "Loading required package: mlr\n",
      "\n",
      "Loading required package: ParamHelpers\n",
      "\n",
      "Loading required package: smoof\n",
      "\n",
      "Loading required package: checkmate\n",
      "\n",
      "\n",
      "Attaching package: ‘checkmate’\n",
      "\n",
      "\n",
      "The following object is masked from ‘package:DiceKriging’:\n",
      "\n",
      "    checkNames\n",
      "\n",
      "\n"
     ]
    }
   ],
   "source": [
    "# cargo las librerias que necesito\n",
    "require(\"data.table\")\n",
    "require(\"parallel\")\n",
    "\n",
    "if( !require(\"primes\") ) install.packages(\"primes\")\n",
    "require(\"primes\")\n",
    "\n",
    "if( !require(\"utils\") ) install.packages(\"utils\")\n",
    "require(\"utils\")\n",
    "\n",
    "if( !require(\"rlist\") ) install.packages(\"rlist\")\n",
    "require(\"rlist\")\n",
    "\n",
    "if( !require(\"yaml\")) install.packages(\"yaml\")\n",
    "require(\"yaml\")\n",
    "\n",
    "if( !require(\"lightgbm\") ) install.packages(\"lightgbm\")\n",
    "require(\"lightgbm\")\n",
    "\n",
    "if( !require(\"DiceKriging\") ) install.packages(\"DiceKriging\")\n",
    "require(\"DiceKriging\")\n",
    "\n",
    "if( !require(\"mlrMBO\") ) install.packages(\"mlrMBO\")\n",
    "require(\"mlrMBO\")"
   ]
  },
  {
   "cell_type": "markdown",
   "metadata": {
    "id": "Iz-6Qt6BUaA3"
   },
   "source": [
    "### 2.2.3 Definicion de Parametros"
   ]
  },
  {
   "cell_type": "markdown",
   "metadata": {
    "id": "cOdlKd7lUm2I"
   },
   "source": [
    "aqui debe cargar SU semilla primigenia\n",
    "<br>recuerde cambiar el numero de experimento en cada corrida nueva"
   ]
  },
  {
   "cell_type": "code",
   "execution_count": 13,
   "metadata": {
    "id": "ASYkebOu2mF6"
   },
   "outputs": [],
   "source": [
    "PARAM <- list()\n",
    "PARAM$experimento <- \"4940_01_long\"\n",
    "PARAM$semilla_primigenia <- 106109\n"
   ]
  },
  {
   "cell_type": "code",
   "execution_count": 14,
   "metadata": {
    "id": "ezOhQdbA293o"
   },
   "outputs": [],
   "source": [
    "PARAM$kaggle$competencia <- \"data-mining-analista-sr-2025-a\"\n",
    "PARAM$kaggle$cortes <- seq(10000, 12000, by= 500)"
   ]
  },
  {
   "cell_type": "code",
   "execution_count": 15,
   "metadata": {
    "id": "jtB0Lub42rHO"
   },
   "outputs": [],
   "source": [
    "# un undersampling de 0.1  toma solo el 10% de los CONTINUA\n",
    "# undersampling de 1.0  implica tomar TODOS los datos\n",
    "\n",
    "PARAM$trainingstrategy$undersampling <- 0.5"
   ]
  },
  {
   "cell_type": "code",
   "execution_count": 16,
   "metadata": {
    "id": "OFxm-xiNUOJX"
   },
   "outputs": [],
   "source": [
    "# Parametros LightGBM\n",
    "\n",
    "PARAM$hyperparametertuning$xval_folds <- 5\n",
    "\n",
    "# parametros fijos del LightGBM que se pisaran con la parte variable de la BO\n",
    "PARAM$lgbm$param_fijos <-  list(\n",
    "  boosting= \"gbdt\", # puede ir  dart  , ni pruebe random_forest\n",
    "  objective= \"binary\",\n",
    "  metric= \"auc\",\n",
    "  first_metric_only= FALSE,\n",
    "  boost_from_average= TRUE,\n",
    "  feature_pre_filter= FALSE,\n",
    "  force_row_wise= TRUE, # para reducir warnings\n",
    "  verbosity= -100,\n",
    "\n",
    "  seed= PARAM$semilla_primigenia,\n",
    "\n",
    "  max_depth= -1L, # -1 significa no limitar,  por ahora lo dejo fijo\n",
    "  min_gain_to_split= 0, # min_gain_to_split >= 0\n",
    "  min_sum_hessian_in_leaf= 0.001, #  min_sum_hessian_in_leaf >= 0.0\n",
    "  lambda_l1= 0.0, # lambda_l1 >= 0.0\n",
    "  lambda_l2= 0.0, # lambda_l2 >= 0.0\n",
    "  max_bin= 31L, # lo debo dejar fijo, no participa de la BO\n",
    "\n",
    "  bagging_fraction= 1.0, # 0.0 < bagging_fraction <= 1.0\n",
    "  pos_bagging_fraction= 1.0, # 0.0 < pos_bagging_fraction <= 1.0\n",
    "  neg_bagging_fraction= 1.0, # 0.0 < neg_bagging_fraction <= 1.0\n",
    "  is_unbalance= FALSE, #\n",
    "  scale_pos_weight= 1.0, # scale_pos_weight > 0.0\n",
    "\n",
    "  drop_rate= 0.1, # 0.0 < neg_bagging_fraction <= 1.0\n",
    "  max_drop= 50, # <=0 means no limit\n",
    "  skip_drop= 0.5, # 0.0 <= skip_drop <= 1.0\n",
    "\n",
    "  extra_trees= FALSE,\n",
    "\n",
    "  num_iterations= 1200,\n",
    "  learning_rate= 0.0365,\n",
    "  feature_fraction= 0.40,\n",
    "  num_leaves= 17,\n",
    "  min_data_in_leaf= 694\n",
    ")\n"
   ]
  },
  {
   "cell_type": "markdown",
   "metadata": {
    "id": "D5Yj-JV4yvOt"
   },
   "source": [
    "Aqui se definen los hiperparámetros de LightGBM que participan de la Bayesian Optimization\n",
    "<br> si es un numero entero debe ir  makeIntegerParam\n",
    "<br> si es un numero real (con decimales) debe ir  makeNumericParam\n",
    "<br> es muy importante leer cuales son un lower y upper  permitidos y ademas razonables"
   ]
  },
  {
   "cell_type": "code",
   "execution_count": 25,
   "metadata": {
    "id": "jENpR26ZyuS8"
   },
   "outputs": [],
   "source": [
    "# Aqui se cargan los bordes de los hiperparametros de la BO\n",
    "PARAM$hypeparametertuning$hs <- makeParamSet(\n",
    "  makeIntegerParam(\"num_iterations\", lower= 8L, upper= 2048L),\n",
    "  makeNumericParam(\"learning_rate\", lower= 0.005, upper= 0.3),\n",
    "  makeNumericParam(\"feature_fraction\", lower= 0.4, upper= 0.8),\n",
    "  makeIntegerParam(\"num_leaves\", lower= 16L, upper= 128),\n",
    "  makeIntegerParam(\"min_data_in_leaf\", lower= 100L, upper= 2000L),\n",
    "  makeIntegerParam(\"scale_post_weight\", lower = 1L, upper= 200L),\n",
    "  makeNumericParam(\"lambda_l1\", lower=0, upper=.5)\n",
    "  #makeNumericParam(\"lambda_l2\", lower=0, upper=.5),\n",
    "  #makeNumericParam(\"bagging_fraction\", lower=.6, upper=.95),\n",
    "  # makeNumericParam(\"pos_bagging_fraction\", lower=0, upper=.5),\n",
    "  # makeNumericParam(\"neg_bagging_fraction\", lower=0, upper=.5),\n",
    "  #makeIntegerParam(\"bagging_freq\", lower=3, upper=10)\n",
    "  \n",
    ")"
   ]
  },
  {
   "cell_type": "markdown",
   "metadata": {
    "id": "-_RPFUb3zMoW"
   },
   "source": [
    "A mayor cantidad de hiperparámetros, se debe aumentar las iteraciones de la Bayesian Optimization\n",
    "<br> 30 es un valor muy tacaño, pero corre rápido\n",
    "<br> deberia partir de 50, alcanzando los 100 si se dispone de tiempo"
   ]
  },
  {
   "cell_type": "code",
   "execution_count": 29,
   "metadata": {
    "id": "q5Rd3pnbzSiG"
   },
   "outputs": [],
   "source": [
    "PARAM$hyperparametertuning$iteraciones <- 100 # iteraciones bayesianas"
   ]
  },
  {
   "cell_type": "markdown",
   "metadata": {
    "id": "4RWZXL1VZjMI"
   },
   "source": [
    "### 2.2.4  Preprocesamiento"
   ]
  },
  {
   "cell_type": "code",
   "execution_count": 30,
   "metadata": {
    "id": "j3toG9-lZm4K"
   },
   "outputs": [],
   "source": [
    "# carpeta de trabajo\n",
    "\n",
    "setwd(\"/content/buckets/b1/exp\")\n",
    "experimento_folder <- paste0(\"HT\", PARAM$experimento)\n",
    "dir.create(experimento_folder, showWarnings=FALSE)\n",
    "setwd( paste0(\"/content/buckets/b1/exp/\", experimento_folder ))"
   ]
  },
  {
   "cell_type": "code",
   "execution_count": 31,
   "metadata": {
    "id": "FM3lxKoLZ643"
   },
   "outputs": [],
   "source": [
    "# lectura del dataset\n",
    "\n",
    "dataset <- fread(\"/content/datasets/dataset_pequeno.csv\")"
   ]
  },
  {
   "cell_type": "code",
   "execution_count": 32,
   "metadata": {
    "id": "OsJ-91UeZ-I_"
   },
   "outputs": [],
   "source": [
    "dataset_train <- dataset[foto_mes %in% c(202107)]"
   ]
  },
  {
   "cell_type": "code",
   "execution_count": 33,
   "metadata": {
    "id": "vrWE7BE0aB2J"
   },
   "outputs": [],
   "source": [
    "# paso la clase a binaria que tome valores {0,1}  enteros\n",
    "#  BAJA+1 y BAJA+2  son  1,   CONTINUA es 0\n",
    "\n",
    "dataset_train[,\n",
    "  clase01 := ifelse(clase_ternaria %in% c(\"BAJA+2\",\"BAJA+1\"), 1L, 0L)\n",
    "]"
   ]
  },
  {
   "cell_type": "code",
   "execution_count": 34,
   "metadata": {
    "id": "jP7YlQBnaW6W"
   },
   "outputs": [],
   "source": [
    "# defino los datos que forma parte del training\n",
    "# aqui se hace el undersampling de los CONTINUA\n",
    "# notar que para esto utilizo la SEGUNDA semilla\n",
    "\n",
    "set.seed(PARAM$semilla_primigenia, kind = \"L'Ecuyer-CMRG\")\n",
    "dataset_train[, azar := runif(nrow(dataset_train))]\n",
    "dataset_train[, training := 0L]\n",
    "\n",
    "dataset_train[\n",
    "  foto_mes %in% c(202107) &\n",
    "    (azar <= PARAM$trainingstrategy$undersampling | clase_ternaria %in% c(\"BAJA+1\", \"BAJA+2\")),\n",
    "  training := 1L\n",
    "]"
   ]
  },
  {
   "cell_type": "code",
   "execution_count": 35,
   "metadata": {
    "id": "xElu4s5W4rX7"
   },
   "outputs": [],
   "source": [
    "# los campos que se van a utilizar\n",
    "\n",
    "campos_buenos <- setdiff(\n",
    "  colnames(dataset_train),\n",
    "  c(\"clase_ternaria\", \"clase01\", \"azar\", \"training\")\n",
    ")"
   ]
  },
  {
   "cell_type": "code",
   "execution_count": 36,
   "metadata": {
    "id": "PppMHcGYaaol"
   },
   "outputs": [
    {
     "data": {
      "text/html": [
       "83237"
      ],
      "text/latex": [
       "83237"
      ],
      "text/markdown": [
       "83237"
      ],
      "text/plain": [
       "[1] 83237"
      ]
     },
     "metadata": {},
     "output_type": "display_data"
    },
    {
     "data": {
      "text/html": [
       "154"
      ],
      "text/latex": [
       "154"
      ],
      "text/markdown": [
       "154"
      ],
      "text/plain": [
       "[1] 154"
      ]
     },
     "metadata": {},
     "output_type": "display_data"
    }
   ],
   "source": [
    "# dejo los datos en el formato que necesita LightGBM\n",
    "\n",
    "dtrain <- lgb.Dataset(\n",
    "  data= data.matrix(dataset_train[training == 1L, campos_buenos, with= FALSE]),\n",
    "  label= dataset_train[training == 1L, clase01],\n",
    "  free_raw_data= FALSE\n",
    ")\n",
    "\n",
    "nrow(dtrain)\n",
    "ncol(dtrain)"
   ]
  },
  {
   "cell_type": "markdown",
   "metadata": {
    "id": "Ta-EkOu3cphF"
   },
   "source": [
    "2.2.5 Configuracion Bayesian Optimization"
   ]
  },
  {
   "cell_type": "code",
   "execution_count": 37,
   "metadata": {
    "id": "cjgfurjdfiXb"
   },
   "outputs": [],
   "source": [
    "# En el argumento x llegan los parmaetros de la bayesiana\n",
    "#  devuelve la AUC en cross validation del modelo entrenado\n",
    "\n",
    "EstimarGanancia_AUC_lightgbm <- function(x) {\n",
    "\n",
    "  # x pisa (o agrega) a param_fijos\n",
    "  param_completo <- modifyList(PARAM$lgbm$param_fijos, x)\n",
    "\n",
    "  # entreno LightGBM\n",
    "  modelocv <- lgb.cv(\n",
    "    data= dtrain,\n",
    "    nfold= PARAM$hyperparametertuning$xval_folds,\n",
    "    stratified= TRUE,\n",
    "    param= param_completo\n",
    "  )\n",
    "\n",
    "  # obtengo la ganancia\n",
    "  AUC <- modelocv$best_score\n",
    "\n",
    "  # hago espacio en la memoria\n",
    "  rm(modelocv)\n",
    "  gc(full= TRUE, verbose= FALSE)\n",
    "\n",
    "  message(format(Sys.time(), \"%a %b %d %X %Y\"), \" AUC \", AUC)\n",
    "\n",
    "  return(AUC)\n",
    "}"
   ]
  },
  {
   "cell_type": "code",
   "execution_count": 38,
   "metadata": {
    "id": "WLi_o1hocvN-"
   },
   "outputs": [],
   "source": [
    "# Aqui comienza la configuracion de la Bayesian Optimization\n",
    "\n",
    "# en este archivo quedan la evolucion binaria de la BO\n",
    "kbayesiana <- \"bayesiana.RDATA\"\n",
    "\n",
    "funcion_optimizar <- EstimarGanancia_AUC_lightgbm # la funcion que voy a maximizar\n",
    "\n",
    "configureMlr(show.learner.output= FALSE)\n",
    "\n",
    "# configuro la busqueda bayesiana,  los hiperparametros que se van a optimizar\n",
    "# por favor, no desesperarse por lo complejo\n",
    "\n",
    "obj.fun <- makeSingleObjectiveFunction(\n",
    "  fn= funcion_optimizar, # la funcion que voy a maximizar\n",
    "  minimize= FALSE, # estoy Maximizando la ganancia\n",
    "  noisy= TRUE,\n",
    "  par.set= PARAM$hypeparametertuning$hs, # definido al comienzo del programa\n",
    "  has.simple.signature= FALSE # paso los parametros en una lista\n",
    ")\n",
    "\n",
    "# cada 600 segundos guardo el resultado intermedio\n",
    "ctrl <- makeMBOControl(\n",
    "  save.on.disk.at.time= 600, # se graba cada 600 segundos\n",
    "  save.file.path= kbayesiana\n",
    ") # se graba cada 600 segundos\n",
    "\n",
    "# indico la cantidad de iteraciones que va a tener la Bayesian Optimization\n",
    "ctrl <- setMBOControlTermination(\n",
    "  ctrl,\n",
    "  iters= PARAM$hyperparametertuning$iteraciones\n",
    ") # cantidad de iteraciones\n",
    "\n",
    "# defino el método estandar para la creacion de los puntos iniciales,\n",
    "# los \"No Inteligentes\"\n",
    "ctrl <- setMBOControlInfill(ctrl, crit= makeMBOInfillCritEI())\n",
    "\n",
    "# establezco la funcion que busca el maximo\n",
    "surr.km <- makeLearner(\n",
    "  \"regr.km\",\n",
    "  predict.type= \"se\",\n",
    "  covtype= \"matern3_2\",\n",
    "  control= list(trace= TRUE)\n",
    ")\n"
   ]
  },
  {
   "cell_type": "markdown",
   "metadata": {
    "id": "_uUeVo5pc4zc"
   },
   "source": [
    "2.2.6 Corrida Bayesian Optimization"
   ]
  },
  {
   "cell_type": "code",
   "execution_count": 39,
   "metadata": {
    "id": "RcABNaKGciaz"
   },
   "outputs": [
    {
     "name": "stderr",
     "output_type": "stream",
     "text": [
      "Computing y column(s) for design. Not provided.\n",
      "\n",
      "Tue Jul 29 02:36:46 2025 AUC 0.926603277767875\n",
      "\n",
      "Tue Jul 29 02:37:57 2025 AUC 0.92596693271144\n",
      "\n",
      "Tue Jul 29 02:38:27 2025 AUC 0.927903487776839\n",
      "\n",
      "Tue Jul 29 02:39:17 2025 AUC 0.924918882356115\n",
      "\n",
      "Tue Jul 29 02:39:18 2025 AUC 0.920552552140104\n",
      "\n",
      "Tue Jul 29 02:40:28 2025 AUC 0.927012463239589\n",
      "\n",
      "Tue Jul 29 02:41:28 2025 AUC 0.927612590482183\n",
      "\n",
      "Tue Jul 29 02:42:07 2025 AUC 0.926198856522726\n",
      "\n",
      "Tue Jul 29 02:42:23 2025 AUC 0.924140357790424\n",
      "\n",
      "Tue Jul 29 02:43:52 2025 AUC 0.924060871010149\n",
      "\n",
      "Tue Jul 29 02:44:19 2025 AUC 0.925588387788019\n",
      "\n",
      "Tue Jul 29 02:46:16 2025 AUC 0.928528562789297\n",
      "\n",
      "Tue Jul 29 02:47:37 2025 AUC 0.926650041257885\n",
      "\n",
      "Tue Jul 29 02:48:38 2025 AUC 0.921450748588556\n",
      "\n",
      "Tue Jul 29 02:48:53 2025 AUC 0.926146821065687\n",
      "\n",
      "Tue Jul 29 02:50:30 2025 AUC 0.928999508703511\n",
      "\n",
      "Tue Jul 29 02:51:27 2025 AUC 0.917283787513309\n",
      "\n",
      "Tue Jul 29 02:52:24 2025 AUC 0.924179123407893\n",
      "\n",
      "Tue Jul 29 02:52:28 2025 AUC 0.92481890013514\n",
      "\n",
      "Tue Jul 29 02:52:45 2025 AUC 0.926262553187563\n",
      "\n",
      "Tue Jul 29 02:53:48 2025 AUC 0.926917581586052\n",
      "\n",
      "Tue Jul 29 02:54:31 2025 AUC 0.92834602418058\n",
      "\n",
      "Tue Jul 29 02:55:10 2025 AUC 0.922685648021112\n",
      "\n",
      "Tue Jul 29 02:55:22 2025 AUC 0.922974117575162\n",
      "\n",
      "Tue Jul 29 02:56:05 2025 AUC 0.928114483813947\n",
      "\n",
      "Tue Jul 29 02:57:22 2025 AUC 0.925634827121312\n",
      "\n",
      "Tue Jul 29 02:58:50 2025 AUC 0.922609752791995\n",
      "\n",
      "Tue Jul 29 02:59:03 2025 AUC 0.928760884715207\n",
      "\n",
      "[mbo] 0: num_iterations=1471; learning_rate=0.168; feature_fraction=0.521; num_leaves=99; min_data_in_leaf=1641; scale_post_weight=68; lambda_l1=0.334 : y = 0.927 : 83.2 secs : initdesign\n",
      "\n",
      "[mbo] 0: num_iterations=1865; learning_rate=0.147; feature_fraction=0.673; num_leaves=58; min_data_in_leaf=1337; scale_post_weight=62; lambda_l1=0.188 : y = 0.926 : 70.7 secs : initdesign\n",
      "\n",
      "[mbo] 0: num_iterations=741; learning_rate=0.0946; feature_fraction=0.688; num_leaves=34; min_data_in_leaf=906; scale_post_weight=7; lambda_l1=0.0734 : y = 0.928 : 30.0 secs : initdesign\n",
      "\n",
      "[mbo] 0: num_iterations=1417; learning_rate=0.233; feature_fraction=0.627; num_leaves=48; min_data_in_leaf=1131; scale_post_weight=174; lambda_l1=0.265 : y = 0.925 : 50.0 secs : initdesign\n",
      "\n",
      "[mbo] 0: num_iterations=17; learning_rate=0.242; feature_fraction=0.539; num_leaves=83; min_data_in_leaf=1980; scale_post_weight=77; lambda_l1=0.234 : y = 0.921 : 1.5 secs : initdesign\n",
      "\n",
      "[mbo] 0: num_iterations=1205; learning_rate=0.128; feature_fraction=0.434; num_leaves=120; min_data_in_leaf=540; scale_post_weight=163; lambda_l1=0.371 : y = 0.927 : 70.1 secs : initdesign\n",
      "\n",
      "[mbo] 0: num_iterations=942; learning_rate=0.0888; feature_fraction=0.572; num_leaves=75; min_data_in_leaf=980; scale_post_weight=87; lambda_l1=0.172 : y = 0.928 : 60.3 secs : initdesign\n",
      "\n",
      "[mbo] 0: num_iterations=1050; learning_rate=0.189; feature_fraction=0.643; num_leaves=37; min_data_in_leaf=458; scale_post_weight=120; lambda_l1=0.449 : y = 0.926 : 38.7 secs : initdesign\n",
      "\n",
      "[mbo] 0: num_iterations=324; learning_rate=0.258; feature_fraction=0.636; num_leaves=46; min_data_in_leaf=1230; scale_post_weight=19; lambda_l1=0.198 : y = 0.924 : 15.9 secs : initdesign\n",
      "\n",
      "[mbo] 0: num_iterations=1645; learning_rate=0.196; feature_fraction=0.478; num_leaves=41; min_data_in_leaf=1467; scale_post_weight=30; lambda_l1=0.219 : y = 0.924 : 89.3 secs : initdesign\n",
      "\n",
      "[mbo] 0: num_iterations=656; learning_rate=0.132; feature_fraction=0.665; num_leaves=115; min_data_in_leaf=1781; scale_post_weight=170; lambda_l1=0.393 : y = 0.926 : 26.9 secs : initdesign\n",
      "\n",
      "[mbo] 0: num_iterations=2005; learning_rate=0.0674; feature_fraction=0.551; num_leaves=29; min_data_in_leaf=677; scale_post_weight=86; lambda_l1=0.29 : y = 0.929 : 117.1 secs : initdesign\n",
      "\n",
      "[mbo] 0: num_iterations=583; learning_rate=0.159; feature_fraction=0.756; num_leaves=77; min_data_in_leaf=1816; scale_post_weight=134; lambda_l1=0.0483 : y = 0.927 : 80.5 secs : initdesign\n",
      "\n",
      "[mbo] 0: num_iterations=869; learning_rate=0.294; feature_fraction=0.42; num_leaves=88; min_data_in_leaf=843; scale_post_weight=56; lambda_l1=0.317 : y = 0.921 : 61.5 secs : initdesign\n",
      "\n",
      "[mbo] 0: num_iterations=251; learning_rate=0.0171; feature_fraction=0.514; num_leaves=54; min_data_in_leaf=1392; scale_post_weight=14; lambda_l1=0.158 : y = 0.926 : 14.7 secs : initdesign\n",
      "\n",
      "[mbo] 0: num_iterations=1715; learning_rate=0.0506; feature_fraction=0.444; num_leaves=123; min_data_in_leaf=1582; scale_post_weight=110; lambda_l1=0.42 : y = 0.929 : 96.5 secs : initdesign\n",
      "\n",
      "[mbo] 0: num_iterations=1173; learning_rate=0.271; feature_fraction=0.404; num_leaves=108; min_data_in_leaf=282; scale_post_weight=191; lambda_l1=0.141 : y = 0.917 : 57.3 secs : initdesign\n",
      "\n",
      "[mbo] 0: num_iterations=1932; learning_rate=0.21; feature_fraction=0.717; num_leaves=63; min_data_in_leaf=748; scale_post_weight=137; lambda_l1=0.0583 : y = 0.924 : 56.7 secs : initdesign\n",
      "\n",
      "[mbo] 0: num_iterations=81; learning_rate=0.222; feature_fraction=0.705; num_leaves=93; min_data_in_leaf=1033; scale_post_weight=100; lambda_l1=0.47 : y = 0.925 : 4.2 secs : initdesign\n",
      "\n",
      "[mbo] 0: num_iterations=486; learning_rate=0.174; feature_fraction=0.602; num_leaves=18; min_data_in_leaf=331; scale_post_weight=103; lambda_l1=0.0283 : y = 0.926 : 17.2 secs : initdesign\n",
      "\n",
      "[mbo] 0: num_iterations=1793; learning_rate=0.101; feature_fraction=0.734; num_leaves=102; min_data_in_leaf=576; scale_post_weight=128; lambda_l1=0.482 : y = 0.927 : 62.9 secs : initdesign\n",
      "\n",
      "[mbo] 0: num_iterations=664; learning_rate=0.0323; feature_fraction=0.468; num_leaves=66; min_data_in_leaf=1085; scale_post_weight=199; lambda_l1=0.00696 : y = 0.928 : 42.7 secs : initdesign\n",
      "\n",
      "[mbo] 0: num_iterations=1282; learning_rate=0.281; feature_fraction=0.795; num_leaves=71; min_data_in_leaf=1282; scale_post_weight=25; lambda_l1=0.285 : y = 0.923 : 39.7 secs : initdesign\n",
      "\n",
      "[mbo] 0: num_iterations=201; learning_rate=0.00813; feature_fraction=0.768; num_leaves=126; min_data_in_leaf=426; scale_post_weight=184; lambda_l1=0.341 : y = 0.923 : 11.9 secs : initdesign\n",
      "\n",
      "[mbo] 0: num_iterations=999; learning_rate=0.0741; feature_fraction=0.59; num_leaves=21; min_data_in_leaf=1709; scale_post_weight=149; lambda_l1=0.442 : y = 0.928 : 42.7 secs : initdesign\n",
      "\n",
      "[mbo] 0: num_iterations=1336; learning_rate=0.112; feature_fraction=0.558; num_leaves=109; min_data_in_leaf=210; scale_post_weight=41; lambda_l1=0.109 : y = 0.926 : 76.9 secs : initdesign\n",
      "\n",
      "[mbo] 0: num_iterations=1604; learning_rate=0.257; feature_fraction=0.486; num_leaves=87; min_data_in_leaf=1932; scale_post_weight=156; lambda_l1=0.105 : y = 0.923 : 88.4 secs : initdesign\n",
      "\n",
      "[mbo] 0: num_iterations=380; learning_rate=0.0419; feature_fraction=0.783; num_leaves=26; min_data_in_leaf=151; scale_post_weight=49; lambda_l1=0.386 : y = 0.929 : 12.5 secs : initdesign\n",
      "\n",
      "Saved the current state after iteration 1 in the file bayesiana.RDATA.\n",
      "\n",
      "Tue Jul 29 02:59:50 2025 AUC 0.928784246063612\n",
      "\n",
      "[mbo] 1: num_iterations=854; learning_rate=0.0502; feature_fraction=0.575; num_leaves=34; min_data_in_leaf=1083; scale_post_weight=101; lambda_l1=0.354 : y = 0.929 : 43.9 secs : infill_ei\n",
      "\n",
      "Tue Jul 29 03:01:28 2025 AUC 0.927972733904279\n",
      "\n",
      "[mbo] 2: num_iterations=1668; learning_rate=0.0571; feature_fraction=0.401; num_leaves=70; min_data_in_leaf=1093; scale_post_weight=179; lambda_l1=0.486 : y = 0.928 : 97.0 secs : infill_ei\n",
      "\n",
      "Tue Jul 29 03:02:59 2025 AUC 0.928618507087477\n",
      "\n",
      "[mbo] 3: num_iterations=1529; learning_rate=0.0598; feature_fraction=0.487; num_leaves=61; min_data_in_leaf=1309; scale_post_weight=139; lambda_l1=0.399 : y = 0.929 : 90.0 secs : infill_ei\n",
      "\n",
      "Tue Jul 29 03:03:27 2025 AUC 0.929915900437191\n",
      "\n",
      "[mbo] 4: num_iterations=993; learning_rate=0.0506; feature_fraction=0.727; num_leaves=16; min_data_in_leaf=757; scale_post_weight=161; lambda_l1=0.0331 : y = 0.93 : 27.7 secs : infill_ei\n",
      "\n",
      "Tue Jul 29 03:04:30 2025 AUC 0.930427567774056\n",
      "\n",
      "[mbo] 5: num_iterations=1466; learning_rate=0.0457; feature_fraction=0.767; num_leaves=39; min_data_in_leaf=781; scale_post_weight=64; lambda_l1=0.00457 : y = 0.93 : 61.6 secs : infill_ei\n",
      "\n",
      "Tue Jul 29 03:05:51 2025 AUC 0.92792379328239\n",
      "\n",
      "[mbo] 6: num_iterations=1885; learning_rate=0.0474; feature_fraction=0.797; num_leaves=43; min_data_in_leaf=1511; scale_post_weight=119; lambda_l1=0.00078 : y = 0.928 : 80.7 secs : infill_ei\n",
      "\n",
      "Tue Jul 29 03:06:24 2025 AUC 0.928088799284209\n",
      "\n",
      "[mbo] 7: num_iterations=1244; learning_rate=0.051; feature_fraction=0.728; num_leaves=19; min_data_in_leaf=288; scale_post_weight=37; lambda_l1=0.00567 : y = 0.928 : 31.7 secs : infill_ei\n",
      "\n",
      "Tue Jul 29 03:07:10 2025 AUC 0.930319082635836\n",
      "\n",
      "[mbo] 8: num_iterations=1074; learning_rate=0.0215; feature_fraction=0.799; num_leaves=44; min_data_in_leaf=750; scale_post_weight=130; lambda_l1=0.00609 : y = 0.93 : 45.1 secs : infill_ei\n",
      "\n",
      "Tue Jul 29 03:08:06 2025 AUC 0.930711582554651\n",
      "\n",
      "[mbo] 9: num_iterations=1420; learning_rate=0.0208; feature_fraction=0.72; num_leaves=37; min_data_in_leaf=863; scale_post_weight=167; lambda_l1=0.0218 : y = 0.931 : 55.4 secs : infill_ei\n",
      "\n",
      "Tue Jul 29 03:09:07 2025 AUC 0.928743320469958\n",
      "\n",
      "[mbo] 10: num_iterations=1431; learning_rate=0.0122; feature_fraction=0.8; num_leaves=43; min_data_in_leaf=1200; scale_post_weight=111; lambda_l1=0.0633 : y = 0.929 : 60.4 secs : infill_ei\n",
      "\n",
      "Saved the current state after iteration 11 in the file bayesiana.RDATA.\n",
      "\n",
      "Tue Jul 29 03:10:07 2025 AUC 0.928999946162628\n",
      "\n",
      "[mbo] 11: num_iterations=1410; learning_rate=0.0457; feature_fraction=0.728; num_leaves=39; min_data_in_leaf=720; scale_post_weight=189; lambda_l1=0.0356 : y = 0.929 : 56.0 secs : infill_ei\n",
      "\n",
      "Tue Jul 29 03:11:08 2025 AUC 0.930008303870324\n",
      "\n",
      "[mbo] 12: num_iterations=1492; learning_rate=0.00544; feature_fraction=0.624; num_leaves=26; min_data_in_leaf=876; scale_post_weight=115; lambda_l1=0.00015 : y = 0.93 : 59.9 secs : infill_ei\n",
      "\n",
      "Tue Jul 29 03:12:20 2025 AUC 0.93034069810049\n",
      "\n",
      "[mbo] 13: num_iterations=1469; learning_rate=0.0289; feature_fraction=0.601; num_leaves=38; min_data_in_leaf=811; scale_post_weight=110; lambda_l1=0.0424 : y = 0.93 : 71.2 secs : infill_ei\n",
      "\n",
      "Tue Jul 29 03:12:59 2025 AUC 0.929374429917456\n",
      "\n",
      "[mbo] 14: num_iterations=1377; learning_rate=0.0283; feature_fraction=0.719; num_leaves=16; min_data_in_leaf=853; scale_post_weight=89; lambda_l1=0.107 : y = 0.929 : 37.8 secs : infill_ei\n",
      "\n",
      "Tue Jul 29 03:13:41 2025 AUC 0.930521102207263\n",
      "\n",
      "[mbo] 15: num_iterations=1117; learning_rate=0.0294; feature_fraction=0.756; num_leaves=29; min_data_in_leaf=898; scale_post_weight=92; lambda_l1=0.000639 : y = 0.931 : 41.4 secs : infill_ei\n",
      "\n",
      "Tue Jul 29 03:14:23 2025 AUC 0.930437582674676\n",
      "\n",
      "[mbo] 16: num_iterations=866; learning_rate=0.0213; feature_fraction=0.601; num_leaves=37; min_data_in_leaf=799; scale_post_weight=153; lambda_l1=0.000152 : y = 0.93 : 41.6 secs : infill_ei\n",
      "\n",
      "Tue Jul 29 03:15:43 2025 AUC 0.92916867101394\n",
      "\n",
      "[mbo] 17: num_iterations=1340; learning_rate=0.0287; feature_fraction=0.529; num_leaves=36; min_data_in_leaf=928; scale_post_weight=155; lambda_l1=0.000219 : y = 0.929 : 79.1 secs : infill_ei\n",
      "\n",
      "Tue Jul 29 03:16:14 2025 AUC 0.930527241061342\n",
      "\n",
      "[mbo] 18: num_iterations=730; learning_rate=0.0281; feature_fraction=0.711; num_leaves=35; min_data_in_leaf=881; scale_post_weight=140; lambda_l1=0.00131 : y = 0.931 : 29.6 secs : infill_ei\n",
      "\n",
      "Tue Jul 29 03:17:34 2025 AUC 0.930780513632423\n",
      "\n",
      "[mbo] 19: num_iterations=1583; learning_rate=0.0236; feature_fraction=0.707; num_leaves=53; min_data_in_leaf=776; scale_post_weight=76; lambda_l1=0.000517 : y = 0.931 : 79.9 secs : infill_ei\n",
      "\n",
      "Tue Jul 29 03:18:10 2025 AUC 0.93026652603582\n",
      "\n",
      "[mbo] 20: num_iterations=800; learning_rate=0.0628; feature_fraction=0.564; num_leaves=16; min_data_in_leaf=515; scale_post_weight=21; lambda_l1=0.458 : y = 0.93 : 34.4 secs : infill_ei\n",
      "\n",
      "Tue Jul 29 03:19:44 2025 AUC 0.929311785708735\n",
      "\n",
      "[mbo] 21: num_iterations=1425; learning_rate=0.0616; feature_fraction=0.46; num_leaves=85; min_data_in_leaf=793; scale_post_weight=24; lambda_l1=0.438 : y = 0.929 : 93.8 secs : infill_ei\n",
      "\n",
      "Saved the current state after iteration 22 in the file bayesiana.RDATA.\n",
      "\n",
      "Tue Jul 29 03:20:28 2025 AUC 0.930220148023341\n",
      "\n",
      "[mbo] 22: num_iterations=866; learning_rate=0.067; feature_fraction=0.46; num_leaves=16; min_data_in_leaf=152; scale_post_weight=37; lambda_l1=0.436 : y = 0.93 : 39.4 secs : infill_ei\n",
      "\n",
      "Tue Jul 29 03:21:14 2025 AUC 0.929669394466314\n",
      "\n",
      "[mbo] 23: num_iterations=826; learning_rate=0.0221; feature_fraction=0.656; num_leaves=65; min_data_in_leaf=787; scale_post_weight=84; lambda_l1=0.0235 : y = 0.93 : 45.1 secs : infill_ei\n",
      "\n",
      "Tue Jul 29 03:22:22 2025 AUC 0.929366216635343\n",
      "\n",
      "[mbo] 24: num_iterations=1848; learning_rate=0.0252; feature_fraction=0.744; num_leaves=30; min_data_in_leaf=799; scale_post_weight=83; lambda_l1=0.00699 : y = 0.929 : 66.8 secs : infill_ei\n",
      "\n",
      "Tue Jul 29 03:23:21 2025 AUC 0.929647796270973\n",
      "\n",
      "[mbo] 25: num_iterations=1371; learning_rate=0.0422; feature_fraction=0.565; num_leaves=17; min_data_in_leaf=382; scale_post_weight=62; lambda_l1=0.468 : y = 0.93 : 58.4 secs : infill_ei\n",
      "\n",
      "Tue Jul 29 03:23:39 2025 AUC 0.93041593749003\n",
      "\n",
      "[mbo] 26: num_iterations=333; learning_rate=0.0656; feature_fraction=0.463; num_leaves=16; min_data_in_leaf=402; scale_post_weight=57; lambda_l1=0.468 : y = 0.93 : 16.9 secs : infill_ei\n",
      "\n",
      "Tue Jul 29 03:24:05 2025 AUC 0.928261168034511\n",
      "\n",
      "[mbo] 27: num_iterations=428; learning_rate=0.0683; feature_fraction=0.531; num_leaves=39; min_data_in_leaf=110; scale_post_weight=30; lambda_l1=0.498 : y = 0.928 : 24.6 secs : infill_ei\n",
      "\n",
      "Tue Jul 29 03:24:41 2025 AUC 0.92959951251603\n",
      "\n",
      "[mbo] 28: num_iterations=778; learning_rate=0.0641; feature_fraction=0.442; num_leaves=16; min_data_in_leaf=512; scale_post_weight=71; lambda_l1=0.412 : y = 0.93 : 35.7 secs : infill_ei\n",
      "\n",
      "Tue Jul 29 03:25:52 2025 AUC 0.930479346339257\n",
      "\n",
      "[mbo] 29: num_iterations=1456; learning_rate=0.0189; feature_fraction=0.676; num_leaves=46; min_data_in_leaf=801; scale_post_weight=25; lambda_l1=0.401 : y = 0.93 : 69.7 secs : infill_ei\n",
      "\n",
      "Tue Jul 29 03:26:56 2025 AUC 0.930762234557329\n",
      "\n",
      "[mbo] 30: num_iterations=1328; learning_rate=0.0161; feature_fraction=0.656; num_leaves=46; min_data_in_leaf=754; scale_post_weight=144; lambda_l1=0.0836 : y = 0.931 : 63.0 secs : infill_ei\n",
      "\n",
      "Tue Jul 29 03:28:20 2025 AUC 0.929362590636328\n",
      "\n",
      "[mbo] 31: num_iterations=1551; learning_rate=0.0356; feature_fraction=0.642; num_leaves=59; min_data_in_leaf=799; scale_post_weight=57; lambda_l1=0.377 : y = 0.929 : 82.6 secs : infill_ei\n",
      "\n",
      "Tue Jul 29 03:29:14 2025 AUC 0.929439442636854\n",
      "\n",
      "[mbo] 32: num_iterations=1237; learning_rate=0.0187; feature_fraction=0.687; num_leaves=42; min_data_in_leaf=756; scale_post_weight=68; lambda_l1=6.8e-05 : y = 0.929 : 53.2 secs : infill_ei\n",
      "\n",
      "Tue Jul 29 03:30:24 2025 AUC 0.927624491233052\n",
      "\n",
      "[mbo] 33: num_iterations=1413; learning_rate=0.0251; feature_fraction=0.706; num_leaves=66; min_data_in_leaf=1022; scale_post_weight=132; lambda_l1=0.003 : y = 0.928 : 69.7 secs : infill_ei\n",
      "\n",
      "Saved the current state after iteration 34 in the file bayesiana.RDATA.\n",
      "\n",
      "Tue Jul 29 03:31:06 2025 AUC 0.929689161816818\n",
      "\n",
      "[mbo] 34: num_iterations=1028; learning_rate=0.00964; feature_fraction=0.717; num_leaves=28; min_data_in_leaf=261; scale_post_weight=160; lambda_l1=0.0627 : y = 0.93 : 36.4 secs : infill_ei\n",
      "\n",
      "Tue Jul 29 03:32:02 2025 AUC 0.930405386440667\n",
      "\n",
      "[mbo] 35: num_iterations=1095; learning_rate=0.00537; feature_fraction=0.633; num_leaves=50; min_data_in_leaf=818; scale_post_weight=155; lambda_l1=0.136 : y = 0.93 : 55.1 secs : infill_ei\n",
      "\n",
      "Tue Jul 29 03:32:35 2025 AUC 0.929572986174194\n",
      "\n",
      "[mbo] 36: num_iterations=906; learning_rate=0.0103; feature_fraction=0.715; num_leaves=26; min_data_in_leaf=815; scale_post_weight=163; lambda_l1=0.0877 : y = 0.93 : 32.2 secs : infill_ei\n",
      "\n",
      "Tue Jul 29 03:33:37 2025 AUC 0.929890514875495\n",
      "\n",
      "[mbo] 37: num_iterations=1264; learning_rate=0.0434; feature_fraction=0.753; num_leaves=51; min_data_in_leaf=668; scale_post_weight=87; lambda_l1=0.029 : y = 0.93 : 61.1 secs : infill_ei\n",
      "\n",
      "Tue Jul 29 03:35:00 2025 AUC 0.930053392808249\n",
      "\n",
      "[mbo] 38: num_iterations=1562; learning_rate=0.0155; feature_fraction=0.62; num_leaves=51; min_data_in_leaf=491; scale_post_weight=121; lambda_l1=0.312 : y = 0.93 : 81.8 secs : infill_ei\n",
      "\n",
      "Tue Jul 29 03:35:46 2025 AUC 0.929871180447359\n",
      "\n",
      "[mbo] 39: num_iterations=840; learning_rate=0.0191; feature_fraction=0.629; num_leaves=52; min_data_in_leaf=575; scale_post_weight=151; lambda_l1=0.0192 : y = 0.93 : 44.6 secs : infill_ei\n",
      "\n",
      "Tue Jul 29 03:37:01 2025 AUC 0.930452879639031\n",
      "\n",
      "[mbo] 40: num_iterations=1580; learning_rate=0.00586; feature_fraction=0.693; num_leaves=46; min_data_in_leaf=695; scale_post_weight=144; lambda_l1=0.116 : y = 0.93 : 74.2 secs : infill_ei\n",
      "\n",
      "Tue Jul 29 03:38:22 2025 AUC 0.928888936156089\n",
      "\n",
      "[mbo] 41: num_iterations=1597; learning_rate=0.027; feature_fraction=0.758; num_leaves=53; min_data_in_leaf=671; scale_post_weight=21; lambda_l1=0.0535 : y = 0.929 : 79.7 secs : infill_ei\n",
      "\n",
      "Tue Jul 29 03:39:38 2025 AUC 0.928650037416526\n",
      "\n",
      "[mbo] 42: num_iterations=1557; learning_rate=0.0191; feature_fraction=0.668; num_leaves=48; min_data_in_leaf=823; scale_post_weight=95; lambda_l1=0.423 : y = 0.929 : 75.5 secs : infill_ei\n",
      "\n",
      "Tue Jul 29 03:40:19 2025 AUC 0.929609266505963\n",
      "\n",
      "[mbo] 43: num_iterations=876; learning_rate=0.0601; feature_fraction=0.551; num_leaves=17; min_data_in_leaf=293; scale_post_weight=121; lambda_l1=0.306 : y = 0.93 : 39.3 secs : infill_ei\n",
      "\n",
      "Tue Jul 29 03:40:45 2025 AUC 0.929039130226877\n",
      "\n",
      "[mbo] 44: num_iterations=757; learning_rate=0.05; feature_fraction=0.773; num_leaves=23; min_data_in_leaf=658; scale_post_weight=111; lambda_l1=0.0139 : y = 0.929 : 25.0 secs : infill_ei\n",
      "\n",
      "Saved the current state after iteration 45 in the file bayesiana.RDATA.\n",
      "\n",
      "Tue Jul 29 03:41:51 2025 AUC 0.929981225037454\n",
      "\n",
      "[mbo] 45: num_iterations=1471; learning_rate=0.0517; feature_fraction=0.74; num_leaves=36; min_data_in_leaf=868; scale_post_weight=6; lambda_l1=0.385 : y = 0.93 : 61.0 secs : infill_ei\n",
      "\n",
      "Tue Jul 29 03:43:03 2025 AUC 0.929555262198669\n",
      "\n",
      "[mbo] 46: num_iterations=1454; learning_rate=0.0127; feature_fraction=0.694; num_leaves=52; min_data_in_leaf=785; scale_post_weight=148; lambda_l1=0.0695 : y = 0.93 : 71.3 secs : infill_ei\n",
      "\n",
      "Tue Jul 29 03:44:05 2025 AUC 0.930866029721252\n",
      "\n",
      "[mbo] 47: num_iterations=1298; learning_rate=0.0193; feature_fraction=0.63; num_leaves=41; min_data_in_leaf=569; scale_post_weight=139; lambda_l1=0.154 : y = 0.931 : 60.5 secs : infill_ei\n",
      "\n",
      "Tue Jul 29 03:45:04 2025 AUC 0.929349616561764\n",
      "\n",
      "[mbo] 48: num_iterations=1085; learning_rate=0.0258; feature_fraction=0.596; num_leaves=41; min_data_in_leaf=695; scale_post_weight=143; lambda_l1=0.225 : y = 0.929 : 57.1 secs : infill_ei\n",
      "\n",
      "Tue Jul 29 03:46:20 2025 AUC 0.930475083432926\n",
      "\n",
      "[mbo] 49: num_iterations=1448; learning_rate=0.00521; feature_fraction=0.617; num_leaves=45; min_data_in_leaf=402; scale_post_weight=129; lambda_l1=0.126 : y = 0.93 : 74.9 secs : infill_ei\n",
      "\n",
      "Tue Jul 29 03:47:52 2025 AUC 0.930391946504929\n",
      "\n",
      "[mbo] 50: num_iterations=1741; learning_rate=0.0171; feature_fraction=0.631; num_leaves=49; min_data_in_leaf=512; scale_post_weight=4; lambda_l1=0.39 : y = 0.93 : 90.9 secs : infill_ei\n",
      "\n",
      "Tue Jul 29 03:48:50 2025 AUC 0.93038810816999\n",
      "\n",
      "[mbo] 51: num_iterations=1440; learning_rate=0.0201; feature_fraction=0.618; num_leaves=27; min_data_in_leaf=474; scale_post_weight=15; lambda_l1=0.367 : y = 0.93 : 56.4 secs : infill_ei\n",
      "\n",
      "Tue Jul 29 03:49:37 2025 AUC 0.931031532868885\n",
      "\n",
      "[mbo] 52: num_iterations=1218; learning_rate=0.0262; feature_fraction=0.716; num_leaves=33; min_data_in_leaf=854; scale_post_weight=142; lambda_l1=0.00553 : y = 0.931 : 46.5 secs : infill_ei\n",
      "\n",
      "Tue Jul 29 03:50:35 2025 AUC 0.930818435289296\n",
      "\n",
      "[mbo] 53: num_iterations=1378; learning_rate=0.022; feature_fraction=0.663; num_leaves=37; min_data_in_leaf=533; scale_post_weight=135; lambda_l1=0.00128 : y = 0.931 : 56.2 secs : infill_ei\n",
      "\n",
      "Tue Jul 29 03:51:50 2025 AUC 0.930343837031833\n",
      "\n",
      "[mbo] 54: num_iterations=1664; learning_rate=0.0298; feature_fraction=0.672; num_leaves=45; min_data_in_leaf=280; scale_post_weight=27; lambda_l1=0.322 : y = 0.93 : 74.1 secs : infill_ei\n",
      "\n",
      "Saved the current state after iteration 55 in the file bayesiana.RDATA.\n",
      "\n",
      "Tue Jul 29 03:52:34 2025 AUC 0.928955042550788\n",
      "\n",
      "[mbo] 55: num_iterations=1287; learning_rate=0.0721; feature_fraction=0.643; num_leaves=19; min_data_in_leaf=182; scale_post_weight=35; lambda_l1=0.374 : y = 0.929 : 36.9 secs : infill_ei\n",
      "\n",
      "Tue Jul 29 03:53:45 2025 AUC 0.927958457285355\n",
      "\n",
      "[mbo] 56: num_iterations=1612; learning_rate=0.0286; feature_fraction=0.619; num_leaves=35; min_data_in_leaf=1728; scale_post_weight=8; lambda_l1=0.401 : y = 0.928 : 69.8 secs : infill_ei\n",
      "\n",
      "Tue Jul 29 03:54:01 2025 AUC 0.931033331250538\n",
      "\n",
      "[mbo] 57: num_iterations=295; learning_rate=0.0451; feature_fraction=0.474; num_leaves=16; min_data_in_leaf=297; scale_post_weight=14; lambda_l1=0.46 : y = 0.931 : 14.4 secs : infill_ei\n",
      "\n",
      "Tue Jul 29 03:55:04 2025 AUC 0.929686267881946\n",
      "\n",
      "[mbo] 58: num_iterations=1462; learning_rate=0.0214; feature_fraction=0.644; num_leaves=35; min_data_in_leaf=897; scale_post_weight=154; lambda_l1=0.118 : y = 0.93 : 61.7 secs : infill_ei\n",
      "\n",
      "Tue Jul 29 03:55:19 2025 AUC 0.929308802718516\n",
      "\n",
      "[mbo] 59: num_iterations=252; learning_rate=0.0293; feature_fraction=0.486; num_leaves=16; min_data_in_leaf=359; scale_post_weight=31; lambda_l1=0.451 : y = 0.929 : 13.6 secs : infill_ei\n",
      "\n",
      "Tue Jul 29 03:56:17 2025 AUC 0.930442817466429\n",
      "\n",
      "[mbo] 60: num_iterations=1114; learning_rate=0.0484; feature_fraction=0.498; num_leaves=25; min_data_in_leaf=353; scale_post_weight=6; lambda_l1=0.411 : y = 0.93 : 56.9 secs : infill_ei\n",
      "\n",
      "Tue Jul 29 03:57:06 2025 AUC 0.929613014647144\n",
      "\n",
      "[mbo] 61: num_iterations=1086; learning_rate=0.019; feature_fraction=0.723; num_leaves=38; min_data_in_leaf=816; scale_post_weight=171; lambda_l1=0.000323 : y = 0.93 : 47.3 secs : infill_ei\n",
      "\n",
      "Tue Jul 29 03:57:49 2025 AUC 0.929216599278557\n",
      "\n",
      "[mbo] 62: num_iterations=847; learning_rate=0.0217; feature_fraction=0.641; num_leaves=46; min_data_in_leaf=528; scale_post_weight=130; lambda_l1=0.123 : y = 0.929 : 41.5 secs : infill_ei\n",
      "\n",
      "Tue Jul 29 03:58:55 2025 AUC 0.931081954022839\n",
      "\n",
      "[mbo] 63: num_iterations=1371; learning_rate=0.00886; feature_fraction=0.632; num_leaves=47; min_data_in_leaf=114; scale_post_weight=9; lambda_l1=0.357 : y = 0.931 : 65.2 secs : infill_ei\n",
      "\n",
      "Tue Jul 29 03:59:53 2025 AUC 0.929886961531081\n",
      "\n",
      "[mbo] 64: num_iterations=1581; learning_rate=0.024; feature_fraction=0.731; num_leaves=34; min_data_in_leaf=297; scale_post_weight=130; lambda_l1=0.00679 : y = 0.93 : 56.6 secs : infill_ei\n",
      "\n",
      "Tue Jul 29 04:01:05 2025 AUC 0.929533854762216\n",
      "\n",
      "[mbo] 65: num_iterations=1530; learning_rate=0.0179; feature_fraction=0.725; num_leaves=54; min_data_in_leaf=111; scale_post_weight=14; lambda_l1=0.45 : y = 0.93 : 70.4 secs : infill_ei\n",
      "\n",
      "Tue Jul 29 04:02:31 2025 AUC 0.93007159359984\n",
      "\n",
      "[mbo] 66: num_iterations=1387; learning_rate=0.0333; feature_fraction=0.529; num_leaves=46; min_data_in_leaf=375; scale_post_weight=6; lambda_l1=0.388 : y = 0.93 : 84.0 secs : infill_ei\n",
      "\n",
      "Saved the current state after iteration 67 in the file bayesiana.RDATA.\n",
      "\n",
      "Tue Jul 29 04:03:40 2025 AUC 0.929793739855459\n",
      "\n",
      "[mbo] 67: num_iterations=1470; learning_rate=0.0158; feature_fraction=0.657; num_leaves=38; min_data_in_leaf=736; scale_post_weight=143; lambda_l1=0.033 : y = 0.93 : 62.5 secs : infill_ei\n",
      "\n",
      "Tue Jul 29 04:04:41 2025 AUC 0.929993079418688\n",
      "\n",
      "[mbo] 68: num_iterations=1327; learning_rate=0.00528; feature_fraction=0.719; num_leaves=45; min_data_in_leaf=365; scale_post_weight=164; lambda_l1=0.151 : y = 0.93 : 59.7 secs : infill_ei\n",
      "\n",
      "Tue Jul 29 04:05:29 2025 AUC 0.929750544979668\n",
      "\n",
      "[mbo] 69: num_iterations=1146; learning_rate=0.00508; feature_fraction=0.695; num_leaves=36; min_data_in_leaf=470; scale_post_weight=3; lambda_l1=0.365 : y = 0.93 : 46.2 secs : infill_ei\n",
      "\n",
      "Tue Jul 29 04:06:59 2025 AUC 0.929736977279461\n",
      "\n",
      "[mbo] 70: num_iterations=1619; learning_rate=0.00503; feature_fraction=0.673; num_leaves=64; min_data_in_leaf=518; scale_post_weight=16; lambda_l1=0.344 : y = 0.93 : 88.1 secs : infill_ei\n",
      "\n",
      "Tue Jul 29 04:08:26 2025 AUC 0.930299811760554\n",
      "\n",
      "[mbo] 71: num_iterations=1587; learning_rate=0.014; feature_fraction=0.563; num_leaves=40; min_data_in_leaf=192; scale_post_weight=30; lambda_l1=0.288 : y = 0.93 : 85.8 secs : infill_ei\n",
      "\n",
      "Tue Jul 29 04:09:27 2025 AUC 0.929760650077196\n",
      "\n",
      "[mbo] 72: num_iterations=1363; learning_rate=0.0188; feature_fraction=0.653; num_leaves=46; min_data_in_leaf=219; scale_post_weight=15; lambda_l1=0.341 : y = 0.93 : 59.5 secs : infill_ei\n",
      "\n",
      "Tue Jul 29 04:10:05 2025 AUC 0.929752324916685\n",
      "\n",
      "[mbo] 73: num_iterations=780; learning_rate=0.00914; feature_fraction=0.474; num_leaves=16; min_data_in_leaf=101; scale_post_weight=7; lambda_l1=0.396 : y = 0.93 : 37.0 secs : infill_ei\n",
      "\n",
      "Tue Jul 29 04:10:59 2025 AUC 0.929734241552488\n",
      "\n",
      "[mbo] 74: num_iterations=1205; learning_rate=0.0237; feature_fraction=0.6; num_leaves=28; min_data_in_leaf=578; scale_post_weight=149; lambda_l1=0.0866 : y = 0.93 : 52.7 secs : infill_ei\n",
      "\n",
      "Tue Jul 29 04:12:20 2025 AUC 0.931210200724751\n",
      "\n",
      "[mbo] 75: num_iterations=1458; learning_rate=0.00517; feature_fraction=0.578; num_leaves=41; min_data_in_leaf=480; scale_post_weight=12; lambda_l1=0.393 : y = 0.931 : 79.4 secs : infill_ei\n",
      "\n",
      "Tue Jul 29 04:13:59 2025 AUC 0.929779504052828\n",
      "\n",
      "[mbo] 76: num_iterations=1662; learning_rate=0.0195; feature_fraction=0.586; num_leaves=51; min_data_in_leaf=726; scale_post_weight=111; lambda_l1=0.166 : y = 0.93 : 97.8 secs : infill_ei\n",
      "\n",
      "Saved the current state after iteration 77 in the file bayesiana.RDATA.\n",
      "\n",
      "Tue Jul 29 04:15:09 2025 AUC 0.929265758096695\n",
      "\n",
      "[mbo] 77: num_iterations=1437; learning_rate=0.0291; feature_fraction=0.72; num_leaves=44; min_data_in_leaf=905; scale_post_weight=98; lambda_l1=0.0058 : y = 0.929 : 64.7 secs : infill_ei\n",
      "\n",
      "Tue Jul 29 04:16:25 2025 AUC 0.930717906333843\n",
      "\n",
      "[mbo] 78: num_iterations=1836; learning_rate=0.0051; feature_fraction=0.692; num_leaves=37; min_data_in_leaf=621; scale_post_weight=26; lambda_l1=0.388 : y = 0.931 : 74.6 secs : infill_ei\n",
      "\n",
      "Tue Jul 29 04:17:15 2025 AUC 0.929905916449767\n",
      "\n",
      "[mbo] 79: num_iterations=1236; learning_rate=0.0371; feature_fraction=0.614; num_leaves=27; min_data_in_leaf=392; scale_post_weight=118; lambda_l1=0.00265 : y = 0.93 : 47.8 secs : infill_ei\n",
      "\n",
      "Tue Jul 29 04:18:41 2025 AUC 0.929705709611105\n",
      "\n",
      "[mbo] 80: num_iterations=1607; learning_rate=0.0467; feature_fraction=0.591; num_leaves=43; min_data_in_leaf=669; scale_post_weight=63; lambda_l1=0.0751 : y = 0.93 : 85.2 secs : infill_ei\n",
      "\n",
      "Tue Jul 29 04:20:19 2025 AUC 0.930988912561834\n",
      "\n",
      "[mbo] 81: num_iterations=1820; learning_rate=0.00505; feature_fraction=0.609; num_leaves=45; min_data_in_leaf=568; scale_post_weight=132; lambda_l1=0.0174 : y = 0.931 : 95.3 secs : infill_ei\n",
      "\n",
      "Tue Jul 29 04:20:42 2025 AUC 0.929590744364249\n",
      "\n",
      "[mbo] 82: num_iterations=449; learning_rate=0.0624; feature_fraction=0.416; num_leaves=16; min_data_in_leaf=340; scale_post_weight=8; lambda_l1=0.419 : y = 0.93 : 20.7 secs : infill_ei\n",
      "\n",
      "Tue Jul 29 04:22:07 2025 AUC 0.93033045406572\n",
      "\n",
      "[mbo] 83: num_iterations=1535; learning_rate=0.0216; feature_fraction=0.477; num_leaves=32; min_data_in_leaf=283; scale_post_weight=21; lambda_l1=0.417 : y = 0.93 : 83.4 secs : infill_ei\n",
      "\n",
      "Tue Jul 29 04:22:43 2025 AUC 0.930885701773455\n",
      "\n",
      "[mbo] 84: num_iterations=806; learning_rate=0.0339; feature_fraction=0.63; num_leaves=32; min_data_in_leaf=782; scale_post_weight=72; lambda_l1=0.0314 : y = 0.931 : 34.3 secs : infill_ei\n",
      "\n",
      "Tue Jul 29 04:24:28 2025 AUC 0.93052782181311\n",
      "\n",
      "[mbo] 85: num_iterations=1741; learning_rate=0.00519; feature_fraction=0.45; num_leaves=40; min_data_in_leaf=552; scale_post_weight=30; lambda_l1=0.483 : y = 0.931 : 103.4 secs : infill_ei\n",
      "\n",
      "Saved the current state after iteration 86 in the file bayesiana.RDATA.\n",
      "\n",
      "Tue Jul 29 04:25:07 2025 AUC 0.930751278367372\n",
      "\n",
      "[mbo] 86: num_iterations=936; learning_rate=0.0411; feature_fraction=0.722; num_leaves=28; min_data_in_leaf=787; scale_post_weight=79; lambda_l1=0.0176 : y = 0.931 : 33.0 secs : infill_ei\n",
      "\n",
      "Tue Jul 29 04:26:18 2025 AUC 0.928546126110493\n",
      "\n",
      "[mbo] 87: num_iterations=1776; learning_rate=0.00518; feature_fraction=0.723; num_leaves=42; min_data_in_leaf=1615; scale_post_weight=168; lambda_l1=0.147 : y = 0.929 : 69.7 secs : infill_ei\n",
      "\n",
      "Tue Jul 29 04:27:29 2025 AUC 0.929983527844112\n",
      "\n",
      "[mbo] 88: num_iterations=1337; learning_rate=0.00508; feature_fraction=0.612; num_leaves=46; min_data_in_leaf=771; scale_post_weight=47; lambda_l1=0.269 : y = 0.93 : 69.9 secs : infill_ei\n",
      "\n",
      "Tue Jul 29 04:28:20 2025 AUC 0.929928871222024\n",
      "\n",
      "[mbo] 89: num_iterations=838; learning_rate=0.052; feature_fraction=0.529; num_leaves=36; min_data_in_leaf=841; scale_post_weight=102; lambda_l1=0.0382 : y = 0.93 : 49.0 secs : infill_ei\n",
      "\n",
      "Tue Jul 29 04:29:33 2025 AUC 0.930932783228279\n",
      "\n",
      "[mbo] 90: num_iterations=1381; learning_rate=0.00508; feature_fraction=0.476; num_leaves=24; min_data_in_leaf=126; scale_post_weight=3; lambda_l1=0.489 : y = 0.931 : 71.2 secs : infill_ei\n",
      "\n",
      "Tue Jul 29 04:30:18 2025 AUC 0.930295084977413\n",
      "\n",
      "[mbo] 91: num_iterations=833; learning_rate=0.0271; feature_fraction=0.56; num_leaves=29; min_data_in_leaf=555; scale_post_weight=85; lambda_l1=0.00155 : y = 0.93 : 43.9 secs : infill_ei\n",
      "\n",
      "Tue Jul 29 04:30:52 2025 AUC 0.930208329800011\n",
      "\n",
      "[mbo] 92: num_iterations=674; learning_rate=0.0465; feature_fraction=0.493; num_leaves=16; min_data_in_leaf=706; scale_post_weight=52; lambda_l1=0.268 : y = 0.93 : 32.1 secs : infill_ei\n",
      "\n",
      "Tue Jul 29 04:32:37 2025 AUC 0.930421344534261\n",
      "\n",
      "[mbo] 93: num_iterations=1797; learning_rate=0.00656; feature_fraction=0.513; num_leaves=35; min_data_in_leaf=284; scale_post_weight=99; lambda_l1=0.345 : y = 0.93 : 103.4 secs : infill_ei\n",
      "\n",
      "Tue Jul 29 04:33:18 2025 AUC 0.929992425889468\n",
      "\n",
      "[mbo] 94: num_iterations=748; learning_rate=0.0468; feature_fraction=0.429; num_leaves=32; min_data_in_leaf=754; scale_post_weight=1; lambda_l1=0.396 : y = 0.93 : 40.5 secs : infill_ei\n",
      "\n",
      "Tue Jul 29 04:34:12 2025 AUC 0.928106448962539\n",
      "\n",
      "[mbo] 95: num_iterations=1217; learning_rate=0.00517; feature_fraction=0.793; num_leaves=39; min_data_in_leaf=1283; scale_post_weight=138; lambda_l1=0.0835 : y = 0.928 : 51.9 secs : infill_ei\n",
      "\n",
      "Tue Jul 29 04:35:38 2025 AUC 0.931016452011966\n",
      "\n",
      "[mbo] 96: num_iterations=1455; learning_rate=0.00989; feature_fraction=0.535; num_leaves=36; min_data_in_leaf=492; scale_post_weight=15; lambda_l1=0.405 : y = 0.931 : 84.1 secs : infill_ei\n",
      "\n",
      "Saved the current state after iteration 97 in the file bayesiana.RDATA.\n",
      "\n",
      "Tue Jul 29 04:35:58 2025 AUC 0.929558108021591\n",
      "\n",
      "[mbo] 97: num_iterations=331; learning_rate=0.0521; feature_fraction=0.569; num_leaves=16; min_data_in_leaf=416; scale_post_weight=70; lambda_l1=0.476 : y = 0.93 : 14.2 secs : infill_ei\n",
      "\n",
      "Tue Jul 29 04:37:51 2025 AUC 0.930367846791056\n",
      "\n",
      "[mbo] 98: num_iterations=1920; learning_rate=0.00682; feature_fraction=0.496; num_leaves=40; min_data_in_leaf=108; scale_post_weight=5; lambda_l1=0.297 : y = 0.93 : 111.8 secs : infill_ei\n",
      "\n",
      "Tue Jul 29 04:39:05 2025 AUC 0.930309466928007\n",
      "\n",
      "[mbo] 99: num_iterations=1469; learning_rate=0.0422; feature_fraction=0.585; num_leaves=36; min_data_in_leaf=504; scale_post_weight=18; lambda_l1=0.286 : y = 0.93 : 72.5 secs : infill_ei\n",
      "\n",
      "Tue Jul 29 04:40:25 2025 AUC 0.930663645215721\n",
      "\n",
      "[mbo] 100: num_iterations=1786; learning_rate=0.0215; feature_fraction=0.703; num_leaves=46; min_data_in_leaf=493; scale_post_weight=32; lambda_l1=0.0885 : y = 0.931 : 78.7 secs : infill_ei\n",
      "\n",
      "Saved the final state in the file bayesiana.RDATA\n",
      "\n"
     ]
    }
   ],
   "source": [
    "# inicio la optimizacion bayesiana, retomando si ya existe\n",
    "# es la celda mas lenta de todo el notebook\n",
    "\n",
    "if (!file.exists(kbayesiana)) {\n",
    "  bayesiana_salida <- mbo(obj.fun, learner= surr.km, control= ctrl)\n",
    "} else {\n",
    "  bayesiana_salida <- mboContinue(kbayesiana) # retomo en caso que ya exista\n",
    "}"
   ]
  },
  {
   "cell_type": "code",
   "execution_count": 40,
   "metadata": {
    "id": "ssk5nnMk6INK"
   },
   "outputs": [
    {
     "data": {
      "text/html": [
       "<style>\n",
       ".list-inline {list-style: none; margin:0; padding: 0}\n",
       ".list-inline>li {display: inline-block}\n",
       ".list-inline>li:not(:last-child)::after {content: \"\\00b7\"; padding: 0 .5ex}\n",
       "</style>\n",
       "<ol class=list-inline><li>'num_iterations'</li><li>'learning_rate'</li><li>'feature_fraction'</li><li>'num_leaves'</li><li>'min_data_in_leaf'</li><li>'scale_post_weight'</li><li>'lambda_l1'</li><li>'y'</li><li>'dob'</li><li>'eol'</li><li>'error.message'</li><li>'exec.time'</li><li>'ei'</li><li>'error.model'</li><li>'train.time'</li><li>'prop.type'</li><li>'propose.time'</li><li>'se'</li><li>'mean'</li></ol>\n"
      ],
      "text/latex": [
       "\\begin{enumerate*}\n",
       "\\item 'num\\_iterations'\n",
       "\\item 'learning\\_rate'\n",
       "\\item 'feature\\_fraction'\n",
       "\\item 'num\\_leaves'\n",
       "\\item 'min\\_data\\_in\\_leaf'\n",
       "\\item 'scale\\_post\\_weight'\n",
       "\\item 'lambda\\_l1'\n",
       "\\item 'y'\n",
       "\\item 'dob'\n",
       "\\item 'eol'\n",
       "\\item 'error.message'\n",
       "\\item 'exec.time'\n",
       "\\item 'ei'\n",
       "\\item 'error.model'\n",
       "\\item 'train.time'\n",
       "\\item 'prop.type'\n",
       "\\item 'propose.time'\n",
       "\\item 'se'\n",
       "\\item 'mean'\n",
       "\\end{enumerate*}\n"
      ],
      "text/markdown": [
       "1. 'num_iterations'\n",
       "2. 'learning_rate'\n",
       "3. 'feature_fraction'\n",
       "4. 'num_leaves'\n",
       "5. 'min_data_in_leaf'\n",
       "6. 'scale_post_weight'\n",
       "7. 'lambda_l1'\n",
       "8. 'y'\n",
       "9. 'dob'\n",
       "10. 'eol'\n",
       "11. 'error.message'\n",
       "12. 'exec.time'\n",
       "13. 'ei'\n",
       "14. 'error.model'\n",
       "15. 'train.time'\n",
       "16. 'prop.type'\n",
       "17. 'propose.time'\n",
       "18. 'se'\n",
       "19. 'mean'\n",
       "\n",
       "\n"
      ],
      "text/plain": [
       " [1] \"num_iterations\"    \"learning_rate\"     \"feature_fraction\" \n",
       " [4] \"num_leaves\"        \"min_data_in_leaf\"  \"scale_post_weight\"\n",
       " [7] \"lambda_l1\"         \"y\"                 \"dob\"              \n",
       "[10] \"eol\"               \"error.message\"     \"exec.time\"        \n",
       "[13] \"ei\"                \"error.model\"       \"train.time\"       \n",
       "[16] \"prop.type\"         \"propose.time\"      \"se\"               \n",
       "[19] \"mean\"             "
      ]
     },
     "metadata": {},
     "output_type": "display_data"
    }
   ],
   "source": [
    "\n",
    "tb_bayesiana <- as.data.table(bayesiana_salida$opt.path)\n",
    "colnames( tb_bayesiana)"
   ]
  },
  {
   "cell_type": "code",
   "execution_count": 41,
   "metadata": {
    "id": "u4zq-vknhjGc"
   },
   "outputs": [],
   "source": [
    "# almaceno los resultados de la Bayesian Optimization\n",
    "# y capturo los mejores hiperparametros encontrados\n",
    "\n",
    "tb_bayesiana <- as.data.table(bayesiana_salida$opt.path)\n",
    "\n",
    "tb_bayesiana[, iter := .I]\n",
    "\n",
    "# ordeno en forma descendente por AUC = y\n",
    "setorder(tb_bayesiana, -y)\n",
    "\n",
    "# grabo para eventualmente poder utilizarlos en OTRA corrida\n",
    "fwrite( tb_bayesiana,\n",
    "  file= \"BO_log.txt\",\n",
    "  sep= \"\\t\"\n",
    ")\n",
    "\n",
    "# los mejores hiperparámetros son los que quedaron en el registro 1 de la tabla\n",
    "PARAM$out$lgbm$mejores_hiperparametros <- tb_bayesiana[\n",
    "  1, # el primero es el de mejor AUC\n",
    "  setdiff(colnames(tb_bayesiana),\n",
    "    c(\"y\",\"dob\",\"eol\",\"error.message\",\"exec.time\",\"ei\",\"error.model\",\n",
    "      \"train.time\",\"prop.type\",\"propose.time\",\"se\",\"mean\",\"iter\")),\n",
    "  with= FALSE\n",
    "]\n",
    "\n",
    "\n",
    "PARAM$out$lgbm$y <- tb_bayesiana[1, y]\n"
   ]
  },
  {
   "cell_type": "code",
   "execution_count": 42,
   "metadata": {
    "id": "E8v2eA427N8e"
   },
   "outputs": [],
   "source": [
    "write_yaml( PARAM, file=\"PARAM.yml\")"
   ]
  },
  {
   "cell_type": "code",
   "execution_count": 43,
   "metadata": {
    "id": "iBTWexVU7PGC"
   },
   "outputs": [
    {
     "name": "stdout",
     "output_type": "stream",
     "text": [
      "   num_iterations learning_rate feature_fraction num_leaves min_data_in_leaf\n",
      "            <int>         <num>            <num>      <int>            <int>\n",
      "1:           1458   0.005169858        0.5779855         41              480\n",
      "   scale_post_weight lambda_l1\n",
      "               <int>     <num>\n",
      "1:                12 0.3933777\n",
      "[1] 0.9312102\n"
     ]
    }
   ],
   "source": [
    "print(PARAM$out$lgbm$mejores_hiperparametros)\n",
    "print(PARAM$out$lgbm$y)"
   ]
  },
  {
   "cell_type": "markdown",
   "metadata": {
    "id": "TKsVZmAnhwX-"
   },
   "source": [
    "## 2.3  Produccion"
   ]
  },
  {
   "cell_type": "markdown",
   "metadata": {
    "id": "RQ_C33Tr5B_9"
   },
   "source": [
    "### Final Training\n",
    "Construyo el modelo final, que es uno solo, no hace ningun tipo de particion < training, validation, testing>]"
   ]
  },
  {
   "cell_type": "code",
   "execution_count": 44,
   "metadata": {
    "id": "eDqfyA14hzwv"
   },
   "outputs": [],
   "source": [
    "setwd(\"/content/buckets/b1/exp\")\n",
    "experimento <- paste0(\"exp\", PARAM$experimento)\n",
    "dir.create(experimento, showWarnings= FALSE)\n",
    "setwd( paste0(\"/content/buckets/b1/exp/\", experimento ))"
   ]
  },
  {
   "cell_type": "markdown",
   "metadata": {
    "id": "8qFmFivf5Iet"
   },
   "source": [
    "#### Final Training Dataset\n",
    "\n",
    "Aqui esta la gran decision de en qué meses hago el Final Training\n",
    "<br> debo utilizar los mejores hiperparámetros que encontré en la optimización bayesiana"
   ]
  },
  {
   "cell_type": "code",
   "execution_count": 45,
   "metadata": {
    "id": "lg5WVZncvc7H"
   },
   "outputs": [],
   "source": [
    "# clase01\n",
    "dataset[, clase01 := ifelse(clase_ternaria %in% c(\"BAJA+1\", \"BAJA+2\"), 1L, 0L)]"
   ]
  },
  {
   "cell_type": "code",
   "execution_count": 46,
   "metadata": {
    "id": "yc9QzXREv0xf"
   },
   "outputs": [],
   "source": [
    "dataset_train <- dataset[foto_mes %in% c(202107)]"
   ]
  },
  {
   "cell_type": "code",
   "execution_count": 47,
   "metadata": {
    "id": "thjdqEBLuvNt"
   },
   "outputs": [],
   "source": [
    "# dejo los datos en el formato que necesita LightGBM\n",
    "\n",
    "dtrain <- lgb.Dataset(\n",
    "  data= data.matrix(dataset_train[, campos_buenos, with= FALSE]),\n",
    "  label= dataset_train[, clase01]\n",
    ")"
   ]
  },
  {
   "cell_type": "markdown",
   "metadata": {
    "id": "VNUa-WSz5Oqu"
   },
   "source": [
    "#### Final Training Hyperparameters"
   ]
  },
  {
   "cell_type": "code",
   "execution_count": 48,
   "metadata": {
    "id": "FgCcvBfEwImu"
   },
   "outputs": [
    {
     "data": {
      "text/html": [
       "<dl>\n",
       "\t<dt>$boosting</dt>\n",
       "\t\t<dd>'gbdt'</dd>\n",
       "\t<dt>$objective</dt>\n",
       "\t\t<dd>'binary'</dd>\n",
       "\t<dt>$metric</dt>\n",
       "\t\t<dd>'auc'</dd>\n",
       "\t<dt>$first_metric_only</dt>\n",
       "\t\t<dd>FALSE</dd>\n",
       "\t<dt>$boost_from_average</dt>\n",
       "\t\t<dd>TRUE</dd>\n",
       "\t<dt>$feature_pre_filter</dt>\n",
       "\t\t<dd>FALSE</dd>\n",
       "\t<dt>$force_row_wise</dt>\n",
       "\t\t<dd>TRUE</dd>\n",
       "\t<dt>$verbosity</dt>\n",
       "\t\t<dd>-100</dd>\n",
       "\t<dt>$seed</dt>\n",
       "\t\t<dd>106109</dd>\n",
       "\t<dt>$max_depth</dt>\n",
       "\t\t<dd>-1</dd>\n",
       "\t<dt>$min_gain_to_split</dt>\n",
       "\t\t<dd>0</dd>\n",
       "\t<dt>$min_sum_hessian_in_leaf</dt>\n",
       "\t\t<dd>0.001</dd>\n",
       "\t<dt>$lambda_l1</dt>\n",
       "\t\t<dd>0.393377690194469</dd>\n",
       "\t<dt>$lambda_l2</dt>\n",
       "\t\t<dd>0</dd>\n",
       "\t<dt>$max_bin</dt>\n",
       "\t\t<dd>31</dd>\n",
       "\t<dt>$bagging_fraction</dt>\n",
       "\t\t<dd>1</dd>\n",
       "\t<dt>$pos_bagging_fraction</dt>\n",
       "\t\t<dd>1</dd>\n",
       "\t<dt>$neg_bagging_fraction</dt>\n",
       "\t\t<dd>1</dd>\n",
       "\t<dt>$is_unbalance</dt>\n",
       "\t\t<dd>FALSE</dd>\n",
       "\t<dt>$scale_pos_weight</dt>\n",
       "\t\t<dd>1</dd>\n",
       "\t<dt>$drop_rate</dt>\n",
       "\t\t<dd>0.1</dd>\n",
       "\t<dt>$max_drop</dt>\n",
       "\t\t<dd>50</dd>\n",
       "\t<dt>$skip_drop</dt>\n",
       "\t\t<dd>0.5</dd>\n",
       "\t<dt>$extra_trees</dt>\n",
       "\t\t<dd>FALSE</dd>\n",
       "\t<dt>$num_iterations</dt>\n",
       "\t\t<dd>1458</dd>\n",
       "\t<dt>$learning_rate</dt>\n",
       "\t\t<dd>0.00516985758865817</dd>\n",
       "\t<dt>$feature_fraction</dt>\n",
       "\t\t<dd>0.577985460910024</dd>\n",
       "\t<dt>$num_leaves</dt>\n",
       "\t\t<dd>41</dd>\n",
       "\t<dt>$min_data_in_leaf</dt>\n",
       "\t\t<dd>480</dd>\n",
       "\t<dt>$scale_post_weight</dt>\n",
       "\t\t<dd>12</dd>\n",
       "</dl>\n"
      ],
      "text/latex": [
       "\\begin{description}\n",
       "\\item[\\$boosting] 'gbdt'\n",
       "\\item[\\$objective] 'binary'\n",
       "\\item[\\$metric] 'auc'\n",
       "\\item[\\$first\\_metric\\_only] FALSE\n",
       "\\item[\\$boost\\_from\\_average] TRUE\n",
       "\\item[\\$feature\\_pre\\_filter] FALSE\n",
       "\\item[\\$force\\_row\\_wise] TRUE\n",
       "\\item[\\$verbosity] -100\n",
       "\\item[\\$seed] 106109\n",
       "\\item[\\$max\\_depth] -1\n",
       "\\item[\\$min\\_gain\\_to\\_split] 0\n",
       "\\item[\\$min\\_sum\\_hessian\\_in\\_leaf] 0.001\n",
       "\\item[\\$lambda\\_l1] 0.393377690194469\n",
       "\\item[\\$lambda\\_l2] 0\n",
       "\\item[\\$max\\_bin] 31\n",
       "\\item[\\$bagging\\_fraction] 1\n",
       "\\item[\\$pos\\_bagging\\_fraction] 1\n",
       "\\item[\\$neg\\_bagging\\_fraction] 1\n",
       "\\item[\\$is\\_unbalance] FALSE\n",
       "\\item[\\$scale\\_pos\\_weight] 1\n",
       "\\item[\\$drop\\_rate] 0.1\n",
       "\\item[\\$max\\_drop] 50\n",
       "\\item[\\$skip\\_drop] 0.5\n",
       "\\item[\\$extra\\_trees] FALSE\n",
       "\\item[\\$num\\_iterations] 1458\n",
       "\\item[\\$learning\\_rate] 0.00516985758865817\n",
       "\\item[\\$feature\\_fraction] 0.577985460910024\n",
       "\\item[\\$num\\_leaves] 41\n",
       "\\item[\\$min\\_data\\_in\\_leaf] 480\n",
       "\\item[\\$scale\\_post\\_weight] 12\n",
       "\\end{description}\n"
      ],
      "text/markdown": [
       "$boosting\n",
       ":   'gbdt'\n",
       "$objective\n",
       ":   'binary'\n",
       "$metric\n",
       ":   'auc'\n",
       "$first_metric_only\n",
       ":   FALSE\n",
       "$boost_from_average\n",
       ":   TRUE\n",
       "$feature_pre_filter\n",
       ":   FALSE\n",
       "$force_row_wise\n",
       ":   TRUE\n",
       "$verbosity\n",
       ":   -100\n",
       "$seed\n",
       ":   106109\n",
       "$max_depth\n",
       ":   -1\n",
       "$min_gain_to_split\n",
       ":   0\n",
       "$min_sum_hessian_in_leaf\n",
       ":   0.001\n",
       "$lambda_l1\n",
       ":   0.393377690194469\n",
       "$lambda_l2\n",
       ":   0\n",
       "$max_bin\n",
       ":   31\n",
       "$bagging_fraction\n",
       ":   1\n",
       "$pos_bagging_fraction\n",
       ":   1\n",
       "$neg_bagging_fraction\n",
       ":   1\n",
       "$is_unbalance\n",
       ":   FALSE\n",
       "$scale_pos_weight\n",
       ":   1\n",
       "$drop_rate\n",
       ":   0.1\n",
       "$max_drop\n",
       ":   50\n",
       "$skip_drop\n",
       ":   0.5\n",
       "$extra_trees\n",
       ":   FALSE\n",
       "$num_iterations\n",
       ":   1458\n",
       "$learning_rate\n",
       ":   0.00516985758865817\n",
       "$feature_fraction\n",
       ":   0.577985460910024\n",
       "$num_leaves\n",
       ":   41\n",
       "$min_data_in_leaf\n",
       ":   480\n",
       "$scale_post_weight\n",
       ":   12\n",
       "\n",
       "\n"
      ],
      "text/plain": [
       "$boosting\n",
       "[1] \"gbdt\"\n",
       "\n",
       "$objective\n",
       "[1] \"binary\"\n",
       "\n",
       "$metric\n",
       "[1] \"auc\"\n",
       "\n",
       "$first_metric_only\n",
       "[1] FALSE\n",
       "\n",
       "$boost_from_average\n",
       "[1] TRUE\n",
       "\n",
       "$feature_pre_filter\n",
       "[1] FALSE\n",
       "\n",
       "$force_row_wise\n",
       "[1] TRUE\n",
       "\n",
       "$verbosity\n",
       "[1] -100\n",
       "\n",
       "$seed\n",
       "[1] 106109\n",
       "\n",
       "$max_depth\n",
       "[1] -1\n",
       "\n",
       "$min_gain_to_split\n",
       "[1] 0\n",
       "\n",
       "$min_sum_hessian_in_leaf\n",
       "[1] 0.001\n",
       "\n",
       "$lambda_l1\n",
       "[1] 0.3933777\n",
       "\n",
       "$lambda_l2\n",
       "[1] 0\n",
       "\n",
       "$max_bin\n",
       "[1] 31\n",
       "\n",
       "$bagging_fraction\n",
       "[1] 1\n",
       "\n",
       "$pos_bagging_fraction\n",
       "[1] 1\n",
       "\n",
       "$neg_bagging_fraction\n",
       "[1] 1\n",
       "\n",
       "$is_unbalance\n",
       "[1] FALSE\n",
       "\n",
       "$scale_pos_weight\n",
       "[1] 1\n",
       "\n",
       "$drop_rate\n",
       "[1] 0.1\n",
       "\n",
       "$max_drop\n",
       "[1] 50\n",
       "\n",
       "$skip_drop\n",
       "[1] 0.5\n",
       "\n",
       "$extra_trees\n",
       "[1] FALSE\n",
       "\n",
       "$num_iterations\n",
       "[1] 1458\n",
       "\n",
       "$learning_rate\n",
       "[1] 0.005169858\n",
       "\n",
       "$feature_fraction\n",
       "[1] 0.5779855\n",
       "\n",
       "$num_leaves\n",
       "[1] 41\n",
       "\n",
       "$min_data_in_leaf\n",
       "[1] 480\n",
       "\n",
       "$scale_post_weight\n",
       "[1] 12\n"
      ]
     },
     "metadata": {},
     "output_type": "display_data"
    }
   ],
   "source": [
    "param_final <- modifyList(PARAM$lgbm$param_fijos,\n",
    "  PARAM$out$lgbm$mejores_hiperparametros)\n",
    "\n",
    "param_final"
   ]
  },
  {
   "cell_type": "markdown",
   "metadata": {
    "id": "TZIYn4l95TBH"
   },
   "source": [
    "#### Training\n",
    "Genero el modelo final, siempre sobre TODOS los datos de  final_train, sin hacer ningun tipo de undersampling de la clase mayoritaria"
   ]
  },
  {
   "cell_type": "code",
   "execution_count": 49,
   "metadata": {
    "id": "vPLsd4mMRe4u"
   },
   "outputs": [],
   "source": [
    "# este punto es muy SUTIL  y será revisado en la Clase 05\n",
    "\n",
    "param_normalizado <- copy(param_final)\n",
    "param_normalizado$min_data_in_leaf <-  param_final$min_data_in_leaf / PARAM$trainingstrategy$undersampling"
   ]
  },
  {
   "cell_type": "code",
   "execution_count": 50,
   "metadata": {
    "id": "WRI_-taRwOXO"
   },
   "outputs": [],
   "source": [
    "  # entreno LightGBM\n",
    "\n",
    "  modelo_final <- lgb.train(\n",
    "    data= dtrain,\n",
    "    param= param_normalizado\n",
    "  )"
   ]
  },
  {
   "cell_type": "code",
   "execution_count": 51,
   "metadata": {
    "id": "_bkhnCvj0g3Q"
   },
   "outputs": [],
   "source": [
    "# ahora imprimo la importancia de variables\n",
    "\n",
    "tb_importancia <- as.data.table(lgb.importance(modelo_final))\n",
    "archivo_importancia <- \"impo.txt\"\n",
    "\n",
    "fwrite(tb_importancia,\n",
    "  file= archivo_importancia,\n",
    "  sep= \"\\t\"\n",
    ")"
   ]
  },
  {
   "cell_type": "code",
   "execution_count": 52,
   "metadata": {
    "id": "lZ3sLmbh0kFj"
   },
   "outputs": [],
   "source": [
    "# grabo a disco el modelo en un formato para seres humanos ... ponele ...\n",
    "\n",
    "lgb.save(modelo_final, \"modelo.txt\" )"
   ]
  },
  {
   "cell_type": "markdown",
   "metadata": {
    "id": "VEtp2--t5Ymg"
   },
   "source": [
    "### Scoring"
   ]
  },
  {
   "cell_type": "markdown",
   "metadata": {
    "id": "hI5008Mj5ZdI"
   },
   "source": [
    "Aplico el modelo final a los datos del futuro"
   ]
  },
  {
   "cell_type": "code",
   "execution_count": 53,
   "metadata": {
    "id": "PimBY3N_0ryP"
   },
   "outputs": [],
   "source": [
    "# aplico el modelo a los datos sin clase\n",
    "dfuture <- dataset[foto_mes == 202109]\n",
    "\n",
    "# aplico el modelo a los datos nuevos\n",
    "prediccion <- predict(\n",
    "  modelo_final,\n",
    "  data.matrix(dfuture[, campos_buenos, with= FALSE])\n",
    ")"
   ]
  },
  {
   "cell_type": "markdown",
   "metadata": {
    "id": "D26rNRh55gpw"
   },
   "source": [
    "#### Tabla Prediccion"
   ]
  },
  {
   "cell_type": "code",
   "execution_count": 54,
   "metadata": {
    "id": "RJwg7LHd11yu"
   },
   "outputs": [],
   "source": [
    "# tabla de prediccion\n",
    "\n",
    "tb_prediccion <- dfuture[, list(numero_de_cliente)]\n",
    "tb_prediccion[, prob := prediccion ]\n",
    "\n",
    "# grabo las probabilidad del modelo\n",
    "fwrite(tb_prediccion,\n",
    "  file= \"prediccion.txt\",\n",
    "  sep= \"\\t\"\n",
    ")"
   ]
  },
  {
   "cell_type": "markdown",
   "metadata": {
    "id": "jOt4eG_55ltv"
   },
   "source": [
    "Kaggle Competition Submit"
   ]
  },
  {
   "cell_type": "code",
   "execution_count": 55,
   "metadata": {
    "id": "gWW3tatE12je"
   },
   "outputs": [
    {
     "name": "stdout",
     "output_type": "stream",
     "text": [
      "Successfully submitted to Data Mining, Analista Sr 2025A \n",
      "Successfully submitted to Data Mining, Analista Sr 2025A \n",
      "Successfully submitted to Data Mining, Analista Sr 2025A \n",
      "Successfully submitted to Data Mining, Analista Sr 2025A \n",
      "Successfully submitted to Data Mining, Analista Sr 2025A \n"
     ]
    }
   ],
   "source": [
    "# genero archivos con los  \"envios\" mejores\n",
    "# suba TODOS los archivos a Kaggle\n",
    "\n",
    "# ordeno por probabilidad descendente\n",
    "setorder(tb_prediccion, -prob)\n",
    "\n",
    "dir.create(\"kaggle\")\n",
    "\n",
    "for (envios in PARAM$kaggle$cortes) {\n",
    "\n",
    "  tb_prediccion[, Predicted := 0L] # seteo inicial a 0\n",
    "  tb_prediccion[1:envios, Predicted := 1L] # marclo los primeros\n",
    "\n",
    "  archivo_kaggle <- paste0(\"./kaggle/KA\", PARAM$experimento, \"_\", envios, \".csv\")\n",
    "\n",
    "  # grabo el archivo\n",
    "  fwrite(tb_prediccion[, list(numero_de_cliente, Predicted)],\n",
    "    file= archivo_kaggle,\n",
    "    sep= \",\"\n",
    "  )\n",
    "\n",
    "  # subida a Kaggle, armo la linea de comando\n",
    "  comando <- \"kaggle competitions submit\"\n",
    "  competencia <- paste(\"-c\", PARAM$kaggle$competencia)\n",
    "  arch <- paste( \"-f\", archivo_kaggle)\n",
    "\n",
    "  mensaje <- paste0(\"-m 'envios=\", envios,\n",
    "  \"  semilla=\", PARAM$semilla_primigenia,\n",
    "    \"'\" )\n",
    "\n",
    "  linea <- paste( comando, competencia, arch, mensaje)\n",
    "\n",
    "  salida <- system(linea, intern=TRUE) # el submit a Kaggle\n",
    "  cat(salida, \"\\n\")\n",
    "}"
   ]
  },
  {
   "cell_type": "code",
   "execution_count": 56,
   "metadata": {
    "id": "B9tB2X4439Hg"
   },
   "outputs": [],
   "source": [
    "write_yaml( PARAM, file=\"PARAM.yml\")"
   ]
  },
  {
   "cell_type": "code",
   "execution_count": 57,
   "metadata": {
    "id": "9zA_W25c15DP"
   },
   "outputs": [
    {
     "data": {
      "text/html": [
       "'Tue Jul 29 04:41:49 2025'"
      ],
      "text/latex": [
       "'Tue Jul 29 04:41:49 2025'"
      ],
      "text/markdown": [
       "'Tue Jul 29 04:41:49 2025'"
      ],
      "text/plain": [
       "[1] \"Tue Jul 29 04:41:49 2025\""
      ]
     },
     "metadata": {},
     "output_type": "display_data"
    }
   ],
   "source": [
    "format(Sys.time(), \"%a %b %d %X %Y\")"
   ]
  },
  {
   "cell_type": "markdown",
   "metadata": {
    "id": "UdVZucdLHzZ0"
   },
   "source": [
    "Finalmente usted deberá cargar el resultado de su corrida en la Google Sheet Colaborativa,  hoja **TareaHogar04**\n",
    "<br> Siéntase libre de agregar las columnas que hagan falta a la planilla"
   ]
  },
  {
   "cell_type": "code",
   "execution_count": null,
   "metadata": {
    "id": "WMHh7uNVIJkT"
   },
   "outputs": [],
   "source": []
  }
 ],
 "metadata": {
  "colab": {
   "provenance": []
  },
  "kernelspec": {
   "display_name": "R",
   "language": "R",
   "name": "ir"
  },
  "language_info": {
   "codemirror_mode": "r",
   "file_extension": ".r",
   "mimetype": "text/x-r-source",
   "name": "R",
   "pygments_lexer": "r",
   "version": "4.4.3"
  }
 },
 "nbformat": 4,
 "nbformat_minor": 4
}
