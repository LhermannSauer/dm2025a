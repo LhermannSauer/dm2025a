{
 "cells": [
  {
   "cell_type": "markdown",
   "metadata": {
    "id": "0cEmzeUKFkPh"
   },
   "source": [
    "# Tarea para el Hogar 04"
   ]
  },
  {
   "cell_type": "markdown",
   "metadata": {
    "id": "nSICPpyTGQmC"
   },
   "source": [
    "Esta Tarea para el Hogar 02 se entrega el final de la cuarta clase\n",
    "<br> se espera de usted que intente avanzar con los desafios propuestos y que los traiga terminados para la Clase 05 que será el viernes 01-agosto"
   ]
  },
  {
   "cell_type": "markdown",
   "metadata": {
    "id": "DenyKXkiJ5JN"
   },
   "source": [
    "##  1. Cazatalentos"
   ]
  },
  {
   "cell_type": "markdown",
   "metadata": {
    "id": "l-K2_ZsZGrVD"
   },
   "source": [
    "En la Clase 03 nos hemos enfrentado a  \"La Maldicion del Ganandor\",  elegir el modelo con el mejor puntaje simple no suele ser la mejor estrategia.\n",
    "<br> Lea y ejecute el notebook  **src/CazaTalentos/CazaTalentos.ipynb**\n",
    "<br> en caso de interesarle, participe del Desafío Ordenamiento  que vence el sábado 02 de agosto a las 19:00"
   ]
  },
  {
   "cell_type": "markdown",
   "metadata": {
    "id": "K9GkTOk5J9t3"
   },
   "source": [
    "## 2. Hiperparámetros del LightGBM"
   ]
  },
  {
   "cell_type": "markdown",
   "metadata": {
    "id": "VmEFy0ukKL5T"
   },
   "source": [
    "Los objetivos de esta tarea son:\n",
    "\n",
    "\n",
    "*   Aumentar la rentabilidad de la campaña de marketing de retención proactiva de clientes.\n",
    "*   Generar un mejor modelo optimizando sus hiperparámetros\n",
    "*   Conceptual : investigar los mas relevantes hiperparámetros de LightGBM\n",
    "*   Familiarizarse con la Bayesian Optimization, sus largos tiempos de corrida y opciones para reducirlos\n",
    "*   Familiarizarse con el uso de máquinas virtuales de Google Colab\n",
    "*   Ver un pipeline completo de optimización de hiperparámetros y puesta en producción"
   ]
  },
  {
   "cell_type": "markdown",
   "metadata": {
    "id": "5yvlS6JQLRMd"
   },
   "source": [
    "LightGBM cuenta con mas de 60 hiperparámetros, siendo posible utilizar 40 al mismo tiempo, aunque no razonable.\n",
    "<br> La documentación oficial de los hiperparámetros de LightGBM es  https://lightgbm.readthedocs.io/en/latest/Parameters.html#core-parameters\n"
   ]
  },
  {
   "cell_type": "markdown",
   "metadata": {
    "id": "eydI4YNAsFaf"
   },
   "source": [
    "Se lo alerta sobre que una Optimizacion Bayesiana lleva varias horas de corrida, y usted deberá correr VARIAS optimizaciones para descubrir cuales parámetros conviene optimizar.\n",
    "<br> A pesar que la próxima clase es recien en viernes 01 de agosto, inicie la tarea con tiempo, aprenda a planificar estratégicamente sus corridas como un@ científ@  de datos."
   ]
  },
  {
   "cell_type": "markdown",
   "metadata": {
    "id": "RzU4S0SeMcpp"
   },
   "source": [
    "Es necesario investigar cuales son los hiperparámetros de LightGBM que vale la pena optimizar en una Bayesian Optimization, ya que los realmente utiles son apenas un reducido subconjunto.\n",
    "<br>Usted deberá investigar cuales son los hiperparámetros mas relevantes de LightGBM, su primer alternativa es preguntándole a su amigo con capacidades especiales ChatGPT o sus endogámicos familiares Claude, DeepSeek, Gemini, Grok, etc\n",
    "<br> La segunda alternativa es la propia documentación de LightGBM  https://lightgbm.readthedocs.io/en/latest/Parameters-Tuning.html\n"
   ]
  },
  {
   "cell_type": "markdown",
   "metadata": {
    "id": "LNptUgI_NWWG"
   },
   "source": [
    "Adicionalmente podra buscar información como la que proveen esta diminuta muestra aleatoria de artículos ligeros:\n",
    "*  https://medium.com/@sarahzouinina/a-deep-dive-into-lightgbm-how-to-choose-and-tune-parameters-7c584945842e\n",
    "*  https://www.kaggle.com/code/somang1418/tuning-hyperparameters-under-10-minutes-lgbm\n",
    "*  https://towardsdatascience.com/beginners-guide-to-the-must-know-lightgbm-hyperparameters-a0005a812702/\n",
    "\n",
    "\n",
    "<br>  La muestra anterior se brinda a modo de ejemplo, usted deberá buscar muuuuchas  fuentes adicionales de información\n",
    "<br> Tenga presente que LightGBM es el estado del arte en modelado predictivo para datasets estructurado, que son el 90% del trabajo del 95% de los Data Scientists en Argentina."
   ]
  },
  {
   "cell_type": "markdown",
   "metadata": {
    "id": "WpUThBojODyK"
   },
   "source": [
    "El desafío de esta tarea es:\n",
    "* Qué hiperparparámetros conviene optimizar?  Las recomendaciones de los artículos ligeros es siempre sensata?  Sus autores realmente hicieron experimentos o son siemplemente escritores de entretenimiento carente de base científica?\n",
    "* Elegidos los hiperparámetros, cual es el  <desde, hasta> que se debe utilizar en la Bayesian Optimization ?\n",
    "* Realmente vale la pena optimizar 10 o 16 hiperparámetros al mismo tiempo ?  No resulta contraproducente una búsqueda en un espacio de tal alta dimensionalidad ?"
   ]
  },
  {
   "cell_type": "markdown",
   "metadata": {
    "id": "PX0qg_c0yqob"
   },
   "source": [
    "#### 2.1  Seteo del ambiente en Google Colab"
   ]
  },
  {
   "cell_type": "markdown",
   "metadata": {
    "id": "NGY7H9xza7Zr"
   },
   "source": [
    "Esta parte se debe correr con el runtime en Python3\n",
    "<br>Ir al menu, Runtime -> Change Runtime Type -> Runtime type ->  **Python 3**"
   ]
  },
  {
   "cell_type": "markdown",
   "metadata": {
    "id": "7PupIBNba7Zr"
   },
   "source": [
    "Conectar la virtual machine donde esta corriendo Google Colab con el  Google Drive, para poder tener persistencia de archivos"
   ]
  },
  {
   "cell_type": "code",
   "execution_count": null,
   "metadata": {
    "id": "9LpZCst5a7Zs"
   },
   "outputs": [],
   "source": [
    "# primero establecer el Runtime de Python 3\n",
    "from google.colab import drive\n",
    "drive.mount('/content/.drive')"
   ]
  },
  {
   "cell_type": "markdown",
   "metadata": {
    "id": "JYC_F-wla7Zs"
   },
   "source": [
    "Para correr la siguiente celda es fundamental en Arranque en Frio haber copiado el archivo kaggle.json al Google Drive, en la carpeta indicada en el instructivo\n",
    "\n",
    "<br>los siguientes comando estan en shell script de Linux\n",
    "*   Crear las carpetas en el Google Drive\n",
    "*   \"instalar\" el archivo kaggle.json desde el Google Drive a la virtual machine para que pueda ser utilizado por la libreria  kaggle de Python\n",
    "*   Bajar el  **dataset_pequeno**  al  Google Drive  y tambien al disco local de la virtual machine que esta corriendo Google Colab\n",
    "\n"
   ]
  },
  {
   "cell_type": "code",
   "execution_count": 1,
   "metadata": {
    "id": "XWLelftXa7Zt"
   },
   "outputs": [
    {
     "ename": "ERROR",
     "evalue": "Error in parse(text = input): <text>:1:1: unexpected SPECIAL\n1: %%\n    ^\n",
     "output_type": "error",
     "traceback": [
      "Error in parse(text = input): <text>:1:1: unexpected SPECIAL\n1: %%\n    ^\nTraceback:\n"
     ]
    }
   ],
   "source": [
    "%%shell\n",
    "\n",
    "mkdir -p \"/content/.drive/My Drive/dm\"\n",
    "mkdir -p \"/content/buckets\"\n",
    "ln -s \"/content/.drive/My Drive/dm\" /content/buckets/b1\n",
    "\n",
    "mkdir -p ~/.kaggle\n",
    "cp /content/buckets/b1/kaggle/kaggle.json  ~/.kaggle\n",
    "chmod 600 ~/.kaggle/kaggle.json\n",
    "\n",
    "\n",
    "mkdir -p /content/buckets/b1/exp\n",
    "mkdir -p /content/buckets/b1/datasets\n",
    "mkdir -p /content/datasets\n",
    "\n",
    "\n",
    "\n",
    "archivo_origen=\"https://storage.googleapis.com/open-courses/itba2025-8d0a/dataset_pequeno.csv\"\n",
    "archivo_destino=\"/content/datasets/dataset_pequeno.csv\"\n",
    "archivo_destino_bucket=\"/content/buckets/b1/datasets/dataset_pequeno.csv\"\n",
    "\n",
    "if ! test -f $archivo_destino_bucket; then\n",
    "  wget  $archivo_origen  -O $archivo_destino_bucket\n",
    "fi\n",
    "\n",
    "\n",
    "if ! test -f $archivo_destino; then\n",
    "  cp  $archivo_destino_bucket  $archivo_destino\n",
    "fi\n"
   ]
  },
  {
   "cell_type": "markdown",
   "metadata": {
    "id": "oSKhZRToy2F7"
   },
   "source": [
    "### 2.2 Optimizacion Hiperparámetros"
   ]
  },
  {
   "cell_type": "markdown",
   "metadata": {
    "id": "2kwPpHAtSmix"
   },
   "source": [
    "Esta parte se debe correr con el runtime en lenguaje R Ir al menu, Runtime -> Change Runtime Type -> Runtime type -> R"
   ]
  },
  {
   "cell_type": "markdown",
   "metadata": {
    "id": "xp4-Bj3aYI8d"
   },
   "source": [
    "### 2.2.1 Inicio"
   ]
  },
  {
   "cell_type": "markdown",
   "metadata": {
    "id": "zy8YTZfESxeJ"
   },
   "source": [
    "limpio el ambiente de R"
   ]
  },
  {
   "cell_type": "code",
   "execution_count": 1,
   "metadata": {
    "id": "gBq__iAdQliq"
   },
   "outputs": [
    {
     "data": {
      "text/html": [
       "'Thu Jul 31 14:49:27 2025'"
      ],
      "text/latex": [
       "'Thu Jul 31 14:49:27 2025'"
      ],
      "text/markdown": [
       "'Thu Jul 31 14:49:27 2025'"
      ],
      "text/plain": [
       "[1] \"Thu Jul 31 14:49:27 2025\""
      ]
     },
     "metadata": {},
     "output_type": "display_data"
    }
   ],
   "source": [
    "format(Sys.time(), \"%a %b %d %X %Y\")"
   ]
  },
  {
   "cell_type": "code",
   "execution_count": 2,
   "metadata": {
    "id": "7rdVrBojS1IV"
   },
   "outputs": [
    {
     "data": {
      "text/html": [
       "<table class=\"dataframe\">\n",
       "<caption>A matrix: 2 × 6 of type dbl</caption>\n",
       "<thead>\n",
       "\t<tr><th></th><th scope=col>used</th><th scope=col>(Mb)</th><th scope=col>gc trigger</th><th scope=col>(Mb)</th><th scope=col>max used</th><th scope=col>(Mb)</th></tr>\n",
       "</thead>\n",
       "<tbody>\n",
       "\t<tr><th scope=row>Ncells</th><td> 656846</td><td>35.1</td><td>1439380</td><td>76.9</td><td>1439380</td><td>76.9</td></tr>\n",
       "\t<tr><th scope=row>Vcells</th><td>1224875</td><td> 9.4</td><td>8388608</td><td>64.0</td><td>1924969</td><td>14.7</td></tr>\n",
       "</tbody>\n",
       "</table>\n"
      ],
      "text/latex": [
       "A matrix: 2 × 6 of type dbl\n",
       "\\begin{tabular}{r|llllll}\n",
       "  & used & (Mb) & gc trigger & (Mb) & max used & (Mb)\\\\\n",
       "\\hline\n",
       "\tNcells &  656846 & 35.1 & 1439380 & 76.9 & 1439380 & 76.9\\\\\n",
       "\tVcells & 1224875 &  9.4 & 8388608 & 64.0 & 1924969 & 14.7\\\\\n",
       "\\end{tabular}\n"
      ],
      "text/markdown": [
       "\n",
       "A matrix: 2 × 6 of type dbl\n",
       "\n",
       "| <!--/--> | used | (Mb) | gc trigger | (Mb) | max used | (Mb) |\n",
       "|---|---|---|---|---|---|---|\n",
       "| Ncells |  656846 | 35.1 | 1439380 | 76.9 | 1439380 | 76.9 |\n",
       "| Vcells | 1224875 |  9.4 | 8388608 | 64.0 | 1924969 | 14.7 |\n",
       "\n"
      ],
      "text/plain": [
       "       used    (Mb) gc trigger (Mb) max used (Mb)\n",
       "Ncells  656846 35.1 1439380    76.9 1439380  76.9\n",
       "Vcells 1224875  9.4 8388608    64.0 1924969  14.7"
      ]
     },
     "metadata": {},
     "output_type": "display_data"
    }
   ],
   "source": [
    "# limpio la memoria\n",
    "rm(list=ls(all.names=TRUE)) # remove all objects\n",
    "gc(full=TRUE, verbose=FALSE) # garbage collection"
   ]
  },
  {
   "cell_type": "markdown",
   "metadata": {
    "id": "kuPfQ7ksjwW3"
   },
   "source": [
    "### 2.2.2 Carga de Librerias"
   ]
  },
  {
   "cell_type": "code",
   "execution_count": 3,
   "metadata": {
    "id": "lVyxLaJ1j1J_"
   },
   "outputs": [
    {
     "name": "stderr",
     "output_type": "stream",
     "text": [
      "Loading required package: data.table\n",
      "\n",
      "Loading required package: parallel\n",
      "\n",
      "Loading required package: primes\n",
      "\n",
      "Loading required package: rlist\n",
      "\n",
      "Loading required package: yaml\n",
      "\n",
      "Loading required package: lightgbm\n",
      "\n",
      "Loading required package: DiceKriging\n",
      "\n",
      "Loading required package: mlrMBO\n",
      "\n",
      "Loading required package: mlr\n",
      "\n",
      "Loading required package: ParamHelpers\n",
      "\n",
      "Loading required package: smoof\n",
      "\n",
      "Loading required package: checkmate\n",
      "\n",
      "\n",
      "Attaching package: ‘checkmate’\n",
      "\n",
      "\n",
      "The following object is masked from ‘package:DiceKriging’:\n",
      "\n",
      "    checkNames\n",
      "\n",
      "\n"
     ]
    }
   ],
   "source": [
    "# cargo las librerias que necesito\n",
    "require(\"data.table\")\n",
    "require(\"parallel\")\n",
    "\n",
    "if( !require(\"primes\") ) install.packages(\"primes\")\n",
    "require(\"primes\")\n",
    "\n",
    "if( !require(\"utils\") ) install.packages(\"utils\")\n",
    "require(\"utils\")\n",
    "\n",
    "if( !require(\"rlist\") ) install.packages(\"rlist\")\n",
    "require(\"rlist\")\n",
    "\n",
    "if( !require(\"yaml\")) install.packages(\"yaml\")\n",
    "require(\"yaml\")\n",
    "\n",
    "if( !require(\"lightgbm\") ) install.packages(\"lightgbm\")\n",
    "require(\"lightgbm\")\n",
    "\n",
    "if( !require(\"DiceKriging\") ) install.packages(\"DiceKriging\")\n",
    "require(\"DiceKriging\")\n",
    "\n",
    "if( !require(\"mlrMBO\") ) install.packages(\"mlrMBO\")\n",
    "require(\"mlrMBO\")"
   ]
  },
  {
   "cell_type": "markdown",
   "metadata": {
    "id": "Iz-6Qt6BUaA3"
   },
   "source": [
    "### 2.2.3 Definicion de Parametros"
   ]
  },
  {
   "cell_type": "markdown",
   "metadata": {
    "id": "cOdlKd7lUm2I"
   },
   "source": [
    "aqui debe cargar SU semilla primigenia\n",
    "<br>recuerde cambiar el numero de experimento en cada corrida nueva"
   ]
  },
  {
   "cell_type": "code",
   "execution_count": 8,
   "metadata": {
    "id": "ASYkebOu2mF6"
   },
   "outputs": [],
   "source": [
    "PARAM <- list()\n",
    "PARAM$experimento <- \"4951_11\"\n",
    "PARAM$semilla_primigenia <- 106109\n"
   ]
  },
  {
   "cell_type": "code",
   "execution_count": 9,
   "metadata": {
    "id": "ezOhQdbA293o"
   },
   "outputs": [],
   "source": [
    "PARAM$kaggle$competencia <- \"data-mining-analista-sr-2025-a\"\n",
    "PARAM$kaggle$cortes <- seq(10000, 12000, by= 500)"
   ]
  },
  {
   "cell_type": "code",
   "execution_count": 10,
   "metadata": {
    "id": "jtB0Lub42rHO"
   },
   "outputs": [],
   "source": [
    "# un undersampling de 0.1  toma solo el 10% de los CONTINUA\n",
    "# undersampling de 1.0  implica tomar TODOS los datos\n",
    "\n",
    "PARAM$trainingstrategy$undersampling <- 0.1"
   ]
  },
  {
   "cell_type": "code",
   "execution_count": 11,
   "metadata": {
    "id": "OFxm-xiNUOJX"
   },
   "outputs": [],
   "source": [
    "# Parametros LightGBM\n",
    "\n",
    "PARAM$hyperparametertuning$xval_folds <- 5\n",
    "\n",
    "# parametros fijos del LightGBM que se pisaran con la parte variable de la BO\n",
    "PARAM$lgbm$param_fijos <-  list(\n",
    "  boosting= \"gbdt\", # puede ir  dart  , ni pruebe random_forest\n",
    "  objective= \"binary\",\n",
    "  metric= \"auc\",\n",
    "  first_metric_only= FALSE,\n",
    "  boost_from_average= TRUE,\n",
    "  feature_pre_filter= FALSE,\n",
    "  force_row_wise= TRUE, # para reducir warnings\n",
    "  verbosity= -100,\n",
    "\n",
    "  seed= PARAM$semilla_primigenia,\n",
    "\n",
    "  max_depth= -1L, # -1 significa no limitar,  por ahora lo dejo fijo\n",
    "  min_gain_to_split= 0, # min_gain_to_split >= 0\n",
    "  min_sum_hessian_in_leaf= 1.098, #  min_sum_hessian_in_leaf >= 0.0\n",
    "  lambda_l1= 0.1365, # lambda_l1 >= 0.0\n",
    "  lambda_l2= 0.9895, # lambda_l2 >= 0.0\n",
    "  max_bin= 31L, # lo debo dejar fijo, no participa de la BO\n",
    "    \n",
    "  bagging_fraction= 1.0, # 0.0 < bagging_fraction <= 1.0\n",
    "  pos_bagging_fraction= 1.0, # 0.0 < pos_bagging_fraction <= 1.0\n",
    "  neg_bagging_fraction= 0.1812163, # 0.0 < neg_bagging_fraction <= 1.0\n",
    "  is_unbalance= FALSE, #\n",
    "  scale_pos_weight= 4.268, # scale_pos_weight > 0.0\n",
    "\n",
    "  drop_rate= 0.1, # 0.0 < neg_bagging_fraction <= 1.0\n",
    "  max_drop= 50, # <=0 means no limit\n",
    "  skip_drop= 0.5, # 0.0 <= skip_drop <= 1.0\n",
    "\n",
    "  extra_trees= FALSE,\n",
    "\n",
    "  num_iterations= 1271,\n",
    "  learning_rate= 0.0102,\n",
    "  feature_fraction= 0.58,\n",
    "  num_leaves= 51,\n",
    "  min_data_in_leaf= 500\n",
    ")\n"
   ]
  },
  {
   "cell_type": "markdown",
   "metadata": {
    "id": "D5Yj-JV4yvOt"
   },
   "source": [
    "Aqui se definen los hiperparámetros de LightGBM que participan de la Bayesian Optimization\n",
    "<br> si es un numero entero debe ir  makeIntegerParam\n",
    "<br> si es un numero real (con decimales) debe ir  makeNumericParam\n",
    "<br> es muy importante leer cuales son un lower y upper  permitidos y ademas razonables"
   ]
  },
  {
   "cell_type": "code",
   "execution_count": 12,
   "metadata": {
    "id": "jENpR26ZyuS8"
   },
   "outputs": [],
   "source": [
    "# Aqui se cargan los bordes de los hiperparametros de la BO\n",
    "PARAM$hypeparametertuning$hs <- makeParamSet(\n",
    "  makeIntegerParam(\"num_iterations\", lower= 8L, upper= 2048L),\n",
    "  makeNumericParam(\"learning_rate\", lower= 0.01, upper= 0.3),\n",
    "  makeNumericParam(\"feature_fraction\", lower= 0.1, upper= 1.0),\n",
    "  makeIntegerParam(\"num_leaves\", lower= 8L, upper= 2048L),\n",
    "  makeIntegerParam(\"min_data_in_leaf\", lower= 1L, upper= 8000L),\n",
    "  makeNumericParam(\"drop_rate\", lower= 0, upper= 0.1812163)\n",
    "\n",
    ")"
   ]
  },
  {
   "cell_type": "markdown",
   "metadata": {
    "id": "-_RPFUb3zMoW"
   },
   "source": [
    "A mayor cantidad de hiperparámetros, se debe aumentar las iteraciones de la Bayesian Optimization\n",
    "<br> 30 es un valor muy tacaño, pero corre rápido\n",
    "<br> deberia partir de 50, alcanzando los 100 si se dispone de tiempo"
   ]
  },
  {
   "cell_type": "code",
   "execution_count": 17,
   "metadata": {
    "id": "q5Rd3pnbzSiG"
   },
   "outputs": [],
   "source": [
    "PARAM$hyperparametertuning$iteraciones <- 100 # iteraciones bayesianas"
   ]
  },
  {
   "cell_type": "markdown",
   "metadata": {
    "id": "4RWZXL1VZjMI"
   },
   "source": [
    "### 2.2.4  Preprocesamiento"
   ]
  },
  {
   "cell_type": "code",
   "execution_count": 18,
   "metadata": {
    "id": "j3toG9-lZm4K"
   },
   "outputs": [],
   "source": [
    "# carpeta de trabajo\n",
    "\n",
    "setwd(\"/content/buckets/b1/exp\")\n",
    "experimento_folder <- paste0(\"HT\", PARAM$experimento)\n",
    "dir.create(experimento_folder, showWarnings=FALSE)\n",
    "setwd( paste0(\"/content/buckets/b1/exp/\", experimento_folder ))"
   ]
  },
  {
   "cell_type": "code",
   "execution_count": 19,
   "metadata": {
    "id": "FM3lxKoLZ643"
   },
   "outputs": [],
   "source": [
    "# lectura del dataset\n",
    "\n",
    "dataset <- fread(\"/content/datasets/dataset_pequeno.csv\")"
   ]
  },
  {
   "cell_type": "code",
   "execution_count": 20,
   "metadata": {
    "id": "OsJ-91UeZ-I_"
   },
   "outputs": [],
   "source": [
    "dataset_train <- dataset[foto_mes %in% c(202107)]"
   ]
  },
  {
   "cell_type": "code",
   "execution_count": 21,
   "metadata": {
    "id": "vrWE7BE0aB2J"
   },
   "outputs": [],
   "source": [
    "# paso la clase a binaria que tome valores {0,1}  enteros\n",
    "#  BAJA+1 y BAJA+2  son  1,   CONTINUA es 0\n",
    "\n",
    "dataset_train[,\n",
    "  clase01 := ifelse(clase_ternaria %in% c(\"BAJA+2\",\"BAJA+1\"), 1L, 0L)\n",
    "]"
   ]
  },
  {
   "cell_type": "code",
   "execution_count": 22,
   "metadata": {
    "id": "jP7YlQBnaW6W"
   },
   "outputs": [],
   "source": [
    "# defino los datos que forma parte del training\n",
    "# aqui se hace el undersampling de los CONTINUA\n",
    "# notar que para esto utilizo la SEGUNDA semilla\n",
    "\n",
    "set.seed(PARAM$semilla_primigenia, kind = \"L'Ecuyer-CMRG\")\n",
    "dataset_train[, azar := runif(nrow(dataset_train))]\n",
    "dataset_train[, training := 0L]\n",
    "\n",
    "dataset_train[\n",
    "  foto_mes %in% c(202107) &\n",
    "    (azar <= PARAM$trainingstrategy$undersampling | clase_ternaria %in% c(\"BAJA+1\", \"BAJA+2\")),\n",
    "  training := 1L\n",
    "]"
   ]
  },
  {
   "cell_type": "code",
   "execution_count": 23,
   "metadata": {
    "id": "xElu4s5W4rX7"
   },
   "outputs": [],
   "source": [
    "# los campos que se van a utilizar\n",
    "\n",
    "campos_buenos <- setdiff(\n",
    "  colnames(dataset_train),\n",
    "  c(\"clase_ternaria\", \"clase01\", \"azar\", \"training\")\n",
    ")"
   ]
  },
  {
   "cell_type": "code",
   "execution_count": 24,
   "metadata": {
    "id": "PppMHcGYaaol"
   },
   "outputs": [
    {
     "data": {
      "text/html": [
       "18462"
      ],
      "text/latex": [
       "18462"
      ],
      "text/markdown": [
       "18462"
      ],
      "text/plain": [
       "[1] 18462"
      ]
     },
     "metadata": {},
     "output_type": "display_data"
    },
    {
     "data": {
      "text/html": [
       "154"
      ],
      "text/latex": [
       "154"
      ],
      "text/markdown": [
       "154"
      ],
      "text/plain": [
       "[1] 154"
      ]
     },
     "metadata": {},
     "output_type": "display_data"
    }
   ],
   "source": [
    "# dejo los datos en el formato que necesita LightGBM\n",
    "\n",
    "dtrain <- lgb.Dataset(\n",
    "  data= data.matrix(dataset_train[training == 1L, campos_buenos, with= FALSE]),\n",
    "  label= dataset_train[training == 1L, clase01],\n",
    "  free_raw_data= FALSE\n",
    ")\n",
    "\n",
    "nrow(dtrain)\n",
    "ncol(dtrain)"
   ]
  },
  {
   "cell_type": "markdown",
   "metadata": {
    "id": "Ta-EkOu3cphF"
   },
   "source": [
    "2.2.5 Configuracion Bayesian Optimization"
   ]
  },
  {
   "cell_type": "code",
   "execution_count": 25,
   "metadata": {
    "id": "cjgfurjdfiXb"
   },
   "outputs": [],
   "source": [
    "# En el argumento x llegan los parmaetros de la bayesiana\n",
    "#  devuelve la AUC en cross validation del modelo entrenado\n",
    "\n",
    "EstimarGanancia_AUC_lightgbm <- function(x) {\n",
    "\n",
    "  # x pisa (o agrega) a param_fijos\n",
    "  param_completo <- modifyList(PARAM$lgbm$param_fijos, x)\n",
    "\n",
    "  # entreno LightGBM\n",
    "  modelocv <- lgb.cv(\n",
    "    data= dtrain,\n",
    "    nfold= PARAM$hyperparametertuning$xval_folds,\n",
    "    stratified= TRUE,\n",
    "    param= param_completo\n",
    "  )\n",
    "\n",
    "  # obtengo la ganancia\n",
    "  AUC <- modelocv$best_score\n",
    "\n",
    "  # hago espacio en la memoria\n",
    "  rm(modelocv)\n",
    "  gc(full= TRUE, verbose= FALSE)\n",
    "\n",
    "  message(format(Sys.time(), \"%a %b %d %X %Y\"), \" AUC \", AUC)\n",
    "\n",
    "  return(AUC)\n",
    "}"
   ]
  },
  {
   "cell_type": "code",
   "execution_count": 26,
   "metadata": {
    "id": "WLi_o1hocvN-"
   },
   "outputs": [],
   "source": [
    "# Aqui comienza la configuracion de la Bayesian Optimization\n",
    "\n",
    "# en este archivo quedan la evolucion binaria de la BO\n",
    "kbayesiana <- \"bayesiana.RDATA\"\n",
    "\n",
    "funcion_optimizar <- EstimarGanancia_AUC_lightgbm # la funcion que voy a maximizar\n",
    "\n",
    "configureMlr(show.learner.output= FALSE)\n",
    "\n",
    "# configuro la busqueda bayesiana,  los hiperparametros que se van a optimizar\n",
    "# por favor, no desesperarse por lo complejo\n",
    "\n",
    "obj.fun <- makeSingleObjectiveFunction(\n",
    "  fn= funcion_optimizar, # la funcion que voy a maximizar\n",
    "  minimize= FALSE, # estoy Maximizando la ganancia\n",
    "  noisy= TRUE,\n",
    "  par.set= PARAM$hypeparametertuning$hs, # definido al comienzo del programa\n",
    "  has.simple.signature= FALSE # paso los parametros en una lista\n",
    ")\n",
    "\n",
    "# cada 600 segundos guardo el resultado intermedio\n",
    "ctrl <- makeMBOControl(\n",
    "  save.on.disk.at.time= 600, # se graba cada 600 segundos\n",
    "  save.file.path= kbayesiana\n",
    ") # se graba cada 600 segundos\n",
    "\n",
    "# indico la cantidad de iteraciones que va a tener la Bayesian Optimization\n",
    "ctrl <- setMBOControlTermination(\n",
    "  ctrl,\n",
    "  iters= PARAM$hyperparametertuning$iteraciones\n",
    ") # cantidad de iteraciones\n",
    "\n",
    "# defino el método estandar para la creacion de los puntos iniciales,\n",
    "# los \"No Inteligentes\"\n",
    "ctrl <- setMBOControlInfill(ctrl, crit= makeMBOInfillCritEI())\n",
    "\n",
    "# establezco la funcion que busca el maximo\n",
    "surr.km <- makeLearner(\n",
    "  \"regr.km\",\n",
    "  predict.type= \"se\",\n",
    "  covtype= \"matern3_2\",\n",
    "  control= list(trace= TRUE)\n",
    ")\n"
   ]
  },
  {
   "cell_type": "markdown",
   "metadata": {
    "id": "_uUeVo5pc4zc"
   },
   "source": [
    "2.2.6 Corrida Bayesian Optimization"
   ]
  },
  {
   "cell_type": "code",
   "execution_count": 27,
   "metadata": {
    "id": "RcABNaKGciaz"
   },
   "outputs": [
    {
     "name": "stderr",
     "output_type": "stream",
     "text": [
      "Computing y column(s) for design. Not provided.\n",
      "\n",
      "Thu Jul 31 14:52:32 2025 AUC 0.923206186251612\n",
      "\n",
      "Thu Jul 31 14:52:45 2025 AUC 0.904309898052675\n",
      "\n",
      "Thu Jul 31 14:52:49 2025 AUC 0.5\n",
      "\n",
      "Thu Jul 31 14:53:11 2025 AUC 0.916704278261753\n",
      "\n",
      "Thu Jul 31 14:53:18 2025 AUC 0.92361203829942\n",
      "\n",
      "Thu Jul 31 14:53:34 2025 AUC 0.90273270089317\n",
      "\n",
      "Thu Jul 31 14:53:35 2025 AUC 0.916045043091829\n",
      "\n",
      "Thu Jul 31 14:53:51 2025 AUC 0.90840137164085\n",
      "\n",
      "Thu Jul 31 14:53:58 2025 AUC 0.5\n",
      "\n",
      "Thu Jul 31 14:54:01 2025 AUC 0.896143509571357\n",
      "\n",
      "Thu Jul 31 14:54:08 2025 AUC 0.895120110641675\n",
      "\n",
      "Thu Jul 31 14:54:16 2025 AUC 0.922786940320989\n",
      "\n",
      "Thu Jul 31 14:54:44 2025 AUC 0.92577111982302\n",
      "\n",
      "Thu Jul 31 14:55:10 2025 AUC 0.920244687620183\n",
      "\n",
      "Thu Jul 31 14:55:18 2025 AUC 0.902542971521493\n",
      "\n",
      "Thu Jul 31 14:55:31 2025 AUC 0.897265936847756\n",
      "\n",
      "Thu Jul 31 14:55:41 2025 AUC 0.913414755800571\n",
      "\n",
      "Thu Jul 31 14:55:43 2025 AUC 0.88733520866884\n",
      "\n",
      "Thu Jul 31 14:55:46 2025 AUC 0.911952554773125\n",
      "\n",
      "Thu Jul 31 14:56:05 2025 AUC 0.920099369601615\n",
      "\n",
      "Thu Jul 31 14:56:23 2025 AUC 0.922591069797139\n",
      "\n",
      "Thu Jul 31 14:56:36 2025 AUC 0.893769602078823\n",
      "\n",
      "Thu Jul 31 14:56:44 2025 AUC 0.859453231853169\n",
      "\n",
      "Thu Jul 31 14:57:03 2025 AUC 0.927682818210814\n",
      "\n",
      "[mbo] 0: num_iterations=1025; learning_rate=0.222; feature_fraction=0.672; num_leaves=1129; min_data_in_leaf=1214; drop_rate=0.0254 : y = 0.923 : 12.9 secs : initdesign\n",
      "\n",
      "[mbo] 0: num_iterations=1772; learning_rate=0.135; feature_fraction=0.756; num_leaves=608; min_data_in_leaf=5193; drop_rate=0.093 : y = 0.904 : 12.7 secs : initdesign\n",
      "\n",
      "[mbo] 0: num_iterations=1057; learning_rate=0.191; feature_fraction=0.713; num_leaves=287; min_data_in_leaf=7390; drop_rate=0.13 : y = 0.5 : 3.5 secs : initdesign\n",
      "\n",
      "[mbo] 0: num_iterations=1526; learning_rate=0.235; feature_fraction=0.456; num_leaves=1769; min_data_in_leaf=3190; drop_rate=0.116 : y = 0.917 : 22.7 secs : initdesign\n",
      "\n",
      "[mbo] 0: num_iterations=546; learning_rate=0.0901; feature_fraction=0.596; num_leaves=1302; min_data_in_leaf=1412; drop_rate=0.172 : y = 0.924 : 7.2 secs : initdesign\n",
      "\n",
      "[mbo] 0: num_iterations=1322; learning_rate=0.27; feature_fraction=0.296; num_leaves=1524; min_data_in_leaf=4986; drop_rate=0.0465 : y = 0.903 : 15.5 secs : initdesign\n",
      "\n",
      "[mbo] 0: num_iterations=37; learning_rate=0.174; feature_fraction=0.41; num_leaves=762; min_data_in_leaf=2340; drop_rate=0.139 : y = 0.916 : 0.9 secs : initdesign\n",
      "\n",
      "[mbo] 0: num_iterations=1403; learning_rate=0.157; feature_fraction=0.563; num_leaves=1015; min_data_in_leaf=4257; drop_rate=0.111 : y = 0.908 : 16.1 secs : initdesign\n",
      "\n",
      "[mbo] 0: num_iterations=779; learning_rate=0.0491; feature_fraction=0.546; num_leaves=811; min_data_in_leaf=7686; drop_rate=0.0636 : y = 0.5 : 7.5 secs : initdesign\n",
      "\n",
      "[mbo] 0: num_iterations=179; learning_rate=0.256; feature_fraction=0.19; num_leaves=1642; min_data_in_leaf=5590; drop_rate=0.0762 : y = 0.896 : 2.3 secs : initdesign\n",
      "\n",
      "[mbo] 0: num_iterations=1164; learning_rate=0.0796; feature_fraction=0.788; num_leaves=1059; min_data_in_leaf=6014; drop_rate=0.175 : y = 0.895 : 7.6 secs : initdesign\n",
      "\n",
      "[mbo] 0: num_iterations=485; learning_rate=0.282; feature_fraction=0.347; num_leaves=130; min_data_in_leaf=814; drop_rate=0.125 : y = 0.923 : 8.0 secs : initdesign\n",
      "\n",
      "[mbo] 0: num_iterations=1616; learning_rate=0.104; feature_fraction=0.851; num_leaves=1241; min_data_in_leaf=551; drop_rate=0.0356 : y = 0.926 : 27.8 secs : initdesign\n",
      "\n",
      "[mbo] 0: num_iterations=1934; learning_rate=0.297; feature_fraction=0.369; num_leaves=573; min_data_in_leaf=2098; drop_rate=0.0861 : y = 0.92 : 25.7 secs : initdesign\n",
      "\n",
      "[mbo] 0: num_iterations=655; learning_rate=0.0251; feature_fraction=0.26; num_leaves=2011; min_data_in_leaf=4463; drop_rate=0.104 : y = 0.903 : 8.0 secs : initdesign\n",
      "\n",
      "[mbo] 0: num_iterations=1276; learning_rate=0.149; feature_fraction=0.225; num_leaves=360; min_data_in_leaf=5696; drop_rate=0.00917 : y = 0.897 : 13.6 secs : initdesign\n",
      "\n",
      "[mbo] 0: num_iterations=770; learning_rate=0.0588; feature_fraction=0.493; num_leaves=8; min_data_in_leaf=3612; drop_rate=0.156 : y = 0.913 : 9.9 secs : initdesign\n",
      "\n",
      "[mbo] 0: num_iterations=161; learning_rate=0.0163; feature_fraction=0.901; num_leaves=485; min_data_in_leaf=6889; drop_rate=0.0685 : y = 0.887 : 1.3 secs : initdesign\n",
      "\n",
      "[mbo] 0: num_iterations=310; learning_rate=0.242; feature_fraction=0.831; num_leaves=1445; min_data_in_leaf=3770; drop_rate=0.0539 : y = 0.912 : 3.5 secs : initdesign\n",
      "\n",
      "[mbo] 0: num_iterations=1632; learning_rate=0.115; feature_fraction=0.165; num_leaves=1914; min_data_in_leaf=2847; drop_rate=0.00383 : y = 0.92 : 19.0 secs : initdesign\n",
      "\n",
      "[mbo] 0: num_iterations=1857; learning_rate=0.119; feature_fraction=0.649; num_leaves=1578; min_data_in_leaf=1922; drop_rate=0.159 : y = 0.923 : 18.0 secs : initdesign\n",
      "\n",
      "[mbo] 0: num_iterations=1990; learning_rate=0.179; feature_fraction=0.98; num_leaves=1823; min_data_in_leaf=6457; drop_rate=0.0203 : y = 0.894 : 12.7 secs : initdesign\n",
      "\n",
      "[mbo] 0: num_iterations=874; learning_rate=0.21; feature_fraction=0.132; num_leaves=865; min_data_in_leaf=7305; drop_rate=0.151 : y = 0.859 : 8.6 secs : initdesign\n",
      "\n",
      "[mbo] 0: num_iterations=377; learning_rate=0.0394; feature_fraction=0.931; num_leaves=206; min_data_in_leaf=81; drop_rate=0.0406 : y = 0.928 : 18.4 secs : initdesign\n",
      "\n",
      "Thu Jul 31 14:57:13 2025 AUC 0.899752027291036\n",
      "\n",
      "[mbo] 1: num_iterations=1265; learning_rate=0.0101; feature_fraction=0.915; num_leaves=1116; min_data_in_leaf=4930; drop_rate=0.177 : y = 0.9 : 8.8 secs : infill_ei\n",
      "\n",
      "Thu Jul 31 14:57:14 2025 AUC 0.875223999117997\n",
      "\n",
      "[mbo] 2: num_iterations=36; learning_rate=0.012; feature_fraction=0.945; num_leaves=536; min_data_in_leaf=5950; drop_rate=0.0367 : y = 0.875 : 0.6 secs : infill_ei\n",
      "\n",
      "Thu Jul 31 14:57:29 2025 AUC 0.910140334501788\n",
      "\n",
      "[mbo] 3: num_iterations=1955; learning_rate=0.045; feature_fraction=0.772; num_leaves=1382; min_data_in_leaf=4033; drop_rate=0.168 : y = 0.91 : 14.1 secs : infill_ei\n",
      "\n",
      "Thu Jul 31 14:57:36 2025 AUC 0.92340086082396\n",
      "\n",
      "[mbo] 4: num_iterations=709; learning_rate=0.0748; feature_fraction=0.825; num_leaves=232; min_data_in_leaf=1590; drop_rate=0.105 : y = 0.923 : 6.7 secs : infill_ei\n",
      "\n",
      "Thu Jul 31 14:58:12 2025 AUC 0.924816455380139\n",
      "\n",
      "[mbo] 5: num_iterations=1927; learning_rate=0.13; feature_fraction=0.547; num_leaves=667; min_data_in_leaf=722; drop_rate=0.0968 : y = 0.925 : 34.8 secs : infill_ei\n",
      "\n",
      "Thu Jul 31 14:58:23 2025 AUC 0.90518184009363\n",
      "\n",
      "[mbo] 6: num_iterations=1585; learning_rate=0.082; feature_fraction=0.824; num_leaves=1379; min_data_in_leaf=4983; drop_rate=0.0163 : y = 0.905 : 10.6 secs : infill_ei\n",
      "\n",
      "Thu Jul 31 14:58:28 2025 AUC 0.92463031553558\n",
      "\n",
      "[mbo] 7: num_iterations=370; learning_rate=0.227; feature_fraction=0.744; num_leaves=11; min_data_in_leaf=362; drop_rate=0.165 : y = 0.925 : 4.2 secs : infill_ei\n",
      "\n",
      "Thu Jul 31 14:58:44 2025 AUC 0.915004785290321\n",
      "\n",
      "[mbo] 8: num_iterations=1310; learning_rate=0.205; feature_fraction=0.201; num_leaves=69; min_data_in_leaf=3453; drop_rate=0.167 : y = 0.915 : 14.7 secs : infill_ei\n",
      "\n",
      "Thu Jul 31 14:59:04 2025 AUC 0.924078086774402\n",
      "\n",
      "[mbo] 9: num_iterations=1373; learning_rate=0.0355; feature_fraction=0.272; num_leaves=1730; min_data_in_leaf=1410; drop_rate=0.0746 : y = 0.924 : 19.7 secs : infill_ei\n",
      "\n",
      "Thu Jul 31 14:59:56 2025 AUC 0.927116410864084\n",
      "\n",
      "[mbo] 10: num_iterations=484; learning_rate=0.0103; feature_fraction=0.705; num_leaves=883; min_data_in_leaf=10; drop_rate=0.0207 : y = 0.927 : 51.4 secs : infill_ei\n",
      "\n",
      "Thu Jul 31 15:00:15 2025 AUC 0.923469380621484\n",
      "\n",
      "[mbo] 11: num_iterations=1228; learning_rate=0.029; feature_fraction=0.457; num_leaves=528; min_data_in_leaf=1906; drop_rate=0.145 : y = 0.923 : 17.7 secs : infill_ei\n",
      "\n",
      "Thu Jul 31 15:00:16 2025 AUC 0.917236456935268\n",
      "\n",
      "[mbo] 12: num_iterations=13; learning_rate=0.12; feature_fraction=0.831; num_leaves=2036; min_data_in_leaf=258; drop_rate=0.123 : y = 0.917 : 0.8 secs : infill_ei\n",
      "\n",
      "Thu Jul 31 15:00:29 2025 AUC 0.91921956540967\n",
      "\n",
      "[mbo] 13: num_iterations=991; learning_rate=0.056; feature_fraction=0.295; num_leaves=207; min_data_in_leaf=2871; drop_rate=0.000198 : y = 0.919 : 11.8 secs : infill_ei\n",
      "\n",
      "Thu Jul 31 15:00:44 2025 AUC 0.924985441136814\n",
      "\n",
      "[mbo] 14: num_iterations=984; learning_rate=0.0104; feature_fraction=0.776; num_leaves=542; min_data_in_leaf=620; drop_rate=0.133 : y = 0.925 : 14.9 secs : infill_ei\n",
      "\n",
      "Thu Jul 31 15:01:02 2025 AUC 0.924554758923037\n",
      "\n",
      "[mbo] 15: num_iterations=791; learning_rate=0.138; feature_fraction=0.452; num_leaves=1484; min_data_in_leaf=467; drop_rate=0.0613 : y = 0.925 : 16.5 secs : infill_ei\n",
      "\n",
      "Thu Jul 31 15:01:13 2025 AUC 0.920735536593349\n",
      "\n",
      "[mbo] 16: num_iterations=1312; learning_rate=0.139; feature_fraction=0.716; num_leaves=287; min_data_in_leaf=2729; drop_rate=0.0158 : y = 0.921 : 10.6 secs : infill_ei\n",
      "\n",
      "Thu Jul 31 15:01:22 2025 AUC 0.921857799639532\n",
      "\n",
      "[mbo] 17: num_iterations=747; learning_rate=0.216; feature_fraction=0.125; num_leaves=112; min_data_in_leaf=1760; drop_rate=0.0334 : y = 0.922 : 8.3 secs : infill_ei\n",
      "\n",
      "Thu Jul 31 15:01:28 2025 AUC 0.923648611632814\n",
      "\n",
      "[mbo] 18: num_iterations=324; learning_rate=0.106; feature_fraction=0.424; num_leaves=11; min_data_in_leaf=1319; drop_rate=8.1e-05 : y = 0.924 : 4.9 secs : infill_ei\n",
      "\n",
      "Thu Jul 31 15:01:50 2025 AUC 0.925728338536027\n",
      "\n",
      "[mbo] 19: num_iterations=1620; learning_rate=0.107; feature_fraction=0.189; num_leaves=9; min_data_in_leaf=521; drop_rate=0.00123 : y = 0.926 : 21.1 secs : infill_ei\n",
      "\n",
      "Thu Jul 31 15:02:02 2025 AUC 0.920799628599178\n",
      "\n",
      "[mbo] 20: num_iterations=414; learning_rate=0.299; feature_fraction=0.842; num_leaves=488; min_data_in_leaf=1; drop_rate=0.0125 : y = 0.921 : 11.8 secs : infill_ei\n",
      "\n",
      "Thu Jul 31 15:02:08 2025 AUC 0.922950360246145\n",
      "\n",
      "[mbo] 21: num_iterations=331; learning_rate=0.0265; feature_fraction=0.171; num_leaves=886; min_data_in_leaf=920; drop_rate=0.00585 : y = 0.923 : 4.9 secs : infill_ei\n",
      "\n",
      "Thu Jul 31 15:02:26 2025 AUC 0.904514586624598\n",
      "\n",
      "[mbo] 22: num_iterations=1744; learning_rate=0.161; feature_fraction=0.1; num_leaves=544; min_data_in_leaf=4411; drop_rate=0.00142 : y = 0.905 : 17.0 secs : infill_ei\n",
      "\n",
      "Saved the current state after iteration 23 in the file bayesiana.RDATA.\n",
      "\n",
      "Thu Jul 31 15:02:41 2025 AUC 0.90650605175365\n",
      "\n",
      "[mbo] 23: num_iterations=894; learning_rate=0.0969; feature_fraction=0.121; num_leaves=1255; min_data_in_leaf=4258; drop_rate=0.181 : y = 0.907 : 9.3 secs : infill_ei\n",
      "\n",
      "Thu Jul 31 15:02:48 2025 AUC 0.923113594635123\n",
      "\n",
      "[mbo] 24: num_iterations=330; learning_rate=0.0109; feature_fraction=0.305; num_leaves=9; min_data_in_leaf=1; drop_rate=0.112 : y = 0.923 : 5.9 secs : infill_ei\n",
      "\n",
      "Thu Jul 31 15:03:14 2025 AUC 0.923521867602304\n",
      "\n",
      "[mbo] 25: num_iterations=1998; learning_rate=0.0314; feature_fraction=0.22; num_leaves=108; min_data_in_leaf=1296; drop_rate=0.154 : y = 0.924 : 25.9 secs : infill_ei\n",
      "\n",
      "Thu Jul 31 15:03:17 2025 AUC 0.923621093231826\n",
      "\n",
      "[mbo] 26: num_iterations=84; learning_rate=0.0605; feature_fraction=0.602; num_leaves=10; min_data_in_leaf=563; drop_rate=0.0124 : y = 0.924 : 1.6 secs : infill_ei\n",
      "\n",
      "Thu Jul 31 15:03:33 2025 AUC 0.908623761520947\n",
      "\n",
      "[mbo] 27: num_iterations=1377; learning_rate=0.0557; feature_fraction=0.587; num_leaves=1774; min_data_in_leaf=4250; drop_rate=0.181 : y = 0.909 : 15.3 secs : infill_ei\n",
      "\n",
      "Thu Jul 31 15:04:02 2025 AUC 0.921351022646414\n",
      "\n",
      "[mbo] 28: num_iterations=1416; learning_rate=0.216; feature_fraction=0.159; num_leaves=1300; min_data_in_leaf=189; drop_rate=0.172 : y = 0.921 : 27.8 secs : infill_ei\n",
      "\n",
      "Thu Jul 31 15:04:15 2025 AUC 0.922648235886268\n",
      "\n",
      "[mbo] 29: num_iterations=1300; learning_rate=0.2; feature_fraction=0.95; num_leaves=2026; min_data_in_leaf=2216; drop_rate=0.00321 : y = 0.923 : 12.4 secs : infill_ei\n",
      "\n",
      "Thu Jul 31 15:04:19 2025 AUC 0.914448919385355\n",
      "\n",
      "[mbo] 30: num_iterations=291; learning_rate=0.0143; feature_fraction=0.753; num_leaves=1534; min_data_in_leaf=2188; drop_rate=0.0166 : y = 0.914 : 3.0 secs : infill_ei\n",
      "\n",
      "Thu Jul 31 15:04:29 2025 AUC 0.921405043859042\n",
      "\n",
      "[mbo] 31: num_iterations=1070; learning_rate=0.266; feature_fraction=0.865; num_leaves=1196; min_data_in_leaf=2633; drop_rate=0.181 : y = 0.921 : 9.2 secs : infill_ei\n",
      "\n",
      "Thu Jul 31 15:04:44 2025 AUC 0.923831365082342\n",
      "\n",
      "[mbo] 32: num_iterations=1125; learning_rate=0.294; feature_fraction=1; num_leaves=814; min_data_in_leaf=970; drop_rate=0.109 : y = 0.924 : 14.2 secs : infill_ei\n",
      "\n",
      "Thu Jul 31 15:05:03 2025 AUC 0.922904486154407\n",
      "\n",
      "[mbo] 33: num_iterations=1176; learning_rate=0.261; feature_fraction=0.31; num_leaves=977; min_data_in_leaf=920; drop_rate=0.141 : y = 0.923 : 18.4 secs : infill_ei\n",
      "\n",
      "Thu Jul 31 15:06:00 2025 AUC 0.928687887989558\n",
      "\n",
      "[mbo] 34: num_iterations=1125; learning_rate=0.0358; feature_fraction=0.568; num_leaves=284; min_data_in_leaf=1; drop_rate=0.175 : y = 0.929 : 55.9 secs : infill_ei\n",
      "\n",
      "Thu Jul 31 15:06:15 2025 AUC 0.896971990767795\n",
      "\n",
      "[mbo] 35: num_iterations=2004; learning_rate=0.031; feature_fraction=0.862; num_leaves=2032; min_data_in_leaf=5720; drop_rate=0.181 : y = 0.897 : 14.0 secs : infill_ei\n",
      "\n",
      "Thu Jul 31 15:06:47 2025 AUC 0.921800359623097\n",
      "\n",
      "[mbo] 36: num_iterations=2038; learning_rate=0.159; feature_fraction=0.976; num_leaves=189; min_data_in_leaf=1; drop_rate=0.148 : y = 0.922 : 31.1 secs : infill_ei\n",
      "\n",
      "Thu Jul 31 15:07:06 2025 AUC 0.921405766721748\n",
      "\n",
      "[mbo] 37: num_iterations=1895; learning_rate=0.299; feature_fraction=0.907; num_leaves=399; min_data_in_leaf=1956; drop_rate=0.0253 : y = 0.921 : 18.7 secs : infill_ei\n",
      "\n",
      "Thu Jul 31 15:07:35 2025 AUC 0.920556785718767\n",
      "\n",
      "[mbo] 38: num_iterations=1698; learning_rate=0.274; feature_fraction=0.441; num_leaves=82; min_data_in_leaf=2; drop_rate=0.0259 : y = 0.921 : 27.9 secs : infill_ei\n",
      "\n",
      "Thu Jul 31 15:08:00 2025 AUC 0.922772416607479\n",
      "\n",
      "[mbo] 39: num_iterations=2023; learning_rate=0.163; feature_fraction=0.938; num_leaves=2017; min_data_in_leaf=1441; drop_rate=0.18 : y = 0.923 : 23.7 secs : infill_ei\n",
      "\n",
      "Thu Jul 31 15:08:14 2025 AUC 0.917781521967623\n",
      "\n",
      "[mbo] 40: num_iterations=1608; learning_rate=0.142; feature_fraction=0.765; num_leaves=861; min_data_in_leaf=2882; drop_rate=0.115 : y = 0.918 : 12.7 secs : infill_ei\n",
      "\n",
      "Thu Jul 31 15:08:17 2025 AUC 0.914453450139393\n",
      "\n",
      "[mbo] 41: num_iterations=201; learning_rate=0.0239; feature_fraction=0.915; num_leaves=473; min_data_in_leaf=2452; drop_rate=0.0759 : y = 0.914 : 2.1 secs : infill_ei\n",
      "\n",
      "Thu Jul 31 15:08:20 2025 AUC 0.90185376101967\n",
      "\n",
      "[mbo] 42: num_iterations=344; learning_rate=0.0504; feature_fraction=0.796; num_leaves=1041; min_data_in_leaf=4873; drop_rate=0.181 : y = 0.902 : 2.8 secs : infill_ei\n",
      "\n",
      "Thu Jul 31 15:08:43 2025 AUC 0.919532030916472\n",
      "\n",
      "[mbo] 43: num_iterations=1720; learning_rate=0.3; feature_fraction=0.639; num_leaves=1868; min_data_in_leaf=2; drop_rate=0.163 : y = 0.92 : 22.0 secs : infill_ei\n",
      "\n",
      "Thu Jul 31 15:09:02 2025 AUC 0.893199977735152\n",
      "\n",
      "[mbo] 44: num_iterations=1667; learning_rate=0.134; feature_fraction=0.1; num_leaves=1604; min_data_in_leaf=6342; drop_rate=0.173 : y = 0.893 : 17.4 secs : infill_ei\n",
      "\n",
      "Thu Jul 31 15:09:17 2025 AUC 0.927411822923386\n",
      "\n",
      "[mbo] 45: num_iterations=1499; learning_rate=0.122; feature_fraction=0.69; num_leaves=8; min_data_in_leaf=8; drop_rate=0.0728 : y = 0.927 : 14.0 secs : infill_ei\n",
      "\n",
      "Thu Jul 31 15:09:35 2025 AUC 0.922171318717479\n",
      "\n",
      "[mbo] 46: num_iterations=1584; learning_rate=0.0356; feature_fraction=0.114; num_leaves=1103; min_data_in_leaf=2300; drop_rate=0.181 : y = 0.922 : 17.3 secs : infill_ei\n",
      "\n",
      "Thu Jul 31 15:09:57 2025 AUC 0.922984428587592\n",
      "\n",
      "[mbo] 47: num_iterations=1166; learning_rate=0.224; feature_fraction=0.926; num_leaves=1763; min_data_in_leaf=1; drop_rate=0.181 : y = 0.923 : 20.9 secs : infill_ei\n",
      "\n",
      "Thu Jul 31 15:12:24 2025 AUC 0.927758703136482\n",
      "\n",
      "[mbo] 48: num_iterations=2045; learning_rate=0.0101; feature_fraction=0.319; num_leaves=1419; min_data_in_leaf=4; drop_rate=0.0602 : y = 0.928 : 145.8 secs : infill_ei\n",
      "\n",
      "Thu Jul 31 15:12:51 2025 AUC 0.922132848078482\n",
      "\n",
      "[mbo] 49: num_iterations=2045; learning_rate=0.169; feature_fraction=0.1; num_leaves=1396; min_data_in_leaf=1162; drop_rate=0.00456 : y = 0.922 : 26.0 secs : infill_ei\n",
      "\n",
      "Saved the current state after iteration 50 in the file bayesiana.RDATA.\n",
      "\n",
      "Thu Jul 31 15:13:16 2025 AUC 0.925157866019595\n",
      "\n",
      "[mbo] 50: num_iterations=1756; learning_rate=0.011; feature_fraction=0.999; num_leaves=574; min_data_in_leaf=1284; drop_rate=0.000589 : y = 0.925 : 19.6 secs : infill_ei\n",
      "\n",
      "Thu Jul 31 15:13:21 2025 AUC 0.922759196954075\n",
      "\n",
      "[mbo] 51: num_iterations=374; learning_rate=0.164; feature_fraction=0.949; num_leaves=1326; min_data_in_leaf=1401; drop_rate=0.00141 : y = 0.923 : 4.7 secs : infill_ei\n",
      "\n",
      "Thu Jul 31 15:13:47 2025 AUC 0.922651392360917\n",
      "\n",
      "[mbo] 52: num_iterations=2048; learning_rate=0.0147; feature_fraction=0.193; num_leaves=469; min_data_in_leaf=2029; drop_rate=0.000305 : y = 0.923 : 24.7 secs : infill_ei\n",
      "\n",
      "Thu Jul 31 15:13:59 2025 AUC 0.921136470829696\n",
      "\n",
      "[mbo] 53: num_iterations=981; learning_rate=0.273; feature_fraction=0.604; num_leaves=12; min_data_in_leaf=2183; drop_rate=0.179 : y = 0.921 : 10.8 secs : infill_ei\n",
      "\n",
      "Thu Jul 31 15:14:35 2025 AUC 0.926589859778042\n",
      "\n",
      "[mbo] 54: num_iterations=2048; learning_rate=0.131; feature_fraction=1; num_leaves=2046; min_data_in_leaf=24; drop_rate=0.000678 : y = 0.927 : 35.4 secs : infill_ei\n",
      "\n",
      "Thu Jul 31 15:15:04 2025 AUC 0.928095099900633\n",
      "\n",
      "[mbo] 55: num_iterations=1332; learning_rate=0.0101; feature_fraction=1; num_leaves=1542; min_data_in_leaf=385; drop_rate=0.111 : y = 0.928 : 27.4 secs : infill_ei\n",
      "\n",
      "Thu Jul 31 15:15:43 2025 AUC 0.928128052510862\n",
      "\n",
      "[mbo] 56: num_iterations=1706; learning_rate=0.0419; feature_fraction=0.376; num_leaves=170; min_data_in_leaf=347; drop_rate=0.177 : y = 0.928 : 38.3 secs : infill_ei\n",
      "\n",
      "Thu Jul 31 15:15:54 2025 AUC 0.921816183463056\n",
      "\n",
      "[mbo] 57: num_iterations=1001; learning_rate=0.174; feature_fraction=1; num_leaves=1017; min_data_in_leaf=1916; drop_rate=0.162 : y = 0.922 : 9.4 secs : infill_ei\n",
      "\n",
      "Thu Jul 31 15:17:23 2025 AUC 0.924627367910727\n",
      "\n",
      "[mbo] 58: num_iterations=1615; learning_rate=0.0103; feature_fraction=0.1; num_leaves=642; min_data_in_leaf=21; drop_rate=0.0891 : y = 0.925 : 88.6 secs : infill_ei\n",
      "\n",
      "Thu Jul 31 15:18:18 2025 AUC 0.92865695626592\n",
      "\n",
      "[mbo] 59: num_iterations=1783; learning_rate=0.0105; feature_fraction=0.528; num_leaves=722; min_data_in_leaf=182; drop_rate=0.00026 : y = 0.929 : 53.9 secs : infill_ei\n",
      "\n",
      "Thu Jul 31 15:18:44 2025 AUC 0.921543110662558\n",
      "\n",
      "[mbo] 60: num_iterations=2042; learning_rate=0.144; feature_fraction=0.575; num_leaves=1354; min_data_in_leaf=2506; drop_rate=0.00283 : y = 0.922 : 24.5 secs : infill_ei\n",
      "\n",
      "Thu Jul 31 15:18:58 2025 AUC 0.906560883130597\n",
      "\n",
      "[mbo] 61: num_iterations=2045; learning_rate=0.106; feature_fraction=0.854; num_leaves=647; min_data_in_leaf=4918; drop_rate=0.0887 : y = 0.907 : 13.7 secs : infill_ei\n",
      "\n",
      "Thu Jul 31 15:19:25 2025 AUC 0.927877066209797\n",
      "\n",
      "[mbo] 62: num_iterations=1219; learning_rate=0.0965; feature_fraction=0.999; num_leaves=668; min_data_in_leaf=299; drop_rate=0.000261 : y = 0.928 : 25.7 secs : infill_ei\n",
      "\n",
      "Thu Jul 31 15:19:27 2025 AUC 0.858436033292671\n",
      "\n",
      "[mbo] 63: num_iterations=20; learning_rate=0.0102; feature_fraction=0.998; num_leaves=1769; min_data_in_leaf=6669; drop_rate=0.181 : y = 0.858 : 0.6 secs : infill_ei\n",
      "\n",
      "Thu Jul 31 15:19:48 2025 AUC 0.926845038400692\n",
      "\n",
      "[mbo] 64: num_iterations=1193; learning_rate=0.0113; feature_fraction=0.362; num_leaves=493; min_data_in_leaf=587; drop_rate=0.0418 : y = 0.927 : 20.2 secs : infill_ei\n",
      "\n",
      "Thu Jul 31 15:20:29 2025 AUC 0.924075642418644\n",
      "\n",
      "[mbo] 65: num_iterations=1022; learning_rate=0.0707; feature_fraction=0.185; num_leaves=2048; min_data_in_leaf=2; drop_rate=0.000785 : y = 0.924 : 39.4 secs : infill_ei\n",
      "\n",
      "Thu Jul 31 15:20:59 2025 AUC 0.925921076255532\n",
      "\n",
      "[mbo] 66: num_iterations=2005; learning_rate=0.0106; feature_fraction=0.111; num_leaves=1984; min_data_in_leaf=636; drop_rate=0.158 : y = 0.926 : 29.3 secs : infill_ei\n",
      "\n",
      "Thu Jul 31 15:21:45 2025 AUC 0.929028154351397\n",
      "\n",
      "[mbo] 67: num_iterations=1657; learning_rate=0.0204; feature_fraction=0.593; num_leaves=2008; min_data_in_leaf=236; drop_rate=0.0101 : y = 0.929 : 44.6 secs : infill_ei\n",
      "\n",
      "Thu Jul 31 15:21:53 2025 AUC 0.924612586797532\n",
      "\n",
      "[mbo] 68: num_iterations=589; learning_rate=0.0438; feature_fraction=0.957; num_leaves=50; min_data_in_leaf=988; drop_rate=0.181 : y = 0.925 : 6.9 secs : infill_ei\n",
      "\n",
      "Thu Jul 31 15:22:16 2025 AUC 0.92120917789539\n",
      "\n",
      "[mbo] 69: num_iterations=1779; learning_rate=0.256; feature_fraction=0.181; num_leaves=2048; min_data_in_leaf=1889; drop_rate=0.18 : y = 0.921 : 22.1 secs : infill_ei\n",
      "\n",
      "Thu Jul 31 15:22:29 2025 AUC 0.922477476554945\n",
      "\n",
      "[mbo] 70: num_iterations=840; learning_rate=0.248; feature_fraction=0.528; num_leaves=2047; min_data_in_leaf=2011; drop_rate=0.00678 : y = 0.922 : 12.3 secs : infill_ei\n",
      "\n",
      "Thu Jul 31 15:24:44 2025 AUC 0.928898484131487\n",
      "\n",
      "[mbo] 71: num_iterations=1783; learning_rate=0.0109; feature_fraction=0.477; num_leaves=2009; min_data_in_leaf=6; drop_rate=0.18 : y = 0.929 : 133.3 secs : infill_ei\n",
      "\n",
      "Saved the current state after iteration 72 in the file bayesiana.RDATA.\n",
      "\n",
      "Thu Jul 31 15:25:01 2025 AUC 0.921296012748563\n",
      "\n",
      "[mbo] 72: num_iterations=1022; learning_rate=0.289; feature_fraction=0.187; num_leaves=1378; min_data_in_leaf=2424; drop_rate=0.00262 : y = 0.921 : 12.5 secs : infill_ei\n",
      "\n",
      "Thu Jul 31 15:25:19 2025 AUC 0.916575487838376\n",
      "\n",
      "[mbo] 73: num_iterations=2044; learning_rate=0.174; feature_fraction=0.999; num_leaves=2010; min_data_in_leaf=3257; drop_rate=0.00966 : y = 0.917 : 16.8 secs : infill_ei\n",
      "\n",
      "Thu Jul 31 15:25:21 2025 AUC 0.888213852607917\n",
      "\n",
      "[mbo] 74: num_iterations=40; learning_rate=0.233; feature_fraction=0.101; num_leaves=721; min_data_in_leaf=6741; drop_rate=0.0112 : y = 0.888 : 0.8 secs : infill_ei\n",
      "\n",
      "Thu Jul 31 15:27:49 2025 AUC 0.927021359416799\n",
      "\n",
      "[mbo] 75: num_iterations=2048; learning_rate=0.0103; feature_fraction=0.721; num_leaves=1867; min_data_in_leaf=7; drop_rate=0.158 : y = 0.927 : 147.1 secs : infill_ei\n",
      "\n",
      "Thu Jul 31 15:27:55 2025 AUC 0.92285254432121\n",
      "\n",
      "[mbo] 76: num_iterations=361; learning_rate=0.124; feature_fraction=0.1; num_leaves=2041; min_data_in_leaf=1209; drop_rate=0.168 : y = 0.923 : 4.8 secs : infill_ei\n",
      "\n",
      "Thu Jul 31 15:28:10 2025 AUC 0.928090668378486\n",
      "\n",
      "[mbo] 77: num_iterations=662; learning_rate=0.0177; feature_fraction=0.245; num_leaves=1807; min_data_in_leaf=347; drop_rate=0.18 : y = 0.928 : 13.5 secs : infill_ei\n",
      "\n",
      "Thu Jul 31 15:28:31 2025 AUC 0.922973387947478\n",
      "\n",
      "[mbo] 78: num_iterations=1646; learning_rate=0.078; feature_fraction=0.587; num_leaves=8; min_data_in_leaf=1661; drop_rate=8.28e-05 : y = 0.923 : 20.0 secs : infill_ei\n",
      "\n",
      "Thu Jul 31 15:30:48 2025 AUC 0.925784189536897\n",
      "\n",
      "[mbo] 79: num_iterations=1630; learning_rate=0.0101; feature_fraction=0.909; num_leaves=1433; min_data_in_leaf=2; drop_rate=0.0217 : y = 0.926 : 136.4 secs : infill_ei\n",
      "\n",
      "Thu Jul 31 15:31:16 2025 AUC 0.922326849043651\n",
      "\n",
      "[mbo] 80: num_iterations=2043; learning_rate=0.187; feature_fraction=1; num_leaves=1490; min_data_in_leaf=1046; drop_rate=0.0501 : y = 0.922 : 26.0 secs : infill_ei\n",
      "\n",
      "Thu Jul 31 15:31:25 2025 AUC 0.915762215944667\n",
      "\n",
      "[mbo] 81: num_iterations=832; learning_rate=0.3; feature_fraction=0.65; num_leaves=1833; min_data_in_leaf=3157; drop_rate=0.000269 : y = 0.916 : 8.6 secs : infill_ei\n",
      "\n",
      "Thu Jul 31 15:31:30 2025 AUC 0.922799343222284\n",
      "\n",
      "[mbo] 82: num_iterations=171; learning_rate=0.279; feature_fraction=0.515; num_leaves=30; min_data_in_leaf=99; drop_rate=0.147 : y = 0.923 : 4.0 secs : infill_ei\n",
      "\n",
      "Thu Jul 31 15:31:33 2025 AUC 0.90864480667865\n",
      "\n",
      "[mbo] 83: num_iterations=140; learning_rate=0.0278; feature_fraction=0.1; num_leaves=2036; min_data_in_leaf=2034; drop_rate=0.0271 : y = 0.909 : 2.0 secs : infill_ei\n",
      "\n",
      "Thu Jul 31 15:31:46 2025 AUC 0.924272345691561\n",
      "\n",
      "[mbo] 84: num_iterations=788; learning_rate=0.0615; feature_fraction=0.176; num_leaves=432; min_data_in_leaf=783; drop_rate=0.181 : y = 0.924 : 11.1 secs : infill_ei\n",
      "\n",
      "Thu Jul 31 15:32:06 2025 AUC 0.921555535703705\n",
      "\n",
      "[mbo] 85: num_iterations=1289; learning_rate=0.288; feature_fraction=0.504; num_leaves=128; min_data_in_leaf=1399; drop_rate=0.181 : y = 0.922 : 19.3 secs : infill_ei\n",
      "\n",
      "Thu Jul 31 15:32:31 2025 AUC 0.912558215289316\n",
      "\n",
      "[mbo] 86: num_iterations=1979; learning_rate=0.0819; feature_fraction=0.378; num_leaves=557; min_data_in_leaf=3761; drop_rate=0.181 : y = 0.913 : 24.1 secs : infill_ei\n",
      "\n",
      "Thu Jul 31 15:33:05 2025 AUC 0.92512414732806\n",
      "\n",
      "[mbo] 87: num_iterations=1820; learning_rate=0.0157; feature_fraction=0.482; num_leaves=2048; min_data_in_leaf=1026; drop_rate=0.18 : y = 0.925 : 32.2 secs : infill_ei\n",
      "\n",
      "Thu Jul 31 15:33:47 2025 AUC 0.927005592829578\n",
      "\n",
      "[mbo] 88: num_iterations=1461; learning_rate=0.0808; feature_fraction=0.35; num_leaves=2048; min_data_in_leaf=134; drop_rate=0.155 : y = 0.927 : 40.7 secs : infill_ei\n",
      "\n",
      "Thu Jul 31 15:34:27 2025 AUC 0.930393389227799\n",
      "\n",
      "[mbo] 89: num_iterations=1423; learning_rate=0.0107; feature_fraction=0.619; num_leaves=1134; min_data_in_leaf=218; drop_rate=0.107 : y = 0.93 : 39.3 secs : infill_ei\n",
      "\n",
      "Thu Jul 31 15:34:38 2025 AUC 0.917400174597452\n",
      "\n",
      "[mbo] 90: num_iterations=1236; learning_rate=0.3; feature_fraction=0.998; num_leaves=36; min_data_in_leaf=3051; drop_rate=0.0631 : y = 0.917 : 9.9 secs : infill_ei\n",
      "\n",
      "Thu Jul 31 15:35:02 2025 AUC 0.920174638458801\n",
      "\n",
      "[mbo] 91: num_iterations=2036; learning_rate=0.223; feature_fraction=0.101; num_leaves=31; min_data_in_leaf=2657; drop_rate=0.153 : y = 0.92 : 22.4 secs : infill_ei\n",
      "\n",
      "Saved the current state after iteration 92 in the file bayesiana.RDATA.\n",
      "\n",
      "Thu Jul 31 15:35:17 2025 AUC 0.922874951211541\n",
      "\n",
      "[mbo] 92: num_iterations=925; learning_rate=0.187; feature_fraction=0.926; num_leaves=8; min_data_in_leaf=776; drop_rate=0.0212 : y = 0.923 : 9.3 secs : infill_ei\n",
      "\n",
      "Thu Jul 31 15:35:32 2025 AUC 0.924398894061181\n",
      "\n",
      "[mbo] 93: num_iterations=986; learning_rate=0.0168; feature_fraction=0.991; num_leaves=2045; min_data_in_leaf=1196; drop_rate=0.0918 : y = 0.924 : 13.4 secs : infill_ei\n",
      "\n",
      "Thu Jul 31 15:35:38 2025 AUC 0.919066103482053\n",
      "\n",
      "[mbo] 94: num_iterations=286; learning_rate=0.3; feature_fraction=0.1; num_leaves=612; min_data_in_leaf=389; drop_rate=0.00349 : y = 0.919 : 5.0 secs : infill_ei\n",
      "\n",
      "Thu Jul 31 15:36:07 2025 AUC 0.920989841601312\n",
      "\n",
      "[mbo] 95: num_iterations=2043; learning_rate=0.128; feature_fraction=0.279; num_leaves=1532; min_data_in_leaf=2585; drop_rate=0.181 : y = 0.921 : 26.8 secs : infill_ei\n",
      "\n",
      "Thu Jul 31 15:37:11 2025 AUC 0.926721266372409\n",
      "\n",
      "[mbo] 96: num_iterations=1782; learning_rate=0.0425; feature_fraction=0.751; num_leaves=456; min_data_in_leaf=20; drop_rate=0.00728 : y = 0.927 : 63.2 secs : infill_ei\n",
      "\n",
      "Thu Jul 31 15:37:13 2025 AUC 0.909023179449823\n",
      "\n",
      "[mbo] 97: num_iterations=9; learning_rate=0.0119; feature_fraction=0.396; num_leaves=2029; min_data_in_leaf=7; drop_rate=0.000722 : y = 0.909 : 1.3 secs : infill_ei\n",
      "\n",
      "Thu Jul 31 15:37:51 2025 AUC 0.925889135723249\n",
      "\n",
      "[mbo] 98: num_iterations=1904; learning_rate=0.147; feature_fraction=0.249; num_leaves=849; min_data_in_leaf=92; drop_rate=0.000272 : y = 0.926 : 36.2 secs : infill_ei\n",
      "\n",
      "Thu Jul 31 15:38:12 2025 AUC 0.923235499696514\n",
      "\n",
      "[mbo] 99: num_iterations=434; learning_rate=0.115; feature_fraction=1; num_leaves=789; min_data_in_leaf=1; drop_rate=0.144 : y = 0.923 : 20.5 secs : infill_ei\n",
      "\n",
      "Thu Jul 31 15:38:28 2025 AUC 0.920953634946839\n",
      "\n",
      "[mbo] 100: num_iterations=1006; learning_rate=0.296; feature_fraction=0.492; num_leaves=49; min_data_in_leaf=2541; drop_rate=0.0027 : y = 0.921 : 13.7 secs : infill_ei\n",
      "\n",
      "Saved the final state in the file bayesiana.RDATA\n",
      "\n"
     ]
    }
   ],
   "source": [
    "# inicio la optimizacion bayesiana, retomando si ya existe\n",
    "# es la celda mas lenta de todo el notebook\n",
    "\n",
    "if (!file.exists(kbayesiana)) {\n",
    "  bayesiana_salida <- mbo(obj.fun, learner= surr.km, control= ctrl)\n",
    "} else {\n",
    "  bayesiana_salida <- mboContinue(kbayesiana) # retomo en caso que ya exista\n",
    "}"
   ]
  },
  {
   "cell_type": "code",
   "execution_count": 28,
   "metadata": {
    "id": "ssk5nnMk6INK"
   },
   "outputs": [
    {
     "data": {
      "text/html": [
       "<style>\n",
       ".list-inline {list-style: none; margin:0; padding: 0}\n",
       ".list-inline>li {display: inline-block}\n",
       ".list-inline>li:not(:last-child)::after {content: \"\\00b7\"; padding: 0 .5ex}\n",
       "</style>\n",
       "<ol class=list-inline><li>'num_iterations'</li><li>'learning_rate'</li><li>'feature_fraction'</li><li>'num_leaves'</li><li>'min_data_in_leaf'</li><li>'drop_rate'</li><li>'y'</li><li>'dob'</li><li>'eol'</li><li>'error.message'</li><li>'exec.time'</li><li>'ei'</li><li>'error.model'</li><li>'train.time'</li><li>'prop.type'</li><li>'propose.time'</li><li>'se'</li><li>'mean'</li></ol>\n"
      ],
      "text/latex": [
       "\\begin{enumerate*}\n",
       "\\item 'num\\_iterations'\n",
       "\\item 'learning\\_rate'\n",
       "\\item 'feature\\_fraction'\n",
       "\\item 'num\\_leaves'\n",
       "\\item 'min\\_data\\_in\\_leaf'\n",
       "\\item 'drop\\_rate'\n",
       "\\item 'y'\n",
       "\\item 'dob'\n",
       "\\item 'eol'\n",
       "\\item 'error.message'\n",
       "\\item 'exec.time'\n",
       "\\item 'ei'\n",
       "\\item 'error.model'\n",
       "\\item 'train.time'\n",
       "\\item 'prop.type'\n",
       "\\item 'propose.time'\n",
       "\\item 'se'\n",
       "\\item 'mean'\n",
       "\\end{enumerate*}\n"
      ],
      "text/markdown": [
       "1. 'num_iterations'\n",
       "2. 'learning_rate'\n",
       "3. 'feature_fraction'\n",
       "4. 'num_leaves'\n",
       "5. 'min_data_in_leaf'\n",
       "6. 'drop_rate'\n",
       "7. 'y'\n",
       "8. 'dob'\n",
       "9. 'eol'\n",
       "10. 'error.message'\n",
       "11. 'exec.time'\n",
       "12. 'ei'\n",
       "13. 'error.model'\n",
       "14. 'train.time'\n",
       "15. 'prop.type'\n",
       "16. 'propose.time'\n",
       "17. 'se'\n",
       "18. 'mean'\n",
       "\n",
       "\n"
      ],
      "text/plain": [
       " [1] \"num_iterations\"   \"learning_rate\"    \"feature_fraction\" \"num_leaves\"      \n",
       " [5] \"min_data_in_leaf\" \"drop_rate\"        \"y\"                \"dob\"             \n",
       " [9] \"eol\"              \"error.message\"    \"exec.time\"        \"ei\"              \n",
       "[13] \"error.model\"      \"train.time\"       \"prop.type\"        \"propose.time\"    \n",
       "[17] \"se\"               \"mean\"            "
      ]
     },
     "metadata": {},
     "output_type": "display_data"
    }
   ],
   "source": [
    "\n",
    "tb_bayesiana <- as.data.table(bayesiana_salida$opt.path)\n",
    "colnames( tb_bayesiana)"
   ]
  },
  {
   "cell_type": "code",
   "execution_count": 29,
   "metadata": {
    "id": "u4zq-vknhjGc"
   },
   "outputs": [],
   "source": [
    "# almaceno los resultados de la Bayesian Optimization\n",
    "# y capturo los mejores hiperparametros encontrados\n",
    "\n",
    "tb_bayesiana <- as.data.table(bayesiana_salida$opt.path)\n",
    "\n",
    "tb_bayesiana[, iter := .I]\n",
    "\n",
    "# ordeno en forma descendente por AUC = y\n",
    "setorder(tb_bayesiana, -y)\n",
    "\n",
    "# grabo para eventualmente poder utilizarlos en OTRA corrida\n",
    "fwrite( tb_bayesiana,\n",
    "  file= \"BO_log.txt\",\n",
    "  sep= \"\\t\"\n",
    ")\n",
    "\n",
    "# los mejores hiperparámetros son los que quedaron en el registro 1 de la tabla\n",
    "PARAM$out$lgbm$mejores_hiperparametros <- tb_bayesiana[\n",
    "  1, # el primero es el de mejor AUC\n",
    "  setdiff(colnames(tb_bayesiana),\n",
    "    c(\"y\",\"dob\",\"eol\",\"error.message\",\"exec.time\",\"ei\",\"error.model\",\n",
    "      \"train.time\",\"prop.type\",\"propose.time\",\"se\",\"mean\",\"iter\")),\n",
    "  with= FALSE\n",
    "]\n",
    "\n",
    "\n",
    "PARAM$out$lgbm$y <- tb_bayesiana[1, y]\n"
   ]
  },
  {
   "cell_type": "code",
   "execution_count": 30,
   "metadata": {
    "id": "E8v2eA427N8e"
   },
   "outputs": [],
   "source": [
    "write_yaml( PARAM, file=\"PARAM.yml\")"
   ]
  },
  {
   "cell_type": "code",
   "execution_count": 31,
   "metadata": {
    "id": "iBTWexVU7PGC"
   },
   "outputs": [
    {
     "name": "stdout",
     "output_type": "stream",
     "text": [
      "   num_iterations learning_rate feature_fraction num_leaves min_data_in_leaf\n",
      "            <int>         <num>            <num>      <int>            <int>\n",
      "1:           1423    0.01072758        0.6190974       1134              218\n",
      "   drop_rate\n",
      "       <num>\n",
      "1: 0.1069397\n",
      "[1] 0.9303934\n"
     ]
    }
   ],
   "source": [
    "print(PARAM$out$lgbm$mejores_hiperparametros)\n",
    "print(PARAM$out$lgbm$y)"
   ]
  },
  {
   "cell_type": "markdown",
   "metadata": {
    "id": "TKsVZmAnhwX-"
   },
   "source": [
    "## 2.3  Produccion"
   ]
  },
  {
   "cell_type": "markdown",
   "metadata": {
    "id": "RQ_C33Tr5B_9"
   },
   "source": [
    "### Final Training\n",
    "Construyo el modelo final, que es uno solo, no hace ningun tipo de particion < training, validation, testing>]"
   ]
  },
  {
   "cell_type": "code",
   "execution_count": 32,
   "metadata": {
    "id": "eDqfyA14hzwv"
   },
   "outputs": [],
   "source": [
    "setwd(\"/content/buckets/b1/exp\")\n",
    "experimento <- paste0(\"exp\", PARAM$experimento)\n",
    "dir.create(experimento, showWarnings= FALSE)\n",
    "setwd( paste0(\"/content/buckets/b1/exp/\", experimento ))"
   ]
  },
  {
   "cell_type": "markdown",
   "metadata": {
    "id": "8qFmFivf5Iet"
   },
   "source": [
    "#### Final Training Dataset\n",
    "\n",
    "Aqui esta la gran decision de en qué meses hago el Final Training\n",
    "<br> debo utilizar los mejores hiperparámetros que encontré en la optimización bayesiana"
   ]
  },
  {
   "cell_type": "code",
   "execution_count": 33,
   "metadata": {
    "id": "lg5WVZncvc7H"
   },
   "outputs": [],
   "source": [
    "# clase01\n",
    "dataset[, clase01 := ifelse(clase_ternaria %in% c(\"BAJA+1\", \"BAJA+2\"), 1L, 0L)]"
   ]
  },
  {
   "cell_type": "code",
   "execution_count": 34,
   "metadata": {
    "id": "yc9QzXREv0xf"
   },
   "outputs": [],
   "source": [
    "dataset_train <- dataset[foto_mes %in% c(202107)]"
   ]
  },
  {
   "cell_type": "code",
   "execution_count": 35,
   "metadata": {
    "id": "thjdqEBLuvNt"
   },
   "outputs": [],
   "source": [
    "# dejo los datos en el formato que necesita LightGBM\n",
    "\n",
    "dtrain <- lgb.Dataset(\n",
    "  data= data.matrix(dataset_train[, campos_buenos, with= FALSE]),\n",
    "  label= dataset_train[, clase01]\n",
    ")"
   ]
  },
  {
   "cell_type": "markdown",
   "metadata": {
    "id": "VNUa-WSz5Oqu"
   },
   "source": [
    "#### Final Training Hyperparameters"
   ]
  },
  {
   "cell_type": "code",
   "execution_count": 36,
   "metadata": {
    "id": "FgCcvBfEwImu"
   },
   "outputs": [
    {
     "data": {
      "text/html": [
       "<dl>\n",
       "\t<dt>$boosting</dt>\n",
       "\t\t<dd>'gbdt'</dd>\n",
       "\t<dt>$objective</dt>\n",
       "\t\t<dd>'binary'</dd>\n",
       "\t<dt>$metric</dt>\n",
       "\t\t<dd>'auc'</dd>\n",
       "\t<dt>$first_metric_only</dt>\n",
       "\t\t<dd>FALSE</dd>\n",
       "\t<dt>$boost_from_average</dt>\n",
       "\t\t<dd>TRUE</dd>\n",
       "\t<dt>$feature_pre_filter</dt>\n",
       "\t\t<dd>FALSE</dd>\n",
       "\t<dt>$force_row_wise</dt>\n",
       "\t\t<dd>TRUE</dd>\n",
       "\t<dt>$verbosity</dt>\n",
       "\t\t<dd>-100</dd>\n",
       "\t<dt>$seed</dt>\n",
       "\t\t<dd>106109</dd>\n",
       "\t<dt>$max_depth</dt>\n",
       "\t\t<dd>-1</dd>\n",
       "\t<dt>$min_gain_to_split</dt>\n",
       "\t\t<dd>0</dd>\n",
       "\t<dt>$min_sum_hessian_in_leaf</dt>\n",
       "\t\t<dd>1.098</dd>\n",
       "\t<dt>$lambda_l1</dt>\n",
       "\t\t<dd>0.1365</dd>\n",
       "\t<dt>$lambda_l2</dt>\n",
       "\t\t<dd>0.9895</dd>\n",
       "\t<dt>$max_bin</dt>\n",
       "\t\t<dd>31</dd>\n",
       "\t<dt>$bagging_fraction</dt>\n",
       "\t\t<dd>1</dd>\n",
       "\t<dt>$pos_bagging_fraction</dt>\n",
       "\t\t<dd>1</dd>\n",
       "\t<dt>$neg_bagging_fraction</dt>\n",
       "\t\t<dd>0.1812163</dd>\n",
       "\t<dt>$is_unbalance</dt>\n",
       "\t\t<dd>FALSE</dd>\n",
       "\t<dt>$scale_pos_weight</dt>\n",
       "\t\t<dd>4.268</dd>\n",
       "\t<dt>$drop_rate</dt>\n",
       "\t\t<dd>0.106939690143244</dd>\n",
       "\t<dt>$max_drop</dt>\n",
       "\t\t<dd>50</dd>\n",
       "\t<dt>$skip_drop</dt>\n",
       "\t\t<dd>0.5</dd>\n",
       "\t<dt>$extra_trees</dt>\n",
       "\t\t<dd>FALSE</dd>\n",
       "\t<dt>$num_iterations</dt>\n",
       "\t\t<dd>1423</dd>\n",
       "\t<dt>$learning_rate</dt>\n",
       "\t\t<dd>0.0107275769817557</dd>\n",
       "\t<dt>$feature_fraction</dt>\n",
       "\t\t<dd>0.619097434405591</dd>\n",
       "\t<dt>$num_leaves</dt>\n",
       "\t\t<dd>1134</dd>\n",
       "\t<dt>$min_data_in_leaf</dt>\n",
       "\t\t<dd>218</dd>\n",
       "</dl>\n"
      ],
      "text/latex": [
       "\\begin{description}\n",
       "\\item[\\$boosting] 'gbdt'\n",
       "\\item[\\$objective] 'binary'\n",
       "\\item[\\$metric] 'auc'\n",
       "\\item[\\$first\\_metric\\_only] FALSE\n",
       "\\item[\\$boost\\_from\\_average] TRUE\n",
       "\\item[\\$feature\\_pre\\_filter] FALSE\n",
       "\\item[\\$force\\_row\\_wise] TRUE\n",
       "\\item[\\$verbosity] -100\n",
       "\\item[\\$seed] 106109\n",
       "\\item[\\$max\\_depth] -1\n",
       "\\item[\\$min\\_gain\\_to\\_split] 0\n",
       "\\item[\\$min\\_sum\\_hessian\\_in\\_leaf] 1.098\n",
       "\\item[\\$lambda\\_l1] 0.1365\n",
       "\\item[\\$lambda\\_l2] 0.9895\n",
       "\\item[\\$max\\_bin] 31\n",
       "\\item[\\$bagging\\_fraction] 1\n",
       "\\item[\\$pos\\_bagging\\_fraction] 1\n",
       "\\item[\\$neg\\_bagging\\_fraction] 0.1812163\n",
       "\\item[\\$is\\_unbalance] FALSE\n",
       "\\item[\\$scale\\_pos\\_weight] 4.268\n",
       "\\item[\\$drop\\_rate] 0.106939690143244\n",
       "\\item[\\$max\\_drop] 50\n",
       "\\item[\\$skip\\_drop] 0.5\n",
       "\\item[\\$extra\\_trees] FALSE\n",
       "\\item[\\$num\\_iterations] 1423\n",
       "\\item[\\$learning\\_rate] 0.0107275769817557\n",
       "\\item[\\$feature\\_fraction] 0.619097434405591\n",
       "\\item[\\$num\\_leaves] 1134\n",
       "\\item[\\$min\\_data\\_in\\_leaf] 218\n",
       "\\end{description}\n"
      ],
      "text/markdown": [
       "$boosting\n",
       ":   'gbdt'\n",
       "$objective\n",
       ":   'binary'\n",
       "$metric\n",
       ":   'auc'\n",
       "$first_metric_only\n",
       ":   FALSE\n",
       "$boost_from_average\n",
       ":   TRUE\n",
       "$feature_pre_filter\n",
       ":   FALSE\n",
       "$force_row_wise\n",
       ":   TRUE\n",
       "$verbosity\n",
       ":   -100\n",
       "$seed\n",
       ":   106109\n",
       "$max_depth\n",
       ":   -1\n",
       "$min_gain_to_split\n",
       ":   0\n",
       "$min_sum_hessian_in_leaf\n",
       ":   1.098\n",
       "$lambda_l1\n",
       ":   0.1365\n",
       "$lambda_l2\n",
       ":   0.9895\n",
       "$max_bin\n",
       ":   31\n",
       "$bagging_fraction\n",
       ":   1\n",
       "$pos_bagging_fraction\n",
       ":   1\n",
       "$neg_bagging_fraction\n",
       ":   0.1812163\n",
       "$is_unbalance\n",
       ":   FALSE\n",
       "$scale_pos_weight\n",
       ":   4.268\n",
       "$drop_rate\n",
       ":   0.106939690143244\n",
       "$max_drop\n",
       ":   50\n",
       "$skip_drop\n",
       ":   0.5\n",
       "$extra_trees\n",
       ":   FALSE\n",
       "$num_iterations\n",
       ":   1423\n",
       "$learning_rate\n",
       ":   0.0107275769817557\n",
       "$feature_fraction\n",
       ":   0.619097434405591\n",
       "$num_leaves\n",
       ":   1134\n",
       "$min_data_in_leaf\n",
       ":   218\n",
       "\n",
       "\n"
      ],
      "text/plain": [
       "$boosting\n",
       "[1] \"gbdt\"\n",
       "\n",
       "$objective\n",
       "[1] \"binary\"\n",
       "\n",
       "$metric\n",
       "[1] \"auc\"\n",
       "\n",
       "$first_metric_only\n",
       "[1] FALSE\n",
       "\n",
       "$boost_from_average\n",
       "[1] TRUE\n",
       "\n",
       "$feature_pre_filter\n",
       "[1] FALSE\n",
       "\n",
       "$force_row_wise\n",
       "[1] TRUE\n",
       "\n",
       "$verbosity\n",
       "[1] -100\n",
       "\n",
       "$seed\n",
       "[1] 106109\n",
       "\n",
       "$max_depth\n",
       "[1] -1\n",
       "\n",
       "$min_gain_to_split\n",
       "[1] 0\n",
       "\n",
       "$min_sum_hessian_in_leaf\n",
       "[1] 1.098\n",
       "\n",
       "$lambda_l1\n",
       "[1] 0.1365\n",
       "\n",
       "$lambda_l2\n",
       "[1] 0.9895\n",
       "\n",
       "$max_bin\n",
       "[1] 31\n",
       "\n",
       "$bagging_fraction\n",
       "[1] 1\n",
       "\n",
       "$pos_bagging_fraction\n",
       "[1] 1\n",
       "\n",
       "$neg_bagging_fraction\n",
       "[1] 0.1812163\n",
       "\n",
       "$is_unbalance\n",
       "[1] FALSE\n",
       "\n",
       "$scale_pos_weight\n",
       "[1] 4.268\n",
       "\n",
       "$drop_rate\n",
       "[1] 0.1069397\n",
       "\n",
       "$max_drop\n",
       "[1] 50\n",
       "\n",
       "$skip_drop\n",
       "[1] 0.5\n",
       "\n",
       "$extra_trees\n",
       "[1] FALSE\n",
       "\n",
       "$num_iterations\n",
       "[1] 1423\n",
       "\n",
       "$learning_rate\n",
       "[1] 0.01072758\n",
       "\n",
       "$feature_fraction\n",
       "[1] 0.6190974\n",
       "\n",
       "$num_leaves\n",
       "[1] 1134\n",
       "\n",
       "$min_data_in_leaf\n",
       "[1] 218\n"
      ]
     },
     "metadata": {},
     "output_type": "display_data"
    }
   ],
   "source": [
    "param_final <- modifyList(PARAM$lgbm$param_fijos,\n",
    "  PARAM$out$lgbm$mejores_hiperparametros)\n",
    "\n",
    "param_final"
   ]
  },
  {
   "cell_type": "markdown",
   "metadata": {
    "id": "TZIYn4l95TBH"
   },
   "source": [
    "#### Training\n",
    "Genero el modelo final, siempre sobre TODOS los datos de  final_train, sin hacer ningun tipo de undersampling de la clase mayoritaria"
   ]
  },
  {
   "cell_type": "code",
   "execution_count": 37,
   "metadata": {
    "id": "vPLsd4mMRe4u"
   },
   "outputs": [],
   "source": [
    "# este punto es muy SUTIL  y será revisado en la Clase 05\n",
    "\n",
    "param_normalizado <- copy(param_final)\n",
    "param_normalizado$min_data_in_leaf <-  param_final$min_data_in_leaf / PARAM$trainingstrategy$undersampling"
   ]
  },
  {
   "cell_type": "code",
   "execution_count": 38,
   "metadata": {
    "id": "WRI_-taRwOXO"
   },
   "outputs": [],
   "source": [
    "  # entreno LightGBM\n",
    "\n",
    "  modelo_final <- lgb.train(\n",
    "    data= dtrain,\n",
    "    param= param_normalizado\n",
    "  )"
   ]
  },
  {
   "cell_type": "code",
   "execution_count": 39,
   "metadata": {
    "id": "_bkhnCvj0g3Q"
   },
   "outputs": [],
   "source": [
    "# ahora imprimo la importancia de variables\n",
    "\n",
    "tb_importancia <- as.data.table(lgb.importance(modelo_final))\n",
    "archivo_importancia <- \"impo.txt\"\n",
    "\n",
    "fwrite(tb_importancia,\n",
    "  file= archivo_importancia,\n",
    "  sep= \"\\t\"\n",
    ")"
   ]
  },
  {
   "cell_type": "code",
   "execution_count": 40,
   "metadata": {
    "id": "lZ3sLmbh0kFj"
   },
   "outputs": [],
   "source": [
    "# grabo a disco el modelo en un formato para seres humanos ... ponele ...\n",
    "\n",
    "lgb.save(modelo_final, \"modelo.txt\" )"
   ]
  },
  {
   "cell_type": "markdown",
   "metadata": {
    "id": "VEtp2--t5Ymg"
   },
   "source": [
    "### Scoring"
   ]
  },
  {
   "cell_type": "markdown",
   "metadata": {
    "id": "hI5008Mj5ZdI"
   },
   "source": [
    "Aplico el modelo final a los datos del futuro"
   ]
  },
  {
   "cell_type": "code",
   "execution_count": 41,
   "metadata": {
    "id": "PimBY3N_0ryP"
   },
   "outputs": [],
   "source": [
    "# aplico el modelo a los datos sin clase\n",
    "dfuture <- dataset[foto_mes == 202109]\n",
    "\n",
    "# aplico el modelo a los datos nuevos\n",
    "prediccion <- predict(\n",
    "  modelo_final,\n",
    "  data.matrix(dfuture[, campos_buenos, with= FALSE])\n",
    ")"
   ]
  },
  {
   "cell_type": "markdown",
   "metadata": {
    "id": "D26rNRh55gpw"
   },
   "source": [
    "#### Tabla Prediccion"
   ]
  },
  {
   "cell_type": "code",
   "execution_count": 42,
   "metadata": {
    "id": "RJwg7LHd11yu"
   },
   "outputs": [],
   "source": [
    "# tabla de prediccion\n",
    "\n",
    "tb_prediccion <- dfuture[, list(numero_de_cliente)]\n",
    "tb_prediccion[, prob := prediccion ]\n",
    "\n",
    "# grabo las probabilidad del modelo\n",
    "fwrite(tb_prediccion,\n",
    "  file= \"prediccion.txt\",\n",
    "  sep= \"\\t\"\n",
    ")"
   ]
  },
  {
   "cell_type": "markdown",
   "metadata": {
    "id": "jOt4eG_55ltv"
   },
   "source": [
    "Kaggle Competition Submit"
   ]
  },
  {
   "cell_type": "code",
   "execution_count": 43,
   "metadata": {
    "id": "gWW3tatE12je"
   },
   "outputs": [
    {
     "name": "stdout",
     "output_type": "stream",
     "text": [
      "Successfully submitted to Data Mining, Analista Sr 2025A \n",
      "Successfully submitted to Data Mining, Analista Sr 2025A \n",
      "Successfully submitted to Data Mining, Analista Sr 2025A \n",
      "Successfully submitted to Data Mining, Analista Sr 2025A \n",
      "Successfully submitted to Data Mining, Analista Sr 2025A \n"
     ]
    }
   ],
   "source": [
    "# genero archivos con los  \"envios\" mejores\n",
    "# suba TODOS los archivos a Kaggle\n",
    "\n",
    "# ordeno por probabilidad descendente\n",
    "setorder(tb_prediccion, -prob)\n",
    "\n",
    "dir.create(\"kaggle\")\n",
    "\n",
    "for (envios in PARAM$kaggle$cortes) {\n",
    "\n",
    "  tb_prediccion[, Predicted := 0L] # seteo inicial a 0\n",
    "  tb_prediccion[1:envios, Predicted := 1L] # marclo los primeros\n",
    "\n",
    "  archivo_kaggle <- paste0(\"./kaggle/KA\", PARAM$experimento, \"_\", envios, \".csv\")\n",
    "\n",
    "  # grabo el archivo\n",
    "  fwrite(tb_prediccion[, list(numero_de_cliente, Predicted)],\n",
    "    file= archivo_kaggle,\n",
    "    sep= \",\"\n",
    "  )\n",
    "\n",
    "  # subida a Kaggle, armo la linea de comando\n",
    "  comando <- \"kaggle competitions submit\"\n",
    "  competencia <- paste(\"-c\", PARAM$kaggle$competencia)\n",
    "  arch <- paste( \"-f\", archivo_kaggle)\n",
    "\n",
    "  mensaje <- paste0(\"-m 'envios=\", envios,\n",
    "  \"  semilla=\", PARAM$semilla_primigenia,\n",
    "    \"'\" )\n",
    "\n",
    "  linea <- paste( comando, competencia, arch, mensaje)\n",
    "\n",
    "  salida <- system(linea, intern=TRUE) # el submit a Kaggle\n",
    "  cat(salida, \"\\n\")\n",
    "}"
   ]
  },
  {
   "cell_type": "code",
   "execution_count": 44,
   "metadata": {
    "id": "B9tB2X4439Hg"
   },
   "outputs": [],
   "source": [
    "write_yaml( PARAM, file=\"PARAM.yml\")"
   ]
  },
  {
   "cell_type": "code",
   "execution_count": 45,
   "metadata": {
    "id": "9zA_W25c15DP"
   },
   "outputs": [
    {
     "data": {
      "text/html": [
       "'Thu Jul 31 15:39:57 2025'"
      ],
      "text/latex": [
       "'Thu Jul 31 15:39:57 2025'"
      ],
      "text/markdown": [
       "'Thu Jul 31 15:39:57 2025'"
      ],
      "text/plain": [
       "[1] \"Thu Jul 31 15:39:57 2025\""
      ]
     },
     "metadata": {},
     "output_type": "display_data"
    }
   ],
   "source": [
    "format(Sys.time(), \"%a %b %d %X %Y\")"
   ]
  },
  {
   "cell_type": "markdown",
   "metadata": {
    "id": "UdVZucdLHzZ0"
   },
   "source": [
    "Finalmente usted deberá cargar el resultado de su corrida en la Google Sheet Colaborativa,  hoja **TareaHogar04**\n",
    "<br> Siéntase libre de agregar las columnas que hagan falta a la planilla"
   ]
  },
  {
   "cell_type": "code",
   "execution_count": null,
   "metadata": {
    "id": "WMHh7uNVIJkT"
   },
   "outputs": [],
   "source": []
  },
  {
   "cell_type": "code",
   "execution_count": null,
   "metadata": {},
   "outputs": [],
   "source": []
  },
  {
   "cell_type": "code",
   "execution_count": null,
   "metadata": {},
   "outputs": [],
   "source": []
  },
  {
   "cell_type": "code",
   "execution_count": null,
   "metadata": {},
   "outputs": [],
   "source": []
  },
  {
   "cell_type": "code",
   "execution_count": null,
   "metadata": {},
   "outputs": [],
   "source": []
  },
  {
   "cell_type": "code",
   "execution_count": null,
   "metadata": {},
   "outputs": [],
   "source": []
  },
  {
   "cell_type": "code",
   "execution_count": null,
   "metadata": {},
   "outputs": [],
   "source": []
  },
  {
   "cell_type": "code",
   "execution_count": null,
   "metadata": {},
   "outputs": [],
   "source": []
  },
  {
   "cell_type": "code",
   "execution_count": null,
   "metadata": {},
   "outputs": [],
   "source": []
  }
 ],
 "metadata": {
  "colab": {
   "provenance": []
  },
  "kernelspec": {
   "display_name": "R",
   "language": "R",
   "name": "ir"
  },
  "language_info": {
   "codemirror_mode": "r",
   "file_extension": ".r",
   "mimetype": "text/x-r-source",
   "name": "R",
   "pygments_lexer": "r",
   "version": "4.4.3"
  }
 },
 "nbformat": 4,
 "nbformat_minor": 4
}
