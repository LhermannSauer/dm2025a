{
 "cells": [
  {
   "cell_type": "code",
   "execution_count": 1,
   "id": "cd2fb666-a1c0-45cb-bce8-c9608e0c414c",
   "metadata": {},
   "outputs": [],
   "source": [
    "using YAML\n",
    "using DataFrames\n",
    "using CSV"
   ]
  },
  {
   "cell_type": "code",
   "execution_count": 25,
   "id": "3d854cd2-0d1d-4e19-be35-4e7ab063a280",
   "metadata": {},
   "outputs": [
    {
     "data": {
      "text/plain": [
       "10000:500:12000"
      ]
     },
     "execution_count": 25,
     "metadata": {},
     "output_type": "execute_result"
    }
   ],
   "source": [
    "headers = [\"num_iterations\",\"learning_rate\",\"feature_fraction\",\"min_data_in_leaf\",\"num_leaves\",\"max_depth\",\"lambda_l1\",\"lambda_l2\",\"min_gain_to_split\",\"bagging_fraction\"]\n",
    "experimentos = (\"KA4940_14_ShortNotPre\",\"KA4940_14_ShortPre1\",\"KA4940_13\",\"KA4949\",\"KA4948\",\"KA4947\",\"KA4946.1\",\"KA4945\",\"KA4944\",\"KA4940_01_long\",\"KA4942.1\",\"KA4941\",\"KA4940\")\n",
    "envios= (10000:500:12000)\n"
   ]
  },
  {
   "cell_type": "code",
   "execution_count": 3,
   "id": "0f691539-1809-4200-a26d-3e4103e1f6e1",
   "metadata": {},
   "outputs": [
    {
     "data": {
      "text/plain": [
       "\"buckets/b1/exp/\""
      ]
     },
     "execution_count": 3,
     "metadata": {},
     "output_type": "execute_result"
    }
   ],
   "source": [
    "path = \"buckets/b1/exp/\""
   ]
  },
  {
   "cell_type": "code",
   "execution_count": 10,
   "id": "5b9f7b0f-7ff0-4d47-bb28-8839661d70f4",
   "metadata": {},
   "outputs": [],
   "source": [
    "scores_df = DataFrame(CSV.File(\"/home/l_hermannsauer/resultados.csv\"));"
   ]
  },
  {
   "cell_type": "code",
   "execution_count": 71,
   "id": "76264172-250a-4ac1-a5fe-4a655c55bc25",
   "metadata": {},
   "outputs": [
    {
     "data": {
      "text/html": [
       "<div><div style = \"float: left;\"><span>0×14 DataFrame</span></div><div style = \"clear: both;\"></div></div><div class = \"data-frame\" style = \"overflow-x: scroll;\"><table class = \"data-frame\" style = \"margin-bottom: 6px;\"><thead><tr class = \"header\"><th class = \"rowNumber\" style = \"font-weight: bold; text-align: right;\">Row</th><th style = \"text-align: left;\">alumno</th><th style = \"text-align: left;\">semilla</th><th style = \"text-align: left;\">num_iterations</th><th style = \"text-align: left;\">learning_rate</th><th style = \"text-align: left;\">feature_fraction</th><th style = \"text-align: left;\">min_data_in_leaf</th><th style = \"text-align: left;\">num_leaves</th><th style = \"text-align: left;\">max_depth</th><th style = \"text-align: left;\">lambda_l1</th><th style = \"text-align: left;\">lambda_l2</th><th style = \"text-align: left;\">min_gain_to_split</th><th style = \"text-align: left;\">bagging_fraction</th><th style = \"text-align: left;\">envios</th><th style = \"text-align: left;\">score</th></tr><tr class = \"subheader headerLastRow\"><th class = \"rowNumber\" style = \"font-weight: bold; text-align: right;\"></th><th title = \"String\" style = \"text-align: left;\">String</th><th title = \"Int64\" style = \"text-align: left;\">Int64</th><th title = \"Int64\" style = \"text-align: left;\">Int64</th><th title = \"Float64\" style = \"text-align: left;\">Float64</th><th title = \"Float64\" style = \"text-align: left;\">Float64</th><th title = \"Int64\" style = \"text-align: left;\">Int64</th><th title = \"Int64\" style = \"text-align: left;\">Int64</th><th title = \"Int64\" style = \"text-align: left;\">Int64</th><th title = \"Float64\" style = \"text-align: left;\">Float64</th><th title = \"Float64\" style = \"text-align: left;\">Float64</th><th title = \"Float64\" style = \"text-align: left;\">Float64</th><th title = \"Float64\" style = \"text-align: left;\">Float64</th><th title = \"Int64\" style = \"text-align: left;\">Int64</th><th title = \"String\" style = \"text-align: left;\">String</th></tr></thead><tbody></tbody></table></div>"
      ],
      "text/latex": [
       "\\begin{tabular}{r|ccccccc}\n",
       "\t& alumno & semilla & num\\_iterations & learning\\_rate & feature\\_fraction & min\\_data\\_in\\_leaf & \\\\\n",
       "\t\\hline\n",
       "\t& String & Int64 & Int64 & Float64 & Float64 & Int64 & \\\\\n",
       "\t\\hline\n",
       "\\end{tabular}\n"
      ],
      "text/plain": [
       "\u001b[1m0×14 DataFrame\u001b[0m\n",
       "\u001b[1m Row \u001b[0m│\u001b[1m alumno \u001b[0m\u001b[1m semilla \u001b[0m\u001b[1m num_iterations \u001b[0m\u001b[1m learning_rate \u001b[0m\u001b[1m feature_fraction \u001b[0m\u001b[1m min_d\u001b[0m ⋯\n",
       "     │\u001b[90m String \u001b[0m\u001b[90m Int64   \u001b[0m\u001b[90m Int64          \u001b[0m\u001b[90m Float64       \u001b[0m\u001b[90m Float64          \u001b[0m\u001b[90m Int64\u001b[0m ⋯\n",
       "─────┴──────────────────────────────────────────────────────────────────────────\n",
       "\u001b[36m                                                               9 columns omitted\u001b[0m"
      ]
     },
     "execution_count": 71,
     "metadata": {},
     "output_type": "execute_result"
    }
   ],
   "source": [
    "resultados = DataFrame(\n",
    "    alumno = String[],\n",
    "    semilla = Int[],\n",
    "    num_iterations = Int[],\n",
    "    learning_rate = Float64[],\n",
    "    feature_fraction = Float64[],\n",
    "    min_data_in_leaf = Int[],\n",
    "    num_leaves = Int[],\n",
    "    max_depth = Int[],\n",
    "    lambda_l1 = Float64[],\n",
    "    lambda_l2 = Float64[],\n",
    "    min_gain_to_split = Float64[],\n",
    "    bagging_fraction = Float64[],\n",
    "    envios = Int[],\n",
    "    score = String[]\n",
    ")"
   ]
  },
  {
   "cell_type": "code",
   "execution_count": 72,
   "id": "b3842a3c-c768-49e4-8fde-9a3c6a2eb0bd",
   "metadata": {},
   "outputs": [
    {
     "data": {
      "text/html": [
       "<div><div style = \"float: left;\"><span>0×14 DataFrame</span></div><div style = \"clear: both;\"></div></div><div class = \"data-frame\" style = \"overflow-x: scroll;\"><table class = \"data-frame\" style = \"margin-bottom: 6px;\"><thead><tr class = \"header\"><th class = \"rowNumber\" style = \"font-weight: bold; text-align: right;\">Row</th><th style = \"text-align: left;\">alumno</th><th style = \"text-align: left;\">semilla</th><th style = \"text-align: left;\">num_iterations</th><th style = \"text-align: left;\">learning_rate</th><th style = \"text-align: left;\">feature_fraction</th><th style = \"text-align: left;\">min_data_in_leaf</th><th style = \"text-align: left;\">num_leaves</th><th style = \"text-align: left;\">max_depth</th><th style = \"text-align: left;\">lambda_l1</th><th style = \"text-align: left;\">lambda_l2</th><th style = \"text-align: left;\">min_gain_to_split</th><th style = \"text-align: left;\">bagging_fraction</th><th style = \"text-align: left;\">envios</th><th style = \"text-align: left;\">score</th></tr><tr class = \"subheader headerLastRow\"><th class = \"rowNumber\" style = \"font-weight: bold; text-align: right;\"></th><th title = \"String\" style = \"text-align: left;\">String</th><th title = \"Int64\" style = \"text-align: left;\">Int64</th><th title = \"Int64\" style = \"text-align: left;\">Int64</th><th title = \"Float64\" style = \"text-align: left;\">Float64</th><th title = \"Float64\" style = \"text-align: left;\">Float64</th><th title = \"Int64\" style = \"text-align: left;\">Int64</th><th title = \"Int64\" style = \"text-align: left;\">Int64</th><th title = \"Int64\" style = \"text-align: left;\">Int64</th><th title = \"Float64\" style = \"text-align: left;\">Float64</th><th title = \"Float64\" style = \"text-align: left;\">Float64</th><th title = \"Float64\" style = \"text-align: left;\">Float64</th><th title = \"Float64\" style = \"text-align: left;\">Float64</th><th title = \"Int64\" style = \"text-align: left;\">Int64</th><th title = \"String\" style = \"text-align: left;\">String</th></tr></thead><tbody></tbody></table></div>"
      ],
      "text/latex": [
       "\\begin{tabular}{r|ccccccc}\n",
       "\t& alumno & semilla & num\\_iterations & learning\\_rate & feature\\_fraction & min\\_data\\_in\\_leaf & \\\\\n",
       "\t\\hline\n",
       "\t& String & Int64 & Int64 & Float64 & Float64 & Int64 & \\\\\n",
       "\t\\hline\n",
       "\\end{tabular}\n"
      ],
      "text/plain": [
       "\u001b[1m0×14 DataFrame\u001b[0m\n",
       "\u001b[1m Row \u001b[0m│\u001b[1m alumno \u001b[0m\u001b[1m semilla \u001b[0m\u001b[1m num_iterations \u001b[0m\u001b[1m learning_rate \u001b[0m\u001b[1m feature_fraction \u001b[0m\u001b[1m min_d\u001b[0m ⋯\n",
       "     │\u001b[90m String \u001b[0m\u001b[90m Int64   \u001b[0m\u001b[90m Int64          \u001b[0m\u001b[90m Float64       \u001b[0m\u001b[90m Float64          \u001b[0m\u001b[90m Int64\u001b[0m ⋯\n",
       "─────┴──────────────────────────────────────────────────────────────────────────\n",
       "\u001b[36m                                                               9 columns omitted\u001b[0m"
      ]
     },
     "execution_count": 72,
     "metadata": {},
     "output_type": "execute_result"
    }
   ],
   "source": [
    "resultados"
   ]
  },
  {
   "cell_type": "code",
   "execution_count": 76,
   "id": "e863f5c4-615b-4321-89f5-cfa77a398655",
   "metadata": {},
   "outputs": [
    {
     "data": {
      "text/plain": [
       "extract_params_and_score (generic function with 2 methods)"
      ]
     },
     "execution_count": 76,
     "metadata": {},
     "output_type": "execute_result"
    }
   ],
   "source": [
    "function extract_params_and_score(\n",
    "    df::DataFrame,\n",
    "    folder_name::String,\n",
    "    submission::Integer,\n",
    "    scores_df::DataFrame,\n",
    "    yaml_keys::Vector{String}\n",
    ")    \n",
    "    # Read the YAML file\n",
    "    yml_path = joinpath(\"/home/l_hermannsauer/buckets/b1/exp/exp$(folder_name[3:end])\", \"PARAM.yml\")\n",
    "    \n",
    "    if !isfile(yml_path)\n",
    "        #@warn(\"Not found $yml_path\")\n",
    "        return\n",
    "    end\n",
    "    params = YAML.load_file(yml_path)\n",
    "\n",
    "    # Extract each requested YAML parameter\n",
    "    extracted_params = Dict{String, Any}()\n",
    "    for key in yaml_keys\n",
    "        # Split nested keys (e.g., \"lgbm.param_fijos.boosting\" → [\"lgbm\", \"param_fijos\", \"boosting\"])\n",
    "        \n",
    "        try\n",
    "            value = params[\"out\"][\"lgbm\"][\"mejores_hiperparametros\"][key]\n",
    "            extracted_params[key] = value\n",
    "        catch e \n",
    "            value = params[\"lgbm\"][\"param_fijos\"][key]\n",
    "            extracted_params[key] = value\n",
    "\n",
    "        end\n",
    "    end\n",
    "\n",
    "\n",
    "    # Get the matching score from the scores dataframe\n",
    "    matching_rows = filter(row -> row.Exp == folder_name && row.Envios == submission, scores_df)\n",
    "    if isempty(matching_rows)\n",
    "        error(\"No matching score found for Exp: $folder_name, Envios: $submission\")\n",
    "    end\n",
    "    puntaje = matching_rows[1, :Puntaje]\n",
    "\n",
    "    extracted_params[\"alumno\"] = \"Leandro Hermann\"\n",
    "    extracted_params[\"semilla\"] = 106109\n",
    "    extracted_params[\"score\"] = puntaje\n",
    "    extracted_params[\"envios\"] = submission\n",
    "    push!(df, extracted_params)\n",
    "end"
   ]
  },
  {
   "cell_type": "code",
   "execution_count": 77,
   "id": "21af3427-e786-4787-b8d6-d6765a8a4352",
   "metadata": {},
   "outputs": [],
   "source": [
    "for exp in experimentos\n",
    "    for envio in envios\n",
    "        extract_params_and_score(resultados,exp, envio, scores_df, headers)\n",
    "    end\n",
    "end"
   ]
  },
  {
   "cell_type": "code",
   "execution_count": 78,
   "id": "85ad5f4d-7c7e-4028-93a5-0b64cd138885",
   "metadata": {},
   "outputs": [
    {
     "data": {
      "text/plain": [
       "\"resultados.csv\""
      ]
     },
     "execution_count": 78,
     "metadata": {},
     "output_type": "execute_result"
    }
   ],
   "source": [
    "CSV.write(\"resultados.csv\", resultados)\n"
   ]
  },
  {
   "cell_type": "code",
   "execution_count": null,
   "id": "f8422c13-32c8-4fe4-8acb-4955b2debf2f",
   "metadata": {},
   "outputs": [],
   "source": []
  }
 ],
 "metadata": {
  "kernelspec": {
   "display_name": "Julia 1.11.6",
   "language": "julia",
   "name": "julia-1.11"
  },
  "language_info": {
   "file_extension": ".jl",
   "mimetype": "application/julia",
   "name": "julia",
   "version": "1.11.6"
  }
 },
 "nbformat": 4,
 "nbformat_minor": 5
}
