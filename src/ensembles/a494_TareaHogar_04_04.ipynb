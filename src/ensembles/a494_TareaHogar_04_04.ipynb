{
 "cells": [
  {
   "cell_type": "markdown",
   "metadata": {
    "id": "0cEmzeUKFkPh"
   },
   "source": [
    "# Tarea para el Hogar 04"
   ]
  },
  {
   "cell_type": "markdown",
   "metadata": {
    "id": "nSICPpyTGQmC"
   },
   "source": [
    "Esta Tarea para el Hogar 02 se entrega el final de la cuarta clase\n",
    "<br> se espera de usted que intente avanzar con los desafios propuestos y que los traiga terminados para la Clase 05 que será el viernes 01-agosto"
   ]
  },
  {
   "cell_type": "markdown",
   "metadata": {
    "id": "DenyKXkiJ5JN"
   },
   "source": [
    "##  1. Cazatalentos"
   ]
  },
  {
   "cell_type": "markdown",
   "metadata": {
    "id": "l-K2_ZsZGrVD"
   },
   "source": [
    "En la Clase 03 nos hemos enfrentado a  \"La Maldicion del Ganandor\",  elegir el modelo con el mejor puntaje simple no suele ser la mejor estrategia.\n",
    "<br> Lea y ejecute el notebook  **src/CazaTalentos/CazaTalentos.ipynb**\n",
    "<br> en caso de interesarle, participe del Desafío Ordenamiento  que vence el sábado 02 de agosto a las 19:00"
   ]
  },
  {
   "cell_type": "markdown",
   "metadata": {
    "id": "K9GkTOk5J9t3"
   },
   "source": [
    "## 2. Hiperparámetros del LightGBM"
   ]
  },
  {
   "cell_type": "markdown",
   "metadata": {
    "id": "VmEFy0ukKL5T"
   },
   "source": [
    "Los objetivos de esta tarea son:\n",
    "\n",
    "\n",
    "*   Aumentar la rentabilidad de la campaña de marketing de retención proactiva de clientes.\n",
    "*   Generar un mejor modelo optimizando sus hiperparámetros\n",
    "*   Conceptual : investigar los mas relevantes hiperparámetros de LightGBM\n",
    "*   Familiarizarse con la Bayesian Optimization, sus largos tiempos de corrida y opciones para reducirlos\n",
    "*   Familiarizarse con el uso de máquinas virtuales de Google Colab\n",
    "*   Ver un pipeline completo de optimización de hiperparámetros y puesta en producción"
   ]
  },
  {
   "cell_type": "markdown",
   "metadata": {
    "id": "5yvlS6JQLRMd"
   },
   "source": [
    "LightGBM cuenta con mas de 60 hiperparámetros, siendo posible utilizar 40 al mismo tiempo, aunque no razonable.\n",
    "<br> La documentación oficial de los hiperparámetros de LightGBM es  https://lightgbm.readthedocs.io/en/latest/Parameters.html#core-parameters\n"
   ]
  },
  {
   "cell_type": "markdown",
   "metadata": {
    "id": "eydI4YNAsFaf"
   },
   "source": [
    "Se lo alerta sobre que una Optimizacion Bayesiana lleva varias horas de corrida, y usted deberá correr VARIAS optimizaciones para descubrir cuales parámetros conviene optimizar.\n",
    "<br> A pesar que la próxima clase es recien en viernes 01 de agosto, inicie la tarea con tiempo, aprenda a planificar estratégicamente sus corridas como un@ científ@  de datos."
   ]
  },
  {
   "cell_type": "markdown",
   "metadata": {
    "id": "RzU4S0SeMcpp"
   },
   "source": [
    "Es necesario investigar cuales son los hiperparámetros de LightGBM que vale la pena optimizar en una Bayesian Optimization, ya que los realmente utiles son apenas un reducido subconjunto.\n",
    "<br>Usted deberá investigar cuales son los hiperparámetros mas relevantes de LightGBM, su primer alternativa es preguntándole a su amigo con capacidades especiales ChatGPT o sus endogámicos familiares Claude, DeepSeek, Gemini, Grok, etc\n",
    "<br> La segunda alternativa es la propia documentación de LightGBM  https://lightgbm.readthedocs.io/en/latest/Parameters-Tuning.html\n"
   ]
  },
  {
   "cell_type": "markdown",
   "metadata": {
    "id": "LNptUgI_NWWG"
   },
   "source": [
    "Adicionalmente podra buscar información como la que proveen esta diminuta muestra aleatoria de artículos ligeros:\n",
    "*  https://medium.com/@sarahzouinina/a-deep-dive-into-lightgbm-how-to-choose-and-tune-parameters-7c584945842e\n",
    "*  https://www.kaggle.com/code/somang1418/tuning-hyperparameters-under-10-minutes-lgbm\n",
    "*  https://towardsdatascience.com/beginners-guide-to-the-must-know-lightgbm-hyperparameters-a0005a812702/\n",
    "\n",
    "\n",
    "<br>  La muestra anterior se brinda a modo de ejemplo, usted deberá buscar muuuuchas  fuentes adicionales de información\n",
    "<br> Tenga presente que LightGBM es el estado del arte en modelado predictivo para datasets estructurado, que son el 90% del trabajo del 95% de los Data Scientists en Argentina."
   ]
  },
  {
   "cell_type": "markdown",
   "metadata": {
    "id": "WpUThBojODyK"
   },
   "source": [
    "El desafío de esta tarea es:\n",
    "* Qué hiperparparámetros conviene optimizar?  Las recomendaciones de los artículos ligeros es siempre sensata?  Sus autores realmente hicieron experimentos o son siemplemente escritores de entretenimiento carente de base científica?\n",
    "* Elegidos los hiperparámetros, cual es el  <desde, hasta> que se debe utilizar en la Bayesian Optimization ?\n",
    "* Realmente vale la pena optimizar 10 o 16 hiperparámetros al mismo tiempo ?  No resulta contraproducente una búsqueda en un espacio de tal alta dimensionalidad ?"
   ]
  },
  {
   "cell_type": "markdown",
   "metadata": {
    "id": "PX0qg_c0yqob"
   },
   "source": [
    "#### 2.1  Seteo del ambiente en Google Colab"
   ]
  },
  {
   "cell_type": "markdown",
   "metadata": {
    "id": "NGY7H9xza7Zr"
   },
   "source": [
    "Esta parte se debe correr con el runtime en Python3\n",
    "<br>Ir al menu, Runtime -> Change Runtime Type -> Runtime type ->  **Python 3**"
   ]
  },
  {
   "cell_type": "markdown",
   "metadata": {
    "id": "7PupIBNba7Zr"
   },
   "source": [
    "Conectar la virtual machine donde esta corriendo Google Colab con el  Google Drive, para poder tener persistencia de archivos"
   ]
  },
  {
   "cell_type": "code",
   "execution_count": null,
   "metadata": {
    "id": "9LpZCst5a7Zs"
   },
   "outputs": [],
   "source": [
    "# primero establecer el Runtime de Python 3\n",
    "from google.colab import drive\n",
    "drive.mount('/content/.drive')"
   ]
  },
  {
   "cell_type": "markdown",
   "metadata": {
    "id": "JYC_F-wla7Zs"
   },
   "source": [
    "Para correr la siguiente celda es fundamental en Arranque en Frio haber copiado el archivo kaggle.json al Google Drive, en la carpeta indicada en el instructivo\n",
    "\n",
    "<br>los siguientes comando estan en shell script de Linux\n",
    "*   Crear las carpetas en el Google Drive\n",
    "*   \"instalar\" el archivo kaggle.json desde el Google Drive a la virtual machine para que pueda ser utilizado por la libreria  kaggle de Python\n",
    "*   Bajar el  **dataset_pequeno**  al  Google Drive  y tambien al disco local de la virtual machine que esta corriendo Google Colab\n",
    "\n"
   ]
  },
  {
   "cell_type": "code",
   "execution_count": null,
   "metadata": {
    "id": "XWLelftXa7Zt"
   },
   "outputs": [],
   "source": [
    "%%shell\n",
    "\n",
    "mkdir -p \"/content/.drive/My Drive/dm\"\n",
    "mkdir -p \"/content/buckets\"\n",
    "ln -s \"/content/.drive/My Drive/dm\" /content/buckets/b1\n",
    "\n",
    "mkdir -p ~/.kaggle\n",
    "cp /content/buckets/b1/kaggle/kaggle.json  ~/.kaggle\n",
    "chmod 600 ~/.kaggle/kaggle.json\n",
    "\n",
    "\n",
    "mkdir -p /content/buckets/b1/exp\n",
    "mkdir -p /content/buckets/b1/datasets\n",
    "mkdir -p /content/datasets\n",
    "\n",
    "\n",
    "\n",
    "archivo_origen=\"https://storage.googleapis.com/open-courses/itba2025-8d0a/dataset_pequeno.csv\"\n",
    "archivo_destino=\"/content/datasets/dataset_pequeno.csv\"\n",
    "archivo_destino_bucket=\"/content/buckets/b1/datasets/dataset_pequeno.csv\"\n",
    "\n",
    "if ! test -f $archivo_destino_bucket; then\n",
    "  wget  $archivo_origen  -O $archivo_destino_bucket\n",
    "fi\n",
    "\n",
    "\n",
    "if ! test -f $archivo_destino; then\n",
    "  cp  $archivo_destino_bucket  $archivo_destino\n",
    "fi\n"
   ]
  },
  {
   "cell_type": "markdown",
   "metadata": {
    "id": "oSKhZRToy2F7"
   },
   "source": [
    "### 2.2 Optimizacion Hiperparámetros"
   ]
  },
  {
   "cell_type": "markdown",
   "metadata": {
    "id": "2kwPpHAtSmix"
   },
   "source": [
    "Esta parte se debe correr con el runtime en lenguaje R Ir al menu, Runtime -> Change Runtime Type -> Runtime type -> R"
   ]
  },
  {
   "cell_type": "markdown",
   "metadata": {
    "id": "xp4-Bj3aYI8d"
   },
   "source": [
    "### 2.2.1 Inicio"
   ]
  },
  {
   "cell_type": "markdown",
   "metadata": {
    "id": "zy8YTZfESxeJ"
   },
   "source": [
    "limpio el ambiente de R"
   ]
  },
  {
   "cell_type": "code",
   "execution_count": 1,
   "metadata": {
    "id": "gBq__iAdQliq"
   },
   "outputs": [
    {
     "data": {
      "text/html": [
       "'Tue Jul 29 12:05:25 2025'"
      ],
      "text/latex": [
       "'Tue Jul 29 12:05:25 2025'"
      ],
      "text/markdown": [
       "'Tue Jul 29 12:05:25 2025'"
      ],
      "text/plain": [
       "[1] \"Tue Jul 29 12:05:25 2025\""
      ]
     },
     "metadata": {},
     "output_type": "display_data"
    }
   ],
   "source": [
    "format(Sys.time(), \"%a %b %d %X %Y\")"
   ]
  },
  {
   "cell_type": "code",
   "execution_count": 2,
   "metadata": {
    "id": "7rdVrBojS1IV"
   },
   "outputs": [
    {
     "data": {
      "text/html": [
       "<table class=\"dataframe\">\n",
       "<caption>A matrix: 2 × 6 of type dbl</caption>\n",
       "<thead>\n",
       "\t<tr><th></th><th scope=col>used</th><th scope=col>(Mb)</th><th scope=col>gc trigger</th><th scope=col>(Mb)</th><th scope=col>max used</th><th scope=col>(Mb)</th></tr>\n",
       "</thead>\n",
       "<tbody>\n",
       "\t<tr><th scope=row>Ncells</th><td> 664797</td><td>35.6</td><td>1439374</td><td>76.9</td><td>1439374</td><td>76.9</td></tr>\n",
       "\t<tr><th scope=row>Vcells</th><td>1243824</td><td> 9.5</td><td>8388608</td><td>64.0</td><td>1924969</td><td>14.7</td></tr>\n",
       "</tbody>\n",
       "</table>\n"
      ],
      "text/latex": [
       "A matrix: 2 × 6 of type dbl\n",
       "\\begin{tabular}{r|llllll}\n",
       "  & used & (Mb) & gc trigger & (Mb) & max used & (Mb)\\\\\n",
       "\\hline\n",
       "\tNcells &  664797 & 35.6 & 1439374 & 76.9 & 1439374 & 76.9\\\\\n",
       "\tVcells & 1243824 &  9.5 & 8388608 & 64.0 & 1924969 & 14.7\\\\\n",
       "\\end{tabular}\n"
      ],
      "text/markdown": [
       "\n",
       "A matrix: 2 × 6 of type dbl\n",
       "\n",
       "| <!--/--> | used | (Mb) | gc trigger | (Mb) | max used | (Mb) |\n",
       "|---|---|---|---|---|---|---|\n",
       "| Ncells |  664797 | 35.6 | 1439374 | 76.9 | 1439374 | 76.9 |\n",
       "| Vcells | 1243824 |  9.5 | 8388608 | 64.0 | 1924969 | 14.7 |\n",
       "\n"
      ],
      "text/plain": [
       "       used    (Mb) gc trigger (Mb) max used (Mb)\n",
       "Ncells  664797 35.6 1439374    76.9 1439374  76.9\n",
       "Vcells 1243824  9.5 8388608    64.0 1924969  14.7"
      ]
     },
     "metadata": {},
     "output_type": "display_data"
    }
   ],
   "source": [
    "# limpio la memoria\n",
    "rm(list=ls(all.names=TRUE)) # remove all objects\n",
    "gc(full=TRUE, verbose=FALSE) # garbage collection"
   ]
  },
  {
   "cell_type": "markdown",
   "metadata": {
    "id": "kuPfQ7ksjwW3"
   },
   "source": [
    "### 2.2.2 Carga de Librerias"
   ]
  },
  {
   "cell_type": "code",
   "execution_count": 3,
   "metadata": {
    "id": "lVyxLaJ1j1J_"
   },
   "outputs": [
    {
     "name": "stderr",
     "output_type": "stream",
     "text": [
      "Loading required package: data.table\n",
      "\n",
      "Loading required package: parallel\n",
      "\n",
      "Loading required package: primes\n",
      "\n",
      "Loading required package: rlist\n",
      "\n",
      "Loading required package: yaml\n",
      "\n",
      "Loading required package: lightgbm\n",
      "\n",
      "Loading required package: DiceKriging\n",
      "\n",
      "Loading required package: mlrMBO\n",
      "\n",
      "Loading required package: mlr\n",
      "\n",
      "Loading required package: ParamHelpers\n",
      "\n",
      "Loading required package: smoof\n",
      "\n",
      "Loading required package: checkmate\n",
      "\n",
      "\n",
      "Attaching package: ‘checkmate’\n",
      "\n",
      "\n",
      "The following object is masked from ‘package:DiceKriging’:\n",
      "\n",
      "    checkNames\n",
      "\n",
      "\n"
     ]
    }
   ],
   "source": [
    "# cargo las librerias que necesito\n",
    "require(\"data.table\")\n",
    "require(\"parallel\")\n",
    "\n",
    "if( !require(\"primes\") ) install.packages(\"primes\")\n",
    "require(\"primes\")\n",
    "\n",
    "if( !require(\"utils\") ) install.packages(\"utils\")\n",
    "require(\"utils\")\n",
    "\n",
    "if( !require(\"rlist\") ) install.packages(\"rlist\")\n",
    "require(\"rlist\")\n",
    "\n",
    "if( !require(\"yaml\")) install.packages(\"yaml\")\n",
    "require(\"yaml\")\n",
    "\n",
    "if( !require(\"lightgbm\") ) install.packages(\"lightgbm\")\n",
    "require(\"lightgbm\")\n",
    "\n",
    "if( !require(\"DiceKriging\") ) install.packages(\"DiceKriging\")\n",
    "require(\"DiceKriging\")\n",
    "\n",
    "if( !require(\"mlrMBO\") ) install.packages(\"mlrMBO\")\n",
    "require(\"mlrMBO\")"
   ]
  },
  {
   "cell_type": "markdown",
   "metadata": {
    "id": "Iz-6Qt6BUaA3"
   },
   "source": [
    "### 2.2.3 Definicion de Parametros"
   ]
  },
  {
   "cell_type": "markdown",
   "metadata": {
    "id": "cOdlKd7lUm2I"
   },
   "source": [
    "aqui debe cargar SU semilla primigenia\n",
    "<br>recuerde cambiar el numero de experimento en cada corrida nueva"
   ]
  },
  {
   "cell_type": "code",
   "execution_count": 6,
   "metadata": {
    "id": "ASYkebOu2mF6"
   },
   "outputs": [],
   "source": [
    "PARAM <- list()\n",
    "PARAM$experimento <- 4944\n",
    "PARAM$semilla_primigenia <- 106109\n"
   ]
  },
  {
   "cell_type": "code",
   "execution_count": 7,
   "metadata": {
    "id": "ezOhQdbA293o"
   },
   "outputs": [],
   "source": [
    "PARAM$kaggle$competencia <- \"data-mining-analista-sr-2025-a\"\n",
    "PARAM$kaggle$cortes <- seq(10000, 12000, by= 500)"
   ]
  },
  {
   "cell_type": "code",
   "execution_count": 8,
   "metadata": {
    "id": "jtB0Lub42rHO"
   },
   "outputs": [],
   "source": [
    "# un undersampling de 0.1  toma solo el 10% de los CONTINUA\n",
    "# undersampling de 1.0  implica tomar TODOS los datos\n",
    "\n",
    "PARAM$trainingstrategy$undersampling <- 0.5"
   ]
  },
  {
   "cell_type": "code",
   "execution_count": 9,
   "metadata": {
    "id": "OFxm-xiNUOJX"
   },
   "outputs": [],
   "source": [
    "# Parametros LightGBM\n",
    "\n",
    "PARAM$hyperparametertuning$xval_folds <- 5\n",
    "\n",
    "# parametros fijos del LightGBM que se pisaran con la parte variable de la BO\n",
    "PARAM$lgbm$param_fijos <-  list(\n",
    "  boosting= \"gbdt\", # puede ir  dart  , ni pruebe random_forest\n",
    "  objective= \"binary\",\n",
    "  metric= \"auc\",\n",
    "  first_metric_only= FALSE,\n",
    "  boost_from_average= TRUE,\n",
    "  feature_pre_filter= FALSE,\n",
    "  force_row_wise= TRUE, # para reducir warnings\n",
    "  verbosity= -100,\n",
    "\n",
    "  seed= PARAM$semilla_primigenia,\n",
    "\n",
    "  max_depth= -1L, # -1 significa no limitar,  por ahora lo dejo fijo\n",
    "  min_gain_to_split= 0, # min_gain_to_split >= 0\n",
    "  min_sum_hessian_in_leaf= 0.001, #  min_sum_hessian_in_leaf >= 0.0\n",
    "  lambda_l1= 0.3933, # lambda_l1 >= 0.0\n",
    "  lambda_l2= 0.0, # lambda_l2 >= 0.0\n",
    "  max_bin= 31L, # lo debo dejar fijo, no participa de la BO\n",
    "\n",
    "  bagging_fraction= 1.0, # 0.0 < bagging_fraction <= 1.0\n",
    "  pos_bagging_fraction= 1.0, # 0.0 < pos_bagging_fraction <= 1.0\n",
    "  neg_bagging_fraction= 1.0, # 0.0 < neg_bagging_fraction <= 1.0\n",
    "  is_unbalance= FALSE, #\n",
    "  scale_pos_weight= 12, # scale_pos_weight > 0.0\n",
    "\n",
    "  drop_rate= 0.1, # 0.0 < neg_bagging_fraction <= 1.0\n",
    "  max_drop= 50, # <=0 means no limit\n",
    "  skip_drop= 0.5, # 0.0 <= skip_drop <= 1.0\n",
    "\n",
    "  extra_trees= FALSE,\n",
    "\n",
    "  num_iterations= 1458,\n",
    "  learning_rate= 0.005169,\n",
    "  feature_fraction= 0.577,\n",
    "  num_leaves= 41,\n",
    "  min_data_in_leaf= 480\n",
    ")\n"
   ]
  },
  {
   "cell_type": "markdown",
   "metadata": {
    "id": "D5Yj-JV4yvOt"
   },
   "source": [
    "Aqui se definen los hiperparámetros de LightGBM que participan de la Bayesian Optimization\n",
    "<br> si es un numero entero debe ir  makeIntegerParam\n",
    "<br> si es un numero real (con decimales) debe ir  makeNumericParam\n",
    "<br> es muy importante leer cuales son un lower y upper  permitidos y ademas razonables"
   ]
  },
  {
   "cell_type": "code",
   "execution_count": 26,
   "metadata": {
    "id": "jENpR26ZyuS8"
   },
   "outputs": [],
   "source": [
    "# Aqui se cargan los bordes de los hiperparametros de la BO\n",
    "PARAM$hypeparametertuning$hs <- makeParamSet(\n",
    "  #makeIntegerParam(\"num_iterations\", lower= 8L, upper= 2048L),\n",
    "  #makeNumericParam(\"learning_rate\", lower= 0.001, upper= 0.2),\n",
    "  #makeNumericParam(\"feature_fraction\", lower= 0.4, upper= 0.6),\n",
    "  #makeIntegerParam(\"num_leaves\", lower= 16L, upper= 48),\n",
    "  #makeIntegerParam(\"min_data_in_leaf\", lower= 400L, upper= 600),\n",
    "  #makeIntegerParam(\"scale_post_weight\", lower = 1L, upper= 200L),\n",
    "  #makeNumericParam(\"lambda_l1\", lower=0, upper=.5)\n",
    "  makeNumericParam(\"lambda_l2\", lower=0, upper=.5),\n",
    "  makeNumericParam(\"bagging_fraction\", lower=.6, upper=.95),\n",
    "  makeNumericParam(\"pos_bagging_fraction\", lower=0, upper=.5),\n",
    "  makeNumericParam(\"neg_bagging_fraction\", lower=0, upper=.5),\n",
    "  makeNumericParam(\"drop_rate\", lower=0, upper=.5)\n",
    "#  makeDiscreteParam(\"boosting\", values=c(\"gbdt\",\"dart\")),\n",
    "#  makeDiscreteParam(\"is_unbalance\", values=c(\"TRUE\", \"FALSE\"))\n",
    "    \n",
    "  #makeIntegerParam(\"bagging_freq\", lower=3, upper=10)\n",
    "  \n",
    ")"
   ]
  },
  {
   "cell_type": "markdown",
   "metadata": {
    "id": "-_RPFUb3zMoW"
   },
   "source": [
    "A mayor cantidad de hiperparámetros, se debe aumentar las iteraciones de la Bayesian Optimization\n",
    "<br> 30 es un valor muy tacaño, pero corre rápido\n",
    "<br> deberia partir de 50, alcanzando los 100 si se dispone de tiempo"
   ]
  },
  {
   "cell_type": "code",
   "execution_count": 27,
   "metadata": {
    "id": "q5Rd3pnbzSiG"
   },
   "outputs": [],
   "source": [
    "PARAM$hyperparametertuning$iteraciones <- 100 # iteraciones bayesianas"
   ]
  },
  {
   "cell_type": "markdown",
   "metadata": {
    "id": "4RWZXL1VZjMI"
   },
   "source": [
    "### 2.2.4  Preprocesamiento"
   ]
  },
  {
   "cell_type": "code",
   "execution_count": 28,
   "metadata": {
    "id": "j3toG9-lZm4K"
   },
   "outputs": [],
   "source": [
    "# carpeta de trabajo\n",
    "\n",
    "setwd(\"/content/buckets/b1/exp\")\n",
    "experimento_folder <- paste0(\"HT\", PARAM$experimento)\n",
    "dir.create(experimento_folder, showWarnings=FALSE)\n",
    "setwd( paste0(\"/content/buckets/b1/exp/\", experimento_folder ))"
   ]
  },
  {
   "cell_type": "code",
   "execution_count": 29,
   "metadata": {
    "id": "FM3lxKoLZ643"
   },
   "outputs": [],
   "source": [
    "# lectura del dataset\n",
    "\n",
    "dataset <- fread(\"/content/datasets/dataset_pequeno.csv\")"
   ]
  },
  {
   "cell_type": "code",
   "execution_count": 30,
   "metadata": {
    "id": "OsJ-91UeZ-I_"
   },
   "outputs": [],
   "source": [
    "dataset_train <- dataset[foto_mes %in% c(202107)]"
   ]
  },
  {
   "cell_type": "code",
   "execution_count": 31,
   "metadata": {
    "id": "vrWE7BE0aB2J"
   },
   "outputs": [],
   "source": [
    "# paso la clase a binaria que tome valores {0,1}  enteros\n",
    "#  BAJA+1 y BAJA+2  son  1,   CONTINUA es 0\n",
    "\n",
    "dataset_train[,\n",
    "  clase01 := ifelse(clase_ternaria %in% c(\"BAJA+2\",\"BAJA+1\"), 1L, 0L)\n",
    "]"
   ]
  },
  {
   "cell_type": "code",
   "execution_count": 32,
   "metadata": {
    "id": "jP7YlQBnaW6W"
   },
   "outputs": [],
   "source": [
    "# defino los datos que forma parte del training\n",
    "# aqui se hace el undersampling de los CONTINUA\n",
    "# notar que para esto utilizo la SEGUNDA semilla\n",
    "\n",
    "set.seed(PARAM$semilla_primigenia, kind = \"L'Ecuyer-CMRG\")\n",
    "dataset_train[, azar := runif(nrow(dataset_train))]\n",
    "dataset_train[, training := 0L]\n",
    "\n",
    "dataset_train[\n",
    "  foto_mes %in% c(202107) &\n",
    "    (azar <= PARAM$trainingstrategy$undersampling | clase_ternaria %in% c(\"BAJA+1\", \"BAJA+2\")),\n",
    "  training := 1L\n",
    "]"
   ]
  },
  {
   "cell_type": "code",
   "execution_count": 33,
   "metadata": {
    "id": "xElu4s5W4rX7"
   },
   "outputs": [],
   "source": [
    "# los campos que se van a utilizar\n",
    "\n",
    "campos_buenos <- setdiff(\n",
    "  colnames(dataset_train),\n",
    "  c(\"clase_ternaria\", \"clase01\", \"azar\", \"training\")\n",
    ")"
   ]
  },
  {
   "cell_type": "code",
   "execution_count": 34,
   "metadata": {
    "id": "PppMHcGYaaol"
   },
   "outputs": [
    {
     "data": {
      "text/html": [
       "83237"
      ],
      "text/latex": [
       "83237"
      ],
      "text/markdown": [
       "83237"
      ],
      "text/plain": [
       "[1] 83237"
      ]
     },
     "metadata": {},
     "output_type": "display_data"
    },
    {
     "data": {
      "text/html": [
       "154"
      ],
      "text/latex": [
       "154"
      ],
      "text/markdown": [
       "154"
      ],
      "text/plain": [
       "[1] 154"
      ]
     },
     "metadata": {},
     "output_type": "display_data"
    }
   ],
   "source": [
    "# dejo los datos en el formato que necesita LightGBM\n",
    "\n",
    "dtrain <- lgb.Dataset(\n",
    "  data= data.matrix(dataset_train[training == 1L, campos_buenos, with= FALSE]),\n",
    "  label= dataset_train[training == 1L, clase01],\n",
    "  free_raw_data= FALSE\n",
    ")\n",
    "\n",
    "nrow(dtrain)\n",
    "ncol(dtrain)"
   ]
  },
  {
   "cell_type": "markdown",
   "metadata": {
    "id": "Ta-EkOu3cphF"
   },
   "source": [
    "2.2.5 Configuracion Bayesian Optimization"
   ]
  },
  {
   "cell_type": "code",
   "execution_count": 35,
   "metadata": {
    "id": "cjgfurjdfiXb"
   },
   "outputs": [],
   "source": [
    "# En el argumento x llegan los parmaetros de la bayesiana\n",
    "#  devuelve la AUC en cross validation del modelo entrenado\n",
    "\n",
    "EstimarGanancia_AUC_lightgbm <- function(x) {\n",
    "\n",
    "  # x pisa (o agrega) a param_fijos\n",
    "  param_completo <- modifyList(PARAM$lgbm$param_fijos, x)\n",
    "\n",
    "  # entreno LightGBM\n",
    "  modelocv <- lgb.cv(\n",
    "    data= dtrain,\n",
    "    nfold= PARAM$hyperparametertuning$xval_folds,\n",
    "    stratified= TRUE,\n",
    "    param= param_completo\n",
    "  )\n",
    "\n",
    "  # obtengo la ganancia\n",
    "  AUC <- modelocv$best_score\n",
    "\n",
    "  # hago espacio en la memoria\n",
    "  rm(modelocv)\n",
    "  gc(full= TRUE, verbose= FALSE)\n",
    "\n",
    "  message(format(Sys.time(), \"%a %b %d %X %Y\"), \" AUC \", AUC)\n",
    "\n",
    "  return(AUC)\n",
    "}"
   ]
  },
  {
   "cell_type": "code",
   "execution_count": 36,
   "metadata": {
    "id": "WLi_o1hocvN-"
   },
   "outputs": [],
   "source": [
    "# Aqui comienza la configuracion de la Bayesian Optimization\n",
    "\n",
    "# en este archivo quedan la evolucion binaria de la BO\n",
    "kbayesiana <- \"bayesiana.RDATA\"\n",
    "\n",
    "funcion_optimizar <- EstimarGanancia_AUC_lightgbm # la funcion que voy a maximizar\n",
    "\n",
    "configureMlr(show.learner.output= FALSE)\n",
    "\n",
    "# configuro la busqueda bayesiana,  los hiperparametros que se van a optimizar\n",
    "# por favor, no desesperarse por lo complejo\n",
    "\n",
    "obj.fun <- makeSingleObjectiveFunction(\n",
    "  fn= funcion_optimizar, # la funcion que voy a maximizar\n",
    "  minimize= FALSE, # estoy Maximizando la ganancia\n",
    "  noisy= TRUE,\n",
    "  par.set= PARAM$hypeparametertuning$hs, # definido al comienzo del programa\n",
    "  has.simple.signature= FALSE # paso los parametros en una lista\n",
    ")\n",
    "\n",
    "# cada 600 segundos guardo el resultado intermedio\n",
    "ctrl <- makeMBOControl(\n",
    "  save.on.disk.at.time= 600, # se graba cada 600 segundos\n",
    "  save.file.path= kbayesiana\n",
    ") # se graba cada 600 segundos\n",
    "\n",
    "# indico la cantidad de iteraciones que va a tener la Bayesian Optimization\n",
    "ctrl <- setMBOControlTermination(\n",
    "  ctrl,\n",
    "  iters= PARAM$hyperparametertuning$iteraciones\n",
    ") # cantidad de iteraciones\n",
    "\n",
    "# defino el método estandar para la creacion de los puntos iniciales,\n",
    "# los \"No Inteligentes\"\n",
    "ctrl <- setMBOControlInfill(ctrl, crit= makeMBOInfillCritEI())\n",
    "\n",
    "# establezco la funcion que busca el maximo\n",
    "surr.km <- makeLearner(\n",
    "  \"regr.km\",\n",
    "  predict.type= \"se\",\n",
    "  covtype= \"matern3_2\",\n",
    "  control= list(trace= TRUE)\n",
    ")\n"
   ]
  },
  {
   "cell_type": "markdown",
   "metadata": {
    "id": "_uUeVo5pc4zc"
   },
   "source": [
    "2.2.6 Corrida Bayesian Optimization"
   ]
  },
  {
   "cell_type": "code",
   "execution_count": 37,
   "metadata": {
    "id": "RcABNaKGciaz"
   },
   "outputs": [
    {
     "name": "stderr",
     "output_type": "stream",
     "text": [
      "Computing y column(s) for design. Not provided.\n",
      "\n",
      "Tue Jul 29 12:10:06 2025 AUC 0.930501747937896\n",
      "\n",
      "Tue Jul 29 12:11:21 2025 AUC 0.931109538300511\n",
      "\n",
      "Tue Jul 29 12:12:37 2025 AUC 0.930708953911428\n",
      "\n",
      "Tue Jul 29 12:13:53 2025 AUC 0.931467123540204\n",
      "\n",
      "Tue Jul 29 12:15:09 2025 AUC 0.930744312076496\n",
      "\n",
      "Tue Jul 29 12:16:25 2025 AUC 0.930708873490467\n",
      "\n",
      "Tue Jul 29 12:17:42 2025 AUC 0.930557197720357\n",
      "\n",
      "Tue Jul 29 12:18:58 2025 AUC 0.930225113626007\n",
      "\n",
      "Tue Jul 29 12:20:14 2025 AUC 0.931247844135937\n",
      "\n",
      "Tue Jul 29 12:21:30 2025 AUC 0.931557816133209\n",
      "\n",
      "Tue Jul 29 12:22:47 2025 AUC 0.931085213453492\n",
      "\n",
      "Tue Jul 29 12:24:05 2025 AUC 0.931763539748031\n",
      "\n",
      "Tue Jul 29 12:25:23 2025 AUC 0.930221683289867\n",
      "\n",
      "Tue Jul 29 12:26:41 2025 AUC 0.931366580418375\n",
      "\n",
      "Tue Jul 29 12:27:58 2025 AUC 0.931207573976084\n",
      "\n",
      "Tue Jul 29 12:29:16 2025 AUC 0.930674561776359\n",
      "\n",
      "Tue Jul 29 12:30:34 2025 AUC 0.930645055039809\n",
      "\n",
      "Tue Jul 29 12:31:52 2025 AUC 0.930697865020367\n",
      "\n",
      "Tue Jul 29 12:33:11 2025 AUC 0.931005365485218\n",
      "\n",
      "Tue Jul 29 12:34:30 2025 AUC 0.930765598375533\n",
      "\n",
      "[mbo] 0: lambda_l2=0.303; bagging_fraction=0.771; pos_bagging_fraction=0.219; neg_bagging_fraction=0.103; drop_rate=0.358 : y = 0.931 : 78.4 secs : initdesign\n",
      "\n",
      "[mbo] 0: lambda_l2=0.224; bagging_fraction=0.777; pos_bagging_fraction=0.17; neg_bagging_fraction=0.24; drop_rate=0.242 : y = 0.931 : 75.8 secs : initdesign\n",
      "\n",
      "[mbo] 0: lambda_l2=0.331; bagging_fraction=0.702; pos_bagging_fraction=0.19; neg_bagging_fraction=0.161; drop_rate=0.204 : y = 0.931 : 75.9 secs : initdesign\n",
      "\n",
      "[mbo] 0: lambda_l2=0.267; bagging_fraction=0.877; pos_bagging_fraction=0.301; neg_bagging_fraction=0.369; drop_rate=0.329 : y = 0.931 : 76.0 secs : initdesign\n",
      "\n",
      "[mbo] 0: lambda_l2=0.38; bagging_fraction=0.804; pos_bagging_fraction=0.134; neg_bagging_fraction=0.447; drop_rate=0.266 : y = 0.931 : 76.0 secs : initdesign\n",
      "\n",
      "[mbo] 0: lambda_l2=0.0586; bagging_fraction=0.931; pos_bagging_fraction=0.292; neg_bagging_fraction=0.3; drop_rate=0.396 : y = 0.931 : 76.1 secs : initdesign\n",
      "\n",
      "[mbo] 0: lambda_l2=0.43; bagging_fraction=0.853; pos_bagging_fraction=0.239; neg_bagging_fraction=0.192; drop_rate=0.133 : y = 0.931 : 76.2 secs : initdesign\n",
      "\n",
      "[mbo] 0: lambda_l2=0.00514; bagging_fraction=0.632; pos_bagging_fraction=0.357; neg_bagging_fraction=0.332; drop_rate=0.058 : y = 0.93 : 76.2 secs : initdesign\n",
      "\n",
      "[mbo] 0: lambda_l2=0.0818; bagging_fraction=0.821; pos_bagging_fraction=0.483; neg_bagging_fraction=0.0892; drop_rate=0.417 : y = 0.931 : 76.4 secs : initdesign\n",
      "\n",
      "[mbo] 0: lambda_l2=0.285; bagging_fraction=0.725; pos_bagging_fraction=0.0655; neg_bagging_fraction=0.416; drop_rate=0.0774 : y = 0.932 : 76.2 secs : initdesign\n",
      "\n",
      "[mbo] 0: lambda_l2=0.152; bagging_fraction=0.686; pos_bagging_fraction=0.347; neg_bagging_fraction=0.263; drop_rate=0.483 : y = 0.931 : 77.0 secs : initdesign\n",
      "\n",
      "[mbo] 0: lambda_l2=0.137; bagging_fraction=0.884; pos_bagging_fraction=0.397; neg_bagging_fraction=0.201; drop_rate=0.032 : y = 0.932 : 78.2 secs : initdesign\n",
      "\n",
      "[mbo] 0: lambda_l2=0.482; bagging_fraction=0.653; pos_bagging_fraction=0.408; neg_bagging_fraction=0.303; drop_rate=0.458 : y = 0.93 : 77.7 secs : initdesign\n",
      "\n",
      "[mbo] 0: lambda_l2=0.19; bagging_fraction=0.746; pos_bagging_fraction=0.0986; neg_bagging_fraction=0.148; drop_rate=0.316 : y = 0.931 : 77.7 secs : initdesign\n",
      "\n",
      "[mbo] 0: lambda_l2=0.228; bagging_fraction=0.898; pos_bagging_fraction=0.0469; neg_bagging_fraction=0.392; drop_rate=0.171 : y = 0.931 : 77.6 secs : initdesign\n",
      "\n",
      "[mbo] 0: lambda_l2=0.352; bagging_fraction=0.837; pos_bagging_fraction=0.429; neg_bagging_fraction=0.481; drop_rate=0.188 : y = 0.931 : 78.0 secs : initdesign\n",
      "\n",
      "[mbo] 0: lambda_l2=0.472; bagging_fraction=0.718; pos_bagging_fraction=0.0145; neg_bagging_fraction=0.0236; drop_rate=0.11 : y = 0.931 : 77.8 secs : initdesign\n",
      "\n",
      "[mbo] 0: lambda_l2=0.0264; bagging_fraction=0.603; pos_bagging_fraction=0.123; neg_bagging_fraction=0.473; drop_rate=0.278 : y = 0.931 : 77.7 secs : initdesign\n",
      "\n",
      "[mbo] 0: lambda_l2=0.416; bagging_fraction=0.941; pos_bagging_fraction=0.257; neg_bagging_fraction=0.0744; drop_rate=0.427 : y = 0.931 : 79.4 secs : initdesign\n",
      "\n",
      "[mbo] 0: lambda_l2=0.102; bagging_fraction=0.65; pos_bagging_fraction=0.462; neg_bagging_fraction=0.0363; drop_rate=0.00597 : y = 0.931 : 78.5 secs : initdesign\n",
      "\n",
      "Saved the current state after iteration 1 in the file bayesiana.RDATA.\n",
      "\n",
      "Tue Jul 29 12:35:52 2025 AUC 0.930334338001967\n",
      "\n",
      "[mbo] 1: lambda_l2=0.14; bagging_fraction=0.919; pos_bagging_fraction=0.354; neg_bagging_fraction=0.171; drop_rate=0.114 : y = 0.93 : 78.3 secs : infill_ei\n",
      "\n",
      "Tue Jul 29 12:37:12 2025 AUC 0.930135197970846\n",
      "\n",
      "[mbo] 2: lambda_l2=0.373; bagging_fraction=0.847; pos_bagging_fraction=0.0949; neg_bagging_fraction=0.194; drop_rate=0.462 : y = 0.93 : 79.8 secs : infill_ei\n",
      "\n",
      "Tue Jul 29 12:38:32 2025 AUC 0.931459028034809\n",
      "\n",
      "[mbo] 3: lambda_l2=0.23; bagging_fraction=0.857; pos_bagging_fraction=0.0668; neg_bagging_fraction=0.0364; drop_rate=0.159 : y = 0.931 : 79.3 secs : infill_ei\n",
      "\n",
      "Tue Jul 29 12:39:52 2025 AUC 0.930224582677077\n",
      "\n",
      "[mbo] 4: lambda_l2=0.418; bagging_fraction=0.633; pos_bagging_fraction=0.0782; neg_bagging_fraction=0.222; drop_rate=0.42 : y = 0.93 : 79.0 secs : infill_ei\n",
      "\n",
      "Tue Jul 29 12:41:11 2025 AUC 0.930516131713377\n",
      "\n",
      "[mbo] 5: lambda_l2=0.198; bagging_fraction=0.883; pos_bagging_fraction=0.229; neg_bagging_fraction=0.262; drop_rate=0.173 : y = 0.931 : 78.7 secs : infill_ei\n",
      "\n",
      "Tue Jul 29 12:42:30 2025 AUC 0.930531501933043\n",
      "\n",
      "[mbo] 6: lambda_l2=0.24; bagging_fraction=0.838; pos_bagging_fraction=0.0763; neg_bagging_fraction=0.422; drop_rate=0.244 : y = 0.931 : 79.0 secs : infill_ei\n",
      "\n",
      "Tue Jul 29 12:43:50 2025 AUC 0.930744448808562\n",
      "\n",
      "[mbo] 7: lambda_l2=0.0431; bagging_fraction=0.886; pos_bagging_fraction=0.277; neg_bagging_fraction=0.199; drop_rate=0.173 : y = 0.931 : 79.3 secs : infill_ei\n",
      "\n",
      "Tue Jul 29 12:45:11 2025 AUC 0.931113678420883\n",
      "\n",
      "[mbo] 8: lambda_l2=0.385; bagging_fraction=0.722; pos_bagging_fraction=0.348; neg_bagging_fraction=0.429; drop_rate=0.264 : y = 0.931 : 79.8 secs : infill_ei\n",
      "\n",
      "Saved the current state after iteration 9 in the file bayesiana.RDATA.\n",
      "\n",
      "Tue Jul 29 12:46:34 2025 AUC 0.930154802777371\n",
      "\n",
      "[mbo] 9: lambda_l2=0.484; bagging_fraction=0.801; pos_bagging_fraction=0.257; neg_bagging_fraction=0.342; drop_rate=0.203 : y = 0.93 : 79.5 secs : infill_ei\n",
      "\n",
      "Tue Jul 29 12:47:53 2025 AUC 0.930615680343471\n",
      "\n",
      "[mbo] 10: lambda_l2=0.179; bagging_fraction=0.608; pos_bagging_fraction=0.444; neg_bagging_fraction=0.0951; drop_rate=0.322 : y = 0.931 : 78.3 secs : infill_ei\n",
      "\n",
      "Tue Jul 29 12:49:12 2025 AUC 0.93018234474292\n",
      "\n",
      "[mbo] 11: lambda_l2=0.114; bagging_fraction=0.837; pos_bagging_fraction=0.203; neg_bagging_fraction=0.126; drop_rate=0.237 : y = 0.93 : 78.5 secs : infill_ei\n",
      "\n",
      "Tue Jul 29 12:50:31 2025 AUC 0.930804574086214\n",
      "\n",
      "[mbo] 12: lambda_l2=0.0119; bagging_fraction=0.603; pos_bagging_fraction=0.0923; neg_bagging_fraction=0.381; drop_rate=0.402 : y = 0.931 : 78.2 secs : infill_ei\n",
      "\n",
      "Tue Jul 29 12:51:50 2025 AUC 0.930380695528815\n",
      "\n",
      "[mbo] 13: lambda_l2=0.0291; bagging_fraction=0.662; pos_bagging_fraction=0.149; neg_bagging_fraction=0.00159; drop_rate=0.237 : y = 0.93 : 78.1 secs : infill_ei\n",
      "\n",
      "Tue Jul 29 12:53:08 2025 AUC 0.93061041037396\n",
      "\n",
      "[mbo] 14: lambda_l2=0.131; bagging_fraction=0.603; pos_bagging_fraction=0.134; neg_bagging_fraction=0.263; drop_rate=0.0195 : y = 0.931 : 78.2 secs : infill_ei\n",
      "\n",
      "Tue Jul 29 12:54:28 2025 AUC 0.930573068821802\n",
      "\n",
      "[mbo] 15: lambda_l2=0.134; bagging_fraction=0.929; pos_bagging_fraction=0.0606; neg_bagging_fraction=0.458; drop_rate=0.0836 : y = 0.931 : 79.3 secs : infill_ei\n",
      "\n",
      "Tue Jul 29 12:55:47 2025 AUC 0.930573513207155\n",
      "\n",
      "[mbo] 16: lambda_l2=0.166; bagging_fraction=0.884; pos_bagging_fraction=0.437; neg_bagging_fraction=0.274; drop_rate=0.201 : y = 0.931 : 78.1 secs : infill_ei\n",
      "\n",
      "Saved the current state after iteration 17 in the file bayesiana.RDATA.\n",
      "\n",
      "Tue Jul 29 12:57:09 2025 AUC 0.931216532894704\n",
      "\n",
      "[mbo] 17: lambda_l2=0.427; bagging_fraction=0.782; pos_bagging_fraction=0.428; neg_bagging_fraction=0.188; drop_rate=0.309 : y = 0.931 : 78.1 secs : infill_ei\n",
      "\n",
      "Tue Jul 29 12:58:29 2025 AUC 0.930183345830674\n",
      "\n",
      "[mbo] 18: lambda_l2=0.308; bagging_fraction=0.615; pos_bagging_fraction=0.189; neg_bagging_fraction=0.0138; drop_rate=0.336 : y = 0.93 : 78.8 secs : infill_ei\n",
      "\n",
      "Tue Jul 29 12:59:46 2025 AUC 0.93005663197504\n",
      "\n",
      "[mbo] 19: lambda_l2=0.0685; bagging_fraction=0.76; pos_bagging_fraction=0.263; neg_bagging_fraction=0.3; drop_rate=0.00974 : y = 0.93 : 77.2 secs : infill_ei\n",
      "\n",
      "Tue Jul 29 13:01:07 2025 AUC 0.930797876794024\n",
      "\n",
      "[mbo] 20: lambda_l2=0.0421; bagging_fraction=0.776; pos_bagging_fraction=0.459; neg_bagging_fraction=0.224; drop_rate=0.0322 : y = 0.931 : 79.6 secs : infill_ei\n",
      "\n",
      "Tue Jul 29 13:02:26 2025 AUC 0.931425128900267\n",
      "\n",
      "[mbo] 21: lambda_l2=0.489; bagging_fraction=0.811; pos_bagging_fraction=0.316; neg_bagging_fraction=0.336; drop_rate=0.104 : y = 0.931 : 78.8 secs : infill_ei\n",
      "\n",
      "Tue Jul 29 13:03:45 2025 AUC 0.930090621935383\n",
      "\n",
      "[mbo] 22: lambda_l2=0.304; bagging_fraction=0.728; pos_bagging_fraction=0.225; neg_bagging_fraction=0.314; drop_rate=0.152 : y = 0.93 : 78.4 secs : infill_ei\n",
      "\n",
      "Tue Jul 29 13:05:06 2025 AUC 0.931397464628106\n",
      "\n",
      "[mbo] 23: lambda_l2=0.147; bagging_fraction=0.751; pos_bagging_fraction=0.259; neg_bagging_fraction=0.168; drop_rate=0.376 : y = 0.931 : 79.9 secs : infill_ei\n",
      "\n",
      "Tue Jul 29 13:06:27 2025 AUC 0.930014006968326\n",
      "\n",
      "[mbo] 24: lambda_l2=0.425; bagging_fraction=0.864; pos_bagging_fraction=0.139; neg_bagging_fraction=0.158; drop_rate=0.195 : y = 0.93 : 80.4 secs : infill_ei\n",
      "\n",
      "Saved the current state after iteration 25 in the file bayesiana.RDATA.\n",
      "\n",
      "Tue Jul 29 13:07:49 2025 AUC 0.930280700762102\n",
      "\n",
      "[mbo] 25: lambda_l2=0.332; bagging_fraction=0.914; pos_bagging_fraction=0.396; neg_bagging_fraction=0.225; drop_rate=0.02 : y = 0.93 : 78.6 secs : infill_ei\n",
      "\n",
      "Tue Jul 29 13:09:09 2025 AUC 0.931438630813376\n",
      "\n",
      "[mbo] 26: lambda_l2=0.044; bagging_fraction=0.617; pos_bagging_fraction=0.044; neg_bagging_fraction=0.0333; drop_rate=0.0654 : y = 0.931 : 78.5 secs : infill_ei\n",
      "\n",
      "Tue Jul 29 13:10:28 2025 AUC 0.931176112236073\n",
      "\n",
      "[mbo] 27: lambda_l2=0.062; bagging_fraction=0.72; pos_bagging_fraction=0.398; neg_bagging_fraction=0.201; drop_rate=0.114 : y = 0.931 : 78.3 secs : infill_ei\n",
      "\n",
      "Tue Jul 29 13:11:46 2025 AUC 0.930480418320315\n",
      "\n",
      "[mbo] 28: lambda_l2=0.308; bagging_fraction=0.935; pos_bagging_fraction=0.0518; neg_bagging_fraction=0.236; drop_rate=0.116 : y = 0.93 : 78.3 secs : infill_ei\n",
      "\n",
      "Tue Jul 29 13:13:06 2025 AUC 0.930924959696975\n",
      "\n",
      "[mbo] 29: lambda_l2=0.27; bagging_fraction=0.913; pos_bagging_fraction=0.0461; neg_bagging_fraction=0.199; drop_rate=0.406 : y = 0.931 : 78.6 secs : infill_ei\n",
      "\n",
      "Tue Jul 29 13:14:25 2025 AUC 0.930405235414007\n",
      "\n",
      "[mbo] 30: lambda_l2=0.265; bagging_fraction=0.875; pos_bagging_fraction=0.396; neg_bagging_fraction=0.0937; drop_rate=0.171 : y = 0.93 : 78.9 secs : infill_ei\n",
      "\n",
      "Tue Jul 29 13:15:44 2025 AUC 0.930487657274325\n",
      "\n",
      "[mbo] 31: lambda_l2=0.5; bagging_fraction=0.754; pos_bagging_fraction=0.388; neg_bagging_fraction=0.121; drop_rate=0.315 : y = 0.93 : 77.8 secs : infill_ei\n",
      "\n",
      "Tue Jul 29 13:17:05 2025 AUC 0.93088100135184\n",
      "\n",
      "[mbo] 32: lambda_l2=0.0775; bagging_fraction=0.726; pos_bagging_fraction=0.155; neg_bagging_fraction=0.483; drop_rate=0.0194 : y = 0.931 : 80.8 secs : infill_ei\n",
      "\n",
      "Saved the current state after iteration 33 in the file bayesiana.RDATA.\n",
      "\n",
      "Tue Jul 29 13:18:28 2025 AUC 0.930669500597384\n",
      "\n",
      "[mbo] 33: lambda_l2=0.385; bagging_fraction=0.801; pos_bagging_fraction=0.174; neg_bagging_fraction=0.34; drop_rate=0.312 : y = 0.931 : 78.6 secs : infill_ei\n",
      "\n",
      "Tue Jul 29 13:19:47 2025 AUC 0.931171447855364\n",
      "\n",
      "[mbo] 34: lambda_l2=0.0121; bagging_fraction=0.72; pos_bagging_fraction=0.143; neg_bagging_fraction=0.0565; drop_rate=0.314 : y = 0.931 : 78.3 secs : infill_ei\n",
      "\n",
      "Tue Jul 29 13:21:06 2025 AUC 0.930088746176015\n",
      "\n",
      "[mbo] 35: lambda_l2=0.147; bagging_fraction=0.63; pos_bagging_fraction=0.0463; neg_bagging_fraction=0.361; drop_rate=0.231 : y = 0.93 : 78.2 secs : infill_ei\n",
      "\n",
      "Tue Jul 29 13:22:25 2025 AUC 0.930502531951359\n",
      "\n",
      "[mbo] 36: lambda_l2=0.401; bagging_fraction=0.757; pos_bagging_fraction=0.422; neg_bagging_fraction=0.352; drop_rate=0.123 : y = 0.931 : 78.4 secs : infill_ei\n",
      "\n",
      "Tue Jul 29 13:23:44 2025 AUC 0.932223709546799\n",
      "\n",
      "[mbo] 37: lambda_l2=0.186; bagging_fraction=0.747; pos_bagging_fraction=0.124; neg_bagging_fraction=0.366; drop_rate=0.49 : y = 0.932 : 78.9 secs : infill_ei\n",
      "\n",
      "Tue Jul 29 13:25:03 2025 AUC 0.93046275134612\n",
      "\n",
      "[mbo] 38: lambda_l2=0.239; bagging_fraction=0.933; pos_bagging_fraction=0.474; neg_bagging_fraction=0.2; drop_rate=0.287 : y = 0.93 : 78.0 secs : infill_ei\n",
      "\n",
      "Tue Jul 29 13:26:22 2025 AUC 0.929371921872355\n",
      "\n",
      "[mbo] 39: lambda_l2=0.0667; bagging_fraction=0.747; pos_bagging_fraction=0.127; neg_bagging_fraction=0.273; drop_rate=0.413 : y = 0.929 : 78.4 secs : infill_ei\n",
      "\n",
      "Tue Jul 29 13:27:42 2025 AUC 0.931058755575598\n",
      "\n",
      "[mbo] 40: lambda_l2=0.23; bagging_fraction=0.78; pos_bagging_fraction=0.412; neg_bagging_fraction=0.00789; drop_rate=0.202 : y = 0.931 : 79.5 secs : infill_ei\n",
      "\n",
      "Saved the current state after iteration 41 in the file bayesiana.RDATA.\n",
      "\n",
      "Tue Jul 29 13:29:05 2025 AUC 0.930393501886915\n",
      "\n",
      "[mbo] 41: lambda_l2=0.38; bagging_fraction=0.71; pos_bagging_fraction=0.482; neg_bagging_fraction=0.418; drop_rate=0.219 : y = 0.93 : 79.0 secs : infill_ei\n",
      "\n",
      "Tue Jul 29 13:30:25 2025 AUC 0.93083519151629\n",
      "\n",
      "[mbo] 42: lambda_l2=0.309; bagging_fraction=0.71; pos_bagging_fraction=0.125; neg_bagging_fraction=0.366; drop_rate=0.101 : y = 0.931 : 79.1 secs : infill_ei\n",
      "\n",
      "Tue Jul 29 13:31:45 2025 AUC 0.93118929151353\n",
      "\n",
      "[mbo] 43: lambda_l2=0.303; bagging_fraction=0.913; pos_bagging_fraction=0.296; neg_bagging_fraction=0.274; drop_rate=0.136 : y = 0.931 : 79.2 secs : infill_ei\n",
      "\n",
      "Tue Jul 29 13:33:05 2025 AUC 0.929965051502561\n",
      "\n",
      "[mbo] 44: lambda_l2=0.136; bagging_fraction=0.702; pos_bagging_fraction=0.00527; neg_bagging_fraction=0.28; drop_rate=0.173 : y = 0.93 : 79.0 secs : infill_ei\n",
      "\n",
      "Tue Jul 29 13:34:26 2025 AUC 0.929724597136274\n",
      "\n",
      "[mbo] 45: lambda_l2=0.231; bagging_fraction=0.605; pos_bagging_fraction=0.443; neg_bagging_fraction=0.499; drop_rate=0.148 : y = 0.93 : 80.5 secs : infill_ei\n",
      "\n",
      "Tue Jul 29 13:35:47 2025 AUC 0.931577709359703\n",
      "\n",
      "[mbo] 46: lambda_l2=0.186; bagging_fraction=0.745; pos_bagging_fraction=0.124; neg_bagging_fraction=0.171; drop_rate=0.366 : y = 0.932 : 79.6 secs : infill_ei\n",
      "\n",
      "Tue Jul 29 13:37:06 2025 AUC 0.930323713145303\n",
      "\n",
      "[mbo] 47: lambda_l2=0.494; bagging_fraction=0.919; pos_bagging_fraction=0.0581; neg_bagging_fraction=0.0636; drop_rate=0.000269 : y = 0.93 : 78.2 secs : infill_ei\n",
      "\n",
      "Tue Jul 29 13:38:25 2025 AUC 0.930331840244555\n",
      "\n",
      "[mbo] 48: lambda_l2=0.282; bagging_fraction=0.674; pos_bagging_fraction=0.486; neg_bagging_fraction=0.0636; drop_rate=0.279 : y = 0.93 : 78.9 secs : infill_ei\n",
      "\n",
      "Saved the current state after iteration 49 in the file bayesiana.RDATA.\n",
      "\n",
      "Tue Jul 29 13:39:48 2025 AUC 0.931062888192478\n",
      "\n",
      "[mbo] 49: lambda_l2=0.406; bagging_fraction=0.715; pos_bagging_fraction=0.223; neg_bagging_fraction=0.151; drop_rate=0.442 : y = 0.931 : 78.7 secs : infill_ei\n",
      "\n",
      "Tue Jul 29 13:41:07 2025 AUC 0.931111510905125\n",
      "\n",
      "[mbo] 50: lambda_l2=0.279; bagging_fraction=0.948; pos_bagging_fraction=0.346; neg_bagging_fraction=0.28; drop_rate=0.251 : y = 0.931 : 78.7 secs : infill_ei\n",
      "\n",
      "Tue Jul 29 13:42:27 2025 AUC 0.930728050172803\n",
      "\n",
      "[mbo] 51: lambda_l2=0.275; bagging_fraction=0.745; pos_bagging_fraction=0.121; neg_bagging_fraction=0.372; drop_rate=0.496 : y = 0.931 : 78.7 secs : infill_ei\n",
      "\n",
      "Tue Jul 29 13:43:47 2025 AUC 0.930657175386303\n",
      "\n",
      "[mbo] 52: lambda_l2=0.0761; bagging_fraction=0.661; pos_bagging_fraction=0.277; neg_bagging_fraction=0.0384; drop_rate=0.218 : y = 0.931 : 79.2 secs : infill_ei\n",
      "\n",
      "Tue Jul 29 13:45:06 2025 AUC 0.930402973188574\n",
      "\n",
      "[mbo] 53: lambda_l2=0.19; bagging_fraction=0.679; pos_bagging_fraction=0.125; neg_bagging_fraction=0.461; drop_rate=0.368 : y = 0.93 : 78.8 secs : infill_ei\n",
      "\n",
      "Tue Jul 29 13:46:26 2025 AUC 0.931256508847593\n",
      "\n",
      "[mbo] 54: lambda_l2=0.397; bagging_fraction=0.859; pos_bagging_fraction=0.153; neg_bagging_fraction=0.427; drop_rate=0.17 : y = 0.931 : 79.4 secs : infill_ei\n",
      "\n",
      "Tue Jul 29 13:47:46 2025 AUC 0.930607081034833\n",
      "\n",
      "[mbo] 55: lambda_l2=0.13; bagging_fraction=0.811; pos_bagging_fraction=0.118; neg_bagging_fraction=0.444; drop_rate=0.0899 : y = 0.931 : 78.8 secs : infill_ei\n",
      "\n",
      "Tue Jul 29 13:49:06 2025 AUC 0.930326895605133\n",
      "\n",
      "[mbo] 56: lambda_l2=0.0349; bagging_fraction=0.81; pos_bagging_fraction=0.409; neg_bagging_fraction=0.252; drop_rate=0.167 : y = 0.93 : 79.2 secs : infill_ei\n",
      "\n",
      "Saved the current state after iteration 57 in the file bayesiana.RDATA.\n",
      "\n",
      "Tue Jul 29 13:50:28 2025 AUC 0.930164309514998\n",
      "\n",
      "[mbo] 57: lambda_l2=0.311; bagging_fraction=0.911; pos_bagging_fraction=0.341; neg_bagging_fraction=0.448; drop_rate=0.317 : y = 0.93 : 78.7 secs : infill_ei\n",
      "\n",
      "Tue Jul 29 13:51:48 2025 AUC 0.930862815850317\n",
      "\n",
      "[mbo] 58: lambda_l2=0.368; bagging_fraction=0.8; pos_bagging_fraction=0.187; neg_bagging_fraction=0.152; drop_rate=0.309 : y = 0.931 : 78.7 secs : infill_ei\n",
      "\n",
      "Tue Jul 29 13:53:07 2025 AUC 0.930376520932509\n",
      "\n",
      "[mbo] 59: lambda_l2=0.153; bagging_fraction=0.679; pos_bagging_fraction=0.418; neg_bagging_fraction=0.466; drop_rate=0.195 : y = 0.93 : 78.2 secs : infill_ei\n",
      "\n",
      "Tue Jul 29 13:54:32 2025 AUC 0.930103443747643\n",
      "\n",
      "[mbo] 60: lambda_l2=0.319; bagging_fraction=0.742; pos_bagging_fraction=0.181; neg_bagging_fraction=0.257; drop_rate=0.053 : y = 0.93 : 84.1 secs : infill_ei\n",
      "\n",
      "Tue Jul 29 13:56:02 2025 AUC 0.931287000982902\n",
      "\n",
      "[mbo] 61: lambda_l2=0.107; bagging_fraction=0.68; pos_bagging_fraction=0.447; neg_bagging_fraction=0.087; drop_rate=0.204 : y = 0.931 : 89.6 secs : infill_ei\n",
      "\n",
      "Tue Jul 29 13:57:25 2025 AUC 0.930723736128779\n",
      "\n",
      "[mbo] 62: lambda_l2=0.258; bagging_fraction=0.74; pos_bagging_fraction=0.126; neg_bagging_fraction=0.125; drop_rate=0.171 : y = 0.931 : 82.3 secs : infill_ei\n",
      "\n",
      "Tue Jul 29 13:58:46 2025 AUC 0.930750119841067\n",
      "\n",
      "[mbo] 63: lambda_l2=0.183; bagging_fraction=0.894; pos_bagging_fraction=0.32; neg_bagging_fraction=0.23; drop_rate=0.119 : y = 0.931 : 79.5 secs : infill_ei\n",
      "\n",
      "Tue Jul 29 14:00:06 2025 AUC 0.931068463900399\n",
      "\n",
      "[mbo] 64: lambda_l2=0.00507; bagging_fraction=0.769; pos_bagging_fraction=0.34; neg_bagging_fraction=0.372; drop_rate=0.311 : y = 0.931 : 79.2 secs : infill_ei\n",
      "\n",
      "Saved the current state after iteration 65 in the file bayesiana.RDATA.\n",
      "\n",
      "Tue Jul 29 14:01:29 2025 AUC 0.930430322719159\n",
      "\n",
      "[mbo] 65: lambda_l2=0.354; bagging_fraction=0.69; pos_bagging_fraction=0.371; neg_bagging_fraction=0.261; drop_rate=0.126 : y = 0.93 : 79.6 secs : infill_ei\n",
      "\n",
      "Tue Jul 29 14:02:49 2025 AUC 0.930695034206791\n",
      "\n",
      "[mbo] 66: lambda_l2=0.131; bagging_fraction=0.892; pos_bagging_fraction=0.207; neg_bagging_fraction=0.118; drop_rate=0.291 : y = 0.931 : 79.3 secs : infill_ei\n",
      "\n",
      "Tue Jul 29 14:04:11 2025 AUC 0.930892783375227\n",
      "\n",
      "[mbo] 67: lambda_l2=0.413; bagging_fraction=0.878; pos_bagging_fraction=0.165; neg_bagging_fraction=0.239; drop_rate=0.476 : y = 0.931 : 80.7 secs : infill_ei\n",
      "\n",
      "Tue Jul 29 14:05:32 2025 AUC 0.930082654904428\n",
      "\n",
      "[mbo] 68: lambda_l2=0.382; bagging_fraction=0.687; pos_bagging_fraction=0.157; neg_bagging_fraction=0.183; drop_rate=0.132 : y = 0.93 : 80.0 secs : infill_ei\n",
      "\n",
      "Tue Jul 29 14:06:51 2025 AUC 0.92999979268133\n",
      "\n",
      "[mbo] 69: lambda_l2=0.172; bagging_fraction=0.661; pos_bagging_fraction=0.292; neg_bagging_fraction=0.399; drop_rate=0.488 : y = 0.93 : 78.5 secs : infill_ei\n",
      "\n",
      "Tue Jul 29 14:08:13 2025 AUC 0.931218809776939\n",
      "\n",
      "[mbo] 70: lambda_l2=0.367; bagging_fraction=0.621; pos_bagging_fraction=0.202; neg_bagging_fraction=0.0254; drop_rate=0.429 : y = 0.931 : 80.9 secs : infill_ei\n",
      "\n",
      "Tue Jul 29 14:09:34 2025 AUC 0.931222440125271\n",
      "\n",
      "[mbo] 71: lambda_l2=0.192; bagging_fraction=0.738; pos_bagging_fraction=0.065; neg_bagging_fraction=0.367; drop_rate=0.469 : y = 0.931 : 80.3 secs : infill_ei\n",
      "\n",
      "Tue Jul 29 14:10:55 2025 AUC 0.930665287035849\n",
      "\n",
      "[mbo] 72: lambda_l2=0.342; bagging_fraction=0.672; pos_bagging_fraction=0.363; neg_bagging_fraction=0.428; drop_rate=0.114 : y = 0.931 : 80.1 secs : infill_ei\n",
      "\n",
      "Saved the current state after iteration 73 in the file bayesiana.RDATA.\n",
      "\n",
      "Tue Jul 29 14:12:18 2025 AUC 0.930227774359466\n",
      "\n",
      "[mbo] 73: lambda_l2=0.134; bagging_fraction=0.616; pos_bagging_fraction=0.417; neg_bagging_fraction=0.342; drop_rate=0.447 : y = 0.93 : 79.1 secs : infill_ei\n",
      "\n",
      "Tue Jul 29 14:13:39 2025 AUC 0.930549874637017\n",
      "\n",
      "[mbo] 74: lambda_l2=0.199; bagging_fraction=0.688; pos_bagging_fraction=0.28; neg_bagging_fraction=0.314; drop_rate=0.0175 : y = 0.931 : 79.9 secs : infill_ei\n",
      "\n",
      "Tue Jul 29 14:14:59 2025 AUC 0.931199954554301\n",
      "\n",
      "[mbo] 75: lambda_l2=0.0846; bagging_fraction=0.851; pos_bagging_fraction=0.331; neg_bagging_fraction=0.102; drop_rate=0.409 : y = 0.931 : 79.1 secs : infill_ei\n",
      "\n",
      "Tue Jul 29 14:16:18 2025 AUC 0.929418075332263\n",
      "\n",
      "[mbo] 76: lambda_l2=0.0387; bagging_fraction=0.876; pos_bagging_fraction=0.161; neg_bagging_fraction=0.129; drop_rate=0.0905 : y = 0.929 : 78.2 secs : infill_ei\n",
      "\n",
      "Tue Jul 29 14:17:37 2025 AUC 0.930915998025191\n",
      "\n",
      "[mbo] 77: lambda_l2=0.0871; bagging_fraction=0.871; pos_bagging_fraction=0.459; neg_bagging_fraction=0.207; drop_rate=0.214 : y = 0.931 : 78.5 secs : infill_ei\n",
      "\n",
      "Tue Jul 29 14:18:56 2025 AUC 0.930579588897172\n",
      "\n",
      "[mbo] 78: lambda_l2=0.398; bagging_fraction=0.692; pos_bagging_fraction=0.428; neg_bagging_fraction=0.218; drop_rate=0.214 : y = 0.931 : 78.2 secs : infill_ei\n",
      "\n",
      "Tue Jul 29 14:20:16 2025 AUC 0.930900320297572\n",
      "\n",
      "[mbo] 79: lambda_l2=0.301; bagging_fraction=0.852; pos_bagging_fraction=0.178; neg_bagging_fraction=0.112; drop_rate=0.0292 : y = 0.931 : 78.8 secs : infill_ei\n",
      "\n",
      "Tue Jul 29 14:21:35 2025 AUC 0.931129122676363\n",
      "\n",
      "[mbo] 80: lambda_l2=0.476; bagging_fraction=0.731; pos_bagging_fraction=0.0251; neg_bagging_fraction=0.492; drop_rate=0.067 : y = 0.931 : 79.0 secs : infill_ei\n",
      "\n",
      "Saved the current state after iteration 81 in the file bayesiana.RDATA.\n",
      "\n",
      "Tue Jul 29 14:22:59 2025 AUC 0.930482184095856\n",
      "\n",
      "[mbo] 81: lambda_l2=0.464; bagging_fraction=0.895; pos_bagging_fraction=0.134; neg_bagging_fraction=0.0896; drop_rate=0.344 : y = 0.93 : 78.9 secs : infill_ei\n",
      "\n",
      "Tue Jul 29 14:24:18 2025 AUC 0.931200795673641\n",
      "\n",
      "[mbo] 82: lambda_l2=0.053; bagging_fraction=0.813; pos_bagging_fraction=0.299; neg_bagging_fraction=0.389; drop_rate=0.0459 : y = 0.931 : 79.1 secs : infill_ei\n",
      "\n",
      "Tue Jul 29 14:25:38 2025 AUC 0.930869732290312\n",
      "\n",
      "[mbo] 83: lambda_l2=0.151; bagging_fraction=0.738; pos_bagging_fraction=0.0329; neg_bagging_fraction=0.304; drop_rate=0.315 : y = 0.931 : 78.9 secs : infill_ei\n",
      "\n",
      "Tue Jul 29 14:26:55 2025 AUC 0.92982187767195\n",
      "\n",
      "[mbo] 84: lambda_l2=0.052; bagging_fraction=0.894; pos_bagging_fraction=0.239; neg_bagging_fraction=0.349; drop_rate=0.0111 : y = 0.93 : 76.3 secs : infill_ei\n",
      "\n",
      "Tue Jul 29 14:28:13 2025 AUC 0.931192750856508\n",
      "\n",
      "[mbo] 85: lambda_l2=0.0918; bagging_fraction=0.72; pos_bagging_fraction=0.283; neg_bagging_fraction=0.314; drop_rate=0.303 : y = 0.931 : 76.7 secs : infill_ei\n",
      "\n",
      "Tue Jul 29 14:29:30 2025 AUC 0.930221786671794\n",
      "\n",
      "[mbo] 86: lambda_l2=0.382; bagging_fraction=0.636; pos_bagging_fraction=0.357; neg_bagging_fraction=0.317; drop_rate=0.261 : y = 0.93 : 76.7 secs : infill_ei\n",
      "\n",
      "Tue Jul 29 14:30:48 2025 AUC 0.930504151074339\n",
      "\n",
      "[mbo] 87: lambda_l2=0.0615; bagging_fraction=0.779; pos_bagging_fraction=0.167; neg_bagging_fraction=0.0587; drop_rate=0.153 : y = 0.931 : 76.9 secs : infill_ei\n",
      "\n",
      "Tue Jul 29 14:32:08 2025 AUC 0.930263009165798\n",
      "\n",
      "[mbo] 88: lambda_l2=0.188; bagging_fraction=0.937; pos_bagging_fraction=0.0542; neg_bagging_fraction=0.229; drop_rate=0.196 : y = 0.93 : 79.5 secs : infill_ei\n",
      "\n",
      "Saved the current state after iteration 89 in the file bayesiana.RDATA.\n",
      "\n",
      "Tue Jul 29 14:33:30 2025 AUC 0.930494408645208\n",
      "\n",
      "[mbo] 89: lambda_l2=0.152; bagging_fraction=0.711; pos_bagging_fraction=0.159; neg_bagging_fraction=0.0181; drop_rate=0.416 : y = 0.93 : 77.9 secs : infill_ei\n",
      "\n",
      "Tue Jul 29 14:34:48 2025 AUC 0.931423244801185\n",
      "\n",
      "[mbo] 90: lambda_l2=0.447; bagging_fraction=0.858; pos_bagging_fraction=0.182; neg_bagging_fraction=0.474; drop_rate=0.376 : y = 0.931 : 76.9 secs : infill_ei\n",
      "\n",
      "Tue Jul 29 14:36:07 2025 AUC 0.930763353504347\n",
      "\n",
      "[mbo] 91: lambda_l2=0.401; bagging_fraction=0.925; pos_bagging_fraction=0.352; neg_bagging_fraction=0.408; drop_rate=0.421 : y = 0.931 : 77.5 secs : infill_ei\n",
      "\n",
      "Tue Jul 29 14:37:24 2025 AUC 0.930826562567\n",
      "\n",
      "[mbo] 92: lambda_l2=0.265; bagging_fraction=0.804; pos_bagging_fraction=0.263; neg_bagging_fraction=0.141; drop_rate=0.181 : y = 0.931 : 76.9 secs : infill_ei\n",
      "\n",
      "Tue Jul 29 14:38:41 2025 AUC 0.930148375424659\n",
      "\n",
      "[mbo] 93: lambda_l2=0.00621; bagging_fraction=0.633; pos_bagging_fraction=0.033; neg_bagging_fraction=0.233; drop_rate=0.404 : y = 0.93 : 75.6 secs : infill_ei\n",
      "\n",
      "Tue Jul 29 14:39:59 2025 AUC 0.931577679538434\n",
      "\n",
      "[mbo] 94: lambda_l2=0.389; bagging_fraction=0.617; pos_bagging_fraction=0.346; neg_bagging_fraction=0.13; drop_rate=0.34 : y = 0.932 : 77.3 secs : infill_ei\n",
      "\n",
      "Tue Jul 29 14:41:18 2025 AUC 0.931053546653401\n",
      "\n",
      "[mbo] 95: lambda_l2=0.389; bagging_fraction=0.733; pos_bagging_fraction=0.000582; neg_bagging_fraction=0.476; drop_rate=0.158 : y = 0.931 : 78.1 secs : infill_ei\n",
      "\n",
      "Tue Jul 29 14:42:36 2025 AUC 0.930387386747644\n",
      "\n",
      "[mbo] 96: lambda_l2=0.291; bagging_fraction=0.667; pos_bagging_fraction=0.398; neg_bagging_fraction=0.0378; drop_rate=0.0247 : y = 0.93 : 77.2 secs : infill_ei\n",
      "\n",
      "Saved the current state after iteration 97 in the file bayesiana.RDATA.\n",
      "\n",
      "Tue Jul 29 14:43:58 2025 AUC 0.929938899641261\n",
      "\n",
      "[mbo] 97: lambda_l2=0.131; bagging_fraction=0.914; pos_bagging_fraction=0.185; neg_bagging_fraction=0.266; drop_rate=0.363 : y = 0.93 : 76.8 secs : infill_ei\n",
      "\n",
      "Tue Jul 29 14:45:16 2025 AUC 0.930686407764514\n",
      "\n",
      "[mbo] 98: lambda_l2=0.264; bagging_fraction=0.642; pos_bagging_fraction=0.239; neg_bagging_fraction=0.485; drop_rate=0.286 : y = 0.931 : 76.7 secs : infill_ei\n",
      "\n",
      "Tue Jul 29 14:46:34 2025 AUC 0.931167807204827\n",
      "\n",
      "[mbo] 99: lambda_l2=0.0302; bagging_fraction=0.68; pos_bagging_fraction=0.0846; neg_bagging_fraction=0.0291; drop_rate=0.0887 : y = 0.931 : 76.6 secs : infill_ei\n",
      "\n",
      "Tue Jul 29 14:47:52 2025 AUC 0.93117819158126\n",
      "\n",
      "[mbo] 100: lambda_l2=0.183; bagging_fraction=0.746; pos_bagging_fraction=0.0554; neg_bagging_fraction=0.341; drop_rate=0.363 : y = 0.931 : 77.0 secs : infill_ei\n",
      "\n",
      "Saved the final state in the file bayesiana.RDATA\n",
      "\n"
     ]
    }
   ],
   "source": [
    "# inicio la optimizacion bayesiana, retomando si ya existe\n",
    "# es la celda mas lenta de todo el notebook\n",
    "\n",
    "if (!file.exists(kbayesiana)) {\n",
    "  bayesiana_salida <- mbo(obj.fun, learner= surr.km, control= ctrl)\n",
    "} else {\n",
    "  bayesiana_salida <- mboContinue(kbayesiana) # retomo en caso que ya exista\n",
    "}"
   ]
  },
  {
   "cell_type": "code",
   "execution_count": 38,
   "metadata": {
    "id": "ssk5nnMk6INK"
   },
   "outputs": [
    {
     "data": {
      "text/html": [
       "<style>\n",
       ".list-inline {list-style: none; margin:0; padding: 0}\n",
       ".list-inline>li {display: inline-block}\n",
       ".list-inline>li:not(:last-child)::after {content: \"\\00b7\"; padding: 0 .5ex}\n",
       "</style>\n",
       "<ol class=list-inline><li>'lambda_l2'</li><li>'bagging_fraction'</li><li>'pos_bagging_fraction'</li><li>'neg_bagging_fraction'</li><li>'drop_rate'</li><li>'y'</li><li>'dob'</li><li>'eol'</li><li>'error.message'</li><li>'exec.time'</li><li>'ei'</li><li>'error.model'</li><li>'train.time'</li><li>'prop.type'</li><li>'propose.time'</li><li>'se'</li><li>'mean'</li></ol>\n"
      ],
      "text/latex": [
       "\\begin{enumerate*}\n",
       "\\item 'lambda\\_l2'\n",
       "\\item 'bagging\\_fraction'\n",
       "\\item 'pos\\_bagging\\_fraction'\n",
       "\\item 'neg\\_bagging\\_fraction'\n",
       "\\item 'drop\\_rate'\n",
       "\\item 'y'\n",
       "\\item 'dob'\n",
       "\\item 'eol'\n",
       "\\item 'error.message'\n",
       "\\item 'exec.time'\n",
       "\\item 'ei'\n",
       "\\item 'error.model'\n",
       "\\item 'train.time'\n",
       "\\item 'prop.type'\n",
       "\\item 'propose.time'\n",
       "\\item 'se'\n",
       "\\item 'mean'\n",
       "\\end{enumerate*}\n"
      ],
      "text/markdown": [
       "1. 'lambda_l2'\n",
       "2. 'bagging_fraction'\n",
       "3. 'pos_bagging_fraction'\n",
       "4. 'neg_bagging_fraction'\n",
       "5. 'drop_rate'\n",
       "6. 'y'\n",
       "7. 'dob'\n",
       "8. 'eol'\n",
       "9. 'error.message'\n",
       "10. 'exec.time'\n",
       "11. 'ei'\n",
       "12. 'error.model'\n",
       "13. 'train.time'\n",
       "14. 'prop.type'\n",
       "15. 'propose.time'\n",
       "16. 'se'\n",
       "17. 'mean'\n",
       "\n",
       "\n"
      ],
      "text/plain": [
       " [1] \"lambda_l2\"            \"bagging_fraction\"     \"pos_bagging_fraction\"\n",
       " [4] \"neg_bagging_fraction\" \"drop_rate\"            \"y\"                   \n",
       " [7] \"dob\"                  \"eol\"                  \"error.message\"       \n",
       "[10] \"exec.time\"            \"ei\"                   \"error.model\"         \n",
       "[13] \"train.time\"           \"prop.type\"            \"propose.time\"        \n",
       "[16] \"se\"                   \"mean\"                "
      ]
     },
     "metadata": {},
     "output_type": "display_data"
    }
   ],
   "source": [
    "\n",
    "tb_bayesiana <- as.data.table(bayesiana_salida$opt.path)\n",
    "colnames( tb_bayesiana)"
   ]
  },
  {
   "cell_type": "code",
   "execution_count": 39,
   "metadata": {
    "id": "u4zq-vknhjGc"
   },
   "outputs": [],
   "source": [
    "# almaceno los resultados de la Bayesian Optimization\n",
    "# y capturo los mejores hiperparametros encontrados\n",
    "\n",
    "tb_bayesiana <- as.data.table(bayesiana_salida$opt.path)\n",
    "\n",
    "tb_bayesiana[, iter := .I]\n",
    "\n",
    "# ordeno en forma descendente por AUC = y\n",
    "setorder(tb_bayesiana, -y)\n",
    "\n",
    "# grabo para eventualmente poder utilizarlos en OTRA corrida\n",
    "fwrite( tb_bayesiana,\n",
    "  file= \"BO_log.txt\",\n",
    "  sep= \"\\t\"\n",
    ")\n",
    "\n",
    "# los mejores hiperparámetros son los que quedaron en el registro 1 de la tabla\n",
    "PARAM$out$lgbm$mejores_hiperparametros <- tb_bayesiana[\n",
    "  1, # el primero es el de mejor AUC\n",
    "  setdiff(colnames(tb_bayesiana),\n",
    "    c(\"y\",\"dob\",\"eol\",\"error.message\",\"exec.time\",\"ei\",\"error.model\",\n",
    "      \"train.time\",\"prop.type\",\"propose.time\",\"se\",\"mean\",\"iter\")),\n",
    "  with= FALSE\n",
    "]\n",
    "\n",
    "\n",
    "PARAM$out$lgbm$y <- tb_bayesiana[1, y]\n"
   ]
  },
  {
   "cell_type": "code",
   "execution_count": 40,
   "metadata": {
    "id": "E8v2eA427N8e"
   },
   "outputs": [],
   "source": [
    "write_yaml( PARAM, file=\"PARAM.yml\")"
   ]
  },
  {
   "cell_type": "code",
   "execution_count": 41,
   "metadata": {
    "id": "iBTWexVU7PGC"
   },
   "outputs": [
    {
     "name": "stdout",
     "output_type": "stream",
     "text": [
      "   lambda_l2 bagging_fraction pos_bagging_fraction neg_bagging_fraction\n",
      "       <num>            <num>                <num>                <num>\n",
      "1: 0.1860507        0.7466841              0.12442            0.3660924\n",
      "   drop_rate\n",
      "       <num>\n",
      "1: 0.4902509\n",
      "[1] 0.9322237\n"
     ]
    }
   ],
   "source": [
    "print(PARAM$out$lgbm$mejores_hiperparametros)\n",
    "print(PARAM$out$lgbm$y)"
   ]
  },
  {
   "cell_type": "markdown",
   "metadata": {
    "id": "TKsVZmAnhwX-"
   },
   "source": [
    "## 2.3  Produccion"
   ]
  },
  {
   "cell_type": "markdown",
   "metadata": {
    "id": "RQ_C33Tr5B_9"
   },
   "source": [
    "### Final Training\n",
    "Construyo el modelo final, que es uno solo, no hace ningun tipo de particion < training, validation, testing>]"
   ]
  },
  {
   "cell_type": "code",
   "execution_count": 42,
   "metadata": {
    "id": "eDqfyA14hzwv"
   },
   "outputs": [],
   "source": [
    "setwd(\"/content/buckets/b1/exp\")\n",
    "experimento <- paste0(\"exp\", PARAM$experimento)\n",
    "dir.create(experimento, showWarnings= FALSE)\n",
    "setwd( paste0(\"/content/buckets/b1/exp/\", experimento ))"
   ]
  },
  {
   "cell_type": "markdown",
   "metadata": {
    "id": "8qFmFivf5Iet"
   },
   "source": [
    "#### Final Training Dataset\n",
    "\n",
    "Aqui esta la gran decision de en qué meses hago el Final Training\n",
    "<br> debo utilizar los mejores hiperparámetros que encontré en la optimización bayesiana"
   ]
  },
  {
   "cell_type": "code",
   "execution_count": 43,
   "metadata": {
    "id": "lg5WVZncvc7H"
   },
   "outputs": [],
   "source": [
    "# clase01\n",
    "dataset[, clase01 := ifelse(clase_ternaria %in% c(\"BAJA+1\", \"BAJA+2\"), 1L, 0L)]"
   ]
  },
  {
   "cell_type": "code",
   "execution_count": 44,
   "metadata": {
    "id": "yc9QzXREv0xf"
   },
   "outputs": [],
   "source": [
    "dataset_train <- dataset[foto_mes %in% c(202107)]"
   ]
  },
  {
   "cell_type": "code",
   "execution_count": 45,
   "metadata": {
    "id": "thjdqEBLuvNt"
   },
   "outputs": [],
   "source": [
    "# dejo los datos en el formato que necesita LightGBM\n",
    "\n",
    "dtrain <- lgb.Dataset(\n",
    "  data= data.matrix(dataset_train[, campos_buenos, with= FALSE]),\n",
    "  label= dataset_train[, clase01]\n",
    ")"
   ]
  },
  {
   "cell_type": "markdown",
   "metadata": {
    "id": "VNUa-WSz5Oqu"
   },
   "source": [
    "#### Final Training Hyperparameters"
   ]
  },
  {
   "cell_type": "code",
   "execution_count": 46,
   "metadata": {
    "id": "FgCcvBfEwImu"
   },
   "outputs": [
    {
     "data": {
      "text/html": [
       "<dl>\n",
       "\t<dt>$boosting</dt>\n",
       "\t\t<dd>'gbdt'</dd>\n",
       "\t<dt>$objective</dt>\n",
       "\t\t<dd>'binary'</dd>\n",
       "\t<dt>$metric</dt>\n",
       "\t\t<dd>'auc'</dd>\n",
       "\t<dt>$first_metric_only</dt>\n",
       "\t\t<dd>FALSE</dd>\n",
       "\t<dt>$boost_from_average</dt>\n",
       "\t\t<dd>TRUE</dd>\n",
       "\t<dt>$feature_pre_filter</dt>\n",
       "\t\t<dd>FALSE</dd>\n",
       "\t<dt>$force_row_wise</dt>\n",
       "\t\t<dd>TRUE</dd>\n",
       "\t<dt>$verbosity</dt>\n",
       "\t\t<dd>-100</dd>\n",
       "\t<dt>$seed</dt>\n",
       "\t\t<dd>106109</dd>\n",
       "\t<dt>$max_depth</dt>\n",
       "\t\t<dd>-1</dd>\n",
       "\t<dt>$min_gain_to_split</dt>\n",
       "\t\t<dd>0</dd>\n",
       "\t<dt>$min_sum_hessian_in_leaf</dt>\n",
       "\t\t<dd>0.001</dd>\n",
       "\t<dt>$lambda_l1</dt>\n",
       "\t\t<dd>0.3933</dd>\n",
       "\t<dt>$lambda_l2</dt>\n",
       "\t\t<dd>0.186050683876044</dd>\n",
       "\t<dt>$max_bin</dt>\n",
       "\t\t<dd>31</dd>\n",
       "\t<dt>$bagging_fraction</dt>\n",
       "\t\t<dd>0.746684119134535</dd>\n",
       "\t<dt>$pos_bagging_fraction</dt>\n",
       "\t\t<dd>0.124420017484777</dd>\n",
       "\t<dt>$neg_bagging_fraction</dt>\n",
       "\t\t<dd>0.366092360408677</dd>\n",
       "\t<dt>$is_unbalance</dt>\n",
       "\t\t<dd>FALSE</dd>\n",
       "\t<dt>$scale_pos_weight</dt>\n",
       "\t\t<dd>12</dd>\n",
       "\t<dt>$drop_rate</dt>\n",
       "\t\t<dd>0.49025094382225</dd>\n",
       "\t<dt>$max_drop</dt>\n",
       "\t\t<dd>50</dd>\n",
       "\t<dt>$skip_drop</dt>\n",
       "\t\t<dd>0.5</dd>\n",
       "\t<dt>$extra_trees</dt>\n",
       "\t\t<dd>FALSE</dd>\n",
       "\t<dt>$num_iterations</dt>\n",
       "\t\t<dd>1458</dd>\n",
       "\t<dt>$learning_rate</dt>\n",
       "\t\t<dd>0.005169</dd>\n",
       "\t<dt>$feature_fraction</dt>\n",
       "\t\t<dd>0.577</dd>\n",
       "\t<dt>$num_leaves</dt>\n",
       "\t\t<dd>41</dd>\n",
       "\t<dt>$min_data_in_leaf</dt>\n",
       "\t\t<dd>480</dd>\n",
       "</dl>\n"
      ],
      "text/latex": [
       "\\begin{description}\n",
       "\\item[\\$boosting] 'gbdt'\n",
       "\\item[\\$objective] 'binary'\n",
       "\\item[\\$metric] 'auc'\n",
       "\\item[\\$first\\_metric\\_only] FALSE\n",
       "\\item[\\$boost\\_from\\_average] TRUE\n",
       "\\item[\\$feature\\_pre\\_filter] FALSE\n",
       "\\item[\\$force\\_row\\_wise] TRUE\n",
       "\\item[\\$verbosity] -100\n",
       "\\item[\\$seed] 106109\n",
       "\\item[\\$max\\_depth] -1\n",
       "\\item[\\$min\\_gain\\_to\\_split] 0\n",
       "\\item[\\$min\\_sum\\_hessian\\_in\\_leaf] 0.001\n",
       "\\item[\\$lambda\\_l1] 0.3933\n",
       "\\item[\\$lambda\\_l2] 0.186050683876044\n",
       "\\item[\\$max\\_bin] 31\n",
       "\\item[\\$bagging\\_fraction] 0.746684119134535\n",
       "\\item[\\$pos\\_bagging\\_fraction] 0.124420017484777\n",
       "\\item[\\$neg\\_bagging\\_fraction] 0.366092360408677\n",
       "\\item[\\$is\\_unbalance] FALSE\n",
       "\\item[\\$scale\\_pos\\_weight] 12\n",
       "\\item[\\$drop\\_rate] 0.49025094382225\n",
       "\\item[\\$max\\_drop] 50\n",
       "\\item[\\$skip\\_drop] 0.5\n",
       "\\item[\\$extra\\_trees] FALSE\n",
       "\\item[\\$num\\_iterations] 1458\n",
       "\\item[\\$learning\\_rate] 0.005169\n",
       "\\item[\\$feature\\_fraction] 0.577\n",
       "\\item[\\$num\\_leaves] 41\n",
       "\\item[\\$min\\_data\\_in\\_leaf] 480\n",
       "\\end{description}\n"
      ],
      "text/markdown": [
       "$boosting\n",
       ":   'gbdt'\n",
       "$objective\n",
       ":   'binary'\n",
       "$metric\n",
       ":   'auc'\n",
       "$first_metric_only\n",
       ":   FALSE\n",
       "$boost_from_average\n",
       ":   TRUE\n",
       "$feature_pre_filter\n",
       ":   FALSE\n",
       "$force_row_wise\n",
       ":   TRUE\n",
       "$verbosity\n",
       ":   -100\n",
       "$seed\n",
       ":   106109\n",
       "$max_depth\n",
       ":   -1\n",
       "$min_gain_to_split\n",
       ":   0\n",
       "$min_sum_hessian_in_leaf\n",
       ":   0.001\n",
       "$lambda_l1\n",
       ":   0.3933\n",
       "$lambda_l2\n",
       ":   0.186050683876044\n",
       "$max_bin\n",
       ":   31\n",
       "$bagging_fraction\n",
       ":   0.746684119134535\n",
       "$pos_bagging_fraction\n",
       ":   0.124420017484777\n",
       "$neg_bagging_fraction\n",
       ":   0.366092360408677\n",
       "$is_unbalance\n",
       ":   FALSE\n",
       "$scale_pos_weight\n",
       ":   12\n",
       "$drop_rate\n",
       ":   0.49025094382225\n",
       "$max_drop\n",
       ":   50\n",
       "$skip_drop\n",
       ":   0.5\n",
       "$extra_trees\n",
       ":   FALSE\n",
       "$num_iterations\n",
       ":   1458\n",
       "$learning_rate\n",
       ":   0.005169\n",
       "$feature_fraction\n",
       ":   0.577\n",
       "$num_leaves\n",
       ":   41\n",
       "$min_data_in_leaf\n",
       ":   480\n",
       "\n",
       "\n"
      ],
      "text/plain": [
       "$boosting\n",
       "[1] \"gbdt\"\n",
       "\n",
       "$objective\n",
       "[1] \"binary\"\n",
       "\n",
       "$metric\n",
       "[1] \"auc\"\n",
       "\n",
       "$first_metric_only\n",
       "[1] FALSE\n",
       "\n",
       "$boost_from_average\n",
       "[1] TRUE\n",
       "\n",
       "$feature_pre_filter\n",
       "[1] FALSE\n",
       "\n",
       "$force_row_wise\n",
       "[1] TRUE\n",
       "\n",
       "$verbosity\n",
       "[1] -100\n",
       "\n",
       "$seed\n",
       "[1] 106109\n",
       "\n",
       "$max_depth\n",
       "[1] -1\n",
       "\n",
       "$min_gain_to_split\n",
       "[1] 0\n",
       "\n",
       "$min_sum_hessian_in_leaf\n",
       "[1] 0.001\n",
       "\n",
       "$lambda_l1\n",
       "[1] 0.3933\n",
       "\n",
       "$lambda_l2\n",
       "[1] 0.1860507\n",
       "\n",
       "$max_bin\n",
       "[1] 31\n",
       "\n",
       "$bagging_fraction\n",
       "[1] 0.7466841\n",
       "\n",
       "$pos_bagging_fraction\n",
       "[1] 0.12442\n",
       "\n",
       "$neg_bagging_fraction\n",
       "[1] 0.3660924\n",
       "\n",
       "$is_unbalance\n",
       "[1] FALSE\n",
       "\n",
       "$scale_pos_weight\n",
       "[1] 12\n",
       "\n",
       "$drop_rate\n",
       "[1] 0.4902509\n",
       "\n",
       "$max_drop\n",
       "[1] 50\n",
       "\n",
       "$skip_drop\n",
       "[1] 0.5\n",
       "\n",
       "$extra_trees\n",
       "[1] FALSE\n",
       "\n",
       "$num_iterations\n",
       "[1] 1458\n",
       "\n",
       "$learning_rate\n",
       "[1] 0.005169\n",
       "\n",
       "$feature_fraction\n",
       "[1] 0.577\n",
       "\n",
       "$num_leaves\n",
       "[1] 41\n",
       "\n",
       "$min_data_in_leaf\n",
       "[1] 480\n"
      ]
     },
     "metadata": {},
     "output_type": "display_data"
    }
   ],
   "source": [
    "param_final <- modifyList(PARAM$lgbm$param_fijos,\n",
    "  PARAM$out$lgbm$mejores_hiperparametros)\n",
    "\n",
    "param_final"
   ]
  },
  {
   "cell_type": "markdown",
   "metadata": {
    "id": "TZIYn4l95TBH"
   },
   "source": [
    "#### Training\n",
    "Genero el modelo final, siempre sobre TODOS los datos de  final_train, sin hacer ningun tipo de undersampling de la clase mayoritaria"
   ]
  },
  {
   "cell_type": "code",
   "execution_count": 47,
   "metadata": {
    "id": "vPLsd4mMRe4u"
   },
   "outputs": [],
   "source": [
    "# este punto es muy SUTIL  y será revisado en la Clase 05\n",
    "\n",
    "param_normalizado <- copy(param_final)\n",
    "param_normalizado$min_data_in_leaf <-  param_final$min_data_in_leaf / PARAM$trainingstrategy$undersampling"
   ]
  },
  {
   "cell_type": "code",
   "execution_count": 48,
   "metadata": {
    "id": "WRI_-taRwOXO"
   },
   "outputs": [],
   "source": [
    "  # entreno LightGBM\n",
    "\n",
    "  modelo_final <- lgb.train(\n",
    "    data= dtrain,\n",
    "    param= param_normalizado\n",
    "  )"
   ]
  },
  {
   "cell_type": "code",
   "execution_count": 49,
   "metadata": {
    "id": "_bkhnCvj0g3Q"
   },
   "outputs": [],
   "source": [
    "# ahora imprimo la importancia de variables\n",
    "\n",
    "tb_importancia <- as.data.table(lgb.importance(modelo_final))\n",
    "archivo_importancia <- \"impo.txt\"\n",
    "\n",
    "fwrite(tb_importancia,\n",
    "  file= archivo_importancia,\n",
    "  sep= \"\\t\"\n",
    ")"
   ]
  },
  {
   "cell_type": "code",
   "execution_count": 50,
   "metadata": {
    "id": "lZ3sLmbh0kFj"
   },
   "outputs": [],
   "source": [
    "# grabo a disco el modelo en un formato para seres humanos ... ponele ...\n",
    "\n",
    "lgb.save(modelo_final, \"modelo.txt\" )"
   ]
  },
  {
   "cell_type": "markdown",
   "metadata": {
    "id": "VEtp2--t5Ymg"
   },
   "source": [
    "### Scoring"
   ]
  },
  {
   "cell_type": "markdown",
   "metadata": {
    "id": "hI5008Mj5ZdI"
   },
   "source": [
    "Aplico el modelo final a los datos del futuro"
   ]
  },
  {
   "cell_type": "code",
   "execution_count": 51,
   "metadata": {
    "id": "PimBY3N_0ryP"
   },
   "outputs": [],
   "source": [
    "# aplico el modelo a los datos sin clase\n",
    "dfuture <- dataset[foto_mes == 202109]\n",
    "\n",
    "# aplico el modelo a los datos nuevos\n",
    "prediccion <- predict(\n",
    "  modelo_final,\n",
    "  data.matrix(dfuture[, campos_buenos, with= FALSE])\n",
    ")"
   ]
  },
  {
   "cell_type": "markdown",
   "metadata": {
    "id": "D26rNRh55gpw"
   },
   "source": [
    "#### Tabla Prediccion"
   ]
  },
  {
   "cell_type": "code",
   "execution_count": 52,
   "metadata": {
    "id": "RJwg7LHd11yu"
   },
   "outputs": [],
   "source": [
    "# tabla de prediccion\n",
    "\n",
    "tb_prediccion <- dfuture[, list(numero_de_cliente)]\n",
    "tb_prediccion[, prob := prediccion ]\n",
    "\n",
    "# grabo las probabilidad del modelo\n",
    "fwrite(tb_prediccion,\n",
    "  file= \"prediccion.txt\",\n",
    "  sep= \"\\t\"\n",
    ")"
   ]
  },
  {
   "cell_type": "markdown",
   "metadata": {
    "id": "jOt4eG_55ltv"
   },
   "source": [
    "Kaggle Competition Submit"
   ]
  },
  {
   "cell_type": "code",
   "execution_count": 53,
   "metadata": {
    "id": "gWW3tatE12je"
   },
   "outputs": [
    {
     "name": "stdout",
     "output_type": "stream",
     "text": [
      "Successfully submitted to Data Mining, Analista Sr 2025A \n",
      "Successfully submitted to Data Mining, Analista Sr 2025A \n",
      "Successfully submitted to Data Mining, Analista Sr 2025A \n",
      "Successfully submitted to Data Mining, Analista Sr 2025A \n",
      "Successfully submitted to Data Mining, Analista Sr 2025A \n"
     ]
    }
   ],
   "source": [
    "# genero archivos con los  \"envios\" mejores\n",
    "# suba TODOS los archivos a Kaggle\n",
    "\n",
    "# ordeno por probabilidad descendente\n",
    "setorder(tb_prediccion, -prob)\n",
    "\n",
    "dir.create(\"kaggle\")\n",
    "\n",
    "for (envios in PARAM$kaggle$cortes) {\n",
    "\n",
    "  tb_prediccion[, Predicted := 0L] # seteo inicial a 0\n",
    "  tb_prediccion[1:envios, Predicted := 1L] # marclo los primeros\n",
    "\n",
    "  archivo_kaggle <- paste0(\"./kaggle/KA\", PARAM$experimento, \"_\", envios, \".csv\")\n",
    "\n",
    "  # grabo el archivo\n",
    "  fwrite(tb_prediccion[, list(numero_de_cliente, Predicted)],\n",
    "    file= archivo_kaggle,\n",
    "    sep= \",\"\n",
    "  )\n",
    "\n",
    "  # subida a Kaggle, armo la linea de comando\n",
    "  comando <- \"kaggle competitions submit\"\n",
    "  competencia <- paste(\"-c\", PARAM$kaggle$competencia)\n",
    "  arch <- paste( \"-f\", archivo_kaggle)\n",
    "\n",
    "  mensaje <- paste0(\"-m 'envios=\", envios,\n",
    "  \"  semilla=\", PARAM$semilla_primigenia,\n",
    "    \"'\" )\n",
    "\n",
    "  linea <- paste( comando, competencia, arch, mensaje)\n",
    "\n",
    "  salida <- system(linea, intern=TRUE) # el submit a Kaggle\n",
    "  cat(salida, \"\\n\")\n",
    "}"
   ]
  },
  {
   "cell_type": "code",
   "execution_count": 54,
   "metadata": {
    "id": "B9tB2X4439Hg"
   },
   "outputs": [],
   "source": [
    "write_yaml( PARAM, file=\"PARAM.yml\")"
   ]
  },
  {
   "cell_type": "code",
   "execution_count": 55,
   "metadata": {
    "id": "9zA_W25c15DP"
   },
   "outputs": [
    {
     "data": {
      "text/html": [
       "'Tue Jul 29 14:49:16 2025'"
      ],
      "text/latex": [
       "'Tue Jul 29 14:49:16 2025'"
      ],
      "text/markdown": [
       "'Tue Jul 29 14:49:16 2025'"
      ],
      "text/plain": [
       "[1] \"Tue Jul 29 14:49:16 2025\""
      ]
     },
     "metadata": {},
     "output_type": "display_data"
    }
   ],
   "source": [
    "format(Sys.time(), \"%a %b %d %X %Y\")"
   ]
  },
  {
   "cell_type": "markdown",
   "metadata": {
    "id": "UdVZucdLHzZ0"
   },
   "source": [
    "Finalmente usted deberá cargar el resultado de su corrida en la Google Sheet Colaborativa,  hoja **TareaHogar04**\n",
    "<br> Siéntase libre de agregar las columnas que hagan falta a la planilla"
   ]
  },
  {
   "cell_type": "code",
   "execution_count": null,
   "metadata": {
    "id": "WMHh7uNVIJkT"
   },
   "outputs": [],
   "source": []
  },
  {
   "cell_type": "code",
   "execution_count": null,
   "metadata": {},
   "outputs": [],
   "source": []
  }
 ],
 "metadata": {
  "colab": {
   "provenance": []
  },
  "kernelspec": {
   "display_name": "R",
   "language": "R",
   "name": "ir"
  },
  "language_info": {
   "codemirror_mode": "r",
   "file_extension": ".r",
   "mimetype": "text/x-r-source",
   "name": "R",
   "pygments_lexer": "r",
   "version": "4.4.3"
  }
 },
 "nbformat": 4,
 "nbformat_minor": 4
}
