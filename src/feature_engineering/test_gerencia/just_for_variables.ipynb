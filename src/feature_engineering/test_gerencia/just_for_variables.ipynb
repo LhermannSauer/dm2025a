{
 "cells": [
  {
   "cell_type": "markdown",
   "id": "85171302-a2d6-48cb-b9b2-8d839a276859",
   "metadata": {
    "id": "85171302-a2d6-48cb-b9b2-8d839a276859"
   },
   "source": [
    "## Inicializacion"
   ]
  },
  {
   "cell_type": "markdown",
   "id": "eSU5vi00CPRS",
   "metadata": {
    "id": "eSU5vi00CPRS"
   },
   "source": [
    "Esta parte se debe correr con el runtime en lenguaje **R** Ir al menu, Runtime -> Change Runtime Type -> Runtime type -> R"
   ]
  },
  {
   "cell_type": "markdown",
   "id": "Zq8dySimCPRT",
   "metadata": {
    "id": "Zq8dySimCPRT"
   },
   "source": [
    "limpio el ambiente de R"
   ]
  },
  {
   "cell_type": "code",
   "execution_count": 48,
   "id": "EL8wdHaUs59K",
   "metadata": {
    "colab": {
     "base_uri": "https://localhost:8080/",
     "height": 34
    },
    "id": "EL8wdHaUs59K",
    "outputId": "1cc07b5d-1bcd-4f95-8b6b-81272f013c49",
    "vscode": {
     "languageId": "r"
    }
   },
   "outputs": [
    {
     "data": {
      "text/html": [
       "'Tue Aug 19 10:11:48 PM 2025'"
      ],
      "text/latex": [
       "'Tue Aug 19 10:11:48 PM 2025'"
      ],
      "text/markdown": [
       "'Tue Aug 19 10:11:48 PM 2025'"
      ],
      "text/plain": [
       "[1] \"Tue Aug 19 10:11:48 PM 2025\""
      ]
     },
     "metadata": {},
     "output_type": "display_data"
    }
   ],
   "source": [
    "format(Sys.time(), \"%a %b %d %X %Y\")"
   ]
  },
  {
   "cell_type": "code",
   "execution_count": 49,
   "id": "1iE0U4_WCPRT",
   "metadata": {
    "colab": {
     "base_uri": "https://localhost:8080/",
     "height": 129
    },
    "id": "1iE0U4_WCPRT",
    "outputId": "7470f831-79c3-4242-f0bb-fff699ae12cf",
    "vscode": {
     "languageId": "r"
    }
   },
   "outputs": [
    {
     "data": {
      "text/html": [
       "<table class=\"dataframe\">\n",
       "<caption>A matrix: 2 × 6 of type dbl</caption>\n",
       "<thead>\n",
       "\t<tr><th></th><th scope=col>used</th><th scope=col>(Mb)</th><th scope=col>gc trigger</th><th scope=col>(Mb)</th><th scope=col>max used</th><th scope=col>(Mb)</th></tr>\n",
       "</thead>\n",
       "<tbody>\n",
       "\t<tr><th scope=row>Ncells</th><td> 1988998</td><td>106.3</td><td> 3727717</td><td>199.1</td><td>  2856494</td><td>152.6</td></tr>\n",
       "\t<tr><th scope=row>Vcells</th><td>24480919</td><td>186.8</td><td>87445424</td><td>667.2</td><td>100329814</td><td>765.5</td></tr>\n",
       "</tbody>\n",
       "</table>\n"
      ],
      "text/latex": [
       "A matrix: 2 × 6 of type dbl\n",
       "\\begin{tabular}{r|llllll}\n",
       "  & used & (Mb) & gc trigger & (Mb) & max used & (Mb)\\\\\n",
       "\\hline\n",
       "\tNcells &  1988998 & 106.3 &  3727717 & 199.1 &   2856494 & 152.6\\\\\n",
       "\tVcells & 24480919 & 186.8 & 87445424 & 667.2 & 100329814 & 765.5\\\\\n",
       "\\end{tabular}\n"
      ],
      "text/markdown": [
       "\n",
       "A matrix: 2 × 6 of type dbl\n",
       "\n",
       "| <!--/--> | used | (Mb) | gc trigger | (Mb) | max used | (Mb) |\n",
       "|---|---|---|---|---|---|---|\n",
       "| Ncells |  1988998 | 106.3 |  3727717 | 199.1 |   2856494 | 152.6 |\n",
       "| Vcells | 24480919 | 186.8 | 87445424 | 667.2 | 100329814 | 765.5 |\n",
       "\n"
      ],
      "text/plain": [
       "       used     (Mb)  gc trigger (Mb)  max used  (Mb) \n",
       "Ncells  1988998 106.3  3727717   199.1   2856494 152.6\n",
       "Vcells 24480919 186.8 87445424   667.2 100329814 765.5"
      ]
     },
     "metadata": {},
     "output_type": "display_data"
    }
   ],
   "source": [
    "# limpio la memoria\n",
    "rm(list=ls(all.names=TRUE)) # remove all objects\n",
    "gc(full=TRUE, verbose=FALSE) # garbage collection"
   ]
  },
  {
   "cell_type": "code",
   "execution_count": null,
   "id": "bf65dd12-5293-40d0-b534-0792e80f6ce8",
   "metadata": {
    "id": "bf65dd12-5293-40d0-b534-0792e80f6ce8",
    "vscode": {
     "languageId": "r"
    }
   },
   "outputs": [],
   "source": []
  },
  {
   "cell_type": "code",
   "execution_count": 50,
   "id": "atmIUEUNUrK5",
   "metadata": {
    "colab": {
     "base_uri": "https://localhost:8080/"
    },
    "id": "atmIUEUNUrK5",
    "outputId": "782288d6-b22a-4417-b6da-395d9bcc9839",
    "scrolled": true,
    "vscode": {
     "languageId": "r"
    }
   },
   "outputs": [],
   "source": [
    "require(\"data.table\")\n",
    "require(\"csv\")\n",
    "if( !require(\"R.utils\")) install.packages(\"R.utils\")\n",
    "require(\"R.utils\")"
   ]
  },
  {
   "cell_type": "markdown",
   "id": "BsxZ_ONyj9L_",
   "metadata": {
    "id": "BsxZ_ONyj9L_"
   },
   "source": [
    "#### Parametros\n",
    "Si es gerente, no cambie nada\n",
    "<br>Si es Analista, cambie el nombre del dataset"
   ]
  },
  {
   "cell_type": "code",
   "execution_count": 51,
   "id": "peRH7ySLCPRV",
   "metadata": {
    "id": "peRH7ySLCPRV",
    "vscode": {
     "languageId": "r"
    }
   },
   "outputs": [],
   "source": [
    "PARAM <- list()\n",
    "PARAM$semilla_primigenia <- 7000001\n",
    "\n",
    "PARAM$experimento <- \"just_for_vars\"\n",
    "PARAM$dataset <- \"gerencial_competencia_2025.csv.gz\""
   ]
  },
  {
   "cell_type": "markdown",
   "id": "NoJbKo_4NG8A",
   "metadata": {
    "id": "NoJbKo_4NG8A"
   },
   "source": [
    "#### Carpeta del Experimento"
   ]
  },
  {
   "cell_type": "code",
   "execution_count": 52,
   "id": "1gZD6ZMvCPRV",
   "metadata": {
    "id": "1gZD6ZMvCPRV",
    "vscode": {
     "languageId": "r"
    }
   },
   "outputs": [],
   "source": [
    "# carpeta de trabajo\n",
    "\n",
    "experimento_folder <- paste0(\"WF\", PARAM$experimento)\n",
    "dir.create(paste0(\"~/content/buckets/b1/exp/\",experimento_folder), showWarnings=FALSE)\n",
    "setwd( paste0(\"~/content/buckets/b1/exp/\", experimento_folder ))"
   ]
  },
  {
   "cell_type": "markdown",
   "id": "YVKBfLtkR8SO",
   "metadata": {
    "id": "YVKBfLtkR8SO"
   },
   "source": [
    "### 6.3.1   Preprocesamiento del dataset"
   ]
  },
  {
   "cell_type": "markdown",
   "id": "cr3K0RPVRjq6",
   "metadata": {
    "id": "cr3K0RPVRjq6"
   },
   "source": [
    "#### 6.3.1.1  DT incorporar dataset"
   ]
  },
  {
   "cell_type": "code",
   "execution_count": 53,
   "id": "Xi0emX2ECPRV",
   "metadata": {
    "id": "Xi0emX2ECPRV",
    "vscode": {
     "languageId": "r"
    }
   },
   "outputs": [],
   "source": [
    "# lectura del dataset\n",
    "dataset <- fread(\"~/content/datasets/gerencial_competencia_2025.csv.gz\")"
   ]
  },
  {
   "cell_type": "markdown",
   "id": "MWuPzK3nSLY3",
   "metadata": {
    "id": "MWuPzK3nSLY3"
   },
   "source": [
    "#### 6.3.1.2  CA  Catastrophe Analysis\n",
    "Se intentan reparar las variables que para un mes están con todos los valores en cero."
   ]
  },
  {
   "cell_type": "markdown",
   "id": "UAI16-yCVcBS",
   "metadata": {
    "id": "UAI16-yCVcBS"
   },
   "source": [
    "El método que se utiliza es **Machine Learning** se asigna NA also valores, si ha leido bien, es la \"anti imputación de valores faltantes\"\n",
    "<br> Usted podrá aplicar aquí otros métodos"
   ]
  },
  {
   "cell_type": "code",
   "execution_count": 54,
   "id": "sTmliO_FXv9E",
   "metadata": {
    "id": "sTmliO_FXv9E",
    "vscode": {
     "languageId": "r"
    }
   },
   "outputs": [],
   "source": [
    "dataset[ foto_mes==202006, internet:=NA]\n",
    "dataset[ foto_mes==202006, mrentabilidad:=NA]\n",
    "dataset[ foto_mes==202006, mrentabilidad_annual:=NA]\n",
    "dataset[ foto_mes==202006, mcomisiones:=NA]\n",
    "dataset[ foto_mes==202006, mactivos_margen:=NA]\n",
    "dataset[ foto_mes==202006, mpasivos_margen:=NA]\n",
    "dataset[ foto_mes==202006, mcuentas_saldo:=NA]\n",
    "dataset[ foto_mes==202006, ctarjeta_visa_transacciones:=NA]\n",
    "dataset[ foto_mes==202006, mtarjeta_visa_consumo:=NA]\n",
    "dataset[ foto_mes==202006, mtarjeta_master_consumo:=NA]\n",
    "dataset[ foto_mes==202006, ccallcenter_transacciones:=NA]\n",
    "dataset[ foto_mes==202006, chomebanking_transacciones:=NA]\n",
    "dataset[ foto_mes==202006, chomebanking_transacciones:=NA]"
   ]
  },
  {
   "cell_type": "markdown",
   "id": "-4NiANYFSYHG",
   "metadata": {
    "id": "-4NiANYFSYHG"
   },
   "source": [
    "#### 6.3.1.3  DR  Data Drifting\n",
    "Se intenta corregir el data drifting, quizas ajustando por IPC ...\n",
    "<br>Esta parte podrá ser abordada por todos los Analistas y también la Gerenciapero se decide pedagogicamente no incluirla en esta primer version para reducir la carga cognitiva"
   ]
  },
  {
   "cell_type": "markdown",
   "id": "7sppIDYeSn5X",
   "metadata": {
    "id": "7sppIDYeSn5X"
   },
   "source": [
    "#### 6.3.1.3  FE_intra_manual Feature Engineering intra-mes\n",
    "\n",
    "Agrego campos nuevos dentro del mismo mes, SIN considerar la historia."
   ]
  },
  {
   "cell_type": "code",
   "execution_count": 55,
   "id": "qrqf3j3_St3p",
   "metadata": {
    "id": "qrqf3j3_St3p",
    "vscode": {
     "languageId": "r"
    }
   },
   "outputs": [],
   "source": [
    "# esta funcion atributos presentes existe debido a que las modalidades poseen datasets con distinta cantidad de campos\n",
    "atributos_presentes <- function( patributos )\n",
    "{\n",
    "  atributos <- unique( patributos )\n",
    "  comun <- intersect( atributos, colnames(dataset) )\n",
    "\n",
    "  return(  length( atributos ) == length( comun ) )\n",
    "}\n",
    "\n",
    "# el mes 1,2, ..12\n",
    "if( atributos_presentes( c(\"foto_mes\") ))\n",
    "  dataset[, kmes := foto_mes %% 100]\n",
    "\n",
    "# variable extraida de una tesis de maestria de Irlanda\n",
    "if( atributos_presentes( c(\"mpayroll\", \"cliente_edad\") ))\n",
    "  dataset[, mpayroll_sobre_edad := mpayroll / cliente_edad]\n"
   ]
  },
  {
   "cell_type": "code",
   "execution_count": 56,
   "id": "iC4viwOdY5Kp",
   "metadata": {
    "colab": {
     "base_uri": "https://localhost:8080/",
     "height": 156
    },
    "id": "iC4viwOdY5Kp",
    "outputId": "05bdb939-926b-48dd-f00f-dbb3a1e86ca7",
    "vscode": {
     "languageId": "r"
    }
   },
   "outputs": [
    {
     "data": {
      "text/html": [
       "<style>\n",
       ".list-inline {list-style: none; margin:0; padding: 0}\n",
       ".list-inline>li {display: inline-block}\n",
       ".list-inline>li:not(:last-child)::after {content: \"\\00b7\"; padding: 0 .5ex}\n",
       "</style>\n",
       "<ol class=list-inline><li>'numero_de_cliente'</li><li>'foto_mes'</li><li>'internet'</li><li>'cliente_edad'</li><li>'cliente_antiguedad'</li><li>'mrentabilidad'</li><li>'mrentabilidad_annual'</li><li>'mcomisiones'</li><li>'mactivos_margen'</li><li>'mpasivos_margen'</li><li>'cproductos'</li><li>'mcuenta_corriente'</li><li>'mcaja_ahorro'</li><li>'cdescubierto_preacordado'</li><li>'mcuentas_saldo'</li><li>'ctarjeta_visa_transacciones'</li><li>'mtarjeta_visa_consumo'</li><li>'mtarjeta_master_consumo'</li><li>'mprestamos_personales'</li><li>'cpayroll_trx'</li><li>'mpayroll'</li><li>'ccomisiones_mantenimiento'</li><li>'ccallcenter_transacciones'</li><li>'chomebanking_transacciones'</li><li>'ctrx_quarter'</li><li>'Master_status'</li><li>'Master_fechaalta'</li><li>'Master_mpagominimo'</li><li>'Visa_status'</li><li>'Visa_fechaalta'</li><li>'Visa_mpagominimo'</li><li>'clase_ternaria'</li><li>'kmes'</li><li>'mpayroll_sobre_edad'</li></ol>\n"
      ],
      "text/latex": [
       "\\begin{enumerate*}\n",
       "\\item 'numero\\_de\\_cliente'\n",
       "\\item 'foto\\_mes'\n",
       "\\item 'internet'\n",
       "\\item 'cliente\\_edad'\n",
       "\\item 'cliente\\_antiguedad'\n",
       "\\item 'mrentabilidad'\n",
       "\\item 'mrentabilidad\\_annual'\n",
       "\\item 'mcomisiones'\n",
       "\\item 'mactivos\\_margen'\n",
       "\\item 'mpasivos\\_margen'\n",
       "\\item 'cproductos'\n",
       "\\item 'mcuenta\\_corriente'\n",
       "\\item 'mcaja\\_ahorro'\n",
       "\\item 'cdescubierto\\_preacordado'\n",
       "\\item 'mcuentas\\_saldo'\n",
       "\\item 'ctarjeta\\_visa\\_transacciones'\n",
       "\\item 'mtarjeta\\_visa\\_consumo'\n",
       "\\item 'mtarjeta\\_master\\_consumo'\n",
       "\\item 'mprestamos\\_personales'\n",
       "\\item 'cpayroll\\_trx'\n",
       "\\item 'mpayroll'\n",
       "\\item 'ccomisiones\\_mantenimiento'\n",
       "\\item 'ccallcenter\\_transacciones'\n",
       "\\item 'chomebanking\\_transacciones'\n",
       "\\item 'ctrx\\_quarter'\n",
       "\\item 'Master\\_status'\n",
       "\\item 'Master\\_fechaalta'\n",
       "\\item 'Master\\_mpagominimo'\n",
       "\\item 'Visa\\_status'\n",
       "\\item 'Visa\\_fechaalta'\n",
       "\\item 'Visa\\_mpagominimo'\n",
       "\\item 'clase\\_ternaria'\n",
       "\\item 'kmes'\n",
       "\\item 'mpayroll\\_sobre\\_edad'\n",
       "\\end{enumerate*}\n"
      ],
      "text/markdown": [
       "1. 'numero_de_cliente'\n",
       "2. 'foto_mes'\n",
       "3. 'internet'\n",
       "4. 'cliente_edad'\n",
       "5. 'cliente_antiguedad'\n",
       "6. 'mrentabilidad'\n",
       "7. 'mrentabilidad_annual'\n",
       "8. 'mcomisiones'\n",
       "9. 'mactivos_margen'\n",
       "10. 'mpasivos_margen'\n",
       "11. 'cproductos'\n",
       "12. 'mcuenta_corriente'\n",
       "13. 'mcaja_ahorro'\n",
       "14. 'cdescubierto_preacordado'\n",
       "15. 'mcuentas_saldo'\n",
       "16. 'ctarjeta_visa_transacciones'\n",
       "17. 'mtarjeta_visa_consumo'\n",
       "18. 'mtarjeta_master_consumo'\n",
       "19. 'mprestamos_personales'\n",
       "20. 'cpayroll_trx'\n",
       "21. 'mpayroll'\n",
       "22. 'ccomisiones_mantenimiento'\n",
       "23. 'ccallcenter_transacciones'\n",
       "24. 'chomebanking_transacciones'\n",
       "25. 'ctrx_quarter'\n",
       "26. 'Master_status'\n",
       "27. 'Master_fechaalta'\n",
       "28. 'Master_mpagominimo'\n",
       "29. 'Visa_status'\n",
       "30. 'Visa_fechaalta'\n",
       "31. 'Visa_mpagominimo'\n",
       "32. 'clase_ternaria'\n",
       "33. 'kmes'\n",
       "34. 'mpayroll_sobre_edad'\n",
       "\n",
       "\n"
      ],
      "text/plain": [
       " [1] \"numero_de_cliente\"           \"foto_mes\"                   \n",
       " [3] \"internet\"                    \"cliente_edad\"               \n",
       " [5] \"cliente_antiguedad\"          \"mrentabilidad\"              \n",
       " [7] \"mrentabilidad_annual\"        \"mcomisiones\"                \n",
       " [9] \"mactivos_margen\"             \"mpasivos_margen\"            \n",
       "[11] \"cproductos\"                  \"mcuenta_corriente\"          \n",
       "[13] \"mcaja_ahorro\"                \"cdescubierto_preacordado\"   \n",
       "[15] \"mcuentas_saldo\"              \"ctarjeta_visa_transacciones\"\n",
       "[17] \"mtarjeta_visa_consumo\"       \"mtarjeta_master_consumo\"    \n",
       "[19] \"mprestamos_personales\"       \"cpayroll_trx\"               \n",
       "[21] \"mpayroll\"                    \"ccomisiones_mantenimiento\"  \n",
       "[23] \"ccallcenter_transacciones\"   \"chomebanking_transacciones\" \n",
       "[25] \"ctrx_quarter\"                \"Master_status\"              \n",
       "[27] \"Master_fechaalta\"            \"Master_mpagominimo\"         \n",
       "[29] \"Visa_status\"                 \"Visa_fechaalta\"             \n",
       "[31] \"Visa_mpagominimo\"            \"clase_ternaria\"             \n",
       "[33] \"kmes\"                        \"mpayroll_sobre_edad\"        "
      ]
     },
     "metadata": {},
     "output_type": "display_data"
    }
   ],
   "source": [
    "# visualizo las columas del dataset a esta etapa\n",
    "colnames(dataset)"
   ]
  },
  {
   "cell_type": "markdown",
   "id": "6e3c57bf-2ef3-4b04-a512-cb30f728c98b",
   "metadata": {
    "id": "6e3c57bf-2ef3-4b04-a512-cb30f728c98b"
   },
   "source": [
    "#### 9.7.1.3  DR  Data Drifting\n",
    "Se intenta corregir el data drifting, ajustando por algunos indices financieros"
   ]
  },
  {
   "cell_type": "code",
   "execution_count": 57,
   "id": "8da403e2-102b-4bb4-94d0-e41d4b1e498d",
   "metadata": {
    "id": "8da403e2-102b-4bb4-94d0-e41d4b1e498d",
    "vscode": {
     "languageId": "r"
    }
   },
   "outputs": [],
   "source": [
    "# meses que me interesan para el ajuste de variables monetarias\n",
    "vfoto_mes <- c(\n",
    "  201901, 201902, 201903, 201904, 201905, 201906,\n",
    "  201907, 201908, 201909, 201910, 201911, 201912,\n",
    "  202001, 202002, 202003, 202004, 202005, 202006,\n",
    "  202007, 202008, 202009, 202010, 202011, 202012,\n",
    "  202101, 202102, 202103, 202104, 202105, 202106,\n",
    "  202107, 202108, 202109\n",
    ")\n",
    "# los valores que siguen fueron calculados por alumnos\n",
    "\n",
    "# momento 1.0  31-dic-2020 a las 23:59\n",
    "vIPC <- c(\n",
    "  1.9903030878, 1.9174403544, 1.8296186587,\n",
    "  1.7728862972, 1.7212488323, 1.6776304408,\n",
    "  1.6431248196, 1.5814483345, 1.4947526791,\n",
    "  1.4484037589, 1.3913580777, 1.3404220402,\n",
    "  1.3154288912, 1.2921698342, 1.2472681797,\n",
    "  1.2300475145, 1.2118694724, 1.1881073259,\n",
    "  1.1693969743, 1.1375456949, 1.1065619600,\n",
    "  1.0681100000, 1.0370000000, 1.0000000000,\n",
    "  0.9680542110, 0.9344152616, 0.8882274350,\n",
    "  0.8532444140, 0.8251880213, 0.8003763543,\n",
    "  0.7763107219, 0.7566381305, 0.7289384687\n",
    ")\n",
    "\n",
    "vdolar_blue <- c(\n",
    "   39.045455,  38.402500,  41.639474,\n",
    "   44.274737,  46.095455,  45.063333,\n",
    "   43.983333,  54.842857,  61.059524,\n",
    "   65.545455,  66.750000,  72.368421,\n",
    "   77.477273,  78.191667,  82.434211,\n",
    "  101.087500, 126.236842, 125.857143,\n",
    "  130.782609, 133.400000, 137.954545,\n",
    "  170.619048, 160.400000, 153.052632,\n",
    "  157.900000, 149.780952, 143.615385,\n",
    "  146.250000, 153.550000, 162.000000,\n",
    "  178.478261, 180.878788, 184.357143\n",
    ")\n",
    "\n",
    "vdolar_oficial <- c(\n",
    "   38.430000,  39.428000,  42.542105,\n",
    "   44.354211,  46.088636,  44.955000,\n",
    "   43.751429,  54.650476,  58.790000,\n",
    "   61.403182,  63.012632,  63.011579,\n",
    "   62.983636,  63.580556,  65.200000,\n",
    "   67.872000,  70.047895,  72.520952,\n",
    "   75.324286,  77.488500,  79.430909,\n",
    "   83.134762,  85.484737,  88.181667,\n",
    "   91.474000,  93.997778,  96.635909,\n",
    "   98.526000,  99.613158, 100.619048,\n",
    "  101.619048, 102.569048, 103.781818\n",
    ")\n",
    "\n",
    "vUVA <- c(\n",
    "  2.001408838932958,  1.950325472789153,  1.89323032351521,\n",
    "  1.8247220405493787, 1.746027787673673,  1.6871348409529485,\n",
    "  1.6361678865622313, 1.5927529755859773, 1.5549162794128493,\n",
    "  1.4949100586391746, 1.4197729500774545, 1.3678188186372326,\n",
    "  1.3136508617223726, 1.2690535173062818, 1.2381595983200178,\n",
    "  1.211656735577568,  1.1770808941405335, 1.1570338657445522,\n",
    "  1.1388769475653255, 1.1156993751209352, 1.093638313080772,\n",
    "  1.0657171590878205, 1.0362173587708712, 1.0,\n",
    "  0.9669867858358365, 0.9323750098728378, 0.8958202912590305,\n",
    "  0.8631993702994263, 0.8253893405524657, 0.7928918905364516,\n",
    "  0.7666323845128089, 0.7428976357662823, 0.721615762047849\n",
    ")\n",
    "\n",
    "tb_indices <- as.data.table( list(\n",
    "  \"IPC\" = vIPC,\n",
    "  \"dolar_blue\" = vdolar_blue,\n",
    "  \"dolar_oficial\" = vdolar_oficial,\n",
    "  \"UVA\" = vUVA\n",
    "  )\n",
    ")\n",
    "\n",
    "tb_indices[[\"foto_mes\"]] <- vfoto_mes\n",
    "\n",
    "# tb_indices"
   ]
  },
  {
   "cell_type": "code",
   "execution_count": 58,
   "id": "f45d86db-0902-4383-b241-68e2c8c6a873",
   "metadata": {
    "id": "f45d86db-0902-4383-b241-68e2c8c6a873",
    "vscode": {
     "languageId": "r"
    }
   },
   "outputs": [],
   "source": [
    "## TODO: juntar en una funcion...\n",
    "\n",
    "drift_UVA <- function(campos_monetarios) {\n",
    "  cat( \"inicio drift_UVA()\\n\")\n",
    "\n",
    "  dataset[tb_indices,\n",
    "    on = c(\"foto_mes\"),\n",
    "    (campos_monetarios) := .SD * i.UVA,\n",
    "    .SDcols = campos_monetarios\n",
    "  ]\n",
    "\n",
    "  cat( \"fin drift_UVA()\\n\")\n",
    "}\n",
    "drift_dolar_oficial <- function(campos_monetarios) {\n",
    "  cat( \"inicio drift_dolar_oficial()\\n\")\n",
    "\n",
    "  dataset[tb_indices,\n",
    "    on = c(\"foto_mes\"),\n",
    "    (campos_monetarios) := .SD / i.dolar_oficial,\n",
    "    .SDcols = campos_monetarios\n",
    "  ]\n",
    "\n",
    "  cat( \"fin drift_dolar_oficial()\\n\")\n",
    "}\n",
    "drift_dolar_blue <- function(campos_monetarios) {\n",
    "  cat( \"inicio drift_dolar_blue()\\n\")\n",
    "\n",
    "  dataset[tb_indices,\n",
    "    on = c(\"foto_mes\"),\n",
    "    (campos_monetarios) := .SD / i.dolar_blue,\n",
    "    .SDcols = campos_monetarios\n",
    "  ]\n",
    "\n",
    "  cat( \"fin drift_dolar_blue()\\n\")\n",
    "}\n",
    "drift_deflacion <- function(campos_monetarios) {\n",
    "  cat( \"inicio drift_deflacion()\\n\")\n",
    "\n",
    "  dataset[tb_indices,\n",
    "    on = c(\"foto_mes\"),\n",
    "    (campos_monetarios) := .SD * i.IPC,\n",
    "    .SDcols = campos_monetarios\n",
    "  ]\n",
    "\n",
    "  cat( \"fin drift_deflacion()\\n\")\n",
    "}\n",
    "drift_rank_simple <- function(campos_drift) {\n",
    "\n",
    "  cat( \"inicio drift_rank_simple()\\n\")\n",
    "  for (campo in campos_drift)\n",
    "  {\n",
    "    cat(campo, \" \")\n",
    "    dataset[, paste0(campo, \"_rank\") :=\n",
    "      (frank(get(campo), ties.method = \"random\") - 1) / (.N - 1), by = list(foto_mes)]\n",
    "    dataset[, (campo) := NULL]\n",
    "  }\n",
    "  cat( \"fin drift_rank_simple()\\n\")\n",
    "}\n",
    "# El cero se transforma en cero\n",
    "# los positivos se rankean por su lado\n",
    "# los negativos se rankean por su lado\n",
    "\n",
    "drift_rank_cero_fijo <- function(campos_drift) {\n",
    "\n",
    "  cat( \"inicio drift_rank_cero_fijo()\\n\")\n",
    "  for (campo in campos_drift)\n",
    "  {\n",
    "    cat(campo, \" \")\n",
    "    dataset[get(campo) == 0, paste0(campo, \"_rank\") := 0]\n",
    "    dataset[get(campo) > 0, paste0(campo, \"_rank\") :=\n",
    "      frank(get(campo), ties.method = \"random\") / .N, by = list(foto_mes)]\n",
    "\n",
    "    dataset[get(campo) < 0, paste0(campo, \"_rank\") :=\n",
    "      -frank(-get(campo), ties.method = \"random\") / .N, by = list(foto_mes)]\n",
    "    dataset[, (campo) := NULL]\n",
    "  }\n",
    "  cat(\"\\n\")\n",
    "  cat( \"fin drift_rank_cero_fijo()\\n\")\n",
    "}\n",
    "drift_estandarizar <- function(campos_drift) {\n",
    "\n",
    "  cat( \"inicio drift_estandarizar()\\n\")\n",
    "  for (campo in campos_drift)\n",
    "  {\n",
    "    cat(campo, \" \")\n",
    "    dataset[, paste0(campo, \"_normal\") :=\n",
    "      (get(campo) -mean(campo, na.rm=TRUE)) / sd(get(campo), na.rm=TRUE),\n",
    "      by = list(foto_mes)]\n",
    "\n",
    "    dataset[, (campo) := NULL]\n",
    "  }\n",
    "  cat( \"fin drift_estandarizar()\\n\")\n",
    "}\n"
   ]
  },
  {
   "cell_type": "code",
   "execution_count": 59,
   "id": "dfc6a0f9-bb32-45ea-8b9e-2e964f5a1614",
   "metadata": {
    "colab": {
     "base_uri": "https://localhost:8080/",
     "height": 86
    },
    "id": "dfc6a0f9-bb32-45ea-8b9e-2e964f5a1614",
    "outputId": "67b237f7-715f-467f-a72f-2892b744d49c",
    "vscode": {
     "languageId": "r"
    }
   },
   "outputs": [
    {
     "data": {
      "text/html": [
       "<style>\n",
       ".list-inline {list-style: none; margin:0; padding: 0}\n",
       ".list-inline>li {display: inline-block}\n",
       ".list-inline>li:not(:last-child)::after {content: \"\\00b7\"; padding: 0 .5ex}\n",
       "</style>\n",
       "<ol class=list-inline><li>'mrentabilidad'</li><li>'mrentabilidad_annual'</li><li>'mcomisiones'</li><li>'mactivos_margen'</li><li>'mpasivos_margen'</li><li>'mcuenta_corriente'</li><li>'mcaja_ahorro'</li><li>'mcuentas_saldo'</li><li>'mtarjeta_visa_consumo'</li><li>'mtarjeta_master_consumo'</li><li>'mprestamos_personales'</li><li>'mpayroll'</li><li>'Master_mpagominimo'</li><li>'Visa_mpagominimo'</li><li>'mpayroll_sobre_edad'</li></ol>\n"
      ],
      "text/latex": [
       "\\begin{enumerate*}\n",
       "\\item 'mrentabilidad'\n",
       "\\item 'mrentabilidad\\_annual'\n",
       "\\item 'mcomisiones'\n",
       "\\item 'mactivos\\_margen'\n",
       "\\item 'mpasivos\\_margen'\n",
       "\\item 'mcuenta\\_corriente'\n",
       "\\item 'mcaja\\_ahorro'\n",
       "\\item 'mcuentas\\_saldo'\n",
       "\\item 'mtarjeta\\_visa\\_consumo'\n",
       "\\item 'mtarjeta\\_master\\_consumo'\n",
       "\\item 'mprestamos\\_personales'\n",
       "\\item 'mpayroll'\n",
       "\\item 'Master\\_mpagominimo'\n",
       "\\item 'Visa\\_mpagominimo'\n",
       "\\item 'mpayroll\\_sobre\\_edad'\n",
       "\\end{enumerate*}\n"
      ],
      "text/markdown": [
       "1. 'mrentabilidad'\n",
       "2. 'mrentabilidad_annual'\n",
       "3. 'mcomisiones'\n",
       "4. 'mactivos_margen'\n",
       "5. 'mpasivos_margen'\n",
       "6. 'mcuenta_corriente'\n",
       "7. 'mcaja_ahorro'\n",
       "8. 'mcuentas_saldo'\n",
       "9. 'mtarjeta_visa_consumo'\n",
       "10. 'mtarjeta_master_consumo'\n",
       "11. 'mprestamos_personales'\n",
       "12. 'mpayroll'\n",
       "13. 'Master_mpagominimo'\n",
       "14. 'Visa_mpagominimo'\n",
       "15. 'mpayroll_sobre_edad'\n",
       "\n",
       "\n"
      ],
      "text/plain": [
       " [1] \"mrentabilidad\"           \"mrentabilidad_annual\"   \n",
       " [3] \"mcomisiones\"             \"mactivos_margen\"        \n",
       " [5] \"mpasivos_margen\"         \"mcuenta_corriente\"      \n",
       " [7] \"mcaja_ahorro\"            \"mcuentas_saldo\"         \n",
       " [9] \"mtarjeta_visa_consumo\"   \"mtarjeta_master_consumo\"\n",
       "[11] \"mprestamos_personales\"   \"mpayroll\"               \n",
       "[13] \"Master_mpagominimo\"      \"Visa_mpagominimo\"       \n",
       "[15] \"mpayroll_sobre_edad\"    "
      ]
     },
     "metadata": {},
     "output_type": "display_data"
    }
   ],
   "source": [
    "# por como armé los nombres de campos,\n",
    "#  estos son los campos que expresan variables monetarias\n",
    "campos_monetarios <- colnames(dataset)\n",
    "campos_monetarios <- campos_monetarios[campos_monetarios %like%\n",
    "  \"^(m|Visa_m|Master_m|vm_m)\"]\n",
    "\n",
    "campos_monetarios\n"
   ]
  },
  {
   "cell_type": "code",
   "execution_count": 60,
   "id": "90434a25-93a3-4d3f-9242-412ab38d981b",
   "metadata": {
    "colab": {
     "base_uri": "https://localhost:8080/"
    },
    "id": "90434a25-93a3-4d3f-9242-412ab38d981b",
    "outputId": "ff1f2fc8-449a-40c7-a6b9-946f9b3f97ca",
    "vscode": {
     "languageId": "r"
    }
   },
   "outputs": [
    {
     "name": "stdout",
     "output_type": "stream",
     "text": [
      "No hay correccion del data drifting"
     ]
    }
   ],
   "source": [
    "# ejecuto el Data Drifting\n",
    "setorder(dataset, numero_de_cliente, foto_mes)\n",
    "\n",
    "PARAM$DR$metodo <- \"ninguno\"\n",
    "\n",
    "switch(PARAM$DR$metodo,\n",
    "  \"ninguno\"        = cat(\"No hay correccion del data drifting\"),\n",
    "  \"rank_simple\"    = drift_rank_simple(campos_monetarios),\n",
    "  \"rank_cero_fijo\" = drift_rank_cero_fijo(campos_monetarios),\n",
    "  \"deflacion\"      = drift_deflacion(campos_monetarios),\n",
    "  \"dolar_blue\"     = drift_dolarblue(campos_monetarios),\n",
    "  \"dolar_oficial\"  = drift_dolaroficial(campos_monetarios),\n",
    "  \"UVA\"            = drift_UVA(campos_monetarios),\n",
    "  \"estandarizar\"   = drift_estandarizar(campos_monetarios)\n",
    ")\n"
   ]
  },
  {
   "cell_type": "code",
   "execution_count": 61,
   "id": "fc1d92cc-bd7a-43ef-9133-efc7eac94af3",
   "metadata": {
    "colab": {
     "base_uri": "https://localhost:8080/",
     "height": 156
    },
    "id": "fc1d92cc-bd7a-43ef-9133-efc7eac94af3",
    "outputId": "3ad8a828-f1d5-495a-af4f-e0633474d4ed",
    "vscode": {
     "languageId": "r"
    }
   },
   "outputs": [
    {
     "data": {
      "text/html": [
       "<style>\n",
       ".list-inline {list-style: none; margin:0; padding: 0}\n",
       ".list-inline>li {display: inline-block}\n",
       ".list-inline>li:not(:last-child)::after {content: \"\\00b7\"; padding: 0 .5ex}\n",
       "</style>\n",
       "<ol class=list-inline><li>'numero_de_cliente'</li><li>'foto_mes'</li><li>'internet'</li><li>'cliente_edad'</li><li>'cliente_antiguedad'</li><li>'mrentabilidad'</li><li>'mrentabilidad_annual'</li><li>'mcomisiones'</li><li>'mactivos_margen'</li><li>'mpasivos_margen'</li><li>'cproductos'</li><li>'mcuenta_corriente'</li><li>'mcaja_ahorro'</li><li>'cdescubierto_preacordado'</li><li>'mcuentas_saldo'</li><li>'ctarjeta_visa_transacciones'</li><li>'mtarjeta_visa_consumo'</li><li>'mtarjeta_master_consumo'</li><li>'mprestamos_personales'</li><li>'cpayroll_trx'</li><li>'mpayroll'</li><li>'ccomisiones_mantenimiento'</li><li>'ccallcenter_transacciones'</li><li>'chomebanking_transacciones'</li><li>'ctrx_quarter'</li><li>'Master_status'</li><li>'Master_fechaalta'</li><li>'Master_mpagominimo'</li><li>'Visa_status'</li><li>'Visa_fechaalta'</li><li>'Visa_mpagominimo'</li><li>'clase_ternaria'</li><li>'kmes'</li><li>'mpayroll_sobre_edad'</li></ol>\n"
      ],
      "text/latex": [
       "\\begin{enumerate*}\n",
       "\\item 'numero\\_de\\_cliente'\n",
       "\\item 'foto\\_mes'\n",
       "\\item 'internet'\n",
       "\\item 'cliente\\_edad'\n",
       "\\item 'cliente\\_antiguedad'\n",
       "\\item 'mrentabilidad'\n",
       "\\item 'mrentabilidad\\_annual'\n",
       "\\item 'mcomisiones'\n",
       "\\item 'mactivos\\_margen'\n",
       "\\item 'mpasivos\\_margen'\n",
       "\\item 'cproductos'\n",
       "\\item 'mcuenta\\_corriente'\n",
       "\\item 'mcaja\\_ahorro'\n",
       "\\item 'cdescubierto\\_preacordado'\n",
       "\\item 'mcuentas\\_saldo'\n",
       "\\item 'ctarjeta\\_visa\\_transacciones'\n",
       "\\item 'mtarjeta\\_visa\\_consumo'\n",
       "\\item 'mtarjeta\\_master\\_consumo'\n",
       "\\item 'mprestamos\\_personales'\n",
       "\\item 'cpayroll\\_trx'\n",
       "\\item 'mpayroll'\n",
       "\\item 'ccomisiones\\_mantenimiento'\n",
       "\\item 'ccallcenter\\_transacciones'\n",
       "\\item 'chomebanking\\_transacciones'\n",
       "\\item 'ctrx\\_quarter'\n",
       "\\item 'Master\\_status'\n",
       "\\item 'Master\\_fechaalta'\n",
       "\\item 'Master\\_mpagominimo'\n",
       "\\item 'Visa\\_status'\n",
       "\\item 'Visa\\_fechaalta'\n",
       "\\item 'Visa\\_mpagominimo'\n",
       "\\item 'clase\\_ternaria'\n",
       "\\item 'kmes'\n",
       "\\item 'mpayroll\\_sobre\\_edad'\n",
       "\\end{enumerate*}\n"
      ],
      "text/markdown": [
       "1. 'numero_de_cliente'\n",
       "2. 'foto_mes'\n",
       "3. 'internet'\n",
       "4. 'cliente_edad'\n",
       "5. 'cliente_antiguedad'\n",
       "6. 'mrentabilidad'\n",
       "7. 'mrentabilidad_annual'\n",
       "8. 'mcomisiones'\n",
       "9. 'mactivos_margen'\n",
       "10. 'mpasivos_margen'\n",
       "11. 'cproductos'\n",
       "12. 'mcuenta_corriente'\n",
       "13. 'mcaja_ahorro'\n",
       "14. 'cdescubierto_preacordado'\n",
       "15. 'mcuentas_saldo'\n",
       "16. 'ctarjeta_visa_transacciones'\n",
       "17. 'mtarjeta_visa_consumo'\n",
       "18. 'mtarjeta_master_consumo'\n",
       "19. 'mprestamos_personales'\n",
       "20. 'cpayroll_trx'\n",
       "21. 'mpayroll'\n",
       "22. 'ccomisiones_mantenimiento'\n",
       "23. 'ccallcenter_transacciones'\n",
       "24. 'chomebanking_transacciones'\n",
       "25. 'ctrx_quarter'\n",
       "26. 'Master_status'\n",
       "27. 'Master_fechaalta'\n",
       "28. 'Master_mpagominimo'\n",
       "29. 'Visa_status'\n",
       "30. 'Visa_fechaalta'\n",
       "31. 'Visa_mpagominimo'\n",
       "32. 'clase_ternaria'\n",
       "33. 'kmes'\n",
       "34. 'mpayroll_sobre_edad'\n",
       "\n",
       "\n"
      ],
      "text/plain": [
       " [1] \"numero_de_cliente\"           \"foto_mes\"                   \n",
       " [3] \"internet\"                    \"cliente_edad\"               \n",
       " [5] \"cliente_antiguedad\"          \"mrentabilidad\"              \n",
       " [7] \"mrentabilidad_annual\"        \"mcomisiones\"                \n",
       " [9] \"mactivos_margen\"             \"mpasivos_margen\"            \n",
       "[11] \"cproductos\"                  \"mcuenta_corriente\"          \n",
       "[13] \"mcaja_ahorro\"                \"cdescubierto_preacordado\"   \n",
       "[15] \"mcuentas_saldo\"              \"ctarjeta_visa_transacciones\"\n",
       "[17] \"mtarjeta_visa_consumo\"       \"mtarjeta_master_consumo\"    \n",
       "[19] \"mprestamos_personales\"       \"cpayroll_trx\"               \n",
       "[21] \"mpayroll\"                    \"ccomisiones_mantenimiento\"  \n",
       "[23] \"ccallcenter_transacciones\"   \"chomebanking_transacciones\" \n",
       "[25] \"ctrx_quarter\"                \"Master_status\"              \n",
       "[27] \"Master_fechaalta\"            \"Master_mpagominimo\"         \n",
       "[29] \"Visa_status\"                 \"Visa_fechaalta\"             \n",
       "[31] \"Visa_mpagominimo\"            \"clase_ternaria\"             \n",
       "[33] \"kmes\"                        \"mpayroll_sobre_edad\"        "
      ]
     },
     "metadata": {},
     "output_type": "display_data"
    }
   ],
   "source": [
    "colnames(dataset)"
   ]
  },
  {
   "cell_type": "markdown",
   "id": "ad488674-e40f-4d22-888e-da035f96400b",
   "metadata": {
    "id": "ad488674-e40f-4d22-888e-da035f96400b"
   },
   "source": [
    "#### 9.7.1.3  FE_intra_manual Feature Engineering intra-mes\n",
    "\n",
    "Agrego campos nuevos dentro del mismo mes, SIN considerar la historia."
   ]
  },
  {
   "cell_type": "code",
   "execution_count": 62,
   "id": "43cc3f1f-8b3d-41bd-bcfc-c7d5660f0d28",
   "metadata": {
    "colab": {
     "base_uri": "https://localhost:8080/"
    },
    "id": "43cc3f1f-8b3d-41bd-bcfc-c7d5660f0d28",
    "outputId": "fa09e004-f8e1-48cc-94a3-bf8fde4a1de5",
    "vscode": {
     "languageId": "r"
    }
   },
   "outputs": [],
   "source": [
    "if( !require(\"lubridate\")) install.packages(\"lubridate\", repos = \"http://cran.us.r-project.org\")\n",
    "require(\"lubridate\")"
   ]
  },
  {
   "cell_type": "code",
   "execution_count": 63,
   "id": "3a2ebc99-0b40-420d-a579-9028cbda0081",
   "metadata": {
    "id": "3a2ebc99-0b40-420d-a579-9028cbda0081",
    "vscode": {
     "languageId": "r"
    }
   },
   "outputs": [],
   "source": [
    "# esta funcion atributos presentes existe debido a que las modalidades poseen datasets con distinta cantidad de campos\n",
    "atributos_presentes <- function(patributos)\n",
    "{\n",
    "  atributos <- unique(patributos)\n",
    "  comun <- intersect(atributos, colnames(dataset))\n",
    "\n",
    "  return( length(atributos) == length(comun))\n",
    "}"
   ]
  },
  {
   "cell_type": "code",
   "execution_count": 64,
   "id": "992d12ec-1da3-4aa5-923c-10b222e7b8d7",
   "metadata": {
    "id": "992d12ec-1da3-4aa5-923c-10b222e7b8d7",
    "vscode": {
     "languageId": "r"
    }
   },
   "outputs": [],
   "source": [
    "# Esta es la parte que los alumnos deben desplegar todo su ingenio\n",
    "# Agregar aqui sus PROPIAS VARIABLES manuales\n",
    "\n",
    "AgregarVariables_IntraMes <- function(dataset) {\n",
    "  cat( \"inicio AgregarVariables_IntraMes()\\n\")\n",
    "  gc(verbose= FALSE)\n",
    "  # INICIO de la seccion donde se deben hacer cambios con variables nuevas\n",
    "\n",
    "  # el mes 1,2, ..12\n",
    "  if( atributos_presentes( c(\"foto_mes\") ))\n",
    "    dataset[, kmes := foto_mes %% 100]\n",
    "\n",
    "  # creo un ctr_quarter que tenga en cuenta cuando\n",
    "  # los clientes hace 3 menos meses que estan\n",
    "  # ya que seria injusto considerar las transacciones medidas en menor tiempo\n",
    "  if( atributos_presentes( c(\"ctrx_quarter\") ))\n",
    "    dataset[, ctrx_quarter_normalizado := as.numeric(ctrx_quarter) ]\n",
    "\n",
    "  if( atributos_presentes( c(\"ctrx_quarter\", \"cliente_antiguedad\") ))\n",
    "    dataset[cliente_antiguedad == 1, ctrx_quarter_normalizado := ctrx_quarter * 5]\n",
    "\n",
    "  if( atributos_presentes( c(\"ctrx_quarter\", \"cliente_antiguedad\") ))\n",
    "    dataset[cliente_antiguedad == 2, ctrx_quarter_normalizado := ctrx_quarter * 2]\n",
    "\n",
    "  if( atributos_presentes( c(\"ctrx_quarter\", \"cliente_antiguedad\") ))\n",
    "    dataset[\n",
    "      cliente_antiguedad == 3,\n",
    "      ctrx_quarter_normalizado := ctrx_quarter * 1.2\n",
    "    ]\n",
    "\n",
    "   if(atributos_presentes(c(\"foto_mes\")))\n",
    "    dataset[,foto_mes_formato_fecha := as.Date(paste(substr(dataset$foto_mes,1,4),substr(dataset$foto_mes,5,6),\"01\",sep='-'))]\n",
    "\n",
    "  #dataset$foto_mes_formato_fecha <<- as.Date(paste(substr(dataset$foto_mes,1,4),substr(dataset$foto_mes,5,6),\"01\",sep='-'))\n",
    "\n",
    "  if(atributos_presentes(c(\"cantidad_total_transacciones\"))){\n",
    "   auxiliarmenos1 <- dataset[,list(numero_de_cliente,foto_mes_formato_fecha, cantidad_total_transacciones)]\n",
    "   auxiliarmenos2 <- dataset[,list(numero_de_cliente,foto_mes_formato_fecha,cantidad_total_transacciones)]\n",
    "   # auxiliarmenos1$foto_mes_formato_fecha <- as.Date(auxiliarmenos1$foto_mes_formato_fecha)\n",
    "   # auxiliarmenos2$foto_mes_formato_fecha <- as.Date(auxiliarmenos2$foto_mes_formato_fecha)\n",
    "   auxiliarmenos1$foto_mes_formato_fecha <- auxiliarmenos1$foto_mes_formato_fecha  %m-%  months(1)\n",
    "   auxiliarmenos2$foto_mes_formato_fecha <- auxiliarmenos2$foto_mes_formato_fecha %m-% months(2)\n",
    "   auxiliarmenos1$codigo <- paste(auxiliarmenos1$numero_de_cliente,auxiliarmenos1$foto_mes_formato_fecha,sep='-')\n",
    "   auxiliarmenos2$codigo <- paste(auxiliarmenos2$numero_de_cliente,auxiliarmenos2$foto_mes_formato_fecha,sep='-')\n",
    "\n",
    "   dataset[, codigo := paste(numero_de_cliente, foto_mes_formato_fecha, sep='-') ]\n",
    "\n",
    "   dataset[ auxiliarmenos1,\n",
    "            on = \"codigo\",\n",
    "            transaccionesmenos1 := i.cantidad_total_transacciones ]\n",
    "\n",
    "   dataset[ auxiliarmenos2,\n",
    "            on = \"codigo\",\n",
    "            transaccionesmenos2 := i.cantidad_total_transacciones ]\n",
    "\n",
    "   dataset[, cantidad_total_transacciones_quarter := rowSums(cbind(cantidad_total_transacciones +\n",
    "    transaccionesmenos1 + transaccionesmenos2),na.rm=T) ]\n",
    "\n",
    "   dataset[, codigo := NULL ]\n",
    "   dataset[, transaccionesmenos1 := NULL ]\n",
    "   dataset[, transaccionesmenos2 := NULL ]\n",
    "   dataset[, foto_mes_formato_fecha := NULL ]\n",
    "   rm(auxiliarmenos1)\n",
    "   rm(auxiliarmenos2)\n",
    "  }\n",
    "\n",
    "  if( atributos_presentes( c(\"cantidad_total_transacciones_quarter\") ))\n",
    "    dataset[, cantidad_total_transacciones_quarter_normalizado := cantidad_total_transacciones_quarter]\n",
    "\n",
    "  if( atributos_presentes( c(\"cantidad_total_transacciones_quarter\", \"cliente_antiguedad\") ))\n",
    "    dataset[cliente_antiguedad == 1, cantidad_total_transacciones_quarter_normalizado := cantidad_total_transacciones_quarter * 5]\n",
    "\n",
    "  if( atributos_presentes( c(\"cantidad_total_transacciones_quarter\", \"cliente_antiguedad\") ))\n",
    "    dataset[cliente_antiguedad == 2, cantidad_total_transacciones_quarter_normalizado := cantidad_total_transacciones_quarter * 2]\n",
    "\n",
    "  if( atributos_presentes( c(\"cantidad_total_transacciones_quarter\", \"cliente_antiguedad\") ))\n",
    "    dataset[cliente_antiguedad == 3, cantidad_total_transacciones_quarter_normalizado := cantidad_total_transacciones_quarter * 1.2]\n",
    "\n",
    "  # variable extraida de una tesis de maestria de Irlanda\n",
    "  if( atributos_presentes( c(\"mpayroll\", \"cliente_edad\") ))\n",
    "    dataset[, mpayroll_sobre_edad := mpayroll / cliente_edad]\n",
    "\n",
    "  # se crean los nuevos campos para MasterCard  y Visa,\n",
    "  #  teniendo en cuenta los NA's\n",
    "  # varias formas de combinar Visa_status y Master_status\n",
    "  if( atributos_presentes( c(\"Master_status\", \"Visa_status\") ))\n",
    "  {\n",
    "    dataset[, vm_status01 := pmax(Master_status, Visa_status, na.rm = TRUE)]\n",
    "    dataset[, vm_status02 := Master_status + Visa_status]\n",
    "\n",
    "    dataset[, vm_status03 := pmax(\n",
    "      ifelse(is.na(Master_status), 10, Master_status),\n",
    "      ifelse(is.na(Visa_status), 10, Visa_status)\n",
    "    )]\n",
    "\n",
    "    dataset[, vm_status04 := ifelse(is.na(Master_status), 10, Master_status)\n",
    "      + ifelse(is.na(Visa_status), 10, Visa_status)]\n",
    "\n",
    "    dataset[, vm_status05 := ifelse(is.na(Master_status), 10, Master_status)\n",
    "      + 100 * ifelse(is.na(Visa_status), 10, Visa_status)]\n",
    "\n",
    "    dataset[, vm_status06 := ifelse(is.na(Visa_status),\n",
    "      ifelse(is.na(Master_status), 10, Master_status),\n",
    "      Visa_status\n",
    "    )]\n",
    "\n",
    "    dataset[, mv_status07 := ifelse(is.na(Master_status),\n",
    "      ifelse(is.na(Visa_status), 10, Visa_status),\n",
    "      Master_status\n",
    "    )]\n",
    "  }\n",
    "\n",
    "\n",
    "  # combino MasterCard y Visa\n",
    "  if( atributos_presentes( c(\"Master_mfinanciacion_limite\", \"Visa_mfinanciacion_limite\") ))\n",
    "    dataset[, vm_mfinanciacion_limite := rowSums(cbind(Master_mfinanciacion_limite, Visa_mfinanciacion_limite), na.rm = TRUE)]\n",
    "\n",
    "  if( atributos_presentes( c(\"Master_Fvencimiento\", \"Visa_Fvencimiento\") ))\n",
    "    dataset[, vm_Fvencimiento := pmin(Master_Fvencimiento, Visa_Fvencimiento, na.rm = TRUE)]\n",
    "\n",
    "  if( atributos_presentes( c(\"Master_Finiciomora\", \"Visa_Finiciomora\") ))\n",
    "    dataset[, vm_Finiciomora := pmin(Master_Finiciomora, Visa_Finiciomora, na.rm = TRUE)]\n",
    "\n",
    "  if( atributos_presentes( c(\"Master_msaldototal\", \"Visa_msaldototal\") ))\n",
    "    dataset[, vm_msaldototal := rowSums(cbind(Master_msaldototal, Visa_msaldototal), na.rm = TRUE)]\n",
    "\n",
    "  if( atributos_presentes( c(\"Master_msaldopesos\", \"Visa_msaldopesos\") ))\n",
    "    dataset[, vm_msaldopesos := rowSums(cbind(Master_msaldopesos, Visa_msaldopesos), na.rm = TRUE)]\n",
    "\n",
    "  if( atributos_presentes( c(\"Master_msaldodolares\", \"Visa_msaldodolares\") ))\n",
    "    dataset[, vm_msaldodolares := rowSums(cbind(Master_msaldodolares, Visa_msaldodolares), na.rm = TRUE)]\n",
    "\n",
    "  if( atributos_presentes( c(\"Master_mconsumospesos\", \"Visa_mconsumospesos\") ))\n",
    "    dataset[, vm_mconsumospesos := rowSums(cbind(Master_mconsumospesos, Visa_mconsumospesos), na.rm = TRUE)]\n",
    "\n",
    "  if( atributos_presentes( c(\"Master_mconsumosdolares\", \"Visa_mconsumosdolares\") ))\n",
    "    dataset[, vm_mconsumosdolares := rowSums(cbind(Master_mconsumosdolares, Visa_mconsumosdolares), na.rm = TRUE)]\n",
    "\n",
    "  if( atributos_presentes( c(\"Master_mlimitecompra\", \"Visa_mlimitecompra\") ))\n",
    "    dataset[, vm_mlimitecompra := rowSums(cbind(Master_mlimitecompra, Visa_mlimitecompra), na.rm = TRUE)]\n",
    "\n",
    "  if( atributos_presentes( c(\"Master_madelantopesos\", \"Visa_madelantopesos\") ))\n",
    "    dataset[, vm_madelantopesos := rowSums(cbind(Master_madelantopesos, Visa_madelantopesos), na.rm = TRUE)]\n",
    "\n",
    "  if( atributos_presentes( c(\"Master_madelantodolares\", \"Visa_madelantodolares\") ))\n",
    "    dataset[, vm_madelantodolares := rowSums(cbind(Master_madelantodolares, Visa_madelantodolares), na.rm = TRUE)]\n",
    "\n",
    "  if( atributos_presentes( c(\"Master_fultimo_cierre\", \"Visa_fultimo_cierre\") ))\n",
    "    dataset[, vm_fultimo_cierre := pmax(Master_fultimo_cierre, Visa_fultimo_cierre, na.rm = TRUE)]\n",
    "\n",
    "  if( atributos_presentes( c(\"Master_mpagado\", \"Visa_mpagado\") ))\n",
    "    dataset[, vm_mpagado := rowSums(cbind(Master_mpagado, Visa_mpagado), na.rm = TRUE)]\n",
    "\n",
    "  if( atributos_presentes( c(\"Master_mpagospesos\", \"Visa_mpagospesos\") ))\n",
    "    dataset[, vm_mpagospesos := rowSums(cbind(Master_mpagospesos, Visa_mpagospesos), na.rm = TRUE)]\n",
    "\n",
    "  if( atributos_presentes( c(\"Master_mpagosdolares\", \"Visa_mpagosdolares\") ))\n",
    "    dataset[, vm_mpagosdolares := rowSums(cbind(Master_mpagosdolares, Visa_mpagosdolares), na.rm = TRUE)]\n",
    "\n",
    "  if( atributos_presentes( c(\"Master_fechaalta\", \"Visa_fechaalta\") ))\n",
    "    dataset[, vm_fechaalta := pmax(Master_fechaalta, Visa_fechaalta, na.rm = TRUE)]\n",
    "\n",
    "  if( atributos_presentes( c(\"Master_mconsumototal\", \"Visa_mconsumototal\") ))\n",
    "    dataset[, vm_mconsumototal := rowSums(cbind(Master_mconsumototal, Visa_mconsumototal), na.rm = TRUE)]\n",
    "\n",
    "  if( atributos_presentes( c(\"Master_cconsumos\", \"Visa_cconsumos\") ))\n",
    "    dataset[, vm_cconsumos := rowSums(cbind(Master_cconsumos, Visa_cconsumos), na.rm = TRUE)]\n",
    "\n",
    "  if( atributos_presentes( c(\"Master_cadelantosefectivo\", \"Visa_cadelantosefectivo\") ))\n",
    "    dataset[, vm_cadelantosefectivo := rowSums(cbind(Master_cadelantosefectivo, Visa_cadelantosefectivo), na.rm = TRUE)]\n",
    "\n",
    "  if( atributos_presentes( c(\"Master_mpagominimo\", \"Visa_mpagominimo\") ))\n",
    "    dataset[, vm_mpagominimo := rowSums(cbind(Master_mpagominimo, Visa_mpagominimo), na.rm = TRUE)]\n",
    "\n",
    "  # a partir de aqui juego con la suma de Mastercard y Visa\n",
    "  if( atributos_presentes( c(\"Master_mlimitecompra\", \"vm_mlimitecompra\") ))\n",
    "    dataset[, vmr_Master_mlimitecompra := Master_mlimitecompra / vm_mlimitecompra]\n",
    "\n",
    "  if( atributos_presentes( c(\"Visa_mlimitecompra\", \"vm_mlimitecompra\") ))\n",
    "    dataset[, vmr_Visa_mlimitecompra := Visa_mlimitecompra / vm_mlimitecompra]\n",
    "\n",
    "  if( atributos_presentes( c(\"vm_msaldototal\", \"vm_mlimitecompra\") ))\n",
    "    dataset[, vmr_msaldototal := vm_msaldototal / vm_mlimitecompra]\n",
    "\n",
    "  if( atributos_presentes( c(\"vm_msaldopesos\", \"vm_mlimitecompra\") ))\n",
    "    dataset[, vmr_msaldopesos := vm_msaldopesos / vm_mlimitecompra]\n",
    "\n",
    "  if( atributos_presentes( c(\"vm_msaldopesos\", \"vm_msaldototal\") ))\n",
    "    dataset[, vmr_msaldopesos2 := vm_msaldopesos / vm_msaldototal]\n",
    "\n",
    "  if( atributos_presentes( c(\"vm_msaldodolares\", \"vm_mlimitecompra\") ))\n",
    "    dataset[, vmr_msaldodolares := vm_msaldodolares / vm_mlimitecompra]\n",
    "\n",
    "  if( atributos_presentes( c(\"vm_msaldodolares\", \"vm_msaldototal\") ))\n",
    "    dataset[, vmr_msaldodolares2 := vm_msaldodolares / vm_msaldototal]\n",
    "\n",
    "  if( atributos_presentes( c(\"vm_mconsumospesos\", \"vm_mlimitecompra\") ))\n",
    "    dataset[, vmr_mconsumospesos := vm_mconsumospesos / vm_mlimitecompra]\n",
    "\n",
    "  if( atributos_presentes( c(\"vm_mconsumosdolares\", \"vm_mlimitecompra\") ))\n",
    "    dataset[, vmr_mconsumosdolares := vm_mconsumosdolares / vm_mlimitecompra]\n",
    "\n",
    "  if( atributos_presentes( c(\"vm_madelantopesos\", \"vm_mlimitecompra\") ))\n",
    "    dataset[, vmr_madelantopesos := vm_madelantopesos / vm_mlimitecompra]\n",
    "\n",
    "  if( atributos_presentes( c(\"vm_madelantodolares\", \"vm_mlimitecompra\") ))\n",
    "    dataset[, vmr_madelantodolares := vm_madelantodolares / vm_mlimitecompra]\n",
    "\n",
    "  if( atributos_presentes( c(\"vm_mpagado\", \"vm_mlimitecompra\") ))\n",
    "    dataset[, vmr_mpagado := vm_mpagado / vm_mlimitecompra]\n",
    "\n",
    "  if( atributos_presentes( c(\"vm_mpagospesos\", \"vm_mlimitecompra\") ))\n",
    "    dataset[, vmr_mpagospesos := vm_mpagospesos / vm_mlimitecompra]\n",
    "\n",
    "  if( atributos_presentes( c(\"vm_mpagosdolares\", \"vm_mlimitecompra\") ))\n",
    "    dataset[, vmr_mpagosdolares := vm_mpagosdolares / vm_mlimitecompra]\n",
    "\n",
    "  if( atributos_presentes( c(\"vm_mconsumototal\", \"vm_mlimitecompra\") ))\n",
    "    dataset[, vmr_mconsumototal := vm_mconsumototal / vm_mlimitecompra]\n",
    "\n",
    "  if( atributos_presentes( c(\"vm_mpagominimo\", \"vm_mlimitecompra\") ))\n",
    "    dataset[, vmr_mpagominimo := vm_mpagominimo / vm_mlimitecompra]\n",
    "\n",
    "  # Aqui debe usted agregar sus propias nuevas variables\n",
    "\n",
    "  # valvula de seguridad para evitar valores infinitos\n",
    "  # paso los infinitos a NULOS\n",
    "  infinitos <- lapply(\n",
    "    names(dataset),\n",
    "    function(.name) dataset[, sum(is.infinite(get(.name)))]\n",
    "  )\n",
    "\n",
    "  infinitos_qty <- sum(unlist(infinitos))\n",
    "  if (infinitos_qty > 0) {\n",
    "    cat(\n",
    "      \"ATENCION, hay\", infinitos_qty,\n",
    "      \"valores infinitos en tu dataset. Seran pasados a NA\\n\"\n",
    "    )\n",
    "\n",
    "    dataset[mapply(is.infinite, dataset)] <<- NA\n",
    "  }\n",
    "\n",
    "\n",
    "  # valvula de seguridad para evitar valores NaN  que es 0/0\n",
    "  # paso los NaN a 0 , decision polemica si las hay\n",
    "  # se invita a asignar un valor razonable segun la semantica del campo creado\n",
    "  nans <- lapply(\n",
    "    names(dataset),\n",
    "    function(.name) dataset[, sum(is.nan(get(.name)))]\n",
    "  )\n",
    "\n",
    "  nans_qty <- sum(unlist(nans))\n",
    "  if (nans_qty > 0) {\n",
    "    cat(\n",
    "      \"ATENCION, hay\", nans_qty,\n",
    "      \"valores NaN 0/0 en tu dataset. Seran pasados arbitrariamente a 0\\n\"\n",
    "    )\n",
    "\n",
    "\n",
    "    cat(\"Si no te gusta la decision, modifica a gusto el programa!\\n\\n\")\n",
    "\n",
    "\n",
    "    dataset[mapply(is.nan, dataset)] <<- 0\n",
    "  }\n",
    "\n",
    "  cat( \"fin AgregarVariables_IntraMes()\\n\")\n",
    "}\n"
   ]
  },
  {
   "cell_type": "code",
   "execution_count": 65,
   "id": "cdb58021-2324-4171-9555-12f3563f66f3",
   "metadata": {
    "colab": {
     "base_uri": "https://localhost:8080/"
    },
    "id": "cdb58021-2324-4171-9555-12f3563f66f3",
    "outputId": "0f72eed4-d9f8-4f93-c56a-8428e10a7b63",
    "vscode": {
     "languageId": "r"
    }
   },
   "outputs": [
    {
     "name": "stdout",
     "output_type": "stream",
     "text": [
      "inicio AgregarVariables_IntraMes()\n",
      "ATENCION, hay 8 valores NaN 0/0 en tu dataset. Seran pasados arbitrariamente a 0\n",
      "Si no te gusta la decision, modifica a gusto el programa!\n",
      "\n",
      "fin AgregarVariables_IntraMes()\n"
     ]
    }
   ],
   "source": [
    "# agrego las variables intra mes\n",
    "AgregarVariables_IntraMes(dataset)"
   ]
  },
  {
   "cell_type": "code",
   "execution_count": 66,
   "id": "c1727052-62de-409a-9475-5e0b6a197f3d",
   "metadata": {
    "colab": {
     "base_uri": "https://localhost:8080/",
     "height": 191
    },
    "id": "c1727052-62de-409a-9475-5e0b6a197f3d",
    "outputId": "a7530454-3ecf-483f-d57b-d9ef2651c89d",
    "vscode": {
     "languageId": "r"
    }
   },
   "outputs": [
    {
     "data": {
      "text/html": [
       "45"
      ],
      "text/latex": [
       "45"
      ],
      "text/markdown": [
       "45"
      ],
      "text/plain": [
       "[1] 45"
      ]
     },
     "metadata": {},
     "output_type": "display_data"
    },
    {
     "data": {
      "text/html": [
       "<style>\n",
       ".list-inline {list-style: none; margin:0; padding: 0}\n",
       ".list-inline>li {display: inline-block}\n",
       ".list-inline>li:not(:last-child)::after {content: \"\\00b7\"; padding: 0 .5ex}\n",
       "</style>\n",
       "<ol class=list-inline><li>'numero_de_cliente'</li><li>'foto_mes'</li><li>'internet'</li><li>'cliente_edad'</li><li>'cliente_antiguedad'</li><li>'mrentabilidad'</li><li>'mrentabilidad_annual'</li><li>'mcomisiones'</li><li>'mactivos_margen'</li><li>'mpasivos_margen'</li><li>'cproductos'</li><li>'mcuenta_corriente'</li><li>'mcaja_ahorro'</li><li>'cdescubierto_preacordado'</li><li>'mcuentas_saldo'</li><li>'ctarjeta_visa_transacciones'</li><li>'mtarjeta_visa_consumo'</li><li>'mtarjeta_master_consumo'</li><li>'mprestamos_personales'</li><li>'cpayroll_trx'</li><li>'mpayroll'</li><li>'ccomisiones_mantenimiento'</li><li>'ccallcenter_transacciones'</li><li>'chomebanking_transacciones'</li><li>'ctrx_quarter'</li><li>'Master_status'</li><li>'Master_fechaalta'</li><li>'Master_mpagominimo'</li><li>'Visa_status'</li><li>'Visa_fechaalta'</li><li>'Visa_mpagominimo'</li><li>'clase_ternaria'</li><li>'kmes'</li><li>'mpayroll_sobre_edad'</li><li>'ctrx_quarter_normalizado'</li><li>'foto_mes_formato_fecha'</li><li>'vm_status01'</li><li>'vm_status02'</li><li>'vm_status03'</li><li>'vm_status04'</li><li>'vm_status05'</li><li>'vm_status06'</li><li>'mv_status07'</li><li>'vm_fechaalta'</li><li>'vm_mpagominimo'</li></ol>\n"
      ],
      "text/latex": [
       "\\begin{enumerate*}\n",
       "\\item 'numero\\_de\\_cliente'\n",
       "\\item 'foto\\_mes'\n",
       "\\item 'internet'\n",
       "\\item 'cliente\\_edad'\n",
       "\\item 'cliente\\_antiguedad'\n",
       "\\item 'mrentabilidad'\n",
       "\\item 'mrentabilidad\\_annual'\n",
       "\\item 'mcomisiones'\n",
       "\\item 'mactivos\\_margen'\n",
       "\\item 'mpasivos\\_margen'\n",
       "\\item 'cproductos'\n",
       "\\item 'mcuenta\\_corriente'\n",
       "\\item 'mcaja\\_ahorro'\n",
       "\\item 'cdescubierto\\_preacordado'\n",
       "\\item 'mcuentas\\_saldo'\n",
       "\\item 'ctarjeta\\_visa\\_transacciones'\n",
       "\\item 'mtarjeta\\_visa\\_consumo'\n",
       "\\item 'mtarjeta\\_master\\_consumo'\n",
       "\\item 'mprestamos\\_personales'\n",
       "\\item 'cpayroll\\_trx'\n",
       "\\item 'mpayroll'\n",
       "\\item 'ccomisiones\\_mantenimiento'\n",
       "\\item 'ccallcenter\\_transacciones'\n",
       "\\item 'chomebanking\\_transacciones'\n",
       "\\item 'ctrx\\_quarter'\n",
       "\\item 'Master\\_status'\n",
       "\\item 'Master\\_fechaalta'\n",
       "\\item 'Master\\_mpagominimo'\n",
       "\\item 'Visa\\_status'\n",
       "\\item 'Visa\\_fechaalta'\n",
       "\\item 'Visa\\_mpagominimo'\n",
       "\\item 'clase\\_ternaria'\n",
       "\\item 'kmes'\n",
       "\\item 'mpayroll\\_sobre\\_edad'\n",
       "\\item 'ctrx\\_quarter\\_normalizado'\n",
       "\\item 'foto\\_mes\\_formato\\_fecha'\n",
       "\\item 'vm\\_status01'\n",
       "\\item 'vm\\_status02'\n",
       "\\item 'vm\\_status03'\n",
       "\\item 'vm\\_status04'\n",
       "\\item 'vm\\_status05'\n",
       "\\item 'vm\\_status06'\n",
       "\\item 'mv\\_status07'\n",
       "\\item 'vm\\_fechaalta'\n",
       "\\item 'vm\\_mpagominimo'\n",
       "\\end{enumerate*}\n"
      ],
      "text/markdown": [
       "1. 'numero_de_cliente'\n",
       "2. 'foto_mes'\n",
       "3. 'internet'\n",
       "4. 'cliente_edad'\n",
       "5. 'cliente_antiguedad'\n",
       "6. 'mrentabilidad'\n",
       "7. 'mrentabilidad_annual'\n",
       "8. 'mcomisiones'\n",
       "9. 'mactivos_margen'\n",
       "10. 'mpasivos_margen'\n",
       "11. 'cproductos'\n",
       "12. 'mcuenta_corriente'\n",
       "13. 'mcaja_ahorro'\n",
       "14. 'cdescubierto_preacordado'\n",
       "15. 'mcuentas_saldo'\n",
       "16. 'ctarjeta_visa_transacciones'\n",
       "17. 'mtarjeta_visa_consumo'\n",
       "18. 'mtarjeta_master_consumo'\n",
       "19. 'mprestamos_personales'\n",
       "20. 'cpayroll_trx'\n",
       "21. 'mpayroll'\n",
       "22. 'ccomisiones_mantenimiento'\n",
       "23. 'ccallcenter_transacciones'\n",
       "24. 'chomebanking_transacciones'\n",
       "25. 'ctrx_quarter'\n",
       "26. 'Master_status'\n",
       "27. 'Master_fechaalta'\n",
       "28. 'Master_mpagominimo'\n",
       "29. 'Visa_status'\n",
       "30. 'Visa_fechaalta'\n",
       "31. 'Visa_mpagominimo'\n",
       "32. 'clase_ternaria'\n",
       "33. 'kmes'\n",
       "34. 'mpayroll_sobre_edad'\n",
       "35. 'ctrx_quarter_normalizado'\n",
       "36. 'foto_mes_formato_fecha'\n",
       "37. 'vm_status01'\n",
       "38. 'vm_status02'\n",
       "39. 'vm_status03'\n",
       "40. 'vm_status04'\n",
       "41. 'vm_status05'\n",
       "42. 'vm_status06'\n",
       "43. 'mv_status07'\n",
       "44. 'vm_fechaalta'\n",
       "45. 'vm_mpagominimo'\n",
       "\n",
       "\n"
      ],
      "text/plain": [
       " [1] \"numero_de_cliente\"           \"foto_mes\"                   \n",
       " [3] \"internet\"                    \"cliente_edad\"               \n",
       " [5] \"cliente_antiguedad\"          \"mrentabilidad\"              \n",
       " [7] \"mrentabilidad_annual\"        \"mcomisiones\"                \n",
       " [9] \"mactivos_margen\"             \"mpasivos_margen\"            \n",
       "[11] \"cproductos\"                  \"mcuenta_corriente\"          \n",
       "[13] \"mcaja_ahorro\"                \"cdescubierto_preacordado\"   \n",
       "[15] \"mcuentas_saldo\"              \"ctarjeta_visa_transacciones\"\n",
       "[17] \"mtarjeta_visa_consumo\"       \"mtarjeta_master_consumo\"    \n",
       "[19] \"mprestamos_personales\"       \"cpayroll_trx\"               \n",
       "[21] \"mpayroll\"                    \"ccomisiones_mantenimiento\"  \n",
       "[23] \"ccallcenter_transacciones\"   \"chomebanking_transacciones\" \n",
       "[25] \"ctrx_quarter\"                \"Master_status\"              \n",
       "[27] \"Master_fechaalta\"            \"Master_mpagominimo\"         \n",
       "[29] \"Visa_status\"                 \"Visa_fechaalta\"             \n",
       "[31] \"Visa_mpagominimo\"            \"clase_ternaria\"             \n",
       "[33] \"kmes\"                        \"mpayroll_sobre_edad\"        \n",
       "[35] \"ctrx_quarter_normalizado\"    \"foto_mes_formato_fecha\"     \n",
       "[37] \"vm_status01\"                 \"vm_status02\"                \n",
       "[39] \"vm_status03\"                 \"vm_status04\"                \n",
       "[41] \"vm_status05\"                 \"vm_status06\"                \n",
       "[43] \"mv_status07\"                 \"vm_fechaalta\"               \n",
       "[45] \"vm_mpagominimo\"             "
      ]
     },
     "metadata": {},
     "output_type": "display_data"
    }
   ],
   "source": [
    "# visualizo las columas del dataset a esta etapa\n",
    "ncol(dataset)\n",
    "colnames(dataset)\n",
    "\n"
   ]
  },
  {
   "cell_type": "markdown",
   "id": "XaRBjQj8ZRUZ",
   "metadata": {
    "id": "XaRBjQj8ZRUZ"
   },
   "source": [
    "#### 6.3.1.5  FEhist Feature Engineering historico\n",
    "\n",
    "El Fature Engineering Histórico es la etapa que más aporta a la ganancia final, ya que enriquece cada registro del dataset con su historia."
   ]
  },
  {
   "cell_type": "markdown",
   "id": "cfe3b8cf-0707-4512-92e7-c1407bb3f73b",
   "metadata": {
    "id": "cfe3b8cf-0707-4512-92e7-c1407bb3f73b"
   },
   "source": [
    "Para cada campo del dataset original (*)\n",
    "se crean lo siguientes campos de a partir de la historia\n",
    "* lag1  lags de orden 1\n",
    "* delta1  =  valor actual - lag1\n",
    "* lag2  lags de orden 2\n",
    "* delta2  = valor actual - lag2\n",
    "\n",
    "\n",
    "(*) Excepto para los campos  <numero_de_cliente,  foto_mes,  clase_ternaria>"
   ]
  },
  {
   "cell_type": "code",
   "execution_count": 67,
   "id": "7850b948-827d-4a2a-b4d3-a5e459b47c11",
   "metadata": {
    "id": "7850b948-827d-4a2a-b4d3-a5e459b47c11",
    "vscode": {
     "languageId": "r"
    }
   },
   "outputs": [],
   "source": [
    "# Feature Engineering Historico\n",
    "\n",
    "# todo es lagueable, menos la primary key y la clase\n",
    "cols_lagueables <- copy( setdiff(\n",
    "    colnames(dataset),\n",
    "    c(\"numero_de_cliente\", \"foto_mes\", \"clase_ternaria\")\n",
    ") )\n",
    "\n",
    "# https://rdrr.io/cran/data.table/man/shift.html\n",
    "\n",
    "# lags de orden 1\n",
    "dataset[,\n",
    "    paste0(cols_lagueables, \"_lag1\") := shift(.SD, 1, NA, \"lag\"),\n",
    "    by = numero_de_cliente,\n",
    "    .SDcols = cols_lagueables\n",
    "]\n",
    "\n",
    "# lags de orden 2\n",
    "dataset[,\n",
    "    paste0(cols_lagueables, \"_lag2\") := shift(.SD, 2, NA, \"lag\"),\n",
    "    by = numero_de_cliente,\n",
    "    .SDcols = cols_lagueables\n",
    "]\n",
    "\n",
    "# agrego los delta lags\n",
    "for (vcol in cols_lagueables)\n",
    "{\n",
    "    dataset[, paste0(vcol, \"_delta1\") := get(vcol) - get(paste0(vcol, \"_lag1\"))]\n",
    "    dataset[, paste0(vcol, \"_delta2\") := get(vcol) - get(paste0(vcol, \"_lag2\"))]\n",
    "}\n"
   ]
  },
  {
   "cell_type": "markdown",
   "id": "cea690d9-ece9-4852-a5e2-f337c31b6721",
   "metadata": {
    "id": "cea690d9-ece9-4852-a5e2-f337c31b6721"
   },
   "source": [
    "Verificacion de los campos recien creados"
   ]
  },
  {
   "cell_type": "code",
   "execution_count": 68,
   "id": "f772896b-595a-47d4-8905-c15304ac9452",
   "metadata": {
    "colab": {
     "base_uri": "https://localhost:8080/",
     "height": 920
    },
    "id": "f772896b-595a-47d4-8905-c15304ac9452",
    "outputId": "a428e15c-4059-4f40-8bd9-0873e1a431a4",
    "vscode": {
     "languageId": "r"
    }
   },
   "outputs": [
    {
     "data": {
      "text/html": [
       "213"
      ],
      "text/latex": [
       "213"
      ],
      "text/markdown": [
       "213"
      ],
      "text/plain": [
       "[1] 213"
      ]
     },
     "metadata": {},
     "output_type": "display_data"
    },
    {
     "data": {
      "text/html": [
       "<style>\n",
       ".list-inline {list-style: none; margin:0; padding: 0}\n",
       ".list-inline>li {display: inline-block}\n",
       ".list-inline>li:not(:last-child)::after {content: \"\\00b7\"; padding: 0 .5ex}\n",
       "</style>\n",
       "<ol class=list-inline><li>'numero_de_cliente'</li><li>'foto_mes'</li><li>'internet'</li><li>'cliente_edad'</li><li>'cliente_antiguedad'</li><li>'mrentabilidad'</li><li>'mrentabilidad_annual'</li><li>'mcomisiones'</li><li>'mactivos_margen'</li><li>'mpasivos_margen'</li><li>'cproductos'</li><li>'mcuenta_corriente'</li><li>'mcaja_ahorro'</li><li>'cdescubierto_preacordado'</li><li>'mcuentas_saldo'</li><li>'ctarjeta_visa_transacciones'</li><li>'mtarjeta_visa_consumo'</li><li>'mtarjeta_master_consumo'</li><li>'mprestamos_personales'</li><li>'cpayroll_trx'</li><li>'mpayroll'</li><li>'ccomisiones_mantenimiento'</li><li>'ccallcenter_transacciones'</li><li>'chomebanking_transacciones'</li><li>'ctrx_quarter'</li><li>'Master_status'</li><li>'Master_fechaalta'</li><li>'Master_mpagominimo'</li><li>'Visa_status'</li><li>'Visa_fechaalta'</li><li>'Visa_mpagominimo'</li><li>'clase_ternaria'</li><li>'kmes'</li><li>'mpayroll_sobre_edad'</li><li>'ctrx_quarter_normalizado'</li><li>'foto_mes_formato_fecha'</li><li>'vm_status01'</li><li>'vm_status02'</li><li>'vm_status03'</li><li>'vm_status04'</li><li>'vm_status05'</li><li>'vm_status06'</li><li>'mv_status07'</li><li>'vm_fechaalta'</li><li>'vm_mpagominimo'</li><li>'internet_lag1'</li><li>'cliente_edad_lag1'</li><li>'cliente_antiguedad_lag1'</li><li>'mrentabilidad_lag1'</li><li>'mrentabilidad_annual_lag1'</li><li>'mcomisiones_lag1'</li><li>'mactivos_margen_lag1'</li><li>'mpasivos_margen_lag1'</li><li>'cproductos_lag1'</li><li>'mcuenta_corriente_lag1'</li><li>'mcaja_ahorro_lag1'</li><li>'cdescubierto_preacordado_lag1'</li><li>'mcuentas_saldo_lag1'</li><li>'ctarjeta_visa_transacciones_lag1'</li><li>'mtarjeta_visa_consumo_lag1'</li><li>'mtarjeta_master_consumo_lag1'</li><li>'mprestamos_personales_lag1'</li><li>'cpayroll_trx_lag1'</li><li>'mpayroll_lag1'</li><li>'ccomisiones_mantenimiento_lag1'</li><li>'ccallcenter_transacciones_lag1'</li><li>'chomebanking_transacciones_lag1'</li><li>'ctrx_quarter_lag1'</li><li>'Master_status_lag1'</li><li>'Master_fechaalta_lag1'</li><li>'Master_mpagominimo_lag1'</li><li>'Visa_status_lag1'</li><li>'Visa_fechaalta_lag1'</li><li>'Visa_mpagominimo_lag1'</li><li>'kmes_lag1'</li><li>'mpayroll_sobre_edad_lag1'</li><li>'ctrx_quarter_normalizado_lag1'</li><li>'foto_mes_formato_fecha_lag1'</li><li>'vm_status01_lag1'</li><li>'vm_status02_lag1'</li><li>'vm_status03_lag1'</li><li>'vm_status04_lag1'</li><li>'vm_status05_lag1'</li><li>'vm_status06_lag1'</li><li>'mv_status07_lag1'</li><li>'vm_fechaalta_lag1'</li><li>'vm_mpagominimo_lag1'</li><li>'internet_lag2'</li><li>'cliente_edad_lag2'</li><li>'cliente_antiguedad_lag2'</li><li>'mrentabilidad_lag2'</li><li>'mrentabilidad_annual_lag2'</li><li>'mcomisiones_lag2'</li><li>'mactivos_margen_lag2'</li><li>'mpasivos_margen_lag2'</li><li>'cproductos_lag2'</li><li>'mcuenta_corriente_lag2'</li><li>'mcaja_ahorro_lag2'</li><li>'cdescubierto_preacordado_lag2'</li><li>'mcuentas_saldo_lag2'</li><li>'ctarjeta_visa_transacciones_lag2'</li><li>'mtarjeta_visa_consumo_lag2'</li><li>'mtarjeta_master_consumo_lag2'</li><li>'mprestamos_personales_lag2'</li><li>'cpayroll_trx_lag2'</li><li>'mpayroll_lag2'</li><li>'ccomisiones_mantenimiento_lag2'</li><li>'ccallcenter_transacciones_lag2'</li><li>'chomebanking_transacciones_lag2'</li><li>'ctrx_quarter_lag2'</li><li>'Master_status_lag2'</li><li>'Master_fechaalta_lag2'</li><li>'Master_mpagominimo_lag2'</li><li>'Visa_status_lag2'</li><li>'Visa_fechaalta_lag2'</li><li>'Visa_mpagominimo_lag2'</li><li>'kmes_lag2'</li><li>'mpayroll_sobre_edad_lag2'</li><li>'ctrx_quarter_normalizado_lag2'</li><li>'foto_mes_formato_fecha_lag2'</li><li>'vm_status01_lag2'</li><li>'vm_status02_lag2'</li><li>'vm_status03_lag2'</li><li>'vm_status04_lag2'</li><li>'vm_status05_lag2'</li><li>'vm_status06_lag2'</li><li>'mv_status07_lag2'</li><li>'vm_fechaalta_lag2'</li><li>'vm_mpagominimo_lag2'</li><li>'internet_delta1'</li><li>'internet_delta2'</li><li>'cliente_edad_delta1'</li><li>'cliente_edad_delta2'</li><li>'cliente_antiguedad_delta1'</li><li>'cliente_antiguedad_delta2'</li><li>'mrentabilidad_delta1'</li><li>'mrentabilidad_delta2'</li><li>'mrentabilidad_annual_delta1'</li><li>'mrentabilidad_annual_delta2'</li><li>'mcomisiones_delta1'</li><li>'mcomisiones_delta2'</li><li>'mactivos_margen_delta1'</li><li>'mactivos_margen_delta2'</li><li>'mpasivos_margen_delta1'</li><li>'mpasivos_margen_delta2'</li><li>'cproductos_delta1'</li><li>'cproductos_delta2'</li><li>'mcuenta_corriente_delta1'</li><li>'mcuenta_corriente_delta2'</li><li>'mcaja_ahorro_delta1'</li><li>'mcaja_ahorro_delta2'</li><li>'cdescubierto_preacordado_delta1'</li><li>'cdescubierto_preacordado_delta2'</li><li>'mcuentas_saldo_delta1'</li><li>'mcuentas_saldo_delta2'</li><li>'ctarjeta_visa_transacciones_delta1'</li><li>'ctarjeta_visa_transacciones_delta2'</li><li>'mtarjeta_visa_consumo_delta1'</li><li>'mtarjeta_visa_consumo_delta2'</li><li>'mtarjeta_master_consumo_delta1'</li><li>'mtarjeta_master_consumo_delta2'</li><li>'mprestamos_personales_delta1'</li><li>'mprestamos_personales_delta2'</li><li>'cpayroll_trx_delta1'</li><li>'cpayroll_trx_delta2'</li><li>'mpayroll_delta1'</li><li>'mpayroll_delta2'</li><li>'ccomisiones_mantenimiento_delta1'</li><li>'ccomisiones_mantenimiento_delta2'</li><li>'ccallcenter_transacciones_delta1'</li><li>'ccallcenter_transacciones_delta2'</li><li>'chomebanking_transacciones_delta1'</li><li>'chomebanking_transacciones_delta2'</li><li>'ctrx_quarter_delta1'</li><li>'ctrx_quarter_delta2'</li><li>'Master_status_delta1'</li><li>'Master_status_delta2'</li><li>'Master_fechaalta_delta1'</li><li>'Master_fechaalta_delta2'</li><li>'Master_mpagominimo_delta1'</li><li>'Master_mpagominimo_delta2'</li><li>'Visa_status_delta1'</li><li>'Visa_status_delta2'</li><li>'Visa_fechaalta_delta1'</li><li>'Visa_fechaalta_delta2'</li><li>'Visa_mpagominimo_delta1'</li><li>'Visa_mpagominimo_delta2'</li><li>'kmes_delta1'</li><li>'kmes_delta2'</li><li>'mpayroll_sobre_edad_delta1'</li><li>'mpayroll_sobre_edad_delta2'</li><li>'ctrx_quarter_normalizado_delta1'</li><li>'ctrx_quarter_normalizado_delta2'</li><li>'foto_mes_formato_fecha_delta1'</li><li>'foto_mes_formato_fecha_delta2'</li><li>'vm_status01_delta1'</li><li>'vm_status01_delta2'</li><li>'vm_status02_delta1'</li><li>'vm_status02_delta2'</li><li>'vm_status03_delta1'</li><li>'vm_status03_delta2'</li><li>'vm_status04_delta1'</li><li>'vm_status04_delta2'</li><li>'vm_status05_delta1'</li><li>'vm_status05_delta2'</li><li>'vm_status06_delta1'</li><li>'vm_status06_delta2'</li><li>'mv_status07_delta1'</li><li>'mv_status07_delta2'</li><li>'vm_fechaalta_delta1'</li><li>'vm_fechaalta_delta2'</li><li>'vm_mpagominimo_delta1'</li><li>'vm_mpagominimo_delta2'</li></ol>\n"
      ],
      "text/latex": [
       "\\begin{enumerate*}\n",
       "\\item 'numero\\_de\\_cliente'\n",
       "\\item 'foto\\_mes'\n",
       "\\item 'internet'\n",
       "\\item 'cliente\\_edad'\n",
       "\\item 'cliente\\_antiguedad'\n",
       "\\item 'mrentabilidad'\n",
       "\\item 'mrentabilidad\\_annual'\n",
       "\\item 'mcomisiones'\n",
       "\\item 'mactivos\\_margen'\n",
       "\\item 'mpasivos\\_margen'\n",
       "\\item 'cproductos'\n",
       "\\item 'mcuenta\\_corriente'\n",
       "\\item 'mcaja\\_ahorro'\n",
       "\\item 'cdescubierto\\_preacordado'\n",
       "\\item 'mcuentas\\_saldo'\n",
       "\\item 'ctarjeta\\_visa\\_transacciones'\n",
       "\\item 'mtarjeta\\_visa\\_consumo'\n",
       "\\item 'mtarjeta\\_master\\_consumo'\n",
       "\\item 'mprestamos\\_personales'\n",
       "\\item 'cpayroll\\_trx'\n",
       "\\item 'mpayroll'\n",
       "\\item 'ccomisiones\\_mantenimiento'\n",
       "\\item 'ccallcenter\\_transacciones'\n",
       "\\item 'chomebanking\\_transacciones'\n",
       "\\item 'ctrx\\_quarter'\n",
       "\\item 'Master\\_status'\n",
       "\\item 'Master\\_fechaalta'\n",
       "\\item 'Master\\_mpagominimo'\n",
       "\\item 'Visa\\_status'\n",
       "\\item 'Visa\\_fechaalta'\n",
       "\\item 'Visa\\_mpagominimo'\n",
       "\\item 'clase\\_ternaria'\n",
       "\\item 'kmes'\n",
       "\\item 'mpayroll\\_sobre\\_edad'\n",
       "\\item 'ctrx\\_quarter\\_normalizado'\n",
       "\\item 'foto\\_mes\\_formato\\_fecha'\n",
       "\\item 'vm\\_status01'\n",
       "\\item 'vm\\_status02'\n",
       "\\item 'vm\\_status03'\n",
       "\\item 'vm\\_status04'\n",
       "\\item 'vm\\_status05'\n",
       "\\item 'vm\\_status06'\n",
       "\\item 'mv\\_status07'\n",
       "\\item 'vm\\_fechaalta'\n",
       "\\item 'vm\\_mpagominimo'\n",
       "\\item 'internet\\_lag1'\n",
       "\\item 'cliente\\_edad\\_lag1'\n",
       "\\item 'cliente\\_antiguedad\\_lag1'\n",
       "\\item 'mrentabilidad\\_lag1'\n",
       "\\item 'mrentabilidad\\_annual\\_lag1'\n",
       "\\item 'mcomisiones\\_lag1'\n",
       "\\item 'mactivos\\_margen\\_lag1'\n",
       "\\item 'mpasivos\\_margen\\_lag1'\n",
       "\\item 'cproductos\\_lag1'\n",
       "\\item 'mcuenta\\_corriente\\_lag1'\n",
       "\\item 'mcaja\\_ahorro\\_lag1'\n",
       "\\item 'cdescubierto\\_preacordado\\_lag1'\n",
       "\\item 'mcuentas\\_saldo\\_lag1'\n",
       "\\item 'ctarjeta\\_visa\\_transacciones\\_lag1'\n",
       "\\item 'mtarjeta\\_visa\\_consumo\\_lag1'\n",
       "\\item 'mtarjeta\\_master\\_consumo\\_lag1'\n",
       "\\item 'mprestamos\\_personales\\_lag1'\n",
       "\\item 'cpayroll\\_trx\\_lag1'\n",
       "\\item 'mpayroll\\_lag1'\n",
       "\\item 'ccomisiones\\_mantenimiento\\_lag1'\n",
       "\\item 'ccallcenter\\_transacciones\\_lag1'\n",
       "\\item 'chomebanking\\_transacciones\\_lag1'\n",
       "\\item 'ctrx\\_quarter\\_lag1'\n",
       "\\item 'Master\\_status\\_lag1'\n",
       "\\item 'Master\\_fechaalta\\_lag1'\n",
       "\\item 'Master\\_mpagominimo\\_lag1'\n",
       "\\item 'Visa\\_status\\_lag1'\n",
       "\\item 'Visa\\_fechaalta\\_lag1'\n",
       "\\item 'Visa\\_mpagominimo\\_lag1'\n",
       "\\item 'kmes\\_lag1'\n",
       "\\item 'mpayroll\\_sobre\\_edad\\_lag1'\n",
       "\\item 'ctrx\\_quarter\\_normalizado\\_lag1'\n",
       "\\item 'foto\\_mes\\_formato\\_fecha\\_lag1'\n",
       "\\item 'vm\\_status01\\_lag1'\n",
       "\\item 'vm\\_status02\\_lag1'\n",
       "\\item 'vm\\_status03\\_lag1'\n",
       "\\item 'vm\\_status04\\_lag1'\n",
       "\\item 'vm\\_status05\\_lag1'\n",
       "\\item 'vm\\_status06\\_lag1'\n",
       "\\item 'mv\\_status07\\_lag1'\n",
       "\\item 'vm\\_fechaalta\\_lag1'\n",
       "\\item 'vm\\_mpagominimo\\_lag1'\n",
       "\\item 'internet\\_lag2'\n",
       "\\item 'cliente\\_edad\\_lag2'\n",
       "\\item 'cliente\\_antiguedad\\_lag2'\n",
       "\\item 'mrentabilidad\\_lag2'\n",
       "\\item 'mrentabilidad\\_annual\\_lag2'\n",
       "\\item 'mcomisiones\\_lag2'\n",
       "\\item 'mactivos\\_margen\\_lag2'\n",
       "\\item 'mpasivos\\_margen\\_lag2'\n",
       "\\item 'cproductos\\_lag2'\n",
       "\\item 'mcuenta\\_corriente\\_lag2'\n",
       "\\item 'mcaja\\_ahorro\\_lag2'\n",
       "\\item 'cdescubierto\\_preacordado\\_lag2'\n",
       "\\item 'mcuentas\\_saldo\\_lag2'\n",
       "\\item 'ctarjeta\\_visa\\_transacciones\\_lag2'\n",
       "\\item 'mtarjeta\\_visa\\_consumo\\_lag2'\n",
       "\\item 'mtarjeta\\_master\\_consumo\\_lag2'\n",
       "\\item 'mprestamos\\_personales\\_lag2'\n",
       "\\item 'cpayroll\\_trx\\_lag2'\n",
       "\\item 'mpayroll\\_lag2'\n",
       "\\item 'ccomisiones\\_mantenimiento\\_lag2'\n",
       "\\item 'ccallcenter\\_transacciones\\_lag2'\n",
       "\\item 'chomebanking\\_transacciones\\_lag2'\n",
       "\\item 'ctrx\\_quarter\\_lag2'\n",
       "\\item 'Master\\_status\\_lag2'\n",
       "\\item 'Master\\_fechaalta\\_lag2'\n",
       "\\item 'Master\\_mpagominimo\\_lag2'\n",
       "\\item 'Visa\\_status\\_lag2'\n",
       "\\item 'Visa\\_fechaalta\\_lag2'\n",
       "\\item 'Visa\\_mpagominimo\\_lag2'\n",
       "\\item 'kmes\\_lag2'\n",
       "\\item 'mpayroll\\_sobre\\_edad\\_lag2'\n",
       "\\item 'ctrx\\_quarter\\_normalizado\\_lag2'\n",
       "\\item 'foto\\_mes\\_formato\\_fecha\\_lag2'\n",
       "\\item 'vm\\_status01\\_lag2'\n",
       "\\item 'vm\\_status02\\_lag2'\n",
       "\\item 'vm\\_status03\\_lag2'\n",
       "\\item 'vm\\_status04\\_lag2'\n",
       "\\item 'vm\\_status05\\_lag2'\n",
       "\\item 'vm\\_status06\\_lag2'\n",
       "\\item 'mv\\_status07\\_lag2'\n",
       "\\item 'vm\\_fechaalta\\_lag2'\n",
       "\\item 'vm\\_mpagominimo\\_lag2'\n",
       "\\item 'internet\\_delta1'\n",
       "\\item 'internet\\_delta2'\n",
       "\\item 'cliente\\_edad\\_delta1'\n",
       "\\item 'cliente\\_edad\\_delta2'\n",
       "\\item 'cliente\\_antiguedad\\_delta1'\n",
       "\\item 'cliente\\_antiguedad\\_delta2'\n",
       "\\item 'mrentabilidad\\_delta1'\n",
       "\\item 'mrentabilidad\\_delta2'\n",
       "\\item 'mrentabilidad\\_annual\\_delta1'\n",
       "\\item 'mrentabilidad\\_annual\\_delta2'\n",
       "\\item 'mcomisiones\\_delta1'\n",
       "\\item 'mcomisiones\\_delta2'\n",
       "\\item 'mactivos\\_margen\\_delta1'\n",
       "\\item 'mactivos\\_margen\\_delta2'\n",
       "\\item 'mpasivos\\_margen\\_delta1'\n",
       "\\item 'mpasivos\\_margen\\_delta2'\n",
       "\\item 'cproductos\\_delta1'\n",
       "\\item 'cproductos\\_delta2'\n",
       "\\item 'mcuenta\\_corriente\\_delta1'\n",
       "\\item 'mcuenta\\_corriente\\_delta2'\n",
       "\\item 'mcaja\\_ahorro\\_delta1'\n",
       "\\item 'mcaja\\_ahorro\\_delta2'\n",
       "\\item 'cdescubierto\\_preacordado\\_delta1'\n",
       "\\item 'cdescubierto\\_preacordado\\_delta2'\n",
       "\\item 'mcuentas\\_saldo\\_delta1'\n",
       "\\item 'mcuentas\\_saldo\\_delta2'\n",
       "\\item 'ctarjeta\\_visa\\_transacciones\\_delta1'\n",
       "\\item 'ctarjeta\\_visa\\_transacciones\\_delta2'\n",
       "\\item 'mtarjeta\\_visa\\_consumo\\_delta1'\n",
       "\\item 'mtarjeta\\_visa\\_consumo\\_delta2'\n",
       "\\item 'mtarjeta\\_master\\_consumo\\_delta1'\n",
       "\\item 'mtarjeta\\_master\\_consumo\\_delta2'\n",
       "\\item 'mprestamos\\_personales\\_delta1'\n",
       "\\item 'mprestamos\\_personales\\_delta2'\n",
       "\\item 'cpayroll\\_trx\\_delta1'\n",
       "\\item 'cpayroll\\_trx\\_delta2'\n",
       "\\item 'mpayroll\\_delta1'\n",
       "\\item 'mpayroll\\_delta2'\n",
       "\\item 'ccomisiones\\_mantenimiento\\_delta1'\n",
       "\\item 'ccomisiones\\_mantenimiento\\_delta2'\n",
       "\\item 'ccallcenter\\_transacciones\\_delta1'\n",
       "\\item 'ccallcenter\\_transacciones\\_delta2'\n",
       "\\item 'chomebanking\\_transacciones\\_delta1'\n",
       "\\item 'chomebanking\\_transacciones\\_delta2'\n",
       "\\item 'ctrx\\_quarter\\_delta1'\n",
       "\\item 'ctrx\\_quarter\\_delta2'\n",
       "\\item 'Master\\_status\\_delta1'\n",
       "\\item 'Master\\_status\\_delta2'\n",
       "\\item 'Master\\_fechaalta\\_delta1'\n",
       "\\item 'Master\\_fechaalta\\_delta2'\n",
       "\\item 'Master\\_mpagominimo\\_delta1'\n",
       "\\item 'Master\\_mpagominimo\\_delta2'\n",
       "\\item 'Visa\\_status\\_delta1'\n",
       "\\item 'Visa\\_status\\_delta2'\n",
       "\\item 'Visa\\_fechaalta\\_delta1'\n",
       "\\item 'Visa\\_fechaalta\\_delta2'\n",
       "\\item 'Visa\\_mpagominimo\\_delta1'\n",
       "\\item 'Visa\\_mpagominimo\\_delta2'\n",
       "\\item 'kmes\\_delta1'\n",
       "\\item 'kmes\\_delta2'\n",
       "\\item 'mpayroll\\_sobre\\_edad\\_delta1'\n",
       "\\item 'mpayroll\\_sobre\\_edad\\_delta2'\n",
       "\\item 'ctrx\\_quarter\\_normalizado\\_delta1'\n",
       "\\item 'ctrx\\_quarter\\_normalizado\\_delta2'\n",
       "\\item 'foto\\_mes\\_formato\\_fecha\\_delta1'\n",
       "\\item 'foto\\_mes\\_formato\\_fecha\\_delta2'\n",
       "\\item 'vm\\_status01\\_delta1'\n",
       "\\item 'vm\\_status01\\_delta2'\n",
       "\\item 'vm\\_status02\\_delta1'\n",
       "\\item 'vm\\_status02\\_delta2'\n",
       "\\item 'vm\\_status03\\_delta1'\n",
       "\\item 'vm\\_status03\\_delta2'\n",
       "\\item 'vm\\_status04\\_delta1'\n",
       "\\item 'vm\\_status04\\_delta2'\n",
       "\\item 'vm\\_status05\\_delta1'\n",
       "\\item 'vm\\_status05\\_delta2'\n",
       "\\item 'vm\\_status06\\_delta1'\n",
       "\\item 'vm\\_status06\\_delta2'\n",
       "\\item 'mv\\_status07\\_delta1'\n",
       "\\item 'mv\\_status07\\_delta2'\n",
       "\\item 'vm\\_fechaalta\\_delta1'\n",
       "\\item 'vm\\_fechaalta\\_delta2'\n",
       "\\item 'vm\\_mpagominimo\\_delta1'\n",
       "\\item 'vm\\_mpagominimo\\_delta2'\n",
       "\\end{enumerate*}\n"
      ],
      "text/markdown": [
       "1. 'numero_de_cliente'\n",
       "2. 'foto_mes'\n",
       "3. 'internet'\n",
       "4. 'cliente_edad'\n",
       "5. 'cliente_antiguedad'\n",
       "6. 'mrentabilidad'\n",
       "7. 'mrentabilidad_annual'\n",
       "8. 'mcomisiones'\n",
       "9. 'mactivos_margen'\n",
       "10. 'mpasivos_margen'\n",
       "11. 'cproductos'\n",
       "12. 'mcuenta_corriente'\n",
       "13. 'mcaja_ahorro'\n",
       "14. 'cdescubierto_preacordado'\n",
       "15. 'mcuentas_saldo'\n",
       "16. 'ctarjeta_visa_transacciones'\n",
       "17. 'mtarjeta_visa_consumo'\n",
       "18. 'mtarjeta_master_consumo'\n",
       "19. 'mprestamos_personales'\n",
       "20. 'cpayroll_trx'\n",
       "21. 'mpayroll'\n",
       "22. 'ccomisiones_mantenimiento'\n",
       "23. 'ccallcenter_transacciones'\n",
       "24. 'chomebanking_transacciones'\n",
       "25. 'ctrx_quarter'\n",
       "26. 'Master_status'\n",
       "27. 'Master_fechaalta'\n",
       "28. 'Master_mpagominimo'\n",
       "29. 'Visa_status'\n",
       "30. 'Visa_fechaalta'\n",
       "31. 'Visa_mpagominimo'\n",
       "32. 'clase_ternaria'\n",
       "33. 'kmes'\n",
       "34. 'mpayroll_sobre_edad'\n",
       "35. 'ctrx_quarter_normalizado'\n",
       "36. 'foto_mes_formato_fecha'\n",
       "37. 'vm_status01'\n",
       "38. 'vm_status02'\n",
       "39. 'vm_status03'\n",
       "40. 'vm_status04'\n",
       "41. 'vm_status05'\n",
       "42. 'vm_status06'\n",
       "43. 'mv_status07'\n",
       "44. 'vm_fechaalta'\n",
       "45. 'vm_mpagominimo'\n",
       "46. 'internet_lag1'\n",
       "47. 'cliente_edad_lag1'\n",
       "48. 'cliente_antiguedad_lag1'\n",
       "49. 'mrentabilidad_lag1'\n",
       "50. 'mrentabilidad_annual_lag1'\n",
       "51. 'mcomisiones_lag1'\n",
       "52. 'mactivos_margen_lag1'\n",
       "53. 'mpasivos_margen_lag1'\n",
       "54. 'cproductos_lag1'\n",
       "55. 'mcuenta_corriente_lag1'\n",
       "56. 'mcaja_ahorro_lag1'\n",
       "57. 'cdescubierto_preacordado_lag1'\n",
       "58. 'mcuentas_saldo_lag1'\n",
       "59. 'ctarjeta_visa_transacciones_lag1'\n",
       "60. 'mtarjeta_visa_consumo_lag1'\n",
       "61. 'mtarjeta_master_consumo_lag1'\n",
       "62. 'mprestamos_personales_lag1'\n",
       "63. 'cpayroll_trx_lag1'\n",
       "64. 'mpayroll_lag1'\n",
       "65. 'ccomisiones_mantenimiento_lag1'\n",
       "66. 'ccallcenter_transacciones_lag1'\n",
       "67. 'chomebanking_transacciones_lag1'\n",
       "68. 'ctrx_quarter_lag1'\n",
       "69. 'Master_status_lag1'\n",
       "70. 'Master_fechaalta_lag1'\n",
       "71. 'Master_mpagominimo_lag1'\n",
       "72. 'Visa_status_lag1'\n",
       "73. 'Visa_fechaalta_lag1'\n",
       "74. 'Visa_mpagominimo_lag1'\n",
       "75. 'kmes_lag1'\n",
       "76. 'mpayroll_sobre_edad_lag1'\n",
       "77. 'ctrx_quarter_normalizado_lag1'\n",
       "78. 'foto_mes_formato_fecha_lag1'\n",
       "79. 'vm_status01_lag1'\n",
       "80. 'vm_status02_lag1'\n",
       "81. 'vm_status03_lag1'\n",
       "82. 'vm_status04_lag1'\n",
       "83. 'vm_status05_lag1'\n",
       "84. 'vm_status06_lag1'\n",
       "85. 'mv_status07_lag1'\n",
       "86. 'vm_fechaalta_lag1'\n",
       "87. 'vm_mpagominimo_lag1'\n",
       "88. 'internet_lag2'\n",
       "89. 'cliente_edad_lag2'\n",
       "90. 'cliente_antiguedad_lag2'\n",
       "91. 'mrentabilidad_lag2'\n",
       "92. 'mrentabilidad_annual_lag2'\n",
       "93. 'mcomisiones_lag2'\n",
       "94. 'mactivos_margen_lag2'\n",
       "95. 'mpasivos_margen_lag2'\n",
       "96. 'cproductos_lag2'\n",
       "97. 'mcuenta_corriente_lag2'\n",
       "98. 'mcaja_ahorro_lag2'\n",
       "99. 'cdescubierto_preacordado_lag2'\n",
       "100. 'mcuentas_saldo_lag2'\n",
       "101. 'ctarjeta_visa_transacciones_lag2'\n",
       "102. 'mtarjeta_visa_consumo_lag2'\n",
       "103. 'mtarjeta_master_consumo_lag2'\n",
       "104. 'mprestamos_personales_lag2'\n",
       "105. 'cpayroll_trx_lag2'\n",
       "106. 'mpayroll_lag2'\n",
       "107. 'ccomisiones_mantenimiento_lag2'\n",
       "108. 'ccallcenter_transacciones_lag2'\n",
       "109. 'chomebanking_transacciones_lag2'\n",
       "110. 'ctrx_quarter_lag2'\n",
       "111. 'Master_status_lag2'\n",
       "112. 'Master_fechaalta_lag2'\n",
       "113. 'Master_mpagominimo_lag2'\n",
       "114. 'Visa_status_lag2'\n",
       "115. 'Visa_fechaalta_lag2'\n",
       "116. 'Visa_mpagominimo_lag2'\n",
       "117. 'kmes_lag2'\n",
       "118. 'mpayroll_sobre_edad_lag2'\n",
       "119. 'ctrx_quarter_normalizado_lag2'\n",
       "120. 'foto_mes_formato_fecha_lag2'\n",
       "121. 'vm_status01_lag2'\n",
       "122. 'vm_status02_lag2'\n",
       "123. 'vm_status03_lag2'\n",
       "124. 'vm_status04_lag2'\n",
       "125. 'vm_status05_lag2'\n",
       "126. 'vm_status06_lag2'\n",
       "127. 'mv_status07_lag2'\n",
       "128. 'vm_fechaalta_lag2'\n",
       "129. 'vm_mpagominimo_lag2'\n",
       "130. 'internet_delta1'\n",
       "131. 'internet_delta2'\n",
       "132. 'cliente_edad_delta1'\n",
       "133. 'cliente_edad_delta2'\n",
       "134. 'cliente_antiguedad_delta1'\n",
       "135. 'cliente_antiguedad_delta2'\n",
       "136. 'mrentabilidad_delta1'\n",
       "137. 'mrentabilidad_delta2'\n",
       "138. 'mrentabilidad_annual_delta1'\n",
       "139. 'mrentabilidad_annual_delta2'\n",
       "140. 'mcomisiones_delta1'\n",
       "141. 'mcomisiones_delta2'\n",
       "142. 'mactivos_margen_delta1'\n",
       "143. 'mactivos_margen_delta2'\n",
       "144. 'mpasivos_margen_delta1'\n",
       "145. 'mpasivos_margen_delta2'\n",
       "146. 'cproductos_delta1'\n",
       "147. 'cproductos_delta2'\n",
       "148. 'mcuenta_corriente_delta1'\n",
       "149. 'mcuenta_corriente_delta2'\n",
       "150. 'mcaja_ahorro_delta1'\n",
       "151. 'mcaja_ahorro_delta2'\n",
       "152. 'cdescubierto_preacordado_delta1'\n",
       "153. 'cdescubierto_preacordado_delta2'\n",
       "154. 'mcuentas_saldo_delta1'\n",
       "155. 'mcuentas_saldo_delta2'\n",
       "156. 'ctarjeta_visa_transacciones_delta1'\n",
       "157. 'ctarjeta_visa_transacciones_delta2'\n",
       "158. 'mtarjeta_visa_consumo_delta1'\n",
       "159. 'mtarjeta_visa_consumo_delta2'\n",
       "160. 'mtarjeta_master_consumo_delta1'\n",
       "161. 'mtarjeta_master_consumo_delta2'\n",
       "162. 'mprestamos_personales_delta1'\n",
       "163. 'mprestamos_personales_delta2'\n",
       "164. 'cpayroll_trx_delta1'\n",
       "165. 'cpayroll_trx_delta2'\n",
       "166. 'mpayroll_delta1'\n",
       "167. 'mpayroll_delta2'\n",
       "168. 'ccomisiones_mantenimiento_delta1'\n",
       "169. 'ccomisiones_mantenimiento_delta2'\n",
       "170. 'ccallcenter_transacciones_delta1'\n",
       "171. 'ccallcenter_transacciones_delta2'\n",
       "172. 'chomebanking_transacciones_delta1'\n",
       "173. 'chomebanking_transacciones_delta2'\n",
       "174. 'ctrx_quarter_delta1'\n",
       "175. 'ctrx_quarter_delta2'\n",
       "176. 'Master_status_delta1'\n",
       "177. 'Master_status_delta2'\n",
       "178. 'Master_fechaalta_delta1'\n",
       "179. 'Master_fechaalta_delta2'\n",
       "180. 'Master_mpagominimo_delta1'\n",
       "181. 'Master_mpagominimo_delta2'\n",
       "182. 'Visa_status_delta1'\n",
       "183. 'Visa_status_delta2'\n",
       "184. 'Visa_fechaalta_delta1'\n",
       "185. 'Visa_fechaalta_delta2'\n",
       "186. 'Visa_mpagominimo_delta1'\n",
       "187. 'Visa_mpagominimo_delta2'\n",
       "188. 'kmes_delta1'\n",
       "189. 'kmes_delta2'\n",
       "190. 'mpayroll_sobre_edad_delta1'\n",
       "191. 'mpayroll_sobre_edad_delta2'\n",
       "192. 'ctrx_quarter_normalizado_delta1'\n",
       "193. 'ctrx_quarter_normalizado_delta2'\n",
       "194. 'foto_mes_formato_fecha_delta1'\n",
       "195. 'foto_mes_formato_fecha_delta2'\n",
       "196. 'vm_status01_delta1'\n",
       "197. 'vm_status01_delta2'\n",
       "198. 'vm_status02_delta1'\n",
       "199. 'vm_status02_delta2'\n",
       "200. 'vm_status03_delta1'\n",
       "201. 'vm_status03_delta2'\n",
       "202. 'vm_status04_delta1'\n",
       "203. 'vm_status04_delta2'\n",
       "204. 'vm_status05_delta1'\n",
       "205. 'vm_status05_delta2'\n",
       "206. 'vm_status06_delta1'\n",
       "207. 'vm_status06_delta2'\n",
       "208. 'mv_status07_delta1'\n",
       "209. 'mv_status07_delta2'\n",
       "210. 'vm_fechaalta_delta1'\n",
       "211. 'vm_fechaalta_delta2'\n",
       "212. 'vm_mpagominimo_delta1'\n",
       "213. 'vm_mpagominimo_delta2'\n",
       "\n",
       "\n"
      ],
      "text/plain": [
       "  [1] \"numero_de_cliente\"                  \"foto_mes\"                          \n",
       "  [3] \"internet\"                           \"cliente_edad\"                      \n",
       "  [5] \"cliente_antiguedad\"                 \"mrentabilidad\"                     \n",
       "  [7] \"mrentabilidad_annual\"               \"mcomisiones\"                       \n",
       "  [9] \"mactivos_margen\"                    \"mpasivos_margen\"                   \n",
       " [11] \"cproductos\"                         \"mcuenta_corriente\"                 \n",
       " [13] \"mcaja_ahorro\"                       \"cdescubierto_preacordado\"          \n",
       " [15] \"mcuentas_saldo\"                     \"ctarjeta_visa_transacciones\"       \n",
       " [17] \"mtarjeta_visa_consumo\"              \"mtarjeta_master_consumo\"           \n",
       " [19] \"mprestamos_personales\"              \"cpayroll_trx\"                      \n",
       " [21] \"mpayroll\"                           \"ccomisiones_mantenimiento\"         \n",
       " [23] \"ccallcenter_transacciones\"          \"chomebanking_transacciones\"        \n",
       " [25] \"ctrx_quarter\"                       \"Master_status\"                     \n",
       " [27] \"Master_fechaalta\"                   \"Master_mpagominimo\"                \n",
       " [29] \"Visa_status\"                        \"Visa_fechaalta\"                    \n",
       " [31] \"Visa_mpagominimo\"                   \"clase_ternaria\"                    \n",
       " [33] \"kmes\"                               \"mpayroll_sobre_edad\"               \n",
       " [35] \"ctrx_quarter_normalizado\"           \"foto_mes_formato_fecha\"            \n",
       " [37] \"vm_status01\"                        \"vm_status02\"                       \n",
       " [39] \"vm_status03\"                        \"vm_status04\"                       \n",
       " [41] \"vm_status05\"                        \"vm_status06\"                       \n",
       " [43] \"mv_status07\"                        \"vm_fechaalta\"                      \n",
       " [45] \"vm_mpagominimo\"                     \"internet_lag1\"                     \n",
       " [47] \"cliente_edad_lag1\"                  \"cliente_antiguedad_lag1\"           \n",
       " [49] \"mrentabilidad_lag1\"                 \"mrentabilidad_annual_lag1\"         \n",
       " [51] \"mcomisiones_lag1\"                   \"mactivos_margen_lag1\"              \n",
       " [53] \"mpasivos_margen_lag1\"               \"cproductos_lag1\"                   \n",
       " [55] \"mcuenta_corriente_lag1\"             \"mcaja_ahorro_lag1\"                 \n",
       " [57] \"cdescubierto_preacordado_lag1\"      \"mcuentas_saldo_lag1\"               \n",
       " [59] \"ctarjeta_visa_transacciones_lag1\"   \"mtarjeta_visa_consumo_lag1\"        \n",
       " [61] \"mtarjeta_master_consumo_lag1\"       \"mprestamos_personales_lag1\"        \n",
       " [63] \"cpayroll_trx_lag1\"                  \"mpayroll_lag1\"                     \n",
       " [65] \"ccomisiones_mantenimiento_lag1\"     \"ccallcenter_transacciones_lag1\"    \n",
       " [67] \"chomebanking_transacciones_lag1\"    \"ctrx_quarter_lag1\"                 \n",
       " [69] \"Master_status_lag1\"                 \"Master_fechaalta_lag1\"             \n",
       " [71] \"Master_mpagominimo_lag1\"            \"Visa_status_lag1\"                  \n",
       " [73] \"Visa_fechaalta_lag1\"                \"Visa_mpagominimo_lag1\"             \n",
       " [75] \"kmes_lag1\"                          \"mpayroll_sobre_edad_lag1\"          \n",
       " [77] \"ctrx_quarter_normalizado_lag1\"      \"foto_mes_formato_fecha_lag1\"       \n",
       " [79] \"vm_status01_lag1\"                   \"vm_status02_lag1\"                  \n",
       " [81] \"vm_status03_lag1\"                   \"vm_status04_lag1\"                  \n",
       " [83] \"vm_status05_lag1\"                   \"vm_status06_lag1\"                  \n",
       " [85] \"mv_status07_lag1\"                   \"vm_fechaalta_lag1\"                 \n",
       " [87] \"vm_mpagominimo_lag1\"                \"internet_lag2\"                     \n",
       " [89] \"cliente_edad_lag2\"                  \"cliente_antiguedad_lag2\"           \n",
       " [91] \"mrentabilidad_lag2\"                 \"mrentabilidad_annual_lag2\"         \n",
       " [93] \"mcomisiones_lag2\"                   \"mactivos_margen_lag2\"              \n",
       " [95] \"mpasivos_margen_lag2\"               \"cproductos_lag2\"                   \n",
       " [97] \"mcuenta_corriente_lag2\"             \"mcaja_ahorro_lag2\"                 \n",
       " [99] \"cdescubierto_preacordado_lag2\"      \"mcuentas_saldo_lag2\"               \n",
       "[101] \"ctarjeta_visa_transacciones_lag2\"   \"mtarjeta_visa_consumo_lag2\"        \n",
       "[103] \"mtarjeta_master_consumo_lag2\"       \"mprestamos_personales_lag2\"        \n",
       "[105] \"cpayroll_trx_lag2\"                  \"mpayroll_lag2\"                     \n",
       "[107] \"ccomisiones_mantenimiento_lag2\"     \"ccallcenter_transacciones_lag2\"    \n",
       "[109] \"chomebanking_transacciones_lag2\"    \"ctrx_quarter_lag2\"                 \n",
       "[111] \"Master_status_lag2\"                 \"Master_fechaalta_lag2\"             \n",
       "[113] \"Master_mpagominimo_lag2\"            \"Visa_status_lag2\"                  \n",
       "[115] \"Visa_fechaalta_lag2\"                \"Visa_mpagominimo_lag2\"             \n",
       "[117] \"kmes_lag2\"                          \"mpayroll_sobre_edad_lag2\"          \n",
       "[119] \"ctrx_quarter_normalizado_lag2\"      \"foto_mes_formato_fecha_lag2\"       \n",
       "[121] \"vm_status01_lag2\"                   \"vm_status02_lag2\"                  \n",
       "[123] \"vm_status03_lag2\"                   \"vm_status04_lag2\"                  \n",
       "[125] \"vm_status05_lag2\"                   \"vm_status06_lag2\"                  \n",
       "[127] \"mv_status07_lag2\"                   \"vm_fechaalta_lag2\"                 \n",
       "[129] \"vm_mpagominimo_lag2\"                \"internet_delta1\"                   \n",
       "[131] \"internet_delta2\"                    \"cliente_edad_delta1\"               \n",
       "[133] \"cliente_edad_delta2\"                \"cliente_antiguedad_delta1\"         \n",
       "[135] \"cliente_antiguedad_delta2\"          \"mrentabilidad_delta1\"              \n",
       "[137] \"mrentabilidad_delta2\"               \"mrentabilidad_annual_delta1\"       \n",
       "[139] \"mrentabilidad_annual_delta2\"        \"mcomisiones_delta1\"                \n",
       "[141] \"mcomisiones_delta2\"                 \"mactivos_margen_delta1\"            \n",
       "[143] \"mactivos_margen_delta2\"             \"mpasivos_margen_delta1\"            \n",
       "[145] \"mpasivos_margen_delta2\"             \"cproductos_delta1\"                 \n",
       "[147] \"cproductos_delta2\"                  \"mcuenta_corriente_delta1\"          \n",
       "[149] \"mcuenta_corriente_delta2\"           \"mcaja_ahorro_delta1\"               \n",
       "[151] \"mcaja_ahorro_delta2\"                \"cdescubierto_preacordado_delta1\"   \n",
       "[153] \"cdescubierto_preacordado_delta2\"    \"mcuentas_saldo_delta1\"             \n",
       "[155] \"mcuentas_saldo_delta2\"              \"ctarjeta_visa_transacciones_delta1\"\n",
       "[157] \"ctarjeta_visa_transacciones_delta2\" \"mtarjeta_visa_consumo_delta1\"      \n",
       "[159] \"mtarjeta_visa_consumo_delta2\"       \"mtarjeta_master_consumo_delta1\"    \n",
       "[161] \"mtarjeta_master_consumo_delta2\"     \"mprestamos_personales_delta1\"      \n",
       "[163] \"mprestamos_personales_delta2\"       \"cpayroll_trx_delta1\"               \n",
       "[165] \"cpayroll_trx_delta2\"                \"mpayroll_delta1\"                   \n",
       "[167] \"mpayroll_delta2\"                    \"ccomisiones_mantenimiento_delta1\"  \n",
       "[169] \"ccomisiones_mantenimiento_delta2\"   \"ccallcenter_transacciones_delta1\"  \n",
       "[171] \"ccallcenter_transacciones_delta2\"   \"chomebanking_transacciones_delta1\" \n",
       "[173] \"chomebanking_transacciones_delta2\"  \"ctrx_quarter_delta1\"               \n",
       "[175] \"ctrx_quarter_delta2\"                \"Master_status_delta1\"              \n",
       "[177] \"Master_status_delta2\"               \"Master_fechaalta_delta1\"           \n",
       "[179] \"Master_fechaalta_delta2\"            \"Master_mpagominimo_delta1\"         \n",
       "[181] \"Master_mpagominimo_delta2\"          \"Visa_status_delta1\"                \n",
       "[183] \"Visa_status_delta2\"                 \"Visa_fechaalta_delta1\"             \n",
       "[185] \"Visa_fechaalta_delta2\"              \"Visa_mpagominimo_delta1\"           \n",
       "[187] \"Visa_mpagominimo_delta2\"            \"kmes_delta1\"                       \n",
       "[189] \"kmes_delta2\"                        \"mpayroll_sobre_edad_delta1\"        \n",
       "[191] \"mpayroll_sobre_edad_delta2\"         \"ctrx_quarter_normalizado_delta1\"   \n",
       "[193] \"ctrx_quarter_normalizado_delta2\"    \"foto_mes_formato_fecha_delta1\"     \n",
       "[195] \"foto_mes_formato_fecha_delta2\"      \"vm_status01_delta1\"                \n",
       "[197] \"vm_status01_delta2\"                 \"vm_status02_delta1\"                \n",
       "[199] \"vm_status02_delta2\"                 \"vm_status03_delta1\"                \n",
       "[201] \"vm_status03_delta2\"                 \"vm_status04_delta1\"                \n",
       "[203] \"vm_status04_delta2\"                 \"vm_status05_delta1\"                \n",
       "[205] \"vm_status05_delta2\"                 \"vm_status06_delta1\"                \n",
       "[207] \"vm_status06_delta2\"                 \"mv_status07_delta1\"                \n",
       "[209] \"mv_status07_delta2\"                 \"vm_fechaalta_delta1\"               \n",
       "[211] \"vm_fechaalta_delta2\"                \"vm_mpagominimo_delta1\"             \n",
       "[213] \"vm_mpagominimo_delta2\"             "
      ]
     },
     "metadata": {},
     "output_type": "display_data"
    }
   ],
   "source": [
    "ncol(dataset)\n",
    "colnames(dataset)"
   ]
  },
  {
   "cell_type": "markdown",
   "id": "20a2003c-447b-44b0-8455-2330d2e2a21f",
   "metadata": {
    "id": "20a2003c-447b-44b0-8455-2330d2e2a21f"
   },
   "source": [
    "#### 9.7.1.5  FE_rf Feature Engineering de nuevas variables a partir de hojas de Random Forest\n",
    "\n"
   ]
  },
  {
   "cell_type": "code",
   "execution_count": 69,
   "id": "e2400841-c254-4330-8f1c-90cc3b8a96c2",
   "metadata": {
    "colab": {
     "base_uri": "https://localhost:8080/"
    },
    "id": "e2400841-c254-4330-8f1c-90cc3b8a96c2",
    "outputId": "b370f13a-ad5b-41bc-cccc-fb87c399b6d6",
    "vscode": {
     "languageId": "r"
    }
   },
   "outputs": [],
   "source": [
    "if( !require(\"lightgbm\")) install.packages(\"lightgbm\")\n",
    "require(\"lightgbm\")\n"
   ]
  },
  {
   "cell_type": "code",
   "execution_count": 70,
   "id": "5569401a-d6df-449f-8984-eba21ab90554",
   "metadata": {
    "vscode": {
     "languageId": "r"
    }
   },
   "outputs": [],
   "source": [
    "PARAM$FE_rf$arbolitos= 20\n",
    "PARAM$FE_rf$hojas_por_arbol= 16\n",
    "PARAM$FE_rf$datos_por_hoja= 100\n",
    "PARAM$FE_rf$mtry_ratio= 0.2\n",
    "\n",
    "# Estos son quasi fijos\n",
    "PARAM$FE_rf$train$clase01_valor1 <- c( \"BAJA+2\", \"BAJA+1\")\n",
    "PARAM$FE_rf$train$training <- c( 202101, 202102, 202103, 202104, 202105, 202106)\n",
    "\n",
    "# Estos TAMBIEN son quasi fijos\n",
    "PARAM$FE_rf$lgb_param <-list(\n",
    "    # parametros que se pueden cambiar\n",
    "    num_iterations = PARAM$FE_rf$arbolitos,\n",
    "    num_leaves  = PARAM$FE_rf$hojas_por_arbol,\n",
    "    min_data_in_leaf = PARAM$FE_rf$datos_por_hoja,\n",
    "    feature_fraction_bynode  = PARAM$FE_rf$mtry_ratio,\n",
    "\n",
    "    # para que LightGBM emule Random Forest\n",
    "    boosting = \"rf\",\n",
    "    bagging_fraction = ( 1.0 - 1.0/exp(1.0) ),\n",
    "    bagging_freq = 1.0,\n",
    "    feature_fraction = 1.0,\n",
    "\n",
    "    # genericos de LightGBM\n",
    "    max_bin = 31L,\n",
    "    objective = \"binary\",\n",
    "    first_metric_only = TRUE,\n",
    "    boost_from_average = TRUE,\n",
    "    feature_pre_filter = FALSE,\n",
    "    force_row_wise = TRUE,\n",
    "    verbosity = -100,\n",
    "    max_depth = -1L,\n",
    "    min_gain_to_split = 0.0,\n",
    "    min_sum_hessian_in_leaf = 0.001,\n",
    "    lambda_l1 = 0.0,\n",
    "    lambda_l2 = 0.0,\n",
    "\n",
    "    pos_bagging_fraction = 1.0,\n",
    "    neg_bagging_fraction = 1.0,\n",
    "    is_unbalance = FALSE,\n",
    "    scale_pos_weight = 1.0,\n",
    "\n",
    "    drop_rate = 0.1,\n",
    "    max_drop = 50,\n",
    "    skip_drop = 0.5,\n",
    "\n",
    "    extra_trees = FALSE\n",
    "  )"
   ]
  },
  {
   "cell_type": "code",
   "execution_count": 72,
   "id": "ad7d25ae-442a-4c3d-86ff-c1fa0c9fa8a5",
   "metadata": {
    "id": "ad7d25ae-442a-4c3d-86ff-c1fa0c9fa8a5",
    "vscode": {
     "languageId": "r"
    }
   },
   "outputs": [
    {
     "name": "stdout",
     "output_type": "stream",
     "text": [
      "inicio AgregaVarRandomForest()\n",
      "Fin construccion RandomForest\n",
      "periodo =  202005 \n",
      "Inicio prediccion\n",
      "Fin prediccion\n",
      "1  2  3  4  5  6  7  8  9  10  11  12  13  14  15  16  17  18  19  20  \n",
      "periodo =  202006 \n",
      "Inicio prediccion\n",
      "Fin prediccion\n",
      "1  2  3  4  5  6  7  8  9  10  11  12  13  14  15  16  17  18  19  20  \n",
      "periodo =  202007 \n",
      "Inicio prediccion\n",
      "Fin prediccion\n",
      "1  2  3  4  5  6  7  8  9  10  11  12  13  14  15  16  17  18  19  20  \n",
      "periodo =  202008 \n",
      "Inicio prediccion\n",
      "Fin prediccion\n",
      "1  2  3  4  5  6  7  8  9  10  11  12  13  14  15  16  17  18  19  20  \n",
      "periodo =  202009 \n",
      "Inicio prediccion\n",
      "Fin prediccion\n",
      "1  2  3  4  5  6  7  8  9  10  11  12  13  14  15  16  17  18  19  20  \n",
      "periodo =  202010 \n",
      "Inicio prediccion\n",
      "Fin prediccion\n",
      "1  2  3  4  5  6  7  8  9  10  11  12  13  14  15  16  17  18  19  20  \n",
      "periodo =  202011 \n",
      "Inicio prediccion\n",
      "Fin prediccion\n",
      "1  2  3  4  5  6  7  8  9  10  11  12  13  14  15  16  17  18  19  20  \n",
      "periodo =  202012 \n",
      "Inicio prediccion\n",
      "Fin prediccion\n",
      "1  2  3  4  5  6  7  8  9  10  11  12  13  14  15  16  17  18  19  20  \n",
      "periodo =  202101 \n",
      "Inicio prediccion\n",
      "Fin prediccion\n",
      "1  2  3  4  5  6  7  8  9  10  11  12  13  14  15  16  17  18  19  20  \n",
      "periodo =  202102 \n",
      "Inicio prediccion\n",
      "Fin prediccion\n",
      "1  2  3  4  5  6  7  8  9  10  11  12  13  14  15  16  17  18  19  20  \n",
      "periodo =  202103 \n",
      "Inicio prediccion\n",
      "Fin prediccion\n",
      "1  2  3  4  5  6  7  8  9  10  11  12  13  14  15  16  17  18  19  20  \n",
      "periodo =  202104 \n",
      "Inicio prediccion\n",
      "Fin prediccion\n",
      "1  2  3  4  5  6  7  8  9  10  11  12  13  14  15  16  17  18  19  20  \n",
      "periodo =  202105 \n",
      "Inicio prediccion\n",
      "Fin prediccion\n",
      "1  2  3  4  5  6  7  8  9  10  11  12  13  14  15  16  17  18  19  20  \n",
      "periodo =  202106 \n",
      "Inicio prediccion\n",
      "Fin prediccion\n",
      "1  2  3  4  5  6  7  8  9  10  11  12  13  14  15  16  17  18  19  20  \n",
      "periodo =  202107 \n",
      "Inicio prediccion\n",
      "Fin prediccion\n",
      "1  2  3  4  5  6  7  8  9  10  11  12  13  14  15  16  17  18  19  20  \n",
      "periodo =  202108 \n",
      "Inicio prediccion\n",
      "Fin prediccion\n",
      "1  2  3  4  5  6  7  8  9  10  11  12  13  14  15  16  17  18  19  20  \n",
      "periodo =  202109 \n",
      "Inicio prediccion\n",
      "Fin prediccion\n",
      "1  2  3  4  5  6  7  8  9  10  11  12  13  14  15  16  17  18  19  20  \n"
     ]
    }
   ],
   "source": [
    "AgregaVarRandomForest <- function() {\n",
    "\n",
    "  cat( \"inicio AgregaVarRandomForest()\\n\")\n",
    "  gc(verbose= FALSE)\n",
    "  dataset[, clase01 := 0L ]\n",
    "  dataset[ clase_ternaria %in% PARAM$FE_rf$train$clase01_valor1,\n",
    "      clase01 := 1L ]\n",
    "\n",
    "  campos_buenos <- setdiff(\n",
    "    colnames(dataset),\n",
    "    c( \"clase_ternaria\", \"clase01\")\n",
    "  )\n",
    "\n",
    "  dataset[, entrenamiento :=\n",
    "    as.integer( foto_mes %in% PARAM$FE_rf$train$training )]\n",
    "\n",
    "  dtrain <- lgb.Dataset(\n",
    "    data = data.matrix(dataset[entrenamiento == TRUE, campos_buenos, with = FALSE]),\n",
    "    label = dataset[entrenamiento == TRUE, clase01],\n",
    "    free_raw_data = FALSE\n",
    "  )\n",
    "\n",
    "  modelo <- lgb.train(\n",
    "     data = dtrain,\n",
    "     param = PARAM$FE_rf$lgb_param,\n",
    "     verbose = -100\n",
    "  )\n",
    "\n",
    "  cat( \"Fin construccion RandomForest\\n\" )\n",
    "  # grabo el modelo, achivo .model\n",
    "  lgb.save(modelo, file=\"modelo.model\" )\n",
    "\n",
    "  qarbolitos <- copy(PARAM$FE_rf$lgb_param$num_iterations)\n",
    "\n",
    "  periodos <- dataset[ , unique( foto_mes ) ]\n",
    "\n",
    "  for( periodo in  periodos )\n",
    "  {\n",
    "    cat( \"periodo = \", periodo, \"\\n\" )\n",
    "    datamatrix <- data.matrix(dataset[ foto_mes== periodo, campos_buenos, with = FALSE])\n",
    "\n",
    "    cat( \"Inicio prediccion\\n\" )\n",
    "    prediccion <- predict(\n",
    "        modelo,\n",
    "        datamatrix,\n",
    "        type = \"leaf\"\n",
    "    )\n",
    "    cat( \"Fin prediccion\\n\" )\n",
    "\n",
    "    for( arbolito in 1:qarbolitos )\n",
    "    {\n",
    "       cat( arbolito, \" \" )\n",
    "       hojas_arbol <- unique(prediccion[ , arbolito])\n",
    "\n",
    "       for (pos in 1:length(hojas_arbol)) {\n",
    "         # el numero de nodo de la hoja, estan salteados\n",
    "         nodo_id <- hojas_arbol[pos]\n",
    "         dataset[ foto_mes== periodo, paste0(\n",
    "            \"rf_\", sprintf(\"%03d\", arbolito),\n",
    "             \"_\", sprintf(\"%03d\", nodo_id)\n",
    "          ) :=  as.integer( nodo_id == prediccion[ , arbolito]) ]\n",
    "\n",
    "       }\n",
    "\n",
    "       rm( hojas_arbol )\n",
    "    }\n",
    "    cat( \"\\n\" )\n",
    "\n",
    "    rm( prediccion )\n",
    "    rm( datamatrix )\n",
    "    gc(verbose= FALSE)\n",
    "  }\n",
    "\n",
    "  gc(verbose= FALSE)\n",
    "\n",
    "  # borro clase01 , no debe ensuciar el dataset\n",
    "  dataset[ , clase01 := NULL ]\n",
    "\n",
    "}\n",
    "AgregaVarRandomForest()"
   ]
  },
  {
   "cell_type": "markdown",
   "id": "c7182958-a445-49f2-b60d-3564f853e9ef",
   "metadata": {
    "id": "c7182958-a445-49f2-b60d-3564f853e9ef"
   },
   "source": [
    "#### 9.7.1.6  FEhist Reduccion dimensionalidad con canaritos\n",
    "\n",
    "Esta etapa solo se mostrará a la *modalidad Anlista Sr*"
   ]
  },
  {
   "cell_type": "markdown",
   "id": "5a4c6aa3-eea2-496f-9905-2b85c73b83d0",
   "metadata": {
    "id": "5a4c6aa3-eea2-496f-9905-2b85c73b83d0"
   },
   "source": [
    "El objetivo de esta etapa NO es mejorar el modelo predictivo"
   ]
  },
  {
   "cell_type": "markdown",
   "id": "0f7882ad-1c71-4f5e-afa3-b7d4e40c7056",
   "metadata": {
    "id": "0f7882ad-1c71-4f5e-afa3-b7d4e40c7056"
   },
   "source": [
    "El objetivo es eliminar campos poco importantes para hacer espacio a nuevos campos, debido a las restricciones de memoria RAM."
   ]
  },
  {
   "cell_type": "code",
   "execution_count": 26,
   "id": "2dd646c3-d58f-4efa-9f56-917c235f1f16",
   "metadata": {
    "id": "2dd646c3-d58f-4efa-9f56-917c235f1f16",
    "vscode": {
     "languageId": "r"
    }
   },
   "outputs": [],
   "source": [
    "VPOS_CORTE <- c()\n",
    "\n",
    "fganancia_lgbm_meseta <- function(probs, datos) {\n",
    "  vlabels <- get_field(datos, \"label\")\n",
    "  vpesos <- get_field(datos, \"weight\")\n",
    "\n",
    "  tbl <- as.data.table(list(\n",
    "    \"prob\" = probs,\n",
    "    \"gan\" = ifelse(vlabels == 1 & vpesos > 1, PARAM$CN$train$gan1, PARAM$CN$train$gan0)\n",
    "  ))\n",
    "\n",
    "  setorder(tbl, -prob)\n",
    "  tbl[, posicion := .I]\n",
    "  tbl[, gan_acum := cumsum(gan)]\n",
    "  setorder(tbl, -gan_acum) # voy por la meseta\n",
    "\n",
    "  gan <- mean(tbl[1:500, gan_acum]) # meseta de tamaño 500\n",
    "\n",
    "  pos_meseta <- tbl[1:500, median(posicion)]\n",
    "  VPOS_CORTE <<- c(VPOS_CORTE, pos_meseta)\n",
    "\n",
    "  return(list(\n",
    "    \"name\" = \"ganancia\",\n",
    "    \"value\" = gan,\n",
    "    \"higher_better\" = TRUE\n",
    "  ))\n",
    "}\n"
   ]
  },
  {
   "cell_type": "code",
   "execution_count": 27,
   "id": "8196a247-f280-4c93-b509-5c0e54cab645",
   "metadata": {
    "id": "8196a247-f280-4c93-b509-5c0e54cab645",
    "vscode": {
     "languageId": "r"
    }
   },
   "outputs": [],
   "source": [
    "# Elimina del dataset las variables que estan por debajo\n",
    "#  de la capa geologica de canaritos\n",
    "# se llama varias veces, luego de agregar muchas variables nuevas,\n",
    "#  para ir reduciendo la cantidad de variables\n",
    "# y así hacer lugar a nuevas variables importantes\n",
    "\n",
    "GVEZ <- 1\n",
    "\n",
    "campitos <- c( \"numero_de_cliente\", \"foto_mes\", \"clase_ternaria\" )\n",
    "\n",
    "CanaritosAsesinos <- function(\n",
    "  canaritos_ratio,\n",
    "  canaritos_desvios,\n",
    "  canaritos_semilla) {\n",
    "\n",
    "  cat( \"inicio CanaritosAsesinos()\\n\")\n",
    "  add_log( \"inicio CanaritosAsesinos()\\n\")\n",
    "  gc(verbose= FALSE)\n",
    "  dataset[, clase01 := 0L ]\n",
    "  dataset[ clase_ternaria %in% PARAM$CN$train$clase01_valor1,\n",
    "      clase01 := 1L ]\n",
    "\n",
    "  set.seed(canaritos_semilla, kind = \"L'Ecuyer-CMRG\")\n",
    "  for (i in 1:(ncol(dataset) * canaritos_ratio)) {\n",
    "    dataset[, paste0(\"canarito\", i) := runif(nrow(dataset))]\n",
    "  }\n",
    "\n",
    "  campos_buenos <- setdiff(\n",
    "    colnames(dataset),\n",
    "    c( campitos, \"clase01\")\n",
    "  )\n",
    "\n",
    "  azar <- runif(nrow(dataset))\n",
    "\n",
    "  dataset[, entrenamiento :=\n",
    "    as.integer( foto_mes %in% PARAM$CN$train$training &\n",
    "      (clase01 == 1 | azar < PARAM$CN$train$undersampling))]\n",
    "\n",
    "  dtrain <- lgb.Dataset(\n",
    "    data = data.matrix(dataset[entrenamiento == TRUE, campos_buenos, with = FALSE]),\n",
    "    label = dataset[entrenamiento == TRUE, clase01],\n",
    "    weight = dataset[\n",
    "      entrenamiento == TRUE,\n",
    "      ifelse(clase_ternaria %in% PARAM$CN$train$positivos, 1.0000001, 1.0)\n",
    "    ],\n",
    "    free_raw_data = FALSE\n",
    "  )\n",
    "\n",
    "  dvalid <- lgb.Dataset(\n",
    "    data = data.matrix(dataset[foto_mes %in% PARAM$CN$train$validation, campos_buenos, with = FALSE]),\n",
    "    label = dataset[foto_mes %in% PARAM$CN$train$validation, clase01],\n",
    "    weight = dataset[\n",
    "      foto_mes %in% PARAM$CN$train$validation,\n",
    "      ifelse( clase_ternaria %in% PARAM$CN$train$positivos, 1.0000001, 1.0)\n",
    "    ],\n",
    "    free_raw_data = FALSE\n",
    "  )\n",
    "\n",
    "\n",
    "  param <- list(\n",
    "    objective = \"binary\",\n",
    "    metric = \"custom\",\n",
    "    first_metric_only = TRUE,\n",
    "    boost_from_average = TRUE,\n",
    "    feature_pre_filter = FALSE,\n",
    "    verbosity = -100,\n",
    "    seed = canaritos_semilla,\n",
    "    max_depth = -1, # -1 significa no limitar,  por ahora lo dejo fijo\n",
    "    min_gain_to_split = 0.0, # por ahora, lo dejo fijo\n",
    "    lambda_l1 = 0.0, # por ahora, lo dejo fijo\n",
    "    lambda_l2 = 0.0, # por ahora, lo dejo fijo\n",
    "    max_bin = 31, # por ahora, lo dejo fijo\n",
    "    num_iterations = 9999, # un numero grande, lo limita early_stopping_rounds\n",
    "    force_row_wise = TRUE, # para que los alumnos no se atemoricen con  warning\n",
    "    learning_rate = 0.065,\n",
    "    feature_fraction = 1.0, # lo seteo en 1\n",
    "    min_data_in_leaf = 260,\n",
    "    num_leaves = 60,\n",
    "    early_stopping_rounds = 200,\n",
    "    num_threads = 1\n",
    "  )\n",
    "\n",
    "  set.seed(canaritos_semilla, kind = \"L'Ecuyer-CMRG\")\n",
    "  modelo <- lgb.train(\n",
    "    data = dtrain,\n",
    "    valids = list(valid = dvalid),\n",
    "    eval = fganancia_lgbm_meseta,\n",
    "    param = param,\n",
    "    verbose = -100\n",
    "  )\n",
    "\n",
    "  tb_importancia <- lgb.importance(model = modelo)\n",
    "  tb_importancia[, pos := .I]\n",
    "\n",
    "  fwrite(tb_importancia,\n",
    "    file = paste0(\"impo_\", GVEZ, \".txt\"),\n",
    "    sep = \"\\t\"\n",
    "  )\n",
    "\n",
    "  GVEZ <<- GVEZ + 1\n",
    "\n",
    "  umbral <- tb_importancia[\n",
    "    Feature %like% \"canarito\",\n",
    "    median(pos) + canaritos_desvios * sd(pos)\n",
    "  ] # Atencion corto en la mediana mas desvios!!\n",
    "\n",
    "  col_utiles <- tb_importancia[\n",
    "    pos < umbral & !(Feature %like% \"canarito\"),\n",
    "    Feature\n",
    "  ]\n",
    "\n",
    "  col_utiles <- unique(c(\n",
    "    col_utiles,\n",
    "    c(campitos, \"mes\")\n",
    "  ))\n",
    "\n",
    "  col_inutiles <- setdiff(colnames(dataset), col_utiles)\n",
    "\n",
    "  dataset[, (col_inutiles) := NULL]\n",
    "\n",
    "  cat( \"fin CanaritosAsesinos()\\n\")\n",
    "  add_log( \"fin CanaritosAsesinos()\\n\")\n",
    "\n",
    "  return( tb_importancia )\n",
    "}\n"
   ]
  },
  {
   "cell_type": "code",
   "execution_count": 28,
   "id": "9249a815-315c-4695-9f2f-bae196697f70",
   "metadata": {
    "id": "9249a815-315c-4695-9f2f-bae196697f70",
    "vscode": {
     "languageId": "r"
    }
   },
   "outputs": [],
   "source": [
    "# Estos DOS parametros son los que se deben modificar\n",
    "PARAM$CN$ratio <- 0.2\n",
    "PARAM$CN$desvios <- 2\n",
    "\n",
    "\n",
    "# Parametros quasi fijos\n",
    "# Parametros de un LightGBM que se genera para estimar la column importance\n",
    "PARAM$CN$train$clase01_valor1 <- c( \"BAJA+2\", \"BAJA+1\")\n",
    "PARAM$CN$train$positivos <- c( \"BAJA+2\")\n",
    "PARAM$CN$train$training <- c( 202101, 202102, 202103)\n",
    "PARAM$CN$train$validation <- c( 202105 )\n",
    "PARAM$CN$train$undersampling <- 0.1\n",
    "PARAM$CN$train$gan1 <- 117000\n",
    "PARAM$CN$train$gan0 <-  -3000"
   ]
  },
  {
   "cell_type": "code",
   "execution_count": 29,
   "id": "6325e48b-e98f-457e-b099-2dafb9a50101",
   "metadata": {
    "id": "6325e48b-e98f-457e-b099-2dafb9a50101",
    "outputId": "3b0d9beb-c2a1-425a-a62c-e16fcbf0e2cc",
    "vscode": {
     "languageId": "r"
    }
   },
   "outputs": [
    {
     "name": "stdout",
     "output_type": "stream",
     "text": [
      "inicio CanaritosAsesinos()\n",
      "fin CanaritosAsesinos()\n"
     ]
    }
   ],
   "source": [
    "# la llamada a Canaritos Asesinos\n",
    "tb_importancia <- CanaritosAsesinos(\n",
    "  canaritos_ratio = PARAM$CN$ratio,\n",
    "  canaritos_desvios = PARAM$CN$desvios,\n",
    "  canaritos_semilla = PARAM$semilla_primigenia\n",
    ")\n"
   ]
  },
  {
   "cell_type": "code",
   "execution_count": 30,
   "id": "25cc7c43-3515-4035-8d21-8c8469c010a1",
   "metadata": {
    "id": "25cc7c43-3515-4035-8d21-8c8469c010a1",
    "vscode": {
     "languageId": "r"
    }
   },
   "outputs": [],
   "source": [
    "# grabo la importancia, ver el archivo directamente en la carpeta\n",
    "\n",
    "fwrite( tb_importancia,\n",
    "  file=\"canaritos.txt\",\n",
    "  sep=\"\\t\"\n",
    ")"
   ]
  },
  {
   "cell_type": "code",
   "execution_count": 73,
   "id": "24084927-88df-497b-9437-769400f4229b",
   "metadata": {
    "id": "24084927-88df-497b-9437-769400f4229b",
    "outputId": "a4d615c6-0101-4252-8255-2afc89fb6533",
    "vscode": {
     "languageId": "r"
    }
   },
   "outputs": [
    {
     "data": {
      "text/html": [
       "534"
      ],
      "text/latex": [
       "534"
      ],
      "text/markdown": [
       "534"
      ],
      "text/plain": [
       "[1] 534"
      ]
     },
     "metadata": {},
     "output_type": "display_data"
    },
    {
     "data": {
      "text/html": [
       "<style>\n",
       ".list-inline {list-style: none; margin:0; padding: 0}\n",
       ".list-inline>li {display: inline-block}\n",
       ".list-inline>li:not(:last-child)::after {content: \"\\00b7\"; padding: 0 .5ex}\n",
       "</style>\n",
       "<ol class=list-inline><li>'numero_de_cliente'</li><li>'foto_mes'</li><li>'internet'</li><li>'cliente_edad'</li><li>'cliente_antiguedad'</li><li>'mrentabilidad'</li><li>'mrentabilidad_annual'</li><li>'mcomisiones'</li><li>'mactivos_margen'</li><li>'mpasivos_margen'</li><li>'cproductos'</li><li>'mcuenta_corriente'</li><li>'mcaja_ahorro'</li><li>'cdescubierto_preacordado'</li><li>'mcuentas_saldo'</li><li>'ctarjeta_visa_transacciones'</li><li>'mtarjeta_visa_consumo'</li><li>'mtarjeta_master_consumo'</li><li>'mprestamos_personales'</li><li>'cpayroll_trx'</li><li>'mpayroll'</li><li>'ccomisiones_mantenimiento'</li><li>'ccallcenter_transacciones'</li><li>'chomebanking_transacciones'</li><li>'ctrx_quarter'</li><li>'Master_status'</li><li>'Master_fechaalta'</li><li>'Master_mpagominimo'</li><li>'Visa_status'</li><li>'Visa_fechaalta'</li><li>'Visa_mpagominimo'</li><li>'clase_ternaria'</li><li>'kmes'</li><li>'mpayroll_sobre_edad'</li><li>'ctrx_quarter_normalizado'</li><li>'foto_mes_formato_fecha'</li><li>'vm_status01'</li><li>'vm_status02'</li><li>'vm_status03'</li><li>'vm_status04'</li><li>'vm_status05'</li><li>'vm_status06'</li><li>'mv_status07'</li><li>'vm_fechaalta'</li><li>'vm_mpagominimo'</li><li>'internet_lag1'</li><li>'cliente_edad_lag1'</li><li>'cliente_antiguedad_lag1'</li><li>'mrentabilidad_lag1'</li><li>'mrentabilidad_annual_lag1'</li><li>'mcomisiones_lag1'</li><li>'mactivos_margen_lag1'</li><li>'mpasivos_margen_lag1'</li><li>'cproductos_lag1'</li><li>'mcuenta_corriente_lag1'</li><li>'mcaja_ahorro_lag1'</li><li>'cdescubierto_preacordado_lag1'</li><li>'mcuentas_saldo_lag1'</li><li>'ctarjeta_visa_transacciones_lag1'</li><li>'mtarjeta_visa_consumo_lag1'</li><li>'mtarjeta_master_consumo_lag1'</li><li>'mprestamos_personales_lag1'</li><li>'cpayroll_trx_lag1'</li><li>'mpayroll_lag1'</li><li>'ccomisiones_mantenimiento_lag1'</li><li>'ccallcenter_transacciones_lag1'</li><li>'chomebanking_transacciones_lag1'</li><li>'ctrx_quarter_lag1'</li><li>'Master_status_lag1'</li><li>'Master_fechaalta_lag1'</li><li>'Master_mpagominimo_lag1'</li><li>'Visa_status_lag1'</li><li>'Visa_fechaalta_lag1'</li><li>'Visa_mpagominimo_lag1'</li><li>'kmes_lag1'</li><li>'mpayroll_sobre_edad_lag1'</li><li>'ctrx_quarter_normalizado_lag1'</li><li>'foto_mes_formato_fecha_lag1'</li><li>'vm_status01_lag1'</li><li>'vm_status02_lag1'</li><li>'vm_status03_lag1'</li><li>'vm_status04_lag1'</li><li>'vm_status05_lag1'</li><li>'vm_status06_lag1'</li><li>'mv_status07_lag1'</li><li>'vm_fechaalta_lag1'</li><li>'vm_mpagominimo_lag1'</li><li>'internet_lag2'</li><li>'cliente_edad_lag2'</li><li>'cliente_antiguedad_lag2'</li><li>'mrentabilidad_lag2'</li><li>'mrentabilidad_annual_lag2'</li><li>'mcomisiones_lag2'</li><li>'mactivos_margen_lag2'</li><li>'mpasivos_margen_lag2'</li><li>'cproductos_lag2'</li><li>'mcuenta_corriente_lag2'</li><li>'mcaja_ahorro_lag2'</li><li>'cdescubierto_preacordado_lag2'</li><li>'mcuentas_saldo_lag2'</li><li>'ctarjeta_visa_transacciones_lag2'</li><li>'mtarjeta_visa_consumo_lag2'</li><li>'mtarjeta_master_consumo_lag2'</li><li>'mprestamos_personales_lag2'</li><li>'cpayroll_trx_lag2'</li><li>'mpayroll_lag2'</li><li>'ccomisiones_mantenimiento_lag2'</li><li>'ccallcenter_transacciones_lag2'</li><li>'chomebanking_transacciones_lag2'</li><li>'ctrx_quarter_lag2'</li><li>'Master_status_lag2'</li><li>'Master_fechaalta_lag2'</li><li>'Master_mpagominimo_lag2'</li><li>'Visa_status_lag2'</li><li>'Visa_fechaalta_lag2'</li><li>'Visa_mpagominimo_lag2'</li><li>'kmes_lag2'</li><li>'mpayroll_sobre_edad_lag2'</li><li>'ctrx_quarter_normalizado_lag2'</li><li>'foto_mes_formato_fecha_lag2'</li><li>'vm_status01_lag2'</li><li>'vm_status02_lag2'</li><li>'vm_status03_lag2'</li><li>'vm_status04_lag2'</li><li>'vm_status05_lag2'</li><li>'vm_status06_lag2'</li><li>'mv_status07_lag2'</li><li>'vm_fechaalta_lag2'</li><li>'vm_mpagominimo_lag2'</li><li>'internet_delta1'</li><li>'internet_delta2'</li><li>'cliente_edad_delta1'</li><li>'cliente_edad_delta2'</li><li>'cliente_antiguedad_delta1'</li><li>'cliente_antiguedad_delta2'</li><li>'mrentabilidad_delta1'</li><li>'mrentabilidad_delta2'</li><li>'mrentabilidad_annual_delta1'</li><li>'mrentabilidad_annual_delta2'</li><li>'mcomisiones_delta1'</li><li>'mcomisiones_delta2'</li><li>'mactivos_margen_delta1'</li><li>'mactivos_margen_delta2'</li><li>'mpasivos_margen_delta1'</li><li>'mpasivos_margen_delta2'</li><li>'cproductos_delta1'</li><li>'cproductos_delta2'</li><li>'mcuenta_corriente_delta1'</li><li>'mcuenta_corriente_delta2'</li><li>'mcaja_ahorro_delta1'</li><li>'mcaja_ahorro_delta2'</li><li>'cdescubierto_preacordado_delta1'</li><li>'cdescubierto_preacordado_delta2'</li><li>'mcuentas_saldo_delta1'</li><li>'mcuentas_saldo_delta2'</li><li>'ctarjeta_visa_transacciones_delta1'</li><li>'ctarjeta_visa_transacciones_delta2'</li><li>'mtarjeta_visa_consumo_delta1'</li><li>'mtarjeta_visa_consumo_delta2'</li><li>'mtarjeta_master_consumo_delta1'</li><li>'mtarjeta_master_consumo_delta2'</li><li>'mprestamos_personales_delta1'</li><li>'mprestamos_personales_delta2'</li><li>'cpayroll_trx_delta1'</li><li>'cpayroll_trx_delta2'</li><li>'mpayroll_delta1'</li><li>'mpayroll_delta2'</li><li>'ccomisiones_mantenimiento_delta1'</li><li>'ccomisiones_mantenimiento_delta2'</li><li>'ccallcenter_transacciones_delta1'</li><li>'ccallcenter_transacciones_delta2'</li><li>'chomebanking_transacciones_delta1'</li><li>'chomebanking_transacciones_delta2'</li><li>'ctrx_quarter_delta1'</li><li>'ctrx_quarter_delta2'</li><li>'Master_status_delta1'</li><li>'Master_status_delta2'</li><li>'Master_fechaalta_delta1'</li><li>'Master_fechaalta_delta2'</li><li>'Master_mpagominimo_delta1'</li><li>'Master_mpagominimo_delta2'</li><li>'Visa_status_delta1'</li><li>'Visa_status_delta2'</li><li>'Visa_fechaalta_delta1'</li><li>'Visa_fechaalta_delta2'</li><li>'Visa_mpagominimo_delta1'</li><li>'Visa_mpagominimo_delta2'</li><li>'kmes_delta1'</li><li>'kmes_delta2'</li><li>'mpayroll_sobre_edad_delta1'</li><li>'mpayroll_sobre_edad_delta2'</li><li>'ctrx_quarter_normalizado_delta1'</li><li>'ctrx_quarter_normalizado_delta2'</li><li>'foto_mes_formato_fecha_delta1'</li><li>'foto_mes_formato_fecha_delta2'</li><li>'vm_status01_delta1'</li><li>'vm_status01_delta2'</li><li>'vm_status02_delta1'</li><li>'vm_status02_delta2'</li><li>'vm_status03_delta1'</li><li>⋯</li><li>'rf_006_007'</li><li>'rf_006_005'</li><li>'rf_006_006'</li><li>'rf_007_015'</li><li>'rf_008_012'</li><li>'rf_008_000'</li><li>'rf_009_005'</li><li>'rf_009_003'</li><li>'rf_010_014'</li><li>'rf_010_000'</li><li>'rf_010_013'</li><li>'rf_011_011'</li><li>'rf_011_002'</li><li>'rf_011_014'</li><li>'rf_011_013'</li><li>'rf_013_014'</li><li>'rf_014_001'</li><li>'rf_014_007'</li><li>'rf_014_004'</li><li>'rf_014_010'</li><li>'rf_014_009'</li><li>'rf_014_006'</li><li>'rf_014_000'</li><li>'rf_014_013'</li><li>'rf_015_010'</li><li>'rf_015_006'</li><li>'rf_015_008'</li><li>'rf_015_004'</li><li>'rf_015_005'</li><li>'rf_016_002'</li><li>'rf_016_008'</li><li>'rf_016_014'</li><li>'rf_018_015'</li><li>'rf_018_006'</li><li>'rf_018_002'</li><li>'rf_020_012'</li><li>'rf_020_015'</li><li>'rf_020_013'</li><li>'rf_020_014'</li><li>'rf_020_001'</li><li>'rf_001_005'</li><li>'rf_001_001'</li><li>'rf_001_007'</li><li>'rf_001_000'</li><li>'rf_001_003'</li><li>'rf_001_009'</li><li>'rf_001_008'</li><li>'rf_002_011'</li><li>'rf_002_014'</li><li>'rf_002_013'</li><li>'rf_002_010'</li><li>'rf_002_009'</li><li>'rf_002_000'</li><li>'rf_003_005'</li><li>'rf_003_014'</li><li>'rf_003_012'</li><li>'rf_003_008'</li><li>'rf_003_015'</li><li>'rf_003_001'</li><li>'rf_004_010'</li><li>'rf_004_014'</li><li>'rf_004_001'</li><li>'rf_004_013'</li><li>'rf_004_012'</li><li>'rf_004_008'</li><li>'rf_004_005'</li><li>'rf_004_003'</li><li>'rf_005_013'</li><li>'rf_005_003'</li><li>'rf_005_011'</li><li>'rf_005_002'</li><li>'rf_005_004'</li><li>'rf_005_005'</li><li>'rf_005_001'</li><li>'rf_005_000'</li><li>'rf_005_006'</li><li>'rf_006_012'</li><li>'rf_006_008'</li><li>'rf_007_001'</li><li>'rf_007_005'</li><li>'rf_007_010'</li><li>'rf_007_008'</li><li>'rf_007_014'</li><li>'rf_007_011'</li><li>'rf_007_004'</li><li>'rf_007_000'</li><li>'rf_008_014'</li><li>'rf_008_001'</li><li>'rf_008_004'</li><li>'rf_008_010'</li><li>'rf_009_014'</li><li>'rf_009_009'</li><li>'rf_009_001'</li><li>'rf_009_015'</li><li>'rf_009_007'</li><li>'rf_009_004'</li><li>'rf_009_002'</li><li>'rf_009_006'</li><li>'rf_009_000'</li><li>'rf_010_009'</li><li>'rf_010_010'</li><li>'rf_010_011'</li><li>'rf_010_008'</li><li>'rf_010_004'</li><li>'rf_010_007'</li><li>'rf_010_003'</li><li>'rf_010_005'</li><li>'rf_011_001'</li><li>'rf_011_005'</li><li>'rf_011_012'</li><li>'rf_011_000'</li><li>'rf_011_007'</li><li>'rf_011_004'</li><li>'rf_012_009'</li><li>'rf_012_010'</li><li>'rf_012_011'</li><li>'rf_012_013'</li><li>'rf_012_001'</li><li>'rf_012_007'</li><li>'rf_012_000'</li><li>'rf_012_005'</li><li>'rf_012_015'</li><li>'rf_012_004'</li><li>'rf_012_003'</li><li>'rf_013_002'</li><li>'rf_013_009'</li><li>'rf_013_012'</li><li>'rf_013_004'</li><li>'rf_013_011'</li><li>'rf_013_007'</li><li>'rf_013_010'</li><li>'rf_013_008'</li><li>'rf_013_000'</li><li>'rf_013_006'</li><li>'rf_014_003'</li><li>'rf_015_015'</li><li>'rf_015_011'</li><li>'rf_015_012'</li><li>'rf_015_007'</li><li>'rf_015_001'</li><li>'rf_015_002'</li><li>'rf_015_013'</li><li>'rf_015_000'</li><li>'rf_016_009'</li><li>'rf_016_011'</li><li>'rf_016_010'</li><li>'rf_016_001'</li><li>'rf_016_005'</li><li>'rf_016_000'</li><li>'rf_016_006'</li><li>'rf_017_003'</li><li>'rf_017_009'</li><li>'rf_017_011'</li><li>'rf_017_015'</li><li>'rf_017_008'</li><li>'rf_017_001'</li><li>'rf_017_000'</li><li>'rf_017_012'</li><li>'rf_017_002'</li><li>'rf_017_007'</li><li>'rf_017_006'</li><li>'rf_017_004'</li><li>'rf_018_010'</li><li>'rf_018_001'</li><li>'rf_018_012'</li><li>'rf_018_003'</li><li>'rf_018_000'</li><li>'rf_018_007'</li><li>'rf_018_004'</li><li>'rf_019_010'</li><li>'rf_019_001'</li><li>'rf_019_005'</li><li>'rf_019_015'</li><li>'rf_019_012'</li><li>'rf_019_013'</li><li>'rf_019_014'</li><li>'rf_019_004'</li><li>'rf_019_000'</li><li>'rf_020_007'</li><li>'rf_020_004'</li><li>'rf_001_013'</li><li>'rf_002_007'</li><li>'rf_002_012'</li><li>'rf_003_007'</li><li>'rf_005_014'</li><li>'rf_005_008'</li><li>'rf_005_015'</li><li>'rf_007_009'</li><li>'rf_010_015'</li><li>'rf_010_001'</li><li>'rf_011_015'</li><li>'rf_011_010'</li><li>'rf_012_006'</li><li>'rf_012_012'</li><li>'rf_016_003'</li><li>'rf_016_013'</li><li>'rf_017_014'</li><li>'rf_018_013'</li><li>'rf_018_005'</li><li>'rf_010_006'</li></ol>\n"
      ],
      "text/latex": [
       "\\begin{enumerate*}\n",
       "\\item 'numero\\_de\\_cliente'\n",
       "\\item 'foto\\_mes'\n",
       "\\item 'internet'\n",
       "\\item 'cliente\\_edad'\n",
       "\\item 'cliente\\_antiguedad'\n",
       "\\item 'mrentabilidad'\n",
       "\\item 'mrentabilidad\\_annual'\n",
       "\\item 'mcomisiones'\n",
       "\\item 'mactivos\\_margen'\n",
       "\\item 'mpasivos\\_margen'\n",
       "\\item 'cproductos'\n",
       "\\item 'mcuenta\\_corriente'\n",
       "\\item 'mcaja\\_ahorro'\n",
       "\\item 'cdescubierto\\_preacordado'\n",
       "\\item 'mcuentas\\_saldo'\n",
       "\\item 'ctarjeta\\_visa\\_transacciones'\n",
       "\\item 'mtarjeta\\_visa\\_consumo'\n",
       "\\item 'mtarjeta\\_master\\_consumo'\n",
       "\\item 'mprestamos\\_personales'\n",
       "\\item 'cpayroll\\_trx'\n",
       "\\item 'mpayroll'\n",
       "\\item 'ccomisiones\\_mantenimiento'\n",
       "\\item 'ccallcenter\\_transacciones'\n",
       "\\item 'chomebanking\\_transacciones'\n",
       "\\item 'ctrx\\_quarter'\n",
       "\\item 'Master\\_status'\n",
       "\\item 'Master\\_fechaalta'\n",
       "\\item 'Master\\_mpagominimo'\n",
       "\\item 'Visa\\_status'\n",
       "\\item 'Visa\\_fechaalta'\n",
       "\\item 'Visa\\_mpagominimo'\n",
       "\\item 'clase\\_ternaria'\n",
       "\\item 'kmes'\n",
       "\\item 'mpayroll\\_sobre\\_edad'\n",
       "\\item 'ctrx\\_quarter\\_normalizado'\n",
       "\\item 'foto\\_mes\\_formato\\_fecha'\n",
       "\\item 'vm\\_status01'\n",
       "\\item 'vm\\_status02'\n",
       "\\item 'vm\\_status03'\n",
       "\\item 'vm\\_status04'\n",
       "\\item 'vm\\_status05'\n",
       "\\item 'vm\\_status06'\n",
       "\\item 'mv\\_status07'\n",
       "\\item 'vm\\_fechaalta'\n",
       "\\item 'vm\\_mpagominimo'\n",
       "\\item 'internet\\_lag1'\n",
       "\\item 'cliente\\_edad\\_lag1'\n",
       "\\item 'cliente\\_antiguedad\\_lag1'\n",
       "\\item 'mrentabilidad\\_lag1'\n",
       "\\item 'mrentabilidad\\_annual\\_lag1'\n",
       "\\item 'mcomisiones\\_lag1'\n",
       "\\item 'mactivos\\_margen\\_lag1'\n",
       "\\item 'mpasivos\\_margen\\_lag1'\n",
       "\\item 'cproductos\\_lag1'\n",
       "\\item 'mcuenta\\_corriente\\_lag1'\n",
       "\\item 'mcaja\\_ahorro\\_lag1'\n",
       "\\item 'cdescubierto\\_preacordado\\_lag1'\n",
       "\\item 'mcuentas\\_saldo\\_lag1'\n",
       "\\item 'ctarjeta\\_visa\\_transacciones\\_lag1'\n",
       "\\item 'mtarjeta\\_visa\\_consumo\\_lag1'\n",
       "\\item 'mtarjeta\\_master\\_consumo\\_lag1'\n",
       "\\item 'mprestamos\\_personales\\_lag1'\n",
       "\\item 'cpayroll\\_trx\\_lag1'\n",
       "\\item 'mpayroll\\_lag1'\n",
       "\\item 'ccomisiones\\_mantenimiento\\_lag1'\n",
       "\\item 'ccallcenter\\_transacciones\\_lag1'\n",
       "\\item 'chomebanking\\_transacciones\\_lag1'\n",
       "\\item 'ctrx\\_quarter\\_lag1'\n",
       "\\item 'Master\\_status\\_lag1'\n",
       "\\item 'Master\\_fechaalta\\_lag1'\n",
       "\\item 'Master\\_mpagominimo\\_lag1'\n",
       "\\item 'Visa\\_status\\_lag1'\n",
       "\\item 'Visa\\_fechaalta\\_lag1'\n",
       "\\item 'Visa\\_mpagominimo\\_lag1'\n",
       "\\item 'kmes\\_lag1'\n",
       "\\item 'mpayroll\\_sobre\\_edad\\_lag1'\n",
       "\\item 'ctrx\\_quarter\\_normalizado\\_lag1'\n",
       "\\item 'foto\\_mes\\_formato\\_fecha\\_lag1'\n",
       "\\item 'vm\\_status01\\_lag1'\n",
       "\\item 'vm\\_status02\\_lag1'\n",
       "\\item 'vm\\_status03\\_lag1'\n",
       "\\item 'vm\\_status04\\_lag1'\n",
       "\\item 'vm\\_status05\\_lag1'\n",
       "\\item 'vm\\_status06\\_lag1'\n",
       "\\item 'mv\\_status07\\_lag1'\n",
       "\\item 'vm\\_fechaalta\\_lag1'\n",
       "\\item 'vm\\_mpagominimo\\_lag1'\n",
       "\\item 'internet\\_lag2'\n",
       "\\item 'cliente\\_edad\\_lag2'\n",
       "\\item 'cliente\\_antiguedad\\_lag2'\n",
       "\\item 'mrentabilidad\\_lag2'\n",
       "\\item 'mrentabilidad\\_annual\\_lag2'\n",
       "\\item 'mcomisiones\\_lag2'\n",
       "\\item 'mactivos\\_margen\\_lag2'\n",
       "\\item 'mpasivos\\_margen\\_lag2'\n",
       "\\item 'cproductos\\_lag2'\n",
       "\\item 'mcuenta\\_corriente\\_lag2'\n",
       "\\item 'mcaja\\_ahorro\\_lag2'\n",
       "\\item 'cdescubierto\\_preacordado\\_lag2'\n",
       "\\item 'mcuentas\\_saldo\\_lag2'\n",
       "\\item 'ctarjeta\\_visa\\_transacciones\\_lag2'\n",
       "\\item 'mtarjeta\\_visa\\_consumo\\_lag2'\n",
       "\\item 'mtarjeta\\_master\\_consumo\\_lag2'\n",
       "\\item 'mprestamos\\_personales\\_lag2'\n",
       "\\item 'cpayroll\\_trx\\_lag2'\n",
       "\\item 'mpayroll\\_lag2'\n",
       "\\item 'ccomisiones\\_mantenimiento\\_lag2'\n",
       "\\item 'ccallcenter\\_transacciones\\_lag2'\n",
       "\\item 'chomebanking\\_transacciones\\_lag2'\n",
       "\\item 'ctrx\\_quarter\\_lag2'\n",
       "\\item 'Master\\_status\\_lag2'\n",
       "\\item 'Master\\_fechaalta\\_lag2'\n",
       "\\item 'Master\\_mpagominimo\\_lag2'\n",
       "\\item 'Visa\\_status\\_lag2'\n",
       "\\item 'Visa\\_fechaalta\\_lag2'\n",
       "\\item 'Visa\\_mpagominimo\\_lag2'\n",
       "\\item 'kmes\\_lag2'\n",
       "\\item 'mpayroll\\_sobre\\_edad\\_lag2'\n",
       "\\item 'ctrx\\_quarter\\_normalizado\\_lag2'\n",
       "\\item 'foto\\_mes\\_formato\\_fecha\\_lag2'\n",
       "\\item 'vm\\_status01\\_lag2'\n",
       "\\item 'vm\\_status02\\_lag2'\n",
       "\\item 'vm\\_status03\\_lag2'\n",
       "\\item 'vm\\_status04\\_lag2'\n",
       "\\item 'vm\\_status05\\_lag2'\n",
       "\\item 'vm\\_status06\\_lag2'\n",
       "\\item 'mv\\_status07\\_lag2'\n",
       "\\item 'vm\\_fechaalta\\_lag2'\n",
       "\\item 'vm\\_mpagominimo\\_lag2'\n",
       "\\item 'internet\\_delta1'\n",
       "\\item 'internet\\_delta2'\n",
       "\\item 'cliente\\_edad\\_delta1'\n",
       "\\item 'cliente\\_edad\\_delta2'\n",
       "\\item 'cliente\\_antiguedad\\_delta1'\n",
       "\\item 'cliente\\_antiguedad\\_delta2'\n",
       "\\item 'mrentabilidad\\_delta1'\n",
       "\\item 'mrentabilidad\\_delta2'\n",
       "\\item 'mrentabilidad\\_annual\\_delta1'\n",
       "\\item 'mrentabilidad\\_annual\\_delta2'\n",
       "\\item 'mcomisiones\\_delta1'\n",
       "\\item 'mcomisiones\\_delta2'\n",
       "\\item 'mactivos\\_margen\\_delta1'\n",
       "\\item 'mactivos\\_margen\\_delta2'\n",
       "\\item 'mpasivos\\_margen\\_delta1'\n",
       "\\item 'mpasivos\\_margen\\_delta2'\n",
       "\\item 'cproductos\\_delta1'\n",
       "\\item 'cproductos\\_delta2'\n",
       "\\item 'mcuenta\\_corriente\\_delta1'\n",
       "\\item 'mcuenta\\_corriente\\_delta2'\n",
       "\\item 'mcaja\\_ahorro\\_delta1'\n",
       "\\item 'mcaja\\_ahorro\\_delta2'\n",
       "\\item 'cdescubierto\\_preacordado\\_delta1'\n",
       "\\item 'cdescubierto\\_preacordado\\_delta2'\n",
       "\\item 'mcuentas\\_saldo\\_delta1'\n",
       "\\item 'mcuentas\\_saldo\\_delta2'\n",
       "\\item 'ctarjeta\\_visa\\_transacciones\\_delta1'\n",
       "\\item 'ctarjeta\\_visa\\_transacciones\\_delta2'\n",
       "\\item 'mtarjeta\\_visa\\_consumo\\_delta1'\n",
       "\\item 'mtarjeta\\_visa\\_consumo\\_delta2'\n",
       "\\item 'mtarjeta\\_master\\_consumo\\_delta1'\n",
       "\\item 'mtarjeta\\_master\\_consumo\\_delta2'\n",
       "\\item 'mprestamos\\_personales\\_delta1'\n",
       "\\item 'mprestamos\\_personales\\_delta2'\n",
       "\\item 'cpayroll\\_trx\\_delta1'\n",
       "\\item 'cpayroll\\_trx\\_delta2'\n",
       "\\item 'mpayroll\\_delta1'\n",
       "\\item 'mpayroll\\_delta2'\n",
       "\\item 'ccomisiones\\_mantenimiento\\_delta1'\n",
       "\\item 'ccomisiones\\_mantenimiento\\_delta2'\n",
       "\\item 'ccallcenter\\_transacciones\\_delta1'\n",
       "\\item 'ccallcenter\\_transacciones\\_delta2'\n",
       "\\item 'chomebanking\\_transacciones\\_delta1'\n",
       "\\item 'chomebanking\\_transacciones\\_delta2'\n",
       "\\item 'ctrx\\_quarter\\_delta1'\n",
       "\\item 'ctrx\\_quarter\\_delta2'\n",
       "\\item 'Master\\_status\\_delta1'\n",
       "\\item 'Master\\_status\\_delta2'\n",
       "\\item 'Master\\_fechaalta\\_delta1'\n",
       "\\item 'Master\\_fechaalta\\_delta2'\n",
       "\\item 'Master\\_mpagominimo\\_delta1'\n",
       "\\item 'Master\\_mpagominimo\\_delta2'\n",
       "\\item 'Visa\\_status\\_delta1'\n",
       "\\item 'Visa\\_status\\_delta2'\n",
       "\\item 'Visa\\_fechaalta\\_delta1'\n",
       "\\item 'Visa\\_fechaalta\\_delta2'\n",
       "\\item 'Visa\\_mpagominimo\\_delta1'\n",
       "\\item 'Visa\\_mpagominimo\\_delta2'\n",
       "\\item 'kmes\\_delta1'\n",
       "\\item 'kmes\\_delta2'\n",
       "\\item 'mpayroll\\_sobre\\_edad\\_delta1'\n",
       "\\item 'mpayroll\\_sobre\\_edad\\_delta2'\n",
       "\\item 'ctrx\\_quarter\\_normalizado\\_delta1'\n",
       "\\item 'ctrx\\_quarter\\_normalizado\\_delta2'\n",
       "\\item 'foto\\_mes\\_formato\\_fecha\\_delta1'\n",
       "\\item 'foto\\_mes\\_formato\\_fecha\\_delta2'\n",
       "\\item 'vm\\_status01\\_delta1'\n",
       "\\item 'vm\\_status01\\_delta2'\n",
       "\\item 'vm\\_status02\\_delta1'\n",
       "\\item 'vm\\_status02\\_delta2'\n",
       "\\item 'vm\\_status03\\_delta1'\n",
       "\\item ⋯\n",
       "\\item 'rf\\_006\\_007'\n",
       "\\item 'rf\\_006\\_005'\n",
       "\\item 'rf\\_006\\_006'\n",
       "\\item 'rf\\_007\\_015'\n",
       "\\item 'rf\\_008\\_012'\n",
       "\\item 'rf\\_008\\_000'\n",
       "\\item 'rf\\_009\\_005'\n",
       "\\item 'rf\\_009\\_003'\n",
       "\\item 'rf\\_010\\_014'\n",
       "\\item 'rf\\_010\\_000'\n",
       "\\item 'rf\\_010\\_013'\n",
       "\\item 'rf\\_011\\_011'\n",
       "\\item 'rf\\_011\\_002'\n",
       "\\item 'rf\\_011\\_014'\n",
       "\\item 'rf\\_011\\_013'\n",
       "\\item 'rf\\_013\\_014'\n",
       "\\item 'rf\\_014\\_001'\n",
       "\\item 'rf\\_014\\_007'\n",
       "\\item 'rf\\_014\\_004'\n",
       "\\item 'rf\\_014\\_010'\n",
       "\\item 'rf\\_014\\_009'\n",
       "\\item 'rf\\_014\\_006'\n",
       "\\item 'rf\\_014\\_000'\n",
       "\\item 'rf\\_014\\_013'\n",
       "\\item 'rf\\_015\\_010'\n",
       "\\item 'rf\\_015\\_006'\n",
       "\\item 'rf\\_015\\_008'\n",
       "\\item 'rf\\_015\\_004'\n",
       "\\item 'rf\\_015\\_005'\n",
       "\\item 'rf\\_016\\_002'\n",
       "\\item 'rf\\_016\\_008'\n",
       "\\item 'rf\\_016\\_014'\n",
       "\\item 'rf\\_018\\_015'\n",
       "\\item 'rf\\_018\\_006'\n",
       "\\item 'rf\\_018\\_002'\n",
       "\\item 'rf\\_020\\_012'\n",
       "\\item 'rf\\_020\\_015'\n",
       "\\item 'rf\\_020\\_013'\n",
       "\\item 'rf\\_020\\_014'\n",
       "\\item 'rf\\_020\\_001'\n",
       "\\item 'rf\\_001\\_005'\n",
       "\\item 'rf\\_001\\_001'\n",
       "\\item 'rf\\_001\\_007'\n",
       "\\item 'rf\\_001\\_000'\n",
       "\\item 'rf\\_001\\_003'\n",
       "\\item 'rf\\_001\\_009'\n",
       "\\item 'rf\\_001\\_008'\n",
       "\\item 'rf\\_002\\_011'\n",
       "\\item 'rf\\_002\\_014'\n",
       "\\item 'rf\\_002\\_013'\n",
       "\\item 'rf\\_002\\_010'\n",
       "\\item 'rf\\_002\\_009'\n",
       "\\item 'rf\\_002\\_000'\n",
       "\\item 'rf\\_003\\_005'\n",
       "\\item 'rf\\_003\\_014'\n",
       "\\item 'rf\\_003\\_012'\n",
       "\\item 'rf\\_003\\_008'\n",
       "\\item 'rf\\_003\\_015'\n",
       "\\item 'rf\\_003\\_001'\n",
       "\\item 'rf\\_004\\_010'\n",
       "\\item 'rf\\_004\\_014'\n",
       "\\item 'rf\\_004\\_001'\n",
       "\\item 'rf\\_004\\_013'\n",
       "\\item 'rf\\_004\\_012'\n",
       "\\item 'rf\\_004\\_008'\n",
       "\\item 'rf\\_004\\_005'\n",
       "\\item 'rf\\_004\\_003'\n",
       "\\item 'rf\\_005\\_013'\n",
       "\\item 'rf\\_005\\_003'\n",
       "\\item 'rf\\_005\\_011'\n",
       "\\item 'rf\\_005\\_002'\n",
       "\\item 'rf\\_005\\_004'\n",
       "\\item 'rf\\_005\\_005'\n",
       "\\item 'rf\\_005\\_001'\n",
       "\\item 'rf\\_005\\_000'\n",
       "\\item 'rf\\_005\\_006'\n",
       "\\item 'rf\\_006\\_012'\n",
       "\\item 'rf\\_006\\_008'\n",
       "\\item 'rf\\_007\\_001'\n",
       "\\item 'rf\\_007\\_005'\n",
       "\\item 'rf\\_007\\_010'\n",
       "\\item 'rf\\_007\\_008'\n",
       "\\item 'rf\\_007\\_014'\n",
       "\\item 'rf\\_007\\_011'\n",
       "\\item 'rf\\_007\\_004'\n",
       "\\item 'rf\\_007\\_000'\n",
       "\\item 'rf\\_008\\_014'\n",
       "\\item 'rf\\_008\\_001'\n",
       "\\item 'rf\\_008\\_004'\n",
       "\\item 'rf\\_008\\_010'\n",
       "\\item 'rf\\_009\\_014'\n",
       "\\item 'rf\\_009\\_009'\n",
       "\\item 'rf\\_009\\_001'\n",
       "\\item 'rf\\_009\\_015'\n",
       "\\item 'rf\\_009\\_007'\n",
       "\\item 'rf\\_009\\_004'\n",
       "\\item 'rf\\_009\\_002'\n",
       "\\item 'rf\\_009\\_006'\n",
       "\\item 'rf\\_009\\_000'\n",
       "\\item 'rf\\_010\\_009'\n",
       "\\item 'rf\\_010\\_010'\n",
       "\\item 'rf\\_010\\_011'\n",
       "\\item 'rf\\_010\\_008'\n",
       "\\item 'rf\\_010\\_004'\n",
       "\\item 'rf\\_010\\_007'\n",
       "\\item 'rf\\_010\\_003'\n",
       "\\item 'rf\\_010\\_005'\n",
       "\\item 'rf\\_011\\_001'\n",
       "\\item 'rf\\_011\\_005'\n",
       "\\item 'rf\\_011\\_012'\n",
       "\\item 'rf\\_011\\_000'\n",
       "\\item 'rf\\_011\\_007'\n",
       "\\item 'rf\\_011\\_004'\n",
       "\\item 'rf\\_012\\_009'\n",
       "\\item 'rf\\_012\\_010'\n",
       "\\item 'rf\\_012\\_011'\n",
       "\\item 'rf\\_012\\_013'\n",
       "\\item 'rf\\_012\\_001'\n",
       "\\item 'rf\\_012\\_007'\n",
       "\\item 'rf\\_012\\_000'\n",
       "\\item 'rf\\_012\\_005'\n",
       "\\item 'rf\\_012\\_015'\n",
       "\\item 'rf\\_012\\_004'\n",
       "\\item 'rf\\_012\\_003'\n",
       "\\item 'rf\\_013\\_002'\n",
       "\\item 'rf\\_013\\_009'\n",
       "\\item 'rf\\_013\\_012'\n",
       "\\item 'rf\\_013\\_004'\n",
       "\\item 'rf\\_013\\_011'\n",
       "\\item 'rf\\_013\\_007'\n",
       "\\item 'rf\\_013\\_010'\n",
       "\\item 'rf\\_013\\_008'\n",
       "\\item 'rf\\_013\\_000'\n",
       "\\item 'rf\\_013\\_006'\n",
       "\\item 'rf\\_014\\_003'\n",
       "\\item 'rf\\_015\\_015'\n",
       "\\item 'rf\\_015\\_011'\n",
       "\\item 'rf\\_015\\_012'\n",
       "\\item 'rf\\_015\\_007'\n",
       "\\item 'rf\\_015\\_001'\n",
       "\\item 'rf\\_015\\_002'\n",
       "\\item 'rf\\_015\\_013'\n",
       "\\item 'rf\\_015\\_000'\n",
       "\\item 'rf\\_016\\_009'\n",
       "\\item 'rf\\_016\\_011'\n",
       "\\item 'rf\\_016\\_010'\n",
       "\\item 'rf\\_016\\_001'\n",
       "\\item 'rf\\_016\\_005'\n",
       "\\item 'rf\\_016\\_000'\n",
       "\\item 'rf\\_016\\_006'\n",
       "\\item 'rf\\_017\\_003'\n",
       "\\item 'rf\\_017\\_009'\n",
       "\\item 'rf\\_017\\_011'\n",
       "\\item 'rf\\_017\\_015'\n",
       "\\item 'rf\\_017\\_008'\n",
       "\\item 'rf\\_017\\_001'\n",
       "\\item 'rf\\_017\\_000'\n",
       "\\item 'rf\\_017\\_012'\n",
       "\\item 'rf\\_017\\_002'\n",
       "\\item 'rf\\_017\\_007'\n",
       "\\item 'rf\\_017\\_006'\n",
       "\\item 'rf\\_017\\_004'\n",
       "\\item 'rf\\_018\\_010'\n",
       "\\item 'rf\\_018\\_001'\n",
       "\\item 'rf\\_018\\_012'\n",
       "\\item 'rf\\_018\\_003'\n",
       "\\item 'rf\\_018\\_000'\n",
       "\\item 'rf\\_018\\_007'\n",
       "\\item 'rf\\_018\\_004'\n",
       "\\item 'rf\\_019\\_010'\n",
       "\\item 'rf\\_019\\_001'\n",
       "\\item 'rf\\_019\\_005'\n",
       "\\item 'rf\\_019\\_015'\n",
       "\\item 'rf\\_019\\_012'\n",
       "\\item 'rf\\_019\\_013'\n",
       "\\item 'rf\\_019\\_014'\n",
       "\\item 'rf\\_019\\_004'\n",
       "\\item 'rf\\_019\\_000'\n",
       "\\item 'rf\\_020\\_007'\n",
       "\\item 'rf\\_020\\_004'\n",
       "\\item 'rf\\_001\\_013'\n",
       "\\item 'rf\\_002\\_007'\n",
       "\\item 'rf\\_002\\_012'\n",
       "\\item 'rf\\_003\\_007'\n",
       "\\item 'rf\\_005\\_014'\n",
       "\\item 'rf\\_005\\_008'\n",
       "\\item 'rf\\_005\\_015'\n",
       "\\item 'rf\\_007\\_009'\n",
       "\\item 'rf\\_010\\_015'\n",
       "\\item 'rf\\_010\\_001'\n",
       "\\item 'rf\\_011\\_015'\n",
       "\\item 'rf\\_011\\_010'\n",
       "\\item 'rf\\_012\\_006'\n",
       "\\item 'rf\\_012\\_012'\n",
       "\\item 'rf\\_016\\_003'\n",
       "\\item 'rf\\_016\\_013'\n",
       "\\item 'rf\\_017\\_014'\n",
       "\\item 'rf\\_018\\_013'\n",
       "\\item 'rf\\_018\\_005'\n",
       "\\item 'rf\\_010\\_006'\n",
       "\\end{enumerate*}\n"
      ],
      "text/markdown": [
       "1. 'numero_de_cliente'\n",
       "2. 'foto_mes'\n",
       "3. 'internet'\n",
       "4. 'cliente_edad'\n",
       "5. 'cliente_antiguedad'\n",
       "6. 'mrentabilidad'\n",
       "7. 'mrentabilidad_annual'\n",
       "8. 'mcomisiones'\n",
       "9. 'mactivos_margen'\n",
       "10. 'mpasivos_margen'\n",
       "11. 'cproductos'\n",
       "12. 'mcuenta_corriente'\n",
       "13. 'mcaja_ahorro'\n",
       "14. 'cdescubierto_preacordado'\n",
       "15. 'mcuentas_saldo'\n",
       "16. 'ctarjeta_visa_transacciones'\n",
       "17. 'mtarjeta_visa_consumo'\n",
       "18. 'mtarjeta_master_consumo'\n",
       "19. 'mprestamos_personales'\n",
       "20. 'cpayroll_trx'\n",
       "21. 'mpayroll'\n",
       "22. 'ccomisiones_mantenimiento'\n",
       "23. 'ccallcenter_transacciones'\n",
       "24. 'chomebanking_transacciones'\n",
       "25. 'ctrx_quarter'\n",
       "26. 'Master_status'\n",
       "27. 'Master_fechaalta'\n",
       "28. 'Master_mpagominimo'\n",
       "29. 'Visa_status'\n",
       "30. 'Visa_fechaalta'\n",
       "31. 'Visa_mpagominimo'\n",
       "32. 'clase_ternaria'\n",
       "33. 'kmes'\n",
       "34. 'mpayroll_sobre_edad'\n",
       "35. 'ctrx_quarter_normalizado'\n",
       "36. 'foto_mes_formato_fecha'\n",
       "37. 'vm_status01'\n",
       "38. 'vm_status02'\n",
       "39. 'vm_status03'\n",
       "40. 'vm_status04'\n",
       "41. 'vm_status05'\n",
       "42. 'vm_status06'\n",
       "43. 'mv_status07'\n",
       "44. 'vm_fechaalta'\n",
       "45. 'vm_mpagominimo'\n",
       "46. 'internet_lag1'\n",
       "47. 'cliente_edad_lag1'\n",
       "48. 'cliente_antiguedad_lag1'\n",
       "49. 'mrentabilidad_lag1'\n",
       "50. 'mrentabilidad_annual_lag1'\n",
       "51. 'mcomisiones_lag1'\n",
       "52. 'mactivos_margen_lag1'\n",
       "53. 'mpasivos_margen_lag1'\n",
       "54. 'cproductos_lag1'\n",
       "55. 'mcuenta_corriente_lag1'\n",
       "56. 'mcaja_ahorro_lag1'\n",
       "57. 'cdescubierto_preacordado_lag1'\n",
       "58. 'mcuentas_saldo_lag1'\n",
       "59. 'ctarjeta_visa_transacciones_lag1'\n",
       "60. 'mtarjeta_visa_consumo_lag1'\n",
       "61. 'mtarjeta_master_consumo_lag1'\n",
       "62. 'mprestamos_personales_lag1'\n",
       "63. 'cpayroll_trx_lag1'\n",
       "64. 'mpayroll_lag1'\n",
       "65. 'ccomisiones_mantenimiento_lag1'\n",
       "66. 'ccallcenter_transacciones_lag1'\n",
       "67. 'chomebanking_transacciones_lag1'\n",
       "68. 'ctrx_quarter_lag1'\n",
       "69. 'Master_status_lag1'\n",
       "70. 'Master_fechaalta_lag1'\n",
       "71. 'Master_mpagominimo_lag1'\n",
       "72. 'Visa_status_lag1'\n",
       "73. 'Visa_fechaalta_lag1'\n",
       "74. 'Visa_mpagominimo_lag1'\n",
       "75. 'kmes_lag1'\n",
       "76. 'mpayroll_sobre_edad_lag1'\n",
       "77. 'ctrx_quarter_normalizado_lag1'\n",
       "78. 'foto_mes_formato_fecha_lag1'\n",
       "79. 'vm_status01_lag1'\n",
       "80. 'vm_status02_lag1'\n",
       "81. 'vm_status03_lag1'\n",
       "82. 'vm_status04_lag1'\n",
       "83. 'vm_status05_lag1'\n",
       "84. 'vm_status06_lag1'\n",
       "85. 'mv_status07_lag1'\n",
       "86. 'vm_fechaalta_lag1'\n",
       "87. 'vm_mpagominimo_lag1'\n",
       "88. 'internet_lag2'\n",
       "89. 'cliente_edad_lag2'\n",
       "90. 'cliente_antiguedad_lag2'\n",
       "91. 'mrentabilidad_lag2'\n",
       "92. 'mrentabilidad_annual_lag2'\n",
       "93. 'mcomisiones_lag2'\n",
       "94. 'mactivos_margen_lag2'\n",
       "95. 'mpasivos_margen_lag2'\n",
       "96. 'cproductos_lag2'\n",
       "97. 'mcuenta_corriente_lag2'\n",
       "98. 'mcaja_ahorro_lag2'\n",
       "99. 'cdescubierto_preacordado_lag2'\n",
       "100. 'mcuentas_saldo_lag2'\n",
       "101. 'ctarjeta_visa_transacciones_lag2'\n",
       "102. 'mtarjeta_visa_consumo_lag2'\n",
       "103. 'mtarjeta_master_consumo_lag2'\n",
       "104. 'mprestamos_personales_lag2'\n",
       "105. 'cpayroll_trx_lag2'\n",
       "106. 'mpayroll_lag2'\n",
       "107. 'ccomisiones_mantenimiento_lag2'\n",
       "108. 'ccallcenter_transacciones_lag2'\n",
       "109. 'chomebanking_transacciones_lag2'\n",
       "110. 'ctrx_quarter_lag2'\n",
       "111. 'Master_status_lag2'\n",
       "112. 'Master_fechaalta_lag2'\n",
       "113. 'Master_mpagominimo_lag2'\n",
       "114. 'Visa_status_lag2'\n",
       "115. 'Visa_fechaalta_lag2'\n",
       "116. 'Visa_mpagominimo_lag2'\n",
       "117. 'kmes_lag2'\n",
       "118. 'mpayroll_sobre_edad_lag2'\n",
       "119. 'ctrx_quarter_normalizado_lag2'\n",
       "120. 'foto_mes_formato_fecha_lag2'\n",
       "121. 'vm_status01_lag2'\n",
       "122. 'vm_status02_lag2'\n",
       "123. 'vm_status03_lag2'\n",
       "124. 'vm_status04_lag2'\n",
       "125. 'vm_status05_lag2'\n",
       "126. 'vm_status06_lag2'\n",
       "127. 'mv_status07_lag2'\n",
       "128. 'vm_fechaalta_lag2'\n",
       "129. 'vm_mpagominimo_lag2'\n",
       "130. 'internet_delta1'\n",
       "131. 'internet_delta2'\n",
       "132. 'cliente_edad_delta1'\n",
       "133. 'cliente_edad_delta2'\n",
       "134. 'cliente_antiguedad_delta1'\n",
       "135. 'cliente_antiguedad_delta2'\n",
       "136. 'mrentabilidad_delta1'\n",
       "137. 'mrentabilidad_delta2'\n",
       "138. 'mrentabilidad_annual_delta1'\n",
       "139. 'mrentabilidad_annual_delta2'\n",
       "140. 'mcomisiones_delta1'\n",
       "141. 'mcomisiones_delta2'\n",
       "142. 'mactivos_margen_delta1'\n",
       "143. 'mactivos_margen_delta2'\n",
       "144. 'mpasivos_margen_delta1'\n",
       "145. 'mpasivos_margen_delta2'\n",
       "146. 'cproductos_delta1'\n",
       "147. 'cproductos_delta2'\n",
       "148. 'mcuenta_corriente_delta1'\n",
       "149. 'mcuenta_corriente_delta2'\n",
       "150. 'mcaja_ahorro_delta1'\n",
       "151. 'mcaja_ahorro_delta2'\n",
       "152. 'cdescubierto_preacordado_delta1'\n",
       "153. 'cdescubierto_preacordado_delta2'\n",
       "154. 'mcuentas_saldo_delta1'\n",
       "155. 'mcuentas_saldo_delta2'\n",
       "156. 'ctarjeta_visa_transacciones_delta1'\n",
       "157. 'ctarjeta_visa_transacciones_delta2'\n",
       "158. 'mtarjeta_visa_consumo_delta1'\n",
       "159. 'mtarjeta_visa_consumo_delta2'\n",
       "160. 'mtarjeta_master_consumo_delta1'\n",
       "161. 'mtarjeta_master_consumo_delta2'\n",
       "162. 'mprestamos_personales_delta1'\n",
       "163. 'mprestamos_personales_delta2'\n",
       "164. 'cpayroll_trx_delta1'\n",
       "165. 'cpayroll_trx_delta2'\n",
       "166. 'mpayroll_delta1'\n",
       "167. 'mpayroll_delta2'\n",
       "168. 'ccomisiones_mantenimiento_delta1'\n",
       "169. 'ccomisiones_mantenimiento_delta2'\n",
       "170. 'ccallcenter_transacciones_delta1'\n",
       "171. 'ccallcenter_transacciones_delta2'\n",
       "172. 'chomebanking_transacciones_delta1'\n",
       "173. 'chomebanking_transacciones_delta2'\n",
       "174. 'ctrx_quarter_delta1'\n",
       "175. 'ctrx_quarter_delta2'\n",
       "176. 'Master_status_delta1'\n",
       "177. 'Master_status_delta2'\n",
       "178. 'Master_fechaalta_delta1'\n",
       "179. 'Master_fechaalta_delta2'\n",
       "180. 'Master_mpagominimo_delta1'\n",
       "181. 'Master_mpagominimo_delta2'\n",
       "182. 'Visa_status_delta1'\n",
       "183. 'Visa_status_delta2'\n",
       "184. 'Visa_fechaalta_delta1'\n",
       "185. 'Visa_fechaalta_delta2'\n",
       "186. 'Visa_mpagominimo_delta1'\n",
       "187. 'Visa_mpagominimo_delta2'\n",
       "188. 'kmes_delta1'\n",
       "189. 'kmes_delta2'\n",
       "190. 'mpayroll_sobre_edad_delta1'\n",
       "191. 'mpayroll_sobre_edad_delta2'\n",
       "192. 'ctrx_quarter_normalizado_delta1'\n",
       "193. 'ctrx_quarter_normalizado_delta2'\n",
       "194. 'foto_mes_formato_fecha_delta1'\n",
       "195. 'foto_mes_formato_fecha_delta2'\n",
       "196. 'vm_status01_delta1'\n",
       "197. 'vm_status01_delta2'\n",
       "198. 'vm_status02_delta1'\n",
       "199. 'vm_status02_delta2'\n",
       "200. 'vm_status03_delta1'\n",
       "201. ⋯\n",
       "202. 'rf_006_007'\n",
       "203. 'rf_006_005'\n",
       "204. 'rf_006_006'\n",
       "205. 'rf_007_015'\n",
       "206. 'rf_008_012'\n",
       "207. 'rf_008_000'\n",
       "208. 'rf_009_005'\n",
       "209. 'rf_009_003'\n",
       "210. 'rf_010_014'\n",
       "211. 'rf_010_000'\n",
       "212. 'rf_010_013'\n",
       "213. 'rf_011_011'\n",
       "214. 'rf_011_002'\n",
       "215. 'rf_011_014'\n",
       "216. 'rf_011_013'\n",
       "217. 'rf_013_014'\n",
       "218. 'rf_014_001'\n",
       "219. 'rf_014_007'\n",
       "220. 'rf_014_004'\n",
       "221. 'rf_014_010'\n",
       "222. 'rf_014_009'\n",
       "223. 'rf_014_006'\n",
       "224. 'rf_014_000'\n",
       "225. 'rf_014_013'\n",
       "226. 'rf_015_010'\n",
       "227. 'rf_015_006'\n",
       "228. 'rf_015_008'\n",
       "229. 'rf_015_004'\n",
       "230. 'rf_015_005'\n",
       "231. 'rf_016_002'\n",
       "232. 'rf_016_008'\n",
       "233. 'rf_016_014'\n",
       "234. 'rf_018_015'\n",
       "235. 'rf_018_006'\n",
       "236. 'rf_018_002'\n",
       "237. 'rf_020_012'\n",
       "238. 'rf_020_015'\n",
       "239. 'rf_020_013'\n",
       "240. 'rf_020_014'\n",
       "241. 'rf_020_001'\n",
       "242. 'rf_001_005'\n",
       "243. 'rf_001_001'\n",
       "244. 'rf_001_007'\n",
       "245. 'rf_001_000'\n",
       "246. 'rf_001_003'\n",
       "247. 'rf_001_009'\n",
       "248. 'rf_001_008'\n",
       "249. 'rf_002_011'\n",
       "250. 'rf_002_014'\n",
       "251. 'rf_002_013'\n",
       "252. 'rf_002_010'\n",
       "253. 'rf_002_009'\n",
       "254. 'rf_002_000'\n",
       "255. 'rf_003_005'\n",
       "256. 'rf_003_014'\n",
       "257. 'rf_003_012'\n",
       "258. 'rf_003_008'\n",
       "259. 'rf_003_015'\n",
       "260. 'rf_003_001'\n",
       "261. 'rf_004_010'\n",
       "262. 'rf_004_014'\n",
       "263. 'rf_004_001'\n",
       "264. 'rf_004_013'\n",
       "265. 'rf_004_012'\n",
       "266. 'rf_004_008'\n",
       "267. 'rf_004_005'\n",
       "268. 'rf_004_003'\n",
       "269. 'rf_005_013'\n",
       "270. 'rf_005_003'\n",
       "271. 'rf_005_011'\n",
       "272. 'rf_005_002'\n",
       "273. 'rf_005_004'\n",
       "274. 'rf_005_005'\n",
       "275. 'rf_005_001'\n",
       "276. 'rf_005_000'\n",
       "277. 'rf_005_006'\n",
       "278. 'rf_006_012'\n",
       "279. 'rf_006_008'\n",
       "280. 'rf_007_001'\n",
       "281. 'rf_007_005'\n",
       "282. 'rf_007_010'\n",
       "283. 'rf_007_008'\n",
       "284. 'rf_007_014'\n",
       "285. 'rf_007_011'\n",
       "286. 'rf_007_004'\n",
       "287. 'rf_007_000'\n",
       "288. 'rf_008_014'\n",
       "289. 'rf_008_001'\n",
       "290. 'rf_008_004'\n",
       "291. 'rf_008_010'\n",
       "292. 'rf_009_014'\n",
       "293. 'rf_009_009'\n",
       "294. 'rf_009_001'\n",
       "295. 'rf_009_015'\n",
       "296. 'rf_009_007'\n",
       "297. 'rf_009_004'\n",
       "298. 'rf_009_002'\n",
       "299. 'rf_009_006'\n",
       "300. 'rf_009_000'\n",
       "301. 'rf_010_009'\n",
       "302. 'rf_010_010'\n",
       "303. 'rf_010_011'\n",
       "304. 'rf_010_008'\n",
       "305. 'rf_010_004'\n",
       "306. 'rf_010_007'\n",
       "307. 'rf_010_003'\n",
       "308. 'rf_010_005'\n",
       "309. 'rf_011_001'\n",
       "310. 'rf_011_005'\n",
       "311. 'rf_011_012'\n",
       "312. 'rf_011_000'\n",
       "313. 'rf_011_007'\n",
       "314. 'rf_011_004'\n",
       "315. 'rf_012_009'\n",
       "316. 'rf_012_010'\n",
       "317. 'rf_012_011'\n",
       "318. 'rf_012_013'\n",
       "319. 'rf_012_001'\n",
       "320. 'rf_012_007'\n",
       "321. 'rf_012_000'\n",
       "322. 'rf_012_005'\n",
       "323. 'rf_012_015'\n",
       "324. 'rf_012_004'\n",
       "325. 'rf_012_003'\n",
       "326. 'rf_013_002'\n",
       "327. 'rf_013_009'\n",
       "328. 'rf_013_012'\n",
       "329. 'rf_013_004'\n",
       "330. 'rf_013_011'\n",
       "331. 'rf_013_007'\n",
       "332. 'rf_013_010'\n",
       "333. 'rf_013_008'\n",
       "334. 'rf_013_000'\n",
       "335. 'rf_013_006'\n",
       "336. 'rf_014_003'\n",
       "337. 'rf_015_015'\n",
       "338. 'rf_015_011'\n",
       "339. 'rf_015_012'\n",
       "340. 'rf_015_007'\n",
       "341. 'rf_015_001'\n",
       "342. 'rf_015_002'\n",
       "343. 'rf_015_013'\n",
       "344. 'rf_015_000'\n",
       "345. 'rf_016_009'\n",
       "346. 'rf_016_011'\n",
       "347. 'rf_016_010'\n",
       "348. 'rf_016_001'\n",
       "349. 'rf_016_005'\n",
       "350. 'rf_016_000'\n",
       "351. 'rf_016_006'\n",
       "352. 'rf_017_003'\n",
       "353. 'rf_017_009'\n",
       "354. 'rf_017_011'\n",
       "355. 'rf_017_015'\n",
       "356. 'rf_017_008'\n",
       "357. 'rf_017_001'\n",
       "358. 'rf_017_000'\n",
       "359. 'rf_017_012'\n",
       "360. 'rf_017_002'\n",
       "361. 'rf_017_007'\n",
       "362. 'rf_017_006'\n",
       "363. 'rf_017_004'\n",
       "364. 'rf_018_010'\n",
       "365. 'rf_018_001'\n",
       "366. 'rf_018_012'\n",
       "367. 'rf_018_003'\n",
       "368. 'rf_018_000'\n",
       "369. 'rf_018_007'\n",
       "370. 'rf_018_004'\n",
       "371. 'rf_019_010'\n",
       "372. 'rf_019_001'\n",
       "373. 'rf_019_005'\n",
       "374. 'rf_019_015'\n",
       "375. 'rf_019_012'\n",
       "376. 'rf_019_013'\n",
       "377. 'rf_019_014'\n",
       "378. 'rf_019_004'\n",
       "379. 'rf_019_000'\n",
       "380. 'rf_020_007'\n",
       "381. 'rf_020_004'\n",
       "382. 'rf_001_013'\n",
       "383. 'rf_002_007'\n",
       "384. 'rf_002_012'\n",
       "385. 'rf_003_007'\n",
       "386. 'rf_005_014'\n",
       "387. 'rf_005_008'\n",
       "388. 'rf_005_015'\n",
       "389. 'rf_007_009'\n",
       "390. 'rf_010_015'\n",
       "391. 'rf_010_001'\n",
       "392. 'rf_011_015'\n",
       "393. 'rf_011_010'\n",
       "394. 'rf_012_006'\n",
       "395. 'rf_012_012'\n",
       "396. 'rf_016_003'\n",
       "397. 'rf_016_013'\n",
       "398. 'rf_017_014'\n",
       "399. 'rf_018_013'\n",
       "400. 'rf_018_005'\n",
       "401. 'rf_010_006'\n",
       "\n",
       "\n"
      ],
      "text/plain": [
       "  [1] \"numero_de_cliente\"                  \"foto_mes\"                          \n",
       "  [3] \"internet\"                           \"cliente_edad\"                      \n",
       "  [5] \"cliente_antiguedad\"                 \"mrentabilidad\"                     \n",
       "  [7] \"mrentabilidad_annual\"               \"mcomisiones\"                       \n",
       "  [9] \"mactivos_margen\"                    \"mpasivos_margen\"                   \n",
       " [11] \"cproductos\"                         \"mcuenta_corriente\"                 \n",
       " [13] \"mcaja_ahorro\"                       \"cdescubierto_preacordado\"          \n",
       " [15] \"mcuentas_saldo\"                     \"ctarjeta_visa_transacciones\"       \n",
       " [17] \"mtarjeta_visa_consumo\"              \"mtarjeta_master_consumo\"           \n",
       " [19] \"mprestamos_personales\"              \"cpayroll_trx\"                      \n",
       " [21] \"mpayroll\"                           \"ccomisiones_mantenimiento\"         \n",
       " [23] \"ccallcenter_transacciones\"          \"chomebanking_transacciones\"        \n",
       " [25] \"ctrx_quarter\"                       \"Master_status\"                     \n",
       " [27] \"Master_fechaalta\"                   \"Master_mpagominimo\"                \n",
       " [29] \"Visa_status\"                        \"Visa_fechaalta\"                    \n",
       " [31] \"Visa_mpagominimo\"                   \"clase_ternaria\"                    \n",
       " [33] \"kmes\"                               \"mpayroll_sobre_edad\"               \n",
       " [35] \"ctrx_quarter_normalizado\"           \"foto_mes_formato_fecha\"            \n",
       " [37] \"vm_status01\"                        \"vm_status02\"                       \n",
       " [39] \"vm_status03\"                        \"vm_status04\"                       \n",
       " [41] \"vm_status05\"                        \"vm_status06\"                       \n",
       " [43] \"mv_status07\"                        \"vm_fechaalta\"                      \n",
       " [45] \"vm_mpagominimo\"                     \"internet_lag1\"                     \n",
       " [47] \"cliente_edad_lag1\"                  \"cliente_antiguedad_lag1\"           \n",
       " [49] \"mrentabilidad_lag1\"                 \"mrentabilidad_annual_lag1\"         \n",
       " [51] \"mcomisiones_lag1\"                   \"mactivos_margen_lag1\"              \n",
       " [53] \"mpasivos_margen_lag1\"               \"cproductos_lag1\"                   \n",
       " [55] \"mcuenta_corriente_lag1\"             \"mcaja_ahorro_lag1\"                 \n",
       " [57] \"cdescubierto_preacordado_lag1\"      \"mcuentas_saldo_lag1\"               \n",
       " [59] \"ctarjeta_visa_transacciones_lag1\"   \"mtarjeta_visa_consumo_lag1\"        \n",
       " [61] \"mtarjeta_master_consumo_lag1\"       \"mprestamos_personales_lag1\"        \n",
       " [63] \"cpayroll_trx_lag1\"                  \"mpayroll_lag1\"                     \n",
       " [65] \"ccomisiones_mantenimiento_lag1\"     \"ccallcenter_transacciones_lag1\"    \n",
       " [67] \"chomebanking_transacciones_lag1\"    \"ctrx_quarter_lag1\"                 \n",
       " [69] \"Master_status_lag1\"                 \"Master_fechaalta_lag1\"             \n",
       " [71] \"Master_mpagominimo_lag1\"            \"Visa_status_lag1\"                  \n",
       " [73] \"Visa_fechaalta_lag1\"                \"Visa_mpagominimo_lag1\"             \n",
       " [75] \"kmes_lag1\"                          \"mpayroll_sobre_edad_lag1\"          \n",
       " [77] \"ctrx_quarter_normalizado_lag1\"      \"foto_mes_formato_fecha_lag1\"       \n",
       " [79] \"vm_status01_lag1\"                   \"vm_status02_lag1\"                  \n",
       " [81] \"vm_status03_lag1\"                   \"vm_status04_lag1\"                  \n",
       " [83] \"vm_status05_lag1\"                   \"vm_status06_lag1\"                  \n",
       " [85] \"mv_status07_lag1\"                   \"vm_fechaalta_lag1\"                 \n",
       " [87] \"vm_mpagominimo_lag1\"                \"internet_lag2\"                     \n",
       " [89] \"cliente_edad_lag2\"                  \"cliente_antiguedad_lag2\"           \n",
       " [91] \"mrentabilidad_lag2\"                 \"mrentabilidad_annual_lag2\"         \n",
       " [93] \"mcomisiones_lag2\"                   \"mactivos_margen_lag2\"              \n",
       " [95] \"mpasivos_margen_lag2\"               \"cproductos_lag2\"                   \n",
       " [97] \"mcuenta_corriente_lag2\"             \"mcaja_ahorro_lag2\"                 \n",
       " [99] \"cdescubierto_preacordado_lag2\"      \"mcuentas_saldo_lag2\"               \n",
       "[101] \"ctarjeta_visa_transacciones_lag2\"   \"mtarjeta_visa_consumo_lag2\"        \n",
       "[103] \"mtarjeta_master_consumo_lag2\"       \"mprestamos_personales_lag2\"        \n",
       "[105] \"cpayroll_trx_lag2\"                  \"mpayroll_lag2\"                     \n",
       "[107] \"ccomisiones_mantenimiento_lag2\"     \"ccallcenter_transacciones_lag2\"    \n",
       "[109] \"chomebanking_transacciones_lag2\"    \"ctrx_quarter_lag2\"                 \n",
       "[111] \"Master_status_lag2\"                 \"Master_fechaalta_lag2\"             \n",
       "[113] \"Master_mpagominimo_lag2\"            \"Visa_status_lag2\"                  \n",
       "[115] \"Visa_fechaalta_lag2\"                \"Visa_mpagominimo_lag2\"             \n",
       "[117] \"kmes_lag2\"                          \"mpayroll_sobre_edad_lag2\"          \n",
       "[119] \"ctrx_quarter_normalizado_lag2\"      \"foto_mes_formato_fecha_lag2\"       \n",
       "[121] \"vm_status01_lag2\"                   \"vm_status02_lag2\"                  \n",
       "[123] \"vm_status03_lag2\"                   \"vm_status04_lag2\"                  \n",
       "[125] \"vm_status05_lag2\"                   \"vm_status06_lag2\"                  \n",
       "[127] \"mv_status07_lag2\"                   \"vm_fechaalta_lag2\"                 \n",
       "[129] \"vm_mpagominimo_lag2\"                \"internet_delta1\"                   \n",
       "[131] \"internet_delta2\"                    \"cliente_edad_delta1\"               \n",
       "[133] \"cliente_edad_delta2\"                \"cliente_antiguedad_delta1\"         \n",
       "[135] \"cliente_antiguedad_delta2\"          \"mrentabilidad_delta1\"              \n",
       "[137] \"mrentabilidad_delta2\"               \"mrentabilidad_annual_delta1\"       \n",
       "[139] \"mrentabilidad_annual_delta2\"        \"mcomisiones_delta1\"                \n",
       "[141] \"mcomisiones_delta2\"                 \"mactivos_margen_delta1\"            \n",
       "[143] \"mactivos_margen_delta2\"             \"mpasivos_margen_delta1\"            \n",
       "[145] \"mpasivos_margen_delta2\"             \"cproductos_delta1\"                 \n",
       "[147] \"cproductos_delta2\"                  \"mcuenta_corriente_delta1\"          \n",
       "[149] \"mcuenta_corriente_delta2\"           \"mcaja_ahorro_delta1\"               \n",
       "[151] \"mcaja_ahorro_delta2\"                \"cdescubierto_preacordado_delta1\"   \n",
       "[153] \"cdescubierto_preacordado_delta2\"    \"mcuentas_saldo_delta1\"             \n",
       "[155] \"mcuentas_saldo_delta2\"              \"ctarjeta_visa_transacciones_delta1\"\n",
       "[157] \"ctarjeta_visa_transacciones_delta2\" \"mtarjeta_visa_consumo_delta1\"      \n",
       "[159] \"mtarjeta_visa_consumo_delta2\"       \"mtarjeta_master_consumo_delta1\"    \n",
       "[161] \"mtarjeta_master_consumo_delta2\"     \"mprestamos_personales_delta1\"      \n",
       "[163] \"mprestamos_personales_delta2\"       \"cpayroll_trx_delta1\"               \n",
       "[165] \"cpayroll_trx_delta2\"                \"mpayroll_delta1\"                   \n",
       "[167] \"mpayroll_delta2\"                    \"ccomisiones_mantenimiento_delta1\"  \n",
       "[169] \"ccomisiones_mantenimiento_delta2\"   \"ccallcenter_transacciones_delta1\"  \n",
       "[171] \"ccallcenter_transacciones_delta2\"   \"chomebanking_transacciones_delta1\" \n",
       "[173] \"chomebanking_transacciones_delta2\"  \"ctrx_quarter_delta1\"               \n",
       "[175] \"ctrx_quarter_delta2\"                \"Master_status_delta1\"              \n",
       "[177] \"Master_status_delta2\"               \"Master_fechaalta_delta1\"           \n",
       "[179] \"Master_fechaalta_delta2\"            \"Master_mpagominimo_delta1\"         \n",
       "[181] \"Master_mpagominimo_delta2\"          \"Visa_status_delta1\"                \n",
       "[183] \"Visa_status_delta2\"                 \"Visa_fechaalta_delta1\"             \n",
       "[185] \"Visa_fechaalta_delta2\"              \"Visa_mpagominimo_delta1\"           \n",
       "[187] \"Visa_mpagominimo_delta2\"            \"kmes_delta1\"                       \n",
       "[189] \"kmes_delta2\"                        \"mpayroll_sobre_edad_delta1\"        \n",
       "[191] \"mpayroll_sobre_edad_delta2\"         \"ctrx_quarter_normalizado_delta1\"   \n",
       "[193] \"ctrx_quarter_normalizado_delta2\"    \"foto_mes_formato_fecha_delta1\"     \n",
       "[195] \"foto_mes_formato_fecha_delta2\"      \"vm_status01_delta1\"                \n",
       "[197] \"vm_status01_delta2\"                 \"vm_status02_delta1\"                \n",
       "[199] \"vm_status02_delta2\"                 \"vm_status03_delta1\"                \n",
       "[201] \"vm_status03_delta2\"                 \"vm_status04_delta1\"                \n",
       "[203] \"vm_status04_delta2\"                 \"vm_status05_delta1\"                \n",
       "[205] \"vm_status05_delta2\"                 \"vm_status06_delta1\"                \n",
       "[207] \"vm_status06_delta2\"                 \"mv_status07_delta1\"                \n",
       "[209] \"mv_status07_delta2\"                 \"vm_fechaalta_delta1\"               \n",
       "[211] \"vm_fechaalta_delta2\"                \"vm_mpagominimo_delta1\"             \n",
       "[213] \"vm_mpagominimo_delta2\"              \"entrenamiento\"                     \n",
       "[215] \"rf_001_015\"                         \"rf_001_011\"                        \n",
       "[217] \"rf_001_006\"                         \"rf_001_014\"                        \n",
       "[219] \"rf_001_012\"                         \"rf_001_002\"                        \n",
       "[221] \"rf_001_004\"                         \"rf_002_006\"                        \n",
       "[223] \"rf_002_002\"                         \"rf_002_005\"                        \n",
       "[225] \"rf_002_003\"                         \"rf_003_010\"                        \n",
       "[227] \"rf_003_009\"                         \"rf_003_011\"                        \n",
       "[229] \"rf_003_002\"                         \"rf_004_015\"                        \n",
       "[231] \"rf_004_002\"                         \"rf_004_007\"                        \n",
       "[233] \"rf_004_000\"                         \"rf_005_012\"                        \n",
       "[235] \"rf_005_007\"                         \"rf_005_009\"                        \n",
       "[237] \"rf_005_010\"                         \"rf_006_010\"                        \n",
       "[239] \"rf_006_015\"                         \"rf_006_009\"                        \n",
       "[241] \"rf_006_000\"                         \"rf_006_013\"                        \n",
       "[243] \"rf_006_004\"                         \"rf_006_003\"                        \n",
       "[245] \"rf_007_007\"                         \"rf_007_006\"                        \n",
       "[247] \"rf_007_013\"                         \"rf_007_012\"                        \n",
       "[249] \"rf_007_002\"                         \"rf_007_003\"                        \n",
       "[251] \"rf_008_005\"                         \"rf_008_006\"                        \n",
       "[253] \"rf_008_013\"                         \"rf_008_011\"                        \n",
       "[255] \"rf_008_002\"                         \"rf_008_015\"                        \n",
       "[257] \"rf_008_008\"                         \"rf_008_007\"                        \n",
       "[259] \"rf_008_003\"                         \"rf_008_009\"                        \n",
       "[261] \"rf_009_013\"                         \"rf_009_012\"                        \n",
       "[263] \"rf_009_008\"                         \"rf_009_011\"                        \n",
       "[265] \"rf_009_010\"                         \"rf_010_002\"                        \n",
       "[267] \"rf_010_012\"                         \"rf_011_003\"                        \n",
       "[269] \"rf_011_006\"                         \"rf_011_009\"                        \n",
       "[271] \"rf_011_008\"                         \"rf_012_008\"                        \n",
       "[273] \"rf_012_002\"                         \"rf_012_014\"                        \n",
       "[275] \"rf_013_005\"                         \"rf_013_015\"                        \n",
       "[277] \"rf_013_013\"                         \"rf_013_001\"                        \n",
       "[279] \"rf_013_003\"                         \"rf_014_012\"                        \n",
       "[281] \"rf_014_008\"                         \"rf_014_005\"                        \n",
       "[283] \"rf_014_011\"                         \"rf_014_015\"                        \n",
       "[285] \"rf_014_002\"                         \"rf_014_014\"                        \n",
       "[287] \"rf_015_003\"                         \"rf_015_009\"                        \n",
       "[289] \"rf_015_014\"                         \"rf_016_004\"                        \n",
       "[291] \"rf_016_012\"                         \"rf_016_007\"                        \n",
       "[293] \"rf_016_015\"                         \"rf_017_005\"                        \n",
       "[295] \"rf_017_010\"                         \"rf_017_013\"                        \n",
       "[297] \"rf_018_008\"                         \"rf_018_009\"                        \n",
       "[299] \"rf_018_014\"                         \"rf_018_011\"                        \n",
       "[301] \"rf_019_006\"                         \"rf_019_009\"                        \n",
       "[303] \"rf_019_008\"                         \"rf_019_002\"                        \n",
       "[305] \"rf_019_007\"                         \"rf_019_003\"                        \n",
       "[307] \"rf_019_011\"                         \"rf_020_009\"                        \n",
       "[309] \"rf_020_008\"                         \"rf_020_002\"                        \n",
       "[311] \"rf_020_006\"                         \"rf_020_000\"                        \n",
       "[313] \"rf_020_010\"                         \"rf_020_005\"                        \n",
       "[315] \"rf_020_011\"                         \"rf_020_003\"                        \n",
       "[317] \"rf_001_010\"                         \"rf_002_001\"                        \n",
       "[319] \"rf_002_015\"                         \"rf_002_004\"                        \n",
       "[321] \"rf_002_008\"                         \"rf_003_013\"                        \n",
       "[323] \"rf_003_006\"                         \"rf_003_003\"                        \n",
       "[325] \"rf_003_000\"                         \"rf_003_004\"                        \n",
       "[327] \"rf_004_004\"                         \"rf_004_009\"                        \n",
       "[329] \"rf_004_006\"                         \"rf_004_011\"                        \n",
       "[331] \"rf_006_011\"                         \"rf_006_001\"                        \n",
       "[333] \"rf_006_002\"                         \"rf_006_014\"                        \n",
       "[335] \"rf_006_007\"                         \"rf_006_005\"                        \n",
       "[337] \"rf_006_006\"                         \"rf_007_015\"                        \n",
       "[339] \"rf_008_012\"                         \"rf_008_000\"                        \n",
       "[341] \"rf_009_005\"                         \"rf_009_003\"                        \n",
       "[343] \"rf_010_014\"                         \"rf_010_000\"                        \n",
       "[345] \"rf_010_013\"                         \"rf_011_011\"                        \n",
       "[347] \"rf_011_002\"                         \"rf_011_014\"                        \n",
       "[349] \"rf_011_013\"                         \"rf_013_014\"                        \n",
       "[351] \"rf_014_001\"                         \"rf_014_007\"                        \n",
       "[353] \"rf_014_004\"                         \"rf_014_010\"                        \n",
       "[355] \"rf_014_009\"                         \"rf_014_006\"                        \n",
       "[357] \"rf_014_000\"                         \"rf_014_013\"                        \n",
       "[359] \"rf_015_010\"                         \"rf_015_006\"                        \n",
       "[361] \"rf_015_008\"                         \"rf_015_004\"                        \n",
       "[363] \"rf_015_005\"                         \"rf_016_002\"                        \n",
       "[365] \"rf_016_008\"                         \"rf_016_014\"                        \n",
       "[367] \"rf_018_015\"                         \"rf_018_006\"                        \n",
       "[369] \"rf_018_002\"                         \"rf_020_012\"                        \n",
       "[371] \"rf_020_015\"                         \"rf_020_013\"                        \n",
       "[373] \"rf_020_014\"                         \"rf_020_001\"                        \n",
       "[375] \"rf_001_005\"                         \"rf_001_001\"                        \n",
       "[377] \"rf_001_007\"                         \"rf_001_000\"                        \n",
       "[379] \"rf_001_003\"                         \"rf_001_009\"                        \n",
       "[381] \"rf_001_008\"                         \"rf_002_011\"                        \n",
       "[383] \"rf_002_014\"                         \"rf_002_013\"                        \n",
       "[385] \"rf_002_010\"                         \"rf_002_009\"                        \n",
       "[387] \"rf_002_000\"                         \"rf_003_005\"                        \n",
       "[389] \"rf_003_014\"                         \"rf_003_012\"                        \n",
       "[391] \"rf_003_008\"                         \"rf_003_015\"                        \n",
       "[393] \"rf_003_001\"                         \"rf_004_010\"                        \n",
       "[395] \"rf_004_014\"                         \"rf_004_001\"                        \n",
       "[397] \"rf_004_013\"                         \"rf_004_012\"                        \n",
       "[399] \"rf_004_008\"                         \"rf_004_005\"                        \n",
       "[401] \"rf_004_003\"                         \"rf_005_013\"                        \n",
       "[403] \"rf_005_003\"                         \"rf_005_011\"                        \n",
       "[405] \"rf_005_002\"                         \"rf_005_004\"                        \n",
       "[407] \"rf_005_005\"                         \"rf_005_001\"                        \n",
       "[409] \"rf_005_000\"                         \"rf_005_006\"                        \n",
       "[411] \"rf_006_012\"                         \"rf_006_008\"                        \n",
       "[413] \"rf_007_001\"                         \"rf_007_005\"                        \n",
       "[415] \"rf_007_010\"                         \"rf_007_008\"                        \n",
       "[417] \"rf_007_014\"                         \"rf_007_011\"                        \n",
       "[419] \"rf_007_004\"                         \"rf_007_000\"                        \n",
       "[421] \"rf_008_014\"                         \"rf_008_001\"                        \n",
       "[423] \"rf_008_004\"                         \"rf_008_010\"                        \n",
       "[425] \"rf_009_014\"                         \"rf_009_009\"                        \n",
       "[427] \"rf_009_001\"                         \"rf_009_015\"                        \n",
       "[429] \"rf_009_007\"                         \"rf_009_004\"                        \n",
       "[431] \"rf_009_002\"                         \"rf_009_006\"                        \n",
       "[433] \"rf_009_000\"                         \"rf_010_009\"                        \n",
       "[435] \"rf_010_010\"                         \"rf_010_011\"                        \n",
       "[437] \"rf_010_008\"                         \"rf_010_004\"                        \n",
       "[439] \"rf_010_007\"                         \"rf_010_003\"                        \n",
       "[441] \"rf_010_005\"                         \"rf_011_001\"                        \n",
       "[443] \"rf_011_005\"                         \"rf_011_012\"                        \n",
       "[445] \"rf_011_000\"                         \"rf_011_007\"                        \n",
       "[447] \"rf_011_004\"                         \"rf_012_009\"                        \n",
       "[449] \"rf_012_010\"                         \"rf_012_011\"                        \n",
       "[451] \"rf_012_013\"                         \"rf_012_001\"                        \n",
       "[453] \"rf_012_007\"                         \"rf_012_000\"                        \n",
       "[455] \"rf_012_005\"                         \"rf_012_015\"                        \n",
       "[457] \"rf_012_004\"                         \"rf_012_003\"                        \n",
       "[459] \"rf_013_002\"                         \"rf_013_009\"                        \n",
       "[461] \"rf_013_012\"                         \"rf_013_004\"                        \n",
       "[463] \"rf_013_011\"                         \"rf_013_007\"                        \n",
       "[465] \"rf_013_010\"                         \"rf_013_008\"                        \n",
       "[467] \"rf_013_000\"                         \"rf_013_006\"                        \n",
       "[469] \"rf_014_003\"                         \"rf_015_015\"                        \n",
       "[471] \"rf_015_011\"                         \"rf_015_012\"                        \n",
       "[473] \"rf_015_007\"                         \"rf_015_001\"                        \n",
       "[475] \"rf_015_002\"                         \"rf_015_013\"                        \n",
       "[477] \"rf_015_000\"                         \"rf_016_009\"                        \n",
       "[479] \"rf_016_011\"                         \"rf_016_010\"                        \n",
       "[481] \"rf_016_001\"                         \"rf_016_005\"                        \n",
       "[483] \"rf_016_000\"                         \"rf_016_006\"                        \n",
       "[485] \"rf_017_003\"                         \"rf_017_009\"                        \n",
       "[487] \"rf_017_011\"                         \"rf_017_015\"                        \n",
       "[489] \"rf_017_008\"                         \"rf_017_001\"                        \n",
       "[491] \"rf_017_000\"                         \"rf_017_012\"                        \n",
       "[493] \"rf_017_002\"                         \"rf_017_007\"                        \n",
       "[495] \"rf_017_006\"                         \"rf_017_004\"                        \n",
       "[497] \"rf_018_010\"                         \"rf_018_001\"                        \n",
       "[499] \"rf_018_012\"                         \"rf_018_003\"                        \n",
       "[501] \"rf_018_000\"                         \"rf_018_007\"                        \n",
       "[503] \"rf_018_004\"                         \"rf_019_010\"                        \n",
       "[505] \"rf_019_001\"                         \"rf_019_005\"                        \n",
       "[507] \"rf_019_015\"                         \"rf_019_012\"                        \n",
       "[509] \"rf_019_013\"                         \"rf_019_014\"                        \n",
       "[511] \"rf_019_004\"                         \"rf_019_000\"                        \n",
       "[513] \"rf_020_007\"                         \"rf_020_004\"                        \n",
       "[515] \"rf_001_013\"                         \"rf_002_007\"                        \n",
       "[517] \"rf_002_012\"                         \"rf_003_007\"                        \n",
       "[519] \"rf_005_014\"                         \"rf_005_008\"                        \n",
       "[521] \"rf_005_015\"                         \"rf_007_009\"                        \n",
       "[523] \"rf_010_015\"                         \"rf_010_001\"                        \n",
       "[525] \"rf_011_015\"                         \"rf_011_010\"                        \n",
       "[527] \"rf_012_006\"                         \"rf_012_012\"                        \n",
       "[529] \"rf_016_003\"                         \"rf_016_013\"                        \n",
       "[531] \"rf_017_014\"                         \"rf_018_013\"                        \n",
       "[533] \"rf_018_005\"                         \"rf_010_006\"                        "
      ]
     },
     "metadata": {},
     "output_type": "display_data"
    },
    {
     "data": {
      "text/html": [
       "<table class=\"dataframe\">\n",
       "<caption>A matrix: 2 × 6 of type dbl</caption>\n",
       "<thead>\n",
       "\t<tr><th></th><th scope=col>used</th><th scope=col>(Mb)</th><th scope=col>gc trigger</th><th scope=col>(Mb)</th><th scope=col>max used</th><th scope=col>(Mb)</th></tr>\n",
       "</thead>\n",
       "<tbody>\n",
       "\t<tr><th scope=row>Ncells</th><td>  1999548</td><td>106.8</td><td>  3727717</td><td> 199.1</td><td>  3727717</td><td> 199.1</td></tr>\n",
       "\t<tr><th scope=row>Vcells</th><td>116509521</td><td>888.9</td><td>189243155</td><td>1443.9</td><td>175696887</td><td>1340.5</td></tr>\n",
       "</tbody>\n",
       "</table>\n"
      ],
      "text/latex": [
       "A matrix: 2 × 6 of type dbl\n",
       "\\begin{tabular}{r|llllll}\n",
       "  & used & (Mb) & gc trigger & (Mb) & max used & (Mb)\\\\\n",
       "\\hline\n",
       "\tNcells &   1999548 & 106.8 &   3727717 &  199.1 &   3727717 &  199.1\\\\\n",
       "\tVcells & 116509521 & 888.9 & 189243155 & 1443.9 & 175696887 & 1340.5\\\\\n",
       "\\end{tabular}\n"
      ],
      "text/markdown": [
       "\n",
       "A matrix: 2 × 6 of type dbl\n",
       "\n",
       "| <!--/--> | used | (Mb) | gc trigger | (Mb) | max used | (Mb) |\n",
       "|---|---|---|---|---|---|---|\n",
       "| Ncells |   1999548 | 106.8 |   3727717 |  199.1 |   3727717 |  199.1 |\n",
       "| Vcells | 116509521 | 888.9 | 189243155 | 1443.9 | 175696887 | 1340.5 |\n",
       "\n"
      ],
      "text/plain": [
       "       used      (Mb)  gc trigger (Mb)   max used  (Mb)  \n",
       "Ncells   1999548 106.8   3727717   199.1   3727717  199.1\n",
       "Vcells 116509521 888.9 189243155  1443.9 175696887 1340.5"
      ]
     },
     "metadata": {},
     "output_type": "display_data"
    }
   ],
   "source": [
    "# verifico\n",
    "ncol(dataset)\n",
    "colnames(dataset)\n",
    "gc(full=TRUE, verbose=FALSE)\n"
   ]
  },
  {
   "cell_type": "markdown",
   "id": "e2d3d60e-9934-4aab-befe-5c0009148abb",
   "metadata": {
    "id": "e2d3d60e-9934-4aab-befe-5c0009148abb"
   },
   "source": [
    "# Genetic Algorithm"
   ]
  },
  {
   "cell_type": "code",
   "execution_count": 137,
   "id": "30319ea3-8818-4e30-9eb7-ddc651c4a324",
   "metadata": {
    "id": "30319ea3-8818-4e30-9eb7-ddc651c4a324",
    "outputId": "c81b9163-65e0-43ac-a675-63b85bc74f0d",
    "scrolled": true,
    "vscode": {
     "languageId": "r"
    }
   },
   "outputs": [],
   "source": [
    "# Install and load required packages\n",
    "if (!require(\"GA\")) install.packages(\"GA\")\n",
    "if (!require(\"dplyr\")) install.packages(\"dplyr\")\n",
    "if( !require(\"gramEvol\")) install.packages(\"gramEvol\")\n",
    "if( !require(\"stringr\")) install.packages(\"stringr\")\n",
    "if( !require(\"primes\")) install.packages(\"primes\")\n",
    "if( !require(\"parallel\")) install.packages(\"parallel\")\n",
    "\n",
    "library(parallel)\n",
    "library(GA)\n",
    "library(dplyr)\n",
    "require(\"gramEvol\")\n",
    "library(stringr)\n",
    "require(\"primes\")\n"
   ]
  },
  {
   "cell_type": "code",
   "execution_count": 174,
   "id": "2eafc60c-7552-4422-86da-dfa7a6a89334",
   "metadata": {
    "vscode": {
     "languageId": "r"
    }
   },
   "outputs": [],
   "source": [
    "PARAM$FE_GENALG$generations <- 1000\n",
    "PARAM$FE_GENALG$population <- 200\n",
    "PARAM$FE_GENALG$max_depth <- 10\n",
    "PARAM$FE_GENALG$new_variables <- 100"
   ]
  },
  {
   "cell_type": "code",
   "execution_count": 175,
   "id": "173bd02b-fd0b-4ebe-90c3-9278e14ab6be",
   "metadata": {
    "id": "173bd02b-fd0b-4ebe-90c3-9278e14ab6be",
    "outputId": "9da2f5b1-3fda-4b46-ae85-0a13356cc1e9",
    "vscode": {
     "languageId": "r"
    }
   },
   "outputs": [
    {
     "name": "stderr",
     "output_type": "stream",
     "text": [
      "Warning message in grepl(pattern, vector, ignore.case = ignore.case, fixed = fixed, :\n",
      "“argument 'pattern' has length > 1 and only the first element will be used”\n"
     ]
    }
   ],
   "source": [
    "is_bool_column <- function(columname) {\n",
    "    tryCatch({\n",
    "      if (class(max(dataset[[columname]])) %in% c('numeric', 'integer')){\n",
    "      maxx = max(dataset[[columname]])\n",
    "      minn = min(dataset[[columname]])\n",
    "      return ((maxx - minn) == 1)\n",
    "} else{\n",
    "          return (FALSE)\n",
    "  }\n",
    "}, error = function(e){\n",
    "        FALSE\n",
    "})}\n",
    "\n",
    "get_non_bool_cols <- function(dataset) {\n",
    "  all_cols <- names(dataset)\n",
    "  bool_cols <- sapply(all_cols, function(col) is_bool_column(dataset, col))\n",
    "  return(all_cols[!bool_cols])\n",
    "}\n",
    "\n",
    "campos_a_omitir = c('numero_de_cliente','foto_mes','azar','clase_ternaria','foto_mes_formato_fecha_delta1','foto_mes_formato_fecha_delta2')\n",
    "campos_monetarios <- colnames(dataset)\n",
    "campos_rf <- colnames(dataset)\n",
    "campos_lag <- colnames(dataset)\n",
    "campos_int <- colnames(dataset)\n",
    "\n",
    "actualizar_campos = function(){\n",
    "    campos_monetarios <- colnames(dataset)\n",
    "    campos_rf <- colnames(dataset)\n",
    "    campos_int <- colnames(dataset)\n",
    "    campos_lag <- colnames(dataset)\n",
    "    campos_monetarios  <<- campos_monetarios[campos_monetarios %like%\n",
    "      \"^(m|Visa_m|Master_m|vm_m)\"]\n",
    "    \n",
    "    campos_rf <<- campos_rf[campos_rf %like%\n",
    "      \"^rf\"]\n",
    "    campos_lag <<- campos_lag[campos_lag %like%\n",
    "      \"(lag|delta).$\"]\n",
    "    campos_lag <- campos_lag[!campos_lag %in% campos_monetarios]\n",
    "    campos_lag <- campos_lag[!campos_lag %like% campos_monetarios]\n",
    "\n",
    "    campos_int <<- campos_int[!campos_int %in% c(campos_a_omitir, campos_monetarios, campos_lag, campos_rf)]\n",
    "    campos_int <<- campos_int[!sapply(campos_int,is_bool_column)]\n",
    "    campos_int <<- na.omit(campos_int)\n",
    "    }\n",
    "actualizar_campos()\n",
    "\n",
    "dataset[, suma_rf := rowSums(.SD, na.rm = TRUE), .SDcols = campos_rf]\n"
   ]
  },
  {
   "cell_type": "markdown",
   "id": "208399ac-efc6-4327-9229-809b5eb9f51a",
   "metadata": {
    "id": "208399ac-efc6-4327-9229-809b5eb9f51a"
   },
   "source": [
    "### GA Test"
   ]
  },
  {
   "cell_type": "code",
   "execution_count": 176,
   "id": "91061886-74c4-42c3-93b7-927100cbff49",
   "metadata": {
    "id": "91061886-74c4-42c3-93b7-927100cbff49",
    "vscode": {
     "languageId": "r"
    }
   },
   "outputs": [],
   "source": [
    "safeEval <- function(expr) {\n",
    "  val <- try(eval(parse(text = expr), envir = dataset), silent = TRUE)\n",
    "  #if (inherits(val, \"try-error\") || all(is.nan(val)) || all(is.infinite(val))) {\n",
    "  #  return(rep(NA, nrow(df)))\n",
    "  #}\n",
    "  val\n",
    "}\n",
    "count_operators <- function(expr) {\n",
    "  text <- paste(deparse(expr), collapse = \" \")  # Combine multiple lines\n",
    "  str_count(text, \"\\\\+|-|/|\\\\*\")\n",
    "}\n",
    "\n",
    "clean_column_name_base <- function(expr_str) {\n",
    "  txt <- as.character(parse(text = expr_str))\n",
    "  txt <- gsub(\"dataset|\\\\[|\\\\]|\\\"\", \"\", txt)\n",
    "  txt <- gsub(\",\\\\s*\", \"\", txt)\n",
    "  trimws(txt)\n",
    "}\n"
   ]
  },
  {
   "cell_type": "code",
   "execution_count": 177,
   "id": "faa52a34-9dc8-4bb8-b3a5-e968d4e2dd6a",
   "metadata": {
    "colab": {
     "base_uri": "https://localhost:8080/",
     "height": 393
    },
    "id": "faa52a34-9dc8-4bb8-b3a5-e968d4e2dd6a",
    "outputId": "e7c034c1-0573-48d4-e83d-a9f5d8e150af",
    "vscode": {
     "languageId": "r"
    }
   },
   "outputs": [],
   "source": [
    "grammarDef <- CreateGrammar(list(\n",
    "  expr = gsrule(\n",
    "      \"dataset[,<m_var>]/dataset[,<m_var>]\",\n",
    "      \"dataset[,<m_var>]/dataset[,<i_var>]\",\n",
    "      \"dataset[,<m_var>]/dataset[,<l_var>]\",\n",
    "      \"dataset[,<m_var>]+dataset[,<l_var>]\",\n",
    "      \"dataset[,<m_var>]-dataset[,<l_var>]\",\n",
    "      \"dataset[,<l_var>]/dataset[,<m_var>]\",\n",
    "      \"dataset[,<l_var>]/dataset[,<i_var>]\",\n",
    "      \"dataset[,<l_var>]/dataset[,<l_var>]\",\n",
    "      \"dataset[,<l_var>]+dataset[,<l_var>]\",\n",
    "      \"dataset[,<l_var>]-dataset[,<l_var>]\",\n",
    "      \"dataset[,<i_var>]/dataset[,<i_var>]\",\n",
    "      \"dataset[,<i_var>]*dataset[,<i_var>]\",\n",
    "      \"dataset[,<rf_var>]+dataset[,<rf_var>]\"\n",
    "      ),\n",
    "  m_var  = gvrule(setdiff(campos_monetarios,c(\"clase_ternaria\",\"clase01\",\"foto_mes\",'azar'))),\n",
    "  i_var  = gvrule(setdiff(campos_int,c(\"clase_ternaria\",\"clase01\",\"foto_mes\",'azar'))),\n",
    "  l_var  = gvrule(setdiff(campos_lag,c(\"clase_ternaria\",\"clase01\",\"foto_mes\",'azar'))),\n",
    "  rf_var  = gvrule(setdiff(campos_rf,c(\"clase_ternaria\",\"clase01\",\"foto_mes\",'azar')))\n",
    "  )\n",
    ")"
   ]
  },
  {
   "cell_type": "code",
   "execution_count": 178,
   "id": "ff6fedde-30d2-4f2d-99c6-e8c5d6d65ab4",
   "metadata": {},
   "outputs": [],
   "source": [
    "fitness_function <- function(expr) {\n",
    "    tryCatch({\n",
    "  feat <- safeEval(expr)\n",
    "  d <- data.frame(y = dataset$clase01, x = feat)\n",
    "  colnames(d) = c('y','x')\n",
    "  #d <- d[complete.cases(d), ]\n",
    "  if (length(unique(d$y)) < 2) return(3)\n",
    "\n",
    "  dtrain <- lgb.Dataset(data.matrix(d[\"x\"]), label = d$y)\n",
    "\n",
    "  idx <- sample(seq_len(nrow(d)), size = floor(0.2 * nrow(d)))\n",
    "    dvalid <- lgb.Dataset(data.matrix(d[idx, \"x\", drop=FALSE]),\n",
    "                          label = d$y[idx])\n",
    "\n",
    "    valids <- list(valid = dvalid)\n",
    "\n",
    "    model <- lgb.train(\n",
    "      params = list(\n",
    "        objective = \"binary\",\n",
    "        metric = \"auc\",\n",
    "        is_unbalance = TRUE,\n",
    "        verbosity = -1,\n",
    "      min_data_in_leaf = 5,\n",
    "      num_leaves = 15\n",
    "      ),\n",
    "      data = dtrain,\n",
    "      nrounds = 20,\n",
    "      valids = valids,\n",
    "      record = TRUE\n",
    "    )\n",
    "\n",
    "    1- tail(unlist(model$record_evals$valid$auc$eval), 1)\n",
    "}, error = function(e) Inf)\n",
    "             }"
   ]
  },
  {
   "cell_type": "code",
   "execution_count": 187,
   "id": "19ca27ef-42b9-4d15-8595-274b62dccb6a",
   "metadata": {
    "vscode": {
     "languageId": "r"
    }
   },
   "outputs": [],
   "source": [
    "agregarVariablesGeneticas <- function(){\n",
    "    dataset[, clase01 := ifelse( clase_ternaria %in% c(\"BAJA+1\",\"BAJA+2\"), 1, 0 )]\n",
    "\n",
    "    for (var in 1:PARAM$FE_GENALG$new_variables){\n",
    "        actualizar_campos()\n",
    "        ge_result <- GrammaticalEvolution(\n",
    "          grammarDef,\n",
    "          fitness_function,\n",
    "          terminationCost = 0.17,\n",
    "          max.depth = PARAM$FE_GENALG$max_depth,\n",
    "          iterations = PARAM$FE_GENALG$generations,\n",
    "          popSize = PARAM$FE_GENALG$population,\n",
    "        )\n",
    "\n",
    "        best_expr <- ge_result$best$expression\n",
    "        best_fitness <- ge_result$best$cost\n",
    "        new_feature <- eval(parse(text = best_expr))\n",
    "        coln = clean_column_name_base(parse(text=best_expr))\n",
    "        colnames(new_feature) = c(coln)\n",
    "        cat(paste0(coln,\",\",best_fitness,'\\n'), file='~/content/buckets/b1/variables/vars.txt',append=TRUE)\n",
    "        dataset <<- cbind(dataset,new_feature)\n",
    "        gc(full=TRUE,verbose=FALSE)\n",
    "}\n",
    "    dataset[, clase01 := NULL]\n",
    "}"
   ]
  },
  {
   "cell_type": "code",
   "execution_count": 188,
   "id": "2834f0ff-7093-40a9-b9c9-89ceb398efa3",
   "metadata": {
    "scrolled": true,
    "vscode": {
     "languageId": "r"
    }
   },
   "outputs": [
    {
     "name": "stderr",
     "output_type": "stream",
     "text": [
      "Warning message in grepl(pattern, vector, ignore.case = ignore.case, fixed = fixed, :\n",
      "“argument 'pattern' has length > 1 and only the first element will be used”\n",
      "Warning message in grepl(pattern, vector, ignore.case = ignore.case, fixed = fixed, :\n",
      "“argument 'pattern' has length > 1 and only the first element will be used”\n"
     ]
    }
   ],
   "source": [
    "agregarVariablesGeneticas()"
   ]
  },
  {
   "cell_type": "code",
   "execution_count": null,
   "id": "fc77eb97-1714-4d09-b779-40910f308deb",
   "metadata": {
    "colab": {
     "base_uri": "https://localhost:8080/"
    },
    "id": "fc77eb97-1714-4d09-b779-40910f308deb",
    "outputId": "adfca225-e36e-4b50-c644-a199bf31af28",
    "vscode": {
     "languageId": "r"
    }
   },
   "outputs": [],
   "source": []
  },
  {
   "cell_type": "markdown",
   "id": "cf91ea5e-3341-4afb-8d05-cc4923d3d1e1",
   "metadata": {
    "id": "cf91ea5e-3341-4afb-8d05-cc4923d3d1e1"
   },
   "source": [
    "### 6.3.2 Modelado"
   ]
  },
  {
   "cell_type": "markdown",
   "id": "526048e4-8cf2-4023-bd2d-a70e4e9ff157",
   "metadata": {
    "id": "526048e4-8cf2-4023-bd2d-a70e4e9ff157"
   },
   "source": [
    "#### 6.3.2.1 Training Strategy\n",
    "\n",
    "Esta etapa de Workflow de  Training Strategy esta pensada para la *Modalidad Gerencial* que posee el dataset de [202005, 202109]\n",
    "<br> Si usted es un Analista, posee el periodo de [201901, 202109] y deberá experimentar en que meses le conviene experimentar\n",
    "\n",
    "<br> A la *Modalidad Gerencial* no se le complicada la vida con el undersampling de los continua, por eso PARAM$trainingstrategy$training_pct <- 1.0\n",
    "<br> Sin embargo, si usted es  *Analista SR* posee un dataset 50 veces ( filas x columnas) más grande que la *Modalidad Gerencial*  y por un tema de velocidad y experimentación más rápida puede llegar a necesitar activar el undersampling de la clase mayoritaria, a pesar de estar corriendo en Google Cloud."
   ]
  },
  {
   "cell_type": "markdown",
   "id": "f16bc1c1-b3ea-43ca-9d3c-53f8f9ab8ec1",
   "metadata": {
    "id": "f16bc1c1-b3ea-43ca-9d3c-53f8f9ab8ec1"
   },
   "source": [
    "Se hace una estrategia de entrenamiento muy sencilla, tomando todos los meses posibles, SIN eliminar nada x pandemia ni por ningun otro motivo\n",
    "\n",
    "* future = 202109  obviamente completo\n",
    "\n",
    "* final_train =  [ 202005, 202107 ]  SIN undersampling\n",
    "\n",
    "* training\n",
    "   * testing = NO HAY\n",
    "   * validation =  202107   completo, sin undersampling\n",
    "   * training = [ 202005, 202106 ]  donde se consideran el 100% de los CONTINUA"
   ]
  },
  {
   "cell_type": "code",
   "execution_count": 189,
   "id": "2c9c0a42-ba58-4264-8566-091a6161716f",
   "metadata": {
    "id": "2c9c0a42-ba58-4264-8566-091a6161716f",
    "vscode": {
     "languageId": "r"
    }
   },
   "outputs": [],
   "source": [
    "PARAM$trainingstrategy$validate <- c(202107,202106)\n",
    "\n",
    "PARAM$trainingstrategy$training <- c(\n",
    "  202105, 202104, 202103, 202102, 202101,\n",
    "  202012, 202011, 202010, 202009, 202008, 202007,\n",
    "  202006, 202005\n",
    ")\n",
    "\n",
    "PARAM$trainingstrategy$training_pct <- .5\n",
    "\n",
    "\n",
    "PARAM$trainingstrategy$positivos <- c( \"BAJA+1\", \"BAJA+2\")"
   ]
  },
  {
   "cell_type": "code",
   "execution_count": 190,
   "id": "tv_trHWAj4a8",
   "metadata": {
    "id": "tv_trHWAj4a8",
    "vscode": {
     "languageId": "r"
    }
   },
   "outputs": [],
   "source": [
    "# seteo la clase01   1={BAJA+1, BAJA+2}   0={CONTINUA}\n",
    "dataset[, clase01 := ifelse( clase_ternaria %in% PARAM$trainingstrategy$positivos, 1, 0 )]"
   ]
  },
  {
   "cell_type": "code",
   "execution_count": 191,
   "id": "Ud_XDKSIj8f_",
   "metadata": {
    "id": "Ud_XDKSIj8f_",
    "vscode": {
     "languageId": "r"
    }
   },
   "outputs": [],
   "source": [
    "# los campos en los que se entrena\n",
    "campos_buenos <- copy( setdiff(\n",
    "    colnames(dataset), c(\"clase_ternaria\",\"clase01\",\"azar\"))\n",
    ")"
   ]
  },
  {
   "cell_type": "code",
   "execution_count": 192,
   "id": "rFKgZZPSj_Pa",
   "metadata": {
    "id": "rFKgZZPSj_Pa",
    "vscode": {
     "languageId": "r"
    }
   },
   "outputs": [],
   "source": [
    "# preparo para que se puede hacer undersampling de los CONTINUA\n",
    "#  solamente por un tema de VELOCIDAD\n",
    "set.seed(PARAM$semilla_primigenia, kind = \"L'Ecuyer-CMRG\")\n",
    "dataset[, azar:=runif(nrow(dataset))]\n",
    "\n",
    "# undersampling de los CONTINUA\n",
    "dataset[, fold_train :=  foto_mes %in%  PARAM$trainingstrategy$training &\n",
    "    (clase_ternaria %in% c(\"BAJA+1\", \"BAJA+2\") |\n",
    "     azar < PARAM$trainingstrategy$training_pct ) ]\n",
    "\n",
    "\n",
    "if( !require(\"lightgbm\")) install.packages(\"lightgbm\")\n",
    "require(\"lightgbm\")\n",
    "\n",
    "dtrain <- lgb.Dataset(\n",
    "  data= data.matrix(dataset[fold_train == TRUE, campos_buenos, with = FALSE]),\n",
    "  label= dataset[fold_train == TRUE, clase01],\n",
    "  free_raw_data= TRUE\n",
    ")"
   ]
  },
  {
   "cell_type": "code",
   "execution_count": 193,
   "id": "B3yo98kQkHcP",
   "metadata": {
    "colab": {
     "base_uri": "https://localhost:8080/",
     "height": 34
    },
    "id": "B3yo98kQkHcP",
    "outputId": "d11f28a8-9cf9-4bc2-a790-7d0116b85a8d",
    "vscode": {
     "languageId": "r"
    }
   },
   "outputs": [
    {
     "data": {
      "text/html": [
       "33058"
      ],
      "text/latex": [
       "33058"
      ],
      "text/markdown": [
       "33058"
      ],
      "text/plain": [
       "[1] 33058"
      ]
     },
     "metadata": {},
     "output_type": "display_data"
    }
   ],
   "source": [
    "# datos de validation\n",
    "dvalidate <- lgb.Dataset(\n",
    "  data= data.matrix(dataset[foto_mes %in% PARAM$trainingstrategy$validate, campos_buenos, with = FALSE]),\n",
    "  label= dataset[foto_mes %in% PARAM$trainingstrategy$validate, clase01],\n",
    "  free_raw_data= TRUE\n",
    ")\n",
    "\n",
    "nrow(dvalidate)"
   ]
  },
  {
   "cell_type": "markdown",
   "id": "28e8f788-551c-4e50-9029-302ac0834287",
   "metadata": {
    "id": "28e8f788-551c-4e50-9029-302ac0834287"
   },
   "source": [
    "####  6.3.2.2. Hyperparameter Tuning"
   ]
  },
  {
   "cell_type": "markdown",
   "id": "bf5fc836-e222-4aeb-a6a8-157346895ef7",
   "metadata": {
    "id": "bf5fc836-e222-4aeb-a6a8-157346895ef7"
   },
   "source": [
    "* Clase binaria que se optimiza :  positivos = [ BAJA+1, BAJA+2 ]"
   ]
  },
  {
   "cell_type": "markdown",
   "id": "885c03b5-77bc-4510-a930-0d1f14b52ffb",
   "metadata": {
    "id": "885c03b5-77bc-4510-a930-0d1f14b52ffb"
   },
   "source": [
    "* Metrica que se optimiza **AUC** Area Under Curve de la  ROC Curve\n",
    "\n",
    "es muy importante notar que intencionalmente  **NO** se está optimizando la funcion de ganancia del problema"
   ]
  },
  {
   "cell_type": "markdown",
   "id": "b7e6f95c-66ef-4ab9-9ba3-fcc099816704",
   "metadata": {
    "id": "b7e6f95c-66ef-4ab9-9ba3-fcc099816704"
   },
   "source": [
    "* Cantidad de iteraciones inteligentes de la Optimizacion Bayesiana = **10**"
   ]
  },
  {
   "cell_type": "markdown",
   "id": "fe047a87-e2d0-4418-97dd-0a881e66d73a",
   "metadata": {
    "id": "fe047a87-e2d0-4418-97dd-0a881e66d73a"
   },
   "source": [
    "* Parametros no default, fijos de LightGBM que no se optimizan\n",
    "  * max_bin = 31 , Alienigenas Ancestrales contruyeron las pirámides y dejaron a la humanidad en un jeroglifico  *max_bin=31*\n",
    "  * feature_fraction = 0.5  para poner algo que generalmente no falla\n",
    "  * learning_rate = 0.03  para que aprenda lento\n"
   ]
  },
  {
   "cell_type": "markdown",
   "id": "1e7da08e-fe57-4681-beff-11fe963116bd",
   "metadata": {
    "id": "1e7da08e-fe57-4681-beff-11fe963116bd"
   },
   "source": [
    "* Parametros que se optimizan en la Bayesian Optimization\n",
    "  * num_leaves  [8, 256]\n",
    "  * min_data_in_leaf  [8, 8192]"
   ]
  },
  {
   "cell_type": "code",
   "execution_count": 194,
   "id": "34V6y4GetKq_",
   "metadata": {
    "colab": {
     "base_uri": "https://localhost:8080/"
    },
    "id": "34V6y4GetKq_",
    "outputId": "e2f72fc7-f24b-4266-fc6d-c22f4cfc84cb",
    "vscode": {
     "languageId": "r"
    }
   },
   "outputs": [
    {
     "name": "stderr",
     "output_type": "stream",
     "text": [
      "Loading required package: DiceKriging\n",
      "\n",
      "Loading required package: mlrMBO\n",
      "\n",
      "Loading required package: mlr\n",
      "\n",
      "Loading required package: ParamHelpers\n",
      "\n",
      "\n",
      "Attaching package: ‘ParamHelpers’\n",
      "\n",
      "\n",
      "The following object is masked from ‘package:R.utils’:\n",
      "\n",
      "    isVector\n",
      "\n",
      "\n",
      "\n",
      "Attaching package: ‘mlr’\n",
      "\n",
      "\n",
      "The following objects are masked from ‘package:R.utils’:\n",
      "\n",
      "    resample, setThreshold\n",
      "\n",
      "\n",
      "Loading required package: smoof\n",
      "\n",
      "Loading required package: checkmate\n",
      "\n",
      "\n",
      "Attaching package: ‘checkmate’\n",
      "\n",
      "\n",
      "The following object is masked from ‘package:DiceKriging’:\n",
      "\n",
      "    checkNames\n",
      "\n",
      "\n",
      "The following object is masked from ‘package:R.utils’:\n",
      "\n",
      "    asInt\n",
      "\n",
      "\n",
      "\n",
      "Attaching package: ‘smoof’\n",
      "\n",
      "\n",
      "The following objects are masked from ‘package:R.oo’:\n",
      "\n",
      "    getDescription, getName\n",
      "\n",
      "\n"
     ]
    }
   ],
   "source": [
    "# paquetes necesarios para la Bayesian Optimization\n",
    "if(!require(\"DiceKriging\")) install.packages(\"DiceKriging\")\n",
    "require(\"DiceKriging\")\n",
    "\n",
    "if(!require(\"mlrMBO\")) install.packages(\"mlrMBO\")\n",
    "require(\"mlrMBO\")"
   ]
  },
  {
   "cell_type": "markdown",
   "id": "UFbDSYtH0TTT",
   "metadata": {
    "id": "UFbDSYtH0TTT"
   },
   "source": [
    "Definición de la Bayesian Optimization\n",
    "<br> Si se desea optimizar un hiperparámetro que esta como fijo, debe QUITARSE de param_fijos y agregarse a PARAM$hipeparametertuning$hs"
   ]
  },
  {
   "cell_type": "code",
   "execution_count": 199,
   "id": "5Uag3XGHqrfZ",
   "metadata": {
    "id": "5Uag3XGHqrfZ",
    "vscode": {
     "languageId": "r"
    }
   },
   "outputs": [],
   "source": [
    "# valor ridiculamente bajo para que corra rapido en el aula y no molestar a la *Modalidad Gerencial*\n",
    "PARAM$hipeparametertuning$num_interations <- 25\n",
    "\n",
    "# parametros fijos del LightGBM\n",
    "PARAM$lgbm$param_fijos <- list(\n",
    "  objective= \"binary\",\n",
    "  metric= \"auc\",\n",
    "  first_metric_only= TRUE,\n",
    "  boost_from_average= TRUE,\n",
    "  feature_pre_filter= FALSE,\n",
    "  verbosity= -100,\n",
    "  force_row_wise= TRUE, # para evitar warning\n",
    "  seed= PARAM$semilla_primigenia,\n",
    "  max_bin= 31,\n",
    "  learning_rate= 0.03,\n",
    "  feature_fraction= 0.5,\n",
    "  num_iterations= 2048,  # valor grande, lo limita early_stopping_rounds\n",
    "  early_stopping_rounds= 200\n",
    ")\n",
    "\n",
    "PARAM$hipeparametertuning$hs <- makeParamSet(\n",
    "  makeIntegerParam(\"num_leaves\", lower = 150L, upper = 1500L),\n",
    "  makeIntegerParam(\"min_data_in_leaf\", lower = 50L, upper = 1000L),\n",
    "  makeNumericParam(\"learning_rate\", lower = 0.001, upper = .3),\n",
    "  makeNumericParam(\"feature_fraction\", lower = 0.3, upper = .8)\n",
    ")"
   ]
  },
  {
   "cell_type": "markdown",
   "id": "FEa1UuuAz4yj",
   "metadata": {
    "id": "FEa1UuuAz4yj"
   },
   "source": [
    "Función \"señora caja negra\"  que es llamada para verificar la realidad por la Bayesian Optimization"
   ]
  },
  {
   "cell_type": "code",
   "execution_count": 200,
   "id": "2c10f535-8d90-47d1-ac3d-9b4c24ec21d2",
   "metadata": {
    "id": "2c10f535-8d90-47d1-ac3d-9b4c24ec21d2",
    "vscode": {
     "languageId": "r"
    }
   },
   "outputs": [],
   "source": [
    "# En  x llegan los parmaetros de la bayesiana\n",
    "#  devuelve la AUC en validate del modelo entrenado\n",
    "#  en el parametro x llegan los hiperparámetros que se estan optimizando\n",
    "\n",
    "EstimarGanancia_AUC_lightgbm <- function(x) {\n",
    "\n",
    "  # x pisa (o agrega) a param_fijos\n",
    "  param_completo <- modifyList(PARAM$lgbm$param_fijos, x)\n",
    "\n",
    "  # entreno LightGBM\n",
    "  modelo_train <- lgb.train(\n",
    "    data= dtrain,\n",
    "    valids= list(valid = dvalidate),\n",
    "    eval= \"auc\",\n",
    "    param= param_completo,\n",
    "    verbose= -100\n",
    "  )\n",
    "\n",
    "  # recupero la AUC en validation\n",
    "  AUC <- modelo_train$record_evals$valid$auc$eval[[modelo_train$best_iter]]\n",
    "\n",
    "  # esta es la forma de devolver un parametro extra\n",
    "  attr(AUC, \"extras\") <- list(\"num_iterations\"= modelo_train$best_iter)\n",
    "\n",
    "  # hago espacio en la memoria\n",
    "  rm(modelo_train)\n",
    "  gc(full= TRUE, verbose= FALSE)\n",
    "\n",
    "  message(format(Sys.time(), \"%a %b %d %X %Y\"), \" AUC \", AUC)\n",
    "\n",
    "  return(AUC)\n",
    "}"
   ]
  },
  {
   "cell_type": "markdown",
   "id": "267a35d4-adaf-4271-a875-3864111333b7",
   "metadata": {
    "id": "267a35d4-adaf-4271-a875-3864111333b7"
   },
   "source": [
    "seteo de la Bayesian Optimization (complejo)\n",
    "<br> copiado y pegado de la documentación de la librería"
   ]
  },
  {
   "cell_type": "code",
   "execution_count": 201,
   "id": "43c2a92d-1041-46b8-bff2-47297f209ed2",
   "metadata": {
    "id": "43c2a92d-1041-46b8-bff2-47297f209ed2",
    "vscode": {
     "languageId": "r"
    }
   },
   "outputs": [],
   "source": [
    "configureMlr(show.learner.output = FALSE)\n",
    "\n",
    "# configuro la busqueda bayesiana,  los hiperparametros que se van a optimizar\n",
    "# por favor, no desesperarse por lo complejo\n",
    "obj.fun <- makeSingleObjectiveFunction(\n",
    "    fn= EstimarGanancia_AUC_lightgbm, # la funcion que voy a maximizar\n",
    "    minimize= FALSE, # estoy Maximizando AUC\n",
    "    noisy= FALSE,\n",
    "    par.set= PARAM$hipeparametertuning$hs,\n",
    "    has.simple.signature= FALSE # paso los parametros en una lista\n",
    ")\n",
    "\n",
    "# cada 600 segundos guardo el resultado intermedio\n",
    "ctrl <- makeMBOControl(\n",
    "    save.on.disk.at.time= 600,\n",
    "    save.file.path= \"HT.RDATA\"\n",
    ")\n",
    "\n",
    "# indico la cantidad de iteraciones que va a tener la Bayesian Optimization\n",
    "ctrl <- setMBOControlTermination(\n",
    "    ctrl,\n",
    "    iters= PARAM$hipeparametertuning$num_interations  # cantidad de iteraciones inteligentes\n",
    ")\n",
    "\n",
    "# defino el método estandar para la creacion de los puntos iniciales\n",
    "#   los \"No Inteligentes\"\n",
    "ctrl <- setMBOControlInfill(ctrl, crit = makeMBOInfillCritEI())\n",
    "\n",
    "# mas configuraciones\n",
    "surr.km <- makeLearner(\n",
    "    \"regr.km\",\n",
    "    predict.type= \"se\",\n",
    "    covtype= \"matern3_2\",\n",
    "    control= list(trace = TRUE)\n",
    ")"
   ]
  },
  {
   "cell_type": "markdown",
   "id": "6c1e5645-d26f-4923-a53f-f30471a4c4e8",
   "metadata": {
    "id": "6c1e5645-d26f-4923-a53f-f30471a4c4e8"
   },
   "source": [
    "Corrida de la Bayesian Optimization,  aqui se hace el trabajo pesado\n",
    "<br> por favor no se asuste con los warnings que pudieran aparecer\n",
    "\n",
    "Si corrío a medias y llegó a las iteraciones inteligentes, en el archivo binario HT.RDATA quedó lo ya procesado y es utilizado para retomar la corrida desde lo último que llegó a grabar."
   ]
  },
  {
   "cell_type": "markdown",
   "id": "c2ac1c52-912c-457a-88d1-bba018e811f0",
   "metadata": {
    "colab": {
     "base_uri": "https://localhost:8080/"
    },
    "id": "1f8cab3f-c7e2-4802-bfd1-5ad509922a4e",
    "outputId": "20408e8d-8752-4c94-c9a7-5157538a6e2c",
    "scrolled": true,
    "vscode": {
     "languageId": "r"
    }
   },
   "source": [
    "## inicio la optimizacion bayesiana\n",
    "\n"
   ]
  },
  {
   "cell_type": "code",
   "execution_count": 202,
   "id": "4b10d93f-62d6-447c-9817-b435a3e68018",
   "metadata": {},
   "outputs": [
    {
     "name": "stderr",
     "output_type": "stream",
     "text": [
      "Computing y column(s) for design. Not provided.\n",
      "\n",
      "Tue Aug 19 10:57:50 PM 2025 AUC 0.92504733245018\n",
      "\n",
      "Tue Aug 19 10:58:00 PM 2025 AUC 0.913793052965163\n",
      "\n",
      "Tue Aug 19 10:58:26 PM 2025 AUC 0.92265081418602\n",
      "\n",
      "Tue Aug 19 10:58:41 PM 2025 AUC 0.915061052222777\n",
      "\n",
      "Tue Aug 19 10:58:53 PM 2025 AUC 0.914516140946125\n",
      "\n",
      "Tue Aug 19 10:59:11 PM 2025 AUC 0.921851597671079\n",
      "\n",
      "Tue Aug 19 10:59:19 PM 2025 AUC 0.918099871719428\n",
      "\n",
      "Tue Aug 19 10:59:49 PM 2025 AUC 0.925391308317435\n",
      "\n",
      "Tue Aug 19 11:00:09 PM 2025 AUC 0.923229763701423\n",
      "\n",
      "Tue Aug 19 11:00:28 PM 2025 AUC 0.916565389319925\n",
      "\n",
      "Tue Aug 19 11:00:39 PM 2025 AUC 0.913623993052073\n",
      "\n",
      "Tue Aug 19 11:01:21 PM 2025 AUC 0.925844685679324\n",
      "\n",
      "Tue Aug 19 11:02:09 PM 2025 AUC 0.928183175900102\n",
      "\n",
      "Tue Aug 19 11:02:23 PM 2025 AUC 0.920011935676446\n",
      "\n",
      "Tue Aug 19 11:02:34 PM 2025 AUC 0.917738826823357\n",
      "\n",
      "Tue Aug 19 11:02:55 PM 2025 AUC 0.923315874123599\n",
      "\n",
      "[mbo] 0: num_leaves=929; min_data_in_leaf=427; learning_rate=0.116; feature_fraction=0.573 : y = 0.925 : 20.0 secs : initdesign\n",
      "\n",
      "[mbo] 0: num_leaves=625; min_data_in_leaf=851; learning_rate=0.233; feature_fraction=0.583 : y = 0.914 : 10.0 secs : initdesign\n",
      "\n",
      "[mbo] 0: num_leaves=876; min_data_in_leaf=236; learning_rate=0.098; feature_fraction=0.668 : y = 0.923 : 26.1 secs : initdesign\n",
      "\n",
      "[mbo] 0: num_leaves=1092; min_data_in_leaf=524; learning_rate=0.182; feature_fraction=0.74 : y = 0.915 : 15.0 secs : initdesign\n",
      "\n",
      "[mbo] 0: num_leaves=1324; min_data_in_leaf=680; learning_rate=0.282; feature_fraction=0.484 : y = 0.915 : 11.8 secs : initdesign\n",
      "\n",
      "[mbo] 0: num_leaves=1164; min_data_in_leaf=337; learning_rate=0.15; feature_fraction=0.445 : y = 0.922 : 17.8 secs : initdesign\n",
      "\n",
      "[mbo] 0: num_leaves=483; min_data_in_leaf=894; learning_rate=0.199; feature_fraction=0.305 : y = 0.918 : 8.2 secs : initdesign\n",
      "\n",
      "[mbo] 0: num_leaves=360; min_data_in_leaf=986; learning_rate=0.0154; feature_fraction=0.682 : y = 0.925 : 29.5 secs : initdesign\n",
      "\n",
      "[mbo] 0: num_leaves=246; min_data_in_leaf=618; learning_rate=0.0828; feature_fraction=0.536 : y = 0.923 : 20.7 secs : initdesign\n",
      "\n",
      "[mbo] 0: num_leaves=490; min_data_in_leaf=124; learning_rate=0.158; feature_fraction=0.706 : y = 0.917 : 18.2 secs : initdesign\n",
      "\n",
      "[mbo] 0: num_leaves=670; min_data_in_leaf=712; learning_rate=0.245; feature_fraction=0.641 : y = 0.914 : 11.3 secs : initdesign\n",
      "\n",
      "[mbo] 0: num_leaves=1351; min_data_in_leaf=768; learning_rate=0.0266; feature_fraction=0.424 : y = 0.926 : 42.5 secs : initdesign\n",
      "\n",
      "[mbo] 0: num_leaves=814; min_data_in_leaf=78; learning_rate=0.0476; feature_fraction=0.509 : y = 0.928 : 47.3 secs : initdesign\n",
      "\n",
      "[mbo] 0: num_leaves=1468; min_data_in_leaf=200; learning_rate=0.266; feature_fraction=0.356 : y = 0.92 : 14.7 secs : initdesign\n",
      "\n",
      "[mbo] 0: num_leaves=196; min_data_in_leaf=402; learning_rate=0.213; feature_fraction=0.369 : y = 0.918 : 10.9 secs : initdesign\n",
      "\n",
      "[mbo] 0: num_leaves=1008; min_data_in_leaf=559; learning_rate=0.0636; feature_fraction=0.771 : y = 0.923 : 20.8 secs : initdesign\n",
      "\n",
      "Tue Aug 19 11:04:09 PM 2025 AUC 0.928292045027366\n",
      "\n",
      "[mbo] 1: num_leaves=1066; min_data_in_leaf=274; learning_rate=0.0218; feature_fraction=0.559 : y = 0.928 : 73.3 secs : infill_ei\n",
      "\n",
      "Tue Aug 19 11:05:21 PM 2025 AUC 0.92852628667038\n",
      "\n",
      "[mbo] 2: num_leaves=1500; min_data_in_leaf=54; learning_rate=0.0433; feature_fraction=0.529 : y = 0.929 : 72.2 secs : infill_ei\n",
      "\n",
      "Tue Aug 19 11:05:44 PM 2025 AUC 0.926182073500369\n",
      "\n",
      "[mbo] 3: num_leaves=1210; min_data_in_leaf=328; learning_rate=0.0468; feature_fraction=0.543 : y = 0.926 : 23.2 secs : infill_ei\n",
      "\n",
      "Tue Aug 19 11:07:43 PM 2025 AUC 0.928337828621228\n",
      "\n",
      "[mbo] 4: num_leaves=830; min_data_in_leaf=50; learning_rate=0.0172; feature_fraction=0.462 : y = 0.928 : 118.0 secs : infill_ei\n",
      "\n",
      "Saved the current state after iteration 5 in the file HT.RDATA.\n",
      "\n",
      "Tue Aug 19 11:10:59 PM 2025 AUC 0.927319609479254\n",
      "\n",
      "[mbo] 5: num_leaves=1500; min_data_in_leaf=50; learning_rate=0.015; feature_fraction=0.604 : y = 0.927 : 195.8 secs : infill_ei\n",
      "\n",
      "Tue Aug 19 11:12:04 PM 2025 AUC 0.926763684852624\n",
      "\n",
      "[mbo] 6: num_leaves=844; min_data_in_leaf=50; learning_rate=0.0304; feature_fraction=0.517 : y = 0.927 : 64.7 secs : infill_ei\n",
      "\n",
      "Tue Aug 19 11:12:45 PM 2025 AUC 0.928346146861392\n",
      "\n",
      "[mbo] 7: num_leaves=1493; min_data_in_leaf=56; learning_rate=0.0516; feature_fraction=0.313 : y = 0.928 : 41.4 secs : infill_ei\n",
      "\n",
      "Tue Aug 19 11:13:59 PM 2025 AUC 0.928438845329777\n",
      "\n",
      "[mbo] 8: num_leaves=983; min_data_in_leaf=277; learning_rate=0.00984; feature_fraction=0.353 : y = 0.928 : 73.1 secs : infill_ei\n",
      "\n",
      "Tue Aug 19 11:14:23 PM 2025 AUC 0.924944851731362\n",
      "\n",
      "[mbo] 9: num_leaves=762; min_data_in_leaf=364; learning_rate=0.0557; feature_fraction=0.412 : y = 0.925 : 24.0 secs : infill_ei\n",
      "\n",
      "Tue Aug 19 11:15:41 PM 2025 AUC 0.928987716088748\n",
      "\n",
      "[mbo] 10: num_leaves=947; min_data_in_leaf=248; learning_rate=0.011; feature_fraction=0.7 : y = 0.929 : 77.4 secs : infill_ei\n",
      "\n",
      "Tue Aug 19 11:15:59 PM 2025 AUC 0.919595890576412\n",
      "\n",
      "[mbo] 11: num_leaves=855; min_data_in_leaf=299; learning_rate=0.001; feature_fraction=0.659 : y = 0.92 : 17.9 secs : infill_ei\n",
      "\n",
      "Tue Aug 19 11:16:29 PM 2025 AUC 0.927036057308549\n",
      "\n",
      "[mbo] 12: num_leaves=620; min_data_in_leaf=51; learning_rate=0.0427; feature_fraction=0.343 : y = 0.927 : 29.9 secs : infill_ei\n",
      "\n",
      "Tue Aug 19 11:17:49 PM 2025 AUC 0.927990525457908\n",
      "\n",
      "[mbo] 13: num_leaves=923; min_data_in_leaf=321; learning_rate=0.0128; feature_fraction=0.507 : y = 0.928 : 80.0 secs : infill_ei\n",
      "\n",
      "Saved the current state after iteration 14 in the file HT.RDATA.\n",
      "\n",
      "Tue Aug 19 11:19:47 PM 2025 AUC 0.927180927779242\n",
      "\n",
      "[mbo] 14: num_leaves=1020; min_data_in_leaf=50; learning_rate=0.0178; feature_fraction=0.8 : y = 0.927 : 117.6 secs : infill_ei\n",
      "\n",
      "Tue Aug 19 11:21:25 PM 2025 AUC 0.928878913507405\n",
      "\n",
      "[mbo] 15: num_leaves=961; min_data_in_leaf=50; learning_rate=0.0203; feature_fraction=0.521 : y = 0.929 : 97.9 secs : infill_ei\n",
      "\n",
      "Tue Aug 19 11:22:50 PM 2025 AUC 0.92870962068359\n",
      "\n",
      "[mbo] 16: num_leaves=1126; min_data_in_leaf=62; learning_rate=0.022; feature_fraction=0.301 : y = 0.929 : 84.8 secs : infill_ei\n",
      "\n",
      "Tue Aug 19 11:23:31 PM 2025 AUC 0.928428530711974\n",
      "\n",
      "[mbo] 17: num_leaves=808; min_data_in_leaf=50; learning_rate=0.0453; feature_fraction=0.301 : y = 0.928 : 40.7 secs : infill_ei\n",
      "\n",
      "Tue Aug 19 11:25:59 PM 2025 AUC 0.92477163269819\n",
      "\n",
      "[mbo] 18: num_leaves=1123; min_data_in_leaf=231; learning_rate=0.00104; feature_fraction=0.435 : y = 0.925 : 147.8 secs : infill_ei\n",
      "\n",
      "Tue Aug 19 11:27:35 PM 2025 AUC 0.928405505823201\n",
      "\n",
      "[mbo] 19: num_leaves=1137; min_data_in_leaf=161; learning_rate=0.0115; feature_fraction=0.479 : y = 0.928 : 95.7 secs : infill_ei\n",
      "\n",
      "Tue Aug 19 11:28:40 PM 2025 AUC 0.928812434132015\n",
      "\n",
      "[mbo] 20: num_leaves=972; min_data_in_leaf=223; learning_rate=0.0167; feature_fraction=0.373 : y = 0.929 : 64.2 secs : infill_ei\n",
      "\n",
      "Saved the current state after iteration 21 in the file HT.RDATA.\n",
      "\n",
      "Tue Aug 19 11:29:20 PM 2025 AUC 0.927973423156131\n",
      "\n",
      "[mbo] 21: num_leaves=1161; min_data_in_leaf=329; learning_rate=0.023; feature_fraction=0.551 : y = 0.928 : 39.7 secs : infill_ei\n",
      "\n",
      "Tue Aug 19 11:30:42 PM 2025 AUC 0.928987250267298\n",
      "\n",
      "[mbo] 22: num_leaves=1323; min_data_in_leaf=139; learning_rate=0.0209; feature_fraction=0.412 : y = 0.929 : 82.5 secs : infill_ei\n",
      "\n",
      "Tue Aug 19 11:31:39 PM 2025 AUC 0.928035044679264\n",
      "\n",
      "[mbo] 23: num_leaves=1469; min_data_in_leaf=50; learning_rate=0.0459; feature_fraction=0.382 : y = 0.928 : 56.2 secs : infill_ei\n",
      "\n",
      "Tue Aug 19 11:33:10 PM 2025 AUC 0.926634253035675\n",
      "\n",
      "[mbo] 24: num_leaves=1470; min_data_in_leaf=240; learning_rate=0.0143; feature_fraction=0.685 : y = 0.927 : 91.3 secs : infill_ei\n",
      "\n",
      "Tue Aug 19 11:35:01 PM 2025 AUC 0.929405557928657\n",
      "\n",
      "[mbo] 25: num_leaves=1500; min_data_in_leaf=54; learning_rate=0.0235; feature_fraction=0.393 : y = 0.929 : 110.7 secs : infill_ei\n",
      "\n",
      "Saved the final state in the file HT.RDATA\n",
      "\n"
     ]
    }
   ],
   "source": [
    "if (!file.exists(\"HT.RDATA\")) {\n",
    "  bayesiana_salida <- mbo(obj.fun, learner= surr.km, control= ctrl)\n",
    "} else {\n",
    "  bayesiana_salida <- mboContinue(\"HT.RDATA\") # retomo en caso que ya exista\n",
    "}"
   ]
  },
  {
   "cell_type": "markdown",
   "id": "36307612-964f-4df3-907a-1bc3c095f178",
   "metadata": {
    "id": "36307612-964f-4df3-907a-1bc3c095f178"
   },
   "source": [
    "la bayesian optimization ha corrido, extraigo los mejores hiperparametros"
   ]
  },
  {
   "cell_type": "code",
   "execution_count": 203,
   "id": "8c061a2a-3341-4006-a154-c95bb6cfd407",
   "metadata": {
    "colab": {
     "base_uri": "https://localhost:8080/"
    },
    "id": "8c061a2a-3341-4006-a154-c95bb6cfd407",
    "outputId": "4b189740-4449-4e15-cf6e-e8a39c18138a",
    "vscode": {
     "languageId": "r"
    }
   },
   "outputs": [
    {
     "name": "stdout",
     "output_type": "stream",
     "text": [
      "   num_leaves min_data_in_leaf num_iterations\n",
      "        <int>            <int>          <int>\n",
      "1:       1500               54            704\n"
     ]
    }
   ],
   "source": [
    "# almaceno los resultados de la Bayesian Optimization\n",
    "# y capturo los mejores hiperparametros encontrados\n",
    "\n",
    "tb_bayesiana <- as.data.table(bayesiana_salida$opt.path)\n",
    "\n",
    "# ordeno en forma descendente por AUC = y\n",
    "setorder(tb_bayesiana, -y, -num_iterations)\n",
    "\n",
    "# grabo para eventualmente poder utilizarlos en OTRA corrida\n",
    "fwrite( tb_bayesiana,\n",
    "  file=\"BO_log.txt\",\n",
    "  sep=\"\\t\"\n",
    ")\n",
    "\n",
    "# los mejores hiperparámetros son los que quedaron en el registro 1 de la tabla\n",
    "PARAM$out$lgbm$mejores_hiperparametros <- tb_bayesiana[\n",
    "  1, # el primero es el de mejor AUC\n",
    "  list(num_leaves, min_data_in_leaf, num_iterations)\n",
    "]\n",
    "\n",
    "print(PARAM$out$lgbm$mejores_hiperparametros)"
   ]
  },
  {
   "cell_type": "markdown",
   "id": "ddb554cb-1d96-4f6b-ae1c-c9a076f8dbdc",
   "metadata": {
    "id": "ddb554cb-1d96-4f6b-ae1c-c9a076f8dbdc"
   },
   "source": [
    "### 6.3.3 Produccion"
   ]
  },
  {
   "cell_type": "markdown",
   "id": "c39492c3-756f-47a5-8747-93ade8275306",
   "metadata": {
    "id": "c39492c3-756f-47a5-8747-93ade8275306"
   },
   "source": [
    "#### Final Training\n",
    "Construyo el modelo final, que es uno solo, no hace ningun tipo de particion < training, validation, testing>]"
   ]
  },
  {
   "cell_type": "markdown",
   "id": "xhKi_G_sYQqq",
   "metadata": {
    "id": "xhKi_G_sYQqq"
   },
   "source": [
    "##### Final Training Dataset\n",
    "\n",
    "Aqui esta la gran decision de en qué meses hago el Final Training\n",
    "<br> debo utilizar los mejores hiperparámetros que encontré en la optimización bayesiana"
   ]
  },
  {
   "cell_type": "code",
   "execution_count": 204,
   "id": "qyHfS_X0zd7o",
   "metadata": {
    "colab": {
     "base_uri": "https://localhost:8080/",
     "height": 34
    },
    "id": "qyHfS_X0zd7o",
    "outputId": "7f217315-dad2-408a-aa63-9db1c9e762fb",
    "vscode": {
     "languageId": "r"
    }
   },
   "outputs": [
    {
     "data": {
      "text/html": [
       "240562"
      ],
      "text/latex": [
       "240562"
      ],
      "text/markdown": [
       "240562"
      ],
      "text/plain": [
       "[1] 240562"
      ]
     },
     "metadata": {},
     "output_type": "display_data"
    }
   ],
   "source": [
    "PARAM$trainingstrategy$final_train <- c( 202107,\n",
    "  202106, 202105, 202104, 202103, 202102, 202101,\n",
    "  202012, 202011, 202010, 202009, 202008, 202007,\n",
    "  202006, 202005\n",
    ")\n",
    "\n",
    "dataset[, fold_final_train := foto_mes %in% PARAM$trainingstrategy$final_train ]\n",
    "\n",
    "# creo el dfinal_train en formato  LightGBM\n",
    "dfinal_train <- lgb.Dataset(\n",
    "  data= data.matrix(dataset[fold_final_train == TRUE, campos_buenos, with= FALSE]),\n",
    "  label= dataset[fold_final_train == TRUE, clase01],\n",
    "  free_raw_data= TRUE\n",
    ")\n",
    "\n",
    "nrow( dfinal_train) # verifico el tamaño"
   ]
  },
  {
   "cell_type": "markdown",
   "id": "HATRyklxYUpT",
   "metadata": {
    "id": "HATRyklxYUpT"
   },
   "source": [
    "##### Final Training Hyperparameters"
   ]
  },
  {
   "cell_type": "code",
   "execution_count": 205,
   "id": "d6b9f33c-e0a0-4ea6-8169-4a6180cc5d01",
   "metadata": {
    "id": "d6b9f33c-e0a0-4ea6-8169-4a6180cc5d01",
    "vscode": {
     "languageId": "r"
    }
   },
   "outputs": [],
   "source": [
    "# uno los parametros fijos y los mejores encontrados de los variables\n",
    "fijos <- copy(PARAM$lgbm$param_fijos)\n",
    "\n",
    "# quito lo que optimice en la Bayesian Optimization\n",
    "fijos$num_iterations <- NULL\n",
    "fijos$early_stopping_rounds <- NULL\n",
    "\n",
    "# agrego a los hiperparametros fijos los que encontre con la Bayesian Optimization\n",
    "param_final <- c(fijos, PARAM$out$lgbm$mejores_hiperparametros)"
   ]
  },
  {
   "cell_type": "markdown",
   "id": "05d3494f-0401-4f3e-9b69-f488a737879d",
   "metadata": {
    "id": "05d3494f-0401-4f3e-9b69-f488a737879d"
   },
   "source": [
    "##### Training\n",
    "Genero el modelo final, siempre sobre TODOS los datos de  final_train, sin hacer ningun tipo de undersampling de la clase mayoritaria"
   ]
  },
  {
   "cell_type": "code",
   "execution_count": 206,
   "id": "fa239848-1c28-4ee5-984a-073903b4b279",
   "metadata": {
    "id": "fa239848-1c28-4ee5-984a-073903b4b279",
    "vscode": {
     "languageId": "r"
    }
   },
   "outputs": [],
   "source": [
    "final_model <- lgb.train(\n",
    "  data= dfinal_train,\n",
    "  param= param_final,\n",
    "  verbose= -100\n",
    ")"
   ]
  },
  {
   "cell_type": "code",
   "execution_count": 207,
   "id": "RC1ju-5MZN5s",
   "metadata": {
    "id": "RC1ju-5MZN5s",
    "vscode": {
     "languageId": "r"
    }
   },
   "outputs": [],
   "source": [
    "# grabo a disco el modelo en un formato para seres humanos ... ponele ...\n",
    "\n",
    "lgb.save(final_model, \"modelo.txt\")"
   ]
  },
  {
   "cell_type": "code",
   "execution_count": 208,
   "id": "VEpv4RYOZHTU",
   "metadata": {
    "id": "VEpv4RYOZHTU",
    "vscode": {
     "languageId": "r"
    }
   },
   "outputs": [],
   "source": [
    "# ahora imprimo la importancia de variables\n",
    "\n",
    "tb_importancia <- as.data.table(lgb.importance(final_model))\n",
    "archivo_importancia <- \"impo.txt\"\n",
    "\n",
    "fwrite( tb_importancia,\n",
    "  file= archivo_importancia,\n",
    "  sep= \"\\t\"\n",
    ")"
   ]
  },
  {
   "cell_type": "markdown",
   "id": "7ea225b3-ce02-42e2-8330-b10ed250d172",
   "metadata": {
    "id": "7ea225b3-ce02-42e2-8330-b10ed250d172"
   },
   "source": [
    "#### Scoring"
   ]
  },
  {
   "cell_type": "markdown",
   "id": "164981bb-f4c1-4228-8bc9-32e58a383c05",
   "metadata": {
    "id": "164981bb-f4c1-4228-8bc9-32e58a383c05"
   },
   "source": [
    "Aplico el modelo final a los datos del futuro"
   ]
  },
  {
   "cell_type": "code",
   "execution_count": 209,
   "id": "eJ7RbT271v-R",
   "metadata": {
    "id": "eJ7RbT271v-R",
    "vscode": {
     "languageId": "r"
    }
   },
   "outputs": [],
   "source": [
    "PARAM$trainingstrategy$future <- c(202109)\n",
    "\n",
    "dfuture <- dataset[ foto_mes %in% PARAM$trainingstrategy$future ]"
   ]
  },
  {
   "cell_type": "code",
   "execution_count": 210,
   "id": "88ca61c8-fa24-4ce5-8be1-323aca018e8f",
   "metadata": {
    "id": "88ca61c8-fa24-4ce5-8be1-323aca018e8f",
    "vscode": {
     "languageId": "r"
    }
   },
   "outputs": [],
   "source": [
    "# aplico final_model   a dfuture\n",
    "\n",
    "prediccion <- predict(\n",
    "  final_model,\n",
    "  data.matrix(dfuture[, campos_buenos, with= FALSE])\n",
    ")"
   ]
  },
  {
   "cell_type": "markdown",
   "id": "79u0ZvjJZblE",
   "metadata": {
    "id": "79u0ZvjJZblE"
   },
   "source": [
    "##### Tabla Prediccion"
   ]
  },
  {
   "cell_type": "code",
   "execution_count": 211,
   "id": "TB6aerGDZeTo",
   "metadata": {
    "id": "TB6aerGDZeTo",
    "vscode": {
     "languageId": "r"
    }
   },
   "outputs": [],
   "source": [
    "tb_prediccion <- dfuture[, list(numero_de_cliente)]\n",
    "tb_prediccion[, prob := prediccion]\n",
    "\n",
    "# grabo las probabilidad del modelo\n",
    "#  me va a ser util para hacer Ensembles de modelos\n",
    "fwrite(tb_prediccion,\n",
    "  file= \"prediccion.txt\",\n",
    "  sep= \"\\t\"\n",
    ")"
   ]
  },
  {
   "cell_type": "markdown",
   "id": "8412d838-5bd5-454e-b3a9-5eaa18d80a50",
   "metadata": {
    "id": "8412d838-5bd5-454e-b3a9-5eaa18d80a50"
   },
   "source": [
    "#### Kaggle Competition Submit"
   ]
  },
  {
   "cell_type": "markdown",
   "id": "55970cb6-856a-46e3-a893-7f36b8352b8e",
   "metadata": {
    "id": "55970cb6-856a-46e3-a893-7f36b8352b8e"
   },
   "source": [
    "Genero las salidas y hago los submits a Kaggle\n",
    "<br>El notebook esta preparado para la Modalidad Gerencial, los analistas deben hacer cambios.\n",
    "<br> Los analistas deben cambiar **competencia** a SU competencia  \"data-mining-analista-jr-2025-a\"   o  la original \"data-mining-analista-sr-2025-a\"  para los Senior\n",
    "<br> Los cortes  dependen de la cantidad de registros, multiplicar por 2 para los Analistas Jr y por 10 para los Analista Sr\n",
    "\n",
    "Los Analista Sr luego de meditar cuidadosamente reducirán la cantidad de cortes"
   ]
  },
  {
   "cell_type": "code",
   "execution_count": 212,
   "id": "e5fa2439-b0e9-49e0-a861-71d7315d6e1c",
   "metadata": {
    "colab": {
     "base_uri": "https://localhost:8080/"
    },
    "id": "e5fa2439-b0e9-49e0-a861-71d7315d6e1c",
    "outputId": "3be8566b-4042-4d69-aecb-4b6d40fe71c0",
    "vscode": {
     "languageId": "r"
    }
   },
   "outputs": [
    {
     "name": "stdout",
     "output_type": "stream",
     "text": [
      "-m 'envios=800  semilla=7000001'Warning: Your Kaggle API key is readable by other users on this system! To fix this, you can run 'chmod 600 /home/lhermann/.kaggle/kaggle.json' Warning: Looks like you're using an outdated API Version, please consider updating (server 1.7.4.2 / client 1.6.17) Successfully submitted to Data Mining, Gerencial 2025A \n",
      "-m 'envios=850  semilla=7000001'Warning: Your Kaggle API key is readable by other users on this system! To fix this, you can run 'chmod 600 /home/lhermann/.kaggle/kaggle.json' Warning: Looks like you're using an outdated API Version, please consider updating (server 1.7.4.2 / client 1.6.17) Successfully submitted to Data Mining, Gerencial 2025A \n",
      "-m 'envios=900  semilla=7000001'Warning: Your Kaggle API key is readable by other users on this system! To fix this, you can run 'chmod 600 /home/lhermann/.kaggle/kaggle.json' Warning: Looks like you're using an outdated API Version, please consider updating (server 1.7.4.2 / client 1.6.17) Successfully submitted to Data Mining, Gerencial 2025A \n",
      "-m 'envios=950  semilla=7000001'Warning: Your Kaggle API key is readable by other users on this system! To fix this, you can run 'chmod 600 /home/lhermann/.kaggle/kaggle.json' Warning: Looks like you're using an outdated API Version, please consider updating (server 1.7.4.2 / client 1.6.17) Successfully submitted to Data Mining, Gerencial 2025A \n",
      "-m 'envios=1000  semilla=7000001'Warning: Your Kaggle API key is readable by other users on this system! To fix this, you can run 'chmod 600 /home/lhermann/.kaggle/kaggle.json' Warning: Looks like you're using an outdated API Version, please consider updating (server 1.7.4.2 / client 1.6.17) Successfully submitted to Data Mining, Gerencial 2025A \n",
      "-m 'envios=1050  semilla=7000001'Warning: Your Kaggle API key is readable by other users on this system! To fix this, you can run 'chmod 600 /home/lhermann/.kaggle/kaggle.json' Warning: Looks like you're using an outdated API Version, please consider updating (server 1.7.4.2 / client 1.6.17) Successfully submitted to Data Mining, Gerencial 2025A \n",
      "-m 'envios=1100  semilla=7000001'Warning: Your Kaggle API key is readable by other users on this system! To fix this, you can run 'chmod 600 /home/lhermann/.kaggle/kaggle.json' Warning: Looks like you're using an outdated API Version, please consider updating (server 1.7.4.2 / client 1.6.17) Successfully submitted to Data Mining, Gerencial 2025A \n",
      "-m 'envios=1150  semilla=7000001'Warning: Your Kaggle API key is readable by other users on this system! To fix this, you can run 'chmod 600 /home/lhermann/.kaggle/kaggle.json' Warning: Looks like you're using an outdated API Version, please consider updating (server 1.7.4.2 / client 1.6.17) Successfully submitted to Data Mining, Gerencial 2025A \n",
      "-m 'envios=1200  semilla=7000001'Warning: Your Kaggle API key is readable by other users on this system! To fix this, you can run 'chmod 600 /home/lhermann/.kaggle/kaggle.json' Warning: Looks like you're using an outdated API Version, please consider updating (server 1.7.4.2 / client 1.6.17) Successfully submitted to Data Mining, Gerencial 2025A \n",
      "-m 'envios=1250  semilla=7000001'Warning: Your Kaggle API key is readable by other users on this system! To fix this, you can run 'chmod 600 /home/lhermann/.kaggle/kaggle.json' Warning: Looks like you're using an outdated API Version, please consider updating (server 1.7.4.2 / client 1.6.17) Successfully submitted to Data Mining, Gerencial 2025A \n",
      "-m 'envios=1300  semilla=7000001'Warning: Your Kaggle API key is readable by other users on this system! To fix this, you can run 'chmod 600 /home/lhermann/.kaggle/kaggle.json' Warning: Looks like you're using an outdated API Version, please consider updating (server 1.7.4.2 / client 1.6.17) Successfully submitted to Data Mining, Gerencial 2025A \n",
      "-m 'envios=1350  semilla=7000001'Warning: Your Kaggle API key is readable by other users on this system! To fix this, you can run 'chmod 600 /home/lhermann/.kaggle/kaggle.json' Warning: Looks like you're using an outdated API Version, please consider updating (server 1.7.4.2 / client 1.6.17) Successfully submitted to Data Mining, Gerencial 2025A \n",
      "-m 'envios=1400  semilla=7000001'Warning: Your Kaggle API key is readable by other users on this system! To fix this, you can run 'chmod 600 /home/lhermann/.kaggle/kaggle.json' Warning: Looks like you're using an outdated API Version, please consider updating (server 1.7.4.2 / client 1.6.17) Successfully submitted to Data Mining, Gerencial 2025A \n",
      "-m 'envios=1450  semilla=7000001'Warning: Your Kaggle API key is readable by other users on this system! To fix this, you can run 'chmod 600 /home/lhermann/.kaggle/kaggle.json' Warning: Looks like you're using an outdated API Version, please consider updating (server 1.7.4.2 / client 1.6.17) Successfully submitted to Data Mining, Gerencial 2025A \n",
      "-m 'envios=1500  semilla=7000001'Warning: Your Kaggle API key is readable by other users on this system! To fix this, you can run 'chmod 600 /home/lhermann/.kaggle/kaggle.json' Warning: Looks like you're using an outdated API Version, please consider updating (server 1.7.4.2 / client 1.6.17) Successfully submitted to Data Mining, Gerencial 2025A \n"
     ]
    }
   ],
   "source": [
    "# genero archivos con los  \"envios\" mejores\n",
    "# suba TODOS los archivos a Kaggle\n",
    "\n",
    "PARAM$kaggle$competencia <- \"data-mining-gerencial-2025-a\"\n",
    "PARAM$kaggle$cortes <- seq(800, 1500, by = 50)\n",
    "\n",
    "# ordeno por probabilidad descendente\n",
    "setorder(tb_prediccion, -prob)\n",
    "\n",
    "dir.create(\"kaggle\")\n",
    "\n",
    "for (envios in PARAM$kaggle$cortes) {\n",
    "\n",
    "  tb_prediccion[, Predicted := 0L] # seteo inicial a 0\n",
    "  tb_prediccion[1:envios, Predicted := 1L] # marclo los primeros\n",
    "\n",
    "  archivo_kaggle <- paste0(\"./kaggle/KA\", PARAM$experimento, \"_\", envios, \".csv\")\n",
    "\n",
    "  # grabo el archivo\n",
    "  fwrite(tb_prediccion[, list(numero_de_cliente, Predicted)],\n",
    "    file= archivo_kaggle,\n",
    "    sep= \",\"\n",
    "  )\n",
    "\n",
    "  # subida a Kaggle, armo la linea de comando\n",
    "  comando <- \"kaggle competitions submit\"\n",
    "  competencia <- paste(\"-c\", PARAM$kaggle$competencia)\n",
    "  arch <- paste( \"-f\", archivo_kaggle)\n",
    "\n",
    "  mensaje <- paste0(\"-m 'envios=\", envios,\n",
    "  \"  semilla=\", PARAM$semilla_primigenia,\n",
    "    \"'\" )\n",
    "    cat(mensaje)\n",
    "  linea <- paste( comando, competencia, arch, mensaje)\n",
    "  salida <- system(linea, intern=TRUE) # el submit a Kaggle\n",
    "  cat(salida, \"\\n\")\n",
    "}"
   ]
  },
  {
   "cell_type": "code",
   "execution_count": 213,
   "id": "C94tK-xid6p2",
   "metadata": {
    "colab": {
     "base_uri": "https://localhost:8080/"
    },
    "id": "C94tK-xid6p2",
    "outputId": "91c264c3-ac87-44aa-a6d9-a413e002e4b2",
    "vscode": {
     "languageId": "r"
    }
   },
   "outputs": [
    {
     "name": "stderr",
     "output_type": "stream",
     "text": [
      "Loading required package: yaml\n",
      "\n"
     ]
    }
   ],
   "source": [
    "# grabo los parametros\n",
    "if( !require(\"yaml\")) install.packages(\"yaml\")\n",
    "require(\"yaml\")\n",
    "\n",
    "write_yaml( PARAM, file=\"PARAM.yml\")"
   ]
  },
  {
   "cell_type": "code",
   "execution_count": 214,
   "id": "1b615a62-20cc-4e95-9af2-6b6db38d5efb",
   "metadata": {
    "colab": {
     "base_uri": "https://localhost:8080/",
     "height": 34
    },
    "id": "1b615a62-20cc-4e95-9af2-6b6db38d5efb",
    "outputId": "8cb98a4d-b8c4-43da-d462-51cbbd87489a",
    "vscode": {
     "languageId": "r"
    }
   },
   "outputs": [
    {
     "data": {
      "text/html": [
       "'Tue Aug 19 11:54:11 PM 2025'"
      ],
      "text/latex": [
       "'Tue Aug 19 11:54:11 PM 2025'"
      ],
      "text/markdown": [
       "'Tue Aug 19 11:54:11 PM 2025'"
      ],
      "text/plain": [
       "[1] \"Tue Aug 19 11:54:11 PM 2025\""
      ]
     },
     "metadata": {},
     "output_type": "display_data"
    }
   ],
   "source": [
    "format(Sys.time(), \"%a %b %d %X %Y\")"
   ]
  },
  {
   "cell_type": "code",
   "execution_count": null,
   "id": "0742bae0-3c73-42f5-a559-df70af9e1674",
   "metadata": {
    "id": "0742bae0-3c73-42f5-a559-df70af9e1674",
    "vscode": {
     "languageId": "r"
    }
   },
   "outputs": [],
   "source": []
  },
  {
   "cell_type": "code",
   "execution_count": null,
   "id": "27e3e7b5-ed69-401b-b70a-7da713bcb0e6",
   "metadata": {
    "vscode": {
     "languageId": "r"
    }
   },
   "outputs": [],
   "source": []
  },
  {
   "cell_type": "code",
   "execution_count": null,
   "id": "62a449ed-4a0e-427a-8076-093c470c0311",
   "metadata": {
    "vscode": {
     "languageId": "r"
    }
   },
   "outputs": [],
   "source": []
  },
  {
   "cell_type": "code",
   "execution_count": null,
   "id": "5da24462-be68-40e6-aa4a-44ec39248f14",
   "metadata": {
    "vscode": {
     "languageId": "r"
    }
   },
   "outputs": [],
   "source": []
  },
  {
   "cell_type": "code",
   "execution_count": null,
   "id": "4207895e-90bc-433a-80de-460455dd2080",
   "metadata": {},
   "outputs": [],
   "source": []
  },
  {
   "cell_type": "code",
   "execution_count": null,
   "id": "8164add1-890c-4b4b-a859-120c9e9b9c28",
   "metadata": {},
   "outputs": [],
   "source": []
  },
  {
   "cell_type": "code",
   "execution_count": null,
   "id": "a6c9da5e-fa43-4db7-a7e7-50aeaaa48973",
   "metadata": {},
   "outputs": [],
   "source": []
  },
  {
   "cell_type": "code",
   "execution_count": null,
   "id": "291e3aed-8246-46d8-98c2-1509c53eda36",
   "metadata": {},
   "outputs": [],
   "source": []
  },
  {
   "cell_type": "code",
   "execution_count": null,
   "id": "18a278d4-125e-4da8-a389-127121aca6d9",
   "metadata": {},
   "outputs": [],
   "source": []
  },
  {
   "cell_type": "code",
   "execution_count": null,
   "id": "1abe4d18-50a2-4dac-94f4-8995879914d9",
   "metadata": {},
   "outputs": [],
   "source": []
  }
 ],
 "metadata": {
  "colab": {
   "provenance": []
  },
  "kernelspec": {
   "display_name": "R",
   "language": "R",
   "name": "ir"
  },
  "language_info": {
   "codemirror_mode": "r",
   "file_extension": ".r",
   "mimetype": "text/x-r-source",
   "name": "R",
   "pygments_lexer": "r",
   "version": "4.5.1"
  }
 },
 "nbformat": 4,
 "nbformat_minor": 5
}
