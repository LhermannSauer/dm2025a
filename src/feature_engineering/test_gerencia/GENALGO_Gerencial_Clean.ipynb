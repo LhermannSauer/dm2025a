{
 "cells": [
  {
   "cell_type": "markdown",
   "id": "85171302-a2d6-48cb-b9b2-8d839a276859",
   "metadata": {
    "id": "85171302-a2d6-48cb-b9b2-8d839a276859"
   },
   "source": [
    "## Inicializacion"
   ]
  },
  {
   "cell_type": "markdown",
   "id": "eSU5vi00CPRS",
   "metadata": {
    "id": "eSU5vi00CPRS"
   },
   "source": [
    "Esta parte se debe correr con el runtime en lenguaje **R** Ir al menu, Runtime -> Change Runtime Type -> Runtime type -> R"
   ]
  },
  {
   "cell_type": "markdown",
   "id": "Zq8dySimCPRT",
   "metadata": {
    "id": "Zq8dySimCPRT"
   },
   "source": [
    "limpio el ambiente de R"
   ]
  },
  {
   "cell_type": "code",
   "execution_count": 1,
   "id": "EL8wdHaUs59K",
   "metadata": {
    "colab": {
     "base_uri": "https://localhost:8080/",
     "height": 34
    },
    "id": "EL8wdHaUs59K",
    "outputId": "1cc07b5d-1bcd-4f95-8b6b-81272f013c49"
   },
   "outputs": [
    {
     "data": {
      "text/html": [
       "'Wed Aug 13 12:33:20 PM 2025'"
      ],
      "text/latex": [
       "'Wed Aug 13 12:33:20 PM 2025'"
      ],
      "text/markdown": [
       "'Wed Aug 13 12:33:20 PM 2025'"
      ],
      "text/plain": [
       "[1] \"Wed Aug 13 12:33:20 PM 2025\""
      ]
     },
     "metadata": {},
     "output_type": "display_data"
    }
   ],
   "source": [
    "format(Sys.time(), \"%a %b %d %X %Y\")"
   ]
  },
  {
   "cell_type": "code",
   "execution_count": 2,
   "id": "1iE0U4_WCPRT",
   "metadata": {
    "colab": {
     "base_uri": "https://localhost:8080/",
     "height": 129
    },
    "id": "1iE0U4_WCPRT",
    "outputId": "7470f831-79c3-4242-f0bb-fff699ae12cf"
   },
   "outputs": [
    {
     "data": {
      "text/html": [
       "<table class=\"dataframe\">\n",
       "<caption>A matrix: 2 × 6 of type dbl</caption>\n",
       "<thead>\n",
       "\t<tr><th></th><th scope=col>used</th><th scope=col>(Mb)</th><th scope=col>gc trigger</th><th scope=col>(Mb)</th><th scope=col>max used</th><th scope=col>(Mb)</th></tr>\n",
       "</thead>\n",
       "<tbody>\n",
       "\t<tr><th scope=row>Ncells</th><td> 661588</td><td>35.4</td><td>1454218</td><td>77.7</td><td>1387145</td><td>74.1</td></tr>\n",
       "\t<tr><th scope=row>Vcells</th><td>1231713</td><td> 9.4</td><td>8388608</td><td>64.0</td><td>1975448</td><td>15.1</td></tr>\n",
       "</tbody>\n",
       "</table>\n"
      ],
      "text/latex": [
       "A matrix: 2 × 6 of type dbl\n",
       "\\begin{tabular}{r|llllll}\n",
       "  & used & (Mb) & gc trigger & (Mb) & max used & (Mb)\\\\\n",
       "\\hline\n",
       "\tNcells &  661588 & 35.4 & 1454218 & 77.7 & 1387145 & 74.1\\\\\n",
       "\tVcells & 1231713 &  9.4 & 8388608 & 64.0 & 1975448 & 15.1\\\\\n",
       "\\end{tabular}\n"
      ],
      "text/markdown": [
       "\n",
       "A matrix: 2 × 6 of type dbl\n",
       "\n",
       "| <!--/--> | used | (Mb) | gc trigger | (Mb) | max used | (Mb) |\n",
       "|---|---|---|---|---|---|---|\n",
       "| Ncells |  661588 | 35.4 | 1454218 | 77.7 | 1387145 | 74.1 |\n",
       "| Vcells | 1231713 |  9.4 | 8388608 | 64.0 | 1975448 | 15.1 |\n",
       "\n"
      ],
      "text/plain": [
       "       used    (Mb) gc trigger (Mb) max used (Mb)\n",
       "Ncells  661588 35.4 1454218    77.7 1387145  74.1\n",
       "Vcells 1231713  9.4 8388608    64.0 1975448  15.1"
      ]
     },
     "metadata": {},
     "output_type": "display_data"
    }
   ],
   "source": [
    "# limpio la memoria\n",
    "rm(list=ls(all.names=TRUE)) # remove all objects\n",
    "gc(full=TRUE, verbose=FALSE) # garbage collection"
   ]
  },
  {
   "cell_type": "code",
   "execution_count": 3,
   "id": "bf65dd12-5293-40d0-b534-0792e80f6ce8",
   "metadata": {
    "id": "bf65dd12-5293-40d0-b534-0792e80f6ce8",
    "vscode": {
     "languageId": "r"
    }
   },
   "outputs": [],
   "source": [
    "add_log = function(message){\n",
    "    cat(message, file = paste0(getwd(), '/logs.txt'),append=TRUE)\n",
    "}"
   ]
  },
  {
   "cell_type": "code",
   "execution_count": 24,
   "id": "atmIUEUNUrK5",
   "metadata": {
    "colab": {
     "base_uri": "https://localhost:8080/"
    },
    "id": "atmIUEUNUrK5",
    "outputId": "782288d6-b22a-4417-b6da-395d9bcc9839",
    "scrolled": true
   },
   "outputs": [],
   "source": [
    "require(\"data.table\")\n",
    "require(\"csv\")\n",
    "if( !require(\"R.utils\")) install.packages(\"R.utils\")\n",
    "require(\"R.utils\")"
   ]
  },
  {
   "cell_type": "markdown",
   "id": "BsxZ_ONyj9L_",
   "metadata": {
    "id": "BsxZ_ONyj9L_"
   },
   "source": [
    "#### Parametros\n",
    "Si es gerente, no cambie nada\n",
    "<br>Si es Analista, cambie el nombre del dataset"
   ]
  },
  {
   "cell_type": "code",
   "execution_count": 25,
   "id": "peRH7ySLCPRV",
   "metadata": {
    "id": "peRH7ySLCPRV"
   },
   "outputs": [],
   "source": [
    "PARAM <- list()\n",
    "PARAM$semilla_primigenia <- 424243\n",
    "\n",
    "PARAM$experimento <- \"6300_generencia_FE_gen_testB2\"\n",
    "PARAM$dataset <- \"gerencial_competencia_2025.csv.gz\""
   ]
  },
  {
   "cell_type": "markdown",
   "id": "NoJbKo_4NG8A",
   "metadata": {
    "id": "NoJbKo_4NG8A"
   },
   "source": [
    "#### Carpeta del Experimento"
   ]
  },
  {
   "cell_type": "code",
   "execution_count": 26,
   "id": "1gZD6ZMvCPRV",
   "metadata": {
    "id": "1gZD6ZMvCPRV"
   },
   "outputs": [],
   "source": [
    "# carpeta de trabajo\n",
    "\n",
    "experimento_folder <- paste0(\"WF\", PARAM$experimento)\n",
    "dir.create(paste0(\"./exp/\",experimento_folder), showWarnings=FALSE)\n",
    "#setwd( paste0(\"./exp/\", experimento_folder ))"
   ]
  },
  {
   "cell_type": "markdown",
   "id": "YVKBfLtkR8SO",
   "metadata": {
    "id": "YVKBfLtkR8SO"
   },
   "source": [
    "### 6.3.1   Preprocesamiento del dataset"
   ]
  },
  {
   "cell_type": "markdown",
   "id": "cr3K0RPVRjq6",
   "metadata": {
    "id": "cr3K0RPVRjq6"
   },
   "source": [
    "#### 6.3.1.1  DT incorporar dataset"
   ]
  },
  {
   "cell_type": "code",
   "execution_count": 28,
   "id": "Xi0emX2ECPRV",
   "metadata": {
    "id": "Xi0emX2ECPRV"
   },
   "outputs": [],
   "source": [
    "# lectura del dataset\n",
    "dataset <- fread(paste0(\"./\", PARAM$dataset))"
   ]
  },
  {
   "cell_type": "raw",
   "id": "50e41121-dd06-45de-b4a8-1980b3ecd081",
   "metadata": {
    "id": "MWuPzK3nSLY3"
   },
   "source": [
    "#### 6.3.1.2  CA  Catastrophe Analysis\n",
    "Se intentan reparar las variables que para un mes están con todos los valores en cero."
   ]
  },
  {
   "cell_type": "markdown",
   "id": "UAI16-yCVcBS",
   "metadata": {
    "id": "UAI16-yCVcBS"
   },
   "source": [
    "El método que se utiliza es **Machine Learning** se asigna NA also valores, si ha leido bien, es la \"anti imputación de valores faltantes\"\n",
    "<br> Usted podrá aplicar aquí otros métodos"
   ]
  },
  {
   "cell_type": "code",
   "execution_count": 29,
   "id": "sTmliO_FXv9E",
   "metadata": {
    "id": "sTmliO_FXv9E"
   },
   "outputs": [],
   "source": [
    "dataset[ foto_mes==202006, internet:=NA]\n",
    "dataset[ foto_mes==202006, mrentabilidad:=NA]\n",
    "dataset[ foto_mes==202006, mrentabilidad_annual:=NA]\n",
    "dataset[ foto_mes==202006, mcomisiones:=NA]\n",
    "dataset[ foto_mes==202006, mactivos_margen:=NA]\n",
    "dataset[ foto_mes==202006, mpasivos_margen:=NA]\n",
    "dataset[ foto_mes==202006, mcuentas_saldo:=NA]\n",
    "dataset[ foto_mes==202006, ctarjeta_visa_transacciones:=NA]\n",
    "dataset[ foto_mes==202006, mtarjeta_visa_consumo:=NA]\n",
    "dataset[ foto_mes==202006, mtarjeta_master_consumo:=NA]\n",
    "dataset[ foto_mes==202006, ccallcenter_transacciones:=NA]\n",
    "dataset[ foto_mes==202006, chomebanking_transacciones:=NA]\n",
    "dataset[ foto_mes==202006, chomebanking_transacciones:=NA]"
   ]
  },
  {
   "cell_type": "markdown",
   "id": "-4NiANYFSYHG",
   "metadata": {
    "id": "-4NiANYFSYHG"
   },
   "source": [
    "#### 6.3.1.3  DR  Data Drifting\n",
    "Se intenta corregir el data drifting, quizas ajustando por IPC ...\n",
    "<br>Esta parte podrá ser abordada por todos los Analistas y también la Gerenciapero se decide pedagogicamente no incluirla en esta primer version para reducir la carga cognitiva"
   ]
  },
  {
   "cell_type": "markdown",
   "id": "7sppIDYeSn5X",
   "metadata": {
    "id": "7sppIDYeSn5X"
   },
   "source": [
    "#### 6.3.1.3  FE_intra_manual Feature Engineering intra-mes\n",
    "\n",
    "Agrego campos nuevos dentro del mismo mes, SIN considerar la historia."
   ]
  },
  {
   "cell_type": "code",
   "execution_count": 30,
   "id": "qrqf3j3_St3p",
   "metadata": {
    "id": "qrqf3j3_St3p"
   },
   "outputs": [],
   "source": [
    "# esta funcion atributos presentes existe debido a que las modalidades poseen datasets con distinta cantidad de campos\n",
    "atributos_presentes <- function( patributos )\n",
    "{\n",
    "  atributos <- unique( patributos )\n",
    "  comun <- intersect( atributos, colnames(dataset) )\n",
    "\n",
    "  return(  length( atributos ) == length( comun ) )\n",
    "}\n",
    "\n",
    "# el mes 1,2, ..12\n",
    "if( atributos_presentes( c(\"foto_mes\") ))\n",
    "  dataset[, kmes := foto_mes %% 100]\n",
    "\n",
    "# variable extraida de una tesis de maestria de Irlanda\n",
    "if( atributos_presentes( c(\"mpayroll\", \"cliente_edad\") ))\n",
    "  dataset[, mpayroll_sobre_edad := mpayroll / cliente_edad]\n"
   ]
  },
  {
   "cell_type": "code",
   "execution_count": 31,
   "id": "iC4viwOdY5Kp",
   "metadata": {
    "colab": {
     "base_uri": "https://localhost:8080/",
     "height": 156
    },
    "id": "iC4viwOdY5Kp",
    "outputId": "05bdb939-926b-48dd-f00f-dbb3a1e86ca7"
   },
   "outputs": [
    {
     "data": {
      "text/html": [
       "<style>\n",
       ".list-inline {list-style: none; margin:0; padding: 0}\n",
       ".list-inline>li {display: inline-block}\n",
       ".list-inline>li:not(:last-child)::after {content: \"\\00b7\"; padding: 0 .5ex}\n",
       "</style>\n",
       "<ol class=list-inline><li>'numero_de_cliente'</li><li>'foto_mes'</li><li>'internet'</li><li>'cliente_edad'</li><li>'cliente_antiguedad'</li><li>'mrentabilidad'</li><li>'mrentabilidad_annual'</li><li>'mcomisiones'</li><li>'mactivos_margen'</li><li>'mpasivos_margen'</li><li>'cproductos'</li><li>'mcuenta_corriente'</li><li>'mcaja_ahorro'</li><li>'cdescubierto_preacordado'</li><li>'mcuentas_saldo'</li><li>'ctarjeta_visa_transacciones'</li><li>'mtarjeta_visa_consumo'</li><li>'mtarjeta_master_consumo'</li><li>'mprestamos_personales'</li><li>'cpayroll_trx'</li><li>'mpayroll'</li><li>'ccomisiones_mantenimiento'</li><li>'ccallcenter_transacciones'</li><li>'chomebanking_transacciones'</li><li>'ctrx_quarter'</li><li>'Master_status'</li><li>'Master_fechaalta'</li><li>'Master_mpagominimo'</li><li>'Visa_status'</li><li>'Visa_fechaalta'</li><li>'Visa_mpagominimo'</li><li>'clase_ternaria'</li><li>'kmes'</li><li>'mpayroll_sobre_edad'</li></ol>\n"
      ],
      "text/latex": [
       "\\begin{enumerate*}\n",
       "\\item 'numero\\_de\\_cliente'\n",
       "\\item 'foto\\_mes'\n",
       "\\item 'internet'\n",
       "\\item 'cliente\\_edad'\n",
       "\\item 'cliente\\_antiguedad'\n",
       "\\item 'mrentabilidad'\n",
       "\\item 'mrentabilidad\\_annual'\n",
       "\\item 'mcomisiones'\n",
       "\\item 'mactivos\\_margen'\n",
       "\\item 'mpasivos\\_margen'\n",
       "\\item 'cproductos'\n",
       "\\item 'mcuenta\\_corriente'\n",
       "\\item 'mcaja\\_ahorro'\n",
       "\\item 'cdescubierto\\_preacordado'\n",
       "\\item 'mcuentas\\_saldo'\n",
       "\\item 'ctarjeta\\_visa\\_transacciones'\n",
       "\\item 'mtarjeta\\_visa\\_consumo'\n",
       "\\item 'mtarjeta\\_master\\_consumo'\n",
       "\\item 'mprestamos\\_personales'\n",
       "\\item 'cpayroll\\_trx'\n",
       "\\item 'mpayroll'\n",
       "\\item 'ccomisiones\\_mantenimiento'\n",
       "\\item 'ccallcenter\\_transacciones'\n",
       "\\item 'chomebanking\\_transacciones'\n",
       "\\item 'ctrx\\_quarter'\n",
       "\\item 'Master\\_status'\n",
       "\\item 'Master\\_fechaalta'\n",
       "\\item 'Master\\_mpagominimo'\n",
       "\\item 'Visa\\_status'\n",
       "\\item 'Visa\\_fechaalta'\n",
       "\\item 'Visa\\_mpagominimo'\n",
       "\\item 'clase\\_ternaria'\n",
       "\\item 'kmes'\n",
       "\\item 'mpayroll\\_sobre\\_edad'\n",
       "\\end{enumerate*}\n"
      ],
      "text/markdown": [
       "1. 'numero_de_cliente'\n",
       "2. 'foto_mes'\n",
       "3. 'internet'\n",
       "4. 'cliente_edad'\n",
       "5. 'cliente_antiguedad'\n",
       "6. 'mrentabilidad'\n",
       "7. 'mrentabilidad_annual'\n",
       "8. 'mcomisiones'\n",
       "9. 'mactivos_margen'\n",
       "10. 'mpasivos_margen'\n",
       "11. 'cproductos'\n",
       "12. 'mcuenta_corriente'\n",
       "13. 'mcaja_ahorro'\n",
       "14. 'cdescubierto_preacordado'\n",
       "15. 'mcuentas_saldo'\n",
       "16. 'ctarjeta_visa_transacciones'\n",
       "17. 'mtarjeta_visa_consumo'\n",
       "18. 'mtarjeta_master_consumo'\n",
       "19. 'mprestamos_personales'\n",
       "20. 'cpayroll_trx'\n",
       "21. 'mpayroll'\n",
       "22. 'ccomisiones_mantenimiento'\n",
       "23. 'ccallcenter_transacciones'\n",
       "24. 'chomebanking_transacciones'\n",
       "25. 'ctrx_quarter'\n",
       "26. 'Master_status'\n",
       "27. 'Master_fechaalta'\n",
       "28. 'Master_mpagominimo'\n",
       "29. 'Visa_status'\n",
       "30. 'Visa_fechaalta'\n",
       "31. 'Visa_mpagominimo'\n",
       "32. 'clase_ternaria'\n",
       "33. 'kmes'\n",
       "34. 'mpayroll_sobre_edad'\n",
       "\n",
       "\n"
      ],
      "text/plain": [
       " [1] \"numero_de_cliente\"           \"foto_mes\"                   \n",
       " [3] \"internet\"                    \"cliente_edad\"               \n",
       " [5] \"cliente_antiguedad\"          \"mrentabilidad\"              \n",
       " [7] \"mrentabilidad_annual\"        \"mcomisiones\"                \n",
       " [9] \"mactivos_margen\"             \"mpasivos_margen\"            \n",
       "[11] \"cproductos\"                  \"mcuenta_corriente\"          \n",
       "[13] \"mcaja_ahorro\"                \"cdescubierto_preacordado\"   \n",
       "[15] \"mcuentas_saldo\"              \"ctarjeta_visa_transacciones\"\n",
       "[17] \"mtarjeta_visa_consumo\"       \"mtarjeta_master_consumo\"    \n",
       "[19] \"mprestamos_personales\"       \"cpayroll_trx\"               \n",
       "[21] \"mpayroll\"                    \"ccomisiones_mantenimiento\"  \n",
       "[23] \"ccallcenter_transacciones\"   \"chomebanking_transacciones\" \n",
       "[25] \"ctrx_quarter\"                \"Master_status\"              \n",
       "[27] \"Master_fechaalta\"            \"Master_mpagominimo\"         \n",
       "[29] \"Visa_status\"                 \"Visa_fechaalta\"             \n",
       "[31] \"Visa_mpagominimo\"            \"clase_ternaria\"             \n",
       "[33] \"kmes\"                        \"mpayroll_sobre_edad\"        "
      ]
     },
     "metadata": {},
     "output_type": "display_data"
    }
   ],
   "source": [
    "# visualizo las columas del dataset a esta etapa\n",
    "colnames(dataset)"
   ]
  },
  {
   "cell_type": "markdown",
   "id": "6e3c57bf-2ef3-4b04-a512-cb30f728c98b",
   "metadata": {
    "id": "6e3c57bf-2ef3-4b04-a512-cb30f728c98b"
   },
   "source": [
    "#### 9.7.1.3  DR  Data Drifting\n",
    "Se intenta corregir el data drifting, ajustando por algunos indices financieros"
   ]
  },
  {
   "cell_type": "code",
   "execution_count": 32,
   "id": "8da403e2-102b-4bb4-94d0-e41d4b1e498d",
   "metadata": {
    "id": "8da403e2-102b-4bb4-94d0-e41d4b1e498d",
    "vscode": {
     "languageId": "r"
    }
   },
   "outputs": [],
   "source": [
    "# meses que me interesan para el ajuste de variables monetarias\n",
    "vfoto_mes <- c(\n",
    "  201901, 201902, 201903, 201904, 201905, 201906,\n",
    "  201907, 201908, 201909, 201910, 201911, 201912,\n",
    "  202001, 202002, 202003, 202004, 202005, 202006,\n",
    "  202007, 202008, 202009, 202010, 202011, 202012,\n",
    "  202101, 202102, 202103, 202104, 202105, 202106,\n",
    "  202107, 202108, 202109\n",
    ")\n",
    "# los valores que siguen fueron calculados por alumnos\n",
    "\n",
    "# momento 1.0  31-dic-2020 a las 23:59\n",
    "vIPC <- c(\n",
    "  1.9903030878, 1.9174403544, 1.8296186587,\n",
    "  1.7728862972, 1.7212488323, 1.6776304408,\n",
    "  1.6431248196, 1.5814483345, 1.4947526791,\n",
    "  1.4484037589, 1.3913580777, 1.3404220402,\n",
    "  1.3154288912, 1.2921698342, 1.2472681797,\n",
    "  1.2300475145, 1.2118694724, 1.1881073259,\n",
    "  1.1693969743, 1.1375456949, 1.1065619600,\n",
    "  1.0681100000, 1.0370000000, 1.0000000000,\n",
    "  0.9680542110, 0.9344152616, 0.8882274350,\n",
    "  0.8532444140, 0.8251880213, 0.8003763543,\n",
    "  0.7763107219, 0.7566381305, 0.7289384687\n",
    ")\n",
    "\n",
    "vdolar_blue <- c(\n",
    "   39.045455,  38.402500,  41.639474,\n",
    "   44.274737,  46.095455,  45.063333,\n",
    "   43.983333,  54.842857,  61.059524,\n",
    "   65.545455,  66.750000,  72.368421,\n",
    "   77.477273,  78.191667,  82.434211,\n",
    "  101.087500, 126.236842, 125.857143,\n",
    "  130.782609, 133.400000, 137.954545,\n",
    "  170.619048, 160.400000, 153.052632,\n",
    "  157.900000, 149.780952, 143.615385,\n",
    "  146.250000, 153.550000, 162.000000,\n",
    "  178.478261, 180.878788, 184.357143\n",
    ")\n",
    "\n",
    "vdolar_oficial <- c(\n",
    "   38.430000,  39.428000,  42.542105,\n",
    "   44.354211,  46.088636,  44.955000,\n",
    "   43.751429,  54.650476,  58.790000,\n",
    "   61.403182,  63.012632,  63.011579,\n",
    "   62.983636,  63.580556,  65.200000,\n",
    "   67.872000,  70.047895,  72.520952,\n",
    "   75.324286,  77.488500,  79.430909,\n",
    "   83.134762,  85.484737,  88.181667,\n",
    "   91.474000,  93.997778,  96.635909,\n",
    "   98.526000,  99.613158, 100.619048,\n",
    "  101.619048, 102.569048, 103.781818\n",
    ")\n",
    "\n",
    "vUVA <- c(\n",
    "  2.001408838932958,  1.950325472789153,  1.89323032351521,\n",
    "  1.8247220405493787, 1.746027787673673,  1.6871348409529485,\n",
    "  1.6361678865622313, 1.5927529755859773, 1.5549162794128493,\n",
    "  1.4949100586391746, 1.4197729500774545, 1.3678188186372326,\n",
    "  1.3136508617223726, 1.2690535173062818, 1.2381595983200178,\n",
    "  1.211656735577568,  1.1770808941405335, 1.1570338657445522,\n",
    "  1.1388769475653255, 1.1156993751209352, 1.093638313080772,\n",
    "  1.0657171590878205, 1.0362173587708712, 1.0,\n",
    "  0.9669867858358365, 0.9323750098728378, 0.8958202912590305,\n",
    "  0.8631993702994263, 0.8253893405524657, 0.7928918905364516,\n",
    "  0.7666323845128089, 0.7428976357662823, 0.721615762047849\n",
    ")\n",
    "\n",
    "tb_indices <- as.data.table( list(\n",
    "  \"IPC\" = vIPC,\n",
    "  \"dolar_blue\" = vdolar_blue,\n",
    "  \"dolar_oficial\" = vdolar_oficial,\n",
    "  \"UVA\" = vUVA\n",
    "  )\n",
    ")\n",
    "\n",
    "tb_indices[[\"foto_mes\"]] <- vfoto_mes\n",
    "\n",
    "# tb_indices"
   ]
  },
  {
   "cell_type": "code",
   "execution_count": 33,
   "id": "f45d86db-0902-4383-b241-68e2c8c6a873",
   "metadata": {
    "id": "f45d86db-0902-4383-b241-68e2c8c6a873",
    "vscode": {
     "languageId": "r"
    }
   },
   "outputs": [],
   "source": [
    "## TODO: juntar en una funcion...\n",
    "\n",
    "drift_UVA <- function(campos_monetarios) {\n",
    "  cat( \"inicio drift_UVA()\\n\")\n",
    "\n",
    "  dataset[tb_indices,\n",
    "    on = c(\"foto_mes\"),\n",
    "    (campos_monetarios) := .SD * i.UVA,\n",
    "    .SDcols = campos_monetarios\n",
    "  ]\n",
    "\n",
    "  cat( \"fin drift_UVA()\\n\")\n",
    "}\n",
    "drift_dolar_oficial <- function(campos_monetarios) {\n",
    "  cat( \"inicio drift_dolar_oficial()\\n\")\n",
    "\n",
    "  dataset[tb_indices,\n",
    "    on = c(\"foto_mes\"),\n",
    "    (campos_monetarios) := .SD / i.dolar_oficial,\n",
    "    .SDcols = campos_monetarios\n",
    "  ]\n",
    "\n",
    "  cat( \"fin drift_dolar_oficial()\\n\")\n",
    "}\n",
    "drift_dolar_blue <- function(campos_monetarios) {\n",
    "  cat( \"inicio drift_dolar_blue()\\n\")\n",
    "\n",
    "  dataset[tb_indices,\n",
    "    on = c(\"foto_mes\"),\n",
    "    (campos_monetarios) := .SD / i.dolar_blue,\n",
    "    .SDcols = campos_monetarios\n",
    "  ]\n",
    "\n",
    "  cat( \"fin drift_dolar_blue()\\n\")\n",
    "}\n",
    "drift_deflacion <- function(campos_monetarios) {\n",
    "  cat( \"inicio drift_deflacion()\\n\")\n",
    "\n",
    "  dataset[tb_indices,\n",
    "    on = c(\"foto_mes\"),\n",
    "    (campos_monetarios) := .SD * i.IPC,\n",
    "    .SDcols = campos_monetarios\n",
    "  ]\n",
    "\n",
    "  cat( \"fin drift_deflacion()\\n\")\n",
    "}\n",
    "drift_rank_simple <- function(campos_drift) {\n",
    "\n",
    "  cat( \"inicio drift_rank_simple()\\n\")\n",
    "  for (campo in campos_drift)\n",
    "  {\n",
    "    cat(campo, \" \")\n",
    "    dataset[, paste0(campo, \"_rank\") :=\n",
    "      (frank(get(campo), ties.method = \"random\") - 1) / (.N - 1), by = list(foto_mes)]\n",
    "    dataset[, (campo) := NULL]\n",
    "  }\n",
    "  cat( \"fin drift_rank_simple()\\n\")\n",
    "}\n",
    "# El cero se transforma en cero\n",
    "# los positivos se rankean por su lado\n",
    "# los negativos se rankean por su lado\n",
    "\n",
    "drift_rank_cero_fijo <- function(campos_drift) {\n",
    "\n",
    "  cat( \"inicio drift_rank_cero_fijo()\\n\")\n",
    "  for (campo in campos_drift)\n",
    "  {\n",
    "    cat(campo, \" \")\n",
    "    dataset[get(campo) == 0, paste0(campo, \"_rank\") := 0]\n",
    "    dataset[get(campo) > 0, paste0(campo, \"_rank\") :=\n",
    "      frank(get(campo), ties.method = \"random\") / .N, by = list(foto_mes)]\n",
    "\n",
    "    dataset[get(campo) < 0, paste0(campo, \"_rank\") :=\n",
    "      -frank(-get(campo), ties.method = \"random\") / .N, by = list(foto_mes)]\n",
    "    dataset[, (campo) := NULL]\n",
    "  }\n",
    "  cat(\"\\n\")\n",
    "  cat( \"fin drift_rank_cero_fijo()\\n\")\n",
    "}\n",
    "drift_estandarizar <- function(campos_drift) {\n",
    "\n",
    "  cat( \"inicio drift_estandarizar()\\n\")\n",
    "  for (campo in campos_drift)\n",
    "  {\n",
    "    cat(campo, \" \")\n",
    "    dataset[, paste0(campo, \"_normal\") :=\n",
    "      (get(campo) -mean(campo, na.rm=TRUE)) / sd(get(campo), na.rm=TRUE),\n",
    "      by = list(foto_mes)]\n",
    "\n",
    "    dataset[, (campo) := NULL]\n",
    "  }\n",
    "  cat( \"fin drift_estandarizar()\\n\")\n",
    "}\n"
   ]
  },
  {
   "cell_type": "code",
   "execution_count": 34,
   "id": "dfc6a0f9-bb32-45ea-8b9e-2e964f5a1614",
   "metadata": {
    "colab": {
     "base_uri": "https://localhost:8080/",
     "height": 86
    },
    "id": "dfc6a0f9-bb32-45ea-8b9e-2e964f5a1614",
    "outputId": "67b237f7-715f-467f-a72f-2892b744d49c",
    "vscode": {
     "languageId": "r"
    }
   },
   "outputs": [
    {
     "data": {
      "text/html": [
       "<style>\n",
       ".list-inline {list-style: none; margin:0; padding: 0}\n",
       ".list-inline>li {display: inline-block}\n",
       ".list-inline>li:not(:last-child)::after {content: \"\\00b7\"; padding: 0 .5ex}\n",
       "</style>\n",
       "<ol class=list-inline><li>'mrentabilidad'</li><li>'mrentabilidad_annual'</li><li>'mcomisiones'</li><li>'mactivos_margen'</li><li>'mpasivos_margen'</li><li>'mcuenta_corriente'</li><li>'mcaja_ahorro'</li><li>'mcuentas_saldo'</li><li>'mtarjeta_visa_consumo'</li><li>'mtarjeta_master_consumo'</li><li>'mprestamos_personales'</li><li>'mpayroll'</li><li>'Master_mpagominimo'</li><li>'Visa_mpagominimo'</li><li>'mpayroll_sobre_edad'</li></ol>\n"
      ],
      "text/latex": [
       "\\begin{enumerate*}\n",
       "\\item 'mrentabilidad'\n",
       "\\item 'mrentabilidad\\_annual'\n",
       "\\item 'mcomisiones'\n",
       "\\item 'mactivos\\_margen'\n",
       "\\item 'mpasivos\\_margen'\n",
       "\\item 'mcuenta\\_corriente'\n",
       "\\item 'mcaja\\_ahorro'\n",
       "\\item 'mcuentas\\_saldo'\n",
       "\\item 'mtarjeta\\_visa\\_consumo'\n",
       "\\item 'mtarjeta\\_master\\_consumo'\n",
       "\\item 'mprestamos\\_personales'\n",
       "\\item 'mpayroll'\n",
       "\\item 'Master\\_mpagominimo'\n",
       "\\item 'Visa\\_mpagominimo'\n",
       "\\item 'mpayroll\\_sobre\\_edad'\n",
       "\\end{enumerate*}\n"
      ],
      "text/markdown": [
       "1. 'mrentabilidad'\n",
       "2. 'mrentabilidad_annual'\n",
       "3. 'mcomisiones'\n",
       "4. 'mactivos_margen'\n",
       "5. 'mpasivos_margen'\n",
       "6. 'mcuenta_corriente'\n",
       "7. 'mcaja_ahorro'\n",
       "8. 'mcuentas_saldo'\n",
       "9. 'mtarjeta_visa_consumo'\n",
       "10. 'mtarjeta_master_consumo'\n",
       "11. 'mprestamos_personales'\n",
       "12. 'mpayroll'\n",
       "13. 'Master_mpagominimo'\n",
       "14. 'Visa_mpagominimo'\n",
       "15. 'mpayroll_sobre_edad'\n",
       "\n",
       "\n"
      ],
      "text/plain": [
       " [1] \"mrentabilidad\"           \"mrentabilidad_annual\"   \n",
       " [3] \"mcomisiones\"             \"mactivos_margen\"        \n",
       " [5] \"mpasivos_margen\"         \"mcuenta_corriente\"      \n",
       " [7] \"mcaja_ahorro\"            \"mcuentas_saldo\"         \n",
       " [9] \"mtarjeta_visa_consumo\"   \"mtarjeta_master_consumo\"\n",
       "[11] \"mprestamos_personales\"   \"mpayroll\"               \n",
       "[13] \"Master_mpagominimo\"      \"Visa_mpagominimo\"       \n",
       "[15] \"mpayroll_sobre_edad\"    "
      ]
     },
     "metadata": {},
     "output_type": "display_data"
    }
   ],
   "source": [
    "# por como armé los nombres de campos,\n",
    "#  estos son los campos que expresan variables monetarias\n",
    "campos_monetarios <- colnames(dataset)\n",
    "campos_monetarios <- campos_monetarios[campos_monetarios %like%\n",
    "  \"^(m|Visa_m|Master_m|vm_m)\"]\n",
    "\n",
    "campos_monetarios\n",
    "add_log(campos_monetarios)"
   ]
  },
  {
   "cell_type": "code",
   "execution_count": 35,
   "id": "90434a25-93a3-4d3f-9242-412ab38d981b",
   "metadata": {
    "colab": {
     "base_uri": "https://localhost:8080/"
    },
    "id": "90434a25-93a3-4d3f-9242-412ab38d981b",
    "outputId": "ff1f2fc8-449a-40c7-a6b9-946f9b3f97ca",
    "vscode": {
     "languageId": "r"
    }
   },
   "outputs": [
    {
     "name": "stdout",
     "output_type": "stream",
     "text": [
      "inicio drift_deflacion()\n",
      "fin drift_deflacion()\n"
     ]
    }
   ],
   "source": [
    "# ejecuto el Data Drifting\n",
    "setorder(dataset, numero_de_cliente, foto_mes)\n",
    "\n",
    "PARAM$DR$metodo <- \"deflacion\"\n",
    "\n",
    "switch(PARAM$DR$metodo,\n",
    "  \"ninguno\"        = cat(\"No hay correccion del data drifting\"),\n",
    "  \"rank_simple\"    = drift_rank_simple(campos_monetarios),\n",
    "  \"rank_cero_fijo\" = drift_rank_cero_fijo(campos_monetarios),\n",
    "  \"deflacion\"      = drift_deflacion(campos_monetarios),\n",
    "  \"dolar_blue\"     = drift_dolarblue(campos_monetarios),\n",
    "  \"dolar_oficial\"  = drift_dolaroficial(campos_monetarios),\n",
    "  \"UVA\"            = drift_UVA(campos_monetarios),\n",
    "  \"estandarizar\"   = drift_estandarizar(campos_monetarios)\n",
    ")\n"
   ]
  },
  {
   "cell_type": "code",
   "execution_count": 36,
   "id": "fc1d92cc-bd7a-43ef-9133-efc7eac94af3",
   "metadata": {
    "colab": {
     "base_uri": "https://localhost:8080/",
     "height": 156
    },
    "id": "fc1d92cc-bd7a-43ef-9133-efc7eac94af3",
    "outputId": "3ad8a828-f1d5-495a-af4f-e0633474d4ed",
    "vscode": {
     "languageId": "r"
    }
   },
   "outputs": [
    {
     "data": {
      "text/html": [
       "<style>\n",
       ".list-inline {list-style: none; margin:0; padding: 0}\n",
       ".list-inline>li {display: inline-block}\n",
       ".list-inline>li:not(:last-child)::after {content: \"\\00b7\"; padding: 0 .5ex}\n",
       "</style>\n",
       "<ol class=list-inline><li>'numero_de_cliente'</li><li>'foto_mes'</li><li>'internet'</li><li>'cliente_edad'</li><li>'cliente_antiguedad'</li><li>'mrentabilidad'</li><li>'mrentabilidad_annual'</li><li>'mcomisiones'</li><li>'mactivos_margen'</li><li>'mpasivos_margen'</li><li>'cproductos'</li><li>'mcuenta_corriente'</li><li>'mcaja_ahorro'</li><li>'cdescubierto_preacordado'</li><li>'mcuentas_saldo'</li><li>'ctarjeta_visa_transacciones'</li><li>'mtarjeta_visa_consumo'</li><li>'mtarjeta_master_consumo'</li><li>'mprestamos_personales'</li><li>'cpayroll_trx'</li><li>'mpayroll'</li><li>'ccomisiones_mantenimiento'</li><li>'ccallcenter_transacciones'</li><li>'chomebanking_transacciones'</li><li>'ctrx_quarter'</li><li>'Master_status'</li><li>'Master_fechaalta'</li><li>'Master_mpagominimo'</li><li>'Visa_status'</li><li>'Visa_fechaalta'</li><li>'Visa_mpagominimo'</li><li>'clase_ternaria'</li><li>'kmes'</li><li>'mpayroll_sobre_edad'</li></ol>\n"
      ],
      "text/latex": [
       "\\begin{enumerate*}\n",
       "\\item 'numero\\_de\\_cliente'\n",
       "\\item 'foto\\_mes'\n",
       "\\item 'internet'\n",
       "\\item 'cliente\\_edad'\n",
       "\\item 'cliente\\_antiguedad'\n",
       "\\item 'mrentabilidad'\n",
       "\\item 'mrentabilidad\\_annual'\n",
       "\\item 'mcomisiones'\n",
       "\\item 'mactivos\\_margen'\n",
       "\\item 'mpasivos\\_margen'\n",
       "\\item 'cproductos'\n",
       "\\item 'mcuenta\\_corriente'\n",
       "\\item 'mcaja\\_ahorro'\n",
       "\\item 'cdescubierto\\_preacordado'\n",
       "\\item 'mcuentas\\_saldo'\n",
       "\\item 'ctarjeta\\_visa\\_transacciones'\n",
       "\\item 'mtarjeta\\_visa\\_consumo'\n",
       "\\item 'mtarjeta\\_master\\_consumo'\n",
       "\\item 'mprestamos\\_personales'\n",
       "\\item 'cpayroll\\_trx'\n",
       "\\item 'mpayroll'\n",
       "\\item 'ccomisiones\\_mantenimiento'\n",
       "\\item 'ccallcenter\\_transacciones'\n",
       "\\item 'chomebanking\\_transacciones'\n",
       "\\item 'ctrx\\_quarter'\n",
       "\\item 'Master\\_status'\n",
       "\\item 'Master\\_fechaalta'\n",
       "\\item 'Master\\_mpagominimo'\n",
       "\\item 'Visa\\_status'\n",
       "\\item 'Visa\\_fechaalta'\n",
       "\\item 'Visa\\_mpagominimo'\n",
       "\\item 'clase\\_ternaria'\n",
       "\\item 'kmes'\n",
       "\\item 'mpayroll\\_sobre\\_edad'\n",
       "\\end{enumerate*}\n"
      ],
      "text/markdown": [
       "1. 'numero_de_cliente'\n",
       "2. 'foto_mes'\n",
       "3. 'internet'\n",
       "4. 'cliente_edad'\n",
       "5. 'cliente_antiguedad'\n",
       "6. 'mrentabilidad'\n",
       "7. 'mrentabilidad_annual'\n",
       "8. 'mcomisiones'\n",
       "9. 'mactivos_margen'\n",
       "10. 'mpasivos_margen'\n",
       "11. 'cproductos'\n",
       "12. 'mcuenta_corriente'\n",
       "13. 'mcaja_ahorro'\n",
       "14. 'cdescubierto_preacordado'\n",
       "15. 'mcuentas_saldo'\n",
       "16. 'ctarjeta_visa_transacciones'\n",
       "17. 'mtarjeta_visa_consumo'\n",
       "18. 'mtarjeta_master_consumo'\n",
       "19. 'mprestamos_personales'\n",
       "20. 'cpayroll_trx'\n",
       "21. 'mpayroll'\n",
       "22. 'ccomisiones_mantenimiento'\n",
       "23. 'ccallcenter_transacciones'\n",
       "24. 'chomebanking_transacciones'\n",
       "25. 'ctrx_quarter'\n",
       "26. 'Master_status'\n",
       "27. 'Master_fechaalta'\n",
       "28. 'Master_mpagominimo'\n",
       "29. 'Visa_status'\n",
       "30. 'Visa_fechaalta'\n",
       "31. 'Visa_mpagominimo'\n",
       "32. 'clase_ternaria'\n",
       "33. 'kmes'\n",
       "34. 'mpayroll_sobre_edad'\n",
       "\n",
       "\n"
      ],
      "text/plain": [
       " [1] \"numero_de_cliente\"           \"foto_mes\"                   \n",
       " [3] \"internet\"                    \"cliente_edad\"               \n",
       " [5] \"cliente_antiguedad\"          \"mrentabilidad\"              \n",
       " [7] \"mrentabilidad_annual\"        \"mcomisiones\"                \n",
       " [9] \"mactivos_margen\"             \"mpasivos_margen\"            \n",
       "[11] \"cproductos\"                  \"mcuenta_corriente\"          \n",
       "[13] \"mcaja_ahorro\"                \"cdescubierto_preacordado\"   \n",
       "[15] \"mcuentas_saldo\"              \"ctarjeta_visa_transacciones\"\n",
       "[17] \"mtarjeta_visa_consumo\"       \"mtarjeta_master_consumo\"    \n",
       "[19] \"mprestamos_personales\"       \"cpayroll_trx\"               \n",
       "[21] \"mpayroll\"                    \"ccomisiones_mantenimiento\"  \n",
       "[23] \"ccallcenter_transacciones\"   \"chomebanking_transacciones\" \n",
       "[25] \"ctrx_quarter\"                \"Master_status\"              \n",
       "[27] \"Master_fechaalta\"            \"Master_mpagominimo\"         \n",
       "[29] \"Visa_status\"                 \"Visa_fechaalta\"             \n",
       "[31] \"Visa_mpagominimo\"            \"clase_ternaria\"             \n",
       "[33] \"kmes\"                        \"mpayroll_sobre_edad\"        "
      ]
     },
     "metadata": {},
     "output_type": "display_data"
    }
   ],
   "source": [
    "colnames(dataset)"
   ]
  },
  {
   "cell_type": "markdown",
   "id": "ad488674-e40f-4d22-888e-da035f96400b",
   "metadata": {
    "id": "ad488674-e40f-4d22-888e-da035f96400b"
   },
   "source": [
    "#### 9.7.1.3  FE_intra_manual Feature Engineering intra-mes\n",
    "\n",
    "Agrego campos nuevos dentro del mismo mes, SIN considerar la historia."
   ]
  },
  {
   "cell_type": "code",
   "execution_count": 37,
   "id": "43cc3f1f-8b3d-41bd-bcfc-c7d5660f0d28",
   "metadata": {
    "colab": {
     "base_uri": "https://localhost:8080/"
    },
    "id": "43cc3f1f-8b3d-41bd-bcfc-c7d5660f0d28",
    "outputId": "fa09e004-f8e1-48cc-94a3-bf8fde4a1de5",
    "vscode": {
     "languageId": "r"
    }
   },
   "outputs": [],
   "source": [
    "if( !require(\"lubridate\")) install.packages(\"lubridate\", repos = \"http://cran.us.r-project.org\")\n",
    "require(\"lubridate\")"
   ]
  },
  {
   "cell_type": "code",
   "execution_count": 38,
   "id": "3a2ebc99-0b40-420d-a579-9028cbda0081",
   "metadata": {
    "id": "3a2ebc99-0b40-420d-a579-9028cbda0081",
    "vscode": {
     "languageId": "r"
    }
   },
   "outputs": [],
   "source": [
    "# esta funcion atributos presentes existe debido a que las modalidades poseen datasets con distinta cantidad de campos\n",
    "atributos_presentes <- function(patributos)\n",
    "{\n",
    "  atributos <- unique(patributos)\n",
    "  comun <- intersect(atributos, colnames(dataset))\n",
    "\n",
    "  return( length(atributos) == length(comun))\n",
    "}"
   ]
  },
  {
   "cell_type": "code",
   "execution_count": 39,
   "id": "992d12ec-1da3-4aa5-923c-10b222e7b8d7",
   "metadata": {
    "id": "992d12ec-1da3-4aa5-923c-10b222e7b8d7",
    "vscode": {
     "languageId": "r"
    }
   },
   "outputs": [],
   "source": [
    "# Esta es la parte que los alumnos deben desplegar todo su ingenio\n",
    "# Agregar aqui sus PROPIAS VARIABLES manuales\n",
    "\n",
    "AgregarVariables_IntraMes <- function(dataset) {\n",
    "  cat( \"inicio AgregarVariables_IntraMes()\\n\")\n",
    "  add_log( \"inicio AgregarVariables_IntraMes()\\n\")\n",
    "  gc(verbose= FALSE)\n",
    "  # INICIO de la seccion donde se deben hacer cambios con variables nuevas\n",
    "\n",
    "  # el mes 1,2, ..12\n",
    "  if( atributos_presentes( c(\"foto_mes\") ))\n",
    "    dataset[, kmes := foto_mes %% 100]\n",
    "\n",
    "  # creo un ctr_quarter que tenga en cuenta cuando\n",
    "  # los clientes hace 3 menos meses que estan\n",
    "  # ya que seria injusto considerar las transacciones medidas en menor tiempo\n",
    "  if( atributos_presentes( c(\"ctrx_quarter\") ))\n",
    "    dataset[, ctrx_quarter_normalizado := as.numeric(ctrx_quarter) ]\n",
    "\n",
    "  if( atributos_presentes( c(\"ctrx_quarter\", \"cliente_antiguedad\") ))\n",
    "    dataset[cliente_antiguedad == 1, ctrx_quarter_normalizado := ctrx_quarter * 5]\n",
    "\n",
    "  if( atributos_presentes( c(\"ctrx_quarter\", \"cliente_antiguedad\") ))\n",
    "    dataset[cliente_antiguedad == 2, ctrx_quarter_normalizado := ctrx_quarter * 2]\n",
    "\n",
    "  if( atributos_presentes( c(\"ctrx_quarter\", \"cliente_antiguedad\") ))\n",
    "    dataset[\n",
    "      cliente_antiguedad == 3,\n",
    "      ctrx_quarter_normalizado := ctrx_quarter * 1.2\n",
    "    ]\n",
    "\n",
    "   if(atributos_presentes(c(\"foto_mes\")))\n",
    "    dataset[,foto_mes_formato_fecha := as.Date(paste(substr(dataset$foto_mes,1,4),substr(dataset$foto_mes,5,6),\"01\",sep='-'))]\n",
    "\n",
    "  #dataset$foto_mes_formato_fecha <<- as.Date(paste(substr(dataset$foto_mes,1,4),substr(dataset$foto_mes,5,6),\"01\",sep='-'))\n",
    "\n",
    "  if(atributos_presentes(c(\"cantidad_total_transacciones\"))){\n",
    "   auxiliarmenos1 <- dataset[,list(numero_de_cliente,foto_mes_formato_fecha, cantidad_total_transacciones)]\n",
    "   auxiliarmenos2 <- dataset[,list(numero_de_cliente,foto_mes_formato_fecha,cantidad_total_transacciones)]\n",
    "   # auxiliarmenos1$foto_mes_formato_fecha <- as.Date(auxiliarmenos1$foto_mes_formato_fecha)\n",
    "   # auxiliarmenos2$foto_mes_formato_fecha <- as.Date(auxiliarmenos2$foto_mes_formato_fecha)\n",
    "   auxiliarmenos1$foto_mes_formato_fecha <- auxiliarmenos1$foto_mes_formato_fecha  %m-%  months(1)\n",
    "   auxiliarmenos2$foto_mes_formato_fecha <- auxiliarmenos2$foto_mes_formato_fecha %m-% months(2)\n",
    "   auxiliarmenos1$codigo <- paste(auxiliarmenos1$numero_de_cliente,auxiliarmenos1$foto_mes_formato_fecha,sep='-')\n",
    "   auxiliarmenos2$codigo <- paste(auxiliarmenos2$numero_de_cliente,auxiliarmenos2$foto_mes_formato_fecha,sep='-')\n",
    "\n",
    "   dataset[, codigo := paste(numero_de_cliente, foto_mes_formato_fecha, sep='-') ]\n",
    "\n",
    "   dataset[ auxiliarmenos1,\n",
    "            on = \"codigo\",\n",
    "            transaccionesmenos1 := i.cantidad_total_transacciones ]\n",
    "\n",
    "   dataset[ auxiliarmenos2,\n",
    "            on = \"codigo\",\n",
    "            transaccionesmenos2 := i.cantidad_total_transacciones ]\n",
    "\n",
    "   dataset[, cantidad_total_transacciones_quarter := rowSums(cbind(cantidad_total_transacciones +\n",
    "    transaccionesmenos1 + transaccionesmenos2),na.rm=T) ]\n",
    "\n",
    "   dataset[, codigo := NULL ]\n",
    "   dataset[, transaccionesmenos1 := NULL ]\n",
    "   dataset[, transaccionesmenos2 := NULL ]\n",
    "   dataset[, foto_mes_formato_fecha := NULL ]\n",
    "   rm(auxiliarmenos1)\n",
    "   rm(auxiliarmenos2)\n",
    "  }\n",
    "\n",
    "  if( atributos_presentes( c(\"cantidad_total_transacciones_quarter\") ))\n",
    "    dataset[, cantidad_total_transacciones_quarter_normalizado := cantidad_total_transacciones_quarter]\n",
    "\n",
    "  if( atributos_presentes( c(\"cantidad_total_transacciones_quarter\", \"cliente_antiguedad\") ))\n",
    "    dataset[cliente_antiguedad == 1, cantidad_total_transacciones_quarter_normalizado := cantidad_total_transacciones_quarter * 5]\n",
    "\n",
    "  if( atributos_presentes( c(\"cantidad_total_transacciones_quarter\", \"cliente_antiguedad\") ))\n",
    "    dataset[cliente_antiguedad == 2, cantidad_total_transacciones_quarter_normalizado := cantidad_total_transacciones_quarter * 2]\n",
    "\n",
    "  if( atributos_presentes( c(\"cantidad_total_transacciones_quarter\", \"cliente_antiguedad\") ))\n",
    "    dataset[cliente_antiguedad == 3, cantidad_total_transacciones_quarter_normalizado := cantidad_total_transacciones_quarter * 1.2]\n",
    "\n",
    "  # variable extraida de una tesis de maestria de Irlanda\n",
    "  if( atributos_presentes( c(\"mpayroll\", \"cliente_edad\") ))\n",
    "    dataset[, mpayroll_sobre_edad := mpayroll / cliente_edad]\n",
    "\n",
    "  # se crean los nuevos campos para MasterCard  y Visa,\n",
    "  #  teniendo en cuenta los NA's\n",
    "  # varias formas de combinar Visa_status y Master_status\n",
    "  if( atributos_presentes( c(\"Master_status\", \"Visa_status\") ))\n",
    "  {\n",
    "    dataset[, vm_status01 := pmax(Master_status, Visa_status, na.rm = TRUE)]\n",
    "    dataset[, vm_status02 := Master_status + Visa_status]\n",
    "\n",
    "    dataset[, vm_status03 := pmax(\n",
    "      ifelse(is.na(Master_status), 10, Master_status),\n",
    "      ifelse(is.na(Visa_status), 10, Visa_status)\n",
    "    )]\n",
    "\n",
    "    dataset[, vm_status04 := ifelse(is.na(Master_status), 10, Master_status)\n",
    "      + ifelse(is.na(Visa_status), 10, Visa_status)]\n",
    "\n",
    "    dataset[, vm_status05 := ifelse(is.na(Master_status), 10, Master_status)\n",
    "      + 100 * ifelse(is.na(Visa_status), 10, Visa_status)]\n",
    "\n",
    "    dataset[, vm_status06 := ifelse(is.na(Visa_status),\n",
    "      ifelse(is.na(Master_status), 10, Master_status),\n",
    "      Visa_status\n",
    "    )]\n",
    "\n",
    "    dataset[, mv_status07 := ifelse(is.na(Master_status),\n",
    "      ifelse(is.na(Visa_status), 10, Visa_status),\n",
    "      Master_status\n",
    "    )]\n",
    "  }\n",
    "\n",
    "\n",
    "  # combino MasterCard y Visa\n",
    "  if( atributos_presentes( c(\"Master_mfinanciacion_limite\", \"Visa_mfinanciacion_limite\") ))\n",
    "    dataset[, vm_mfinanciacion_limite := rowSums(cbind(Master_mfinanciacion_limite, Visa_mfinanciacion_limite), na.rm = TRUE)]\n",
    "\n",
    "  if( atributos_presentes( c(\"Master_Fvencimiento\", \"Visa_Fvencimiento\") ))\n",
    "    dataset[, vm_Fvencimiento := pmin(Master_Fvencimiento, Visa_Fvencimiento, na.rm = TRUE)]\n",
    "\n",
    "  if( atributos_presentes( c(\"Master_Finiciomora\", \"Visa_Finiciomora\") ))\n",
    "    dataset[, vm_Finiciomora := pmin(Master_Finiciomora, Visa_Finiciomora, na.rm = TRUE)]\n",
    "\n",
    "  if( atributos_presentes( c(\"Master_msaldototal\", \"Visa_msaldototal\") ))\n",
    "    dataset[, vm_msaldototal := rowSums(cbind(Master_msaldototal, Visa_msaldototal), na.rm = TRUE)]\n",
    "\n",
    "  if( atributos_presentes( c(\"Master_msaldopesos\", \"Visa_msaldopesos\") ))\n",
    "    dataset[, vm_msaldopesos := rowSums(cbind(Master_msaldopesos, Visa_msaldopesos), na.rm = TRUE)]\n",
    "\n",
    "  if( atributos_presentes( c(\"Master_msaldodolares\", \"Visa_msaldodolares\") ))\n",
    "    dataset[, vm_msaldodolares := rowSums(cbind(Master_msaldodolares, Visa_msaldodolares), na.rm = TRUE)]\n",
    "\n",
    "  if( atributos_presentes( c(\"Master_mconsumospesos\", \"Visa_mconsumospesos\") ))\n",
    "    dataset[, vm_mconsumospesos := rowSums(cbind(Master_mconsumospesos, Visa_mconsumospesos), na.rm = TRUE)]\n",
    "\n",
    "  if( atributos_presentes( c(\"Master_mconsumosdolares\", \"Visa_mconsumosdolares\") ))\n",
    "    dataset[, vm_mconsumosdolares := rowSums(cbind(Master_mconsumosdolares, Visa_mconsumosdolares), na.rm = TRUE)]\n",
    "\n",
    "  if( atributos_presentes( c(\"Master_mlimitecompra\", \"Visa_mlimitecompra\") ))\n",
    "    dataset[, vm_mlimitecompra := rowSums(cbind(Master_mlimitecompra, Visa_mlimitecompra), na.rm = TRUE)]\n",
    "\n",
    "  if( atributos_presentes( c(\"Master_madelantopesos\", \"Visa_madelantopesos\") ))\n",
    "    dataset[, vm_madelantopesos := rowSums(cbind(Master_madelantopesos, Visa_madelantopesos), na.rm = TRUE)]\n",
    "\n",
    "  if( atributos_presentes( c(\"Master_madelantodolares\", \"Visa_madelantodolares\") ))\n",
    "    dataset[, vm_madelantodolares := rowSums(cbind(Master_madelantodolares, Visa_madelantodolares), na.rm = TRUE)]\n",
    "\n",
    "  if( atributos_presentes( c(\"Master_fultimo_cierre\", \"Visa_fultimo_cierre\") ))\n",
    "    dataset[, vm_fultimo_cierre := pmax(Master_fultimo_cierre, Visa_fultimo_cierre, na.rm = TRUE)]\n",
    "\n",
    "  if( atributos_presentes( c(\"Master_mpagado\", \"Visa_mpagado\") ))\n",
    "    dataset[, vm_mpagado := rowSums(cbind(Master_mpagado, Visa_mpagado), na.rm = TRUE)]\n",
    "\n",
    "  if( atributos_presentes( c(\"Master_mpagospesos\", \"Visa_mpagospesos\") ))\n",
    "    dataset[, vm_mpagospesos := rowSums(cbind(Master_mpagospesos, Visa_mpagospesos), na.rm = TRUE)]\n",
    "\n",
    "  if( atributos_presentes( c(\"Master_mpagosdolares\", \"Visa_mpagosdolares\") ))\n",
    "    dataset[, vm_mpagosdolares := rowSums(cbind(Master_mpagosdolares, Visa_mpagosdolares), na.rm = TRUE)]\n",
    "\n",
    "  if( atributos_presentes( c(\"Master_fechaalta\", \"Visa_fechaalta\") ))\n",
    "    dataset[, vm_fechaalta := pmax(Master_fechaalta, Visa_fechaalta, na.rm = TRUE)]\n",
    "\n",
    "  if( atributos_presentes( c(\"Master_mconsumototal\", \"Visa_mconsumototal\") ))\n",
    "    dataset[, vm_mconsumototal := rowSums(cbind(Master_mconsumototal, Visa_mconsumototal), na.rm = TRUE)]\n",
    "\n",
    "  if( atributos_presentes( c(\"Master_cconsumos\", \"Visa_cconsumos\") ))\n",
    "    dataset[, vm_cconsumos := rowSums(cbind(Master_cconsumos, Visa_cconsumos), na.rm = TRUE)]\n",
    "\n",
    "  if( atributos_presentes( c(\"Master_cadelantosefectivo\", \"Visa_cadelantosefectivo\") ))\n",
    "    dataset[, vm_cadelantosefectivo := rowSums(cbind(Master_cadelantosefectivo, Visa_cadelantosefectivo), na.rm = TRUE)]\n",
    "\n",
    "  if( atributos_presentes( c(\"Master_mpagominimo\", \"Visa_mpagominimo\") ))\n",
    "    dataset[, vm_mpagominimo := rowSums(cbind(Master_mpagominimo, Visa_mpagominimo), na.rm = TRUE)]\n",
    "\n",
    "  # a partir de aqui juego con la suma de Mastercard y Visa\n",
    "  if( atributos_presentes( c(\"Master_mlimitecompra\", \"vm_mlimitecompra\") ))\n",
    "    dataset[, vmr_Master_mlimitecompra := Master_mlimitecompra / vm_mlimitecompra]\n",
    "\n",
    "  if( atributos_presentes( c(\"Visa_mlimitecompra\", \"vm_mlimitecompra\") ))\n",
    "    dataset[, vmr_Visa_mlimitecompra := Visa_mlimitecompra / vm_mlimitecompra]\n",
    "\n",
    "  if( atributos_presentes( c(\"vm_msaldototal\", \"vm_mlimitecompra\") ))\n",
    "    dataset[, vmr_msaldototal := vm_msaldototal / vm_mlimitecompra]\n",
    "\n",
    "  if( atributos_presentes( c(\"vm_msaldopesos\", \"vm_mlimitecompra\") ))\n",
    "    dataset[, vmr_msaldopesos := vm_msaldopesos / vm_mlimitecompra]\n",
    "\n",
    "  if( atributos_presentes( c(\"vm_msaldopesos\", \"vm_msaldototal\") ))\n",
    "    dataset[, vmr_msaldopesos2 := vm_msaldopesos / vm_msaldototal]\n",
    "\n",
    "  if( atributos_presentes( c(\"vm_msaldodolares\", \"vm_mlimitecompra\") ))\n",
    "    dataset[, vmr_msaldodolares := vm_msaldodolares / vm_mlimitecompra]\n",
    "\n",
    "  if( atributos_presentes( c(\"vm_msaldodolares\", \"vm_msaldototal\") ))\n",
    "    dataset[, vmr_msaldodolares2 := vm_msaldodolares / vm_msaldototal]\n",
    "\n",
    "  if( atributos_presentes( c(\"vm_mconsumospesos\", \"vm_mlimitecompra\") ))\n",
    "    dataset[, vmr_mconsumospesos := vm_mconsumospesos / vm_mlimitecompra]\n",
    "\n",
    "  if( atributos_presentes( c(\"vm_mconsumosdolares\", \"vm_mlimitecompra\") ))\n",
    "    dataset[, vmr_mconsumosdolares := vm_mconsumosdolares / vm_mlimitecompra]\n",
    "\n",
    "  if( atributos_presentes( c(\"vm_madelantopesos\", \"vm_mlimitecompra\") ))\n",
    "    dataset[, vmr_madelantopesos := vm_madelantopesos / vm_mlimitecompra]\n",
    "\n",
    "  if( atributos_presentes( c(\"vm_madelantodolares\", \"vm_mlimitecompra\") ))\n",
    "    dataset[, vmr_madelantodolares := vm_madelantodolares / vm_mlimitecompra]\n",
    "\n",
    "  if( atributos_presentes( c(\"vm_mpagado\", \"vm_mlimitecompra\") ))\n",
    "    dataset[, vmr_mpagado := vm_mpagado / vm_mlimitecompra]\n",
    "\n",
    "  if( atributos_presentes( c(\"vm_mpagospesos\", \"vm_mlimitecompra\") ))\n",
    "    dataset[, vmr_mpagospesos := vm_mpagospesos / vm_mlimitecompra]\n",
    "\n",
    "  if( atributos_presentes( c(\"vm_mpagosdolares\", \"vm_mlimitecompra\") ))\n",
    "    dataset[, vmr_mpagosdolares := vm_mpagosdolares / vm_mlimitecompra]\n",
    "\n",
    "  if( atributos_presentes( c(\"vm_mconsumototal\", \"vm_mlimitecompra\") ))\n",
    "    dataset[, vmr_mconsumototal := vm_mconsumototal / vm_mlimitecompra]\n",
    "\n",
    "  if( atributos_presentes( c(\"vm_mpagominimo\", \"vm_mlimitecompra\") ))\n",
    "    dataset[, vmr_mpagominimo := vm_mpagominimo / vm_mlimitecompra]\n",
    "\n",
    "  # Aqui debe usted agregar sus propias nuevas variables\n",
    "\n",
    "  # valvula de seguridad para evitar valores infinitos\n",
    "  # paso los infinitos a NULOS\n",
    "  infinitos <- lapply(\n",
    "    names(dataset),\n",
    "    function(.name) dataset[, sum(is.infinite(get(.name)))]\n",
    "  )\n",
    "\n",
    "  infinitos_qty <- sum(unlist(infinitos))\n",
    "  if (infinitos_qty > 0) {\n",
    "    cat(\n",
    "      \"ATENCION, hay\", infinitos_qty,\n",
    "      \"valores infinitos en tu dataset. Seran pasados a NA\\n\"\n",
    "    )\n",
    "        add_log(paste0(\n",
    "      \"ATENCION, hay \", infinitos_qty,\n",
    "      \"valores infinitos en tu dataset. Seran pasados a NA\\n\")\n",
    "    )\n",
    "\n",
    "    dataset[mapply(is.infinite, dataset)] <<- NA\n",
    "  }\n",
    "\n",
    "\n",
    "  # valvula de seguridad para evitar valores NaN  que es 0/0\n",
    "  # paso los NaN a 0 , decision polemica si las hay\n",
    "  # se invita a asignar un valor razonable segun la semantica del campo creado\n",
    "  nans <- lapply(\n",
    "    names(dataset),\n",
    "    function(.name) dataset[, sum(is.nan(get(.name)))]\n",
    "  )\n",
    "\n",
    "  nans_qty <- sum(unlist(nans))\n",
    "  if (nans_qty > 0) {\n",
    "    cat(\n",
    "      \"ATENCION, hay\", nans_qty,\n",
    "      \"valores NaN 0/0 en tu dataset. Seran pasados arbitrariamente a 0\\n\"\n",
    "    )\n",
    "\n",
    "    add_log(\n",
    "      paste0(\"ATENCION, hay\", nans_qty,\n",
    "      \"valores NaN 0/0 en tu dataset. Seran pasados arbitrariamente a 0\\n\"\n",
    "    ))\n",
    "\n",
    "    cat(\"Si no te gusta la decision, modifica a gusto el programa!\\n\\n\")\n",
    "    add_log(\"Si no te gusta la decision, modifica a gusto el programa!\\n\\n\")\n",
    "\n",
    "\n",
    "    dataset[mapply(is.nan, dataset)] <<- 0\n",
    "  }\n",
    "\n",
    "  cat( \"fin AgregarVariables_IntraMes()\\n\")\n",
    "  add_log( \"fin AgregarVariables_IntraMes()\\n\")\n",
    "}\n"
   ]
  },
  {
   "cell_type": "code",
   "execution_count": 40,
   "id": "cdb58021-2324-4171-9555-12f3563f66f3",
   "metadata": {
    "colab": {
     "base_uri": "https://localhost:8080/"
    },
    "id": "cdb58021-2324-4171-9555-12f3563f66f3",
    "outputId": "0f72eed4-d9f8-4f93-c56a-8428e10a7b63",
    "vscode": {
     "languageId": "r"
    }
   },
   "outputs": [
    {
     "name": "stdout",
     "output_type": "stream",
     "text": [
      "inicio AgregarVariables_IntraMes()\n",
      "ATENCION, hay 8 valores NaN 0/0 en tu dataset. Seran pasados arbitrariamente a 0\n",
      "Si no te gusta la decision, modifica a gusto el programa!\n",
      "\n",
      "fin AgregarVariables_IntraMes()\n"
     ]
    }
   ],
   "source": [
    "# agrego las variables intra mes\n",
    "AgregarVariables_IntraMes(dataset)"
   ]
  },
  {
   "cell_type": "code",
   "execution_count": 41,
   "id": "c1727052-62de-409a-9475-5e0b6a197f3d",
   "metadata": {
    "colab": {
     "base_uri": "https://localhost:8080/",
     "height": 191
    },
    "id": "c1727052-62de-409a-9475-5e0b6a197f3d",
    "outputId": "a7530454-3ecf-483f-d57b-d9ef2651c89d",
    "vscode": {
     "languageId": "r"
    }
   },
   "outputs": [
    {
     "data": {
      "text/html": [
       "45"
      ],
      "text/latex": [
       "45"
      ],
      "text/markdown": [
       "45"
      ],
      "text/plain": [
       "[1] 45"
      ]
     },
     "metadata": {},
     "output_type": "display_data"
    },
    {
     "data": {
      "text/html": [
       "<style>\n",
       ".list-inline {list-style: none; margin:0; padding: 0}\n",
       ".list-inline>li {display: inline-block}\n",
       ".list-inline>li:not(:last-child)::after {content: \"\\00b7\"; padding: 0 .5ex}\n",
       "</style>\n",
       "<ol class=list-inline><li>'numero_de_cliente'</li><li>'foto_mes'</li><li>'internet'</li><li>'cliente_edad'</li><li>'cliente_antiguedad'</li><li>'mrentabilidad'</li><li>'mrentabilidad_annual'</li><li>'mcomisiones'</li><li>'mactivos_margen'</li><li>'mpasivos_margen'</li><li>'cproductos'</li><li>'mcuenta_corriente'</li><li>'mcaja_ahorro'</li><li>'cdescubierto_preacordado'</li><li>'mcuentas_saldo'</li><li>'ctarjeta_visa_transacciones'</li><li>'mtarjeta_visa_consumo'</li><li>'mtarjeta_master_consumo'</li><li>'mprestamos_personales'</li><li>'cpayroll_trx'</li><li>'mpayroll'</li><li>'ccomisiones_mantenimiento'</li><li>'ccallcenter_transacciones'</li><li>'chomebanking_transacciones'</li><li>'ctrx_quarter'</li><li>'Master_status'</li><li>'Master_fechaalta'</li><li>'Master_mpagominimo'</li><li>'Visa_status'</li><li>'Visa_fechaalta'</li><li>'Visa_mpagominimo'</li><li>'clase_ternaria'</li><li>'kmes'</li><li>'mpayroll_sobre_edad'</li><li>'ctrx_quarter_normalizado'</li><li>'foto_mes_formato_fecha'</li><li>'vm_status01'</li><li>'vm_status02'</li><li>'vm_status03'</li><li>'vm_status04'</li><li>'vm_status05'</li><li>'vm_status06'</li><li>'mv_status07'</li><li>'vm_fechaalta'</li><li>'vm_mpagominimo'</li></ol>\n"
      ],
      "text/latex": [
       "\\begin{enumerate*}\n",
       "\\item 'numero\\_de\\_cliente'\n",
       "\\item 'foto\\_mes'\n",
       "\\item 'internet'\n",
       "\\item 'cliente\\_edad'\n",
       "\\item 'cliente\\_antiguedad'\n",
       "\\item 'mrentabilidad'\n",
       "\\item 'mrentabilidad\\_annual'\n",
       "\\item 'mcomisiones'\n",
       "\\item 'mactivos\\_margen'\n",
       "\\item 'mpasivos\\_margen'\n",
       "\\item 'cproductos'\n",
       "\\item 'mcuenta\\_corriente'\n",
       "\\item 'mcaja\\_ahorro'\n",
       "\\item 'cdescubierto\\_preacordado'\n",
       "\\item 'mcuentas\\_saldo'\n",
       "\\item 'ctarjeta\\_visa\\_transacciones'\n",
       "\\item 'mtarjeta\\_visa\\_consumo'\n",
       "\\item 'mtarjeta\\_master\\_consumo'\n",
       "\\item 'mprestamos\\_personales'\n",
       "\\item 'cpayroll\\_trx'\n",
       "\\item 'mpayroll'\n",
       "\\item 'ccomisiones\\_mantenimiento'\n",
       "\\item 'ccallcenter\\_transacciones'\n",
       "\\item 'chomebanking\\_transacciones'\n",
       "\\item 'ctrx\\_quarter'\n",
       "\\item 'Master\\_status'\n",
       "\\item 'Master\\_fechaalta'\n",
       "\\item 'Master\\_mpagominimo'\n",
       "\\item 'Visa\\_status'\n",
       "\\item 'Visa\\_fechaalta'\n",
       "\\item 'Visa\\_mpagominimo'\n",
       "\\item 'clase\\_ternaria'\n",
       "\\item 'kmes'\n",
       "\\item 'mpayroll\\_sobre\\_edad'\n",
       "\\item 'ctrx\\_quarter\\_normalizado'\n",
       "\\item 'foto\\_mes\\_formato\\_fecha'\n",
       "\\item 'vm\\_status01'\n",
       "\\item 'vm\\_status02'\n",
       "\\item 'vm\\_status03'\n",
       "\\item 'vm\\_status04'\n",
       "\\item 'vm\\_status05'\n",
       "\\item 'vm\\_status06'\n",
       "\\item 'mv\\_status07'\n",
       "\\item 'vm\\_fechaalta'\n",
       "\\item 'vm\\_mpagominimo'\n",
       "\\end{enumerate*}\n"
      ],
      "text/markdown": [
       "1. 'numero_de_cliente'\n",
       "2. 'foto_mes'\n",
       "3. 'internet'\n",
       "4. 'cliente_edad'\n",
       "5. 'cliente_antiguedad'\n",
       "6. 'mrentabilidad'\n",
       "7. 'mrentabilidad_annual'\n",
       "8. 'mcomisiones'\n",
       "9. 'mactivos_margen'\n",
       "10. 'mpasivos_margen'\n",
       "11. 'cproductos'\n",
       "12. 'mcuenta_corriente'\n",
       "13. 'mcaja_ahorro'\n",
       "14. 'cdescubierto_preacordado'\n",
       "15. 'mcuentas_saldo'\n",
       "16. 'ctarjeta_visa_transacciones'\n",
       "17. 'mtarjeta_visa_consumo'\n",
       "18. 'mtarjeta_master_consumo'\n",
       "19. 'mprestamos_personales'\n",
       "20. 'cpayroll_trx'\n",
       "21. 'mpayroll'\n",
       "22. 'ccomisiones_mantenimiento'\n",
       "23. 'ccallcenter_transacciones'\n",
       "24. 'chomebanking_transacciones'\n",
       "25. 'ctrx_quarter'\n",
       "26. 'Master_status'\n",
       "27. 'Master_fechaalta'\n",
       "28. 'Master_mpagominimo'\n",
       "29. 'Visa_status'\n",
       "30. 'Visa_fechaalta'\n",
       "31. 'Visa_mpagominimo'\n",
       "32. 'clase_ternaria'\n",
       "33. 'kmes'\n",
       "34. 'mpayroll_sobre_edad'\n",
       "35. 'ctrx_quarter_normalizado'\n",
       "36. 'foto_mes_formato_fecha'\n",
       "37. 'vm_status01'\n",
       "38. 'vm_status02'\n",
       "39. 'vm_status03'\n",
       "40. 'vm_status04'\n",
       "41. 'vm_status05'\n",
       "42. 'vm_status06'\n",
       "43. 'mv_status07'\n",
       "44. 'vm_fechaalta'\n",
       "45. 'vm_mpagominimo'\n",
       "\n",
       "\n"
      ],
      "text/plain": [
       " [1] \"numero_de_cliente\"           \"foto_mes\"                   \n",
       " [3] \"internet\"                    \"cliente_edad\"               \n",
       " [5] \"cliente_antiguedad\"          \"mrentabilidad\"              \n",
       " [7] \"mrentabilidad_annual\"        \"mcomisiones\"                \n",
       " [9] \"mactivos_margen\"             \"mpasivos_margen\"            \n",
       "[11] \"cproductos\"                  \"mcuenta_corriente\"          \n",
       "[13] \"mcaja_ahorro\"                \"cdescubierto_preacordado\"   \n",
       "[15] \"mcuentas_saldo\"              \"ctarjeta_visa_transacciones\"\n",
       "[17] \"mtarjeta_visa_consumo\"       \"mtarjeta_master_consumo\"    \n",
       "[19] \"mprestamos_personales\"       \"cpayroll_trx\"               \n",
       "[21] \"mpayroll\"                    \"ccomisiones_mantenimiento\"  \n",
       "[23] \"ccallcenter_transacciones\"   \"chomebanking_transacciones\" \n",
       "[25] \"ctrx_quarter\"                \"Master_status\"              \n",
       "[27] \"Master_fechaalta\"            \"Master_mpagominimo\"         \n",
       "[29] \"Visa_status\"                 \"Visa_fechaalta\"             \n",
       "[31] \"Visa_mpagominimo\"            \"clase_ternaria\"             \n",
       "[33] \"kmes\"                        \"mpayroll_sobre_edad\"        \n",
       "[35] \"ctrx_quarter_normalizado\"    \"foto_mes_formato_fecha\"     \n",
       "[37] \"vm_status01\"                 \"vm_status02\"                \n",
       "[39] \"vm_status03\"                 \"vm_status04\"                \n",
       "[41] \"vm_status05\"                 \"vm_status06\"                \n",
       "[43] \"mv_status07\"                 \"vm_fechaalta\"               \n",
       "[45] \"vm_mpagominimo\"             "
      ]
     },
     "metadata": {},
     "output_type": "display_data"
    }
   ],
   "source": [
    "# visualizo las columas del dataset a esta etapa\n",
    "ncol(dataset)\n",
    "colnames(dataset)\n",
    "\n",
    "add_log(ncol(dataset))"
   ]
  },
  {
   "cell_type": "markdown",
   "id": "XaRBjQj8ZRUZ",
   "metadata": {
    "id": "XaRBjQj8ZRUZ"
   },
   "source": [
    "#### 6.3.1.5  FEhist Feature Engineering historico\n",
    "\n",
    "El Fature Engineering Histórico es la etapa que más aporta a la ganancia final, ya que enriquece cada registro del dataset con su historia."
   ]
  },
  {
   "cell_type": "markdown",
   "id": "cfe3b8cf-0707-4512-92e7-c1407bb3f73b",
   "metadata": {
    "id": "cfe3b8cf-0707-4512-92e7-c1407bb3f73b"
   },
   "source": [
    "Para cada campo del dataset original (*)\n",
    "se crean lo siguientes campos de a partir de la historia\n",
    "* lag1  lags de orden 1\n",
    "* delta1  =  valor actual - lag1\n",
    "* lag2  lags de orden 2\n",
    "* delta2  = valor actual - lag2\n",
    "\n",
    "\n",
    "(*) Excepto para los campos  <numero_de_cliente,  foto_mes,  clase_ternaria>"
   ]
  },
  {
   "cell_type": "code",
   "execution_count": 42,
   "id": "7850b948-827d-4a2a-b4d3-a5e459b47c11",
   "metadata": {
    "id": "7850b948-827d-4a2a-b4d3-a5e459b47c11"
   },
   "outputs": [],
   "source": [
    "# Feature Engineering Historico\n",
    "\n",
    "# todo es lagueable, menos la primary key y la clase\n",
    "cols_lagueables <- copy( setdiff(\n",
    "    colnames(dataset),\n",
    "    c(\"numero_de_cliente\", \"foto_mes\", \"clase_ternaria\")\n",
    ") )\n",
    "\n",
    "# https://rdrr.io/cran/data.table/man/shift.html\n",
    "\n",
    "# lags de orden 1\n",
    "dataset[,\n",
    "    paste0(cols_lagueables, \"_lag1\") := shift(.SD, 1, NA, \"lag\"),\n",
    "    by = numero_de_cliente,\n",
    "    .SDcols = cols_lagueables\n",
    "]\n",
    "\n",
    "# lags de orden 2\n",
    "dataset[,\n",
    "    paste0(cols_lagueables, \"_lag2\") := shift(.SD, 2, NA, \"lag\"),\n",
    "    by = numero_de_cliente,\n",
    "    .SDcols = cols_lagueables\n",
    "]\n",
    "\n",
    "# agrego los delta lags\n",
    "for (vcol in cols_lagueables)\n",
    "{\n",
    "    dataset[, paste0(vcol, \"_delta1\") := get(vcol) - get(paste0(vcol, \"_lag1\"))]\n",
    "    dataset[, paste0(vcol, \"_delta2\") := get(vcol) - get(paste0(vcol, \"_lag2\"))]\n",
    "}\n"
   ]
  },
  {
   "cell_type": "markdown",
   "id": "cea690d9-ece9-4852-a5e2-f337c31b6721",
   "metadata": {
    "id": "cea690d9-ece9-4852-a5e2-f337c31b6721"
   },
   "source": [
    "Verificacion de los campos recien creados"
   ]
  },
  {
   "cell_type": "code",
   "execution_count": 43,
   "id": "f772896b-595a-47d4-8905-c15304ac9452",
   "metadata": {
    "colab": {
     "base_uri": "https://localhost:8080/",
     "height": 920
    },
    "id": "f772896b-595a-47d4-8905-c15304ac9452",
    "outputId": "a428e15c-4059-4f40-8bd9-0873e1a431a4"
   },
   "outputs": [
    {
     "data": {
      "text/html": [
       "213"
      ],
      "text/latex": [
       "213"
      ],
      "text/markdown": [
       "213"
      ],
      "text/plain": [
       "[1] 213"
      ]
     },
     "metadata": {},
     "output_type": "display_data"
    },
    {
     "data": {
      "text/html": [
       "<style>\n",
       ".list-inline {list-style: none; margin:0; padding: 0}\n",
       ".list-inline>li {display: inline-block}\n",
       ".list-inline>li:not(:last-child)::after {content: \"\\00b7\"; padding: 0 .5ex}\n",
       "</style>\n",
       "<ol class=list-inline><li>'numero_de_cliente'</li><li>'foto_mes'</li><li>'internet'</li><li>'cliente_edad'</li><li>'cliente_antiguedad'</li><li>'mrentabilidad'</li><li>'mrentabilidad_annual'</li><li>'mcomisiones'</li><li>'mactivos_margen'</li><li>'mpasivos_margen'</li><li>'cproductos'</li><li>'mcuenta_corriente'</li><li>'mcaja_ahorro'</li><li>'cdescubierto_preacordado'</li><li>'mcuentas_saldo'</li><li>'ctarjeta_visa_transacciones'</li><li>'mtarjeta_visa_consumo'</li><li>'mtarjeta_master_consumo'</li><li>'mprestamos_personales'</li><li>'cpayroll_trx'</li><li>'mpayroll'</li><li>'ccomisiones_mantenimiento'</li><li>'ccallcenter_transacciones'</li><li>'chomebanking_transacciones'</li><li>'ctrx_quarter'</li><li>'Master_status'</li><li>'Master_fechaalta'</li><li>'Master_mpagominimo'</li><li>'Visa_status'</li><li>'Visa_fechaalta'</li><li>'Visa_mpagominimo'</li><li>'clase_ternaria'</li><li>'kmes'</li><li>'mpayroll_sobre_edad'</li><li>'ctrx_quarter_normalizado'</li><li>'foto_mes_formato_fecha'</li><li>'vm_status01'</li><li>'vm_status02'</li><li>'vm_status03'</li><li>'vm_status04'</li><li>'vm_status05'</li><li>'vm_status06'</li><li>'mv_status07'</li><li>'vm_fechaalta'</li><li>'vm_mpagominimo'</li><li>'internet_lag1'</li><li>'cliente_edad_lag1'</li><li>'cliente_antiguedad_lag1'</li><li>'mrentabilidad_lag1'</li><li>'mrentabilidad_annual_lag1'</li><li>'mcomisiones_lag1'</li><li>'mactivos_margen_lag1'</li><li>'mpasivos_margen_lag1'</li><li>'cproductos_lag1'</li><li>'mcuenta_corriente_lag1'</li><li>'mcaja_ahorro_lag1'</li><li>'cdescubierto_preacordado_lag1'</li><li>'mcuentas_saldo_lag1'</li><li>'ctarjeta_visa_transacciones_lag1'</li><li>'mtarjeta_visa_consumo_lag1'</li><li>'mtarjeta_master_consumo_lag1'</li><li>'mprestamos_personales_lag1'</li><li>'cpayroll_trx_lag1'</li><li>'mpayroll_lag1'</li><li>'ccomisiones_mantenimiento_lag1'</li><li>'ccallcenter_transacciones_lag1'</li><li>'chomebanking_transacciones_lag1'</li><li>'ctrx_quarter_lag1'</li><li>'Master_status_lag1'</li><li>'Master_fechaalta_lag1'</li><li>'Master_mpagominimo_lag1'</li><li>'Visa_status_lag1'</li><li>'Visa_fechaalta_lag1'</li><li>'Visa_mpagominimo_lag1'</li><li>'kmes_lag1'</li><li>'mpayroll_sobre_edad_lag1'</li><li>'ctrx_quarter_normalizado_lag1'</li><li>'foto_mes_formato_fecha_lag1'</li><li>'vm_status01_lag1'</li><li>'vm_status02_lag1'</li><li>'vm_status03_lag1'</li><li>'vm_status04_lag1'</li><li>'vm_status05_lag1'</li><li>'vm_status06_lag1'</li><li>'mv_status07_lag1'</li><li>'vm_fechaalta_lag1'</li><li>'vm_mpagominimo_lag1'</li><li>'internet_lag2'</li><li>'cliente_edad_lag2'</li><li>'cliente_antiguedad_lag2'</li><li>'mrentabilidad_lag2'</li><li>'mrentabilidad_annual_lag2'</li><li>'mcomisiones_lag2'</li><li>'mactivos_margen_lag2'</li><li>'mpasivos_margen_lag2'</li><li>'cproductos_lag2'</li><li>'mcuenta_corriente_lag2'</li><li>'mcaja_ahorro_lag2'</li><li>'cdescubierto_preacordado_lag2'</li><li>'mcuentas_saldo_lag2'</li><li>'ctarjeta_visa_transacciones_lag2'</li><li>'mtarjeta_visa_consumo_lag2'</li><li>'mtarjeta_master_consumo_lag2'</li><li>'mprestamos_personales_lag2'</li><li>'cpayroll_trx_lag2'</li><li>'mpayroll_lag2'</li><li>'ccomisiones_mantenimiento_lag2'</li><li>'ccallcenter_transacciones_lag2'</li><li>'chomebanking_transacciones_lag2'</li><li>'ctrx_quarter_lag2'</li><li>'Master_status_lag2'</li><li>'Master_fechaalta_lag2'</li><li>'Master_mpagominimo_lag2'</li><li>'Visa_status_lag2'</li><li>'Visa_fechaalta_lag2'</li><li>'Visa_mpagominimo_lag2'</li><li>'kmes_lag2'</li><li>'mpayroll_sobre_edad_lag2'</li><li>'ctrx_quarter_normalizado_lag2'</li><li>'foto_mes_formato_fecha_lag2'</li><li>'vm_status01_lag2'</li><li>'vm_status02_lag2'</li><li>'vm_status03_lag2'</li><li>'vm_status04_lag2'</li><li>'vm_status05_lag2'</li><li>'vm_status06_lag2'</li><li>'mv_status07_lag2'</li><li>'vm_fechaalta_lag2'</li><li>'vm_mpagominimo_lag2'</li><li>'internet_delta1'</li><li>'internet_delta2'</li><li>'cliente_edad_delta1'</li><li>'cliente_edad_delta2'</li><li>'cliente_antiguedad_delta1'</li><li>'cliente_antiguedad_delta2'</li><li>'mrentabilidad_delta1'</li><li>'mrentabilidad_delta2'</li><li>'mrentabilidad_annual_delta1'</li><li>'mrentabilidad_annual_delta2'</li><li>'mcomisiones_delta1'</li><li>'mcomisiones_delta2'</li><li>'mactivos_margen_delta1'</li><li>'mactivos_margen_delta2'</li><li>'mpasivos_margen_delta1'</li><li>'mpasivos_margen_delta2'</li><li>'cproductos_delta1'</li><li>'cproductos_delta2'</li><li>'mcuenta_corriente_delta1'</li><li>'mcuenta_corriente_delta2'</li><li>'mcaja_ahorro_delta1'</li><li>'mcaja_ahorro_delta2'</li><li>'cdescubierto_preacordado_delta1'</li><li>'cdescubierto_preacordado_delta2'</li><li>'mcuentas_saldo_delta1'</li><li>'mcuentas_saldo_delta2'</li><li>'ctarjeta_visa_transacciones_delta1'</li><li>'ctarjeta_visa_transacciones_delta2'</li><li>'mtarjeta_visa_consumo_delta1'</li><li>'mtarjeta_visa_consumo_delta2'</li><li>'mtarjeta_master_consumo_delta1'</li><li>'mtarjeta_master_consumo_delta2'</li><li>'mprestamos_personales_delta1'</li><li>'mprestamos_personales_delta2'</li><li>'cpayroll_trx_delta1'</li><li>'cpayroll_trx_delta2'</li><li>'mpayroll_delta1'</li><li>'mpayroll_delta2'</li><li>'ccomisiones_mantenimiento_delta1'</li><li>'ccomisiones_mantenimiento_delta2'</li><li>'ccallcenter_transacciones_delta1'</li><li>'ccallcenter_transacciones_delta2'</li><li>'chomebanking_transacciones_delta1'</li><li>'chomebanking_transacciones_delta2'</li><li>'ctrx_quarter_delta1'</li><li>'ctrx_quarter_delta2'</li><li>'Master_status_delta1'</li><li>'Master_status_delta2'</li><li>'Master_fechaalta_delta1'</li><li>'Master_fechaalta_delta2'</li><li>'Master_mpagominimo_delta1'</li><li>'Master_mpagominimo_delta2'</li><li>'Visa_status_delta1'</li><li>'Visa_status_delta2'</li><li>'Visa_fechaalta_delta1'</li><li>'Visa_fechaalta_delta2'</li><li>'Visa_mpagominimo_delta1'</li><li>'Visa_mpagominimo_delta2'</li><li>'kmes_delta1'</li><li>'kmes_delta2'</li><li>'mpayroll_sobre_edad_delta1'</li><li>'mpayroll_sobre_edad_delta2'</li><li>'ctrx_quarter_normalizado_delta1'</li><li>'ctrx_quarter_normalizado_delta2'</li><li>'foto_mes_formato_fecha_delta1'</li><li>'foto_mes_formato_fecha_delta2'</li><li>'vm_status01_delta1'</li><li>'vm_status01_delta2'</li><li>'vm_status02_delta1'</li><li>'vm_status02_delta2'</li><li>'vm_status03_delta1'</li><li>'vm_status03_delta2'</li><li>'vm_status04_delta1'</li><li>'vm_status04_delta2'</li><li>'vm_status05_delta1'</li><li>'vm_status05_delta2'</li><li>'vm_status06_delta1'</li><li>'vm_status06_delta2'</li><li>'mv_status07_delta1'</li><li>'mv_status07_delta2'</li><li>'vm_fechaalta_delta1'</li><li>'vm_fechaalta_delta2'</li><li>'vm_mpagominimo_delta1'</li><li>'vm_mpagominimo_delta2'</li></ol>\n"
      ],
      "text/latex": [
       "\\begin{enumerate*}\n",
       "\\item 'numero\\_de\\_cliente'\n",
       "\\item 'foto\\_mes'\n",
       "\\item 'internet'\n",
       "\\item 'cliente\\_edad'\n",
       "\\item 'cliente\\_antiguedad'\n",
       "\\item 'mrentabilidad'\n",
       "\\item 'mrentabilidad\\_annual'\n",
       "\\item 'mcomisiones'\n",
       "\\item 'mactivos\\_margen'\n",
       "\\item 'mpasivos\\_margen'\n",
       "\\item 'cproductos'\n",
       "\\item 'mcuenta\\_corriente'\n",
       "\\item 'mcaja\\_ahorro'\n",
       "\\item 'cdescubierto\\_preacordado'\n",
       "\\item 'mcuentas\\_saldo'\n",
       "\\item 'ctarjeta\\_visa\\_transacciones'\n",
       "\\item 'mtarjeta\\_visa\\_consumo'\n",
       "\\item 'mtarjeta\\_master\\_consumo'\n",
       "\\item 'mprestamos\\_personales'\n",
       "\\item 'cpayroll\\_trx'\n",
       "\\item 'mpayroll'\n",
       "\\item 'ccomisiones\\_mantenimiento'\n",
       "\\item 'ccallcenter\\_transacciones'\n",
       "\\item 'chomebanking\\_transacciones'\n",
       "\\item 'ctrx\\_quarter'\n",
       "\\item 'Master\\_status'\n",
       "\\item 'Master\\_fechaalta'\n",
       "\\item 'Master\\_mpagominimo'\n",
       "\\item 'Visa\\_status'\n",
       "\\item 'Visa\\_fechaalta'\n",
       "\\item 'Visa\\_mpagominimo'\n",
       "\\item 'clase\\_ternaria'\n",
       "\\item 'kmes'\n",
       "\\item 'mpayroll\\_sobre\\_edad'\n",
       "\\item 'ctrx\\_quarter\\_normalizado'\n",
       "\\item 'foto\\_mes\\_formato\\_fecha'\n",
       "\\item 'vm\\_status01'\n",
       "\\item 'vm\\_status02'\n",
       "\\item 'vm\\_status03'\n",
       "\\item 'vm\\_status04'\n",
       "\\item 'vm\\_status05'\n",
       "\\item 'vm\\_status06'\n",
       "\\item 'mv\\_status07'\n",
       "\\item 'vm\\_fechaalta'\n",
       "\\item 'vm\\_mpagominimo'\n",
       "\\item 'internet\\_lag1'\n",
       "\\item 'cliente\\_edad\\_lag1'\n",
       "\\item 'cliente\\_antiguedad\\_lag1'\n",
       "\\item 'mrentabilidad\\_lag1'\n",
       "\\item 'mrentabilidad\\_annual\\_lag1'\n",
       "\\item 'mcomisiones\\_lag1'\n",
       "\\item 'mactivos\\_margen\\_lag1'\n",
       "\\item 'mpasivos\\_margen\\_lag1'\n",
       "\\item 'cproductos\\_lag1'\n",
       "\\item 'mcuenta\\_corriente\\_lag1'\n",
       "\\item 'mcaja\\_ahorro\\_lag1'\n",
       "\\item 'cdescubierto\\_preacordado\\_lag1'\n",
       "\\item 'mcuentas\\_saldo\\_lag1'\n",
       "\\item 'ctarjeta\\_visa\\_transacciones\\_lag1'\n",
       "\\item 'mtarjeta\\_visa\\_consumo\\_lag1'\n",
       "\\item 'mtarjeta\\_master\\_consumo\\_lag1'\n",
       "\\item 'mprestamos\\_personales\\_lag1'\n",
       "\\item 'cpayroll\\_trx\\_lag1'\n",
       "\\item 'mpayroll\\_lag1'\n",
       "\\item 'ccomisiones\\_mantenimiento\\_lag1'\n",
       "\\item 'ccallcenter\\_transacciones\\_lag1'\n",
       "\\item 'chomebanking\\_transacciones\\_lag1'\n",
       "\\item 'ctrx\\_quarter\\_lag1'\n",
       "\\item 'Master\\_status\\_lag1'\n",
       "\\item 'Master\\_fechaalta\\_lag1'\n",
       "\\item 'Master\\_mpagominimo\\_lag1'\n",
       "\\item 'Visa\\_status\\_lag1'\n",
       "\\item 'Visa\\_fechaalta\\_lag1'\n",
       "\\item 'Visa\\_mpagominimo\\_lag1'\n",
       "\\item 'kmes\\_lag1'\n",
       "\\item 'mpayroll\\_sobre\\_edad\\_lag1'\n",
       "\\item 'ctrx\\_quarter\\_normalizado\\_lag1'\n",
       "\\item 'foto\\_mes\\_formato\\_fecha\\_lag1'\n",
       "\\item 'vm\\_status01\\_lag1'\n",
       "\\item 'vm\\_status02\\_lag1'\n",
       "\\item 'vm\\_status03\\_lag1'\n",
       "\\item 'vm\\_status04\\_lag1'\n",
       "\\item 'vm\\_status05\\_lag1'\n",
       "\\item 'vm\\_status06\\_lag1'\n",
       "\\item 'mv\\_status07\\_lag1'\n",
       "\\item 'vm\\_fechaalta\\_lag1'\n",
       "\\item 'vm\\_mpagominimo\\_lag1'\n",
       "\\item 'internet\\_lag2'\n",
       "\\item 'cliente\\_edad\\_lag2'\n",
       "\\item 'cliente\\_antiguedad\\_lag2'\n",
       "\\item 'mrentabilidad\\_lag2'\n",
       "\\item 'mrentabilidad\\_annual\\_lag2'\n",
       "\\item 'mcomisiones\\_lag2'\n",
       "\\item 'mactivos\\_margen\\_lag2'\n",
       "\\item 'mpasivos\\_margen\\_lag2'\n",
       "\\item 'cproductos\\_lag2'\n",
       "\\item 'mcuenta\\_corriente\\_lag2'\n",
       "\\item 'mcaja\\_ahorro\\_lag2'\n",
       "\\item 'cdescubierto\\_preacordado\\_lag2'\n",
       "\\item 'mcuentas\\_saldo\\_lag2'\n",
       "\\item 'ctarjeta\\_visa\\_transacciones\\_lag2'\n",
       "\\item 'mtarjeta\\_visa\\_consumo\\_lag2'\n",
       "\\item 'mtarjeta\\_master\\_consumo\\_lag2'\n",
       "\\item 'mprestamos\\_personales\\_lag2'\n",
       "\\item 'cpayroll\\_trx\\_lag2'\n",
       "\\item 'mpayroll\\_lag2'\n",
       "\\item 'ccomisiones\\_mantenimiento\\_lag2'\n",
       "\\item 'ccallcenter\\_transacciones\\_lag2'\n",
       "\\item 'chomebanking\\_transacciones\\_lag2'\n",
       "\\item 'ctrx\\_quarter\\_lag2'\n",
       "\\item 'Master\\_status\\_lag2'\n",
       "\\item 'Master\\_fechaalta\\_lag2'\n",
       "\\item 'Master\\_mpagominimo\\_lag2'\n",
       "\\item 'Visa\\_status\\_lag2'\n",
       "\\item 'Visa\\_fechaalta\\_lag2'\n",
       "\\item 'Visa\\_mpagominimo\\_lag2'\n",
       "\\item 'kmes\\_lag2'\n",
       "\\item 'mpayroll\\_sobre\\_edad\\_lag2'\n",
       "\\item 'ctrx\\_quarter\\_normalizado\\_lag2'\n",
       "\\item 'foto\\_mes\\_formato\\_fecha\\_lag2'\n",
       "\\item 'vm\\_status01\\_lag2'\n",
       "\\item 'vm\\_status02\\_lag2'\n",
       "\\item 'vm\\_status03\\_lag2'\n",
       "\\item 'vm\\_status04\\_lag2'\n",
       "\\item 'vm\\_status05\\_lag2'\n",
       "\\item 'vm\\_status06\\_lag2'\n",
       "\\item 'mv\\_status07\\_lag2'\n",
       "\\item 'vm\\_fechaalta\\_lag2'\n",
       "\\item 'vm\\_mpagominimo\\_lag2'\n",
       "\\item 'internet\\_delta1'\n",
       "\\item 'internet\\_delta2'\n",
       "\\item 'cliente\\_edad\\_delta1'\n",
       "\\item 'cliente\\_edad\\_delta2'\n",
       "\\item 'cliente\\_antiguedad\\_delta1'\n",
       "\\item 'cliente\\_antiguedad\\_delta2'\n",
       "\\item 'mrentabilidad\\_delta1'\n",
       "\\item 'mrentabilidad\\_delta2'\n",
       "\\item 'mrentabilidad\\_annual\\_delta1'\n",
       "\\item 'mrentabilidad\\_annual\\_delta2'\n",
       "\\item 'mcomisiones\\_delta1'\n",
       "\\item 'mcomisiones\\_delta2'\n",
       "\\item 'mactivos\\_margen\\_delta1'\n",
       "\\item 'mactivos\\_margen\\_delta2'\n",
       "\\item 'mpasivos\\_margen\\_delta1'\n",
       "\\item 'mpasivos\\_margen\\_delta2'\n",
       "\\item 'cproductos\\_delta1'\n",
       "\\item 'cproductos\\_delta2'\n",
       "\\item 'mcuenta\\_corriente\\_delta1'\n",
       "\\item 'mcuenta\\_corriente\\_delta2'\n",
       "\\item 'mcaja\\_ahorro\\_delta1'\n",
       "\\item 'mcaja\\_ahorro\\_delta2'\n",
       "\\item 'cdescubierto\\_preacordado\\_delta1'\n",
       "\\item 'cdescubierto\\_preacordado\\_delta2'\n",
       "\\item 'mcuentas\\_saldo\\_delta1'\n",
       "\\item 'mcuentas\\_saldo\\_delta2'\n",
       "\\item 'ctarjeta\\_visa\\_transacciones\\_delta1'\n",
       "\\item 'ctarjeta\\_visa\\_transacciones\\_delta2'\n",
       "\\item 'mtarjeta\\_visa\\_consumo\\_delta1'\n",
       "\\item 'mtarjeta\\_visa\\_consumo\\_delta2'\n",
       "\\item 'mtarjeta\\_master\\_consumo\\_delta1'\n",
       "\\item 'mtarjeta\\_master\\_consumo\\_delta2'\n",
       "\\item 'mprestamos\\_personales\\_delta1'\n",
       "\\item 'mprestamos\\_personales\\_delta2'\n",
       "\\item 'cpayroll\\_trx\\_delta1'\n",
       "\\item 'cpayroll\\_trx\\_delta2'\n",
       "\\item 'mpayroll\\_delta1'\n",
       "\\item 'mpayroll\\_delta2'\n",
       "\\item 'ccomisiones\\_mantenimiento\\_delta1'\n",
       "\\item 'ccomisiones\\_mantenimiento\\_delta2'\n",
       "\\item 'ccallcenter\\_transacciones\\_delta1'\n",
       "\\item 'ccallcenter\\_transacciones\\_delta2'\n",
       "\\item 'chomebanking\\_transacciones\\_delta1'\n",
       "\\item 'chomebanking\\_transacciones\\_delta2'\n",
       "\\item 'ctrx\\_quarter\\_delta1'\n",
       "\\item 'ctrx\\_quarter\\_delta2'\n",
       "\\item 'Master\\_status\\_delta1'\n",
       "\\item 'Master\\_status\\_delta2'\n",
       "\\item 'Master\\_fechaalta\\_delta1'\n",
       "\\item 'Master\\_fechaalta\\_delta2'\n",
       "\\item 'Master\\_mpagominimo\\_delta1'\n",
       "\\item 'Master\\_mpagominimo\\_delta2'\n",
       "\\item 'Visa\\_status\\_delta1'\n",
       "\\item 'Visa\\_status\\_delta2'\n",
       "\\item 'Visa\\_fechaalta\\_delta1'\n",
       "\\item 'Visa\\_fechaalta\\_delta2'\n",
       "\\item 'Visa\\_mpagominimo\\_delta1'\n",
       "\\item 'Visa\\_mpagominimo\\_delta2'\n",
       "\\item 'kmes\\_delta1'\n",
       "\\item 'kmes\\_delta2'\n",
       "\\item 'mpayroll\\_sobre\\_edad\\_delta1'\n",
       "\\item 'mpayroll\\_sobre\\_edad\\_delta2'\n",
       "\\item 'ctrx\\_quarter\\_normalizado\\_delta1'\n",
       "\\item 'ctrx\\_quarter\\_normalizado\\_delta2'\n",
       "\\item 'foto\\_mes\\_formato\\_fecha\\_delta1'\n",
       "\\item 'foto\\_mes\\_formato\\_fecha\\_delta2'\n",
       "\\item 'vm\\_status01\\_delta1'\n",
       "\\item 'vm\\_status01\\_delta2'\n",
       "\\item 'vm\\_status02\\_delta1'\n",
       "\\item 'vm\\_status02\\_delta2'\n",
       "\\item 'vm\\_status03\\_delta1'\n",
       "\\item 'vm\\_status03\\_delta2'\n",
       "\\item 'vm\\_status04\\_delta1'\n",
       "\\item 'vm\\_status04\\_delta2'\n",
       "\\item 'vm\\_status05\\_delta1'\n",
       "\\item 'vm\\_status05\\_delta2'\n",
       "\\item 'vm\\_status06\\_delta1'\n",
       "\\item 'vm\\_status06\\_delta2'\n",
       "\\item 'mv\\_status07\\_delta1'\n",
       "\\item 'mv\\_status07\\_delta2'\n",
       "\\item 'vm\\_fechaalta\\_delta1'\n",
       "\\item 'vm\\_fechaalta\\_delta2'\n",
       "\\item 'vm\\_mpagominimo\\_delta1'\n",
       "\\item 'vm\\_mpagominimo\\_delta2'\n",
       "\\end{enumerate*}\n"
      ],
      "text/markdown": [
       "1. 'numero_de_cliente'\n",
       "2. 'foto_mes'\n",
       "3. 'internet'\n",
       "4. 'cliente_edad'\n",
       "5. 'cliente_antiguedad'\n",
       "6. 'mrentabilidad'\n",
       "7. 'mrentabilidad_annual'\n",
       "8. 'mcomisiones'\n",
       "9. 'mactivos_margen'\n",
       "10. 'mpasivos_margen'\n",
       "11. 'cproductos'\n",
       "12. 'mcuenta_corriente'\n",
       "13. 'mcaja_ahorro'\n",
       "14. 'cdescubierto_preacordado'\n",
       "15. 'mcuentas_saldo'\n",
       "16. 'ctarjeta_visa_transacciones'\n",
       "17. 'mtarjeta_visa_consumo'\n",
       "18. 'mtarjeta_master_consumo'\n",
       "19. 'mprestamos_personales'\n",
       "20. 'cpayroll_trx'\n",
       "21. 'mpayroll'\n",
       "22. 'ccomisiones_mantenimiento'\n",
       "23. 'ccallcenter_transacciones'\n",
       "24. 'chomebanking_transacciones'\n",
       "25. 'ctrx_quarter'\n",
       "26. 'Master_status'\n",
       "27. 'Master_fechaalta'\n",
       "28. 'Master_mpagominimo'\n",
       "29. 'Visa_status'\n",
       "30. 'Visa_fechaalta'\n",
       "31. 'Visa_mpagominimo'\n",
       "32. 'clase_ternaria'\n",
       "33. 'kmes'\n",
       "34. 'mpayroll_sobre_edad'\n",
       "35. 'ctrx_quarter_normalizado'\n",
       "36. 'foto_mes_formato_fecha'\n",
       "37. 'vm_status01'\n",
       "38. 'vm_status02'\n",
       "39. 'vm_status03'\n",
       "40. 'vm_status04'\n",
       "41. 'vm_status05'\n",
       "42. 'vm_status06'\n",
       "43. 'mv_status07'\n",
       "44. 'vm_fechaalta'\n",
       "45. 'vm_mpagominimo'\n",
       "46. 'internet_lag1'\n",
       "47. 'cliente_edad_lag1'\n",
       "48. 'cliente_antiguedad_lag1'\n",
       "49. 'mrentabilidad_lag1'\n",
       "50. 'mrentabilidad_annual_lag1'\n",
       "51. 'mcomisiones_lag1'\n",
       "52. 'mactivos_margen_lag1'\n",
       "53. 'mpasivos_margen_lag1'\n",
       "54. 'cproductos_lag1'\n",
       "55. 'mcuenta_corriente_lag1'\n",
       "56. 'mcaja_ahorro_lag1'\n",
       "57. 'cdescubierto_preacordado_lag1'\n",
       "58. 'mcuentas_saldo_lag1'\n",
       "59. 'ctarjeta_visa_transacciones_lag1'\n",
       "60. 'mtarjeta_visa_consumo_lag1'\n",
       "61. 'mtarjeta_master_consumo_lag1'\n",
       "62. 'mprestamos_personales_lag1'\n",
       "63. 'cpayroll_trx_lag1'\n",
       "64. 'mpayroll_lag1'\n",
       "65. 'ccomisiones_mantenimiento_lag1'\n",
       "66. 'ccallcenter_transacciones_lag1'\n",
       "67. 'chomebanking_transacciones_lag1'\n",
       "68. 'ctrx_quarter_lag1'\n",
       "69. 'Master_status_lag1'\n",
       "70. 'Master_fechaalta_lag1'\n",
       "71. 'Master_mpagominimo_lag1'\n",
       "72. 'Visa_status_lag1'\n",
       "73. 'Visa_fechaalta_lag1'\n",
       "74. 'Visa_mpagominimo_lag1'\n",
       "75. 'kmes_lag1'\n",
       "76. 'mpayroll_sobre_edad_lag1'\n",
       "77. 'ctrx_quarter_normalizado_lag1'\n",
       "78. 'foto_mes_formato_fecha_lag1'\n",
       "79. 'vm_status01_lag1'\n",
       "80. 'vm_status02_lag1'\n",
       "81. 'vm_status03_lag1'\n",
       "82. 'vm_status04_lag1'\n",
       "83. 'vm_status05_lag1'\n",
       "84. 'vm_status06_lag1'\n",
       "85. 'mv_status07_lag1'\n",
       "86. 'vm_fechaalta_lag1'\n",
       "87. 'vm_mpagominimo_lag1'\n",
       "88. 'internet_lag2'\n",
       "89. 'cliente_edad_lag2'\n",
       "90. 'cliente_antiguedad_lag2'\n",
       "91. 'mrentabilidad_lag2'\n",
       "92. 'mrentabilidad_annual_lag2'\n",
       "93. 'mcomisiones_lag2'\n",
       "94. 'mactivos_margen_lag2'\n",
       "95. 'mpasivos_margen_lag2'\n",
       "96. 'cproductos_lag2'\n",
       "97. 'mcuenta_corriente_lag2'\n",
       "98. 'mcaja_ahorro_lag2'\n",
       "99. 'cdescubierto_preacordado_lag2'\n",
       "100. 'mcuentas_saldo_lag2'\n",
       "101. 'ctarjeta_visa_transacciones_lag2'\n",
       "102. 'mtarjeta_visa_consumo_lag2'\n",
       "103. 'mtarjeta_master_consumo_lag2'\n",
       "104. 'mprestamos_personales_lag2'\n",
       "105. 'cpayroll_trx_lag2'\n",
       "106. 'mpayroll_lag2'\n",
       "107. 'ccomisiones_mantenimiento_lag2'\n",
       "108. 'ccallcenter_transacciones_lag2'\n",
       "109. 'chomebanking_transacciones_lag2'\n",
       "110. 'ctrx_quarter_lag2'\n",
       "111. 'Master_status_lag2'\n",
       "112. 'Master_fechaalta_lag2'\n",
       "113. 'Master_mpagominimo_lag2'\n",
       "114. 'Visa_status_lag2'\n",
       "115. 'Visa_fechaalta_lag2'\n",
       "116. 'Visa_mpagominimo_lag2'\n",
       "117. 'kmes_lag2'\n",
       "118. 'mpayroll_sobre_edad_lag2'\n",
       "119. 'ctrx_quarter_normalizado_lag2'\n",
       "120. 'foto_mes_formato_fecha_lag2'\n",
       "121. 'vm_status01_lag2'\n",
       "122. 'vm_status02_lag2'\n",
       "123. 'vm_status03_lag2'\n",
       "124. 'vm_status04_lag2'\n",
       "125. 'vm_status05_lag2'\n",
       "126. 'vm_status06_lag2'\n",
       "127. 'mv_status07_lag2'\n",
       "128. 'vm_fechaalta_lag2'\n",
       "129. 'vm_mpagominimo_lag2'\n",
       "130. 'internet_delta1'\n",
       "131. 'internet_delta2'\n",
       "132. 'cliente_edad_delta1'\n",
       "133. 'cliente_edad_delta2'\n",
       "134. 'cliente_antiguedad_delta1'\n",
       "135. 'cliente_antiguedad_delta2'\n",
       "136. 'mrentabilidad_delta1'\n",
       "137. 'mrentabilidad_delta2'\n",
       "138. 'mrentabilidad_annual_delta1'\n",
       "139. 'mrentabilidad_annual_delta2'\n",
       "140. 'mcomisiones_delta1'\n",
       "141. 'mcomisiones_delta2'\n",
       "142. 'mactivos_margen_delta1'\n",
       "143. 'mactivos_margen_delta2'\n",
       "144. 'mpasivos_margen_delta1'\n",
       "145. 'mpasivos_margen_delta2'\n",
       "146. 'cproductos_delta1'\n",
       "147. 'cproductos_delta2'\n",
       "148. 'mcuenta_corriente_delta1'\n",
       "149. 'mcuenta_corriente_delta2'\n",
       "150. 'mcaja_ahorro_delta1'\n",
       "151. 'mcaja_ahorro_delta2'\n",
       "152. 'cdescubierto_preacordado_delta1'\n",
       "153. 'cdescubierto_preacordado_delta2'\n",
       "154. 'mcuentas_saldo_delta1'\n",
       "155. 'mcuentas_saldo_delta2'\n",
       "156. 'ctarjeta_visa_transacciones_delta1'\n",
       "157. 'ctarjeta_visa_transacciones_delta2'\n",
       "158. 'mtarjeta_visa_consumo_delta1'\n",
       "159. 'mtarjeta_visa_consumo_delta2'\n",
       "160. 'mtarjeta_master_consumo_delta1'\n",
       "161. 'mtarjeta_master_consumo_delta2'\n",
       "162. 'mprestamos_personales_delta1'\n",
       "163. 'mprestamos_personales_delta2'\n",
       "164. 'cpayroll_trx_delta1'\n",
       "165. 'cpayroll_trx_delta2'\n",
       "166. 'mpayroll_delta1'\n",
       "167. 'mpayroll_delta2'\n",
       "168. 'ccomisiones_mantenimiento_delta1'\n",
       "169. 'ccomisiones_mantenimiento_delta2'\n",
       "170. 'ccallcenter_transacciones_delta1'\n",
       "171. 'ccallcenter_transacciones_delta2'\n",
       "172. 'chomebanking_transacciones_delta1'\n",
       "173. 'chomebanking_transacciones_delta2'\n",
       "174. 'ctrx_quarter_delta1'\n",
       "175. 'ctrx_quarter_delta2'\n",
       "176. 'Master_status_delta1'\n",
       "177. 'Master_status_delta2'\n",
       "178. 'Master_fechaalta_delta1'\n",
       "179. 'Master_fechaalta_delta2'\n",
       "180. 'Master_mpagominimo_delta1'\n",
       "181. 'Master_mpagominimo_delta2'\n",
       "182. 'Visa_status_delta1'\n",
       "183. 'Visa_status_delta2'\n",
       "184. 'Visa_fechaalta_delta1'\n",
       "185. 'Visa_fechaalta_delta2'\n",
       "186. 'Visa_mpagominimo_delta1'\n",
       "187. 'Visa_mpagominimo_delta2'\n",
       "188. 'kmes_delta1'\n",
       "189. 'kmes_delta2'\n",
       "190. 'mpayroll_sobre_edad_delta1'\n",
       "191. 'mpayroll_sobre_edad_delta2'\n",
       "192. 'ctrx_quarter_normalizado_delta1'\n",
       "193. 'ctrx_quarter_normalizado_delta2'\n",
       "194. 'foto_mes_formato_fecha_delta1'\n",
       "195. 'foto_mes_formato_fecha_delta2'\n",
       "196. 'vm_status01_delta1'\n",
       "197. 'vm_status01_delta2'\n",
       "198. 'vm_status02_delta1'\n",
       "199. 'vm_status02_delta2'\n",
       "200. 'vm_status03_delta1'\n",
       "201. 'vm_status03_delta2'\n",
       "202. 'vm_status04_delta1'\n",
       "203. 'vm_status04_delta2'\n",
       "204. 'vm_status05_delta1'\n",
       "205. 'vm_status05_delta2'\n",
       "206. 'vm_status06_delta1'\n",
       "207. 'vm_status06_delta2'\n",
       "208. 'mv_status07_delta1'\n",
       "209. 'mv_status07_delta2'\n",
       "210. 'vm_fechaalta_delta1'\n",
       "211. 'vm_fechaalta_delta2'\n",
       "212. 'vm_mpagominimo_delta1'\n",
       "213. 'vm_mpagominimo_delta2'\n",
       "\n",
       "\n"
      ],
      "text/plain": [
       "  [1] \"numero_de_cliente\"                  \"foto_mes\"                          \n",
       "  [3] \"internet\"                           \"cliente_edad\"                      \n",
       "  [5] \"cliente_antiguedad\"                 \"mrentabilidad\"                     \n",
       "  [7] \"mrentabilidad_annual\"               \"mcomisiones\"                       \n",
       "  [9] \"mactivos_margen\"                    \"mpasivos_margen\"                   \n",
       " [11] \"cproductos\"                         \"mcuenta_corriente\"                 \n",
       " [13] \"mcaja_ahorro\"                       \"cdescubierto_preacordado\"          \n",
       " [15] \"mcuentas_saldo\"                     \"ctarjeta_visa_transacciones\"       \n",
       " [17] \"mtarjeta_visa_consumo\"              \"mtarjeta_master_consumo\"           \n",
       " [19] \"mprestamos_personales\"              \"cpayroll_trx\"                      \n",
       " [21] \"mpayroll\"                           \"ccomisiones_mantenimiento\"         \n",
       " [23] \"ccallcenter_transacciones\"          \"chomebanking_transacciones\"        \n",
       " [25] \"ctrx_quarter\"                       \"Master_status\"                     \n",
       " [27] \"Master_fechaalta\"                   \"Master_mpagominimo\"                \n",
       " [29] \"Visa_status\"                        \"Visa_fechaalta\"                    \n",
       " [31] \"Visa_mpagominimo\"                   \"clase_ternaria\"                    \n",
       " [33] \"kmes\"                               \"mpayroll_sobre_edad\"               \n",
       " [35] \"ctrx_quarter_normalizado\"           \"foto_mes_formato_fecha\"            \n",
       " [37] \"vm_status01\"                        \"vm_status02\"                       \n",
       " [39] \"vm_status03\"                        \"vm_status04\"                       \n",
       " [41] \"vm_status05\"                        \"vm_status06\"                       \n",
       " [43] \"mv_status07\"                        \"vm_fechaalta\"                      \n",
       " [45] \"vm_mpagominimo\"                     \"internet_lag1\"                     \n",
       " [47] \"cliente_edad_lag1\"                  \"cliente_antiguedad_lag1\"           \n",
       " [49] \"mrentabilidad_lag1\"                 \"mrentabilidad_annual_lag1\"         \n",
       " [51] \"mcomisiones_lag1\"                   \"mactivos_margen_lag1\"              \n",
       " [53] \"mpasivos_margen_lag1\"               \"cproductos_lag1\"                   \n",
       " [55] \"mcuenta_corriente_lag1\"             \"mcaja_ahorro_lag1\"                 \n",
       " [57] \"cdescubierto_preacordado_lag1\"      \"mcuentas_saldo_lag1\"               \n",
       " [59] \"ctarjeta_visa_transacciones_lag1\"   \"mtarjeta_visa_consumo_lag1\"        \n",
       " [61] \"mtarjeta_master_consumo_lag1\"       \"mprestamos_personales_lag1\"        \n",
       " [63] \"cpayroll_trx_lag1\"                  \"mpayroll_lag1\"                     \n",
       " [65] \"ccomisiones_mantenimiento_lag1\"     \"ccallcenter_transacciones_lag1\"    \n",
       " [67] \"chomebanking_transacciones_lag1\"    \"ctrx_quarter_lag1\"                 \n",
       " [69] \"Master_status_lag1\"                 \"Master_fechaalta_lag1\"             \n",
       " [71] \"Master_mpagominimo_lag1\"            \"Visa_status_lag1\"                  \n",
       " [73] \"Visa_fechaalta_lag1\"                \"Visa_mpagominimo_lag1\"             \n",
       " [75] \"kmes_lag1\"                          \"mpayroll_sobre_edad_lag1\"          \n",
       " [77] \"ctrx_quarter_normalizado_lag1\"      \"foto_mes_formato_fecha_lag1\"       \n",
       " [79] \"vm_status01_lag1\"                   \"vm_status02_lag1\"                  \n",
       " [81] \"vm_status03_lag1\"                   \"vm_status04_lag1\"                  \n",
       " [83] \"vm_status05_lag1\"                   \"vm_status06_lag1\"                  \n",
       " [85] \"mv_status07_lag1\"                   \"vm_fechaalta_lag1\"                 \n",
       " [87] \"vm_mpagominimo_lag1\"                \"internet_lag2\"                     \n",
       " [89] \"cliente_edad_lag2\"                  \"cliente_antiguedad_lag2\"           \n",
       " [91] \"mrentabilidad_lag2\"                 \"mrentabilidad_annual_lag2\"         \n",
       " [93] \"mcomisiones_lag2\"                   \"mactivos_margen_lag2\"              \n",
       " [95] \"mpasivos_margen_lag2\"               \"cproductos_lag2\"                   \n",
       " [97] \"mcuenta_corriente_lag2\"             \"mcaja_ahorro_lag2\"                 \n",
       " [99] \"cdescubierto_preacordado_lag2\"      \"mcuentas_saldo_lag2\"               \n",
       "[101] \"ctarjeta_visa_transacciones_lag2\"   \"mtarjeta_visa_consumo_lag2\"        \n",
       "[103] \"mtarjeta_master_consumo_lag2\"       \"mprestamos_personales_lag2\"        \n",
       "[105] \"cpayroll_trx_lag2\"                  \"mpayroll_lag2\"                     \n",
       "[107] \"ccomisiones_mantenimiento_lag2\"     \"ccallcenter_transacciones_lag2\"    \n",
       "[109] \"chomebanking_transacciones_lag2\"    \"ctrx_quarter_lag2\"                 \n",
       "[111] \"Master_status_lag2\"                 \"Master_fechaalta_lag2\"             \n",
       "[113] \"Master_mpagominimo_lag2\"            \"Visa_status_lag2\"                  \n",
       "[115] \"Visa_fechaalta_lag2\"                \"Visa_mpagominimo_lag2\"             \n",
       "[117] \"kmes_lag2\"                          \"mpayroll_sobre_edad_lag2\"          \n",
       "[119] \"ctrx_quarter_normalizado_lag2\"      \"foto_mes_formato_fecha_lag2\"       \n",
       "[121] \"vm_status01_lag2\"                   \"vm_status02_lag2\"                  \n",
       "[123] \"vm_status03_lag2\"                   \"vm_status04_lag2\"                  \n",
       "[125] \"vm_status05_lag2\"                   \"vm_status06_lag2\"                  \n",
       "[127] \"mv_status07_lag2\"                   \"vm_fechaalta_lag2\"                 \n",
       "[129] \"vm_mpagominimo_lag2\"                \"internet_delta1\"                   \n",
       "[131] \"internet_delta2\"                    \"cliente_edad_delta1\"               \n",
       "[133] \"cliente_edad_delta2\"                \"cliente_antiguedad_delta1\"         \n",
       "[135] \"cliente_antiguedad_delta2\"          \"mrentabilidad_delta1\"              \n",
       "[137] \"mrentabilidad_delta2\"               \"mrentabilidad_annual_delta1\"       \n",
       "[139] \"mrentabilidad_annual_delta2\"        \"mcomisiones_delta1\"                \n",
       "[141] \"mcomisiones_delta2\"                 \"mactivos_margen_delta1\"            \n",
       "[143] \"mactivos_margen_delta2\"             \"mpasivos_margen_delta1\"            \n",
       "[145] \"mpasivos_margen_delta2\"             \"cproductos_delta1\"                 \n",
       "[147] \"cproductos_delta2\"                  \"mcuenta_corriente_delta1\"          \n",
       "[149] \"mcuenta_corriente_delta2\"           \"mcaja_ahorro_delta1\"               \n",
       "[151] \"mcaja_ahorro_delta2\"                \"cdescubierto_preacordado_delta1\"   \n",
       "[153] \"cdescubierto_preacordado_delta2\"    \"mcuentas_saldo_delta1\"             \n",
       "[155] \"mcuentas_saldo_delta2\"              \"ctarjeta_visa_transacciones_delta1\"\n",
       "[157] \"ctarjeta_visa_transacciones_delta2\" \"mtarjeta_visa_consumo_delta1\"      \n",
       "[159] \"mtarjeta_visa_consumo_delta2\"       \"mtarjeta_master_consumo_delta1\"    \n",
       "[161] \"mtarjeta_master_consumo_delta2\"     \"mprestamos_personales_delta1\"      \n",
       "[163] \"mprestamos_personales_delta2\"       \"cpayroll_trx_delta1\"               \n",
       "[165] \"cpayroll_trx_delta2\"                \"mpayroll_delta1\"                   \n",
       "[167] \"mpayroll_delta2\"                    \"ccomisiones_mantenimiento_delta1\"  \n",
       "[169] \"ccomisiones_mantenimiento_delta2\"   \"ccallcenter_transacciones_delta1\"  \n",
       "[171] \"ccallcenter_transacciones_delta2\"   \"chomebanking_transacciones_delta1\" \n",
       "[173] \"chomebanking_transacciones_delta2\"  \"ctrx_quarter_delta1\"               \n",
       "[175] \"ctrx_quarter_delta2\"                \"Master_status_delta1\"              \n",
       "[177] \"Master_status_delta2\"               \"Master_fechaalta_delta1\"           \n",
       "[179] \"Master_fechaalta_delta2\"            \"Master_mpagominimo_delta1\"         \n",
       "[181] \"Master_mpagominimo_delta2\"          \"Visa_status_delta1\"                \n",
       "[183] \"Visa_status_delta2\"                 \"Visa_fechaalta_delta1\"             \n",
       "[185] \"Visa_fechaalta_delta2\"              \"Visa_mpagominimo_delta1\"           \n",
       "[187] \"Visa_mpagominimo_delta2\"            \"kmes_delta1\"                       \n",
       "[189] \"kmes_delta2\"                        \"mpayroll_sobre_edad_delta1\"        \n",
       "[191] \"mpayroll_sobre_edad_delta2\"         \"ctrx_quarter_normalizado_delta1\"   \n",
       "[193] \"ctrx_quarter_normalizado_delta2\"    \"foto_mes_formato_fecha_delta1\"     \n",
       "[195] \"foto_mes_formato_fecha_delta2\"      \"vm_status01_delta1\"                \n",
       "[197] \"vm_status01_delta2\"                 \"vm_status02_delta1\"                \n",
       "[199] \"vm_status02_delta2\"                 \"vm_status03_delta1\"                \n",
       "[201] \"vm_status03_delta2\"                 \"vm_status04_delta1\"                \n",
       "[203] \"vm_status04_delta2\"                 \"vm_status05_delta1\"                \n",
       "[205] \"vm_status05_delta2\"                 \"vm_status06_delta1\"                \n",
       "[207] \"vm_status06_delta2\"                 \"mv_status07_delta1\"                \n",
       "[209] \"mv_status07_delta2\"                 \"vm_fechaalta_delta1\"               \n",
       "[211] \"vm_fechaalta_delta2\"                \"vm_mpagominimo_delta1\"             \n",
       "[213] \"vm_mpagominimo_delta2\"             "
      ]
     },
     "metadata": {},
     "output_type": "display_data"
    }
   ],
   "source": [
    "ncol(dataset)\n",
    "colnames(dataset)"
   ]
  },
  {
   "cell_type": "markdown",
   "id": "20a2003c-447b-44b0-8455-2330d2e2a21f",
   "metadata": {
    "id": "20a2003c-447b-44b0-8455-2330d2e2a21f"
   },
   "source": [
    "#### 9.7.1.5  FE_rf Feature Engineering de nuevas variables a partir de hojas de Random Forest\n",
    "\n"
   ]
  },
  {
   "cell_type": "code",
   "execution_count": 44,
   "id": "e2400841-c254-4330-8f1c-90cc3b8a96c2",
   "metadata": {
    "colab": {
     "base_uri": "https://localhost:8080/"
    },
    "id": "e2400841-c254-4330-8f1c-90cc3b8a96c2",
    "outputId": "b370f13a-ad5b-41bc-cccc-fb87c399b6d6",
    "vscode": {
     "languageId": "r"
    }
   },
   "outputs": [
    {
     "name": "stderr",
     "output_type": "stream",
     "text": [
      "Loading required package: lightgbm\n",
      "\n"
     ]
    }
   ],
   "source": [
    "if( !require(\"lightgbm\")) install.packages(\"lightgbm\")\n",
    "require(\"lightgbm\")"
   ]
  },
  {
   "cell_type": "code",
   "execution_count": 63,
   "id": "ad7d25ae-442a-4c3d-86ff-c1fa0c9fa8a5",
   "metadata": {
    "id": "ad7d25ae-442a-4c3d-86ff-c1fa0c9fa8a5",
    "vscode": {
     "languageId": "r"
    }
   },
   "outputs": [],
   "source": [
    "AgregaVarRandomForest <- function() {\n",
    "\n",
    "  cat( \"inicio AgregaVarRandomForest()\\n\")\n",
    "  gc(verbose= FALSE)\n",
    "  dataset[, clase01 := 0L ]\n",
    "  dataset[ clase_ternaria %in% PARAM$FE_rf$train$clase01_valor1,\n",
    "      clase01 := 1L ]\n",
    "\n",
    "  campos_buenos <- setdiff(\n",
    "    colnames(dataset),\n",
    "    c( \"clase_ternaria\", \"clase01\")\n",
    "  )\n",
    "\n",
    "  dataset[, entrenamiento :=\n",
    "    as.integer( foto_mes %in% PARAM$FE_rf$train$training )]\n",
    "\n",
    "  dtrain <- lgb.Dataset(\n",
    "    data = data.matrix(dataset[entrenamiento == TRUE, campos_buenos, with = FALSE]),\n",
    "    label = dataset[entrenamiento == TRUE, clase01],\n",
    "    free_raw_data = FALSE\n",
    "  )\n",
    "\n",
    "  modelo <- lgb.train(\n",
    "     data = dtrain,\n",
    "     param = PARAM$FE_rf$lgb_param,\n",
    "     verbose = -100\n",
    "  )\n",
    "\n",
    "  cat( \"Fin construccion RandomForest\\n\" )\n",
    "  add_log( \"Fin construccion RandomForest\\n\" )\n",
    "  # grabo el modelo, achivo .model\n",
    "  lgb.save(modelo, file=\"modelo.model\" )\n",
    "\n",
    "  qarbolitos <- copy(PARAM$FE_rf$lgb_param$num_iterations)\n",
    "\n",
    "  periodos <- dataset[ , unique( foto_mes ) ]\n",
    "\n",
    "  for( periodo in  periodos )\n",
    "  {\n",
    "    cat( \"periodo = \", periodo, \"\\n\" )\n",
    "    datamatrix <- data.matrix(dataset[ foto_mes== periodo, campos_buenos, with = FALSE])\n",
    "\n",
    "    cat( \"Inicio prediccion\\n\" )\n",
    "    prediccion <- predict(\n",
    "        modelo,\n",
    "        datamatrix,\n",
    "        type = \"leaf\"\n",
    "    )\n",
    "    cat( \"Fin prediccion\\n\" )\n",
    "\n",
    "    for( arbolito in 1:qarbolitos )\n",
    "    {\n",
    "       cat( arbolito, \" \" )\n",
    "       hojas_arbol <- unique(prediccion[ , arbolito])\n",
    "\n",
    "       for (pos in 1:length(hojas_arbol)) {\n",
    "         # el numero de nodo de la hoja, estan salteados\n",
    "         nodo_id <- hojas_arbol[pos]\n",
    "         dataset[ foto_mes== periodo, paste0(\n",
    "            \"rf_\", sprintf(\"%03d\", arbolito),\n",
    "             \"_\", sprintf(\"%03d\", nodo_id)\n",
    "          ) :=  as.integer( nodo_id == prediccion[ , arbolito]) ]\n",
    "\n",
    "       }\n",
    "\n",
    "       rm( hojas_arbol )\n",
    "    }\n",
    "    cat( \"\\n\" )\n",
    "\n",
    "    rm( prediccion )\n",
    "    rm( datamatrix )\n",
    "    gc(verbose= FALSE)\n",
    "  }\n",
    "\n",
    "  gc(verbose= FALSE)\n",
    "\n",
    "  # borro clase01 , no debe ensuciar el dataset\n",
    "  dataset[ , clase01 := NULL ]\n",
    "\n",
    "}\n"
   ]
  },
  {
   "cell_type": "code",
   "execution_count": 65,
   "id": "e9ee9b69-3457-4b30-91b8-1b3f7cf43d9b",
   "metadata": {},
   "outputs": [
    {
     "name": "stdout",
     "output_type": "stream",
     "text": [
      "inicio AgregaVarRandomForest()\n"
     ]
    },
    {
     "ename": "ERROR",
     "evalue": "Error in data$construct(): Check failed: (num_data) > (0) at io/dataset.cpp, line 39 .\n\n\n",
     "output_type": "error",
     "traceback": [
      "Error in data$construct(): Check failed: (num_data) > (0) at io/dataset.cpp, line 39 .\n\n\nTraceback:\n",
      "1. lgb.train(data = dtrain, param = PARAM$FE_rf$lgb_param, verbose = -100)",
      "2. data$construct()",
      "3. .handleSimpleError(function (cnd) \n . {\n .     watcher$capture_plot_and_output()\n .     cnd <- sanitize_call(cnd)\n .     watcher$push(cnd)\n .     switch(on_error, continue = invokeRestart(\"eval_continue\"), \n .         stop = invokeRestart(\"eval_stop\"), error = NULL)\n . }, \"Check failed: (num_data) > (0) at io/dataset.cpp, line 39 .\\n\\n\", \n .     base::quote(data$construct()))"
     ]
    }
   ],
   "source": [
    "AgregaVarRandomForest()"
   ]
  },
  {
   "cell_type": "markdown",
   "id": "c7182958-a445-49f2-b60d-3564f853e9ef",
   "metadata": {
    "id": "c7182958-a445-49f2-b60d-3564f853e9ef"
   },
   "source": [
    "#### 9.7.1.6  FEhist Reduccion dimensionalidad con canaritos\n",
    "\n",
    "Esta etapa solo se mostrará a la *modalidad Anlista Sr*"
   ]
  },
  {
   "cell_type": "markdown",
   "id": "5a4c6aa3-eea2-496f-9905-2b85c73b83d0",
   "metadata": {
    "id": "5a4c6aa3-eea2-496f-9905-2b85c73b83d0"
   },
   "source": [
    "El objetivo de esta etapa NO es mejorar el modelo predictivo"
   ]
  },
  {
   "cell_type": "markdown",
   "id": "0f7882ad-1c71-4f5e-afa3-b7d4e40c7056",
   "metadata": {
    "id": "0f7882ad-1c71-4f5e-afa3-b7d4e40c7056"
   },
   "source": [
    "El objetivo es eliminar campos poco importantes para hacer espacio a nuevos campos, debido a las restricciones de memoria RAM."
   ]
  },
  {
   "cell_type": "code",
   "execution_count": 46,
   "id": "2dd646c3-d58f-4efa-9f56-917c235f1f16",
   "metadata": {
    "id": "2dd646c3-d58f-4efa-9f56-917c235f1f16",
    "vscode": {
     "languageId": "r"
    }
   },
   "outputs": [],
   "source": [
    "VPOS_CORTE <- c()\n",
    "\n",
    "fganancia_lgbm_meseta <- function(probs, datos) {\n",
    "  vlabels <- get_field(datos, \"label\")\n",
    "  vpesos <- get_field(datos, \"weight\")\n",
    "\n",
    "  tbl <- as.data.table(list(\n",
    "    \"prob\" = probs,\n",
    "    \"gan\" = ifelse(vlabels == 1 & vpesos > 1, PARAM$CN$train$gan1, PARAM$CN$train$gan0)\n",
    "  ))\n",
    "\n",
    "  setorder(tbl, -prob)\n",
    "  tbl[, posicion := .I]\n",
    "  tbl[, gan_acum := cumsum(gan)]\n",
    "  setorder(tbl, -gan_acum) # voy por la meseta\n",
    "\n",
    "  gan <- mean(tbl[1:500, gan_acum]) # meseta de tamaño 500\n",
    "\n",
    "  pos_meseta <- tbl[1:500, median(posicion)]\n",
    "  VPOS_CORTE <<- c(VPOS_CORTE, pos_meseta)\n",
    "\n",
    "  return(list(\n",
    "    \"name\" = \"ganancia\",\n",
    "    \"value\" = gan,\n",
    "    \"higher_better\" = TRUE\n",
    "  ))\n",
    "}\n"
   ]
  },
  {
   "cell_type": "code",
   "execution_count": 47,
   "id": "8196a247-f280-4c93-b509-5c0e54cab645",
   "metadata": {
    "id": "8196a247-f280-4c93-b509-5c0e54cab645",
    "vscode": {
     "languageId": "r"
    }
   },
   "outputs": [],
   "source": [
    "# Elimina del dataset las variables que estan por debajo\n",
    "#  de la capa geologica de canaritos\n",
    "# se llama varias veces, luego de agregar muchas variables nuevas,\n",
    "#  para ir reduciendo la cantidad de variables\n",
    "# y así hacer lugar a nuevas variables importantes\n",
    "\n",
    "GVEZ <- 1\n",
    "\n",
    "campitos <- c( \"numero_de_cliente\", \"foto_mes\", \"clase_ternaria\" )\n",
    "\n",
    "CanaritosAsesinos <- function(\n",
    "  canaritos_ratio,\n",
    "  canaritos_desvios,\n",
    "  canaritos_semilla) {\n",
    "\n",
    "  cat( \"inicio CanaritosAsesinos()\\n\")\n",
    "  add_log( \"inicio CanaritosAsesinos()\\n\")\n",
    "  gc(verbose= FALSE)\n",
    "  dataset[, clase01 := 0L ]\n",
    "  dataset[ clase_ternaria %in% PARAM$CN$train$clase01_valor1,\n",
    "      clase01 := 1L ]\n",
    "\n",
    "  set.seed(canaritos_semilla, kind = \"L'Ecuyer-CMRG\")\n",
    "  for (i in 1:(ncol(dataset) * canaritos_ratio)) {\n",
    "    dataset[, paste0(\"canarito\", i) := runif(nrow(dataset))]\n",
    "  }\n",
    "\n",
    "  campos_buenos <- setdiff(\n",
    "    colnames(dataset),\n",
    "    c( campitos, \"clase01\")\n",
    "  )\n",
    "\n",
    "  azar <- runif(nrow(dataset))\n",
    "\n",
    "  dataset[, entrenamiento :=\n",
    "    as.integer( foto_mes %in% PARAM$CN$train$training &\n",
    "      (clase01 == 1 | azar < PARAM$CN$train$undersampling))]\n",
    "\n",
    "  dtrain <- lgb.Dataset(\n",
    "    data = data.matrix(dataset[entrenamiento == TRUE, campos_buenos, with = FALSE]),\n",
    "    label = dataset[entrenamiento == TRUE, clase01],\n",
    "    weight = dataset[\n",
    "      entrenamiento == TRUE,\n",
    "      ifelse(clase_ternaria %in% PARAM$CN$train$positivos, 1.0000001, 1.0)\n",
    "    ],\n",
    "    free_raw_data = FALSE\n",
    "  )\n",
    "\n",
    "  dvalid <- lgb.Dataset(\n",
    "    data = data.matrix(dataset[foto_mes %in% PARAM$CN$train$validation, campos_buenos, with = FALSE]),\n",
    "    label = dataset[foto_mes %in% PARAM$CN$train$validation, clase01],\n",
    "    weight = dataset[\n",
    "      foto_mes %in% PARAM$CN$train$validation,\n",
    "      ifelse( clase_ternaria %in% PARAM$CN$train$positivos, 1.0000001, 1.0)\n",
    "    ],\n",
    "    free_raw_data = FALSE\n",
    "  )\n",
    "\n",
    "\n",
    "  param <- list(\n",
    "    objective = \"binary\",\n",
    "    metric = \"custom\",\n",
    "    first_metric_only = TRUE,\n",
    "    boost_from_average = TRUE,\n",
    "    feature_pre_filter = FALSE,\n",
    "    verbosity = -100,\n",
    "    seed = canaritos_semilla,\n",
    "    max_depth = -1, # -1 significa no limitar,  por ahora lo dejo fijo\n",
    "    min_gain_to_split = 0.0, # por ahora, lo dejo fijo\n",
    "    lambda_l1 = 0.0, # por ahora, lo dejo fijo\n",
    "    lambda_l2 = 0.0, # por ahora, lo dejo fijo\n",
    "    max_bin = 31, # por ahora, lo dejo fijo\n",
    "    num_iterations = 9999, # un numero grande, lo limita early_stopping_rounds\n",
    "    force_row_wise = TRUE, # para que los alumnos no se atemoricen con  warning\n",
    "    learning_rate = 0.065,\n",
    "    feature_fraction = 1.0, # lo seteo en 1\n",
    "    min_data_in_leaf = 260,\n",
    "    num_leaves = 60,\n",
    "    early_stopping_rounds = 200,\n",
    "    num_threads = 1\n",
    "  )\n",
    "\n",
    "  set.seed(canaritos_semilla, kind = \"L'Ecuyer-CMRG\")\n",
    "  modelo <- lgb.train(\n",
    "    data = dtrain,\n",
    "    valids = list(valid = dvalid),\n",
    "    eval = fganancia_lgbm_meseta,\n",
    "    param = param,\n",
    "    verbose = -100\n",
    "  )\n",
    "\n",
    "  tb_importancia <- lgb.importance(model = modelo)\n",
    "  tb_importancia[, pos := .I]\n",
    "\n",
    "  fwrite(tb_importancia,\n",
    "    file = paste0(\"impo_\", GVEZ, \".txt\"),\n",
    "    sep = \"\\t\"\n",
    "  )\n",
    "\n",
    "  GVEZ <<- GVEZ + 1\n",
    "\n",
    "  umbral <- tb_importancia[\n",
    "    Feature %like% \"canarito\",\n",
    "    median(pos) + canaritos_desvios * sd(pos)\n",
    "  ] # Atencion corto en la mediana mas desvios!!\n",
    "\n",
    "  col_utiles <- tb_importancia[\n",
    "    pos < umbral & !(Feature %like% \"canarito\"),\n",
    "    Feature\n",
    "  ]\n",
    "\n",
    "  col_utiles <- unique(c(\n",
    "    col_utiles,\n",
    "    c(campitos, \"mes\")\n",
    "  ))\n",
    "\n",
    "  col_inutiles <- setdiff(colnames(dataset), col_utiles)\n",
    "\n",
    "  dataset[, (col_inutiles) := NULL]\n",
    "\n",
    "  cat( \"fin CanaritosAsesinos()\\n\")\n",
    "  add_log( \"fin CanaritosAsesinos()\\n\")\n",
    "\n",
    "  return( tb_importancia )\n",
    "}\n"
   ]
  },
  {
   "cell_type": "code",
   "execution_count": 48,
   "id": "9249a815-315c-4695-9f2f-bae196697f70",
   "metadata": {
    "id": "9249a815-315c-4695-9f2f-bae196697f70",
    "vscode": {
     "languageId": "r"
    }
   },
   "outputs": [],
   "source": [
    "# Estos DOS parametros son los que se deben modificar\n",
    "PARAM$CN$ratio <- 0.2\n",
    "PARAM$CN$desvios <- 2\n",
    "\n",
    "\n",
    "# Parametros quasi fijos\n",
    "# Parametros de un LightGBM que se genera para estimar la column importance\n",
    "PARAM$CN$train$clase01_valor1 <- c( \"BAJA+2\", \"BAJA+1\")\n",
    "PARAM$CN$train$positivos <- c( \"BAJA+2\")\n",
    "PARAM$CN$train$training <- c( 202101, 202102, 202103)\n",
    "PARAM$CN$train$validation <- c( 202105 )\n",
    "PARAM$CN$train$undersampling <- 0.1\n",
    "PARAM$CN$train$gan1 <- 117000\n",
    "PARAM$CN$train$gan0 <-  -3000"
   ]
  },
  {
   "cell_type": "code",
   "execution_count": 49,
   "id": "6325e48b-e98f-457e-b099-2dafb9a50101",
   "metadata": {
    "id": "6325e48b-e98f-457e-b099-2dafb9a50101",
    "outputId": "3b0d9beb-c2a1-425a-a62c-e16fcbf0e2cc",
    "vscode": {
     "languageId": "r"
    }
   },
   "outputs": [
    {
     "name": "stdout",
     "output_type": "stream",
     "text": [
      "inicio CanaritosAsesinos()\n",
      "fin CanaritosAsesinos()\n"
     ]
    }
   ],
   "source": [
    "# la llamada a Canaritos Asesinos\n",
    "tb_importancia <- CanaritosAsesinos(\n",
    "  canaritos_ratio = PARAM$CN$ratio,\n",
    "  canaritos_desvios = PARAM$CN$desvios,\n",
    "  canaritos_semilla = PARAM$semilla_primigenia\n",
    ")\n"
   ]
  },
  {
   "cell_type": "code",
   "execution_count": 50,
   "id": "25cc7c43-3515-4035-8d21-8c8469c010a1",
   "metadata": {
    "id": "25cc7c43-3515-4035-8d21-8c8469c010a1",
    "vscode": {
     "languageId": "r"
    }
   },
   "outputs": [],
   "source": [
    "# grabo la importancia, ver el archivo directamente en la carpeta\n",
    "\n",
    "fwrite( tb_importancia,\n",
    "  file=\"canaritos.txt\",\n",
    "  sep=\"\\t\"\n",
    ")"
   ]
  },
  {
   "cell_type": "code",
   "execution_count": 51,
   "id": "24084927-88df-497b-9437-769400f4229b",
   "metadata": {
    "id": "24084927-88df-497b-9437-769400f4229b",
    "outputId": "a4d615c6-0101-4252-8255-2afc89fb6533",
    "vscode": {
     "languageId": "r"
    }
   },
   "outputs": [
    {
     "data": {
      "text/html": [
       "76"
      ],
      "text/latex": [
       "76"
      ],
      "text/markdown": [
       "76"
      ],
      "text/plain": [
       "[1] 76"
      ]
     },
     "metadata": {},
     "output_type": "display_data"
    },
    {
     "data": {
      "text/html": [
       "<style>\n",
       ".list-inline {list-style: none; margin:0; padding: 0}\n",
       ".list-inline>li {display: inline-block}\n",
       ".list-inline>li:not(:last-child)::after {content: \"\\00b7\"; padding: 0 .5ex}\n",
       "</style>\n",
       "<ol class=list-inline><li>'numero_de_cliente'</li><li>'foto_mes'</li><li>'cliente_edad'</li><li>'mrentabilidad'</li><li>'mrentabilidad_annual'</li><li>'mcomisiones'</li><li>'mactivos_margen'</li><li>'mpasivos_margen'</li><li>'cproductos'</li><li>'mcuenta_corriente'</li><li>'mcaja_ahorro'</li><li>'cdescubierto_preacordado'</li><li>'mcuentas_saldo'</li><li>'ctarjeta_visa_transacciones'</li><li>'mtarjeta_visa_consumo'</li><li>'mtarjeta_master_consumo'</li><li>'mprestamos_personales'</li><li>'cpayroll_trx'</li><li>'ccomisiones_mantenimiento'</li><li>'chomebanking_transacciones'</li><li>'Master_fechaalta'</li><li>'Master_mpagominimo'</li><li>'Visa_fechaalta'</li><li>'Visa_mpagominimo'</li><li>'clase_ternaria'</li><li>'mpayroll_sobre_edad'</li><li>'ctrx_quarter_normalizado'</li><li>'vm_mpagominimo'</li><li>'cliente_edad_lag1'</li><li>'mrentabilidad_lag1'</li><li>'mrentabilidad_annual_lag1'</li><li>'mcomisiones_lag1'</li><li>'mpasivos_margen_lag1'</li><li>'mcuenta_corriente_lag1'</li><li>'mcaja_ahorro_lag1'</li><li>'mcuentas_saldo_lag1'</li><li>'chomebanking_transacciones_lag1'</li><li>'Master_fechaalta_lag1'</li><li>'Visa_fechaalta_lag1'</li><li>'Visa_mpagominimo_lag1'</li><li>'ctrx_quarter_normalizado_lag1'</li><li>'vm_fechaalta_lag1'</li><li>'vm_mpagominimo_lag1'</li><li>'cliente_edad_lag2'</li><li>'cliente_antiguedad_lag2'</li><li>'mrentabilidad_lag2'</li><li>'mrentabilidad_annual_lag2'</li><li>'mactivos_margen_lag2'</li><li>'mpasivos_margen_lag2'</li><li>'mcuenta_corriente_lag2'</li><li>'mcaja_ahorro_lag2'</li><li>'mprestamos_personales_lag2'</li><li>'mpayroll_lag2'</li><li>'chomebanking_transacciones_lag2'</li><li>'ctrx_quarter_lag2'</li><li>'Master_fechaalta_lag2'</li><li>'Visa_fechaalta_lag2'</li><li>'Visa_mpagominimo_lag2'</li><li>'mrentabilidad_delta2'</li><li>'mrentabilidad_annual_delta1'</li><li>'mrentabilidad_annual_delta2'</li><li>'mcomisiones_delta2'</li><li>'mactivos_margen_delta1'</li><li>'mactivos_margen_delta2'</li><li>'cproductos_delta1'</li><li>'mcuentas_saldo_delta1'</li><li>'mtarjeta_visa_consumo_delta2'</li><li>'ccomisiones_mantenimiento_delta1'</li><li>'ccomisiones_mantenimiento_delta2'</li><li>'ccallcenter_transacciones_delta2'</li><li>'chomebanking_transacciones_delta1'</li><li>'chomebanking_transacciones_delta2'</li><li>'ctrx_quarter_delta1'</li><li>'ctrx_quarter_delta2'</li><li>'Visa_mpagominimo_delta2'</li><li>'vm_mpagominimo_delta1'</li></ol>\n"
      ],
      "text/latex": [
       "\\begin{enumerate*}\n",
       "\\item 'numero\\_de\\_cliente'\n",
       "\\item 'foto\\_mes'\n",
       "\\item 'cliente\\_edad'\n",
       "\\item 'mrentabilidad'\n",
       "\\item 'mrentabilidad\\_annual'\n",
       "\\item 'mcomisiones'\n",
       "\\item 'mactivos\\_margen'\n",
       "\\item 'mpasivos\\_margen'\n",
       "\\item 'cproductos'\n",
       "\\item 'mcuenta\\_corriente'\n",
       "\\item 'mcaja\\_ahorro'\n",
       "\\item 'cdescubierto\\_preacordado'\n",
       "\\item 'mcuentas\\_saldo'\n",
       "\\item 'ctarjeta\\_visa\\_transacciones'\n",
       "\\item 'mtarjeta\\_visa\\_consumo'\n",
       "\\item 'mtarjeta\\_master\\_consumo'\n",
       "\\item 'mprestamos\\_personales'\n",
       "\\item 'cpayroll\\_trx'\n",
       "\\item 'ccomisiones\\_mantenimiento'\n",
       "\\item 'chomebanking\\_transacciones'\n",
       "\\item 'Master\\_fechaalta'\n",
       "\\item 'Master\\_mpagominimo'\n",
       "\\item 'Visa\\_fechaalta'\n",
       "\\item 'Visa\\_mpagominimo'\n",
       "\\item 'clase\\_ternaria'\n",
       "\\item 'mpayroll\\_sobre\\_edad'\n",
       "\\item 'ctrx\\_quarter\\_normalizado'\n",
       "\\item 'vm\\_mpagominimo'\n",
       "\\item 'cliente\\_edad\\_lag1'\n",
       "\\item 'mrentabilidad\\_lag1'\n",
       "\\item 'mrentabilidad\\_annual\\_lag1'\n",
       "\\item 'mcomisiones\\_lag1'\n",
       "\\item 'mpasivos\\_margen\\_lag1'\n",
       "\\item 'mcuenta\\_corriente\\_lag1'\n",
       "\\item 'mcaja\\_ahorro\\_lag1'\n",
       "\\item 'mcuentas\\_saldo\\_lag1'\n",
       "\\item 'chomebanking\\_transacciones\\_lag1'\n",
       "\\item 'Master\\_fechaalta\\_lag1'\n",
       "\\item 'Visa\\_fechaalta\\_lag1'\n",
       "\\item 'Visa\\_mpagominimo\\_lag1'\n",
       "\\item 'ctrx\\_quarter\\_normalizado\\_lag1'\n",
       "\\item 'vm\\_fechaalta\\_lag1'\n",
       "\\item 'vm\\_mpagominimo\\_lag1'\n",
       "\\item 'cliente\\_edad\\_lag2'\n",
       "\\item 'cliente\\_antiguedad\\_lag2'\n",
       "\\item 'mrentabilidad\\_lag2'\n",
       "\\item 'mrentabilidad\\_annual\\_lag2'\n",
       "\\item 'mactivos\\_margen\\_lag2'\n",
       "\\item 'mpasivos\\_margen\\_lag2'\n",
       "\\item 'mcuenta\\_corriente\\_lag2'\n",
       "\\item 'mcaja\\_ahorro\\_lag2'\n",
       "\\item 'mprestamos\\_personales\\_lag2'\n",
       "\\item 'mpayroll\\_lag2'\n",
       "\\item 'chomebanking\\_transacciones\\_lag2'\n",
       "\\item 'ctrx\\_quarter\\_lag2'\n",
       "\\item 'Master\\_fechaalta\\_lag2'\n",
       "\\item 'Visa\\_fechaalta\\_lag2'\n",
       "\\item 'Visa\\_mpagominimo\\_lag2'\n",
       "\\item 'mrentabilidad\\_delta2'\n",
       "\\item 'mrentabilidad\\_annual\\_delta1'\n",
       "\\item 'mrentabilidad\\_annual\\_delta2'\n",
       "\\item 'mcomisiones\\_delta2'\n",
       "\\item 'mactivos\\_margen\\_delta1'\n",
       "\\item 'mactivos\\_margen\\_delta2'\n",
       "\\item 'cproductos\\_delta1'\n",
       "\\item 'mcuentas\\_saldo\\_delta1'\n",
       "\\item 'mtarjeta\\_visa\\_consumo\\_delta2'\n",
       "\\item 'ccomisiones\\_mantenimiento\\_delta1'\n",
       "\\item 'ccomisiones\\_mantenimiento\\_delta2'\n",
       "\\item 'ccallcenter\\_transacciones\\_delta2'\n",
       "\\item 'chomebanking\\_transacciones\\_delta1'\n",
       "\\item 'chomebanking\\_transacciones\\_delta2'\n",
       "\\item 'ctrx\\_quarter\\_delta1'\n",
       "\\item 'ctrx\\_quarter\\_delta2'\n",
       "\\item 'Visa\\_mpagominimo\\_delta2'\n",
       "\\item 'vm\\_mpagominimo\\_delta1'\n",
       "\\end{enumerate*}\n"
      ],
      "text/markdown": [
       "1. 'numero_de_cliente'\n",
       "2. 'foto_mes'\n",
       "3. 'cliente_edad'\n",
       "4. 'mrentabilidad'\n",
       "5. 'mrentabilidad_annual'\n",
       "6. 'mcomisiones'\n",
       "7. 'mactivos_margen'\n",
       "8. 'mpasivos_margen'\n",
       "9. 'cproductos'\n",
       "10. 'mcuenta_corriente'\n",
       "11. 'mcaja_ahorro'\n",
       "12. 'cdescubierto_preacordado'\n",
       "13. 'mcuentas_saldo'\n",
       "14. 'ctarjeta_visa_transacciones'\n",
       "15. 'mtarjeta_visa_consumo'\n",
       "16. 'mtarjeta_master_consumo'\n",
       "17. 'mprestamos_personales'\n",
       "18. 'cpayroll_trx'\n",
       "19. 'ccomisiones_mantenimiento'\n",
       "20. 'chomebanking_transacciones'\n",
       "21. 'Master_fechaalta'\n",
       "22. 'Master_mpagominimo'\n",
       "23. 'Visa_fechaalta'\n",
       "24. 'Visa_mpagominimo'\n",
       "25. 'clase_ternaria'\n",
       "26. 'mpayroll_sobre_edad'\n",
       "27. 'ctrx_quarter_normalizado'\n",
       "28. 'vm_mpagominimo'\n",
       "29. 'cliente_edad_lag1'\n",
       "30. 'mrentabilidad_lag1'\n",
       "31. 'mrentabilidad_annual_lag1'\n",
       "32. 'mcomisiones_lag1'\n",
       "33. 'mpasivos_margen_lag1'\n",
       "34. 'mcuenta_corriente_lag1'\n",
       "35. 'mcaja_ahorro_lag1'\n",
       "36. 'mcuentas_saldo_lag1'\n",
       "37. 'chomebanking_transacciones_lag1'\n",
       "38. 'Master_fechaalta_lag1'\n",
       "39. 'Visa_fechaalta_lag1'\n",
       "40. 'Visa_mpagominimo_lag1'\n",
       "41. 'ctrx_quarter_normalizado_lag1'\n",
       "42. 'vm_fechaalta_lag1'\n",
       "43. 'vm_mpagominimo_lag1'\n",
       "44. 'cliente_edad_lag2'\n",
       "45. 'cliente_antiguedad_lag2'\n",
       "46. 'mrentabilidad_lag2'\n",
       "47. 'mrentabilidad_annual_lag2'\n",
       "48. 'mactivos_margen_lag2'\n",
       "49. 'mpasivos_margen_lag2'\n",
       "50. 'mcuenta_corriente_lag2'\n",
       "51. 'mcaja_ahorro_lag2'\n",
       "52. 'mprestamos_personales_lag2'\n",
       "53. 'mpayroll_lag2'\n",
       "54. 'chomebanking_transacciones_lag2'\n",
       "55. 'ctrx_quarter_lag2'\n",
       "56. 'Master_fechaalta_lag2'\n",
       "57. 'Visa_fechaalta_lag2'\n",
       "58. 'Visa_mpagominimo_lag2'\n",
       "59. 'mrentabilidad_delta2'\n",
       "60. 'mrentabilidad_annual_delta1'\n",
       "61. 'mrentabilidad_annual_delta2'\n",
       "62. 'mcomisiones_delta2'\n",
       "63. 'mactivos_margen_delta1'\n",
       "64. 'mactivos_margen_delta2'\n",
       "65. 'cproductos_delta1'\n",
       "66. 'mcuentas_saldo_delta1'\n",
       "67. 'mtarjeta_visa_consumo_delta2'\n",
       "68. 'ccomisiones_mantenimiento_delta1'\n",
       "69. 'ccomisiones_mantenimiento_delta2'\n",
       "70. 'ccallcenter_transacciones_delta2'\n",
       "71. 'chomebanking_transacciones_delta1'\n",
       "72. 'chomebanking_transacciones_delta2'\n",
       "73. 'ctrx_quarter_delta1'\n",
       "74. 'ctrx_quarter_delta2'\n",
       "75. 'Visa_mpagominimo_delta2'\n",
       "76. 'vm_mpagominimo_delta1'\n",
       "\n",
       "\n"
      ],
      "text/plain": [
       " [1] \"numero_de_cliente\"                 \"foto_mes\"                         \n",
       " [3] \"cliente_edad\"                      \"mrentabilidad\"                    \n",
       " [5] \"mrentabilidad_annual\"              \"mcomisiones\"                      \n",
       " [7] \"mactivos_margen\"                   \"mpasivos_margen\"                  \n",
       " [9] \"cproductos\"                        \"mcuenta_corriente\"                \n",
       "[11] \"mcaja_ahorro\"                      \"cdescubierto_preacordado\"         \n",
       "[13] \"mcuentas_saldo\"                    \"ctarjeta_visa_transacciones\"      \n",
       "[15] \"mtarjeta_visa_consumo\"             \"mtarjeta_master_consumo\"          \n",
       "[17] \"mprestamos_personales\"             \"cpayroll_trx\"                     \n",
       "[19] \"ccomisiones_mantenimiento\"         \"chomebanking_transacciones\"       \n",
       "[21] \"Master_fechaalta\"                  \"Master_mpagominimo\"               \n",
       "[23] \"Visa_fechaalta\"                    \"Visa_mpagominimo\"                 \n",
       "[25] \"clase_ternaria\"                    \"mpayroll_sobre_edad\"              \n",
       "[27] \"ctrx_quarter_normalizado\"          \"vm_mpagominimo\"                   \n",
       "[29] \"cliente_edad_lag1\"                 \"mrentabilidad_lag1\"               \n",
       "[31] \"mrentabilidad_annual_lag1\"         \"mcomisiones_lag1\"                 \n",
       "[33] \"mpasivos_margen_lag1\"              \"mcuenta_corriente_lag1\"           \n",
       "[35] \"mcaja_ahorro_lag1\"                 \"mcuentas_saldo_lag1\"              \n",
       "[37] \"chomebanking_transacciones_lag1\"   \"Master_fechaalta_lag1\"            \n",
       "[39] \"Visa_fechaalta_lag1\"               \"Visa_mpagominimo_lag1\"            \n",
       "[41] \"ctrx_quarter_normalizado_lag1\"     \"vm_fechaalta_lag1\"                \n",
       "[43] \"vm_mpagominimo_lag1\"               \"cliente_edad_lag2\"                \n",
       "[45] \"cliente_antiguedad_lag2\"           \"mrentabilidad_lag2\"               \n",
       "[47] \"mrentabilidad_annual_lag2\"         \"mactivos_margen_lag2\"             \n",
       "[49] \"mpasivos_margen_lag2\"              \"mcuenta_corriente_lag2\"           \n",
       "[51] \"mcaja_ahorro_lag2\"                 \"mprestamos_personales_lag2\"       \n",
       "[53] \"mpayroll_lag2\"                     \"chomebanking_transacciones_lag2\"  \n",
       "[55] \"ctrx_quarter_lag2\"                 \"Master_fechaalta_lag2\"            \n",
       "[57] \"Visa_fechaalta_lag2\"               \"Visa_mpagominimo_lag2\"            \n",
       "[59] \"mrentabilidad_delta2\"              \"mrentabilidad_annual_delta1\"      \n",
       "[61] \"mrentabilidad_annual_delta2\"       \"mcomisiones_delta2\"               \n",
       "[63] \"mactivos_margen_delta1\"            \"mactivos_margen_delta2\"           \n",
       "[65] \"cproductos_delta1\"                 \"mcuentas_saldo_delta1\"            \n",
       "[67] \"mtarjeta_visa_consumo_delta2\"      \"ccomisiones_mantenimiento_delta1\" \n",
       "[69] \"ccomisiones_mantenimiento_delta2\"  \"ccallcenter_transacciones_delta2\" \n",
       "[71] \"chomebanking_transacciones_delta1\" \"chomebanking_transacciones_delta2\"\n",
       "[73] \"ctrx_quarter_delta1\"               \"ctrx_quarter_delta2\"              \n",
       "[75] \"Visa_mpagominimo_delta2\"           \"vm_mpagominimo_delta1\"            "
      ]
     },
     "metadata": {},
     "output_type": "display_data"
    }
   ],
   "source": [
    "# verifico\n",
    "ncol(dataset)\n",
    "colnames(dataset)\n",
    "\n",
    "add_log(ncol(dataset))"
   ]
  },
  {
   "cell_type": "code",
   "execution_count": 52,
   "id": "30319ea3-8818-4e30-9eb7-ddc651c4a324",
   "metadata": {
    "id": "30319ea3-8818-4e30-9eb7-ddc651c4a324",
    "outputId": "c81b9163-65e0-43ac-a675-63b85bc74f0d"
   },
   "outputs": [
    {
     "name": "stderr",
     "output_type": "stream",
     "text": [
      "Loading required package: GA\n",
      "\n",
      "Loading required package: foreach\n",
      "\n",
      "Loading required package: iterators\n",
      "\n",
      "Package 'GA' version 3.2.4\n",
      "Type 'citation(\"GA\")' for citing this R package in publications.\n",
      "\n",
      "\n",
      "Attaching package: ‘GA’\n",
      "\n",
      "\n",
      "The following object is masked from ‘package:utils’:\n",
      "\n",
      "    de\n",
      "\n",
      "\n",
      "Loading required package: dplyr\n",
      "\n",
      "\n",
      "Attaching package: ‘dplyr’\n",
      "\n",
      "\n",
      "The following objects are masked from ‘package:data.table’:\n",
      "\n",
      "    between, first, last\n",
      "\n",
      "\n",
      "The following objects are masked from ‘package:stats’:\n",
      "\n",
      "    filter, lag\n",
      "\n",
      "\n",
      "The following objects are masked from ‘package:base’:\n",
      "\n",
      "    intersect, setdiff, setequal, union\n",
      "\n",
      "\n"
     ]
    }
   ],
   "source": [
    "# Install and load required packages\n",
    "if (!require(\"GA\")) install.packages(\"GA\")\n",
    "if (!require(\"dplyr\")) install.packages(\"dplyr\")\n",
    "library(GA)\n",
    "library(dplyr)"
   ]
  },
  {
   "cell_type": "code",
   "execution_count": 53,
   "id": "e246cdbe-583e-453e-98a9-78c66bfe3866",
   "metadata": {
    "id": "e246cdbe-583e-453e-98a9-78c66bfe3866"
   },
   "outputs": [],
   "source": [
    "campos_a_omitir = c('numero_de_cliente','foto_mes','azar')"
   ]
  },
  {
   "cell_type": "code",
   "execution_count": 54,
   "id": "173bd02b-fd0b-4ebe-90c3-9278e14ab6be",
   "metadata": {
    "id": "173bd02b-fd0b-4ebe-90c3-9278e14ab6be",
    "outputId": "9da2f5b1-3fda-4b46-ae85-0a13356cc1e9"
   },
   "outputs": [
    {
     "data": {
      "text/html": [
       "<style>\n",
       ".list-inline {list-style: none; margin:0; padding: 0}\n",
       ".list-inline>li {display: inline-block}\n",
       ".list-inline>li:not(:last-child)::after {content: \"\\00b7\"; padding: 0 .5ex}\n",
       "</style>\n",
       "<ol class=list-inline><li>'mrentabilidad'</li><li>'mrentabilidad_annual'</li><li>'mcomisiones'</li><li>'mactivos_margen'</li><li>'mpasivos_margen'</li><li>'mcuenta_corriente'</li><li>'mcaja_ahorro'</li><li>'mcuentas_saldo'</li><li>'mtarjeta_visa_consumo'</li><li>'mtarjeta_master_consumo'</li><li>'mprestamos_personales'</li><li>'Master_mpagominimo'</li><li>'Visa_mpagominimo'</li><li>'mpayroll_sobre_edad'</li><li>'vm_mpagominimo'</li><li>'mrentabilidad_lag1'</li><li>'mrentabilidad_annual_lag1'</li><li>'mcomisiones_lag1'</li><li>'mpasivos_margen_lag1'</li><li>'mcuenta_corriente_lag1'</li><li>'mcaja_ahorro_lag1'</li><li>'mcuentas_saldo_lag1'</li><li>'Visa_mpagominimo_lag1'</li><li>'vm_mpagominimo_lag1'</li><li>'mrentabilidad_lag2'</li><li>'mrentabilidad_annual_lag2'</li><li>'mactivos_margen_lag2'</li><li>'mpasivos_margen_lag2'</li><li>'mcuenta_corriente_lag2'</li><li>'mcaja_ahorro_lag2'</li><li>'mprestamos_personales_lag2'</li><li>'mpayroll_lag2'</li><li>'Visa_mpagominimo_lag2'</li><li>'mrentabilidad_delta2'</li><li>'mrentabilidad_annual_delta1'</li><li>'mrentabilidad_annual_delta2'</li><li>'mcomisiones_delta2'</li><li>'mactivos_margen_delta1'</li><li>'mactivos_margen_delta2'</li><li>'mcuentas_saldo_delta1'</li><li>'mtarjeta_visa_consumo_delta2'</li><li>'Visa_mpagominimo_delta2'</li><li>'vm_mpagominimo_delta1'</li></ol>\n"
      ],
      "text/latex": [
       "\\begin{enumerate*}\n",
       "\\item 'mrentabilidad'\n",
       "\\item 'mrentabilidad\\_annual'\n",
       "\\item 'mcomisiones'\n",
       "\\item 'mactivos\\_margen'\n",
       "\\item 'mpasivos\\_margen'\n",
       "\\item 'mcuenta\\_corriente'\n",
       "\\item 'mcaja\\_ahorro'\n",
       "\\item 'mcuentas\\_saldo'\n",
       "\\item 'mtarjeta\\_visa\\_consumo'\n",
       "\\item 'mtarjeta\\_master\\_consumo'\n",
       "\\item 'mprestamos\\_personales'\n",
       "\\item 'Master\\_mpagominimo'\n",
       "\\item 'Visa\\_mpagominimo'\n",
       "\\item 'mpayroll\\_sobre\\_edad'\n",
       "\\item 'vm\\_mpagominimo'\n",
       "\\item 'mrentabilidad\\_lag1'\n",
       "\\item 'mrentabilidad\\_annual\\_lag1'\n",
       "\\item 'mcomisiones\\_lag1'\n",
       "\\item 'mpasivos\\_margen\\_lag1'\n",
       "\\item 'mcuenta\\_corriente\\_lag1'\n",
       "\\item 'mcaja\\_ahorro\\_lag1'\n",
       "\\item 'mcuentas\\_saldo\\_lag1'\n",
       "\\item 'Visa\\_mpagominimo\\_lag1'\n",
       "\\item 'vm\\_mpagominimo\\_lag1'\n",
       "\\item 'mrentabilidad\\_lag2'\n",
       "\\item 'mrentabilidad\\_annual\\_lag2'\n",
       "\\item 'mactivos\\_margen\\_lag2'\n",
       "\\item 'mpasivos\\_margen\\_lag2'\n",
       "\\item 'mcuenta\\_corriente\\_lag2'\n",
       "\\item 'mcaja\\_ahorro\\_lag2'\n",
       "\\item 'mprestamos\\_personales\\_lag2'\n",
       "\\item 'mpayroll\\_lag2'\n",
       "\\item 'Visa\\_mpagominimo\\_lag2'\n",
       "\\item 'mrentabilidad\\_delta2'\n",
       "\\item 'mrentabilidad\\_annual\\_delta1'\n",
       "\\item 'mrentabilidad\\_annual\\_delta2'\n",
       "\\item 'mcomisiones\\_delta2'\n",
       "\\item 'mactivos\\_margen\\_delta1'\n",
       "\\item 'mactivos\\_margen\\_delta2'\n",
       "\\item 'mcuentas\\_saldo\\_delta1'\n",
       "\\item 'mtarjeta\\_visa\\_consumo\\_delta2'\n",
       "\\item 'Visa\\_mpagominimo\\_delta2'\n",
       "\\item 'vm\\_mpagominimo\\_delta1'\n",
       "\\end{enumerate*}\n"
      ],
      "text/markdown": [
       "1. 'mrentabilidad'\n",
       "2. 'mrentabilidad_annual'\n",
       "3. 'mcomisiones'\n",
       "4. 'mactivos_margen'\n",
       "5. 'mpasivos_margen'\n",
       "6. 'mcuenta_corriente'\n",
       "7. 'mcaja_ahorro'\n",
       "8. 'mcuentas_saldo'\n",
       "9. 'mtarjeta_visa_consumo'\n",
       "10. 'mtarjeta_master_consumo'\n",
       "11. 'mprestamos_personales'\n",
       "12. 'Master_mpagominimo'\n",
       "13. 'Visa_mpagominimo'\n",
       "14. 'mpayroll_sobre_edad'\n",
       "15. 'vm_mpagominimo'\n",
       "16. 'mrentabilidad_lag1'\n",
       "17. 'mrentabilidad_annual_lag1'\n",
       "18. 'mcomisiones_lag1'\n",
       "19. 'mpasivos_margen_lag1'\n",
       "20. 'mcuenta_corriente_lag1'\n",
       "21. 'mcaja_ahorro_lag1'\n",
       "22. 'mcuentas_saldo_lag1'\n",
       "23. 'Visa_mpagominimo_lag1'\n",
       "24. 'vm_mpagominimo_lag1'\n",
       "25. 'mrentabilidad_lag2'\n",
       "26. 'mrentabilidad_annual_lag2'\n",
       "27. 'mactivos_margen_lag2'\n",
       "28. 'mpasivos_margen_lag2'\n",
       "29. 'mcuenta_corriente_lag2'\n",
       "30. 'mcaja_ahorro_lag2'\n",
       "31. 'mprestamos_personales_lag2'\n",
       "32. 'mpayroll_lag2'\n",
       "33. 'Visa_mpagominimo_lag2'\n",
       "34. 'mrentabilidad_delta2'\n",
       "35. 'mrentabilidad_annual_delta1'\n",
       "36. 'mrentabilidad_annual_delta2'\n",
       "37. 'mcomisiones_delta2'\n",
       "38. 'mactivos_margen_delta1'\n",
       "39. 'mactivos_margen_delta2'\n",
       "40. 'mcuentas_saldo_delta1'\n",
       "41. 'mtarjeta_visa_consumo_delta2'\n",
       "42. 'Visa_mpagominimo_delta2'\n",
       "43. 'vm_mpagominimo_delta1'\n",
       "\n",
       "\n"
      ],
      "text/plain": [
       " [1] \"mrentabilidad\"                \"mrentabilidad_annual\"        \n",
       " [3] \"mcomisiones\"                  \"mactivos_margen\"             \n",
       " [5] \"mpasivos_margen\"              \"mcuenta_corriente\"           \n",
       " [7] \"mcaja_ahorro\"                 \"mcuentas_saldo\"              \n",
       " [9] \"mtarjeta_visa_consumo\"        \"mtarjeta_master_consumo\"     \n",
       "[11] \"mprestamos_personales\"        \"Master_mpagominimo\"          \n",
       "[13] \"Visa_mpagominimo\"             \"mpayroll_sobre_edad\"         \n",
       "[15] \"vm_mpagominimo\"               \"mrentabilidad_lag1\"          \n",
       "[17] \"mrentabilidad_annual_lag1\"    \"mcomisiones_lag1\"            \n",
       "[19] \"mpasivos_margen_lag1\"         \"mcuenta_corriente_lag1\"      \n",
       "[21] \"mcaja_ahorro_lag1\"            \"mcuentas_saldo_lag1\"         \n",
       "[23] \"Visa_mpagominimo_lag1\"        \"vm_mpagominimo_lag1\"         \n",
       "[25] \"mrentabilidad_lag2\"           \"mrentabilidad_annual_lag2\"   \n",
       "[27] \"mactivos_margen_lag2\"         \"mpasivos_margen_lag2\"        \n",
       "[29] \"mcuenta_corriente_lag2\"       \"mcaja_ahorro_lag2\"           \n",
       "[31] \"mprestamos_personales_lag2\"   \"mpayroll_lag2\"               \n",
       "[33] \"Visa_mpagominimo_lag2\"        \"mrentabilidad_delta2\"        \n",
       "[35] \"mrentabilidad_annual_delta1\"  \"mrentabilidad_annual_delta2\" \n",
       "[37] \"mcomisiones_delta2\"           \"mactivos_margen_delta1\"      \n",
       "[39] \"mactivos_margen_delta2\"       \"mcuentas_saldo_delta1\"       \n",
       "[41] \"mtarjeta_visa_consumo_delta2\" \"Visa_mpagominimo_delta2\"     \n",
       "[43] \"vm_mpagominimo_delta1\"       "
      ]
     },
     "metadata": {},
     "output_type": "display_data"
    }
   ],
   "source": [
    "campos_monetarios <- colnames(dataset)\n",
    "campos_monetarios <- campos_monetarios[campos_monetarios %like%\n",
    "  \"^(m|Visa_m|Master_m|vm_m)\"]\n",
    "\n",
    "campos_monetarios"
   ]
  },
  {
   "cell_type": "code",
   "execution_count": 55,
   "id": "272e152f-ac70-4f4d-8710-a6b81a679c0f",
   "metadata": {
    "id": "272e152f-ac70-4f4d-8710-a6b81a679c0f",
    "outputId": "af205499-48d4-4da1-b8b6-0e337585a82d"
   },
   "outputs": [
    {
     "data": {
      "text/html": [],
      "text/latex": [],
      "text/markdown": [],
      "text/plain": [
       "character(0)"
      ]
     },
     "metadata": {},
     "output_type": "display_data"
    }
   ],
   "source": [
    "campos_rf <- colnames(dataset)\n",
    "campos_rf <- campos_rf[campos_rf %like%\n",
    "  \"^rf\"]\n",
    "campos_rf"
   ]
  },
  {
   "cell_type": "code",
   "execution_count": 56,
   "id": "3576eb6e-7a25-4680-a9d2-e8013b3f5a58",
   "metadata": {
    "id": "3576eb6e-7a25-4680-a9d2-e8013b3f5a58",
    "outputId": "1081e215-4ebc-44e1-e9f8-bbe3646deeb5"
   },
   "outputs": [
    {
     "data": {
      "text/html": [
       "<style>\n",
       ".list-inline {list-style: none; margin:0; padding: 0}\n",
       ".list-inline>li {display: inline-block}\n",
       ".list-inline>li:not(:last-child)::after {content: \"\\00b7\"; padding: 0 .5ex}\n",
       "</style>\n",
       "<ol class=list-inline><li>'cliente_edad_lag1'</li><li>'chomebanking_transacciones_lag1'</li><li>'Master_fechaalta_lag1'</li><li>'Visa_fechaalta_lag1'</li><li>'ctrx_quarter_normalizado_lag1'</li><li>'vm_fechaalta_lag1'</li><li>'cliente_edad_lag2'</li><li>'cliente_antiguedad_lag2'</li><li>'chomebanking_transacciones_lag2'</li><li>'ctrx_quarter_lag2'</li><li>'Master_fechaalta_lag2'</li><li>'Visa_fechaalta_lag2'</li><li>'cproductos_delta1'</li><li>'ccomisiones_mantenimiento_delta1'</li><li>'ccomisiones_mantenimiento_delta2'</li><li>'ccallcenter_transacciones_delta2'</li><li>'chomebanking_transacciones_delta1'</li><li>'chomebanking_transacciones_delta2'</li><li>'ctrx_quarter_delta1'</li><li>'ctrx_quarter_delta2'</li></ol>\n"
      ],
      "text/latex": [
       "\\begin{enumerate*}\n",
       "\\item 'cliente\\_edad\\_lag1'\n",
       "\\item 'chomebanking\\_transacciones\\_lag1'\n",
       "\\item 'Master\\_fechaalta\\_lag1'\n",
       "\\item 'Visa\\_fechaalta\\_lag1'\n",
       "\\item 'ctrx\\_quarter\\_normalizado\\_lag1'\n",
       "\\item 'vm\\_fechaalta\\_lag1'\n",
       "\\item 'cliente\\_edad\\_lag2'\n",
       "\\item 'cliente\\_antiguedad\\_lag2'\n",
       "\\item 'chomebanking\\_transacciones\\_lag2'\n",
       "\\item 'ctrx\\_quarter\\_lag2'\n",
       "\\item 'Master\\_fechaalta\\_lag2'\n",
       "\\item 'Visa\\_fechaalta\\_lag2'\n",
       "\\item 'cproductos\\_delta1'\n",
       "\\item 'ccomisiones\\_mantenimiento\\_delta1'\n",
       "\\item 'ccomisiones\\_mantenimiento\\_delta2'\n",
       "\\item 'ccallcenter\\_transacciones\\_delta2'\n",
       "\\item 'chomebanking\\_transacciones\\_delta1'\n",
       "\\item 'chomebanking\\_transacciones\\_delta2'\n",
       "\\item 'ctrx\\_quarter\\_delta1'\n",
       "\\item 'ctrx\\_quarter\\_delta2'\n",
       "\\end{enumerate*}\n"
      ],
      "text/markdown": [
       "1. 'cliente_edad_lag1'\n",
       "2. 'chomebanking_transacciones_lag1'\n",
       "3. 'Master_fechaalta_lag1'\n",
       "4. 'Visa_fechaalta_lag1'\n",
       "5. 'ctrx_quarter_normalizado_lag1'\n",
       "6. 'vm_fechaalta_lag1'\n",
       "7. 'cliente_edad_lag2'\n",
       "8. 'cliente_antiguedad_lag2'\n",
       "9. 'chomebanking_transacciones_lag2'\n",
       "10. 'ctrx_quarter_lag2'\n",
       "11. 'Master_fechaalta_lag2'\n",
       "12. 'Visa_fechaalta_lag2'\n",
       "13. 'cproductos_delta1'\n",
       "14. 'ccomisiones_mantenimiento_delta1'\n",
       "15. 'ccomisiones_mantenimiento_delta2'\n",
       "16. 'ccallcenter_transacciones_delta2'\n",
       "17. 'chomebanking_transacciones_delta1'\n",
       "18. 'chomebanking_transacciones_delta2'\n",
       "19. 'ctrx_quarter_delta1'\n",
       "20. 'ctrx_quarter_delta2'\n",
       "\n",
       "\n"
      ],
      "text/plain": [
       " [1] \"cliente_edad_lag1\"                 \"chomebanking_transacciones_lag1\"  \n",
       " [3] \"Master_fechaalta_lag1\"             \"Visa_fechaalta_lag1\"              \n",
       " [5] \"ctrx_quarter_normalizado_lag1\"     \"vm_fechaalta_lag1\"                \n",
       " [7] \"cliente_edad_lag2\"                 \"cliente_antiguedad_lag2\"          \n",
       " [9] \"chomebanking_transacciones_lag2\"   \"ctrx_quarter_lag2\"                \n",
       "[11] \"Master_fechaalta_lag2\"             \"Visa_fechaalta_lag2\"              \n",
       "[13] \"cproductos_delta1\"                 \"ccomisiones_mantenimiento_delta1\" \n",
       "[15] \"ccomisiones_mantenimiento_delta2\"  \"ccallcenter_transacciones_delta2\" \n",
       "[17] \"chomebanking_transacciones_delta1\" \"chomebanking_transacciones_delta2\"\n",
       "[19] \"ctrx_quarter_delta1\"               \"ctrx_quarter_delta2\"              "
      ]
     },
     "metadata": {},
     "output_type": "display_data"
    }
   ],
   "source": [
    "campos_lag <- colnames(dataset)\n",
    "campos_lag <- campos_lag[campos_lag %like%\n",
    "  \"(lag|delta).$\"]\n",
    "campos_lag <- campos_lag[!campos_lag %in% campos_monetarios]\n",
    "campos_lag"
   ]
  },
  {
   "cell_type": "code",
   "execution_count": 57,
   "id": "cceaa838-6d2c-4809-bd21-826d0a16fbd3",
   "metadata": {
    "id": "cceaa838-6d2c-4809-bd21-826d0a16fbd3"
   },
   "outputs": [],
   "source": [
    "is_bool_column <- function(columname) {\n",
    "    tryCatch({\n",
    "      if (class(max(dataset[[columname]])) %in% c('numeric', 'integer')){\n",
    "      maxx = max(dataset[[columname]])\n",
    "      minn = min(dataset[[columname]])\n",
    "      return ((maxx - minn) == 1)\n",
    "} else{\n",
    "          return (FALSE)\n",
    "  }\n",
    "}, error = function(e){\n",
    "        FALSE\n",
    "})}\n",
    "\n",
    "get_non_bool_cols <- function(dataset) {\n",
    "  all_cols <- names(dataset)\n",
    "  bool_cols <- sapply(all_cols, function(col) is_bool_column(dataset, col))\n",
    "  return(all_cols[!bool_cols])\n",
    "}\n"
   ]
  },
  {
   "cell_type": "code",
   "execution_count": 58,
   "id": "ba197991-e286-4780-bfd1-3222b9e44b56",
   "metadata": {
    "id": "ba197991-e286-4780-bfd1-3222b9e44b56"
   },
   "outputs": [],
   "source": [
    "campos_int <- colnames(dataset)\n",
    "campos_int <- campos_int[!campos_int %in% c(campos_a_omitir, campos_monetarios, campos_lag, campos_rf)]\n",
    "campos_int <- campos_int[!sapply(campos_int,is_bool_column)]\n",
    "campos_int = na.omit(campos_int)\n"
   ]
  },
  {
   "cell_type": "code",
   "execution_count": 59,
   "id": "bc1759e2-2207-4bf4-9c0b-2135201572df",
   "metadata": {
    "id": "bc1759e2-2207-4bf4-9c0b-2135201572df",
    "outputId": "743eb771-493d-4846-caf3-3d4c5adc51f7"
   },
   "outputs": [
    {
     "data": {
      "text/html": [
       "<style>\n",
       ".list-inline {list-style: none; margin:0; padding: 0}\n",
       ".list-inline>li {display: inline-block}\n",
       ".list-inline>li:not(:last-child)::after {content: \"\\00b7\"; padding: 0 .5ex}\n",
       "</style>\n",
       "<ol class=list-inline><li>'cliente_edad_lag1'</li><li>'chomebanking_transacciones_lag1'</li><li>'Master_fechaalta_lag1'</li><li>'Visa_fechaalta_lag1'</li><li>'ctrx_quarter_normalizado_lag1'</li><li>'vm_fechaalta_lag1'</li><li>'cliente_edad_lag2'</li><li>'cliente_antiguedad_lag2'</li><li>'chomebanking_transacciones_lag2'</li><li>'ctrx_quarter_lag2'</li><li>'Master_fechaalta_lag2'</li><li>'Visa_fechaalta_lag2'</li><li>'cproductos_delta1'</li><li>'ccomisiones_mantenimiento_delta1'</li><li>'ccomisiones_mantenimiento_delta2'</li><li>'ccallcenter_transacciones_delta2'</li><li>'chomebanking_transacciones_delta1'</li><li>'chomebanking_transacciones_delta2'</li><li>'ctrx_quarter_delta1'</li><li>'ctrx_quarter_delta2'</li></ol>\n"
      ],
      "text/latex": [
       "\\begin{enumerate*}\n",
       "\\item 'cliente\\_edad\\_lag1'\n",
       "\\item 'chomebanking\\_transacciones\\_lag1'\n",
       "\\item 'Master\\_fechaalta\\_lag1'\n",
       "\\item 'Visa\\_fechaalta\\_lag1'\n",
       "\\item 'ctrx\\_quarter\\_normalizado\\_lag1'\n",
       "\\item 'vm\\_fechaalta\\_lag1'\n",
       "\\item 'cliente\\_edad\\_lag2'\n",
       "\\item 'cliente\\_antiguedad\\_lag2'\n",
       "\\item 'chomebanking\\_transacciones\\_lag2'\n",
       "\\item 'ctrx\\_quarter\\_lag2'\n",
       "\\item 'Master\\_fechaalta\\_lag2'\n",
       "\\item 'Visa\\_fechaalta\\_lag2'\n",
       "\\item 'cproductos\\_delta1'\n",
       "\\item 'ccomisiones\\_mantenimiento\\_delta1'\n",
       "\\item 'ccomisiones\\_mantenimiento\\_delta2'\n",
       "\\item 'ccallcenter\\_transacciones\\_delta2'\n",
       "\\item 'chomebanking\\_transacciones\\_delta1'\n",
       "\\item 'chomebanking\\_transacciones\\_delta2'\n",
       "\\item 'ctrx\\_quarter\\_delta1'\n",
       "\\item 'ctrx\\_quarter\\_delta2'\n",
       "\\end{enumerate*}\n"
      ],
      "text/markdown": [
       "1. 'cliente_edad_lag1'\n",
       "2. 'chomebanking_transacciones_lag1'\n",
       "3. 'Master_fechaalta_lag1'\n",
       "4. 'Visa_fechaalta_lag1'\n",
       "5. 'ctrx_quarter_normalizado_lag1'\n",
       "6. 'vm_fechaalta_lag1'\n",
       "7. 'cliente_edad_lag2'\n",
       "8. 'cliente_antiguedad_lag2'\n",
       "9. 'chomebanking_transacciones_lag2'\n",
       "10. 'ctrx_quarter_lag2'\n",
       "11. 'Master_fechaalta_lag2'\n",
       "12. 'Visa_fechaalta_lag2'\n",
       "13. 'cproductos_delta1'\n",
       "14. 'ccomisiones_mantenimiento_delta1'\n",
       "15. 'ccomisiones_mantenimiento_delta2'\n",
       "16. 'ccallcenter_transacciones_delta2'\n",
       "17. 'chomebanking_transacciones_delta1'\n",
       "18. 'chomebanking_transacciones_delta2'\n",
       "19. 'ctrx_quarter_delta1'\n",
       "20. 'ctrx_quarter_delta2'\n",
       "\n",
       "\n"
      ],
      "text/plain": [
       " [1] \"cliente_edad_lag1\"                 \"chomebanking_transacciones_lag1\"  \n",
       " [3] \"Master_fechaalta_lag1\"             \"Visa_fechaalta_lag1\"              \n",
       " [5] \"ctrx_quarter_normalizado_lag1\"     \"vm_fechaalta_lag1\"                \n",
       " [7] \"cliente_edad_lag2\"                 \"cliente_antiguedad_lag2\"          \n",
       " [9] \"chomebanking_transacciones_lag2\"   \"ctrx_quarter_lag2\"                \n",
       "[11] \"Master_fechaalta_lag2\"             \"Visa_fechaalta_lag2\"              \n",
       "[13] \"cproductos_delta1\"                 \"ccomisiones_mantenimiento_delta1\" \n",
       "[15] \"ccomisiones_mantenimiento_delta2\"  \"ccallcenter_transacciones_delta2\" \n",
       "[17] \"chomebanking_transacciones_delta1\" \"chomebanking_transacciones_delta2\"\n",
       "[19] \"ctrx_quarter_delta1\"               \"ctrx_quarter_delta2\"              "
      ]
     },
     "metadata": {},
     "output_type": "display_data"
    },
    {
     "data": {
      "text/html": [
       "<style>\n",
       ".list-inline {list-style: none; margin:0; padding: 0}\n",
       ".list-inline>li {display: inline-block}\n",
       ".list-inline>li:not(:last-child)::after {content: \"\\00b7\"; padding: 0 .5ex}\n",
       "</style>\n",
       "<ol class=list-inline><li>'cliente_edad'</li><li>'cproductos'</li><li>'cpayroll_trx'</li><li>'ccomisiones_mantenimiento'</li><li>'clase_ternaria'</li><li>'ctrx_quarter_normalizado'</li></ol>\n"
      ],
      "text/latex": [
       "\\begin{enumerate*}\n",
       "\\item 'cliente\\_edad'\n",
       "\\item 'cproductos'\n",
       "\\item 'cpayroll\\_trx'\n",
       "\\item 'ccomisiones\\_mantenimiento'\n",
       "\\item 'clase\\_ternaria'\n",
       "\\item 'ctrx\\_quarter\\_normalizado'\n",
       "\\end{enumerate*}\n"
      ],
      "text/markdown": [
       "1. 'cliente_edad'\n",
       "2. 'cproductos'\n",
       "3. 'cpayroll_trx'\n",
       "4. 'ccomisiones_mantenimiento'\n",
       "5. 'clase_ternaria'\n",
       "6. 'ctrx_quarter_normalizado'\n",
       "\n",
       "\n"
      ],
      "text/plain": [
       "[1] \"cliente_edad\"              \"cproductos\"               \n",
       "[3] \"cpayroll_trx\"              \"ccomisiones_mantenimiento\"\n",
       "[5] \"clase_ternaria\"            \"ctrx_quarter_normalizado\" \n",
       "attr(,\"na.action\")\n",
       "[1] 3 6 7 8\n",
       "attr(,\"class\")\n",
       "[1] \"omit\""
      ]
     },
     "metadata": {},
     "output_type": "display_data"
    },
    {
     "data": {
      "text/html": [],
      "text/latex": [],
      "text/markdown": [],
      "text/plain": [
       "character(0)"
      ]
     },
     "metadata": {},
     "output_type": "display_data"
    },
    {
     "data": {
      "text/html": [
       "<style>\n",
       ".list-inline {list-style: none; margin:0; padding: 0}\n",
       ".list-inline>li {display: inline-block}\n",
       ".list-inline>li:not(:last-child)::after {content: \"\\00b7\"; padding: 0 .5ex}\n",
       "</style>\n",
       "<ol class=list-inline><li>'mrentabilidad'</li><li>'mrentabilidad_annual'</li><li>'mcomisiones'</li><li>'mactivos_margen'</li><li>'mpasivos_margen'</li><li>'mcuenta_corriente'</li><li>'mcaja_ahorro'</li><li>'mcuentas_saldo'</li><li>'mtarjeta_visa_consumo'</li><li>'mtarjeta_master_consumo'</li><li>'mprestamos_personales'</li><li>'Master_mpagominimo'</li><li>'Visa_mpagominimo'</li><li>'mpayroll_sobre_edad'</li><li>'vm_mpagominimo'</li><li>'mrentabilidad_lag1'</li><li>'mrentabilidad_annual_lag1'</li><li>'mcomisiones_lag1'</li><li>'mpasivos_margen_lag1'</li><li>'mcuenta_corriente_lag1'</li><li>'mcaja_ahorro_lag1'</li><li>'mcuentas_saldo_lag1'</li><li>'Visa_mpagominimo_lag1'</li><li>'vm_mpagominimo_lag1'</li><li>'mrentabilidad_lag2'</li><li>'mrentabilidad_annual_lag2'</li><li>'mactivos_margen_lag2'</li><li>'mpasivos_margen_lag2'</li><li>'mcuenta_corriente_lag2'</li><li>'mcaja_ahorro_lag2'</li><li>'mprestamos_personales_lag2'</li><li>'mpayroll_lag2'</li><li>'Visa_mpagominimo_lag2'</li><li>'mrentabilidad_delta2'</li><li>'mrentabilidad_annual_delta1'</li><li>'mrentabilidad_annual_delta2'</li><li>'mcomisiones_delta2'</li><li>'mactivos_margen_delta1'</li><li>'mactivos_margen_delta2'</li><li>'mcuentas_saldo_delta1'</li><li>'mtarjeta_visa_consumo_delta2'</li><li>'Visa_mpagominimo_delta2'</li><li>'vm_mpagominimo_delta1'</li></ol>\n"
      ],
      "text/latex": [
       "\\begin{enumerate*}\n",
       "\\item 'mrentabilidad'\n",
       "\\item 'mrentabilidad\\_annual'\n",
       "\\item 'mcomisiones'\n",
       "\\item 'mactivos\\_margen'\n",
       "\\item 'mpasivos\\_margen'\n",
       "\\item 'mcuenta\\_corriente'\n",
       "\\item 'mcaja\\_ahorro'\n",
       "\\item 'mcuentas\\_saldo'\n",
       "\\item 'mtarjeta\\_visa\\_consumo'\n",
       "\\item 'mtarjeta\\_master\\_consumo'\n",
       "\\item 'mprestamos\\_personales'\n",
       "\\item 'Master\\_mpagominimo'\n",
       "\\item 'Visa\\_mpagominimo'\n",
       "\\item 'mpayroll\\_sobre\\_edad'\n",
       "\\item 'vm\\_mpagominimo'\n",
       "\\item 'mrentabilidad\\_lag1'\n",
       "\\item 'mrentabilidad\\_annual\\_lag1'\n",
       "\\item 'mcomisiones\\_lag1'\n",
       "\\item 'mpasivos\\_margen\\_lag1'\n",
       "\\item 'mcuenta\\_corriente\\_lag1'\n",
       "\\item 'mcaja\\_ahorro\\_lag1'\n",
       "\\item 'mcuentas\\_saldo\\_lag1'\n",
       "\\item 'Visa\\_mpagominimo\\_lag1'\n",
       "\\item 'vm\\_mpagominimo\\_lag1'\n",
       "\\item 'mrentabilidad\\_lag2'\n",
       "\\item 'mrentabilidad\\_annual\\_lag2'\n",
       "\\item 'mactivos\\_margen\\_lag2'\n",
       "\\item 'mpasivos\\_margen\\_lag2'\n",
       "\\item 'mcuenta\\_corriente\\_lag2'\n",
       "\\item 'mcaja\\_ahorro\\_lag2'\n",
       "\\item 'mprestamos\\_personales\\_lag2'\n",
       "\\item 'mpayroll\\_lag2'\n",
       "\\item 'Visa\\_mpagominimo\\_lag2'\n",
       "\\item 'mrentabilidad\\_delta2'\n",
       "\\item 'mrentabilidad\\_annual\\_delta1'\n",
       "\\item 'mrentabilidad\\_annual\\_delta2'\n",
       "\\item 'mcomisiones\\_delta2'\n",
       "\\item 'mactivos\\_margen\\_delta1'\n",
       "\\item 'mactivos\\_margen\\_delta2'\n",
       "\\item 'mcuentas\\_saldo\\_delta1'\n",
       "\\item 'mtarjeta\\_visa\\_consumo\\_delta2'\n",
       "\\item 'Visa\\_mpagominimo\\_delta2'\n",
       "\\item 'vm\\_mpagominimo\\_delta1'\n",
       "\\end{enumerate*}\n"
      ],
      "text/markdown": [
       "1. 'mrentabilidad'\n",
       "2. 'mrentabilidad_annual'\n",
       "3. 'mcomisiones'\n",
       "4. 'mactivos_margen'\n",
       "5. 'mpasivos_margen'\n",
       "6. 'mcuenta_corriente'\n",
       "7. 'mcaja_ahorro'\n",
       "8. 'mcuentas_saldo'\n",
       "9. 'mtarjeta_visa_consumo'\n",
       "10. 'mtarjeta_master_consumo'\n",
       "11. 'mprestamos_personales'\n",
       "12. 'Master_mpagominimo'\n",
       "13. 'Visa_mpagominimo'\n",
       "14. 'mpayroll_sobre_edad'\n",
       "15. 'vm_mpagominimo'\n",
       "16. 'mrentabilidad_lag1'\n",
       "17. 'mrentabilidad_annual_lag1'\n",
       "18. 'mcomisiones_lag1'\n",
       "19. 'mpasivos_margen_lag1'\n",
       "20. 'mcuenta_corriente_lag1'\n",
       "21. 'mcaja_ahorro_lag1'\n",
       "22. 'mcuentas_saldo_lag1'\n",
       "23. 'Visa_mpagominimo_lag1'\n",
       "24. 'vm_mpagominimo_lag1'\n",
       "25. 'mrentabilidad_lag2'\n",
       "26. 'mrentabilidad_annual_lag2'\n",
       "27. 'mactivos_margen_lag2'\n",
       "28. 'mpasivos_margen_lag2'\n",
       "29. 'mcuenta_corriente_lag2'\n",
       "30. 'mcaja_ahorro_lag2'\n",
       "31. 'mprestamos_personales_lag2'\n",
       "32. 'mpayroll_lag2'\n",
       "33. 'Visa_mpagominimo_lag2'\n",
       "34. 'mrentabilidad_delta2'\n",
       "35. 'mrentabilidad_annual_delta1'\n",
       "36. 'mrentabilidad_annual_delta2'\n",
       "37. 'mcomisiones_delta2'\n",
       "38. 'mactivos_margen_delta1'\n",
       "39. 'mactivos_margen_delta2'\n",
       "40. 'mcuentas_saldo_delta1'\n",
       "41. 'mtarjeta_visa_consumo_delta2'\n",
       "42. 'Visa_mpagominimo_delta2'\n",
       "43. 'vm_mpagominimo_delta1'\n",
       "\n",
       "\n"
      ],
      "text/plain": [
       " [1] \"mrentabilidad\"                \"mrentabilidad_annual\"        \n",
       " [3] \"mcomisiones\"                  \"mactivos_margen\"             \n",
       " [5] \"mpasivos_margen\"              \"mcuenta_corriente\"           \n",
       " [7] \"mcaja_ahorro\"                 \"mcuentas_saldo\"              \n",
       " [9] \"mtarjeta_visa_consumo\"        \"mtarjeta_master_consumo\"     \n",
       "[11] \"mprestamos_personales\"        \"Master_mpagominimo\"          \n",
       "[13] \"Visa_mpagominimo\"             \"mpayroll_sobre_edad\"         \n",
       "[15] \"vm_mpagominimo\"               \"mrentabilidad_lag1\"          \n",
       "[17] \"mrentabilidad_annual_lag1\"    \"mcomisiones_lag1\"            \n",
       "[19] \"mpasivos_margen_lag1\"         \"mcuenta_corriente_lag1\"      \n",
       "[21] \"mcaja_ahorro_lag1\"            \"mcuentas_saldo_lag1\"         \n",
       "[23] \"Visa_mpagominimo_lag1\"        \"vm_mpagominimo_lag1\"         \n",
       "[25] \"mrentabilidad_lag2\"           \"mrentabilidad_annual_lag2\"   \n",
       "[27] \"mactivos_margen_lag2\"         \"mpasivos_margen_lag2\"        \n",
       "[29] \"mcuenta_corriente_lag2\"       \"mcaja_ahorro_lag2\"           \n",
       "[31] \"mprestamos_personales_lag2\"   \"mpayroll_lag2\"               \n",
       "[33] \"Visa_mpagominimo_lag2\"        \"mrentabilidad_delta2\"        \n",
       "[35] \"mrentabilidad_annual_delta1\"  \"mrentabilidad_annual_delta2\" \n",
       "[37] \"mcomisiones_delta2\"           \"mactivos_margen_delta1\"      \n",
       "[39] \"mactivos_margen_delta2\"       \"mcuentas_saldo_delta1\"       \n",
       "[41] \"mtarjeta_visa_consumo_delta2\" \"Visa_mpagominimo_delta2\"     \n",
       "[43] \"vm_mpagominimo_delta1\"       "
      ]
     },
     "metadata": {},
     "output_type": "display_data"
    }
   ],
   "source": [
    "campos_lag\n",
    "campos_int\n",
    "campos_rf\n",
    "campos_monetarios"
   ]
  },
  {
   "cell_type": "code",
   "execution_count": 60,
   "id": "8a5d3788-c9fa-4131-aa36-4fecae06c598",
   "metadata": {
    "id": "8a5d3788-c9fa-4131-aa36-4fecae06c598",
    "outputId": "43051feb-23c4-4e05-d9e7-d42e568a908f"
   },
   "outputs": [
    {
     "data": {
      "text/html": [
       "<style>\n",
       ".list-inline {list-style: none; margin:0; padding: 0}\n",
       ".list-inline>li {display: inline-block}\n",
       ".list-inline>li:not(:last-child)::after {content: \"\\00b7\"; padding: 0 .5ex}\n",
       "</style>\n",
       "<ol class=list-inline><li>'numero_de_cliente'</li><li>'foto_mes'</li><li>'cliente_edad'</li><li>'mrentabilidad'</li><li>'mrentabilidad_annual'</li><li>'mcomisiones'</li><li>'mactivos_margen'</li><li>'mpasivos_margen'</li><li>'cproductos'</li><li>'mcuenta_corriente'</li><li>'mcaja_ahorro'</li><li>'cdescubierto_preacordado'</li><li>'mcuentas_saldo'</li><li>'ctarjeta_visa_transacciones'</li><li>'mtarjeta_visa_consumo'</li><li>'mtarjeta_master_consumo'</li><li>'mprestamos_personales'</li><li>'cpayroll_trx'</li><li>'ccomisiones_mantenimiento'</li><li>'chomebanking_transacciones'</li><li>'Master_fechaalta'</li><li>'Master_mpagominimo'</li><li>'Visa_fechaalta'</li><li>'Visa_mpagominimo'</li><li>'clase_ternaria'</li><li>'mpayroll_sobre_edad'</li><li>'ctrx_quarter_normalizado'</li><li>'vm_mpagominimo'</li><li>'cliente_edad_lag1'</li><li>'mrentabilidad_lag1'</li><li>'mrentabilidad_annual_lag1'</li><li>'mcomisiones_lag1'</li><li>'mpasivos_margen_lag1'</li><li>'mcuenta_corriente_lag1'</li><li>'mcaja_ahorro_lag1'</li><li>'mcuentas_saldo_lag1'</li><li>'chomebanking_transacciones_lag1'</li><li>'Master_fechaalta_lag1'</li><li>'Visa_fechaalta_lag1'</li><li>'Visa_mpagominimo_lag1'</li><li>'ctrx_quarter_normalizado_lag1'</li><li>'vm_fechaalta_lag1'</li><li>'vm_mpagominimo_lag1'</li><li>'cliente_edad_lag2'</li><li>'cliente_antiguedad_lag2'</li><li>'mrentabilidad_lag2'</li><li>'mrentabilidad_annual_lag2'</li><li>'mactivos_margen_lag2'</li><li>'mpasivos_margen_lag2'</li><li>'mcuenta_corriente_lag2'</li><li>'mcaja_ahorro_lag2'</li><li>'mprestamos_personales_lag2'</li><li>'mpayroll_lag2'</li><li>'chomebanking_transacciones_lag2'</li><li>'ctrx_quarter_lag2'</li><li>'Master_fechaalta_lag2'</li><li>'Visa_fechaalta_lag2'</li><li>'Visa_mpagominimo_lag2'</li><li>'mrentabilidad_delta2'</li><li>'mrentabilidad_annual_delta1'</li><li>'mrentabilidad_annual_delta2'</li><li>'mcomisiones_delta2'</li><li>'mactivos_margen_delta1'</li><li>'mactivos_margen_delta2'</li><li>'cproductos_delta1'</li><li>'mcuentas_saldo_delta1'</li><li>'mtarjeta_visa_consumo_delta2'</li><li>'ccomisiones_mantenimiento_delta1'</li><li>'ccomisiones_mantenimiento_delta2'</li><li>'ccallcenter_transacciones_delta2'</li><li>'chomebanking_transacciones_delta1'</li><li>'chomebanking_transacciones_delta2'</li><li>'ctrx_quarter_delta1'</li><li>'ctrx_quarter_delta2'</li><li>'Visa_mpagominimo_delta2'</li><li>'vm_mpagominimo_delta1'</li></ol>\n"
      ],
      "text/latex": [
       "\\begin{enumerate*}\n",
       "\\item 'numero\\_de\\_cliente'\n",
       "\\item 'foto\\_mes'\n",
       "\\item 'cliente\\_edad'\n",
       "\\item 'mrentabilidad'\n",
       "\\item 'mrentabilidad\\_annual'\n",
       "\\item 'mcomisiones'\n",
       "\\item 'mactivos\\_margen'\n",
       "\\item 'mpasivos\\_margen'\n",
       "\\item 'cproductos'\n",
       "\\item 'mcuenta\\_corriente'\n",
       "\\item 'mcaja\\_ahorro'\n",
       "\\item 'cdescubierto\\_preacordado'\n",
       "\\item 'mcuentas\\_saldo'\n",
       "\\item 'ctarjeta\\_visa\\_transacciones'\n",
       "\\item 'mtarjeta\\_visa\\_consumo'\n",
       "\\item 'mtarjeta\\_master\\_consumo'\n",
       "\\item 'mprestamos\\_personales'\n",
       "\\item 'cpayroll\\_trx'\n",
       "\\item 'ccomisiones\\_mantenimiento'\n",
       "\\item 'chomebanking\\_transacciones'\n",
       "\\item 'Master\\_fechaalta'\n",
       "\\item 'Master\\_mpagominimo'\n",
       "\\item 'Visa\\_fechaalta'\n",
       "\\item 'Visa\\_mpagominimo'\n",
       "\\item 'clase\\_ternaria'\n",
       "\\item 'mpayroll\\_sobre\\_edad'\n",
       "\\item 'ctrx\\_quarter\\_normalizado'\n",
       "\\item 'vm\\_mpagominimo'\n",
       "\\item 'cliente\\_edad\\_lag1'\n",
       "\\item 'mrentabilidad\\_lag1'\n",
       "\\item 'mrentabilidad\\_annual\\_lag1'\n",
       "\\item 'mcomisiones\\_lag1'\n",
       "\\item 'mpasivos\\_margen\\_lag1'\n",
       "\\item 'mcuenta\\_corriente\\_lag1'\n",
       "\\item 'mcaja\\_ahorro\\_lag1'\n",
       "\\item 'mcuentas\\_saldo\\_lag1'\n",
       "\\item 'chomebanking\\_transacciones\\_lag1'\n",
       "\\item 'Master\\_fechaalta\\_lag1'\n",
       "\\item 'Visa\\_fechaalta\\_lag1'\n",
       "\\item 'Visa\\_mpagominimo\\_lag1'\n",
       "\\item 'ctrx\\_quarter\\_normalizado\\_lag1'\n",
       "\\item 'vm\\_fechaalta\\_lag1'\n",
       "\\item 'vm\\_mpagominimo\\_lag1'\n",
       "\\item 'cliente\\_edad\\_lag2'\n",
       "\\item 'cliente\\_antiguedad\\_lag2'\n",
       "\\item 'mrentabilidad\\_lag2'\n",
       "\\item 'mrentabilidad\\_annual\\_lag2'\n",
       "\\item 'mactivos\\_margen\\_lag2'\n",
       "\\item 'mpasivos\\_margen\\_lag2'\n",
       "\\item 'mcuenta\\_corriente\\_lag2'\n",
       "\\item 'mcaja\\_ahorro\\_lag2'\n",
       "\\item 'mprestamos\\_personales\\_lag2'\n",
       "\\item 'mpayroll\\_lag2'\n",
       "\\item 'chomebanking\\_transacciones\\_lag2'\n",
       "\\item 'ctrx\\_quarter\\_lag2'\n",
       "\\item 'Master\\_fechaalta\\_lag2'\n",
       "\\item 'Visa\\_fechaalta\\_lag2'\n",
       "\\item 'Visa\\_mpagominimo\\_lag2'\n",
       "\\item 'mrentabilidad\\_delta2'\n",
       "\\item 'mrentabilidad\\_annual\\_delta1'\n",
       "\\item 'mrentabilidad\\_annual\\_delta2'\n",
       "\\item 'mcomisiones\\_delta2'\n",
       "\\item 'mactivos\\_margen\\_delta1'\n",
       "\\item 'mactivos\\_margen\\_delta2'\n",
       "\\item 'cproductos\\_delta1'\n",
       "\\item 'mcuentas\\_saldo\\_delta1'\n",
       "\\item 'mtarjeta\\_visa\\_consumo\\_delta2'\n",
       "\\item 'ccomisiones\\_mantenimiento\\_delta1'\n",
       "\\item 'ccomisiones\\_mantenimiento\\_delta2'\n",
       "\\item 'ccallcenter\\_transacciones\\_delta2'\n",
       "\\item 'chomebanking\\_transacciones\\_delta1'\n",
       "\\item 'chomebanking\\_transacciones\\_delta2'\n",
       "\\item 'ctrx\\_quarter\\_delta1'\n",
       "\\item 'ctrx\\_quarter\\_delta2'\n",
       "\\item 'Visa\\_mpagominimo\\_delta2'\n",
       "\\item 'vm\\_mpagominimo\\_delta1'\n",
       "\\end{enumerate*}\n"
      ],
      "text/markdown": [
       "1. 'numero_de_cliente'\n",
       "2. 'foto_mes'\n",
       "3. 'cliente_edad'\n",
       "4. 'mrentabilidad'\n",
       "5. 'mrentabilidad_annual'\n",
       "6. 'mcomisiones'\n",
       "7. 'mactivos_margen'\n",
       "8. 'mpasivos_margen'\n",
       "9. 'cproductos'\n",
       "10. 'mcuenta_corriente'\n",
       "11. 'mcaja_ahorro'\n",
       "12. 'cdescubierto_preacordado'\n",
       "13. 'mcuentas_saldo'\n",
       "14. 'ctarjeta_visa_transacciones'\n",
       "15. 'mtarjeta_visa_consumo'\n",
       "16. 'mtarjeta_master_consumo'\n",
       "17. 'mprestamos_personales'\n",
       "18. 'cpayroll_trx'\n",
       "19. 'ccomisiones_mantenimiento'\n",
       "20. 'chomebanking_transacciones'\n",
       "21. 'Master_fechaalta'\n",
       "22. 'Master_mpagominimo'\n",
       "23. 'Visa_fechaalta'\n",
       "24. 'Visa_mpagominimo'\n",
       "25. 'clase_ternaria'\n",
       "26. 'mpayroll_sobre_edad'\n",
       "27. 'ctrx_quarter_normalizado'\n",
       "28. 'vm_mpagominimo'\n",
       "29. 'cliente_edad_lag1'\n",
       "30. 'mrentabilidad_lag1'\n",
       "31. 'mrentabilidad_annual_lag1'\n",
       "32. 'mcomisiones_lag1'\n",
       "33. 'mpasivos_margen_lag1'\n",
       "34. 'mcuenta_corriente_lag1'\n",
       "35. 'mcaja_ahorro_lag1'\n",
       "36. 'mcuentas_saldo_lag1'\n",
       "37. 'chomebanking_transacciones_lag1'\n",
       "38. 'Master_fechaalta_lag1'\n",
       "39. 'Visa_fechaalta_lag1'\n",
       "40. 'Visa_mpagominimo_lag1'\n",
       "41. 'ctrx_quarter_normalizado_lag1'\n",
       "42. 'vm_fechaalta_lag1'\n",
       "43. 'vm_mpagominimo_lag1'\n",
       "44. 'cliente_edad_lag2'\n",
       "45. 'cliente_antiguedad_lag2'\n",
       "46. 'mrentabilidad_lag2'\n",
       "47. 'mrentabilidad_annual_lag2'\n",
       "48. 'mactivos_margen_lag2'\n",
       "49. 'mpasivos_margen_lag2'\n",
       "50. 'mcuenta_corriente_lag2'\n",
       "51. 'mcaja_ahorro_lag2'\n",
       "52. 'mprestamos_personales_lag2'\n",
       "53. 'mpayroll_lag2'\n",
       "54. 'chomebanking_transacciones_lag2'\n",
       "55. 'ctrx_quarter_lag2'\n",
       "56. 'Master_fechaalta_lag2'\n",
       "57. 'Visa_fechaalta_lag2'\n",
       "58. 'Visa_mpagominimo_lag2'\n",
       "59. 'mrentabilidad_delta2'\n",
       "60. 'mrentabilidad_annual_delta1'\n",
       "61. 'mrentabilidad_annual_delta2'\n",
       "62. 'mcomisiones_delta2'\n",
       "63. 'mactivos_margen_delta1'\n",
       "64. 'mactivos_margen_delta2'\n",
       "65. 'cproductos_delta1'\n",
       "66. 'mcuentas_saldo_delta1'\n",
       "67. 'mtarjeta_visa_consumo_delta2'\n",
       "68. 'ccomisiones_mantenimiento_delta1'\n",
       "69. 'ccomisiones_mantenimiento_delta2'\n",
       "70. 'ccallcenter_transacciones_delta2'\n",
       "71. 'chomebanking_transacciones_delta1'\n",
       "72. 'chomebanking_transacciones_delta2'\n",
       "73. 'ctrx_quarter_delta1'\n",
       "74. 'ctrx_quarter_delta2'\n",
       "75. 'Visa_mpagominimo_delta2'\n",
       "76. 'vm_mpagominimo_delta1'\n",
       "\n",
       "\n"
      ],
      "text/plain": [
       " [1] \"numero_de_cliente\"                 \"foto_mes\"                         \n",
       " [3] \"cliente_edad\"                      \"mrentabilidad\"                    \n",
       " [5] \"mrentabilidad_annual\"              \"mcomisiones\"                      \n",
       " [7] \"mactivos_margen\"                   \"mpasivos_margen\"                  \n",
       " [9] \"cproductos\"                        \"mcuenta_corriente\"                \n",
       "[11] \"mcaja_ahorro\"                      \"cdescubierto_preacordado\"         \n",
       "[13] \"mcuentas_saldo\"                    \"ctarjeta_visa_transacciones\"      \n",
       "[15] \"mtarjeta_visa_consumo\"             \"mtarjeta_master_consumo\"          \n",
       "[17] \"mprestamos_personales\"             \"cpayroll_trx\"                     \n",
       "[19] \"ccomisiones_mantenimiento\"         \"chomebanking_transacciones\"       \n",
       "[21] \"Master_fechaalta\"                  \"Master_mpagominimo\"               \n",
       "[23] \"Visa_fechaalta\"                    \"Visa_mpagominimo\"                 \n",
       "[25] \"clase_ternaria\"                    \"mpayroll_sobre_edad\"              \n",
       "[27] \"ctrx_quarter_normalizado\"          \"vm_mpagominimo\"                   \n",
       "[29] \"cliente_edad_lag1\"                 \"mrentabilidad_lag1\"               \n",
       "[31] \"mrentabilidad_annual_lag1\"         \"mcomisiones_lag1\"                 \n",
       "[33] \"mpasivos_margen_lag1\"              \"mcuenta_corriente_lag1\"           \n",
       "[35] \"mcaja_ahorro_lag1\"                 \"mcuentas_saldo_lag1\"              \n",
       "[37] \"chomebanking_transacciones_lag1\"   \"Master_fechaalta_lag1\"            \n",
       "[39] \"Visa_fechaalta_lag1\"               \"Visa_mpagominimo_lag1\"            \n",
       "[41] \"ctrx_quarter_normalizado_lag1\"     \"vm_fechaalta_lag1\"                \n",
       "[43] \"vm_mpagominimo_lag1\"               \"cliente_edad_lag2\"                \n",
       "[45] \"cliente_antiguedad_lag2\"           \"mrentabilidad_lag2\"               \n",
       "[47] \"mrentabilidad_annual_lag2\"         \"mactivos_margen_lag2\"             \n",
       "[49] \"mpasivos_margen_lag2\"              \"mcuenta_corriente_lag2\"           \n",
       "[51] \"mcaja_ahorro_lag2\"                 \"mprestamos_personales_lag2\"       \n",
       "[53] \"mpayroll_lag2\"                     \"chomebanking_transacciones_lag2\"  \n",
       "[55] \"ctrx_quarter_lag2\"                 \"Master_fechaalta_lag2\"            \n",
       "[57] \"Visa_fechaalta_lag2\"               \"Visa_mpagominimo_lag2\"            \n",
       "[59] \"mrentabilidad_delta2\"              \"mrentabilidad_annual_delta1\"      \n",
       "[61] \"mrentabilidad_annual_delta2\"       \"mcomisiones_delta2\"               \n",
       "[63] \"mactivos_margen_delta1\"            \"mactivos_margen_delta2\"           \n",
       "[65] \"cproductos_delta1\"                 \"mcuentas_saldo_delta1\"            \n",
       "[67] \"mtarjeta_visa_consumo_delta2\"      \"ccomisiones_mantenimiento_delta1\" \n",
       "[69] \"ccomisiones_mantenimiento_delta2\"  \"ccallcenter_transacciones_delta2\" \n",
       "[71] \"chomebanking_transacciones_delta1\" \"chomebanking_transacciones_delta2\"\n",
       "[73] \"ctrx_quarter_delta1\"               \"ctrx_quarter_delta2\"              \n",
       "[75] \"Visa_mpagominimo_delta2\"           \"vm_mpagominimo_delta1\"            "
      ]
     },
     "metadata": {},
     "output_type": "display_data"
    }
   ],
   "source": [
    "colnames(dataset)"
   ]
  },
  {
   "cell_type": "code",
   "execution_count": null,
   "id": "bf647c64-4af2-41c4-989d-d0789da16128",
   "metadata": {
    "id": "bf647c64-4af2-41c4-989d-d0789da16128"
   },
   "outputs": [],
   "source": []
  },
  {
   "cell_type": "markdown",
   "id": "e2d3d60e-9934-4aab-befe-5c0009148abb",
   "metadata": {
    "id": "e2d3d60e-9934-4aab-befe-5c0009148abb"
   },
   "source": [
    "# Genetic Algorithm"
   ]
  },
  {
   "cell_type": "markdown",
   "id": "208399ac-efc6-4327-9229-809b5eb9f51a",
   "metadata": {
    "id": "208399ac-efc6-4327-9229-809b5eb9f51a"
   },
   "source": [
    "## GA Test"
   ]
  },
  {
   "cell_type": "code",
   "execution_count": 61,
   "id": "5cba0808-ec21-4863-848f-5da11f50a371",
   "metadata": {
    "colab": {
     "base_uri": "https://localhost:8080/"
    },
    "id": "5cba0808-ec21-4863-848f-5da11f50a371",
    "outputId": "b3ed4d8d-e46d-40e4-dfbc-6cfd7ce2169b"
   },
   "outputs": [
    {
     "name": "stderr",
     "output_type": "stream",
     "text": [
      "Loading required package: gramEvol\n",
      "\n"
     ]
    }
   ],
   "source": [
    "if( !require(\"gramEvol\")) install.packages(\"gramEvol\")\n",
    "if( !require(\"GA\")) install.packages(\"GA\")"
   ]
  },
  {
   "cell_type": "code",
   "execution_count": 62,
   "id": "47ed32ec-24cd-4ade-b39e-a1c99c12c367",
   "metadata": {
    "colab": {
     "base_uri": "https://localhost:8080/",
     "height": 306
    },
    "id": "47ed32ec-24cd-4ade-b39e-a1c99c12c367",
    "outputId": "4e1f842b-be47-402e-b904-c0acc3fba12b"
   },
   "outputs": [
    {
     "data": {
      "text/html": [
       "<table class=\"dataframe\">\n",
       "<caption>A data.table: 6 × 76</caption>\n",
       "<thead>\n",
       "\t<tr><th scope=col>numero_de_cliente</th><th scope=col>foto_mes</th><th scope=col>cliente_edad</th><th scope=col>mrentabilidad</th><th scope=col>mrentabilidad_annual</th><th scope=col>mcomisiones</th><th scope=col>mactivos_margen</th><th scope=col>mpasivos_margen</th><th scope=col>cproductos</th><th scope=col>mcuenta_corriente</th><th scope=col>⋯</th><th scope=col>mtarjeta_visa_consumo_delta2</th><th scope=col>ccomisiones_mantenimiento_delta1</th><th scope=col>ccomisiones_mantenimiento_delta2</th><th scope=col>ccallcenter_transacciones_delta2</th><th scope=col>chomebanking_transacciones_delta1</th><th scope=col>chomebanking_transacciones_delta2</th><th scope=col>ctrx_quarter_delta1</th><th scope=col>ctrx_quarter_delta2</th><th scope=col>Visa_mpagominimo_delta2</th><th scope=col>vm_mpagominimo_delta1</th></tr>\n",
       "\t<tr><th scope=col>&lt;int&gt;</th><th scope=col>&lt;int&gt;</th><th scope=col>&lt;int&gt;</th><th scope=col>&lt;dbl&gt;</th><th scope=col>&lt;dbl&gt;</th><th scope=col>&lt;dbl&gt;</th><th scope=col>&lt;dbl&gt;</th><th scope=col>&lt;dbl&gt;</th><th scope=col>&lt;int&gt;</th><th scope=col>&lt;dbl&gt;</th><th scope=col>⋯</th><th scope=col>&lt;dbl&gt;</th><th scope=col>&lt;int&gt;</th><th scope=col>&lt;int&gt;</th><th scope=col>&lt;int&gt;</th><th scope=col>&lt;int&gt;</th><th scope=col>&lt;int&gt;</th><th scope=col>&lt;int&gt;</th><th scope=col>&lt;int&gt;</th><th scope=col>&lt;dbl&gt;</th><th scope=col>&lt;dbl&gt;</th></tr>\n",
       "</thead>\n",
       "<tbody>\n",
       "\t<tr><td>29186441</td><td>202005</td><td>61</td><td>2853.880</td><td>53033.33</td><td>2038.534</td><td>-168.4741</td><td> 863.5782</td><td>7</td><td>0</td><td>⋯</td><td>       NA</td><td>NA</td><td>NA</td><td>NA</td><td> NA</td><td> NA</td><td> NA</td><td>NA</td><td>       NA</td><td>         NA</td></tr>\n",
       "\t<tr><td>29186441</td><td>202006</td><td>61</td><td>      NA</td><td>      NA</td><td>      NA</td><td>       NA</td><td>       NA</td><td>7</td><td>0</td><td>⋯</td><td>       NA</td><td> 0</td><td>NA</td><td>NA</td><td> NA</td><td> NA</td><td>-15</td><td>NA</td><td>       NA</td><td>-247.790951</td></tr>\n",
       "\t<tr><td>29186441</td><td>202007</td><td>61</td><td>3052.337</td><td>53831.51</td><td>1970.036</td><td>-217.1336</td><td>1139.8112</td><td>7</td><td>0</td><td>⋯</td><td>-734.8005</td><td> 0</td><td> 0</td><td> 0</td><td> NA</td><td> 21</td><td> 18</td><td> 3</td><td>-71.77407</td><td> 176.016884</td></tr>\n",
       "\t<tr><td>29186441</td><td>202008</td><td>61</td><td>4120.270</td><td>55020.54</td><td>1921.690</td><td>-228.3395</td><td>2102.6622</td><td>7</td><td>0</td><td>⋯</td><td>       NA</td><td> 0</td><td> 0</td><td>NA</td><td>-23</td><td> NA</td><td>  2</td><td>20</td><td>170.19916</td><td>  -5.817727</td></tr>\n",
       "\t<tr><td>29186441</td><td>202009</td><td>61</td><td>4586.567</td><td>55348.24</td><td>1962.288</td><td>-236.0629</td><td>2473.2988</td><td>7</td><td>0</td><td>⋯</td><td>2080.3284</td><td> 0</td><td> 0</td><td> 0</td><td>  0</td><td>-23</td><td> -1</td><td> 1</td><td>104.61587</td><td> 110.433600</td></tr>\n",
       "\t<tr><td>29186441</td><td>202010</td><td>61</td><td>5379.173</td><td>56610.47</td><td>1895.436</td><td>-220.9813</td><td>3190.9252</td><td>7</td><td>0</td><td>⋯</td><td>1247.2643</td><td> 0</td><td> 0</td><td> 0</td><td> 24</td><td> 24</td><td>  5</td><td> 4</td><td>228.20554</td><td> 117.771945</td></tr>\n",
       "</tbody>\n",
       "</table>\n"
      ],
      "text/latex": [
       "A data.table: 6 × 76\n",
       "\\begin{tabular}{lllllllllllllllllllll}\n",
       " numero\\_de\\_cliente & foto\\_mes & cliente\\_edad & mrentabilidad & mrentabilidad\\_annual & mcomisiones & mactivos\\_margen & mpasivos\\_margen & cproductos & mcuenta\\_corriente & ⋯ & mtarjeta\\_visa\\_consumo\\_delta2 & ccomisiones\\_mantenimiento\\_delta1 & ccomisiones\\_mantenimiento\\_delta2 & ccallcenter\\_transacciones\\_delta2 & chomebanking\\_transacciones\\_delta1 & chomebanking\\_transacciones\\_delta2 & ctrx\\_quarter\\_delta1 & ctrx\\_quarter\\_delta2 & Visa\\_mpagominimo\\_delta2 & vm\\_mpagominimo\\_delta1\\\\\n",
       " <int> & <int> & <int> & <dbl> & <dbl> & <dbl> & <dbl> & <dbl> & <int> & <dbl> & ⋯ & <dbl> & <int> & <int> & <int> & <int> & <int> & <int> & <int> & <dbl> & <dbl>\\\\\n",
       "\\hline\n",
       "\t 29186441 & 202005 & 61 & 2853.880 & 53033.33 & 2038.534 & -168.4741 &  863.5782 & 7 & 0 & ⋯ &        NA & NA & NA & NA &  NA &  NA &  NA & NA &        NA &          NA\\\\\n",
       "\t 29186441 & 202006 & 61 &       NA &       NA &       NA &        NA &        NA & 7 & 0 & ⋯ &        NA &  0 & NA & NA &  NA &  NA & -15 & NA &        NA & -247.790951\\\\\n",
       "\t 29186441 & 202007 & 61 & 3052.337 & 53831.51 & 1970.036 & -217.1336 & 1139.8112 & 7 & 0 & ⋯ & -734.8005 &  0 &  0 &  0 &  NA &  21 &  18 &  3 & -71.77407 &  176.016884\\\\\n",
       "\t 29186441 & 202008 & 61 & 4120.270 & 55020.54 & 1921.690 & -228.3395 & 2102.6622 & 7 & 0 & ⋯ &        NA &  0 &  0 & NA & -23 &  NA &   2 & 20 & 170.19916 &   -5.817727\\\\\n",
       "\t 29186441 & 202009 & 61 & 4586.567 & 55348.24 & 1962.288 & -236.0629 & 2473.2988 & 7 & 0 & ⋯ & 2080.3284 &  0 &  0 &  0 &   0 & -23 &  -1 &  1 & 104.61587 &  110.433600\\\\\n",
       "\t 29186441 & 202010 & 61 & 5379.173 & 56610.47 & 1895.436 & -220.9813 & 3190.9252 & 7 & 0 & ⋯ & 1247.2643 &  0 &  0 &  0 &  24 &  24 &   5 &  4 & 228.20554 &  117.771945\\\\\n",
       "\\end{tabular}\n"
      ],
      "text/markdown": [
       "\n",
       "A data.table: 6 × 76\n",
       "\n",
       "| numero_de_cliente &lt;int&gt; | foto_mes &lt;int&gt; | cliente_edad &lt;int&gt; | mrentabilidad &lt;dbl&gt; | mrentabilidad_annual &lt;dbl&gt; | mcomisiones &lt;dbl&gt; | mactivos_margen &lt;dbl&gt; | mpasivos_margen &lt;dbl&gt; | cproductos &lt;int&gt; | mcuenta_corriente &lt;dbl&gt; | ⋯ ⋯ | mtarjeta_visa_consumo_delta2 &lt;dbl&gt; | ccomisiones_mantenimiento_delta1 &lt;int&gt; | ccomisiones_mantenimiento_delta2 &lt;int&gt; | ccallcenter_transacciones_delta2 &lt;int&gt; | chomebanking_transacciones_delta1 &lt;int&gt; | chomebanking_transacciones_delta2 &lt;int&gt; | ctrx_quarter_delta1 &lt;int&gt; | ctrx_quarter_delta2 &lt;int&gt; | Visa_mpagominimo_delta2 &lt;dbl&gt; | vm_mpagominimo_delta1 &lt;dbl&gt; |\n",
       "|---|---|---|---|---|---|---|---|---|---|---|---|---|---|---|---|---|---|---|---|---|\n",
       "| 29186441 | 202005 | 61 | 2853.880 | 53033.33 | 2038.534 | -168.4741 |  863.5782 | 7 | 0 | ⋯ |        NA | NA | NA | NA |  NA |  NA |  NA | NA |        NA |          NA |\n",
       "| 29186441 | 202006 | 61 |       NA |       NA |       NA |        NA |        NA | 7 | 0 | ⋯ |        NA |  0 | NA | NA |  NA |  NA | -15 | NA |        NA | -247.790951 |\n",
       "| 29186441 | 202007 | 61 | 3052.337 | 53831.51 | 1970.036 | -217.1336 | 1139.8112 | 7 | 0 | ⋯ | -734.8005 |  0 |  0 |  0 |  NA |  21 |  18 |  3 | -71.77407 |  176.016884 |\n",
       "| 29186441 | 202008 | 61 | 4120.270 | 55020.54 | 1921.690 | -228.3395 | 2102.6622 | 7 | 0 | ⋯ |        NA |  0 |  0 | NA | -23 |  NA |   2 | 20 | 170.19916 |   -5.817727 |\n",
       "| 29186441 | 202009 | 61 | 4586.567 | 55348.24 | 1962.288 | -236.0629 | 2473.2988 | 7 | 0 | ⋯ | 2080.3284 |  0 |  0 |  0 |   0 | -23 |  -1 |  1 | 104.61587 |  110.433600 |\n",
       "| 29186441 | 202010 | 61 | 5379.173 | 56610.47 | 1895.436 | -220.9813 | 3190.9252 | 7 | 0 | ⋯ | 1247.2643 |  0 |  0 |  0 |  24 |  24 |   5 |  4 | 228.20554 |  117.771945 |\n",
       "\n"
      ],
      "text/plain": [
       "  numero_de_cliente foto_mes cliente_edad mrentabilidad mrentabilidad_annual\n",
       "1 29186441          202005   61           2853.880      53033.33            \n",
       "2 29186441          202006   61                 NA            NA            \n",
       "3 29186441          202007   61           3052.337      53831.51            \n",
       "4 29186441          202008   61           4120.270      55020.54            \n",
       "5 29186441          202009   61           4586.567      55348.24            \n",
       "6 29186441          202010   61           5379.173      56610.47            \n",
       "  mcomisiones mactivos_margen mpasivos_margen cproductos mcuenta_corriente ⋯\n",
       "1 2038.534    -168.4741        863.5782       7          0                 ⋯\n",
       "2       NA           NA              NA       7          0                 ⋯\n",
       "3 1970.036    -217.1336       1139.8112       7          0                 ⋯\n",
       "4 1921.690    -228.3395       2102.6622       7          0                 ⋯\n",
       "5 1962.288    -236.0629       2473.2988       7          0                 ⋯\n",
       "6 1895.436    -220.9813       3190.9252       7          0                 ⋯\n",
       "  mtarjeta_visa_consumo_delta2 ccomisiones_mantenimiento_delta1\n",
       "1        NA                    NA                              \n",
       "2        NA                     0                              \n",
       "3 -734.8005                     0                              \n",
       "4        NA                     0                              \n",
       "5 2080.3284                     0                              \n",
       "6 1247.2643                     0                              \n",
       "  ccomisiones_mantenimiento_delta2 ccallcenter_transacciones_delta2\n",
       "1 NA                               NA                              \n",
       "2 NA                               NA                              \n",
       "3  0                                0                              \n",
       "4  0                               NA                              \n",
       "5  0                                0                              \n",
       "6  0                                0                              \n",
       "  chomebanking_transacciones_delta1 chomebanking_transacciones_delta2\n",
       "1  NA                                NA                              \n",
       "2  NA                                NA                              \n",
       "3  NA                                21                              \n",
       "4 -23                                NA                              \n",
       "5   0                               -23                              \n",
       "6  24                                24                              \n",
       "  ctrx_quarter_delta1 ctrx_quarter_delta2 Visa_mpagominimo_delta2\n",
       "1  NA                 NA                         NA              \n",
       "2 -15                 NA                         NA              \n",
       "3  18                  3                  -71.77407              \n",
       "4   2                 20                  170.19916              \n",
       "5  -1                  1                  104.61587              \n",
       "6   5                  4                  228.20554              \n",
       "  vm_mpagominimo_delta1\n",
       "1          NA          \n",
       "2 -247.790951          \n",
       "3  176.016884          \n",
       "4   -5.817727          \n",
       "5  110.433600          \n",
       "6  117.771945          "
      ]
     },
     "metadata": {},
     "output_type": "display_data"
    }
   ],
   "source": [
    "genetic_dataset = copy(dataset)\n",
    "head(genetic_dataset)"
   ]
  },
  {
   "cell_type": "code",
   "execution_count": 68,
   "id": "91061886-74c4-42c3-93b7-927100cbff49",
   "metadata": {
    "id": "91061886-74c4-42c3-93b7-927100cbff49"
   },
   "outputs": [],
   "source": [
    "safeEval <- function(expr) {\n",
    "  val <- try(eval(parse(text = expr), envir = dataset), silent = TRUE)\n",
    "  #if (inherits(val, \"try-error\") || any(is.nan(val)) || any(is.infinite(val))) {\n",
    "  #  return(rep(NA, nrow(df)))\n",
    "  #}\n",
    "  val\n",
    "}\n"
   ]
  },
  {
   "cell_type": "code",
   "execution_count": 69,
   "id": "faa52a34-9dc8-4bb8-b3a5-e968d4e2dd6a",
   "metadata": {
    "colab": {
     "base_uri": "https://localhost:8080/",
     "height": 393
    },
    "id": "faa52a34-9dc8-4bb8-b3a5-e968d4e2dd6a",
    "outputId": "e7c034c1-0573-48d4-e83d-a9f5d8e150af"
   },
   "outputs": [
    {
     "data": {
      "text/html": [
       "<table class=\"dataframe\">\n",
       "<caption>A data.table: 6 × 576</caption>\n",
       "<thead>\n",
       "\t<tr><th scope=col>numero_de_cliente</th><th scope=col>foto_mes</th><th scope=col>cliente_edad</th><th scope=col>mrentabilidad</th><th scope=col>mrentabilidad_annual</th><th scope=col>mcomisiones</th><th scope=col>mactivos_margen</th><th scope=col>mpasivos_margen</th><th scope=col>cproductos</th><th scope=col>mcuenta_corriente</th><th scope=col>⋯</th><th scope=col>gen_491</th><th scope=col>gen_492</th><th scope=col>gen_493</th><th scope=col>gen_494</th><th scope=col>gen_495</th><th scope=col>gen_496</th><th scope=col>gen_497</th><th scope=col>gen_498</th><th scope=col>gen_499</th><th scope=col>gen_500</th></tr>\n",
       "\t<tr><th scope=col>&lt;int&gt;</th><th scope=col>&lt;int&gt;</th><th scope=col>&lt;int&gt;</th><th scope=col>&lt;dbl&gt;</th><th scope=col>&lt;dbl&gt;</th><th scope=col>&lt;dbl&gt;</th><th scope=col>&lt;dbl&gt;</th><th scope=col>&lt;dbl&gt;</th><th scope=col>&lt;int&gt;</th><th scope=col>&lt;dbl&gt;</th><th scope=col>⋯</th><th scope=col>&lt;lgl&gt;</th><th scope=col>&lt;lgl&gt;</th><th scope=col>&lt;lgl&gt;</th><th scope=col>&lt;try-errr&gt;</th><th scope=col>&lt;lgl&gt;</th><th scope=col>&lt;lgl&gt;</th><th scope=col>&lt;lgl&gt;</th><th scope=col>&lt;lgl&gt;</th><th scope=col>&lt;lgl&gt;</th><th scope=col>&lt;lgl&gt;</th></tr>\n",
       "</thead>\n",
       "<tbody>\n",
       "\t<tr><td>29186441</td><td>202005</td><td>61</td><td>2853.880</td><td>53033.33</td><td>2038.534</td><td>-168.4741</td><td> 863.5782</td><td>7</td><td>0</td><td>⋯</td><td>  NA</td><td>  NA</td><td>TRUE</td><td>Error in FUN(left, right) : non-numeric argument to binary operator\n",
       "</td><td>  NA</td><td>TRUE</td><td>TRUE</td><td>TRUE</td><td>TRUE</td><td>TRUE</td></tr>\n",
       "\t<tr><td>29186441</td><td>202006</td><td>61</td><td>      NA</td><td>      NA</td><td>      NA</td><td>       NA</td><td>       NA</td><td>7</td><td>0</td><td>⋯</td><td>TRUE</td><td>  NA</td><td>TRUE</td><td>Error in FUN(left, right) : non-numeric argument to binary operator\n",
       "</td><td>TRUE</td><td>TRUE</td><td>TRUE</td><td>TRUE</td><td>TRUE</td><td>TRUE</td></tr>\n",
       "\t<tr><td>29186441</td><td>202007</td><td>61</td><td>3052.337</td><td>53831.51</td><td>1970.036</td><td>-217.1336</td><td>1139.8112</td><td>7</td><td>0</td><td>⋯</td><td>  NA</td><td>TRUE</td><td>TRUE</td><td>Error in FUN(left, right) : non-numeric argument to binary operator\n",
       "</td><td>  NA</td><td>TRUE</td><td>TRUE</td><td>TRUE</td><td>TRUE</td><td>TRUE</td></tr>\n",
       "\t<tr><td>29186441</td><td>202008</td><td>61</td><td>4120.270</td><td>55020.54</td><td>1921.690</td><td>-228.3395</td><td>2102.6622</td><td>7</td><td>0</td><td>⋯</td><td>TRUE</td><td>  NA</td><td>TRUE</td><td>Error in FUN(left, right) : non-numeric argument to binary operator\n",
       "</td><td>TRUE</td><td>TRUE</td><td>TRUE</td><td>TRUE</td><td>TRUE</td><td>TRUE</td></tr>\n",
       "\t<tr><td>29186441</td><td>202009</td><td>61</td><td>4586.567</td><td>55348.24</td><td>1962.288</td><td>-236.0629</td><td>2473.2988</td><td>7</td><td>0</td><td>⋯</td><td>TRUE</td><td>TRUE</td><td>TRUE</td><td>Error in FUN(left, right) : non-numeric argument to binary operator\n",
       "</td><td>TRUE</td><td>TRUE</td><td>TRUE</td><td>TRUE</td><td>TRUE</td><td>TRUE</td></tr>\n",
       "\t<tr><td>29186441</td><td>202010</td><td>61</td><td>5379.173</td><td>56610.47</td><td>1895.436</td><td>-220.9813</td><td>3190.9252</td><td>7</td><td>0</td><td>⋯</td><td>TRUE</td><td>TRUE</td><td>TRUE</td><td>Error in FUN(left, right) : non-numeric argument to binary operator\n",
       "</td><td>TRUE</td><td>TRUE</td><td>TRUE</td><td>TRUE</td><td>TRUE</td><td>TRUE</td></tr>\n",
       "</tbody>\n",
       "</table>\n"
      ],
      "text/latex": [
       "A data.table: 6 × 576\n",
       "\\begin{tabular}{lllllllllllllllllllll}\n",
       " numero\\_de\\_cliente & foto\\_mes & cliente\\_edad & mrentabilidad & mrentabilidad\\_annual & mcomisiones & mactivos\\_margen & mpasivos\\_margen & cproductos & mcuenta\\_corriente & ⋯ & gen\\_491 & gen\\_492 & gen\\_493 & gen\\_494 & gen\\_495 & gen\\_496 & gen\\_497 & gen\\_498 & gen\\_499 & gen\\_500\\\\\n",
       " <int> & <int> & <int> & <dbl> & <dbl> & <dbl> & <dbl> & <dbl> & <int> & <dbl> & ⋯ & <lgl> & <lgl> & <lgl> & <try-errr> & <lgl> & <lgl> & <lgl> & <lgl> & <lgl> & <lgl>\\\\\n",
       "\\hline\n",
       "\t 29186441 & 202005 & 61 & 2853.880 & 53033.33 & 2038.534 & -168.4741 &  863.5782 & 7 & 0 & ⋯ &   NA &   NA & TRUE & Error in FUN(left, right) : non-numeric argument to binary operator\n",
       " &   NA & TRUE & TRUE & TRUE & TRUE & TRUE\\\\\n",
       "\t 29186441 & 202006 & 61 &       NA &       NA &       NA &        NA &        NA & 7 & 0 & ⋯ & TRUE &   NA & TRUE & Error in FUN(left, right) : non-numeric argument to binary operator\n",
       " & TRUE & TRUE & TRUE & TRUE & TRUE & TRUE\\\\\n",
       "\t 29186441 & 202007 & 61 & 3052.337 & 53831.51 & 1970.036 & -217.1336 & 1139.8112 & 7 & 0 & ⋯ &   NA & TRUE & TRUE & Error in FUN(left, right) : non-numeric argument to binary operator\n",
       " &   NA & TRUE & TRUE & TRUE & TRUE & TRUE\\\\\n",
       "\t 29186441 & 202008 & 61 & 4120.270 & 55020.54 & 1921.690 & -228.3395 & 2102.6622 & 7 & 0 & ⋯ & TRUE &   NA & TRUE & Error in FUN(left, right) : non-numeric argument to binary operator\n",
       " & TRUE & TRUE & TRUE & TRUE & TRUE & TRUE\\\\\n",
       "\t 29186441 & 202009 & 61 & 4586.567 & 55348.24 & 1962.288 & -236.0629 & 2473.2988 & 7 & 0 & ⋯ & TRUE & TRUE & TRUE & Error in FUN(left, right) : non-numeric argument to binary operator\n",
       " & TRUE & TRUE & TRUE & TRUE & TRUE & TRUE\\\\\n",
       "\t 29186441 & 202010 & 61 & 5379.173 & 56610.47 & 1895.436 & -220.9813 & 3190.9252 & 7 & 0 & ⋯ & TRUE & TRUE & TRUE & Error in FUN(left, right) : non-numeric argument to binary operator\n",
       " & TRUE & TRUE & TRUE & TRUE & TRUE & TRUE\\\\\n",
       "\\end{tabular}\n"
      ],
      "text/markdown": [
       "\n",
       "A data.table: 6 × 576\n",
       "\n",
       "| numero_de_cliente &lt;int&gt; | foto_mes &lt;int&gt; | cliente_edad &lt;int&gt; | mrentabilidad &lt;dbl&gt; | mrentabilidad_annual &lt;dbl&gt; | mcomisiones &lt;dbl&gt; | mactivos_margen &lt;dbl&gt; | mpasivos_margen &lt;dbl&gt; | cproductos &lt;int&gt; | mcuenta_corriente &lt;dbl&gt; | ⋯ ⋯ | gen_491 &lt;lgl&gt; | gen_492 &lt;lgl&gt; | gen_493 &lt;lgl&gt; | gen_494 &lt;try-errr&gt; | gen_495 &lt;lgl&gt; | gen_496 &lt;lgl&gt; | gen_497 &lt;lgl&gt; | gen_498 &lt;lgl&gt; | gen_499 &lt;lgl&gt; | gen_500 &lt;lgl&gt; |\n",
       "|---|---|---|---|---|---|---|---|---|---|---|---|---|---|---|---|---|---|---|---|---|\n",
       "| 29186441 | 202005 | 61 | 2853.880 | 53033.33 | 2038.534 | -168.4741 |  863.5782 | 7 | 0 | ⋯ |   NA |   NA | TRUE | Error in FUN(left, right) : non-numeric argument to binary operator\n",
       " |   NA | TRUE | TRUE | TRUE | TRUE | TRUE |\n",
       "| 29186441 | 202006 | 61 |       NA |       NA |       NA |        NA |        NA | 7 | 0 | ⋯ | TRUE |   NA | TRUE | Error in FUN(left, right) : non-numeric argument to binary operator\n",
       " | TRUE | TRUE | TRUE | TRUE | TRUE | TRUE |\n",
       "| 29186441 | 202007 | 61 | 3052.337 | 53831.51 | 1970.036 | -217.1336 | 1139.8112 | 7 | 0 | ⋯ |   NA | TRUE | TRUE | Error in FUN(left, right) : non-numeric argument to binary operator\n",
       " |   NA | TRUE | TRUE | TRUE | TRUE | TRUE |\n",
       "| 29186441 | 202008 | 61 | 4120.270 | 55020.54 | 1921.690 | -228.3395 | 2102.6622 | 7 | 0 | ⋯ | TRUE |   NA | TRUE | Error in FUN(left, right) : non-numeric argument to binary operator\n",
       " | TRUE | TRUE | TRUE | TRUE | TRUE | TRUE |\n",
       "| 29186441 | 202009 | 61 | 4586.567 | 55348.24 | 1962.288 | -236.0629 | 2473.2988 | 7 | 0 | ⋯ | TRUE | TRUE | TRUE | Error in FUN(left, right) : non-numeric argument to binary operator\n",
       " | TRUE | TRUE | TRUE | TRUE | TRUE | TRUE |\n",
       "| 29186441 | 202010 | 61 | 5379.173 | 56610.47 | 1895.436 | -220.9813 | 3190.9252 | 7 | 0 | ⋯ | TRUE | TRUE | TRUE | Error in FUN(left, right) : non-numeric argument to binary operator\n",
       " | TRUE | TRUE | TRUE | TRUE | TRUE | TRUE |\n",
       "\n"
      ],
      "text/plain": [
       "  numero_de_cliente foto_mes cliente_edad mrentabilidad mrentabilidad_annual\n",
       "1 29186441          202005   61           2853.880      53033.33            \n",
       "2 29186441          202006   61                 NA            NA            \n",
       "3 29186441          202007   61           3052.337      53831.51            \n",
       "4 29186441          202008   61           4120.270      55020.54            \n",
       "5 29186441          202009   61           4586.567      55348.24            \n",
       "6 29186441          202010   61           5379.173      56610.47            \n",
       "  mcomisiones mactivos_margen mpasivos_margen cproductos mcuenta_corriente ⋯\n",
       "1 2038.534    -168.4741        863.5782       7          0                 ⋯\n",
       "2       NA           NA              NA       7          0                 ⋯\n",
       "3 1970.036    -217.1336       1139.8112       7          0                 ⋯\n",
       "4 1921.690    -228.3395       2102.6622       7          0                 ⋯\n",
       "5 1962.288    -236.0629       2473.2988       7          0                 ⋯\n",
       "6 1895.436    -220.9813       3190.9252       7          0                 ⋯\n",
       "  gen_491 gen_492 gen_493\n",
       "1   NA      NA    TRUE   \n",
       "2 TRUE      NA    TRUE   \n",
       "3   NA    TRUE    TRUE   \n",
       "4 TRUE      NA    TRUE   \n",
       "5 TRUE    TRUE    TRUE   \n",
       "6 TRUE    TRUE    TRUE   \n",
       "  gen_494                                                               gen_495\n",
       "1 Error in FUN(left, right) : non-numeric argument to binary operator\\n   NA   \n",
       "2 Error in FUN(left, right) : non-numeric argument to binary operator\\n TRUE   \n",
       "3 Error in FUN(left, right) : non-numeric argument to binary operator\\n   NA   \n",
       "4 Error in FUN(left, right) : non-numeric argument to binary operator\\n TRUE   \n",
       "5 Error in FUN(left, right) : non-numeric argument to binary operator\\n TRUE   \n",
       "6 Error in FUN(left, right) : non-numeric argument to binary operator\\n TRUE   \n",
       "  gen_496 gen_497 gen_498 gen_499 gen_500\n",
       "1 TRUE    TRUE    TRUE    TRUE    TRUE   \n",
       "2 TRUE    TRUE    TRUE    TRUE    TRUE   \n",
       "3 TRUE    TRUE    TRUE    TRUE    TRUE   \n",
       "4 TRUE    TRUE    TRUE    TRUE    TRUE   \n",
       "5 TRUE    TRUE    TRUE    TRUE    TRUE   \n",
       "6 TRUE    TRUE    TRUE    TRUE    TRUE   "
      ]
     },
     "metadata": {},
     "output_type": "display_data"
    }
   ],
   "source": [
    "# Grammar definition\n",
    "grammarDef <- CreateGrammar(list(\n",
    "  expr = gsrule(\"genetic_dataset[,<m_var>]+genetic_dataset[,<m_var>]|genetic_dataset[,<m_var>]/genetic_dataset[,<i_var>]|genetic_dataset[,<i_var>]*genetic_dataset[,<i_var>]\"),\n",
    "  m_var  = gvrule(campos_monetarios),\n",
    "  i_var  = gvrule(campos_int)\n",
    "))\n",
    "\n",
    "# Function to generate a new column from grammar\n",
    "generate_column <- function() {\n",
    "  expr_str <- GrammarRandomExpression(grammarDef, startSymb = GrammarStartSymbol(grammarDef))\n",
    "  # Evaluate the generated expression\n",
    "  val <- safeEval(expr_str)\n",
    "  return(val)\n",
    "}\n",
    "\n",
    "# Number of new features\n",
    "gen_columns <- 500\n",
    "for (i in 1:gen_columns) {\n",
    "\n",
    "  new_col <- generate_column()\n",
    "  genetic_dataset[, paste0(\"gen_\", i):= new_col]\n",
    "}\n",
    "\n",
    "head(genetic_dataset)"
   ]
  },
  {
   "cell_type": "code",
   "execution_count": 70,
   "id": "c3be23fb-1527-438a-82e4-306f71a0cd0e",
   "metadata": {
    "colab": {
     "base_uri": "https://localhost:8080/",
     "height": 92
    },
    "id": "c3be23fb-1527-438a-82e4-306f71a0cd0e",
    "outputId": "8f0f9923-58fd-4dfe-e2d8-994726db5051"
   },
   "outputs": [],
   "source": [
    "\n",
    "infinitos <- lapply(\n",
    "    names(genetic_dataset),\n",
    "    function(.name) genetic_dataset[, sum(is.infinite(get(.name)))]\n",
    "  )\n",
    "\n",
    "  infinitos_qty <- sum(unlist(infinitos))\n",
    "  if (infinitos_qty > 0) {\n",
    "    cat(\n",
    "      \"ATENCION, hay\", infinitos_qty,\n",
    "      \"valores infinitos en tu dataset. Seran pasados a NA\\n\"\n",
    "    )\n",
    "        add_log(paste0(\n",
    "      \"ATENCION, hay \", infinitos_qty,\n",
    "      \"valores infinitos en tu dataset. Seran pasados a NA\\n\")\n",
    "    )\n",
    "\n",
    "    genetic_dataset[mapply(is.infinite, genetic_dataset)] <<- NA\n",
    "  }\n",
    "\n",
    "\n",
    "  # valvula de seguridad para evitar valores NaN  que es 0/0\n",
    "  # paso los NaN a 0 , decision polemica si las hay\n",
    "  # se invita a asignar un valor razonable segun la semantica del campo creado\n",
    "  nans <- lapply(\n",
    "    names(genetic_dataset),\n",
    "    function(.name) genetic_dataset[, sum(is.nan(get(.name)))]\n",
    "  )\n",
    "\n",
    "  nans_qty <- sum(unlist(nans))\n",
    "  if (nans_qty > 0) {\n",
    "    cat(\n",
    "      \"ATENCION, hay\", nans_qty,\n",
    "      \"valores NaN 0/0 en tu dataset. Seran pasados arbitrariamente a 0\\n\"\n",
    "    )\n",
    "\n",
    "    add_log(\n",
    "      paste0(\"ATENCION, hay\", nans_qty,\n",
    "      \"valores NaN 0/0 en tu dataset. Seran pasados arbitrariamente a 0\\n\"\n",
    "    ))\n",
    "\n",
    "    cat(\"Si no te gusta la decision, modifica a gusto el programa!\\n\\n\")\n",
    "    add_log(\"Si no te gusta la decision, modifica a gusto el programa!\\n\\n\")\n",
    "\n",
    "\n",
    "    genetic_dataset[mapply(is.nan, genetic_dataset)] <<- 0\n",
    "      }"
   ]
  },
  {
   "cell_type": "code",
   "execution_count": 71,
   "id": "6993450a-4581-49ab-81f9-862ca3695e59",
   "metadata": {
    "colab": {
     "base_uri": "https://localhost:8080/",
     "height": 393
    },
    "id": "6993450a-4581-49ab-81f9-862ca3695e59",
    "outputId": "4a562046-fbd4-4576-cbd6-04442dbf0ff8"
   },
   "outputs": [
    {
     "data": {
      "text/html": [
       "<table class=\"dataframe\">\n",
       "<caption>A data.table: 6 × 576</caption>\n",
       "<thead>\n",
       "\t<tr><th scope=col>numero_de_cliente</th><th scope=col>foto_mes</th><th scope=col>cliente_edad</th><th scope=col>mrentabilidad</th><th scope=col>mrentabilidad_annual</th><th scope=col>mcomisiones</th><th scope=col>mactivos_margen</th><th scope=col>mpasivos_margen</th><th scope=col>cproductos</th><th scope=col>mcuenta_corriente</th><th scope=col>⋯</th><th scope=col>gen_491</th><th scope=col>gen_492</th><th scope=col>gen_493</th><th scope=col>gen_494</th><th scope=col>gen_495</th><th scope=col>gen_496</th><th scope=col>gen_497</th><th scope=col>gen_498</th><th scope=col>gen_499</th><th scope=col>gen_500</th></tr>\n",
       "\t<tr><th scope=col>&lt;int&gt;</th><th scope=col>&lt;int&gt;</th><th scope=col>&lt;int&gt;</th><th scope=col>&lt;dbl&gt;</th><th scope=col>&lt;dbl&gt;</th><th scope=col>&lt;dbl&gt;</th><th scope=col>&lt;dbl&gt;</th><th scope=col>&lt;dbl&gt;</th><th scope=col>&lt;int&gt;</th><th scope=col>&lt;dbl&gt;</th><th scope=col>⋯</th><th scope=col>&lt;lgl&gt;</th><th scope=col>&lt;lgl&gt;</th><th scope=col>&lt;lgl&gt;</th><th scope=col>&lt;try-errr&gt;</th><th scope=col>&lt;lgl&gt;</th><th scope=col>&lt;lgl&gt;</th><th scope=col>&lt;lgl&gt;</th><th scope=col>&lt;lgl&gt;</th><th scope=col>&lt;lgl&gt;</th><th scope=col>&lt;lgl&gt;</th></tr>\n",
       "</thead>\n",
       "<tbody>\n",
       "\t<tr><td>29186441</td><td>202005</td><td>61</td><td>2853.880</td><td>53033.33</td><td>2038.534</td><td>-168.4741</td><td> 863.5782</td><td>7</td><td>0</td><td>⋯</td><td>  NA</td><td>  NA</td><td>TRUE</td><td>Error in FUN(left, right) : non-numeric argument to binary operator\n",
       "</td><td>  NA</td><td>TRUE</td><td>TRUE</td><td>TRUE</td><td>TRUE</td><td>TRUE</td></tr>\n",
       "\t<tr><td>29186441</td><td>202006</td><td>61</td><td>      NA</td><td>      NA</td><td>      NA</td><td>       NA</td><td>       NA</td><td>7</td><td>0</td><td>⋯</td><td>TRUE</td><td>  NA</td><td>TRUE</td><td>Error in FUN(left, right) : non-numeric argument to binary operator\n",
       "</td><td>TRUE</td><td>TRUE</td><td>TRUE</td><td>TRUE</td><td>TRUE</td><td>TRUE</td></tr>\n",
       "\t<tr><td>29186441</td><td>202007</td><td>61</td><td>3052.337</td><td>53831.51</td><td>1970.036</td><td>-217.1336</td><td>1139.8112</td><td>7</td><td>0</td><td>⋯</td><td>  NA</td><td>TRUE</td><td>TRUE</td><td>Error in FUN(left, right) : non-numeric argument to binary operator\n",
       "</td><td>  NA</td><td>TRUE</td><td>TRUE</td><td>TRUE</td><td>TRUE</td><td>TRUE</td></tr>\n",
       "\t<tr><td>29186441</td><td>202008</td><td>61</td><td>4120.270</td><td>55020.54</td><td>1921.690</td><td>-228.3395</td><td>2102.6622</td><td>7</td><td>0</td><td>⋯</td><td>TRUE</td><td>  NA</td><td>TRUE</td><td>Error in FUN(left, right) : non-numeric argument to binary operator\n",
       "</td><td>TRUE</td><td>TRUE</td><td>TRUE</td><td>TRUE</td><td>TRUE</td><td>TRUE</td></tr>\n",
       "\t<tr><td>29186441</td><td>202009</td><td>61</td><td>4586.567</td><td>55348.24</td><td>1962.288</td><td>-236.0629</td><td>2473.2988</td><td>7</td><td>0</td><td>⋯</td><td>TRUE</td><td>TRUE</td><td>TRUE</td><td>Error in FUN(left, right) : non-numeric argument to binary operator\n",
       "</td><td>TRUE</td><td>TRUE</td><td>TRUE</td><td>TRUE</td><td>TRUE</td><td>TRUE</td></tr>\n",
       "\t<tr><td>29186441</td><td>202010</td><td>61</td><td>5379.173</td><td>56610.47</td><td>1895.436</td><td>-220.9813</td><td>3190.9252</td><td>7</td><td>0</td><td>⋯</td><td>TRUE</td><td>TRUE</td><td>TRUE</td><td>Error in FUN(left, right) : non-numeric argument to binary operator\n",
       "</td><td>TRUE</td><td>TRUE</td><td>TRUE</td><td>TRUE</td><td>TRUE</td><td>TRUE</td></tr>\n",
       "</tbody>\n",
       "</table>\n"
      ],
      "text/latex": [
       "A data.table: 6 × 576\n",
       "\\begin{tabular}{lllllllllllllllllllll}\n",
       " numero\\_de\\_cliente & foto\\_mes & cliente\\_edad & mrentabilidad & mrentabilidad\\_annual & mcomisiones & mactivos\\_margen & mpasivos\\_margen & cproductos & mcuenta\\_corriente & ⋯ & gen\\_491 & gen\\_492 & gen\\_493 & gen\\_494 & gen\\_495 & gen\\_496 & gen\\_497 & gen\\_498 & gen\\_499 & gen\\_500\\\\\n",
       " <int> & <int> & <int> & <dbl> & <dbl> & <dbl> & <dbl> & <dbl> & <int> & <dbl> & ⋯ & <lgl> & <lgl> & <lgl> & <try-errr> & <lgl> & <lgl> & <lgl> & <lgl> & <lgl> & <lgl>\\\\\n",
       "\\hline\n",
       "\t 29186441 & 202005 & 61 & 2853.880 & 53033.33 & 2038.534 & -168.4741 &  863.5782 & 7 & 0 & ⋯ &   NA &   NA & TRUE & Error in FUN(left, right) : non-numeric argument to binary operator\n",
       " &   NA & TRUE & TRUE & TRUE & TRUE & TRUE\\\\\n",
       "\t 29186441 & 202006 & 61 &       NA &       NA &       NA &        NA &        NA & 7 & 0 & ⋯ & TRUE &   NA & TRUE & Error in FUN(left, right) : non-numeric argument to binary operator\n",
       " & TRUE & TRUE & TRUE & TRUE & TRUE & TRUE\\\\\n",
       "\t 29186441 & 202007 & 61 & 3052.337 & 53831.51 & 1970.036 & -217.1336 & 1139.8112 & 7 & 0 & ⋯ &   NA & TRUE & TRUE & Error in FUN(left, right) : non-numeric argument to binary operator\n",
       " &   NA & TRUE & TRUE & TRUE & TRUE & TRUE\\\\\n",
       "\t 29186441 & 202008 & 61 & 4120.270 & 55020.54 & 1921.690 & -228.3395 & 2102.6622 & 7 & 0 & ⋯ & TRUE &   NA & TRUE & Error in FUN(left, right) : non-numeric argument to binary operator\n",
       " & TRUE & TRUE & TRUE & TRUE & TRUE & TRUE\\\\\n",
       "\t 29186441 & 202009 & 61 & 4586.567 & 55348.24 & 1962.288 & -236.0629 & 2473.2988 & 7 & 0 & ⋯ & TRUE & TRUE & TRUE & Error in FUN(left, right) : non-numeric argument to binary operator\n",
       " & TRUE & TRUE & TRUE & TRUE & TRUE & TRUE\\\\\n",
       "\t 29186441 & 202010 & 61 & 5379.173 & 56610.47 & 1895.436 & -220.9813 & 3190.9252 & 7 & 0 & ⋯ & TRUE & TRUE & TRUE & Error in FUN(left, right) : non-numeric argument to binary operator\n",
       " & TRUE & TRUE & TRUE & TRUE & TRUE & TRUE\\\\\n",
       "\\end{tabular}\n"
      ],
      "text/markdown": [
       "\n",
       "A data.table: 6 × 576\n",
       "\n",
       "| numero_de_cliente &lt;int&gt; | foto_mes &lt;int&gt; | cliente_edad &lt;int&gt; | mrentabilidad &lt;dbl&gt; | mrentabilidad_annual &lt;dbl&gt; | mcomisiones &lt;dbl&gt; | mactivos_margen &lt;dbl&gt; | mpasivos_margen &lt;dbl&gt; | cproductos &lt;int&gt; | mcuenta_corriente &lt;dbl&gt; | ⋯ ⋯ | gen_491 &lt;lgl&gt; | gen_492 &lt;lgl&gt; | gen_493 &lt;lgl&gt; | gen_494 &lt;try-errr&gt; | gen_495 &lt;lgl&gt; | gen_496 &lt;lgl&gt; | gen_497 &lt;lgl&gt; | gen_498 &lt;lgl&gt; | gen_499 &lt;lgl&gt; | gen_500 &lt;lgl&gt; |\n",
       "|---|---|---|---|---|---|---|---|---|---|---|---|---|---|---|---|---|---|---|---|---|\n",
       "| 29186441 | 202005 | 61 | 2853.880 | 53033.33 | 2038.534 | -168.4741 |  863.5782 | 7 | 0 | ⋯ |   NA |   NA | TRUE | Error in FUN(left, right) : non-numeric argument to binary operator\n",
       " |   NA | TRUE | TRUE | TRUE | TRUE | TRUE |\n",
       "| 29186441 | 202006 | 61 |       NA |       NA |       NA |        NA |        NA | 7 | 0 | ⋯ | TRUE |   NA | TRUE | Error in FUN(left, right) : non-numeric argument to binary operator\n",
       " | TRUE | TRUE | TRUE | TRUE | TRUE | TRUE |\n",
       "| 29186441 | 202007 | 61 | 3052.337 | 53831.51 | 1970.036 | -217.1336 | 1139.8112 | 7 | 0 | ⋯ |   NA | TRUE | TRUE | Error in FUN(left, right) : non-numeric argument to binary operator\n",
       " |   NA | TRUE | TRUE | TRUE | TRUE | TRUE |\n",
       "| 29186441 | 202008 | 61 | 4120.270 | 55020.54 | 1921.690 | -228.3395 | 2102.6622 | 7 | 0 | ⋯ | TRUE |   NA | TRUE | Error in FUN(left, right) : non-numeric argument to binary operator\n",
       " | TRUE | TRUE | TRUE | TRUE | TRUE | TRUE |\n",
       "| 29186441 | 202009 | 61 | 4586.567 | 55348.24 | 1962.288 | -236.0629 | 2473.2988 | 7 | 0 | ⋯ | TRUE | TRUE | TRUE | Error in FUN(left, right) : non-numeric argument to binary operator\n",
       " | TRUE | TRUE | TRUE | TRUE | TRUE | TRUE |\n",
       "| 29186441 | 202010 | 61 | 5379.173 | 56610.47 | 1895.436 | -220.9813 | 3190.9252 | 7 | 0 | ⋯ | TRUE | TRUE | TRUE | Error in FUN(left, right) : non-numeric argument to binary operator\n",
       " | TRUE | TRUE | TRUE | TRUE | TRUE | TRUE |\n",
       "\n"
      ],
      "text/plain": [
       "  numero_de_cliente foto_mes cliente_edad mrentabilidad mrentabilidad_annual\n",
       "1 29186441          202005   61           2853.880      53033.33            \n",
       "2 29186441          202006   61                 NA            NA            \n",
       "3 29186441          202007   61           3052.337      53831.51            \n",
       "4 29186441          202008   61           4120.270      55020.54            \n",
       "5 29186441          202009   61           4586.567      55348.24            \n",
       "6 29186441          202010   61           5379.173      56610.47            \n",
       "  mcomisiones mactivos_margen mpasivos_margen cproductos mcuenta_corriente ⋯\n",
       "1 2038.534    -168.4741        863.5782       7          0                 ⋯\n",
       "2       NA           NA              NA       7          0                 ⋯\n",
       "3 1970.036    -217.1336       1139.8112       7          0                 ⋯\n",
       "4 1921.690    -228.3395       2102.6622       7          0                 ⋯\n",
       "5 1962.288    -236.0629       2473.2988       7          0                 ⋯\n",
       "6 1895.436    -220.9813       3190.9252       7          0                 ⋯\n",
       "  gen_491 gen_492 gen_493\n",
       "1   NA      NA    TRUE   \n",
       "2 TRUE      NA    TRUE   \n",
       "3   NA    TRUE    TRUE   \n",
       "4 TRUE      NA    TRUE   \n",
       "5 TRUE    TRUE    TRUE   \n",
       "6 TRUE    TRUE    TRUE   \n",
       "  gen_494                                                               gen_495\n",
       "1 Error in FUN(left, right) : non-numeric argument to binary operator\\n   NA   \n",
       "2 Error in FUN(left, right) : non-numeric argument to binary operator\\n TRUE   \n",
       "3 Error in FUN(left, right) : non-numeric argument to binary operator\\n   NA   \n",
       "4 Error in FUN(left, right) : non-numeric argument to binary operator\\n TRUE   \n",
       "5 Error in FUN(left, right) : non-numeric argument to binary operator\\n TRUE   \n",
       "6 Error in FUN(left, right) : non-numeric argument to binary operator\\n TRUE   \n",
       "  gen_496 gen_497 gen_498 gen_499 gen_500\n",
       "1 TRUE    TRUE    TRUE    TRUE    TRUE   \n",
       "2 TRUE    TRUE    TRUE    TRUE    TRUE   \n",
       "3 TRUE    TRUE    TRUE    TRUE    TRUE   \n",
       "4 TRUE    TRUE    TRUE    TRUE    TRUE   \n",
       "5 TRUE    TRUE    TRUE    TRUE    TRUE   \n",
       "6 TRUE    TRUE    TRUE    TRUE    TRUE   "
      ]
     },
     "metadata": {},
     "output_type": "display_data"
    }
   ],
   "source": [
    "dataset_aux = copy(dataset)\n",
    "dataset = copy(genetic_dataset)\n",
    "head(dataset)"
   ]
  },
  {
   "cell_type": "code",
   "execution_count": 72,
   "id": "fc77eb97-1714-4d09-b779-40910f308deb",
   "metadata": {
    "colab": {
     "base_uri": "https://localhost:8080/"
    },
    "id": "fc77eb97-1714-4d09-b779-40910f308deb",
    "outputId": "adfca225-e36e-4b50-c644-a199bf31af28"
   },
   "outputs": [
    {
     "name": "stdout",
     "output_type": "stream",
     "text": [
      "inicio CanaritosAsesinos()\n",
      "fin CanaritosAsesinos()\n"
     ]
    }
   ],
   "source": [
    "tb_importancia <- CanaritosAsesinos(\n",
    "  canaritos_ratio = PARAM$CN$ratio,\n",
    "  canaritos_desvios = PARAM$CN$desvios,\n",
    "  canaritos_semilla = PARAM$semilla_primigenia\n",
    ")\n"
   ]
  },
  {
   "cell_type": "code",
   "execution_count": 73,
   "id": "9f8f25cd-b1da-42f0-8455-030a1ffb06db",
   "metadata": {
    "colab": {
     "base_uri": "https://localhost:8080/",
     "height": 1000
    },
    "id": "9f8f25cd-b1da-42f0-8455-030a1ffb06db",
    "outputId": "d33c3a66-975d-419e-9c79-d843c79020b2"
   },
   "outputs": [
    {
     "data": {
      "text/html": [
       "<table class=\"dataframe\">\n",
       "<caption>A data.table: 193 × 5</caption>\n",
       "<thead>\n",
       "\t<tr><th scope=col>Feature</th><th scope=col>Gain</th><th scope=col>Cover</th><th scope=col>Frequency</th><th scope=col>pos</th></tr>\n",
       "\t<tr><th scope=col>&lt;chr&gt;</th><th scope=col>&lt;dbl&gt;</th><th scope=col>&lt;dbl&gt;</th><th scope=col>&lt;dbl&gt;</th><th scope=col>&lt;int&gt;</th></tr>\n",
       "</thead>\n",
       "<tbody>\n",
       "\t<tr><td>ctrx_quarter_normalizado         </td><td>0.281731414</td><td>0.037014751</td><td>0.021264689</td><td> 1</td></tr>\n",
       "\t<tr><td>mpayroll_sobre_edad              </td><td>0.044695240</td><td>0.040871757</td><td>0.024062675</td><td> 2</td></tr>\n",
       "\t<tr><td>mtarjeta_visa_consumo            </td><td>0.041476214</td><td>0.025763695</td><td>0.020145495</td><td> 3</td></tr>\n",
       "\t<tr><td>mcuentas_saldo                   </td><td>0.025590041</td><td>0.019167752</td><td>0.017907107</td><td> 4</td></tr>\n",
       "\t<tr><td>mprestamos_personales            </td><td>0.023081248</td><td>0.030009229</td><td>0.013989927</td><td> 5</td></tr>\n",
       "\t<tr><td>mcaja_ahorro_lag2                </td><td>0.022517659</td><td>0.013424343</td><td>0.012870733</td><td> 6</td></tr>\n",
       "\t<tr><td>ccomisiones_mantenimiento_delta2 </td><td>0.021828936</td><td>0.018633075</td><td>0.008393956</td><td> 7</td></tr>\n",
       "\t<tr><td>cpayroll_trx                     </td><td>0.018074427</td><td>0.007306540</td><td>0.003357583</td><td> 8</td></tr>\n",
       "\t<tr><td>mcaja_ahorro                     </td><td>0.017958242</td><td>0.003798667</td><td>0.005036374</td><td> 9</td></tr>\n",
       "\t<tr><td>vm_mpagominimo                   </td><td>0.017174059</td><td>0.024788167</td><td>0.025741466</td><td>10</td></tr>\n",
       "\t<tr><td>mpasivos_margen_lag2             </td><td>0.016922029</td><td>0.003780925</td><td>0.006155568</td><td>11</td></tr>\n",
       "\t<tr><td>mrentabilidad_annual             </td><td>0.012677226</td><td>0.012466857</td><td>0.013989927</td><td>12</td></tr>\n",
       "\t<tr><td>Master_mpagominimo               </td><td>0.009248783</td><td>0.018495647</td><td>0.007834359</td><td>13</td></tr>\n",
       "\t<tr><td>ctarjeta_visa_transacciones      </td><td>0.008716486</td><td>0.006208920</td><td>0.007834359</td><td>14</td></tr>\n",
       "\t<tr><td>mpasivos_margen                  </td><td>0.008574092</td><td>0.001566740</td><td>0.003357583</td><td>15</td></tr>\n",
       "\t<tr><td>mactivos_margen                  </td><td>0.007768830</td><td>0.017117458</td><td>0.015109121</td><td>16</td></tr>\n",
       "\t<tr><td>mpayroll_lag2                    </td><td>0.007367773</td><td>0.017377278</td><td>0.010632345</td><td>17</td></tr>\n",
       "\t<tr><td>chomebanking_transacciones_delta2</td><td>0.006980675</td><td>0.017237143</td><td>0.012311136</td><td>18</td></tr>\n",
       "\t<tr><td>ctrx_quarter_normalizado_lag1    </td><td>0.006767986</td><td>0.008043599</td><td>0.012311136</td><td>19</td></tr>\n",
       "\t<tr><td>Visa_fechaalta_lag2              </td><td>0.006748386</td><td>0.011066114</td><td>0.007834359</td><td>20</td></tr>\n",
       "\t<tr><td>cproductos_delta1                </td><td>0.006620614</td><td>0.017543274</td><td>0.006715165</td><td>21</td></tr>\n",
       "\t<tr><td>canarito71                       </td><td>0.006617077</td><td>0.016268531</td><td>0.010632345</td><td>22</td></tr>\n",
       "\t<tr><td>mrentabilidad_annual_delta2      </td><td>0.006432396</td><td>0.005952408</td><td>0.009513151</td><td>23</td></tr>\n",
       "\t<tr><td>mcuentas_saldo_lag1              </td><td>0.006424617</td><td>0.003404125</td><td>0.003917180</td><td>24</td></tr>\n",
       "\t<tr><td>cliente_edad_lag2                </td><td>0.006373660</td><td>0.008660371</td><td>0.008393956</td><td>25</td></tr>\n",
       "\t<tr><td>mrentabilidad_annual_delta1      </td><td>0.006318366</td><td>0.005630339</td><td>0.010072748</td><td>26</td></tr>\n",
       "\t<tr><td>mrentabilidad_annual_lag2        </td><td>0.006202745</td><td>0.004638572</td><td>0.006715165</td><td>27</td></tr>\n",
       "\t<tr><td>Visa_mpagominimo_delta2          </td><td>0.005834925</td><td>0.004285529</td><td>0.009513151</td><td>28</td></tr>\n",
       "\t<tr><td>ctrx_quarter_delta1              </td><td>0.005784723</td><td>0.011477195</td><td>0.008393956</td><td>29</td></tr>\n",
       "\t<tr><td>Master_fechaalta                 </td><td>0.005723957</td><td>0.006239593</td><td>0.006715165</td><td>30</td></tr>\n",
       "\t<tr><td>⋮</td><td>⋮</td><td>⋮</td><td>⋮</td><td>⋮</td></tr>\n",
       "\t<tr><td>canarito94               </td><td>8.605070e-04</td><td>0.0008086301</td><td>0.0016787913</td><td>164</td></tr>\n",
       "\t<tr><td>canarito3                </td><td>8.594366e-04</td><td>0.0008197567</td><td>0.0016787913</td><td>165</td></tr>\n",
       "\t<tr><td>canarito17               </td><td>8.498093e-04</td><td>0.0006754121</td><td>0.0011191942</td><td>166</td></tr>\n",
       "\t<tr><td>canarito69               </td><td>8.101748e-04</td><td>0.0036413916</td><td>0.0022383884</td><td>167</td></tr>\n",
       "\t<tr><td>canarito49               </td><td>7.810329e-04</td><td>0.0007647253</td><td>0.0016787913</td><td>168</td></tr>\n",
       "\t<tr><td>canarito33               </td><td>7.774882e-04</td><td>0.0062338796</td><td>0.0022383884</td><td>169</td></tr>\n",
       "\t<tr><td>canarito1                </td><td>7.487923e-04</td><td>0.0008567450</td><td>0.0011191942</td><td>170</td></tr>\n",
       "\t<tr><td>canarito27               </td><td>6.977851e-04</td><td>0.0011496441</td><td>0.0022383884</td><td>171</td></tr>\n",
       "\t<tr><td>canarito102              </td><td>6.894204e-04</td><td>0.0052469239</td><td>0.0022383884</td><td>172</td></tr>\n",
       "\t<tr><td>canarito73               </td><td>6.731368e-04</td><td>0.0008065251</td><td>0.0011191942</td><td>173</td></tr>\n",
       "\t<tr><td>canarito2                </td><td>6.398036e-04</td><td>0.0018488129</td><td>0.0016787913</td><td>174</td></tr>\n",
       "\t<tr><td>canarito22               </td><td>6.354964e-04</td><td>0.0015676418</td><td>0.0016787913</td><td>175</td></tr>\n",
       "\t<tr><td>canarito115              </td><td>6.287933e-04</td><td>0.0027957732</td><td>0.0033575825</td><td>176</td></tr>\n",
       "\t<tr><td>gen_367                  </td><td>5.653431e-04</td><td>0.0013598458</td><td>0.0016787913</td><td>177</td></tr>\n",
       "\t<tr><td>canarito76               </td><td>5.101160e-04</td><td>0.0009728220</td><td>0.0016787913</td><td>178</td></tr>\n",
       "\t<tr><td>canarito37               </td><td>5.090811e-04</td><td>0.0001771228</td><td>0.0005595971</td><td>179</td></tr>\n",
       "\t<tr><td>mcaja_ahorro_lag1        </td><td>4.816731e-04</td><td>0.0018867034</td><td>0.0044767767</td><td>180</td></tr>\n",
       "\t<tr><td>canarito62               </td><td>4.064595e-04</td><td>0.0003807087</td><td>0.0005595971</td><td>181</td></tr>\n",
       "\t<tr><td>canarito36               </td><td>3.867023e-04</td><td>0.0006681949</td><td>0.0011191942</td><td>182</td></tr>\n",
       "\t<tr><td>mcomisiones              </td><td>3.597769e-04</td><td>0.0034603595</td><td>0.0055959709</td><td>183</td></tr>\n",
       "\t<tr><td>vm_mpagominimo_delta1    </td><td>3.545073e-04</td><td>0.0010943120</td><td>0.0005595971</td><td>184</td></tr>\n",
       "\t<tr><td>mcuenta_corriente        </td><td>3.109050e-04</td><td>0.0003716872</td><td>0.0011191942</td><td>185</td></tr>\n",
       "\t<tr><td>gen_167                  </td><td>3.020499e-04</td><td>0.0005277597</td><td>0.0005595971</td><td>186</td></tr>\n",
       "\t<tr><td>canarito11               </td><td>2.755439e-04</td><td>0.0003136486</td><td>0.0005595971</td><td>187</td></tr>\n",
       "\t<tr><td>canarito97               </td><td>2.450659e-04</td><td>0.0005121224</td><td>0.0005595971</td><td>188</td></tr>\n",
       "\t<tr><td>canarito63               </td><td>1.392860e-04</td><td>0.0002405742</td><td>0.0005595971</td><td>189</td></tr>\n",
       "\t<tr><td>gen_470                  </td><td>1.252265e-04</td><td>0.0006624813</td><td>0.0005595971</td><td>190</td></tr>\n",
       "\t<tr><td>mpasivos_margen_lag1     </td><td>4.430671e-05</td><td>0.0003214673</td><td>0.0011191942</td><td>191</td></tr>\n",
       "\t<tr><td>mcuenta_corriente_lag1   </td><td>1.864755e-05</td><td>0.0010537151</td><td>0.0011191942</td><td>192</td></tr>\n",
       "\t<tr><td>ccomisiones_mantenimiento</td><td>1.598439e-07</td><td>0.0002026838</td><td>0.0005595971</td><td>193</td></tr>\n",
       "</tbody>\n",
       "</table>\n"
      ],
      "text/latex": [
       "A data.table: 193 × 5\n",
       "\\begin{tabular}{lllll}\n",
       " Feature & Gain & Cover & Frequency & pos\\\\\n",
       " <chr> & <dbl> & <dbl> & <dbl> & <int>\\\\\n",
       "\\hline\n",
       "\t ctrx\\_quarter\\_normalizado          & 0.281731414 & 0.037014751 & 0.021264689 &  1\\\\\n",
       "\t mpayroll\\_sobre\\_edad               & 0.044695240 & 0.040871757 & 0.024062675 &  2\\\\\n",
       "\t mtarjeta\\_visa\\_consumo             & 0.041476214 & 0.025763695 & 0.020145495 &  3\\\\\n",
       "\t mcuentas\\_saldo                    & 0.025590041 & 0.019167752 & 0.017907107 &  4\\\\\n",
       "\t mprestamos\\_personales             & 0.023081248 & 0.030009229 & 0.013989927 &  5\\\\\n",
       "\t mcaja\\_ahorro\\_lag2                 & 0.022517659 & 0.013424343 & 0.012870733 &  6\\\\\n",
       "\t ccomisiones\\_mantenimiento\\_delta2  & 0.021828936 & 0.018633075 & 0.008393956 &  7\\\\\n",
       "\t cpayroll\\_trx                      & 0.018074427 & 0.007306540 & 0.003357583 &  8\\\\\n",
       "\t mcaja\\_ahorro                      & 0.017958242 & 0.003798667 & 0.005036374 &  9\\\\\n",
       "\t vm\\_mpagominimo                    & 0.017174059 & 0.024788167 & 0.025741466 & 10\\\\\n",
       "\t mpasivos\\_margen\\_lag2              & 0.016922029 & 0.003780925 & 0.006155568 & 11\\\\\n",
       "\t mrentabilidad\\_annual              & 0.012677226 & 0.012466857 & 0.013989927 & 12\\\\\n",
       "\t Master\\_mpagominimo                & 0.009248783 & 0.018495647 & 0.007834359 & 13\\\\\n",
       "\t ctarjeta\\_visa\\_transacciones       & 0.008716486 & 0.006208920 & 0.007834359 & 14\\\\\n",
       "\t mpasivos\\_margen                   & 0.008574092 & 0.001566740 & 0.003357583 & 15\\\\\n",
       "\t mactivos\\_margen                   & 0.007768830 & 0.017117458 & 0.015109121 & 16\\\\\n",
       "\t mpayroll\\_lag2                     & 0.007367773 & 0.017377278 & 0.010632345 & 17\\\\\n",
       "\t chomebanking\\_transacciones\\_delta2 & 0.006980675 & 0.017237143 & 0.012311136 & 18\\\\\n",
       "\t ctrx\\_quarter\\_normalizado\\_lag1     & 0.006767986 & 0.008043599 & 0.012311136 & 19\\\\\n",
       "\t Visa\\_fechaalta\\_lag2               & 0.006748386 & 0.011066114 & 0.007834359 & 20\\\\\n",
       "\t cproductos\\_delta1                 & 0.006620614 & 0.017543274 & 0.006715165 & 21\\\\\n",
       "\t canarito71                        & 0.006617077 & 0.016268531 & 0.010632345 & 22\\\\\n",
       "\t mrentabilidad\\_annual\\_delta2       & 0.006432396 & 0.005952408 & 0.009513151 & 23\\\\\n",
       "\t mcuentas\\_saldo\\_lag1               & 0.006424617 & 0.003404125 & 0.003917180 & 24\\\\\n",
       "\t cliente\\_edad\\_lag2                 & 0.006373660 & 0.008660371 & 0.008393956 & 25\\\\\n",
       "\t mrentabilidad\\_annual\\_delta1       & 0.006318366 & 0.005630339 & 0.010072748 & 26\\\\\n",
       "\t mrentabilidad\\_annual\\_lag2         & 0.006202745 & 0.004638572 & 0.006715165 & 27\\\\\n",
       "\t Visa\\_mpagominimo\\_delta2           & 0.005834925 & 0.004285529 & 0.009513151 & 28\\\\\n",
       "\t ctrx\\_quarter\\_delta1               & 0.005784723 & 0.011477195 & 0.008393956 & 29\\\\\n",
       "\t Master\\_fechaalta                  & 0.005723957 & 0.006239593 & 0.006715165 & 30\\\\\n",
       "\t ⋮ & ⋮ & ⋮ & ⋮ & ⋮\\\\\n",
       "\t canarito94                & 8.605070e-04 & 0.0008086301 & 0.0016787913 & 164\\\\\n",
       "\t canarito3                 & 8.594366e-04 & 0.0008197567 & 0.0016787913 & 165\\\\\n",
       "\t canarito17                & 8.498093e-04 & 0.0006754121 & 0.0011191942 & 166\\\\\n",
       "\t canarito69                & 8.101748e-04 & 0.0036413916 & 0.0022383884 & 167\\\\\n",
       "\t canarito49                & 7.810329e-04 & 0.0007647253 & 0.0016787913 & 168\\\\\n",
       "\t canarito33                & 7.774882e-04 & 0.0062338796 & 0.0022383884 & 169\\\\\n",
       "\t canarito1                 & 7.487923e-04 & 0.0008567450 & 0.0011191942 & 170\\\\\n",
       "\t canarito27                & 6.977851e-04 & 0.0011496441 & 0.0022383884 & 171\\\\\n",
       "\t canarito102               & 6.894204e-04 & 0.0052469239 & 0.0022383884 & 172\\\\\n",
       "\t canarito73                & 6.731368e-04 & 0.0008065251 & 0.0011191942 & 173\\\\\n",
       "\t canarito2                 & 6.398036e-04 & 0.0018488129 & 0.0016787913 & 174\\\\\n",
       "\t canarito22                & 6.354964e-04 & 0.0015676418 & 0.0016787913 & 175\\\\\n",
       "\t canarito115               & 6.287933e-04 & 0.0027957732 & 0.0033575825 & 176\\\\\n",
       "\t gen\\_367                   & 5.653431e-04 & 0.0013598458 & 0.0016787913 & 177\\\\\n",
       "\t canarito76                & 5.101160e-04 & 0.0009728220 & 0.0016787913 & 178\\\\\n",
       "\t canarito37                & 5.090811e-04 & 0.0001771228 & 0.0005595971 & 179\\\\\n",
       "\t mcaja\\_ahorro\\_lag1         & 4.816731e-04 & 0.0018867034 & 0.0044767767 & 180\\\\\n",
       "\t canarito62                & 4.064595e-04 & 0.0003807087 & 0.0005595971 & 181\\\\\n",
       "\t canarito36                & 3.867023e-04 & 0.0006681949 & 0.0011191942 & 182\\\\\n",
       "\t mcomisiones               & 3.597769e-04 & 0.0034603595 & 0.0055959709 & 183\\\\\n",
       "\t vm\\_mpagominimo\\_delta1     & 3.545073e-04 & 0.0010943120 & 0.0005595971 & 184\\\\\n",
       "\t mcuenta\\_corriente         & 3.109050e-04 & 0.0003716872 & 0.0011191942 & 185\\\\\n",
       "\t gen\\_167                   & 3.020499e-04 & 0.0005277597 & 0.0005595971 & 186\\\\\n",
       "\t canarito11                & 2.755439e-04 & 0.0003136486 & 0.0005595971 & 187\\\\\n",
       "\t canarito97                & 2.450659e-04 & 0.0005121224 & 0.0005595971 & 188\\\\\n",
       "\t canarito63                & 1.392860e-04 & 0.0002405742 & 0.0005595971 & 189\\\\\n",
       "\t gen\\_470                   & 1.252265e-04 & 0.0006624813 & 0.0005595971 & 190\\\\\n",
       "\t mpasivos\\_margen\\_lag1      & 4.430671e-05 & 0.0003214673 & 0.0011191942 & 191\\\\\n",
       "\t mcuenta\\_corriente\\_lag1    & 1.864755e-05 & 0.0010537151 & 0.0011191942 & 192\\\\\n",
       "\t ccomisiones\\_mantenimiento & 1.598439e-07 & 0.0002026838 & 0.0005595971 & 193\\\\\n",
       "\\end{tabular}\n"
      ],
      "text/markdown": [
       "\n",
       "A data.table: 193 × 5\n",
       "\n",
       "| Feature &lt;chr&gt; | Gain &lt;dbl&gt; | Cover &lt;dbl&gt; | Frequency &lt;dbl&gt; | pos &lt;int&gt; |\n",
       "|---|---|---|---|---|\n",
       "| ctrx_quarter_normalizado          | 0.281731414 | 0.037014751 | 0.021264689 |  1 |\n",
       "| mpayroll_sobre_edad               | 0.044695240 | 0.040871757 | 0.024062675 |  2 |\n",
       "| mtarjeta_visa_consumo             | 0.041476214 | 0.025763695 | 0.020145495 |  3 |\n",
       "| mcuentas_saldo                    | 0.025590041 | 0.019167752 | 0.017907107 |  4 |\n",
       "| mprestamos_personales             | 0.023081248 | 0.030009229 | 0.013989927 |  5 |\n",
       "| mcaja_ahorro_lag2                 | 0.022517659 | 0.013424343 | 0.012870733 |  6 |\n",
       "| ccomisiones_mantenimiento_delta2  | 0.021828936 | 0.018633075 | 0.008393956 |  7 |\n",
       "| cpayroll_trx                      | 0.018074427 | 0.007306540 | 0.003357583 |  8 |\n",
       "| mcaja_ahorro                      | 0.017958242 | 0.003798667 | 0.005036374 |  9 |\n",
       "| vm_mpagominimo                    | 0.017174059 | 0.024788167 | 0.025741466 | 10 |\n",
       "| mpasivos_margen_lag2              | 0.016922029 | 0.003780925 | 0.006155568 | 11 |\n",
       "| mrentabilidad_annual              | 0.012677226 | 0.012466857 | 0.013989927 | 12 |\n",
       "| Master_mpagominimo                | 0.009248783 | 0.018495647 | 0.007834359 | 13 |\n",
       "| ctarjeta_visa_transacciones       | 0.008716486 | 0.006208920 | 0.007834359 | 14 |\n",
       "| mpasivos_margen                   | 0.008574092 | 0.001566740 | 0.003357583 | 15 |\n",
       "| mactivos_margen                   | 0.007768830 | 0.017117458 | 0.015109121 | 16 |\n",
       "| mpayroll_lag2                     | 0.007367773 | 0.017377278 | 0.010632345 | 17 |\n",
       "| chomebanking_transacciones_delta2 | 0.006980675 | 0.017237143 | 0.012311136 | 18 |\n",
       "| ctrx_quarter_normalizado_lag1     | 0.006767986 | 0.008043599 | 0.012311136 | 19 |\n",
       "| Visa_fechaalta_lag2               | 0.006748386 | 0.011066114 | 0.007834359 | 20 |\n",
       "| cproductos_delta1                 | 0.006620614 | 0.017543274 | 0.006715165 | 21 |\n",
       "| canarito71                        | 0.006617077 | 0.016268531 | 0.010632345 | 22 |\n",
       "| mrentabilidad_annual_delta2       | 0.006432396 | 0.005952408 | 0.009513151 | 23 |\n",
       "| mcuentas_saldo_lag1               | 0.006424617 | 0.003404125 | 0.003917180 | 24 |\n",
       "| cliente_edad_lag2                 | 0.006373660 | 0.008660371 | 0.008393956 | 25 |\n",
       "| mrentabilidad_annual_delta1       | 0.006318366 | 0.005630339 | 0.010072748 | 26 |\n",
       "| mrentabilidad_annual_lag2         | 0.006202745 | 0.004638572 | 0.006715165 | 27 |\n",
       "| Visa_mpagominimo_delta2           | 0.005834925 | 0.004285529 | 0.009513151 | 28 |\n",
       "| ctrx_quarter_delta1               | 0.005784723 | 0.011477195 | 0.008393956 | 29 |\n",
       "| Master_fechaalta                  | 0.005723957 | 0.006239593 | 0.006715165 | 30 |\n",
       "| ⋮ | ⋮ | ⋮ | ⋮ | ⋮ |\n",
       "| canarito94                | 8.605070e-04 | 0.0008086301 | 0.0016787913 | 164 |\n",
       "| canarito3                 | 8.594366e-04 | 0.0008197567 | 0.0016787913 | 165 |\n",
       "| canarito17                | 8.498093e-04 | 0.0006754121 | 0.0011191942 | 166 |\n",
       "| canarito69                | 8.101748e-04 | 0.0036413916 | 0.0022383884 | 167 |\n",
       "| canarito49                | 7.810329e-04 | 0.0007647253 | 0.0016787913 | 168 |\n",
       "| canarito33                | 7.774882e-04 | 0.0062338796 | 0.0022383884 | 169 |\n",
       "| canarito1                 | 7.487923e-04 | 0.0008567450 | 0.0011191942 | 170 |\n",
       "| canarito27                | 6.977851e-04 | 0.0011496441 | 0.0022383884 | 171 |\n",
       "| canarito102               | 6.894204e-04 | 0.0052469239 | 0.0022383884 | 172 |\n",
       "| canarito73                | 6.731368e-04 | 0.0008065251 | 0.0011191942 | 173 |\n",
       "| canarito2                 | 6.398036e-04 | 0.0018488129 | 0.0016787913 | 174 |\n",
       "| canarito22                | 6.354964e-04 | 0.0015676418 | 0.0016787913 | 175 |\n",
       "| canarito115               | 6.287933e-04 | 0.0027957732 | 0.0033575825 | 176 |\n",
       "| gen_367                   | 5.653431e-04 | 0.0013598458 | 0.0016787913 | 177 |\n",
       "| canarito76                | 5.101160e-04 | 0.0009728220 | 0.0016787913 | 178 |\n",
       "| canarito37                | 5.090811e-04 | 0.0001771228 | 0.0005595971 | 179 |\n",
       "| mcaja_ahorro_lag1         | 4.816731e-04 | 0.0018867034 | 0.0044767767 | 180 |\n",
       "| canarito62                | 4.064595e-04 | 0.0003807087 | 0.0005595971 | 181 |\n",
       "| canarito36                | 3.867023e-04 | 0.0006681949 | 0.0011191942 | 182 |\n",
       "| mcomisiones               | 3.597769e-04 | 0.0034603595 | 0.0055959709 | 183 |\n",
       "| vm_mpagominimo_delta1     | 3.545073e-04 | 0.0010943120 | 0.0005595971 | 184 |\n",
       "| mcuenta_corriente         | 3.109050e-04 | 0.0003716872 | 0.0011191942 | 185 |\n",
       "| gen_167                   | 3.020499e-04 | 0.0005277597 | 0.0005595971 | 186 |\n",
       "| canarito11                | 2.755439e-04 | 0.0003136486 | 0.0005595971 | 187 |\n",
       "| canarito97                | 2.450659e-04 | 0.0005121224 | 0.0005595971 | 188 |\n",
       "| canarito63                | 1.392860e-04 | 0.0002405742 | 0.0005595971 | 189 |\n",
       "| gen_470                   | 1.252265e-04 | 0.0006624813 | 0.0005595971 | 190 |\n",
       "| mpasivos_margen_lag1      | 4.430671e-05 | 0.0003214673 | 0.0011191942 | 191 |\n",
       "| mcuenta_corriente_lag1    | 1.864755e-05 | 0.0010537151 | 0.0011191942 | 192 |\n",
       "| ccomisiones_mantenimiento | 1.598439e-07 | 0.0002026838 | 0.0005595971 | 193 |\n",
       "\n"
      ],
      "text/plain": [
       "    Feature                           Gain         Cover        Frequency   \n",
       "1   ctrx_quarter_normalizado          0.281731414  0.037014751  0.021264689 \n",
       "2   mpayroll_sobre_edad               0.044695240  0.040871757  0.024062675 \n",
       "3   mtarjeta_visa_consumo             0.041476214  0.025763695  0.020145495 \n",
       "4   mcuentas_saldo                    0.025590041  0.019167752  0.017907107 \n",
       "5   mprestamos_personales             0.023081248  0.030009229  0.013989927 \n",
       "6   mcaja_ahorro_lag2                 0.022517659  0.013424343  0.012870733 \n",
       "7   ccomisiones_mantenimiento_delta2  0.021828936  0.018633075  0.008393956 \n",
       "8   cpayroll_trx                      0.018074427  0.007306540  0.003357583 \n",
       "9   mcaja_ahorro                      0.017958242  0.003798667  0.005036374 \n",
       "10  vm_mpagominimo                    0.017174059  0.024788167  0.025741466 \n",
       "11  mpasivos_margen_lag2              0.016922029  0.003780925  0.006155568 \n",
       "12  mrentabilidad_annual              0.012677226  0.012466857  0.013989927 \n",
       "13  Master_mpagominimo                0.009248783  0.018495647  0.007834359 \n",
       "14  ctarjeta_visa_transacciones       0.008716486  0.006208920  0.007834359 \n",
       "15  mpasivos_margen                   0.008574092  0.001566740  0.003357583 \n",
       "16  mactivos_margen                   0.007768830  0.017117458  0.015109121 \n",
       "17  mpayroll_lag2                     0.007367773  0.017377278  0.010632345 \n",
       "18  chomebanking_transacciones_delta2 0.006980675  0.017237143  0.012311136 \n",
       "19  ctrx_quarter_normalizado_lag1     0.006767986  0.008043599  0.012311136 \n",
       "20  Visa_fechaalta_lag2               0.006748386  0.011066114  0.007834359 \n",
       "21  cproductos_delta1                 0.006620614  0.017543274  0.006715165 \n",
       "22  canarito71                        0.006617077  0.016268531  0.010632345 \n",
       "23  mrentabilidad_annual_delta2       0.006432396  0.005952408  0.009513151 \n",
       "24  mcuentas_saldo_lag1               0.006424617  0.003404125  0.003917180 \n",
       "25  cliente_edad_lag2                 0.006373660  0.008660371  0.008393956 \n",
       "26  mrentabilidad_annual_delta1       0.006318366  0.005630339  0.010072748 \n",
       "27  mrentabilidad_annual_lag2         0.006202745  0.004638572  0.006715165 \n",
       "28  Visa_mpagominimo_delta2           0.005834925  0.004285529  0.009513151 \n",
       "29  ctrx_quarter_delta1               0.005784723  0.011477195  0.008393956 \n",
       "30  Master_fechaalta                  0.005723957  0.006239593  0.006715165 \n",
       "⋮   ⋮                                 ⋮            ⋮            ⋮           \n",
       "164 canarito94                        8.605070e-04 0.0008086301 0.0016787913\n",
       "165 canarito3                         8.594366e-04 0.0008197567 0.0016787913\n",
       "166 canarito17                        8.498093e-04 0.0006754121 0.0011191942\n",
       "167 canarito69                        8.101748e-04 0.0036413916 0.0022383884\n",
       "168 canarito49                        7.810329e-04 0.0007647253 0.0016787913\n",
       "169 canarito33                        7.774882e-04 0.0062338796 0.0022383884\n",
       "170 canarito1                         7.487923e-04 0.0008567450 0.0011191942\n",
       "171 canarito27                        6.977851e-04 0.0011496441 0.0022383884\n",
       "172 canarito102                       6.894204e-04 0.0052469239 0.0022383884\n",
       "173 canarito73                        6.731368e-04 0.0008065251 0.0011191942\n",
       "174 canarito2                         6.398036e-04 0.0018488129 0.0016787913\n",
       "175 canarito22                        6.354964e-04 0.0015676418 0.0016787913\n",
       "176 canarito115                       6.287933e-04 0.0027957732 0.0033575825\n",
       "177 gen_367                           5.653431e-04 0.0013598458 0.0016787913\n",
       "178 canarito76                        5.101160e-04 0.0009728220 0.0016787913\n",
       "179 canarito37                        5.090811e-04 0.0001771228 0.0005595971\n",
       "180 mcaja_ahorro_lag1                 4.816731e-04 0.0018867034 0.0044767767\n",
       "181 canarito62                        4.064595e-04 0.0003807087 0.0005595971\n",
       "182 canarito36                        3.867023e-04 0.0006681949 0.0011191942\n",
       "183 mcomisiones                       3.597769e-04 0.0034603595 0.0055959709\n",
       "184 vm_mpagominimo_delta1             3.545073e-04 0.0010943120 0.0005595971\n",
       "185 mcuenta_corriente                 3.109050e-04 0.0003716872 0.0011191942\n",
       "186 gen_167                           3.020499e-04 0.0005277597 0.0005595971\n",
       "187 canarito11                        2.755439e-04 0.0003136486 0.0005595971\n",
       "188 canarito97                        2.450659e-04 0.0005121224 0.0005595971\n",
       "189 canarito63                        1.392860e-04 0.0002405742 0.0005595971\n",
       "190 gen_470                           1.252265e-04 0.0006624813 0.0005595971\n",
       "191 mpasivos_margen_lag1              4.430671e-05 0.0003214673 0.0011191942\n",
       "192 mcuenta_corriente_lag1            1.864755e-05 0.0010537151 0.0011191942\n",
       "193 ccomisiones_mantenimiento         1.598439e-07 0.0002026838 0.0005595971\n",
       "    pos\n",
       "1    1 \n",
       "2    2 \n",
       "3    3 \n",
       "4    4 \n",
       "5    5 \n",
       "6    6 \n",
       "7    7 \n",
       "8    8 \n",
       "9    9 \n",
       "10  10 \n",
       "11  11 \n",
       "12  12 \n",
       "13  13 \n",
       "14  14 \n",
       "15  15 \n",
       "16  16 \n",
       "17  17 \n",
       "18  18 \n",
       "19  19 \n",
       "20  20 \n",
       "21  21 \n",
       "22  22 \n",
       "23  23 \n",
       "24  24 \n",
       "25  25 \n",
       "26  26 \n",
       "27  27 \n",
       "28  28 \n",
       "29  29 \n",
       "30  30 \n",
       "⋮   ⋮  \n",
       "164 164\n",
       "165 165\n",
       "166 166\n",
       "167 167\n",
       "168 168\n",
       "169 169\n",
       "170 170\n",
       "171 171\n",
       "172 172\n",
       "173 173\n",
       "174 174\n",
       "175 175\n",
       "176 176\n",
       "177 177\n",
       "178 178\n",
       "179 179\n",
       "180 180\n",
       "181 181\n",
       "182 182\n",
       "183 183\n",
       "184 184\n",
       "185 185\n",
       "186 186\n",
       "187 187\n",
       "188 188\n",
       "189 189\n",
       "190 190\n",
       "191 191\n",
       "192 192\n",
       "193 193"
      ]
     },
     "metadata": {},
     "output_type": "display_data"
    }
   ],
   "source": [
    "tb_importancia\n"
   ]
  },
  {
   "cell_type": "code",
   "execution_count": 74,
   "id": "fcc554fa-459d-4c91-8ecf-8b8d5b472e5b",
   "metadata": {
    "id": "fcc554fa-459d-4c91-8ecf-8b8d5b472e5b",
    "outputId": "0731f0ca-c105-4c9f-9c60-185eecbe603d"
   },
   "outputs": [
    {
     "data": {
      "text/html": [
       "<table class=\"dataframe\">\n",
       "<caption>A data.table: 6 × 82</caption>\n",
       "<thead>\n",
       "\t<tr><th scope=col>numero_de_cliente</th><th scope=col>foto_mes</th><th scope=col>cliente_edad</th><th scope=col>mrentabilidad</th><th scope=col>mrentabilidad_annual</th><th scope=col>mcomisiones</th><th scope=col>mactivos_margen</th><th scope=col>mpasivos_margen</th><th scope=col>cproductos</th><th scope=col>mcuenta_corriente</th><th scope=col>⋯</th><th scope=col>ctrx_quarter_delta2</th><th scope=col>Visa_mpagominimo_delta2</th><th scope=col>vm_mpagominimo_delta1</th><th scope=col>gen_122</th><th scope=col>gen_167</th><th scope=col>gen_240</th><th scope=col>gen_367</th><th scope=col>gen_402</th><th scope=col>gen_457</th><th scope=col>gen_470</th></tr>\n",
       "\t<tr><th scope=col>&lt;int&gt;</th><th scope=col>&lt;int&gt;</th><th scope=col>&lt;int&gt;</th><th scope=col>&lt;dbl&gt;</th><th scope=col>&lt;dbl&gt;</th><th scope=col>&lt;dbl&gt;</th><th scope=col>&lt;dbl&gt;</th><th scope=col>&lt;dbl&gt;</th><th scope=col>&lt;int&gt;</th><th scope=col>&lt;dbl&gt;</th><th scope=col>⋯</th><th scope=col>&lt;int&gt;</th><th scope=col>&lt;dbl&gt;</th><th scope=col>&lt;dbl&gt;</th><th scope=col>&lt;lgl&gt;</th><th scope=col>&lt;lgl&gt;</th><th scope=col>&lt;lgl&gt;</th><th scope=col>&lt;lgl&gt;</th><th scope=col>&lt;lgl&gt;</th><th scope=col>&lt;lgl&gt;</th><th scope=col>&lt;lgl&gt;</th></tr>\n",
       "</thead>\n",
       "<tbody>\n",
       "\t<tr><td>29186441</td><td>202005</td><td>61</td><td>2853.880</td><td>53033.33</td><td>2038.534</td><td>-168.4741</td><td> 863.5782</td><td>7</td><td>0</td><td>⋯</td><td>NA</td><td>       NA</td><td>         NA</td><td>  NA</td><td>TRUE</td><td>TRUE</td><td>TRUE</td><td>  NA</td><td>   NA</td><td>TRUE</td></tr>\n",
       "\t<tr><td>29186441</td><td>202006</td><td>61</td><td>      NA</td><td>      NA</td><td>      NA</td><td>       NA</td><td>       NA</td><td>7</td><td>0</td><td>⋯</td><td>NA</td><td>       NA</td><td>-247.790951</td><td>TRUE</td><td>TRUE</td><td>TRUE</td><td>TRUE</td><td>TRUE</td><td>   NA</td><td>TRUE</td></tr>\n",
       "\t<tr><td>29186441</td><td>202007</td><td>61</td><td>3052.337</td><td>53831.51</td><td>1970.036</td><td>-217.1336</td><td>1139.8112</td><td>7</td><td>0</td><td>⋯</td><td> 3</td><td>-71.77407</td><td> 176.016884</td><td>TRUE</td><td>TRUE</td><td>TRUE</td><td>TRUE</td><td>TRUE</td><td>FALSE</td><td>TRUE</td></tr>\n",
       "\t<tr><td>29186441</td><td>202008</td><td>61</td><td>4120.270</td><td>55020.54</td><td>1921.690</td><td>-228.3395</td><td>2102.6622</td><td>7</td><td>0</td><td>⋯</td><td>20</td><td>170.19916</td><td>  -5.817727</td><td>TRUE</td><td>TRUE</td><td>TRUE</td><td>TRUE</td><td>TRUE</td><td>FALSE</td><td>TRUE</td></tr>\n",
       "\t<tr><td>29186441</td><td>202009</td><td>61</td><td>4586.567</td><td>55348.24</td><td>1962.288</td><td>-236.0629</td><td>2473.2988</td><td>7</td><td>0</td><td>⋯</td><td> 1</td><td>104.61587</td><td> 110.433600</td><td>TRUE</td><td>TRUE</td><td>TRUE</td><td>TRUE</td><td>TRUE</td><td>FALSE</td><td>TRUE</td></tr>\n",
       "\t<tr><td>29186441</td><td>202010</td><td>61</td><td>5379.173</td><td>56610.47</td><td>1895.436</td><td>-220.9813</td><td>3190.9252</td><td>7</td><td>0</td><td>⋯</td><td> 4</td><td>228.20554</td><td> 117.771945</td><td>TRUE</td><td>TRUE</td><td>TRUE</td><td>TRUE</td><td>TRUE</td><td>FALSE</td><td>TRUE</td></tr>\n",
       "</tbody>\n",
       "</table>\n"
      ],
      "text/latex": [
       "A data.table: 6 × 82\n",
       "\\begin{tabular}{lllllllllllllllllllll}\n",
       " numero\\_de\\_cliente & foto\\_mes & cliente\\_edad & mrentabilidad & mrentabilidad\\_annual & mcomisiones & mactivos\\_margen & mpasivos\\_margen & cproductos & mcuenta\\_corriente & ⋯ & ctrx\\_quarter\\_delta2 & Visa\\_mpagominimo\\_delta2 & vm\\_mpagominimo\\_delta1 & gen\\_122 & gen\\_167 & gen\\_240 & gen\\_367 & gen\\_402 & gen\\_457 & gen\\_470\\\\\n",
       " <int> & <int> & <int> & <dbl> & <dbl> & <dbl> & <dbl> & <dbl> & <int> & <dbl> & ⋯ & <int> & <dbl> & <dbl> & <lgl> & <lgl> & <lgl> & <lgl> & <lgl> & <lgl> & <lgl>\\\\\n",
       "\\hline\n",
       "\t 29186441 & 202005 & 61 & 2853.880 & 53033.33 & 2038.534 & -168.4741 &  863.5782 & 7 & 0 & ⋯ & NA &        NA &          NA &   NA & TRUE & TRUE & TRUE &   NA &    NA & TRUE\\\\\n",
       "\t 29186441 & 202006 & 61 &       NA &       NA &       NA &        NA &        NA & 7 & 0 & ⋯ & NA &        NA & -247.790951 & TRUE & TRUE & TRUE & TRUE & TRUE &    NA & TRUE\\\\\n",
       "\t 29186441 & 202007 & 61 & 3052.337 & 53831.51 & 1970.036 & -217.1336 & 1139.8112 & 7 & 0 & ⋯ &  3 & -71.77407 &  176.016884 & TRUE & TRUE & TRUE & TRUE & TRUE & FALSE & TRUE\\\\\n",
       "\t 29186441 & 202008 & 61 & 4120.270 & 55020.54 & 1921.690 & -228.3395 & 2102.6622 & 7 & 0 & ⋯ & 20 & 170.19916 &   -5.817727 & TRUE & TRUE & TRUE & TRUE & TRUE & FALSE & TRUE\\\\\n",
       "\t 29186441 & 202009 & 61 & 4586.567 & 55348.24 & 1962.288 & -236.0629 & 2473.2988 & 7 & 0 & ⋯ &  1 & 104.61587 &  110.433600 & TRUE & TRUE & TRUE & TRUE & TRUE & FALSE & TRUE\\\\\n",
       "\t 29186441 & 202010 & 61 & 5379.173 & 56610.47 & 1895.436 & -220.9813 & 3190.9252 & 7 & 0 & ⋯ &  4 & 228.20554 &  117.771945 & TRUE & TRUE & TRUE & TRUE & TRUE & FALSE & TRUE\\\\\n",
       "\\end{tabular}\n"
      ],
      "text/markdown": [
       "\n",
       "A data.table: 6 × 82\n",
       "\n",
       "| numero_de_cliente &lt;int&gt; | foto_mes &lt;int&gt; | cliente_edad &lt;int&gt; | mrentabilidad &lt;dbl&gt; | mrentabilidad_annual &lt;dbl&gt; | mcomisiones &lt;dbl&gt; | mactivos_margen &lt;dbl&gt; | mpasivos_margen &lt;dbl&gt; | cproductos &lt;int&gt; | mcuenta_corriente &lt;dbl&gt; | ⋯ ⋯ | ctrx_quarter_delta2 &lt;int&gt; | Visa_mpagominimo_delta2 &lt;dbl&gt; | vm_mpagominimo_delta1 &lt;dbl&gt; | gen_122 &lt;lgl&gt; | gen_167 &lt;lgl&gt; | gen_240 &lt;lgl&gt; | gen_367 &lt;lgl&gt; | gen_402 &lt;lgl&gt; | gen_457 &lt;lgl&gt; | gen_470 &lt;lgl&gt; |\n",
       "|---|---|---|---|---|---|---|---|---|---|---|---|---|---|---|---|---|---|---|---|---|\n",
       "| 29186441 | 202005 | 61 | 2853.880 | 53033.33 | 2038.534 | -168.4741 |  863.5782 | 7 | 0 | ⋯ | NA |        NA |          NA |   NA | TRUE | TRUE | TRUE |   NA |    NA | TRUE |\n",
       "| 29186441 | 202006 | 61 |       NA |       NA |       NA |        NA |        NA | 7 | 0 | ⋯ | NA |        NA | -247.790951 | TRUE | TRUE | TRUE | TRUE | TRUE |    NA | TRUE |\n",
       "| 29186441 | 202007 | 61 | 3052.337 | 53831.51 | 1970.036 | -217.1336 | 1139.8112 | 7 | 0 | ⋯ |  3 | -71.77407 |  176.016884 | TRUE | TRUE | TRUE | TRUE | TRUE | FALSE | TRUE |\n",
       "| 29186441 | 202008 | 61 | 4120.270 | 55020.54 | 1921.690 | -228.3395 | 2102.6622 | 7 | 0 | ⋯ | 20 | 170.19916 |   -5.817727 | TRUE | TRUE | TRUE | TRUE | TRUE | FALSE | TRUE |\n",
       "| 29186441 | 202009 | 61 | 4586.567 | 55348.24 | 1962.288 | -236.0629 | 2473.2988 | 7 | 0 | ⋯ |  1 | 104.61587 |  110.433600 | TRUE | TRUE | TRUE | TRUE | TRUE | FALSE | TRUE |\n",
       "| 29186441 | 202010 | 61 | 5379.173 | 56610.47 | 1895.436 | -220.9813 | 3190.9252 | 7 | 0 | ⋯ |  4 | 228.20554 |  117.771945 | TRUE | TRUE | TRUE | TRUE | TRUE | FALSE | TRUE |\n",
       "\n"
      ],
      "text/plain": [
       "  numero_de_cliente foto_mes cliente_edad mrentabilidad mrentabilidad_annual\n",
       "1 29186441          202005   61           2853.880      53033.33            \n",
       "2 29186441          202006   61                 NA            NA            \n",
       "3 29186441          202007   61           3052.337      53831.51            \n",
       "4 29186441          202008   61           4120.270      55020.54            \n",
       "5 29186441          202009   61           4586.567      55348.24            \n",
       "6 29186441          202010   61           5379.173      56610.47            \n",
       "  mcomisiones mactivos_margen mpasivos_margen cproductos mcuenta_corriente ⋯\n",
       "1 2038.534    -168.4741        863.5782       7          0                 ⋯\n",
       "2       NA           NA              NA       7          0                 ⋯\n",
       "3 1970.036    -217.1336       1139.8112       7          0                 ⋯\n",
       "4 1921.690    -228.3395       2102.6622       7          0                 ⋯\n",
       "5 1962.288    -236.0629       2473.2988       7          0                 ⋯\n",
       "6 1895.436    -220.9813       3190.9252       7          0                 ⋯\n",
       "  ctrx_quarter_delta2 Visa_mpagominimo_delta2 vm_mpagominimo_delta1 gen_122\n",
       "1 NA                         NA                        NA             NA   \n",
       "2 NA                         NA               -247.790951           TRUE   \n",
       "3  3                  -71.77407                176.016884           TRUE   \n",
       "4 20                  170.19916                 -5.817727           TRUE   \n",
       "5  1                  104.61587                110.433600           TRUE   \n",
       "6  4                  228.20554                117.771945           TRUE   \n",
       "  gen_167 gen_240 gen_367 gen_402 gen_457 gen_470\n",
       "1 TRUE    TRUE    TRUE      NA       NA   TRUE   \n",
       "2 TRUE    TRUE    TRUE    TRUE       NA   TRUE   \n",
       "3 TRUE    TRUE    TRUE    TRUE    FALSE   TRUE   \n",
       "4 TRUE    TRUE    TRUE    TRUE    FALSE   TRUE   \n",
       "5 TRUE    TRUE    TRUE    TRUE    FALSE   TRUE   \n",
       "6 TRUE    TRUE    TRUE    TRUE    FALSE   TRUE   "
      ]
     },
     "metadata": {},
     "output_type": "display_data"
    }
   ],
   "source": [
    "head(dataset)"
   ]
  },
  {
   "cell_type": "code",
   "execution_count": null,
   "id": "22c0c799-e814-4a9d-b9f5-f80fd8f43b98",
   "metadata": {
    "id": "22c0c799-e814-4a9d-b9f5-f80fd8f43b98"
   },
   "outputs": [],
   "source": []
  },
  {
   "cell_type": "code",
   "execution_count": null,
   "id": "c54cc9bb-dc3c-467f-8759-3b599bcb2718",
   "metadata": {
    "id": "c54cc9bb-dc3c-467f-8759-3b599bcb2718"
   },
   "outputs": [],
   "source": []
  },
  {
   "cell_type": "markdown",
   "id": "cf91ea5e-3341-4afb-8d05-cc4923d3d1e1",
   "metadata": {
    "id": "cf91ea5e-3341-4afb-8d05-cc4923d3d1e1"
   },
   "source": [
    "### 6.3.2 Modelado"
   ]
  },
  {
   "cell_type": "markdown",
   "id": "526048e4-8cf2-4023-bd2d-a70e4e9ff157",
   "metadata": {
    "id": "526048e4-8cf2-4023-bd2d-a70e4e9ff157"
   },
   "source": [
    "#### 6.3.2.1 Training Strategy\n",
    "\n",
    "Esta etapa de Workflow de  Training Strategy esta pensada para la *Modalidad Gerencial* que posee el dataset de [202005, 202109]\n",
    "<br> Si usted es un Analista, posee el periodo de [201901, 202109] y deberá experimentar en que meses le conviene experimentar\n",
    "\n",
    "<br> A la *Modalidad Gerencial* no se le complicada la vida con el undersampling de los continua, por eso PARAM$trainingstrategy$training_pct <- 1.0\n",
    "<br> Sin embargo, si usted es  *Analista SR* posee un dataset 50 veces ( filas x columnas) más grande que la *Modalidad Gerencial*  y por un tema de velocidad y experimentación más rápida puede llegar a necesitar activar el undersampling de la clase mayoritaria, a pesar de estar corriendo en Google Cloud."
   ]
  },
  {
   "cell_type": "markdown",
   "id": "f16bc1c1-b3ea-43ca-9d3c-53f8f9ab8ec1",
   "metadata": {
    "id": "f16bc1c1-b3ea-43ca-9d3c-53f8f9ab8ec1"
   },
   "source": [
    "Se hace una estrategia de entrenamiento muy sencilla, tomando todos los meses posibles, SIN eliminar nada x pandemia ni por ningun otro motivo\n",
    "\n",
    "* future = 202109  obviamente completo\n",
    "\n",
    "* final_train =  [ 202005, 202107 ]  SIN undersampling\n",
    "\n",
    "* training\n",
    "   * testing = NO HAY\n",
    "   * validation =  202107   completo, sin undersampling\n",
    "   * training = [ 202005, 202106 ]  donde se consideran el 100% de los CONTINUA"
   ]
  },
  {
   "cell_type": "code",
   "execution_count": null,
   "id": "2c9c0a42-ba58-4264-8566-091a6161716f",
   "metadata": {
    "id": "2c9c0a42-ba58-4264-8566-091a6161716f"
   },
   "outputs": [],
   "source": [
    "PARAM$trainingstrategy$validate <- c(202107)\n",
    "\n",
    "PARAM$trainingstrategy$training <- c(\n",
    "  202106, 202105, 202104, 202103, 202102, 202101,\n",
    "  202012, 202011, 202010, 202009, 202008, 202007,\n",
    "  202006, 202005\n",
    ")\n",
    "\n",
    "PARAM$trainingstrategy$training_pct <- 1.0\n",
    "\n",
    "\n",
    "PARAM$trainingstrategy$positivos <- c( \"BAJA+1\", \"BAJA+2\")"
   ]
  },
  {
   "cell_type": "code",
   "execution_count": null,
   "id": "tv_trHWAj4a8",
   "metadata": {
    "id": "tv_trHWAj4a8"
   },
   "outputs": [],
   "source": [
    "# seteo la clase01   1={BAJA+1, BAJA+2}   0={CONTINUA}\n",
    "dataset[, clase01 := ifelse( clase_ternaria %in% PARAM$trainingstrategy$positivos, 1, 0 )]"
   ]
  },
  {
   "cell_type": "code",
   "execution_count": null,
   "id": "Ud_XDKSIj8f_",
   "metadata": {
    "id": "Ud_XDKSIj8f_"
   },
   "outputs": [],
   "source": [
    "# los campos en los que se entrena\n",
    "campos_buenos <- copy( setdiff(\n",
    "    colnames(dataset), c(\"clase_ternaria\",\"clase01\",\"azar\"))\n",
    ")"
   ]
  },
  {
   "cell_type": "code",
   "execution_count": null,
   "id": "rFKgZZPSj_Pa",
   "metadata": {
    "id": "rFKgZZPSj_Pa"
   },
   "outputs": [],
   "source": [
    "# preparo para que se puede hacer undersampling de los CONTINUA\n",
    "#  solamente por un tema de VELOCIDAD\n",
    "set.seed(PARAM$semilla_primigenia, kind = \"L'Ecuyer-CMRG\")\n",
    "dataset[, azar:=runif(nrow(dataset))]\n",
    "\n",
    "# undersampling de los CONTINUA\n",
    "dataset[, fold_train :=  foto_mes %in%  PARAM$trainingstrategy$training &\n",
    "    (clase_ternaria %in% c(\"BAJA+1\", \"BAJA+2\") |\n",
    "     azar < PARAM$trainingstrategy$training_pct ) ]\n",
    "\n",
    "\n",
    "if( !require(\"lightgbm\")) install.packages(\"lightgbm\")\n",
    "require(\"lightgbm\")\n",
    "\n",
    "dtrain <- lgb.Dataset(\n",
    "  data= data.matrix(dataset[fold_train == TRUE, campos_buenos, with = FALSE]),\n",
    "  label= dataset[fold_train == TRUE, clase01],\n",
    "  free_raw_data= TRUE\n",
    ")"
   ]
  },
  {
   "cell_type": "code",
   "execution_count": null,
   "id": "B3yo98kQkHcP",
   "metadata": {
    "colab": {
     "base_uri": "https://localhost:8080/",
     "height": 34
    },
    "id": "B3yo98kQkHcP",
    "outputId": "d11f28a8-9cf9-4bc2-a790-7d0116b85a8d"
   },
   "outputs": [
    {
     "data": {
      "text/html": [
       "16551"
      ],
      "text/latex": [
       "16551"
      ],
      "text/markdown": [
       "16551"
      ],
      "text/plain": [
       "[1] 16551"
      ]
     },
     "metadata": {},
     "output_type": "display_data"
    }
   ],
   "source": [
    "# datos de validation\n",
    "dvalidate <- lgb.Dataset(\n",
    "  data= data.matrix(dataset[foto_mes %in% PARAM$trainingstrategy$validate, campos_buenos, with = FALSE]),\n",
    "  label= dataset[foto_mes %in% PARAM$trainingstrategy$validate, clase01],\n",
    "  free_raw_data= TRUE\n",
    ")\n",
    "\n",
    "nrow(dvalidate)"
   ]
  },
  {
   "cell_type": "markdown",
   "id": "28e8f788-551c-4e50-9029-302ac0834287",
   "metadata": {
    "id": "28e8f788-551c-4e50-9029-302ac0834287"
   },
   "source": [
    "####  6.3.2.2. Hyperparameter Tuning"
   ]
  },
  {
   "cell_type": "markdown",
   "id": "bf5fc836-e222-4aeb-a6a8-157346895ef7",
   "metadata": {
    "id": "bf5fc836-e222-4aeb-a6a8-157346895ef7"
   },
   "source": [
    "* Clase binaria que se optimiza :  positivos = [ BAJA+1, BAJA+2 ]"
   ]
  },
  {
   "cell_type": "markdown",
   "id": "885c03b5-77bc-4510-a930-0d1f14b52ffb",
   "metadata": {
    "id": "885c03b5-77bc-4510-a930-0d1f14b52ffb"
   },
   "source": [
    "* Metrica que se optimiza **AUC** Area Under Curve de la  ROC Curve\n",
    "\n",
    "es muy importante notar que intencionalmente  **NO** se está optimizando la funcion de ganancia del problema"
   ]
  },
  {
   "cell_type": "markdown",
   "id": "b7e6f95c-66ef-4ab9-9ba3-fcc099816704",
   "metadata": {
    "id": "b7e6f95c-66ef-4ab9-9ba3-fcc099816704"
   },
   "source": [
    "* Cantidad de iteraciones inteligentes de la Optimizacion Bayesiana = **10**"
   ]
  },
  {
   "cell_type": "markdown",
   "id": "fe047a87-e2d0-4418-97dd-0a881e66d73a",
   "metadata": {
    "id": "fe047a87-e2d0-4418-97dd-0a881e66d73a"
   },
   "source": [
    "* Parametros no default, fijos de LightGBM que no se optimizan\n",
    "  * max_bin = 31 , Alienigenas Ancestrales contruyeron las pirámides y dejaron a la humanidad en un jeroglifico  *max_bin=31*\n",
    "  * feature_fraction = 0.5  para poner algo que generalmente no falla\n",
    "  * learning_rate = 0.03  para que aprenda lento\n"
   ]
  },
  {
   "cell_type": "markdown",
   "id": "1e7da08e-fe57-4681-beff-11fe963116bd",
   "metadata": {
    "id": "1e7da08e-fe57-4681-beff-11fe963116bd"
   },
   "source": [
    "* Parametros que se optimizan en la Bayesian Optimization\n",
    "  * num_leaves  [8, 256]\n",
    "  * min_data_in_leaf  [8, 8192]"
   ]
  },
  {
   "cell_type": "code",
   "execution_count": null,
   "id": "34V6y4GetKq_",
   "metadata": {
    "colab": {
     "base_uri": "https://localhost:8080/"
    },
    "id": "34V6y4GetKq_",
    "outputId": "e2f72fc7-f24b-4266-fc6d-c22f4cfc84cb"
   },
   "outputs": [
    {
     "name": "stderr",
     "output_type": "stream",
     "text": [
      "Loading required package: DiceKriging\n",
      "\n",
      "Warning message in library(package, lib.loc = lib.loc, character.only = TRUE, logical.return = TRUE, :\n",
      "“there is no package called ‘DiceKriging’”\n",
      "Installing package into ‘/usr/local/lib/R/site-library’\n",
      "(as ‘lib’ is unspecified)\n",
      "\n",
      "Loading required package: DiceKriging\n",
      "\n",
      "Loading required package: mlrMBO\n",
      "\n",
      "Warning message in library(package, lib.loc = lib.loc, character.only = TRUE, logical.return = TRUE, :\n",
      "“there is no package called ‘mlrMBO’”\n",
      "Installing package into ‘/usr/local/lib/R/site-library’\n",
      "(as ‘lib’ is unspecified)\n",
      "\n",
      "also installing the dependencies ‘XML’, ‘fastmatch’, ‘mlr’, ‘ParamHelpers’, ‘smoof’, ‘BBmisc’, ‘checkmate’, ‘lhs’, ‘parallelMap’\n",
      "\n",
      "\n",
      "Loading required package: mlrMBO\n",
      "\n",
      "Loading required package: mlr\n",
      "\n",
      "Loading required package: ParamHelpers\n",
      "\n",
      "\n",
      "Attaching package: ‘ParamHelpers’\n",
      "\n",
      "\n",
      "The following object is masked from ‘package:R.utils’:\n",
      "\n",
      "    isVector\n",
      "\n",
      "\n",
      "\n",
      "Attaching package: ‘mlr’\n",
      "\n",
      "\n",
      "The following objects are masked from ‘package:R.utils’:\n",
      "\n",
      "    resample, setThreshold\n",
      "\n",
      "\n",
      "Loading required package: smoof\n",
      "\n",
      "Loading required package: checkmate\n",
      "\n",
      "\n",
      "Attaching package: ‘checkmate’\n",
      "\n",
      "\n",
      "The following object is masked from ‘package:DiceKriging’:\n",
      "\n",
      "    checkNames\n",
      "\n",
      "\n",
      "The following object is masked from ‘package:R.utils’:\n",
      "\n",
      "    asInt\n",
      "\n",
      "\n",
      "\n",
      "Attaching package: ‘smoof’\n",
      "\n",
      "\n",
      "The following objects are masked from ‘package:R.oo’:\n",
      "\n",
      "    getDescription, getName\n",
      "\n",
      "\n"
     ]
    }
   ],
   "source": [
    "# paquetes necesarios para la Bayesian Optimization\n",
    "if(!require(\"DiceKriging\")) install.packages(\"DiceKriging\")\n",
    "require(\"DiceKriging\")\n",
    "\n",
    "if(!require(\"mlrMBO\")) install.packages(\"mlrMBO\")\n",
    "require(\"mlrMBO\")"
   ]
  },
  {
   "cell_type": "markdown",
   "id": "UFbDSYtH0TTT",
   "metadata": {
    "id": "UFbDSYtH0TTT"
   },
   "source": [
    "Definición de la Bayesian Optimization\n",
    "<br> Si se desea optimizar un hiperparámetro que esta como fijo, debe QUITARSE de param_fijos y agregarse a PARAM$hipeparametertuning$hs"
   ]
  },
  {
   "cell_type": "code",
   "execution_count": null,
   "id": "5Uag3XGHqrfZ",
   "metadata": {
    "id": "5Uag3XGHqrfZ"
   },
   "outputs": [],
   "source": [
    "# valor ridiculamente bajo para que corra rapido en el aula y no molestar a la *Modalidad Gerencial*\n",
    "PARAM$hipeparametertuning$num_interations <- 30\n",
    "\n",
    "# parametros fijos del LightGBM\n",
    "PARAM$lgbm$param_fijos <- list(\n",
    "  objective= \"binary\",\n",
    "  metric= \"auc\",\n",
    "  first_metric_only= TRUE,\n",
    "  boost_from_average= TRUE,\n",
    "  feature_pre_filter= FALSE,\n",
    "  verbosity= -100,\n",
    "  force_row_wise= TRUE, # para evitar warning\n",
    "  seed= PARAM$semilla_primigenia,\n",
    "  max_bin= 31,\n",
    "  #learning_rate= 0.03,\n",
    "  #feature_fraction= 0.5,\n",
    "  num_iterations= 2048,  # valor grande, lo limita early_stopping_rounds\n",
    "  early_stopping_rounds= 200\n",
    ")\n",
    "\n",
    "PARAM$hipeparametertuning$hs <- makeParamSet(\n",
    "  makeIntegerParam(\"num_leaves\", lower = 1500L, upper = 2500L),\n",
    "  makeIntegerParam(\"min_data_in_leaf\", lower = 11, upper = 250L),\n",
    "  makeNumericParam(\"learning_rate\", lower = 0.001, upper = .3),\n",
    "  makeNumericParam(\"feature_fraction\", lower = 0.3, upper = .8)\n",
    ")"
   ]
  },
  {
   "cell_type": "markdown",
   "id": "FEa1UuuAz4yj",
   "metadata": {
    "id": "FEa1UuuAz4yj"
   },
   "source": [
    "Función \"señora caja negra\"  que es llamada para verificar la realidad por la Bayesian Optimization"
   ]
  },
  {
   "cell_type": "code",
   "execution_count": null,
   "id": "2c10f535-8d90-47d1-ac3d-9b4c24ec21d2",
   "metadata": {
    "id": "2c10f535-8d90-47d1-ac3d-9b4c24ec21d2"
   },
   "outputs": [],
   "source": [
    "# En  x llegan los parmaetros de la bayesiana\n",
    "#  devuelve la AUC en validate del modelo entrenado\n",
    "#  en el parametro x llegan los hiperparámetros que se estan optimizando\n",
    "\n",
    "EstimarGanancia_AUC_lightgbm <- function(x) {\n",
    "\n",
    "  # x pisa (o agrega) a param_fijos\n",
    "  param_completo <- modifyList(PARAM$lgbm$param_fijos, x)\n",
    "\n",
    "  # entreno LightGBM\n",
    "  modelo_train <- lgb.train(\n",
    "    data= dtrain,\n",
    "    valids= list(valid = dvalidate),\n",
    "    eval= \"auc\",\n",
    "    param= param_completo,\n",
    "    verbose= -100\n",
    "  )\n",
    "\n",
    "  # recupero la AUC en validation\n",
    "  AUC <- modelo_train$record_evals$valid$auc$eval[[modelo_train$best_iter]]\n",
    "\n",
    "  # esta es la forma de devolver un parametro extra\n",
    "  attr(AUC, \"extras\") <- list(\"num_iterations\"= modelo_train$best_iter)\n",
    "\n",
    "  # hago espacio en la memoria\n",
    "  rm(modelo_train)\n",
    "  gc(full= TRUE, verbose= FALSE)\n",
    "\n",
    "  message(format(Sys.time(), \"%a %b %d %X %Y\"), \" AUC \", AUC)\n",
    "\n",
    "  return(AUC)\n",
    "}"
   ]
  },
  {
   "cell_type": "markdown",
   "id": "267a35d4-adaf-4271-a875-3864111333b7",
   "metadata": {
    "id": "267a35d4-adaf-4271-a875-3864111333b7"
   },
   "source": [
    "seteo de la Bayesian Optimization (complejo)\n",
    "<br> copiado y pegado de la documentación de la librería"
   ]
  },
  {
   "cell_type": "code",
   "execution_count": null,
   "id": "43c2a92d-1041-46b8-bff2-47297f209ed2",
   "metadata": {
    "id": "43c2a92d-1041-46b8-bff2-47297f209ed2"
   },
   "outputs": [],
   "source": [
    "configureMlr(show.learner.output = FALSE)\n",
    "\n",
    "# configuro la busqueda bayesiana,  los hiperparametros que se van a optimizar\n",
    "# por favor, no desesperarse por lo complejo\n",
    "obj.fun <- makeSingleObjectiveFunction(\n",
    "    fn= EstimarGanancia_AUC_lightgbm, # la funcion que voy a maximizar\n",
    "    minimize= FALSE, # estoy Maximizando AUC\n",
    "    noisy= FALSE,\n",
    "    par.set= PARAM$hipeparametertuning$hs,\n",
    "    has.simple.signature= FALSE # paso los parametros en una lista\n",
    ")\n",
    "\n",
    "# cada 600 segundos guardo el resultado intermedio\n",
    "ctrl <- makeMBOControl(\n",
    "    save.on.disk.at.time= 600,\n",
    "    save.file.path= \"HT.RDATA\"\n",
    ")\n",
    "\n",
    "# indico la cantidad de iteraciones que va a tener la Bayesian Optimization\n",
    "ctrl <- setMBOControlTermination(\n",
    "    ctrl,\n",
    "    iters= PARAM$hipeparametertuning$num_interations  # cantidad de iteraciones inteligentes\n",
    ")\n",
    "\n",
    "# defino el método estandar para la creacion de los puntos iniciales\n",
    "#   los \"No Inteligentes\"\n",
    "ctrl <- setMBOControlInfill(ctrl, crit = makeMBOInfillCritEI())\n",
    "\n",
    "# mas configuraciones\n",
    "surr.km <- makeLearner(\n",
    "    \"regr.km\",\n",
    "    predict.type= \"se\",\n",
    "    covtype= \"matern3_2\",\n",
    "    control= list(trace = TRUE)\n",
    ")"
   ]
  },
  {
   "cell_type": "markdown",
   "id": "6c1e5645-d26f-4923-a53f-f30471a4c4e8",
   "metadata": {
    "id": "6c1e5645-d26f-4923-a53f-f30471a4c4e8"
   },
   "source": [
    "Corrida de la Bayesian Optimization,  aqui se hace el trabajo pesado\n",
    "<br> por favor no se asuste con los warnings que pudieran aparecer\n",
    "\n",
    "Si corrío a medias y llegó a las iteraciones inteligentes, en el archivo binario HT.RDATA quedó lo ya procesado y es utilizado para retomar la corrida desde lo último que llegó a grabar."
   ]
  },
  {
   "cell_type": "code",
   "execution_count": null,
   "id": "1f8cab3f-c7e2-4802-bfd1-5ad509922a4e",
   "metadata": {
    "colab": {
     "base_uri": "https://localhost:8080/"
    },
    "id": "1f8cab3f-c7e2-4802-bfd1-5ad509922a4e",
    "outputId": "20408e8d-8752-4c94-c9a7-5157538a6e2c",
    "scrolled": true
   },
   "outputs": [
    {
     "name": "stderr",
     "output_type": "stream",
     "text": [
      "Computing y column(s) for design. Not provided.\n",
      "\n",
      "Wed Aug 13 02:41:28 AM 2025 AUC 0.930863179163027\n",
      "\n",
      "Wed Aug 13 02:43:46 AM 2025 AUC 0.930148825591607\n",
      "\n",
      "Wed Aug 13 02:45:51 AM 2025 AUC 0.926955667444431\n",
      "\n",
      "Wed Aug 13 02:48:25 AM 2025 AUC 0.925496374939466\n",
      "\n",
      "Wed Aug 13 02:51:09 AM 2025 AUC 0.918303485572746\n",
      "\n",
      "Wed Aug 13 02:54:00 AM 2025 AUC 0.924197423878363\n",
      "\n",
      "Wed Aug 13 02:56:12 AM 2025 AUC 0.92363831419045\n",
      "\n",
      "Wed Aug 13 02:57:30 AM 2025 AUC 0.926684338209227\n",
      "\n",
      "Wed Aug 13 03:01:40 AM 2025 AUC 0.929614276876308\n",
      "\n",
      "Wed Aug 13 03:04:07 AM 2025 AUC 0.914274095820232\n",
      "\n",
      "Wed Aug 13 03:14:18 AM 2025 AUC 0.931621325412033\n",
      "\n",
      "Wed Aug 13 03:17:14 AM 2025 AUC 0.940823580387368\n",
      "\n",
      "Wed Aug 13 03:19:28 AM 2025 AUC 0.903860243431678\n",
      "\n",
      "Wed Aug 13 03:23:03 AM 2025 AUC 0.933063239870337\n",
      "\n",
      "Wed Aug 13 03:28:28 AM 2025 AUC 0.940026507313841\n",
      "\n",
      "Wed Aug 13 03:30:09 AM 2025 AUC 0.920925021838412\n",
      "\n",
      "[mbo] 0: num_leaves=2271; min_data_in_leaf=91; learning_rate=0.077; feature_fraction=0.511 : y = 0.931 : 218.4 secs : initdesign\n",
      "\n",
      "[mbo] 0: num_leaves=2113; min_data_in_leaf=161; learning_rate=0.109; feature_fraction=0.412 : y = 0.93 : 138.0 secs : initdesign\n",
      "\n",
      "[mbo] 0: num_leaves=1657; min_data_in_leaf=190; learning_rate=0.174; feature_fraction=0.477 : y = 0.927 : 124.3 secs : initdesign\n",
      "\n",
      "[mbo] 0: num_leaves=2028; min_data_in_leaf=159; learning_rate=0.148; feature_fraction=0.577 : y = 0.925 : 154.5 secs : initdesign\n",
      "\n",
      "[mbo] 0: num_leaves=1892; min_data_in_leaf=110; learning_rate=0.244; feature_fraction=0.791 : y = 0.918 : 164.2 secs : initdesign\n",
      "\n",
      "[mbo] 0: num_leaves=1512; min_data_in_leaf=41; learning_rate=0.211; feature_fraction=0.6 : y = 0.924 : 171.4 secs : initdesign\n",
      "\n",
      "[mbo] 0: num_leaves=2342; min_data_in_leaf=57; learning_rate=0.167; feature_fraction=0.523 : y = 0.924 : 131.8 secs : initdesign\n",
      "\n",
      "[mbo] 0: num_leaves=1707; min_data_in_leaf=132; learning_rate=0.196; feature_fraction=0.307 : y = 0.927 : 77.9 secs : initdesign\n",
      "\n",
      "[mbo] 0: num_leaves=1786; min_data_in_leaf=221; learning_rate=0.123; feature_fraction=0.62 : y = 0.93 : 249.9 secs : initdesign\n",
      "\n",
      "[mbo] 0: num_leaves=1940; min_data_in_leaf=219; learning_rate=0.291; feature_fraction=0.712 : y = 0.914 : 146.6 secs : initdesign\n",
      "\n",
      "[mbo] 0: num_leaves=2384; min_data_in_leaf=126; learning_rate=0.00305; feature_fraction=0.749 : y = 0.932 : 611.4 secs : initdesign\n",
      "\n",
      "[mbo] 0: num_leaves=1563; min_data_in_leaf=202; learning_rate=0.0377; feature_fraction=0.366 : y = 0.941 : 175.8 secs : initdesign\n",
      "\n",
      "[mbo] 0: num_leaves=2167; min_data_in_leaf=36; learning_rate=0.27; feature_fraction=0.662 : y = 0.904 : 133.8 secs : initdesign\n",
      "\n",
      "[mbo] 0: num_leaves=2464; min_data_in_leaf=72; learning_rate=0.067; feature_fraction=0.343 : y = 0.933 : 215.2 secs : initdesign\n",
      "\n",
      "[mbo] 0: num_leaves=1828; min_data_in_leaf=24; learning_rate=0.0494; feature_fraction=0.69 : y = 0.94 : 324.6 secs : initdesign\n",
      "\n",
      "[mbo] 0: num_leaves=2227; min_data_in_leaf=248; learning_rate=0.233; feature_fraction=0.45 : y = 0.921 : 101.2 secs : initdesign\n",
      "\n",
      "Saved the current state after iteration 1 in the file HT.RDATA.\n",
      "\n",
      "Wed Aug 13 03:36:22 AM 2025 AUC 0.944064933650618\n",
      "\n",
      "[mbo] 1: num_leaves=1576; min_data_in_leaf=11; learning_rate=0.0203; feature_fraction=0.325 : y = 0.944 : 372.0 secs : infill_ei\n",
      "\n",
      "Wed Aug 13 03:39:23 AM 2025 AUC 0.897585030782313\n",
      "\n",
      "[mbo] 2: num_leaves=1500; min_data_in_leaf=11; learning_rate=0.0013; feature_fraction=0.758 : y = 0.898 : 180.6 secs : infill_ei\n",
      "\n",
      "Wed Aug 13 03:42:42 AM 2025 AUC 0.942763202102049\n",
      "\n",
      "[mbo] 3: num_leaves=1784; min_data_in_leaf=11; learning_rate=0.0407; feature_fraction=0.344 : y = 0.943 : 198.9 secs : infill_ei\n",
      "\n",
      "Saved the current state after iteration 4 in the file HT.RDATA.\n",
      "\n",
      "Wed Aug 13 03:50:06 AM 2025 AUC 0.944963262809358\n",
      "\n",
      "[mbo] 4: num_leaves=1655; min_data_in_leaf=87; learning_rate=0.0214; feature_fraction=0.3 : y = 0.945 : 443.2 secs : infill_ei\n",
      "\n",
      "Wed Aug 13 03:58:22 AM 2025 AUC 0.938144349006787\n",
      "\n",
      "[mbo] 5: num_leaves=1876; min_data_in_leaf=42; learning_rate=0.0228; feature_fraction=0.511 : y = 0.938 : 495.4 secs : infill_ei\n",
      "\n",
      "Saved the current state after iteration 6 in the file HT.RDATA.\n",
      "\n",
      "Wed Aug 13 04:03:04 AM 2025 AUC 0.940363178004491\n",
      "\n",
      "[mbo] 6: num_leaves=1985; min_data_in_leaf=105; learning_rate=0.0205; feature_fraction=0.319 : y = 0.94 : 281.8 secs : infill_ei\n",
      "\n",
      "Wed Aug 13 04:09:46 AM 2025 AUC 0.937496958841834\n",
      "\n",
      "[mbo] 7: num_leaves=2500; min_data_in_leaf=161; learning_rate=0.0418; feature_fraction=0.69 : y = 0.937 : 401.5 secs : infill_ei\n",
      "\n",
      "Saved the current state after iteration 8 in the file HT.RDATA.\n",
      "\n",
      "Wed Aug 13 04:14:29 AM 2025 AUC 0.940757312102767\n",
      "\n",
      "[mbo] 8: num_leaves=1500; min_data_in_leaf=43; learning_rate=0.03; feature_fraction=0.3 : y = 0.941 : 282.5 secs : infill_ei\n",
      "\n",
      "Wed Aug 13 04:17:59 AM 2025 AUC 0.935728800520878\n",
      "\n",
      "[mbo] 9: num_leaves=1691; min_data_in_leaf=70; learning_rate=0.052; feature_fraction=0.446 : y = 0.936 : 209.7 secs : infill_ei\n",
      "\n",
      "Wed Aug 13 04:30:16 AM 2025 AUC 0.936018898046476\n",
      "\n",
      "[mbo] 10: num_leaves=1750; min_data_in_leaf=174; learning_rate=0.00103; feature_fraction=0.324 : y = 0.936 : 736.2 secs : infill_ei\n",
      "\n",
      "Saved the current state after iteration 11 in the file HT.RDATA.\n",
      "\n",
      "Wed Aug 13 04:36:17 AM 2025 AUC 0.93790105635353\n",
      "\n",
      "[mbo] 11: num_leaves=1729; min_data_in_leaf=22; learning_rate=0.0239; feature_fraction=0.338 : y = 0.938 : 360.2 secs : infill_ei\n",
      "\n",
      "Wed Aug 13 04:40:12 AM 2025 AUC 0.943425189826196\n",
      "\n",
      "[mbo] 12: num_leaves=1605; min_data_in_leaf=86; learning_rate=0.0493; feature_fraction=0.3 : y = 0.943 : 235.2 secs : infill_ei\n",
      "\n",
      "Wed Aug 13 04:43:15 AM 2025 AUC 0.936476519941888\n",
      "\n",
      "[mbo] 13: num_leaves=1869; min_data_in_leaf=37; learning_rate=0.0557; feature_fraction=0.3 : y = 0.936 : 182.0 secs : infill_ei\n",
      "\n",
      "Saved the current state after iteration 14 in the file HT.RDATA.\n",
      "\n",
      "Wed Aug 13 04:48:35 AM 2025 AUC 0.939902543914324\n",
      "\n",
      "[mbo] 14: num_leaves=1542; min_data_in_leaf=168; learning_rate=0.0177; feature_fraction=0.3 : y = 0.94 : 319.9 secs : infill_ei\n",
      "\n",
      "Wed Aug 13 04:52:50 AM 2025 AUC 0.937448300311183\n",
      "\n",
      "[mbo] 15: num_leaves=1639; min_data_in_leaf=88; learning_rate=0.0415; feature_fraction=0.301 : y = 0.937 : 254.3 secs : infill_ei\n",
      "\n",
      "Wed Aug 13 04:57:27 AM 2025 AUC 0.934453251895945\n",
      "\n",
      "[mbo] 16: num_leaves=1967; min_data_in_leaf=25; learning_rate=0.0396; feature_fraction=0.515 : y = 0.934 : 276.2 secs : infill_ei\n",
      "\n",
      "Saved the current state after iteration 17 in the file HT.RDATA.\n",
      "\n",
      "Wed Aug 13 05:01:20 AM 2025 AUC 0.939432409825316\n",
      "\n",
      "[mbo] 17: num_leaves=1559; min_data_in_leaf=91; learning_rate=0.0493; feature_fraction=0.35 : y = 0.939 : 232.7 secs : infill_ei\n",
      "\n",
      "Wed Aug 13 05:09:06 AM 2025 AUC 0.944318189717294\n",
      "\n",
      "[mbo] 18: num_leaves=1589; min_data_in_leaf=98; learning_rate=0.0218; feature_fraction=0.301 : y = 0.944 : 465.5 secs : infill_ei\n",
      "\n",
      "Saved the current state after iteration 19 in the file HT.RDATA.\n",
      "\n",
      "Wed Aug 13 05:14:34 AM 2025 AUC 0.942732616739925\n",
      "\n",
      "[mbo] 19: num_leaves=2191; min_data_in_leaf=11; learning_rate=0.0396; feature_fraction=0.392 : y = 0.943 : 327.1 secs : infill_ei\n",
      "\n",
      "Wed Aug 13 05:17:20 AM 2025 AUC 0.938088507550182\n",
      "\n",
      "[mbo] 20: num_leaves=1941; min_data_in_leaf=17; learning_rate=0.0479; feature_fraction=0.303 : y = 0.938 : 166.3 secs : infill_ei\n",
      "\n",
      "Wed Aug 13 05:21:20 AM 2025 AUC 0.936706141865105\n",
      "\n",
      "[mbo] 21: num_leaves=1875; min_data_in_leaf=58; learning_rate=0.0404; feature_fraction=0.388 : y = 0.937 : 239.0 secs : infill_ei\n",
      "\n",
      "Saved the current state after iteration 22 in the file HT.RDATA.\n",
      "\n",
      "Wed Aug 13 05:29:24 AM 2025 AUC 0.944418518973351\n",
      "\n",
      "[mbo] 22: num_leaves=1510; min_data_in_leaf=63; learning_rate=0.0179; feature_fraction=0.3 : y = 0.944 : 483.5 secs : infill_ei\n",
      "\n",
      "Wed Aug 13 05:33:25 AM 2025 AUC 0.939993141464251\n",
      "\n",
      "[mbo] 23: num_leaves=2337; min_data_in_leaf=12; learning_rate=0.0366; feature_fraction=0.325 : y = 0.94 : 241.0 secs : infill_ei\n",
      "\n",
      "Saved the current state after iteration 24 in the file HT.RDATA.\n",
      "\n",
      "Wed Aug 13 05:36:19 AM 2025 AUC 0.941948287567282\n",
      "\n",
      "[mbo] 24: num_leaves=1603; min_data_in_leaf=11; learning_rate=0.0501; feature_fraction=0.301 : y = 0.942 : 172.3 secs : infill_ei\n",
      "\n",
      "Wed Aug 13 05:44:36 AM 2025 AUC 0.943485897135866\n",
      "\n",
      "[mbo] 25: num_leaves=1628; min_data_in_leaf=58; learning_rate=0.0182; feature_fraction=0.3 : y = 0.943 : 497.0 secs : infill_ei\n",
      "\n",
      "Saved the current state after iteration 26 in the file HT.RDATA.\n",
      "\n",
      "Wed Aug 13 05:47:38 AM 2025 AUC 0.9322228375338\n",
      "\n",
      "[mbo] 26: num_leaves=1662; min_data_in_leaf=91; learning_rate=0.00853; feature_fraction=0.344 : y = 0.932 : 181.0 secs : infill_ei\n",
      "\n",
      "Wed Aug 13 05:50:07 AM 2025 AUC 0.937465446650555\n",
      "\n",
      "[mbo] 27: num_leaves=1570; min_data_in_leaf=176; learning_rate=0.0515; feature_fraction=0.301 : y = 0.937 : 148.8 secs : infill_ei\n",
      "\n",
      "Wed Aug 13 05:55:21 AM 2025 AUC 0.937208714974547\n",
      "\n",
      "[mbo] 28: num_leaves=1668; min_data_in_leaf=190; learning_rate=0.0235; feature_fraction=0.488 : y = 0.937 : 313.7 secs : infill_ei\n",
      "\n",
      "Saved the current state after iteration 29 in the file HT.RDATA.\n",
      "\n",
      "Wed Aug 13 06:01:17 AM 2025 AUC 0.932638520409937\n",
      "\n",
      "[mbo] 29: num_leaves=2478; min_data_in_leaf=137; learning_rate=0.0505; feature_fraction=0.799 : y = 0.933 : 355.7 secs : infill_ei\n",
      "\n",
      "Wed Aug 13 06:04:13 AM 2025 AUC 0.942901531353472\n",
      "\n",
      "[mbo] 30: num_leaves=1746; min_data_in_leaf=32; learning_rate=0.0484; feature_fraction=0.3 : y = 0.943 : 174.9 secs : infill_ei\n",
      "\n",
      "Saved the final state in the file HT.RDATA\n",
      "\n"
     ]
    }
   ],
   "source": [
    "# inicio la optimizacion bayesiana\n",
    "\n",
    "if (!file.exists(\"HT.RDATA\")) {\n",
    "  bayesiana_salida <- mbo(obj.fun, learner= surr.km, control= ctrl)\n",
    "} else {\n",
    "  bayesiana_salida <- mboContinue(\"HT.RDATA\") # retomo en caso que ya exista\n",
    "}"
   ]
  },
  {
   "cell_type": "markdown",
   "id": "36307612-964f-4df3-907a-1bc3c095f178",
   "metadata": {
    "id": "36307612-964f-4df3-907a-1bc3c095f178"
   },
   "source": [
    "la bayesian optimization ha corrido, extraigo los mejores hiperparametros"
   ]
  },
  {
   "cell_type": "code",
   "execution_count": null,
   "id": "8c061a2a-3341-4006-a154-c95bb6cfd407",
   "metadata": {
    "colab": {
     "base_uri": "https://localhost:8080/"
    },
    "id": "8c061a2a-3341-4006-a154-c95bb6cfd407",
    "outputId": "4b189740-4449-4e15-cf6e-e8a39c18138a"
   },
   "outputs": [
    {
     "name": "stdout",
     "output_type": "stream",
     "text": [
      "   num_leaves min_data_in_leaf num_iterations\n",
      "        <int>            <int>          <int>\n",
      "1:       1655               87            940\n"
     ]
    }
   ],
   "source": [
    "# almaceno los resultados de la Bayesian Optimization\n",
    "# y capturo los mejores hiperparametros encontrados\n",
    "\n",
    "tb_bayesiana <- as.data.table(bayesiana_salida$opt.path)\n",
    "\n",
    "# ordeno en forma descendente por AUC = y\n",
    "setorder(tb_bayesiana, -y, -num_iterations)\n",
    "\n",
    "# grabo para eventualmente poder utilizarlos en OTRA corrida\n",
    "fwrite( tb_bayesiana,\n",
    "  file=\"BO_log.txt\",\n",
    "  sep=\"\\t\"\n",
    ")\n",
    "\n",
    "# los mejores hiperparámetros son los que quedaron en el registro 1 de la tabla\n",
    "PARAM$out$lgbm$mejores_hiperparametros <- tb_bayesiana[\n",
    "  1, # el primero es el de mejor AUC\n",
    "  list(num_leaves, min_data_in_leaf, num_iterations)\n",
    "]\n",
    "\n",
    "print(PARAM$out$lgbm$mejores_hiperparametros)"
   ]
  },
  {
   "cell_type": "markdown",
   "id": "ddb554cb-1d96-4f6b-ae1c-c9a076f8dbdc",
   "metadata": {
    "id": "ddb554cb-1d96-4f6b-ae1c-c9a076f8dbdc"
   },
   "source": [
    "### 6.3.3 Produccion"
   ]
  },
  {
   "cell_type": "markdown",
   "id": "c39492c3-756f-47a5-8747-93ade8275306",
   "metadata": {
    "id": "c39492c3-756f-47a5-8747-93ade8275306"
   },
   "source": [
    "#### Final Training\n",
    "Construyo el modelo final, que es uno solo, no hace ningun tipo de particion < training, validation, testing>]"
   ]
  },
  {
   "cell_type": "markdown",
   "id": "xhKi_G_sYQqq",
   "metadata": {
    "id": "xhKi_G_sYQqq"
   },
   "source": [
    "##### Final Training Dataset\n",
    "\n",
    "Aqui esta la gran decision de en qué meses hago el Final Training\n",
    "<br> debo utilizar los mejores hiperparámetros que encontré en la optimización bayesiana"
   ]
  },
  {
   "cell_type": "code",
   "execution_count": null,
   "id": "qyHfS_X0zd7o",
   "metadata": {
    "colab": {
     "base_uri": "https://localhost:8080/",
     "height": 34
    },
    "id": "qyHfS_X0zd7o",
    "outputId": "7f217315-dad2-408a-aa63-9db1c9e762fb"
   },
   "outputs": [
    {
     "data": {
      "text/html": [
       "240562"
      ],
      "text/latex": [
       "240562"
      ],
      "text/markdown": [
       "240562"
      ],
      "text/plain": [
       "[1] 240562"
      ]
     },
     "metadata": {},
     "output_type": "display_data"
    }
   ],
   "source": [
    "PARAM$trainingstrategy$final_train <- c( 202107,\n",
    "  202106, 202105, 202104, 202103, 202102, 202101,\n",
    "  202012, 202011, 202010, 202009, 202008, 202007,\n",
    "  202006, 202005\n",
    ")\n",
    "\n",
    "dataset[, fold_final_train := foto_mes %in% PARAM$trainingstrategy$final_train ]\n",
    "\n",
    "# creo el dfinal_train en formato  LightGBM\n",
    "dfinal_train <- lgb.Dataset(\n",
    "  data= data.matrix(dataset[fold_final_train == TRUE, campos_buenos, with= FALSE]),\n",
    "  label= dataset[fold_final_train == TRUE, clase01],\n",
    "  free_raw_data= TRUE\n",
    ")\n",
    "\n",
    "nrow( dfinal_train) # verifico el tamaño"
   ]
  },
  {
   "cell_type": "markdown",
   "id": "HATRyklxYUpT",
   "metadata": {
    "id": "HATRyklxYUpT"
   },
   "source": [
    "##### Final Training Hyperparameters"
   ]
  },
  {
   "cell_type": "code",
   "execution_count": null,
   "id": "d6b9f33c-e0a0-4ea6-8169-4a6180cc5d01",
   "metadata": {
    "id": "d6b9f33c-e0a0-4ea6-8169-4a6180cc5d01"
   },
   "outputs": [],
   "source": [
    "# uno los parametros fijos y los mejores encontrados de los variables\n",
    "fijos <- copy(PARAM$lgbm$param_fijos)\n",
    "\n",
    "# quito lo que optimice en la Bayesian Optimization\n",
    "fijos$num_iterations <- NULL\n",
    "fijos$early_stopping_rounds <- NULL\n",
    "\n",
    "# agrego a los hiperparametros fijos los que encontre con la Bayesian Optimization\n",
    "param_final <- c(fijos, PARAM$out$lgbm$mejores_hiperparametros)"
   ]
  },
  {
   "cell_type": "markdown",
   "id": "05d3494f-0401-4f3e-9b69-f488a737879d",
   "metadata": {
    "id": "05d3494f-0401-4f3e-9b69-f488a737879d"
   },
   "source": [
    "##### Training\n",
    "Genero el modelo final, siempre sobre TODOS los datos de  final_train, sin hacer ningun tipo de undersampling de la clase mayoritaria"
   ]
  },
  {
   "cell_type": "code",
   "execution_count": null,
   "id": "fa239848-1c28-4ee5-984a-073903b4b279",
   "metadata": {
    "id": "fa239848-1c28-4ee5-984a-073903b4b279"
   },
   "outputs": [],
   "source": [
    "final_model <- lgb.train(\n",
    "  data= dfinal_train,\n",
    "  param= param_final,\n",
    "  verbose= -100\n",
    ")"
   ]
  },
  {
   "cell_type": "code",
   "execution_count": null,
   "id": "RC1ju-5MZN5s",
   "metadata": {
    "id": "RC1ju-5MZN5s"
   },
   "outputs": [],
   "source": [
    "# grabo a disco el modelo en un formato para seres humanos ... ponele ...\n",
    "\n",
    "lgb.save(final_model, \"modelo.txt\")"
   ]
  },
  {
   "cell_type": "code",
   "execution_count": null,
   "id": "VEpv4RYOZHTU",
   "metadata": {
    "id": "VEpv4RYOZHTU"
   },
   "outputs": [],
   "source": [
    "# ahora imprimo la importancia de variables\n",
    "\n",
    "tb_importancia <- as.data.table(lgb.importance(final_model))\n",
    "archivo_importancia <- \"impo.txt\"\n",
    "\n",
    "fwrite( tb_importancia,\n",
    "  file= archivo_importancia,\n",
    "  sep= \"\\t\"\n",
    ")"
   ]
  },
  {
   "cell_type": "markdown",
   "id": "7ea225b3-ce02-42e2-8330-b10ed250d172",
   "metadata": {
    "id": "7ea225b3-ce02-42e2-8330-b10ed250d172"
   },
   "source": [
    "#### Scoring"
   ]
  },
  {
   "cell_type": "markdown",
   "id": "164981bb-f4c1-4228-8bc9-32e58a383c05",
   "metadata": {
    "id": "164981bb-f4c1-4228-8bc9-32e58a383c05"
   },
   "source": [
    "Aplico el modelo final a los datos del futuro"
   ]
  },
  {
   "cell_type": "code",
   "execution_count": null,
   "id": "eJ7RbT271v-R",
   "metadata": {
    "id": "eJ7RbT271v-R"
   },
   "outputs": [],
   "source": [
    "PARAM$trainingstrategy$future <- c(202109)\n",
    "\n",
    "dfuture <- dataset[ foto_mes %in% PARAM$trainingstrategy$future ]"
   ]
  },
  {
   "cell_type": "code",
   "execution_count": null,
   "id": "88ca61c8-fa24-4ce5-8be1-323aca018e8f",
   "metadata": {
    "id": "88ca61c8-fa24-4ce5-8be1-323aca018e8f"
   },
   "outputs": [],
   "source": [
    "# aplico final_model   a dfuture\n",
    "\n",
    "prediccion <- predict(\n",
    "  final_model,\n",
    "  data.matrix(dfuture[, campos_buenos, with= FALSE])\n",
    ")"
   ]
  },
  {
   "cell_type": "markdown",
   "id": "79u0ZvjJZblE",
   "metadata": {
    "id": "79u0ZvjJZblE"
   },
   "source": [
    "##### Tabla Prediccion"
   ]
  },
  {
   "cell_type": "code",
   "execution_count": null,
   "id": "TB6aerGDZeTo",
   "metadata": {
    "id": "TB6aerGDZeTo"
   },
   "outputs": [],
   "source": [
    "tb_prediccion <- dfuture[, list(numero_de_cliente)]\n",
    "tb_prediccion[, prob := prediccion]\n",
    "\n",
    "# grabo las probabilidad del modelo\n",
    "#  me va a ser util para hacer Ensembles de modelos\n",
    "fwrite(tb_prediccion,\n",
    "  file= \"prediccion.txt\",\n",
    "  sep= \"\\t\"\n",
    ")"
   ]
  },
  {
   "cell_type": "markdown",
   "id": "8412d838-5bd5-454e-b3a9-5eaa18d80a50",
   "metadata": {
    "id": "8412d838-5bd5-454e-b3a9-5eaa18d80a50"
   },
   "source": [
    "#### Kaggle Competition Submit"
   ]
  },
  {
   "cell_type": "markdown",
   "id": "55970cb6-856a-46e3-a893-7f36b8352b8e",
   "metadata": {
    "id": "55970cb6-856a-46e3-a893-7f36b8352b8e"
   },
   "source": [
    "Genero las salidas y hago los submits a Kaggle\n",
    "<br>El notebook esta preparado para la Modalidad Gerencial, los analistas deben hacer cambios.\n",
    "<br> Los analistas deben cambiar **competencia** a SU competencia  \"data-mining-analista-jr-2025-a\"   o  la original \"data-mining-analista-sr-2025-a\"  para los Senior\n",
    "<br> Los cortes  dependen de la cantidad de registros, multiplicar por 2 para los Analistas Jr y por 10 para los Analista Sr\n",
    "\n",
    "Los Analista Sr luego de meditar cuidadosamente reducirán la cantidad de cortes"
   ]
  },
  {
   "cell_type": "code",
   "execution_count": null,
   "id": "e5fa2439-b0e9-49e0-a861-71d7315d6e1c",
   "metadata": {
    "colab": {
     "base_uri": "https://localhost:8080/"
    },
    "id": "e5fa2439-b0e9-49e0-a861-71d7315d6e1c",
    "outputId": "3be8566b-4042-4d69-aecb-4b6d40fe71c0"
   },
   "outputs": [
    {
     "name": "stdout",
     "output_type": "stream",
     "text": [
      "-m 'envios=800  semilla=424243'"
     ]
    },
    {
     "name": "stderr",
     "output_type": "stream",
     "text": [
      "Warning message in system(linea, intern = TRUE):\n",
      "“running command 'kaggle competitions submit -c data-mining-gerencial-2025-a -f ./kaggle/KA6300_generencia_FE_gen_testB2_800.csv -m 'envios=800  semilla=424243'' had status 1”\n"
     ]
    },
    {
     "name": "stdout",
     "output_type": "stream",
     "text": [
      " \n",
      "-m 'envios=850  semilla=424243'"
     ]
    },
    {
     "name": "stderr",
     "output_type": "stream",
     "text": [
      "Warning message in system(linea, intern = TRUE):\n",
      "“running command 'kaggle competitions submit -c data-mining-gerencial-2025-a -f ./kaggle/KA6300_generencia_FE_gen_testB2_850.csv -m 'envios=850  semilla=424243'' had status 1”\n"
     ]
    },
    {
     "name": "stdout",
     "output_type": "stream",
     "text": [
      " \n",
      "-m 'envios=900  semilla=424243'"
     ]
    },
    {
     "name": "stderr",
     "output_type": "stream",
     "text": [
      "Warning message in system(linea, intern = TRUE):\n",
      "“running command 'kaggle competitions submit -c data-mining-gerencial-2025-a -f ./kaggle/KA6300_generencia_FE_gen_testB2_900.csv -m 'envios=900  semilla=424243'' had status 1”\n"
     ]
    },
    {
     "name": "stdout",
     "output_type": "stream",
     "text": [
      " \n",
      "-m 'envios=950  semilla=424243'"
     ]
    },
    {
     "name": "stderr",
     "output_type": "stream",
     "text": [
      "Warning message in system(linea, intern = TRUE):\n",
      "“running command 'kaggle competitions submit -c data-mining-gerencial-2025-a -f ./kaggle/KA6300_generencia_FE_gen_testB2_950.csv -m 'envios=950  semilla=424243'' had status 1”\n"
     ]
    },
    {
     "name": "stdout",
     "output_type": "stream",
     "text": [
      " \n",
      "-m 'envios=1000  semilla=424243'"
     ]
    },
    {
     "name": "stderr",
     "output_type": "stream",
     "text": [
      "Warning message in system(linea, intern = TRUE):\n",
      "“running command 'kaggle competitions submit -c data-mining-gerencial-2025-a -f ./kaggle/KA6300_generencia_FE_gen_testB2_1000.csv -m 'envios=1000  semilla=424243'' had status 1”\n"
     ]
    },
    {
     "name": "stdout",
     "output_type": "stream",
     "text": [
      " \n",
      "-m 'envios=1050  semilla=424243'"
     ]
    },
    {
     "name": "stderr",
     "output_type": "stream",
     "text": [
      "Warning message in system(linea, intern = TRUE):\n",
      "“running command 'kaggle competitions submit -c data-mining-gerencial-2025-a -f ./kaggle/KA6300_generencia_FE_gen_testB2_1050.csv -m 'envios=1050  semilla=424243'' had status 1”\n"
     ]
    },
    {
     "name": "stdout",
     "output_type": "stream",
     "text": [
      " \n",
      "-m 'envios=1100  semilla=424243'"
     ]
    },
    {
     "name": "stderr",
     "output_type": "stream",
     "text": [
      "Warning message in system(linea, intern = TRUE):\n",
      "“running command 'kaggle competitions submit -c data-mining-gerencial-2025-a -f ./kaggle/KA6300_generencia_FE_gen_testB2_1100.csv -m 'envios=1100  semilla=424243'' had status 1”\n"
     ]
    },
    {
     "name": "stdout",
     "output_type": "stream",
     "text": [
      " \n",
      "-m 'envios=1150  semilla=424243'"
     ]
    },
    {
     "name": "stderr",
     "output_type": "stream",
     "text": [
      "Warning message in system(linea, intern = TRUE):\n",
      "“running command 'kaggle competitions submit -c data-mining-gerencial-2025-a -f ./kaggle/KA6300_generencia_FE_gen_testB2_1150.csv -m 'envios=1150  semilla=424243'' had status 1”\n"
     ]
    },
    {
     "name": "stdout",
     "output_type": "stream",
     "text": [
      " \n",
      "-m 'envios=1200  semilla=424243'"
     ]
    },
    {
     "name": "stderr",
     "output_type": "stream",
     "text": [
      "Warning message in system(linea, intern = TRUE):\n",
      "“running command 'kaggle competitions submit -c data-mining-gerencial-2025-a -f ./kaggle/KA6300_generencia_FE_gen_testB2_1200.csv -m 'envios=1200  semilla=424243'' had status 1”\n"
     ]
    },
    {
     "name": "stdout",
     "output_type": "stream",
     "text": [
      " \n",
      "-m 'envios=1250  semilla=424243'"
     ]
    },
    {
     "name": "stderr",
     "output_type": "stream",
     "text": [
      "Warning message in system(linea, intern = TRUE):\n",
      "“running command 'kaggle competitions submit -c data-mining-gerencial-2025-a -f ./kaggle/KA6300_generencia_FE_gen_testB2_1250.csv -m 'envios=1250  semilla=424243'' had status 1”\n"
     ]
    },
    {
     "name": "stdout",
     "output_type": "stream",
     "text": [
      " \n",
      "-m 'envios=1300  semilla=424243'"
     ]
    },
    {
     "name": "stderr",
     "output_type": "stream",
     "text": [
      "Warning message in system(linea, intern = TRUE):\n",
      "“running command 'kaggle competitions submit -c data-mining-gerencial-2025-a -f ./kaggle/KA6300_generencia_FE_gen_testB2_1300.csv -m 'envios=1300  semilla=424243'' had status 1”\n"
     ]
    },
    {
     "name": "stdout",
     "output_type": "stream",
     "text": [
      " \n"
     ]
    }
   ],
   "source": [
    "# genero archivos con los  \"envios\" mejores\n",
    "# suba TODOS los archivos a Kaggle\n",
    "\n",
    "PARAM$kaggle$competencia <- \"data-mining-gerencial-2025-a\"\n",
    "PARAM$kaggle$cortes <- seq(800, 1300, by = 50)\n",
    "\n",
    "# ordeno por probabilidad descendente\n",
    "setorder(tb_prediccion, -prob)\n",
    "\n",
    "dir.create(\"kaggle\")\n",
    "\n",
    "for (envios in PARAM$kaggle$cortes) {\n",
    "\n",
    "  tb_prediccion[, Predicted := 0L] # seteo inicial a 0\n",
    "  tb_prediccion[1:envios, Predicted := 1L] # marclo los primeros\n",
    "\n",
    "  archivo_kaggle <- paste0(\"./kaggle/KA\", PARAM$experimento, \"_\", envios, \".csv\")\n",
    "\n",
    "  # grabo el archivo\n",
    "  fwrite(tb_prediccion[, list(numero_de_cliente, Predicted)],\n",
    "    file= archivo_kaggle,\n",
    "    sep= \",\"\n",
    "  )\n",
    "\n",
    "  # subida a Kaggle, armo la linea de comando\n",
    "  comando <- \"kaggle competitions submit\"\n",
    "  competencia <- paste(\"-c\", PARAM$kaggle$competencia)\n",
    "  arch <- paste( \"-f\", archivo_kaggle)\n",
    "\n",
    "  mensaje <- paste0(\"-m 'envios=\", envios,\n",
    "  \"  semilla=\", PARAM$semilla_primigenia,\n",
    "    \"'\" )\n",
    "    cat(mensaje)\n",
    "  linea <- paste( comando, competencia, arch, mensaje)\n",
    "  salida <- system(linea, intern=TRUE) # el submit a Kaggle\n",
    "  cat(salida, \"\\n\")\n",
    "}"
   ]
  },
  {
   "cell_type": "code",
   "execution_count": null,
   "id": "C94tK-xid6p2",
   "metadata": {
    "colab": {
     "base_uri": "https://localhost:8080/"
    },
    "id": "C94tK-xid6p2",
    "outputId": "91c264c3-ac87-44aa-a6d9-a413e002e4b2"
   },
   "outputs": [
    {
     "name": "stderr",
     "output_type": "stream",
     "text": [
      "Loading required package: yaml\n",
      "\n"
     ]
    }
   ],
   "source": [
    "# grabo los parametros\n",
    "if( !require(\"yaml\")) install.packages(\"yaml\")\n",
    "require(\"yaml\")\n",
    "\n",
    "write_yaml( PARAM, file=\"PARAM.yml\")"
   ]
  },
  {
   "cell_type": "code",
   "execution_count": null,
   "id": "1b615a62-20cc-4e95-9af2-6b6db38d5efb",
   "metadata": {
    "colab": {
     "base_uri": "https://localhost:8080/",
     "height": 34
    },
    "id": "1b615a62-20cc-4e95-9af2-6b6db38d5efb",
    "outputId": "8cb98a4d-b8c4-43da-d462-51cbbd87489a"
   },
   "outputs": [
    {
     "data": {
      "text/html": [
       "'Wed Aug 13 06:14:52 AM 2025'"
      ],
      "text/latex": [
       "'Wed Aug 13 06:14:52 AM 2025'"
      ],
      "text/markdown": [
       "'Wed Aug 13 06:14:52 AM 2025'"
      ],
      "text/plain": [
       "[1] \"Wed Aug 13 06:14:52 AM 2025\""
      ]
     },
     "metadata": {},
     "output_type": "display_data"
    }
   ],
   "source": [
    "format(Sys.time(), \"%a %b %d %X %Y\")"
   ]
  },
  {
   "cell_type": "code",
   "execution_count": null,
   "id": "0742bae0-3c73-42f5-a559-df70af9e1674",
   "metadata": {
    "id": "0742bae0-3c73-42f5-a559-df70af9e1674"
   },
   "outputs": [],
   "source": []
  }
 ],
 "metadata": {
  "colab": {
   "provenance": []
  },
  "kernelspec": {
   "display_name": "R",
   "language": "R",
   "name": "ir"
  },
  "language_info": {
   "codemirror_mode": "r",
   "file_extension": ".r",
   "mimetype": "text/x-r-source",
   "name": "R",
   "pygments_lexer": "r",
   "version": "4.5.1"
  }
 },
 "nbformat": 4,
 "nbformat_minor": 5
}
