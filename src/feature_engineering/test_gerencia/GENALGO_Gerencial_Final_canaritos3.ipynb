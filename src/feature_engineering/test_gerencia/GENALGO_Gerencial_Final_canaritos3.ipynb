{
 "cells": [
  {
   "cell_type": "markdown",
   "id": "85171302-a2d6-48cb-b9b2-8d839a276859",
   "metadata": {
    "id": "85171302-a2d6-48cb-b9b2-8d839a276859"
   },
   "source": [
    "## Inicializacion"
   ]
  },
  {
   "cell_type": "markdown",
   "id": "eSU5vi00CPRS",
   "metadata": {
    "id": "eSU5vi00CPRS"
   },
   "source": [
    "Esta parte se debe correr con el runtime en lenguaje **R** Ir al menu, Runtime -> Change Runtime Type -> Runtime type -> R"
   ]
  },
  {
   "cell_type": "markdown",
   "id": "Zq8dySimCPRT",
   "metadata": {
    "id": "Zq8dySimCPRT"
   },
   "source": [
    "limpio el ambiente de R"
   ]
  },
  {
   "cell_type": "code",
   "execution_count": null,
   "id": "EL8wdHaUs59K",
   "metadata": {
    "colab": {
     "base_uri": "https://localhost:8080/",
     "height": 34
    },
    "id": "EL8wdHaUs59K",
    "outputId": "1cc07b5d-1bcd-4f95-8b6b-81272f013c49"
   },
   "outputs": [],
   "source": [
    "format(Sys.time(), \"%a %b %d %X %Y\")"
   ]
  },
  {
   "cell_type": "code",
   "execution_count": null,
   "id": "1iE0U4_WCPRT",
   "metadata": {
    "colab": {
     "base_uri": "https://localhost:8080/",
     "height": 129
    },
    "id": "1iE0U4_WCPRT",
    "outputId": "7470f831-79c3-4242-f0bb-fff699ae12cf"
   },
   "outputs": [],
   "source": [
    "# limpio la memoria\n",
    "rm(list=ls(all.names=TRUE)) # remove all objects\n",
    "gc(full=TRUE, verbose=FALSE) # garbage collection"
   ]
  },
  {
   "cell_type": "code",
   "execution_count": null,
   "id": "bf65dd12-5293-40d0-b534-0792e80f6ce8",
   "metadata": {
    "id": "bf65dd12-5293-40d0-b534-0792e80f6ce8",
    "vscode": {
     "languageId": "r"
    }
   },
   "outputs": [],
   "source": [
    "add_log = function(message){\n",
    "    cat(message, file = paste0(getwd(), '/logs.txt'),append=TRUE)\n",
    "}"
   ]
  },
  {
   "cell_type": "code",
   "execution_count": null,
   "id": "6fae952b-fe5b-4f1c-8ad7-5f466a989c7d",
   "metadata": {},
   "outputs": [],
   "source": [
    "NTFY_LINK <- \"https://ntfy.sh/lh-dm2025\"\n",
    "notif <- function(mensaje){\n",
    "        system(sprintf('curl -d  \"%s -- %s\" %s', format(Sys.time(), \"%m-%d %H:%M\"), mensaje, NTFY_LINK)) \n",
    "}\n",
    "notif(\"Notifications activated\")"
   ]
  },
  {
   "cell_type": "code",
   "execution_count": null,
   "id": "atmIUEUNUrK5",
   "metadata": {
    "colab": {
     "base_uri": "https://localhost:8080/"
    },
    "id": "atmIUEUNUrK5",
    "outputId": "782288d6-b22a-4417-b6da-395d9bcc9839",
    "scrolled": true
   },
   "outputs": [],
   "source": [
    "require(\"data.table\")\n",
    "require(\"csv\")\n",
    "if( !require(\"R.utils\")) install.packages(\"R.utils\")\n",
    "require(\"R.utils\")"
   ]
  },
  {
   "cell_type": "markdown",
   "id": "BsxZ_ONyj9L_",
   "metadata": {
    "id": "BsxZ_ONyj9L_"
   },
   "source": [
    "#### Parametros\n",
    "Si es gerente, no cambie nada\n",
    "<br>Si es Analista, cambie el nombre del dataset"
   ]
  },
  {
   "cell_type": "code",
   "execution_count": null,
   "id": "peRH7ySLCPRV",
   "metadata": {
    "id": "peRH7ySLCPRV"
   },
   "outputs": [],
   "source": [
    "PARAM <- list()\n",
    "PARAM$semilla_primigenia <- 700001\n",
    "\n",
    "PARAM$experimento <- \"6300_generencia_FE_newApproach_2\"\n",
    "PARAM$dataset <- \"gerencial_competencia_2025.csv.gz\""
   ]
  },
  {
   "cell_type": "markdown",
   "id": "NoJbKo_4NG8A",
   "metadata": {
    "id": "NoJbKo_4NG8A"
   },
   "source": [
    "#### Carpeta del Experimento"
   ]
  },
  {
   "cell_type": "code",
   "execution_count": null,
   "id": "1gZD6ZMvCPRV",
   "metadata": {
    "id": "1gZD6ZMvCPRV"
   },
   "outputs": [],
   "source": [
    "# carpeta de trabajo\n",
    "\n",
    "experimento_folder <- paste0(\"WF\", PARAM$experimento)\n",
    "dir.create(paste0(\"./exp/\",experimento_folder), showWarnings=FALSE)\n",
    "setwd( paste0(\"./exp/\", experimento_folder ))"
   ]
  },
  {
   "cell_type": "markdown",
   "id": "YVKBfLtkR8SO",
   "metadata": {
    "id": "YVKBfLtkR8SO"
   },
   "source": [
    "### 6.3.1   Preprocesamiento del dataset"
   ]
  },
  {
   "cell_type": "markdown",
   "id": "cr3K0RPVRjq6",
   "metadata": {
    "id": "cr3K0RPVRjq6"
   },
   "source": [
    "#### 6.3.1.1  DT incorporar dataset"
   ]
  },
  {
   "cell_type": "code",
   "execution_count": null,
   "id": "Xi0emX2ECPRV",
   "metadata": {
    "id": "Xi0emX2ECPRV"
   },
   "outputs": [],
   "source": [
    "# lectura del dataset\n",
    "dataset <- fread(\"~/content/datasets/gerencial_competencia_2025.csv.gz\")"
   ]
  },
  {
   "cell_type": "markdown",
   "id": "MWuPzK3nSLY3",
   "metadata": {
    "id": "MWuPzK3nSLY3"
   },
   "source": [
    "#### 6.3.1.2  CA  Catastrophe Analysis\n",
    "Se intentan reparar las variables que para un mes están con todos los valores en cero."
   ]
  },
  {
   "cell_type": "markdown",
   "id": "UAI16-yCVcBS",
   "metadata": {
    "id": "UAI16-yCVcBS"
   },
   "source": [
    "El método que se utiliza es **Machine Learning** se asigna NA also valores, si ha leido bien, es la \"anti imputación de valores faltantes\"\n",
    "<br> Usted podrá aplicar aquí otros métodos"
   ]
  },
  {
   "cell_type": "code",
   "execution_count": null,
   "id": "sTmliO_FXv9E",
   "metadata": {
    "id": "sTmliO_FXv9E"
   },
   "outputs": [],
   "source": [
    "dataset[ foto_mes==202006, internet:=NA]\n",
    "dataset[ foto_mes==202006, mrentabilidad:=NA]\n",
    "dataset[ foto_mes==202006, mrentabilidad_annual:=NA]\n",
    "dataset[ foto_mes==202006, mcomisiones:=NA]\n",
    "dataset[ foto_mes==202006, mactivos_margen:=NA]\n",
    "dataset[ foto_mes==202006, mpasivos_margen:=NA]\n",
    "dataset[ foto_mes==202006, mcuentas_saldo:=NA]\n",
    "dataset[ foto_mes==202006, ctarjeta_visa_transacciones:=NA]\n",
    "dataset[ foto_mes==202006, mtarjeta_visa_consumo:=NA]\n",
    "dataset[ foto_mes==202006, mtarjeta_master_consumo:=NA]\n",
    "dataset[ foto_mes==202006, ccallcenter_transacciones:=NA]\n",
    "dataset[ foto_mes==202006, chomebanking_transacciones:=NA]\n",
    "dataset[ foto_mes==202006, chomebanking_transacciones:=NA]"
   ]
  },
  {
   "cell_type": "markdown",
   "id": "-4NiANYFSYHG",
   "metadata": {
    "id": "-4NiANYFSYHG"
   },
   "source": [
    "#### 6.3.1.3  DR  Data Drifting\n",
    "Se intenta corregir el data drifting, quizas ajustando por IPC ...\n",
    "<br>Esta parte podrá ser abordada por todos los Analistas y también la Gerenciapero se decide pedagogicamente no incluirla en esta primer version para reducir la carga cognitiva"
   ]
  },
  {
   "cell_type": "markdown",
   "id": "7sppIDYeSn5X",
   "metadata": {
    "id": "7sppIDYeSn5X"
   },
   "source": [
    "#### 6.3.1.3  FE_intra_manual Feature Engineering intra-mes\n",
    "\n",
    "Agrego campos nuevos dentro del mismo mes, SIN considerar la historia."
   ]
  },
  {
   "cell_type": "code",
   "execution_count": null,
   "id": "qrqf3j3_St3p",
   "metadata": {
    "id": "qrqf3j3_St3p"
   },
   "outputs": [],
   "source": [
    "# esta funcion atributos presentes existe debido a que las modalidades poseen datasets con distinta cantidad de campos\n",
    "atributos_presentes <- function( patributos )\n",
    "{\n",
    "  atributos <- unique( patributos )\n",
    "  comun <- intersect( atributos, colnames(dataset) )\n",
    "\n",
    "  return(  length( atributos ) == length( comun ) )\n",
    "}\n",
    "\n",
    "# el mes 1,2, ..12\n",
    "if( atributos_presentes( c(\"foto_mes\") ))\n",
    "  dataset[, kmes := foto_mes %% 100]\n",
    "\n",
    "# variable extraida de una tesis de maestria de Irlanda\n",
    "if( atributos_presentes( c(\"mpayroll\", \"cliente_edad\") ))\n",
    "  dataset[, mpayroll_sobre_edad := mpayroll / cliente_edad]\n"
   ]
  },
  {
   "cell_type": "code",
   "execution_count": null,
   "id": "iC4viwOdY5Kp",
   "metadata": {
    "colab": {
     "base_uri": "https://localhost:8080/",
     "height": 156
    },
    "id": "iC4viwOdY5Kp",
    "outputId": "05bdb939-926b-48dd-f00f-dbb3a1e86ca7"
   },
   "outputs": [],
   "source": [
    "# visualizo las columas del dataset a esta etapa\n",
    "colnames(dataset)"
   ]
  },
  {
   "cell_type": "markdown",
   "id": "6e3c57bf-2ef3-4b04-a512-cb30f728c98b",
   "metadata": {
    "id": "6e3c57bf-2ef3-4b04-a512-cb30f728c98b"
   },
   "source": [
    "#### 9.7.1.3  DR  Data Drifting\n",
    "Se intenta corregir el data drifting, ajustando por algunos indices financieros"
   ]
  },
  {
   "cell_type": "code",
   "execution_count": null,
   "id": "8da403e2-102b-4bb4-94d0-e41d4b1e498d",
   "metadata": {
    "id": "8da403e2-102b-4bb4-94d0-e41d4b1e498d",
    "vscode": {
     "languageId": "r"
    }
   },
   "outputs": [],
   "source": [
    "# meses que me interesan para el ajuste de variables monetarias\n",
    "vfoto_mes <- c(\n",
    "  201901, 201902, 201903, 201904, 201905, 201906,\n",
    "  201907, 201908, 201909, 201910, 201911, 201912,\n",
    "  202001, 202002, 202003, 202004, 202005, 202006,\n",
    "  202007, 202008, 202009, 202010, 202011, 202012,\n",
    "  202101, 202102, 202103, 202104, 202105, 202106,\n",
    "  202107, 202108, 202109\n",
    ")\n",
    "# los valores que siguen fueron calculados por alumnos\n",
    "\n",
    "# momento 1.0  31-dic-2020 a las 23:59\n",
    "vIPC <- c(\n",
    "  1.9903030878, 1.9174403544, 1.8296186587,\n",
    "  1.7728862972, 1.7212488323, 1.6776304408,\n",
    "  1.6431248196, 1.5814483345, 1.4947526791,\n",
    "  1.4484037589, 1.3913580777, 1.3404220402,\n",
    "  1.3154288912, 1.2921698342, 1.2472681797,\n",
    "  1.2300475145, 1.2118694724, 1.1881073259,\n",
    "  1.1693969743, 1.1375456949, 1.1065619600,\n",
    "  1.0681100000, 1.0370000000, 1.0000000000,\n",
    "  0.9680542110, 0.9344152616, 0.8882274350,\n",
    "  0.8532444140, 0.8251880213, 0.8003763543,\n",
    "  0.7763107219, 0.7566381305, 0.7289384687\n",
    ")\n",
    "\n",
    "vdolar_blue <- c(\n",
    "   39.045455,  38.402500,  41.639474,\n",
    "   44.274737,  46.095455,  45.063333,\n",
    "   43.983333,  54.842857,  61.059524,\n",
    "   65.545455,  66.750000,  72.368421,\n",
    "   77.477273,  78.191667,  82.434211,\n",
    "  101.087500, 126.236842, 125.857143,\n",
    "  130.782609, 133.400000, 137.954545,\n",
    "  170.619048, 160.400000, 153.052632,\n",
    "  157.900000, 149.780952, 143.615385,\n",
    "  146.250000, 153.550000, 162.000000,\n",
    "  178.478261, 180.878788, 184.357143\n",
    ")\n",
    "\n",
    "vdolar_oficial <- c(\n",
    "   38.430000,  39.428000,  42.542105,\n",
    "   44.354211,  46.088636,  44.955000,\n",
    "   43.751429,  54.650476,  58.790000,\n",
    "   61.403182,  63.012632,  63.011579,\n",
    "   62.983636,  63.580556,  65.200000,\n",
    "   67.872000,  70.047895,  72.520952,\n",
    "   75.324286,  77.488500,  79.430909,\n",
    "   83.134762,  85.484737,  88.181667,\n",
    "   91.474000,  93.997778,  96.635909,\n",
    "   98.526000,  99.613158, 100.619048,\n",
    "  101.619048, 102.569048, 103.781818\n",
    ")\n",
    "\n",
    "vUVA <- c(\n",
    "  2.001408838932958,  1.950325472789153,  1.89323032351521,\n",
    "  1.8247220405493787, 1.746027787673673,  1.6871348409529485,\n",
    "  1.6361678865622313, 1.5927529755859773, 1.5549162794128493,\n",
    "  1.4949100586391746, 1.4197729500774545, 1.3678188186372326,\n",
    "  1.3136508617223726, 1.2690535173062818, 1.2381595983200178,\n",
    "  1.211656735577568,  1.1770808941405335, 1.1570338657445522,\n",
    "  1.1388769475653255, 1.1156993751209352, 1.093638313080772,\n",
    "  1.0657171590878205, 1.0362173587708712, 1.0,\n",
    "  0.9669867858358365, 0.9323750098728378, 0.8958202912590305,\n",
    "  0.8631993702994263, 0.8253893405524657, 0.7928918905364516,\n",
    "  0.7666323845128089, 0.7428976357662823, 0.721615762047849\n",
    ")\n",
    "\n",
    "tb_indices <- as.data.table( list(\n",
    "  \"IPC\" = vIPC,\n",
    "  \"dolar_blue\" = vdolar_blue,\n",
    "  \"dolar_oficial\" = vdolar_oficial,\n",
    "  \"UVA\" = vUVA\n",
    "  )\n",
    ")\n",
    "\n",
    "tb_indices[[\"foto_mes\"]] <- vfoto_mes\n",
    "\n",
    "# tb_indices"
   ]
  },
  {
   "cell_type": "code",
   "execution_count": null,
   "id": "f45d86db-0902-4383-b241-68e2c8c6a873",
   "metadata": {
    "id": "f45d86db-0902-4383-b241-68e2c8c6a873",
    "vscode": {
     "languageId": "r"
    }
   },
   "outputs": [],
   "source": [
    "## TODO: juntar en una funcion...\n",
    "\n",
    "drift_UVA <- function(campos_monetarios) {\n",
    "  cat( \"inicio drift_UVA()\\n\")\n",
    "\n",
    "  dataset[tb_indices,\n",
    "    on = c(\"foto_mes\"),\n",
    "    (campos_monetarios) := .SD * i.UVA,\n",
    "    .SDcols = campos_monetarios\n",
    "  ]\n",
    "\n",
    "  cat( \"fin drift_UVA()\\n\")\n",
    "}\n",
    "drift_dolar_oficial <- function(campos_monetarios) {\n",
    "  cat( \"inicio drift_dolar_oficial()\\n\")\n",
    "\n",
    "  dataset[tb_indices,\n",
    "    on = c(\"foto_mes\"),\n",
    "    (campos_monetarios) := .SD / i.dolar_oficial,\n",
    "    .SDcols = campos_monetarios\n",
    "  ]\n",
    "\n",
    "  cat( \"fin drift_dolar_oficial()\\n\")\n",
    "}\n",
    "drift_dolar_blue <- function(campos_monetarios) {\n",
    "  cat( \"inicio drift_dolar_blue()\\n\")\n",
    "\n",
    "  dataset[tb_indices,\n",
    "    on = c(\"foto_mes\"),\n",
    "    (campos_monetarios) := .SD / i.dolar_blue,\n",
    "    .SDcols = campos_monetarios\n",
    "  ]\n",
    "\n",
    "  cat( \"fin drift_dolar_blue()\\n\")\n",
    "}\n",
    "drift_deflacion <- function(campos_monetarios) {\n",
    "  cat( \"inicio drift_deflacion()\\n\")\n",
    "\n",
    "  dataset[tb_indices,\n",
    "    on = c(\"foto_mes\"),\n",
    "    (campos_monetarios) := .SD * i.IPC,\n",
    "    .SDcols = campos_monetarios\n",
    "  ]\n",
    "\n",
    "  cat( \"fin drift_deflacion()\\n\")\n",
    "}\n",
    "drift_rank_simple <- function(campos_drift) {\n",
    "\n",
    "  cat( \"inicio drift_rank_simple()\\n\")\n",
    "  for (campo in campos_drift)\n",
    "  {\n",
    "    cat(campo, \" \")\n",
    "    dataset[, paste0(campo, \"_rank\") :=\n",
    "      (frank(get(campo), ties.method = \"random\") - 1) / (.N - 1), by = list(foto_mes)]\n",
    "    dataset[, (campo) := NULL]\n",
    "  }\n",
    "  cat( \"fin drift_rank_simple()\\n\")\n",
    "}\n",
    "# El cero se transforma en cero\n",
    "# los positivos se rankean por su lado\n",
    "# los negativos se rankean por su lado\n",
    "\n",
    "drift_rank_cero_fijo <- function(campos_drift) {\n",
    "\n",
    "  cat( \"inicio drift_rank_cero_fijo()\\n\")\n",
    "  for (campo in campos_drift)\n",
    "  {\n",
    "    cat(campo, \" \")\n",
    "    dataset[get(campo) == 0, paste0(campo, \"_rank\") := 0]\n",
    "    dataset[get(campo) > 0, paste0(campo, \"_rank\") :=\n",
    "      frank(get(campo), ties.method = \"random\") / .N, by = list(foto_mes)]\n",
    "\n",
    "    dataset[get(campo) < 0, paste0(campo, \"_rank\") :=\n",
    "      -frank(-get(campo), ties.method = \"random\") / .N, by = list(foto_mes)]\n",
    "    dataset[, (campo) := NULL]\n",
    "  }\n",
    "  cat(\"\\n\")\n",
    "  cat( \"fin drift_rank_cero_fijo()\\n\")\n",
    "}\n",
    "drift_estandarizar <- function(campos_drift) {\n",
    "\n",
    "  cat( \"inicio drift_estandarizar()\\n\")\n",
    "  for (campo in campos_drift)\n",
    "  {\n",
    "    cat(campo, \" \")\n",
    "    dataset[, paste0(campo, \"_normal\") :=\n",
    "      (get(campo) -mean(campo, na.rm=TRUE)) / sd(get(campo), na.rm=TRUE),\n",
    "      by = list(foto_mes)]\n",
    "\n",
    "    dataset[, (campo) := NULL]\n",
    "  }\n",
    "  cat( \"fin drift_estandarizar()\\n\")\n",
    "}\n"
   ]
  },
  {
   "cell_type": "code",
   "execution_count": null,
   "id": "dfc6a0f9-bb32-45ea-8b9e-2e964f5a1614",
   "metadata": {
    "colab": {
     "base_uri": "https://localhost:8080/",
     "height": 86
    },
    "id": "dfc6a0f9-bb32-45ea-8b9e-2e964f5a1614",
    "outputId": "67b237f7-715f-467f-a72f-2892b744d49c",
    "vscode": {
     "languageId": "r"
    }
   },
   "outputs": [],
   "source": [
    "# por como armé los nombres de campos,\n",
    "#  estos son los campos que expresan variables monetarias\n",
    "campos_monetarios <- colnames(dataset)\n",
    "campos_monetarios <- campos_monetarios[campos_monetarios %like%\n",
    "  \"^(m|Visa_m|Master_m|vm_m)\"]\n",
    "\n",
    "campos_monetarios\n",
    "add_log(campos_monetarios)"
   ]
  },
  {
   "cell_type": "code",
   "execution_count": null,
   "id": "90434a25-93a3-4d3f-9242-412ab38d981b",
   "metadata": {
    "colab": {
     "base_uri": "https://localhost:8080/"
    },
    "id": "90434a25-93a3-4d3f-9242-412ab38d981b",
    "outputId": "ff1f2fc8-449a-40c7-a6b9-946f9b3f97ca",
    "vscode": {
     "languageId": "r"
    }
   },
   "outputs": [],
   "source": [
    "# ejecuto el Data Drifting\n",
    "setorder(dataset, numero_de_cliente, foto_mes)\n",
    "\n",
    "PARAM$DR$metodo <- \"deflacion\"\n",
    "\n",
    "switch(PARAM$DR$metodo,\n",
    "  \"ninguno\"        = cat(\"No hay correccion del data drifting\"),\n",
    "  \"rank_simple\"    = drift_rank_simple(campos_monetarios),\n",
    "  \"rank_cero_fijo\" = drift_rank_cero_fijo(campos_monetarios),\n",
    "  \"deflacion\"      = drift_deflacion(campos_monetarios),\n",
    "  \"dolar_blue\"     = drift_dolarblue(campos_monetarios),\n",
    "  \"dolar_oficial\"  = drift_dolaroficial(campos_monetarios),\n",
    "  \"UVA\"            = drift_UVA(campos_monetarios),\n",
    "  \"estandarizar\"   = drift_estandarizar(campos_monetarios)\n",
    ")\n"
   ]
  },
  {
   "cell_type": "code",
   "execution_count": null,
   "id": "fc1d92cc-bd7a-43ef-9133-efc7eac94af3",
   "metadata": {
    "colab": {
     "base_uri": "https://localhost:8080/",
     "height": 156
    },
    "id": "fc1d92cc-bd7a-43ef-9133-efc7eac94af3",
    "outputId": "3ad8a828-f1d5-495a-af4f-e0633474d4ed",
    "vscode": {
     "languageId": "r"
    }
   },
   "outputs": [],
   "source": [
    "colnames(dataset)"
   ]
  },
  {
   "cell_type": "markdown",
   "id": "ad488674-e40f-4d22-888e-da035f96400b",
   "metadata": {
    "id": "ad488674-e40f-4d22-888e-da035f96400b"
   },
   "source": [
    "#### 9.7.1.3  FE_intra_manual Feature Engineering intra-mes\n",
    "\n",
    "Agrego campos nuevos dentro del mismo mes, SIN considerar la historia."
   ]
  },
  {
   "cell_type": "code",
   "execution_count": null,
   "id": "43cc3f1f-8b3d-41bd-bcfc-c7d5660f0d28",
   "metadata": {
    "colab": {
     "base_uri": "https://localhost:8080/"
    },
    "id": "43cc3f1f-8b3d-41bd-bcfc-c7d5660f0d28",
    "outputId": "fa09e004-f8e1-48cc-94a3-bf8fde4a1de5",
    "vscode": {
     "languageId": "r"
    }
   },
   "outputs": [],
   "source": [
    "if( !require(\"lubridate\")) install.packages(\"lubridate\", repos = \"http://cran.us.r-project.org\")\n",
    "require(\"lubridate\")"
   ]
  },
  {
   "cell_type": "code",
   "execution_count": null,
   "id": "3a2ebc99-0b40-420d-a579-9028cbda0081",
   "metadata": {
    "id": "3a2ebc99-0b40-420d-a579-9028cbda0081",
    "vscode": {
     "languageId": "r"
    }
   },
   "outputs": [],
   "source": [
    "# esta funcion atributos presentes existe debido a que las modalidades poseen datasets con distinta cantidad de campos\n",
    "atributos_presentes <- function(patributos)\n",
    "{\n",
    "  atributos <- unique(patributos)\n",
    "  comun <- intersect(atributos, colnames(dataset))\n",
    "\n",
    "  return( length(atributos) == length(comun))\n",
    "}"
   ]
  },
  {
   "cell_type": "code",
   "execution_count": null,
   "id": "992d12ec-1da3-4aa5-923c-10b222e7b8d7",
   "metadata": {
    "id": "992d12ec-1da3-4aa5-923c-10b222e7b8d7",
    "vscode": {
     "languageId": "r"
    }
   },
   "outputs": [],
   "source": [
    "# Esta es la parte que los alumnos deben desplegar todo su ingenio\n",
    "# Agregar aqui sus PROPIAS VARIABLES manuales\n",
    "\n",
    "AgregarVariables_IntraMes <- function(dataset) {\n",
    "  cat( \"inicio AgregarVariables_IntraMes()\\n\")\n",
    "  add_log( \"inicio AgregarVariables_IntraMes()\\n\")\n",
    "  gc(verbose= FALSE)\n",
    "  # INICIO de la seccion donde se deben hacer cambios con variables nuevas\n",
    "\n",
    "  # el mes 1,2, ..12\n",
    "  if( atributos_presentes( c(\"foto_mes\") ))\n",
    "    dataset[, kmes := foto_mes %% 100]\n",
    "\n",
    "  # creo un ctr_quarter que tenga en cuenta cuando\n",
    "  # los clientes hace 3 menos meses que estan\n",
    "  # ya que seria injusto considerar las transacciones medidas en menor tiempo\n",
    "  if( atributos_presentes( c(\"ctrx_quarter\") ))\n",
    "    dataset[, ctrx_quarter_normalizado := as.numeric(ctrx_quarter) ]\n",
    "\n",
    "  if( atributos_presentes( c(\"ctrx_quarter\", \"cliente_antiguedad\") ))\n",
    "    dataset[cliente_antiguedad == 1, ctrx_quarter_normalizado := ctrx_quarter * 5]\n",
    "\n",
    "  if( atributos_presentes( c(\"ctrx_quarter\", \"cliente_antiguedad\") ))\n",
    "    dataset[cliente_antiguedad == 2, ctrx_quarter_normalizado := ctrx_quarter * 2]\n",
    "\n",
    "  if( atributos_presentes( c(\"ctrx_quarter\", \"cliente_antiguedad\") ))\n",
    "    dataset[\n",
    "      cliente_antiguedad == 3,\n",
    "      ctrx_quarter_normalizado := ctrx_quarter * 1.2\n",
    "    ]\n",
    "\n",
    "   if(atributos_presentes(c(\"foto_mes\")))\n",
    "    dataset[,foto_mes_formato_fecha := as.Date(paste(substr(dataset$foto_mes,1,4),substr(dataset$foto_mes,5,6),\"01\",sep='-'))]\n",
    "\n",
    "  #dataset$foto_mes_formato_fecha <<- as.Date(paste(substr(dataset$foto_mes,1,4),substr(dataset$foto_mes,5,6),\"01\",sep='-'))\n",
    "\n",
    "  if(atributos_presentes(c(\"cantidad_total_transacciones\"))){\n",
    "   auxiliarmenos1 <- dataset[,list(numero_de_cliente,foto_mes_formato_fecha, cantidad_total_transacciones)]\n",
    "   auxiliarmenos2 <- dataset[,list(numero_de_cliente,foto_mes_formato_fecha,cantidad_total_transacciones)]\n",
    "   # auxiliarmenos1$foto_mes_formato_fecha <- as.Date(auxiliarmenos1$foto_mes_formato_fecha)\n",
    "   # auxiliarmenos2$foto_mes_formato_fecha <- as.Date(auxiliarmenos2$foto_mes_formato_fecha)\n",
    "   auxiliarmenos1$foto_mes_formato_fecha <- auxiliarmenos1$foto_mes_formato_fecha  %m-%  months(1)\n",
    "   auxiliarmenos2$foto_mes_formato_fecha <- auxiliarmenos2$foto_mes_formato_fecha %m-% months(2)\n",
    "   auxiliarmenos1$codigo <- paste(auxiliarmenos1$numero_de_cliente,auxiliarmenos1$foto_mes_formato_fecha,sep='-')\n",
    "   auxiliarmenos2$codigo <- paste(auxiliarmenos2$numero_de_cliente,auxiliarmenos2$foto_mes_formato_fecha,sep='-')\n",
    "\n",
    "   dataset[, codigo := paste(numero_de_cliente, foto_mes_formato_fecha, sep='-') ]\n",
    "\n",
    "   dataset[ auxiliarmenos1,\n",
    "            on = \"codigo\",\n",
    "            transaccionesmenos1 := i.cantidad_total_transacciones ]\n",
    "\n",
    "   dataset[ auxiliarmenos2,\n",
    "            on = \"codigo\",\n",
    "            transaccionesmenos2 := i.cantidad_total_transacciones ]\n",
    "\n",
    "   dataset[, cantidad_total_transacciones_quarter := rowSums(cbind(cantidad_total_transacciones +\n",
    "    transaccionesmenos1 + transaccionesmenos2),na.rm=T) ]\n",
    "\n",
    "   dataset[, codigo := NULL ]\n",
    "   dataset[, transaccionesmenos1 := NULL ]\n",
    "   dataset[, transaccionesmenos2 := NULL ]\n",
    "   dataset[, foto_mes_formato_fecha := NULL ]\n",
    "   rm(auxiliarmenos1)\n",
    "   rm(auxiliarmenos2)\n",
    "  }\n",
    "\n",
    "  if( atributos_presentes( c(\"cantidad_total_transacciones_quarter\") ))\n",
    "    dataset[, cantidad_total_transacciones_quarter_normalizado := cantidad_total_transacciones_quarter]\n",
    "\n",
    "  if( atributos_presentes( c(\"cantidad_total_transacciones_quarter\", \"cliente_antiguedad\") ))\n",
    "    dataset[cliente_antiguedad == 1, cantidad_total_transacciones_quarter_normalizado := cantidad_total_transacciones_quarter * 5]\n",
    "\n",
    "  if( atributos_presentes( c(\"cantidad_total_transacciones_quarter\", \"cliente_antiguedad\") ))\n",
    "    dataset[cliente_antiguedad == 2, cantidad_total_transacciones_quarter_normalizado := cantidad_total_transacciones_quarter * 2]\n",
    "\n",
    "  if( atributos_presentes( c(\"cantidad_total_transacciones_quarter\", \"cliente_antiguedad\") ))\n",
    "    dataset[cliente_antiguedad == 3, cantidad_total_transacciones_quarter_normalizado := cantidad_total_transacciones_quarter * 1.2]\n",
    "\n",
    "  # variable extraida de una tesis de maestria de Irlanda\n",
    "  if( atributos_presentes( c(\"mpayroll\", \"cliente_edad\") ))\n",
    "    dataset[, mpayroll_sobre_edad := mpayroll / cliente_edad]\n",
    "\n",
    "  # se crean los nuevos campos para MasterCard  y Visa,\n",
    "  #  teniendo en cuenta los NA's\n",
    "  # varias formas de combinar Visa_status y Master_status\n",
    "  if( atributos_presentes( c(\"Master_status\", \"Visa_status\") ))\n",
    "  {\n",
    "    dataset[, vm_status01 := pmax(Master_status, Visa_status, na.rm = TRUE)]\n",
    "    dataset[, vm_status02 := Master_status + Visa_status]\n",
    "\n",
    "    dataset[, vm_status03 := pmax(\n",
    "      ifelse(is.na(Master_status), 10, Master_status),\n",
    "      ifelse(is.na(Visa_status), 10, Visa_status)\n",
    "    )]\n",
    "\n",
    "    dataset[, vm_status04 := ifelse(is.na(Master_status), 10, Master_status)\n",
    "      + ifelse(is.na(Visa_status), 10, Visa_status)]\n",
    "\n",
    "    dataset[, vm_status05 := ifelse(is.na(Master_status), 10, Master_status)\n",
    "      + 100 * ifelse(is.na(Visa_status), 10, Visa_status)]\n",
    "\n",
    "    dataset[, vm_status06 := ifelse(is.na(Visa_status),\n",
    "      ifelse(is.na(Master_status), 10, Master_status),\n",
    "      Visa_status\n",
    "    )]\n",
    "\n",
    "    dataset[, mv_status07 := ifelse(is.na(Master_status),\n",
    "      ifelse(is.na(Visa_status), 10, Visa_status),\n",
    "      Master_status\n",
    "    )]\n",
    "  }\n",
    "\n",
    "\n",
    "  # combino MasterCard y Visa\n",
    "  if( atributos_presentes( c(\"Master_mfinanciacion_limite\", \"Visa_mfinanciacion_limite\") ))\n",
    "    dataset[, vm_mfinanciacion_limite := rowSums(cbind(Master_mfinanciacion_limite, Visa_mfinanciacion_limite), na.rm = TRUE)]\n",
    "\n",
    "  if( atributos_presentes( c(\"Master_Fvencimiento\", \"Visa_Fvencimiento\") ))\n",
    "    dataset[, vm_Fvencimiento := pmin(Master_Fvencimiento, Visa_Fvencimiento, na.rm = TRUE)]\n",
    "\n",
    "  if( atributos_presentes( c(\"Master_Finiciomora\", \"Visa_Finiciomora\") ))\n",
    "    dataset[, vm_Finiciomora := pmin(Master_Finiciomora, Visa_Finiciomora, na.rm = TRUE)]\n",
    "\n",
    "  if( atributos_presentes( c(\"Master_msaldototal\", \"Visa_msaldototal\") ))\n",
    "    dataset[, vm_msaldototal := rowSums(cbind(Master_msaldototal, Visa_msaldototal), na.rm = TRUE)]\n",
    "\n",
    "  if( atributos_presentes( c(\"Master_msaldopesos\", \"Visa_msaldopesos\") ))\n",
    "    dataset[, vm_msaldopesos := rowSums(cbind(Master_msaldopesos, Visa_msaldopesos), na.rm = TRUE)]\n",
    "\n",
    "  if( atributos_presentes( c(\"Master_msaldodolares\", \"Visa_msaldodolares\") ))\n",
    "    dataset[, vm_msaldodolares := rowSums(cbind(Master_msaldodolares, Visa_msaldodolares), na.rm = TRUE)]\n",
    "\n",
    "  if( atributos_presentes( c(\"Master_mconsumospesos\", \"Visa_mconsumospesos\") ))\n",
    "    dataset[, vm_mconsumospesos := rowSums(cbind(Master_mconsumospesos, Visa_mconsumospesos), na.rm = TRUE)]\n",
    "\n",
    "  if( atributos_presentes( c(\"Master_mconsumosdolares\", \"Visa_mconsumosdolares\") ))\n",
    "    dataset[, vm_mconsumosdolares := rowSums(cbind(Master_mconsumosdolares, Visa_mconsumosdolares), na.rm = TRUE)]\n",
    "\n",
    "  if( atributos_presentes( c(\"Master_mlimitecompra\", \"Visa_mlimitecompra\") ))\n",
    "    dataset[, vm_mlimitecompra := rowSums(cbind(Master_mlimitecompra, Visa_mlimitecompra), na.rm = TRUE)]\n",
    "\n",
    "  if( atributos_presentes( c(\"Master_madelantopesos\", \"Visa_madelantopesos\") ))\n",
    "    dataset[, vm_madelantopesos := rowSums(cbind(Master_madelantopesos, Visa_madelantopesos), na.rm = TRUE)]\n",
    "\n",
    "  if( atributos_presentes( c(\"Master_madelantodolares\", \"Visa_madelantodolares\") ))\n",
    "    dataset[, vm_madelantodolares := rowSums(cbind(Master_madelantodolares, Visa_madelantodolares), na.rm = TRUE)]\n",
    "\n",
    "  if( atributos_presentes( c(\"Master_fultimo_cierre\", \"Visa_fultimo_cierre\") ))\n",
    "    dataset[, vm_fultimo_cierre := pmax(Master_fultimo_cierre, Visa_fultimo_cierre, na.rm = TRUE)]\n",
    "\n",
    "  if( atributos_presentes( c(\"Master_mpagado\", \"Visa_mpagado\") ))\n",
    "    dataset[, vm_mpagado := rowSums(cbind(Master_mpagado, Visa_mpagado), na.rm = TRUE)]\n",
    "\n",
    "  if( atributos_presentes( c(\"Master_mpagospesos\", \"Visa_mpagospesos\") ))\n",
    "    dataset[, vm_mpagospesos := rowSums(cbind(Master_mpagospesos, Visa_mpagospesos), na.rm = TRUE)]\n",
    "\n",
    "  if( atributos_presentes( c(\"Master_mpagosdolares\", \"Visa_mpagosdolares\") ))\n",
    "    dataset[, vm_mpagosdolares := rowSums(cbind(Master_mpagosdolares, Visa_mpagosdolares), na.rm = TRUE)]\n",
    "\n",
    "  if( atributos_presentes( c(\"Master_fechaalta\", \"Visa_fechaalta\") ))\n",
    "    dataset[, vm_fechaalta := pmax(Master_fechaalta, Visa_fechaalta, na.rm = TRUE)]\n",
    "\n",
    "  if( atributos_presentes( c(\"Master_mconsumototal\", \"Visa_mconsumototal\") ))\n",
    "    dataset[, vm_mconsumototal := rowSums(cbind(Master_mconsumototal, Visa_mconsumototal), na.rm = TRUE)]\n",
    "\n",
    "  if( atributos_presentes( c(\"Master_cconsumos\", \"Visa_cconsumos\") ))\n",
    "    dataset[, vm_cconsumos := rowSums(cbind(Master_cconsumos, Visa_cconsumos), na.rm = TRUE)]\n",
    "\n",
    "  if( atributos_presentes( c(\"Master_cadelantosefectivo\", \"Visa_cadelantosefectivo\") ))\n",
    "    dataset[, vm_cadelantosefectivo := rowSums(cbind(Master_cadelantosefectivo, Visa_cadelantosefectivo), na.rm = TRUE)]\n",
    "\n",
    "  if( atributos_presentes( c(\"Master_mpagominimo\", \"Visa_mpagominimo\") ))\n",
    "    dataset[, vm_mpagominimo := rowSums(cbind(Master_mpagominimo, Visa_mpagominimo), na.rm = TRUE)]\n",
    "\n",
    "  # a partir de aqui juego con la suma de Mastercard y Visa\n",
    "  if( atributos_presentes( c(\"Master_mlimitecompra\", \"vm_mlimitecompra\") ))\n",
    "    dataset[, vmr_Master_mlimitecompra := Master_mlimitecompra / vm_mlimitecompra]\n",
    "\n",
    "  if( atributos_presentes( c(\"Visa_mlimitecompra\", \"vm_mlimitecompra\") ))\n",
    "    dataset[, vmr_Visa_mlimitecompra := Visa_mlimitecompra / vm_mlimitecompra]\n",
    "\n",
    "  if( atributos_presentes( c(\"vm_msaldototal\", \"vm_mlimitecompra\") ))\n",
    "    dataset[, vmr_msaldototal := vm_msaldototal / vm_mlimitecompra]\n",
    "\n",
    "  if( atributos_presentes( c(\"vm_msaldopesos\", \"vm_mlimitecompra\") ))\n",
    "    dataset[, vmr_msaldopesos := vm_msaldopesos / vm_mlimitecompra]\n",
    "\n",
    "  if( atributos_presentes( c(\"vm_msaldopesos\", \"vm_msaldototal\") ))\n",
    "    dataset[, vmr_msaldopesos2 := vm_msaldopesos / vm_msaldototal]\n",
    "\n",
    "  if( atributos_presentes( c(\"vm_msaldodolares\", \"vm_mlimitecompra\") ))\n",
    "    dataset[, vmr_msaldodolares := vm_msaldodolares / vm_mlimitecompra]\n",
    "\n",
    "  if( atributos_presentes( c(\"vm_msaldodolares\", \"vm_msaldototal\") ))\n",
    "    dataset[, vmr_msaldodolares2 := vm_msaldodolares / vm_msaldototal]\n",
    "\n",
    "  if( atributos_presentes( c(\"vm_mconsumospesos\", \"vm_mlimitecompra\") ))\n",
    "    dataset[, vmr_mconsumospesos := vm_mconsumospesos / vm_mlimitecompra]\n",
    "\n",
    "  if( atributos_presentes( c(\"vm_mconsumosdolares\", \"vm_mlimitecompra\") ))\n",
    "    dataset[, vmr_mconsumosdolares := vm_mconsumosdolares / vm_mlimitecompra]\n",
    "\n",
    "  if( atributos_presentes( c(\"vm_madelantopesos\", \"vm_mlimitecompra\") ))\n",
    "    dataset[, vmr_madelantopesos := vm_madelantopesos / vm_mlimitecompra]\n",
    "\n",
    "  if( atributos_presentes( c(\"vm_madelantodolares\", \"vm_mlimitecompra\") ))\n",
    "    dataset[, vmr_madelantodolares := vm_madelantodolares / vm_mlimitecompra]\n",
    "\n",
    "  if( atributos_presentes( c(\"vm_mpagado\", \"vm_mlimitecompra\") ))\n",
    "    dataset[, vmr_mpagado := vm_mpagado / vm_mlimitecompra]\n",
    "\n",
    "  if( atributos_presentes( c(\"vm_mpagospesos\", \"vm_mlimitecompra\") ))\n",
    "    dataset[, vmr_mpagospesos := vm_mpagospesos / vm_mlimitecompra]\n",
    "\n",
    "  if( atributos_presentes( c(\"vm_mpagosdolares\", \"vm_mlimitecompra\") ))\n",
    "    dataset[, vmr_mpagosdolares := vm_mpagosdolares / vm_mlimitecompra]\n",
    "\n",
    "  if( atributos_presentes( c(\"vm_mconsumototal\", \"vm_mlimitecompra\") ))\n",
    "    dataset[, vmr_mconsumototal := vm_mconsumototal / vm_mlimitecompra]\n",
    "\n",
    "  if( atributos_presentes( c(\"vm_mpagominimo\", \"vm_mlimitecompra\") ))\n",
    "    dataset[, vmr_mpagominimo := vm_mpagominimo / vm_mlimitecompra]\n",
    "\n",
    "  # Aqui debe usted agregar sus propias nuevas variables\n",
    "\n",
    "  # valvula de seguridad para evitar valores infinitos\n",
    "  # paso los infinitos a NULOS\n",
    "  infinitos <- lapply(\n",
    "    names(dataset),\n",
    "    function(.name) dataset[, sum(is.infinite(get(.name)))]\n",
    "  )\n",
    "\n",
    "  infinitos_qty <- sum(unlist(infinitos))\n",
    "  if (infinitos_qty > 0) {\n",
    "    cat(\n",
    "      \"ATENCION, hay\", infinitos_qty,\n",
    "      \"valores infinitos en tu dataset. Seran pasados a NA\\n\"\n",
    "    )\n",
    "        add_log(paste0(\n",
    "      \"ATENCION, hay \", infinitos_qty,\n",
    "      \"valores infinitos en tu dataset. Seran pasados a NA\\n\")\n",
    "    )\n",
    "\n",
    "    dataset[mapply(is.infinite, dataset)] <<- NA\n",
    "  }\n",
    "\n",
    "\n",
    "  # valvula de seguridad para evitar valores NaN  que es 0/0\n",
    "  # paso los NaN a 0 , decision polemica si las hay\n",
    "  # se invita a asignar un valor razonable segun la semantica del campo creado\n",
    "  nans <- lapply(\n",
    "    names(dataset),\n",
    "    function(.name) dataset[, sum(is.nan(get(.name)))]\n",
    "  )\n",
    "\n",
    "  nans_qty <- sum(unlist(nans))\n",
    "  if (nans_qty > 0) {\n",
    "    cat(\n",
    "      \"ATENCION, hay\", nans_qty,\n",
    "      \"valores NaN 0/0 en tu dataset. Seran pasados arbitrariamente a 0\\n\"\n",
    "    )\n",
    "\n",
    "    add_log(\n",
    "      paste0(\"ATENCION, hay\", nans_qty,\n",
    "      \"valores NaN 0/0 en tu dataset. Seran pasados arbitrariamente a 0\\n\"\n",
    "    ))\n",
    "\n",
    "    cat(\"Si no te gusta la decision, modifica a gusto el programa!\\n\\n\")\n",
    "    add_log(\"Si no te gusta la decision, modifica a gusto el programa!\\n\\n\")\n",
    "\n",
    "\n",
    "    dataset[mapply(is.nan, dataset)] <<- 0\n",
    "  }\n",
    "\n",
    "  cat( \"fin AgregarVariables_IntraMes()\\n\")\n",
    "  add_log( \"fin AgregarVariables_IntraMes()\\n\")\n",
    "}\n"
   ]
  },
  {
   "cell_type": "code",
   "execution_count": null,
   "id": "cdb58021-2324-4171-9555-12f3563f66f3",
   "metadata": {
    "colab": {
     "base_uri": "https://localhost:8080/"
    },
    "id": "cdb58021-2324-4171-9555-12f3563f66f3",
    "outputId": "0f72eed4-d9f8-4f93-c56a-8428e10a7b63",
    "vscode": {
     "languageId": "r"
    }
   },
   "outputs": [],
   "source": [
    "# agrego las variables intra mes\n",
    "AgregarVariables_IntraMes(dataset)"
   ]
  },
  {
   "cell_type": "code",
   "execution_count": null,
   "id": "c1727052-62de-409a-9475-5e0b6a197f3d",
   "metadata": {
    "colab": {
     "base_uri": "https://localhost:8080/",
     "height": 191
    },
    "id": "c1727052-62de-409a-9475-5e0b6a197f3d",
    "outputId": "a7530454-3ecf-483f-d57b-d9ef2651c89d",
    "vscode": {
     "languageId": "r"
    }
   },
   "outputs": [],
   "source": [
    "# visualizo las columas del dataset a esta etapa\n",
    "ncol(dataset)\n",
    "colnames(dataset)\n",
    "\n",
    "add_log(ncol(dataset))"
   ]
  },
  {
   "cell_type": "markdown",
   "id": "XaRBjQj8ZRUZ",
   "metadata": {
    "id": "XaRBjQj8ZRUZ"
   },
   "source": [
    "#### 6.3.1.5  FEhist Feature Engineering historico\n",
    "\n",
    "El Fature Engineering Histórico es la etapa que más aporta a la ganancia final, ya que enriquece cada registro del dataset con su historia."
   ]
  },
  {
   "cell_type": "markdown",
   "id": "cfe3b8cf-0707-4512-92e7-c1407bb3f73b",
   "metadata": {
    "id": "cfe3b8cf-0707-4512-92e7-c1407bb3f73b"
   },
   "source": [
    "Para cada campo del dataset original (*)\n",
    "se crean lo siguientes campos de a partir de la historia\n",
    "* lag1  lags de orden 1\n",
    "* delta1  =  valor actual - lag1\n",
    "* lag2  lags de orden 2\n",
    "* delta2  = valor actual - lag2\n",
    "\n",
    "\n",
    "(*) Excepto para los campos  <numero_de_cliente,  foto_mes,  clase_ternaria>"
   ]
  },
  {
   "cell_type": "code",
   "execution_count": null,
   "id": "7850b948-827d-4a2a-b4d3-a5e459b47c11",
   "metadata": {
    "id": "7850b948-827d-4a2a-b4d3-a5e459b47c11"
   },
   "outputs": [],
   "source": [
    "# Feature Engineering Historico\n",
    "\n",
    "# todo es lagueable, menos la primary key y la clase\n",
    "cols_lagueables <- copy( setdiff(\n",
    "    colnames(dataset),\n",
    "    c(\"numero_de_cliente\", \"foto_mes\", \"clase_ternaria\")\n",
    ") )\n",
    "\n",
    "# https://rdrr.io/cran/data.table/man/shift.html\n",
    "\n",
    "# lags de orden 1\n",
    "dataset[,\n",
    "    paste0(cols_lagueables, \"_lag1\") := shift(.SD, 1, NA, \"lag\"),\n",
    "    by = numero_de_cliente,\n",
    "    .SDcols = cols_lagueables\n",
    "]\n",
    "\n",
    "# lags de orden 2\n",
    "dataset[,\n",
    "    paste0(cols_lagueables, \"_lag2\") := shift(.SD, 2, NA, \"lag\"),\n",
    "    by = numero_de_cliente,\n",
    "    .SDcols = cols_lagueables\n",
    "]\n",
    "\n",
    "# agrego los delta lags\n",
    "for (vcol in cols_lagueables)\n",
    "{\n",
    "    dataset[, paste0(vcol, \"_delta1\") := get(vcol) - get(paste0(vcol, \"_lag1\"))]\n",
    "    dataset[, paste0(vcol, \"_delta2\") := get(vcol) - get(paste0(vcol, \"_lag2\"))]\n",
    "}\n"
   ]
  },
  {
   "cell_type": "markdown",
   "id": "cea690d9-ece9-4852-a5e2-f337c31b6721",
   "metadata": {
    "id": "cea690d9-ece9-4852-a5e2-f337c31b6721"
   },
   "source": [
    "Verificacion de los campos recien creados"
   ]
  },
  {
   "cell_type": "code",
   "execution_count": null,
   "id": "f772896b-595a-47d4-8905-c15304ac9452",
   "metadata": {
    "colab": {
     "base_uri": "https://localhost:8080/",
     "height": 920
    },
    "id": "f772896b-595a-47d4-8905-c15304ac9452",
    "outputId": "a428e15c-4059-4f40-8bd9-0873e1a431a4"
   },
   "outputs": [],
   "source": [
    "ncol(dataset)\n",
    "colnames(dataset)"
   ]
  },
  {
   "cell_type": "markdown",
   "id": "20a2003c-447b-44b0-8455-2330d2e2a21f",
   "metadata": {
    "id": "20a2003c-447b-44b0-8455-2330d2e2a21f"
   },
   "source": [
    "#### 9.7.1.5  FE_rf Feature Engineering de nuevas variables a partir de hojas de Random Forest\n",
    "\n"
   ]
  },
  {
   "cell_type": "code",
   "execution_count": null,
   "id": "e2400841-c254-4330-8f1c-90cc3b8a96c2",
   "metadata": {
    "colab": {
     "base_uri": "https://localhost:8080/"
    },
    "id": "e2400841-c254-4330-8f1c-90cc3b8a96c2",
    "outputId": "b370f13a-ad5b-41bc-cccc-fb87c399b6d6",
    "vscode": {
     "languageId": "r"
    }
   },
   "outputs": [],
   "source": [
    "if( !require(\"lightgbm\")) install.packages(\"lightgbm\")\n",
    "require(\"lightgbm\")\n"
   ]
  },
  {
   "cell_type": "code",
   "execution_count": null,
   "id": "5569401a-d6df-449f-8984-eba21ab90554",
   "metadata": {},
   "outputs": [],
   "source": [
    "PARAM$FE_rf$arbolitos= 20\n",
    "PARAM$FE_rf$hojas_por_arbol= 16\n",
    "PARAM$FE_rf$datos_por_hoja= 100\n",
    "PARAM$FE_rf$mtry_ratio= 0.2\n",
    "\n",
    "# Estos son quasi fijos\n",
    "PARAM$FE_rf$train$clase01_valor1 <- c( \"BAJA+2\", \"BAJA+1\")\n",
    "PARAM$FE_rf$train$training <- c( 202101, 202102, 202103)\n",
    "\n",
    "# Estos TAMBIEN son quasi fijos\n",
    "PARAM$FE_rf$lgb_param <-list(\n",
    "    # parametros que se pueden cambiar\n",
    "    num_iterations = PARAM$FE_rf$arbolitos,\n",
    "    num_leaves  = PARAM$FE_rf$hojas_por_arbol,\n",
    "    min_data_in_leaf = PARAM$FE_rf$datos_por_hoja,\n",
    "    feature_fraction_bynode  = PARAM$FE_rf$mtry_ratio,\n",
    "\n",
    "    # para que LightGBM emule Random Forest\n",
    "    boosting = \"rf\",\n",
    "    bagging_fraction = ( 1.0 - 1.0/exp(1.0) ),\n",
    "    bagging_freq = 1.0,\n",
    "    feature_fraction = 1.0,\n",
    "\n",
    "    # genericos de LightGBM\n",
    "    max_bin = 31L,\n",
    "    objective = \"binary\",\n",
    "    first_metric_only = TRUE,\n",
    "    boost_from_average = TRUE,\n",
    "    feature_pre_filter = FALSE,\n",
    "    force_row_wise = TRUE,\n",
    "    verbosity = -100,\n",
    "    max_depth = -1L,\n",
    "    min_gain_to_split = 0.0,\n",
    "    min_sum_hessian_in_leaf = 0.001,\n",
    "    lambda_l1 = 0.0,\n",
    "    lambda_l2 = 0.0,\n",
    "\n",
    "    pos_bagging_fraction = 1.0,\n",
    "    neg_bagging_fraction = 1.0,\n",
    "    is_unbalance = FALSE,\n",
    "    scale_pos_weight = 1.0,\n",
    "\n",
    "    drop_rate = 0.1,\n",
    "    max_drop = 50,\n",
    "    skip_drop = 0.5,\n",
    "\n",
    "    extra_trees = FALSE\n",
    "  )"
   ]
  },
  {
   "cell_type": "code",
   "execution_count": null,
   "id": "ad7d25ae-442a-4c3d-86ff-c1fa0c9fa8a5",
   "metadata": {
    "id": "ad7d25ae-442a-4c3d-86ff-c1fa0c9fa8a5",
    "vscode": {
     "languageId": "r"
    }
   },
   "outputs": [],
   "source": [
    "AgregaVarRandomForest <- function() {\n",
    "\n",
    "  cat( \"inicio AgregaVarRandomForest()\\n\")\n",
    "  gc(verbose= FALSE)\n",
    "  dataset[, clase01 := 0L ]\n",
    "  dataset[ clase_ternaria %in% PARAM$FE_rf$train$clase01_valor1,\n",
    "      clase01 := 1L ]\n",
    "\n",
    "  campos_buenos <- setdiff(\n",
    "    colnames(dataset),\n",
    "    c( \"clase_ternaria\", \"clase01\")\n",
    "  )\n",
    "\n",
    "  dataset[, entrenamiento :=\n",
    "    as.integer( foto_mes %in% PARAM$FE_rf$train$training )]\n",
    "\n",
    "  dtrain <- lgb.Dataset(\n",
    "    data = data.matrix(dataset[entrenamiento == TRUE, campos_buenos, with = FALSE]),\n",
    "    label = dataset[entrenamiento == TRUE, clase01],\n",
    "    free_raw_data = FALSE\n",
    "  )\n",
    "\n",
    "  modelo <- lgb.train(\n",
    "     data = dtrain,\n",
    "     param = PARAM$FE_rf$lgb_param,\n",
    "     verbose = -100\n",
    "  )\n",
    "\n",
    "  cat( \"Fin construccion RandomForest\\n\" )\n",
    "  add_log( \"Fin construccion RandomForest\\n\" )\n",
    "  # grabo el modelo, achivo .model\n",
    "  lgb.save(modelo, file=\"modelo.model\" )\n",
    "\n",
    "  qarbolitos <- copy(PARAM$FE_rf$lgb_param$num_iterations)\n",
    "\n",
    "  periodos <- dataset[ , unique( foto_mes ) ]\n",
    "\n",
    "  for( periodo in  periodos )\n",
    "  {\n",
    "    cat( \"periodo = \", periodo, \"\\n\" )\n",
    "    datamatrix <- data.matrix(dataset[ foto_mes== periodo, campos_buenos, with = FALSE])\n",
    "\n",
    "    cat( \"Inicio prediccion\\n\" )\n",
    "    prediccion <- predict(\n",
    "        modelo,\n",
    "        datamatrix,\n",
    "        type = \"leaf\"\n",
    "    )\n",
    "    cat( \"Fin prediccion\\n\" )\n",
    "\n",
    "    for( arbolito in 1:qarbolitos )\n",
    "    {\n",
    "       cat( arbolito, \" \" )\n",
    "       hojas_arbol <- unique(prediccion[ , arbolito])\n",
    "\n",
    "       for (pos in 1:length(hojas_arbol)) {\n",
    "         # el numero de nodo de la hoja, estan salteados\n",
    "         nodo_id <- hojas_arbol[pos]\n",
    "         dataset[ foto_mes== periodo, paste0(\n",
    "            \"rf_\", sprintf(\"%03d\", arbolito),\n",
    "             \"_\", sprintf(\"%03d\", nodo_id)\n",
    "          ) :=  as.integer( nodo_id == prediccion[ , arbolito]) ]\n",
    "\n",
    "       }\n",
    "\n",
    "       rm( hojas_arbol )\n",
    "    }\n",
    "    cat( \"\\n\" )\n",
    "\n",
    "    rm( prediccion )\n",
    "    rm( datamatrix )\n",
    "    gc(verbose= FALSE)\n",
    "  }\n",
    "\n",
    "  gc(verbose= FALSE)\n",
    "\n",
    "  # borro clase01 , no debe ensuciar el dataset\n",
    "  dataset[ , clase01 := NULL ]\n",
    "\n",
    "}\n",
    "AgregaVarRandomForest()"
   ]
  },
  {
   "cell_type": "markdown",
   "id": "c7182958-a445-49f2-b60d-3564f853e9ef",
   "metadata": {
    "id": "c7182958-a445-49f2-b60d-3564f853e9ef"
   },
   "source": [
    "#### 9.7.1.6  FEhist Reduccion dimensionalidad con canaritos\n",
    "\n",
    "Esta etapa solo se mostrará a la *modalidad Anlista Sr*"
   ]
  },
  {
   "cell_type": "markdown",
   "id": "5a4c6aa3-eea2-496f-9905-2b85c73b83d0",
   "metadata": {
    "id": "5a4c6aa3-eea2-496f-9905-2b85c73b83d0"
   },
   "source": [
    "El objetivo de esta etapa NO es mejorar el modelo predictivo"
   ]
  },
  {
   "cell_type": "markdown",
   "id": "0f7882ad-1c71-4f5e-afa3-b7d4e40c7056",
   "metadata": {
    "id": "0f7882ad-1c71-4f5e-afa3-b7d4e40c7056"
   },
   "source": [
    "El objetivo es eliminar campos poco importantes para hacer espacio a nuevos campos, debido a las restricciones de memoria RAM."
   ]
  },
  {
   "cell_type": "code",
   "execution_count": null,
   "id": "2dd646c3-d58f-4efa-9f56-917c235f1f16",
   "metadata": {
    "id": "2dd646c3-d58f-4efa-9f56-917c235f1f16",
    "vscode": {
     "languageId": "r"
    }
   },
   "outputs": [],
   "source": [
    "VPOS_CORTE <- c()\n",
    "\n",
    "fganancia_lgbm_meseta <- function(probs, datos) {\n",
    "  vlabels <- get_field(datos, \"label\")\n",
    "  vpesos <- get_field(datos, \"weight\")\n",
    "\n",
    "  tbl <- as.data.table(list(\n",
    "    \"prob\" = probs,\n",
    "    \"gan\" = ifelse(vlabels == 1 & vpesos > 1, PARAM$CN$train$gan1, PARAM$CN$train$gan0)\n",
    "  ))\n",
    "\n",
    "  setorder(tbl, -prob)\n",
    "  tbl[, posicion := .I]\n",
    "  tbl[, gan_acum := cumsum(gan)]\n",
    "  setorder(tbl, -gan_acum) # voy por la meseta\n",
    "\n",
    "  gan <- mean(tbl[1:500, gan_acum]) # meseta de tamaño 500\n",
    "\n",
    "  pos_meseta <- tbl[1:500, median(posicion)]\n",
    "  VPOS_CORTE <<- c(VPOS_CORTE, pos_meseta)\n",
    "\n",
    "  return(list(\n",
    "    \"name\" = \"ganancia\",\n",
    "    \"value\" = gan,\n",
    "    \"higher_better\" = TRUE\n",
    "  ))\n",
    "}\n"
   ]
  },
  {
   "cell_type": "code",
   "execution_count": null,
   "id": "8196a247-f280-4c93-b509-5c0e54cab645",
   "metadata": {
    "id": "8196a247-f280-4c93-b509-5c0e54cab645",
    "vscode": {
     "languageId": "r"
    }
   },
   "outputs": [],
   "source": [
    "# Elimina del dataset las variables que estan por debajo\n",
    "#  de la capa geologica de canaritos\n",
    "# se llama varias veces, luego de agregar muchas variables nuevas,\n",
    "#  para ir reduciendo la cantidad de variables\n",
    "# y así hacer lugar a nuevas variables importantes\n",
    "\n",
    "GVEZ <- 1\n",
    "\n",
    "campitos <- c( \"numero_de_cliente\", \"foto_mes\", \"clase_ternaria\" )\n",
    "\n",
    "CanaritosAsesinos <- function(\n",
    "  canaritos_ratio,\n",
    "  canaritos_desvios,\n",
    "  canaritos_semilla) {\n",
    "\n",
    "  cat( \"inicio CanaritosAsesinos()\\n\")\n",
    "  add_log( \"inicio CanaritosAsesinos()\\n\")\n",
    "  gc(verbose= FALSE)\n",
    "  dataset[, clase01 := 0L ]\n",
    "  dataset[ clase_ternaria %in% PARAM$CN$train$clase01_valor1,\n",
    "      clase01 := 1L ]\n",
    "\n",
    "  set.seed(canaritos_semilla, kind = \"L'Ecuyer-CMRG\")\n",
    "  for (i in 1:(ncol(dataset) * canaritos_ratio)) {\n",
    "    dataset[, paste0(\"canarito\", i) := runif(nrow(dataset))]\n",
    "  }\n",
    "\n",
    "  campos_buenos <- setdiff(\n",
    "    colnames(dataset),\n",
    "    c( campitos, \"clase01\")\n",
    "  )\n",
    "\n",
    "  azar <- runif(nrow(dataset))\n",
    "\n",
    "  dataset[, entrenamiento :=\n",
    "    as.integer( foto_mes %in% PARAM$CN$train$training &\n",
    "      (clase01 == 1 | azar < PARAM$CN$train$undersampling))]\n",
    "\n",
    "  dtrain <- lgb.Dataset(\n",
    "    data = data.matrix(dataset[entrenamiento == TRUE, campos_buenos, with = FALSE]),\n",
    "    label = dataset[entrenamiento == TRUE, clase01],\n",
    "    weight = dataset[\n",
    "      entrenamiento == TRUE,\n",
    "      ifelse(clase_ternaria %in% PARAM$CN$train$positivos, 1.0000001, 1.0)\n",
    "    ],\n",
    "    free_raw_data = FALSE\n",
    "  )\n",
    "\n",
    "  dvalid <- lgb.Dataset(\n",
    "    data = data.matrix(dataset[foto_mes %in% PARAM$CN$train$validation, campos_buenos, with = FALSE]),\n",
    "    label = dataset[foto_mes %in% PARAM$CN$train$validation, clase01],\n",
    "    weight = dataset[\n",
    "      foto_mes %in% PARAM$CN$train$validation,\n",
    "      ifelse( clase_ternaria %in% PARAM$CN$train$positivos, 1.0000001, 1.0)\n",
    "    ],\n",
    "    free_raw_data = FALSE\n",
    "  )\n",
    "\n",
    "\n",
    "  param <- list(\n",
    "    objective = \"binary\",\n",
    "    metric = \"custom\",\n",
    "    first_metric_only = TRUE,\n",
    "    boost_from_average = TRUE,\n",
    "    feature_pre_filter = FALSE,\n",
    "    verbosity = -100,\n",
    "    seed = canaritos_semilla,\n",
    "    max_depth = -1, # -1 significa no limitar,  por ahora lo dejo fijo\n",
    "    min_gain_to_split = 0.0, # por ahora, lo dejo fijo\n",
    "    lambda_l1 = 0.0, # por ahora, lo dejo fijo\n",
    "    lambda_l2 = 0.0, # por ahora, lo dejo fijo\n",
    "    max_bin = 31, # por ahora, lo dejo fijo\n",
    "    num_iterations = 9999, # un numero grande, lo limita early_stopping_rounds\n",
    "    force_row_wise = TRUE, # para que los alumnos no se atemoricen con  warning\n",
    "    learning_rate = 0.065,\n",
    "    feature_fraction = 1.0, # lo seteo en 1\n",
    "    min_data_in_leaf = 260,\n",
    "    num_leaves = 60,\n",
    "    early_stopping_rounds = 200,\n",
    "    num_threads = 1\n",
    "  )\n",
    "\n",
    "  set.seed(canaritos_semilla, kind = \"L'Ecuyer-CMRG\")\n",
    "  modelo <- lgb.train(\n",
    "    data = dtrain,\n",
    "    valids = list(valid = dvalid),\n",
    "    eval = fganancia_lgbm_meseta,\n",
    "    param = param,\n",
    "    verbose = -100\n",
    "  )\n",
    "\n",
    "  tb_importancia <- lgb.importance(model = modelo)\n",
    "  tb_importancia[, pos := .I]\n",
    "\n",
    "  fwrite(tb_importancia,\n",
    "    file = paste0(\"impo_\", GVEZ, \".txt\"),\n",
    "    sep = \"\\t\"\n",
    "  )\n",
    "\n",
    "  GVEZ <<- GVEZ + 1\n",
    "\n",
    "  umbral <- tb_importancia[\n",
    "    Feature %like% \"canarito\",\n",
    "    median(pos) + canaritos_desvios * sd(pos)\n",
    "  ] # Atencion corto en la mediana mas desvios!!\n",
    "\n",
    "  col_utiles <- tb_importancia[\n",
    "    pos < umbral & !(Feature %like% \"canarito\"),\n",
    "    Feature\n",
    "  ]\n",
    "\n",
    "  col_utiles <- unique(c(\n",
    "    col_utiles,\n",
    "    c(campitos, \"mes\")\n",
    "  ))\n",
    "\n",
    "  col_inutiles <- setdiff(colnames(dataset), col_utiles)\n",
    "\n",
    "  dataset[, (col_inutiles) := NULL]\n",
    "\n",
    "  cat( \"fin CanaritosAsesinos()\\n\")\n",
    "  add_log( \"fin CanaritosAsesinos()\\n\")\n",
    "  gc(verbose= FALSE)\n",
    "  \n",
    "  return( tb_importancia )\n",
    "}\n"
   ]
  },
  {
   "cell_type": "code",
   "execution_count": null,
   "id": "9249a815-315c-4695-9f2f-bae196697f70",
   "metadata": {
    "id": "9249a815-315c-4695-9f2f-bae196697f70",
    "vscode": {
     "languageId": "r"
    }
   },
   "outputs": [],
   "source": [
    "# Estos DOS parametros son los que se deben modificar\n",
    "PARAM$CN$ratio <- 0.2\n",
    "PARAM$CN$desvios <- 2\n",
    "\n",
    "\n",
    "# Parametros quasi fijos\n",
    "# Parametros de un LightGBM que se genera para estimar la column importance\n",
    "PARAM$CN$train$clase01_valor1 <- c( \"BAJA+2\", \"BAJA+1\")\n",
    "PARAM$CN$train$positivos <- c( \"BAJA+2\")\n",
    "PARAM$CN$train$training <- c( 202101, 202102, 202103)\n",
    "PARAM$CN$train$validation <- c( 202105 )\n",
    "PARAM$CN$train$undersampling <- 0.1\n",
    "PARAM$CN$train$gan1 <- 117000\n",
    "PARAM$CN$train$gan0 <-  -3000"
   ]
  },
  {
   "cell_type": "code",
   "execution_count": null,
   "id": "6325e48b-e98f-457e-b099-2dafb9a50101",
   "metadata": {
    "id": "6325e48b-e98f-457e-b099-2dafb9a50101",
    "outputId": "3b0d9beb-c2a1-425a-a62c-e16fcbf0e2cc",
    "vscode": {
     "languageId": "r"
    }
   },
   "outputs": [],
   "source": [
    "# la llamada a Canaritos Asesinos\n",
    "tb_importancia <- CanaritosAsesinos(\n",
    "  canaritos_ratio = PARAM$CN$ratio,\n",
    "  canaritos_desvios = PARAM$CN$desvios,\n",
    "  canaritos_semilla = PARAM$semilla_primigenia\n",
    ")\n"
   ]
  },
  {
   "cell_type": "code",
   "execution_count": null,
   "id": "25cc7c43-3515-4035-8d21-8c8469c010a1",
   "metadata": {
    "id": "25cc7c43-3515-4035-8d21-8c8469c010a1",
    "vscode": {
     "languageId": "r"
    }
   },
   "outputs": [],
   "source": [
    "# grabo la importancia, ver el archivo directamente en la carpeta\n",
    "\n",
    "fwrite( tb_importancia,\n",
    "  file=\"canaritos.txt\",\n",
    "  sep=\"\\t\"\n",
    ")"
   ]
  },
  {
   "cell_type": "code",
   "execution_count": null,
   "id": "24084927-88df-497b-9437-769400f4229b",
   "metadata": {
    "id": "24084927-88df-497b-9437-769400f4229b",
    "outputId": "a4d615c6-0101-4252-8255-2afc89fb6533",
    "vscode": {
     "languageId": "r"
    }
   },
   "outputs": [],
   "source": [
    "# verifico\n",
    "ncol(dataset)\n",
    "colnames(dataset)\n",
    "\n"
   ]
  },
  {
   "cell_type": "code",
   "execution_count": null,
   "id": "9de57452-9000-424f-acd5-4fccb1ee17fc",
   "metadata": {},
   "outputs": [],
   "source": []
  },
  {
   "cell_type": "markdown",
   "id": "e2d3d60e-9934-4aab-befe-5c0009148abb",
   "metadata": {
    "id": "e2d3d60e-9934-4aab-befe-5c0009148abb"
   },
   "source": [
    "### Genetic Algorithm"
   ]
  },
  {
   "cell_type": "code",
   "execution_count": null,
   "id": "490eee88-adbf-4b73-806f-0e7cbfbaf8c2",
   "metadata": {
    "id": "30319ea3-8818-4e30-9eb7-ddc651c4a324",
    "outputId": "c81b9163-65e0-43ac-a675-63b85bc74f0d",
    "scrolled": true,
    "vscode": {
     "languageId": "r"
    }
   },
   "outputs": [],
   "source": [
    "# Install and load required packages\n",
    "if (!require(\"GA\")) install.packages(\"GA\")\n",
    "if (!require(\"dplyr\")) install.packages(\"dplyr\")\n",
    "if( !require(\"gramEvol\")) install.packages(\"gramEvol\")\n",
    "if( !require(\"stringr\")) install.packages(\"stringr\")\n",
    "if( !require(\"primes\")) install.packages(\"primes\")\n",
    "if( !require(\"parallel\")) install.packages(\"parallel\")\n",
    "\n",
    "library(parallel)\n",
    "library(GA)\n",
    "library(dplyr)\n",
    "require(\"gramEvol\")\n",
    "library(stringr)\n",
    "require(\"primes\")\n"
   ]
  },
  {
   "cell_type": "code",
   "execution_count": null,
   "id": "28fe7a6c-d029-4d04-bf8a-05688181ea92",
   "metadata": {
    "vscode": {
     "languageId": "r"
    }
   },
   "outputs": [],
   "source": [
    "PARAM$FE_GENALG$generations <- 100\n",
    "PARAM$FE_GENALG$population <- 50\n",
    "PARAM$FE_GENALG$new_variables <- 25\n",
    "PARAM$FE_GENALG$max_depth <- 5\n",
    "\n",
    "\n",
    "primos <- generate_primes(min = 100000, max = 1000000)\n",
    "set.seed(PARAM$semilla_primigenia, kind = \"L'Ecuyer-CMRG\")\n",
    "PARAM$FE_GENALG$semillas <- sample(primos)[seq(PARAM$FE_GENALG$generations)]\n"
   ]
  },
  {
   "cell_type": "code",
   "execution_count": null,
   "id": "3583f240-9816-4391-a0e0-967779a2d4d6",
   "metadata": {
    "id": "173bd02b-fd0b-4ebe-90c3-9278e14ab6be",
    "outputId": "9da2f5b1-3fda-4b46-ae85-0a13356cc1e9",
    "vscode": {
     "languageId": "r"
    }
   },
   "outputs": [],
   "source": [
    "is_bool_column <- function(columname) {\n",
    "    tryCatch({\n",
    "      if (class(max(dataset[[columname]])) %in% c('numeric', 'integer')){\n",
    "      maxx = max(dataset[[columname]])\n",
    "      minn = min(dataset[[columname]])\n",
    "      return ((maxx - minn) == 1)\n",
    "} else{\n",
    "          return (FALSE)\n",
    "  }\n",
    "}, error = function(e){\n",
    "        FALSE\n",
    "})}\n",
    "\n",
    "get_non_bool_cols <- function(dataset) {\n",
    "  all_cols <- names(dataset)\n",
    "  bool_cols <- sapply(all_cols, function(col) is_bool_column(dataset, col))\n",
    "  return(all_cols[!bool_cols])\n",
    "}\n",
    "\n",
    "campos_a_omitir = c('numero_de_cliente','foto_mes','azar','clase_ternaria')\n",
    "campos_monetarios <- colnames(dataset)\n",
    "campos_rf <- colnames(dataset)\n",
    "campos_lag <- colnames(dataset)\n",
    "campos_int <- colnames(dataset)\n",
    "\n",
    "actualizar_campos = function(){\n",
    "    campos_monetarios <- colnames(dataset)\n",
    "    campos_rf <- colnames(dataset)\n",
    "    campos_int <- colnames(dataset)\n",
    "    campos_lag <- colnames(dataset)\n",
    "    campos_monetarios  <<- campos_monetarios[campos_monetarios %like%\n",
    "      \"^(m|Visa_m|Master_m|vm_m)\"]\n",
    "    \n",
    "    campos_rf <<- campos_rf[campos_rf %like%\n",
    "      \"^rf\"]\n",
    "    campos_lag <<- campos_lag[campos_lag %like%\n",
    "      \"(lag|delta).$\"]\n",
    "    campos_lag <- campos_lag[!campos_lag %in% campos_monetarios]\n",
    "\n",
    "    campos_int <<- campos_int[!campos_int %in% c(campos_a_omitir, campos_monetarios, campos_lag, campos_rf)]\n",
    "    campos_int <<- campos_int[!sapply(campos_int,is_bool_column)]\n",
    "    campos_int <<- na.omit(campos_int)\n",
    "    }\n",
    "\n"
   ]
  },
  {
   "cell_type": "code",
   "execution_count": null,
   "id": "6ade68c5-b0f2-43b0-b022-6b7f4cca577e",
   "metadata": {},
   "outputs": [],
   "source": [
    "actualizar_campos()\n",
    "dataset[, suma_rf := rowSums(.SD, na.rm = TRUE), .SDcols = campos_rf]\n",
    "dataset$avg_rf <- dataset$suma_rf / length(campos_rf)\n"
   ]
  },
  {
   "cell_type": "code",
   "execution_count": null,
   "id": "e86f5d19-42a4-45cd-8ee1-299f1a322031",
   "metadata": {
    "id": "91061886-74c4-42c3-93b7-927100cbff49",
    "vscode": {
     "languageId": "r"
    }
   },
   "outputs": [],
   "source": [
    "safeEval <- function(expr) {\n",
    "  val <- try(eval(parse(text = expr), envir = dataset), silent = TRUE)\n",
    "  #if (inherits(val, \"try-error\") || any(is.nan(val)) || any(is.infinite(val))) {\n",
    "  #  return(rep(NA, nrow(df)))\n",
    "  #}\n",
    "  val\n",
    "}\n",
    "count_operators <- function(expr) {\n",
    "  text <- paste(deparse(expr), collapse = \" \")  # Combine multiple lines\n",
    "  str_count(text, \"\\\\+|-|/|\\\\*\")\n",
    "}\n",
    "\n",
    "clean_column_name_base <- function(expr_str) {\n",
    "  txt <- as.character(parse(text = expr_str))\n",
    "  txt <- gsub(\"dataset|\\\\[|\\\\]|\\\"\", \"\", txt)\n",
    "  txt <- gsub(\",\\\\s*\", \"\", txt)\n",
    "  trimws(txt)\n",
    "}\n"
   ]
  },
  {
   "cell_type": "code",
   "execution_count": null,
   "id": "56617b33-31ef-4588-b6a3-d7434ddf53e4",
   "metadata": {},
   "outputs": [],
   "source": [
    "fitness_function <- function(expr) {\n",
    "  feat <- safeEval(expr)\n",
    "  #  print(feat)\n",
    "  #if (!is.numeric(feat) || all(is.na(feat))) return(2)\n",
    "  \n",
    "  d <- data.frame(y = dataset$clase01, x = feat)\n",
    "  colnames(d) = c('y','x')\n",
    "  #d <- d[complete.cases(d), ]\n",
    "  if (length(unique(d$y)) < 2) return(3)\n",
    "  \n",
    "  dtrain <- lgb.Dataset(data.matrix(d[\"x\"]), label = d$y)\n",
    "  \n",
    "  idx <- sample(seq_len(nrow(d)), size = floor(0.2 * nrow(d)))\n",
    "    dvalid <- lgb.Dataset(data.matrix(d[idx, \"x\", drop=FALSE]),\n",
    "                          label = d$y[idx])\n",
    "    \n",
    "    valids <- list(valid = dvalid)\n",
    "    \n",
    "    model <- lgb.train(\n",
    "      params = list(\n",
    "        objective = \"binary\",\n",
    "        metric = \"auc\",\n",
    "        is_unbalance = TRUE,\n",
    "        verbosity = -1,\n",
    "      min_data_in_leaf = 5,\n",
    "      num_leaves = 15\n",
    "      ),\n",
    "      data = dtrain,\n",
    "      nrounds = 20,\n",
    "      valids = valids,\n",
    "      record = TRUE\n",
    "    )\n",
    "    \n",
    "    1- tail(unlist(model$record_evals$valid$auc$eval), 1)\n",
    "\n",
    "}\n"
   ]
  },
  {
   "cell_type": "code",
   "execution_count": null,
   "id": "e25d8241-c380-479a-a0a4-26b5f47e3ee9",
   "metadata": {
    "colab": {
     "base_uri": "https://localhost:8080/",
     "height": 393
    },
    "id": "faa52a34-9dc8-4bb8-b3a5-e968d4e2dd6a",
    "outputId": "e7c034c1-0573-48d4-e83d-a9f5d8e150af",
    "vscode": {
     "languageId": "r"
    }
   },
   "outputs": [],
   "source": [
    "# Grammar definition\n",
    "grammarDef <- CreateGrammar(list(\n",
    "  expr = gsrule(\n",
    "      \"dataset[,<m_var>]/dataset[,<m_var>]\",\n",
    "      \"dataset[,<m_var>]/dataset[,<i_var>]\",\n",
    "      \"dataset[,<m_var>]/dataset[,<l_var>]\",\n",
    "      \"dataset[,<m_var>]+dataset[,<m_var>]\",\n",
    "      \"dataset[,<m_var>]-dataset[,<m_var>]\",\n",
    "      \"dataset[,<m_var>]+dataset[,<l_var>]\",\n",
    "      \"dataset[,<m_var>]-dataset[,<l_var>]\",\n",
    "      \"dataset[,<l_var>]/dataset[,<m_var>]\",\n",
    "      \"dataset[,<l_var>]/dataset[,<i_var>]\",\n",
    "      \"dataset[,<l_var>]/dataset[,<l_var>]\",\n",
    "      \"dataset[,<l_var>]+dataset[,<l_var>]\",\n",
    "      \"dataset[,<l_var>]-dataset[,<l_var>]\",\n",
    "      \"dataset[,<i_var>]/dataset[,<i_var>]\",\n",
    "      \"dataset[,<i_var>]*dataset[,<i_var>]\",\n",
    "      \"dataset[,<rf_var>]+dataset[,<rf_var>]\",\n",
    "      \"log(dataset[,<i_var>])\"\n",
    "      ),\n",
    "  m_var  = gvrule(setdiff(campos_monetarios,c(\"clase_ternaria\",\"clase01\",\"foto_mes\",'azar'))),\n",
    "  i_var  = gvrule(setdiff(campos_int,c(\"clase_ternaria\",\"clase01\",\"foto_mes\",'azar'))),\n",
    "  l_var  = gvrule(setdiff(campos_monetarios,c(\"clase_ternaria\",\"clase01\",\"foto_mes\",'azar'))),\n",
    "  rf_var  = gvrule(setdiff(campos_rf,c(\"clase_ternaria\",\"clase01\",\"foto_mes\",'azar')))\n",
    "  )\n",
    ")\n",
    "\n"
   ]
  },
  {
   "cell_type": "code",
   "execution_count": null,
   "id": "63964cb2-eb18-4c72-938e-75ec5d57f956",
   "metadata": {
    "vscode": {
     "languageId": "r"
    }
   },
   "outputs": [],
   "source": [
    "agregarVariablesGeneticas <- function(){\n",
    "    dataset[, clase01 := ifelse( clase_ternaria %in% c(\"BAJA+1\",\"BAJA+2\"), 1, 0 )]\n",
    "    \n",
    "    for (var in 1:PARAM$FE_GENALG$new_variables){\n",
    "        \n",
    "        actualizar_campos()\n",
    "        ge_result <- GrammaticalEvolution(\n",
    "          grammarDef,\n",
    "          fitness_function,\n",
    "          terminationCost = 0.7,  \n",
    "          max.depth = PARAM$FE_GENALG$max_depth,         \n",
    "          iterations = PARAM$FE_GENALG$generations,      \n",
    "          popSize = PARAM$FE_GENALG$population,          \n",
    "        )\n",
    "        \n",
    "        # Best expression found\n",
    "        best_expr <- ge_result$best$expression\n",
    "        best_fitness <- ge_result$best$cost\n",
    "        print(best_fitness)\n",
    "        # Generate the new feature\n",
    "        new_feature <- eval(parse(text = best_expr))\n",
    "        coln = clean_column_name_base(parse(text=best_expr))\n",
    "        colnames(new_feature) = c(coln)\n",
    "        dataset <<- cbind(dataset,new_feature)\n",
    "}\n",
    "    dataset[, clase01 := NULL]\n",
    "    gc(verbose=FALSE)\n",
    "}\n"
   ]
  },
  {
   "cell_type": "code",
   "execution_count": null,
   "id": "101940c3-cf93-4259-ad0f-3710fbd5602e",
   "metadata": {
    "scrolled": true
   },
   "outputs": [],
   "source": [
    "agregarVariablesGeneticas()\n"
   ]
  },
  {
   "cell_type": "code",
   "execution_count": null,
   "id": "a1dc17d6-73ed-4f2d-bb73-039d3f1754da",
   "metadata": {
    "scrolled": true,
    "vscode": {
     "languageId": "r"
    }
   },
   "outputs": [],
   "source": [
    "colnames(dataset)"
   ]
  },
  {
   "cell_type": "code",
   "execution_count": null,
   "id": "927a6292-691e-47f0-839b-10d1aae911d5",
   "metadata": {
    "colab": {
     "base_uri": "https://localhost:8080/"
    },
    "id": "fc77eb97-1714-4d09-b779-40910f308deb",
    "outputId": "adfca225-e36e-4b50-c644-a199bf31af28",
    "vscode": {
     "languageId": "r"
    }
   },
   "outputs": [],
   "source": [
    "tb_importancia_gen <- CanaritosAsesinos(\n",
    "  canaritos_ratio = PARAM$CN$ratio,\n",
    "  canaritos_desvios = PARAM$CN$desvios,\n",
    "  canaritos_semilla = PARAM$semilla_primigenia\n",
    ")\n",
    "\n",
    "# grabo la importancia, ver el archivo directamente en la carpeta\n",
    "\n",
    "fwrite( tb_importancia_gen,\n",
    "  file=\"canaritos.txt\",\n",
    "  sep=\"\\t\"\n",
    ")\n",
    "\n",
    "tb_importancia_gen"
   ]
  },
  {
   "cell_type": "markdown",
   "id": "cf91ea5e-3341-4afb-8d05-cc4923d3d1e1",
   "metadata": {
    "id": "cf91ea5e-3341-4afb-8d05-cc4923d3d1e1"
   },
   "source": [
    "### 6.3.2 Modelado"
   ]
  },
  {
   "cell_type": "markdown",
   "id": "526048e4-8cf2-4023-bd2d-a70e4e9ff157",
   "metadata": {
    "id": "526048e4-8cf2-4023-bd2d-a70e4e9ff157"
   },
   "source": [
    "#### 6.3.2.1 Training Strategy\n",
    "\n",
    "Esta etapa de Workflow de  Training Strategy esta pensada para la *Modalidad Gerencial* que posee el dataset de [202005, 202109]\n",
    "<br> Si usted es un Analista, posee el periodo de [201901, 202109] y deberá experimentar en que meses le conviene experimentar\n",
    "\n",
    "<br> A la *Modalidad Gerencial* no se le complicada la vida con el undersampling de los continua, por eso PARAM$trainingstrategy$training_pct <- 1.0\n",
    "<br> Sin embargo, si usted es  *Analista SR* posee un dataset 50 veces ( filas x columnas) más grande que la *Modalidad Gerencial*  y por un tema de velocidad y experimentación más rápida puede llegar a necesitar activar el undersampling de la clase mayoritaria, a pesar de estar corriendo en Google Cloud."
   ]
  },
  {
   "cell_type": "markdown",
   "id": "f16bc1c1-b3ea-43ca-9d3c-53f8f9ab8ec1",
   "metadata": {
    "id": "f16bc1c1-b3ea-43ca-9d3c-53f8f9ab8ec1"
   },
   "source": [
    "Se hace una estrategia de entrenamiento muy sencilla, tomando todos los meses posibles, SIN eliminar nada x pandemia ni por ningun otro motivo\n",
    "\n",
    "* future = 202109  obviamente completo\n",
    "\n",
    "* final_train =  [ 202005, 202107 ]  SIN undersampling\n",
    "\n",
    "* training\n",
    "   * testing = NO HAY\n",
    "   * validation =  202107   completo, sin undersampling\n",
    "   * training = [ 202005, 202106 ]  donde se consideran el 100% de los CONTINUA"
   ]
  },
  {
   "cell_type": "code",
   "execution_count": null,
   "id": "2c9c0a42-ba58-4264-8566-091a6161716f",
   "metadata": {
    "id": "2c9c0a42-ba58-4264-8566-091a6161716f"
   },
   "outputs": [],
   "source": [
    "PARAM$trainingstrategy$validate <- c(202107)\n",
    "\n",
    "PARAM$trainingstrategy$training <- c(\n",
    "  202106, 202105, 202104, 202103, 202102, 202101,\n",
    "  202012, 202011, 202010, 202009, 202008, 202007,\n",
    "  202006, 202005\n",
    ")\n",
    "\n",
    "PARAM$trainingstrategy$training_pct <- 1.0\n",
    "\n",
    "\n",
    "PARAM$trainingstrategy$positivos <- c( \"BAJA+1\", \"BAJA+2\")"
   ]
  },
  {
   "cell_type": "code",
   "execution_count": null,
   "id": "tv_trHWAj4a8",
   "metadata": {
    "id": "tv_trHWAj4a8"
   },
   "outputs": [],
   "source": [
    "# seteo la clase01   1={BAJA+1, BAJA+2}   0={CONTINUA}\n",
    "dataset[, clase01 := ifelse( clase_ternaria %in% PARAM$trainingstrategy$positivos, 1, 0 )]"
   ]
  },
  {
   "cell_type": "code",
   "execution_count": null,
   "id": "Ud_XDKSIj8f_",
   "metadata": {
    "id": "Ud_XDKSIj8f_"
   },
   "outputs": [],
   "source": [
    "# los campos en los que se entrena\n",
    "campos_buenos <- copy( setdiff(\n",
    "    colnames(dataset), c(\"clase_ternaria\",\"clase01\",\"azar\"))\n",
    ")"
   ]
  },
  {
   "cell_type": "code",
   "execution_count": null,
   "id": "rFKgZZPSj_Pa",
   "metadata": {
    "id": "rFKgZZPSj_Pa"
   },
   "outputs": [],
   "source": [
    "# preparo para que se puede hacer undersampling de los CONTINUA\n",
    "#  solamente por un tema de VELOCIDAD\n",
    "set.seed(PARAM$semilla_primigenia, kind = \"L'Ecuyer-CMRG\")\n",
    "dataset[, azar:=runif(nrow(dataset))]\n",
    "\n",
    "# undersampling de los CONTINUA\n",
    "dataset[, fold_train :=  foto_mes %in%  PARAM$trainingstrategy$training &\n",
    "    (clase_ternaria %in% c(\"BAJA+1\", \"BAJA+2\") |\n",
    "     azar < PARAM$trainingstrategy$training_pct ) ]\n",
    "\n",
    "\n",
    "if( !require(\"lightgbm\")) install.packages(\"lightgbm\")\n",
    "require(\"lightgbm\")\n",
    "\n",
    "dtrain <- lgb.Dataset(\n",
    "  data= data.matrix(dataset[fold_train == TRUE, campos_buenos, with = FALSE]),\n",
    "  label= dataset[fold_train == TRUE, clase01],\n",
    "  free_raw_data= TRUE\n",
    ")"
   ]
  },
  {
   "cell_type": "code",
   "execution_count": null,
   "id": "B3yo98kQkHcP",
   "metadata": {
    "colab": {
     "base_uri": "https://localhost:8080/",
     "height": 34
    },
    "id": "B3yo98kQkHcP",
    "outputId": "d11f28a8-9cf9-4bc2-a790-7d0116b85a8d"
   },
   "outputs": [],
   "source": [
    "# datos de validation\n",
    "dvalidate <- lgb.Dataset(\n",
    "  data= data.matrix(dataset[foto_mes %in% PARAM$trainingstrategy$validate, campos_buenos, with = FALSE]),\n",
    "  label= dataset[foto_mes %in% PARAM$trainingstrategy$validate, clase01],\n",
    "  free_raw_data= TRUE\n",
    ")\n",
    "\n",
    "nrow(dvalidate)"
   ]
  },
  {
   "cell_type": "markdown",
   "id": "28e8f788-551c-4e50-9029-302ac0834287",
   "metadata": {
    "id": "28e8f788-551c-4e50-9029-302ac0834287"
   },
   "source": [
    "####  6.3.2.2. Hyperparameter Tuning"
   ]
  },
  {
   "cell_type": "markdown",
   "id": "bf5fc836-e222-4aeb-a6a8-157346895ef7",
   "metadata": {
    "id": "bf5fc836-e222-4aeb-a6a8-157346895ef7"
   },
   "source": [
    "* Clase binaria que se optimiza :  positivos = [ BAJA+1, BAJA+2 ]"
   ]
  },
  {
   "cell_type": "markdown",
   "id": "885c03b5-77bc-4510-a930-0d1f14b52ffb",
   "metadata": {
    "id": "885c03b5-77bc-4510-a930-0d1f14b52ffb"
   },
   "source": [
    "* Metrica que se optimiza **AUC** Area Under Curve de la  ROC Curve\n",
    "\n",
    "es muy importante notar que intencionalmente  **NO** se está optimizando la funcion de ganancia del problema"
   ]
  },
  {
   "cell_type": "markdown",
   "id": "b7e6f95c-66ef-4ab9-9ba3-fcc099816704",
   "metadata": {
    "id": "b7e6f95c-66ef-4ab9-9ba3-fcc099816704"
   },
   "source": [
    "* Cantidad de iteraciones inteligentes de la Optimizacion Bayesiana = **10**"
   ]
  },
  {
   "cell_type": "markdown",
   "id": "fe047a87-e2d0-4418-97dd-0a881e66d73a",
   "metadata": {
    "id": "fe047a87-e2d0-4418-97dd-0a881e66d73a"
   },
   "source": [
    "* Parametros no default, fijos de LightGBM que no se optimizan\n",
    "  * max_bin = 31 , Alienigenas Ancestrales contruyeron las pirámides y dejaron a la humanidad en un jeroglifico  *max_bin=31*\n",
    "  * feature_fraction = 0.5  para poner algo que generalmente no falla\n",
    "  * learning_rate = 0.03  para que aprenda lento\n"
   ]
  },
  {
   "cell_type": "markdown",
   "id": "1e7da08e-fe57-4681-beff-11fe963116bd",
   "metadata": {
    "id": "1e7da08e-fe57-4681-beff-11fe963116bd"
   },
   "source": [
    "* Parametros que se optimizan en la Bayesian Optimization\n",
    "  * num_leaves  [8, 256]\n",
    "  * min_data_in_leaf  [8, 8192]"
   ]
  },
  {
   "cell_type": "code",
   "execution_count": null,
   "id": "34V6y4GetKq_",
   "metadata": {
    "colab": {
     "base_uri": "https://localhost:8080/"
    },
    "id": "34V6y4GetKq_",
    "outputId": "e2f72fc7-f24b-4266-fc6d-c22f4cfc84cb"
   },
   "outputs": [],
   "source": [
    "# paquetes necesarios para la Bayesian Optimization\n",
    "if(!require(\"DiceKriging\")) install.packages(\"DiceKriging\")\n",
    "require(\"DiceKriging\")\n",
    "\n",
    "if(!require(\"mlrMBO\")) install.packages(\"mlrMBO\")\n",
    "require(\"mlrMBO\")"
   ]
  },
  {
   "cell_type": "markdown",
   "id": "UFbDSYtH0TTT",
   "metadata": {
    "id": "UFbDSYtH0TTT"
   },
   "source": [
    "Definición de la Bayesian Optimization\n",
    "<br> Si se desea optimizar un hiperparámetro que esta como fijo, debe QUITARSE de param_fijos y agregarse a PARAM$hipeparametertuning$hs"
   ]
  },
  {
   "cell_type": "code",
   "execution_count": null,
   "id": "5Uag3XGHqrfZ",
   "metadata": {
    "id": "5Uag3XGHqrfZ"
   },
   "outputs": [],
   "source": [
    "# parametros fijos del LightGBM\n",
    "# 40 es el minimo razonable,  un buen analista Sr aumentara este valor\n",
    "PARAM$hipeparametertuning$num_interations <- 40\n",
    "\n",
    "# parametros fijos del LightGBM\n",
    "PARAM$lgbm$param_fijos <- list(\n",
    "  objective= \"binary\",\n",
    "  metric= \"auc\",\n",
    "    boosting='gbdt',\n",
    "  first_metric_only= TRUE,\n",
    "  boost_from_average= TRUE,\n",
    "  feature_pre_filter= FALSE,\n",
    "  verbosity= -100,\n",
    "  force_row_wise= TRUE, # para evitar warning\n",
    "  seed= PARAM$semilla_primigenia,\n",
    "  extra_trees = FALSE,\n",
    "\n",
    "  max_depth = -1L, # -1 significa no limitar,  por ahora lo dejo fijo\n",
    "  min_gain_to_split = 0.0, # min_gain_to_split >= 0.0\n",
    "  min_sum_hessian_in_leaf = 0.001, #  min_sum_hessian_in_leaf >= 0.0\n",
    "  lambda_l1 = 0.0, # lambda_l1 >= 0.0\n",
    "  lambda_l2 = 0.0, # lambda_l2 >= 0.0\n",
    "\n",
    "  bagging_fraction = 1.0, # 0.0 < bagging_fraction <= 1.0\n",
    "  pos_bagging_fraction = 1.0, # 0.0 < pos_bagging_fraction <= 1.0\n",
    "  neg_bagging_fraction = 1.0, # 0.0 < neg_bagging_fraction <= 1.0\n",
    "  is_unbalance = FALSE, #\n",
    "  scale_pos_weight = 1.0, # scale_pos_weight > 0.0\n",
    "\n",
    "  drop_rate = 0.1, # 0.0 < neg_bagging_fraction <= 1.0\n",
    "  max_drop = 50, # <=0 means no limit\n",
    "  skip_drop = 0.5, # 0.0 <= skip_drop <= 1.0\n",
    "\n",
    "  max_bin= 31,\n",
    "  num_iterations= 2048,  # valor grande, lo limita early_stopping_rounds\n",
    "  early_stopping_rounds= 200\n",
    ")\n",
    "\n",
    "\n",
    "PARAM$hipeparametertuning$hs <- makeParamSet(\n",
    "  makeNumericParam(\"learning_rate\", lower = 0.02, upper = 0.3),\n",
    "  makeNumericParam(\"feature_fraction\", lower = 0.05, upper = 0.90),\n",
    "  makeNumericParam(\"lambda_l1\", lower = 0, upper = 100), \n",
    "  makeIntegerParam(\"num_iterations\", lower = 20L, upper = 200L), # \n",
    "  makeIntegerParam(\"min_data_in_leaf\", lower = 20L, upper = 200L), # \n",
    "  makeIntegerParam(\"num_leaves\", lower = 8L, upper = 32L), # \n",
    "  makeNumericParam(\"lambda_l2\", lower = 0, upper = 200) # \n",
    ")"
   ]
  },
  {
   "cell_type": "markdown",
   "id": "FEa1UuuAz4yj",
   "metadata": {
    "id": "FEa1UuuAz4yj"
   },
   "source": [
    "Función \"señora caja negra\"  que es llamada para verificar la realidad por la Bayesian Optimization"
   ]
  },
  {
   "cell_type": "code",
   "execution_count": null,
   "id": "2c10f535-8d90-47d1-ac3d-9b4c24ec21d2",
   "metadata": {
    "id": "2c10f535-8d90-47d1-ac3d-9b4c24ec21d2"
   },
   "outputs": [],
   "source": [
    "# En  x llegan los parmaetros de la bayesiana\n",
    "#  devuelve la AUC en validate del modelo entrenado\n",
    "#  en el parametro x llegan los hiperparámetros que se estan optimizando\n",
    "\n",
    "EstimarGanancia_AUC_lightgbm <- function(x) {\n",
    "\n",
    "  # x pisa (o agrega) a param_fijos\n",
    "  param_completo <- modifyList(PARAM$lgbm$param_fijos, x)\n",
    "\n",
    "  # entreno LightGBM\n",
    "  modelo_train <- lgb.train(\n",
    "    data= dtrain,\n",
    "    valids= list(valid = dvalidate),\n",
    "    eval= \"auc\",\n",
    "    param= param_completo,\n",
    "    verbose= -100\n",
    "  )\n",
    "\n",
    "  # recupero la AUC en validation\n",
    "  AUC <- modelo_train$record_evals$valid$auc$eval[[modelo_train$best_iter]]\n",
    "\n",
    "  # esta es la forma de devolver un parametro extra\n",
    "  attr(AUC, \"extras\") <- list(\"num_iterations\"= modelo_train$best_iter)\n",
    "\n",
    "  # hago espacio en la memoria\n",
    "  rm(modelo_train)\n",
    "  gc(full= TRUE, verbose= FALSE)\n",
    "\n",
    "  message(format(Sys.time(), \"%a %b %d %X %Y\"), \" AUC \", AUC)\n",
    "\n",
    "  return(AUC)\n",
    "}"
   ]
  },
  {
   "cell_type": "markdown",
   "id": "267a35d4-adaf-4271-a875-3864111333b7",
   "metadata": {
    "id": "267a35d4-adaf-4271-a875-3864111333b7"
   },
   "source": [
    "seteo de la Bayesian Optimization (complejo)\n",
    "<br> copiado y pegado de la documentación de la librería"
   ]
  },
  {
   "cell_type": "code",
   "execution_count": null,
   "id": "43c2a92d-1041-46b8-bff2-47297f209ed2",
   "metadata": {
    "id": "43c2a92d-1041-46b8-bff2-47297f209ed2"
   },
   "outputs": [],
   "source": [
    "configureMlr(show.learner.output = FALSE)\n",
    "\n",
    "# configuro la busqueda bayesiana,  los hiperparametros que se van a optimizar\n",
    "# por favor, no desesperarse por lo complejo\n",
    "obj.fun <- makeSingleObjectiveFunction(\n",
    "    fn= EstimarGanancia_AUC_lightgbm, # la funcion que voy a maximizar\n",
    "    minimize= FALSE, # estoy Maximizando AUC\n",
    "    noisy= FALSE,\n",
    "    par.set= PARAM$hipeparametertuning$hs,\n",
    "    has.simple.signature= FALSE # paso los parametros en una lista\n",
    ")\n",
    "\n",
    "# cada 600 segundos guardo el resultado intermedio\n",
    "ctrl <- makeMBOControl(\n",
    "    save.on.disk.at.time= 600,\n",
    "    save.file.path= \"HT.RDATA\"\n",
    ")\n",
    "\n",
    "# indico la cantidad de iteraciones que va a tener la Bayesian Optimization\n",
    "ctrl <- setMBOControlTermination(\n",
    "    ctrl,\n",
    "    iters= PARAM$hipeparametertuning$num_interations  # cantidad de iteraciones inteligentes\n",
    ")\n",
    "\n",
    "# defino el método estandar para la creacion de los puntos iniciales\n",
    "#   los \"No Inteligentes\"\n",
    "ctrl <- setMBOControlInfill(ctrl, crit = makeMBOInfillCritEI())\n",
    "\n",
    "# mas configuraciones\n",
    "surr.km <- makeLearner(\n",
    "    \"regr.km\",\n",
    "    predict.type= \"se\",\n",
    "    covtype= \"matern3_2\",\n",
    "    control= list(trace = TRUE)\n",
    ")"
   ]
  },
  {
   "cell_type": "markdown",
   "id": "6c1e5645-d26f-4923-a53f-f30471a4c4e8",
   "metadata": {
    "id": "6c1e5645-d26f-4923-a53f-f30471a4c4e8"
   },
   "source": [
    "Corrida de la Bayesian Optimization,  aqui se hace el trabajo pesado\n",
    "<br> por favor no se asuste con los warnings que pudieran aparecer\n",
    "\n",
    "Si corrío a medias y llegó a las iteraciones inteligentes, en el archivo binario HT.RDATA quedó lo ya procesado y es utilizado para retomar la corrida desde lo último que llegó a grabar."
   ]
  },
  {
   "cell_type": "code",
   "execution_count": null,
   "id": "1f8cab3f-c7e2-4802-bfd1-5ad509922a4e",
   "metadata": {
    "colab": {
     "base_uri": "https://localhost:8080/"
    },
    "id": "1f8cab3f-c7e2-4802-bfd1-5ad509922a4e",
    "outputId": "20408e8d-8752-4c94-c9a7-5157538a6e2c",
    "scrolled": true
   },
   "outputs": [],
   "source": [
    "# inicio la optimizacion bayesiana\n",
    "\n",
    "if (!file.exists(\"HT.RDATA\")) {\n",
    "  bayesiana_salida <- mbo(obj.fun, learner= surr.km, control= ctrl)\n",
    "} else {\n",
    "  bayesiana_salida <- mboContinue(\"HT.RDATA\") # retomo en caso que ya exista\n",
    "}"
   ]
  },
  {
   "cell_type": "markdown",
   "id": "36307612-964f-4df3-907a-1bc3c095f178",
   "metadata": {
    "id": "36307612-964f-4df3-907a-1bc3c095f178"
   },
   "source": [
    "la bayesian optimization ha corrido, extraigo los mejores hiperparametros"
   ]
  },
  {
   "cell_type": "code",
   "execution_count": null,
   "id": "8c061a2a-3341-4006-a154-c95bb6cfd407",
   "metadata": {
    "colab": {
     "base_uri": "https://localhost:8080/"
    },
    "id": "8c061a2a-3341-4006-a154-c95bb6cfd407",
    "outputId": "4b189740-4449-4e15-cf6e-e8a39c18138a"
   },
   "outputs": [],
   "source": [
    "# almaceno los resultados de la Bayesian Optimization\n",
    "# y capturo los mejores hiperparametros encontrados\n",
    "\n",
    "tb_bayesiana <- as.data.table(bayesiana_salida$opt.path)\n",
    "\n",
    "# ordeno en forma descendente por AUC = y\n",
    "setorder(tb_bayesiana, -y, -num_iterations)\n",
    "\n",
    "# grabo para eventualmente poder utilizarlos en OTRA corrida\n",
    "fwrite( tb_bayesiana,\n",
    "  file=\"BO_log.txt\",\n",
    "  sep=\"\\t\"\n",
    ")\n",
    "\n",
    "# los mejores hiperparámetros son los que quedaron en el registro 1 de la tabla\n",
    "PARAM$out$lgbm$mejores_hiperparametros <- tb_bayesiana[\n",
    "  1, # el primero es el de mejor AUC\n",
    "  list(num_leaves, min_data_in_leaf, num_iterations, learning_rate, feature_fraction, lambda_l1, lambda_l2)\n",
    "]\n",
    "\n",
    "print(PARAM$out$lgbm$mejores_hiperparametros)"
   ]
  },
  {
   "cell_type": "markdown",
   "id": "ddb554cb-1d96-4f6b-ae1c-c9a076f8dbdc",
   "metadata": {
    "id": "ddb554cb-1d96-4f6b-ae1c-c9a076f8dbdc"
   },
   "source": [
    "### 6.3.3 Produccion"
   ]
  },
  {
   "cell_type": "markdown",
   "id": "c39492c3-756f-47a5-8747-93ade8275306",
   "metadata": {
    "id": "c39492c3-756f-47a5-8747-93ade8275306"
   },
   "source": [
    "#### Final Training\n",
    "Construyo el modelo final, que es uno solo, no hace ningun tipo de particion < training, validation, testing>]"
   ]
  },
  {
   "cell_type": "markdown",
   "id": "xhKi_G_sYQqq",
   "metadata": {
    "id": "xhKi_G_sYQqq"
   },
   "source": [
    "##### Final Training Dataset\n",
    "\n",
    "Aqui esta la gran decision de en qué meses hago el Final Training\n",
    "<br> debo utilizar los mejores hiperparámetros que encontré en la optimización bayesiana"
   ]
  },
  {
   "cell_type": "code",
   "execution_count": null,
   "id": "qyHfS_X0zd7o",
   "metadata": {
    "colab": {
     "base_uri": "https://localhost:8080/",
     "height": 34
    },
    "id": "qyHfS_X0zd7o",
    "outputId": "7f217315-dad2-408a-aa63-9db1c9e762fb"
   },
   "outputs": [],
   "source": [
    "PARAM$trainingstrategy$final_train <- c( 202107,\n",
    "  202106, 202105, 202104, 202103, 202102, 202101,\n",
    "  202012, 202011, 202010, 202009, 202008, 202007,\n",
    "  202006, 202005\n",
    ")\n",
    "\n",
    "dataset[, fold_final_train := foto_mes %in% PARAM$trainingstrategy$final_train ]\n",
    "\n",
    "# creo el dfinal_train en formato  LightGBM\n",
    "dfinal_train <- lgb.Dataset(\n",
    "  data= data.matrix(dataset[fold_final_train == TRUE, campos_buenos, with= FALSE]),\n",
    "  label= dataset[fold_final_train == TRUE, clase01],\n",
    "  free_raw_data= TRUE\n",
    ")\n",
    "\n",
    "nrow( dfinal_train) # verifico el tamaño"
   ]
  },
  {
   "cell_type": "markdown",
   "id": "HATRyklxYUpT",
   "metadata": {
    "id": "HATRyklxYUpT"
   },
   "source": [
    "##### Final Training Hyperparameters"
   ]
  },
  {
   "cell_type": "code",
   "execution_count": null,
   "id": "d6b9f33c-e0a0-4ea6-8169-4a6180cc5d01",
   "metadata": {
    "id": "d6b9f33c-e0a0-4ea6-8169-4a6180cc5d01"
   },
   "outputs": [],
   "source": [
    "# uno los parametros fijos y los mejores encontrados de los variables\n",
    "fijos <- copy(PARAM$lgbm$param_fijos)\n",
    "\n",
    "# quito lo que optimice en la Bayesian Optimization\n",
    "fijos$num_iterations <- NULL\n",
    "fijos$early_stopping_rounds <- NULL\n",
    "\n",
    "# agrego a los hiperparametros fijos los que encontre con la Bayesian Optimization\n",
    "param_final <- c(fijos, PARAM$out$lgbm$mejores_hiperparametros)"
   ]
  },
  {
   "cell_type": "markdown",
   "id": "05d3494f-0401-4f3e-9b69-f488a737879d",
   "metadata": {
    "id": "05d3494f-0401-4f3e-9b69-f488a737879d"
   },
   "source": [
    "##### Training\n",
    "Genero el modelo final, siempre sobre TODOS los datos de  final_train, sin hacer ningun tipo de undersampling de la clase mayoritaria"
   ]
  },
  {
   "cell_type": "code",
   "execution_count": null,
   "id": "fa239848-1c28-4ee5-984a-073903b4b279",
   "metadata": {
    "id": "fa239848-1c28-4ee5-984a-073903b4b279"
   },
   "outputs": [],
   "source": [
    "final_model <- lgb.train(\n",
    "  data= dfinal_train,\n",
    "  param= param_final,\n",
    "  verbose= -100\n",
    ")"
   ]
  },
  {
   "cell_type": "code",
   "execution_count": null,
   "id": "RC1ju-5MZN5s",
   "metadata": {
    "id": "RC1ju-5MZN5s"
   },
   "outputs": [],
   "source": [
    "# grabo a disco el modelo en un formato para seres humanos ... ponele ...\n",
    "\n",
    "lgb.save(final_model, \"modelo.txt\")"
   ]
  },
  {
   "cell_type": "code",
   "execution_count": null,
   "id": "VEpv4RYOZHTU",
   "metadata": {
    "id": "VEpv4RYOZHTU"
   },
   "outputs": [],
   "source": [
    "# ahora imprimo la importancia de variables\n",
    "\n",
    "tb_importancia <- as.data.table(lgb.importance(final_model))\n",
    "archivo_importancia <- \"impo.txt\"\n",
    "\n",
    "fwrite( tb_importancia,\n",
    "  file= archivo_importancia,\n",
    "  sep= \"\\t\"\n",
    ")"
   ]
  },
  {
   "cell_type": "markdown",
   "id": "7ea225b3-ce02-42e2-8330-b10ed250d172",
   "metadata": {
    "id": "7ea225b3-ce02-42e2-8330-b10ed250d172"
   },
   "source": [
    "#### Scoring"
   ]
  },
  {
   "cell_type": "code",
   "execution_count": null,
   "id": "ef18d986-a437-46a2-b42f-75f3bf4110c9",
   "metadata": {
    "id": "HhvnAhuxdXWq"
   },
   "outputs": [],
   "source": [
    "PARAM$FT$semillerio <- 20  # cantidad de semillas"
   ]
  },
  {
   "cell_type": "code",
   "execution_count": null,
   "id": "6a45fe03-264d-42fe-8fce-8d4ef074837c",
   "metadata": {
    "id": "tcYH_MiJdeEs"
   },
   "outputs": [],
   "source": [
    "if(!require(\"primes\")) install.packages(\"primes\")\n",
    "require(\"primes\")"
   ]
  },
  {
   "cell_type": "code",
   "execution_count": null,
   "id": "83c8dea8-3611-476a-8a6c-9303c61da8a8",
   "metadata": {
    "id": "weEzmJf5fiog"
   },
   "outputs": [],
   "source": [
    "primos <- generate_primes(min = 100000, max = 1000000)\n",
    "set.seed(PARAM$semilla_primigenia, kind = \"L'Ecuyer-CMRG\")\n",
    "# me quedo con PARAM$semillerio  primos al azar\n",
    "PARAM$FT$semillas <- sample(primos)[seq(PARAM$FT$semillerio)]\n",
    "\n",
    "cat( PARAM$FT$semillas)"
   ]
  },
  {
   "cell_type": "code",
   "execution_count": null,
   "id": "4a2cb6e1-39bb-455b-8853-c96ed38c7578",
   "metadata": {
    "id": "fa239848-1c28-4ee5-984a-073903b4b279"
   },
   "outputs": [],
   "source": [
    "dir.create(\"modelos\", showWarnings =FALSE)\n",
    "\n",
    "primero <- TRUE\n",
    "for( sem in PARAM$FT$semillas)\n",
    "{\n",
    "  nombre_arch <- paste0( \"./modelos/modelo_\", sem, \".txt\")\n",
    "  if( !file.exists(nombre_arch) )\n",
    "  {\n",
    "    param_final$seed <- sem\n",
    "\n",
    "    set.seed(sem, kind = \"L'Ecuyer-CMRG\")\n",
    "    final_model <- lgb.train(\n",
    "      data= dfinal_train,\n",
    "      param= param_final,\n",
    "      verbose= -100\n",
    "    )\n",
    "\n",
    "    lgb.save(final_model, nombre_arch) # grabo el modelo\"\n",
    "\n",
    "    # grabo la primer importancia de variables\n",
    "    #  Natalia : da lo mismo cual se guarda\n",
    "    if( primero)\n",
    "    {\n",
    "      primero <- FALSE\n",
    "      tb_importancia <- as.data.table(lgb.importance(final_model))\n",
    "      archivo_importancia <- \"impo.txt\"\n",
    "\n",
    "      fwrite( tb_importancia,\n",
    "        file= archivo_importancia,\n",
    "        sep= \"\\t\"\n",
    "      )\n",
    "    }\n",
    " }\n",
    "}"
   ]
  },
  {
   "cell_type": "markdown",
   "id": "71c9214c-4f91-4ed4-91de-1572e41246de",
   "metadata": {
    "id": "164981bb-f4c1-4228-8bc9-32e58a383c05"
   },
   "source": [
    "Aplico el modelo final a los datos del futuro"
   ]
  },
  {
   "cell_type": "code",
   "execution_count": null,
   "id": "594f2158-c3e8-4b4c-9e26-1a2d90232684",
   "metadata": {
    "id": "eJ7RbT271v-R"
   },
   "outputs": [],
   "source": [
    "PARAM$trainingstrategy$future <- c(202109)\n",
    "\n",
    "dfuture <- dataset[ foto_mes %in% PARAM$trainingstrategy$future ]"
   ]
  },
  {
   "cell_type": "code",
   "execution_count": null,
   "id": "39bb74fc-ea84-4218-8061-9f2a9a2f3f10",
   "metadata": {
    "id": "88ca61c8-fa24-4ce5-8be1-323aca018e8f"
   },
   "outputs": [],
   "source": [
    "# aplico final_model   a dfuture\n",
    "\n",
    "tb_prediccion <- dfuture[, list(numero_de_cliente)]\n",
    "tb_prediccion[, prob := 0]\n",
    "\n",
    "datos_matrix <- data.matrix(dfuture[, campos_buenos, with= FALSE])\n",
    "\n",
    "\n",
    "for( isem in seq(length(PARAM$FT$semillas)) )\n",
    "{\n",
    "   sem <- PARAM$FT$semillas[ isem ]\n",
    "   nombre_arch <- paste0( \"./modelos/modelo_\", sem, \".txt\")\n",
    "   final_model <- lgb.load(nombre_arch)\n",
    "\n",
    "   prediccion <- predict(\n",
    "     final_model,\n",
    "     datos_matrix\n",
    "  )\n",
    "\n",
    "  tb_prediccion[, paste0(\"prob_\", isem) := prediccion]\n",
    "  tb_prediccion[, prob := prob + prediccion]\n",
    "\n",
    "  rm(final_model)\n",
    "  rm(prediccion)\n",
    "  gc(full = TRUE, verbose=FALSE)\n",
    "}\n",
    "\n",
    "rm( datos_matrix)\n",
    "gc(full = TRUE, verbose=FALSE)\n",
    "\n",
    "tb_prediccion[, prob := prob /length(PARAM$FT$semillas) ]"
   ]
  },
  {
   "cell_type": "code",
   "execution_count": null,
   "id": "f6dde9d6-bdd1-4e41-9bed-93a027504832",
   "metadata": {
    "id": "Q10qYVKNqqte"
   },
   "outputs": [],
   "source": [
    "# veo que hay en tb_prediccion\n",
    "tb_prediccion"
   ]
  },
  {
   "cell_type": "code",
   "execution_count": null,
   "id": "77af45c6-6a4e-4fdb-b701-194408e17cdf",
   "metadata": {
    "id": "TB6aerGDZeTo"
   },
   "outputs": [],
   "source": [
    "# grabo las probabilidad del modelo\n",
    "#  me va a ser util para hacer Ensembles de modelos\n",
    "fwrite(tb_prediccion,\n",
    "  file= \"prediccion.txt\",\n",
    "  sep= \"\\t\"\n",
    ")"
   ]
  },
  {
   "cell_type": "markdown",
   "id": "832acf32-877b-4110-87ba-cdc8646dd9c5",
   "metadata": {
    "id": "8412d838-5bd5-454e-b3a9-5eaa18d80a50"
   },
   "source": [
    "#### Kaggle Competition Submit"
   ]
  },
  {
   "cell_type": "markdown",
   "id": "1c168fb9-8d64-4be9-b170-c23de954ea41",
   "metadata": {
    "id": "55970cb6-856a-46e3-a893-7f36b8352b8e"
   },
   "source": [
    "Genero las salidas y hago los submits a Kaggles"
   ]
  },
  {
   "cell_type": "code",
   "execution_count": null,
   "id": "8b527070-a4aa-40c9-a0f6-980a03d91461",
   "metadata": {
    "id": "e5fa2439-b0e9-49e0-a861-71d7315d6e1c"
   },
   "outputs": [],
   "source": [
    "# genero archivos con los  \"envios\" mejores\n",
    "# suba TODOS los archivos a Kaggle\n",
    "\n",
    "PARAM$kaggle$competencia <- \"data-mining-analista-sr-2025-a\"\n",
    "PARAM$kaggle$cortes <- seq(10000, 12000, by = 500)\n",
    "\n",
    "# ordeno por probabilidad descendente\n",
    "setorder(tb_prediccion, -prob)\n",
    "\n",
    "dir.create(\"kaggle\")\n",
    "\n",
    "for (envios in PARAM$kaggle$cortes) {\n",
    "\n",
    "  tb_prediccion[, Predicted := 0L] # seteo inicial a 0\n",
    "  tb_prediccion[1:envios, Predicted := 1L] # marclo los primeros\n",
    "\n",
    "  archivo_kaggle <- paste0(\n",
    "    \"./kaggle/KA\",\n",
    "    PARAM$experimento, \"_\",\n",
    "    \"s\", length(PARAM$FT$semillas), \"_\",\n",
    "    envios, \".csv\")\n",
    "\n",
    "  # grabo el archivo\n",
    "  fwrite(tb_prediccion[, list(numero_de_cliente, Predicted)],\n",
    "    file= archivo_kaggle,\n",
    "    sep= \",\"\n",
    "  )\n",
    "\n",
    "  # subida a Kaggle, armo la linea de comando\n",
    "  comando <- \"kaggle competitions submit\"\n",
    "  competencia <- paste(\"-c\", PARAM$kaggle$competencia)\n",
    "  arch <- paste( \"-f\", archivo_kaggle)\n",
    "\n",
    "  mensaje <- paste0(\"-m 'envios=\", envios,\n",
    "  \"  semilla=\", PARAM$semilla_primigenia,\n",
    "    \"'\" )\n",
    "\n",
    "  linea <- paste( comando, competencia, arch, mensaje)\n",
    "\n",
    "  salida <- system(linea, intern=TRUE) # el submit a Kaggle\n",
    "  cat(salida, \"\\n\")\n",
    "}"
   ]
  },
  {
   "cell_type": "code",
   "execution_count": null,
   "id": "3c38db7a-f76c-4f91-8c88-fa5d8e7182e8",
   "metadata": {
    "id": "C94tK-xid6p2"
   },
   "outputs": [],
   "source": [
    "# grabo los parametros\n",
    "if( !require(\"yaml\")) install.packages(\"yaml\")\n",
    "require(\"yaml\")\n",
    "\n",
    "write_yaml( PARAM, file=\"PARAM.yml\")"
   ]
  },
  {
   "cell_type": "code",
   "execution_count": null,
   "id": "102d7891-f84e-4f5b-a1d3-1d835927a124",
   "metadata": {
    "id": "1b615a62-20cc-4e95-9af2-6b6db38d5efb"
   },
   "outputs": [],
   "source": [
    "format(Sys.time(), \"%a %b %d %X %Y\")"
   ]
  },
  {
   "cell_type": "code",
   "execution_count": null,
   "id": "62a449ed-4a0e-427a-8076-093c470c0311",
   "metadata": {},
   "outputs": [],
   "source": []
  },
  {
   "cell_type": "code",
   "execution_count": null,
   "id": "5da24462-be68-40e6-aa4a-44ec39248f14",
   "metadata": {},
   "outputs": [],
   "source": []
  },
  {
   "cell_type": "code",
   "execution_count": null,
   "id": "74bff347-f440-4e97-a039-ed79a67271d0",
   "metadata": {},
   "outputs": [],
   "source": []
  },
  {
   "cell_type": "code",
   "execution_count": null,
   "id": "9473c842-9970-48ef-b3c0-bd6a6fe624ed",
   "metadata": {},
   "outputs": [],
   "source": []
  },
  {
   "cell_type": "code",
   "execution_count": null,
   "id": "6f1ec778-9fa7-4047-a438-23abe0396a57",
   "metadata": {},
   "outputs": [],
   "source": []
  },
  {
   "cell_type": "code",
   "execution_count": null,
   "id": "1790e93c-e565-4448-9079-4e50450f7c3e",
   "metadata": {},
   "outputs": [],
   "source": []
  },
  {
   "cell_type": "code",
   "execution_count": null,
   "id": "e6fa0a39-dbdb-4b09-904c-f4415947d7cd",
   "metadata": {},
   "outputs": [],
   "source": []
  },
  {
   "cell_type": "code",
   "execution_count": null,
   "id": "02fc7e9e-4387-4ee7-a6d0-2d66047d5f06",
   "metadata": {},
   "outputs": [],
   "source": []
  },
  {
   "cell_type": "code",
   "execution_count": null,
   "id": "5f3f6b2e-c1c9-49ae-a305-5b820db7061f",
   "metadata": {},
   "outputs": [],
   "source": []
  },
  {
   "cell_type": "code",
   "execution_count": null,
   "id": "610f31ef-cad0-4df1-8f47-cbe5f1812b79",
   "metadata": {},
   "outputs": [],
   "source": []
  },
  {
   "cell_type": "code",
   "execution_count": null,
   "id": "047faa5d-aaa9-47e3-b9c4-5daf681ad6b0",
   "metadata": {},
   "outputs": [],
   "source": []
  }
 ],
 "metadata": {
  "colab": {
   "provenance": []
  },
  "kernelspec": {
   "display_name": "R",
   "language": "R",
   "name": "ir"
  },
  "language_info": {
   "codemirror_mode": "r",
   "file_extension": ".r",
   "mimetype": "text/x-r-source",
   "name": "R",
   "pygments_lexer": "r",
   "version": "4.5.1"
  }
 },
 "nbformat": 4,
 "nbformat_minor": 5
}
