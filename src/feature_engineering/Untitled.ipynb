{
 "cells": [
  {
   "cell_type": "code",
   "execution_count": null,
   "id": "2a6651a3-ba05-4b29-b48a-8ef86adddd55",
   "metadata": {},
   "outputs": [],
   "source": []
  },
  {
   "cell_type": "code",
   "execution_count": 4,
   "id": "a5557972-4c70-4b90-8ed6-a5b14090a903",
   "metadata": {
    "id": "-ijX69r9hT6Z"
   },
   "outputs": [
    {
     "data": {
      "text/plain": [
       "\n",
       "\tWilcoxon signed rank exact test\n",
       "\n",
       "data:  c(5944, 6765, 6595) and c(6355, 5774, 6715)\n",
       "V = 3, p-value = 1\n",
       "alternative hypothesis: true location shift is not equal to 0\n"
      ]
     },
     "metadata": {},
     "output_type": "display_data"
    }
   ],
   "source": [
    "# 4 ganancias\n",
    "wilcox.test(\n",
    "  c(5944,6765,6595),\t\n",
    "  c(6355,5774,6715\n",
    "    #6715,\n",
    "    #6595\n",
    "   ),\n",
    "  paired = TRUE\n",
    ")\n"
   ]
  },
  {
   "cell_type": "code",
   "execution_count": null,
   "id": "081729b2-ce32-49a2-bb2b-7e3aaed1f69a",
   "metadata": {},
   "outputs": [],
   "source": []
  }
 ],
 "metadata": {
  "kernelspec": {
   "display_name": "R",
   "language": "R",
   "name": "ir"
  },
  "language_info": {
   "codemirror_mode": "r",
   "file_extension": ".r",
   "mimetype": "text/x-r-source",
   "name": "R",
   "pygments_lexer": "r",
   "version": "4.5.1"
  }
 },
 "nbformat": 4,
 "nbformat_minor": 5
}
